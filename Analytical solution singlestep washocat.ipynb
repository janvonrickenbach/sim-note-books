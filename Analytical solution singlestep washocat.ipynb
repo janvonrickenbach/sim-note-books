{
 "metadata": {
  "name": "",
  "signature": "sha256:8a51997ddbf4672e121cb944a84a02e6ee4c37eb99f66eb477226d0cb54d44f1"
 },
 "nbformat": 3,
 "nbformat_minor": 0,
 "worksheets": [
  {
   "cells": [
    {
     "cell_type": "code",
     "collapsed": false,
     "input": [
      "import sympy as sy\n",
      "import matplotlib.pyplot as pl\n",
      "import numpy as np\n",
      "import cantera as ca\n",
      "import os\n",
      "import job_configurations as jc\n",
      "import simulation_brutus as sim_brutus\n",
      "import glob as gl\n",
      "\n",
      "%matplotlib inline\n",
      "sy.init_printing()\n",
      "%load_ext sympyprinting\n"
     ],
     "language": "python",
     "metadata": {},
     "outputs": [
      {
       "output_type": "stream",
       "stream": "stdout",
       "text": [
        "paraview version 3.98.1-79-g52cc6ea\n"
       ]
      }
     ],
     "prompt_number": 1
    },
    {
     "cell_type": "code",
     "collapsed": false,
     "input": [
      "%%javascript\n",
      "IPython.load_extensions('toc');"
     ],
     "language": "python",
     "metadata": {},
     "outputs": [
      {
       "javascript": [
        "IPython.load_extensions('toc');"
       ],
       "metadata": {},
       "output_type": "display_data",
       "text": [
        "<IPython.core.display.Javascript object at 0x2d0c190>"
       ]
      }
     ],
     "prompt_number": 2
    },
    {
     "cell_type": "code",
     "collapsed": false,
     "input": [
      "D, D_b, h, rho, rho_b, wc_thickness, Y_b, L, Sh, A_V, surf_cov, Y_s, M_i,Y, x,RR,C1,C2,k_r,y= sy.symbols(\"D D_b h rho rho_b  wc_thickness Y_b L Sh A_V, surf_cov Y_s M_i Y x RR C1 C2,k_r,y\",positive=True )\n"
     ],
     "language": "python",
     "metadata": {},
     "outputs": [],
     "prompt_number": 3
    },
    {
     "cell_type": "code",
     "collapsed": false,
     "input": [
      "cond,T,Delta_H,T_s,T_b,y_temp,eps, tort, lambda_b = sy.symbols(\"cond T Delta_H T_s T_b y_temp epsilon tort lambda_b\",positive=True)"
     ],
     "language": "python",
     "metadata": {},
     "outputs": [],
     "prompt_number": 4
    },
    {
     "cell_type": "code",
     "collapsed": false,
     "input": [
      "C1,C2 = sy.symbols(\"C1 C2\")"
     ],
     "language": "python",
     "metadata": {},
     "outputs": [],
     "prompt_number": 5
    },
    {
     "cell_type": "code",
     "collapsed": false,
     "input": [
      "Y = sy.Function(\"Y\")(x)\n",
      "T = sy.Function(\"T\")(x)\n",
      "Y_b = sy.Function(\"Y_b\")(y)\n",
      "T_b = sy.Function(\"T_b\")(y)"
     ],
     "language": "python",
     "metadata": {},
     "outputs": [],
     "prompt_number": 6
    },
    {
     "cell_type": "code",
     "collapsed": false,
     "input": [
      "diffeq = sy.Eq(rho*D*sy.diff(sy.diff(Y,x),x)-M_i*RR*A_V,0)"
     ],
     "language": "python",
     "metadata": {},
     "outputs": [],
     "prompt_number": 7
    },
    {
     "cell_type": "code",
     "collapsed": false,
     "input": [
      "diffeq=diffeq.subs({RR:k_r*(rho*Y/M_i)*(rho*0.1/0.028)**2})"
     ],
     "language": "python",
     "metadata": {},
     "outputs": [],
     "prompt_number": 8
    },
    {
     "cell_type": "code",
     "collapsed": false,
     "input": [
      "sol=sy.dsolve(diffeq,Y)"
     ],
     "language": "python",
     "metadata": {},
     "outputs": [],
     "prompt_number": 9
    },
    {
     "cell_type": "code",
     "collapsed": false,
     "input": [
      "#homogeneous neumann\n",
      "neum_bc= sy.Eq(sy.diff(sol.rhs,x).subs({x:wc_thickness}),0)\n",
      "\n",
      "dir_bc = sy.Eq(sol.rhs.subs({x:0}),Y_s)\n",
      "\n",
      "bc_sol = sy.solve((dir_bc,neum_bc),C1,C2)"
     ],
     "language": "python",
     "metadata": {},
     "outputs": [],
     "prompt_number": 10
    },
    {
     "cell_type": "code",
     "collapsed": false,
     "input": [
      "part_sol = sol.subs(bc_sol)"
     ],
     "language": "python",
     "metadata": {},
     "outputs": [],
     "prompt_number": 11
    },
    {
     "cell_type": "code",
     "collapsed": false,
     "input": [
      "ext_flux = sy.Eq(Sh * rho_b*D_b/L * (Y_b - Y_s),-rho * D* sy.diff(part_sol.rhs,x).subs({x:0}))"
     ],
     "language": "python",
     "metadata": {},
     "outputs": [],
     "prompt_number": 12
    },
    {
     "cell_type": "code",
     "collapsed": false,
     "input": [
      "y_s_sol=sy.solve(ext_flux,Y_s)"
     ],
     "language": "python",
     "metadata": {},
     "outputs": [],
     "prompt_number": 13
    },
    {
     "cell_type": "code",
     "collapsed": false,
     "input": [
      "part_sol = part_sol.subs({Y_s:y_s_sol[0]})"
     ],
     "language": "python",
     "metadata": {},
     "outputs": [],
     "prompt_number": 14
    },
    {
     "cell_type": "code",
     "collapsed": true,
     "input": [
      "cantera_file = \"/home/vonrickenbach/contrib_git/cantera_tests/washcoat_model/cantera_input.cti\"\n",
      "gas = ca.import_phases(cantera_file,[\"gas\"])[0]\n",
      "interface = ca.Interface(cantera_file,\"pt_surf\",[gas])\n",
      "interface.TPX = (1000,1E5,[1])\n",
      "massfrac = np.array([0.0001,0.0,0.1,0.8999])\n",
      "\n",
      "porosity = 0.3\n",
      "\n",
      "gas.TPY = (1000,1E5,massfrac)\n",
      "wc_thick = 1E-4\n",
      "val_dict = {}\n",
      "\n",
      "cont_diff = gas.mix_diff_coeffs[0]*porosity/2\n",
      "knuds_diff = 1E-7/3.0*np.sqrt(8*ca.gas_constant /(np.pi*0.032))*porosity/2\n",
      "val_dict[D] = 1./(1./knuds_diff+1./cont_diff)\n",
      "val_dict[D_b] = gas.mix_diff_coeffs[0]\n",
      "val_dict[rho] = gas.density\n",
      "val_dict[rho_b] = gas.density\n",
      "val_dict[A_V] = 5.0/wc_thick\n",
      "val_dict[wc_thickness] = wc_thick\n",
      "val_dict[Sh] = 400.0\n",
      "#val_dict[Y_b] = 0.0001\n",
      "val_dict[L] = 100*wc_thick\n",
      "val_dict[k_r] = 1\n",
      "val_dict[M_i] = 0.032\n",
      "val_dict[Delta_H] = interface.delta_enthalpy[0]/1000\n",
      "val_dict[cond] = (gas.thermal_conductivity*porosity+(1.-porosity)*0.05)\n",
      "val_dict[lambda_b] = gas.thermal_conductivity\n",
      "#val_dict[T_b] = 1000\n",
      "sol_simple = part_sol.subs(val_dict)\n",
      "ext_flux.subs({Y_s:y_s_sol[0]}).rhs.subs(val_dict)\n",
      "\n",
      "\n",
      "#ext_flux_T.subs({T_s:T_s_sol[0]}).rhs.subs(val_dict)"
     ],
     "language": "python",
     "metadata": {},
     "outputs": [
      {
       "latex": [
        "$$0.157422561603483 \\operatorname{Y_b}\\left(y\\right)$$"
       ],
       "metadata": {},
       "output_type": "pyout",
       "png": "[encoded data removed]",
       "prompt_number": 15,
       "text": [
        "0.157422561603483\u22c5Y_b(y)"
       ]
      }
     ],
     "prompt_number": 15
    },
    {
     "cell_type": "code",
     "collapsed": false,
     "input": [
      "diffeq_T = sy.Eq(sy.diff(cond *sy.diff(T,x),x)-RR*A_V*Delta_H,0)"
     ],
     "language": "python",
     "metadata": {},
     "outputs": [],
     "prompt_number": 16
    },
    {
     "cell_type": "heading",
     "level": 1,
     "metadata": {},
     "source": [
      "adsfaf"
     ]
    },
    {
     "cell_type": "code",
     "collapsed": false,
     "input": [
      "diffeq_T=diffeq_T.subs({RR:k_r*(rho*y_temp/M_i)*(rho*0.1/0.028)**2}).subs({y_temp:sol_simple.rhs})\n",
      "sol_T=sy.dsolve(diffeq_T,T)\n",
      "diffeq_T"
     ],
     "language": "python",
     "metadata": {},
     "outputs": [
      {
       "latex": [
        "$$- 12.7551020408163 \\frac{A_{V} \\Delta_{H} k_{r} \\rho^{3} \\left(2.90304071251191 \\times 10^{-13} \\operatorname{Y_b}\\left(y\\right) e^{143971.860452841 x} + 0.929158994346975 \\frac{\\operatorname{Y_b}\\left(y\\right)}{e^{143971.860452841 x}}\\right)}{M_{i}} + cond \\frac{\\partial^{2}}{\\partial^{2} x}  \\operatorname{T}\\left(x\\right) = 0$$"
       ],
       "metadata": {},
       "output_type": "pyout",
       "png": "[encoded data removed]",
       "prompt_number": 17,
       "text": [
        "\n",
        "                               3 \u239b                             143971.86045284\n",
        "  12.7551020408163\u22c5A_V\u22c5\u0394_H\u22c5k\u1d63\u22c5\u03c1 \u22c5\u239d2.90304071251191e-13\u22c5Y_b(y)\u22c5\u212f               \n",
        "- \u2500\u2500\u2500\u2500\u2500\u2500\u2500\u2500\u2500\u2500\u2500\u2500\u2500\u2500\u2500\u2500\u2500\u2500\u2500\u2500\u2500\u2500\u2500\u2500\u2500\u2500\u2500\u2500\u2500\u2500\u2500\u2500\u2500\u2500\u2500\u2500\u2500\u2500\u2500\u2500\u2500\u2500\u2500\u2500\u2500\u2500\u2500\u2500\u2500\u2500\u2500\u2500\u2500\u2500\u2500\u2500\u2500\u2500\u2500\u2500\u2500\u2500\u2500\u2500\u2500\u2500\u2500\u2500\u2500\u2500\u2500\u2500\u2500\u2500\u2500\u2500\n",
        "                                                                 M\u1d62           \n",
        "                                                                              \n",
        "\n",
        "1\u22c5x                             -143971.860452841\u22c5x\u239e          2          \n",
        "    + 0.929158994346975\u22c5Y_b(y)\u22c5\u212f                   \u23a0         d           \n",
        "\u2500\u2500\u2500\u2500\u2500\u2500\u2500\u2500\u2500\u2500\u2500\u2500\u2500\u2500\u2500\u2500\u2500\u2500\u2500\u2500\u2500\u2500\u2500\u2500\u2500\u2500\u2500\u2500\u2500\u2500\u2500\u2500\u2500\u2500\u2500\u2500\u2500\u2500\u2500\u2500\u2500\u2500\u2500\u2500\u2500\u2500\u2500\u2500\u2500\u2500\u2500\u2500 + cond\u22c5\u2500\u2500\u2500(T(x)) = 0\n",
        "                                                              2          \n",
        "                                                            dx           "
       ]
      }
     ],
     "prompt_number": 17
    },
    {
     "cell_type": "code",
     "collapsed": false,
     "input": [
      "#homogeneous neumann\n",
      "neum_bc_T= sy.Eq(sy.diff(sol_T.rhs,x).subs({x:wc_thickness}),0)\n",
      "\n",
      "dir_bc_T = sy.Eq(sol_T.rhs.subs({x:0}),T_s)\n",
      "\n",
      "bc_sol_T = sy.solve((dir_bc_T,neum_bc_T),C1,C2)"
     ],
     "language": "python",
     "metadata": {},
     "outputs": [],
     "prompt_number": 18
    },
    {
     "cell_type": "code",
     "collapsed": false,
     "input": [
      "part_sol_T = sol_T.subs(bc_sol_T)\n",
      "ext_flux_T = sy.Eq(Sh * lambda_b/L * (T_b - T_s),-cond* sy.diff(part_sol_T.rhs,x).subs({x:0}))\n",
      "T_s_sol=sy.solve(ext_flux_T,T_s)\n",
      "part_sol_T = part_sol_T.subs({T_s:T_s_sol[0]})"
     ],
     "language": "python",
     "metadata": {},
     "outputs": [],
     "prompt_number": 19
    },
    {
     "cell_type": "code",
     "collapsed": false,
     "input": [
      "sol_simple_T = part_sol_T.subs(val_dict)"
     ],
     "language": "python",
     "metadata": {},
     "outputs": [],
     "prompt_number": 20
    },
    {
     "cell_type": "code",
     "collapsed": false,
     "input": [
      "sol_simple_T.subs({x:0})"
     ],
     "language": "python",
     "metadata": {},
     "outputs": [
      {
       "latex": [
        "$$\\operatorname{T}\\left(0\\right) = 1.0 \\operatorname{T_b}\\left(y\\right) + 1025.04935435852 \\operatorname{Y_b}\\left(y\\right)$$"
       ],
       "metadata": {},
       "output_type": "pyout",
       "png": "[encoded data removed]",
       "prompt_number": 21,
       "text": [
        "T(0) = 1.0\u22c5T_b(y) + 1025.04935435852\u22c5Y_b(y)"
       ]
      }
     ],
     "prompt_number": 21
    },
    {
     "cell_type": "code",
     "collapsed": false,
     "input": [
      "Y_s = sol_simple.subs({x:0})"
     ],
     "language": "python",
     "metadata": {},
     "outputs": [],
     "prompt_number": 22
    },
    {
     "cell_type": "code",
     "collapsed": false,
     "input": [
      "T_s = sol_simple_T.subs({x:0})"
     ],
     "language": "python",
     "metadata": {},
     "outputs": [],
     "prompt_number": 23
    },
    {
     "cell_type": "code",
     "collapsed": false,
     "input": [
      "A_V = 1000\n",
      "u   = 2.5\n",
      "rho = gas.density\n",
      "h = val_dict[Sh]*val_dict[D_b]/val_dict[L]\n",
      "\n",
      "diffeq_y_b = sy.Eq(rho * u * sy.diff(Y_b,y)+rho* h* A_V* (Y_b-Y_s.rhs),0)\n"
     ],
     "language": "python",
     "metadata": {},
     "outputs": [],
     "prompt_number": 24
    },
    {
     "cell_type": "code",
     "collapsed": false,
     "input": [
      "y_b_sol = sy.dsolve(diffeq_y_b,Y_b)"
     ],
     "language": "python",
     "metadata": {},
     "outputs": [],
     "prompt_number": 25
    },
    {
     "cell_type": "code",
     "collapsed": false,
     "input": [
      "inflow_bc= sy.Eq(y_b_sol.rhs.subs({y:0}),0.0001)\n",
      "y_b_part_sol = y_b_sol.subs({C1:sy.solve(inflow_bc,C1)[0]})"
     ],
     "language": "python",
     "metadata": {},
     "outputs": [],
     "prompt_number": 26
    },
    {
     "cell_type": "code",
     "collapsed": false,
     "input": [
      "sol_simple = sol_simple.subs({Y_b:y_b_part_sol.rhs})"
     ],
     "language": "python",
     "metadata": {},
     "outputs": [],
     "prompt_number": 27
    },
    {
     "cell_type": "code",
     "collapsed": false,
     "input": [
      "T_s = T_s.subs({Y_b:y_b_part_sol.rhs})"
     ],
     "language": "python",
     "metadata": {},
     "outputs": [],
     "prompt_number": 28
    },
    {
     "cell_type": "code",
     "collapsed": false,
     "input": [
      "cp = gas.cp_mass\n",
      "\n",
      "h_t = val_dict[Sh]*gas.thermal_conductivity/(rho*cp)/val_dict[L]\n",
      "\n",
      "\n",
      "diffeq_T_b = sy.Eq(u * sy.diff(T_b,y)+h_t* A_V* (T_b-T_s.rhs),0)\n",
      "\n"
     ],
     "language": "python",
     "metadata": {},
     "outputs": [],
     "prompt_number": 29
    },
    {
     "cell_type": "code",
     "collapsed": false,
     "input": [
      "T_b_sol = sy.dsolve(diffeq_T_b,T_b)"
     ],
     "language": "python",
     "metadata": {},
     "outputs": [],
     "prompt_number": 30
    },
    {
     "cell_type": "code",
     "collapsed": false,
     "input": [
      "sol_c1_tb = sy.solve(sy.Eq(T_b_sol.subs({y:0}).rhs,1000),C1)"
     ],
     "language": "python",
     "metadata": {},
     "outputs": [],
     "prompt_number": 31
    },
    {
     "cell_type": "code",
     "collapsed": false,
     "input": [
      "T_b_part_sol = T_b_sol.subs({C1:sol_c1_tb[0]})"
     ],
     "language": "python",
     "metadata": {},
     "outputs": [],
     "prompt_number": 32
    },
    {
     "cell_type": "code",
     "collapsed": false,
     "input": [
      "sol_simple_T = sol_simple_T.subs({Y_b:y_b_part_sol.rhs,T_b:T_b_part_sol.rhs})"
     ],
     "language": "python",
     "metadata": {},
     "outputs": [],
     "prompt_number": 33
    },
    {
     "cell_type": "code",
     "collapsed": false,
     "input": [
      "sol_simple_fun=sy.lambdify((x,y),sol_simple.rhs)\n",
      "sol_simple_fun_T=sy.lambdify((x,y),sol_simple_T.rhs)"
     ],
     "language": "python",
     "metadata": {},
     "outputs": [],
     "prompt_number": 34
    },
    {
     "cell_type": "code",
     "collapsed": false,
     "input": [
      "def get_grid(ratio=1.1,wc_thickness=1E-4,nx=32):\n",
      "    dx_c = wc_thickness*(1-ratio)/(1-ratio**nx)\n",
      "    dx = []\n",
      "    for x_c in range(nx):\n",
      "        dx.append(dx_c)\n",
      "        dx_c *= ratio\n",
      "    return np.cumsum(dx) -0.5*np.array(dx)"
     ],
     "language": "python",
     "metadata": {},
     "outputs": [],
     "prompt_number": 35
    },
    {
     "cell_type": "code",
     "collapsed": false,
     "input": [
      "fig = pl.figure()\n",
      "fig1 = pl.figure()\n",
      "fig3 = pl.figure()\n",
      "\n",
      "\n",
      "\n",
      "ax = fig.add_subplot(1,1,1)\n",
      "ax1 = fig1.add_subplot(1,1,1)\n",
      "ax3 = fig3.add_subplot(1,1,1)\n",
      "\n",
      "data_folder = \"/home/vonrickenbach/contrib_git/cantera_tests/washcoat_model/\"\n",
      "err_T = []\n",
      "err_Y = []\n",
      "grids = [32]\n",
      "#grids = [32,64]\n",
      "\n",
      "index = 7\n",
      "\n",
      "x_ind = 0.005\n",
      "\n",
      "for nx in grids:\n",
      "    x_val = get_grid(nx=nx)\n",
      "\n",
      "    y_val =[sol_simple_fun(item,x_ind) for item in x_val]\n",
      "    ax.plot(x_val*1E6,np.array(y_val),'k')\n",
      "\n",
      "    T_val = np.array([sol_simple_fun_T(item,x_ind) for item in x_val])\n",
      "    ax1.plot(x_val,T_val-1000)\n",
      "    data= np.genfromtxt(os.path.join(data_folder,\"grid_\"+str(31)+\"_0.dat\"))\n",
      "    ax1.plot(x_val,data[5,1:]-1000,'o')\n",
      "\n",
      "    ax.set_xlabel(\"x-xoordinate ($\\mu m$)\")\n",
      "    ax.set_ylabel(\"$O_2$ mass-fraction\")\n",
      "\n",
      "    ax.plot(x_val*1E6,data[0,1:],'ko')\n",
      "    err_T.append(np.amax(np.abs(data[5,1:])-T_val+1000))\n",
      "    err_Y.append(np.amax(np.abs(data[0,1:])-y_val))\n",
      "    ax.legend([\"Analytical solution\",\"Numerical solution\"])\n",
      "\n",
      "fig.tight_layout()\n",
      "fig.savefig(\"wc.png\")\n",
      "#ax3.loglog(grids,err_T/err_T[-3])\n",
      "#ax3.loglog(grids,err_Y/err_Y[-3])\n",
      "#ax3.loglog(grids,(1./np.array(grids)*16)**2)\n",
      "\n",
      "\n",
      "fluxes_data = np.genfromtxt(os.path.join(data_folder,\"fluxes_\"+str(0)+\"_0.dat\"))\n"
     ],
     "language": "python",
     "metadata": {},
     "outputs": [
      {
       "metadata": {},
       "output_type": "display_data",
       "png": "[encoded data removed]",
       "text": [
        "Figure(480x320)"
       ]
      },
      {
       "metadata": {},
       "output_type": "display_data",
       "png": "[encoded data removed]",
       "text": [
        "Figure(480x320)"
       ]
      },
      {
       "metadata": {},
       "output_type": "display_data",
       "png": "[encoded data removed]",
       "text": [
        "Figure(480x320)"
       ]
      }
     ],
     "prompt_number": 68
    },
    {
     "cell_type": "code",
     "collapsed": false,
     "input": [
      "fluxes_data[0,0]"
     ],
     "language": "python",
     "metadata": {},
     "outputs": [
      {
       "metadata": {},
       "output_type": "pyout",
       "png": "[encoded data removed]",
       "prompt_number": 70,
       "text": [
        "1.5251446e-05"
       ]
      }
     ],
     "prompt_number": 70
    },
    {
     "cell_type": "code",
     "collapsed": false,
     "input": [
      "- gas.density * val_dict[D]*sy.diff(sol_simple.rhs,x).subs({y:0,x:0.000})"
     ],
     "language": "python",
     "metadata": {},
     "outputs": [
      {
       "latex": [
        "$$1.57422561603483 \\times 10^{-5}$$"
       ],
       "metadata": {},
       "output_type": "pyout",
       "png": "[encoded data removed]",
       "prompt_number": 78,
       "text": [
        "1.57422561603483e-5"
       ]
      }
     ],
     "prompt_number": 78
    },
    {
     "cell_type": "code",
     "collapsed": false,
     "input": [
      "sy.diff(sol_simple.rhs,y).subs({y:0,x:0})"
     ],
     "language": "python",
     "metadata": {},
     "outputs": [
      {
       "latex": [
        "$$-0.0173653468947754$$"
       ],
       "metadata": {},
       "output_type": "pyout",
       "png": "[encoded data removed]",
       "prompt_number": 77,
       "text": [
        "-0.0173653468947754"
       ]
      }
     ],
     "prompt_number": 77
    },
    {
     "cell_type": "code",
     "collapsed": false,
     "input": [
      "data = []\n",
      "\n",
      "nx = 32\n",
      "\n",
      "for g_idx in range(nx):\n",
      "    data.append(np.genfromtxt(os.path.join(data_folder,\"grid_\"+str(g_idx)+\"_1000.dat\")))\n",
      "\n",
      "data = np.array(data)"
     ],
     "language": "python",
     "metadata": {},
     "outputs": [
      {
       "ename": "IOError",
       "evalue": "/home/vonrickenbach/contrib_git/cantera_tests/washcoat_model/grid_0_1000.dat not found.",
       "output_type": "pyerr",
       "traceback": [
        "\u001b[1;31m---------------------------------------------------------------------------\u001b[0m\n\u001b[1;31mIOError\u001b[0m                                   Traceback (most recent call last)",
        "\u001b[1;32m<ipython-input-61-443f78fd7f63>\u001b[0m in \u001b[0;36m<module>\u001b[1;34m()\u001b[0m\n\u001b[0;32m      4\u001b[0m \u001b[1;33m\u001b[0m\u001b[0m\n\u001b[0;32m      5\u001b[0m \u001b[1;32mfor\u001b[0m \u001b[0mg_idx\u001b[0m \u001b[1;32min\u001b[0m \u001b[0mrange\u001b[0m\u001b[1;33m(\u001b[0m\u001b[0mnx\u001b[0m\u001b[1;33m)\u001b[0m\u001b[1;33m:\u001b[0m\u001b[1;33m\u001b[0m\u001b[0m\n\u001b[1;32m----> 6\u001b[1;33m     \u001b[0mdata\u001b[0m\u001b[1;33m.\u001b[0m\u001b[0mappend\u001b[0m\u001b[1;33m(\u001b[0m\u001b[0mnp\u001b[0m\u001b[1;33m.\u001b[0m\u001b[0mgenfromtxt\u001b[0m\u001b[1;33m(\u001b[0m\u001b[0mos\u001b[0m\u001b[1;33m.\u001b[0m\u001b[0mpath\u001b[0m\u001b[1;33m.\u001b[0m\u001b[0mjoin\u001b[0m\u001b[1;33m(\u001b[0m\u001b[0mdata_folder\u001b[0m\u001b[1;33m,\u001b[0m\u001b[1;34m\"grid_\"\u001b[0m\u001b[1;33m+\u001b[0m\u001b[0mstr\u001b[0m\u001b[1;33m(\u001b[0m\u001b[0mg_idx\u001b[0m\u001b[1;33m)\u001b[0m\u001b[1;33m+\u001b[0m\u001b[1;34m\"_1000.dat\"\u001b[0m\u001b[1;33m)\u001b[0m\u001b[1;33m)\u001b[0m\u001b[1;33m)\u001b[0m\u001b[1;33m\u001b[0m\u001b[0m\n\u001b[0m\u001b[0;32m      7\u001b[0m \u001b[1;33m\u001b[0m\u001b[0m\n\u001b[0;32m      8\u001b[0m \u001b[0mdata\u001b[0m \u001b[1;33m=\u001b[0m \u001b[0mnp\u001b[0m\u001b[1;33m.\u001b[0m\u001b[0marray\u001b[0m\u001b[1;33m(\u001b[0m\u001b[0mdata\u001b[0m\u001b[1;33m)\u001b[0m\u001b[1;33m\u001b[0m\u001b[0m\n",
        "\u001b[1;32m/usr/lib64/python2.7/site-packages/numpy/lib/npyio.pyc\u001b[0m in \u001b[0;36mgenfromtxt\u001b[1;34m(fname, dtype, comments, delimiter, skiprows, skip_header, skip_footer, converters, missing, missing_values, filling_values, usecols, names, excludelist, deletechars, replace_space, autostrip, case_sensitive, defaultfmt, unpack, usemask, loose, invalid_raise)\u001b[0m\n\u001b[0;32m   1358\u001b[0m         \u001b[1;32mif\u001b[0m \u001b[0misinstance\u001b[0m\u001b[1;33m(\u001b[0m\u001b[0mfname\u001b[0m\u001b[1;33m,\u001b[0m \u001b[0mbasestring\u001b[0m\u001b[1;33m)\u001b[0m\u001b[1;33m:\u001b[0m\u001b[1;33m\u001b[0m\u001b[0m\n\u001b[0;32m   1359\u001b[0m             \u001b[1;32mif\u001b[0m \u001b[0msys\u001b[0m\u001b[1;33m.\u001b[0m\u001b[0mversion_info\u001b[0m\u001b[1;33m[\u001b[0m\u001b[1;36m0\u001b[0m\u001b[1;33m]\u001b[0m \u001b[1;33m==\u001b[0m \u001b[1;36m2\u001b[0m\u001b[1;33m:\u001b[0m\u001b[1;33m\u001b[0m\u001b[0m\n\u001b[1;32m-> 1360\u001b[1;33m                 \u001b[0mfhd\u001b[0m \u001b[1;33m=\u001b[0m \u001b[0miter\u001b[0m\u001b[1;33m(\u001b[0m\u001b[0mnp\u001b[0m\u001b[1;33m.\u001b[0m\u001b[0mlib\u001b[0m\u001b[1;33m.\u001b[0m\u001b[0m_datasource\u001b[0m\u001b[1;33m.\u001b[0m\u001b[0mopen\u001b[0m\u001b[1;33m(\u001b[0m\u001b[0mfname\u001b[0m\u001b[1;33m,\u001b[0m \u001b[1;34m'rbU'\u001b[0m\u001b[1;33m)\u001b[0m\u001b[1;33m)\u001b[0m\u001b[1;33m\u001b[0m\u001b[0m\n\u001b[0m\u001b[0;32m   1361\u001b[0m             \u001b[1;32melse\u001b[0m\u001b[1;33m:\u001b[0m\u001b[1;33m\u001b[0m\u001b[0m\n\u001b[0;32m   1362\u001b[0m                 \u001b[0mfhd\u001b[0m \u001b[1;33m=\u001b[0m \u001b[0miter\u001b[0m\u001b[1;33m(\u001b[0m\u001b[0mnp\u001b[0m\u001b[1;33m.\u001b[0m\u001b[0mlib\u001b[0m\u001b[1;33m.\u001b[0m\u001b[0m_datasource\u001b[0m\u001b[1;33m.\u001b[0m\u001b[0mopen\u001b[0m\u001b[1;33m(\u001b[0m\u001b[0mfname\u001b[0m\u001b[1;33m,\u001b[0m \u001b[1;34m'rb'\u001b[0m\u001b[1;33m)\u001b[0m\u001b[1;33m)\u001b[0m\u001b[1;33m\u001b[0m\u001b[0m\n",
        "\u001b[1;32m/usr/lib64/python2.7/site-packages/numpy/lib/_datasource.pyc\u001b[0m in \u001b[0;36mopen\u001b[1;34m(path, mode, destpath)\u001b[0m\n\u001b[0;32m    149\u001b[0m \u001b[1;33m\u001b[0m\u001b[0m\n\u001b[0;32m    150\u001b[0m     \u001b[0mds\u001b[0m \u001b[1;33m=\u001b[0m \u001b[0mDataSource\u001b[0m\u001b[1;33m(\u001b[0m\u001b[0mdestpath\u001b[0m\u001b[1;33m)\u001b[0m\u001b[1;33m\u001b[0m\u001b[0m\n\u001b[1;32m--> 151\u001b[1;33m     \u001b[1;32mreturn\u001b[0m \u001b[0mds\u001b[0m\u001b[1;33m.\u001b[0m\u001b[0mopen\u001b[0m\u001b[1;33m(\u001b[0m\u001b[0mpath\u001b[0m\u001b[1;33m,\u001b[0m \u001b[0mmode\u001b[0m\u001b[1;33m)\u001b[0m\u001b[1;33m\u001b[0m\u001b[0m\n\u001b[0m\u001b[0;32m    152\u001b[0m \u001b[1;33m\u001b[0m\u001b[0m\n\u001b[0;32m    153\u001b[0m \u001b[1;33m\u001b[0m\u001b[0m\n",
        "\u001b[1;32m/usr/lib64/python2.7/site-packages/numpy/lib/_datasource.pyc\u001b[0m in \u001b[0;36mopen\u001b[1;34m(self, path, mode)\u001b[0m\n\u001b[0;32m    499\u001b[0m             \u001b[1;32mreturn\u001b[0m \u001b[0m_file_openers\u001b[0m\u001b[1;33m[\u001b[0m\u001b[0mext\u001b[0m\u001b[1;33m]\u001b[0m\u001b[1;33m(\u001b[0m\u001b[0mfound\u001b[0m\u001b[1;33m,\u001b[0m \u001b[0mmode\u001b[0m\u001b[1;33m=\u001b[0m\u001b[0mmode\u001b[0m\u001b[1;33m)\u001b[0m\u001b[1;33m\u001b[0m\u001b[0m\n\u001b[0;32m    500\u001b[0m         \u001b[1;32melse\u001b[0m\u001b[1;33m:\u001b[0m\u001b[1;33m\u001b[0m\u001b[0m\n\u001b[1;32m--> 501\u001b[1;33m             \u001b[1;32mraise\u001b[0m \u001b[0mIOError\u001b[0m\u001b[1;33m(\u001b[0m\u001b[1;34m\"%s not found.\"\u001b[0m \u001b[1;33m%\u001b[0m \u001b[0mpath\u001b[0m\u001b[1;33m)\u001b[0m\u001b[1;33m\u001b[0m\u001b[0m\n\u001b[0m\u001b[0;32m    502\u001b[0m \u001b[1;33m\u001b[0m\u001b[0m\n\u001b[0;32m    503\u001b[0m \u001b[1;33m\u001b[0m\u001b[0m\n",
        "\u001b[1;31mIOError\u001b[0m: /home/vonrickenbach/contrib_git/cantera_tests/washcoat_model/grid_0_1000.dat not found."
       ]
      }
     ],
     "prompt_number": 61
    },
    {
     "cell_type": "code",
     "collapsed": false,
     "input": [],
     "language": "python",
     "metadata": {},
     "outputs": []
    },
    {
     "cell_type": "code",
     "collapsed": false,
     "input": [
      "from mpl_toolkits.mplot3d import Axes3D\n",
      "import matplotlib as ml\n",
      "\n",
      "species_data = data[:,5,:]\n",
      "\n",
      "fig = pl.figure()\n",
      "ax = fig.add_subplot(111, projection='3d')\n",
      "\n",
      "x,y = np.meshgrid(np.linspace(0,0.005,32),get_grid())\n",
      "ax.plot_surface(x,y,species_data[:,1:],cmap=ml.cm.coolwarm)\n",
      "ax.plot_surface(x,y,sol_simple_fun(x,y),cmap=ml.cm.coolwarm)"
     ],
     "language": "python",
     "metadata": {},
     "outputs": []
    },
    {
     "cell_type": "code",
     "collapsed": false,
     "input": [
      "sol_simple_fun(np.array([1E-5,1E-5]),np.array([0.005,0.005]))"
     ],
     "language": "python",
     "metadata": {},
     "outputs": []
    },
    {
     "cell_type": "code",
     "collapsed": false,
     "input": [
      "def mult2(a,b):\n",
      "    return a*b * 2\n",
      "\n",
      "sol_simple_fun(x,y)\n",
      "mult2(x,y)"
     ],
     "language": "python",
     "metadata": {},
     "outputs": []
    },
    {
     "cell_type": "code",
     "collapsed": false,
     "input": [
      "from mpl_toolkits.mplot3d import Axes3D\n",
      "import matplotlib as ml\n",
      "\n",
      "species_data = data[:,5,:]\n",
      "\n",
      "fig = pl.figure()\n",
      "ax = fig.add_subplot(111, projection='3d')\n",
      "\n",
      "x,y = np.meshgrid(np.linspace(0,0.005,32),get_grid())\n",
      "\n",
      "z = y * 1.0\n",
      "\n",
      "for (x_ind,y_ind),val in np.ndenumerate(x):\n",
      "\n",
      "    print(x_ind,y_ind,val,y[x_ind,y_ind])\n",
      "    z[x_ind,y_ind] = sol_simple_fun(val,y[x_ind,y_ind])\n",
      "    \n",
      "ax.plot_surface(x,y,species_data[:,1:],cmap=ml.cm.coolwarm)"
     ],
     "language": "python",
     "metadata": {},
     "outputs": []
    },
    {
     "cell_type": "code",
     "collapsed": false,
     "input": [
      "sol_simple_fun(0.005,1E-4)\n",
      "\n"
     ],
     "language": "python",
     "metadata": {},
     "outputs": []
    },
    {
     "cell_type": "heading",
     "level": 1,
     "metadata": {},
     "source": [
      "Analytical solution unsteady"
     ]
    },
    {
     "cell_type": "code",
     "collapsed": false,
     "input": [
      "t,rhocp,T_bulk,h_temp,T_0= sy.symbols(\"t rhocp T_bulk h_temp T_0\",positive=True )\n",
      "C1,C2 = sy.symbols(\"C1 C2\")\n",
      "\n",
      "Ts = sy.Function(\"Ts\")(t)\n"
     ],
     "language": "python",
     "metadata": {},
     "outputs": []
    },
    {
     "cell_type": "code",
     "collapsed": false,
     "input": [
      "diffeq_T_t = sy.Eq(sy.diff(Ts,t),h_temp/rhocp*(-Ts+T_bulk))"
     ],
     "language": "python",
     "metadata": {},
     "outputs": []
    },
    {
     "cell_type": "code",
     "collapsed": false,
     "input": [
      "diffeq_T_t"
     ],
     "language": "python",
     "metadata": {},
     "outputs": []
    },
    {
     "cell_type": "code",
     "collapsed": false,
     "input": [
      "sol_Ts = sy.dsolve(diffeq_T_t,Ts)\n",
      "sol_Ts"
     ],
     "language": "python",
     "metadata": {},
     "outputs": []
    },
    {
     "cell_type": "code",
     "collapsed": false,
     "input": [
      "C1_sol = sy.solve(sy.Eq(sol_Ts.subs({t:0}).rhs,T_0),C1)[0]\n",
      "sy.Eq(sol_Ts.subs({t:0}).rhs,T_0)"
     ],
     "language": "python",
     "metadata": {},
     "outputs": []
    },
    {
     "cell_type": "code",
     "collapsed": false,
     "input": [
      "sol"
     ],
     "language": "python",
     "metadata": {},
     "outputs": []
    },
    {
     "cell_type": "code",
     "collapsed": false,
     "input": [
      "sol_Ts = sol_Ts.subs({C1:C1_sol})"
     ],
     "language": "python",
     "metadata": {},
     "outputs": []
    },
    {
     "cell_type": "code",
     "collapsed": false,
     "input": [
      "sol_Ts = sol_Ts.subs({h_temp:0.026,T_0:300,rhocp:1,T_bulk:310}).rhs"
     ],
     "language": "python",
     "metadata": {},
     "outputs": []
    },
    {
     "cell_type": "code",
     "collapsed": false,
     "input": [
      "def get_time(name):\n",
      "    name = os.path.basename(name)\n",
      "    try:\n",
      "        return int(\"\".join([char for char in name[6:] if char.isdigit() or char == \"-\"]))\n",
      "    except:\n",
      "        print(name)\n",
      "    \n",
      "get_time(\"grid_0_-1.dat \")"
     ],
     "language": "python",
     "metadata": {},
     "outputs": []
    },
    {
     "cell_type": "code",
     "collapsed": false,
     "input": [
      "num_Ts = apply_array(sy.lambdify(t,sol_Ts))\n",
      "\n",
      "\n",
      "def apply_array(func):\n",
      "    def apply_arr(array): \n",
      "        vals = np.array(np.zeros(len(time)))\n",
      "        for idx,ti in enumerate(array):\n",
      "            vals[idx] = func(ti)\n",
      "        return vals\n",
      "    \n",
      "    return apply_arr\n",
      "\n",
      "\n",
      "num_Ts(time)"
     ],
     "language": "python",
     "metadata": {},
     "outputs": []
    },
    {
     "cell_type": "code",
     "collapsed": false,
     "input": [
      "time = np.linspace(0,100)"
     ],
     "language": "python",
     "metadata": {},
     "outputs": []
    },
    {
     "cell_type": "code",
     "collapsed": false,
     "input": [
      "def load_wc_ani(sim):\n",
      "\n",
      "    filelist = gl.glob(os.path.join(sim.info.local[\"sim_folder\"],\"grid_0_*\"))\n",
      "    \n",
      "    \n",
      "    filelist = [filename for filename in filelist if get_time(filename) >  0]\n",
      "    time_data = np.genfromtxt(os.path.join(sim.info.local[\"sim_folder\"],\"time_file.dat\"))\n",
      "\n",
      "    \n",
      "    sorted_list = sorted(filelist,key=lambda name :get_time(name))\n",
      "    wc_data = []\n",
      "    for filename in sorted_list:\n",
      "        wc_data.append([time_data[get_time(filename)-1,1],np.genfromtxt(filename)])\n",
      "    \n",
      "    sim.all_data = wc_data  \n",
      "    return time_data\n",
      "\n",
      "\n",
      "\n",
      "def create_simulation_python(input_dict,folder,root_folder=\".\",ref_folder=None):\n",
      "     \n",
      "\n",
      "    config_sim = jc.configuration_mb_local\n",
      "    config_sim[\"transat_version\"] = \"wc_python\"\n",
      "\n",
      "    config_sim[\"jobname\"] = inputs[\"folder\"]\n",
      "    config_sim[\"root_folder\"] = root_folder\n",
      "    simulation = sim_brutus.job(**config_sim)\n",
      "\n",
      "    simulation.sim_info = input_dict.copy()\n",
      "    simulation.sim_info[\"converged\"] = False\n",
      "\n",
      "\n",
      "    return simulation\n",
      "\n"
     ],
     "language": "python",
     "metadata": {},
     "outputs": []
    },
    {
     "cell_type": "code",
     "collapsed": false,
     "input": [
      "sim_list_val  = []\n",
      "root_folder= \"/home/vonrickenbach/contrib_git/cantera_tests/\"\n",
      "\n",
      "folder = \"washcoat_model\"\n",
      "temperatures = np.array([300])\n",
      "temp_array= temperatures\n",
      "\n",
      "\n",
      "for temperature in temperatures:\n",
      "        inputs = {}\n",
      "        inputs[\"wc_thickness\"] = 20\n",
      "        inputs[\"temperature\"] = temperature\n",
      "        inputs[\"cov_CO\"] = 1\n",
      "        inputs[\"folder\"] = folder\n",
      "        inputs[\"res\"] = 20\n",
      "        inputs[\"nx\"]  = 32\n",
      "        inputs[\"t_fac\"]  = 1\n",
      "        inputs[\"x_cells\"]  = 20\n",
      "        inputs[\"velocity\"] = 25000/3600.*0.07\n",
      "        \n",
      "        inputs[\"sh_number\"] = 4000\n",
      "        inputs[\"a_v\"] = 4000\n",
      "\n",
      "        inputs[\"mf\"] = 1E3\n",
      "\n",
      "        sim_list_val.append(create_simulation_python(inputs,folder,root_folder=root_folder))"
     ],
     "language": "python",
     "metadata": {},
     "outputs": []
    },
    {
     "cell_type": "code",
     "collapsed": false,
     "input": [
      "sim = sim_list_val[0]"
     ],
     "language": "python",
     "metadata": {},
     "outputs": []
    },
    {
     "cell_type": "code",
     "collapsed": false,
     "input": [
      "time_val = load_wc_ani(sim)"
     ],
     "language": "python",
     "metadata": {},
     "outputs": []
    },
    {
     "cell_type": "code",
     "collapsed": false,
     "input": [
      "print_wc_time(sim,time_val)\n",
      "pl.plot(time,num_Ts(time))"
     ],
     "language": "python",
     "metadata": {},
     "outputs": []
    },
    {
     "cell_type": "code",
     "collapsed": false,
     "input": [
      "time_val"
     ],
     "language": "python",
     "metadata": {},
     "outputs": []
    },
    {
     "cell_type": "code",
     "collapsed": false,
     "input": [
      "def print_wc_time(sim,sp=4,sli=1,time=3.6E-5):\n",
      "\n",
      "    nplots = 1\n",
      "    figs = [pl.figure(figsize=(12,6)) for item in range(1)]\n",
      "    axs = [figs[0].add_subplot(1,nplots,item+1) for item in range(nplots)]\n",
      "    data = np.array([item[1] for item in sim.all_data])\n",
      "    time_val = np.array([item[0] for item in sim.all_data])\n",
      "    axs[0].plot(time_val,data[:,-1,sli],'r')\n",
      "\n",
      "\n",
      "    st_idx = 0\n",
      "    axs[0].set_title(\"T at first cell over time\")\n"
     ],
     "language": "python",
     "metadata": {},
     "outputs": []
    },
    {
     "cell_type": "code",
     "collapsed": false,
     "input": [
      "gas.TPX = (310.0,1E5,[0.1,0,0.9,0.0])\n",
      "\n",
      "gas.thermal_conductivity"
     ],
     "language": "python",
     "metadata": {},
     "outputs": []
    },
    {
     "cell_type": "code",
     "collapsed": false,
     "input": [],
     "language": "python",
     "metadata": {},
     "outputs": []
    }
   ],
   "metadata": {}
  }
 ]
}