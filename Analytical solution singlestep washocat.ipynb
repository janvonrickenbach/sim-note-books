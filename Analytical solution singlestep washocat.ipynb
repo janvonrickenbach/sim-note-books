{
 "metadata": {
  "name": "",
  "signature": "sha256:fa423b25cf4f5f4670b0331f64791f058269305015b4dde898a50949846301b6"
 },
 "nbformat": 3,
 "nbformat_minor": 0,
 "worksheets": [
  {
   "cells": [
    {
     "cell_type": "code",
     "collapsed": false,
     "input": [
      "import sympy as sy\n",
      "import matplotlib.pyplot as pl\n",
      "import numpy as np\n",
      "import cantera as ca\n",
      "import os\n",
      "import job_configurations as jc\n",
      "import simulation_brutus as sim_brutus\n",
      "import glob as gl\n",
      "\n",
      "%matplotlib inline\n",
      "sy.init_printing()\n",
      "import sys\n",
      "#sys.setrecursionlimit(1000)\n"
     ],
     "language": "python",
     "metadata": {},
     "outputs": [
      {
       "output_type": "stream",
       "stream": "stdout",
       "text": [
        "paraview version 4.1.0\n"
       ]
      },
      {
       "output_type": "stream",
       "stream": "stderr",
       "text": [
        "/usr/lib/pymodules/python2.7/matplotlib/__init__.py:758: UserWarning: Found matplotlib configuration in ~/.matplotlib/. To conform with the XDG base directory standard, this configuration location has been deprecated on Linux, and the new location is now '/home/vonrickenbach/.config'/matplotlib/. Please move your configuration there to ensure that matplotlib will continue to find it in the future.\n",
        "  _get_xdg_config_dir())\n"
       ]
      }
     ],
     "prompt_number": 2
    },
    {
     "cell_type": "code",
     "collapsed": false,
     "input": [
      "ca.__file__"
     ],
     "language": "python",
     "metadata": {},
     "outputs": []
    },
    {
     "cell_type": "code",
     "collapsed": false,
     "input": [
      "sy.__version__"
     ],
     "language": "python",
     "metadata": {},
     "outputs": [
      {
       "metadata": {},
       "output_type": "pyout",
       "prompt_number": 2,
       "text": [
        "'0.7.5'"
       ]
      }
     ],
     "prompt_number": 2
    },
    {
     "cell_type": "code",
     "collapsed": false,
     "input": [
      "%%javascript\n",
      "IPython.load_extensions('toc');"
     ],
     "language": "python",
     "metadata": {},
     "outputs": [
      {
       "javascript": [
        "IPython.load_extensions('toc');"
       ],
       "metadata": {},
       "output_type": "display_data",
       "text": [
        "<IPython.core.display.Javascript at 0x7fce49003cd0>"
       ]
      }
     ],
     "prompt_number": 3
    },
    {
     "cell_type": "code",
     "collapsed": false,
     "input": [
      "D, D_b, h, rho, rho_b, wc_thickness, Y_b, L, Sh, A_V, surf_cov, Y_s, M_i,Y, x,RR,k_r,y, M_CO, k_r= sy.symbols(\"D D_b h rho rho_b  wc_thickness Y_b L Sh A_V, surf_cov Y_s M_i Y x RR k_r y M_CO, k_r\",positive=True,nonzero=True )\n"
     ],
     "language": "python",
     "metadata": {},
     "outputs": [],
     "prompt_number": 4
    },
    {
     "cell_type": "code",
     "collapsed": false,
     "input": [
      "C1,C2,C3,C4= sy.symbols(\"C1 C2 C3 C4\" )\n"
     ],
     "language": "python",
     "metadata": {},
     "outputs": [],
     "prompt_number": 5
    },
    {
     "cell_type": "code",
     "collapsed": false,
     "input": [
      "cond,T,Delta_H,T_s,T_b,y_temp,eps, tort, lambda_b = sy.symbols(\"cond T Delta_H T_s T_b y_temp epsilon tort lambda_b\",positive=True,nonzero=True)"
     ],
     "language": "python",
     "metadata": {},
     "outputs": [],
     "prompt_number": 6
    },
    {
     "cell_type": "code",
     "collapsed": false,
     "input": [],
     "language": "python",
     "metadata": {},
     "outputs": [],
     "prompt_number": 6
    },
    {
     "cell_type": "code",
     "collapsed": false,
     "input": [
      "Y = sy.Function(\"Y\")(x)\n",
      "T = sy.Function(\"T\")(x)\n",
      "Y_b = sy.Function(\"Y_b\")(y)\n",
      "T_b = sy.Function(\"T_b\")(y)"
     ],
     "language": "python",
     "metadata": {},
     "outputs": [],
     "prompt_number": 7
    },
    {
     "cell_type": "code",
     "collapsed": false,
     "input": [
      "diffeq = sy.Eq(rho*D*sy.diff(sy.diff(Y,x),x)-M_i*RR*A_V,0)"
     ],
     "language": "python",
     "metadata": {},
     "outputs": [],
     "prompt_number": 8
    },
    {
     "cell_type": "code",
     "collapsed": false,
     "input": [
      "diffeq=diffeq.subs({RR:k_r*(rho*Y/M_i)*(rho*k_r/M_CO)**2})"
     ],
     "language": "python",
     "metadata": {},
     "outputs": [],
     "prompt_number": 9
    },
    {
     "cell_type": "code",
     "collapsed": false,
     "input": [
      "sol=sy.dsolve(diffeq,Y)"
     ],
     "language": "python",
     "metadata": {},
     "outputs": [],
     "prompt_number": 10
    },
    {
     "cell_type": "code",
     "collapsed": false,
     "input": [
      "#homogeneous neumann\n",
      "neum_bc= sy.Eq(sy.diff(sol.rhs,x).subs({x:wc_thickness}),0)\n",
      "#neum_bc= sy.Eq(sol.rhs.subs({x:wc_thickness}),0)\n",
      "\n",
      "dir_bc = sy.Eq(sol.rhs.subs({x:0}),Y_s)\n",
      "\n",
      "bc_sol = sy.solve((dir_bc,neum_bc),C1,C2)"
     ],
     "language": "python",
     "metadata": {},
     "outputs": [],
     "prompt_number": 11
    },
    {
     "cell_type": "code",
     "collapsed": false,
     "input": [
      "part_sol = sol.subs(bc_sol)"
     ],
     "language": "python",
     "metadata": {},
     "outputs": [],
     "prompt_number": 12
    },
    {
     "cell_type": "code",
     "collapsed": false,
     "input": [
      "part_sol"
     ],
     "language": "python",
     "metadata": {},
     "outputs": [
      {
       "latex": [
        "$$Y{\\left (x \\right )} = \\frac{Y_{s} e^{\\frac{\\sqrt{A_{V}} k_{r}^{\\frac{3}{2}} \\rho x}{\\sqrt{D} M_{CO}}}}{e^{\\frac{2 \\sqrt{A_{V}} \\rho wc_{thickness}}{\\sqrt{D} M_{CO}} k_{r}^{\\frac{3}{2}}} + 1} + \\frac{Y_{s} - \\frac{Y_{s}}{e^{\\frac{2 \\sqrt{A_{V}} \\rho wc_{thickness}}{\\sqrt{D} M_{CO}} k_{r}^{\\frac{3}{2}}} + 1}}{e^{\\frac{\\sqrt{A_{V}} k_{r}^{\\frac{3}{2}} \\rho x}{\\sqrt{D} M_{CO}}}}$$"
       ],
       "metadata": {},
       "output_type": "pyout",
       "png": "[encoded data removed]",
       "prompt_number": 13,
       "text": [
        "                     _____   3/2                                              \n",
        "                   \u2572\u2571 A_V \u22c5k\u1d63   \u22c5\u03c1\u22c5x                                          \n",
        "                   \u2500\u2500\u2500\u2500\u2500\u2500\u2500\u2500\u2500\u2500\u2500\u2500\u2500\u2500\u2500\u2500\u2500                                          \n",
        "                         ___                                                  \n",
        "                       \u2572\u2571 D \u22c5M_CO                                             \n",
        "              Y_s\u22c5\u212f                          \u239b                      Y_s       \n",
        "Y(x) = \u2500\u2500\u2500\u2500\u2500\u2500\u2500\u2500\u2500\u2500\u2500\u2500\u2500\u2500\u2500\u2500\u2500\u2500\u2500\u2500\u2500\u2500\u2500\u2500\u2500\u2500\u2500\u2500\u2500\u2500\u2500\u2500\u2500\u2500\u2500 + \u239cY_s - \u2500\u2500\u2500\u2500\u2500\u2500\u2500\u2500\u2500\u2500\u2500\u2500\u2500\u2500\u2500\u2500\u2500\u2500\u2500\u2500\u2500\u2500\u2500\u2500\u2500\u2500\n",
        "            _____   3/2                      \u239c           _____   3/2          \n",
        "        2\u22c5\u2572\u2571 A_V \u22c5k\u1d63   \u22c5\u03c1\u22c5wc_thickness       \u239c       2\u22c5\u2572\u2571 A_V \u22c5k\u1d63   \u22c5\u03c1\u22c5wc_thic\n",
        "        \u2500\u2500\u2500\u2500\u2500\u2500\u2500\u2500\u2500\u2500\u2500\u2500\u2500\u2500\u2500\u2500\u2500\u2500\u2500\u2500\u2500\u2500\u2500\u2500\u2500\u2500\u2500\u2500\u2500\u2500       \u239c       \u2500\u2500\u2500\u2500\u2500\u2500\u2500\u2500\u2500\u2500\u2500\u2500\u2500\u2500\u2500\u2500\u2500\u2500\u2500\u2500\u2500\u2500\u2500\u2500\u2500\n",
        "                    ___                      \u239c                   ___          \n",
        "                  \u2572\u2571 D \u22c5M_CO                 \u239c                 \u2572\u2571 D \u22c5M_CO     \n",
        "       \u212f                               + 1   \u239d      \u212f                         \n",
        "\n",
        "                               \n",
        "               _____   3/2     \n",
        "            -\u2572\u2571 A_V \u22c5k\u1d63   \u22c5\u03c1\u22c5x \n",
        "            \u2500\u2500\u2500\u2500\u2500\u2500\u2500\u2500\u2500\u2500\u2500\u2500\u2500\u2500\u2500\u2500\u2500\u2500\u2500\n",
        "                   ___         \n",
        "         \u239e       \u2572\u2571 D \u22c5M_CO    \n",
        "\u2500\u2500\u2500\u2500\u2500\u2500\u2500\u2500\u2500\u239f\u22c5\u212f                   \n",
        "         \u239f                     \n",
        "kness    \u239f                     \n",
        "\u2500\u2500\u2500\u2500\u2500    \u239f                     \n",
        "         \u239f                     \n",
        "         \u239f                     \n",
        "      + 1\u23a0                     "
       ]
      }
     ],
     "prompt_number": 13
    },
    {
     "cell_type": "code",
     "collapsed": false,
     "input": [
      "ext_flux = sy.Eq(Sh * rho_b*D_b/L * (Y_b - Y_s),-rho * D* sy.diff(part_sol.rhs,x).subs({x:0}))"
     ],
     "language": "python",
     "metadata": {},
     "outputs": [],
     "prompt_number": 14
    },
    {
     "cell_type": "code",
     "collapsed": false,
     "input": [
      "y_s_sol=sy.solve(ext_flux,Y_s)"
     ],
     "language": "python",
     "metadata": {},
     "outputs": [],
     "prompt_number": 15
    },
    {
     "cell_type": "code",
     "collapsed": false,
     "input": [
      "part_sol = part_sol.subs({Y_s:y_s_sol[0]})"
     ],
     "language": "python",
     "metadata": {},
     "outputs": [],
     "prompt_number": 16
    },
    {
     "cell_type": "code",
     "collapsed": false,
     "input": [
      "part_sol"
     ],
     "language": "python",
     "metadata": {},
     "outputs": [
      {
       "latex": [
        "$$Y{\\left (x \\right )} = \\frac{\\sqrt{D} D_{b} M_{CO} Sh \\rho_{b} \\operatorname{Y_{b}}{\\left (y \\right )} e^{\\frac{\\sqrt{A_{V}} k_{r}^{\\frac{3}{2}} \\rho x}{\\sqrt{D} M_{CO}}}}{\\sqrt{A_{V}} D L k_{r}^{\\frac{3}{2}} \\rho^{2} e^{\\frac{2 \\sqrt{A_{V}} \\rho wc_{thickness}}{\\sqrt{D} M_{CO}} k_{r}^{\\frac{3}{2}}} - \\sqrt{A_{V}} D L k_{r}^{\\frac{3}{2}} \\rho^{2} + \\sqrt{D} D_{b} M_{CO} Sh \\rho_{b} e^{\\frac{2 \\sqrt{A_{V}} \\rho wc_{thickness}}{\\sqrt{D} M_{CO}} k_{r}^{\\frac{3}{2}}} + \\sqrt{D} D_{b} M_{CO} Sh \\rho_{b}} + \\frac{1}{e^{\\frac{\\sqrt{A_{V}} k_{r}^{\\frac{3}{2}} \\rho x}{\\sqrt{D} M_{CO}}}} \\left(\\frac{\\sqrt{D} D_{b} M_{CO} Sh \\rho_{b} \\left(e^{\\frac{2 \\sqrt{A_{V}} \\rho wc_{thickness}}{\\sqrt{D} M_{CO}} k_{r}^{\\frac{3}{2}}} + 1\\right) \\operatorname{Y_{b}}{\\left (y \\right )}}{\\sqrt{A_{V}} D L k_{r}^{\\frac{3}{2}} \\rho^{2} e^{\\frac{2 \\sqrt{A_{V}} \\rho wc_{thickness}}{\\sqrt{D} M_{CO}} k_{r}^{\\frac{3}{2}}} - \\sqrt{A_{V}} D L k_{r}^{\\frac{3}{2}} \\rho^{2} + \\sqrt{D} D_{b} M_{CO} Sh \\rho_{b} e^{\\frac{2 \\sqrt{A_{V}} \\rho wc_{thickness}}{\\sqrt{D} M_{CO}} k_{r}^{\\frac{3}{2}}} + \\sqrt{D} D_{b} M_{CO} Sh \\rho_{b}} - \\frac{\\sqrt{D} D_{b} M_{CO} Sh \\rho_{b} \\operatorname{Y_{b}}{\\left (y \\right )}}{\\sqrt{A_{V}} D L k_{r}^{\\frac{3}{2}} \\rho^{2} e^{\\frac{2 \\sqrt{A_{V}} \\rho wc_{thickness}}{\\sqrt{D} M_{CO}} k_{r}^{\\frac{3}{2}}} - \\sqrt{A_{V}} D L k_{r}^{\\frac{3}{2}} \\rho^{2} + \\sqrt{D} D_{b} M_{CO} Sh \\rho_{b} e^{\\frac{2 \\sqrt{A_{V}} \\rho wc_{thickness}}{\\sqrt{D} M_{CO}} k_{r}^{\\frac{3}{2}}} + \\sqrt{D} D_{b} M_{CO} Sh \\rho_{b}}\\right)$$"
       ],
       "metadata": {},
       "output_type": "pyout",
       "png": "[encoded data removed]",
       "prompt_number": 17,
       "text": [
        "                                                                              \n",
        "                                                                              \n",
        "                                                                              \n",
        "                                                                              \n",
        "                                                               ___            \n",
        "                                                             \u2572\u2571 D \u22c5D_b\u22c5M_CO\u22c5Sh\n",
        "Y(x) = \u2500\u2500\u2500\u2500\u2500\u2500\u2500\u2500\u2500\u2500\u2500\u2500\u2500\u2500\u2500\u2500\u2500\u2500\u2500\u2500\u2500\u2500\u2500\u2500\u2500\u2500\u2500\u2500\u2500\u2500\u2500\u2500\u2500\u2500\u2500\u2500\u2500\u2500\u2500\u2500\u2500\u2500\u2500\u2500\u2500\u2500\u2500\u2500\u2500\u2500\u2500\u2500\u2500\u2500\u2500\u2500\u2500\u2500\u2500\u2500\u2500\u2500\u2500\u2500\u2500\u2500\u2500\u2500\u2500\u2500\u2500\n",
        "                                 _____   3/2                                  \n",
        "                             2\u22c5\u2572\u2571 A_V \u22c5k\u1d63   \u22c5\u03c1\u22c5wc_thickness                   \n",
        "                             \u2500\u2500\u2500\u2500\u2500\u2500\u2500\u2500\u2500\u2500\u2500\u2500\u2500\u2500\u2500\u2500\u2500\u2500\u2500\u2500\u2500\u2500\u2500\u2500\u2500\u2500\u2500\u2500\u2500\u2500                   \n",
        "                                         ___                                  \n",
        "         _____       3/2  2            \u2572\u2571 D \u22c5M_CO               _____       3/\n",
        "       \u2572\u2571 A_V \u22c5D\u22c5L\u22c5k\u1d63   \u22c5\u03c1 \u22c5\u212f                               - \u2572\u2571 A_V \u22c5D\u22c5L\u22c5k\u1d63  \n",
        "\n",
        "               _____   3/2                                                    \n",
        "             \u2572\u2571 A_V \u22c5k\u1d63   \u22c5\u03c1\u22c5x                                                \n",
        "             \u2500\u2500\u2500\u2500\u2500\u2500\u2500\u2500\u2500\u2500\u2500\u2500\u2500\u2500\u2500\u2500\u2500                                                \n",
        "                   ___                                                        \n",
        "                 \u2572\u2571 D \u22c5M_CO                                                   \n",
        "\u22c5\u03c1_b\u22c5Y_b(y)\u22c5\u212f                                                                 \n",
        "\u2500\u2500\u2500\u2500\u2500\u2500\u2500\u2500\u2500\u2500\u2500\u2500\u2500\u2500\u2500\u2500\u2500\u2500\u2500\u2500\u2500\u2500\u2500\u2500\u2500\u2500\u2500\u2500\u2500\u2500\u2500\u2500\u2500\u2500\u2500\u2500\u2500\u2500\u2500\u2500\u2500\u2500\u2500\u2500\u2500\u2500\u2500\u2500\u2500\u2500\u2500\u2500\u2500\u2500\u2500\u2500\u2500\u2500\u2500\u2500\u2500\u2500\u2500\u2500\u2500\u2500\u2500\u2500\u2500\u2500\u2500\u2500\u2500\u2500\u2500\u2500\u2500\u2500\n",
        "                                  _____   3/2                                 \n",
        "                              2\u22c5\u2572\u2571 A_V \u22c5k\u1d63   \u22c5\u03c1\u22c5wc_thickness                  \n",
        "                              \u2500\u2500\u2500\u2500\u2500\u2500\u2500\u2500\u2500\u2500\u2500\u2500\u2500\u2500\u2500\u2500\u2500\u2500\u2500\u2500\u2500\u2500\u2500\u2500\u2500\u2500\u2500\u2500\u2500\u2500                  \n",
        "                                          ___                                 \n",
        "2  2     ___                            \u2572\u2571 D \u22c5M_CO               ___          \n",
        " \u22c5\u03c1  + \u2572\u2571 D \u22c5D_b\u22c5M_CO\u22c5Sh\u22c5\u03c1_b\u22c5\u212f                               + \u2572\u2571 D \u22c5D_b\u22c5M_CO\u22c5\n",
        "\n",
        "         \u239b                                                                   \u239b\n",
        "         \u239c                                                                   \u239c\n",
        "         \u239c                                                                   \u239c\n",
        "         \u239c                                                                   \u239c\n",
        "         \u239c                                               ___                 \u239c\n",
        "         \u239c                                             \u2572\u2571 D \u22c5D_b\u22c5M_CO\u22c5Sh\u22c5\u03c1_b\u22c5\u239d\n",
        "\u2500\u2500\u2500\u2500\u2500\u2500 + \u239c\u2500\u2500\u2500\u2500\u2500\u2500\u2500\u2500\u2500\u2500\u2500\u2500\u2500\u2500\u2500\u2500\u2500\u2500\u2500\u2500\u2500\u2500\u2500\u2500\u2500\u2500\u2500\u2500\u2500\u2500\u2500\u2500\u2500\u2500\u2500\u2500\u2500\u2500\u2500\u2500\u2500\u2500\u2500\u2500\u2500\u2500\u2500\u2500\u2500\u2500\u2500\u2500\u2500\u2500\u2500\u2500\u2500\u2500\u2500\u2500\u2500\u2500\u2500\u2500\u2500\u2500\u2500\u2500\n",
        "         \u239c                          _____   3/2                               \n",
        "         \u239c                      2\u22c5\u2572\u2571 A_V \u22c5k\u1d63   \u22c5\u03c1\u22c5wc_thickness                \n",
        "         \u239c                      \u2500\u2500\u2500\u2500\u2500\u2500\u2500\u2500\u2500\u2500\u2500\u2500\u2500\u2500\u2500\u2500\u2500\u2500\u2500\u2500\u2500\u2500\u2500\u2500\u2500\u2500\u2500\u2500\u2500\u2500                \n",
        "         \u239c                                  ___                               \n",
        "         \u239c  _____       3/2  2            \u2572\u2571 D \u22c5M_CO               _____      \n",
        "Sh\u22c5\u03c1_b   \u239d\u2572\u2571 A_V \u22c5D\u22c5L\u22c5k\u1d63   \u22c5\u03c1 \u22c5\u212f                               - \u2572\u2571 A_V \u22c5D\u22c5L\u22c5k\n",
        "\n",
        "     _____   3/2                   \u239e                                          \n",
        " 2\u22c5\u2572\u2571 A_V \u22c5k\u1d63   \u22c5\u03c1\u22c5wc_thickness    \u239f                                          \n",
        " \u2500\u2500\u2500\u2500\u2500\u2500\u2500\u2500\u2500\u2500\u2500\u2500\u2500\u2500\u2500\u2500\u2500\u2500\u2500\u2500\u2500\u2500\u2500\u2500\u2500\u2500\u2500\u2500\u2500\u2500    \u239f                                          \n",
        "             ___                   \u239f                                          \n",
        "           \u2572\u2571 D \u22c5M_CO              \u239f                                          \n",
        "\u212f                               + 1\u23a0\u22c5Y_b(y)                                   \n",
        "\u2500\u2500\u2500\u2500\u2500\u2500\u2500\u2500\u2500\u2500\u2500\u2500\u2500\u2500\u2500\u2500\u2500\u2500\u2500\u2500\u2500\u2500\u2500\u2500\u2500\u2500\u2500\u2500\u2500\u2500\u2500\u2500\u2500\u2500\u2500\u2500\u2500\u2500\u2500\u2500\u2500\u2500\u2500\u2500\u2500\u2500\u2500\u2500\u2500\u2500\u2500\u2500\u2500\u2500\u2500\u2500\u2500\u2500\u2500\u2500\u2500\u2500\u2500\u2500\u2500\u2500\u2500\u2500\u2500\u2500\u2500\u2500\u2500\u2500\u2500\u2500\u2500\u2500\n",
        "                                     _____   3/2                              \n",
        "                                 2\u22c5\u2572\u2571 A_V \u22c5k\u1d63   \u22c5\u03c1\u22c5wc_thickness               \n",
        "                                 \u2500\u2500\u2500\u2500\u2500\u2500\u2500\u2500\u2500\u2500\u2500\u2500\u2500\u2500\u2500\u2500\u2500\u2500\u2500\u2500\u2500\u2500\u2500\u2500\u2500\u2500\u2500\u2500\u2500\u2500               \n",
        "                                             ___                              \n",
        " 3/2  2     ___                            \u2572\u2571 D \u22c5M_CO               ___       \n",
        "\u1d63   \u22c5\u03c1  + \u2572\u2571 D \u22c5D_b\u22c5M_CO\u22c5Sh\u22c5\u03c1_b\u22c5\u212f                               + \u2572\u2571 D \u22c5D_b\u22c5M_\n",
        "\n",
        "                                                                              \n",
        "                                                                              \n",
        "                                                                              \n",
        "                                                                              \n",
        "                                                                              \n",
        "                                                                            \u2572\u2571\n",
        "\u2500\u2500\u2500\u2500\u2500\u2500\u2500\u2500\u2500 - \u2500\u2500\u2500\u2500\u2500\u2500\u2500\u2500\u2500\u2500\u2500\u2500\u2500\u2500\u2500\u2500\u2500\u2500\u2500\u2500\u2500\u2500\u2500\u2500\u2500\u2500\u2500\u2500\u2500\u2500\u2500\u2500\u2500\u2500\u2500\u2500\u2500\u2500\u2500\u2500\u2500\u2500\u2500\u2500\u2500\u2500\u2500\u2500\u2500\u2500\u2500\u2500\u2500\u2500\u2500\u2500\u2500\u2500\u2500\u2500\u2500\u2500\u2500\u2500\u2500\u2500\n",
        "                                      _____   3/2                             \n",
        "                                  2\u22c5\u2572\u2571 A_V \u22c5k\u1d63   \u22c5\u03c1\u22c5wc_thickness              \n",
        "                                  \u2500\u2500\u2500\u2500\u2500\u2500\u2500\u2500\u2500\u2500\u2500\u2500\u2500\u2500\u2500\u2500\u2500\u2500\u2500\u2500\u2500\u2500\u2500\u2500\u2500\u2500\u2500\u2500\u2500\u2500              \n",
        "                                              ___                             \n",
        "              _____       3/2  2            \u2572\u2571 D \u22c5M_CO               _____    \n",
        "CO\u22c5Sh\u22c5\u03c1_b   \u2572\u2571 A_V \u22c5D\u22c5L\u22c5k\u1d63   \u22c5\u03c1 \u22c5\u212f                               - \u2572\u2571 A_V \u22c5D\u22c5L\n",
        "\n",
        "                                                                              \n",
        "                                                                              \n",
        "                                                                              \n",
        "                                                                              \n",
        "___                                                                           \n",
        " D \u22c5D_b\u22c5M_CO\u22c5Sh\u22c5\u03c1_b\u22c5Y_b(y)                                                    \n",
        "\u2500\u2500\u2500\u2500\u2500\u2500\u2500\u2500\u2500\u2500\u2500\u2500\u2500\u2500\u2500\u2500\u2500\u2500\u2500\u2500\u2500\u2500\u2500\u2500\u2500\u2500\u2500\u2500\u2500\u2500\u2500\u2500\u2500\u2500\u2500\u2500\u2500\u2500\u2500\u2500\u2500\u2500\u2500\u2500\u2500\u2500\u2500\u2500\u2500\u2500\u2500\u2500\u2500\u2500\u2500\u2500\u2500\u2500\u2500\u2500\u2500\u2500\u2500\u2500\u2500\u2500\u2500\u2500\u2500\u2500\u2500\u2500\u2500\u2500\u2500\u2500\u2500\u2500\n",
        "                                       _____   3/2                            \n",
        "                                   2\u22c5\u2572\u2571 A_V \u22c5k\u1d63   \u22c5\u03c1\u22c5wc_thickness             \n",
        "                                   \u2500\u2500\u2500\u2500\u2500\u2500\u2500\u2500\u2500\u2500\u2500\u2500\u2500\u2500\u2500\u2500\u2500\u2500\u2500\u2500\u2500\u2500\u2500\u2500\u2500\u2500\u2500\u2500\u2500\u2500             \n",
        "                                               ___                            \n",
        "   3/2  2     ___                            \u2572\u2571 D \u22c5M_CO               ___     \n",
        "\u22c5k\u1d63   \u22c5\u03c1  + \u2572\u2571 D \u22c5D_b\u22c5M_CO\u22c5Sh\u22c5\u03c1_b\u22c5\u212f                               + \u2572\u2571 D \u22c5D_b\u22c5\n",
        "\n",
        "           \u239e                     \n",
        "           \u239f     _____   3/2     \n",
        "           \u239f  -\u2572\u2571 A_V \u22c5k\u1d63   \u22c5\u03c1\u22c5x \n",
        "           \u239f  \u2500\u2500\u2500\u2500\u2500\u2500\u2500\u2500\u2500\u2500\u2500\u2500\u2500\u2500\u2500\u2500\u2500\u2500\u2500\n",
        "           \u239f         ___         \n",
        "           \u239f       \u2572\u2571 D \u22c5M_CO    \n",
        "\u2500\u2500\u2500\u2500\u2500\u2500\u2500\u2500\u2500\u2500\u2500\u239f\u22c5\u212f                   \n",
        "           \u239f                     \n",
        "           \u239f                     \n",
        "           \u239f                     \n",
        "           \u239f                     \n",
        "           \u239f                     \n",
        "M_CO\u22c5Sh\u22c5\u03c1_b\u23a0                     "
       ]
      }
     ],
     "prompt_number": 17
    },
    {
     "cell_type": "code",
     "collapsed": true,
     "input": [
      "cantera_file = \"/home/vonrickenbach/contrib_git/cantera_tests/washcoat_model/cantera_input.cti\"\n",
      "gas = ca.import_phases(cantera_file,[\"gas\"])[0]\n",
      "interface = ca.Interface(cantera_file,\"pt_surf\",[gas])\n",
      "interface.TPX = (1000,1E5,[1])\n",
      "massfrac = np.array([0.0001,0.0,0.1,0.8999])\n",
      "\n",
      "porosity = 0.3\n",
      "\n",
      "gas.TPY = (1000,1E5,massfrac)\n",
      "wc_thick = 1E-4\n",
      "val_dict = {}\n",
      "\n",
      "cont_diff = gas.mix_diff_coeffs[0]*porosity/2\n",
      "knuds_diff = 1E-7/3.0*np.sqrt(8*ca.gas_constant /(np.pi*0.032))*porosity/2\n",
      "val_dict[D] = 1./(1./knuds_diff+1./cont_diff)\n",
      "val_dict[D_b] = gas.mix_diff_coeffs[0]\n",
      "val_dict[rho] = gas.density\n",
      "val_dict[rho_b] = gas.density\n",
      "val_dict[A_V] = 5.0/wc_thick\n",
      "val_dict[wc_thickness] = wc_thick\n",
      "val_dict[Sh] = 400.0\n",
      "#val_dict[Y_b] = 0.0001\n",
      "val_dict[L] = 100*wc_thick\n",
      "val_dict[k_r] = 1\n",
      "val_dict[M_i] = 0.032\n",
      "val_dict[Delta_H] = interface.delta_enthalpy[0]/1000\n",
      "val_dict[cond] = (gas.thermal_conductivity*porosity+(1.-porosity)*0.05)\n",
      "val_dict[lambda_b] = gas.thermal_conductivity\n",
      "#val_dict[T_b] = 1000\n",
      "sol_simple = part_sol.subs(val_dict)\n",
      "#ext_flux.subs({Y_s:y_s_sol[0]}).rhs.subs(val_dict)\n",
      "#sol_simple = part_sol\n",
      "\n",
      "#ext_flux_T.subs({T_s:T_s_sol[0]}).rhs.subs(val_dict)"
     ],
     "language": "python",
     "metadata": {},
     "outputs": [],
     "prompt_number": 18
    },
    {
     "cell_type": "code",
     "collapsed": false,
     "input": [
      "diffeq_T = sy.Eq(sy.diff(cond *sy.diff(T,x),x)-RR*A_V*Delta_H,0)"
     ],
     "language": "python",
     "metadata": {},
     "outputs": [],
     "prompt_number": 19
    },
    {
     "cell_type": "code",
     "collapsed": false,
     "input": [
      "sol_simple.subs({y:0.005,x:0.0})"
     ],
     "language": "python",
     "metadata": {},
     "outputs": [
      {
       "latex": [
        "$$Y{\\left (0.0 \\right )} = \\frac{4.1530307772742 \\cdot 10^{-5} M_{CO} \\left(e^{\\frac{8.06242418535907}{M_{CO}}} + 1\\right) \\operatorname{Y_{b}}{\\left (0.005 \\right )}}{4.1530307772742 \\cdot 10^{-5} M_{CO} e^{\\frac{8.06242418535907}{M_{CO}}} + 4.1530307772742 \\cdot 10^{-5} M_{CO} + 8.86579864118988 \\cdot 10^{-7} e^{\\frac{8.06242418535907}{M_{CO}}} - 8.86579864118988 \\cdot 10^{-7}}$$"
       ],
       "metadata": {},
       "output_type": "pyout",
       "png": "[encoded data removed]",
       "prompt_number": 20,
       "text": [
        "                                                                     \u239b 8.06242\n",
        "                                                                     \u239c \u2500\u2500\u2500\u2500\u2500\u2500\u2500\n",
        "                                                                     \u239c       M\n",
        "                                             4.1530307772742e-5\u22c5M_CO\u22c5\u239d\u212f       \n",
        "Y(0.0) = \u2500\u2500\u2500\u2500\u2500\u2500\u2500\u2500\u2500\u2500\u2500\u2500\u2500\u2500\u2500\u2500\u2500\u2500\u2500\u2500\u2500\u2500\u2500\u2500\u2500\u2500\u2500\u2500\u2500\u2500\u2500\u2500\u2500\u2500\u2500\u2500\u2500\u2500\u2500\u2500\u2500\u2500\u2500\u2500\u2500\u2500\u2500\u2500\u2500\u2500\u2500\u2500\u2500\u2500\u2500\u2500\u2500\u2500\u2500\u2500\u2500\u2500\u2500\u2500\u2500\u2500\u2500\u2500\u2500\n",
        "                                  8.06242418535907                            \n",
        "                                  \u2500\u2500\u2500\u2500\u2500\u2500\u2500\u2500\u2500\u2500\u2500\u2500\u2500\u2500\u2500\u2500                            \n",
        "                                        M_CO                                  \n",
        "         4.1530307772742e-5\u22c5M_CO\u22c5\u212f                 + 4.1530307772742e-5\u22c5M_CO +\n",
        "\n",
        "418535907    \u239e                                              \n",
        "\u2500\u2500\u2500\u2500\u2500\u2500\u2500\u2500\u2500    \u239f                                              \n",
        "_CO          \u239f                                              \n",
        "          + 1\u23a0\u22c5Y_b(0.005)                                   \n",
        "\u2500\u2500\u2500\u2500\u2500\u2500\u2500\u2500\u2500\u2500\u2500\u2500\u2500\u2500\u2500\u2500\u2500\u2500\u2500\u2500\u2500\u2500\u2500\u2500\u2500\u2500\u2500\u2500\u2500\u2500\u2500\u2500\u2500\u2500\u2500\u2500\u2500\u2500\u2500\u2500\u2500\u2500\u2500\u2500\u2500\u2500\u2500\u2500\u2500\u2500\u2500\u2500\u2500\u2500\u2500\u2500\u2500\u2500\u2500\u2500\n",
        "                      8.06242418535907                      \n",
        "                      \u2500\u2500\u2500\u2500\u2500\u2500\u2500\u2500\u2500\u2500\u2500\u2500\u2500\u2500\u2500\u2500                      \n",
        "                            M_CO                            \n",
        " 8.86579864118988e-7\u22c5\u212f                 - 8.86579864118988e-7"
       ]
      }
     ],
     "prompt_number": 20
    },
    {
     "cell_type": "heading",
     "level": 1,
     "metadata": {},
     "source": [
      "adsfaf"
     ]
    },
    {
     "cell_type": "code",
     "collapsed": false,
     "input": [
      "diffeq_T=diffeq_T.subs({RR:k_r*(rho*y_temp/M_i)*(rho*k_r/M_CO)**2}).subs({y_temp:sol_simple.rhs})\n",
      "sol_T=sy.dsolve(diffeq_T,T)\n"
     ],
     "language": "python",
     "metadata": {},
     "outputs": [
      {
       "ename": "DomainError",
       "evalue": "there is no ring associated with RR",
       "output_type": "pyerr",
       "traceback": [
        "\u001b[1;31m---------------------------------------------------------------------------\u001b[0m\n\u001b[1;31mDomainError\u001b[0m                               Traceback (most recent call last)",
        "\u001b[1;32m<ipython-input-21-c4e07d89d767>\u001b[0m in \u001b[0;36m<module>\u001b[1;34m()\u001b[0m\n\u001b[0;32m      1\u001b[0m \u001b[0mdiffeq_T\u001b[0m\u001b[1;33m=\u001b[0m\u001b[0mdiffeq_T\u001b[0m\u001b[1;33m.\u001b[0m\u001b[0msubs\u001b[0m\u001b[1;33m(\u001b[0m\u001b[1;33m{\u001b[0m\u001b[0mRR\u001b[0m\u001b[1;33m:\u001b[0m\u001b[0mk_r\u001b[0m\u001b[1;33m*\u001b[0m\u001b[1;33m(\u001b[0m\u001b[0mrho\u001b[0m\u001b[1;33m*\u001b[0m\u001b[0my_temp\u001b[0m\u001b[1;33m/\u001b[0m\u001b[0mM_i\u001b[0m\u001b[1;33m)\u001b[0m\u001b[1;33m*\u001b[0m\u001b[1;33m(\u001b[0m\u001b[0mrho\u001b[0m\u001b[1;33m*\u001b[0m\u001b[0mk_r\u001b[0m\u001b[1;33m/\u001b[0m\u001b[0mM_CO\u001b[0m\u001b[1;33m)\u001b[0m\u001b[1;33m**\u001b[0m\u001b[1;36m2\u001b[0m\u001b[1;33m}\u001b[0m\u001b[1;33m)\u001b[0m\u001b[1;33m.\u001b[0m\u001b[0msubs\u001b[0m\u001b[1;33m(\u001b[0m\u001b[1;33m{\u001b[0m\u001b[0my_temp\u001b[0m\u001b[1;33m:\u001b[0m\u001b[0msol_simple\u001b[0m\u001b[1;33m.\u001b[0m\u001b[0mrhs\u001b[0m\u001b[1;33m}\u001b[0m\u001b[1;33m)\u001b[0m\u001b[1;33m\u001b[0m\u001b[0m\n\u001b[1;32m----> 2\u001b[1;33m \u001b[0msol_T\u001b[0m\u001b[1;33m=\u001b[0m\u001b[0msy\u001b[0m\u001b[1;33m.\u001b[0m\u001b[0mdsolve\u001b[0m\u001b[1;33m(\u001b[0m\u001b[0mdiffeq_T\u001b[0m\u001b[1;33m,\u001b[0m\u001b[0mT\u001b[0m\u001b[1;33m)\u001b[0m\u001b[1;33m\u001b[0m\u001b[0m\n\u001b[0m",
        "\u001b[1;32m/usr/local/lib/python2.7/dist-packages/sympy/solvers/ode.py\u001b[0m in \u001b[0;36mdsolve\u001b[1;34m(eq, func, hint, simplify, ics, xi, eta, x0, n, **kwargs)\u001b[0m\n\u001b[0;32m    557\u001b[0m         \u001b[1;31m# The key 'hint' stores the hint needed to be solved for.\u001b[0m\u001b[1;33m\u001b[0m\u001b[1;33m\u001b[0m\u001b[0m\n\u001b[0;32m    558\u001b[0m         \u001b[0mhint\u001b[0m \u001b[1;33m=\u001b[0m \u001b[0mhints\u001b[0m\u001b[1;33m[\u001b[0m\u001b[1;34m'hint'\u001b[0m\u001b[1;33m]\u001b[0m\u001b[1;33m\u001b[0m\u001b[0m\n\u001b[1;32m--> 559\u001b[1;33m         \u001b[1;32mreturn\u001b[0m \u001b[0m_helper_simplify\u001b[0m\u001b[1;33m(\u001b[0m\u001b[0meq\u001b[0m\u001b[1;33m,\u001b[0m \u001b[0mhint\u001b[0m\u001b[1;33m,\u001b[0m \u001b[0mhints\u001b[0m\u001b[1;33m,\u001b[0m \u001b[0msimplify\u001b[0m\u001b[1;33m)\u001b[0m\u001b[1;33m\u001b[0m\u001b[0m\n\u001b[0m\u001b[0;32m    560\u001b[0m \u001b[1;33m\u001b[0m\u001b[0m\n\u001b[0;32m    561\u001b[0m \u001b[1;32mdef\u001b[0m \u001b[0m_helper_simplify\u001b[0m\u001b[1;33m(\u001b[0m\u001b[0meq\u001b[0m\u001b[1;33m,\u001b[0m \u001b[0mhint\u001b[0m\u001b[1;33m,\u001b[0m \u001b[0mmatch\u001b[0m\u001b[1;33m,\u001b[0m \u001b[0msimplify\u001b[0m\u001b[1;33m=\u001b[0m\u001b[0mTrue\u001b[0m\u001b[1;33m,\u001b[0m \u001b[1;33m**\u001b[0m\u001b[0mkwargs\u001b[0m\u001b[1;33m)\u001b[0m\u001b[1;33m:\u001b[0m\u001b[1;33m\u001b[0m\u001b[0m\n",
        "\u001b[1;32m/usr/local/lib/python2.7/dist-packages/sympy/solvers/ode.py\u001b[0m in \u001b[0;36m_helper_simplify\u001b[1;34m(eq, hint, match, simplify, **kwargs)\u001b[0m\n\u001b[0;32m    579\u001b[0m         \u001b[1;31m# attempt to solve for func, and apply any other hint specific\u001b[0m\u001b[1;33m\u001b[0m\u001b[1;33m\u001b[0m\u001b[0m\n\u001b[0;32m    580\u001b[0m         \u001b[1;31m# simplifications\u001b[0m\u001b[1;33m\u001b[0m\u001b[1;33m\u001b[0m\u001b[0m\n\u001b[1;32m--> 581\u001b[1;33m         \u001b[0mrv\u001b[0m \u001b[1;33m=\u001b[0m \u001b[0modesimp\u001b[0m\u001b[1;33m(\u001b[0m\u001b[0msolvefunc\u001b[0m\u001b[1;33m(\u001b[0m\u001b[0meq\u001b[0m\u001b[1;33m,\u001b[0m \u001b[0mfunc\u001b[0m\u001b[1;33m,\u001b[0m \u001b[0morder\u001b[0m\u001b[1;33m,\u001b[0m \u001b[0mmatch\u001b[0m\u001b[1;33m)\u001b[0m\u001b[1;33m,\u001b[0m \u001b[0mfunc\u001b[0m\u001b[1;33m,\u001b[0m \u001b[0morder\u001b[0m\u001b[1;33m,\u001b[0m \u001b[0mhint\u001b[0m\u001b[1;33m)\u001b[0m\u001b[1;33m\u001b[0m\u001b[0m\n\u001b[0m\u001b[0;32m    582\u001b[0m         \u001b[1;32mreturn\u001b[0m \u001b[0mrv\u001b[0m\u001b[1;33m\u001b[0m\u001b[0m\n\u001b[0;32m    583\u001b[0m     \u001b[1;32melse\u001b[0m\u001b[1;33m:\u001b[0m\u001b[1;33m\u001b[0m\u001b[0m\n",
        "\u001b[1;32m/usr/local/lib/python2.7/dist-packages/sympy/core/multidimensional.py\u001b[0m in \u001b[0;36mwrapper\u001b[1;34m(*args, **kwargs)\u001b[0m\n\u001b[0;32m    135\u001b[0m                     \u001b[0mresult\u001b[0m \u001b[1;33m=\u001b[0m \u001b[0mapply_on_element\u001b[0m\u001b[1;33m(\u001b[0m\u001b[0mwrapper\u001b[0m\u001b[1;33m,\u001b[0m \u001b[0margs\u001b[0m\u001b[1;33m,\u001b[0m \u001b[0mkwargs\u001b[0m\u001b[1;33m,\u001b[0m \u001b[0mn\u001b[0m\u001b[1;33m)\u001b[0m\u001b[1;33m\u001b[0m\u001b[0m\n\u001b[0;32m    136\u001b[0m                     \u001b[1;32mreturn\u001b[0m \u001b[0mresult\u001b[0m\u001b[1;33m\u001b[0m\u001b[0m\n\u001b[1;32m--> 137\u001b[1;33m             \u001b[1;32mreturn\u001b[0m \u001b[0mf\u001b[0m\u001b[1;33m(\u001b[0m\u001b[1;33m*\u001b[0m\u001b[0margs\u001b[0m\u001b[1;33m,\u001b[0m \u001b[1;33m**\u001b[0m\u001b[0mkwargs\u001b[0m\u001b[1;33m)\u001b[0m\u001b[1;33m\u001b[0m\u001b[0m\n\u001b[0m\u001b[0;32m    138\u001b[0m         \u001b[1;32mreturn\u001b[0m \u001b[0mwrapper\u001b[0m\u001b[1;33m\u001b[0m\u001b[0m\n",
        "\u001b[1;32m/usr/local/lib/python2.7/dist-packages/sympy/solvers/ode.py\u001b[0m in \u001b[0;36modesimp\u001b[1;34m(eq, func, order, hint)\u001b[0m\n\u001b[0;32m   1226\u001b[0m \u001b[1;33m\u001b[0m\u001b[0m\n\u001b[0;32m   1227\u001b[0m     \u001b[1;31m# First, integrate if the hint allows it.\u001b[0m\u001b[1;33m\u001b[0m\u001b[1;33m\u001b[0m\u001b[0m\n\u001b[1;32m-> 1228\u001b[1;33m     \u001b[0meq\u001b[0m \u001b[1;33m=\u001b[0m \u001b[0m_handle_Integral\u001b[0m\u001b[1;33m(\u001b[0m\u001b[0meq\u001b[0m\u001b[1;33m,\u001b[0m \u001b[0mfunc\u001b[0m\u001b[1;33m,\u001b[0m \u001b[0morder\u001b[0m\u001b[1;33m,\u001b[0m \u001b[0mhint\u001b[0m\u001b[1;33m)\u001b[0m\u001b[1;33m\u001b[0m\u001b[0m\n\u001b[0m\u001b[0;32m   1229\u001b[0m     \u001b[1;32mif\u001b[0m \u001b[1;32mnot\u001b[0m \u001b[0misinstance\u001b[0m\u001b[1;33m(\u001b[0m\u001b[0meq\u001b[0m\u001b[1;33m,\u001b[0m \u001b[0mEquality\u001b[0m\u001b[1;33m)\u001b[0m\u001b[1;33m:\u001b[0m\u001b[1;33m\u001b[0m\u001b[0m\n\u001b[0;32m   1230\u001b[0m         \u001b[1;32mraise\u001b[0m \u001b[0mTypeError\u001b[0m\u001b[1;33m(\u001b[0m\u001b[1;34m\"eq should be an instance of Equality\"\u001b[0m\u001b[1;33m)\u001b[0m\u001b[1;33m\u001b[0m\u001b[0m\n",
        "\u001b[1;32m/usr/local/lib/python2.7/dist-packages/sympy/solvers/ode.py\u001b[0m in \u001b[0;36m_handle_Integral\u001b[1;34m(expr, func, order, hint)\u001b[0m\n\u001b[0;32m   2036\u001b[0m         \u001b[0msol\u001b[0m \u001b[1;33m=\u001b[0m \u001b[0mexpr\u001b[0m\u001b[1;33m\u001b[0m\u001b[0m\n\u001b[0;32m   2037\u001b[0m     \u001b[1;32melif\u001b[0m \u001b[1;32mnot\u001b[0m \u001b[0mhint\u001b[0m\u001b[1;33m.\u001b[0m\u001b[0mendswith\u001b[0m\u001b[1;33m(\u001b[0m\u001b[1;34m\"_Integral\"\u001b[0m\u001b[1;33m)\u001b[0m\u001b[1;33m:\u001b[0m\u001b[1;33m\u001b[0m\u001b[0m\n\u001b[1;32m-> 2038\u001b[1;33m         \u001b[0msol\u001b[0m \u001b[1;33m=\u001b[0m \u001b[0mexpr\u001b[0m\u001b[1;33m.\u001b[0m\u001b[0mdoit\u001b[0m\u001b[1;33m(\u001b[0m\u001b[1;33m)\u001b[0m\u001b[1;33m\u001b[0m\u001b[0m\n\u001b[0m\u001b[0;32m   2039\u001b[0m     \u001b[1;32melse\u001b[0m\u001b[1;33m:\u001b[0m\u001b[1;33m\u001b[0m\u001b[0m\n\u001b[0;32m   2040\u001b[0m         \u001b[0msol\u001b[0m \u001b[1;33m=\u001b[0m \u001b[0mexpr\u001b[0m\u001b[1;33m\u001b[0m\u001b[0m\n",
        "\u001b[1;32m/usr/local/lib/python2.7/dist-packages/sympy/core/relational.py\u001b[0m in \u001b[0;36mdoit\u001b[1;34m(self, **hints)\u001b[0m\n\u001b[0;32m     97\u001b[0m         \u001b[1;32mif\u001b[0m \u001b[0mhints\u001b[0m\u001b[1;33m.\u001b[0m\u001b[0mget\u001b[0m\u001b[1;33m(\u001b[0m\u001b[1;34m'deep'\u001b[0m\u001b[1;33m,\u001b[0m \u001b[0mTrue\u001b[0m\u001b[1;33m)\u001b[0m\u001b[1;33m:\u001b[0m\u001b[1;33m\u001b[0m\u001b[0m\n\u001b[0;32m     98\u001b[0m             \u001b[0mlhs\u001b[0m \u001b[1;33m=\u001b[0m \u001b[0mlhs\u001b[0m\u001b[1;33m.\u001b[0m\u001b[0mdoit\u001b[0m\u001b[1;33m(\u001b[0m\u001b[1;33m**\u001b[0m\u001b[0mhints\u001b[0m\u001b[1;33m)\u001b[0m\u001b[1;33m\u001b[0m\u001b[0m\n\u001b[1;32m---> 99\u001b[1;33m             \u001b[0mrhs\u001b[0m \u001b[1;33m=\u001b[0m \u001b[0mrhs\u001b[0m\u001b[1;33m.\u001b[0m\u001b[0mdoit\u001b[0m\u001b[1;33m(\u001b[0m\u001b[1;33m**\u001b[0m\u001b[0mhints\u001b[0m\u001b[1;33m)\u001b[0m\u001b[1;33m\u001b[0m\u001b[0m\n\u001b[0m\u001b[0;32m    100\u001b[0m         \u001b[1;32mreturn\u001b[0m \u001b[0mself\u001b[0m\u001b[1;33m.\u001b[0m\u001b[0m_eval_relation_doit\u001b[0m\u001b[1;33m(\u001b[0m\u001b[0mlhs\u001b[0m\u001b[1;33m,\u001b[0m \u001b[0mrhs\u001b[0m\u001b[1;33m)\u001b[0m\u001b[1;33m\u001b[0m\u001b[0m\n\u001b[0;32m    101\u001b[0m \u001b[1;33m\u001b[0m\u001b[0m\n",
        "\u001b[1;32m/usr/local/lib/python2.7/dist-packages/sympy/core/basic.py\u001b[0m in \u001b[0;36mdoit\u001b[1;34m(self, **hints)\u001b[0m\n\u001b[0;32m   1598\u001b[0m         \u001b[1;32mif\u001b[0m \u001b[0mhints\u001b[0m\u001b[1;33m.\u001b[0m\u001b[0mget\u001b[0m\u001b[1;33m(\u001b[0m\u001b[1;34m'deep'\u001b[0m\u001b[1;33m,\u001b[0m \u001b[0mTrue\u001b[0m\u001b[1;33m)\u001b[0m\u001b[1;33m:\u001b[0m\u001b[1;33m\u001b[0m\u001b[0m\n\u001b[0;32m   1599\u001b[0m             terms = [ term.doit(**hints) if isinstance(term, Basic) else term\n\u001b[1;32m-> 1600\u001b[1;33m                                          for term in self.args ]\n\u001b[0m\u001b[0;32m   1601\u001b[0m             \u001b[1;32mreturn\u001b[0m \u001b[0mself\u001b[0m\u001b[1;33m.\u001b[0m\u001b[0mfunc\u001b[0m\u001b[1;33m(\u001b[0m\u001b[1;33m*\u001b[0m\u001b[0mterms\u001b[0m\u001b[1;33m)\u001b[0m\u001b[1;33m\u001b[0m\u001b[0m\n\u001b[0;32m   1602\u001b[0m         \u001b[1;32melse\u001b[0m\u001b[1;33m:\u001b[0m\u001b[1;33m\u001b[0m\u001b[0m\n",
        "\u001b[1;32m/usr/local/lib/python2.7/dist-packages/sympy/core/basic.py\u001b[0m in \u001b[0;36mdoit\u001b[1;34m(self, **hints)\u001b[0m\n\u001b[0;32m   1598\u001b[0m         \u001b[1;32mif\u001b[0m \u001b[0mhints\u001b[0m\u001b[1;33m.\u001b[0m\u001b[0mget\u001b[0m\u001b[1;33m(\u001b[0m\u001b[1;34m'deep'\u001b[0m\u001b[1;33m,\u001b[0m \u001b[0mTrue\u001b[0m\u001b[1;33m)\u001b[0m\u001b[1;33m:\u001b[0m\u001b[1;33m\u001b[0m\u001b[0m\n\u001b[0;32m   1599\u001b[0m             terms = [ term.doit(**hints) if isinstance(term, Basic) else term\n\u001b[1;32m-> 1600\u001b[1;33m                                          for term in self.args ]\n\u001b[0m\u001b[0;32m   1601\u001b[0m             \u001b[1;32mreturn\u001b[0m \u001b[0mself\u001b[0m\u001b[1;33m.\u001b[0m\u001b[0mfunc\u001b[0m\u001b[1;33m(\u001b[0m\u001b[1;33m*\u001b[0m\u001b[0mterms\u001b[0m\u001b[1;33m)\u001b[0m\u001b[1;33m\u001b[0m\u001b[0m\n\u001b[0;32m   1602\u001b[0m         \u001b[1;32melse\u001b[0m\u001b[1;33m:\u001b[0m\u001b[1;33m\u001b[0m\u001b[0m\n",
        "\u001b[1;32m/usr/local/lib/python2.7/dist-packages/sympy/core/basic.py\u001b[0m in \u001b[0;36mdoit\u001b[1;34m(self, **hints)\u001b[0m\n\u001b[0;32m   1598\u001b[0m         \u001b[1;32mif\u001b[0m \u001b[0mhints\u001b[0m\u001b[1;33m.\u001b[0m\u001b[0mget\u001b[0m\u001b[1;33m(\u001b[0m\u001b[1;34m'deep'\u001b[0m\u001b[1;33m,\u001b[0m \u001b[0mTrue\u001b[0m\u001b[1;33m)\u001b[0m\u001b[1;33m:\u001b[0m\u001b[1;33m\u001b[0m\u001b[0m\n\u001b[0;32m   1599\u001b[0m             terms = [ term.doit(**hints) if isinstance(term, Basic) else term\n\u001b[1;32m-> 1600\u001b[1;33m                                          for term in self.args ]\n\u001b[0m\u001b[0;32m   1601\u001b[0m             \u001b[1;32mreturn\u001b[0m \u001b[0mself\u001b[0m\u001b[1;33m.\u001b[0m\u001b[0mfunc\u001b[0m\u001b[1;33m(\u001b[0m\u001b[1;33m*\u001b[0m\u001b[0mterms\u001b[0m\u001b[1;33m)\u001b[0m\u001b[1;33m\u001b[0m\u001b[0m\n\u001b[0;32m   1602\u001b[0m         \u001b[1;32melse\u001b[0m\u001b[1;33m:\u001b[0m\u001b[1;33m\u001b[0m\u001b[0m\n",
        "\u001b[1;32m/usr/local/lib/python2.7/dist-packages/sympy/core/basic.py\u001b[0m in \u001b[0;36mdoit\u001b[1;34m(self, **hints)\u001b[0m\n\u001b[0;32m   1598\u001b[0m         \u001b[1;32mif\u001b[0m \u001b[0mhints\u001b[0m\u001b[1;33m.\u001b[0m\u001b[0mget\u001b[0m\u001b[1;33m(\u001b[0m\u001b[1;34m'deep'\u001b[0m\u001b[1;33m,\u001b[0m \u001b[0mTrue\u001b[0m\u001b[1;33m)\u001b[0m\u001b[1;33m:\u001b[0m\u001b[1;33m\u001b[0m\u001b[0m\n\u001b[0;32m   1599\u001b[0m             terms = [ term.doit(**hints) if isinstance(term, Basic) else term\n\u001b[1;32m-> 1600\u001b[1;33m                                          for term in self.args ]\n\u001b[0m\u001b[0;32m   1601\u001b[0m             \u001b[1;32mreturn\u001b[0m \u001b[0mself\u001b[0m\u001b[1;33m.\u001b[0m\u001b[0mfunc\u001b[0m\u001b[1;33m(\u001b[0m\u001b[1;33m*\u001b[0m\u001b[0mterms\u001b[0m\u001b[1;33m)\u001b[0m\u001b[1;33m\u001b[0m\u001b[0m\n\u001b[0;32m   1602\u001b[0m         \u001b[1;32melse\u001b[0m\u001b[1;33m:\u001b[0m\u001b[1;33m\u001b[0m\u001b[0m\n",
        "\u001b[1;32m/usr/local/lib/python2.7/dist-packages/sympy/integrals/integrals.py\u001b[0m in \u001b[0;36mdoit\u001b[1;34m(self, **hints)\u001b[0m\n\u001b[0;32m    553\u001b[0m                     \u001b[0mfunction\u001b[0m\u001b[1;33m,\u001b[0m \u001b[0mxab\u001b[0m\u001b[1;33m[\u001b[0m\u001b[1;36m0\u001b[0m\u001b[1;33m]\u001b[0m\u001b[1;33m,\u001b[0m\u001b[1;33m\u001b[0m\u001b[0m\n\u001b[0;32m    554\u001b[0m                     \u001b[0mmeijerg\u001b[0m\u001b[1;33m=\u001b[0m\u001b[0mmeijerg1\u001b[0m\u001b[1;33m,\u001b[0m \u001b[0mrisch\u001b[0m\u001b[1;33m=\u001b[0m\u001b[0mrisch\u001b[0m\u001b[1;33m,\u001b[0m \u001b[0mmanual\u001b[0m\u001b[1;33m=\u001b[0m\u001b[0mmanual\u001b[0m\u001b[1;33m,\u001b[0m\u001b[1;33m\u001b[0m\u001b[0m\n\u001b[1;32m--> 555\u001b[1;33m                     conds=conds)\n\u001b[0m\u001b[0;32m    556\u001b[0m                 \u001b[1;32mif\u001b[0m \u001b[0mantideriv\u001b[0m \u001b[1;32mis\u001b[0m \u001b[0mNone\u001b[0m \u001b[1;32mand\u001b[0m \u001b[0mmeijerg1\u001b[0m \u001b[1;32mis\u001b[0m \u001b[0mTrue\u001b[0m\u001b[1;33m:\u001b[0m\u001b[1;33m\u001b[0m\u001b[0m\n\u001b[0;32m    557\u001b[0m                     \u001b[0mret\u001b[0m \u001b[1;33m=\u001b[0m \u001b[0mtry_meijerg\u001b[0m\u001b[1;33m(\u001b[0m\u001b[0mfunction\u001b[0m\u001b[1;33m,\u001b[0m \u001b[0mxab\u001b[0m\u001b[1;33m)\u001b[0m\u001b[1;33m\u001b[0m\u001b[0m\n",
        "\u001b[1;32m/usr/local/lib/python2.7/dist-packages/sympy/integrals/integrals.py\u001b[0m in \u001b[0;36m_eval_integral\u001b[1;34m(self, f, x, meijerg, risch, manual, conds)\u001b[0m\n\u001b[0;32m    809\u001b[0m         \u001b[1;32mif\u001b[0m \u001b[0mrisch\u001b[0m \u001b[1;32mis\u001b[0m \u001b[1;32mnot\u001b[0m \u001b[0mFalse\u001b[0m\u001b[1;33m:\u001b[0m\u001b[1;33m\u001b[0m\u001b[0m\n\u001b[0;32m    810\u001b[0m             \u001b[1;32mtry\u001b[0m\u001b[1;33m:\u001b[0m\u001b[1;33m\u001b[0m\u001b[0m\n\u001b[1;32m--> 811\u001b[1;33m                 \u001b[0mresult\u001b[0m\u001b[1;33m,\u001b[0m \u001b[0mi\u001b[0m \u001b[1;33m=\u001b[0m \u001b[0mrisch_integrate\u001b[0m\u001b[1;33m(\u001b[0m\u001b[0mf\u001b[0m\u001b[1;33m,\u001b[0m \u001b[0mx\u001b[0m\u001b[1;33m,\u001b[0m \u001b[0mseparate_integral\u001b[0m\u001b[1;33m=\u001b[0m\u001b[0mTrue\u001b[0m\u001b[1;33m,\u001b[0m \u001b[0mconds\u001b[0m\u001b[1;33m=\u001b[0m\u001b[0mconds\u001b[0m\u001b[1;33m)\u001b[0m\u001b[1;33m\u001b[0m\u001b[0m\n\u001b[0m\u001b[0;32m    812\u001b[0m             \u001b[1;32mexcept\u001b[0m \u001b[0mNotImplementedError\u001b[0m\u001b[1;33m:\u001b[0m\u001b[1;33m\u001b[0m\u001b[0m\n\u001b[0;32m    813\u001b[0m                 \u001b[1;32mpass\u001b[0m\u001b[1;33m\u001b[0m\u001b[0m\n",
        "\u001b[1;32m/usr/local/lib/python2.7/dist-packages/sympy/integrals/risch.py\u001b[0m in \u001b[0;36mrisch_integrate\u001b[1;34m(f, x, extension, handle_first, separate_integral, rewrite_complex, conds)\u001b[0m\n\u001b[0;32m   1663\u001b[0m     \u001b[0mf\u001b[0m \u001b[1;33m=\u001b[0m \u001b[0mS\u001b[0m\u001b[1;33m(\u001b[0m\u001b[0mf\u001b[0m\u001b[1;33m)\u001b[0m\u001b[1;33m\u001b[0m\u001b[0m\n\u001b[0;32m   1664\u001b[0m \u001b[1;33m\u001b[0m\u001b[0m\n\u001b[1;32m-> 1665\u001b[1;33m     \u001b[0mDE\u001b[0m \u001b[1;33m=\u001b[0m \u001b[0mextension\u001b[0m \u001b[1;32mor\u001b[0m \u001b[0mDifferentialExtension\u001b[0m\u001b[1;33m(\u001b[0m\u001b[0mf\u001b[0m\u001b[1;33m,\u001b[0m \u001b[0mx\u001b[0m\u001b[1;33m,\u001b[0m \u001b[0mhandle_first\u001b[0m\u001b[1;33m=\u001b[0m\u001b[0mhandle_first\u001b[0m\u001b[1;33m,\u001b[0m \u001b[0mrewrite_complex\u001b[0m\u001b[1;33m=\u001b[0m\u001b[0mrewrite_complex\u001b[0m\u001b[1;33m)\u001b[0m\u001b[1;33m\u001b[0m\u001b[0m\n\u001b[0m\u001b[0;32m   1666\u001b[0m     \u001b[0mfa\u001b[0m\u001b[1;33m,\u001b[0m \u001b[0mfd\u001b[0m \u001b[1;33m=\u001b[0m \u001b[0mDE\u001b[0m\u001b[1;33m.\u001b[0m\u001b[0mfa\u001b[0m\u001b[1;33m,\u001b[0m \u001b[0mDE\u001b[0m\u001b[1;33m.\u001b[0m\u001b[0mfd\u001b[0m\u001b[1;33m\u001b[0m\u001b[0m\n\u001b[0;32m   1667\u001b[0m \u001b[1;33m\u001b[0m\u001b[0m\n",
        "\u001b[1;32m/usr/local/lib/python2.7/dist-packages/sympy/integrals/risch.py\u001b[0m in \u001b[0;36m__init__\u001b[1;34m(self, f, x, handle_first, dummy, extension, rewrite_complex)\u001b[0m\n\u001b[0;32m    381\u001b[0m \u001b[1;33m\u001b[0m\u001b[0m\n\u001b[0;32m    382\u001b[0m             \u001b[1;32mif\u001b[0m \u001b[0mhandle_first\u001b[0m \u001b[1;33m==\u001b[0m \u001b[1;34m'exp'\u001b[0m \u001b[1;32mor\u001b[0m \u001b[1;32mnot\u001b[0m \u001b[0mlog_new_extension\u001b[0m\u001b[1;33m:\u001b[0m\u001b[1;33m\u001b[0m\u001b[0m\n\u001b[1;32m--> 383\u001b[1;33m                 \u001b[0mexp_new_extension\u001b[0m \u001b[1;33m=\u001b[0m \u001b[0mself\u001b[0m\u001b[1;33m.\u001b[0m\u001b[0m_exp_part\u001b[0m\u001b[1;33m(\u001b[0m\u001b[0mexps\u001b[0m\u001b[1;33m,\u001b[0m \u001b[0mdummy\u001b[0m\u001b[1;33m=\u001b[0m\u001b[0mdummy\u001b[0m\u001b[1;33m)\u001b[0m\u001b[1;33m\u001b[0m\u001b[0m\n\u001b[0m\u001b[0;32m    384\u001b[0m                 \u001b[1;32mif\u001b[0m \u001b[0mexp_new_extension\u001b[0m \u001b[1;32mis\u001b[0m \u001b[0mNone\u001b[0m\u001b[1;33m:\u001b[0m\u001b[1;33m\u001b[0m\u001b[0m\n\u001b[0;32m    385\u001b[0m                     \u001b[1;31m# reset and restart\u001b[0m\u001b[1;33m\u001b[0m\u001b[1;33m\u001b[0m\u001b[0m\n",
        "\u001b[1;32m/usr/local/lib/python2.7/dist-packages/sympy/integrals/risch.py\u001b[0m in \u001b[0;36m_exp_part\u001b[1;34m(self, exps, dummy)\u001b[0m\n\u001b[0;32m    440\u001b[0m \u001b[1;33m\u001b[0m\u001b[0m\n\u001b[0;32m    441\u001b[0m             \u001b[0marga\u001b[0m\u001b[1;33m,\u001b[0m \u001b[0margd\u001b[0m \u001b[1;33m=\u001b[0m \u001b[0mfrac_in\u001b[0m\u001b[1;33m(\u001b[0m\u001b[0marg\u001b[0m\u001b[1;33m,\u001b[0m \u001b[0mself\u001b[0m\u001b[1;33m.\u001b[0m\u001b[0mt\u001b[0m\u001b[1;33m)\u001b[0m\u001b[1;33m\u001b[0m\u001b[0m\n\u001b[1;32m--> 442\u001b[1;33m             \u001b[0mA\u001b[0m \u001b[1;33m=\u001b[0m \u001b[0mis_log_deriv_k_t_radical\u001b[0m\u001b[1;33m(\u001b[0m\u001b[0marga\u001b[0m\u001b[1;33m,\u001b[0m \u001b[0margd\u001b[0m\u001b[1;33m,\u001b[0m \u001b[0mself\u001b[0m\u001b[1;33m)\u001b[0m\u001b[1;33m\u001b[0m\u001b[0m\n\u001b[0m\u001b[0;32m    443\u001b[0m \u001b[1;33m\u001b[0m\u001b[0m\n\u001b[0;32m    444\u001b[0m             \u001b[1;32mif\u001b[0m \u001b[0mA\u001b[0m \u001b[1;32mis\u001b[0m \u001b[1;32mnot\u001b[0m \u001b[0mNone\u001b[0m\u001b[1;33m:\u001b[0m\u001b[1;33m\u001b[0m\u001b[0m\n",
        "\u001b[1;32m/usr/local/lib/python2.7/dist-packages/sympy/integrals/prde.py\u001b[0m in \u001b[0;36mis_log_deriv_k_t_radical\u001b[1;34m(fa, fd, DE, Df)\u001b[0m\n\u001b[0;32m    734\u001b[0m     \u001b[0mH\u001b[0m \u001b[1;33m=\u001b[0m \u001b[1;33m[\u001b[0m\u001b[1;33m]\u001b[0m\u001b[1;33m\u001b[0m\u001b[0m\n\u001b[0;32m    735\u001b[0m     \u001b[1;32mif\u001b[0m \u001b[0mDf\u001b[0m\u001b[1;33m:\u001b[0m\u001b[1;33m\u001b[0m\u001b[0m\n\u001b[1;32m--> 736\u001b[1;33m         dfa, dfd = (fd*derivation(fa, DE) - fa*derivation(fd, DE)).cancel(fd**2,\n\u001b[0m\u001b[0;32m    737\u001b[0m             include=True)\n\u001b[0;32m    738\u001b[0m     \u001b[1;32melse\u001b[0m\u001b[1;33m:\u001b[0m\u001b[1;33m\u001b[0m\u001b[0m\n",
        "\u001b[1;32m/usr/local/lib/python2.7/dist-packages/sympy/core/decorators.py\u001b[0m in \u001b[0;36m__sympifyit_wrapper\u001b[1;34m(a, b)\u001b[0m\n\u001b[0;32m     75\u001b[0m                 \u001b[1;32mif\u001b[0m \u001b[1;32mnot\u001b[0m \u001b[0mhasattr\u001b[0m\u001b[1;33m(\u001b[0m\u001b[0mb\u001b[0m\u001b[1;33m,\u001b[0m \u001b[1;34m'_op_priority'\u001b[0m\u001b[1;33m)\u001b[0m\u001b[1;33m:\u001b[0m\u001b[1;33m\u001b[0m\u001b[0m\n\u001b[0;32m     76\u001b[0m                     \u001b[0mb\u001b[0m \u001b[1;33m=\u001b[0m \u001b[0msympify\u001b[0m\u001b[1;33m(\u001b[0m\u001b[0mb\u001b[0m\u001b[1;33m,\u001b[0m \u001b[0mstrict\u001b[0m\u001b[1;33m=\u001b[0m\u001b[0mTrue\u001b[0m\u001b[1;33m)\u001b[0m\u001b[1;33m\u001b[0m\u001b[0m\n\u001b[1;32m---> 77\u001b[1;33m                 \u001b[1;32mreturn\u001b[0m \u001b[0mfunc\u001b[0m\u001b[1;33m(\u001b[0m\u001b[0ma\u001b[0m\u001b[1;33m,\u001b[0m \u001b[0mb\u001b[0m\u001b[1;33m)\u001b[0m\u001b[1;33m\u001b[0m\u001b[0m\n\u001b[0m\u001b[0;32m     78\u001b[0m             \u001b[1;32mexcept\u001b[0m \u001b[0mSympifyError\u001b[0m\u001b[1;33m:\u001b[0m\u001b[1;33m\u001b[0m\u001b[0m\n\u001b[0;32m     79\u001b[0m                 \u001b[1;32mreturn\u001b[0m \u001b[0mretval\u001b[0m\u001b[1;33m\u001b[0m\u001b[0m\n",
        "\u001b[1;32m/usr/local/lib/python2.7/dist-packages/sympy/polys/polytools.py\u001b[0m in \u001b[0;36m__mul__\u001b[1;34m(f, g)\u001b[0m\n\u001b[0;32m   3842\u001b[0m                 \u001b[1;32mreturn\u001b[0m \u001b[0mf\u001b[0m\u001b[1;33m.\u001b[0m\u001b[0mas_expr\u001b[0m\u001b[1;33m(\u001b[0m\u001b[1;33m)\u001b[0m\u001b[1;33m*\u001b[0m\u001b[0mg\u001b[0m\u001b[1;33m\u001b[0m\u001b[0m\n\u001b[0;32m   3843\u001b[0m \u001b[1;33m\u001b[0m\u001b[0m\n\u001b[1;32m-> 3844\u001b[1;33m         \u001b[1;32mreturn\u001b[0m \u001b[0mf\u001b[0m\u001b[1;33m.\u001b[0m\u001b[0mmul\u001b[0m\u001b[1;33m(\u001b[0m\u001b[0mg\u001b[0m\u001b[1;33m)\u001b[0m\u001b[1;33m\u001b[0m\u001b[0m\n\u001b[0m\u001b[0;32m   3845\u001b[0m \u001b[1;33m\u001b[0m\u001b[0m\n\u001b[0;32m   3846\u001b[0m     \u001b[1;33m@\u001b[0m\u001b[0m_sympifyit\u001b[0m\u001b[1;33m(\u001b[0m\u001b[1;34m'g'\u001b[0m\u001b[1;33m,\u001b[0m \u001b[0mNotImplemented\u001b[0m\u001b[1;33m)\u001b[0m\u001b[1;33m\u001b[0m\u001b[0m\n",
        "\u001b[1;32m/usr/local/lib/python2.7/dist-packages/sympy/polys/polytools.py\u001b[0m in \u001b[0;36mmul\u001b[1;34m(f, g)\u001b[0m\n\u001b[0;32m   1347\u001b[0m             \u001b[1;32mreturn\u001b[0m \u001b[0mf\u001b[0m\u001b[1;33m.\u001b[0m\u001b[0mmul_ground\u001b[0m\u001b[1;33m(\u001b[0m\u001b[0mg\u001b[0m\u001b[1;33m)\u001b[0m\u001b[1;33m\u001b[0m\u001b[0m\n\u001b[0;32m   1348\u001b[0m \u001b[1;33m\u001b[0m\u001b[0m\n\u001b[1;32m-> 1349\u001b[1;33m         \u001b[0m_\u001b[0m\u001b[1;33m,\u001b[0m \u001b[0mper\u001b[0m\u001b[1;33m,\u001b[0m \u001b[0mF\u001b[0m\u001b[1;33m,\u001b[0m \u001b[0mG\u001b[0m \u001b[1;33m=\u001b[0m \u001b[0mf\u001b[0m\u001b[1;33m.\u001b[0m\u001b[0m_unify\u001b[0m\u001b[1;33m(\u001b[0m\u001b[0mg\u001b[0m\u001b[1;33m)\u001b[0m\u001b[1;33m\u001b[0m\u001b[0m\n\u001b[0m\u001b[0;32m   1350\u001b[0m \u001b[1;33m\u001b[0m\u001b[0m\n\u001b[0;32m   1351\u001b[0m         \u001b[1;32mif\u001b[0m \u001b[0mhasattr\u001b[0m\u001b[1;33m(\u001b[0m\u001b[0mf\u001b[0m\u001b[1;33m.\u001b[0m\u001b[0mrep\u001b[0m\u001b[1;33m,\u001b[0m \u001b[1;34m'mul'\u001b[0m\u001b[1;33m)\u001b[0m\u001b[1;33m:\u001b[0m\u001b[1;33m\u001b[0m\u001b[0m\n",
        "\u001b[1;32m/usr/local/lib/python2.7/dist-packages/sympy/polys/polytools.py\u001b[0m in \u001b[0;36m_unify\u001b[1;34m(f, g)\u001b[0m\n\u001b[0;32m    355\u001b[0m             \u001b[0mgens\u001b[0m \u001b[1;33m=\u001b[0m \u001b[0m_unify_gens\u001b[0m\u001b[1;33m(\u001b[0m\u001b[0mf\u001b[0m\u001b[1;33m.\u001b[0m\u001b[0mgens\u001b[0m\u001b[1;33m,\u001b[0m \u001b[0mg\u001b[0m\u001b[1;33m.\u001b[0m\u001b[0mgens\u001b[0m\u001b[1;33m)\u001b[0m\u001b[1;33m\u001b[0m\u001b[0m\n\u001b[0;32m    356\u001b[0m \u001b[1;33m\u001b[0m\u001b[0m\n\u001b[1;32m--> 357\u001b[1;33m             \u001b[0mdom\u001b[0m\u001b[1;33m,\u001b[0m \u001b[0mlev\u001b[0m \u001b[1;33m=\u001b[0m \u001b[0mf\u001b[0m\u001b[1;33m.\u001b[0m\u001b[0mrep\u001b[0m\u001b[1;33m.\u001b[0m\u001b[0mdom\u001b[0m\u001b[1;33m.\u001b[0m\u001b[0munify\u001b[0m\u001b[1;33m(\u001b[0m\u001b[0mg\u001b[0m\u001b[1;33m.\u001b[0m\u001b[0mrep\u001b[0m\u001b[1;33m.\u001b[0m\u001b[0mdom\u001b[0m\u001b[1;33m,\u001b[0m \u001b[0mgens\u001b[0m\u001b[1;33m)\u001b[0m\u001b[1;33m,\u001b[0m \u001b[0mlen\u001b[0m\u001b[1;33m(\u001b[0m\u001b[0mgens\u001b[0m\u001b[1;33m)\u001b[0m \u001b[1;33m-\u001b[0m \u001b[1;36m1\u001b[0m\u001b[1;33m\u001b[0m\u001b[0m\n\u001b[0m\u001b[0;32m    358\u001b[0m \u001b[1;33m\u001b[0m\u001b[0m\n\u001b[0;32m    359\u001b[0m             \u001b[1;32mif\u001b[0m \u001b[0mf\u001b[0m\u001b[1;33m.\u001b[0m\u001b[0mgens\u001b[0m \u001b[1;33m!=\u001b[0m \u001b[0mgens\u001b[0m\u001b[1;33m:\u001b[0m\u001b[1;33m\u001b[0m\u001b[0m\n",
        "\u001b[1;32m/usr/local/lib/python2.7/dist-packages/sympy/polys/domains/domain.py\u001b[0m in \u001b[0;36munify\u001b[1;34m(K0, K1, symbols)\u001b[0m\n\u001b[0;32m    248\u001b[0m         \"\"\"\n\u001b[0;32m    249\u001b[0m         \u001b[1;32mif\u001b[0m \u001b[0msymbols\u001b[0m \u001b[1;32mis\u001b[0m \u001b[1;32mnot\u001b[0m \u001b[0mNone\u001b[0m\u001b[1;33m:\u001b[0m\u001b[1;33m\u001b[0m\u001b[0m\n\u001b[1;32m--> 250\u001b[1;33m             \u001b[1;32mreturn\u001b[0m \u001b[0mK0\u001b[0m\u001b[1;33m.\u001b[0m\u001b[0munify_with_symbols\u001b[0m\u001b[1;33m(\u001b[0m\u001b[0mK1\u001b[0m\u001b[1;33m,\u001b[0m \u001b[0msymbols\u001b[0m\u001b[1;33m)\u001b[0m\u001b[1;33m\u001b[0m\u001b[0m\n\u001b[0m\u001b[0;32m    251\u001b[0m \u001b[1;33m\u001b[0m\u001b[0m\n\u001b[0;32m    252\u001b[0m         \u001b[1;32mif\u001b[0m \u001b[0mK0\u001b[0m \u001b[1;33m==\u001b[0m \u001b[0mK1\u001b[0m\u001b[1;33m:\u001b[0m\u001b[1;33m\u001b[0m\u001b[0m\n",
        "\u001b[1;32m/usr/local/lib/python2.7/dist-packages/sympy/polys/domains/domain.py\u001b[0m in \u001b[0;36munify_with_symbols\u001b[1;34m(K0, K1, symbols)\u001b[0m\n\u001b[0;32m    228\u001b[0m             \u001b[1;32mraise\u001b[0m \u001b[0mUnificationFailed\u001b[0m\u001b[1;33m(\u001b[0m\u001b[1;34m\"can't unify %s with %s, given %s generators\"\u001b[0m \u001b[1;33m%\u001b[0m \u001b[1;33m(\u001b[0m\u001b[0mK0\u001b[0m\u001b[1;33m,\u001b[0m \u001b[0mK1\u001b[0m\u001b[1;33m,\u001b[0m \u001b[0mtuple\u001b[0m\u001b[1;33m(\u001b[0m\u001b[0msymbols\u001b[0m\u001b[1;33m)\u001b[0m\u001b[1;33m)\u001b[0m\u001b[1;33m)\u001b[0m\u001b[1;33m\u001b[0m\u001b[0m\n\u001b[0;32m    229\u001b[0m \u001b[1;33m\u001b[0m\u001b[0m\n\u001b[1;32m--> 230\u001b[1;33m         \u001b[1;32mreturn\u001b[0m \u001b[0mK0\u001b[0m\u001b[1;33m.\u001b[0m\u001b[0munify\u001b[0m\u001b[1;33m(\u001b[0m\u001b[0mK1\u001b[0m\u001b[1;33m)\u001b[0m\u001b[1;33m\u001b[0m\u001b[0m\n\u001b[0m\u001b[0;32m    231\u001b[0m \u001b[1;33m\u001b[0m\u001b[0m\n\u001b[0;32m    232\u001b[0m     \u001b[1;32mdef\u001b[0m \u001b[0munify\u001b[0m\u001b[1;33m(\u001b[0m\u001b[0mK0\u001b[0m\u001b[1;33m,\u001b[0m \u001b[0mK1\u001b[0m\u001b[1;33m,\u001b[0m \u001b[0msymbols\u001b[0m\u001b[1;33m=\u001b[0m\u001b[0mNone\u001b[0m\u001b[1;33m)\u001b[0m\u001b[1;33m:\u001b[0m\u001b[1;33m\u001b[0m\u001b[0m\n",
        "\u001b[1;32m/usr/local/lib/python2.7/dist-packages/sympy/polys/domains/domain.py\u001b[0m in \u001b[0;36munify\u001b[1;34m(K0, K1, symbols)\u001b[0m\n\u001b[0;32m    272\u001b[0m                  K1.is_FractionField and K0.is_PolynomialRing) and\n\u001b[0;32m    273\u001b[0m                  (not K0_ground.has_Field or not K1_ground.has_Field) and domain.has_Field):\n\u001b[1;32m--> 274\u001b[1;33m                 \u001b[0mdomain\u001b[0m \u001b[1;33m=\u001b[0m \u001b[0mdomain\u001b[0m\u001b[1;33m.\u001b[0m\u001b[0mget_ring\u001b[0m\u001b[1;33m(\u001b[0m\u001b[1;33m)\u001b[0m\u001b[1;33m\u001b[0m\u001b[0m\n\u001b[0m\u001b[0;32m    275\u001b[0m \u001b[1;33m\u001b[0m\u001b[0m\n\u001b[0;32m    276\u001b[0m             \u001b[1;32mif\u001b[0m \u001b[0mK0\u001b[0m\u001b[1;33m.\u001b[0m\u001b[0mis_Composite\u001b[0m \u001b[1;32mand\u001b[0m \u001b[1;33m(\u001b[0m\u001b[1;32mnot\u001b[0m \u001b[0mK1\u001b[0m\u001b[1;33m.\u001b[0m\u001b[0mis_Composite\u001b[0m \u001b[1;32mor\u001b[0m \u001b[0mK0\u001b[0m\u001b[1;33m.\u001b[0m\u001b[0mis_FractionField\u001b[0m \u001b[1;32mor\u001b[0m \u001b[0mK1\u001b[0m\u001b[1;33m.\u001b[0m\u001b[0mis_PolynomialRing\u001b[0m\u001b[1;33m)\u001b[0m\u001b[1;33m:\u001b[0m\u001b[1;33m\u001b[0m\u001b[0m\n",
        "\u001b[1;32m/usr/local/lib/python2.7/dist-packages/sympy/polys/domains/realfield.pyc\u001b[0m in \u001b[0;36mget_ring\u001b[1;34m(self)\u001b[0m\n\u001b[0;32m    104\u001b[0m     \u001b[1;32mdef\u001b[0m \u001b[0mget_ring\u001b[0m\u001b[1;33m(\u001b[0m\u001b[0mself\u001b[0m\u001b[1;33m)\u001b[0m\u001b[1;33m:\u001b[0m\u001b[1;33m\u001b[0m\u001b[0m\n\u001b[0;32m    105\u001b[0m         \u001b[1;34m\"\"\"Returns a ring associated with ``self``. \"\"\"\u001b[0m\u001b[1;33m\u001b[0m\u001b[0m\n\u001b[1;32m--> 106\u001b[1;33m         \u001b[1;32mraise\u001b[0m \u001b[0mDomainError\u001b[0m\u001b[1;33m(\u001b[0m\u001b[1;34m'there is no ring associated with %s'\u001b[0m \u001b[1;33m%\u001b[0m \u001b[0mself\u001b[0m\u001b[1;33m)\u001b[0m\u001b[1;33m\u001b[0m\u001b[0m\n\u001b[0m\u001b[0;32m    107\u001b[0m \u001b[1;33m\u001b[0m\u001b[0m\n\u001b[0;32m    108\u001b[0m     \u001b[1;32mdef\u001b[0m \u001b[0mget_exact\u001b[0m\u001b[1;33m(\u001b[0m\u001b[0mself\u001b[0m\u001b[1;33m)\u001b[0m\u001b[1;33m:\u001b[0m\u001b[1;33m\u001b[0m\u001b[0m\n",
        "\u001b[1;31mDomainError\u001b[0m: there is no ring associated with RR"
       ]
      }
     ],
     "prompt_number": 21
    },
    {
     "cell_type": "code",
     "collapsed": false,
     "input": [
      "sol_T\n"
     ],
     "language": "python",
     "metadata": {},
     "outputs": []
    },
    {
     "cell_type": "code",
     "collapsed": false,
     "input": [
      "#homogeneous neumann\n",
      "neum_bc_T= sy.Eq(sy.diff(sol_T.rhs,x).subs({x:wc_thickness}),0)\n",
      "\n",
      "dir_bc_T = sy.Eq(sol_T.rhs.subs({x:0}),T_s)\n",
      "\n",
      "bc_sol_T = sy.solve([dir_bc_T,neum_bc_T],C1,C2)"
     ],
     "language": "python",
     "metadata": {},
     "outputs": []
    },
    {
     "cell_type": "code",
     "collapsed": false,
     "input": [
      "sol_T"
     ],
     "language": "python",
     "metadata": {},
     "outputs": []
    },
    {
     "cell_type": "code",
     "collapsed": false,
     "input": [
      "bc_sol_T"
     ],
     "language": "python",
     "metadata": {},
     "outputs": []
    },
    {
     "cell_type": "code",
     "collapsed": false,
     "input": [
      "part_sol_T = sol_T.subs(bc_sol_T)\n",
      "ext_flux_T = sy.Eq(Sh * lambda_b/L * (T_b - T_s),-cond* sy.diff(part_sol_T.rhs,x).subs({x:0}))\n",
      "T_s_sol=sy.solve(ext_flux_T,T_s)\n",
      "part_sol_T = part_sol_T.subs({T_s:T_s_sol[0]})"
     ],
     "language": "python",
     "metadata": {},
     "outputs": []
    },
    {
     "cell_type": "code",
     "collapsed": false,
     "input": [
      "sol_simple_T = part_sol_T.subs(val_dict)"
     ],
     "language": "python",
     "metadata": {},
     "outputs": []
    },
    {
     "cell_type": "code",
     "collapsed": false,
     "input": [
      "sol_simple_T.subs({x:0})"
     ],
     "language": "python",
     "metadata": {},
     "outputs": []
    },
    {
     "cell_type": "code",
     "collapsed": false,
     "input": [
      "Y_s = sol_simple.subs({x:0})"
     ],
     "language": "python",
     "metadata": {},
     "outputs": [],
     "prompt_number": 22
    },
    {
     "cell_type": "code",
     "collapsed": false,
     "input": [
      "T_s = sol_simple_T.subs({x:0})"
     ],
     "language": "python",
     "metadata": {},
     "outputs": []
    },
    {
     "cell_type": "code",
     "collapsed": false,
     "input": [
      "A_V = 1000\n",
      "u   = 2.5\n",
      "rho = gas.density\n",
      "h = val_dict[Sh]*val_dict[D_b]/val_dict[L]\n",
      "\n",
      "diffeq_y_b = sy.Eq(rho * u * sy.diff(Y_b,y)+rho* h* A_V* (Y_b-Y_s.rhs),0)\n"
     ],
     "language": "python",
     "metadata": {},
     "outputs": [],
     "prompt_number": 23
    },
    {
     "cell_type": "code",
     "collapsed": false,
     "input": [
      "y_b_sol = sy.dsolve(diffeq_y_b,Y_b,simplify=False)"
     ],
     "language": "python",
     "metadata": {},
     "outputs": [],
     "prompt_number": 24
    },
    {
     "cell_type": "code",
     "collapsed": false,
     "input": [
      "y_b_sol = sy.solve(y_b_sol,Y_b)"
     ],
     "language": "python",
     "metadata": {},
     "outputs": [
      {
       "ename": "KeyboardInterrupt",
       "evalue": "",
       "output_type": "pyerr",
       "traceback": [
        "\u001b[1;31m---------------------------------------------------------------------------\u001b[0m\n\u001b[1;31mKeyboardInterrupt\u001b[0m                         Traceback (most recent call last)",
        "\u001b[1;32m<ipython-input-35-8d0f72e6d270>\u001b[0m in \u001b[0;36m<module>\u001b[1;34m()\u001b[0m\n\u001b[1;32m----> 1\u001b[1;33m \u001b[0my_b_sol\u001b[0m \u001b[1;33m=\u001b[0m \u001b[0msy\u001b[0m\u001b[1;33m.\u001b[0m\u001b[0msolve\u001b[0m\u001b[1;33m(\u001b[0m\u001b[0my_b_sol\u001b[0m\u001b[1;33m,\u001b[0m\u001b[0mY_b\u001b[0m\u001b[1;33m)\u001b[0m\u001b[1;33m\u001b[0m\u001b[0m\n\u001b[0m",
        "\u001b[1;32m/usr/local/lib/python2.7/dist-packages/sympy/solvers/solvers.py\u001b[0m in \u001b[0;36msolve\u001b[1;34m(f, *symbols, **flags)\u001b[0m\n\u001b[0;32m    899\u001b[0m     \u001b[1;31m###########################################################################\u001b[0m\u001b[1;33m\u001b[0m\u001b[1;33m\u001b[0m\u001b[0m\n\u001b[0;32m    900\u001b[0m     \u001b[1;32mif\u001b[0m \u001b[0mbare_f\u001b[0m\u001b[1;33m:\u001b[0m\u001b[1;33m\u001b[0m\u001b[0m\n\u001b[1;32m--> 901\u001b[1;33m         \u001b[0msolution\u001b[0m \u001b[1;33m=\u001b[0m \u001b[0m_solve\u001b[0m\u001b[1;33m(\u001b[0m\u001b[0mf\u001b[0m\u001b[1;33m[\u001b[0m\u001b[1;36m0\u001b[0m\u001b[1;33m]\u001b[0m\u001b[1;33m,\u001b[0m \u001b[1;33m*\u001b[0m\u001b[0msymbols\u001b[0m\u001b[1;33m,\u001b[0m \u001b[1;33m**\u001b[0m\u001b[0mflags\u001b[0m\u001b[1;33m)\u001b[0m\u001b[1;33m\u001b[0m\u001b[0m\n\u001b[0m\u001b[0;32m    902\u001b[0m     \u001b[1;32melse\u001b[0m\u001b[1;33m:\u001b[0m\u001b[1;33m\u001b[0m\u001b[0m\n\u001b[0;32m    903\u001b[0m         \u001b[0msolution\u001b[0m \u001b[1;33m=\u001b[0m \u001b[0m_solve_system\u001b[0m\u001b[1;33m(\u001b[0m\u001b[0mf\u001b[0m\u001b[1;33m,\u001b[0m \u001b[0msymbols\u001b[0m\u001b[1;33m,\u001b[0m \u001b[1;33m**\u001b[0m\u001b[0mflags\u001b[0m\u001b[1;33m)\u001b[0m\u001b[1;33m\u001b[0m\u001b[0m\n",
        "\u001b[1;32m/usr/local/lib/python2.7/dist-packages/sympy/solvers/solvers.py\u001b[0m in \u001b[0;36m_solve\u001b[1;34m(f, *symbols, **flags)\u001b[0m\n\u001b[0;32m   1207\u001b[0m             \u001b[1;32mtry\u001b[0m\u001b[1;33m:\u001b[0m\u001b[1;33m\u001b[0m\u001b[0m\n\u001b[0;32m   1208\u001b[0m                 \u001b[1;31m# try remove all...\u001b[0m\u001b[1;33m\u001b[0m\u001b[1;33m\u001b[0m\u001b[0m\n\u001b[1;32m-> 1209\u001b[1;33m                 \u001b[0mu\u001b[0m \u001b[1;33m=\u001b[0m \u001b[0munrad\u001b[0m\u001b[1;33m(\u001b[0m\u001b[0mf_num\u001b[0m\u001b[1;33m)\u001b[0m\u001b[1;33m\u001b[0m\u001b[0m\n\u001b[0m\u001b[0;32m   1210\u001b[0m             \u001b[1;32mexcept\u001b[0m \u001b[0mValueError\u001b[0m\u001b[1;33m:\u001b[0m\u001b[1;33m\u001b[0m\u001b[0m\n\u001b[0;32m   1211\u001b[0m                 \u001b[1;31m# ...else hope for the best while letting some remain\u001b[0m\u001b[1;33m\u001b[0m\u001b[1;33m\u001b[0m\u001b[0m\n",
        "\u001b[1;32m/usr/local/lib/python2.7/dist-packages/sympy/solvers/solvers.py\u001b[0m in \u001b[0;36munrad\u001b[1;34m(eq, *syms, **flags)\u001b[0m\n\u001b[0;32m   2764\u001b[0m         \u001b[1;32mreturn\u001b[0m \u001b[0meq\u001b[0m\u001b[1;33m,\u001b[0m \u001b[0mcov\u001b[0m\u001b[1;33m,\u001b[0m \u001b[0mlist\u001b[0m\u001b[1;33m(\u001b[0m\u001b[0mdens\u001b[0m\u001b[1;33m)\u001b[0m\u001b[1;33m\u001b[0m\u001b[0m\n\u001b[0;32m   2765\u001b[0m \u001b[1;33m\u001b[0m\u001b[0m\n\u001b[1;32m-> 2766\u001b[1;33m     \u001b[0mpoly\u001b[0m \u001b[1;33m=\u001b[0m \u001b[0meq\u001b[0m\u001b[1;33m.\u001b[0m\u001b[0mas_poly\u001b[0m\u001b[1;33m(\u001b[0m\u001b[1;33m)\u001b[0m\u001b[1;33m\u001b[0m\u001b[0m\n\u001b[0m\u001b[0;32m   2767\u001b[0m \u001b[1;33m\u001b[0m\u001b[0m\n\u001b[0;32m   2768\u001b[0m     \u001b[1;31m# if all the bases are the same or all the radicals are in one\u001b[0m\u001b[1;33m\u001b[0m\u001b[1;33m\u001b[0m\u001b[0m\n",
        "\u001b[1;32m/usr/local/lib/python2.7/dist-packages/sympy/core/basic.py\u001b[0m in \u001b[0;36mas_poly\u001b[1;34m(self, *gens, **args)\u001b[0m\n\u001b[0;32m    775\u001b[0m \u001b[1;33m\u001b[0m\u001b[0m\n\u001b[0;32m    776\u001b[0m         \u001b[1;32mtry\u001b[0m\u001b[1;33m:\u001b[0m\u001b[1;33m\u001b[0m\u001b[0m\n\u001b[1;32m--> 777\u001b[1;33m             \u001b[0mpoly\u001b[0m \u001b[1;33m=\u001b[0m \u001b[0mPoly\u001b[0m\u001b[1;33m(\u001b[0m\u001b[0mself\u001b[0m\u001b[1;33m,\u001b[0m \u001b[1;33m*\u001b[0m\u001b[0mgens\u001b[0m\u001b[1;33m,\u001b[0m \u001b[1;33m**\u001b[0m\u001b[0margs\u001b[0m\u001b[1;33m)\u001b[0m\u001b[1;33m\u001b[0m\u001b[0m\n\u001b[0m\u001b[0;32m    778\u001b[0m \u001b[1;33m\u001b[0m\u001b[0m\n\u001b[0;32m    779\u001b[0m             \u001b[1;32mif\u001b[0m \u001b[1;32mnot\u001b[0m \u001b[0mpoly\u001b[0m\u001b[1;33m.\u001b[0m\u001b[0mis_Poly\u001b[0m\u001b[1;33m:\u001b[0m\u001b[1;33m\u001b[0m\u001b[0m\n",
        "\u001b[1;32m/usr/local/lib/python2.7/dist-packages/sympy/polys/polytools.py\u001b[0m in \u001b[0;36m__new__\u001b[1;34m(cls, rep, *gens, **args)\u001b[0m\n\u001b[0;32m     85\u001b[0m                 \u001b[1;32mreturn\u001b[0m \u001b[0mcls\u001b[0m\u001b[1;33m.\u001b[0m\u001b[0m_from_poly\u001b[0m\u001b[1;33m(\u001b[0m\u001b[0mrep\u001b[0m\u001b[1;33m,\u001b[0m \u001b[0mopt\u001b[0m\u001b[1;33m)\u001b[0m\u001b[1;33m\u001b[0m\u001b[0m\n\u001b[0;32m     86\u001b[0m             \u001b[1;32melse\u001b[0m\u001b[1;33m:\u001b[0m\u001b[1;33m\u001b[0m\u001b[0m\n\u001b[1;32m---> 87\u001b[1;33m                 \u001b[1;32mreturn\u001b[0m \u001b[0mcls\u001b[0m\u001b[1;33m.\u001b[0m\u001b[0m_from_expr\u001b[0m\u001b[1;33m(\u001b[0m\u001b[0mrep\u001b[0m\u001b[1;33m,\u001b[0m \u001b[0mopt\u001b[0m\u001b[1;33m)\u001b[0m\u001b[1;33m\u001b[0m\u001b[0m\n\u001b[0m\u001b[0;32m     88\u001b[0m \u001b[1;33m\u001b[0m\u001b[0m\n\u001b[0;32m     89\u001b[0m     \u001b[1;33m@\u001b[0m\u001b[0mclassmethod\u001b[0m\u001b[1;33m\u001b[0m\u001b[0m\n",
        "\u001b[1;32m/usr/local/lib/python2.7/dist-packages/sympy/polys/polytools.py\u001b[0m in \u001b[0;36m_from_expr\u001b[1;34m(cls, rep, opt)\u001b[0m\n\u001b[0;32m    196\u001b[0m         \u001b[1;34m\"\"\"Construct a polynomial from an expression. \"\"\"\u001b[0m\u001b[1;33m\u001b[0m\u001b[0m\n\u001b[0;32m    197\u001b[0m         \u001b[0mrep\u001b[0m\u001b[1;33m,\u001b[0m \u001b[0mopt\u001b[0m \u001b[1;33m=\u001b[0m \u001b[0m_dict_from_expr\u001b[0m\u001b[1;33m(\u001b[0m\u001b[0mrep\u001b[0m\u001b[1;33m,\u001b[0m \u001b[0mopt\u001b[0m\u001b[1;33m)\u001b[0m\u001b[1;33m\u001b[0m\u001b[0m\n\u001b[1;32m--> 198\u001b[1;33m         \u001b[1;32mreturn\u001b[0m \u001b[0mcls\u001b[0m\u001b[1;33m.\u001b[0m\u001b[0m_from_dict\u001b[0m\u001b[1;33m(\u001b[0m\u001b[0mrep\u001b[0m\u001b[1;33m,\u001b[0m \u001b[0mopt\u001b[0m\u001b[1;33m)\u001b[0m\u001b[1;33m\u001b[0m\u001b[0m\n\u001b[0m\u001b[0;32m    199\u001b[0m \u001b[1;33m\u001b[0m\u001b[0m\n\u001b[0;32m    200\u001b[0m     \u001b[1;32mdef\u001b[0m \u001b[0m_hashable_content\u001b[0m\u001b[1;33m(\u001b[0m\u001b[0mself\u001b[0m\u001b[1;33m)\u001b[0m\u001b[1;33m:\u001b[0m\u001b[1;33m\u001b[0m\u001b[0m\n",
        "\u001b[1;32m/usr/local/lib/python2.7/dist-packages/sympy/polys/polytools.py\u001b[0m in \u001b[0;36m_from_dict\u001b[1;34m(cls, rep, opt)\u001b[0m\n\u001b[0;32m    145\u001b[0m                 \u001b[0mrep\u001b[0m\u001b[1;33m[\u001b[0m\u001b[0mmonom\u001b[0m\u001b[1;33m]\u001b[0m \u001b[1;33m=\u001b[0m \u001b[0mdomain\u001b[0m\u001b[1;33m.\u001b[0m\u001b[0mconvert\u001b[0m\u001b[1;33m(\u001b[0m\u001b[0mcoeff\u001b[0m\u001b[1;33m)\u001b[0m\u001b[1;33m\u001b[0m\u001b[0m\n\u001b[0;32m    146\u001b[0m \u001b[1;33m\u001b[0m\u001b[0m\n\u001b[1;32m--> 147\u001b[1;33m         \u001b[1;32mreturn\u001b[0m \u001b[0mcls\u001b[0m\u001b[1;33m.\u001b[0m\u001b[0mnew\u001b[0m\u001b[1;33m(\u001b[0m\u001b[0mDMP\u001b[0m\u001b[1;33m.\u001b[0m\u001b[0mfrom_dict\u001b[0m\u001b[1;33m(\u001b[0m\u001b[0mrep\u001b[0m\u001b[1;33m,\u001b[0m \u001b[0mlevel\u001b[0m\u001b[1;33m,\u001b[0m \u001b[0mdomain\u001b[0m\u001b[1;33m)\u001b[0m\u001b[1;33m,\u001b[0m \u001b[1;33m*\u001b[0m\u001b[0mgens\u001b[0m\u001b[1;33m)\u001b[0m\u001b[1;33m\u001b[0m\u001b[0m\n\u001b[0m\u001b[0;32m    148\u001b[0m \u001b[1;33m\u001b[0m\u001b[0m\n\u001b[0;32m    149\u001b[0m     \u001b[1;33m@\u001b[0m\u001b[0mclassmethod\u001b[0m\u001b[1;33m\u001b[0m\u001b[0m\n",
        "\u001b[1;32m/usr/local/lib/python2.7/dist-packages/sympy/polys/polyclasses.py\u001b[0m in \u001b[0;36mfrom_dict\u001b[1;34m(cls, rep, lev, dom)\u001b[0m\n\u001b[0;32m    257\u001b[0m     \u001b[1;32mdef\u001b[0m \u001b[0mfrom_dict\u001b[0m\u001b[1;33m(\u001b[0m\u001b[0mcls\u001b[0m\u001b[1;33m,\u001b[0m \u001b[0mrep\u001b[0m\u001b[1;33m,\u001b[0m \u001b[0mlev\u001b[0m\u001b[1;33m,\u001b[0m \u001b[0mdom\u001b[0m\u001b[1;33m)\u001b[0m\u001b[1;33m:\u001b[0m\u001b[1;33m\u001b[0m\u001b[0m\n\u001b[0;32m    258\u001b[0m         \u001b[1;34m\"\"\"Construct and instance of ``cls`` from a ``dict`` representation. \"\"\"\u001b[0m\u001b[1;33m\u001b[0m\u001b[0m\n\u001b[1;32m--> 259\u001b[1;33m         \u001b[1;32mreturn\u001b[0m \u001b[0mcls\u001b[0m\u001b[1;33m(\u001b[0m\u001b[0mdmp_from_dict\u001b[0m\u001b[1;33m(\u001b[0m\u001b[0mrep\u001b[0m\u001b[1;33m,\u001b[0m \u001b[0mlev\u001b[0m\u001b[1;33m,\u001b[0m \u001b[0mdom\u001b[0m\u001b[1;33m)\u001b[0m\u001b[1;33m,\u001b[0m \u001b[0mdom\u001b[0m\u001b[1;33m,\u001b[0m \u001b[0mlev\u001b[0m\u001b[1;33m)\u001b[0m\u001b[1;33m\u001b[0m\u001b[0m\n\u001b[0m\u001b[0;32m    260\u001b[0m \u001b[1;33m\u001b[0m\u001b[0m\n\u001b[0;32m    261\u001b[0m     \u001b[1;33m@\u001b[0m\u001b[0mclassmethod\u001b[0m\u001b[1;33m\u001b[0m\u001b[0m\n",
        "\u001b[1;32m/usr/local/lib/python2.7/dist-packages/sympy/polys/densebasic.py\u001b[0m in \u001b[0;36mdmp_from_dict\u001b[1;34m(f, u, K)\u001b[0m\n\u001b[0;32m   1013\u001b[0m \u001b[1;33m\u001b[0m\u001b[0m\n\u001b[0;32m   1014\u001b[0m         \u001b[1;32mif\u001b[0m \u001b[0mcoeff\u001b[0m \u001b[1;32mis\u001b[0m \u001b[1;32mnot\u001b[0m \u001b[0mNone\u001b[0m\u001b[1;33m:\u001b[0m\u001b[1;33m\u001b[0m\u001b[0m\n\u001b[1;32m-> 1015\u001b[1;33m             \u001b[0mh\u001b[0m\u001b[1;33m.\u001b[0m\u001b[0mappend\u001b[0m\u001b[1;33m(\u001b[0m\u001b[0mdmp_from_dict\u001b[0m\u001b[1;33m(\u001b[0m\u001b[0mcoeff\u001b[0m\u001b[1;33m,\u001b[0m \u001b[0mv\u001b[0m\u001b[1;33m,\u001b[0m \u001b[0mK\u001b[0m\u001b[1;33m)\u001b[0m\u001b[1;33m)\u001b[0m\u001b[1;33m\u001b[0m\u001b[0m\n\u001b[0m\u001b[0;32m   1016\u001b[0m         \u001b[1;32melse\u001b[0m\u001b[1;33m:\u001b[0m\u001b[1;33m\u001b[0m\u001b[0m\n\u001b[0;32m   1017\u001b[0m             \u001b[0mh\u001b[0m\u001b[1;33m.\u001b[0m\u001b[0mappend\u001b[0m\u001b[1;33m(\u001b[0m\u001b[0mdmp_zero\u001b[0m\u001b[1;33m(\u001b[0m\u001b[0mv\u001b[0m\u001b[1;33m)\u001b[0m\u001b[1;33m)\u001b[0m\u001b[1;33m\u001b[0m\u001b[0m\n",
        "\u001b[1;32m/usr/local/lib/python2.7/dist-packages/sympy/polys/densebasic.py\u001b[0m in \u001b[0;36mdmp_from_dict\u001b[1;34m(f, u, K)\u001b[0m\n\u001b[0;32m   1013\u001b[0m \u001b[1;33m\u001b[0m\u001b[0m\n\u001b[0;32m   1014\u001b[0m         \u001b[1;32mif\u001b[0m \u001b[0mcoeff\u001b[0m \u001b[1;32mis\u001b[0m \u001b[1;32mnot\u001b[0m \u001b[0mNone\u001b[0m\u001b[1;33m:\u001b[0m\u001b[1;33m\u001b[0m\u001b[0m\n\u001b[1;32m-> 1015\u001b[1;33m             \u001b[0mh\u001b[0m\u001b[1;33m.\u001b[0m\u001b[0mappend\u001b[0m\u001b[1;33m(\u001b[0m\u001b[0mdmp_from_dict\u001b[0m\u001b[1;33m(\u001b[0m\u001b[0mcoeff\u001b[0m\u001b[1;33m,\u001b[0m \u001b[0mv\u001b[0m\u001b[1;33m,\u001b[0m \u001b[0mK\u001b[0m\u001b[1;33m)\u001b[0m\u001b[1;33m)\u001b[0m\u001b[1;33m\u001b[0m\u001b[0m\n\u001b[0m\u001b[0;32m   1016\u001b[0m         \u001b[1;32melse\u001b[0m\u001b[1;33m:\u001b[0m\u001b[1;33m\u001b[0m\u001b[0m\n\u001b[0;32m   1017\u001b[0m             \u001b[0mh\u001b[0m\u001b[1;33m.\u001b[0m\u001b[0mappend\u001b[0m\u001b[1;33m(\u001b[0m\u001b[0mdmp_zero\u001b[0m\u001b[1;33m(\u001b[0m\u001b[0mv\u001b[0m\u001b[1;33m)\u001b[0m\u001b[1;33m)\u001b[0m\u001b[1;33m\u001b[0m\u001b[0m\n",
        "\u001b[1;32m/usr/local/lib/python2.7/dist-packages/sympy/polys/densebasic.py\u001b[0m in \u001b[0;36mdmp_from_dict\u001b[1;34m(f, u, K)\u001b[0m\n\u001b[0;32m   1013\u001b[0m \u001b[1;33m\u001b[0m\u001b[0m\n\u001b[0;32m   1014\u001b[0m         \u001b[1;32mif\u001b[0m \u001b[0mcoeff\u001b[0m \u001b[1;32mis\u001b[0m \u001b[1;32mnot\u001b[0m \u001b[0mNone\u001b[0m\u001b[1;33m:\u001b[0m\u001b[1;33m\u001b[0m\u001b[0m\n\u001b[1;32m-> 1015\u001b[1;33m             \u001b[0mh\u001b[0m\u001b[1;33m.\u001b[0m\u001b[0mappend\u001b[0m\u001b[1;33m(\u001b[0m\u001b[0mdmp_from_dict\u001b[0m\u001b[1;33m(\u001b[0m\u001b[0mcoeff\u001b[0m\u001b[1;33m,\u001b[0m \u001b[0mv\u001b[0m\u001b[1;33m,\u001b[0m \u001b[0mK\u001b[0m\u001b[1;33m)\u001b[0m\u001b[1;33m)\u001b[0m\u001b[1;33m\u001b[0m\u001b[0m\n\u001b[0m\u001b[0;32m   1016\u001b[0m         \u001b[1;32melse\u001b[0m\u001b[1;33m:\u001b[0m\u001b[1;33m\u001b[0m\u001b[0m\n\u001b[0;32m   1017\u001b[0m             \u001b[0mh\u001b[0m\u001b[1;33m.\u001b[0m\u001b[0mappend\u001b[0m\u001b[1;33m(\u001b[0m\u001b[0mdmp_zero\u001b[0m\u001b[1;33m(\u001b[0m\u001b[0mv\u001b[0m\u001b[1;33m)\u001b[0m\u001b[1;33m)\u001b[0m\u001b[1;33m\u001b[0m\u001b[0m\n",
        "\u001b[1;32m/usr/local/lib/python2.7/dist-packages/sympy/polys/densebasic.py\u001b[0m in \u001b[0;36mdmp_from_dict\u001b[1;34m(f, u, K)\u001b[0m\n\u001b[0;32m   1015\u001b[0m             \u001b[0mh\u001b[0m\u001b[1;33m.\u001b[0m\u001b[0mappend\u001b[0m\u001b[1;33m(\u001b[0m\u001b[0mdmp_from_dict\u001b[0m\u001b[1;33m(\u001b[0m\u001b[0mcoeff\u001b[0m\u001b[1;33m,\u001b[0m \u001b[0mv\u001b[0m\u001b[1;33m,\u001b[0m \u001b[0mK\u001b[0m\u001b[1;33m)\u001b[0m\u001b[1;33m)\u001b[0m\u001b[1;33m\u001b[0m\u001b[0m\n\u001b[0;32m   1016\u001b[0m         \u001b[1;32melse\u001b[0m\u001b[1;33m:\u001b[0m\u001b[1;33m\u001b[0m\u001b[0m\n\u001b[1;32m-> 1017\u001b[1;33m             \u001b[0mh\u001b[0m\u001b[1;33m.\u001b[0m\u001b[0mappend\u001b[0m\u001b[1;33m(\u001b[0m\u001b[0mdmp_zero\u001b[0m\u001b[1;33m(\u001b[0m\u001b[0mv\u001b[0m\u001b[1;33m)\u001b[0m\u001b[1;33m)\u001b[0m\u001b[1;33m\u001b[0m\u001b[0m\n\u001b[0m\u001b[0;32m   1018\u001b[0m \u001b[1;33m\u001b[0m\u001b[0m\n\u001b[0;32m   1019\u001b[0m     \u001b[1;32mreturn\u001b[0m \u001b[0mdmp_strip\u001b[0m\u001b[1;33m(\u001b[0m\u001b[0mh\u001b[0m\u001b[1;33m,\u001b[0m \u001b[0mu\u001b[0m\u001b[1;33m)\u001b[0m\u001b[1;33m\u001b[0m\u001b[0m\n",
        "\u001b[1;31mKeyboardInterrupt\u001b[0m: "
       ]
      }
     ],
     "prompt_number": 35
    },
    {
     "cell_type": "code",
     "collapsed": false,
     "input": [
      "inflow_bc= sy.Eq(y_b_sol.rhs.subs({y:0}),0.0001)\n",
      "y_b_part_sol = y_b_sol.subs({C1:sy.solve(inflow_bc,C1)[0]})"
     ],
     "language": "python",
     "metadata": {},
     "outputs": [],
     "prompt_number": 26
    },
    {
     "cell_type": "code",
     "collapsed": false,
     "input": [
      "y_b_sol"
     ],
     "language": "python",
     "metadata": {},
     "outputs": [
      {
       "latex": [
        "$$0.842313084290166 \\log{\\left (\\operatorname{Y_{b}}{\\left (y \\right )} \\right )} = C_{1} - \\frac{1803.0 y \\left(1.09270868277246 \\cdot 10^{-6} e^{\\frac{8.06242418535907}{M_{CO}}} - 1.09270868277246 \\cdot 10^{-6}\\right)}{4.15303088193764 \\cdot 10^{-5} M_{CO} e^{\\frac{8.06242418535907}{M_{CO}}} + 4.15303088193764 \\cdot 10^{-5} M_{CO} + 8.86579864118988 \\cdot 10^{-7} e^{\\frac{8.06242418535907}{M_{CO}}} - 8.86579864118988 \\cdot 10^{-7}}$$"
       ],
       "metadata": {},
       "output_type": "pyout",
       "png": "[encoded data removed]",
       "prompt_number": 34,
       "text": [
        "                                                                             \u239b\n",
        "                                                                             \u239c\n",
        "                                                                             \u239c\n",
        "                                                                    1803.0\u22c5y\u22c5\u239d\n",
        "0.842313084290166\u22c5log(Y_b(y)) = C\u2081 - \u2500\u2500\u2500\u2500\u2500\u2500\u2500\u2500\u2500\u2500\u2500\u2500\u2500\u2500\u2500\u2500\u2500\u2500\u2500\u2500\u2500\u2500\u2500\u2500\u2500\u2500\u2500\u2500\u2500\u2500\u2500\u2500\u2500\u2500\u2500\u2500\u2500\u2500\u2500\u2500\u2500\n",
        "                                                               8.0624241853590\n",
        "                                                               \u2500\u2500\u2500\u2500\u2500\u2500\u2500\u2500\u2500\u2500\u2500\u2500\u2500\u2500\u2500\n",
        "                                                                     M_CO     \n",
        "                                     4.15303088193764e-5\u22c5M_CO\u22c5\u212f               \n",
        "\n",
        "                     8.06242418535907                      \u239e                  \n",
        "                     \u2500\u2500\u2500\u2500\u2500\u2500\u2500\u2500\u2500\u2500\u2500\u2500\u2500\u2500\u2500\u2500                      \u239f                  \n",
        "                           M_CO                            \u239f                  \n",
        "1.09270868277246e-6\u22c5\u212f                 - 1.09270868277246e-6\u23a0                  \n",
        "\u2500\u2500\u2500\u2500\u2500\u2500\u2500\u2500\u2500\u2500\u2500\u2500\u2500\u2500\u2500\u2500\u2500\u2500\u2500\u2500\u2500\u2500\u2500\u2500\u2500\u2500\u2500\u2500\u2500\u2500\u2500\u2500\u2500\u2500\u2500\u2500\u2500\u2500\u2500\u2500\u2500\u2500\u2500\u2500\u2500\u2500\u2500\u2500\u2500\u2500\u2500\u2500\u2500\u2500\u2500\u2500\u2500\u2500\u2500\u2500\u2500\u2500\u2500\u2500\u2500\u2500\u2500\u2500\u2500\u2500\u2500\u2500\u2500\u2500\u2500\u2500\u2500\u2500\n",
        "7                                                   8.06242418535907          \n",
        "\u2500                                                   \u2500\u2500\u2500\u2500\u2500\u2500\u2500\u2500\u2500\u2500\u2500\u2500\u2500\u2500\u2500\u2500          \n",
        "                                                          M_CO                \n",
        "  + 4.15303088193764e-5\u22c5M_CO + 8.86579864118988e-7\u22c5\u212f                 - 8.86579\n",
        "\n",
        "            \n",
        "            \n",
        "            \n",
        "            \n",
        "\u2500\u2500\u2500\u2500\u2500\u2500\u2500\u2500\u2500\u2500\u2500\u2500\n",
        "            \n",
        "            \n",
        "            \n",
        "864118988e-7"
       ]
      }
     ],
     "prompt_number": 34
    },
    {
     "cell_type": "code",
     "collapsed": false,
     "input": [
      "sol_simple = sol_simple.subs({Y_b:y_b_part_sol.rhs})"
     ],
     "language": "python",
     "metadata": {},
     "outputs": [],
     "prompt_number": 27
    },
    {
     "cell_type": "code",
     "collapsed": false,
     "input": [
      "sol_simple"
     ],
     "language": "python",
     "metadata": {},
     "outputs": [
      {
       "latex": [
        "$$Y{\\left (x \\right )} = \\frac{4.1530307772742 \\cdot 10^{-5} M_{CO} \\left(- \\frac{1803.0 y \\left(1.09270868277246 \\cdot 10^{-6} e^{\\frac{8.06242418535907}{M_{CO}}} - 1.09270868277246 \\cdot 10^{-6}\\right)}{4.15303088193764 \\cdot 10^{-5} M_{CO} e^{\\frac{8.06242418535907}{M_{CO}}} + 4.15303088193764 \\cdot 10^{-5} M_{CO} + 8.86579864118988 \\cdot 10^{-7} e^{\\frac{8.06242418535907}{M_{CO}}} - 8.86579864118988 \\cdot 10^{-7}} + 0.0001\\right) e^{\\frac{40312.1209267953 x}{M_{CO}}}}{4.1530307772742 \\cdot 10^{-5} M_{CO} e^{\\frac{8.06242418535907}{M_{CO}}} + 4.1530307772742 \\cdot 10^{-5} M_{CO} + 8.86579864118988 \\cdot 10^{-7} e^{\\frac{8.06242418535907}{M_{CO}}} - 8.86579864118988 \\cdot 10^{-7}} + \\frac{1}{e^{\\frac{40312.1209267953 x}{M_{CO}}}} \\left(\\frac{4.1530307772742 \\cdot 10^{-5} M_{CO} \\left(- \\frac{1803.0 y \\left(1.09270868277246 \\cdot 10^{-6} e^{\\frac{8.06242418535907}{M_{CO}}} - 1.09270868277246 \\cdot 10^{-6}\\right)}{4.15303088193764 \\cdot 10^{-5} M_{CO} e^{\\frac{8.06242418535907}{M_{CO}}} + 4.15303088193764 \\cdot 10^{-5} M_{CO} + 8.86579864118988 \\cdot 10^{-7} e^{\\frac{8.06242418535907}{M_{CO}}} - 8.86579864118988 \\cdot 10^{-7}} + 0.0001\\right) \\left(e^{\\frac{8.06242418535907}{M_{CO}}} + 1\\right)}{4.1530307772742 \\cdot 10^{-5} M_{CO} e^{\\frac{8.06242418535907}{M_{CO}}} + 4.1530307772742 \\cdot 10^{-5} M_{CO} + 8.86579864118988 \\cdot 10^{-7} e^{\\frac{8.06242418535907}{M_{CO}}} - 8.86579864118988 \\cdot 10^{-7}} - \\frac{4.1530307772742 \\cdot 10^{-5} M_{CO} \\left(- \\frac{1803.0 y \\left(1.09270868277246 \\cdot 10^{-6} e^{\\frac{8.06242418535907}{M_{CO}}} - 1.09270868277246 \\cdot 10^{-6}\\right)}{4.15303088193764 \\cdot 10^{-5} M_{CO} e^{\\frac{8.06242418535907}{M_{CO}}} + 4.15303088193764 \\cdot 10^{-5} M_{CO} + 8.86579864118988 \\cdot 10^{-7} e^{\\frac{8.06242418535907}{M_{CO}}} - 8.86579864118988 \\cdot 10^{-7}} + 0.0001\\right)}{4.1530307772742 \\cdot 10^{-5} M_{CO} e^{\\frac{8.06242418535907}{M_{CO}}} + 4.1530307772742 \\cdot 10^{-5} M_{CO} + 8.86579864118988 \\cdot 10^{-7} e^{\\frac{8.06242418535907}{M_{CO}}} - 8.86579864118988 \\cdot 10^{-7}}\\right)$$"
       ],
       "metadata": {},
       "output_type": "pyout",
       "png": "[encoded data removed]",
       "prompt_number": 28,
       "text": [
        "                               \u239b                                          \u239b   \n",
        "                               \u239c                                          \u239c   \n",
        "                               \u239c                                          \u239c   \n",
        "                               \u239c                                 1803.0\u22c5y\u22c5\u239d1.0\n",
        "       4.1530307772742e-5\u22c5M_CO\u22c5\u239c- \u2500\u2500\u2500\u2500\u2500\u2500\u2500\u2500\u2500\u2500\u2500\u2500\u2500\u2500\u2500\u2500\u2500\u2500\u2500\u2500\u2500\u2500\u2500\u2500\u2500\u2500\u2500\u2500\u2500\u2500\u2500\u2500\u2500\u2500\u2500\u2500\u2500\u2500\u2500\u2500\u2500\u2500\u2500\u2500\n",
        "                               \u239c                            8.06242418535907  \n",
        "                               \u239c                            \u2500\u2500\u2500\u2500\u2500\u2500\u2500\u2500\u2500\u2500\u2500\u2500\u2500\u2500\u2500\u2500  \n",
        "                               \u239c                                  M_CO        \n",
        "                               \u239d  4.15303088193764e-5\u22c5M_CO\u22c5\u212f                 +\n",
        "Y(x) = \u2500\u2500\u2500\u2500\u2500\u2500\u2500\u2500\u2500\u2500\u2500\u2500\u2500\u2500\u2500\u2500\u2500\u2500\u2500\u2500\u2500\u2500\u2500\u2500\u2500\u2500\u2500\u2500\u2500\u2500\u2500\u2500\u2500\u2500\u2500\u2500\u2500\u2500\u2500\u2500\u2500\u2500\u2500\u2500\u2500\u2500\u2500\u2500\u2500\u2500\u2500\u2500\u2500\u2500\u2500\u2500\u2500\u2500\u2500\u2500\u2500\u2500\u2500\u2500\u2500\u2500\u2500\u2500\u2500\u2500\u2500\n",
        "                                                             8.06242418535907 \n",
        "                                                             \u2500\u2500\u2500\u2500\u2500\u2500\u2500\u2500\u2500\u2500\u2500\u2500\u2500\u2500\u2500\u2500 \n",
        "                                                                   M_CO       \n",
        "                                    4.1530307772742e-5\u22c5M_CO\u22c5\u212f                 \n",
        "\n",
        "                  8.06242418535907                      \u239e                     \n",
        "                  \u2500\u2500\u2500\u2500\u2500\u2500\u2500\u2500\u2500\u2500\u2500\u2500\u2500\u2500\u2500\u2500                      \u239f                     \n",
        "                        M_CO                            \u239f                     \n",
        "9270868277246e-6\u22c5\u212f                 - 1.09270868277246e-6\u23a0                     \n",
        "\u2500\u2500\u2500\u2500\u2500\u2500\u2500\u2500\u2500\u2500\u2500\u2500\u2500\u2500\u2500\u2500\u2500\u2500\u2500\u2500\u2500\u2500\u2500\u2500\u2500\u2500\u2500\u2500\u2500\u2500\u2500\u2500\u2500\u2500\u2500\u2500\u2500\u2500\u2500\u2500\u2500\u2500\u2500\u2500\u2500\u2500\u2500\u2500\u2500\u2500\u2500\u2500\u2500\u2500\u2500\u2500\u2500\u2500\u2500\u2500\u2500\u2500\u2500\u2500\u2500\u2500\u2500\u2500\u2500\u2500\u2500\u2500\u2500\u2500\u2500\u2500\u2500\u2500\n",
        "                                                 8.06242418535907             \n",
        "                                                 \u2500\u2500\u2500\u2500\u2500\u2500\u2500\u2500\u2500\u2500\u2500\u2500\u2500\u2500\u2500\u2500             \n",
        "                                                       M_CO                   \n",
        " 4.15303088193764e-5\u22c5M_CO + 8.86579864118988e-7\u22c5\u212f                 - 8.86579864\n",
        "\u2500\u2500\u2500\u2500\u2500\u2500\u2500\u2500\u2500\u2500\u2500\u2500\u2500\u2500\u2500\u2500\u2500\u2500\u2500\u2500\u2500\u2500\u2500\u2500\u2500\u2500\u2500\u2500\u2500\u2500\u2500\u2500\u2500\u2500\u2500\u2500\u2500\u2500\u2500\u2500\u2500\u2500\u2500\u2500\u2500\u2500\u2500\u2500\u2500\u2500\u2500\u2500\u2500\u2500\u2500\u2500\u2500\u2500\u2500\u2500\u2500\u2500\u2500\u2500\u2500\u2500\u2500\u2500\u2500\u2500\u2500\u2500\u2500\u2500\u2500\u2500\u2500\u2500\n",
        "                                                 8.06242418535907             \n",
        "                                                 \u2500\u2500\u2500\u2500\u2500\u2500\u2500\u2500\u2500\u2500\u2500\u2500\u2500\u2500\u2500\u2500             \n",
        "                                                       M_CO                   \n",
        "+ 4.1530307772742e-5\u22c5M_CO + 8.86579864118988e-7\u22c5\u212f                 - 8.86579864\n",
        "\n",
        "                  \u239e                       \u239b                        \u239b          \n",
        "                  \u239f  40312.1209267953\u22c5x   \u239c                        \u239c          \n",
        "                  \u239f  \u2500\u2500\u2500\u2500\u2500\u2500\u2500\u2500\u2500\u2500\u2500\u2500\u2500\u2500\u2500\u2500\u2500\u2500   \u239c                        \u239c          \n",
        "                  \u239f         M_CO          \u239c                        \u239c          \n",
        "\u2500\u2500\u2500\u2500\u2500\u2500\u2500\u2500\u2500 + 0.0001\u239f\u22c5\u212f                     \u239c4.1530307772742e-5\u22c5M_CO\u22c5\u239c- \u2500\u2500\u2500\u2500\u2500\u2500\u2500\u2500\n",
        "                  \u239f                       \u239c                        \u239c          \n",
        "                  \u239f                       \u239c                        \u239c          \n",
        "                  \u239f                       \u239c                        \u239c          \n",
        "118988e-7         \u23a0                       \u239c                        \u239d  4.153030\n",
        "\u2500\u2500\u2500\u2500\u2500\u2500\u2500\u2500\u2500\u2500\u2500\u2500\u2500\u2500\u2500\u2500\u2500\u2500\u2500\u2500\u2500\u2500\u2500\u2500\u2500\u2500\u2500\u2500\u2500\u2500\u2500\u2500\u2500\u2500\u2500\u2500\u2500\u2500\u2500 + \u239c\u2500\u2500\u2500\u2500\u2500\u2500\u2500\u2500\u2500\u2500\u2500\u2500\u2500\u2500\u2500\u2500\u2500\u2500\u2500\u2500\u2500\u2500\u2500\u2500\u2500\u2500\u2500\u2500\u2500\u2500\u2500\u2500\u2500\u2500\u2500\n",
        "                                          \u239c                                   \n",
        "                                          \u239c                                   \n",
        "                                          \u239c                                   \n",
        "118988e-7                                 \u239d                               4.15\n",
        "\n",
        "                                \u239b                     8.06242418535907        \n",
        "                                \u239c                     \u2500\u2500\u2500\u2500\u2500\u2500\u2500\u2500\u2500\u2500\u2500\u2500\u2500\u2500\u2500\u2500        \n",
        "                                \u239c                           M_CO              \n",
        "                       1803.0\u22c5y\u22c5\u239d1.09270868277246e-6\u22c5\u212f                 - 1.092\n",
        "\u2500\u2500\u2500\u2500\u2500\u2500\u2500\u2500\u2500\u2500\u2500\u2500\u2500\u2500\u2500\u2500\u2500\u2500\u2500\u2500\u2500\u2500\u2500\u2500\u2500\u2500\u2500\u2500\u2500\u2500\u2500\u2500\u2500\u2500\u2500\u2500\u2500\u2500\u2500\u2500\u2500\u2500\u2500\u2500\u2500\u2500\u2500\u2500\u2500\u2500\u2500\u2500\u2500\u2500\u2500\u2500\u2500\u2500\u2500\u2500\u2500\u2500\u2500\u2500\u2500\u2500\u2500\u2500\u2500\u2500\u2500\u2500\u2500\u2500\u2500\u2500\u2500\u2500\n",
        "                  8.06242418535907                                            \n",
        "                  \u2500\u2500\u2500\u2500\u2500\u2500\u2500\u2500\u2500\u2500\u2500\u2500\u2500\u2500\u2500\u2500                                            \n",
        "                        M_CO                                                  \n",
        "88193764e-5\u22c5M_CO\u22c5\u212f                 + 4.15303088193764e-5\u22c5M_CO + 8.865798641189\n",
        "\u2500\u2500\u2500\u2500\u2500\u2500\u2500\u2500\u2500\u2500\u2500\u2500\u2500\u2500\u2500\u2500\u2500\u2500\u2500\u2500\u2500\u2500\u2500\u2500\u2500\u2500\u2500\u2500\u2500\u2500\u2500\u2500\u2500\u2500\u2500\u2500\u2500\u2500\u2500\u2500\u2500\u2500\u2500\u2500\u2500\u2500\u2500\u2500\u2500\u2500\u2500\u2500\u2500\u2500\u2500\u2500\u2500\u2500\u2500\u2500\u2500\u2500\u2500\u2500\u2500\u2500\u2500\u2500\u2500\u2500\u2500\u2500\u2500\u2500\u2500\u2500\u2500\u2500\n",
        "                     8.06242418535907                                         \n",
        "                     \u2500\u2500\u2500\u2500\u2500\u2500\u2500\u2500\u2500\u2500\u2500\u2500\u2500\u2500\u2500\u2500                                         \n",
        "                           M_CO                                               \n",
        "30307772742e-5\u22c5M_CO\u22c5\u212f                 + 4.1530307772742e-5\u22c5M_CO + 8.8657986411\n",
        "\n",
        "              \u239e                                       \u239e                       \n",
        "              \u239f                                       \u239f \u239b 8.06242418535907    \n",
        "              \u239f                                       \u239f \u239c \u2500\u2500\u2500\u2500\u2500\u2500\u2500\u2500\u2500\u2500\u2500\u2500\u2500\u2500\u2500\u2500    \n",
        "70868277246e-6\u23a0                                       \u239f \u239c       M_CO          \n",
        "\u2500\u2500\u2500\u2500\u2500\u2500\u2500\u2500\u2500\u2500\u2500\u2500\u2500\u2500\u2500\u2500\u2500\u2500\u2500\u2500\u2500\u2500\u2500\u2500\u2500\u2500\u2500\u2500\u2500\u2500\u2500\u2500\u2500\u2500\u2500\u2500\u2500\u2500\u2500\u2500\u2500\u2500\u2500\u2500\u2500 + 0.0001\u239f\u22c5\u239d\u212f                 + 1\n",
        "       8.06242418535907                               \u239f                       \n",
        "       \u2500\u2500\u2500\u2500\u2500\u2500\u2500\u2500\u2500\u2500\u2500\u2500\u2500\u2500\u2500\u2500                               \u239f                       \n",
        "             M_CO                                     \u239f                       \n",
        "88e-7\u22c5\u212f                 - 8.86579864118988e-7         \u23a0                       \n",
        "\u2500\u2500\u2500\u2500\u2500\u2500\u2500\u2500\u2500\u2500\u2500\u2500\u2500\u2500\u2500\u2500\u2500\u2500\u2500\u2500\u2500\u2500\u2500\u2500\u2500\u2500\u2500\u2500\u2500\u2500\u2500\u2500\u2500\u2500\u2500\u2500\u2500\u2500\u2500\u2500\u2500\u2500\u2500\u2500\u2500\u2500\u2500\u2500\u2500\u2500\u2500\u2500\u2500\u2500\u2500\u2500\u2500\u2500\u2500\u2500\u2500\u2500\u2500\u2500\u2500\u2500\u2500\u2500\u2500\u2500\u2500\u2500\u2500\u2500\u2500\u2500\u2500\u2500\n",
        "         8.06242418535907                                                     \n",
        "         \u2500\u2500\u2500\u2500\u2500\u2500\u2500\u2500\u2500\u2500\u2500\u2500\u2500\u2500\u2500\u2500                                                     \n",
        "               M_CO                                                           \n",
        "8988e-7\u22c5\u212f                 - 8.86579864118988e-7                               \n",
        "\n",
        "                            \u239b                                          \u239b      \n",
        "\u239e                           \u239c                                          \u239c      \n",
        "\u239f                           \u239c                                          \u239c      \n",
        "\u239f                           \u239c                                 1803.0\u22c5y\u22c5\u239d1.0927\n",
        "\u23a0   4.1530307772742e-5\u22c5M_CO\u22c5\u239c- \u2500\u2500\u2500\u2500\u2500\u2500\u2500\u2500\u2500\u2500\u2500\u2500\u2500\u2500\u2500\u2500\u2500\u2500\u2500\u2500\u2500\u2500\u2500\u2500\u2500\u2500\u2500\u2500\u2500\u2500\u2500\u2500\u2500\u2500\u2500\u2500\u2500\u2500\u2500\u2500\u2500\u2500\u2500\u2500\u2500\u2500\u2500\n",
        "                            \u239c                            8.06242418535907     \n",
        "                            \u239c                            \u2500\u2500\u2500\u2500\u2500\u2500\u2500\u2500\u2500\u2500\u2500\u2500\u2500\u2500\u2500\u2500     \n",
        "                            \u239c                                  M_CO           \n",
        "                            \u239d  4.15303088193764e-5\u22c5M_CO\u22c5\u212f                 + 4.\n",
        "\u2500 - \u2500\u2500\u2500\u2500\u2500\u2500\u2500\u2500\u2500\u2500\u2500\u2500\u2500\u2500\u2500\u2500\u2500\u2500\u2500\u2500\u2500\u2500\u2500\u2500\u2500\u2500\u2500\u2500\u2500\u2500\u2500\u2500\u2500\u2500\u2500\u2500\u2500\u2500\u2500\u2500\u2500\u2500\u2500\u2500\u2500\u2500\u2500\u2500\u2500\u2500\u2500\u2500\u2500\u2500\u2500\u2500\u2500\u2500\u2500\u2500\u2500\u2500\u2500\u2500\u2500\u2500\u2500\u2500\u2500\u2500\u2500\u2500\u2500\u2500\n",
        "                                                8.06242418535907              \n",
        "                                                \u2500\u2500\u2500\u2500\u2500\u2500\u2500\u2500\u2500\u2500\u2500\u2500\u2500\u2500\u2500\u2500              \n",
        "                                                      M_CO                    \n",
        "                       4.1530307772742e-5\u22c5M_CO\u22c5\u212f                 + 4.153030777\n",
        "\n",
        "               8.06242418535907                      \u239e                        \n",
        "               \u2500\u2500\u2500\u2500\u2500\u2500\u2500\u2500\u2500\u2500\u2500\u2500\u2500\u2500\u2500\u2500                      \u239f                        \n",
        "                     M_CO                            \u239f                        \n",
        "0868277246e-6\u22c5\u212f                 - 1.09270868277246e-6\u23a0                        \n",
        "\u2500\u2500\u2500\u2500\u2500\u2500\u2500\u2500\u2500\u2500\u2500\u2500\u2500\u2500\u2500\u2500\u2500\u2500\u2500\u2500\u2500\u2500\u2500\u2500\u2500\u2500\u2500\u2500\u2500\u2500\u2500\u2500\u2500\u2500\u2500\u2500\u2500\u2500\u2500\u2500\u2500\u2500\u2500\u2500\u2500\u2500\u2500\u2500\u2500\u2500\u2500\u2500\u2500\u2500\u2500\u2500\u2500\u2500\u2500\u2500\u2500\u2500\u2500\u2500\u2500\u2500\u2500\u2500\u2500\u2500\u2500\u2500\u2500\u2500\u2500\u2500\u2500\u2500\n",
        "                                              8.06242418535907                \n",
        "                                              \u2500\u2500\u2500\u2500\u2500\u2500\u2500\u2500\u2500\u2500\u2500\u2500\u2500\u2500\u2500\u2500                \n",
        "                                                    M_CO                      \n",
        "15303088193764e-5\u22c5M_CO + 8.86579864118988e-7\u22c5\u212f                 - 8.86579864118\n",
        "\u2500\u2500\u2500\u2500\u2500\u2500\u2500\u2500\u2500\u2500\u2500\u2500\u2500\u2500\u2500\u2500\u2500\u2500\u2500\u2500\u2500\u2500\u2500\u2500\u2500\u2500\u2500\u2500\u2500\u2500\u2500\u2500\u2500\u2500\u2500\u2500\u2500\u2500\u2500\u2500\u2500\u2500\u2500\u2500\u2500\u2500\u2500\u2500\u2500\u2500\u2500\u2500\u2500\u2500\u2500\u2500\u2500\u2500\u2500\u2500\u2500\u2500\u2500\u2500\u2500\u2500\u2500\u2500\u2500\u2500\u2500\u2500\u2500\u2500\u2500\u2500\u2500\u2500\n",
        "                                    8.06242418535907                          \n",
        "                                    \u2500\u2500\u2500\u2500\u2500\u2500\u2500\u2500\u2500\u2500\u2500\u2500\u2500\u2500\u2500\u2500                          \n",
        "                                          M_CO                                \n",
        "2742e-5\u22c5M_CO + 8.86579864118988e-7\u22c5\u212f                 - 8.86579864118988e-7    \n",
        "\n",
        "               \u239e\u239e                      \n",
        "               \u239f\u239f                      \n",
        "               \u239f\u239f                      \n",
        "               \u239f\u239f                      \n",
        "\u2500\u2500\u2500\u2500\u2500\u2500 + 0.0001\u239f\u239f                      \n",
        "               \u239f\u239f                      \n",
        "               \u239f\u239f  -40312.1209267953\u22c5x \n",
        "               \u239f\u239f  \u2500\u2500\u2500\u2500\u2500\u2500\u2500\u2500\u2500\u2500\u2500\u2500\u2500\u2500\u2500\u2500\u2500\u2500\u2500\u2500\n",
        "988e-7         \u23a0\u239f          M_CO        \n",
        "\u2500\u2500\u2500\u2500\u2500\u2500\u2500\u2500\u2500\u2500\u2500\u2500\u2500\u2500\u2500\u2500\u239f\u22c5\u212f                    \n",
        "                \u239f                      \n",
        "                \u239f                      \n",
        "                \u239f                      \n",
        "                \u23a0                      "
       ]
      }
     ],
     "prompt_number": 28
    },
    {
     "cell_type": "code",
     "collapsed": false,
     "input": [
      "T_s = T_s.subs({Y_b:y_b_part_sol.rhs})"
     ],
     "language": "python",
     "metadata": {},
     "outputs": []
    },
    {
     "cell_type": "code",
     "collapsed": false,
     "input": [
      "cp = gas.cp_mass\n",
      "\n",
      "h_t = val_dict[Sh]*gas.thermal_conductivity/(rho*cp)/val_dict[L]\n",
      "\n",
      "\n",
      "diffeq_T_b = sy.Eq(u * sy.diff(T_b,y)+h_t* A_V* (T_b-T_s.rhs),0)\n",
      "\n"
     ],
     "language": "python",
     "metadata": {},
     "outputs": []
    },
    {
     "cell_type": "code",
     "collapsed": false,
     "input": [
      "T_b_sol = sy.dsolve(diffeq_T_b,T_b,simplify=False)"
     ],
     "language": "python",
     "metadata": {},
     "outputs": []
    },
    {
     "cell_type": "code",
     "collapsed": false,
     "input": [
      "sol_c1_tb = sy.solve(sy.Eq(T_b_sol.subs({y:0}).rhs,1000),C1)"
     ],
     "language": "python",
     "metadata": {},
     "outputs": []
    },
    {
     "cell_type": "code",
     "collapsed": false,
     "input": [
      "T_b_part_sol = T_b_sol.subs({C1:sol_c1_tb[0]})"
     ],
     "language": "python",
     "metadata": {},
     "outputs": []
    },
    {
     "cell_type": "code",
     "collapsed": false,
     "input": [
      "sol_simple_T = sol_simple_T.subs({Y_b:y_b_part_sol.rhs,T_b:T_b_part_sol.rhs})"
     ],
     "language": "python",
     "metadata": {},
     "outputs": []
    },
    {
     "cell_type": "code",
     "collapsed": false,
     "input": [
      "sol_simple = sol_simple.subs({M_CO:0.028})\n",
      "sol_simple_fun=sy.lambdify((x,y),sol_simple.rhs)\n",
      "#sol_simple_fun_T=sy.lambdify((x,y),sol_simple_T.rhs)"
     ],
     "language": "python",
     "metadata": {},
     "outputs": [],
     "prompt_number": 29
    },
    {
     "cell_type": "code",
     "collapsed": false,
     "input": [
      "sol_simple.rhs"
     ],
     "language": "python",
     "metadata": {},
     "outputs": [
      {
       "latex": [
        "$$5.02945961701987 \\cdot 10^{-126} \\left(- 961.318603896209 y + 0.0001\\right) e^{1439718.60452841 x} + \\frac{1}{e^{1439718.60452841 x}} \\left(- 545.453534778406 y + 5.67401413608029 \\cdot 10^{-5}\\right)$$"
       ],
       "metadata": {},
       "output_type": "pyout",
       "png": "[encoded data removed]",
       "prompt_number": 30,
       "text": [
        "                                                      1439718.60452841\u22c5x      \n",
        "5.02945961701987e-126\u22c5(-961.318603896209\u22c5y + 0.0001)\u22c5\u212f                   + (-5\n",
        "\n",
        "                                          -1439718.60452841\u22c5x\n",
        "45.453534778406\u22c5y + 5.67401413608029e-5)\u22c5\u212f                   "
       ]
      }
     ],
     "prompt_number": 30
    },
    {
     "cell_type": "code",
     "collapsed": false,
     "input": [
      "def get_grid(ratio=1.1,wc_thickness=1E-4,nx=32):\n",
      "    dx_c = wc_thickness*(1-ratio)/(1-ratio**nx)\n",
      "    dx = []\n",
      "    for x_c in range(nx):\n",
      "        dx.append(dx_c)\n",
      "        dx_c *= ratio\n",
      "    return np.cumsum(dx) -0.5*np.array(dx)"
     ],
     "language": "python",
     "metadata": {},
     "outputs": []
    },
    {
     "cell_type": "code",
     "collapsed": false,
     "input": [
      "fig = pl.figure()\n",
      "fig1 = pl.figure()\n",
      "fig3 = pl.figure()\n",
      "\n",
      "\n",
      "\n",
      "ax = fig.add_subplot(1,1,1)\n",
      "ax1 = fig1.add_subplot(1,1,1)\n",
      "ax3 = fig3.add_subplot(1,1,1)\n",
      "\n",
      "data_folder = \"/home/vonrickenbach/contrib_git/cantera_tests/washcoat_model/\"\n",
      "err_T = []\n",
      "err_Y = []\n",
      "grids = [32]\n",
      "#grids = [32,64]\n",
      "\n",
      "index = 7\n",
      "\n",
      "x_ind = 0.0001\n",
      "\n",
      "for nx in grids:\n",
      "    x_val = get_grid(nx=nx)\n",
      "\n",
      "    y_val =[sol_simple_fun(item,x_ind) for item in x_val]\n",
      "    ax.plot(x_val*1E6,np.array(y_val),'k')\n",
      "\n",
      " #   T_val = np.array([sol_simple_fun_T(item,x_ind) for item in x_val])\n",
      " #   ax1.plot(x_val,T_val-1000)\n",
      "    data= np.genfromtxt(os.path.join(data_folder,\"grid_\"+str(31)+\"_0.dat\"))\n",
      "#    ax1.plot(x_val,data[5,1:]-1000,'o')\n",
      "\n",
      "    ax.set_xlabel(\"x-xoordinate ($\\mu m$)\")\n",
      "    ax.set_ylabel(\"$O_2$ mass-fraction\")\n",
      "\n",
      "    ax.plot(x_val*1E6,data[0,1:],'ko')\n",
      "#    err_T.append(np.amax(np.abs(data[5,1:])-T_val+1000))\n",
      "    err_Y.append(np.amax(np.abs(data[0,1:])-y_val))\n",
      "    ax.legend([\"Analytical solution\",\"Numerical solution\"])\n",
      "\n",
      "fig.tight_layout()\n",
      "fig.savefig(\"wc.png\")\n",
      "#ax3.loglog(grids,err_T/err_T[-3])\n",
      "#ax3.loglog(grids,err_Y/err_Y[-3])\n",
      "#ax3.loglog(grids,(1./np.array(grids)*16)**2)\n",
      "\n",
      "\n",
      "fluxes_data = np.genfromtxt(os.path.join(data_folder,\"fluxes_\"+str(0)+\"_0.dat\"))\n"
     ],
     "language": "python",
     "metadata": {},
     "outputs": []
    },
    {
     "cell_type": "code",
     "collapsed": false,
     "input": [
      "T_val"
     ],
     "language": "python",
     "metadata": {},
     "outputs": []
    },
    {
     "cell_type": "code",
     "collapsed": false,
     "input": [
      "fluxes_data[0,0]"
     ],
     "language": "python",
     "metadata": {},
     "outputs": []
    },
    {
     "cell_type": "code",
     "collapsed": false,
     "input": [
      "- gas.density * val_dict[D]*sy.diff(sol_simple.rhs,x).subs({y:0,x:0.000})"
     ],
     "language": "python",
     "metadata": {},
     "outputs": []
    },
    {
     "cell_type": "code",
     "collapsed": false,
     "input": [
      "sy.diff(sol_simple.rhs,y).subs({y:0,x:0})"
     ],
     "language": "python",
     "metadata": {},
     "outputs": []
    },
    {
     "cell_type": "code",
     "collapsed": false,
     "input": [
      "data = []\n",
      "\n",
      "nx = 32\n",
      "\n",
      "for g_idx in range(nx):\n",
      "    data.append(np.genfromtxt(os.path.join(data_folder,\"grid_\"+str(g_idx)+\"_1000.dat\")))\n",
      "\n",
      "data = np.array(data)"
     ],
     "language": "python",
     "metadata": {},
     "outputs": []
    },
    {
     "cell_type": "code",
     "collapsed": false,
     "input": [],
     "language": "python",
     "metadata": {},
     "outputs": []
    },
    {
     "cell_type": "code",
     "collapsed": false,
     "input": [
      "from mpl_toolkits.mplot3d import Axes3D\n",
      "import matplotlib as ml\n",
      "\n",
      "species_data = data[:,5,:]\n",
      "\n",
      "fig = pl.figure()\n",
      "ax = fig.add_subplot(111, projection='3d')\n",
      "\n",
      "x,y = np.meshgrid(np.linspace(0,0.005,32),get_grid())\n",
      "ax.plot_surface(x,y,species_data[:,1:],cmap=ml.cm.coolwarm)\n",
      "ax.plot_surface(x,y,sol_simple_fun(x,y),cmap=ml.cm.coolwarm)"
     ],
     "language": "python",
     "metadata": {},
     "outputs": []
    },
    {
     "cell_type": "code",
     "collapsed": false,
     "input": [
      "sol_simple_fun(np.array([1E-5,1E-5]),np.array([0.005,0.005]))"
     ],
     "language": "python",
     "metadata": {},
     "outputs": []
    },
    {
     "cell_type": "code",
     "collapsed": false,
     "input": [
      "def mult2(a,b):\n",
      "    return a*b * 2\n",
      "\n",
      "sol_simple_fun(x,y)\n",
      "mult2(x,y)"
     ],
     "language": "python",
     "metadata": {},
     "outputs": []
    },
    {
     "cell_type": "code",
     "collapsed": false,
     "input": [
      "from mpl_toolkits.mplot3d import Axes3D\n",
      "import matplotlib as ml\n",
      "\n",
      "species_data = data[:,5,:]\n",
      "\n",
      "fig = pl.figure()\n",
      "ax = fig.add_subplot(111, projection='3d')\n",
      "\n",
      "x,y = np.meshgrid(np.linspace(0,0.005,32),get_grid())\n",
      "\n",
      "z = y * 1.0\n",
      "\n",
      "for (x_ind,y_ind),val in np.ndenumerate(x):\n",
      "\n",
      "    print(x_ind,y_ind,val,y[x_ind,y_ind])\n",
      "    z[x_ind,y_ind] = sol_simple_fun(val,y[x_ind,y_ind])\n",
      "    \n",
      "ax.plot_surface(x,y,species_data[:,1:],cmap=ml.cm.coolwarm)"
     ],
     "language": "python",
     "metadata": {},
     "outputs": []
    },
    {
     "cell_type": "code",
     "collapsed": false,
     "input": [
      "sol_simple_fun(0.005,1E-4)\n",
      "\n"
     ],
     "language": "python",
     "metadata": {},
     "outputs": []
    },
    {
     "cell_type": "heading",
     "level": 1,
     "metadata": {},
     "source": [
      "Analytical solution unsteady"
     ]
    },
    {
     "cell_type": "code",
     "collapsed": false,
     "input": [
      "t,rhocp,T_bulk,h_temp,T_0= sy.symbols(\"t rhocp T_bulk h_temp T_0\",positive=True )\n",
      "C1,C2 = sy.symbols(\"C1 C2\")\n",
      "\n",
      "Ts = sy.Function(\"Ts\")(t)\n"
     ],
     "language": "python",
     "metadata": {},
     "outputs": [],
     "prompt_number": 3
    },
    {
     "cell_type": "code",
     "collapsed": false,
     "input": [
      "diffeq_T_t = sy.Eq(sy.diff(Ts,t),h_temp/rhocp*(-Ts+T_bulk))"
     ],
     "language": "python",
     "metadata": {},
     "outputs": [],
     "prompt_number": 4
    },
    {
     "cell_type": "code",
     "collapsed": false,
     "input": [
      "diffeq_T_t"
     ],
     "language": "python",
     "metadata": {},
     "outputs": [
      {
       "latex": [
        "$$\\frac{d}{d t} \\operatorname{Ts}{\\left (t \\right )} = \\frac{h_{temp}}{rhocp} \\left(T_{bulk} - \\operatorname{Ts}{\\left (t \\right )}\\right)$$"
       ],
       "metadata": {},
       "output_type": "pyout",
       "png": "[encoded data removed]",
       "prompt_number": 5,
       "text": [
        "d           h_temp\u22c5(T_bulk - Ts(t))\n",
        "\u2500\u2500(Ts(t)) = \u2500\u2500\u2500\u2500\u2500\u2500\u2500\u2500\u2500\u2500\u2500\u2500\u2500\u2500\u2500\u2500\u2500\u2500\u2500\u2500\u2500\u2500\u2500\n",
        "dt                   rhocp         "
       ]
      }
     ],
     "prompt_number": 5
    },
    {
     "cell_type": "code",
     "collapsed": false,
     "input": [
      "sol_Ts = sy.dsolve(diffeq_T_t,Ts)\n",
      "sol_Ts"
     ],
     "language": "python",
     "metadata": {},
     "outputs": [
      {
       "latex": [
        "$$\\operatorname{Ts}{\\left (t \\right )} = \\frac{C_{1}}{e^{\\frac{h_{temp} t}{rhocp}}} + T_{bulk}$$"
       ],
       "metadata": {},
       "output_type": "pyout",
       "png": "[encoded data removed]",
       "prompt_number": 6,
       "text": [
        "            -h_temp\u22c5t          \n",
        "            \u2500\u2500\u2500\u2500\u2500\u2500\u2500\u2500\u2500\u2500         \n",
        "              rhocp            \n",
        "Ts(t) = C\u2081\u22c5\u212f           + T_bulk"
       ]
      }
     ],
     "prompt_number": 6
    },
    {
     "cell_type": "code",
     "collapsed": false,
     "input": [
      "C1_sol = sy.solve(sy.Eq(sol_Ts.subs({t:0}).rhs,T_0),C1)[0]\n",
      "sy.Eq(sol_Ts.subs({t:0}).rhs,T_0)"
     ],
     "language": "python",
     "metadata": {},
     "outputs": [
      {
       "latex": [
        "$$C_{1} + T_{bulk} = T_{0}$$"
       ],
       "metadata": {},
       "output_type": "pyout",
       "png": "[encoded data removed]",
       "prompt_number": 7,
       "text": [
        "C\u2081 + T_bulk = T\u2080"
       ]
      }
     ],
     "prompt_number": 7
    },
    {
     "cell_type": "code",
     "collapsed": false,
     "input": [
      "sol"
     ],
     "language": "python",
     "metadata": {},
     "outputs": [
      {
       "ename": "NameError",
       "evalue": "name 'sol' is not defined",
       "output_type": "pyerr",
       "traceback": [
        "\u001b[1;31m---------------------------------------------------------------------------\u001b[0m\n\u001b[1;31mNameError\u001b[0m                                 Traceback (most recent call last)",
        "\u001b[1;32m<ipython-input-8-56717d999058>\u001b[0m in \u001b[0;36m<module>\u001b[1;34m()\u001b[0m\n\u001b[1;32m----> 1\u001b[1;33m \u001b[0msol\u001b[0m\u001b[1;33m\u001b[0m\u001b[0m\n\u001b[0m",
        "\u001b[1;31mNameError\u001b[0m: name 'sol' is not defined"
       ]
      }
     ],
     "prompt_number": 8
    },
    {
     "cell_type": "code",
     "collapsed": false,
     "input": [
      "sol_Ts = sol_Ts.subs({C1:C1_sol})"
     ],
     "language": "python",
     "metadata": {},
     "outputs": [],
     "prompt_number": 9
    },
    {
     "cell_type": "code",
     "collapsed": false,
     "input": [
      "sol_Ts = sol_Ts.subs({h_temp:0.026,T_0:300,rhocp:1,T_bulk:310}).rhs"
     ],
     "language": "python",
     "metadata": {},
     "outputs": [],
     "prompt_number": 10
    },
    {
     "cell_type": "code",
     "collapsed": false,
     "input": [
      "def get_time(name):\n",
      "    name = os.path.basename(name)\n",
      "    try:\n",
      "        return int(\"\".join([char for char in name[6:] if char.isdigit() or char == \"-\"]))\n",
      "    except:\n",
      "        print(name)\n",
      "    \n",
      "get_time(\"grid_0_-1.dat \")"
     ],
     "language": "python",
     "metadata": {},
     "outputs": [
      {
       "latex": [
        "$$-1$$"
       ],
       "metadata": {},
       "output_type": "pyout",
       "png": "[encoded data removed]",
       "prompt_number": 11,
       "text": [
        "-1"
       ]
      }
     ],
     "prompt_number": 11
    },
    {
     "cell_type": "code",
     "collapsed": false,
     "input": [
      "def apply_array(func):\n",
      "    def apply_arr(array): \n",
      "        vals = np.array(np.zeros(len(time)))\n",
      "        for idx,ti in enumerate(array):\n",
      "            vals[idx] = func(ti)\n",
      "        return vals\n",
      "    \n",
      "    return apply_arr\n",
      "\n",
      "\n",
      "num_Ts = apply_array(sy.lambdify(t,sol_Ts))\n",
      "\n",
      "\n",
      "\n",
      "\n",
      "num_Ts(time)"
     ],
     "language": "python",
     "metadata": {},
     "outputs": [
      {
       "metadata": {},
       "output_type": "pyout",
       "prompt_number": 24,
       "text": [
        "array([ 300.        ,  300.5167805 ,  301.00685479,  301.47160299,\n",
        "        301.91233392,  302.33028873,  302.72664445,  303.10251728,\n",
        "        303.45896574,  303.79699363,  304.1175529 ,  304.4215463 ,\n",
        "        304.70982991,  304.98321558,  305.24247322,  305.48833292,\n",
        "        305.72148708,  305.94259228,  306.1522712 ,  306.35111432,\n",
        "        306.53968162,  306.71850412,  306.88808543,  307.04890311,\n",
        "        307.20141004,  307.34603571,  307.48318741,  307.61325138,\n",
        "        307.73659389,  307.8535623 ,  307.96448602,  308.06967741,\n",
        "        308.16943272,  308.26403286,  308.35374426,  308.43881955,\n",
        "        308.51949831,  308.59600775,  308.66856333,  308.73736938,\n",
        "        308.80261967,  308.86449795,  308.92317848,  308.97882652,\n",
        "        309.03159877,  309.08164386,  309.12910271,  309.17410899,\n",
        "        309.21678942,  309.25726422])"
       ]
      }
     ],
     "prompt_number": 24
    },
    {
     "cell_type": "code",
     "collapsed": false,
     "input": [
      "time = np.linspace(0,100)"
     ],
     "language": "python",
     "metadata": {},
     "outputs": [],
     "prompt_number": 25
    },
    {
     "cell_type": "code",
     "collapsed": false,
     "input": [
      "def load_wc_ani(sim):\n",
      "\n",
      "    filelist = gl.glob(os.path.join(sim.info.local[\"sim_folder\"],\"grid_0_*\"))\n",
      "    \n",
      "    \n",
      "    filelist = [filename for filename in filelist if get_time(filename) >  0]\n",
      "    time_data = np.genfromtxt(os.path.join(sim.info.local[\"sim_folder\"],\"time_file.dat\"))\n",
      "\n",
      "    \n",
      "    sorted_list = sorted(filelist,key=lambda name :get_time(name))\n",
      "    wc_data = []\n",
      "    for filename in sorted_list:\n",
      "        wc_data.append([time_data[get_time(filename)-1,1],np.genfromtxt(filename)])\n",
      "    \n",
      "    sim.all_data = wc_data  \n",
      "    return time_data\n",
      "\n",
      "\n",
      "\n",
      "def create_simulation_python(input_dict,folder,root_folder=\".\",ref_folder=None):\n",
      "     \n",
      "\n",
      "    config_sim = jc.configuration_mb_local\n",
      "    config_sim[\"transat_version\"] = \"wc_python\"\n",
      "\n",
      "    config_sim[\"jobname\"] = inputs[\"folder\"]\n",
      "    config_sim[\"root_folder\"] = root_folder\n",
      "    simulation = sim_brutus.job(**config_sim)\n",
      "\n",
      "    simulation.sim_info = input_dict.copy()\n",
      "    simulation.sim_info[\"converged\"] = False\n",
      "\n",
      "\n",
      "    return simulation\n",
      "\n"
     ],
     "language": "python",
     "metadata": {},
     "outputs": [],
     "prompt_number": 26
    },
    {
     "cell_type": "code",
     "collapsed": false,
     "input": [
      "sim_list_val  = []\n",
      "root_folder= \"/home/vonrickenbach/contrib_git/cantera_tests/\"\n",
      "\n",
      "folder = \"washcoat_model\"\n",
      "temperatures = np.array([300])\n",
      "temp_array= temperatures\n",
      "\n",
      "\n",
      "for temperature in temperatures:\n",
      "        inputs = {}\n",
      "        inputs[\"wc_thickness\"] = 20\n",
      "        inputs[\"temperature\"] = temperature\n",
      "        inputs[\"cov_CO\"] = 1\n",
      "        inputs[\"folder\"] = folder\n",
      "        inputs[\"res\"] = 20\n",
      "        inputs[\"nx\"]  = 32\n",
      "        inputs[\"t_fac\"]  = 1\n",
      "        inputs[\"x_cells\"]  = 20\n",
      "        inputs[\"velocity\"] = 25000/3600.*0.07\n",
      "        \n",
      "        inputs[\"sh_number\"] = 4000\n",
      "        inputs[\"a_v\"] = 4000\n",
      "\n",
      "        inputs[\"mf\"] = 1E3\n",
      "\n",
      "        sim_list_val.append(create_simulation_python(inputs,folder,root_folder=root_folder))"
     ],
     "language": "python",
     "metadata": {},
     "outputs": [
      {
       "output_type": "stream",
       "stream": "stdout",
       "text": [
        "Warning Initial conditions with single block code not supported\n"
       ]
      }
     ],
     "prompt_number": 27
    },
    {
     "cell_type": "code",
     "collapsed": false,
     "input": [
      "sim = sim_list_val[0]"
     ],
     "language": "python",
     "metadata": {},
     "outputs": [],
     "prompt_number": 28
    },
    {
     "cell_type": "code",
     "collapsed": false,
     "input": [
      "time_val = load_wc_ani(sim)"
     ],
     "language": "python",
     "metadata": {},
     "outputs": [],
     "prompt_number": 45
    },
    {
     "cell_type": "code",
     "collapsed": false,
     "input": [
      "print_wc_time(sim,time_val)\n",
      "pl.plot(time,num_Ts(time))"
     ],
     "language": "python",
     "metadata": {},
     "outputs": [
      {
       "metadata": {},
       "output_type": "pyout",
       "prompt_number": 47,
       "text": [
        "[<matplotlib.lines.Line2D at 0x7fd49d2ba250>]"
       ]
      },
      {
       "metadata": {},
       "output_type": "display_data",
       "png": "[encoded data removed]",
       "text": [
        "<matplotlib.figure.Figure at 0x7fd49d2ba2d0>"
       ]
      }
     ],
     "prompt_number": 47
    },
    {
     "cell_type": "code",
     "collapsed": false,
     "input": [
      "time_val"
     ],
     "language": "python",
     "metadata": {},
     "outputs": [
      {
       "metadata": {},
       "output_type": "pyout",
       "prompt_number": 33,
       "text": [
        "array([[    0.     ,     0.     ],\n",
        "       [    2.     ,     5.03766],\n",
        "       [    3.     ,    67.8332 ],\n",
        "       [    4.     ,   135.371  ],\n",
        "       [    5.     ,   208.025  ],\n",
        "       [    6.     ,   287.012  ],\n",
        "       [    7.     ,   315.811  ],\n",
        "       [    8.     ,   371.016  ],\n",
        "       [    9.     ,   408.778  ],\n",
        "       [   10.     ,   655.483  ],\n",
        "       [   11.     ,   801.204  ],\n",
        "       [   12.     ,   895.027  ],\n",
        "       [   13.     ,   925.811  ],\n",
        "       [   14.     ,   974.649  ],\n",
        "       [   15.     ,  1000.     ]])"
       ]
      }
     ],
     "prompt_number": 33
    },
    {
     "cell_type": "code",
     "collapsed": false,
     "input": [
      "def print_wc_time(sim,sp=4,sli=1,time=3.6E-5):\n",
      "\n",
      "    nplots = 1\n",
      "    figs = [pl.figure(figsize=(12,6)) for item in range(1)]\n",
      "    axs = [figs[0].add_subplot(1,nplots,item+1) for item in range(nplots)]\n",
      "    data = np.array([item[1] for item in sim.all_data])\n",
      "    time_val = np.array([item[0] for item in sim.all_data])\n",
      "    axs[0].plot(time_val,data[:,-1,sli],'r')\n",
      "\n",
      "\n",
      "    st_idx = 0\n",
      "    axs[0].set_title(\"T at first cell over time\")\n"
     ],
     "language": "python",
     "metadata": {},
     "outputs": [],
     "prompt_number": 31
    },
    {
     "cell_type": "code",
     "collapsed": false,
     "input": [
      "gas.TPX = (310.0,1E5,[0.1,0,0.9,0.0])\n",
      "\n",
      "gas.thermal_conductivity"
     ],
     "language": "python",
     "metadata": {},
     "outputs": [
      {
       "ename": "NameError",
       "evalue": "name 'gas' is not defined",
       "output_type": "pyerr",
       "traceback": [
        "\u001b[1;31m---------------------------------------------------------------------------\u001b[0m\n\u001b[1;31mNameError\u001b[0m                                 Traceback (most recent call last)",
        "\u001b[1;32m<ipython-input-32-cbbd8da86911>\u001b[0m in \u001b[0;36m<module>\u001b[1;34m()\u001b[0m\n\u001b[1;32m----> 1\u001b[1;33m \u001b[0mgas\u001b[0m\u001b[1;33m.\u001b[0m\u001b[0mTPX\u001b[0m \u001b[1;33m=\u001b[0m \u001b[1;33m(\u001b[0m\u001b[1;36m310.0\u001b[0m\u001b[1;33m,\u001b[0m\u001b[1;36m1E5\u001b[0m\u001b[1;33m,\u001b[0m\u001b[1;33m[\u001b[0m\u001b[1;36m0.1\u001b[0m\u001b[1;33m,\u001b[0m\u001b[1;36m0\u001b[0m\u001b[1;33m,\u001b[0m\u001b[1;36m0.9\u001b[0m\u001b[1;33m,\u001b[0m\u001b[1;36m0.0\u001b[0m\u001b[1;33m]\u001b[0m\u001b[1;33m)\u001b[0m\u001b[1;33m\u001b[0m\u001b[0m\n\u001b[0m\u001b[0;32m      2\u001b[0m \u001b[1;33m\u001b[0m\u001b[0m\n\u001b[0;32m      3\u001b[0m \u001b[0mgas\u001b[0m\u001b[1;33m.\u001b[0m\u001b[0mthermal_conductivity\u001b[0m\u001b[1;33m\u001b[0m\u001b[0m\n",
        "\u001b[1;31mNameError\u001b[0m: name 'gas' is not defined"
       ]
      }
     ],
     "prompt_number": 32
    },
    {
     "cell_type": "code",
     "collapsed": false,
     "input": [
      "0.003/(1+100*0.028)"
     ],
     "language": "python",
     "metadata": {},
     "outputs": [
      {
       "latex": [
        "$$0.000789473684211$$"
       ],
       "metadata": {},
       "output_type": "pyout",
       "png": "[encoded data removed]",
       "prompt_number": 22,
       "text": [
        "0.000789473684211"
       ]
      }
     ],
     "prompt_number": 22
    },
    {
     "cell_type": "code",
     "collapsed": false,
     "input": [],
     "language": "python",
     "metadata": {},
     "outputs": []
    }
   ],
   "metadata": {}
  }
 ]
}