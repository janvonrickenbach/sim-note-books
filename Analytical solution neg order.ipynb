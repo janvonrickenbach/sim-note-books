{
 "metadata": {
  "name": "",
  "signature": "sha256:ea4f7080535d0d0d48975c5cfa48794664224b688106af7d927491097785c407"
 },
 "nbformat": 3,
 "nbformat_minor": 0,
 "worksheets": [
  {
   "cells": [
    {
     "cell_type": "code",
     "collapsed": false,
     "input": [
      "import sympy as sy\n",
      "import matplotlib.pyplot as pl\n",
      "import numpy as np\n",
      "import cantera as ca\n",
      "import os\n",
      "%matplotlib inline\n",
      "sy.init_printing()\n",
      "%load_ext sympyprinting"
     ],
     "language": "python",
     "metadata": {},
     "outputs": [
      {
       "output_type": "stream",
       "stream": "stderr",
       "text": [
        "/home/vonrickenbach/ipython/ipython/IPython/extensions/sympyprinting.py:118: UserWarning: The sympyprinting extension in IPython is deprecated, use 'from sympy import init_printing; init_printing()'\n",
        "  warnings.warn(\"The sympyprinting extension in IPython is deprecated, \"\n",
        "/usr/local/lib/python2.7/dist-packages/sympy/interactive/ipythonprinting.py:49: SymPyDeprecationWarning: \n",
        "\n",
        "using %load_ext sympy.interactive.ipythonprinting has been deprecated\n",
        "since SymPy 0.7.3. Use from sympy import init_printing ;\n",
        "init_printing() instead. See\n",
        "http://code.google.com/p/sympy/issues/detail?id=3914 for more info.\n",
        "\n",
        "  issue=3914\n"
       ]
      }
     ],
     "prompt_number": 2
    },
    {
     "cell_type": "code",
     "collapsed": false,
     "input": [
      "theta,k,max_h,Y_s,h = sy.symbols(\"theta k max_h Y_s h\",positive=True)"
     ],
     "language": "python",
     "metadata": {},
     "outputs": [],
     "prompt_number": 444
    },
    {
     "cell_type": "code",
     "collapsed": false,
     "input": [
      "max_h = 1.0\n",
      "rr = k * Y_s\n",
      "Y_s = sy.solve(sy.Eq(h*(1.0-Y_s),rr),Y_s)\n",
      "Y_s = Y_s[0]\n",
      "Y_s\n"
     ],
     "language": "python",
     "metadata": {},
     "outputs": [
      {
       "latex": [
        "$$\\frac{h}{h + k}$$"
       ],
       "metadata": {},
       "output_type": "pyout",
       "png": "[encoded data removed]",
       "prompt_number": 445,
       "text": [
        "  h  \n",
        "\u2500\u2500\u2500\u2500\u2500\n",
        "h + k"
       ]
      }
     ],
     "prompt_number": 445
    },
    {
     "cell_type": "code",
     "collapsed": false,
     "input": [
      "Y_s_lin = Y_s.subs({h:max_h*theta})\n",
      "rr_lin =  k * Y_s_lin "
     ],
     "language": "python",
     "metadata": {},
     "outputs": [],
     "prompt_number": 446
    },
    {
     "cell_type": "code",
     "collapsed": false,
     "input": [
      "linear_int = sy.integrate(rr_lin,(theta,0,sy.pi))\n"
     ],
     "language": "python",
     "metadata": {},
     "outputs": [],
     "prompt_number": 447
    },
    {
     "cell_type": "code",
     "collapsed": false,
     "input": [
      "Y_s_const = Y_s.subs({h:max_h/2.0*sy.pi})\n",
      "Y_s_const"
     ],
     "language": "python",
     "metadata": {},
     "outputs": [
      {
       "latex": [
        "$$\\frac{0.5 \\pi}{k + 0.5 \\pi}$$"
       ],
       "metadata": {},
       "output_type": "pyout",
       "png": "[encoded data removed]",
       "prompt_number": 448,
       "text": [
        "  0.5\u22c5\u03c0  \n",
        "\u2500\u2500\u2500\u2500\u2500\u2500\u2500\u2500\u2500\n",
        "k + 0.5\u22c5\u03c0"
       ]
      }
     ],
     "prompt_number": 448
    },
    {
     "cell_type": "code",
     "collapsed": false,
     "input": [
      "rr =  k *Y_s_const \n",
      "const_int = sy.integrate(rr,(theta,0,sy.pi))\n",
      "const_int"
     ],
     "language": "python",
     "metadata": {},
     "outputs": [
      {
       "latex": [
        "$$\\frac{0.5 \\pi^{2} k}{k + 0.5 \\pi}$$"
       ],
       "metadata": {},
       "output_type": "pyout",
       "png": "[encoded data removed]",
       "prompt_number": 449,
       "text": [
        "      2  \n",
        " 0.5\u22c5\u03c0 \u22c5k\n",
        "\u2500\u2500\u2500\u2500\u2500\u2500\u2500\u2500\u2500\n",
        "k + 0.5\u22c5\u03c0"
       ]
      }
     ],
     "prompt_number": 449
    },
    {
     "cell_type": "code",
     "collapsed": false,
     "input": [
      "frac = 0.99\n",
      "fac = 10\n",
      "\n",
      "Y_s_step_1 = Y_s.subs({h:max_h*sy.pi*frac*fac})\n",
      "Y_s_step_2 = Y_s.subs({h:max_h*sy.pi*(1-frac)/fac})\n",
      "\n",
      "rr_step_1 =  k * Y_s_step_1 \n",
      "rr_step_2 =  k * Y_s_step_2 \n",
      "\n",
      "\n",
      "step_int = sy.integrate(rr_step_1,(theta,0.0,sy.pi/(2*fac))) + sy.integrate(rr_step_2,(theta,sy.pi/(2*fac),sy.pi))"
     ],
     "language": "python",
     "metadata": {},
     "outputs": [],
     "prompt_number": 479
    },
    {
     "cell_type": "code",
     "collapsed": false,
     "input": [
      "lam_fun_lin = sy.lambdify(k,(linear_int/const_int).subs({max_h:1}))\n",
      "lam_fun_step = sy.lambdify(k,(step_int/const_int).subs({max_h:1}))\n",
      "\n"
     ],
     "language": "python",
     "metadata": {},
     "outputs": [],
     "prompt_number": 480
    },
    {
     "cell_type": "code",
     "collapsed": false,
     "input": [
      "data = np.logspace(-5,5,100)\n",
      "for lam_fun in [lam_fun_lin,lam_fun_step]:\n",
      "    val = []\n",
      "    for d in data:\n",
      "        val.append(lam_fun(d))\n",
      "    \n",
      "    pl.semilogx(data,val)\n",
      "\n"
     ],
     "language": "python",
     "metadata": {},
     "outputs": [
      {
       "metadata": {},
       "output_type": "display_data",
       "png": "[encoded data removed]",
       "text": [
        "<matplotlib.figure.Figure at 0x7ff085437690>"
       ]
      }
     ],
     "prompt_number": 481
    },
    {
     "cell_type": "code",
     "collapsed": false,
     "input": [
      "step_int"
     ],
     "language": "python",
     "metadata": {},
     "outputs": [
      {
       "latex": [
        "$$\\frac{0.5 \\pi^{2} k}{k + 1.0 \\pi}$$"
       ],
       "metadata": {},
       "output_type": "pyout",
       "png": "[encoded data removed]",
       "prompt_number": 460,
       "text": [
        "      2  \n",
        " 0.5\u22c5\u03c0 \u22c5k\n",
        "\u2500\u2500\u2500\u2500\u2500\u2500\u2500\u2500\u2500\n",
        "k + 1.0\u22c5\u03c0"
       ]
      }
     ],
     "prompt_number": 460
    },
    {
     "cell_type": "code",
     "collapsed": false,
     "input": [
      "const_int"
     ],
     "language": "python",
     "metadata": {},
     "outputs": [
      {
       "latex": [
        "$$\\frac{0.5 \\pi^{2} k}{k + 0.5 \\pi}$$"
       ],
       "metadata": {},
       "output_type": "pyout",
       "png": "[encoded data removed]",
       "prompt_number": 459,
       "text": [
        "      2  \n",
        " 0.5\u22c5\u03c0 \u22c5k\n",
        "\u2500\u2500\u2500\u2500\u2500\u2500\u2500\u2500\u2500\n",
        "k + 0.5\u22c5\u03c0"
       ]
      }
     ],
     "prompt_number": 459
    },
    {
     "cell_type": "code",
     "collapsed": false,
     "input": [
      "sol=sy.dsolve(diffeq,Y)"
     ],
     "language": "python",
     "metadata": {},
     "outputs": [
      {
       "ename": "NameError",
       "evalue": "name 'diffeq' is not defined",
       "output_type": "pyerr",
       "traceback": [
        "\u001b[1;31m---------------------------------------------------------------------------\u001b[0m\n\u001b[1;31mNameError\u001b[0m                                 Traceback (most recent call last)",
        "\u001b[1;32m<ipython-input-388-f9cd7b6ae6b9>\u001b[0m in \u001b[0;36m<module>\u001b[1;34m()\u001b[0m\n\u001b[1;32m----> 1\u001b[1;33m \u001b[0msol\u001b[0m\u001b[1;33m=\u001b[0m\u001b[0msy\u001b[0m\u001b[1;33m.\u001b[0m\u001b[0mdsolve\u001b[0m\u001b[1;33m(\u001b[0m\u001b[0mdiffeq\u001b[0m\u001b[1;33m,\u001b[0m\u001b[0mY\u001b[0m\u001b[1;33m)\u001b[0m\u001b[1;33m\u001b[0m\u001b[0m\n\u001b[0m",
        "\u001b[1;31mNameError\u001b[0m: name 'diffeq' is not defined"
       ]
      }
     ],
     "prompt_number": 388
    },
    {
     "cell_type": "code",
     "collapsed": false,
     "input": [
      "sol"
     ],
     "language": "python",
     "metadata": {},
     "outputs": []
    },
    {
     "cell_type": "code",
     "collapsed": false,
     "input": [
      "#homogeneous neumann\n",
      "neum_bc= sy.Eq(sy.diff(sol.rhs,x).subs({x:wc_thickness}),0)\n",
      "\n",
      "dir_bc = sy.Eq(sol.rhs.subs({x:0}),Y_s)\n",
      "\n",
      "bc_sol = sy.solve((dir_bc,neum_bc),C1,C2)"
     ],
     "language": "python",
     "metadata": {},
     "outputs": []
    },
    {
     "cell_type": "code",
     "collapsed": false,
     "input": [
      "part_sol = sol.subs(bc_sol)"
     ],
     "language": "python",
     "metadata": {},
     "outputs": []
    },
    {
     "cell_type": "code",
     "collapsed": false,
     "input": [
      "ext_flux = sy.Eq(Sh * rho_b*D_b/L * (Y_b - Y_s),-rho * D* sy.diff(part_sol.rhs,x).subs({x:0}))"
     ],
     "language": "python",
     "metadata": {},
     "outputs": []
    },
    {
     "cell_type": "code",
     "collapsed": false,
     "input": [
      "y_s_sol=sy.solve(ext_flux,Y_s)"
     ],
     "language": "python",
     "metadata": {},
     "outputs": []
    },
    {
     "cell_type": "code",
     "collapsed": false,
     "input": [
      "part_sol = part_sol.subs({Y_s:y_s_sol[0]})"
     ],
     "language": "python",
     "metadata": {},
     "outputs": []
    },
    {
     "cell_type": "code",
     "collapsed": true,
     "input": [
      "cantera_file = \"/home/vonrickenbach/contrib_git/cantera_tests/washcoat_model/cantera_input.cti\"\n",
      "gas = ca.importPhase(cantera_file,\"gas\")\n",
      "interface = ca.importInterface(cantera_file,\"pt_surf\",[gas])\n",
      "interface.setTemperature(1000)\n",
      "massfrac = np.array([0.00001,0.0,0.1,0.899999])\n",
      "\n",
      "porosity = 0.3\n",
      "\n",
      "gas.setState_TPY(1000,1E5,massfrac)\n",
      "wc_thick = 1E-5\n",
      "val_dict = {}\n",
      "\n",
      "cont_diff = gas.diffusionCoeffs()[0]*porosity/2\n",
      "knuds_diff = 1E-8/3.0*np.sqrt(8*ca.GasConstant/(np.pi*0.032))*porosity/2\n",
      "val_dict[D] = 1./(1./knuds_diff+1./cont_diff)\n",
      "val_dict[D_b] = gas.diffusionCoeffs()[0]\n",
      "val_dict[rho] = gas.density()\n",
      "val_dict[rho_b] = gas.density()\n",
      "val_dict[A_V] = 10.0/wc_thick\n",
      "val_dict[wc_thickness] = wc_thick\n",
      "val_dict[Sh] = 4.0\n",
      "val_dict[Y_b] = 0.00001\n",
      "val_dict[L] = 100*wc_thick\n",
      "val_dict[k_r] = 1\n",
      "val_dict[M_i] = 0.032\n",
      "val_dict[Delta_H] = interface.delta_H()[0]/1000\n",
      "val_dict[cond] = gas.thermalConductivity()*porosity+(1.-porosity)*0.05\n",
      "val_dict[lambda_b] = gas.thermalConductivity()\n",
      "val_dict[T_b] = 1000\n",
      "sol_simple = part_sol.subs(val_dict)\n",
      "ext_flux.subs({Y_s:y_s_sol[0]}).rhs.subs(val_dict)\n",
      "\n",
      "\n",
      "#ext_flux_T.subs({T_s:T_s_sol[0]}).rhs.subs(val_dict)"
     ],
     "language": "python",
     "metadata": {},
     "outputs": []
    },
    {
     "cell_type": "code",
     "collapsed": false,
     "input": [
      "gas.thermalConductivity()*porosity+(1.-porosity)*0.05"
     ],
     "language": "python",
     "metadata": {},
     "outputs": []
    },
    {
     "cell_type": "code",
     "collapsed": false,
     "input": [
      "diffeq_T = sy.Eq(sy.diff(cond *sy.diff(T,x),x)-RR*A_V*Delta_H,0)"
     ],
     "language": "python",
     "metadata": {},
     "outputs": []
    },
    {
     "cell_type": "code",
     "collapsed": false,
     "input": [
      "ca.GasConstant"
     ],
     "language": "python",
     "metadata": {},
     "outputs": []
    },
    {
     "cell_type": "code",
     "collapsed": false,
     "input": [
      "diffeq_T=diffeq_T.subs({RR:k_r*(rho*y_temp/M_i)*(rho*0.1/0.028)**2}).subs({y_temp:sol_simple.rhs})\n",
      "sol_T=sy.dsolve(diffeq_T,T)\n",
      "diffeq_T"
     ],
     "language": "python",
     "metadata": {},
     "outputs": []
    },
    {
     "cell_type": "code",
     "collapsed": false,
     "input": [
      "#homogeneous neumann\n",
      "neum_bc_T= sy.Eq(sy.diff(sol_T.rhs,x).subs({x:wc_thickness}),0)\n",
      "\n",
      "dir_bc_T = sy.Eq(sol_T.rhs.subs({x:0}),T_s)\n",
      "\n",
      "bc_sol_T = sy.solve((dir_bc_T,neum_bc_T),C1,C2)"
     ],
     "language": "python",
     "metadata": {},
     "outputs": []
    },
    {
     "cell_type": "code",
     "collapsed": false,
     "input": [
      "part_sol_T = sol_T.subs(bc_sol_T)\n",
      "ext_flux_T = sy.Eq(Sh * lambda_b/L * (T_b - T_s),-cond* sy.diff(part_sol_T.rhs,x).subs({x:0}))\n",
      "T_s_sol=sy.solve(ext_flux_T,T_s)\n",
      "part_sol_T = part_sol_T.subs({T_s:T_s_sol[0]})"
     ],
     "language": "python",
     "metadata": {},
     "outputs": []
    },
    {
     "cell_type": "code",
     "collapsed": false,
     "input": [
      "sol_simple_T = part_sol_T.subs(val_dict)"
     ],
     "language": "python",
     "metadata": {},
     "outputs": []
    },
    {
     "cell_type": "code",
     "collapsed": false,
     "input": [
      "sol_simple_T.subs({x:0})"
     ],
     "language": "python",
     "metadata": {},
     "outputs": []
    },
    {
     "cell_type": "code",
     "collapsed": false,
     "input": [
      "sol_simple_fun=sy.lambdify(x,sol_simple.rhs)\n",
      "sol_simple_fun_T=sy.lambdify(x,sol_simple_T.rhs)"
     ],
     "language": "python",
     "metadata": {},
     "outputs": []
    },
    {
     "cell_type": "code",
     "collapsed": false,
     "input": [
      "fig = pl.figure()\n",
      "fig1 = pl.figure()\n",
      "fig3 = pl.figure()\n",
      "\n",
      "\n",
      "\n",
      "ax = fig.add_subplot(1,1,1)\n",
      "ax1 = fig1.add_subplot(1,1,1)\n",
      "ax3 = fig3.add_subplot(1,1,1)\n",
      "\n",
      "data_folder = \"/home/vonrickenbach/contrib_git/cantera_tests/washcoat_model/\"\n",
      "err_T = []\n",
      "err_Y = []\n",
      "grids = [32]\n",
      "#grids = [32,64]\n",
      "\n",
      "for nx in grids:\n",
      "    ratio = 1.1\n",
      "    dx_c = 1E-5*(1-ratio)/(1-ratio**nx)\n",
      "    dx = []\n",
      "    for x_c in range(nx):\n",
      "        dx.append(dx_c)\n",
      "        dx_c *= ratio\n",
      "    x_val = np.cumsum(dx) -0.5*np.array(dx)\n",
      "    y_val =[sol_simple_fun(item) for item in x_val]\n",
      "    ax.plot(x_val*1E6,np.array(y_val),'k')\n",
      "\n",
      "    T_val = np.array([sol_simple_fun_T(item) for item in x_val])\n",
      "    ax1.plot(x_val,T_val-1000)\n",
      "    data= np.genfromtxt(os.path.join(data_folder,\"grid_\"+str(nx)+\"_0.dat\"))\n",
      "    ax1.plot(x_val,data[5,1:]-1000,'o')\n",
      "\n",
      "    ax.set_xlabel(\"x-xoordinate ($\\mu m$)\")\n",
      "    ax.set_ylabel(\"$O_2$ mass-fraction\")\n",
      "\n",
      "    ax.plot(x_val*1E6,data[0,1:],'ko')\n",
      "    err_T.append(np.amax(np.abs(data[5,1:])-T_val+1000))\n",
      "    err_Y.append(np.amax(np.abs(data[0,1:])-y_val))\n",
      "    ax.legend([\"Analytical solution\",\"Numerical solution\"])\n",
      "\n",
      "fig.tight_layout()\n",
      "fig.savefig(\"wc.png\")\n",
      "#ax3.loglog(grids,err_T/err_T[-3])\n",
      "#ax3.loglog(grids,err_Y/err_Y[-3])\n",
      "#ax3.loglog(grids,(1./np.array(grids)*16)**2)"
     ],
     "language": "python",
     "metadata": {},
     "outputs": []
    },
    {
     "cell_type": "code",
     "collapsed": false,
     "input": [
      "err_Y"
     ],
     "language": "python",
     "metadata": {},
     "outputs": []
    },
    {
     "cell_type": "code",
     "collapsed": false,
     "input": [
      "val_dict[D_b]\n"
     ],
     "language": "python",
     "metadata": {},
     "outputs": []
    },
    {
     "cell_type": "code",
     "collapsed": false,
     "input": [
      "rr.subs({x:0})/1000**1.5"
     ],
     "language": "python",
     "metadata": {},
     "outputs": []
    },
    {
     "cell_type": "code",
     "collapsed": false,
     "input": [
      "gas.speciesNames()"
     ],
     "language": "python",
     "metadata": {},
     "outputs": []
    },
    {
     "cell_type": "code",
     "collapsed": false,
     "input": [
      "0.001*2.35E-5*gas.density()/0.032*(0.998*gas.density()/0.028)**2"
     ],
     "language": "python",
     "metadata": {},
     "outputs": []
    },
    {
     "cell_type": "code",
     "collapsed": false,
     "input": [
      "gas.density()"
     ],
     "language": "python",
     "metadata": {},
     "outputs": []
    },
    {
     "cell_type": "code",
     "collapsed": false,
     "input": [
      "x_val.shape"
     ],
     "language": "python",
     "metadata": {},
     "outputs": []
    },
    {
     "cell_type": "code",
     "collapsed": false,
     "input": [],
     "language": "python",
     "metadata": {},
     "outputs": []
    },
    {
     "cell_type": "code",
     "collapsed": false,
     "input": [],
     "language": "python",
     "metadata": {},
     "outputs": []
    },
    {
     "cell_type": "code",
     "collapsed": false,
     "input": [
      "data[5,:]"
     ],
     "language": "python",
     "metadata": {},
     "outputs": []
    },
    {
     "cell_type": "code",
     "collapsed": false,
     "input": [],
     "language": "python",
     "metadata": {},
     "outputs": []
    }
   ],
   "metadata": {}
  }
 ]
}