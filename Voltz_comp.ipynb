{
 "metadata": {
  "name": "",
  "signature": "sha256:0fa27a4c5d785c3f19055cf4baec6603cab9df64ae69dda6921e148156394ee2"
 },
 "nbformat": 3,
 "nbformat_minor": 0,
 "worksheets": [
  {
   "cells": [
    {
     "cell_type": "code",
     "collapsed": false,
     "input": [
      "import cantera as ca\n",
      "import os\n",
      "import numpy as np\n",
      "import matplotlib.pyplot as pl\n",
      "import scipy.optimize as opt\n",
      "%matplotlib inline"
     ],
     "language": "python",
     "metadata": {},
     "outputs": [],
     "prompt_number": 51
    },
    {
     "cell_type": "code",
     "collapsed": false,
     "input": [
      "def get_rates_cantera(temperature,co_conc,gas,interface,dt=10000.):\n",
      "    gas.TPX = (temperature,ca.one_atm, [0.1,0.0,0.0,0.9-co_conc,co_conc])\n",
      "    interface.TPX = (temperature,ca.one_atm,[1,0,0,0])\n",
      "    interface.advance_coverages_test(dt)\n",
      "    return interface.net_production_rates[1]"
     ],
     "language": "python",
     "metadata": {},
     "outputs": [],
     "prompt_number": 100
    },
    {
     "cell_type": "code",
     "collapsed": false,
     "input": [
      "temperatures = np.linspace(600,1000,10)\n",
      "co_conc = 0.0003\n",
      "ref_folder = \"/home/vonrickenbach/testcases_mb/kelvin_cell_final/wc_1d_tests/ref_sim/finite_vol_avg_wc_only_CO/\"\n",
      "\n",
      "gas = ca.import_phases(os.path.join(ref_folder,\"cantera_input.cti\"),[\"gas\"])[0]\n",
      "interface = ca.Interface(os.path.join(ref_folder,\"cantera_input.cti\"),\"pt_surf\",[gas])\n",
      "r_const = [9.2E12,2.7,12028.0,-962.0]\n",
      "\n",
      "rates_cantera = [get_rates_cantera(temperature,co_conc,gas,interface) for temperature in temperatures]\n",
      "rates_voltz   = [get_rates_voltz(r_const,temperature,co_conc,gas,interface) for temperature in temperatures]"
     ],
     "language": "python",
     "metadata": {},
     "outputs": [],
     "prompt_number": 115
    },
    {
     "cell_type": "code",
     "collapsed": false,
     "input": [
      "def get_rates_voltz(r_const,temperature,co_conc,gas,interface):\n",
      "    gas.TPX = (temperature,ca.one_atm, [0.1,0.0,0.0,0.9-co_conc,co_conc])\n",
      "    interface.TPX = (temperature,ca.one_atm,[1,0,0,0])\n",
      "    \n",
      "    k1 = r_const[0]\n",
      "    k2 = r_const[1]\n",
      "    E1 = r_const[2]\n",
      "    E2 = r_const[3]\n",
      "    \n",
      "    co_conc = gas.concentrations[4]\n",
      "    wc_thickness = 1E-5 \n",
      "    return k1*np.exp(-E1/temperature)*co_conc / (1. +k2 *np.exp(-E2/temperature) )**2 * wc_thickness"
     ],
     "language": "python",
     "metadata": {},
     "outputs": [],
     "prompt_number": 116
    },
    {
     "cell_type": "code",
     "collapsed": false,
     "input": [
      "def min_fun(r_const,temperatures,co_conc,gas,interface):\n",
      "    pen_val = 0.0\n",
      "    for idx,temperature in enumerate(temperatures):\n",
      "        pen_val = pen_val + (rates_cantera[idx]\n",
      "                            -get_rates_voltz(r_const,temperature,co_conc,gas,interface))**2\n",
      "    return pen_val"
     ],
     "language": "python",
     "metadata": {},
     "outputs": [],
     "prompt_number": 117
    },
    {
     "cell_type": "code",
     "collapsed": false,
     "input": [
      "opt_result = opt.fmin(min_fun,r_const,args=(temperatures,co_conc,gas,interface),maxiter=100000)"
     ],
     "language": "python",
     "metadata": {},
     "outputs": [
      {
       "output_type": "stream",
       "stream": "stdout",
       "text": [
        "Warning: Maximum number of function evaluations has been exceeded.\n"
       ]
      }
     ],
     "prompt_number": 118
    },
    {
     "cell_type": "code",
     "collapsed": false,
     "input": [
      "rates_cantera = [get_rates_cantera(temperature,co_conc,gas,interface) for temperature in temperatures]\n",
      "rates_voltz   = [get_rates_voltz(opt_result,temperature,co_conc,gas,interface) for temperature in temperatures]\n",
      "\n",
      "pl.plot(temperatures,rates_cantera)\n",
      "pl.plot(temperatures,rates_voltz)"
     ],
     "language": "python",
     "metadata": {},
     "outputs": [
      {
       "metadata": {},
       "output_type": "pyout",
       "prompt_number": 119,
       "text": [
        "[<matplotlib.lines.Line2D at 0x44e6250>]"
       ]
      },
      {
       "metadata": {},
       "output_type": "display_data",
       "png": "[encoded data removed]",
       "text": [
        "<matplotlib.figure.Figure at 0x44eb610>"
       ]
      }
     ],
     "prompt_number": 119
    },
    {
     "cell_type": "code",
     "collapsed": false,
     "input": [
      "opt_result"
     ],
     "language": "python",
     "metadata": {},
     "outputs": [
      {
       "metadata": {},
       "output_type": "pyout",
       "prompt_number": 120,
       "text": [
        "array([  8.22370949e+09,   4.43265816e+00,   4.62628660e+03,\n",
        "        -3.31921953e-05])"
       ]
      }
     ],
     "prompt_number": 120
    },
    {
     "cell_type": "code",
     "collapsed": false,
     "input": [],
     "language": "python",
     "metadata": {},
     "outputs": []
    }
   ],
   "metadata": {}
  }
 ]
}