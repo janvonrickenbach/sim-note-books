{
 "metadata": {
  "name": "",
  "signature": "sha256:9d030a6d641b9463439eba6275b5d97c2f4d3ce1ac52b7f36248e9e2528410d5"
 },
 "nbformat": 3,
 "nbformat_minor": 0,
 "worksheets": [
  {
   "cells": [
    {
     "cell_type": "heading",
     "level": 1,
     "metadata": {},
     "source": [
      "Module imports"
     ]
    },
    {
     "cell_type": "code",
     "collapsed": false,
     "input": [
      "%load_ext autoreload\n",
      "%autoreload 2\n",
      "\n",
      "\n",
      "%matplotlib inline\n",
      "import simulation_brutus as sim_brutus\n",
      "import shutil as sh\n",
      "import numpy as np\n",
      "import re\n",
      "\n",
      "sim_brutus= reload(sim_brutus)\n",
      "\n",
      "import subprocess as sp\n",
      "\n",
      "import os\n",
      "import pickle as pic\n",
      "\n",
      "from kelvin_cell_tools.init_utils import *\n",
      "from kelvin_cell_tools.sim_utils import *\n",
      "#from kelvin_cell_tools.test import *\n",
      "from mpl_toolkits.mplot3d import Axes3D\n",
      "\n",
      "\n",
      "import matplotlib.pyplot as pl\n",
      "\n",
      "pl.rcParams[\"text.usetex\"] = False\n",
      "pl.rcParams[\"text.fontsize\"] = 12\n",
      "\n",
      "import job_configurations as jc\n",
      "\n",
      "import itertools as it\n",
      "                                                                                                                                                                                                                                                                                                                                                                                                                                                                                                                                                                                                                                                                                    \n",
      "\n",
      "import cantera as ca"
     ],
     "language": "python",
     "metadata": {},
     "outputs": [
      {
       "output_type": "stream",
       "stream": "stdout",
       "text": [
        "The autoreload extension is already loaded. To reload it, use:\n",
        "  %reload_ext autoreload\n",
        "Error: Could not import vtkCommonComputationalGeometryPython"
       ]
      },
      {
       "output_type": "stream",
       "stream": "stdout",
       "text": [
        "\n",
        "could not import simulation\n"
       ]
      }
     ],
     "prompt_number": 232
    },
    {
     "cell_type": "code",
     "collapsed": false,
     "input": [
      "%%javascript\n",
      "IPython.load_extensions('toc');"
     ],
     "language": "python",
     "metadata": {},
     "outputs": [
      {
       "javascript": [
        "IPython.load_extensions('toc');"
       ],
       "metadata": {},
       "output_type": "display_data",
       "text": [
        "<IPython.core.display.Javascript at 0x7ff22e8bb550>"
       ]
      }
     ],
     "prompt_number": 233
    },
    {
     "cell_type": "heading",
     "level": 1,
     "metadata": {},
     "source": [
      "Current Sim"
     ]
    },
    {
     "cell_type": "code",
     "collapsed": false,
     "input": [
      "#current_sim = {\"steady\":True,\"conj\":False,\"temperature\":700,\"inf\":False}\n",
      "#current_sim = {\"steady\":True,\"conj\":False,\"inf\":False}\n",
      "#current_sim = {\"steady\":True,\"conj\":True,\"temperature\":500}\n",
      "#current_sim = {\"steady\":False,\"conj\":True}\n",
      "#current_sim = {\"steady\":True,\"conj\":False,\"inf\":False}\n",
      "#current_sim = {\"inf\":False}\n",
      "#current_sim = {\"conj\":False,\"inf\":False}\n",
      "#current_sim = {\"conj\":True,\"onecell\":True,\"temperature\":500}\n",
      "#current_sim = {\"vel\":10.0}\n",
      "\n",
      "#current_sim = {\"cond\":\"metallic\"}\n",
      "\n",
      "\n",
      "#current_sim = {\"conj\":True,\"onecell\":True,\"temperature\":700,\"cond\":\"ceramic\"}\n",
      "\n",
      "#current_sim = {\"cond\":\"metallic\"}\n",
      "\n",
      "current_sim = {\"temperature\":300,\"geometry\":\"kelvin\",\"dt\":50,\"group\":None,\"mf\":0.01}\n",
      "\n",
      "#current_sim = {\"temperature\":300,\"group\":None,\"cond\":\"ceramic\",\"mf\":0.01,\"dt\":50}\n",
      "\n",
      "#current_sim = {\"temperature\":300,\"porosity\":81}\n",
      "#current_sim = {\"grid\":30}\n",
      "\n",
      "\n",
      "#current_sim = {\"group\":\"grid_convergence\"} #,\"grid\":35}\n",
      "#current_sim = {\"group\":\"paper_sims\",\"steady\":False,\"Dp\":0.001,\"porosity\":81,\"mf\":0.01}\n",
      "\n",
      "#current_sim = {\"steady\":False,\"Dp\":0.002,\"porosity\":81,\"mf\":0.005}\n",
      "current_sim = {\"steady\":False,\"mf\":0.01,\"porosity\":81,\"Dp\":0.002,\"F\":40}\n",
      "\n",
      "#current_sim = {\"cond\":\"low_eps\"}\n",
      "\n",
      "for sim in filter_simulations(sims,**current_sim):\n",
      "    print(sim.sim_info)\n"
     ],
     "language": "python",
     "metadata": {},
     "outputs": [
      {
       "output_type": "stream",
       "stream": "stdout",
       "text": [
        "{'cond': 'fine', 'diff': 2.0954710129698026e-05, 'conj': True, 'inf': False, 'massfraction': [0.01, 0.1, 0.0, 0.89], 'group': 'paper_sims', 'temperature': 300, 'porosity': 81, 'vel': 1.5, 'ncells': 8, 'Dp': 0.002, 'F': 40, 'visc': 1.8319764958622377e-05, 'grid': 30, 'rho': 1.137245148042052, 'dt': 100, 'ds': 0.00046, 'onecell': True, 'mf': 0.01, 'name': 'A', 'kelvin_cell_size': 0.00246, 'geometry': 'kelvin', 'surf_to_volume': 1382.4156945843558, 'steady': False, 'time': array([   200.,    400.,    600.,    800.,   1000.,   1200.,   1400.,\n",
        "         1600.,   1800.,   2000.,   2200.,   2400.,   2600.,   2800.,\n",
        "         3000.,   3200.,   3400.,   3600.,   3800.,   4000.,   4200.,\n",
        "         4400.,   4600.,   4800.,   5000.,   5200.,   5400.,   5600.,\n",
        "         5800.,   6000.,   6200.,   6400.,   6600.,   6800.,   7000.,\n",
        "         7200.,   7400.,   7600.,   7800.,   8000.,   8200.,   8400.,\n",
        "         8600.,   8800.,   9000.,   9200.,   9400.,   9600.,   9800.,\n",
        "        10000.,  10200.,  10400.,  10600.,  10800.,  11000.,  11200.,\n",
        "        11400.,  11600.,  11800.,  12000.,  12200.,  12400.,  12600.,\n",
        "        12800.,  13000.,  13200.,  13400.,  13600.,  13800.,  14000.,\n",
        "        14200.,  14400.,  14600.,  14800.,  15000.,  15200.,  15400.,\n",
        "        15600.,  15800.,  16000.,  16200.,  16400.,  16600.,  16800.,\n",
        "        17000.,  17200.,  17400.,  17600.,  17800.,  18000.,  18200.,\n",
        "        18400.,  18600.,  18800.,  19000.,  19200.,  19400.,  19600.,\n",
        "        19800.,  20000.,  20200.,  20400.,  20600.,  20800.,  21000.,\n",
        "        21200.,  21400.,  21600.,  21800.,  22000.,  22200.,  22400.,\n",
        "        22600.,  22800.,  23000.,  23200.,  23400.,  23600.,  23800.,\n",
        "        24000.,  24200.,  24400.,  24600.,  24800.,  25000.,  25200.,\n",
        "        25400.,  25600.,  25800.,  26000.,  26200.,  26400.,  26600.,\n",
        "        26800.,  27000.,  27200.,  27400.,  27600.,  27800.,  28000.,\n",
        "        28200.,  28400.,  28600.,  28800.,  29000.,  29200.,  29400.,\n",
        "        29600.,  29800.,  30000.])}\n"
       ]
      }
     ],
     "prompt_number": 720
    },
    {
     "cell_type": "code",
     "collapsed": false,
     "input": [
      "def write_inital_conditions(folder,massfraction,velocity,temperature):\n",
      "\n",
      "    writer = ini.initalconditions_writer()\n",
      "    writer.add_variable(\"uvelocity\",velocity)\n",
      "    writer.add_variable(\"temperature\",temperature)\n",
      "    \n",
      "    for key,item in massfraction.iteritems():\n",
      "        writer.add_variable(var=\"component_molefraction\",value=item[0],index=item[1])\n",
      "        \n",
      "    writer.write_file(folder)\n",
      "    \n",
      "def filter_simulations(sim_list,**kwargs):\n",
      "  filtered_list = []\n",
      "  for sim in sim_list:\n",
      "      match_all = True\n",
      "      for key, item in kwargs.iteritems():\n",
      "            if not int(sim.sim_info[key]) == int(item):  \n",
      "              match_all = False\n",
      "      if match_all:\n",
      "        filtered_list.append(sim)\n",
      "  return filtered_list\n",
      "    \n",
      "def sort_sims(sim_list,prop): \n",
      "    return sorted(sim_list,key=lambda it: it.sim_info[prop])    \n",
      "\n",
      "def get_array(sim_list,func=None,var=None):\n",
      "    prop_list = []\n",
      "    if func:\n",
      "        for sim in sim_list:\n",
      "           if var:\n",
      "               prop_list.append(func(sim,var))\n",
      "           else:\n",
      "               prop_list.append(func(sim))\n",
      "    return np.array(prop_list)\n",
      "\n",
      "def sh_number(sim,inflow_mf=False):\n",
      "    gas = ca.import_phases(os.path.join(sim.info.local[\"sim_folder\"],\"cantera_input.cti\"),[\"gas\"])[0]\n",
      "    molefraction = [0.003,0.1,0.0,0.897]\n",
      "\n",
      "    gas.TPX = [sim.sim_info[\"temperature\"], 1E5, molefraction]\n",
      "    sh_numbers = []\n",
      "    for cell in range(sim.sim_info[\"ncells\"]-1):\n",
      "       if inflow_mf and cell == 0:\n",
      "           avg_Y_in = gas.Y[0]\n",
      "       else:\n",
      "           avg_Y_in  = sim.result[\"mf_avg\"][cell]\n",
      "       avg_Y_out = sim.result[\"mf_avg\"][cell+1]\n",
      "       sh_numbers.append(np.log(avg_Y_in/avg_Y_out) \n",
      "                              /sim.sim_info[\"surf_to_volume\"]\n",
      "                              /sim.sim_info[\"diff\"]\n",
      "                              *sim.sim_info[\"kelvin_cell_size\"]* sim.sim_info[\"vel\"] \n",
      "                              /(sim.sim_info[\"kelvin_cell_size\"]))\n",
      "    sim.result[\"sh_numbers\"] = sh_numbers\n"
     ],
     "language": "python",
     "metadata": {},
     "outputs": [],
     "prompt_number": 1732
    },
    {
     "cell_type": "heading",
     "level": 1,
     "metadata": {},
     "source": [
      "Postprocessing scripts"
     ]
    },
    {
     "cell_type": "code",
     "collapsed": false,
     "input": [
      "%%file full_3d.py\n",
      "from paraview.simple import *\n",
      "from para_reader import *\n",
      "import pickle as pic\n",
      "import sys\n",
      "\n",
      "\n",
      "iterations = [int(sys.argv[1])]\n",
      "print (iterations[0])\n",
      "\n",
      "\n",
      "try:\n",
      "    os.mkdir(\"processed\")\n",
      "except:\n",
      "    print(\"directory exists already\")\n",
      "    \n",
      "for iteration in  iterations:\n",
      "   \n",
      "   if iteration == -1:\n",
      "       datafile = get_last_modified()\n",
      "   else: \n",
      "       datafile = get_iteration(iteration)\n",
      "   print(datafile)\n",
      "   if datafile:\n",
      "     data = OpenDataFile(datafile)\n",
      "     unstructured = convert_to_unstructured(data)\n",
      "     filename ='processed/output_3d_'+str(iteration)+'.vtu' \n",
      "     pa.UpdatePipeline()\n",
      "     writer=CreateWriter(filename,unstructured)\n",
      "     writer.UpdatePipeline()\n",
      "     Delete(unstructured)\n"
     ],
     "language": "python",
     "metadata": {},
     "outputs": [
      {
       "output_type": "stream",
       "stream": "stdout",
       "text": [
        "Overwriting full_3d.py\n"
       ]
      }
     ],
     "prompt_number": 323
    },
    {
     "cell_type": "code",
     "collapsed": false,
     "input": [
      "%%file create_slices.py\n",
      "from paraview.simple import *\n",
      "from para_reader import *\n",
      "import pickle as pic\n",
      "import sys\n",
      "\n",
      "nblocks = 64\n",
      "\n",
      "\n",
      "postprocess = pic.load(open(\"job.pickle\"))\n",
      "iteration_list = postprocess[\"iteration_list\"]\n",
      "kelvin_cell_size = postprocess[\"kelvin_cell_size\"]\n",
      "origin = [kelvin_cell_size/2.,kelvin_cell_size/4.,kelvin_cell_size/4.]\n",
      "\n",
      "\n",
      "iterations = [int(sys.argv[1])]\n",
      "print (iterations[0])\n",
      "\n",
      "\n",
      "try:\n",
      "    os.mkdir(\"processed\")\n",
      "except:\n",
      "    print(\"directory exists already\")\n",
      "    \n",
      "for iteration in  iterations:\n",
      "   \n",
      "   if iteration == -1:\n",
      "       datafile = get_last_modified()\n",
      "   else: \n",
      "       datafile = get_iteration(iteration)\n",
      "   print(datafile)\n",
      "   if datafile:\n",
      "     data = OpenDataFile(datafile)\n",
      "     slice = Slice(data)\n",
      "     slice.SliceType.Origin = origin\n",
      "     slice.SliceType.Normal = [0.0,0.0,1.0]\n",
      "     \n",
      "     print(slice)\n",
      "     unstructured = convert_to_unstructured(slice)\n",
      "     filename ='processed/output_'+str(iteration)+'.vtu' \n",
      "     pa.UpdatePipeline()\n",
      "     writer=CreateWriter(filename,unstructured)\n",
      "     writer.UpdatePipeline()\n",
      "     Delete(unstructured)\n",
      "     Delete(slice)"
     ],
     "language": "python",
     "metadata": {},
     "outputs": [
      {
       "output_type": "stream",
       "stream": "stdout",
       "text": [
        "Overwriting create_slices.py\n"
       ]
      }
     ],
     "prompt_number": 1664
    },
    {
     "cell_type": "code",
     "collapsed": false,
     "input": [
      "%%file create_contour.py\n",
      "from paraview.simple import *\n",
      "from para_reader import *\n",
      "import pickle as pic\n",
      "import sys\n",
      "\n",
      "postprocess = pic.load(open(\"job.pickle\"))\n",
      "iteration_list = postprocess[\"iteration_list\"]\n",
      "kelvin_cell_size = postprocess[\"kelvin_cell_size\"]\n",
      "origin = [kelvin_cell_size/2.,kelvin_cell_size/4.,kelvin_cell_size/4.]\n",
      "\n",
      "\n",
      "iterations = [int(sys.argv[1])]\n",
      "print (iterations[0])\n",
      "\n",
      "\n",
      "try:\n",
      "    os.mkdir(\"processed\")\n",
      "except:\n",
      "    print(\"directory exists already\")\n",
      "    \n",
      "for iteration in  iterations:\n",
      "   \n",
      "   if iteration == -1:\n",
      "       datafile = get_last_modified()\n",
      "   else: \n",
      "       datafile = get_iteration(iteration)\n",
      "   print(datafile)\n",
      "   if datafile:\n",
      "     data = OpenDataFile(datafile)\n",
      "     unstructured = convert_to_unstructured(data)\n",
      "               \n",
      "     Contour1 = Contour(unstructured)\n",
      "\n",
      "     Contour1.ContourBy = ['POINTS', 'EmbI']\n",
      "     Contour1.Isosurfaces = [0.0]\n",
      "\n",
      "     \n",
      "     print(Contour1)\n",
      "     filename ='processed/contour_'+str(iteration)+'.vtp' \n",
      "     pa.UpdatePipeline()\n",
      "     writer=CreateWriter(filename,Contour1)\n",
      "     writer.UpdatePipeline()\n",
      "     Delete(unstructured)\n",
      "     Delete(Contour1)\n",
      "\n",
      "\n"
     ],
     "language": "python",
     "metadata": {},
     "outputs": [
      {
       "output_type": "stream",
       "stream": "stdout",
       "text": [
        "Overwriting create_contour.py\n"
       ]
      }
     ],
     "prompt_number": 373
    },
    {
     "cell_type": "code",
     "collapsed": false,
     "input": [
      "%%file slice_avg.py\n",
      "\n",
      "from paraview.simple import *\n",
      "from para_reader import *\n",
      "import pickle as pic\n",
      "import os\n",
      "import glob as gl\n",
      "import sys\n",
      "\n",
      "postprocess = pic.load(open(\"job.pickle\"))\n",
      "kelvin_cell_size = postprocess[\"kelvin_cell_size\"]-postprocess[\"kelvin_cell_size\"]*0.0001\n",
      "ncells           = postprocess[\"ncells\"]\n",
      "geometry             = postprocess[\"geometry\"]\n",
      "\n",
      "massflow_weight_Y = postprocess[\"massflow_weight_Y\"]\n",
      "massflow_var_Y    = postprocess[\"massflow_var_Y\"]\n",
      "massflow_weight_P = postprocess[\"massflow_weight_P\"]\n",
      "massflow_var_P    = postprocess[\"massflow_var_P\"]\n",
      "massflow_weight_T    = postprocess[\"massflow_weight_T\"]\n",
      "\n",
      "slice_per_cell = 4\n",
      "\n",
      "filelist = gl.glob(\"RESULT/*.vtm\")\n",
      "iterations = []\n",
      "    \n",
      "for filename in filelist:\n",
      "    iterations.append(int(os.path.basename(filename).split(\".\")[1]))\n",
      "\n",
      "iterations.sort()\n",
      "\n",
      "#servermanager.Disconnect()\n",
      "\n",
      "iterations = [int(sys.argv[1])]\n",
      "print (iterations[0])\n",
      "\n",
      "avg_var    = []\n",
      "for it in iterations[:]:\n",
      "   # servermanager.Connect()\n",
      "\n",
      "    if it == -1:\n",
      "        name = get_last_modified()\n",
      "    else:\n",
      "        name = get_iteration(it)\n",
      "\n",
      "    print(name)\n",
      "\n",
      "    data_file = OpenDataFile(name)\n",
      "    print(\"Reading file \", name)\n",
      "\n",
      "    current_t = []\n",
      "\n",
      "    for sl in range(ncells*slice_per_cell+1):  \n",
      "      print(\"Before slice \")\n",
      "      current_slice = Slice(data_file)\n",
      "\n",
      "      print(\"Current Slice \", current_slice)\n",
      "\n",
      "      #current_slice.SliceType.Origin = [sl*kelvin_cell_size-0.5*kelvin_cell_size,0.0005,0.0005]\n",
      "      if geometry == \"kelvin\":\n",
      "          increment = kelvin_cell_size/slice_per_cell\n",
      "          current_slice.SliceType.Origin = [sl*increment-0.5*kelvin_cell_size,0.0005,0.0005]\n",
      "      else:\n",
      "          current_slice.SliceType.Origin = [sl*kelvin_cell_size,0.0005,0.0005]\n",
      "  \n",
      "      current_slice.SliceType.Normal = [1,0,0]\n",
      "      print(\"Before avgY \")\n",
      "\n",
      "      avg_Y = massflow_avg(current_slice,massflow_weight_Y,massflow_var_Y)\n",
      "      print(\"Before avgP \")\n",
      "\n",
      "      avg_P = massflow_avg(current_slice,massflow_weight_P,massflow_var_P)\n",
      "      print(\"Before avgU \")\n",
      "\n",
      "      avg_U = massflow_avg(current_slice,massflow_weight_P,'U')\n",
      "\n",
      "      print(\"Before avgT \")\n",
      "\n",
      "      avg_T = massflow_avg(current_slice,massflow_weight_T,'T')\n",
      "        \n",
      "        \n",
      "      avg_Ts = massflow_avg(current_slice,['BMR_I',\"(1.0-HembI)\",\"Cp\",\"DEN\"],'T')\n",
      "\n",
      "      avg_var.append([avg_Y, avg_P,avg_U,avg_T,avg_Ts])\n",
      "#    Delete(current_slice)\n",
      "    \n",
      " #   servermanager.Disconnect()\n",
      "try:\n",
      "    os.mkdir(\"processed\")\n",
      "except:\n",
      "    print(\"directory exists already\")\n",
      "    \n",
      "for filename,var in zip([\"slice_averages_time_\"+str(iterations[0])+\".dat\"],[avg_var]):\n",
      "    pickle_file = \"processed/\"+ filename\n",
      "    f = open(pickle_file,'w')\n",
      "    pic.dump(var,f)\n",
      "    f.close()"
     ],
     "language": "python",
     "metadata": {},
     "outputs": [
      {
       "output_type": "stream",
       "stream": "stdout",
       "text": [
        "Overwriting slice_avg.py\n"
       ]
      }
     ],
     "prompt_number": 358
    },
    {
     "cell_type": "code",
     "collapsed": false,
     "input": [
      "%%file slice_avg_local.py\n",
      "\n",
      "\n",
      "from paraview.simple import *\n",
      "from para_reader import *\n",
      "import pickle as pic\n",
      "import os\n",
      "\n",
      "servermanager.Connect()\n",
      "postprocess = pic.load(open(\"job.pickle\"))\n",
      "kelvin_cell_size = postprocess[\"kelvin_cell_size\"]-postprocess[\"kelvin_cell_size\"]*0.0001\n",
      "ncells           = postprocess[\"ncells\"]\n",
      "\n",
      "massflow_weight_Y = postprocess[\"massflow_weight_Y\"]\n",
      "massflow_var_Y    = postprocess[\"massflow_var_Y\"]\n",
      "massflow_weight_P = postprocess[\"massflow_weight_P\"]\n",
      "massflow_var_P    = postprocess[\"massflow_var_P\"]\n",
      "iteration         = postprocess[\"iteration\"]\n",
      "\n",
      "\n",
      "data_file = pa.GetActiveSource()\n",
      "\n",
      "print(\"Reading file \", data_file)\n",
      "\n",
      "avg_var    = []\n",
      "for sl in range(ncells+1):  \n",
      "  print(\"Before slice \")\n",
      "  current_slice = Slice(data_file)\n",
      "\n",
      "  print(\"Current Slice \", current_slice)\n",
      "\n",
      "  #current_slice.SliceType.Origin = [sl*kelvin_cell_size-0.5*kelvin_cell_size,0.0005,0.0005]\n",
      "  current_slice.SliceType.Origin = [sl*kelvin_cell_size-0.5*kelvin_cell_size,0.0005,0.0005]\n",
      "\n",
      "  current_slice.SliceType.Normal = [1,0,0]\n",
      "  print(\"Before avgY \")\n",
      "\n",
      "  avg_Y = massflow_avg(current_slice,massflow_weight_Y,massflow_var_Y)\n"
     ],
     "language": "python",
     "metadata": {},
     "outputs": [
      {
       "output_type": "stream",
       "stream": "stdout",
       "text": [
        "Overwriting slice_avg_local.py\n"
       ]
      }
     ],
     "prompt_number": 199
    },
    {
     "cell_type": "code",
     "collapsed": false,
     "input": [
      "jc.configuration_brutus\n"
     ],
     "language": "python",
     "metadata": {},
     "outputs": [
      {
       "metadata": {},
       "output_type": "pyout",
       "prompt_number": 1836,
       "text": [
        "{'cluster_home': '/cluster/home/mavt/vjan/',\n",
        " 'cluster_scratch': '/cluster/scratch_xp/public/vjan/',\n",
        " 'has_remote': True,\n",
        " 'host': 'brutus.ethz.ch',\n",
        " 'jobname': 'kelvin_cells_conjugate_one_cell_ceramic_300_very_coarse_unsteady_low_por',\n",
        " 'paraview_executable': None,\n",
        " 'queue': 'lsf',\n",
        " 'root_folder': '/home/vonrickenbach/testcases_mb/tabulation_tests',\n",
        " 'transat_executable': None,\n",
        " 'transat_init_executable': None,\n",
        " 'transat_version': 'MB',\n",
        " 'username': 'vjan'}"
       ]
      }
     ],
     "prompt_number": 1836
    },
    {
     "cell_type": "heading",
     "level": 1,
     "metadata": {},
     "source": [
      "3d Simulations"
     ]
    },
    {
     "cell_type": "code",
     "collapsed": false,
     "input": [
      "def create_sim_in_real_folder(jobname,temperature,ref_folder=\"kelvin_cells\",create=False,inf=False,conj=False,\n",
      "                              steady=True,write_ini=True,mf=0.003,velocity=2.0,onecell=True,cond=\"ceramic\",ncells=8,\n",
      "                              geometry=\"kelvin\",dt=50,group=None,grid=25,por=90,Dp=0.002,F=20):\n",
      "\n",
      "    root_folder = \"/home/vonrickenbach/testcases_mb/tabulation_tests\"\n",
      "  \n",
      "    if create:\n",
      "        try:\n",
      "            sh.copytree(os.path.join(root_folder,ref_folder),os.path.join(root_folder,jobname))\n",
      "        except:\n",
      "            print(\"Failed to create folder\",jobname)\n",
      "    massfraction = [mf,0.1,0.0,1-mf]\n",
      "  \n",
      "    massfraction = {}\n",
      "    massfraction[\"CO\"]   = [mf,   [0,0]] \n",
      "    massfraction[\"O2\"]   = [0.1, [0,1]]\n",
      "    massfraction[\"CO2\"]  = [0.0, [0,2]]\n",
      "    massfraction[\"N2\"]   = [0.9-mf,  [0,3]]\n",
      "    if write_ini:\n",
      "        write_inital_conditions(os.path.join(root_folder,jobname),massfraction,velocity,temperature)\n",
      "    #sh.copy(\"/home/vonrickenbach/ipython_notebooks/reaction_rates.dat\",os.path.join(root_folder,jobname))\n",
      "\n",
      "    gas = ca.import_phases(os.path.join(root_folder,jobname,\"cantera_input.cti\"),[\"gas\"])[0]\n",
      "    massfraction = [mf,0.1,0.0,0.9-mf]\n",
      "\n",
      "    gas.TPY = [temperature, 1E5, massfraction]\n",
      "    config = jc.configuration_brutus\n",
      "    \n",
      "    config[\"jobname\"]     = jobname\n",
      "    config[\"root_folder\"] = root_folder\n",
      "    config['cluster_home'] = '/cluster/home/vjan'\n",
      "    config['cluster_scratch'] = '/cluster/scratch/vjan'\n",
      "    config['host'] = 'euler.ethz.ch'\n",
      "\n",
      "\n",
      "    job = sim_brutus.job(**config)\n",
      "    job.sim_info = {}\n",
      "    if por == 81:\n",
      "       job.sim_info[\"ds\"] = 0.00046*Dp/0.002\n",
      "    else:\n",
      "       job.sim_info[\"ds\"] = 0.0003*Dp/0.002\n",
      "    job.sim_info[\"Dp\"] = Dp\n",
      "    Dp = job.sim_info[\"Dp\"]\n",
      "    ds = job.sim_info[\"ds\"]\n",
      "    job.sim_info[\"porosity\"] = por\n",
      "    porosity = job.sim_info[\"porosity\"]/100.0\n",
      "    job.sim_info[\"surf_to_volume\"] = 10.33/(Dp+ds) * np.sqrt(1-porosity) -5.8/(Dp+ds)*(1.0-porosity)\n",
      "    job.sim_info[\"kelvin_cell_size\"] = Dp + ds\n",
      "    job.sim_info[\"ncells\"] = ncells\n",
      "    job.sim_info[\"rho\"]    = gas.density\n",
      "    job.sim_info[\"vel\"]    = velocity\n",
      "    job.sim_info[\"visc\"]   = gas.viscosity\n",
      "    job.sim_info[\"diff\"]   = gas.mix_diff_coeffs[0]\n",
      "    job.sim_info[\"name\"]   = \"A\"\n",
      "    job.sim_info[\"temperature\"] = temperature\n",
      "    job.sim_info[\"inf\"] = inf\n",
      "    job.sim_info[\"conj\"] = conj\n",
      "    job.sim_info[\"steady\"] = steady\n",
      "    job.sim_info[\"mf\"] = mf\n",
      "    job.sim_info[\"onecell\"] = onecell\n",
      "    job.sim_info[\"cond\"] = cond\n",
      "    job.sim_info[\"dt\"] = dt\n",
      "    job.sim_info[\"geometry\"] = geometry\n",
      "    job.sim_info[\"group\"] = group\n",
      "    job.sim_info[\"grid\"] = grid\n",
      "    job.sim_info[\"F\"] = F\n",
      "\n",
      "\n",
      "\n",
      "\n",
      "    \n",
      "    nsteps = 300\n",
      "    job.sim_info[\"time\"] =np.linspace(dt*2,nsteps*dt,nsteps/2)\n",
      "    \n",
      "    if dt == 200 and geometry == \"kelvin\":\n",
      "        nsteps_low = 54\n",
      "        nsteps_high = nsteps\n",
      "        dt_low = 50\n",
      "        job.sim_info[\"time\"] = np.array(list(np.linspace(dt_low*2,nsteps_low*dt_low,nsteps_low/2)) \n",
      "                                      + list(np.linspace(dt_low*nsteps_low+2*dt,(nsteps_high-nsteps_low)*dt+nsteps_low*dt_low,(nsteps_high-nsteps_low)/2)))\n",
      "\n",
      "\n",
      "    job.sim_info[\"massfraction\"] = massfraction\n",
      "\n",
      "\n",
      "    job.postprocess = job.sim_info.copy()\n",
      "    job.postprocess[\"iteration\"] = -1\n",
      "    job.postprocess[\"massflow_weight_Y\"] =  ['U','HembI^100000','BMR_I',\"DEN\"]\n",
      "    job.postprocess[\"massflow_var_Y\"]    =  'CO'\n",
      "    job.postprocess[\"massflow_weight_P\"] =  ['HembI','BMR_I']\n",
      "    job.postprocess[\"massflow_weight_T\"] =  ['U','HembI^100000','BMR_I',\"DEN\",\"Cp\"]\n",
      "\n",
      "    job.postprocess[\"massflow_var_P\"]    =  'P'\n",
      "    job.postprocess[\"iteration_list\"]    =  [-1]\n",
      "\n",
      "    \n",
      "    return job"
     ],
     "language": "python",
     "metadata": {},
     "outputs": [],
     "prompt_number": 714
    },
    {
     "cell_type": "code",
     "collapsed": false,
     "input": [
      "#sims.append(create_sim_in_real_folder(\"channel_washcoat\"))\n",
      "temperatures = [400,450,500,550,600,650,700]\n",
      "for temperature in temperatures:\n",
      "    sims.append(create_sim_in_real_folder(\"kelvin_cells_\"+str(temperature),temperature,create=True))\n",
      "    \n",
      "for temperature in temperatures:\n",
      "    sims.append(create_sim_in_real_folder(\"kelvin_cells_\"+str(temperature)+\"_U_10\",temperature,create=True,velocity=10))\n",
      "    \n",
      "        \n",
      "temperature = 700\n",
      "sims.append(create_sim_in_real_folder(\"kelvin_cells_inf_\"+str(temperature),temperature,create=False,inf=True))\n",
      "\n",
      "temperature = 551\n",
      "sims.append(create_sim_in_real_folder(\"kelvin_cells_conjugate_\"+str(temperature),temperature,create=True,conj=True,mf=0.01,onecell=False))\n",
      "\n",
      "\n",
      "for temperature in [500,600,700]:\n",
      "    sims.append(create_sim_in_real_folder(\"kelvin_cells_conjugate_\"+str(temperature),temperature,ref_folder=\"kelvin_cells_conjugate_550\",create=True,conj=True,mf=0.01,onecell=False,ncells=4))\n",
      "\n",
      "    \n",
      "temperature = 700   \n",
      "for cond  in [\"ceramic\",\"metallic\",\"isolated\"]:\n",
      "    sims.append(create_sim_in_real_folder(\"kelvin_cells_conjugate_one_cell_\"+cond,temperature,ref_folder=\"kelvin_cells_600\",create=True,conj=True,mf=0.01,cond=cond))\n",
      "   \n",
      "    \n",
      "    \n",
      "temperature = 600   \n",
      "for cond  in [\"ceramic\"]:\n",
      "    sims.append(create_sim_in_real_folder(\"kelvin_cells_conjugate_one_cell_\"+cond+\"_600\",temperature,ref_folder=\"kelvin_cells_conjugate_one_cell_ceramic_500\",create=True,conj=True,mf=0.01,cond=cond))\n",
      "    \n",
      "    \n",
      "temperature = 700   \n",
      "sims.append(create_sim_in_real_folder(\"kelvin_cells_conjugate_scan_\"+cond+\"_700\",temperature,ref_folder=\"kelvin_cells_conjugate_one_cell_ceramic\",create=True,conj=True,mf=0.01,cond=cond,geometry=\"scan\"))\n",
      "\n",
      "\n",
      "\n",
      "temperature = 300   \n",
      "for cond  in [\"ceramic\"]:\n",
      "    sims.append(create_sim_in_real_folder(\"kelvin_cells_conjugate_one_cell_ceramic_300\",temperature,ref_folder=\"kelvin_cells_conjugate_one_cell_ceramic\",create=True,conj=True,mf=0.01,cond=cond))\n",
      "    \n",
      "temperature = 300   \n",
      "for cond  in [\"ceramic\"]:\n",
      "    sims.append(create_sim_in_real_folder(\"kelvin_cells_conjugate_one_cell_ceramic_300_low_dt\",temperature,ref_folder=\"kelvin_cells_conjugate_one_cell_ceramic_300\",create=True,conj=True,mf=0.01,dt=25))\n",
      "\n",
      "temperature = 300   \n",
      "sims.append(create_sim_in_real_folder(\"kelvin_cells_conjugate_one_cell_ceramic_300_dt_200\",temperature,ref_folder=\"kelvin_cells_conjugate_one_cell_ceramic_300\",create=True,conj=True,mf=0.01,dt=200))\n",
      "\n",
      "\n",
      "temperature = 300   \n",
      "sims.append(create_sim_in_real_folder(\"honeycomb_real_geom\",temperature,ref_folder=\"kelvin_cells_conjugate_one_cell_ceramic_300\",create=True,conj=True,mf=0.01,dt=200,geometry=\"honeycomb\",cond=\"honeycomb\"))\n",
      "\n",
      "\n",
      "temperature = 300   \n",
      "sims.append(create_sim_in_real_folder(\"honeycomb_real_geom_low_cond\",temperature,ref_folder=\"honeycomb_real_geom\",create=True,conj=True,mf=0.01,dt=200,geometry=\"honeycomb\",cond=\"honeycomb_low\"))\n",
      "\n",
      "\n",
      "temperature = 600   \n",
      "sims.append(create_sim_in_real_folder(\"kelvin_cells_conjugate_one_cell_ceramic_300_coarse\",temperature,ref_folder=\"kelvin_cells_conjugate_one_cell_ceramic_300_coarse\",create=True,conj=True,mf=0.01,steady=True,geometry=\"kelvin\",cond=\"coarse\",group=\"grid_convergence\",grid=20))\n",
      "\n",
      "\n",
      "temperature = 600   \n",
      "sims.append(create_sim_in_real_folder(\"kelvin_cells_conjugate_one_cell_ceramic_300_fine\",temperature,ref_folder=\"kelvin_cells_conjugate_one_cell_ceramic_300_fine\",create=True,conj=True,mf=0.01,steady=True,geometry=\"kelvin\",cond=\"fine\",group=\"grid_convergence\",grid=25))\n",
      "\n",
      "temperature = 600   \n",
      "sims.append(create_sim_in_real_folder(\"kelvin_cells_conjugate_one_cell_ceramic_300_very_fine\",temperature,ref_folder=\"kelvin_cells_conjugate_one_cell_ceramic_300_fine\",create=True,conj=True,mf=0.01,steady=True,geometry=\"kelvin\",cond=\"very_fine\",group=\"grid_convergence\",grid=30))\n",
      "\n",
      "temperature = 600   \n",
      "sims.append(create_sim_in_real_folder(\"kelvin_cells_conjugate_one_cell_ceramic_300_very_coarse\",temperature,ref_folder=\"kelvin_cells_conjugate_one_cell_ceramic_300_very_coarse\",create=True,conj=True,mf=0.01,steady=True,geometry=\"kelvin\",cond=\"very_coarse\",group=\"grid_convergence\",grid=15))\n",
      "\n",
      "\n",
      "temperature = 600   \n",
      "sims.append(create_sim_in_real_folder(\"kelvin_cells_conjugate_one_cell_ceramic_300_very_very_coarse\",temperature,ref_folder=\"kelvin_cells_conjugate_one_cell_ceramic_300_very_very_coarse\",create=True,conj=True,mf=0.01,steady=True,geometry=\"kelvin\",cond=\"very_very_coarse\",group=\"grid_convergence\",grid=12))\n",
      "\n",
      "\n",
      "temperature = 300   \n",
      "sims.append(create_sim_in_real_folder(\"kelvin_cells_conjugate_one_cell_ceramic_300_coarse_unsteady\",temperature,ref_folder=\"kelvin_cells_conjugate_one_cell_ceramic_300_very_very_coarse\",create=True,conj=True,mf=0.01,steady=False,geometry=\"kelvin\",cond=\"coarse\",group=\"grid_convergence\",grid=20))\n",
      "\n",
      "temperature = 300   \n",
      "sims.append(create_sim_in_real_folder(\"kelvin_cells_conjugate_one_cell_ceramic_300_very_coarse_unsteady\",temperature,ref_folder=\"kelvin_cells_conjugate_one_cell_ceramic_300_very_very_coarse\",create=True,conj=True,mf=0.01,steady=False,geometry=\"kelvin\",cond=\"very_coarse\",group=\"grid_convergence\",grid=15))\n",
      "\n",
      "\n",
      "temperature = 300   \n",
      "sims.append(create_sim_in_real_folder(\"kelvin_cells_conjugate_one_cell_ceramic_300_coarse_low_mf\",temperature,ref_folder=\"kelvin_cells_conjugate_one_cell_ceramic_300_very_very_coarse\",create=True,conj=True,mf=0.005,steady=False,geometry=\"kelvin\",cond=\"ceramic\"))\n",
      "\n",
      "\n",
      "temperature = 300   \n",
      "sims.append(create_sim_in_real_folder(\"kelvin_cells_conjugate_one_cell_ceramic_300_coarse_unsteady_low_por\",temperature,ref_folder=\"kelvin_cells_conjugate_one_cell_ceramic_300_very_very_coarse\",create=True,conj=True,mf=0.01,steady=False,geometry=\"kelvin\",cond=\"coarse\",group=\"grid_convergence\",grid=20,por=81))\n",
      "\n",
      "temperature = 300   \n",
      "sims.append(create_sim_in_real_folder(\"kelvin_cells_conjugate_one_cell_ceramic_300_fine_unsteady_low_por\",temperature,ref_folder=\"kelvin_cells_conjugate_one_cell_ceramic_300_very_very_coarse\",create=True,conj=True,mf=0.01,steady=False,geometry=\"kelvin\",cond=\"fine\",group=\"grid_convergence\",grid=25,por=81))\n",
      "\n",
      "temperature = 300   \n",
      "sims.append(create_sim_in_real_folder(\"kelvin_cells_conjugate_one_cell_ceramic_300_very_coarse_unsteady_low_por\",temperature,ref_folder=\"kelvin_cells_conjugate_one_cell_ceramic_300_very_very_coarse\",create=True,conj=True,mf=0.01,steady=False,geometry=\"kelvin\",cond=\"very_coarse\",group=\"grid_convergence\",grid=15,por=81))\n",
      "\n",
      "temperature = 600   \n",
      "sims.append(create_sim_in_real_folder(\"low_por_fine\"\n",
      "                                      ,temperature,create=True,conj=True,mf=0.01,steady=True,geometry=\"kelvin\",\n",
      "                                      cond=\"fine\",group=\"grid_convergence\",grid=30,por=81))\n",
      "\n",
      "\n",
      "#Grid convergence sims\n",
      "\n",
      "temperature = 600   \n",
      "sims.append(create_sim_in_real_folder(\"low_por_coarse\"\n",
      "                                      ,temperature,create=True,conj=True,mf=0.01,steady=True,geometry=\"kelvin\",\n",
      "                                      cond=\"coarse\",group=\"grid_convergence\",grid=25,por=81))\n",
      "\n",
      "temperature = 600   \n",
      "sims.append(create_sim_in_real_folder(\"low_por_very_fine\"\n",
      "                                      ,temperature,create=True,conj=True,mf=0.01,steady=True,geometry=\"kelvin\",\n",
      "                                      cond=\"very_fine\",group=\"grid_convergence\",grid=35,por=81))\n",
      "\n",
      "\n",
      "temperature = 600   \n",
      "sims.append(create_sim_in_real_folder(\"low_por_fine\"\n",
      "                                      ,temperature,create=True,conj=True,mf=0.01,steady=True,geometry=\"kelvin\",\n",
      "                                      cond=\"fine\",group=\"grid_convergence\",grid=30,por=81))\n",
      "\n",
      "temperature = 600   \n",
      "sims.append(create_sim_in_real_folder(\"low_por_very_very_fine\"\n",
      "                                      ,temperature,create=True,conj=True,mf=0.01,steady=True,geometry=\"kelvin\",\n",
      "                                      cond=\"very_very_fine\",group=\"grid_convergence\",grid=40,por=81))"
     ],
     "language": "python",
     "metadata": {},
     "outputs": [
      {
       "output_type": "stream",
       "stream": "stdout",
       "text": [
        "('Failed to create folder', 'kelvin_cells_400')\n",
        "mkdir: cannot create directory `/cluster/scratch_xp/public/vjan/kelvin_cells_400': File exists"
       ]
      },
      {
       "output_type": "stream",
       "stream": "stdout",
       "text": [
        "\n",
        "('Failed to create folder', 'kelvin_cells_450')\n",
        "mkdir: cannot create directory `/cluster/scratch_xp/public/vjan/kelvin_cells_450': File exists"
       ]
      },
      {
       "output_type": "stream",
       "stream": "stdout",
       "text": [
        "\n",
        "('Failed to create folder', 'kelvin_cells_500')\n",
        "mkdir: cannot create directory `/cluster/scratch_xp/public/vjan/kelvin_cells_500': File exists"
       ]
      },
      {
       "output_type": "stream",
       "stream": "stdout",
       "text": [
        "\n",
        "('Failed to create folder', 'kelvin_cells_550')\n",
        "mkdir: cannot create directory `/cluster/scratch_xp/public/vjan/kelvin_cells_550': File exists"
       ]
      },
      {
       "output_type": "stream",
       "stream": "stdout",
       "text": [
        "\n",
        "('Failed to create folder', 'kelvin_cells_600')\n",
        "mkdir: cannot create directory `/cluster/scratch_xp/public/vjan/kelvin_cells_600': File exists"
       ]
      },
      {
       "output_type": "stream",
       "stream": "stdout",
       "text": [
        "\n",
        "('Failed to create folder', 'kelvin_cells_650')\n",
        "mkdir: cannot create directory `/cluster/scratch_xp/public/vjan/kelvin_cells_650': File exists"
       ]
      },
      {
       "output_type": "stream",
       "stream": "stdout",
       "text": [
        "\n",
        "('Failed to create folder', 'kelvin_cells_700')\n",
        "mkdir: cannot create directory `/cluster/scratch_xp/public/vjan/kelvin_cells_700': File exists"
       ]
      },
      {
       "output_type": "stream",
       "stream": "stdout",
       "text": [
        "\n",
        "('Failed to create folder', 'kelvin_cells_400_U_10')\n",
        "mkdir: cannot create directory `/cluster/scratch_xp/public/vjan/kelvin_cells_400_U_10': File exists"
       ]
      },
      {
       "output_type": "stream",
       "stream": "stdout",
       "text": [
        "\n",
        "('Failed to create folder', 'kelvin_cells_450_U_10')\n",
        "mkdir: cannot create directory `/cluster/scratch_xp/public/vjan/kelvin_cells_450_U_10': File exists"
       ]
      },
      {
       "output_type": "stream",
       "stream": "stdout",
       "text": [
        "\n",
        "('Failed to create folder', 'kelvin_cells_500_U_10')\n",
        "mkdir: cannot create directory `/cluster/scratch_xp/public/vjan/kelvin_cells_500_U_10': File exists"
       ]
      },
      {
       "output_type": "stream",
       "stream": "stdout",
       "text": [
        "\n",
        "('Failed to create folder', 'kelvin_cells_550_U_10')\n",
        "mkdir: cannot create directory `/cluster/scratch_xp/public/vjan/kelvin_cells_550_U_10': File exists"
       ]
      },
      {
       "output_type": "stream",
       "stream": "stdout",
       "text": [
        "\n",
        "('Failed to create folder', 'kelvin_cells_600_U_10')\n",
        "mkdir: cannot create directory `/cluster/scratch_xp/public/vjan/kelvin_cells_600_U_10': File exists"
       ]
      },
      {
       "output_type": "stream",
       "stream": "stdout",
       "text": [
        "\n",
        "('Failed to create folder', 'kelvin_cells_650_U_10')\n",
        "mkdir: cannot create directory `/cluster/scratch_xp/public/vjan/kelvin_cells_650_U_10': File exists"
       ]
      },
      {
       "output_type": "stream",
       "stream": "stdout",
       "text": [
        "\n",
        "('Failed to create folder', 'kelvin_cells_700_U_10')\n",
        "mkdir: cannot create directory `/cluster/scratch_xp/public/vjan/kelvin_cells_700_U_10': File exists"
       ]
      },
      {
       "output_type": "stream",
       "stream": "stdout",
       "text": [
        "\n",
        "mkdir: cannot create directory `/cluster/scratch_xp/public/vjan/kelvin_cells_inf_700': File exists"
       ]
      },
      {
       "output_type": "stream",
       "stream": "stdout",
       "text": [
        "\n",
        "('Failed to create folder', 'kelvin_cells_conjugate_551')\n",
        "mkdir: cannot create directory `/cluster/scratch_xp/public/vjan/kelvin_cells_conjugate_551': File exists"
       ]
      },
      {
       "output_type": "stream",
       "stream": "stdout",
       "text": [
        "\n",
        "('Failed to create folder', 'kelvin_cells_conjugate_500')\n"
       ]
      },
      {
       "ename": "KeyboardInterrupt",
       "evalue": "",
       "output_type": "pyerr",
       "traceback": [
        "\u001b[1;31m---------------------------------------------------------------------------\u001b[0m\n\u001b[1;31mKeyboardInterrupt\u001b[0m                         Traceback (most recent call last)",
        "\u001b[1;32m<ipython-input-1800-b9ab5a7d000c>\u001b[0m in \u001b[0;36m<module>\u001b[1;34m()\u001b[0m\n\u001b[0;32m     16\u001b[0m \u001b[1;33m\u001b[0m\u001b[0m\n\u001b[0;32m     17\u001b[0m \u001b[1;32mfor\u001b[0m \u001b[0mtemperature\u001b[0m \u001b[1;32min\u001b[0m \u001b[1;33m[\u001b[0m\u001b[1;36m500\u001b[0m\u001b[1;33m,\u001b[0m\u001b[1;36m600\u001b[0m\u001b[1;33m,\u001b[0m\u001b[1;36m700\u001b[0m\u001b[1;33m]\u001b[0m\u001b[1;33m:\u001b[0m\u001b[1;33m\u001b[0m\u001b[0m\n\u001b[1;32m---> 18\u001b[1;33m     \u001b[0msims\u001b[0m\u001b[1;33m.\u001b[0m\u001b[0mappend\u001b[0m\u001b[1;33m(\u001b[0m\u001b[0mcreate_sim_in_real_folder\u001b[0m\u001b[1;33m(\u001b[0m\u001b[1;34m\"kelvin_cells_conjugate_\"\u001b[0m\u001b[1;33m+\u001b[0m\u001b[0mstr\u001b[0m\u001b[1;33m(\u001b[0m\u001b[0mtemperature\u001b[0m\u001b[1;33m)\u001b[0m\u001b[1;33m,\u001b[0m\u001b[0mtemperature\u001b[0m\u001b[1;33m,\u001b[0m\u001b[0mref_folder\u001b[0m\u001b[1;33m=\u001b[0m\u001b[1;34m\"kelvin_cells_conjugate_550\"\u001b[0m\u001b[1;33m,\u001b[0m\u001b[0mcreate\u001b[0m\u001b[1;33m=\u001b[0m\u001b[0mTrue\u001b[0m\u001b[1;33m,\u001b[0m\u001b[0mconj\u001b[0m\u001b[1;33m=\u001b[0m\u001b[0mTrue\u001b[0m\u001b[1;33m,\u001b[0m\u001b[0mmf\u001b[0m\u001b[1;33m=\u001b[0m\u001b[1;36m0.01\u001b[0m\u001b[1;33m,\u001b[0m\u001b[0monecell\u001b[0m\u001b[1;33m=\u001b[0m\u001b[0mFalse\u001b[0m\u001b[1;33m,\u001b[0m\u001b[0mncells\u001b[0m\u001b[1;33m=\u001b[0m\u001b[1;36m4\u001b[0m\u001b[1;33m)\u001b[0m\u001b[1;33m)\u001b[0m\u001b[1;33m\u001b[0m\u001b[0m\n\u001b[0m\u001b[0;32m     19\u001b[0m \u001b[1;33m\u001b[0m\u001b[0m\n\u001b[0;32m     20\u001b[0m \u001b[1;33m\u001b[0m\u001b[0m\n",
        "\u001b[1;32m<ipython-input-1799-93e0c2be0b33>\u001b[0m in \u001b[0;36mcreate_sim_in_real_folder\u001b[1;34m(jobname, temperature, ref_folder, create, inf, conj, steady, write_ini, mf, velocity, onecell, cond, ncells, geometry, dt, group, grid, por)\u001b[0m\n\u001b[0;32m     28\u001b[0m     \u001b[0mconfig\u001b[0m\u001b[1;33m[\u001b[0m\u001b[1;34m\"jobname\"\u001b[0m\u001b[1;33m]\u001b[0m     \u001b[1;33m=\u001b[0m \u001b[0mjobname\u001b[0m\u001b[1;33m\u001b[0m\u001b[0m\n\u001b[0;32m     29\u001b[0m     \u001b[0mconfig\u001b[0m\u001b[1;33m[\u001b[0m\u001b[1;34m\"root_folder\"\u001b[0m\u001b[1;33m]\u001b[0m \u001b[1;33m=\u001b[0m \u001b[0mroot_folder\u001b[0m\u001b[1;33m\u001b[0m\u001b[0m\n\u001b[1;32m---> 30\u001b[1;33m     \u001b[0mjob\u001b[0m \u001b[1;33m=\u001b[0m \u001b[0msim_brutus\u001b[0m\u001b[1;33m.\u001b[0m\u001b[0mjob\u001b[0m\u001b[1;33m(\u001b[0m\u001b[1;33m**\u001b[0m\u001b[0mconfig\u001b[0m\u001b[1;33m)\u001b[0m\u001b[1;33m\u001b[0m\u001b[0m\n\u001b[0m\u001b[0;32m     31\u001b[0m     \u001b[0mjob\u001b[0m\u001b[1;33m.\u001b[0m\u001b[0msim_info\u001b[0m \u001b[1;33m=\u001b[0m \u001b[1;33m{\u001b[0m\u001b[1;33m}\u001b[0m\u001b[1;33m\u001b[0m\u001b[0m\n\u001b[0;32m     32\u001b[0m     \u001b[0mjob\u001b[0m\u001b[1;33m.\u001b[0m\u001b[0msim_info\u001b[0m\u001b[1;33m[\u001b[0m\u001b[1;34m\"ds\"\u001b[0m\u001b[1;33m]\u001b[0m \u001b[1;33m=\u001b[0m \u001b[1;36m0.0003\u001b[0m\u001b[1;33m\u001b[0m\u001b[0m\n",
        "\u001b[1;32m/home/vonrickenbach/contrib_git/python/cluster_interface/simulation_brutus.pyc\u001b[0m in \u001b[0;36m__init__\u001b[1;34m(self, **kwargs)\u001b[0m\n\u001b[0;32m    641\u001b[0m       \u001b[1;32mif\u001b[0m \u001b[0mkwargs\u001b[0m\u001b[1;33m[\u001b[0m\u001b[1;34m\"has_remote\"\u001b[0m\u001b[1;33m]\u001b[0m\u001b[1;33m:\u001b[0m\u001b[1;33m\u001b[0m\u001b[0m\n\u001b[0;32m    642\u001b[0m          \u001b[0mself\u001b[0m\u001b[1;33m.\u001b[0m\u001b[0mcommand_runner_remote\u001b[0m \u001b[1;33m=\u001b[0m \u001b[0mcommand_runner_paramiko\u001b[0m\u001b[1;33m(\u001b[0m\u001b[0mself\u001b[0m\u001b[1;33m)\u001b[0m\u001b[1;33m\u001b[0m\u001b[0m\n\u001b[1;32m--> 643\u001b[1;33m          \u001b[0mself\u001b[0m\u001b[1;33m.\u001b[0m\u001b[0mcommunicator\u001b[0m          \u001b[1;33m=\u001b[0m \u001b[0mcommunicator_remote\u001b[0m\u001b[1;33m(\u001b[0m\u001b[0mself\u001b[0m\u001b[1;33m)\u001b[0m\u001b[1;33m\u001b[0m\u001b[0m\n\u001b[0m\u001b[0;32m    644\u001b[0m          \u001b[0mself\u001b[0m\u001b[1;33m.\u001b[0m\u001b[0mpostprocessor\u001b[0m         \u001b[1;33m=\u001b[0m \u001b[0mapplication_paraview_remote\u001b[0m\u001b[1;33m(\u001b[0m\u001b[0mself\u001b[0m\u001b[1;33m,\u001b[0m\u001b[0mkwargs\u001b[0m\u001b[1;33m[\u001b[0m\u001b[1;34m\"paraview_executable\"\u001b[0m\u001b[1;33m]\u001b[0m\u001b[1;33m)\u001b[0m\u001b[1;33m\u001b[0m\u001b[0m\n\u001b[0;32m    645\u001b[0m          \u001b[1;32mif\u001b[0m \u001b[0mkwargs\u001b[0m\u001b[1;33m[\u001b[0m\u001b[1;34m\"transat_version\"\u001b[0m\u001b[1;33m]\u001b[0m \u001b[1;33m==\u001b[0m \u001b[1;34m\"MB\"\u001b[0m\u001b[1;33m:\u001b[0m\u001b[1;33m\u001b[0m\u001b[0m\n",
        "\u001b[1;32m/home/vonrickenbach/contrib_git/python/cluster_interface/simulation_brutus.pyc\u001b[0m in \u001b[0;36m__init__\u001b[1;34m(self, sim_class)\u001b[0m\n\u001b[0;32m    485\u001b[0m       \u001b[0mself\u001b[0m\u001b[1;33m.\u001b[0m\u001b[0msim_class\u001b[0m \u001b[1;33m=\u001b[0m \u001b[0msim_class\u001b[0m\u001b[1;33m\u001b[0m\u001b[0m\n\u001b[0;32m    486\u001b[0m       \u001b[0mmkdir_command\u001b[0m \u001b[1;33m=\u001b[0m \u001b[1;34m'mkdir '\u001b[0m \u001b[1;33m+\u001b[0m \u001b[0mself\u001b[0m\u001b[1;33m.\u001b[0m\u001b[0msim_class\u001b[0m\u001b[1;33m.\u001b[0m\u001b[0minfo\u001b[0m\u001b[1;33m.\u001b[0m\u001b[0mcluster\u001b[0m\u001b[1;33m[\u001b[0m\u001b[1;34m\"dir\"\u001b[0m\u001b[1;33m]\u001b[0m\u001b[1;33m\u001b[0m\u001b[0m\n\u001b[1;32m--> 487\u001b[1;33m       \u001b[0mself\u001b[0m\u001b[1;33m.\u001b[0m\u001b[0msim_class\u001b[0m\u001b[1;33m.\u001b[0m\u001b[0mcommand_runner_remote\u001b[0m\u001b[1;33m(\u001b[0m\u001b[0mmkdir_command\u001b[0m\u001b[1;33m)\u001b[0m\u001b[1;33m\u001b[0m\u001b[0m\n\u001b[0m\u001b[0;32m    488\u001b[0m \u001b[1;33m\u001b[0m\u001b[0m\n\u001b[0;32m    489\u001b[0m    \u001b[1;32mdef\u001b[0m \u001b[0msync_input\u001b[0m\u001b[1;33m(\u001b[0m\u001b[0mself\u001b[0m\u001b[1;33m)\u001b[0m\u001b[1;33m:\u001b[0m\u001b[1;33m\u001b[0m\u001b[0m\n",
        "\u001b[1;32m/home/vonrickenbach/contrib_git/python/cluster_interface/simulation_brutus.pyc\u001b[0m in \u001b[0;36m__call__\u001b[1;34m(self, command, quiet)\u001b[0m\n\u001b[0;32m     63\u001b[0m       \u001b[0mstdin\u001b[0m\u001b[1;33m,\u001b[0m \u001b[0mstdout\u001b[0m\u001b[1;33m,\u001b[0m \u001b[0mstderr\u001b[0m \u001b[1;33m=\u001b[0m \u001b[0mself\u001b[0m\u001b[1;33m.\u001b[0m\u001b[0mssh\u001b[0m\u001b[1;33m.\u001b[0m\u001b[0mexec_command\u001b[0m\u001b[1;33m(\u001b[0m\u001b[0mcommand\u001b[0m\u001b[1;33m)\u001b[0m\u001b[1;33m\u001b[0m\u001b[0m\n\u001b[0;32m     64\u001b[0m       \u001b[1;32mwhile\u001b[0m \u001b[1;32mnot\u001b[0m \u001b[0mstdout\u001b[0m\u001b[1;33m.\u001b[0m\u001b[0mchannel\u001b[0m\u001b[1;33m.\u001b[0m\u001b[0mexit_status_ready\u001b[0m\u001b[1;33m(\u001b[0m\u001b[1;33m)\u001b[0m\u001b[1;33m:\u001b[0m\u001b[1;33m\u001b[0m\u001b[0m\n\u001b[1;32m---> 65\u001b[1;33m          \u001b[0mtime\u001b[0m\u001b[1;33m.\u001b[0m\u001b[0msleep\u001b[0m\u001b[1;33m(\u001b[0m\u001b[1;36m0.1\u001b[0m\u001b[1;33m)\u001b[0m\u001b[1;33m\u001b[0m\u001b[0m\n\u001b[0m\u001b[0;32m     66\u001b[0m       \u001b[0mself\u001b[0m\u001b[1;33m.\u001b[0m\u001b[0mexit\u001b[0m\u001b[1;33m(\u001b[0m\u001b[1;33m)\u001b[0m\u001b[1;33m\u001b[0m\u001b[0m\n\u001b[0;32m     67\u001b[0m       \u001b[1;32mif\u001b[0m \u001b[1;32mnot\u001b[0m \u001b[0mquiet\u001b[0m\u001b[1;33m:\u001b[0m\u001b[1;33m\u001b[0m\u001b[0m\n",
        "\u001b[1;31mKeyboardInterrupt\u001b[0m: "
       ]
      }
     ],
     "prompt_number": 1800
    },
    {
     "cell_type": "heading",
     "level": 2,
     "metadata": {},
     "source": [
      "Create Sims"
     ]
    },
    {
     "cell_type": "code",
     "collapsed": false,
     "input": [
      "sims = []\n",
      "\n",
      "\n",
      "#Low porosity cases\n",
      "\n",
      "\n",
      "temperature = 300   \n",
      "sims.append(create_sim_in_real_folder(\"low_por_ref_case\"\n",
      "                                      ,temperature,create=True,conj=True,mf=0.01,steady=True,geometry=\"kelvin\",\n",
      "                                      cond=\"fine\",group=\"paper_sims\",grid=30,por=81,velocity=1.5))\n",
      "\n",
      "temperature = 300   \n",
      "sims.append(create_sim_in_real_folder(\"low_por_ref_case_unsteady\"\n",
      "                                      ,temperature,create=True,conj=True,mf=0.01,steady=False,geometry=\"kelvin\",\n",
      "                                      cond=\"fine\",group=\"paper_sims\",grid=30,por=81,velocity=1.5,dt=100))\n",
      "\n",
      "\n",
      "#High porosity cases\n",
      "temperature = 300   \n",
      "sims.append(create_sim_in_real_folder(\"high_por_ref_case\"\n",
      "                                      ,temperature,create=True,conj=True,mf=0.01,steady=True,geometry=\"kelvin\",\n",
      "                                      cond=\"fine\",group=\"paper_sims\",grid=30,por=90,velocity=1.5))\n",
      "\n",
      "temperature = 300   \n",
      "sims.append(create_sim_in_real_folder(\"high_por_ref_case_unsteady\"\n",
      "                                      ,temperature,create=True,conj=True,mf=0.01,steady=False,geometry=\"kelvin\",\n",
      "                                      cond=\"fine\",group=\"paper_sims\",grid=30,por=90,velocity=1.5,dt=100))\n",
      "\n",
      "\n",
      "# High ppi cases\n",
      "temperature = 300   \n",
      "sims.append(create_sim_in_real_folder(\"low_por_high_ppi\"\n",
      "                                      ,temperature,create=True,conj=True,mf=0.01,steady=True,geometry=\"kelvin\",\n",
      "                                      cond=\"fine\",group=\"paper_sims\",grid=30,por=81,velocity=1.5,Dp=0.001))\n",
      "\n",
      "temperature = 300   \n",
      "sims.append(create_sim_in_real_folder(\"low_por_high_ppi_unsteady\"\n",
      "                                      ,temperature,create=True,conj=True,mf=0.01,steady=False,geometry=\"kelvin\",\n",
      "                                      cond=\"fine\",group=\"paper_sims\",grid=30,por=81,velocity=1.5,Dp=0.001,dt=100))\n",
      "\n",
      "# Low mf cases\n",
      "temperature = 300   \n",
      "sims.append(create_sim_in_real_folder(\"low_por_low_mf\"\n",
      "                                      ,temperature,create=True,conj=True,mf=0.005,steady=True,geometry=\"kelvin\",\n",
      "                                      cond=\"fine\",group=\"paper_sims\",grid=30,por=81,velocity=1.5,Dp=0.002))\n",
      "\n",
      "temperature = 300   \n",
      "sims.append(create_sim_in_real_folder(\"low_por_low_mf_unsteady\"\n",
      "                                      ,temperature,create=True,conj=True,mf=0.005,steady=False,geometry=\"kelvin\",\n",
      "                                      cond=\"fine\",group=\"paper_sims\",grid=30,por=81,velocity=1.5,Dp=0.002,dt=100))\n",
      "\n",
      "temperature = 300   \n",
      "sims.append(create_sim_in_real_folder(\"low_por_high_F_unsteady\"\n",
      "                                      ,temperature,create=True,conj=True,mf=0.01,steady=False,geometry=\"kelvin\",\n",
      "                                      cond=\"fine\",group=\"paper_sims\",grid=30,por=81,velocity=1.5,Dp=0.002,dt=100,F=40))"
     ],
     "language": "python",
     "metadata": {},
     "outputs": [
      {
       "output_type": "stream",
       "stream": "stdout",
       "text": [
        "('Failed to create folder', 'low_por_ref_case')\n",
        "Autoloading openblas/0.2.8_seq"
       ]
      },
      {
       "output_type": "stream",
       "stream": "stdout",
       "text": [
        "\n",
        "mkdir: cannot create directory `/cluster/scratch/vjan/low_por_ref_case': File exists\n",
        "('Failed to create folder', 'low_por_ref_case_unsteady')\n",
        "Autoloading openblas/0.2.8_seq"
       ]
      },
      {
       "output_type": "stream",
       "stream": "stdout",
       "text": [
        "\n",
        "mkdir: cannot create directory `/cluster/scratch/vjan/low_por_ref_case_unsteady': File exists\n",
        "('Failed to create folder', 'high_por_ref_case')\n",
        "Autoloading openblas/0.2.8_seq"
       ]
      },
      {
       "output_type": "stream",
       "stream": "stdout",
       "text": [
        "\n",
        "mkdir: cannot create directory `/cluster/scratch/vjan/high_por_ref_case': File exists\n",
        "('Failed to create folder', 'high_por_ref_case_unsteady')\n",
        "Autoloading openblas/0.2.8_seq"
       ]
      },
      {
       "output_type": "stream",
       "stream": "stdout",
       "text": [
        "\n",
        "mkdir: cannot create directory `/cluster/scratch/vjan/high_por_ref_case_unsteady': File exists\n",
        "('Failed to create folder', 'low_por_high_ppi')\n",
        "Autoloading openblas/0.2.8_seq"
       ]
      },
      {
       "output_type": "stream",
       "stream": "stdout",
       "text": [
        "\n",
        "mkdir: cannot create directory `/cluster/scratch/vjan/low_por_high_ppi': File exists\n",
        "('Failed to create folder', 'low_por_high_ppi_unsteady')\n",
        "Autoloading openblas/0.2.8_seq"
       ]
      },
      {
       "output_type": "stream",
       "stream": "stdout",
       "text": [
        "\n",
        "mkdir: cannot create directory `/cluster/scratch/vjan/low_por_high_ppi_unsteady': File exists\n",
        "('Failed to create folder', 'low_por_low_mf')\n",
        "Autoloading openblas/0.2.8_seq"
       ]
      },
      {
       "output_type": "stream",
       "stream": "stdout",
       "text": [
        "\n",
        "mkdir: cannot create directory `/cluster/scratch/vjan/low_por_low_mf': File exists\n",
        "('Failed to create folder', 'low_por_low_mf_unsteady')\n",
        "Autoloading openblas/0.2.8_seq"
       ]
      },
      {
       "output_type": "stream",
       "stream": "stdout",
       "text": [
        "\n",
        "mkdir: cannot create directory `/cluster/scratch/vjan/low_por_low_mf_unsteady': File exists\n",
        "('Failed to create folder', 'low_por_high_F_unsteady')\n",
        "Need to have exactly one .stt file in the template directory"
       ]
      },
      {
       "output_type": "stream",
       "stream": "stdout",
       "text": [
        "\n",
        "Could not find stt file, probably not a TransAT case\n",
        "Autoloading openblas/0.2.8_seq"
       ]
      },
      {
       "output_type": "stream",
       "stream": "stdout",
       "text": [
        "\n",
        "bash: line 0: cd: /cluster/scratch/vjan/low_por_high_F_unsteady: No such file or directory\n"
       ]
      }
     ],
     "prompt_number": 715
    },
    {
     "cell_type": "code",
     "collapsed": false,
     "input": [
      "for sim in filter_simulations(sims,**current_sim):\n",
      "    sim.sync_input()\n",
      "   # sim.cp(\"surf_reaction_kelvin.runb\")\n",
      "  # print(sim.sim_info[\"time\"])"
     ],
     "language": "python",
     "metadata": {},
     "outputs": [
      {
       "output_type": "stream",
       "stream": "stdout",
       "text": [
        "===================================================\n",
        " Syncing Current Working Directory with Cluster \n",
        "===================================================\n",
        "Autoloading openblas/0.2.8_seq"
       ]
      },
      {
       "output_type": "stream",
       "stream": "stdout",
       "text": [
        "\n"
       ]
      }
     ],
     "prompt_number": 718
    },
    {
     "cell_type": "code",
     "collapsed": false,
     "input": [
      "14*60"
     ],
     "language": "python",
     "metadata": {},
     "outputs": [
      {
       "metadata": {},
       "output_type": "pyout",
       "prompt_number": 1995,
       "text": [
        "840"
       ]
      }
     ],
     "prompt_number": 1995
    },
    {
     "cell_type": "heading",
     "level": 2,
     "metadata": {},
     "source": [
      "Run sim"
     ]
    },
    {
     "cell_type": "code",
     "collapsed": false,
     "input": [
      "init = False\n",
      "depend = False\n",
      "restart = True\n",
      "\n",
      "endtime = 60\n",
      "njobs = 8\n",
      "nproc = 60\n",
      "\n",
      "endtime = 240\n",
      "njobs = 4\n",
      "nproc =500\n",
      "\n",
      "runtime = '1440'\n",
      "\n",
      "\n",
      "#for temperature in [500,600,700]:\n",
      "#for temperature in [600,700]:\n",
      "#    current_sim = {\"conj\":True,\"temperature\":temperature,\"steady\":True,\"onecell\":False}\n",
      "if True:\n",
      "    for sim in filter_simulations(sims,**current_sim):\n",
      "       sim.application.load      = \"source ~/.bashrc_boost\"\n",
      "       sim.init_application.load = \"source ~/.bashrc_boost\"  \n",
      "       sim.compile_init_application.load = \"source ~/.bashrc_boost\"  \n",
      "\n",
      "       sim.sync_input()\n",
      "       if init:\n",
      "           sim.compile_init(nproc=\"1\",memory=\"1024\",time='60') \n",
      "\n",
      "           sim.run_init(nproc=str(nproc),memory=\"2048\",time='60',depend=True) \n",
      "           depend = True\n",
      "       sim.run_sim(nproc=str(nproc),memory=\"1024\",time=runtime,njobs=njobs,restart=restart,depend=depend,endtime=endtime) "
     ],
     "language": "python",
     "metadata": {},
     "outputs": [
      {
       "output_type": "stream",
       "stream": "stdout",
       "text": [
        "===================================================\n",
        " Syncing Current Working Directory with Cluster \n",
        "===================================================\n",
        "Autoloading openblas/0.2.8_seq"
       ]
      },
      {
       "output_type": "stream",
       "stream": "stdout",
       "text": [
        "\n",
        "Autoloading openblas/0.2.8_seq"
       ]
      },
      {
       "output_type": "stream",
       "stream": "stdout",
       "text": [
        "\n",
        "===================================================\n",
        " Syncing Current Working Directory with Cluster \n",
        "===================================================\n",
        "Autoloading openblas/0.2.8_seq"
       ]
      },
      {
       "output_type": "stream",
       "stream": "stdout",
       "text": [
        "\n",
        "==================================================="
       ]
      },
      {
       "output_type": "stream",
       "stream": "stdout",
       "text": [
        "\n",
        " Syncing Current Working Directory with Cluster \n",
        "===================================================\n",
        "Autoloading openblas/0.2.8_seq"
       ]
      },
      {
       "output_type": "stream",
       "stream": "stdout",
       "text": [
        "\n",
        "bsub -n 1 -W 60 -R \"rusage[mem=1024]\" -J low_por_high_F_unsteady -o post_command.log -e std_err.log   ./post_command.py \n",
        "Job <2599353> is submitted to queue <beta.4h>."
       ]
      },
      {
       "output_type": "stream",
       "stream": "stdout",
       "text": [
        "\n",
        "Autoloading openblas/0.2.8_seq\n",
        "Generic job.\n",
        "source ~/.bashrc_boost; bsub -n 500 -W 1440 -R \"rusage[mem=1024]\" -J low_por_high_F_unsteady -o std_out.log -e std_err.log -w \"ended(low_por_high_F_unsteady)\" mpirun ./transatmbDP -pc_hypre_boomeramg_max_iter -pc_hypre_boomeramg_coarsen_type HMIS -pc_hypre_boomeramg_interp_type ext+i -pc_hypre_boomeramg_P_max 4 -pc_hypre_boomeramg_strong_treshold 0 -pc_hypre_boomeramg_agg_nl 2\n",
        "Job <2599354> is submitted to queue <beta.24h>."
       ]
      },
      {
       "output_type": "stream",
       "stream": "stdout",
       "text": [
        "\n",
        "Autoloading openblas/0.2.8_seq\n",
        "MPI job.\n",
        "bsub -n 1 -W 60 -R \"rusage[mem=1024]\" -J low_por_high_F_unsteady -o post_command.log -e std_err.log -w \"ended(low_por_high_F_unsteady)\"  ./post_command.py \n",
        "source ~/.bashrc_boost; bsub -n 500 -W 1440 -R \"rusage[mem=1024]\" -J low_por_high_F_unsteady -o std_out.log -e std_err.log -w \"ended(low_por_high_F_unsteady)\" mpirun ./transatmbDP -pc_hypre_boomeramg_max_iter -pc_hypre_boomeramg_coarsen_type HMIS -pc_hypre_boomeramg_interp_type ext+i -pc_hypre_boomeramg_P_max 4 -pc_hypre_boomeramg_strong_treshold 0 -pc_hypre_boomeramg_agg_nl 2"
       ]
      },
      {
       "output_type": "stream",
       "stream": "stdout",
       "text": [
        "\n",
        "Job <2599356> is submitted to queue <beta.24h>."
       ]
      },
      {
       "output_type": "stream",
       "stream": "stdout",
       "text": [
        "\n",
        "Autoloading openblas/0.2.8_seq\n",
        "MPI job.\n",
        "bsub -n 1 -W 60 -R \"rusage[mem=1024]\" -J low_por_high_F_unsteady -o post_command.log -e std_err.log -w \"ended(low_por_high_F_unsteady)\"  ./post_command.py \n",
        "source ~/.bashrc_boost; bsub -n 500 -W 1440 -R \"rusage[mem=1024]\" -J low_por_high_F_unsteady -o std_out.log -e std_err.log -w \"ended(low_por_high_F_unsteady)\" mpirun ./transatmbDP -pc_hypre_boomeramg_max_iter -pc_hypre_boomeramg_coarsen_type HMIS -pc_hypre_boomeramg_interp_type ext+i -pc_hypre_boomeramg_P_max 4 -pc_hypre_boomeramg_strong_treshold 0 -pc_hypre_boomeramg_agg_nl 2"
       ]
      },
      {
       "output_type": "stream",
       "stream": "stdout",
       "text": [
        "\n",
        "Job <2599358> is submitted to queue <beta.24h>."
       ]
      },
      {
       "output_type": "stream",
       "stream": "stdout",
       "text": [
        "\n",
        "Autoloading openblas/0.2.8_seq\n",
        "MPI job.\n",
        "bsub -n 1 -W 60 -R \"rusage[mem=1024]\" -J low_por_high_F_unsteady -o post_command.log -e std_err.log -w \"ended(low_por_high_F_unsteady)\"  ./post_command.py \n",
        "source ~/.bashrc_boost; bsub -n 500 -W 1440 -R \"rusage[mem=1024]\" -J low_por_high_F_unsteady -o std_out.log -e std_err.log -w \"ended(low_por_high_F_unsteady)\" mpirun ./transatmbDP -pc_hypre_boomeramg_max_iter -pc_hypre_boomeramg_coarsen_type HMIS -pc_hypre_boomeramg_interp_type ext+i -pc_hypre_boomeramg_P_max 4 -pc_hypre_boomeramg_strong_treshold 0 -pc_hypre_boomeramg_agg_nl 2"
       ]
      },
      {
       "output_type": "stream",
       "stream": "stdout",
       "text": [
        "\n",
        "Job <2599360> is submitted to queue <beta.24h>."
       ]
      },
      {
       "output_type": "stream",
       "stream": "stdout",
       "text": [
        "\n",
        "Autoloading openblas/0.2.8_seq\n",
        "MPI job.\n"
       ]
      }
     ],
     "prompt_number": 719
    },
    {
     "cell_type": "heading",
     "level": 2,
     "metadata": {},
     "source": [
      "Run postprocess"
     ]
    },
    {
     "cell_type": "code",
     "collapsed": false,
     "input": [
      "filename = \"create_slices.py\" #\"postprocess.py\"\n",
      "#filename = \"create_contour.py\" #\"postprocess.py\"\n",
      "\n",
      "#filename = \"slice_avg.py\" #\"postprocess.py\"\n",
      "#filename = \"full_3d.py\"\n",
      "#for sim in filter_simulations(sims,temperature=700,inf=False,steady=False,conj=True):\n",
      "#current_sim = {\"conj\":True,\"temperature\":551}\n",
      "\n",
      "#current_sim = {\"conj\":True,\"steady\":True,\"onecell\":False}\n",
      "#for sim in filter_simulations(sims,temperature=300,geometry=\"honeycomb\"):\n",
      "for sim in filter_simulations(sims,**current_sim):\n",
      "\n",
      "#for sim in sims:\n",
      "   # sim.sim_info[\"iterations\"] = np.linspace(2,400,200)\n",
      "    maxit = 200\n",
      "    sim.sim_info[\"iterations\"] = np.linspace(2,maxit,maxit/2)\n",
      "    sim.sim_info[\"iterations\"] = [-1]\n",
      "\n",
      "#    sim.sim_info[\"iterations\"] = [64,100,200,300,400,500,600,700]\n",
      "\n",
      "#    sim.sim_info[\"iterations\"] = [-1]\n",
      "\n",
      "\n",
      "    for iteration in sim.sim_info[\"iterations\"]:\n",
      "        sh.copy(filename,os.path.join(sim.info.local[\"sim_folder\"]))\n",
      "        sim.run_postprocess(filename + \" \" + str(int(iteration)),nproc=\"1\",memory=\"32000\",time=\"90\",args=\"10\")\n"
     ],
     "language": "python",
     "metadata": {},
     "outputs": [
      {
       "output_type": "stream",
       "stream": "stdout",
       "text": [
        "===================================================\n",
        " Syncing Current Working Directory with Cluster \n",
        "===================================================\n",
        "Autoloading openblas/0.2.8_seq"
       ]
      },
      {
       "output_type": "stream",
       "stream": "stdout",
       "text": [
        "\n",
        "source $HOME/.bashrc_paraview; bsub -n 1 -W 90 -R \"rusage[mem=32000]\" -J low_por_high_F_unsteady -o postprocess.out -e std_err.log  mpirun /cluster/home/vjan/ParaView-4.0.1-Linux-64bit/bin/pvbatch --use-offscreen-rendering create_slices.py -1\n"
       ]
      }
     ],
     "prompt_number": 721
    },
    {
     "cell_type": "code",
     "collapsed": false,
     "input": [
      "for sim in filter_simulations(sims,**current_sim):\n",
      "#for sim in filter_simulations(sims):\n",
      "\n",
      "#for sim in sims:\n",
      "   # if sim.sim_info[\"cond\"] == \"metallic\":\n",
      "        sim.kill()\n",
      " \n"
     ],
     "language": "python",
     "metadata": {},
     "outputs": [
      {
       "output_type": "stream",
       "stream": "stdout",
       "text": [
        "Job <2405361> is being terminated\n",
        "Job <2405359> is being terminated\n",
        "Job <2405362> is being terminated\n",
        "Autoloading openblas/0.2.8_seq\n"
       ]
      }
     ],
     "prompt_number": 1924
    },
    {
     "cell_type": "code",
     "collapsed": false,
     "input": [
      "def write_pvd_file(sim):\n",
      "    \n",
      "    vtu_filename = \"processed/output\"\n",
      "    filename = os.path.join(sim.info.local[\"sim_folder\"],\"test.pvd\")\n",
      "    pvd_file = open(filename,'w')\n",
      "    pvd_file.write(r'<?xml version=\"1.0\"?>')\n",
      "    pvd_file.write(os.linesep)\n",
      "\n",
      "    pvd_file.write(r'<VTKFile type=\"Collection\" version=\"0.1\">')\n",
      "    pvd_file.write(os.linesep)\n",
      "\n",
      "    pvd_file.write(r'<Collection>')\n",
      "    pvd_file.write(os.linesep)\n",
      "\n",
      "\n",
      "    sim.sim_info[\"iterations\"] = np.linspace(2,68,34)\n",
      "    for it,time in zip(sim.sim_info[\"iterations\"],sim.sim_info[\"time\"]):\n",
      "        pvd_file.write(r'<DataSet timestep=\"'+str(time)+ r'\" file=\"'+vtu_filename+ \"_\" + str(int(it)) + '.vtu\"' + \"/>\")\n",
      "        pvd_file.write(os.linesep)\n",
      "\n",
      "    pvd_file.write(r'</Collection>')\n",
      "    pvd_file.write(os.linesep)\n",
      "\n",
      "    pvd_file.write(r'</VTKFile>')\n",
      "    pvd_file.write(os.linesep)\n",
      "\n",
      "    pvd_file.close()"
     ],
     "language": "python",
     "metadata": {},
     "outputs": [],
     "prompt_number": 1704
    },
    {
     "cell_type": "code",
     "collapsed": false,
     "input": [
      "sim  = filter_simulations(sims,**current_sim)\n",
      "\n",
      "write_pvd_file(sim[0])"
     ],
     "language": "python",
     "metadata": {},
     "outputs": [],
     "prompt_number": 1705
    },
    {
     "cell_type": "heading",
     "level": 2,
     "metadata": {},
     "source": [
      "Get processsed results"
     ]
    },
    {
     "cell_type": "code",
     "collapsed": false,
     "input": [
      "local_sims =  filter_simulations(sims,group=\"paper_sims\",steady=False)\n",
      "\n",
      "for sim in local_sims:\n",
      "#for sim in filter_simulations(sims,**current_sim):\n",
      "\n",
      "    print(sim.info.local[\"jobname\"])\n",
      "    sim.sync_result(\"processed\")\n",
      "    sim.sim_info[\"iterations\"] = np.linspace(2,220,110)\n",
      "  #  sim.sim_info[\"iterations\"] = [1]\n",
      "\n",
      "    try:\n",
      "        sim.result = {}\n",
      "        try:\n",
      "            sim.data = pic.load(open(os.path.join(sim.info.local[\"sim_folder\"],\"processed/slice_averages_time_-1.dat\"))) \n",
      "        except:\n",
      "            print(\"No steady info for: \" + sim.info.local[\"jobname\"])\n",
      "\n",
      "        sim.data_time = []\n",
      "        for iteration in sim.sim_info[\"iterations\"]:\n",
      "            try:\n",
      "                sim.data_time.append(pic.load(open(os.path.join(sim.info.local[\"sim_folder\"],\"processed/slice_averages_time_\"+str(int(iteration))+\".dat\")))) \n",
      "            except:\n",
      "                print(\"reached iteration \"+str(int(iteration)))\n",
      "                break\n",
      "    except:\n",
      "        print(\"failed to open: \" + sim.info.local[\"jobname\"])\n",
      "        sim.data= None\n",
      "        continue "
     ],
     "language": "python",
     "metadata": {},
     "outputs": [
      {
       "output_type": "stream",
       "stream": "stdout",
       "text": [
        "low_por_ref_case_unsteady\n",
        "===================================================\n",
        " Syncing processed folder  with Cluster      \n",
        "===================================================\n",
        "reached iteration 120"
       ]
      },
      {
       "output_type": "stream",
       "stream": "stdout",
       "text": [
        "\n",
        "high_por_ref_case_unsteady\n",
        "===================================================\n",
        " Syncing processed folder  with Cluster      \n",
        "===================================================\n",
        "No steady info for: high_por_ref_case_unsteady"
       ]
      },
      {
       "output_type": "stream",
       "stream": "stdout",
       "text": [
        "\n",
        "reached iteration 96"
       ]
      },
      {
       "output_type": "stream",
       "stream": "stdout",
       "text": [
        "\n",
        "low_por_high_ppi_unsteady\n",
        "===================================================\n",
        " Syncing processed folder  with Cluster      \n",
        "===================================================\n",
        "No steady info for: low_por_high_ppi_unsteady"
       ]
      },
      {
       "output_type": "stream",
       "stream": "stdout",
       "text": [
        "\n",
        "reached iteration 102"
       ]
      },
      {
       "output_type": "stream",
       "stream": "stdout",
       "text": [
        "\n",
        "low_por_low_mf_unsteady\n",
        "===================================================\n",
        " Syncing processed folder  with Cluster      \n",
        "===================================================\n",
        "reached iteration 82"
       ]
      },
      {
       "output_type": "stream",
       "stream": "stdout",
       "text": [
        "\n",
        "low_por_high_F_unsteady\n",
        "===================================================\n",
        " Syncing processed folder  with Cluster      \n",
        "===================================================\n",
        "reached iteration 120"
       ]
      },
      {
       "output_type": "stream",
       "stream": "stdout",
       "text": [
        "\n"
       ]
      }
     ],
     "prompt_number": 723
    },
    {
     "cell_type": "code",
     "collapsed": false,
     "input": [
      "def get_data(sim,time=False):\n",
      " \n",
      "    sim.result_time = {}\n",
      "    if not time:\n",
      "        data_list = [sim.data]\n",
      "    else:\n",
      "     #   data_list = zip(*[iter(sim.data_time)]*9)\n",
      "       data_list = sim.data_time\n",
      "    variables = [\"T\",\"CO\",\"Ts\"]\n",
      "    transat_variables = [\"T\",\"CO\",\"T\"]\n",
      "\n",
      "    calc_index = [3,0,4]\n",
      " \n",
      "    for idx,var,t_var in zip(calc_index,variables,transat_variables):\n",
      "        dict_key = var+\"_avg\"\n",
      "        sim.result_time[dict_key] = []\n",
      "        for idx_time,time_dat in enumerate(data_list): \n",
      "            try:\n",
      "               spatial_data =  [(item[idx][\"massflow_t_\"+t_var]/item[idx][\"massflow\"])[0] for item in time_dat]\n",
      "               sim.result_time[dict_key].append(spatial_data)\n",
      "            except:\n",
      "                print(\"failed to open: \" + sim.info.local[\"jobname\"]+\" \"+var+\" \"+str(idx_time))\n",
      "                print(time_dat[0][0])\n",
      "                continue"
     ],
     "language": "python",
     "metadata": {},
     "outputs": [],
     "prompt_number": 251
    },
    {
     "cell_type": "code",
     "collapsed": false,
     "input": [
      "def interpolate_array(time_val,time_array,value_array):\n",
      "    values = np.array(value_array)\n",
      "    nx = len(values[0,:])\n",
      "    time_array = time_array[values[:,0]>0]\n",
      "    return np.array([np.interp(time_val,time_array,values[:,idx]) for idx in range(nx)])\n",
      "\n",
      "def get_figs(nfigs):\n",
      "    figs = []\n",
      "    axs  = []\n",
      "\n",
      "    for idx in range(nfigs):\n",
      "      fig,ax = pl.subplots(figsize=(6,4))\n",
      "      axs.append(ax)\n",
      "      figs.append(fig) \n",
      "    return figs,axs\n",
      "\n",
      "\n",
      "\n",
      "def plot_sim(sim,color,figs,axs,plot_time=0,clear=True,tmax=1000,ncol=2):\n",
      "\n",
      "    get_data(sim,time=True)\n",
      "\n",
      "    dt = sim.sim_info[\"dt\"] \n",
      "    nt = len(sim.result_time[\"CO_avg\"])\n",
      "    print(sim,nt)\n",
      "\n",
      "   \n",
      "    plot_sim_at_time(sim,color,figs,axs,plot_time,clear=clear,tmax=tmax,ncol=ncol)\n",
      "\n",
      "    \n",
      "def plot_sim_at_time(sim,color,figs,axs,plot_time,label=\"case\",clear=True,tmax=1000,ncol=2):\n",
      "    if clear:\n",
      "        axs[1].clear()\n",
      "    \n",
      "    xcoord = np.linspace(0.0,1,33)\n",
      "    label = \" \".join([str(item) for item in[sim.sim_info[\"Dp\"],sim.sim_info[\"porosity\"]]])\n",
      "    ref_sim = filter_simulations(sims,group=\"paper_sims\",steady=False,Dp=0.002,porosity=81,mf=0.01)[0]\n",
      "    ref_surf_area = ref_sim.sim_info[\"surf_to_volume\"]\n",
      "\n",
      "    \n",
      "    dp_fac =  (sim.sim_info[\"Dp\"]+sim.sim_info[\"ds\"])/0.00246\n",
      "    area_fac = 1.0 #ref_surf_area / sim.sim_info[\"surf_to_volume\"] \n",
      "    por_frac = (1.0-sim.sim_info[\"porosity\"]/100.0) /0.19 \n",
      "    time_norm = area_fac*por_frac* dp_fac\n",
      "    time_norm = 3110*880*(1-sim.sim_info[\"porosity\"]/100.0)* (sim.sim_info[\"Dp\"]+sim.sim_info[\"ds\"])/(1.5*884)\n",
      "\n",
      "  #  time_norm = 1.0\n",
      "    print(time_norm)\n",
      "    plot_time = plot_time* time_norm\n",
      "    idx = np.min(np.where(sim.sim_info[\"time\"]>plot_time))\n",
      "    time = sim.sim_info[\"time\"][idx]\n",
      "    temps = [\"Ts\",\"T\"]\n",
      "    for var,ls,lab in zip(temps,[\"-\",\"--\"],[\"fl:  \",\"sol: \"]): \n",
      "        try:\n",
      "            array_to_plot = interpolate_array(plot_time,sim.sim_info[\"time\"],sim.result_time[var+\"_avg\"])\n",
      "            axs[0].plot(xcoord[::2],array_to_plot[::2],ls,label=lab+\" \"+label,color=color)\n",
      "\n",
      "        except:\n",
      "            print(\"Failed to plot \"+sim.info.local[\"sim_folder\"])\n",
      "\n",
      "        axs[0].set_xlabel(\"x Coordinate (m)\")\n",
      "        axs[0].set_ylabel(\"Temperature (K)\")\n",
      "        axs[0].set_ylim((axs[0].get_ylim()[0],tmax))\n",
      "\n",
      "        y_arr = np.array(sim.result_time[var+\"_avg\"])[:,0]\n",
      "        indices = np.where(y_arr>0)\n",
      " \n",
      "\n",
      "        axs[1].plot(sim.sim_info[\"time\"][indices]/1000.0/time_norm,y_arr[indices],ls,label=lab+label,color=color)\n",
      "        y_arr = np.array(sim.result_time[var+\"_avg\"])[:,16]\n",
      "\n",
      "        axs[1].plot(sim.sim_info[\"time\"][indices]/1000.0/time_norm,y_arr[indices],ls,label=lab+label,color=color)\n",
      "        y_arr = np.array(sim.result_time[var+\"_avg\"])[:,-1]\n",
      "        axs[1].plot(sim.sim_info[\"time\"][indices]/1000.0/time_norm,y_arr[indices],ls,label=lab+label,color=color)\n",
      "\n",
      " #       axs[1].set_xlim((0,5))\n",
      "\n",
      "        axs[1].set_ylabel(\"Temperature (K)\")\n",
      "        axs[1].set_xlabel(\"Time (s)\")\n",
      "        \n",
      "    for var in [\"CO\"]:\n",
      "  \n",
      "      try:\n",
      "         array_to_plot = interpolate_array(plot_time,sim.sim_info[\"time\"],sim.result_time[var+\"_avg\"])\n",
      "         axs[3].plot(xcoord,array_to_plot,'-',label=label,color=color)\n",
      "      except:\n",
      "         print(\"Failed to plot \"+sim.info.local[\"sim_folder\"])\n",
      "\n",
      "      axs[3].set_xlabel(\"x Coordinate (m)\")\n",
      "      axs[3].set_ylabel(\"CO mass fraction (-)\")\n",
      "      axs[3].set_ylim((0.0,0.011))\n",
      "      y_arr = np.array(sim.result_time[var+\"_avg\"])[:,-1]\n",
      "      axs[2].plot(sim.sim_info[\"time\"][y_arr>0]/1000.0/time_norm,y_arr,'-',label=label,color=color)\n",
      "      axs[2].set_xlabel(\"$t'$\")\n",
      "      axs[2].set_xlim([3,13])\n",
      "      axs[2].set_ylabel(\"CO mass fraction (-)\")\n",
      "    for col,ax in zip([2,2,1,2],axs):\n",
      "        ax.legend(loc=0,frameon=False,ncol=ncol)\n"
     ],
     "language": "python",
     "metadata": {},
     "outputs": [],
     "prompt_number": 699
    },
    {
     "cell_type": "heading",
     "level": 1,
     "metadata": {},
     "source": [
      "Plot all sims"
     ]
    },
    {
     "cell_type": "code",
     "collapsed": true,
     "input": [
      "color = [\"k\",\"b\",\"r\",\"m\",\"y\",\"r\"]\n",
      "\n",
      "figs,axs = get_figs(4)\n",
      "\n",
      "local_sims = filter_simulations(sims,group=\"paper_sims\",steady=False,mf=0.01,F=20) \n",
      "print(local_sims)\n",
      "\n",
      "for sim,co in zip(local_sims,color):\n",
      "  print(sim.sim_info[\"porosity\"],sim.sim_info[\"surf_to_volume\"])\n",
      "\n",
      "\n",
      "  get_data(sim,time=True)\n",
      "\n",
      "  dt = sim.sim_info[\"dt\"] \n",
      "  nt = len(sim.result_time[\"CO_avg\"])\n",
      "  print(sim,nt)\n",
      "  idx = [28]\n",
      "  for time in sim.sim_info[\"time\"][idx]:\n",
      "    print(time-1)\n",
      "    plot_sim_at_time(sim,co,figs,axs,time-1,tmax=600,clear=False,ncol=1)\n",
      "\n",
      "extension = \".pdf\"\n",
      "names = [\"temp\",\"temp\",\"time_CO\",\"temp\"]\n",
      "\n",
      "for name, fig in zip(names,figs):\n",
      "    fig.tight_layout()\n",
      "    fig.savefig(os.path.join(\"pics_3\",name+extension))\n"
     ],
     "language": "python",
     "metadata": {},
     "outputs": [
      {
       "output_type": "stream",
       "stream": "stdout",
       "text": [
        "[<simulation_brutus.job instance at 0x7ff21e039908>, <simulation_brutus.job instance at 0x7ff21e0bc5f0>, <simulation_brutus.job instance at 0x7ff22c3deef0>]\n",
        "(81, 1382.4156945843558)\n",
        "(<simulation_brutus.job instance at 0x7ff21e039908>, 59)\n",
        "5799.0\n",
        "0.964691040724\n",
        "(90, 1168.1012273712763)"
       ]
      },
      {
       "output_type": "stream",
       "stream": "stdout",
       "text": [
        "\n",
        "(<simulation_brutus.job instance at 0x7ff21e0bc5f0>, 47)\n",
        "5799.0\n",
        "0.474708898944\n",
        "(81, 2764.8313891687117)\n",
        "(<simulation_brutus.job instance at 0x7ff22c3deef0>, 50)"
       ]
      },
      {
       "output_type": "stream",
       "stream": "stdout",
       "text": [
        "\n",
        "5799.0\n",
        "0.482345520362\n"
       ]
      },
      {
       "metadata": {},
       "output_type": "display_data",
       "png": "[encoded data removed]",
       "text": [
        "<matplotlib.figure.Figure at 0x7ff22ebd4190>"
       ]
      },
      {
       "metadata": {},
       "output_type": "display_data",
       "png": "[encoded data removed]",
       "text": [
        "<matplotlib.figure.Figure at 0x7ff21d4642d0>"
       ]
      },
      {
       "metadata": {},
       "output_type": "display_data",
       "png": "[encoded data removed]",
       "text": [
        "<matplotlib.figure.Figure at 0x7ff22e8d3990>"
       ]
      },
      {
       "metadata": {},
       "output_type": "display_data",
       "png": "[encoded data removed]",
       "text": [
        "<matplotlib.figure.Figure at 0x7ff234448510>"
       ]
      }
     ],
     "prompt_number": 726
    },
    {
     "cell_type": "code",
     "collapsed": true,
     "input": [
      "local_sim = filter_simulations(sims,group=\"paper_sims\",steady=False,porosity=81,mf=0.01,Dp=0.002)[0]\n",
      "\n",
      "fig, ax = get_figs(2)\n",
      "indices = [4,35,48,54]\n",
      "colors = np.loadtxt(\"colors\")[:,-3:]/255\n",
      "\n",
      "for co,idx in zip(colors,indices):\n",
      "    time = local_sim.sim_info[\"time\"][idx]/1000.0\n",
      "    label = \" \".join([\"t=\",str(time),\"s\"])\n",
      "    x_coord = np.linspace(0,1,len(local_sim.result_time[\"Ts_avg\"][idx]))\n",
      "    ax[0].plot(x_coord,local_sim.result_time[\"Ts_avg\"][idx][::1],'--',color=co)\n",
      "    ax[0].plot(x_coord[::2],local_sim.result_time[\"T_avg\"][idx][::2],color=co,label=label)\n",
      "    ax[1].plot(x_coord[::2],local_sim.result_time[\"CO_avg\"][idx][::2],color=co,label=label)\n",
      "\n",
      "ax[0].set_xlabel(\"$x'$ \")\n",
      "ax[0].set_ylabel(\"Temperature (K)\")\n",
      "\n",
      "ax[1].set_xlabel(\"$x'$ \")\n",
      "ax[1].set_ylabel(\"$Y^b_{CO}$ \")\n",
      "\n",
      "\n",
      "ax[0].legend(frameon=False,loc=0)\n",
      "ax[1].legend(frameon=False,loc=0)\n",
      "\n",
      "ext = \".pdf\"\n",
      "names = [\"spatial_temp\",\"spatial_CO\"]\n",
      "for fi,name in zip(fig,names):\n",
      "    fi.tight_layout()\n",
      "    fi.savefig(os.path.join(\"pics_3\",name+ext))"
     ],
     "language": "python",
     "metadata": {},
     "outputs": [
      {
       "metadata": {},
       "output_type": "display_data",
       "png": "[encoded data removed]",
       "text": [
        "<matplotlib.figure.Figure at 0x7ff21d8d5fd0>"
       ]
      },
      {
       "metadata": {},
       "output_type": "display_data",
       "png": "[encoded data removed]",
       "text": [
        "<matplotlib.figure.Figure at 0x7ff22c843e90>"
       ]
      }
     ],
     "prompt_number": 713
    },
    {
     "cell_type": "code",
     "collapsed": false,
     "input": [
      "len(local_sim.result_time[\"Ts_avg\"])"
     ],
     "language": "python",
     "metadata": {},
     "outputs": [
      {
       "metadata": {},
       "output_type": "pyout",
       "prompt_number": 547,
       "text": [
        "50"
       ]
      }
     ],
     "prompt_number": 547
    },
    {
     "cell_type": "heading",
     "level": 1,
     "metadata": {},
     "source": [
      "Grid refinement"
     ]
    },
    {
     "cell_type": "code",
     "collapsed": false,
     "input": [
      "def get_val(sim):\n",
      "    try:\n",
      "        result = sim.result_time[\"Ts_avg\"][0][0]\n",
      "    except:\n",
      "        result = np.nan\n",
      "    return result\n",
      "\n",
      "def get_info(sim,info):\n",
      "     return sim.sim_info[info]\n",
      "\n",
      "\n",
      "\n",
      "local_sims = filter_simulations(sims,group=\"grid_convergence\",steady=True)\n",
      "\n",
      "for sim,co in zip(local_sims,color):\n",
      "\n",
      "    get_data(sim)\n",
      "\n",
      "\n",
      "pl.plot(get_array(sort_sims(local_sims,\"grid\"),get_info,\"grid\"),get_array(sort_sims(local_sims,\"grid\"),get_val))\n",
      "pl.gca().set_xlim([24,40])\n",
      "pl.gca().set_ylim([665,670])\n",
      "\n",
      "pl.legend()"
     ],
     "language": "python",
     "metadata": {},
     "outputs": [
      {
       "metadata": {},
       "output_type": "display_data",
       "png": "[encoded data removed]",
       "text": [
        "<matplotlib.figure.Figure at 0x7f9b15accdd0>"
       ]
      }
     ],
     "prompt_number": 2017
    },
    {
     "cell_type": "code",
     "collapsed": false,
     "input": [
      "figs,axs = get_figs(4)\n",
      "\n",
      "local_sims =  filter_simulations(sims,temperature=300,geometry=\"honeycomb\") #+  filter_simulations(sims,temperature=300,cond=\"ceramic\",geometry=\"kelvin\",dt=200)\n",
      "\n",
      "for sim,co in zip(local_sims,color):\n",
      "    plot_sim(sim,co,figs,axs,plot_time=4999,clear=False,tmax=700,ncol=1)\n",
      "    \n",
      "    \n",
      "extension = \".png\"\n",
      "names = [\"spatial_different_lambda\",\"T_over_time\",\"time_CO_different_lambda_with_foam\",\"dummy\"]\n",
      "\n",
      "for name, fig in zip(names,figs):\n",
      "    fig.tight_layout()\n",
      "    fig.savefig(os.path.join(\"pics_3\",name+extension))"
     ],
     "language": "python",
     "metadata": {},
     "outputs": [
      {
       "metadata": {},
       "output_type": "display_data",
       "png": "[encoded data removed]",
       "text": [
        "<matplotlib.figure.Figure at 0x7ff22ee8cd90>"
       ]
      },
      {
       "metadata": {},
       "output_type": "display_data",
       "png": "[encoded data removed]",
       "text": [
        "<matplotlib.figure.Figure at 0x7ff22ee1ae90>"
       ]
      },
      {
       "metadata": {},
       "output_type": "display_data",
       "png": "[encoded data removed]",
       "text": [
        "<matplotlib.figure.Figure at 0x7ff22fe1d3d0>"
       ]
      },
      {
       "metadata": {},
       "output_type": "display_data",
       "png": "[encoded data removed]",
       "text": [
        "<matplotlib.figure.Figure at 0x7ff22ecc07d0>"
       ]
      }
     ],
     "prompt_number": 725
    },
    {
     "cell_type": "code",
     "collapsed": false,
     "input": [
      "figs2, axs2 = get_figs(4)\n",
      "\n",
      "for sim,co in zip(filter_simulations(sims,dt=50,group=\"paper_sims\",steady=False,cond=\"fine\"),color):\n",
      "    plot_sim(sim,co,figs2,axs2,plot_time=100)\n",
      "    "
     ],
     "language": "python",
     "metadata": {},
     "outputs": [
      {
       "output_type": "stream",
       "stream": "stdout",
       "text": [
        "(<simulation_brutus.job instance at 0x7f9b17d8bb00>, 2)\n"
       ]
      },
      {
       "metadata": {},
       "output_type": "display_data",
       "png": "[encoded data removed]",
       "text": [
        "<matplotlib.figure.Figure at 0x7f9b179383d0>"
       ]
      },
      {
       "metadata": {},
       "output_type": "display_data",
       "png": "[encoded data removed]",
       "text": [
        "<matplotlib.figure.Figure at 0x7f9b17af1f50>"
       ]
      },
      {
       "metadata": {},
       "output_type": "display_data",
       "png": "[encoded data removed]",
       "text": [
        "<matplotlib.figure.Figure at 0x7f9b17cc4510>"
       ]
      },
      {
       "metadata": {},
       "output_type": "display_data",
       "png": "[encoded data removed]",
       "text": [
        "<matplotlib.figure.Figure at 0x7f9b16cf88d0>"
       ]
      }
     ],
     "prompt_number": 2046
    },
    {
     "cell_type": "heading",
     "level": 2,
     "metadata": {},
     "source": [
      "Plot profiles"
     ]
    },
    {
     "cell_type": "code",
     "collapsed": false,
     "input": [
      "plot_filter = {\"steady\":True,\"conj\":True,\"inf\":False,\"onecell\":False}\n",
      "\n",
      "x_coord = np.linspace(0,8*0.0023,9)\n",
      "fig = pl.figure(figsize=(16,9))\n",
      "ax = fig.add_subplot(1,1,1)\n",
      "for sim in filter_simulations(sims,**plot_filter):\n",
      "    try:\n",
      "        sim.result[\"mf_avg\"] =   [(item[0][\"massflow_t_CO\"]/item[0][\"massflow\"])[0] for item in sim.data]\n",
      "        sh_number(sim,inflow_mf=True) \n",
      "    except:\n",
      "        print(\"failed to open: \" + sim.info.local[\"jobname\"])\n",
      "        continue\n",
      "\n",
      "    #pl.plot(data_dict[\"arc_length\"],data_dict[\"CO\"],label=\"Wall mass fraction\")\n",
      "    prop_list = [\"temperature\",\"inf\",\"conj\"]\n",
      "    label = \" \".join([str(sim.sim_info[prop]) for prop in prop_list])\n",
      "    ax.plot(x_coord,sim.result[\"mf_avg\"],label=label)\n",
      "\n",
      "plot_temp = [sim.sim_info[\"temperature\"] for sim in filter_simulations(sims,**plot_filter)]\n",
      "print plot_temp\n",
      "\n",
      "sim_to_plot = filter_simulations(sim_list_py,wc_geo_area=100,dp=10,sh_number=8000,wc_thickness=100,cov_CO=1,vel=2.0)\n",
      "for sim in it.ifilterfalse(lambda sim:sim.sim_info[\"temperature\"] not in plot_temp,sim_to_plot):\n",
      "    pl.plot(sim.wc_data[\"coords\"],sim.wc_data[\"CO\"],'o',label=sim.sim_info[\"temperature\"])\n",
      "\n",
      "ax = pl.gca()\n",
      "ax.set_xlabel(\"x (m)\")\n",
      "ax.set_ylabel(\"CO mass fraction (-)\")\n",
      "ax.legend()"
     ],
     "language": "python",
     "metadata": {},
     "outputs": [
      {
       "output_type": "stream",
       "stream": "stdout",
       "text": [
        "failed to open: kelvin_cells_conjugate_551\n"
       ]
      },
      {
       "ename": "ValueError",
       "evalue": "x and y must have same first dimension",
       "output_type": "pyerr",
       "traceback": [
        "\u001b[1;31m---------------------------------------------------------------------------\u001b[0m\n\u001b[1;31mValueError\u001b[0m                                Traceback (most recent call last)",
        "\u001b[1;32m<ipython-input-14-5e43af8a3bc1>\u001b[0m in \u001b[0;36m<module>\u001b[1;34m()\u001b[0m\n\u001b[0;32m     15\u001b[0m     \u001b[0mprop_list\u001b[0m \u001b[1;33m=\u001b[0m \u001b[1;33m[\u001b[0m\u001b[1;34m\"temperature\"\u001b[0m\u001b[1;33m,\u001b[0m\u001b[1;34m\"inf\"\u001b[0m\u001b[1;33m,\u001b[0m\u001b[1;34m\"conj\"\u001b[0m\u001b[1;33m]\u001b[0m\u001b[1;33m\u001b[0m\u001b[0m\n\u001b[0;32m     16\u001b[0m     \u001b[0mlabel\u001b[0m \u001b[1;33m=\u001b[0m \u001b[1;34m\" \"\u001b[0m\u001b[1;33m.\u001b[0m\u001b[0mjoin\u001b[0m\u001b[1;33m(\u001b[0m\u001b[1;33m[\u001b[0m\u001b[0mstr\u001b[0m\u001b[1;33m(\u001b[0m\u001b[0msim\u001b[0m\u001b[1;33m.\u001b[0m\u001b[0msim_info\u001b[0m\u001b[1;33m[\u001b[0m\u001b[0mprop\u001b[0m\u001b[1;33m]\u001b[0m\u001b[1;33m)\u001b[0m \u001b[1;32mfor\u001b[0m \u001b[0mprop\u001b[0m \u001b[1;32min\u001b[0m \u001b[0mprop_list\u001b[0m\u001b[1;33m]\u001b[0m\u001b[1;33m)\u001b[0m\u001b[1;33m\u001b[0m\u001b[0m\n\u001b[1;32m---> 17\u001b[1;33m     \u001b[0max\u001b[0m\u001b[1;33m.\u001b[0m\u001b[0mplot\u001b[0m\u001b[1;33m(\u001b[0m\u001b[0mx_coord\u001b[0m\u001b[1;33m,\u001b[0m\u001b[0msim\u001b[0m\u001b[1;33m.\u001b[0m\u001b[0mresult\u001b[0m\u001b[1;33m[\u001b[0m\u001b[1;34m\"mf_avg\"\u001b[0m\u001b[1;33m]\u001b[0m\u001b[1;33m,\u001b[0m\u001b[0mlabel\u001b[0m\u001b[1;33m=\u001b[0m\u001b[0mlabel\u001b[0m\u001b[1;33m)\u001b[0m\u001b[1;33m\u001b[0m\u001b[0m\n\u001b[0m\u001b[0;32m     18\u001b[0m \u001b[1;33m\u001b[0m\u001b[0m\n\u001b[0;32m     19\u001b[0m \u001b[0mplot_temp\u001b[0m \u001b[1;33m=\u001b[0m \u001b[1;33m[\u001b[0m\u001b[0msim\u001b[0m\u001b[1;33m.\u001b[0m\u001b[0msim_info\u001b[0m\u001b[1;33m[\u001b[0m\u001b[1;34m\"temperature\"\u001b[0m\u001b[1;33m]\u001b[0m \u001b[1;32mfor\u001b[0m \u001b[0msim\u001b[0m \u001b[1;32min\u001b[0m \u001b[0mfilter_simulations\u001b[0m\u001b[1;33m(\u001b[0m\u001b[0msims\u001b[0m\u001b[1;33m,\u001b[0m\u001b[1;33m**\u001b[0m\u001b[0mplot_filter\u001b[0m\u001b[1;33m)\u001b[0m\u001b[1;33m]\u001b[0m\u001b[1;33m\u001b[0m\u001b[0m\n",
        "\u001b[1;32m/usr/lib/pymodules/python2.7/matplotlib/axes.pyc\u001b[0m in \u001b[0;36mplot\u001b[1;34m(self, *args, **kwargs)\u001b[0m\n\u001b[0;32m   4135\u001b[0m         \u001b[0mlines\u001b[0m \u001b[1;33m=\u001b[0m \u001b[1;33m[\u001b[0m\u001b[1;33m]\u001b[0m\u001b[1;33m\u001b[0m\u001b[0m\n\u001b[0;32m   4136\u001b[0m \u001b[1;33m\u001b[0m\u001b[0m\n\u001b[1;32m-> 4137\u001b[1;33m         \u001b[1;32mfor\u001b[0m \u001b[0mline\u001b[0m \u001b[1;32min\u001b[0m \u001b[0mself\u001b[0m\u001b[1;33m.\u001b[0m\u001b[0m_get_lines\u001b[0m\u001b[1;33m(\u001b[0m\u001b[1;33m*\u001b[0m\u001b[0margs\u001b[0m\u001b[1;33m,\u001b[0m \u001b[1;33m**\u001b[0m\u001b[0mkwargs\u001b[0m\u001b[1;33m)\u001b[0m\u001b[1;33m:\u001b[0m\u001b[1;33m\u001b[0m\u001b[0m\n\u001b[0m\u001b[0;32m   4138\u001b[0m             \u001b[0mself\u001b[0m\u001b[1;33m.\u001b[0m\u001b[0madd_line\u001b[0m\u001b[1;33m(\u001b[0m\u001b[0mline\u001b[0m\u001b[1;33m)\u001b[0m\u001b[1;33m\u001b[0m\u001b[0m\n\u001b[0;32m   4139\u001b[0m             \u001b[0mlines\u001b[0m\u001b[1;33m.\u001b[0m\u001b[0mappend\u001b[0m\u001b[1;33m(\u001b[0m\u001b[0mline\u001b[0m\u001b[1;33m)\u001b[0m\u001b[1;33m\u001b[0m\u001b[0m\n",
        "\u001b[1;32m/usr/lib/pymodules/python2.7/matplotlib/axes.pyc\u001b[0m in \u001b[0;36m_grab_next_args\u001b[1;34m(self, *args, **kwargs)\u001b[0m\n\u001b[0;32m    315\u001b[0m                 \u001b[1;32mreturn\u001b[0m\u001b[1;33m\u001b[0m\u001b[0m\n\u001b[0;32m    316\u001b[0m             \u001b[1;32mif\u001b[0m \u001b[0mlen\u001b[0m\u001b[1;33m(\u001b[0m\u001b[0mremaining\u001b[0m\u001b[1;33m)\u001b[0m \u001b[1;33m<=\u001b[0m \u001b[1;36m3\u001b[0m\u001b[1;33m:\u001b[0m\u001b[1;33m\u001b[0m\u001b[0m\n\u001b[1;32m--> 317\u001b[1;33m                 \u001b[1;32mfor\u001b[0m \u001b[0mseg\u001b[0m \u001b[1;32min\u001b[0m \u001b[0mself\u001b[0m\u001b[1;33m.\u001b[0m\u001b[0m_plot_args\u001b[0m\u001b[1;33m(\u001b[0m\u001b[0mremaining\u001b[0m\u001b[1;33m,\u001b[0m \u001b[0mkwargs\u001b[0m\u001b[1;33m)\u001b[0m\u001b[1;33m:\u001b[0m\u001b[1;33m\u001b[0m\u001b[0m\n\u001b[0m\u001b[0;32m    318\u001b[0m                     \u001b[1;32myield\u001b[0m \u001b[0mseg\u001b[0m\u001b[1;33m\u001b[0m\u001b[0m\n\u001b[0;32m    319\u001b[0m                 \u001b[1;32mreturn\u001b[0m\u001b[1;33m\u001b[0m\u001b[0m\n",
        "\u001b[1;32m/usr/lib/pymodules/python2.7/matplotlib/axes.pyc\u001b[0m in \u001b[0;36m_plot_args\u001b[1;34m(self, tup, kwargs)\u001b[0m\n\u001b[0;32m    293\u001b[0m             \u001b[0mx\u001b[0m \u001b[1;33m=\u001b[0m \u001b[0mnp\u001b[0m\u001b[1;33m.\u001b[0m\u001b[0marange\u001b[0m\u001b[1;33m(\u001b[0m\u001b[0my\u001b[0m\u001b[1;33m.\u001b[0m\u001b[0mshape\u001b[0m\u001b[1;33m[\u001b[0m\u001b[1;36m0\u001b[0m\u001b[1;33m]\u001b[0m\u001b[1;33m,\u001b[0m \u001b[0mdtype\u001b[0m\u001b[1;33m=\u001b[0m\u001b[0mfloat\u001b[0m\u001b[1;33m)\u001b[0m\u001b[1;33m\u001b[0m\u001b[0m\n\u001b[0;32m    294\u001b[0m \u001b[1;33m\u001b[0m\u001b[0m\n\u001b[1;32m--> 295\u001b[1;33m         \u001b[0mx\u001b[0m\u001b[1;33m,\u001b[0m \u001b[0my\u001b[0m \u001b[1;33m=\u001b[0m \u001b[0mself\u001b[0m\u001b[1;33m.\u001b[0m\u001b[0m_xy_from_xy\u001b[0m\u001b[1;33m(\u001b[0m\u001b[0mx\u001b[0m\u001b[1;33m,\u001b[0m \u001b[0my\u001b[0m\u001b[1;33m)\u001b[0m\u001b[1;33m\u001b[0m\u001b[0m\n\u001b[0m\u001b[0;32m    296\u001b[0m \u001b[1;33m\u001b[0m\u001b[0m\n\u001b[0;32m    297\u001b[0m         \u001b[1;32mif\u001b[0m \u001b[0mself\u001b[0m\u001b[1;33m.\u001b[0m\u001b[0mcommand\u001b[0m \u001b[1;33m==\u001b[0m \u001b[1;34m'plot'\u001b[0m\u001b[1;33m:\u001b[0m\u001b[1;33m\u001b[0m\u001b[0m\n",
        "\u001b[1;32m/usr/lib/pymodules/python2.7/matplotlib/axes.pyc\u001b[0m in \u001b[0;36m_xy_from_xy\u001b[1;34m(self, x, y)\u001b[0m\n\u001b[0;32m    235\u001b[0m         \u001b[0my\u001b[0m \u001b[1;33m=\u001b[0m \u001b[0mnp\u001b[0m\u001b[1;33m.\u001b[0m\u001b[0matleast_1d\u001b[0m\u001b[1;33m(\u001b[0m\u001b[0my\u001b[0m\u001b[1;33m)\u001b[0m\u001b[1;33m\u001b[0m\u001b[0m\n\u001b[0;32m    236\u001b[0m         \u001b[1;32mif\u001b[0m \u001b[0mx\u001b[0m\u001b[1;33m.\u001b[0m\u001b[0mshape\u001b[0m\u001b[1;33m[\u001b[0m\u001b[1;36m0\u001b[0m\u001b[1;33m]\u001b[0m \u001b[1;33m!=\u001b[0m \u001b[0my\u001b[0m\u001b[1;33m.\u001b[0m\u001b[0mshape\u001b[0m\u001b[1;33m[\u001b[0m\u001b[1;36m0\u001b[0m\u001b[1;33m]\u001b[0m\u001b[1;33m:\u001b[0m\u001b[1;33m\u001b[0m\u001b[0m\n\u001b[1;32m--> 237\u001b[1;33m             \u001b[1;32mraise\u001b[0m \u001b[0mValueError\u001b[0m\u001b[1;33m(\u001b[0m\u001b[1;34m\"x and y must have same first dimension\"\u001b[0m\u001b[1;33m)\u001b[0m\u001b[1;33m\u001b[0m\u001b[0m\n\u001b[0m\u001b[0;32m    238\u001b[0m         \u001b[1;32mif\u001b[0m \u001b[0mx\u001b[0m\u001b[1;33m.\u001b[0m\u001b[0mndim\u001b[0m \u001b[1;33m>\u001b[0m \u001b[1;36m2\u001b[0m \u001b[1;32mor\u001b[0m \u001b[0my\u001b[0m\u001b[1;33m.\u001b[0m\u001b[0mndim\u001b[0m \u001b[1;33m>\u001b[0m \u001b[1;36m2\u001b[0m\u001b[1;33m:\u001b[0m\u001b[1;33m\u001b[0m\u001b[0m\n\u001b[0;32m    239\u001b[0m             \u001b[1;32mraise\u001b[0m \u001b[0mValueError\u001b[0m\u001b[1;33m(\u001b[0m\u001b[1;34m\"x and y can be no greater than 2-D\"\u001b[0m\u001b[1;33m)\u001b[0m\u001b[1;33m\u001b[0m\u001b[0m\n",
        "\u001b[1;31mValueError\u001b[0m: x and y must have same first dimension"
       ]
      },
      {
       "metadata": {},
       "output_type": "display_data",
       "png": "[encoded data removed]",
       "text": [
        "<matplotlib.figure.Figure at 0x7f9b36769cd0>"
       ]
      }
     ],
     "prompt_number": 14
    },
    {
     "cell_type": "code",
     "collapsed": false,
     "input": [
      "plot_filter = {\"steady\":True,\"conj\":True,\"inf\":False,\"onecell\":False}\n",
      "\n",
      "ncells = 4\n",
      "x_coord = np.linspace(0,ncells*0.0023,ncells+1)\n",
      "fig = pl.figure(figsize=(16,9))\n",
      "ax = fig.add_subplot(1,1,1)\n",
      "for sim in filter_simulations(sims,**plot_filter):\n",
      "    try:\n",
      "#       print(sim.result[\"mf_avg\"])\n",
      "       #print(\"mf_avg\")\n",
      "\n",
      "\n",
      "       sim.result[\"T_avg\"] =   [(item[3][\"massflow_t_T\"]/item[3][\"massflow\"])[0] for item in sim.data]\n",
      "       sim.result[\"mf_avg\"] =   [(item[0][\"massflow_t_CO\"]/item[0][\"massflow\"])[0] for item in sim.data]\n",
      "\n",
      "       # sim.result[\"T_s_avg\"] =   [(item[3][\"massflow_t_Ts\"]/item[3][\"massflow\"])[0] for item in sim.data]\n",
      "\n",
      "    except:\n",
      "        print(\"failed to open: \" + sim.info.local[\"jobname\"])\n",
      "        continue\n",
      "\n",
      "    #pl.plot(data_dict[\"arc_length\"],data_dict[\"CO\"],label=\"Wall mass fraction\")\n",
      "    prop_list = [\"temperature\",\"inf\",\"conj\"]\n",
      "    label = \" \".join([str(sim.sim_info[prop]) for prop in prop_list])\n",
      "    ax.plot(x_coord,sim.result[\"T_avg\"],label=label)\n",
      "#    ax.plot(x_coord,sim.result[\"T_s_avg\"],label=label)\n",
      "\n",
      "\n",
      "ax = pl.gca()\n",
      "ax.set_xlabel(\"x (m)\")\n",
      "ax.set_ylabel(\"T  (-)\")\n",
      "ax.legend()"
     ],
     "language": "python",
     "metadata": {},
     "outputs": [
      {
       "output_type": "stream",
       "stream": "stdout",
       "text": [
        "failed to open: kelvin_cells_conjugate_551\n"
       ]
      },
      {
       "metadata": {},
       "output_type": "pyout",
       "prompt_number": 15,
       "text": [
        "<matplotlib.legend.Legend at 0x7f9b366a6ed0>"
       ]
      },
      {
       "metadata": {},
       "output_type": "display_data",
       "png": "[encoded data removed]",
       "text": [
        "<matplotlib.figure.Figure at 0x7f9b366a68d0>"
       ]
      }
     ],
     "prompt_number": 15
    },
    {
     "cell_type": "code",
     "collapsed": false,
     "input": [],
     "language": "python",
     "metadata": {},
     "outputs": []
    },
    {
     "cell_type": "code",
     "collapsed": false,
     "input": [
      "gas = ca.import_phases(os.path.join(sim.info.local[\"sim_folder\"],\"cantera_input.cti\"),[\"gas\"])[0]\n",
      "interface = ca.Interface(os.path.join(sim.info.local[\"sim_folder\"],\"cantera_input.cti\"),\"pt_surf\",[gas])\n",
      "\n",
      "gas.TPX = [sim_test.sim_info[\"temperature\"],1E5,sim.sim_info[\"massfraction\"]]\n",
      "interface.TPX = [sim_test.sim_info[\"temperature\"],1E5,[1]]\n",
      "deltaH = interface.delta_enthalpy\n",
      "cp = gas.cp\n",
      "u = 2.0\n",
      "\n",
      "deltaT = sim_test.result[\"T_avg\"][0]  - sim_test.result[\"T_avg\"][4]\n",
      "deltaY = sim_test.result[\"mf_avg\"][0] - sim_test.result[\"mf_avg\"][4]\n",
      "Q_delta_T =  cp * u * deltaT \n",
      "Q_reac = - deltaY*deltaH/28.0*2.0\n",
      "Q_dot = Q_delta_T + Q_reac\n",
      "\n",
      "\n"
     ],
     "language": "python",
     "metadata": {},
     "outputs": [],
     "prompt_number": 46
    },
    {
     "cell_type": "code",
     "collapsed": false,
     "input": [
      "Q_dot,  Q_delta_T, Q_reac\n",
      "print(-Q_dot/Q_delta_T)"
     ],
     "language": "python",
     "metadata": {},
     "outputs": [
      {
       "output_type": "stream",
       "stream": "stdout",
       "text": [
        "[ 0.66483624]\n"
       ]
      }
     ],
     "prompt_number": 47
    },
    {
     "cell_type": "code",
     "collapsed": false,
     "input": [
      "cantera_file = \"/home/vonrickenbach/testcases_python_h_ref/default_0/cantera_input.cti\"\n",
      "gas = ca.import_phases(cantera_file,[\"gas\"])[0]\n",
      "interface = ca.Interface(cantera_file,\"pt_surf\",[gas])\n",
      "\n",
      "interface.TPX = [550,1E5,[1,0,0,0]]\n",
      "gas.TPX = [300,1E5,[0.1,0.0,0.0,0.89,0.01]]\n",
      "\n",
      "nt= 1000\n",
      "DT = 0.001\n",
      "dt = DT/nt\n",
      "CO_conc = []\n",
      "surf_conc = []\n",
      "\n",
      "time_array = np.linspace(0,DT,nt)\n",
      "\n",
      "print(gas.mix_diff_coeffs)\n",
      "print(gas.species_names)\n",
      "diff_t = gas.thermal_conductivity/(gas.density*gas.cp_mass)\n",
      "\n",
      "diff_t_solid = 14.1/(3110*880)\n",
      "rhocp_s = 3110*880\n",
      "lengthscale_solid_r = 0.0001\n",
      "lengthscale_solid_ax = 0.01\n",
      "lengthscale = 0.001\n",
      "\n",
      "Dp = 0.002\n",
      "ds = 0.00046\n",
      "porosity = 0.903\n",
      "a_s = 10.33/(Dp+ds) * np.sqrt(1-porosity) -5.8/(Dp+ds)*(1.0-porosity)\n",
      "Nu = 8.0\n",
      "porosity = 0.81\n",
      "\n",
      "print(\"species tscale\",lengthscale**2/np.min(gas.mix_diff_coeffs))\n",
      "print(\"temperature tscale\",lengthscale**2/diff_t)\n",
      "print(\"temperature tscale solid r\",lengthscale_solid_r**2/diff_t_solid)\n",
      "print(\"temperature tscale solid ax\",lengthscale_solid_ax**2/diff_t_solid)\n",
      "print(\"flow tscale\",lengthscale_solid_ax/1.5)\n",
      "print(\"solid heating\",1/(a_s*Nu*gas.thermal_conductivity/0.002/((1-porosity)*rhocp_s)))\n",
      "\n",
      "\n",
      "\n",
      "for time in time_array:\n",
      "\n",
      "    interface.advance_coverages_test(dt)\n",
      "    CO_conc.append(gas.X[4])\n",
      "    surf_conc.append(interface.X[0])\n",
      "\n",
      "\n",
      "#pl.plot(time_array,CO_conc)\n",
      "\n",
      "pl.plot(time_array,surf_conc)"
     ],
     "language": "python",
     "metadata": {},
     "outputs": [
      {
       "output_type": "stream",
       "stream": "stdout",
       "text": [
        "[  2.08352791e-05   1.59710709e-05   2.30094546e-05   2.35137462e-05\n",
        "   2.09548545e-05]\n",
        "['O2', 'CO2', 'H2O', 'N2', 'CO']\n",
        "('species tscale', 0.062613209103444048)\n",
        "('temperature tscale', 0.04402538524765535)\n",
        "('temperature tscale solid r', 0.0019409929078014183)\n",
        "('temperature tscale solid ax', 19.409929078014184)\n",
        "('flow tscale', 0.006666666666666667)\n",
        "('solid heating', 4.5448313814382146)\n"
       ]
      },
      {
       "metadata": {},
       "output_type": "pyout",
       "prompt_number": 2085,
       "text": [
        "[<matplotlib.lines.Line2D at 0x7f9b14648690>]"
       ]
      },
      {
       "metadata": {},
       "output_type": "display_data",
       "png": "[encoded data removed]",
       "text": [
        "<matplotlib.figure.Figure at 0x7f9b1500ded0>"
       ]
      }
     ],
     "prompt_number": 2085
    },
    {
     "cell_type": "code",
     "collapsed": false,
     "input": [
      "default_inputs = {}\n",
      "\n",
      "default_inputs[\"wc_thickness\"] = 20E-6\n",
      "default_inputs[\"h\"]=8000\n",
      "default_inputs[\"h_temp\"]=4000\n",
      "default_inputs[\"porosity\"]=0.35\n",
      "default_inputs[\"lambda_solid\"] = 10.\n",
      "default_inputs[\"tortuosity\"] = 8.0\n",
      "default_inputs[\"atol\"] = 1E-20\n",
      "default_inputs[\"rtol\"]   = 1E-6\n",
      "default_inputs[\"d_p\"] = 1E-8\n",
      "default_inputs[\"nx\"]=256\n",
      "default_inputs[\"x_cells\"]=1\n",
      "default_inputs[\"L_reactor\"] = 0.005\n",
      "default_inputs[\"vel\"] = 5.0\n",
      "default_inputs[\"A_V\"] = 1000.\n",
      "default_inputs[\"mintemp\"] = 380\n",
      "default_inputs[\"maxtemp\"] = 520\n",
      "default_inputs[\"trate\"]= 0.1\n",
      "default_inputs[\"from_file\"] = False\n",
      "default_inputs[\"with_energy\"] = False\n",
      "default_inputs[\"maxiter\"] = 10000\n",
      "default_inputs[\"istorf\"] = 1\n",
      "default_inputs[\"wc_geo_area\"] = 20\n",
      "default_inputs[\"t_fac\"] = 1\n",
      "default_inputs[\"gas\"] = None\n",
      "default_inputs[\"mf\"] = 3000\n",
      "default_inputs[\"dt\"] = 1.0\n",
      "default_inputs[\"n_output\"] = 1000\n",
      "default_inputs[\"area_to_volume\"] = default_inputs[\"wc_geo_area\"]/ default_inputs[\"wc_thickness\"]\n",
      "default_inputs[\"maxtemp\"] = -1\n",
      "default_inputs[\"mintemp\"] = -1\n",
      "default_inputs[\"trate\"] = -1\n",
      "default_inputs[\"rhocp\"] = 1E6\n",
      "default_inputs[\"rhocp_st\"] = 0.001\n",
      "default_inputs[\"inf_ext_mt\"] = False\n",
      "default_inputs[\"bulk_pressure\"] = 1E5\n",
      "default_inputs[\"heat_source\"] = 0.0\n",
      "default_inputs[\"cell_ratio\"] = 1.000001\n",
      "\n",
      "default_inputs[\"inf_ext_mt\"] = True\n",
      "input_file = os.path.join(\"/home/vonrickenbach/python_validation/test_mod_f_50_more_mf\",\"cantera_input.cti\")\n",
      "\n",
      "del default_inputs[\"wc_geo_area\"]\n",
      "del default_inputs[\"t_fac\"]\n",
      "del default_inputs[\"mf\"]\n",
      "\n",
      "\n",
      "gas=ca.import_phases(input_file,[\"gas\"])\n",
      "gas = gas[0]\n",
      "i =ca.Interface(input_file,\"pt_surf\",[gas])\n",
      "   \n",
      "\n",
      "default_inputs[\"gas\"] =gas\n",
      "\n",
      "\n",
      "\n"
     ],
     "language": "python",
     "metadata": {},
     "outputs": [],
     "prompt_number": 309
    },
    {
     "cell_type": "code",
     "collapsed": false,
     "input": [
      "def get_timescale(temp=500,massfrac=0.01):\n",
      "\n",
      "    default_inputs[\"gas\"].TPY = (temp,1E5,\n",
      "                               [0.1,0.0,0.0,0.9-massfrac,massfrac])\n",
      "    i.TPX =[temp,1E5,[0,0,1,0]]\n",
      "    i.coverages =[0,0,1,0]\n",
      "\n",
      "\n",
      "    default_inputs[\"temperature\"] = temp\n",
      "    print(default_inputs)\n",
      "\n",
      "\n",
      "    #i.advance_coverages_test(100000)\n",
      "    print(i.TPX)\n",
      "\n",
      "    i.advance_coverages(**default_inputs)\n",
      "\n",
      "    gas.TPY\n",
      "\n",
      "    time = np.linspace(2,101,99)\n",
      "    data = []\n",
      "    for ti in time:\n",
      "        data.append(np.genfromtxt(\"grid_0_\"+str(int(ti))+\".dat\"))\n",
      "        \n",
      "    data = np.array(data)\n",
      "    steady_state = np.sum(data[-1,4,:])\n",
      "    sum_data = np.sum(data[:,4,:],axis=1)\n",
      "   \n",
      "    char_time = np.where(np.abs((sum_data-steady_state)/steady_state) > 0.001)\n",
      "\n",
      "    try:\n",
      "        char_time = time[np.max(char_time)]\n",
      "    except: \n",
      "        char_time = 0.0\n",
      "\n",
      "    return (data,char_time)\n",
      "    \n"
     ],
     "language": "python",
     "metadata": {},
     "outputs": [],
     "prompt_number": 312
    },
    {
     "cell_type": "code",
     "collapsed": false,
     "input": [
      "char_times = []\n",
      "all_data = []\n",
      "temperatures = np.linspace(400,600,41)\n",
      "massfractions = [0.01,0.005]\n",
      "\n",
      "for massfrac in massfractions:\n",
      "    char_times_loc = []\n",
      "    data_loc = []\n",
      "    for temp in temperatures:\n",
      "\n",
      "        data, char_time = get_timescale(temp=temp,massfrac=massfrac)\n",
      "        char_times_loc.append(char_time)\n",
      "        data_loc.append(data)\n",
      "\n",
      "    char_times.append(char_times_loc)    \n",
      "    all_data.append(data_loc)    \n",
      "\n"
     ],
     "language": "python",
     "metadata": {},
     "outputs": [
      {
       "output_type": "stream",
       "stream": "stdout",
       "text": [
        "{'maxtemp': -1, 'mintemp': -1, 'cell_ratio': 1.000001, 'inf_ext_mt': True, 'wc_thickness': 2e-05, 'tortuosity': 8.0, 'area_to_volume': 999999.9999999999, 'temperature': 600.0, 'nx': 256, 'rtol': 1e-06, 'n_output': 1000, 'maxiter': 10000, 'istorf': 1, 'vel': 5.0, 'porosity': 0.35, 'A_V': 1000.0, 'rhocp_st': 0.001, 'bulk_pressure': 100000.0, 'gas': <cantera._cantera.Solution object at 0x7ff22feeecf8>, 'lambda_solid': 10.0, 'x_cells': 1, 'atol': 1e-20, 'dt': 1.0, 'with_energy': False, 'from_file': False, 'rhocp': 1000000.0, 'L_reactor': 0.005, 'h': 8000, 'd_p': 1e-08, 'h_temp': 4000, 'heat_source': 0.0, 'trate': -1}\n",
        "(400.0, 100000.0, array([ 0.,  0.,  1.,  0.]))\n",
        "{'maxtemp': -1, 'mintemp': -1, 'cell_ratio': 1.000001, 'inf_ext_mt': True, 'wc_thickness': 2e-05, 'tortuosity': 8.0, 'area_to_volume': 999999.9999999999, 'temperature': 400.0, 'nx': 256, 'rtol': 1e-06, 'n_output': 1000, 'maxiter': 10000, 'istorf': 1, 'vel': 5.0, 'porosity': 0.35, 'A_V': 1000.0, 'rhocp_st': 0.001, 'bulk_pressure': 100000.0, 'gas': <cantera._cantera.Solution object at 0x7ff22feeecf8>, 'lambda_solid': 10.0, 'x_cells': 1, 'atol': 1e-20, 'dt': 1.0, 'with_energy': False, 'from_file': False, 'rhocp': 1000000.0, 'L_reactor': 0.005, 'h': 8000, 'd_p': 1e-08, 'h_temp': 4000, 'heat_source': 0.0, 'trate': -1}"
       ]
      },
      {
       "output_type": "stream",
       "stream": "stdout",
       "text": [
        "\n",
        "(405.0, 100000.0, array([ 0.,  0.,  1.,  0.]))\n",
        "{'maxtemp': -1, 'mintemp': -1, 'cell_ratio': 1.000001, 'inf_ext_mt': True, 'wc_thickness': 2e-05, 'tortuosity': 8.0, 'area_to_volume': 999999.9999999999, 'temperature': 405.0, 'nx': 256, 'rtol': 1e-06, 'n_output': 1000, 'maxiter': 10000, 'istorf': 1, 'vel': 5.0, 'porosity': 0.35, 'A_V': 1000.0, 'rhocp_st': 0.001, 'bulk_pressure': 100000.0, 'gas': <cantera._cantera.Solution object at 0x7ff22feeecf8>, 'lambda_solid': 10.0, 'x_cells': 1, 'atol': 1e-20, 'dt': 1.0, 'with_energy': False, 'from_file': False, 'rhocp': 1000000.0, 'L_reactor': 0.005, 'h': 8000, 'd_p': 1e-08, 'h_temp': 4000, 'heat_source': 0.0, 'trate': -1}"
       ]
      },
      {
       "output_type": "stream",
       "stream": "stdout",
       "text": [
        "\n",
        "(410.0, 100000.0, array([ 0.,  0.,  1.,  0.]))\n",
        "{'maxtemp': -1, 'mintemp': -1, 'cell_ratio': 1.000001, 'inf_ext_mt': True, 'wc_thickness': 2e-05, 'tortuosity': 8.0, 'area_to_volume': 999999.9999999999, 'temperature': 410.0, 'nx': 256, 'rtol': 1e-06, 'n_output': 1000, 'maxiter': 10000, 'istorf': 1, 'vel': 5.0, 'porosity': 0.35, 'A_V': 1000.0, 'rhocp_st': 0.001, 'bulk_pressure': 100000.0, 'gas': <cantera._cantera.Solution object at 0x7ff22feeecf8>, 'lambda_solid': 10.0, 'x_cells': 1, 'atol': 1e-20, 'dt': 1.0, 'with_energy': False, 'from_file': False, 'rhocp': 1000000.0, 'L_reactor': 0.005, 'h': 8000, 'd_p': 1e-08, 'h_temp': 4000, 'heat_source': 0.0, 'trate': -1}"
       ]
      },
      {
       "output_type": "stream",
       "stream": "stdout",
       "text": [
        "\n",
        "(415.0, 100000.0, array([ 0.,  0.,  1.,  0.]))\n",
        "{'maxtemp': -1, 'mintemp': -1, 'cell_ratio': 1.000001, 'inf_ext_mt': True, 'wc_thickness': 2e-05, 'tortuosity': 8.0, 'area_to_volume': 999999.9999999999, 'temperature': 415.0, 'nx': 256, 'rtol': 1e-06, 'n_output': 1000, 'maxiter': 10000, 'istorf': 1, 'vel': 5.0, 'porosity': 0.35, 'A_V': 1000.0, 'rhocp_st': 0.001, 'bulk_pressure': 100000.0, 'gas': <cantera._cantera.Solution object at 0x7ff22feeecf8>, 'lambda_solid': 10.0, 'x_cells': 1, 'atol': 1e-20, 'dt': 1.0, 'with_energy': False, 'from_file': False, 'rhocp': 1000000.0, 'L_reactor': 0.005, 'h': 8000, 'd_p': 1e-08, 'h_temp': 4000, 'heat_source': 0.0, 'trate': -1}"
       ]
      },
      {
       "output_type": "stream",
       "stream": "stdout",
       "text": [
        "\n",
        "(420.0, 100000.0, array([ 0.,  0.,  1.,  0.]))\n",
        "{'maxtemp': -1, 'mintemp': -1, 'cell_ratio': 1.000001, 'inf_ext_mt': True, 'wc_thickness': 2e-05, 'tortuosity': 8.0, 'area_to_volume': 999999.9999999999, 'temperature': 420.0, 'nx': 256, 'rtol': 1e-06, 'n_output': 1000, 'maxiter': 10000, 'istorf': 1, 'vel': 5.0, 'porosity': 0.35, 'A_V': 1000.0, 'rhocp_st': 0.001, 'bulk_pressure': 100000.0, 'gas': <cantera._cantera.Solution object at 0x7ff22feeecf8>, 'lambda_solid': 10.0, 'x_cells': 1, 'atol': 1e-20, 'dt': 1.0, 'with_energy': False, 'from_file': False, 'rhocp': 1000000.0, 'L_reactor': 0.005, 'h': 8000, 'd_p': 1e-08, 'h_temp': 4000, 'heat_source': 0.0, 'trate': -1}"
       ]
      },
      {
       "output_type": "stream",
       "stream": "stdout",
       "text": [
        "\n",
        "(425.0, 100000.0, array([ 0.,  0.,  1.,  0.]))\n",
        "{'maxtemp': -1, 'mintemp': -1, 'cell_ratio': 1.000001, 'inf_ext_mt': True, 'wc_thickness': 2e-05, 'tortuosity': 8.0, 'area_to_volume': 999999.9999999999, 'temperature': 425.0, 'nx': 256, 'rtol': 1e-06, 'n_output': 1000, 'maxiter': 10000, 'istorf': 1, 'vel': 5.0, 'porosity': 0.35, 'A_V': 1000.0, 'rhocp_st': 0.001, 'bulk_pressure': 100000.0, 'gas': <cantera._cantera.Solution object at 0x7ff22feeecf8>, 'lambda_solid': 10.0, 'x_cells': 1, 'atol': 1e-20, 'dt': 1.0, 'with_energy': False, 'from_file': False, 'rhocp': 1000000.0, 'L_reactor': 0.005, 'h': 8000, 'd_p': 1e-08, 'h_temp': 4000, 'heat_source': 0.0, 'trate': -1}"
       ]
      },
      {
       "output_type": "stream",
       "stream": "stdout",
       "text": [
        "\n",
        "(430.0, 100000.0, array([ 0.,  0.,  1.,  0.]))\n",
        "{'maxtemp': -1, 'mintemp': -1, 'cell_ratio': 1.000001, 'inf_ext_mt': True, 'wc_thickness': 2e-05, 'tortuosity': 8.0, 'area_to_volume': 999999.9999999999, 'temperature': 430.0, 'nx': 256, 'rtol': 1e-06, 'n_output': 1000, 'maxiter': 10000, 'istorf': 1, 'vel': 5.0, 'porosity': 0.35, 'A_V': 1000.0, 'rhocp_st': 0.001, 'bulk_pressure': 100000.0, 'gas': <cantera._cantera.Solution object at 0x7ff22feeecf8>, 'lambda_solid': 10.0, 'x_cells': 1, 'atol': 1e-20, 'dt': 1.0, 'with_energy': False, 'from_file': False, 'rhocp': 1000000.0, 'L_reactor': 0.005, 'h': 8000, 'd_p': 1e-08, 'h_temp': 4000, 'heat_source': 0.0, 'trate': -1}"
       ]
      },
      {
       "output_type": "stream",
       "stream": "stdout",
       "text": [
        "\n",
        "(435.0, 100000.0, array([ 0.,  0.,  1.,  0.]))\n",
        "{'maxtemp': -1, 'mintemp': -1, 'cell_ratio': 1.000001, 'inf_ext_mt': True, 'wc_thickness': 2e-05, 'tortuosity': 8.0, 'area_to_volume': 999999.9999999999, 'temperature': 435.0, 'nx': 256, 'rtol': 1e-06, 'n_output': 1000, 'maxiter': 10000, 'istorf': 1, 'vel': 5.0, 'porosity': 0.35, 'A_V': 1000.0, 'rhocp_st': 0.001, 'bulk_pressure': 100000.0, 'gas': <cantera._cantera.Solution object at 0x7ff22feeecf8>, 'lambda_solid': 10.0, 'x_cells': 1, 'atol': 1e-20, 'dt': 1.0, 'with_energy': False, 'from_file': False, 'rhocp': 1000000.0, 'L_reactor': 0.005, 'h': 8000, 'd_p': 1e-08, 'h_temp': 4000, 'heat_source': 0.0, 'trate': -1}"
       ]
      },
      {
       "output_type": "stream",
       "stream": "stdout",
       "text": [
        "\n",
        "(440.0, 100000.0, array([ 0.,  0.,  1.,  0.]))\n",
        "{'maxtemp': -1, 'mintemp': -1, 'cell_ratio': 1.000001, 'inf_ext_mt': True, 'wc_thickness': 2e-05, 'tortuosity': 8.0, 'area_to_volume': 999999.9999999999, 'temperature': 440.0, 'nx': 256, 'rtol': 1e-06, 'n_output': 1000, 'maxiter': 10000, 'istorf': 1, 'vel': 5.0, 'porosity': 0.35, 'A_V': 1000.0, 'rhocp_st': 0.001, 'bulk_pressure': 100000.0, 'gas': <cantera._cantera.Solution object at 0x7ff22feeecf8>, 'lambda_solid': 10.0, 'x_cells': 1, 'atol': 1e-20, 'dt': 1.0, 'with_energy': False, 'from_file': False, 'rhocp': 1000000.0, 'L_reactor': 0.005, 'h': 8000, 'd_p': 1e-08, 'h_temp': 4000, 'heat_source': 0.0, 'trate': -1}"
       ]
      },
      {
       "output_type": "stream",
       "stream": "stdout",
       "text": [
        "\n",
        "(445.0, 100000.0, array([ 0.,  0.,  1.,  0.]))\n",
        "{'maxtemp': -1, 'mintemp': -1, 'cell_ratio': 1.000001, 'inf_ext_mt': True, 'wc_thickness': 2e-05, 'tortuosity': 8.0, 'area_to_volume': 999999.9999999999, 'temperature': 445.0, 'nx': 256, 'rtol': 1e-06, 'n_output': 1000, 'maxiter': 10000, 'istorf': 1, 'vel': 5.0, 'porosity': 0.35, 'A_V': 1000.0, 'rhocp_st': 0.001, 'bulk_pressure': 100000.0, 'gas': <cantera._cantera.Solution object at 0x7ff22feeecf8>, 'lambda_solid': 10.0, 'x_cells': 1, 'atol': 1e-20, 'dt': 1.0, 'with_energy': False, 'from_file': False, 'rhocp': 1000000.0, 'L_reactor': 0.005, 'h': 8000, 'd_p': 1e-08, 'h_temp': 4000, 'heat_source': 0.0, 'trate': -1}"
       ]
      },
      {
       "output_type": "stream",
       "stream": "stdout",
       "text": [
        "\n",
        "(450.0, 100000.0, array([ 0.,  0.,  1.,  0.]))\n",
        "{'maxtemp': -1, 'mintemp': -1, 'cell_ratio': 1.000001, 'inf_ext_mt': True, 'wc_thickness': 2e-05, 'tortuosity': 8.0, 'area_to_volume': 999999.9999999999, 'temperature': 450.0, 'nx': 256, 'rtol': 1e-06, 'n_output': 1000, 'maxiter': 10000, 'istorf': 1, 'vel': 5.0, 'porosity': 0.35, 'A_V': 1000.0, 'rhocp_st': 0.001, 'bulk_pressure': 100000.0, 'gas': <cantera._cantera.Solution object at 0x7ff22feeecf8>, 'lambda_solid': 10.0, 'x_cells': 1, 'atol': 1e-20, 'dt': 1.0, 'with_energy': False, 'from_file': False, 'rhocp': 1000000.0, 'L_reactor': 0.005, 'h': 8000, 'd_p': 1e-08, 'h_temp': 4000, 'heat_source': 0.0, 'trate': -1}"
       ]
      },
      {
       "output_type": "stream",
       "stream": "stdout",
       "text": [
        "\n",
        "(455.0, 100000.0, array([ 0.,  0.,  1.,  0.]))\n",
        "{'maxtemp': -1, 'mintemp': -1, 'cell_ratio': 1.000001, 'inf_ext_mt': True, 'wc_thickness': 2e-05, 'tortuosity': 8.0, 'area_to_volume': 999999.9999999999, 'temperature': 455.0, 'nx': 256, 'rtol': 1e-06, 'n_output': 1000, 'maxiter': 10000, 'istorf': 1, 'vel': 5.0, 'porosity': 0.35, 'A_V': 1000.0, 'rhocp_st': 0.001, 'bulk_pressure': 100000.0, 'gas': <cantera._cantera.Solution object at 0x7ff22feeecf8>, 'lambda_solid': 10.0, 'x_cells': 1, 'atol': 1e-20, 'dt': 1.0, 'with_energy': False, 'from_file': False, 'rhocp': 1000000.0, 'L_reactor': 0.005, 'h': 8000, 'd_p': 1e-08, 'h_temp': 4000, 'heat_source': 0.0, 'trate': -1}"
       ]
      },
      {
       "output_type": "stream",
       "stream": "stdout",
       "text": [
        "\n",
        "(460.0, 100000.0, array([ 0.,  0.,  1.,  0.]))\n",
        "{'maxtemp': -1, 'mintemp': -1, 'cell_ratio': 1.000001, 'inf_ext_mt': True, 'wc_thickness': 2e-05, 'tortuosity': 8.0, 'area_to_volume': 999999.9999999999, 'temperature': 460.0, 'nx': 256, 'rtol': 1e-06, 'n_output': 1000, 'maxiter': 10000, 'istorf': 1, 'vel': 5.0, 'porosity': 0.35, 'A_V': 1000.0, 'rhocp_st': 0.001, 'bulk_pressure': 100000.0, 'gas': <cantera._cantera.Solution object at 0x7ff22feeecf8>, 'lambda_solid': 10.0, 'x_cells': 1, 'atol': 1e-20, 'dt': 1.0, 'with_energy': False, 'from_file': False, 'rhocp': 1000000.0, 'L_reactor': 0.005, 'h': 8000, 'd_p': 1e-08, 'h_temp': 4000, 'heat_source': 0.0, 'trate': -1}"
       ]
      },
      {
       "output_type": "stream",
       "stream": "stdout",
       "text": [
        "\n",
        "(465.0, 100000.0, array([ 0.,  0.,  1.,  0.]))\n",
        "{'maxtemp': -1, 'mintemp': -1, 'cell_ratio': 1.000001, 'inf_ext_mt': True, 'wc_thickness': 2e-05, 'tortuosity': 8.0, 'area_to_volume': 999999.9999999999, 'temperature': 465.0, 'nx': 256, 'rtol': 1e-06, 'n_output': 1000, 'maxiter': 10000, 'istorf': 1, 'vel': 5.0, 'porosity': 0.35, 'A_V': 1000.0, 'rhocp_st': 0.001, 'bulk_pressure': 100000.0, 'gas': <cantera._cantera.Solution object at 0x7ff22feeecf8>, 'lambda_solid': 10.0, 'x_cells': 1, 'atol': 1e-20, 'dt': 1.0, 'with_energy': False, 'from_file': False, 'rhocp': 1000000.0, 'L_reactor': 0.005, 'h': 8000, 'd_p': 1e-08, 'h_temp': 4000, 'heat_source': 0.0, 'trate': -1}"
       ]
      },
      {
       "output_type": "stream",
       "stream": "stdout",
       "text": [
        "\n",
        "(470.0, 100000.0, array([ 0.,  0.,  1.,  0.]))\n",
        "{'maxtemp': -1, 'mintemp': -1, 'cell_ratio': 1.000001, 'inf_ext_mt': True, 'wc_thickness': 2e-05, 'tortuosity': 8.0, 'area_to_volume': 999999.9999999999, 'temperature': 470.0, 'nx': 256, 'rtol': 1e-06, 'n_output': 1000, 'maxiter': 10000, 'istorf': 1, 'vel': 5.0, 'porosity': 0.35, 'A_V': 1000.0, 'rhocp_st': 0.001, 'bulk_pressure': 100000.0, 'gas': <cantera._cantera.Solution object at 0x7ff22feeecf8>, 'lambda_solid': 10.0, 'x_cells': 1, 'atol': 1e-20, 'dt': 1.0, 'with_energy': False, 'from_file': False, 'rhocp': 1000000.0, 'L_reactor': 0.005, 'h': 8000, 'd_p': 1e-08, 'h_temp': 4000, 'heat_source': 0.0, 'trate': -1}"
       ]
      },
      {
       "output_type": "stream",
       "stream": "stdout",
       "text": [
        "\n",
        "(475.0, 100000.0, array([ 0.,  0.,  1.,  0.]))\n",
        "{'maxtemp': -1, 'mintemp': -1, 'cell_ratio': 1.000001, 'inf_ext_mt': True, 'wc_thickness': 2e-05, 'tortuosity': 8.0, 'area_to_volume': 999999.9999999999, 'temperature': 475.0, 'nx': 256, 'rtol': 1e-06, 'n_output': 1000, 'maxiter': 10000, 'istorf': 1, 'vel': 5.0, 'porosity': 0.35, 'A_V': 1000.0, 'rhocp_st': 0.001, 'bulk_pressure': 100000.0, 'gas': <cantera._cantera.Solution object at 0x7ff22feeecf8>, 'lambda_solid': 10.0, 'x_cells': 1, 'atol': 1e-20, 'dt': 1.0, 'with_energy': False, 'from_file': False, 'rhocp': 1000000.0, 'L_reactor': 0.005, 'h': 8000, 'd_p': 1e-08, 'h_temp': 4000, 'heat_source': 0.0, 'trate': -1}"
       ]
      },
      {
       "output_type": "stream",
       "stream": "stdout",
       "text": [
        "\n",
        "(480.0, 100000.0, array([ 0.,  0.,  1.,  0.]))\n",
        "{'maxtemp': -1, 'mintemp': -1, 'cell_ratio': 1.000001, 'inf_ext_mt': True, 'wc_thickness': 2e-05, 'tortuosity': 8.0, 'area_to_volume': 999999.9999999999, 'temperature': 480.0, 'nx': 256, 'rtol': 1e-06, 'n_output': 1000, 'maxiter': 10000, 'istorf': 1, 'vel': 5.0, 'porosity': 0.35, 'A_V': 1000.0, 'rhocp_st': 0.001, 'bulk_pressure': 100000.0, 'gas': <cantera._cantera.Solution object at 0x7ff22feeecf8>, 'lambda_solid': 10.0, 'x_cells': 1, 'atol': 1e-20, 'dt': 1.0, 'with_energy': False, 'from_file': False, 'rhocp': 1000000.0, 'L_reactor': 0.005, 'h': 8000, 'd_p': 1e-08, 'h_temp': 4000, 'heat_source': 0.0, 'trate': -1}"
       ]
      },
      {
       "output_type": "stream",
       "stream": "stdout",
       "text": [
        "\n",
        "(485.0, 100000.0, array([ 0.,  0.,  1.,  0.]))\n",
        "{'maxtemp': -1, 'mintemp': -1, 'cell_ratio': 1.000001, 'inf_ext_mt': True, 'wc_thickness': 2e-05, 'tortuosity': 8.0, 'area_to_volume': 999999.9999999999, 'temperature': 485.0, 'nx': 256, 'rtol': 1e-06, 'n_output': 1000, 'maxiter': 10000, 'istorf': 1, 'vel': 5.0, 'porosity': 0.35, 'A_V': 1000.0, 'rhocp_st': 0.001, 'bulk_pressure': 100000.0, 'gas': <cantera._cantera.Solution object at 0x7ff22feeecf8>, 'lambda_solid': 10.0, 'x_cells': 1, 'atol': 1e-20, 'dt': 1.0, 'with_energy': False, 'from_file': False, 'rhocp': 1000000.0, 'L_reactor': 0.005, 'h': 8000, 'd_p': 1e-08, 'h_temp': 4000, 'heat_source': 0.0, 'trate': -1}"
       ]
      },
      {
       "output_type": "stream",
       "stream": "stdout",
       "text": [
        "\n",
        "(490.0, 100000.0, array([ 0.,  0.,  1.,  0.]))\n",
        "{'maxtemp': -1, 'mintemp': -1, 'cell_ratio': 1.000001, 'inf_ext_mt': True, 'wc_thickness': 2e-05, 'tortuosity': 8.0, 'area_to_volume': 999999.9999999999, 'temperature': 490.0, 'nx': 256, 'rtol': 1e-06, 'n_output': 1000, 'maxiter': 10000, 'istorf': 1, 'vel': 5.0, 'porosity': 0.35, 'A_V': 1000.0, 'rhocp_st': 0.001, 'bulk_pressure': 100000.0, 'gas': <cantera._cantera.Solution object at 0x7ff22feeecf8>, 'lambda_solid': 10.0, 'x_cells': 1, 'atol': 1e-20, 'dt': 1.0, 'with_energy': False, 'from_file': False, 'rhocp': 1000000.0, 'L_reactor': 0.005, 'h': 8000, 'd_p': 1e-08, 'h_temp': 4000, 'heat_source': 0.0, 'trate': -1}"
       ]
      },
      {
       "output_type": "stream",
       "stream": "stdout",
       "text": [
        "\n",
        "(495.0, 100000.0, array([ 0.,  0.,  1.,  0.]))\n",
        "{'maxtemp': -1, 'mintemp': -1, 'cell_ratio': 1.000001, 'inf_ext_mt': True, 'wc_thickness': 2e-05, 'tortuosity': 8.0, 'area_to_volume': 999999.9999999999, 'temperature': 495.0, 'nx': 256, 'rtol': 1e-06, 'n_output': 1000, 'maxiter': 10000, 'istorf': 1, 'vel': 5.0, 'porosity': 0.35, 'A_V': 1000.0, 'rhocp_st': 0.001, 'bulk_pressure': 100000.0, 'gas': <cantera._cantera.Solution object at 0x7ff22feeecf8>, 'lambda_solid': 10.0, 'x_cells': 1, 'atol': 1e-20, 'dt': 1.0, 'with_energy': False, 'from_file': False, 'rhocp': 1000000.0, 'L_reactor': 0.005, 'h': 8000, 'd_p': 1e-08, 'h_temp': 4000, 'heat_source': 0.0, 'trate': -1}"
       ]
      },
      {
       "output_type": "stream",
       "stream": "stdout",
       "text": [
        "\n",
        "(500.0, 100000.0, array([ 0.,  0.,  1.,  0.]))\n",
        "{'maxtemp': -1, 'mintemp': -1, 'cell_ratio': 1.000001, 'inf_ext_mt': True, 'wc_thickness': 2e-05, 'tortuosity': 8.0, 'area_to_volume': 999999.9999999999, 'temperature': 500.0, 'nx': 256, 'rtol': 1e-06, 'n_output': 1000, 'maxiter': 10000, 'istorf': 1, 'vel': 5.0, 'porosity': 0.35, 'A_V': 1000.0, 'rhocp_st': 0.001, 'bulk_pressure': 100000.0, 'gas': <cantera._cantera.Solution object at 0x7ff22feeecf8>, 'lambda_solid': 10.0, 'x_cells': 1, 'atol': 1e-20, 'dt': 1.0, 'with_energy': False, 'from_file': False, 'rhocp': 1000000.0, 'L_reactor': 0.005, 'h': 8000, 'd_p': 1e-08, 'h_temp': 4000, 'heat_source': 0.0, 'trate': -1}"
       ]
      },
      {
       "output_type": "stream",
       "stream": "stdout",
       "text": [
        "\n",
        "(505.0, 100000.0, array([ 0.,  0.,  1.,  0.]))\n",
        "{'maxtemp': -1, 'mintemp': -1, 'cell_ratio': 1.000001, 'inf_ext_mt': True, 'wc_thickness': 2e-05, 'tortuosity': 8.0, 'area_to_volume': 999999.9999999999, 'temperature': 505.0, 'nx': 256, 'rtol': 1e-06, 'n_output': 1000, 'maxiter': 10000, 'istorf': 1, 'vel': 5.0, 'porosity': 0.35, 'A_V': 1000.0, 'rhocp_st': 0.001, 'bulk_pressure': 100000.0, 'gas': <cantera._cantera.Solution object at 0x7ff22feeecf8>, 'lambda_solid': 10.0, 'x_cells': 1, 'atol': 1e-20, 'dt': 1.0, 'with_energy': False, 'from_file': False, 'rhocp': 1000000.0, 'L_reactor': 0.005, 'h': 8000, 'd_p': 1e-08, 'h_temp': 4000, 'heat_source': 0.0, 'trate': -1}"
       ]
      },
      {
       "output_type": "stream",
       "stream": "stdout",
       "text": [
        "\n",
        "(510.0, 100000.0, array([ 0.,  0.,  1.,  0.]))\n",
        "{'maxtemp': -1, 'mintemp': -1, 'cell_ratio': 1.000001, 'inf_ext_mt': True, 'wc_thickness': 2e-05, 'tortuosity': 8.0, 'area_to_volume': 999999.9999999999, 'temperature': 510.0, 'nx': 256, 'rtol': 1e-06, 'n_output': 1000, 'maxiter': 10000, 'istorf': 1, 'vel': 5.0, 'porosity': 0.35, 'A_V': 1000.0, 'rhocp_st': 0.001, 'bulk_pressure': 100000.0, 'gas': <cantera._cantera.Solution object at 0x7ff22feeecf8>, 'lambda_solid': 10.0, 'x_cells': 1, 'atol': 1e-20, 'dt': 1.0, 'with_energy': False, 'from_file': False, 'rhocp': 1000000.0, 'L_reactor': 0.005, 'h': 8000, 'd_p': 1e-08, 'h_temp': 4000, 'heat_source': 0.0, 'trate': -1}"
       ]
      },
      {
       "output_type": "stream",
       "stream": "stdout",
       "text": [
        "\n",
        "(515.0, 100000.0, array([ 0.,  0.,  1.,  0.]))\n",
        "{'maxtemp': -1, 'mintemp': -1, 'cell_ratio': 1.000001, 'inf_ext_mt': True, 'wc_thickness': 2e-05, 'tortuosity': 8.0, 'area_to_volume': 999999.9999999999, 'temperature': 515.0, 'nx': 256, 'rtol': 1e-06, 'n_output': 1000, 'maxiter': 10000, 'istorf': 1, 'vel': 5.0, 'porosity': 0.35, 'A_V': 1000.0, 'rhocp_st': 0.001, 'bulk_pressure': 100000.0, 'gas': <cantera._cantera.Solution object at 0x7ff22feeecf8>, 'lambda_solid': 10.0, 'x_cells': 1, 'atol': 1e-20, 'dt': 1.0, 'with_energy': False, 'from_file': False, 'rhocp': 1000000.0, 'L_reactor': 0.005, 'h': 8000, 'd_p': 1e-08, 'h_temp': 4000, 'heat_source': 0.0, 'trate': -1}"
       ]
      },
      {
       "output_type": "stream",
       "stream": "stdout",
       "text": [
        "\n",
        "(520.0, 100000.0, array([ 0.,  0.,  1.,  0.]))\n",
        "{'maxtemp': -1, 'mintemp': -1, 'cell_ratio': 1.000001, 'inf_ext_mt': True, 'wc_thickness': 2e-05, 'tortuosity': 8.0, 'area_to_volume': 999999.9999999999, 'temperature': 520.0, 'nx': 256, 'rtol': 1e-06, 'n_output': 1000, 'maxiter': 10000, 'istorf': 1, 'vel': 5.0, 'porosity': 0.35, 'A_V': 1000.0, 'rhocp_st': 0.001, 'bulk_pressure': 100000.0, 'gas': <cantera._cantera.Solution object at 0x7ff22feeecf8>, 'lambda_solid': 10.0, 'x_cells': 1, 'atol': 1e-20, 'dt': 1.0, 'with_energy': False, 'from_file': False, 'rhocp': 1000000.0, 'L_reactor': 0.005, 'h': 8000, 'd_p': 1e-08, 'h_temp': 4000, 'heat_source': 0.0, 'trate': -1}"
       ]
      },
      {
       "output_type": "stream",
       "stream": "stdout",
       "text": [
        "\n",
        "(525.0, 100000.0, array([ 0.,  0.,  1.,  0.]))\n",
        "{'maxtemp': -1, 'mintemp': -1, 'cell_ratio': 1.000001, 'inf_ext_mt': True, 'wc_thickness': 2e-05, 'tortuosity': 8.0, 'area_to_volume': 999999.9999999999, 'temperature': 525.0, 'nx': 256, 'rtol': 1e-06, 'n_output': 1000, 'maxiter': 10000, 'istorf': 1, 'vel': 5.0, 'porosity': 0.35, 'A_V': 1000.0, 'rhocp_st': 0.001, 'bulk_pressure': 100000.0, 'gas': <cantera._cantera.Solution object at 0x7ff22feeecf8>, 'lambda_solid': 10.0, 'x_cells': 1, 'atol': 1e-20, 'dt': 1.0, 'with_energy': False, 'from_file': False, 'rhocp': 1000000.0, 'L_reactor': 0.005, 'h': 8000, 'd_p': 1e-08, 'h_temp': 4000, 'heat_source': 0.0, 'trate': -1}"
       ]
      },
      {
       "output_type": "stream",
       "stream": "stdout",
       "text": [
        "\n",
        "(530.0, 100000.0, array([ 0.,  0.,  1.,  0.]))\n",
        "{'maxtemp': -1, 'mintemp': -1, 'cell_ratio': 1.000001, 'inf_ext_mt': True, 'wc_thickness': 2e-05, 'tortuosity': 8.0, 'area_to_volume': 999999.9999999999, 'temperature': 530.0, 'nx': 256, 'rtol': 1e-06, 'n_output': 1000, 'maxiter': 10000, 'istorf': 1, 'vel': 5.0, 'porosity': 0.35, 'A_V': 1000.0, 'rhocp_st': 0.001, 'bulk_pressure': 100000.0, 'gas': <cantera._cantera.Solution object at 0x7ff22feeecf8>, 'lambda_solid': 10.0, 'x_cells': 1, 'atol': 1e-20, 'dt': 1.0, 'with_energy': False, 'from_file': False, 'rhocp': 1000000.0, 'L_reactor': 0.005, 'h': 8000, 'd_p': 1e-08, 'h_temp': 4000, 'heat_source': 0.0, 'trate': -1}"
       ]
      },
      {
       "output_type": "stream",
       "stream": "stdout",
       "text": [
        "\n",
        "(535.0, 100000.0, array([ 0.,  0.,  1.,  0.]))\n",
        "{'maxtemp': -1, 'mintemp': -1, 'cell_ratio': 1.000001, 'inf_ext_mt': True, 'wc_thickness': 2e-05, 'tortuosity': 8.0, 'area_to_volume': 999999.9999999999, 'temperature': 535.0, 'nx': 256, 'rtol': 1e-06, 'n_output': 1000, 'maxiter': 10000, 'istorf': 1, 'vel': 5.0, 'porosity': 0.35, 'A_V': 1000.0, 'rhocp_st': 0.001, 'bulk_pressure': 100000.0, 'gas': <cantera._cantera.Solution object at 0x7ff22feeecf8>, 'lambda_solid': 10.0, 'x_cells': 1, 'atol': 1e-20, 'dt': 1.0, 'with_energy': False, 'from_file': False, 'rhocp': 1000000.0, 'L_reactor': 0.005, 'h': 8000, 'd_p': 1e-08, 'h_temp': 4000, 'heat_source': 0.0, 'trate': -1}"
       ]
      },
      {
       "output_type": "stream",
       "stream": "stdout",
       "text": [
        "\n",
        "(540.0, 100000.0, array([ 0.,  0.,  1.,  0.]))\n",
        "{'maxtemp': -1, 'mintemp': -1, 'cell_ratio': 1.000001, 'inf_ext_mt': True, 'wc_thickness': 2e-05, 'tortuosity': 8.0, 'area_to_volume': 999999.9999999999, 'temperature': 540.0, 'nx': 256, 'rtol': 1e-06, 'n_output': 1000, 'maxiter': 10000, 'istorf': 1, 'vel': 5.0, 'porosity': 0.35, 'A_V': 1000.0, 'rhocp_st': 0.001, 'bulk_pressure': 100000.0, 'gas': <cantera._cantera.Solution object at 0x7ff22feeecf8>, 'lambda_solid': 10.0, 'x_cells': 1, 'atol': 1e-20, 'dt': 1.0, 'with_energy': False, 'from_file': False, 'rhocp': 1000000.0, 'L_reactor': 0.005, 'h': 8000, 'd_p': 1e-08, 'h_temp': 4000, 'heat_source': 0.0, 'trate': -1}"
       ]
      },
      {
       "output_type": "stream",
       "stream": "stdout",
       "text": [
        "\n",
        "(545.0, 100000.0, array([ 0.,  0.,  1.,  0.]))\n",
        "{'maxtemp': -1, 'mintemp': -1, 'cell_ratio': 1.000001, 'inf_ext_mt': True, 'wc_thickness': 2e-05, 'tortuosity': 8.0, 'area_to_volume': 999999.9999999999, 'temperature': 545.0, 'nx': 256, 'rtol': 1e-06, 'n_output': 1000, 'maxiter': 10000, 'istorf': 1, 'vel': 5.0, 'porosity': 0.35, 'A_V': 1000.0, 'rhocp_st': 0.001, 'bulk_pressure': 100000.0, 'gas': <cantera._cantera.Solution object at 0x7ff22feeecf8>, 'lambda_solid': 10.0, 'x_cells': 1, 'atol': 1e-20, 'dt': 1.0, 'with_energy': False, 'from_file': False, 'rhocp': 1000000.0, 'L_reactor': 0.005, 'h': 8000, 'd_p': 1e-08, 'h_temp': 4000, 'heat_source': 0.0, 'trate': -1}"
       ]
      },
      {
       "output_type": "stream",
       "stream": "stdout",
       "text": [
        "\n",
        "(550.0, 100000.0, array([ 0.,  0.,  1.,  0.]))\n",
        "{'maxtemp': -1, 'mintemp': -1, 'cell_ratio': 1.000001, 'inf_ext_mt': True, 'wc_thickness': 2e-05, 'tortuosity': 8.0, 'area_to_volume': 999999.9999999999, 'temperature': 550.0, 'nx': 256, 'rtol': 1e-06, 'n_output': 1000, 'maxiter': 10000, 'istorf': 1, 'vel': 5.0, 'porosity': 0.35, 'A_V': 1000.0, 'rhocp_st': 0.001, 'bulk_pressure': 100000.0, 'gas': <cantera._cantera.Solution object at 0x7ff22feeecf8>, 'lambda_solid': 10.0, 'x_cells': 1, 'atol': 1e-20, 'dt': 1.0, 'with_energy': False, 'from_file': False, 'rhocp': 1000000.0, 'L_reactor': 0.005, 'h': 8000, 'd_p': 1e-08, 'h_temp': 4000, 'heat_source': 0.0, 'trate': -1}"
       ]
      },
      {
       "output_type": "stream",
       "stream": "stdout",
       "text": [
        "\n",
        "(555.0, 100000.0, array([ 0.,  0.,  1.,  0.]))\n",
        "{'maxtemp': -1, 'mintemp': -1, 'cell_ratio': 1.000001, 'inf_ext_mt': True, 'wc_thickness': 2e-05, 'tortuosity': 8.0, 'area_to_volume': 999999.9999999999, 'temperature': 555.0, 'nx': 256, 'rtol': 1e-06, 'n_output': 1000, 'maxiter': 10000, 'istorf': 1, 'vel': 5.0, 'porosity': 0.35, 'A_V': 1000.0, 'rhocp_st': 0.001, 'bulk_pressure': 100000.0, 'gas': <cantera._cantera.Solution object at 0x7ff22feeecf8>, 'lambda_solid': 10.0, 'x_cells': 1, 'atol': 1e-20, 'dt': 1.0, 'with_energy': False, 'from_file': False, 'rhocp': 1000000.0, 'L_reactor': 0.005, 'h': 8000, 'd_p': 1e-08, 'h_temp': 4000, 'heat_source': 0.0, 'trate': -1}"
       ]
      },
      {
       "output_type": "stream",
       "stream": "stdout",
       "text": [
        "\n",
        "(560.0, 100000.0, array([ 0.,  0.,  1.,  0.]))\n",
        "{'maxtemp': -1, 'mintemp': -1, 'cell_ratio': 1.000001, 'inf_ext_mt': True, 'wc_thickness': 2e-05, 'tortuosity': 8.0, 'area_to_volume': 999999.9999999999, 'temperature': 560.0, 'nx': 256, 'rtol': 1e-06, 'n_output': 1000, 'maxiter': 10000, 'istorf': 1, 'vel': 5.0, 'porosity': 0.35, 'A_V': 1000.0, 'rhocp_st': 0.001, 'bulk_pressure': 100000.0, 'gas': <cantera._cantera.Solution object at 0x7ff22feeecf8>, 'lambda_solid': 10.0, 'x_cells': 1, 'atol': 1e-20, 'dt': 1.0, 'with_energy': False, 'from_file': False, 'rhocp': 1000000.0, 'L_reactor': 0.005, 'h': 8000, 'd_p': 1e-08, 'h_temp': 4000, 'heat_source': 0.0, 'trate': -1}"
       ]
      },
      {
       "output_type": "stream",
       "stream": "stdout",
       "text": [
        "\n",
        "(565.0, 100000.0, array([ 0.,  0.,  1.,  0.]))\n",
        "{'maxtemp': -1, 'mintemp': -1, 'cell_ratio': 1.000001, 'inf_ext_mt': True, 'wc_thickness': 2e-05, 'tortuosity': 8.0, 'area_to_volume': 999999.9999999999, 'temperature': 565.0, 'nx': 256, 'rtol': 1e-06, 'n_output': 1000, 'maxiter': 10000, 'istorf': 1, 'vel': 5.0, 'porosity': 0.35, 'A_V': 1000.0, 'rhocp_st': 0.001, 'bulk_pressure': 100000.0, 'gas': <cantera._cantera.Solution object at 0x7ff22feeecf8>, 'lambda_solid': 10.0, 'x_cells': 1, 'atol': 1e-20, 'dt': 1.0, 'with_energy': False, 'from_file': False, 'rhocp': 1000000.0, 'L_reactor': 0.005, 'h': 8000, 'd_p': 1e-08, 'h_temp': 4000, 'heat_source': 0.0, 'trate': -1}"
       ]
      },
      {
       "output_type": "stream",
       "stream": "stdout",
       "text": [
        "\n",
        "(570.0, 100000.0, array([ 0.,  0.,  1.,  0.]))\n",
        "{'maxtemp': -1, 'mintemp': -1, 'cell_ratio': 1.000001, 'inf_ext_mt': True, 'wc_thickness': 2e-05, 'tortuosity': 8.0, 'area_to_volume': 999999.9999999999, 'temperature': 570.0, 'nx': 256, 'rtol': 1e-06, 'n_output': 1000, 'maxiter': 10000, 'istorf': 1, 'vel': 5.0, 'porosity': 0.35, 'A_V': 1000.0, 'rhocp_st': 0.001, 'bulk_pressure': 100000.0, 'gas': <cantera._cantera.Solution object at 0x7ff22feeecf8>, 'lambda_solid': 10.0, 'x_cells': 1, 'atol': 1e-20, 'dt': 1.0, 'with_energy': False, 'from_file': False, 'rhocp': 1000000.0, 'L_reactor': 0.005, 'h': 8000, 'd_p': 1e-08, 'h_temp': 4000, 'heat_source': 0.0, 'trate': -1}"
       ]
      },
      {
       "output_type": "stream",
       "stream": "stdout",
       "text": [
        "\n",
        "(575.0, 100000.0, array([ 0.,  0.,  1.,  0.]))\n",
        "{'maxtemp': -1, 'mintemp': -1, 'cell_ratio': 1.000001, 'inf_ext_mt': True, 'wc_thickness': 2e-05, 'tortuosity': 8.0, 'area_to_volume': 999999.9999999999, 'temperature': 575.0, 'nx': 256, 'rtol': 1e-06, 'n_output': 1000, 'maxiter': 10000, 'istorf': 1, 'vel': 5.0, 'porosity': 0.35, 'A_V': 1000.0, 'rhocp_st': 0.001, 'bulk_pressure': 100000.0, 'gas': <cantera._cantera.Solution object at 0x7ff22feeecf8>, 'lambda_solid': 10.0, 'x_cells': 1, 'atol': 1e-20, 'dt': 1.0, 'with_energy': False, 'from_file': False, 'rhocp': 1000000.0, 'L_reactor': 0.005, 'h': 8000, 'd_p': 1e-08, 'h_temp': 4000, 'heat_source': 0.0, 'trate': -1}"
       ]
      },
      {
       "output_type": "stream",
       "stream": "stdout",
       "text": [
        "\n",
        "(580.0, 100000.0, array([ 0.,  0.,  1.,  0.]))\n",
        "{'maxtemp': -1, 'mintemp': -1, 'cell_ratio': 1.000001, 'inf_ext_mt': True, 'wc_thickness': 2e-05, 'tortuosity': 8.0, 'area_to_volume': 999999.9999999999, 'temperature': 580.0, 'nx': 256, 'rtol': 1e-06, 'n_output': 1000, 'maxiter': 10000, 'istorf': 1, 'vel': 5.0, 'porosity': 0.35, 'A_V': 1000.0, 'rhocp_st': 0.001, 'bulk_pressure': 100000.0, 'gas': <cantera._cantera.Solution object at 0x7ff22feeecf8>, 'lambda_solid': 10.0, 'x_cells': 1, 'atol': 1e-20, 'dt': 1.0, 'with_energy': False, 'from_file': False, 'rhocp': 1000000.0, 'L_reactor': 0.005, 'h': 8000, 'd_p': 1e-08, 'h_temp': 4000, 'heat_source': 0.0, 'trate': -1}"
       ]
      },
      {
       "output_type": "stream",
       "stream": "stdout",
       "text": [
        "\n",
        "(585.0, 100000.0, array([ 0.,  0.,  1.,  0.]))\n",
        "{'maxtemp': -1, 'mintemp': -1, 'cell_ratio': 1.000001, 'inf_ext_mt': True, 'wc_thickness': 2e-05, 'tortuosity': 8.0, 'area_to_volume': 999999.9999999999, 'temperature': 585.0, 'nx': 256, 'rtol': 1e-06, 'n_output': 1000, 'maxiter': 10000, 'istorf': 1, 'vel': 5.0, 'porosity': 0.35, 'A_V': 1000.0, 'rhocp_st': 0.001, 'bulk_pressure': 100000.0, 'gas': <cantera._cantera.Solution object at 0x7ff22feeecf8>, 'lambda_solid': 10.0, 'x_cells': 1, 'atol': 1e-20, 'dt': 1.0, 'with_energy': False, 'from_file': False, 'rhocp': 1000000.0, 'L_reactor': 0.005, 'h': 8000, 'd_p': 1e-08, 'h_temp': 4000, 'heat_source': 0.0, 'trate': -1}"
       ]
      },
      {
       "output_type": "stream",
       "stream": "stdout",
       "text": [
        "\n",
        "(590.0, 100000.0, array([ 0.,  0.,  1.,  0.]))\n",
        "{'maxtemp': -1, 'mintemp': -1, 'cell_ratio': 1.000001, 'inf_ext_mt': True, 'wc_thickness': 2e-05, 'tortuosity': 8.0, 'area_to_volume': 999999.9999999999, 'temperature': 590.0, 'nx': 256, 'rtol': 1e-06, 'n_output': 1000, 'maxiter': 10000, 'istorf': 1, 'vel': 5.0, 'porosity': 0.35, 'A_V': 1000.0, 'rhocp_st': 0.001, 'bulk_pressure': 100000.0, 'gas': <cantera._cantera.Solution object at 0x7ff22feeecf8>, 'lambda_solid': 10.0, 'x_cells': 1, 'atol': 1e-20, 'dt': 1.0, 'with_energy': False, 'from_file': False, 'rhocp': 1000000.0, 'L_reactor': 0.005, 'h': 8000, 'd_p': 1e-08, 'h_temp': 4000, 'heat_source': 0.0, 'trate': -1}"
       ]
      },
      {
       "output_type": "stream",
       "stream": "stdout",
       "text": [
        "\n",
        "(595.0, 100000.0, array([ 0.,  0.,  1.,  0.]))\n",
        "{'maxtemp': -1, 'mintemp': -1, 'cell_ratio': 1.000001, 'inf_ext_mt': True, 'wc_thickness': 2e-05, 'tortuosity': 8.0, 'area_to_volume': 999999.9999999999, 'temperature': 595.0, 'nx': 256, 'rtol': 1e-06, 'n_output': 1000, 'maxiter': 10000, 'istorf': 1, 'vel': 5.0, 'porosity': 0.35, 'A_V': 1000.0, 'rhocp_st': 0.001, 'bulk_pressure': 100000.0, 'gas': <cantera._cantera.Solution object at 0x7ff22feeecf8>, 'lambda_solid': 10.0, 'x_cells': 1, 'atol': 1e-20, 'dt': 1.0, 'with_energy': False, 'from_file': False, 'rhocp': 1000000.0, 'L_reactor': 0.005, 'h': 8000, 'd_p': 1e-08, 'h_temp': 4000, 'heat_source': 0.0, 'trate': -1}"
       ]
      },
      {
       "output_type": "stream",
       "stream": "stdout",
       "text": [
        "\n",
        "(600.0, 100000.0, array([ 0.,  0.,  1.,  0.]))\n",
        "{'maxtemp': -1, 'mintemp': -1, 'cell_ratio': 1.000001, 'inf_ext_mt': True, 'wc_thickness': 2e-05, 'tortuosity': 8.0, 'area_to_volume': 999999.9999999999, 'temperature': 600.0, 'nx': 256, 'rtol': 1e-06, 'n_output': 1000, 'maxiter': 10000, 'istorf': 1, 'vel': 5.0, 'porosity': 0.35, 'A_V': 1000.0, 'rhocp_st': 0.001, 'bulk_pressure': 100000.0, 'gas': <cantera._cantera.Solution object at 0x7ff22feeecf8>, 'lambda_solid': 10.0, 'x_cells': 1, 'atol': 1e-20, 'dt': 1.0, 'with_energy': False, 'from_file': False, 'rhocp': 1000000.0, 'L_reactor': 0.005, 'h': 8000, 'd_p': 1e-08, 'h_temp': 4000, 'heat_source': 0.0, 'trate': -1}"
       ]
      },
      {
       "output_type": "stream",
       "stream": "stdout",
       "text": [
        "\n",
        "(400.0, 100000.0, array([ 0.,  0.,  1.,  0.]))\n",
        "{'maxtemp': -1, 'mintemp': -1, 'cell_ratio': 1.000001, 'inf_ext_mt': True, 'wc_thickness': 2e-05, 'tortuosity': 8.0, 'area_to_volume': 999999.9999999999, 'temperature': 400.0, 'nx': 256, 'rtol': 1e-06, 'n_output': 1000, 'maxiter': 10000, 'istorf': 1, 'vel': 5.0, 'porosity': 0.35, 'A_V': 1000.0, 'rhocp_st': 0.001, 'bulk_pressure': 100000.0, 'gas': <cantera._cantera.Solution object at 0x7ff22feeecf8>, 'lambda_solid': 10.0, 'x_cells': 1, 'atol': 1e-20, 'dt': 1.0, 'with_energy': False, 'from_file': False, 'rhocp': 1000000.0, 'L_reactor': 0.005, 'h': 8000, 'd_p': 1e-08, 'h_temp': 4000, 'heat_source': 0.0, 'trate': -1}"
       ]
      },
      {
       "output_type": "stream",
       "stream": "stdout",
       "text": [
        "\n",
        "(405.0, 100000.0, array([ 0.,  0.,  1.,  0.]))\n",
        "{'maxtemp': -1, 'mintemp': -1, 'cell_ratio': 1.000001, 'inf_ext_mt': True, 'wc_thickness': 2e-05, 'tortuosity': 8.0, 'area_to_volume': 999999.9999999999, 'temperature': 405.0, 'nx': 256, 'rtol': 1e-06, 'n_output': 1000, 'maxiter': 10000, 'istorf': 1, 'vel': 5.0, 'porosity': 0.35, 'A_V': 1000.0, 'rhocp_st': 0.001, 'bulk_pressure': 100000.0, 'gas': <cantera._cantera.Solution object at 0x7ff22feeecf8>, 'lambda_solid': 10.0, 'x_cells': 1, 'atol': 1e-20, 'dt': 1.0, 'with_energy': False, 'from_file': False, 'rhocp': 1000000.0, 'L_reactor': 0.005, 'h': 8000, 'd_p': 1e-08, 'h_temp': 4000, 'heat_source': 0.0, 'trate': -1}"
       ]
      },
      {
       "output_type": "stream",
       "stream": "stdout",
       "text": [
        "\n",
        "(410.0, 100000.0, array([ 0.,  0.,  1.,  0.]))\n",
        "{'maxtemp': -1, 'mintemp': -1, 'cell_ratio': 1.000001, 'inf_ext_mt': True, 'wc_thickness': 2e-05, 'tortuosity': 8.0, 'area_to_volume': 999999.9999999999, 'temperature': 410.0, 'nx': 256, 'rtol': 1e-06, 'n_output': 1000, 'maxiter': 10000, 'istorf': 1, 'vel': 5.0, 'porosity': 0.35, 'A_V': 1000.0, 'rhocp_st': 0.001, 'bulk_pressure': 100000.0, 'gas': <cantera._cantera.Solution object at 0x7ff22feeecf8>, 'lambda_solid': 10.0, 'x_cells': 1, 'atol': 1e-20, 'dt': 1.0, 'with_energy': False, 'from_file': False, 'rhocp': 1000000.0, 'L_reactor': 0.005, 'h': 8000, 'd_p': 1e-08, 'h_temp': 4000, 'heat_source': 0.0, 'trate': -1}"
       ]
      },
      {
       "output_type": "stream",
       "stream": "stdout",
       "text": [
        "\n",
        "(415.0, 100000.0, array([ 0.,  0.,  1.,  0.]))\n",
        "{'maxtemp': -1, 'mintemp': -1, 'cell_ratio': 1.000001, 'inf_ext_mt': True, 'wc_thickness': 2e-05, 'tortuosity': 8.0, 'area_to_volume': 999999.9999999999, 'temperature': 415.0, 'nx': 256, 'rtol': 1e-06, 'n_output': 1000, 'maxiter': 10000, 'istorf': 1, 'vel': 5.0, 'porosity': 0.35, 'A_V': 1000.0, 'rhocp_st': 0.001, 'bulk_pressure': 100000.0, 'gas': <cantera._cantera.Solution object at 0x7ff22feeecf8>, 'lambda_solid': 10.0, 'x_cells': 1, 'atol': 1e-20, 'dt': 1.0, 'with_energy': False, 'from_file': False, 'rhocp': 1000000.0, 'L_reactor': 0.005, 'h': 8000, 'd_p': 1e-08, 'h_temp': 4000, 'heat_source': 0.0, 'trate': -1}"
       ]
      },
      {
       "output_type": "stream",
       "stream": "stdout",
       "text": [
        "\n",
        "(420.0, 100000.0, array([ 0.,  0.,  1.,  0.]))\n",
        "{'maxtemp': -1, 'mintemp': -1, 'cell_ratio': 1.000001, 'inf_ext_mt': True, 'wc_thickness': 2e-05, 'tortuosity': 8.0, 'area_to_volume': 999999.9999999999, 'temperature': 420.0, 'nx': 256, 'rtol': 1e-06, 'n_output': 1000, 'maxiter': 10000, 'istorf': 1, 'vel': 5.0, 'porosity': 0.35, 'A_V': 1000.0, 'rhocp_st': 0.001, 'bulk_pressure': 100000.0, 'gas': <cantera._cantera.Solution object at 0x7ff22feeecf8>, 'lambda_solid': 10.0, 'x_cells': 1, 'atol': 1e-20, 'dt': 1.0, 'with_energy': False, 'from_file': False, 'rhocp': 1000000.0, 'L_reactor': 0.005, 'h': 8000, 'd_p': 1e-08, 'h_temp': 4000, 'heat_source': 0.0, 'trate': -1}"
       ]
      },
      {
       "output_type": "stream",
       "stream": "stdout",
       "text": [
        "\n",
        "(425.0, 100000.0, array([ 0.,  0.,  1.,  0.]))\n",
        "{'maxtemp': -1, 'mintemp': -1, 'cell_ratio': 1.000001, 'inf_ext_mt': True, 'wc_thickness': 2e-05, 'tortuosity': 8.0, 'area_to_volume': 999999.9999999999, 'temperature': 425.0, 'nx': 256, 'rtol': 1e-06, 'n_output': 1000, 'maxiter': 10000, 'istorf': 1, 'vel': 5.0, 'porosity': 0.35, 'A_V': 1000.0, 'rhocp_st': 0.001, 'bulk_pressure': 100000.0, 'gas': <cantera._cantera.Solution object at 0x7ff22feeecf8>, 'lambda_solid': 10.0, 'x_cells': 1, 'atol': 1e-20, 'dt': 1.0, 'with_energy': False, 'from_file': False, 'rhocp': 1000000.0, 'L_reactor': 0.005, 'h': 8000, 'd_p': 1e-08, 'h_temp': 4000, 'heat_source': 0.0, 'trate': -1}"
       ]
      },
      {
       "output_type": "stream",
       "stream": "stdout",
       "text": [
        "\n",
        "(430.0, 100000.0, array([ 0.,  0.,  1.,  0.]))\n",
        "{'maxtemp': -1, 'mintemp': -1, 'cell_ratio': 1.000001, 'inf_ext_mt': True, 'wc_thickness': 2e-05, 'tortuosity': 8.0, 'area_to_volume': 999999.9999999999, 'temperature': 430.0, 'nx': 256, 'rtol': 1e-06, 'n_output': 1000, 'maxiter': 10000, 'istorf': 1, 'vel': 5.0, 'porosity': 0.35, 'A_V': 1000.0, 'rhocp_st': 0.001, 'bulk_pressure': 100000.0, 'gas': <cantera._cantera.Solution object at 0x7ff22feeecf8>, 'lambda_solid': 10.0, 'x_cells': 1, 'atol': 1e-20, 'dt': 1.0, 'with_energy': False, 'from_file': False, 'rhocp': 1000000.0, 'L_reactor': 0.005, 'h': 8000, 'd_p': 1e-08, 'h_temp': 4000, 'heat_source': 0.0, 'trate': -1}"
       ]
      },
      {
       "output_type": "stream",
       "stream": "stdout",
       "text": [
        "\n",
        "(435.0, 100000.0, array([ 0.,  0.,  1.,  0.]))\n",
        "{'maxtemp': -1, 'mintemp': -1, 'cell_ratio': 1.000001, 'inf_ext_mt': True, 'wc_thickness': 2e-05, 'tortuosity': 8.0, 'area_to_volume': 999999.9999999999, 'temperature': 435.0, 'nx': 256, 'rtol': 1e-06, 'n_output': 1000, 'maxiter': 10000, 'istorf': 1, 'vel': 5.0, 'porosity': 0.35, 'A_V': 1000.0, 'rhocp_st': 0.001, 'bulk_pressure': 100000.0, 'gas': <cantera._cantera.Solution object at 0x7ff22feeecf8>, 'lambda_solid': 10.0, 'x_cells': 1, 'atol': 1e-20, 'dt': 1.0, 'with_energy': False, 'from_file': False, 'rhocp': 1000000.0, 'L_reactor': 0.005, 'h': 8000, 'd_p': 1e-08, 'h_temp': 4000, 'heat_source': 0.0, 'trate': -1}"
       ]
      },
      {
       "output_type": "stream",
       "stream": "stdout",
       "text": [
        "\n",
        "(440.0, 100000.0, array([ 0.,  0.,  1.,  0.]))\n",
        "{'maxtemp': -1, 'mintemp': -1, 'cell_ratio': 1.000001, 'inf_ext_mt': True, 'wc_thickness': 2e-05, 'tortuosity': 8.0, 'area_to_volume': 999999.9999999999, 'temperature': 440.0, 'nx': 256, 'rtol': 1e-06, 'n_output': 1000, 'maxiter': 10000, 'istorf': 1, 'vel': 5.0, 'porosity': 0.35, 'A_V': 1000.0, 'rhocp_st': 0.001, 'bulk_pressure': 100000.0, 'gas': <cantera._cantera.Solution object at 0x7ff22feeecf8>, 'lambda_solid': 10.0, 'x_cells': 1, 'atol': 1e-20, 'dt': 1.0, 'with_energy': False, 'from_file': False, 'rhocp': 1000000.0, 'L_reactor': 0.005, 'h': 8000, 'd_p': 1e-08, 'h_temp': 4000, 'heat_source': 0.0, 'trate': -1}"
       ]
      },
      {
       "output_type": "stream",
       "stream": "stdout",
       "text": [
        "\n",
        "(445.0, 100000.0, array([ 0.,  0.,  1.,  0.]))\n",
        "{'maxtemp': -1, 'mintemp': -1, 'cell_ratio': 1.000001, 'inf_ext_mt': True, 'wc_thickness': 2e-05, 'tortuosity': 8.0, 'area_to_volume': 999999.9999999999, 'temperature': 445.0, 'nx': 256, 'rtol': 1e-06, 'n_output': 1000, 'maxiter': 10000, 'istorf': 1, 'vel': 5.0, 'porosity': 0.35, 'A_V': 1000.0, 'rhocp_st': 0.001, 'bulk_pressure': 100000.0, 'gas': <cantera._cantera.Solution object at 0x7ff22feeecf8>, 'lambda_solid': 10.0, 'x_cells': 1, 'atol': 1e-20, 'dt': 1.0, 'with_energy': False, 'from_file': False, 'rhocp': 1000000.0, 'L_reactor': 0.005, 'h': 8000, 'd_p': 1e-08, 'h_temp': 4000, 'heat_source': 0.0, 'trate': -1}"
       ]
      },
      {
       "output_type": "stream",
       "stream": "stdout",
       "text": [
        "\n",
        "(450.0, 100000.0, array([ 0.,  0.,  1.,  0.]))\n",
        "{'maxtemp': -1, 'mintemp': -1, 'cell_ratio': 1.000001, 'inf_ext_mt': True, 'wc_thickness': 2e-05, 'tortuosity': 8.0, 'area_to_volume': 999999.9999999999, 'temperature': 450.0, 'nx': 256, 'rtol': 1e-06, 'n_output': 1000, 'maxiter': 10000, 'istorf': 1, 'vel': 5.0, 'porosity': 0.35, 'A_V': 1000.0, 'rhocp_st': 0.001, 'bulk_pressure': 100000.0, 'gas': <cantera._cantera.Solution object at 0x7ff22feeecf8>, 'lambda_solid': 10.0, 'x_cells': 1, 'atol': 1e-20, 'dt': 1.0, 'with_energy': False, 'from_file': False, 'rhocp': 1000000.0, 'L_reactor': 0.005, 'h': 8000, 'd_p': 1e-08, 'h_temp': 4000, 'heat_source': 0.0, 'trate': -1}"
       ]
      },
      {
       "output_type": "stream",
       "stream": "stdout",
       "text": [
        "\n",
        "(455.0, 100000.0, array([ 0.,  0.,  1.,  0.]))\n",
        "{'maxtemp': -1, 'mintemp': -1, 'cell_ratio': 1.000001, 'inf_ext_mt': True, 'wc_thickness': 2e-05, 'tortuosity': 8.0, 'area_to_volume': 999999.9999999999, 'temperature': 455.0, 'nx': 256, 'rtol': 1e-06, 'n_output': 1000, 'maxiter': 10000, 'istorf': 1, 'vel': 5.0, 'porosity': 0.35, 'A_V': 1000.0, 'rhocp_st': 0.001, 'bulk_pressure': 100000.0, 'gas': <cantera._cantera.Solution object at 0x7ff22feeecf8>, 'lambda_solid': 10.0, 'x_cells': 1, 'atol': 1e-20, 'dt': 1.0, 'with_energy': False, 'from_file': False, 'rhocp': 1000000.0, 'L_reactor': 0.005, 'h': 8000, 'd_p': 1e-08, 'h_temp': 4000, 'heat_source': 0.0, 'trate': -1}"
       ]
      },
      {
       "output_type": "stream",
       "stream": "stdout",
       "text": [
        "\n",
        "(460.0, 100000.0, array([ 0.,  0.,  1.,  0.]))\n",
        "{'maxtemp': -1, 'mintemp': -1, 'cell_ratio': 1.000001, 'inf_ext_mt': True, 'wc_thickness': 2e-05, 'tortuosity': 8.0, 'area_to_volume': 999999.9999999999, 'temperature': 460.0, 'nx': 256, 'rtol': 1e-06, 'n_output': 1000, 'maxiter': 10000, 'istorf': 1, 'vel': 5.0, 'porosity': 0.35, 'A_V': 1000.0, 'rhocp_st': 0.001, 'bulk_pressure': 100000.0, 'gas': <cantera._cantera.Solution object at 0x7ff22feeecf8>, 'lambda_solid': 10.0, 'x_cells': 1, 'atol': 1e-20, 'dt': 1.0, 'with_energy': False, 'from_file': False, 'rhocp': 1000000.0, 'L_reactor': 0.005, 'h': 8000, 'd_p': 1e-08, 'h_temp': 4000, 'heat_source': 0.0, 'trate': -1}"
       ]
      },
      {
       "output_type": "stream",
       "stream": "stdout",
       "text": [
        "\n",
        "(465.0, 100000.0, array([ 0.,  0.,  1.,  0.]))\n",
        "{'maxtemp': -1, 'mintemp': -1, 'cell_ratio': 1.000001, 'inf_ext_mt': True, 'wc_thickness': 2e-05, 'tortuosity': 8.0, 'area_to_volume': 999999.9999999999, 'temperature': 465.0, 'nx': 256, 'rtol': 1e-06, 'n_output': 1000, 'maxiter': 10000, 'istorf': 1, 'vel': 5.0, 'porosity': 0.35, 'A_V': 1000.0, 'rhocp_st': 0.001, 'bulk_pressure': 100000.0, 'gas': <cantera._cantera.Solution object at 0x7ff22feeecf8>, 'lambda_solid': 10.0, 'x_cells': 1, 'atol': 1e-20, 'dt': 1.0, 'with_energy': False, 'from_file': False, 'rhocp': 1000000.0, 'L_reactor': 0.005, 'h': 8000, 'd_p': 1e-08, 'h_temp': 4000, 'heat_source': 0.0, 'trate': -1}"
       ]
      },
      {
       "output_type": "stream",
       "stream": "stdout",
       "text": [
        "\n",
        "(470.0, 100000.0, array([ 0.,  0.,  1.,  0.]))\n",
        "{'maxtemp': -1, 'mintemp': -1, 'cell_ratio': 1.000001, 'inf_ext_mt': True, 'wc_thickness': 2e-05, 'tortuosity': 8.0, 'area_to_volume': 999999.9999999999, 'temperature': 470.0, 'nx': 256, 'rtol': 1e-06, 'n_output': 1000, 'maxiter': 10000, 'istorf': 1, 'vel': 5.0, 'porosity': 0.35, 'A_V': 1000.0, 'rhocp_st': 0.001, 'bulk_pressure': 100000.0, 'gas': <cantera._cantera.Solution object at 0x7ff22feeecf8>, 'lambda_solid': 10.0, 'x_cells': 1, 'atol': 1e-20, 'dt': 1.0, 'with_energy': False, 'from_file': False, 'rhocp': 1000000.0, 'L_reactor': 0.005, 'h': 8000, 'd_p': 1e-08, 'h_temp': 4000, 'heat_source': 0.0, 'trate': -1}"
       ]
      },
      {
       "output_type": "stream",
       "stream": "stdout",
       "text": [
        "\n",
        "(475.0, 100000.0, array([ 0.,  0.,  1.,  0.]))\n",
        "{'maxtemp': -1, 'mintemp': -1, 'cell_ratio': 1.000001, 'inf_ext_mt': True, 'wc_thickness': 2e-05, 'tortuosity': 8.0, 'area_to_volume': 999999.9999999999, 'temperature': 475.0, 'nx': 256, 'rtol': 1e-06, 'n_output': 1000, 'maxiter': 10000, 'istorf': 1, 'vel': 5.0, 'porosity': 0.35, 'A_V': 1000.0, 'rhocp_st': 0.001, 'bulk_pressure': 100000.0, 'gas': <cantera._cantera.Solution object at 0x7ff22feeecf8>, 'lambda_solid': 10.0, 'x_cells': 1, 'atol': 1e-20, 'dt': 1.0, 'with_energy': False, 'from_file': False, 'rhocp': 1000000.0, 'L_reactor': 0.005, 'h': 8000, 'd_p': 1e-08, 'h_temp': 4000, 'heat_source': 0.0, 'trate': -1}"
       ]
      },
      {
       "output_type": "stream",
       "stream": "stdout",
       "text": [
        "\n",
        "(480.0, 100000.0, array([ 0.,  0.,  1.,  0.]))\n",
        "{'maxtemp': -1, 'mintemp': -1, 'cell_ratio': 1.000001, 'inf_ext_mt': True, 'wc_thickness': 2e-05, 'tortuosity': 8.0, 'area_to_volume': 999999.9999999999, 'temperature': 480.0, 'nx': 256, 'rtol': 1e-06, 'n_output': 1000, 'maxiter': 10000, 'istorf': 1, 'vel': 5.0, 'porosity': 0.35, 'A_V': 1000.0, 'rhocp_st': 0.001, 'bulk_pressure': 100000.0, 'gas': <cantera._cantera.Solution object at 0x7ff22feeecf8>, 'lambda_solid': 10.0, 'x_cells': 1, 'atol': 1e-20, 'dt': 1.0, 'with_energy': False, 'from_file': False, 'rhocp': 1000000.0, 'L_reactor': 0.005, 'h': 8000, 'd_p': 1e-08, 'h_temp': 4000, 'heat_source': 0.0, 'trate': -1}"
       ]
      },
      {
       "output_type": "stream",
       "stream": "stdout",
       "text": [
        "\n",
        "(485.0, 100000.0, array([ 0.,  0.,  1.,  0.]))\n",
        "{'maxtemp': -1, 'mintemp': -1, 'cell_ratio': 1.000001, 'inf_ext_mt': True, 'wc_thickness': 2e-05, 'tortuosity': 8.0, 'area_to_volume': 999999.9999999999, 'temperature': 485.0, 'nx': 256, 'rtol': 1e-06, 'n_output': 1000, 'maxiter': 10000, 'istorf': 1, 'vel': 5.0, 'porosity': 0.35, 'A_V': 1000.0, 'rhocp_st': 0.001, 'bulk_pressure': 100000.0, 'gas': <cantera._cantera.Solution object at 0x7ff22feeecf8>, 'lambda_solid': 10.0, 'x_cells': 1, 'atol': 1e-20, 'dt': 1.0, 'with_energy': False, 'from_file': False, 'rhocp': 1000000.0, 'L_reactor': 0.005, 'h': 8000, 'd_p': 1e-08, 'h_temp': 4000, 'heat_source': 0.0, 'trate': -1}"
       ]
      },
      {
       "output_type": "stream",
       "stream": "stdout",
       "text": [
        "\n",
        "(490.0, 100000.0, array([ 0.,  0.,  1.,  0.]))\n",
        "{'maxtemp': -1, 'mintemp': -1, 'cell_ratio': 1.000001, 'inf_ext_mt': True, 'wc_thickness': 2e-05, 'tortuosity': 8.0, 'area_to_volume': 999999.9999999999, 'temperature': 490.0, 'nx': 256, 'rtol': 1e-06, 'n_output': 1000, 'maxiter': 10000, 'istorf': 1, 'vel': 5.0, 'porosity': 0.35, 'A_V': 1000.0, 'rhocp_st': 0.001, 'bulk_pressure': 100000.0, 'gas': <cantera._cantera.Solution object at 0x7ff22feeecf8>, 'lambda_solid': 10.0, 'x_cells': 1, 'atol': 1e-20, 'dt': 1.0, 'with_energy': False, 'from_file': False, 'rhocp': 1000000.0, 'L_reactor': 0.005, 'h': 8000, 'd_p': 1e-08, 'h_temp': 4000, 'heat_source': 0.0, 'trate': -1}"
       ]
      },
      {
       "output_type": "stream",
       "stream": "stdout",
       "text": [
        "\n",
        "(495.0, 100000.0, array([ 0.,  0.,  1.,  0.]))\n",
        "{'maxtemp': -1, 'mintemp': -1, 'cell_ratio': 1.000001, 'inf_ext_mt': True, 'wc_thickness': 2e-05, 'tortuosity': 8.0, 'area_to_volume': 999999.9999999999, 'temperature': 495.0, 'nx': 256, 'rtol': 1e-06, 'n_output': 1000, 'maxiter': 10000, 'istorf': 1, 'vel': 5.0, 'porosity': 0.35, 'A_V': 1000.0, 'rhocp_st': 0.001, 'bulk_pressure': 100000.0, 'gas': <cantera._cantera.Solution object at 0x7ff22feeecf8>, 'lambda_solid': 10.0, 'x_cells': 1, 'atol': 1e-20, 'dt': 1.0, 'with_energy': False, 'from_file': False, 'rhocp': 1000000.0, 'L_reactor': 0.005, 'h': 8000, 'd_p': 1e-08, 'h_temp': 4000, 'heat_source': 0.0, 'trate': -1}"
       ]
      },
      {
       "output_type": "stream",
       "stream": "stdout",
       "text": [
        "\n",
        "(500.0, 100000.0, array([ 0.,  0.,  1.,  0.]))\n",
        "{'maxtemp': -1, 'mintemp': -1, 'cell_ratio': 1.000001, 'inf_ext_mt': True, 'wc_thickness': 2e-05, 'tortuosity': 8.0, 'area_to_volume': 999999.9999999999, 'temperature': 500.0, 'nx': 256, 'rtol': 1e-06, 'n_output': 1000, 'maxiter': 10000, 'istorf': 1, 'vel': 5.0, 'porosity': 0.35, 'A_V': 1000.0, 'rhocp_st': 0.001, 'bulk_pressure': 100000.0, 'gas': <cantera._cantera.Solution object at 0x7ff22feeecf8>, 'lambda_solid': 10.0, 'x_cells': 1, 'atol': 1e-20, 'dt': 1.0, 'with_energy': False, 'from_file': False, 'rhocp': 1000000.0, 'L_reactor': 0.005, 'h': 8000, 'd_p': 1e-08, 'h_temp': 4000, 'heat_source': 0.0, 'trate': -1}"
       ]
      },
      {
       "output_type": "stream",
       "stream": "stdout",
       "text": [
        "\n",
        "(505.0, 100000.0, array([ 0.,  0.,  1.,  0.]))\n",
        "{'maxtemp': -1, 'mintemp': -1, 'cell_ratio': 1.000001, 'inf_ext_mt': True, 'wc_thickness': 2e-05, 'tortuosity': 8.0, 'area_to_volume': 999999.9999999999, 'temperature': 505.0, 'nx': 256, 'rtol': 1e-06, 'n_output': 1000, 'maxiter': 10000, 'istorf': 1, 'vel': 5.0, 'porosity': 0.35, 'A_V': 1000.0, 'rhocp_st': 0.001, 'bulk_pressure': 100000.0, 'gas': <cantera._cantera.Solution object at 0x7ff22feeecf8>, 'lambda_solid': 10.0, 'x_cells': 1, 'atol': 1e-20, 'dt': 1.0, 'with_energy': False, 'from_file': False, 'rhocp': 1000000.0, 'L_reactor': 0.005, 'h': 8000, 'd_p': 1e-08, 'h_temp': 4000, 'heat_source': 0.0, 'trate': -1}"
       ]
      },
      {
       "output_type": "stream",
       "stream": "stdout",
       "text": [
        "\n",
        "(510.0, 100000.0, array([ 0.,  0.,  1.,  0.]))\n",
        "{'maxtemp': -1, 'mintemp': -1, 'cell_ratio': 1.000001, 'inf_ext_mt': True, 'wc_thickness': 2e-05, 'tortuosity': 8.0, 'area_to_volume': 999999.9999999999, 'temperature': 510.0, 'nx': 256, 'rtol': 1e-06, 'n_output': 1000, 'maxiter': 10000, 'istorf': 1, 'vel': 5.0, 'porosity': 0.35, 'A_V': 1000.0, 'rhocp_st': 0.001, 'bulk_pressure': 100000.0, 'gas': <cantera._cantera.Solution object at 0x7ff22feeecf8>, 'lambda_solid': 10.0, 'x_cells': 1, 'atol': 1e-20, 'dt': 1.0, 'with_energy': False, 'from_file': False, 'rhocp': 1000000.0, 'L_reactor': 0.005, 'h': 8000, 'd_p': 1e-08, 'h_temp': 4000, 'heat_source': 0.0, 'trate': -1}"
       ]
      },
      {
       "output_type": "stream",
       "stream": "stdout",
       "text": [
        "\n",
        "(515.0, 100000.0, array([ 0.,  0.,  1.,  0.]))\n",
        "{'maxtemp': -1, 'mintemp': -1, 'cell_ratio': 1.000001, 'inf_ext_mt': True, 'wc_thickness': 2e-05, 'tortuosity': 8.0, 'area_to_volume': 999999.9999999999, 'temperature': 515.0, 'nx': 256, 'rtol': 1e-06, 'n_output': 1000, 'maxiter': 10000, 'istorf': 1, 'vel': 5.0, 'porosity': 0.35, 'A_V': 1000.0, 'rhocp_st': 0.001, 'bulk_pressure': 100000.0, 'gas': <cantera._cantera.Solution object at 0x7ff22feeecf8>, 'lambda_solid': 10.0, 'x_cells': 1, 'atol': 1e-20, 'dt': 1.0, 'with_energy': False, 'from_file': False, 'rhocp': 1000000.0, 'L_reactor': 0.005, 'h': 8000, 'd_p': 1e-08, 'h_temp': 4000, 'heat_source': 0.0, 'trate': -1}"
       ]
      },
      {
       "output_type": "stream",
       "stream": "stdout",
       "text": [
        "\n",
        "(520.0, 100000.0, array([ 0.,  0.,  1.,  0.]))\n",
        "{'maxtemp': -1, 'mintemp': -1, 'cell_ratio': 1.000001, 'inf_ext_mt': True, 'wc_thickness': 2e-05, 'tortuosity': 8.0, 'area_to_volume': 999999.9999999999, 'temperature': 520.0, 'nx': 256, 'rtol': 1e-06, 'n_output': 1000, 'maxiter': 10000, 'istorf': 1, 'vel': 5.0, 'porosity': 0.35, 'A_V': 1000.0, 'rhocp_st': 0.001, 'bulk_pressure': 100000.0, 'gas': <cantera._cantera.Solution object at 0x7ff22feeecf8>, 'lambda_solid': 10.0, 'x_cells': 1, 'atol': 1e-20, 'dt': 1.0, 'with_energy': False, 'from_file': False, 'rhocp': 1000000.0, 'L_reactor': 0.005, 'h': 8000, 'd_p': 1e-08, 'h_temp': 4000, 'heat_source': 0.0, 'trate': -1}"
       ]
      },
      {
       "output_type": "stream",
       "stream": "stdout",
       "text": [
        "\n",
        "(525.0, 100000.0, array([ 0.,  0.,  1.,  0.]))\n",
        "{'maxtemp': -1, 'mintemp': -1, 'cell_ratio': 1.000001, 'inf_ext_mt': True, 'wc_thickness': 2e-05, 'tortuosity': 8.0, 'area_to_volume': 999999.9999999999, 'temperature': 525.0, 'nx': 256, 'rtol': 1e-06, 'n_output': 1000, 'maxiter': 10000, 'istorf': 1, 'vel': 5.0, 'porosity': 0.35, 'A_V': 1000.0, 'rhocp_st': 0.001, 'bulk_pressure': 100000.0, 'gas': <cantera._cantera.Solution object at 0x7ff22feeecf8>, 'lambda_solid': 10.0, 'x_cells': 1, 'atol': 1e-20, 'dt': 1.0, 'with_energy': False, 'from_file': False, 'rhocp': 1000000.0, 'L_reactor': 0.005, 'h': 8000, 'd_p': 1e-08, 'h_temp': 4000, 'heat_source': 0.0, 'trate': -1}"
       ]
      },
      {
       "output_type": "stream",
       "stream": "stdout",
       "text": [
        "\n",
        "(530.0, 100000.0, array([ 0.,  0.,  1.,  0.]))\n",
        "{'maxtemp': -1, 'mintemp': -1, 'cell_ratio': 1.000001, 'inf_ext_mt': True, 'wc_thickness': 2e-05, 'tortuosity': 8.0, 'area_to_volume': 999999.9999999999, 'temperature': 530.0, 'nx': 256, 'rtol': 1e-06, 'n_output': 1000, 'maxiter': 10000, 'istorf': 1, 'vel': 5.0, 'porosity': 0.35, 'A_V': 1000.0, 'rhocp_st': 0.001, 'bulk_pressure': 100000.0, 'gas': <cantera._cantera.Solution object at 0x7ff22feeecf8>, 'lambda_solid': 10.0, 'x_cells': 1, 'atol': 1e-20, 'dt': 1.0, 'with_energy': False, 'from_file': False, 'rhocp': 1000000.0, 'L_reactor': 0.005, 'h': 8000, 'd_p': 1e-08, 'h_temp': 4000, 'heat_source': 0.0, 'trate': -1}"
       ]
      },
      {
       "output_type": "stream",
       "stream": "stdout",
       "text": [
        "\n",
        "(535.0, 100000.0, array([ 0.,  0.,  1.,  0.]))\n",
        "{'maxtemp': -1, 'mintemp': -1, 'cell_ratio': 1.000001, 'inf_ext_mt': True, 'wc_thickness': 2e-05, 'tortuosity': 8.0, 'area_to_volume': 999999.9999999999, 'temperature': 535.0, 'nx': 256, 'rtol': 1e-06, 'n_output': 1000, 'maxiter': 10000, 'istorf': 1, 'vel': 5.0, 'porosity': 0.35, 'A_V': 1000.0, 'rhocp_st': 0.001, 'bulk_pressure': 100000.0, 'gas': <cantera._cantera.Solution object at 0x7ff22feeecf8>, 'lambda_solid': 10.0, 'x_cells': 1, 'atol': 1e-20, 'dt': 1.0, 'with_energy': False, 'from_file': False, 'rhocp': 1000000.0, 'L_reactor': 0.005, 'h': 8000, 'd_p': 1e-08, 'h_temp': 4000, 'heat_source': 0.0, 'trate': -1}"
       ]
      },
      {
       "output_type": "stream",
       "stream": "stdout",
       "text": [
        "\n",
        "(540.0, 100000.0, array([ 0.,  0.,  1.,  0.]))\n",
        "{'maxtemp': -1, 'mintemp': -1, 'cell_ratio': 1.000001, 'inf_ext_mt': True, 'wc_thickness': 2e-05, 'tortuosity': 8.0, 'area_to_volume': 999999.9999999999, 'temperature': 540.0, 'nx': 256, 'rtol': 1e-06, 'n_output': 1000, 'maxiter': 10000, 'istorf': 1, 'vel': 5.0, 'porosity': 0.35, 'A_V': 1000.0, 'rhocp_st': 0.001, 'bulk_pressure': 100000.0, 'gas': <cantera._cantera.Solution object at 0x7ff22feeecf8>, 'lambda_solid': 10.0, 'x_cells': 1, 'atol': 1e-20, 'dt': 1.0, 'with_energy': False, 'from_file': False, 'rhocp': 1000000.0, 'L_reactor': 0.005, 'h': 8000, 'd_p': 1e-08, 'h_temp': 4000, 'heat_source': 0.0, 'trate': -1}"
       ]
      },
      {
       "output_type": "stream",
       "stream": "stdout",
       "text": [
        "\n",
        "(545.0, 100000.0, array([ 0.,  0.,  1.,  0.]))\n",
        "{'maxtemp': -1, 'mintemp': -1, 'cell_ratio': 1.000001, 'inf_ext_mt': True, 'wc_thickness': 2e-05, 'tortuosity': 8.0, 'area_to_volume': 999999.9999999999, 'temperature': 545.0, 'nx': 256, 'rtol': 1e-06, 'n_output': 1000, 'maxiter': 10000, 'istorf': 1, 'vel': 5.0, 'porosity': 0.35, 'A_V': 1000.0, 'rhocp_st': 0.001, 'bulk_pressure': 100000.0, 'gas': <cantera._cantera.Solution object at 0x7ff22feeecf8>, 'lambda_solid': 10.0, 'x_cells': 1, 'atol': 1e-20, 'dt': 1.0, 'with_energy': False, 'from_file': False, 'rhocp': 1000000.0, 'L_reactor': 0.005, 'h': 8000, 'd_p': 1e-08, 'h_temp': 4000, 'heat_source': 0.0, 'trate': -1}"
       ]
      },
      {
       "output_type": "stream",
       "stream": "stdout",
       "text": [
        "\n",
        "(550.0, 100000.0, array([ 0.,  0.,  1.,  0.]))\n",
        "{'maxtemp': -1, 'mintemp': -1, 'cell_ratio': 1.000001, 'inf_ext_mt': True, 'wc_thickness': 2e-05, 'tortuosity': 8.0, 'area_to_volume': 999999.9999999999, 'temperature': 550.0, 'nx': 256, 'rtol': 1e-06, 'n_output': 1000, 'maxiter': 10000, 'istorf': 1, 'vel': 5.0, 'porosity': 0.35, 'A_V': 1000.0, 'rhocp_st': 0.001, 'bulk_pressure': 100000.0, 'gas': <cantera._cantera.Solution object at 0x7ff22feeecf8>, 'lambda_solid': 10.0, 'x_cells': 1, 'atol': 1e-20, 'dt': 1.0, 'with_energy': False, 'from_file': False, 'rhocp': 1000000.0, 'L_reactor': 0.005, 'h': 8000, 'd_p': 1e-08, 'h_temp': 4000, 'heat_source': 0.0, 'trate': -1}"
       ]
      },
      {
       "output_type": "stream",
       "stream": "stdout",
       "text": [
        "\n",
        "(555.0, 100000.0, array([ 0.,  0.,  1.,  0.]))\n",
        "{'maxtemp': -1, 'mintemp': -1, 'cell_ratio': 1.000001, 'inf_ext_mt': True, 'wc_thickness': 2e-05, 'tortuosity': 8.0, 'area_to_volume': 999999.9999999999, 'temperature': 555.0, 'nx': 256, 'rtol': 1e-06, 'n_output': 1000, 'maxiter': 10000, 'istorf': 1, 'vel': 5.0, 'porosity': 0.35, 'A_V': 1000.0, 'rhocp_st': 0.001, 'bulk_pressure': 100000.0, 'gas': <cantera._cantera.Solution object at 0x7ff22feeecf8>, 'lambda_solid': 10.0, 'x_cells': 1, 'atol': 1e-20, 'dt': 1.0, 'with_energy': False, 'from_file': False, 'rhocp': 1000000.0, 'L_reactor': 0.005, 'h': 8000, 'd_p': 1e-08, 'h_temp': 4000, 'heat_source': 0.0, 'trate': -1}"
       ]
      },
      {
       "output_type": "stream",
       "stream": "stdout",
       "text": [
        "\n",
        "(560.0, 100000.0, array([ 0.,  0.,  1.,  0.]))\n",
        "{'maxtemp': -1, 'mintemp': -1, 'cell_ratio': 1.000001, 'inf_ext_mt': True, 'wc_thickness': 2e-05, 'tortuosity': 8.0, 'area_to_volume': 999999.9999999999, 'temperature': 560.0, 'nx': 256, 'rtol': 1e-06, 'n_output': 1000, 'maxiter': 10000, 'istorf': 1, 'vel': 5.0, 'porosity': 0.35, 'A_V': 1000.0, 'rhocp_st': 0.001, 'bulk_pressure': 100000.0, 'gas': <cantera._cantera.Solution object at 0x7ff22feeecf8>, 'lambda_solid': 10.0, 'x_cells': 1, 'atol': 1e-20, 'dt': 1.0, 'with_energy': False, 'from_file': False, 'rhocp': 1000000.0, 'L_reactor': 0.005, 'h': 8000, 'd_p': 1e-08, 'h_temp': 4000, 'heat_source': 0.0, 'trate': -1}"
       ]
      },
      {
       "output_type": "stream",
       "stream": "stdout",
       "text": [
        "\n",
        "(565.0, 100000.0, array([ 0.,  0.,  1.,  0.]))\n",
        "{'maxtemp': -1, 'mintemp': -1, 'cell_ratio': 1.000001, 'inf_ext_mt': True, 'wc_thickness': 2e-05, 'tortuosity': 8.0, 'area_to_volume': 999999.9999999999, 'temperature': 565.0, 'nx': 256, 'rtol': 1e-06, 'n_output': 1000, 'maxiter': 10000, 'istorf': 1, 'vel': 5.0, 'porosity': 0.35, 'A_V': 1000.0, 'rhocp_st': 0.001, 'bulk_pressure': 100000.0, 'gas': <cantera._cantera.Solution object at 0x7ff22feeecf8>, 'lambda_solid': 10.0, 'x_cells': 1, 'atol': 1e-20, 'dt': 1.0, 'with_energy': False, 'from_file': False, 'rhocp': 1000000.0, 'L_reactor': 0.005, 'h': 8000, 'd_p': 1e-08, 'h_temp': 4000, 'heat_source': 0.0, 'trate': -1}"
       ]
      },
      {
       "output_type": "stream",
       "stream": "stdout",
       "text": [
        "\n",
        "(570.0, 100000.0, array([ 0.,  0.,  1.,  0.]))\n",
        "{'maxtemp': -1, 'mintemp': -1, 'cell_ratio': 1.000001, 'inf_ext_mt': True, 'wc_thickness': 2e-05, 'tortuosity': 8.0, 'area_to_volume': 999999.9999999999, 'temperature': 570.0, 'nx': 256, 'rtol': 1e-06, 'n_output': 1000, 'maxiter': 10000, 'istorf': 1, 'vel': 5.0, 'porosity': 0.35, 'A_V': 1000.0, 'rhocp_st': 0.001, 'bulk_pressure': 100000.0, 'gas': <cantera._cantera.Solution object at 0x7ff22feeecf8>, 'lambda_solid': 10.0, 'x_cells': 1, 'atol': 1e-20, 'dt': 1.0, 'with_energy': False, 'from_file': False, 'rhocp': 1000000.0, 'L_reactor': 0.005, 'h': 8000, 'd_p': 1e-08, 'h_temp': 4000, 'heat_source': 0.0, 'trate': -1}"
       ]
      },
      {
       "output_type": "stream",
       "stream": "stdout",
       "text": [
        "\n",
        "(575.0, 100000.0, array([ 0.,  0.,  1.,  0.]))\n",
        "{'maxtemp': -1, 'mintemp': -1, 'cell_ratio': 1.000001, 'inf_ext_mt': True, 'wc_thickness': 2e-05, 'tortuosity': 8.0, 'area_to_volume': 999999.9999999999, 'temperature': 575.0, 'nx': 256, 'rtol': 1e-06, 'n_output': 1000, 'maxiter': 10000, 'istorf': 1, 'vel': 5.0, 'porosity': 0.35, 'A_V': 1000.0, 'rhocp_st': 0.001, 'bulk_pressure': 100000.0, 'gas': <cantera._cantera.Solution object at 0x7ff22feeecf8>, 'lambda_solid': 10.0, 'x_cells': 1, 'atol': 1e-20, 'dt': 1.0, 'with_energy': False, 'from_file': False, 'rhocp': 1000000.0, 'L_reactor': 0.005, 'h': 8000, 'd_p': 1e-08, 'h_temp': 4000, 'heat_source': 0.0, 'trate': -1}"
       ]
      },
      {
       "output_type": "stream",
       "stream": "stdout",
       "text": [
        "\n",
        "(580.0, 100000.0, array([ 0.,  0.,  1.,  0.]))\n",
        "{'maxtemp': -1, 'mintemp': -1, 'cell_ratio': 1.000001, 'inf_ext_mt': True, 'wc_thickness': 2e-05, 'tortuosity': 8.0, 'area_to_volume': 999999.9999999999, 'temperature': 580.0, 'nx': 256, 'rtol': 1e-06, 'n_output': 1000, 'maxiter': 10000, 'istorf': 1, 'vel': 5.0, 'porosity': 0.35, 'A_V': 1000.0, 'rhocp_st': 0.001, 'bulk_pressure': 100000.0, 'gas': <cantera._cantera.Solution object at 0x7ff22feeecf8>, 'lambda_solid': 10.0, 'x_cells': 1, 'atol': 1e-20, 'dt': 1.0, 'with_energy': False, 'from_file': False, 'rhocp': 1000000.0, 'L_reactor': 0.005, 'h': 8000, 'd_p': 1e-08, 'h_temp': 4000, 'heat_source': 0.0, 'trate': -1}"
       ]
      },
      {
       "output_type": "stream",
       "stream": "stdout",
       "text": [
        "\n",
        "(585.0, 100000.0, array([ 0.,  0.,  1.,  0.]))\n",
        "{'maxtemp': -1, 'mintemp': -1, 'cell_ratio': 1.000001, 'inf_ext_mt': True, 'wc_thickness': 2e-05, 'tortuosity': 8.0, 'area_to_volume': 999999.9999999999, 'temperature': 585.0, 'nx': 256, 'rtol': 1e-06, 'n_output': 1000, 'maxiter': 10000, 'istorf': 1, 'vel': 5.0, 'porosity': 0.35, 'A_V': 1000.0, 'rhocp_st': 0.001, 'bulk_pressure': 100000.0, 'gas': <cantera._cantera.Solution object at 0x7ff22feeecf8>, 'lambda_solid': 10.0, 'x_cells': 1, 'atol': 1e-20, 'dt': 1.0, 'with_energy': False, 'from_file': False, 'rhocp': 1000000.0, 'L_reactor': 0.005, 'h': 8000, 'd_p': 1e-08, 'h_temp': 4000, 'heat_source': 0.0, 'trate': -1}"
       ]
      },
      {
       "output_type": "stream",
       "stream": "stdout",
       "text": [
        "\n",
        "(590.0, 100000.0, array([ 0.,  0.,  1.,  0.]))\n",
        "{'maxtemp': -1, 'mintemp': -1, 'cell_ratio': 1.000001, 'inf_ext_mt': True, 'wc_thickness': 2e-05, 'tortuosity': 8.0, 'area_to_volume': 999999.9999999999, 'temperature': 590.0, 'nx': 256, 'rtol': 1e-06, 'n_output': 1000, 'maxiter': 10000, 'istorf': 1, 'vel': 5.0, 'porosity': 0.35, 'A_V': 1000.0, 'rhocp_st': 0.001, 'bulk_pressure': 100000.0, 'gas': <cantera._cantera.Solution object at 0x7ff22feeecf8>, 'lambda_solid': 10.0, 'x_cells': 1, 'atol': 1e-20, 'dt': 1.0, 'with_energy': False, 'from_file': False, 'rhocp': 1000000.0, 'L_reactor': 0.005, 'h': 8000, 'd_p': 1e-08, 'h_temp': 4000, 'heat_source': 0.0, 'trate': -1}"
       ]
      },
      {
       "output_type": "stream",
       "stream": "stdout",
       "text": [
        "\n",
        "(595.0, 100000.0, array([ 0.,  0.,  1.,  0.]))\n",
        "{'maxtemp': -1, 'mintemp': -1, 'cell_ratio': 1.000001, 'inf_ext_mt': True, 'wc_thickness': 2e-05, 'tortuosity': 8.0, 'area_to_volume': 999999.9999999999, 'temperature': 595.0, 'nx': 256, 'rtol': 1e-06, 'n_output': 1000, 'maxiter': 10000, 'istorf': 1, 'vel': 5.0, 'porosity': 0.35, 'A_V': 1000.0, 'rhocp_st': 0.001, 'bulk_pressure': 100000.0, 'gas': <cantera._cantera.Solution object at 0x7ff22feeecf8>, 'lambda_solid': 10.0, 'x_cells': 1, 'atol': 1e-20, 'dt': 1.0, 'with_energy': False, 'from_file': False, 'rhocp': 1000000.0, 'L_reactor': 0.005, 'h': 8000, 'd_p': 1e-08, 'h_temp': 4000, 'heat_source': 0.0, 'trate': -1}"
       ]
      },
      {
       "output_type": "stream",
       "stream": "stdout",
       "text": [
        "\n",
        "(600.0, 100000.0, array([ 0.,  0.,  1.,  0.]))\n"
       ]
      }
     ],
     "prompt_number": 326
    },
    {
     "cell_type": "code",
     "collapsed": false,
     "input": [
      "all_data = np.array(all_data)\n",
      "\n",
      "fig, ax = pl.subplots()\n",
      "ax2 = ax.twinx()\n",
      "\n",
      "for idx,massfrac in enumerate(massfractions):\n",
      "    ax.plot(temperatures,all_data[idx,:,9,4,-1],\"--\",label=\"$Y_s: $\"+str(massfrac))\n",
      "    ax2.plot(temperatures,char_times[idx],label=\"$Y_s: $\"+str(massfrac))\n",
      "\n",
      "    \n",
      "\n",
      "ax.set_xlabel(\"Temperature (K)\")\n",
      "ax2.set_ylabel(\"Time to steady state (ms)\")\n",
      "ax.set_ylabel(\"$Y_{CO}$ at $w=t_{wc}$\")\n",
      "\n",
      "ax.set_xlim([450,600])\n",
      "\n",
      "pl.legend(frameon=False)\n",
      "\n",
      "fig = pl.gcf()\n",
      "fig.tight_layout()\n",
      "fig.savefig(os.path.join(\"pics_3\",\"timescales.pdf\"))"
     ],
     "language": "python",
     "metadata": {},
     "outputs": [
      {
       "metadata": {},
       "output_type": "display_data",
       "png": "[encoded data removed]",
       "text": [
        "<matplotlib.figure.Figure at 0x7ff22dabbcd0>"
       ]
      }
     ],
     "prompt_number": 335
    },
    {
     "cell_type": "code",
     "collapsed": false,
     "input": [
      "pl.plot(data[9,4,:])"
     ],
     "language": "python",
     "metadata": {},
     "outputs": [
      {
       "metadata": {},
       "output_type": "pyout",
       "prompt_number": 190,
       "text": [
        "[<matplotlib.lines.Line2D at 0x7ff2343fa0d0>]"
       ]
      },
      {
       "metadata": {},
       "output_type": "display_data",
       "png": "[encoded data removed]",
       "text": [
        "<matplotlib.figure.Figure at 0x7ff22f89edd0>"
       ]
      }
     ],
     "prompt_number": 190
    },
    {
     "cell_type": "code",
     "collapsed": false,
     "input": [
      "print(np.array([]))"
     ],
     "language": "python",
     "metadata": {},
     "outputs": [
      {
       "output_type": "stream",
       "stream": "stdout",
       "text": [
        "[]\n"
       ]
      }
     ],
     "prompt_number": 124
    },
    {
     "cell_type": "code",
     "collapsed": false,
     "input": [
      "Dp = 0.002\n",
      "ds = 0.00046\n",
      "porosity = 0.903\n",
      "10.33/(Dp+ds) * np.sqrt(1-porosity) -5.8/(Dp+ds)*(1.0-porosity)"
     ],
     "language": "python",
     "metadata": {},
     "outputs": [
      {
       "metadata": {},
       "output_type": "pyout",
       "prompt_number": 2083,
       "text": [
        "1079.130169266386"
       ]
      }
     ],
     "prompt_number": 2083
    },
    {
     "cell_type": "heading",
     "level": 2,
     "metadata": {},
     "source": [
      "Plot Light-off"
     ]
    },
    {
     "cell_type": "code",
     "collapsed": false,
     "input": [
      "fig,ax = pl.subplots()\n",
      "\n",
      "def get_conv(sim):\n",
      "    try:\n",
      "        return 1-sim.result[\"mf_avg\"][4]/0.00297\n",
      "       # return sim.result[\"mf_avg\"][4]\n",
      "\n",
      "    except:\n",
      "        return 0.0\n",
      "    \n",
      "def get_conv_1d(sim):\n",
      "#    try:\n",
      "        return 1-np.interp(4*0.0023,sim.wc_data[\"coords\"],sim.wc_data[\"CO\"])/0.00297\n",
      "       # return np.interp(4*0.0023,sim.wc_data[\"coords\"],sim.wc_data[\"CO\"])\n",
      "#        return 0.0\n",
      "    \n",
      "def get_var(sim,var):\n",
      "    return sim.sim_info[var]\n",
      "colors = [\"b\",\"r\"]\n",
      "\n",
      "for vel,col in zip([2.0,10.0],colors):\n",
      "    sim_to_plot = []\n",
      "    for temp in [400,450,500,550,600,650,700]:\n",
      "        sim_to_plot.append(filter_simulations(sims,steady=True,inf=False,conj=False,temperature=temp,vel=vel)[0])\n",
      "    ax.plot(get_array(sim_to_plot,get_var,\"temperature\"),get_array(sim_to_plot,get_conv),'o',color=col,label=\"U= \"+str(vel)+\" 3D\")\n",
      "\n",
      "    sim_to_plot_1d = sort_sims(filter_simulations(sim_list_py,wc_geo_area=100,cov_CO=1,dp=10,sh_number=8000,wc_thickness=100,vel=vel),\"temperature\")\n",
      "    ax.plot(get_array(sim_to_plot_1d,get_var,\"temperature\"),get_array(sim_to_plot_1d,get_conv_1d),color=col,label=\"U= \"+str(vel)+\" 1D\")\n",
      "\n",
      "\n",
      "\n",
      "\n",
      "ax.set_xlabel(\"Temperature (K)\")\n",
      "ax.set_ylabel(\"Conversion (-)\")\n",
      "ax.legend(loc=0,frameon=False)\n",
      "fig.tight_layout()\n",
      "fig.savefig(\"paper_3/light_off_CO.pdf\")\n"
     ],
     "language": "python",
     "metadata": {},
     "outputs": [
      {
       "metadata": {},
       "output_type": "display_data",
       "png": "[encoded data removed]",
       "text": [
        "<matplotlib.figure.Figure at 0x7f43dceaca90>"
       ]
      }
     ],
     "prompt_number": 513
    },
    {
     "cell_type": "code",
     "collapsed": false,
     "input": [
      "get_conv(filter_simulations(sims,steady=True,inf=False,conj=False,temperature=500)[0])"
     ],
     "language": "python",
     "metadata": {},
     "outputs": [
      {
       "metadata": {},
       "output_type": "pyout",
       "prompt_number": 298,
       "text": [
        "0.017243546154506739"
       ]
      }
     ],
     "prompt_number": 298
    },
    {
     "cell_type": "code",
     "collapsed": false,
     "input": [
      "for sim in filter_simulations(sims,inf=True):\n",
      "    print(sim.result[\"sh_numbers\"])"
     ],
     "language": "python",
     "metadata": {},
     "outputs": [
      {
       "output_type": "stream",
       "stream": "stdout",
       "text": [
        "[19.894683108267607, 14.300897895273174, 14.280314001957352, 14.28172518662789, 14.25950451703928, 14.24752044579507, 14.282696002959245]\n"
       ]
      }
     ],
     "prompt_number": 299
    },
    {
     "cell_type": "code",
     "collapsed": false,
     "input": [
      "filter_simulations(sim_list_py,wc_geo_area=100,cov_CO=1,dp=10,sh_number=8000,wc_thickness=100,vel=2.0)[0].sim_info"
     ],
     "language": "python",
     "metadata": {},
     "outputs": [
      {
       "metadata": {},
       "output_type": "pyout",
       "prompt_number": 328,
       "text": [
        "{'a_v': 1000,\n",
        " 'converged': False,\n",
        " 'cov_CO': 1,\n",
        " 'default': 0,\n",
        " 'dp': 10,\n",
        " 'folder': 'default_0',\n",
        " 'mf': 3000,\n",
        " 'nx': 64,\n",
        " 'sh_number': 8000,\n",
        " 't_fac': 1,\n",
        " 'temperature': 300,\n",
        " 'vel': 2.0,\n",
        " 'wc_geo_area': 100,\n",
        " 'wc_porosity': 0.35,\n",
        " 'wc_thickness': 100,\n",
        " 'wc_tortuosity': 8.0,\n",
        " 'x_cells': 20}"
       ]
      }
     ],
     "prompt_number": 328
    },
    {
     "cell_type": "heading",
     "level": 1,
     "metadata": {},
     "source": [
      "1D Sims"
     ]
    },
    {
     "cell_type": "code",
     "collapsed": false,
     "input": [
      "def create_simulation_python(input_dict,folder,root_folder=\".\",ref_folder=None):\n",
      "     \n",
      "    try:\n",
      "        sh.copytree(ref_folder,os.path.join(root_folder,folder))\n",
      "    except:\n",
      "        print(\"directory exists already\")\n",
      "\n",
      "       \n",
      "    config_sim = jc.configuration_mb_local\n",
      "    config_sim[\"transat_version\"] = \"wc_python\"\n",
      "\n",
      "    config_sim[\"jobname\"] = folder\n",
      "    config_sim[\"root_folder\"] = root_folder\n",
      "    simulation = sim_brutus.job(**config_sim)\n",
      "\n",
      "    simulation.sim_info = input_dict.copy()\n",
      "    simulation.sim_info[\"converged\"] = False\n",
      "\n",
      "\n",
      "    return simulation"
     ],
     "language": "python",
     "metadata": {},
     "outputs": [],
     "prompt_number": 277
    },
    {
     "cell_type": "code",
     "collapsed": false,
     "input": [
      "def get_data(sim,time=False,flux=False):\n",
      "    idx_t = 1\n",
      "    if time:\n",
      "        idx_t = 0\n",
      "    key = \"grid\"\n",
      "    if flux:\n",
      "        key = \"fluxes\"\n",
      "    return np.array([item for item in sim.all_data[key]])\n"
     ],
     "language": "python",
     "metadata": {},
     "outputs": [],
     "prompt_number": 84
    },
    {
     "cell_type": "code",
     "collapsed": false,
     "input": [
      "default_inputs = {}\n",
      "default_inputs[\"sh_number\"] = 8000\n",
      "default_inputs[\"vel\"] = 2.0\n",
      "default_inputs[\"a_v\"] = 1000\n",
      "default_inputs[\"dp\"] = 10\n",
      "default_inputs[\"mf\"] = 3000\n",
      "default_inputs[\"wc_thickness\"] = 100\n",
      "default_inputs[\"wc_geo_area\"] = 100\n",
      "default_inputs[\"nx\"] = 64\n",
      "default_inputs[\"t_fac\"] = 1\n",
      "default_inputs[\"x_cells\"] = 20\n",
      "\n",
      "cov_co = [1,0]\n",
      "\n",
      "    \n",
      "default_inputs[\"wc_tortuosity\"] = 8.0\n",
      "default_inputs[\"wc_porosity\"]   = 0.35\n",
      "default_inputs[\"cov_CO\"]  = 1"
     ],
     "language": "python",
     "metadata": {},
     "outputs": [],
     "prompt_number": 287
    },
    {
     "cell_type": "code",
     "collapsed": false,
     "input": [
      "ref_folder = \"/home/vonrickenbach/testcases_python_vol_avg/default_0\"\n",
      "\n",
      "\n",
      "par_inputs_py = {}\n",
      "\n",
      "par_inputs_py[\"default\"] = [0]\n",
      "par_inputs_py[\"vel\"] = [10.0]\n",
      "\n",
      "\n",
      "\n",
      "inputs = {}\n",
      "\n",
      "sim_list_py  = []\n",
      "trate = 0.1\n",
      "mintemp = 380\n",
      "maxtemp = 1000\n",
      "temperatures = [300,360,370,385,390,400,410,420,430,440,450,460,470,480,490,500,510,520,530,540,550,560,570,600,700,800,900,1000]\n",
      "temperatures_ext = [300,360,370,380,390,400,410,420,430,440,450,460,470,480,490,500,510,520,530,540,550,560,570,600,620,640,660,680\n",
      "                ,700,720,740,760,780,800,820,840,860,880,900,920,940,960,980,1000]\n",
      "\n",
      "\n",
      "\n",
      "root_folder= \"/home/vonrickenbach/testcases_python_vol_avg/\"\n",
      "\n",
      "for par_key,par_value in par_inputs_py.iteritems():\n",
      "    for val in par_value:\n",
      "        folder = par_key+\"_\"+str(int(val))\n",
      "        try:\n",
      "            sh.copytree(ref_folder,os.path.join(root_folder,folder))\n",
      "        except:\n",
      "            pass\n",
      "        input_file = open(os.path.join(root_folder,folder,\"input.pic\"),\"w\")\n",
      "        file_dict = {}\n",
      "        if par_key != \"default\":\n",
      "            file_dict[par_key] = val\n",
      "            if par_key == \"vel\" and val == 10.0:\n",
      "                file_dict[\"h\"] = -20\n",
      "\n",
      "        pic.dump(file_dict,input_file)\n",
      "        input_file.close()\n",
      "        for cov in [1]:\n",
      "            temp_array = temperatures_ext\n",
      "\n",
      "            for temperature in temp_array:\n",
      "                inputs = default_inputs.copy()\n",
      "                inputs[\"temperature\"] = temperature\n",
      "                inputs[\"folder\"] = folder\n",
      "                if folder = \"default_0\":\n",
      "                    \n",
      "\n",
      "                inputs[par_key] = val\n",
      "                sim_list_py.append(create_simulation_python(inputs,folder,root_folder=root_folder,ref_folder=ref_folder))\n",
      "                \n",
      "sim_list_run = filter_simulations(sim_list_py,temperature=mintemp,cov_CO=1)"
     ],
     "language": "python",
     "metadata": {},
     "outputs": [
      {
       "output_type": "stream",
       "stream": "stdout",
       "text": [
        "directory exists already\n",
        "Warning Initial conditions with single block code not supported\n",
        "directory exists already\n",
        "Warning Initial conditions with single block code not supported\n",
        "directory exists already\n",
        "Warning Initial conditions with single block code not supported\n",
        "directory exists already\n",
        "Warning Initial conditions with single block code not supported\n",
        "directory exists already\n",
        "Warning Initial conditions with single block code not supported\n",
        "directory exists already\n",
        "Warning Initial conditions with single block code not supported\n",
        "directory exists already\n",
        "Warning Initial conditions with single block code not supported\n",
        "directory exists already\n",
        "Warning Initial conditions with single block code not supported\n",
        "directory exists already\n",
        "Warning Initial conditions with single block code not supported\n",
        "directory exists already\n",
        "Warning Initial conditions with single block code not supported\n",
        "directory exists already\n",
        "Warning Initial conditions with single block code not supported\n",
        "directory exists already\n",
        "Warning Initial conditions with single block code not supported\n",
        "directory exists already\n",
        "Warning Initial conditions with single block code not supported\n",
        "directory exists already\n",
        "Warning Initial conditions with single block code not supported\n",
        "directory exists already\n",
        "Warning Initial conditions with single block code not supported\n",
        "directory exists already\n",
        "Warning Initial conditions with single block code not supported\n",
        "directory exists already\n",
        "Warning Initial conditions with single block code not supported\n",
        "directory exists already\n",
        "Warning Initial conditions with single block code not supported\n",
        "directory exists already\n",
        "Warning Initial conditions with single block code not supported\n",
        "directory exists already\n",
        "Warning Initial conditions with single block code not supported\n",
        "directory exists already\n",
        "Warning Initial conditions with single block code not supported\n",
        "directory exists already\n",
        "Warning Initial conditions with single block code not supported\n",
        "directory exists already\n",
        "Warning Initial conditions with single block code not supported\n",
        "directory exists already\n",
        "Warning Initial conditions with single block code not supported\n",
        "directory exists already\n",
        "Warning Initial conditions with single block code not supported\n",
        "directory exists already\n",
        "Warning Initial conditions with single block code not supported\n",
        "directory exists already\n",
        "Warning Initial conditions with single block code not supported\n",
        "directory exists already\n",
        "Warning Initial conditions with single block code not supported\n",
        "directory exists already\n",
        "Warning Initial conditions with single block code not supported\n",
        "directory exists already\n",
        "Warning Initial conditions with single block code not supported\n",
        "directory exists already\n",
        "Warning Initial conditions with single block code not supported\n",
        "directory exists already\n",
        "Warning Initial conditions with single block code not supported\n",
        "directory exists already\n",
        "Warning Initial conditions with single block code not supported"
       ]
      },
      {
       "output_type": "stream",
       "stream": "stdout",
       "text": [
        "\n",
        "directory exists already\n",
        "Warning Initial conditions with single block code not supported\n",
        "directory exists already\n",
        "Warning Initial conditions with single block code not supported\n",
        "directory exists already\n",
        "Warning Initial conditions with single block code not supported\n",
        "directory exists already\n",
        "Warning Initial conditions with single block code not supported\n",
        "directory exists already\n",
        "Warning Initial conditions with single block code not supported\n",
        "directory exists already\n",
        "Warning Initial conditions with single block code not supported\n",
        "directory exists already\n",
        "Warning Initial conditions with single block code not supported\n",
        "directory exists already\n",
        "Warning Initial conditions with single block code not supported\n",
        "directory exists already\n",
        "Warning Initial conditions with single block code not supported\n",
        "directory exists already\n",
        "Warning Initial conditions with single block code not supported\n",
        "directory exists already\n",
        "Warning Initial conditions with single block code not supported\n",
        "directory exists already\n",
        "Warning Initial conditions with single block code not supported\n",
        "directory exists already\n",
        "Warning Initial conditions with single block code not supported\n",
        "directory exists already\n",
        "Warning Initial conditions with single block code not supported\n",
        "directory exists already\n",
        "Warning Initial conditions with single block code not supported\n",
        "directory exists already\n",
        "Warning Initial conditions with single block code not supported\n",
        "directory exists already\n",
        "Warning Initial conditions with single block code not supported\n",
        "directory exists already\n",
        "Warning Initial conditions with single block code not supported\n",
        "directory exists already\n",
        "Warning Initial conditions with single block code not supported\n",
        "directory exists already\n",
        "Warning Initial conditions with single block code not supported\n",
        "directory exists already\n",
        "Warning Initial conditions with single block code not supported\n",
        "directory exists already\n",
        "Warning Initial conditions with single block code not supported\n",
        "directory exists already\n",
        "Warning Initial conditions with single block code not supported\n",
        "directory exists already\n",
        "Warning Initial conditions with single block code not supported\n",
        "directory exists already\n",
        "Warning Initial conditions with single block code not supported\n",
        "directory exists already\n",
        "Warning Initial conditions with single block code not supported\n",
        "directory exists already\n",
        "Warning Initial conditions with single block code not supported\n",
        "directory exists already\n",
        "Warning Initial conditions with single block code not supported\n",
        "directory exists already\n",
        "Warning Initial conditions with single block code not supported\n",
        "directory exists already\n",
        "Warning Initial conditions with single block code not supported\n",
        "directory exists already\n",
        "Warning Initial conditions with single block code not supported\n",
        "directory exists already\n",
        "Warning Initial conditions with single block code not supported\n",
        "directory exists already\n",
        "Warning Initial conditions with single block code not supported\n",
        "directory exists already\n",
        "Warning Initial conditions with single block code not supported\n",
        "directory exists already\n",
        "Warning Initial conditions with single block code not supported"
       ]
      },
      {
       "output_type": "stream",
       "stream": "stdout",
       "text": [
        "\n",
        "directory exists already\n",
        "Warning Initial conditions with single block code not supported\n",
        "directory exists already\n",
        "Warning Initial conditions with single block code not supported\n",
        "directory exists already\n",
        "Warning Initial conditions with single block code not supported\n",
        "directory exists already\n",
        "Warning Initial conditions with single block code not supported\n",
        "directory exists already\n",
        "Warning Initial conditions with single block code not supported\n",
        "directory exists already\n",
        "Warning Initial conditions with single block code not supported\n",
        "directory exists already\n",
        "Warning Initial conditions with single block code not supported\n",
        "directory exists already\n",
        "Warning Initial conditions with single block code not supported\n",
        "directory exists already\n",
        "Warning Initial conditions with single block code not supported\n",
        "directory exists already\n",
        "Warning Initial conditions with single block code not supported\n",
        "directory exists already\n",
        "Warning Initial conditions with single block code not supported\n",
        "directory exists already\n",
        "Warning Initial conditions with single block code not supported\n",
        "directory exists already\n",
        "Warning Initial conditions with single block code not supported\n",
        "directory exists already\n",
        "Warning Initial conditions with single block code not supported\n",
        "directory exists already\n",
        "Warning Initial conditions with single block code not supported\n",
        "directory exists already\n",
        "Warning Initial conditions with single block code not supported\n",
        "directory exists already\n",
        "Warning Initial conditions with single block code not supported\n",
        "directory exists already\n",
        "Warning Initial conditions with single block code not supported\n",
        "directory exists already\n",
        "Warning Initial conditions with single block code not supported\n",
        "directory exists already\n",
        "Warning Initial conditions with single block code not supported\n"
       ]
      }
     ],
     "prompt_number": 337
    },
    {
     "cell_type": "code",
     "collapsed": false,
     "input": [
      "for sim in sim_list_py:\n",
      " try:\n",
      "    load_wc(sim,L_r=0.0184)\n",
      " except:\n",
      "       print(sim.sim_info)\n"
     ],
     "language": "python",
     "metadata": {},
     "outputs": [],
     "prompt_number": 382
    },
    {
     "cell_type": "code",
     "collapsed": false,
     "input": [
      "def load_wc(sim,L_r=0.005):\n",
      "    wc_data = []\n",
      "        \n",
      "    time_idx = int(sim.sim_info[\"temperature\"])\n",
      "\n",
      "    nx = sim.sim_info[\"x_cells\"]\n",
      "    dx = L_r/ nx\n",
      "    for point in range(sim.sim_info[\"x_cells\"]):\n",
      "      wc_data.append([point*dx+dx/2,np.genfromtxt(os.path.join(sim.info.local[\"sim_folder\"],\"result\",\"grid_\"+str(point)+\"_\"+str(time_idx)+\"_\"+str(sim.sim_info[\"cov_CO\"])+\".dat\"))])\n",
      "    \n",
      "    sim.wc_data = {}\n",
      "    sim.wc_data[\"coords\"] = np.linspace(0.0,L_r,100)\n",
      "    sim.wc_data[\"CO\"]     = np.interp(sim.wc_data[\"coords\"],[item[0] for item in wc_data],[np.array(item[1][4][0]) for item in wc_data])\n",
      "    sim.all_data = wc_data  "
     ],
     "language": "python",
     "metadata": {},
     "outputs": [],
     "prompt_number": 285
    },
    {
     "cell_type": "code",
     "collapsed": false,
     "input": [
      "filter_simulations(sims,temperature=500)[0].sim_info"
     ],
     "language": "python",
     "metadata": {},
     "outputs": [
      {
       "metadata": {},
       "output_type": "pyout",
       "prompt_number": 221,
       "text": [
        "{'Dp': 0.002,\n",
        " 'conj': False,\n",
        " 'diff': 5.0767065038843225e-05,\n",
        " 'ds': 0.0003,\n",
        " 'inf': False,\n",
        " 'kelvin_cell_size': 0.0023,\n",
        " 'name': 'A',\n",
        " 'ncells': 8,\n",
        " 'porosity': 0.903,\n",
        " 'rho': 0.6823476206610333,\n",
        " 'steady': True,\n",
        " 'surf_to_volume': 1154.2000940849175,\n",
        " 'temperature': 500,\n",
        " 'vel': 2.0,\n",
        " 'visc': 2.6482057271786968e-05}"
       ]
      }
     ],
     "prompt_number": 221
    },
    {
     "cell_type": "code",
     "collapsed": false,
     "input": [
      "interface.advance_coverages_test(1)"
     ],
     "language": "python",
     "metadata": {},
     "outputs": [],
     "prompt_number": 905
    },
    {
     "cell_type": "code",
     "collapsed": false,
     "input": [
      "%%writefile colors   \n",
      "    \n",
      "\n",
      "   0.164   0.043   0.850 249.000   0.950   0.850   0.686   0.808   0.000   0.150      41      10     216\n",
      "   0.150   0.306   1.000 229.000   0.850   1.000   0.850   0.694   0.000   0.000      38      77     255\n",
      "   0.250   0.630   1.000 209.600   0.750   1.000   0.750   0.370   0.000   0.000      63     160     255\n",
      "   0.450   0.853   1.000 196.000   0.550   1.000   0.550   0.147   0.000   0.000     114     217     255\n",
      "   0.670   0.973   1.000 185.000   0.330   1.000   0.330   0.027   0.000   0.000     170     247     255\n",
      "   0.880   1.000   1.000 180.000   0.120   1.000   0.120   0.000   0.000   0.000     224     255     255\n",
      "   1.000   1.000   0.750  60.000   0.250   1.000   0.000   0.000   0.250   0.000     255     255     191\n",
      "   1.000   0.880   0.600  42.000   0.400   1.000   0.000   0.120   0.400   0.000     255     224     153\n",
      "   1.000   0.679   0.450  25.000   0.550   1.000   0.000   0.321   0.550   0.000     255     173     114\n",
      "   0.970   0.430   0.370   6.000   0.619   0.970   0.000   0.540   0.600   0.030     247     109      94\n",
      "   0.850   0.150   0.196 356.000   0.824   0.850   0.000   0.700   0.654   0.150     216      38      50\n",
      "   0.650   0.000   0.130 348.008   1.000   0.650   0.000   0.650   0.520   0.350     165       0      33"
     ],
     "language": "python",
     "metadata": {},
     "outputs": [
      {
       "output_type": "stream",
       "stream": "stdout",
       "text": [
        "Writing colors\n"
       ]
      }
     ],
     "prompt_number": 504
    },
    {
     "cell_type": "code",
     "collapsed": false,
     "input": [
      "colors = np.loadtxt(\"colors\")[:,-3:]/255"
     ],
     "language": "python",
     "metadata": {},
     "outputs": [],
     "prompt_number": 508
    },
    {
     "cell_type": "code",
     "collapsed": false,
     "input": [
      "colors"
     ],
     "language": "python",
     "metadata": {},
     "outputs": [
      {
       "metadata": {},
       "output_type": "pyout",
       "prompt_number": 509,
       "text": [
        "array([[ 0.16078431,  0.03921569,  0.84705882],\n",
        "       [ 0.14901961,  0.30196078,  1.        ],\n",
        "       [ 0.24705882,  0.62745098,  1.        ],\n",
        "       [ 0.44705882,  0.85098039,  1.        ],\n",
        "       [ 0.66666667,  0.96862745,  1.        ],\n",
        "       [ 0.87843137,  1.        ,  1.        ],\n",
        "       [ 1.        ,  1.        ,  0.74901961],\n",
        "       [ 1.        ,  0.87843137,  0.6       ],\n",
        "       [ 1.        ,  0.67843137,  0.44705882],\n",
        "       [ 0.96862745,  0.42745098,  0.36862745],\n",
        "       [ 0.84705882,  0.14901961,  0.19607843],\n",
        "       [ 0.64705882,  0.        ,  0.12941176]])"
       ]
      }
     ],
     "prompt_number": 509
    },
    {
     "cell_type": "code",
     "collapsed": false,
     "input": [
      "colors = np.array([[12,40,64],[28,97,140],[166,155,134],[242,86,29],[242,39,38]])/256.0"
     ],
     "language": "python",
     "metadata": {},
     "outputs": [],
     "prompt_number": 524
    },
    {
     "cell_type": "code",
     "collapsed": false,
     "input": [],
     "language": "python",
     "metadata": {},
     "outputs": []
    }
   ],
   "metadata": {}
  }
 ]
}