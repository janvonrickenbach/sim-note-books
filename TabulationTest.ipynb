{
 "metadata": {
  "name": "",
  "signature": "sha256:f615d0000a3757193ce199788c080b1fe04ba360a6463bf91aeea38eb8a8b2b7"
 },
 "nbformat": 3,
 "nbformat_minor": 0,
 "worksheets": [
  {
   "cells": [
    {
     "cell_type": "heading",
     "level": 1,
     "metadata": {},
     "source": [
      "Module imports"
     ]
    },
    {
     "cell_type": "code",
     "collapsed": false,
     "input": [
      "%load_ext autoreload\n",
      "%autoreload 2\n",
      "\n",
      "\n",
      "%matplotlib inline\n",
      "import simulation_brutus as sim_b\n",
      "import shutil as sh\n",
      "import numpy as np\n",
      "import para_reader as pa\n",
      "import re\n",
      "\n",
      "sim_b= reload(sim_b)\n",
      "\n",
      "\n",
      "import os\n",
      "import pickle as pic\n",
      "\n",
      "\n",
      "import matplotlib.pyplot as pl\n",
      "\n",
      "pl.rcParams[\"text.usetex\"] = True\n",
      "pl.rcParams[\"text.fontsize\"] = 12\n",
      "\n",
      "import job_configurations as jc\n",
      "\n",
      "import initial_condition_writer as ini\n",
      "\n",
      "\n",
      "import cantera as ca"
     ],
     "language": "python",
     "metadata": {},
     "outputs": [
      {
       "output_type": "stream",
       "stream": "stdout",
       "text": [
        "The autoreload extension is already loaded. To reload it, use:\n",
        "  %reload_ext autoreload\n"
       ]
      }
     ],
     "prompt_number": 78
    },
    {
     "cell_type": "code",
     "collapsed": false,
     "input": [
      "%%javascript\n",
      "IPython.load_extensions('toc');"
     ],
     "language": "python",
     "metadata": {},
     "outputs": [
      {
       "javascript": [
        "IPython.load_extensions('toc');"
       ],
       "metadata": {},
       "output_type": "display_data",
       "text": [
        "<IPython.core.display.Javascript at 0x7fa85fb466d0>"
       ]
      }
     ],
     "prompt_number": 79
    },
    {
     "cell_type": "code",
     "collapsed": false,
     "input": [
      "def write_inital_conditions(folder,massfraction,velocity,temperature):\n",
      "\n",
      "    writer = ini.initalconditions_writer()\n",
      "    writer.add_variable(\"uvelocity\",velocity)\n",
      "    writer.add_variable(\"temperature\",temperature)\n",
      "    \n",
      "    for key,item in massfraction.iteritems():\n",
      "        writer.add_variable(var=\"component_molefraction\",value=item[0],index=item[1])\n",
      "        \n",
      "    writer.write_file(folder)\n",
      "    \n",
      "def filter_simulations(sim_list,**kwargs):\n",
      "  filtered_list = []\n",
      "  for sim in sim_list:\n",
      "      match_all = True\n",
      "      for key, item in kwargs.iteritems():\n",
      "            if not int(sim.sim_info[key]) == int(item):  \n",
      "              match_all = False\n",
      "      if match_all:\n",
      "        filtered_list.append(sim)\n",
      "  return filtered_list\n",
      "    \n",
      "def sort_sims(sim_list,prop): \n",
      "    return sorted(sim_list,key=lambda it: it.sim_info[prop])    \n",
      "\n",
      "def get_array(sim_list,func=None,var=None):\n",
      "    prop_list = []\n",
      "    if func:\n",
      "        for sim in sim_list:\n",
      "           if var:\n",
      "               prop_list.append(func(sim,var))\n",
      "           else:\n",
      "               prop_list.append(func(sim))\n",
      "    return np.array(prop_list)\n",
      "\n",
      "def sh_number(sim,inflow_mf=False):\n",
      "    gas = ca.import_phases(os.path.join(sim.info.local[\"sim_folder\"],\"cantera_input.cti\"),[\"gas\"])[0]\n",
      "    molefraction = [0.003,0.1,0.0,0.997]\n",
      "\n",
      "    gas.TPX = [sim.sim_info[\"temperature\"], 1E5, molefraction]\n",
      "    sh_numbers = []\n",
      "    for cell in range(sim.sim_info[\"ncells\"]-1):\n",
      "       if inflow_mf and cell == 0:\n",
      "           avg_Y_in = gas.Y[0]\n",
      "       else:\n",
      "           avg_Y_in  = sim.result[\"mf_avg\"][cell]\n",
      "       avg_Y_out = sim.result[\"mf_avg\"][cell+1]\n",
      "       sh_numbers.append(np.log(avg_Y_in/avg_Y_out) \n",
      "                              /sim.sim_info[\"surf_to_volume\"]\n",
      "                              /sim.sim_info[\"diff\"]\n",
      "                              *sim.sim_info[\"kelvin_cell_size\"]* sim.sim_info[\"vel\"] \n",
      "                              /(sim.sim_info[\"kelvin_cell_size\"]))\n",
      "    sim.result[\"sh_numbers\"] = sh_numbers\n"
     ],
     "language": "python",
     "metadata": {},
     "outputs": [],
     "prompt_number": 202
    },
    {
     "cell_type": "heading",
     "level": 1,
     "metadata": {},
     "source": [
      "Postprocessing scripts"
     ]
    },
    {
     "cell_type": "code",
     "collapsed": false,
     "input": [
      "%%file postprocess.py\n",
      "\n",
      "import para_reader as pa\n",
      "import numpy as np\n",
      "import pickle as pic\n",
      "import os\n",
      "\n",
      "filename = pa.get_last_modified()\n",
      "print(filename)\n",
      "data = pa.pa.OpenDataFile(filename)\n",
      "\n",
      "\n",
      "prob = pa.pa.PlotOverLine(data)\n",
      "\n",
      "pa.pa.UpdatePipeline()\n",
      "bounds = pa.get_bounds(data)\n",
      "\n",
      "cell = False\n",
      "print(bounds)\n",
      "y_coord = 0.0005\n",
      "z_coord = 0.0005\n",
      "x_max = 0.02\n",
      "prob.Source.Point1 = [0.0,y_coord,z_coord]\n",
      "prob.Source.Point2 = [0.0023*5,y_coord,z_coord]\n",
      "\n",
      "pa.pa.UpdatePipeline()\n",
      "\n",
      "data_dict = pa.save_data_to_dict(prob,cell=cell)\n",
      "\n",
      "pa.pa.UpdatePipeline()\n",
      "\n",
      "massflow_weight = [\"U\"]\n",
      "massflow_var = [\"CO\",\"T\"]\n",
      "\n",
      "x_coord = np.linspace(0.000,x_max,10)\n",
      "\n",
      "mf_avg = {}\n",
      "for var in massflow_var:\n",
      "    mf_avg[var] = []\n",
      "    for x in x_coord:\n",
      "        line = pa.pa.PlotOverLine(data)\n",
      "        line.Source.Point1 = [x,0.00,z_coord]\n",
      "        line.Source.Point2 = [x,0.00115,z_coord]\n",
      "        pa.pa.UpdatePipeline()\n",
      "        ma_avg = pa.massflow_avg(line,massflow_weight,var,cell=cell)\n",
      "        mf_avg[var].append((ma_avg[\"massflow_t_\"+var] /ma_avg[\"massflow\"])[0])\n",
      "    del line\n",
      "    \n",
      "\n",
      "try:\n",
      "    os.mkdir(\"processed\")\n",
      "except:\n",
      "    print(\"directory exists already\")\n",
      "pickle_file = \"processed/slice_averages.dat\"\n",
      "f = open(pickle_file,'w')\n",
      "pic.dump([data_dict,mf_avg],f)\n",
      "f.close()\n"
     ],
     "language": "python",
     "metadata": {},
     "outputs": [
      {
       "output_type": "stream",
       "stream": "stdout",
       "text": [
        "Overwriting postprocess.py\n"
       ]
      }
     ],
     "prompt_number": 6
    },
    {
     "cell_type": "code",
     "collapsed": false,
     "input": [
      "%%file create_slices.py\n",
      "from paraview.simple import *\n",
      "from para_reader import *\n",
      "import pickle as pic\n",
      "nblocks = 64\n",
      "\n",
      "\n",
      "postprocess = pic.load(open(\"job.pickle\"))\n",
      "iteration_list = postprocess[\"iteration_list\"]\n",
      "kelvin_cell_size = postprocess[\"kelvin_cell_size\"]\n",
      "origin = [kelvin_cell_size/2.,kelvin_cell_size/4.,kelvin_cell_size/4.]\n",
      "try:\n",
      "    os.mkdir(\"processed\")\n",
      "except:\n",
      "    print(\"directory exists already\")\n",
      "    \n",
      "for iteration in  iteration_list:\n",
      "   \n",
      "   datafile = get_last_modified()\n",
      "   print(datafile)\n",
      "   if datafile:\n",
      "     data = OpenDataFile(datafile)\n",
      "     slice = Slice(data)\n",
      "     slice.SliceType.Origin = origin\n",
      "     slice.SliceType.Normal = [0.0,1.0,0.0]\n",
      "     \n",
      "     print(slice)\n",
      "     unstructured = convert_to_unstructured(slice)\n",
      "     filename ='processed/output_'+str(iteration)+'.vtu' \n",
      "     pa.UpdatePipeline()\n",
      "     writer=CreateWriter(filename,unstructured)\n",
      "     writer.UpdatePipeline()\n",
      "     Delete(unstructured)\n",
      "     Delete(slice)"
     ],
     "language": "python",
     "metadata": {},
     "outputs": [
      {
       "output_type": "stream",
       "stream": "stdout",
       "text": [
        "Overwriting create_slices.py\n"
       ]
      }
     ],
     "prompt_number": 24
    },
    {
     "cell_type": "code",
     "collapsed": false,
     "input": [
      "%%file slice_avg.py\n",
      "\n",
      "from paraview.simple import *\n",
      "from para_reader import *\n",
      "import pickle as pic\n",
      "import os\n",
      "\n",
      "servermanager.Connect()\n",
      "postprocess = pic.load(open(\"job.pickle\"))\n",
      "kelvin_cell_size = postprocess[\"kelvin_cell_size\"]-postprocess[\"kelvin_cell_size\"]*0.0001\n",
      "ncells           = postprocess[\"ncells\"]\n",
      "\n",
      "massflow_weight_Y = postprocess[\"massflow_weight_Y\"]\n",
      "massflow_var_Y    = postprocess[\"massflow_var_Y\"]\n",
      "massflow_weight_P = postprocess[\"massflow_weight_P\"]\n",
      "massflow_var_P    = postprocess[\"massflow_var_P\"]\n",
      "iteration         = postprocess[\"iteration\"]\n",
      "\n",
      "name = get_iteration(iteration)\n",
      "name = get_last_modified()\n",
      "print(name)\n",
      "    \n",
      "data_file = OpenDataFile(name)\n",
      "\n",
      "print(\"Reading file \", data_file)\n",
      "\n",
      "avg_var    = []\n",
      "for sl in range(ncells+1):  \n",
      "  print(\"Before slice \")\n",
      "  current_slice = Slice(data_file)\n",
      "\n",
      "  print(\"Current Slice \", current_slice)\n",
      "\n",
      "  #current_slice.SliceType.Origin = [sl*kelvin_cell_size-0.5*kelvin_cell_size,0.0005,0.0005]\n",
      "  current_slice.SliceType.Origin = [sl*kelvin_cell_size-0.5*kelvin_cell_size,0.0005,0.0005]\n",
      "\n",
      "  current_slice.SliceType.Normal = [1,0,0]\n",
      "  print(\"Before avgY \")\n",
      "\n",
      "  avg_Y = massflow_avg(current_slice,massflow_weight_Y,massflow_var_Y)\n",
      "  print(\"Before avgP \")\n",
      "\n",
      "  avg_P = massflow_avg(current_slice,massflow_weight_P,massflow_var_P)\n",
      "  print(\"Before avgU \")\n",
      "  \n",
      "  avg_U = massflow_avg(current_slice,massflow_weight_P,'U')\n",
      "  avg_var.append([avg_Y, avg_P,avg_U])\n",
      " # Delete(current_slice)\n",
      "try:\n",
      "    os.mkdir(\"processed\")\n",
      "except:\n",
      "    print(\"directory exists already\")\n",
      "pickle_file = \"processed/slice_averages.dat\"\n",
      "f = open(pickle_file,'w')\n",
      "pic.dump(avg_var,f)\n",
      "f.close()"
     ],
     "language": "python",
     "metadata": {},
     "outputs": [
      {
       "output_type": "stream",
       "stream": "stdout",
       "text": [
        "Overwriting slice_avg.py\n"
       ]
      }
     ],
     "prompt_number": 25
    },
    {
     "cell_type": "heading",
     "level": 1,
     "metadata": {},
     "source": [
      "Create Sims"
     ]
    },
    {
     "cell_type": "code",
     "collapsed": false,
     "input": [
      "def create_sim_in_real_folder(jobname,temperature,create=False,inf=False,conj=False,steady=True,write_ini=True):\n",
      "\n",
      "    root_folder = \"/home/vonrickenbach/testcases_mb/tabulation_tests\"\n",
      "#    root_folder = \"/simulations\"\n",
      "  \n",
      "    if create:\n",
      "        try:\n",
      "            sh.copytree(os.path.join(root_folder,\"kelvin_cells\"),os.path.join(root_folder,jobname))\n",
      "        except:\n",
      "            print(\"Failed to create folder\",jobname)\n",
      "    massfraction = [0.003,0.1,0.0,0.997]\n",
      "  \n",
      "    massfraction = {}\n",
      "    massfraction[\"CO\"]   = [0.003,   [0,0]] \n",
      "    massfraction[\"O2\"]   = [0.1, [0,1]]\n",
      "    massfraction[\"CO2\"]  = [0.0, [0,2]]\n",
      "    massfraction[\"N2\"]   = [0.997,  [0,3]]\n",
      "    velocity = 2.0\n",
      "    if write_ini:\n",
      "        write_inital_conditions(os.path.join(root_folder,jobname),massfraction,velocity,temperature)\n",
      "    sh.copy(\"/home/vonrickenbach/ipython_notebooks/reaction_rates.dat\",os.path.join(root_folder,jobname))\n",
      "\n",
      "    gas = ca.import_phases(os.path.join(root_folder,jobname,\"cantera_input.cti\"),[\"gas\"])[0]\n",
      "    massfraction = [0.003,0.1,0.0,0.997]\n",
      "\n",
      "    gas.TPY = [temperature, 1E5, massfraction]\n",
      "    config = jc.configuration_brutus\n",
      "    config[\"jobname\"]     = jobname\n",
      "    config[\"root_folder\"] = root_folder\n",
      "    job = sim_b.job(**config)\n",
      "    job.sim_info = {}\n",
      "    job.sim_info[\"ds\"] = 0.0003\n",
      "    job.sim_info[\"Dp\"] = 0.002\n",
      "    Dp = job.sim_info[\"Dp\"]\n",
      "    ds = job.sim_info[\"ds\"]\n",
      "    job.sim_info[\"porosity\"] = 0.903\n",
      "    porosity = job.sim_info[\"porosity\"]\n",
      "    job.sim_info[\"surf_to_volume\"] = 10.33/(Dp+ds) * np.sqrt(1-porosity) -5.8/(Dp+ds)*(1.0-porosity)\n",
      "    job.sim_info[\"kelvin_cell_size\"] = Dp + ds\n",
      "    job.sim_info[\"ncells\"] = 8\n",
      "    job.sim_info[\"rho\"]    = gas.density\n",
      "    job.sim_info[\"vel\"]    = 2.0\n",
      "    job.sim_info[\"visc\"]   = gas.viscosity\n",
      "    job.sim_info[\"diff\"]   = gas.mix_diff_coeffs[0]\n",
      "    job.sim_info[\"name\"]   = \"A\"\n",
      "    job.sim_info[\"temperature\"] = temperature\n",
      "    job.sim_info[\"inf\"] = inf\n",
      "    job.sim_info[\"conj\"] = conj\n",
      "    job.sim_info[\"steady\"] = steady\n",
      "\n",
      "\n",
      "    job.postprocess = job.sim_info.copy()\n",
      "    job.postprocess[\"iteration\"] = -1\n",
      "    job.postprocess[\"massflow_weight_Y\"] =  ['U','HembI','BMR_I']\n",
      "    job.postprocess[\"massflow_var_Y\"]    =  'CO'\n",
      "    job.postprocess[\"massflow_weight_P\"] =  ['HembI','BMR_I']\n",
      "    job.postprocess[\"massflow_var_P\"]    =  'P'\n",
      "    job.postprocess[\"iteration_list\"]    =  [-1]\n",
      "    \n",
      "    return job"
     ],
     "language": "python",
     "metadata": {},
     "outputs": [],
     "prompt_number": 207
    },
    {
     "cell_type": "code",
     "collapsed": false,
     "input": [
      "current_sim = {\"steady\":True,\"conj\":False,\"temperature\":700,\"inf\":False}\n",
      "current_sim = {\"steady\":True,\"conj\":False,\"inf\":False}\n"
     ],
     "language": "python",
     "metadata": {},
     "outputs": [],
     "prompt_number": 72
    },
    {
     "cell_type": "code",
     "collapsed": false,
     "input": [
      "sims = []\n",
      "\n",
      "#sims.append(create_sim_in_real_folder(\"channel_washcoat\"))\n",
      "temperatures = [400,450,500,550,600,650,700]\n",
      "for temperature in temperatures:\n",
      "    sims.append(create_sim_in_real_folder(\"kelvin_cells_\"+str(temperature),temperature,create=True))\n",
      "    \n",
      "temperature = 700\n",
      "sims.append(create_sim_in_real_folder(\"kelvin_cells_inf_\"+str(temperature),temperature,create=False,inf=True))\n",
      "sims.append(create_sim_in_real_folder(\"kelvin_cells_conjugate_\"+str(temperature),temperature,create=False,conj=True))\n",
      "sims.append(create_sim_in_real_folder(\"kelvin_cells_conjugate_\"+str(temperature)+\"_unsteady\",temperature,create=False,conj=True,steady=False,write_ini=False))\n"
     ],
     "language": "python",
     "metadata": {},
     "outputs": [
      {
       "output_type": "stream",
       "stream": "stdout",
       "text": [
        "('Failed to create folder', 'kelvin_cells_400')\n",
        "mkdir: cannot create directory `/cluster/scratch_xp/public/vjan/kelvin_cells_400': File exists"
       ]
      },
      {
       "output_type": "stream",
       "stream": "stdout",
       "text": [
        "\n",
        "('Failed to create folder', 'kelvin_cells_450')\n",
        "mkdir: cannot create directory `/cluster/scratch_xp/public/vjan/kelvin_cells_450': File exists"
       ]
      },
      {
       "output_type": "stream",
       "stream": "stdout",
       "text": [
        "\n",
        "('Failed to create folder', 'kelvin_cells_500')\n",
        "mkdir: cannot create directory `/cluster/scratch_xp/public/vjan/kelvin_cells_500': File exists"
       ]
      },
      {
       "output_type": "stream",
       "stream": "stdout",
       "text": [
        "\n",
        "('Failed to create folder', 'kelvin_cells_550')\n",
        "mkdir: cannot create directory `/cluster/scratch_xp/public/vjan/kelvin_cells_550': File exists"
       ]
      },
      {
       "output_type": "stream",
       "stream": "stdout",
       "text": [
        "\n",
        "('Failed to create folder', 'kelvin_cells_600')\n",
        "mkdir: cannot create directory `/cluster/scratch_xp/public/vjan/kelvin_cells_600': File exists"
       ]
      },
      {
       "output_type": "stream",
       "stream": "stdout",
       "text": [
        "\n",
        "('Failed to create folder', 'kelvin_cells_650')\n",
        "mkdir: cannot create directory `/cluster/scratch_xp/public/vjan/kelvin_cells_650': File exists"
       ]
      },
      {
       "output_type": "stream",
       "stream": "stdout",
       "text": [
        "\n",
        "('Failed to create folder', 'kelvin_cells_700')\n",
        "mkdir: cannot create directory `/cluster/scratch_xp/public/vjan/kelvin_cells_700': File exists"
       ]
      },
      {
       "output_type": "stream",
       "stream": "stdout",
       "text": [
        "\n",
        "mkdir: cannot create directory `/cluster/scratch_xp/public/vjan/kelvin_cells_inf_700': File exists"
       ]
      },
      {
       "output_type": "stream",
       "stream": "stdout",
       "text": [
        "\n",
        "mkdir: cannot create directory `/cluster/scratch_xp/public/vjan/kelvin_cells_conjugate_700': File exists"
       ]
      },
      {
       "output_type": "stream",
       "stream": "stdout",
       "text": [
        "\n",
        "mkdir: cannot create directory `/cluster/scratch_xp/public/vjan/kelvin_cells_conjugate_700_unsteady': File exists"
       ]
      },
      {
       "output_type": "stream",
       "stream": "stdout",
       "text": [
        "\n"
       ]
      }
     ],
     "prompt_number": 104
    },
    {
     "cell_type": "code",
     "collapsed": false,
     "input": [
      "for sim in filter_simulations(sims,**current_sim):\n",
      "    sim.sync_input()"
     ],
     "language": "python",
     "metadata": {},
     "outputs": [
      {
       "output_type": "stream",
       "stream": "stdout",
       "text": [
        "===================================================\n",
        " Syncing Current Working Directory with Cluster \n",
        "===================================================\n"
       ]
      }
     ],
     "prompt_number": 66
    },
    {
     "cell_type": "code",
     "collapsed": false,
     "input": [
      "init = False\n",
      "depend = False\n",
      "restart = True\n",
      "endtime = 90\n",
      "\n",
      "#for temperature in [450,550,650]:\n",
      "for sim in filter_simulations(sims,temperature=700,inf=False,conj=True,steady=False):\n",
      "       sim.application.load      = \"source ~/.bashrc_boost\"\n",
      "       sim.init_application.load = \"source ~/.bashrc_boost\"  \n",
      "       sim.compile_init_application.load = \"source ~/.bashrc_boost\"  \n",
      "\n",
      "       sim.sync_input()\n",
      "       if init:\n",
      "           sim.compile_init(nproc=\"1\",memory=\"1024\",time='60') \n",
      "\n",
      "           sim.run_init(nproc=\"64\",memory=\"2048\",time='60',depend=True) \n",
      "           depend = True\n",
      "       sim.run_sim(nproc=\"64\",memory=\"2048\",time='480',njobs=4,restart=restart,depend=depend,endtime=endtime) "
     ],
     "language": "python",
     "metadata": {},
     "outputs": [
      {
       "output_type": "stream",
       "stream": "stdout",
       "text": [
        "===================================================\n",
        " Syncing Current Working Directory with Cluster \n",
        "===================================================\n",
        "==================================================="
       ]
      },
      {
       "output_type": "stream",
       "stream": "stdout",
       "text": [
        "\n",
        " Syncing Current Working Directory with Cluster \n",
        "===================================================\n",
        "==================================================="
       ]
      },
      {
       "output_type": "stream",
       "stream": "stdout",
       "text": [
        "\n",
        " Syncing Current Working Directory with Cluster \n",
        "===================================================\n",
        "bsub -n 1 -W 60 -R \"rusage[mem=2048]\" -J kelvin_cells_conjugate_700_unsteady -o post_command.log -e std_err.log   ./post_command.py "
       ]
      },
      {
       "output_type": "stream",
       "stream": "stdout",
       "text": [
        "\n",
        "Job <70660191> is submitted to queue <pub.1h>."
       ]
      },
      {
       "output_type": "stream",
       "stream": "stdout",
       "text": [
        "\n",
        "Generic job.\n",
        "source ~/.bashrc_boost; bsub -n 64 -W 480 -R \"rusage[mem=2048]\" -J kelvin_cells_conjugate_700_unsteady -o std_out.log -e std_err.log -w \"ended(kelvin_cells_conjugate_700_unsteady)\" mpirun ./transatmbDP -pc_hypre_boomeramg_max_iter -pc_hypre_boomeramg_coarsen_type HMIS -pc_hypre_boomeramg_interp_type ext+i -pc_hypre_boomeramg_P_max 4 -pc_hypre_boomeramg_strong_treshold 0 -pc_hypre_boomeramg_agg_nl 2\n",
        "Job <70660193> is submitted to queue <pub.8h>."
       ]
      },
      {
       "output_type": "stream",
       "stream": "stdout",
       "text": [
        "\n",
        "MPI job.\n",
        "bsub -n 1 -W 60 -R \"rusage[mem=2048]\" -J kelvin_cells_conjugate_700_unsteady -o post_command.log -e std_err.log -w \"ended(kelvin_cells_conjugate_700_unsteady)\"  ./post_command.py \n",
        "source ~/.bashrc_boost; bsub -n 64 -W 480 -R \"rusage[mem=2048]\" -J kelvin_cells_conjugate_700_unsteady -o std_out.log -e std_err.log -w \"ended(kelvin_cells_conjugate_700_unsteady)\" mpirun ./transatmbDP -pc_hypre_boomeramg_max_iter -pc_hypre_boomeramg_coarsen_type HMIS -pc_hypre_boomeramg_interp_type ext+i -pc_hypre_boomeramg_P_max 4 -pc_hypre_boomeramg_strong_treshold 0 -pc_hypre_boomeramg_agg_nl 2"
       ]
      },
      {
       "output_type": "stream",
       "stream": "stdout",
       "text": [
        "\n",
        "Job <70660195> is submitted to queue <pub.8h>."
       ]
      },
      {
       "output_type": "stream",
       "stream": "stdout",
       "text": [
        "\n",
        "MPI job.\n",
        "bsub -n 1 -W 60 -R \"rusage[mem=2048]\" -J kelvin_cells_conjugate_700_unsteady -o post_command.log -e std_err.log -w \"ended(kelvin_cells_conjugate_700_unsteady)\"  ./post_command.py \n",
        "source ~/.bashrc_boost; bsub -n 64 -W 480 -R \"rusage[mem=2048]\" -J kelvin_cells_conjugate_700_unsteady -o std_out.log -e std_err.log -w \"ended(kelvin_cells_conjugate_700_unsteady)\" mpirun ./transatmbDP -pc_hypre_boomeramg_max_iter -pc_hypre_boomeramg_coarsen_type HMIS -pc_hypre_boomeramg_interp_type ext+i -pc_hypre_boomeramg_P_max 4 -pc_hypre_boomeramg_strong_treshold 0 -pc_hypre_boomeramg_agg_nl 2"
       ]
      },
      {
       "output_type": "stream",
       "stream": "stdout",
       "text": [
        "\n",
        "Job <70660197> is submitted to queue <pub.8h>."
       ]
      },
      {
       "output_type": "stream",
       "stream": "stdout",
       "text": [
        "\n",
        "MPI job.\n",
        "bsub -n 1 -W 60 -R \"rusage[mem=2048]\" -J kelvin_cells_conjugate_700_unsteady -o post_command.log -e std_err.log -w \"ended(kelvin_cells_conjugate_700_unsteady)\"  ./post_command.py \n",
        "source ~/.bashrc_boost; bsub -n 64 -W 480 -R \"rusage[mem=2048]\" -J kelvin_cells_conjugate_700_unsteady -o std_out.log -e std_err.log -w \"ended(kelvin_cells_conjugate_700_unsteady)\" mpirun ./transatmbDP -pc_hypre_boomeramg_max_iter -pc_hypre_boomeramg_coarsen_type HMIS -pc_hypre_boomeramg_interp_type ext+i -pc_hypre_boomeramg_P_max 4 -pc_hypre_boomeramg_strong_treshold 0 -pc_hypre_boomeramg_agg_nl 2"
       ]
      },
      {
       "output_type": "stream",
       "stream": "stdout",
       "text": [
        "\n",
        "Job <70660199> is submitted to queue <pub.8h>."
       ]
      },
      {
       "output_type": "stream",
       "stream": "stdout",
       "text": [
        "\n",
        "MPI job.\n"
       ]
      }
     ],
     "prompt_number": 297
    },
    {
     "cell_type": "code",
     "collapsed": false,
     "input": [
      "filename = \"create_slices.py\" #\"postprocess.py\"\n",
      "#filename = \"slice_avg.py\" #\"postprocess.py\"\n",
      "#filename = \"full_3d.py\"\n",
      "#for sim in filter_simulations(sims,temperature=700,inf=False,steady=False,conj=True):\n",
      "for sim in filter_simulations(sims,steady=False):\n",
      "\n",
      "    sh.copy(filename,os.path.join(sim.info.local[\"sim_folder\"]))\n",
      "    sim.run_postprocess(filename,nproc=\"1\",memory=\"16000\")\n"
     ],
     "language": "python",
     "metadata": {},
     "outputs": [
      {
       "output_type": "stream",
       "stream": "stdout",
       "text": [
        "===================================================\n",
        " Syncing Current Working Directory with Cluster \n",
        "===================================================\n",
        "source $HOME/.bashrc_paraview; bsub -n 1 -W 60 -R \"rusage[mem=16000]\" -J kelvin_cells_conjugate_700_unsteady -o postprocess.out -e std_err.log  mpirun /cluster/home/mavt/vjan/ParaView-4.0.1-Linux-64bit/bin/pvbatch --use-offscreen-rendering create_slices.py"
       ]
      },
      {
       "output_type": "stream",
       "stream": "stdout",
       "text": [
        "\n"
       ]
      }
     ],
     "prompt_number": 273
    },
    {
     "cell_type": "code",
     "collapsed": false,
     "input": [
      "for sim in sims:\n",
      "    sim.sync_input()"
     ],
     "language": "python",
     "metadata": {},
     "outputs": [
      {
       "output_type": "stream",
       "stream": "stdout",
       "text": [
        "===================================================\n",
        " Syncing Current Working Directory with Cluster \n",
        "===================================================\n",
        "==================================================="
       ]
      },
      {
       "output_type": "stream",
       "stream": "stdout",
       "text": [
        "\n",
        " Syncing Current Working Directory with Cluster \n",
        "===================================================\n",
        "==================================================="
       ]
      },
      {
       "output_type": "stream",
       "stream": "stdout",
       "text": [
        "\n",
        " Syncing Current Working Directory with Cluster \n",
        "===================================================\n",
        "==================================================="
       ]
      },
      {
       "output_type": "stream",
       "stream": "stdout",
       "text": [
        "\n",
        " Syncing Current Working Directory with Cluster \n",
        "===================================================\n",
        "==================================================="
       ]
      },
      {
       "output_type": "stream",
       "stream": "stdout",
       "text": [
        "\n",
        " Syncing Current Working Directory with Cluster \n",
        "===================================================\n",
        "==================================================="
       ]
      },
      {
       "output_type": "stream",
       "stream": "stdout",
       "text": [
        "\n",
        " Syncing Current Working Directory with Cluster \n",
        "===================================================\n"
       ]
      }
     ],
     "prompt_number": 65
    },
    {
     "cell_type": "code",
     "collapsed": false,
     "input": [
      "sims[0].kill()"
     ],
     "language": "python",
     "metadata": {},
     "outputs": [
      {
       "output_type": "stream",
       "stream": "stdout",
       "text": [
        "Job <69284124> is being terminated\n"
       ]
      }
     ],
     "prompt_number": 32
    },
    {
     "cell_type": "code",
     "collapsed": false,
     "input": [
      "for sim in filter_simulations(sims):\n",
      "    sim.sync_result(\"processed\")\n",
      "    try:\n",
      "        sim.result = {}\n",
      "        sim.data = pic.load(open(os.path.join(sim.info.local[\"sim_folder\"],\"processed/slice_averages.dat\"))) \n",
      "    except:\n",
      "        print(\"failed to open: \" + sim.info.local[\"jobname\"])\n",
      "        sim.data= None\n",
      "        continue "
     ],
     "language": "python",
     "metadata": {},
     "outputs": [
      {
       "output_type": "stream",
       "stream": "stdout",
       "text": [
        "===================================================\n",
        " Syncing processed folder  with Cluster      \n",
        "===================================================\n",
        "==================================================="
       ]
      },
      {
       "output_type": "stream",
       "stream": "stdout",
       "text": [
        "\n",
        " Syncing processed folder  with Cluster      \n",
        "===================================================\n",
        "==================================================="
       ]
      },
      {
       "output_type": "stream",
       "stream": "stdout",
       "text": [
        "\n",
        " Syncing processed folder  with Cluster      \n",
        "===================================================\n",
        "==================================================="
       ]
      },
      {
       "output_type": "stream",
       "stream": "stdout",
       "text": [
        "\n",
        " Syncing processed folder  with Cluster      \n",
        "===================================================\n",
        "==================================================="
       ]
      },
      {
       "output_type": "stream",
       "stream": "stdout",
       "text": [
        "\n",
        " Syncing processed folder  with Cluster      \n",
        "===================================================\n",
        "==================================================="
       ]
      },
      {
       "output_type": "stream",
       "stream": "stdout",
       "text": [
        "\n",
        " Syncing processed folder  with Cluster      \n",
        "===================================================\n",
        "==================================================="
       ]
      },
      {
       "output_type": "stream",
       "stream": "stdout",
       "text": [
        "\n",
        " Syncing processed folder  with Cluster      \n",
        "===================================================\n",
        "==================================================="
       ]
      },
      {
       "output_type": "stream",
       "stream": "stdout",
       "text": [
        "\n",
        " Syncing processed folder  with Cluster      \n",
        "===================================================\n",
        "==================================================="
       ]
      },
      {
       "output_type": "stream",
       "stream": "stdout",
       "text": [
        "\n",
        " Syncing processed folder  with Cluster      \n",
        "===================================================\n",
        "==================================================="
       ]
      },
      {
       "output_type": "stream",
       "stream": "stdout",
       "text": [
        "\n",
        " Syncing processed folder  with Cluster      \n",
        "===================================================\n"
       ]
      }
     ],
     "prompt_number": 159
    },
    {
     "cell_type": "code",
     "collapsed": false,
     "input": [
      "x_coord = np.linspace(0,8*0.0023,9)\n",
      "fig = pl.figure(figsize=(16,9))\n",
      "ax = fig.add_subplot(1,1,1)\n",
      "for sim in filter_simulations(sims,conj=False,steady=True):\n",
      "    try:\n",
      "       sim.result[\"mf_avg\"] =   [(item[0][\"massflow_t_CO\"]/item[0][\"massflow\"])[0] for item in sim.data]\n",
      "       sh_number(sim,inflow_mf=True) \n",
      "    except:\n",
      "        print(\"failed to open: \" + sim.info.local[\"jobname\"])\n",
      "        continue\n",
      "\n",
      "    #pl.plot(data_dict[\"arc_length\"],data_dict[\"CO\"],label=\"Wall mass fraction\")\n",
      "    prop_list = [\"temperature\",\"inf\",\"conj\"]\n",
      "    label = \" \".join([str(sim.sim_info[prop]) for prop in prop_list])\n",
      "    pl.plot(x_coord,sim.result[\"mf_avg\"],label=label)\n",
      "\n",
      "temps = [500,600,700]\n",
      "temp_sims = [\"kelvin_cell_test_wc_\"+str(temp) for temp in temps]\n",
      "\n",
      "for folder,nx in zip([\"kelvin_cell_test\"] + temp_sims,[40,20,20,20]):\n",
      "    data_1d = []\n",
      "    for x_ind in range(nx):\n",
      "        data_1d.append(np.genfromtxt(\"/home/vonrickenbach/python_validation/\"+folder+\"/grid_\"+str(x_ind)+\"_0.dat\"))\n",
      "    data_1d = np.array(data_1d)\n",
      "\n",
      "    \n",
      "    L = 0.0023*8\n",
      "    x_coord_1d = np.linspace(L/(2*nx),L-L/(2*nx),nx)\n",
      "\n",
      "    pl.plot(x_coord_1d,data_1d[:,4,0],'o',label=\"1dsim\")\n",
      "\n",
      "ax = pl.gca()\n",
      "ax.set_xlabel(\"x (m)\")\n",
      "ax.set_ylabel(\"CO mass fraction (-)\")\n",
      "ax.legend()"
     ],
     "language": "python",
     "metadata": {},
     "outputs": [
      {
       "metadata": {},
       "output_type": "pyout",
       "prompt_number": 299,
       "text": [
        "<matplotlib.legend.Legend at 0x7fa8479eb710>"
       ]
      },
      {
       "metadata": {},
       "output_type": "display_data",
       "png": "[encoded data removed]",
       "text": [
        "<matplotlib.figure.Figure at 0x7fa84755e0d0>"
       ]
      }
     ],
     "prompt_number": 299
    },
    {
     "cell_type": "code",
     "collapsed": false,
     "input": [
      "for sim in filter_simulations(sims,steady=True,temperature=650):\n",
      "     sim.kill()"
     ],
     "language": "python",
     "metadata": {},
     "outputs": [
      {
       "output_type": "stream",
       "stream": "stdout",
       "text": [
        "Job <kelvin_cells_650> is not found\n"
       ]
      }
     ],
     "prompt_number": 220
    },
    {
     "cell_type": "code",
     "collapsed": false,
     "input": [
      "fig,ax = pl.subplots()\n",
      "\n",
      "def get_conv(sim):\n",
      "    try:\n",
      "        return 1-[item[0][\"massflow_t_CO\"]/item[0][\"massflow\"] for item in sim.data][-1][0]/0.003\n",
      "    except:\n",
      "        return 0.0\n",
      "def get_var(sim,var):\n",
      "    return sim.sim_info[var]\n",
      "\n",
      "sim_to_plot = filter_simulations(sims,steady=True,inf=False,conj=False)\n",
      "print(get_array(sim_to_plot,get_var,\"temperature\"))\n",
      "print(get_array(sim_to_plot,get_conv))\n",
      "\n",
      "ax.plot(get_array(sim_to_plot,get_var,\"temperature\"),get_array(sim_to_plot,get_conv))\n"
     ],
     "language": "python",
     "metadata": {},
     "outputs": [
      {
       "output_type": "stream",
       "stream": "stdout",
       "text": [
        "[400 450 500 550 600 650 700]\n",
        "[ 0.10261333  0.10262044  0.26089285  0.76909179  0.84805269  0.86614878\n",
        "  0.89279505]\n"
       ]
      },
      {
       "metadata": {},
       "output_type": "pyout",
       "prompt_number": 237,
       "text": [
        "[<matplotlib.lines.Line2D at 0x7fa84c50e050>]"
       ]
      },
      {
       "metadata": {},
       "output_type": "display_data",
       "png": "[encoded data removed]",
       "text": [
        "<matplotlib.figure.Figure at 0x7fa84c131b90>"
       ]
      }
     ],
     "prompt_number": 237
    },
    {
     "cell_type": "code",
     "collapsed": false,
     "input": [
      "for sim in filter_simulations(sims,inf=True):\n",
      "    print(sim.result[\"sh_numbers\"])"
     ],
     "language": "python",
     "metadata": {},
     "outputs": [
      {
       "output_type": "stream",
       "stream": "stdout",
       "text": [
        "[18.078888233908479, 14.301411039276944, 14.280826407371038, 14.28223764267762, 14.260016175768211, 14.248031674512237, 14.283208493843755]\n"
       ]
      }
     ],
     "prompt_number": 217
    },
    {
     "cell_type": "code",
     "collapsed": false,
     "input": [
      "for sim in filter_simulations(sims,inf=True):\n",
      "   print(sim.sim_info[\"surf_to_volume\"])"
     ],
     "language": "python",
     "metadata": {},
     "outputs": [
      {
       "output_type": "stream",
       "stream": "stdout",
       "text": [
        "1154.20009408\n"
       ]
      }
     ],
     "prompt_number": 223
    },
    {
     "cell_type": "code",
     "collapsed": false,
     "input": [],
     "language": "python",
     "metadata": {},
     "outputs": []
    }
   ],
   "metadata": {}
  }
 ]
}