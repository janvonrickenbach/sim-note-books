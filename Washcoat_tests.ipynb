{
 "metadata": {
  "name": "",
  "signature": "sha256:4ea7564bec809d983b788031d4f6de79117edff4ce31dde6c6f2aae971f07e6b"
 },
 "nbformat": 3,
 "nbformat_minor": 0,
 "worksheets": [
  {
   "cells": [
    {
     "cell_type": "code",
     "collapsed": false,
     "input": [
      "import os\n",
      "import glob as gl\n",
      "import simulation_brutus as sim_brutus\n",
      "import job_configurations as jc\n",
      "import matplotlib.pyplot as pl\n",
      "import pickle as pic\n",
      "\n",
      "\n",
      "import subprocess as sp\n",
      "import initial_condition_writer as ini\n",
      "import shutil as sh\n",
      "\n",
      "\n",
      "import para_reader as pa\n",
      "from IPython.display import Image,display\n",
      "%matplotlib inline\n"
     ],
     "language": "python",
     "metadata": {},
     "outputs": [
      {
       "output_type": "stream",
       "stream": "stdout",
       "text": [
        "paraview version 3.98.1-79-g52cc6ea\n"
       ]
      }
     ],
     "prompt_number": 1
    },
    {
     "cell_type": "code",
     "collapsed": false,
     "input": [
      "%%file write_pictures.py\n",
      "\n",
      "from paraview.simple import *\n",
      "from para_reader import *\n",
      "import os\n",
      "\n",
      "try:\n",
      "    os.mkdir(\"processed\")\n",
      "except:\n",
      "    print(\"directory exists already\")\n",
      "\n",
      "outputname=  os.path.join(\"processed\",\"unstructured.vtu\")\n",
      "\n",
      "rewrite_as_unstructured(get_last_modified(),outputname)\n",
      "\n",
      "print(outputname)\n",
      "\n",
      "        "
     ],
     "language": "python",
     "metadata": {},
     "outputs": [
      {
       "output_type": "stream",
       "stream": "stdout",
       "text": [
        "Overwriting write_pictures.py\n"
       ]
      }
     ],
     "prompt_number": 10
    },
    {
     "cell_type": "code",
     "collapsed": false,
     "input": [
      "%%file line_avg.py\n",
      "\n",
      "from paraview.simple import *\n",
      "from para_reader import *\n",
      "import pickle as pic\n",
      "import os\n",
      "\n",
      "name = get_last_modified()\n",
      "print(name)\n",
      "    \n",
      "data_file = OpenDataFile(name)\n",
      "\n",
      "print(\"Reading file \", data_file)\n",
      "\n",
      "avg_var =[]\n",
      "\n",
      "PlotOverLine1 = PlotOverLine(data_file)\n",
      "\n",
      "PlotOverLine1.Source.Point1 = [0.0039, 0.0001, 0.00005]\n",
      "PlotOverLine1.Source.Point2 = [0.0039, 0.0039, 0.00005]\n",
      "massflow_weight_T    = [\"Cp\",\"DEN\",'BMR_I',\"HembI\"]\n",
      "massflow_weight_Y    = [\"DEN\",'HembI','BMR_I',\"U\"]\n",
      "\n",
      "avg_Y = massflow_avg(PlotOverLine1,massflow_weight_Y,\"C3H6\",cell=False)\n",
      "avg_T = massflow_avg(PlotOverLine1,massflow_weight_T,\"T\",cell=False)\n",
      "\n",
      "avg_var.append([avg_Y, avg_T])\n",
      " # Delete(current_slice)\n",
      "try:\n",
      "    os.mkdir(\"processed\")\n",
      "except:\n",
      "    print(\"directory exists already\")\n",
      "pickle_file = \"processed/slice_averages.dat\"\n",
      "f = open(pickle_file,'w')\n",
      "pic.dump(avg_var,f)\n",
      "f.close()"
     ],
     "language": "python",
     "metadata": {},
     "outputs": [
      {
       "output_type": "stream",
       "stream": "stdout",
       "text": [
        "Overwriting line_avg.py\n"
       ]
      }
     ],
     "prompt_number": 152
    },
    {
     "cell_type": "code",
     "collapsed": false,
     "input": [
      "jc.configuration_brutus"
     ],
     "language": "python",
     "metadata": {},
     "outputs": [
      {
       "metadata": {},
       "output_type": "pyout",
       "prompt_number": 3,
       "text": [
        "{'cluster_home': '/cluster/home/mavt/vjan/',\n",
        " 'cluster_scratch': '/cluster/scratch_xl/public/vjan/',\n",
        " 'has_remote': True,\n",
        " 'host': 'brutus.ethz.ch',\n",
        " 'jobname': 'ipython_notebooks',\n",
        " 'paraview_executable': None,\n",
        " 'queue': 'lsf',\n",
        " 'root_folder': '.',\n",
        " 'transat_executable': None,\n",
        " 'transat_init_executable': None,\n",
        " 'transat_version': 'MB',\n",
        " 'username': 'vjan'}"
       ]
      }
     ],
     "prompt_number": 3
    },
    {
     "cell_type": "code",
     "collapsed": false,
     "input": [
      "folders = gl.glob(\"cylinder*\")\n"
     ],
     "language": "python",
     "metadata": {},
     "outputs": [],
     "prompt_number": 4
    },
    {
     "cell_type": "code",
     "collapsed": false,
     "input": [
      "def create_simulation(massfraction,velocity,temperature,washcoat_thickness,conjugate,res,folder,root_folder=\".\"):\n",
      "\n",
      "    ref_folder = \"/home/vonrickenbach/testcases_mb/kelvin_cell_final/cylinder_tests/reference_cases/cylinder_finite_with_ui\"\n",
      "    try:\n",
      "        sh.copytree(ref_folder,os.path.join(root_folder,folder))\n",
      "    \n",
      "    except:\n",
      "        print(\"directory exists\")\n",
      " \n",
      "\n",
      "    config_sim = jc.configuration_brutus\n",
      "    config_sim[\"jobname\"] = folder\n",
      "    config_sim[\"root_folder\"] = root_folder\n",
      "    config_sim[\"cluster_scratch\"]='/cluster/scratch_xl/public/vjan/cylinder_tests'\n",
      "    simulation = sim_brutus.job(**config_sim)\n",
      "\n",
      "    sh.copy(os.path.join(os.path.join(root_folder,ref_folder),\"transat_mb.inp\"),os.path.join(root_folder,folder))\n",
      "    simulation.application.change_input(\"cornerpoint_number  101\",res,newline=\"cornerpoint_number \"+res +\"\\n\",filename=\"surf_reaction_kelvin.stt\")        \n",
      "    transatui_command = []\n",
      "    transatui_command.append(\"transatui.py\")\n",
      "    transatui_command.append(\"--Project=surf_reaction_kelvin.stt\")\n",
      "    transatui_command.append(\"--Graphics=bash\")\n",
      "    ui=sp.Popen(transatui_command,cwd=os.path.join(root_folder,folder),stdout=open(\"ui_output.out\",\"a\"))\n",
      "    ui.communicate() \n",
      "    \n",
      "    \n",
      "    \n",
      "    write_inital_conditions(os.path.join(root_folder,folder),massfraction,velocity,temperature)\n",
      "    simulation.application.change_input(\"data_format\",'\\\"paraview_cell\\\"')\n",
      "    simulation.application.change_input(\"compressible\",'.true.')\n",
      "    simulation.application.change_input(\"wc_thickness\",str(washcoat_thickness))\n",
      "    simulation.application.change_input(\"activate_chem_heat_src\",'.true.')\n",
      "    simulation.application.change_input(\"mf_subiter\",'2')\n",
      "    simulation.application.change_input(\"mfiterations\",'4')\n",
      "    simulation.application.change_input(\"surface_coverage\",'1.0',filename=\"properties.dat\")\n",
      "    simulation.application.change_input( \"nitnsimpl\",'50')\n",
      "\n",
      "    if conjugate:\n",
      "       simulation.application.change_input(\"temp_model\",'\\\"conjugate\\\"',filename=\"properties.dat\")\n",
      "       simulation.application.change_input(\"density\",'3500',filename=\"properties.dat\")\n",
      "       simulation.application.change_input(\"conductivity\",'25.6',filename=\"properties.dat\")\n",
      "       simulation.application.change_input(\"heatcapacity\",'795',filename=\"properties.dat\")\n",
      "       simulation.application.change_input(\"surface_coverage\",'1.0',filename=\"properties.dat\")\n",
      "\n",
      "    sim_info = {}\n",
      "    sim_info[\"wc_thickness\"] = washcoat_thickness\n",
      "    sim_info[\"temperature\"]  = temperature\n",
      "    sim_info[\"conjugate\"]  = conjugate\n",
      "    sim_info[\"res\"]  = res\n",
      "    simulation.sim_info = sim_info\n",
      "\n",
      "\n",
      "    return simulation\n"
     ],
     "language": "python",
     "metadata": {},
     "outputs": [],
     "prompt_number": 10
    },
    {
     "cell_type": "code",
     "collapsed": false,
     "input": [
      "sp."
     ],
     "language": "python",
     "metadata": {},
     "outputs": [],
     "prompt_number": 42
    },
    {
     "cell_type": "code",
     "collapsed": false,
     "input": [
      "def write_inital_conditions(folder,massfraction,velocity,temperature):\n",
      "\n",
      "    writer = ini.initalconditions_writer()\n",
      "    writer.add_variable(\"uvelocity\",velocity)\n",
      "    writer.add_variable(\"temperature\",temperature)\n",
      "    \n",
      "    for key,item in massfraction.iteritems():\n",
      "        writer.add_variable(var=\"component_molefraction\",value=item[0],index=item[1])\n",
      "        \n",
      "    writer.write_file(folder)"
     ],
     "language": "python",
     "metadata": {},
     "outputs": [],
     "prompt_number": 4
    },
    {
     "cell_type": "code",
     "collapsed": false,
     "input": [
      "sim_list = []\n",
      "temperatures = [600,650,700]\n",
      "wc_thickness = [-1,0.00001,0.00002]\n",
      "massfraction = {}\n",
      "massfraction[\"C3H6\"] = [0.003, [0,0]]\n",
      "massfraction[\"O2\"]   = [0.1,   [0,1]] \n",
      "massfraction[\"CO2\"]  = [0.064, [0,2]]\n",
      "massfraction[\"H2O\"]  = [0.072, [0,3]]\n",
      "massfraction[\"N2\"]   = [0.76,  [0,4]]\n",
      "massfraction[\"CO\"]   = [0.003, [0,5]]\n",
      "\n",
      "velocity = 5\n",
      "root_folder = \"/home/vonrickenbach/testcases_mb/kelvin_cell_final/cylinder_tests/\"\n",
      "\n",
      "resolutions = [\"67\",\"100\"]\n",
      "for temp in temperatures:\n",
      "    for washcoat_thickness in wc_thickness:\n",
      "        for conjugate in [True,False]:\n",
      "            for res in resolutions:\n",
      "                folder = \"_\".join([str(temp),str(washcoat_thickness),\"conjugate-\"+str(conjugate),res])\n",
      "                sim_list.append(create_simulation(massfraction,velocity,temp,washcoat_thickness,conjugate,res,folder,root_folder=root_folder))"
     ],
     "language": "python",
     "metadata": {},
     "outputs": [
      {
       "output_type": "stream",
       "stream": "stdout",
       "text": [
        "bash: line 0: cd: /cluster/scratch_xl/public/vjan/cylinder_tests/600_-1_conjugate-True_34: No such file or directory\n",
        "===============================================\n",
        "username        vjan                                    \n",
        "scratch         /cluster/scratch_xl/public/vjan/cylinder_tests\n",
        "host            brutus.ethz.ch                          \n",
        "ssh             vjan@brutus.ethz.ch:/cluster/scratch_xl/public/vjan/cylinder_tests/600_-1_conjugate-True_34\n",
        "dir             /cluster/scratch_xl/public/vjan/cylinder_tests/600_-1_conjugate-True_34\n",
        "project_name    surf_reaction_kelvin                    \n",
        "sim_folder      /home/vonrickenbach/testcases_mb/kelvin_cell_final/cylinder_tests/600_-1_conjugate-True_34\n",
        "jobname         600_-1_conjugate-True_34                \n",
        "===============================================\n",
        "bash: line 0: cd: /cluster/scratch_xl/public/vjan/cylinder_tests/600_-1_conjugate-True_67: No such file or directory"
       ]
      },
      {
       "output_type": "stream",
       "stream": "stdout",
       "text": [
        "\n",
        "===============================================\n",
        "username        vjan                                    \n",
        "scratch         /cluster/scratch_xl/public/vjan/cylinder_tests\n",
        "host            brutus.ethz.ch                          \n",
        "ssh             vjan@brutus.ethz.ch:/cluster/scratch_xl/public/vjan/cylinder_tests/600_-1_conjugate-True_67\n",
        "dir             /cluster/scratch_xl/public/vjan/cylinder_tests/600_-1_conjugate-True_67\n",
        "project_name    surf_reaction_kelvin                    \n",
        "sim_folder      /home/vonrickenbach/testcases_mb/kelvin_cell_final/cylinder_tests/600_-1_conjugate-True_67\n",
        "jobname         600_-1_conjugate-True_67                \n",
        "===============================================\n",
        "bash: line 0: cd: /cluster/scratch_xl/public/vjan/cylinder_tests/600_-1_conjugate-True_100: No such file or directory"
       ]
      },
      {
       "output_type": "stream",
       "stream": "stdout",
       "text": [
        "\n",
        "===============================================\n",
        "username        vjan                                    \n",
        "scratch         /cluster/scratch_xl/public/vjan/cylinder_tests\n",
        "host            brutus.ethz.ch                          \n",
        "ssh             vjan@brutus.ethz.ch:/cluster/scratch_xl/public/vjan/cylinder_tests/600_-1_conjugate-True_100\n",
        "dir             /cluster/scratch_xl/public/vjan/cylinder_tests/600_-1_conjugate-True_100\n",
        "project_name    surf_reaction_kelvin                    \n",
        "sim_folder      /home/vonrickenbach/testcases_mb/kelvin_cell_final/cylinder_tests/600_-1_conjugate-True_100\n",
        "jobname         600_-1_conjugate-True_100               \n",
        "===============================================\n",
        "bash: line 0: cd: /cluster/scratch_xl/public/vjan/cylinder_tests/600_-1_conjugate-False_34: No such file or directory"
       ]
      },
      {
       "output_type": "stream",
       "stream": "stdout",
       "text": [
        "\n",
        "===============================================\n",
        "username        vjan                                    \n",
        "scratch         /cluster/scratch_xl/public/vjan/cylinder_tests\n",
        "host            brutus.ethz.ch                          \n",
        "ssh             vjan@brutus.ethz.ch:/cluster/scratch_xl/public/vjan/cylinder_tests/600_-1_conjugate-False_34\n",
        "dir             /cluster/scratch_xl/public/vjan/cylinder_tests/600_-1_conjugate-False_34\n",
        "project_name    surf_reaction_kelvin                    \n",
        "sim_folder      /home/vonrickenbach/testcases_mb/kelvin_cell_final/cylinder_tests/600_-1_conjugate-False_34\n",
        "jobname         600_-1_conjugate-False_34               \n",
        "===============================================\n",
        "bash: line 0: cd: /cluster/scratch_xl/public/vjan/cylinder_tests/600_-1_conjugate-False_67: No such file or directory"
       ]
      },
      {
       "output_type": "stream",
       "stream": "stdout",
       "text": [
        "\n",
        "===============================================\n",
        "username        vjan                                    \n",
        "scratch         /cluster/scratch_xl/public/vjan/cylinder_tests\n",
        "host            brutus.ethz.ch                          \n",
        "ssh             vjan@brutus.ethz.ch:/cluster/scratch_xl/public/vjan/cylinder_tests/600_-1_conjugate-False_67\n",
        "dir             /cluster/scratch_xl/public/vjan/cylinder_tests/600_-1_conjugate-False_67\n",
        "project_name    surf_reaction_kelvin                    \n",
        "sim_folder      /home/vonrickenbach/testcases_mb/kelvin_cell_final/cylinder_tests/600_-1_conjugate-False_67\n",
        "jobname         600_-1_conjugate-False_67               \n",
        "===============================================\n",
        "bash: line 0: cd: /cluster/scratch_xl/public/vjan/cylinder_tests/600_-1_conjugate-False_100: No such file or directory"
       ]
      },
      {
       "output_type": "stream",
       "stream": "stdout",
       "text": [
        "\n",
        "===============================================\n",
        "username        vjan                                    \n",
        "scratch         /cluster/scratch_xl/public/vjan/cylinder_tests\n",
        "host            brutus.ethz.ch                          \n",
        "ssh             vjan@brutus.ethz.ch:/cluster/scratch_xl/public/vjan/cylinder_tests/600_-1_conjugate-False_100\n",
        "dir             /cluster/scratch_xl/public/vjan/cylinder_tests/600_-1_conjugate-False_100\n",
        "project_name    surf_reaction_kelvin                    \n",
        "sim_folder      /home/vonrickenbach/testcases_mb/kelvin_cell_final/cylinder_tests/600_-1_conjugate-False_100\n",
        "jobname         600_-1_conjugate-False_100              \n",
        "===============================================\n",
        "bash: line 0: cd: /cluster/scratch_xl/public/vjan/cylinder_tests/600_1e-05_conjugate-True_34: No such file or directory"
       ]
      },
      {
       "output_type": "stream",
       "stream": "stdout",
       "text": [
        "\n",
        "===============================================\n",
        "username        vjan                                    \n",
        "scratch         /cluster/scratch_xl/public/vjan/cylinder_tests\n",
        "host            brutus.ethz.ch                          \n",
        "ssh             vjan@brutus.ethz.ch:/cluster/scratch_xl/public/vjan/cylinder_tests/600_1e-05_conjugate-True_34\n",
        "dir             /cluster/scratch_xl/public/vjan/cylinder_tests/600_1e-05_conjugate-True_34\n",
        "project_name    surf_reaction_kelvin                    \n",
        "sim_folder      /home/vonrickenbach/testcases_mb/kelvin_cell_final/cylinder_tests/600_1e-05_conjugate-True_34\n",
        "jobname         600_1e-05_conjugate-True_34             \n",
        "===============================================\n",
        "bash: line 0: cd: /cluster/scratch_xl/public/vjan/cylinder_tests/600_1e-05_conjugate-True_67: No such file or directory"
       ]
      },
      {
       "output_type": "stream",
       "stream": "stdout",
       "text": [
        "\n",
        "===============================================\n",
        "username        vjan                                    \n",
        "scratch         /cluster/scratch_xl/public/vjan/cylinder_tests\n",
        "host            brutus.ethz.ch                          \n",
        "ssh             vjan@brutus.ethz.ch:/cluster/scratch_xl/public/vjan/cylinder_tests/600_1e-05_conjugate-True_67\n",
        "dir             /cluster/scratch_xl/public/vjan/cylinder_tests/600_1e-05_conjugate-True_67\n",
        "project_name    surf_reaction_kelvin                    \n",
        "sim_folder      /home/vonrickenbach/testcases_mb/kelvin_cell_final/cylinder_tests/600_1e-05_conjugate-True_67\n",
        "jobname         600_1e-05_conjugate-True_67             \n",
        "===============================================\n",
        "bash: line 0: cd: /cluster/scratch_xl/public/vjan/cylinder_tests/600_1e-05_conjugate-True_100: No such file or directory"
       ]
      },
      {
       "output_type": "stream",
       "stream": "stdout",
       "text": [
        "\n",
        "===============================================\n",
        "username        vjan                                    \n",
        "scratch         /cluster/scratch_xl/public/vjan/cylinder_tests\n",
        "host            brutus.ethz.ch                          \n",
        "ssh             vjan@brutus.ethz.ch:/cluster/scratch_xl/public/vjan/cylinder_tests/600_1e-05_conjugate-True_100\n",
        "dir             /cluster/scratch_xl/public/vjan/cylinder_tests/600_1e-05_conjugate-True_100\n",
        "project_name    surf_reaction_kelvin                    \n",
        "sim_folder      /home/vonrickenbach/testcases_mb/kelvin_cell_final/cylinder_tests/600_1e-05_conjugate-True_100\n",
        "jobname         600_1e-05_conjugate-True_100            \n",
        "===============================================\n",
        "bash: line 0: cd: /cluster/scratch_xl/public/vjan/cylinder_tests/600_1e-05_conjugate-False_34: No such file or directory"
       ]
      },
      {
       "output_type": "stream",
       "stream": "stdout",
       "text": [
        "\n",
        "===============================================\n",
        "username        vjan                                    \n",
        "scratch         /cluster/scratch_xl/public/vjan/cylinder_tests\n",
        "host            brutus.ethz.ch                          \n",
        "ssh             vjan@brutus.ethz.ch:/cluster/scratch_xl/public/vjan/cylinder_tests/600_1e-05_conjugate-False_34\n",
        "dir             /cluster/scratch_xl/public/vjan/cylinder_tests/600_1e-05_conjugate-False_34\n",
        "project_name    surf_reaction_kelvin                    \n",
        "sim_folder      /home/vonrickenbach/testcases_mb/kelvin_cell_final/cylinder_tests/600_1e-05_conjugate-False_34\n",
        "jobname         600_1e-05_conjugate-False_34            \n",
        "===============================================\n",
        "bash: line 0: cd: /cluster/scratch_xl/public/vjan/cylinder_tests/600_1e-05_conjugate-False_67: No such file or directory"
       ]
      },
      {
       "output_type": "stream",
       "stream": "stdout",
       "text": [
        "\n",
        "===============================================\n",
        "username        vjan                                    \n",
        "scratch         /cluster/scratch_xl/public/vjan/cylinder_tests\n",
        "host            brutus.ethz.ch                          \n",
        "ssh             vjan@brutus.ethz.ch:/cluster/scratch_xl/public/vjan/cylinder_tests/600_1e-05_conjugate-False_67\n",
        "dir             /cluster/scratch_xl/public/vjan/cylinder_tests/600_1e-05_conjugate-False_67\n",
        "project_name    surf_reaction_kelvin                    \n",
        "sim_folder      /home/vonrickenbach/testcases_mb/kelvin_cell_final/cylinder_tests/600_1e-05_conjugate-False_67\n",
        "jobname         600_1e-05_conjugate-False_67            \n",
        "===============================================\n",
        "bash: line 0: cd: /cluster/scratch_xl/public/vjan/cylinder_tests/600_1e-05_conjugate-False_100: No such file or directory"
       ]
      },
      {
       "output_type": "stream",
       "stream": "stdout",
       "text": [
        "\n",
        "===============================================\n",
        "username        vjan                                    \n",
        "scratch         /cluster/scratch_xl/public/vjan/cylinder_tests\n",
        "host            brutus.ethz.ch                          \n",
        "ssh             vjan@brutus.ethz.ch:/cluster/scratch_xl/public/vjan/cylinder_tests/600_1e-05_conjugate-False_100\n",
        "dir             /cluster/scratch_xl/public/vjan/cylinder_tests/600_1e-05_conjugate-False_100\n",
        "project_name    surf_reaction_kelvin                    \n",
        "sim_folder      /home/vonrickenbach/testcases_mb/kelvin_cell_final/cylinder_tests/600_1e-05_conjugate-False_100\n",
        "jobname         600_1e-05_conjugate-False_100           \n",
        "===============================================\n",
        "bash: line 0: cd: /cluster/scratch_xl/public/vjan/cylinder_tests/600_2e-05_conjugate-True_34: No such file or directory"
       ]
      },
      {
       "output_type": "stream",
       "stream": "stdout",
       "text": [
        "\n",
        "===============================================\n",
        "username        vjan                                    \n",
        "scratch         /cluster/scratch_xl/public/vjan/cylinder_tests\n",
        "host            brutus.ethz.ch                          \n",
        "ssh             vjan@brutus.ethz.ch:/cluster/scratch_xl/public/vjan/cylinder_tests/600_2e-05_conjugate-True_34\n",
        "dir             /cluster/scratch_xl/public/vjan/cylinder_tests/600_2e-05_conjugate-True_34\n",
        "project_name    surf_reaction_kelvin                    \n",
        "sim_folder      /home/vonrickenbach/testcases_mb/kelvin_cell_final/cylinder_tests/600_2e-05_conjugate-True_34\n",
        "jobname         600_2e-05_conjugate-True_34             \n",
        "===============================================\n",
        "bash: line 0: cd: /cluster/scratch_xl/public/vjan/cylinder_tests/600_2e-05_conjugate-True_67: No such file or directory"
       ]
      },
      {
       "output_type": "stream",
       "stream": "stdout",
       "text": [
        "\n",
        "===============================================\n",
        "username        vjan                                    \n",
        "scratch         /cluster/scratch_xl/public/vjan/cylinder_tests\n",
        "host            brutus.ethz.ch                          \n",
        "ssh             vjan@brutus.ethz.ch:/cluster/scratch_xl/public/vjan/cylinder_tests/600_2e-05_conjugate-True_67\n",
        "dir             /cluster/scratch_xl/public/vjan/cylinder_tests/600_2e-05_conjugate-True_67\n",
        "project_name    surf_reaction_kelvin                    \n",
        "sim_folder      /home/vonrickenbach/testcases_mb/kelvin_cell_final/cylinder_tests/600_2e-05_conjugate-True_67\n",
        "jobname         600_2e-05_conjugate-True_67             \n",
        "===============================================\n",
        "bash: line 0: cd: /cluster/scratch_xl/public/vjan/cylinder_tests/600_2e-05_conjugate-True_100: No such file or directory"
       ]
      },
      {
       "output_type": "stream",
       "stream": "stdout",
       "text": [
        "\n",
        "===============================================\n",
        "username        vjan                                    \n",
        "scratch         /cluster/scratch_xl/public/vjan/cylinder_tests\n",
        "host            brutus.ethz.ch                          \n",
        "ssh             vjan@brutus.ethz.ch:/cluster/scratch_xl/public/vjan/cylinder_tests/600_2e-05_conjugate-True_100\n",
        "dir             /cluster/scratch_xl/public/vjan/cylinder_tests/600_2e-05_conjugate-True_100\n",
        "project_name    surf_reaction_kelvin                    \n",
        "sim_folder      /home/vonrickenbach/testcases_mb/kelvin_cell_final/cylinder_tests/600_2e-05_conjugate-True_100\n",
        "jobname         600_2e-05_conjugate-True_100            \n",
        "===============================================\n",
        "bash: line 0: cd: /cluster/scratch_xl/public/vjan/cylinder_tests/600_2e-05_conjugate-False_34: No such file or directory"
       ]
      },
      {
       "output_type": "stream",
       "stream": "stdout",
       "text": [
        "\n",
        "===============================================\n",
        "username        vjan                                    \n",
        "scratch         /cluster/scratch_xl/public/vjan/cylinder_tests\n",
        "host            brutus.ethz.ch                          \n",
        "ssh             vjan@brutus.ethz.ch:/cluster/scratch_xl/public/vjan/cylinder_tests/600_2e-05_conjugate-False_34\n",
        "dir             /cluster/scratch_xl/public/vjan/cylinder_tests/600_2e-05_conjugate-False_34\n",
        "project_name    surf_reaction_kelvin                    \n",
        "sim_folder      /home/vonrickenbach/testcases_mb/kelvin_cell_final/cylinder_tests/600_2e-05_conjugate-False_34\n",
        "jobname         600_2e-05_conjugate-False_34            \n",
        "===============================================\n",
        "bash: line 0: cd: /cluster/scratch_xl/public/vjan/cylinder_tests/600_2e-05_conjugate-False_67: No such file or directory"
       ]
      },
      {
       "output_type": "stream",
       "stream": "stdout",
       "text": [
        "\n",
        "===============================================\n",
        "username        vjan                                    \n",
        "scratch         /cluster/scratch_xl/public/vjan/cylinder_tests\n",
        "host            brutus.ethz.ch                          \n",
        "ssh             vjan@brutus.ethz.ch:/cluster/scratch_xl/public/vjan/cylinder_tests/600_2e-05_conjugate-False_67\n",
        "dir             /cluster/scratch_xl/public/vjan/cylinder_tests/600_2e-05_conjugate-False_67\n",
        "project_name    surf_reaction_kelvin                    \n",
        "sim_folder      /home/vonrickenbach/testcases_mb/kelvin_cell_final/cylinder_tests/600_2e-05_conjugate-False_67\n",
        "jobname         600_2e-05_conjugate-False_67            \n",
        "===============================================\n",
        "bash: line 0: cd: /cluster/scratch_xl/public/vjan/cylinder_tests/600_2e-05_conjugate-False_100: No such file or directory"
       ]
      },
      {
       "output_type": "stream",
       "stream": "stdout",
       "text": [
        "\n",
        "===============================================\n",
        "username        vjan                                    \n",
        "scratch         /cluster/scratch_xl/public/vjan/cylinder_tests\n",
        "host            brutus.ethz.ch                          \n",
        "ssh             vjan@brutus.ethz.ch:/cluster/scratch_xl/public/vjan/cylinder_tests/600_2e-05_conjugate-False_100\n",
        "dir             /cluster/scratch_xl/public/vjan/cylinder_tests/600_2e-05_conjugate-False_100\n",
        "project_name    surf_reaction_kelvin                    \n",
        "sim_folder      /home/vonrickenbach/testcases_mb/kelvin_cell_final/cylinder_tests/600_2e-05_conjugate-False_100\n",
        "jobname         600_2e-05_conjugate-False_100           \n",
        "===============================================\n",
        "bash: line 0: cd: /cluster/scratch_xl/public/vjan/cylinder_tests/650_-1_conjugate-True_34: No such file or directory"
       ]
      },
      {
       "output_type": "stream",
       "stream": "stdout",
       "text": [
        "\n",
        "===============================================\n",
        "username        vjan                                    \n",
        "scratch         /cluster/scratch_xl/public/vjan/cylinder_tests\n",
        "host            brutus.ethz.ch                          \n",
        "ssh             vjan@brutus.ethz.ch:/cluster/scratch_xl/public/vjan/cylinder_tests/650_-1_conjugate-True_34\n",
        "dir             /cluster/scratch_xl/public/vjan/cylinder_tests/650_-1_conjugate-True_34\n",
        "project_name    surf_reaction_kelvin                    \n",
        "sim_folder      /home/vonrickenbach/testcases_mb/kelvin_cell_final/cylinder_tests/650_-1_conjugate-True_34\n",
        "jobname         650_-1_conjugate-True_34                \n",
        "===============================================\n",
        "bash: line 0: cd: /cluster/scratch_xl/public/vjan/cylinder_tests/650_-1_conjugate-True_67: No such file or directory"
       ]
      },
      {
       "output_type": "stream",
       "stream": "stdout",
       "text": [
        "\n",
        "===============================================\n",
        "username        vjan                                    \n",
        "scratch         /cluster/scratch_xl/public/vjan/cylinder_tests\n",
        "host            brutus.ethz.ch                          \n",
        "ssh             vjan@brutus.ethz.ch:/cluster/scratch_xl/public/vjan/cylinder_tests/650_-1_conjugate-True_67\n",
        "dir             /cluster/scratch_xl/public/vjan/cylinder_tests/650_-1_conjugate-True_67\n",
        "project_name    surf_reaction_kelvin                    \n",
        "sim_folder      /home/vonrickenbach/testcases_mb/kelvin_cell_final/cylinder_tests/650_-1_conjugate-True_67\n",
        "jobname         650_-1_conjugate-True_67                \n",
        "===============================================\n",
        "bash: line 0: cd: /cluster/scratch_xl/public/vjan/cylinder_tests/650_-1_conjugate-True_100: No such file or directory"
       ]
      },
      {
       "output_type": "stream",
       "stream": "stdout",
       "text": [
        "\n",
        "===============================================\n",
        "username        vjan                                    \n",
        "scratch         /cluster/scratch_xl/public/vjan/cylinder_tests\n",
        "host            brutus.ethz.ch                          \n",
        "ssh             vjan@brutus.ethz.ch:/cluster/scratch_xl/public/vjan/cylinder_tests/650_-1_conjugate-True_100\n",
        "dir             /cluster/scratch_xl/public/vjan/cylinder_tests/650_-1_conjugate-True_100\n",
        "project_name    surf_reaction_kelvin                    \n",
        "sim_folder      /home/vonrickenbach/testcases_mb/kelvin_cell_final/cylinder_tests/650_-1_conjugate-True_100\n",
        "jobname         650_-1_conjugate-True_100               \n",
        "===============================================\n",
        "bash: line 0: cd: /cluster/scratch_xl/public/vjan/cylinder_tests/650_-1_conjugate-False_34: No such file or directory"
       ]
      },
      {
       "output_type": "stream",
       "stream": "stdout",
       "text": [
        "\n",
        "===============================================\n",
        "username        vjan                                    \n",
        "scratch         /cluster/scratch_xl/public/vjan/cylinder_tests\n",
        "host            brutus.ethz.ch                          \n",
        "ssh             vjan@brutus.ethz.ch:/cluster/scratch_xl/public/vjan/cylinder_tests/650_-1_conjugate-False_34\n",
        "dir             /cluster/scratch_xl/public/vjan/cylinder_tests/650_-1_conjugate-False_34\n",
        "project_name    surf_reaction_kelvin                    \n",
        "sim_folder      /home/vonrickenbach/testcases_mb/kelvin_cell_final/cylinder_tests/650_-1_conjugate-False_34\n",
        "jobname         650_-1_conjugate-False_34               \n",
        "===============================================\n",
        "bash: line 0: cd: /cluster/scratch_xl/public/vjan/cylinder_tests/650_-1_conjugate-False_67: No such file or directory"
       ]
      },
      {
       "output_type": "stream",
       "stream": "stdout",
       "text": [
        "\n",
        "===============================================\n",
        "username        vjan                                    \n",
        "scratch         /cluster/scratch_xl/public/vjan/cylinder_tests\n",
        "host            brutus.ethz.ch                          \n",
        "ssh             vjan@brutus.ethz.ch:/cluster/scratch_xl/public/vjan/cylinder_tests/650_-1_conjugate-False_67\n",
        "dir             /cluster/scratch_xl/public/vjan/cylinder_tests/650_-1_conjugate-False_67\n",
        "project_name    surf_reaction_kelvin                    \n",
        "sim_folder      /home/vonrickenbach/testcases_mb/kelvin_cell_final/cylinder_tests/650_-1_conjugate-False_67\n",
        "jobname         650_-1_conjugate-False_67               \n",
        "===============================================\n",
        "bash: line 0: cd: /cluster/scratch_xl/public/vjan/cylinder_tests/650_-1_conjugate-False_100: No such file or directory"
       ]
      },
      {
       "output_type": "stream",
       "stream": "stdout",
       "text": [
        "\n",
        "===============================================\n",
        "username        vjan                                    \n",
        "scratch         /cluster/scratch_xl/public/vjan/cylinder_tests\n",
        "host            brutus.ethz.ch                          \n",
        "ssh             vjan@brutus.ethz.ch:/cluster/scratch_xl/public/vjan/cylinder_tests/650_-1_conjugate-False_100\n",
        "dir             /cluster/scratch_xl/public/vjan/cylinder_tests/650_-1_conjugate-False_100\n",
        "project_name    surf_reaction_kelvin                    \n",
        "sim_folder      /home/vonrickenbach/testcases_mb/kelvin_cell_final/cylinder_tests/650_-1_conjugate-False_100\n",
        "jobname         650_-1_conjugate-False_100              \n",
        "===============================================\n",
        "bash: line 0: cd: /cluster/scratch_xl/public/vjan/cylinder_tests/650_1e-05_conjugate-True_34: No such file or directory"
       ]
      },
      {
       "output_type": "stream",
       "stream": "stdout",
       "text": [
        "\n",
        "===============================================\n",
        "username        vjan                                    \n",
        "scratch         /cluster/scratch_xl/public/vjan/cylinder_tests\n",
        "host            brutus.ethz.ch                          \n",
        "ssh             vjan@brutus.ethz.ch:/cluster/scratch_xl/public/vjan/cylinder_tests/650_1e-05_conjugate-True_34\n",
        "dir             /cluster/scratch_xl/public/vjan/cylinder_tests/650_1e-05_conjugate-True_34\n",
        "project_name    surf_reaction_kelvin                    \n",
        "sim_folder      /home/vonrickenbach/testcases_mb/kelvin_cell_final/cylinder_tests/650_1e-05_conjugate-True_34\n",
        "jobname         650_1e-05_conjugate-True_34             \n",
        "===============================================\n",
        "bash: line 0: cd: /cluster/scratch_xl/public/vjan/cylinder_tests/650_1e-05_conjugate-True_67: No such file or directory"
       ]
      },
      {
       "output_type": "stream",
       "stream": "stdout",
       "text": [
        "\n",
        "===============================================\n",
        "username        vjan                                    \n",
        "scratch         /cluster/scratch_xl/public/vjan/cylinder_tests\n",
        "host            brutus.ethz.ch                          \n",
        "ssh             vjan@brutus.ethz.ch:/cluster/scratch_xl/public/vjan/cylinder_tests/650_1e-05_conjugate-True_67\n",
        "dir             /cluster/scratch_xl/public/vjan/cylinder_tests/650_1e-05_conjugate-True_67\n",
        "project_name    surf_reaction_kelvin                    \n",
        "sim_folder      /home/vonrickenbach/testcases_mb/kelvin_cell_final/cylinder_tests/650_1e-05_conjugate-True_67\n",
        "jobname         650_1e-05_conjugate-True_67             \n",
        "===============================================\n",
        "bash: line 0: cd: /cluster/scratch_xl/public/vjan/cylinder_tests/650_1e-05_conjugate-True_100: No such file or directory"
       ]
      },
      {
       "output_type": "stream",
       "stream": "stdout",
       "text": [
        "\n",
        "===============================================\n",
        "username        vjan                                    \n",
        "scratch         /cluster/scratch_xl/public/vjan/cylinder_tests\n",
        "host            brutus.ethz.ch                          \n",
        "ssh             vjan@brutus.ethz.ch:/cluster/scratch_xl/public/vjan/cylinder_tests/650_1e-05_conjugate-True_100\n",
        "dir             /cluster/scratch_xl/public/vjan/cylinder_tests/650_1e-05_conjugate-True_100\n",
        "project_name    surf_reaction_kelvin                    \n",
        "sim_folder      /home/vonrickenbach/testcases_mb/kelvin_cell_final/cylinder_tests/650_1e-05_conjugate-True_100\n",
        "jobname         650_1e-05_conjugate-True_100            \n",
        "===============================================\n",
        "bash: line 0: cd: /cluster/scratch_xl/public/vjan/cylinder_tests/650_1e-05_conjugate-False_34: No such file or directory"
       ]
      },
      {
       "output_type": "stream",
       "stream": "stdout",
       "text": [
        "\n",
        "===============================================\n",
        "username        vjan                                    \n",
        "scratch         /cluster/scratch_xl/public/vjan/cylinder_tests\n",
        "host            brutus.ethz.ch                          \n",
        "ssh             vjan@brutus.ethz.ch:/cluster/scratch_xl/public/vjan/cylinder_tests/650_1e-05_conjugate-False_34\n",
        "dir             /cluster/scratch_xl/public/vjan/cylinder_tests/650_1e-05_conjugate-False_34\n",
        "project_name    surf_reaction_kelvin                    \n",
        "sim_folder      /home/vonrickenbach/testcases_mb/kelvin_cell_final/cylinder_tests/650_1e-05_conjugate-False_34\n",
        "jobname         650_1e-05_conjugate-False_34            \n",
        "===============================================\n",
        "bash: line 0: cd: /cluster/scratch_xl/public/vjan/cylinder_tests/650_1e-05_conjugate-False_67: No such file or directory"
       ]
      },
      {
       "output_type": "stream",
       "stream": "stdout",
       "text": [
        "\n",
        "===============================================\n",
        "username        vjan                                    \n",
        "scratch         /cluster/scratch_xl/public/vjan/cylinder_tests\n",
        "host            brutus.ethz.ch                          \n",
        "ssh             vjan@brutus.ethz.ch:/cluster/scratch_xl/public/vjan/cylinder_tests/650_1e-05_conjugate-False_67\n",
        "dir             /cluster/scratch_xl/public/vjan/cylinder_tests/650_1e-05_conjugate-False_67\n",
        "project_name    surf_reaction_kelvin                    \n",
        "sim_folder      /home/vonrickenbach/testcases_mb/kelvin_cell_final/cylinder_tests/650_1e-05_conjugate-False_67\n",
        "jobname         650_1e-05_conjugate-False_67            \n",
        "===============================================\n",
        "bash: line 0: cd: /cluster/scratch_xl/public/vjan/cylinder_tests/650_1e-05_conjugate-False_100: No such file or directory"
       ]
      },
      {
       "output_type": "stream",
       "stream": "stdout",
       "text": [
        "\n",
        "===============================================\n",
        "username        vjan                                    \n",
        "scratch         /cluster/scratch_xl/public/vjan/cylinder_tests\n",
        "host            brutus.ethz.ch                          \n",
        "ssh             vjan@brutus.ethz.ch:/cluster/scratch_xl/public/vjan/cylinder_tests/650_1e-05_conjugate-False_100\n",
        "dir             /cluster/scratch_xl/public/vjan/cylinder_tests/650_1e-05_conjugate-False_100\n",
        "project_name    surf_reaction_kelvin                    \n",
        "sim_folder      /home/vonrickenbach/testcases_mb/kelvin_cell_final/cylinder_tests/650_1e-05_conjugate-False_100\n",
        "jobname         650_1e-05_conjugate-False_100           \n",
        "===============================================\n",
        "bash: line 0: cd: /cluster/scratch_xl/public/vjan/cylinder_tests/650_2e-05_conjugate-True_34: No such file or directory"
       ]
      },
      {
       "output_type": "stream",
       "stream": "stdout",
       "text": [
        "\n",
        "===============================================\n",
        "username        vjan                                    \n",
        "scratch         /cluster/scratch_xl/public/vjan/cylinder_tests\n",
        "host            brutus.ethz.ch                          \n",
        "ssh             vjan@brutus.ethz.ch:/cluster/scratch_xl/public/vjan/cylinder_tests/650_2e-05_conjugate-True_34\n",
        "dir             /cluster/scratch_xl/public/vjan/cylinder_tests/650_2e-05_conjugate-True_34\n",
        "project_name    surf_reaction_kelvin                    \n",
        "sim_folder      /home/vonrickenbach/testcases_mb/kelvin_cell_final/cylinder_tests/650_2e-05_conjugate-True_34\n",
        "jobname         650_2e-05_conjugate-True_34             \n",
        "===============================================\n",
        "bash: line 0: cd: /cluster/scratch_xl/public/vjan/cylinder_tests/650_2e-05_conjugate-True_67: No such file or directory"
       ]
      },
      {
       "output_type": "stream",
       "stream": "stdout",
       "text": [
        "\n",
        "===============================================\n",
        "username        vjan                                    \n",
        "scratch         /cluster/scratch_xl/public/vjan/cylinder_tests\n",
        "host            brutus.ethz.ch                          \n",
        "ssh             vjan@brutus.ethz.ch:/cluster/scratch_xl/public/vjan/cylinder_tests/650_2e-05_conjugate-True_67\n",
        "dir             /cluster/scratch_xl/public/vjan/cylinder_tests/650_2e-05_conjugate-True_67\n",
        "project_name    surf_reaction_kelvin                    \n",
        "sim_folder      /home/vonrickenbach/testcases_mb/kelvin_cell_final/cylinder_tests/650_2e-05_conjugate-True_67\n",
        "jobname         650_2e-05_conjugate-True_67             \n",
        "===============================================\n",
        "bash: line 0: cd: /cluster/scratch_xl/public/vjan/cylinder_tests/650_2e-05_conjugate-True_100: No such file or directory"
       ]
      },
      {
       "output_type": "stream",
       "stream": "stdout",
       "text": [
        "\n",
        "===============================================\n",
        "username        vjan                                    \n",
        "scratch         /cluster/scratch_xl/public/vjan/cylinder_tests\n",
        "host            brutus.ethz.ch                          \n",
        "ssh             vjan@brutus.ethz.ch:/cluster/scratch_xl/public/vjan/cylinder_tests/650_2e-05_conjugate-True_100\n",
        "dir             /cluster/scratch_xl/public/vjan/cylinder_tests/650_2e-05_conjugate-True_100\n",
        "project_name    surf_reaction_kelvin                    \n",
        "sim_folder      /home/vonrickenbach/testcases_mb/kelvin_cell_final/cylinder_tests/650_2e-05_conjugate-True_100\n",
        "jobname         650_2e-05_conjugate-True_100            \n",
        "===============================================\n",
        "bash: line 0: cd: /cluster/scratch_xl/public/vjan/cylinder_tests/650_2e-05_conjugate-False_34: No such file or directory"
       ]
      },
      {
       "output_type": "stream",
       "stream": "stdout",
       "text": [
        "\n",
        "===============================================\n",
        "username        vjan                                    \n",
        "scratch         /cluster/scratch_xl/public/vjan/cylinder_tests\n",
        "host            brutus.ethz.ch                          \n",
        "ssh             vjan@brutus.ethz.ch:/cluster/scratch_xl/public/vjan/cylinder_tests/650_2e-05_conjugate-False_34\n",
        "dir             /cluster/scratch_xl/public/vjan/cylinder_tests/650_2e-05_conjugate-False_34\n",
        "project_name    surf_reaction_kelvin                    \n",
        "sim_folder      /home/vonrickenbach/testcases_mb/kelvin_cell_final/cylinder_tests/650_2e-05_conjugate-False_34\n",
        "jobname         650_2e-05_conjugate-False_34            \n",
        "===============================================\n",
        "bash: line 0: cd: /cluster/scratch_xl/public/vjan/cylinder_tests/650_2e-05_conjugate-False_67: No such file or directory"
       ]
      },
      {
       "output_type": "stream",
       "stream": "stdout",
       "text": [
        "\n",
        "===============================================\n",
        "username        vjan                                    \n",
        "scratch         /cluster/scratch_xl/public/vjan/cylinder_tests\n",
        "host            brutus.ethz.ch                          \n",
        "ssh             vjan@brutus.ethz.ch:/cluster/scratch_xl/public/vjan/cylinder_tests/650_2e-05_conjugate-False_67\n",
        "dir             /cluster/scratch_xl/public/vjan/cylinder_tests/650_2e-05_conjugate-False_67\n",
        "project_name    surf_reaction_kelvin                    \n",
        "sim_folder      /home/vonrickenbach/testcases_mb/kelvin_cell_final/cylinder_tests/650_2e-05_conjugate-False_67\n",
        "jobname         650_2e-05_conjugate-False_67            \n",
        "===============================================\n",
        "bash: line 0: cd: /cluster/scratch_xl/public/vjan/cylinder_tests/650_2e-05_conjugate-False_100: No such file or directory"
       ]
      },
      {
       "output_type": "stream",
       "stream": "stdout",
       "text": [
        "\n",
        "===============================================\n",
        "username        vjan                                    \n",
        "scratch         /cluster/scratch_xl/public/vjan/cylinder_tests\n",
        "host            brutus.ethz.ch                          \n",
        "ssh             vjan@brutus.ethz.ch:/cluster/scratch_xl/public/vjan/cylinder_tests/650_2e-05_conjugate-False_100\n",
        "dir             /cluster/scratch_xl/public/vjan/cylinder_tests/650_2e-05_conjugate-False_100\n",
        "project_name    surf_reaction_kelvin                    \n",
        "sim_folder      /home/vonrickenbach/testcases_mb/kelvin_cell_final/cylinder_tests/650_2e-05_conjugate-False_100\n",
        "jobname         650_2e-05_conjugate-False_100           \n",
        "===============================================\n",
        "bash: line 0: cd: /cluster/scratch_xl/public/vjan/cylinder_tests/700_-1_conjugate-True_34: No such file or directory"
       ]
      },
      {
       "output_type": "stream",
       "stream": "stdout",
       "text": [
        "\n",
        "===============================================\n",
        "username        vjan                                    \n",
        "scratch         /cluster/scratch_xl/public/vjan/cylinder_tests\n",
        "host            brutus.ethz.ch                          \n",
        "ssh             vjan@brutus.ethz.ch:/cluster/scratch_xl/public/vjan/cylinder_tests/700_-1_conjugate-True_34\n",
        "dir             /cluster/scratch_xl/public/vjan/cylinder_tests/700_-1_conjugate-True_34\n",
        "project_name    surf_reaction_kelvin                    \n",
        "sim_folder      /home/vonrickenbach/testcases_mb/kelvin_cell_final/cylinder_tests/700_-1_conjugate-True_34\n",
        "jobname         700_-1_conjugate-True_34                \n",
        "===============================================\n",
        "bash: line 0: cd: /cluster/scratch_xl/public/vjan/cylinder_tests/700_-1_conjugate-True_67: No such file or directory"
       ]
      },
      {
       "output_type": "stream",
       "stream": "stdout",
       "text": [
        "\n",
        "===============================================\n",
        "username        vjan                                    \n",
        "scratch         /cluster/scratch_xl/public/vjan/cylinder_tests\n",
        "host            brutus.ethz.ch                          \n",
        "ssh             vjan@brutus.ethz.ch:/cluster/scratch_xl/public/vjan/cylinder_tests/700_-1_conjugate-True_67\n",
        "dir             /cluster/scratch_xl/public/vjan/cylinder_tests/700_-1_conjugate-True_67\n",
        "project_name    surf_reaction_kelvin                    \n",
        "sim_folder      /home/vonrickenbach/testcases_mb/kelvin_cell_final/cylinder_tests/700_-1_conjugate-True_67\n",
        "jobname         700_-1_conjugate-True_67                \n",
        "===============================================\n",
        "bash: line 0: cd: /cluster/scratch_xl/public/vjan/cylinder_tests/700_-1_conjugate-True_100: No such file or directory"
       ]
      },
      {
       "output_type": "stream",
       "stream": "stdout",
       "text": [
        "\n",
        "===============================================\n",
        "username        vjan                                    \n",
        "scratch         /cluster/scratch_xl/public/vjan/cylinder_tests\n",
        "host            brutus.ethz.ch                          \n",
        "ssh             vjan@brutus.ethz.ch:/cluster/scratch_xl/public/vjan/cylinder_tests/700_-1_conjugate-True_100\n",
        "dir             /cluster/scratch_xl/public/vjan/cylinder_tests/700_-1_conjugate-True_100\n",
        "project_name    surf_reaction_kelvin                    \n",
        "sim_folder      /home/vonrickenbach/testcases_mb/kelvin_cell_final/cylinder_tests/700_-1_conjugate-True_100\n",
        "jobname         700_-1_conjugate-True_100               \n",
        "===============================================\n",
        "bash: line 0: cd: /cluster/scratch_xl/public/vjan/cylinder_tests/700_-1_conjugate-False_34: No such file or directory"
       ]
      },
      {
       "output_type": "stream",
       "stream": "stdout",
       "text": [
        "\n",
        "===============================================\n",
        "username        vjan                                    \n",
        "scratch         /cluster/scratch_xl/public/vjan/cylinder_tests\n",
        "host            brutus.ethz.ch                          \n",
        "ssh             vjan@brutus.ethz.ch:/cluster/scratch_xl/public/vjan/cylinder_tests/700_-1_conjugate-False_34\n",
        "dir             /cluster/scratch_xl/public/vjan/cylinder_tests/700_-1_conjugate-False_34\n",
        "project_name    surf_reaction_kelvin                    \n",
        "sim_folder      /home/vonrickenbach/testcases_mb/kelvin_cell_final/cylinder_tests/700_-1_conjugate-False_34\n",
        "jobname         700_-1_conjugate-False_34               \n",
        "===============================================\n",
        "bash: line 0: cd: /cluster/scratch_xl/public/vjan/cylinder_tests/700_-1_conjugate-False_67: No such file or directory"
       ]
      },
      {
       "output_type": "stream",
       "stream": "stdout",
       "text": [
        "\n",
        "===============================================\n",
        "username        vjan                                    \n",
        "scratch         /cluster/scratch_xl/public/vjan/cylinder_tests\n",
        "host            brutus.ethz.ch                          \n",
        "ssh             vjan@brutus.ethz.ch:/cluster/scratch_xl/public/vjan/cylinder_tests/700_-1_conjugate-False_67\n",
        "dir             /cluster/scratch_xl/public/vjan/cylinder_tests/700_-1_conjugate-False_67\n",
        "project_name    surf_reaction_kelvin                    \n",
        "sim_folder      /home/vonrickenbach/testcases_mb/kelvin_cell_final/cylinder_tests/700_-1_conjugate-False_67\n",
        "jobname         700_-1_conjugate-False_67               \n",
        "===============================================\n",
        "bash: line 0: cd: /cluster/scratch_xl/public/vjan/cylinder_tests/700_-1_conjugate-False_100: No such file or directory"
       ]
      },
      {
       "output_type": "stream",
       "stream": "stdout",
       "text": [
        "\n",
        "===============================================\n",
        "username        vjan                                    \n",
        "scratch         /cluster/scratch_xl/public/vjan/cylinder_tests\n",
        "host            brutus.ethz.ch                          \n",
        "ssh             vjan@brutus.ethz.ch:/cluster/scratch_xl/public/vjan/cylinder_tests/700_-1_conjugate-False_100\n",
        "dir             /cluster/scratch_xl/public/vjan/cylinder_tests/700_-1_conjugate-False_100\n",
        "project_name    surf_reaction_kelvin                    \n",
        "sim_folder      /home/vonrickenbach/testcases_mb/kelvin_cell_final/cylinder_tests/700_-1_conjugate-False_100\n",
        "jobname         700_-1_conjugate-False_100              \n",
        "===============================================\n",
        "bash: line 0: cd: /cluster/scratch_xl/public/vjan/cylinder_tests/700_1e-05_conjugate-True_34: No such file or directory"
       ]
      },
      {
       "output_type": "stream",
       "stream": "stdout",
       "text": [
        "\n",
        "===============================================\n",
        "username        vjan                                    \n",
        "scratch         /cluster/scratch_xl/public/vjan/cylinder_tests\n",
        "host            brutus.ethz.ch                          \n",
        "ssh             vjan@brutus.ethz.ch:/cluster/scratch_xl/public/vjan/cylinder_tests/700_1e-05_conjugate-True_34\n",
        "dir             /cluster/scratch_xl/public/vjan/cylinder_tests/700_1e-05_conjugate-True_34\n",
        "project_name    surf_reaction_kelvin                    \n",
        "sim_folder      /home/vonrickenbach/testcases_mb/kelvin_cell_final/cylinder_tests/700_1e-05_conjugate-True_34\n",
        "jobname         700_1e-05_conjugate-True_34             \n",
        "===============================================\n",
        "bash: line 0: cd: /cluster/scratch_xl/public/vjan/cylinder_tests/700_1e-05_conjugate-True_67: No such file or directory"
       ]
      },
      {
       "output_type": "stream",
       "stream": "stdout",
       "text": [
        "\n",
        "===============================================\n",
        "username        vjan                                    \n",
        "scratch         /cluster/scratch_xl/public/vjan/cylinder_tests\n",
        "host            brutus.ethz.ch                          \n",
        "ssh             vjan@brutus.ethz.ch:/cluster/scratch_xl/public/vjan/cylinder_tests/700_1e-05_conjugate-True_67\n",
        "dir             /cluster/scratch_xl/public/vjan/cylinder_tests/700_1e-05_conjugate-True_67\n",
        "project_name    surf_reaction_kelvin                    \n",
        "sim_folder      /home/vonrickenbach/testcases_mb/kelvin_cell_final/cylinder_tests/700_1e-05_conjugate-True_67\n",
        "jobname         700_1e-05_conjugate-True_67             \n",
        "===============================================\n",
        "bash: line 0: cd: /cluster/scratch_xl/public/vjan/cylinder_tests/700_1e-05_conjugate-True_100: No such file or directory"
       ]
      },
      {
       "output_type": "stream",
       "stream": "stdout",
       "text": [
        "\n",
        "===============================================\n",
        "username        vjan                                    \n",
        "scratch         /cluster/scratch_xl/public/vjan/cylinder_tests\n",
        "host            brutus.ethz.ch                          \n",
        "ssh             vjan@brutus.ethz.ch:/cluster/scratch_xl/public/vjan/cylinder_tests/700_1e-05_conjugate-True_100\n",
        "dir             /cluster/scratch_xl/public/vjan/cylinder_tests/700_1e-05_conjugate-True_100\n",
        "project_name    surf_reaction_kelvin                    \n",
        "sim_folder      /home/vonrickenbach/testcases_mb/kelvin_cell_final/cylinder_tests/700_1e-05_conjugate-True_100\n",
        "jobname         700_1e-05_conjugate-True_100            \n",
        "===============================================\n",
        "bash: line 0: cd: /cluster/scratch_xl/public/vjan/cylinder_tests/700_1e-05_conjugate-False_34: No such file or directory"
       ]
      },
      {
       "output_type": "stream",
       "stream": "stdout",
       "text": [
        "\n",
        "===============================================\n",
        "username        vjan                                    \n",
        "scratch         /cluster/scratch_xl/public/vjan/cylinder_tests\n",
        "host            brutus.ethz.ch                          \n",
        "ssh             vjan@brutus.ethz.ch:/cluster/scratch_xl/public/vjan/cylinder_tests/700_1e-05_conjugate-False_34\n",
        "dir             /cluster/scratch_xl/public/vjan/cylinder_tests/700_1e-05_conjugate-False_34\n",
        "project_name    surf_reaction_kelvin                    \n",
        "sim_folder      /home/vonrickenbach/testcases_mb/kelvin_cell_final/cylinder_tests/700_1e-05_conjugate-False_34\n",
        "jobname         700_1e-05_conjugate-False_34            \n",
        "===============================================\n",
        "bash: line 0: cd: /cluster/scratch_xl/public/vjan/cylinder_tests/700_1e-05_conjugate-False_67: No such file or directory"
       ]
      },
      {
       "output_type": "stream",
       "stream": "stdout",
       "text": [
        "\n",
        "===============================================\n",
        "username        vjan                                    \n",
        "scratch         /cluster/scratch_xl/public/vjan/cylinder_tests\n",
        "host            brutus.ethz.ch                          \n",
        "ssh             vjan@brutus.ethz.ch:/cluster/scratch_xl/public/vjan/cylinder_tests/700_1e-05_conjugate-False_67\n",
        "dir             /cluster/scratch_xl/public/vjan/cylinder_tests/700_1e-05_conjugate-False_67\n",
        "project_name    surf_reaction_kelvin                    \n",
        "sim_folder      /home/vonrickenbach/testcases_mb/kelvin_cell_final/cylinder_tests/700_1e-05_conjugate-False_67\n",
        "jobname         700_1e-05_conjugate-False_67            \n",
        "===============================================\n",
        "bash: line 0: cd: /cluster/scratch_xl/public/vjan/cylinder_tests/700_1e-05_conjugate-False_100: No such file or directory"
       ]
      },
      {
       "output_type": "stream",
       "stream": "stdout",
       "text": [
        "\n",
        "===============================================\n",
        "username        vjan                                    \n",
        "scratch         /cluster/scratch_xl/public/vjan/cylinder_tests\n",
        "host            brutus.ethz.ch                          \n",
        "ssh             vjan@brutus.ethz.ch:/cluster/scratch_xl/public/vjan/cylinder_tests/700_1e-05_conjugate-False_100\n",
        "dir             /cluster/scratch_xl/public/vjan/cylinder_tests/700_1e-05_conjugate-False_100\n",
        "project_name    surf_reaction_kelvin                    \n",
        "sim_folder      /home/vonrickenbach/testcases_mb/kelvin_cell_final/cylinder_tests/700_1e-05_conjugate-False_100\n",
        "jobname         700_1e-05_conjugate-False_100           \n",
        "===============================================\n",
        "bash: line 0: cd: /cluster/scratch_xl/public/vjan/cylinder_tests/700_2e-05_conjugate-True_34: No such file or directory"
       ]
      },
      {
       "output_type": "stream",
       "stream": "stdout",
       "text": [
        "\n",
        "===============================================\n",
        "username        vjan                                    \n",
        "scratch         /cluster/scratch_xl/public/vjan/cylinder_tests\n",
        "host            brutus.ethz.ch                          \n",
        "ssh             vjan@brutus.ethz.ch:/cluster/scratch_xl/public/vjan/cylinder_tests/700_2e-05_conjugate-True_34\n",
        "dir             /cluster/scratch_xl/public/vjan/cylinder_tests/700_2e-05_conjugate-True_34\n",
        "project_name    surf_reaction_kelvin                    \n",
        "sim_folder      /home/vonrickenbach/testcases_mb/kelvin_cell_final/cylinder_tests/700_2e-05_conjugate-True_34\n",
        "jobname         700_2e-05_conjugate-True_34             \n",
        "===============================================\n",
        "bash: line 0: cd: /cluster/scratch_xl/public/vjan/cylinder_tests/700_2e-05_conjugate-True_67: No such file or directory"
       ]
      },
      {
       "output_type": "stream",
       "stream": "stdout",
       "text": [
        "\n",
        "===============================================\n",
        "username        vjan                                    \n",
        "scratch         /cluster/scratch_xl/public/vjan/cylinder_tests\n",
        "host            brutus.ethz.ch                          \n",
        "ssh             vjan@brutus.ethz.ch:/cluster/scratch_xl/public/vjan/cylinder_tests/700_2e-05_conjugate-True_67\n",
        "dir             /cluster/scratch_xl/public/vjan/cylinder_tests/700_2e-05_conjugate-True_67\n",
        "project_name    surf_reaction_kelvin                    \n",
        "sim_folder      /home/vonrickenbach/testcases_mb/kelvin_cell_final/cylinder_tests/700_2e-05_conjugate-True_67\n",
        "jobname         700_2e-05_conjugate-True_67             \n",
        "===============================================\n",
        "bash: line 0: cd: /cluster/scratch_xl/public/vjan/cylinder_tests/700_2e-05_conjugate-True_100: No such file or directory"
       ]
      },
      {
       "output_type": "stream",
       "stream": "stdout",
       "text": [
        "\n",
        "===============================================\n",
        "username        vjan                                    \n",
        "scratch         /cluster/scratch_xl/public/vjan/cylinder_tests\n",
        "host            brutus.ethz.ch                          \n",
        "ssh             vjan@brutus.ethz.ch:/cluster/scratch_xl/public/vjan/cylinder_tests/700_2e-05_conjugate-True_100\n",
        "dir             /cluster/scratch_xl/public/vjan/cylinder_tests/700_2e-05_conjugate-True_100\n",
        "project_name    surf_reaction_kelvin                    \n",
        "sim_folder      /home/vonrickenbach/testcases_mb/kelvin_cell_final/cylinder_tests/700_2e-05_conjugate-True_100\n",
        "jobname         700_2e-05_conjugate-True_100            \n",
        "===============================================\n",
        "bash: line 0: cd: /cluster/scratch_xl/public/vjan/cylinder_tests/700_2e-05_conjugate-False_34: No such file or directory"
       ]
      },
      {
       "output_type": "stream",
       "stream": "stdout",
       "text": [
        "\n",
        "===============================================\n",
        "username        vjan                                    \n",
        "scratch         /cluster/scratch_xl/public/vjan/cylinder_tests\n",
        "host            brutus.ethz.ch                          \n",
        "ssh             vjan@brutus.ethz.ch:/cluster/scratch_xl/public/vjan/cylinder_tests/700_2e-05_conjugate-False_34\n",
        "dir             /cluster/scratch_xl/public/vjan/cylinder_tests/700_2e-05_conjugate-False_34\n",
        "project_name    surf_reaction_kelvin                    \n",
        "sim_folder      /home/vonrickenbach/testcases_mb/kelvin_cell_final/cylinder_tests/700_2e-05_conjugate-False_34\n",
        "jobname         700_2e-05_conjugate-False_34            \n",
        "===============================================\n",
        "bash: line 0: cd: /cluster/scratch_xl/public/vjan/cylinder_tests/700_2e-05_conjugate-False_67: No such file or directory"
       ]
      },
      {
       "output_type": "stream",
       "stream": "stdout",
       "text": [
        "\n",
        "===============================================\n",
        "username        vjan                                    \n",
        "scratch         /cluster/scratch_xl/public/vjan/cylinder_tests\n",
        "host            brutus.ethz.ch                          \n",
        "ssh             vjan@brutus.ethz.ch:/cluster/scratch_xl/public/vjan/cylinder_tests/700_2e-05_conjugate-False_67\n",
        "dir             /cluster/scratch_xl/public/vjan/cylinder_tests/700_2e-05_conjugate-False_67\n",
        "project_name    surf_reaction_kelvin                    \n",
        "sim_folder      /home/vonrickenbach/testcases_mb/kelvin_cell_final/cylinder_tests/700_2e-05_conjugate-False_67\n",
        "jobname         700_2e-05_conjugate-False_67            \n",
        "===============================================\n",
        "bash: line 0: cd: /cluster/scratch_xl/public/vjan/cylinder_tests/700_2e-05_conjugate-False_100: No such file or directory"
       ]
      },
      {
       "output_type": "stream",
       "stream": "stdout",
       "text": [
        "\n",
        "===============================================\n",
        "username        vjan                                    \n",
        "scratch         /cluster/scratch_xl/public/vjan/cylinder_tests\n",
        "host            brutus.ethz.ch                          \n",
        "ssh             vjan@brutus.ethz.ch:/cluster/scratch_xl/public/vjan/cylinder_tests/700_2e-05_conjugate-False_100\n",
        "dir             /cluster/scratch_xl/public/vjan/cylinder_tests/700_2e-05_conjugate-False_100\n",
        "project_name    surf_reaction_kelvin                    \n",
        "sim_folder      /home/vonrickenbach/testcases_mb/kelvin_cell_final/cylinder_tests/700_2e-05_conjugate-False_100\n",
        "jobname         700_2e-05_conjugate-False_100           \n",
        "===============================================\n"
       ]
      }
     ],
     "prompt_number": 129
    },
    {
     "cell_type": "code",
     "collapsed": false,
     "input": [
      "filenames = []\n",
      "filenames.append(\"write_pictures.py\")\n",
      "filenames.append(\"line_avg.py\")\n",
      "\n",
      "for filename in filenames:\n",
      "    for sim in sim_list:\n",
      "      sh.copy(filename,os.path.join(sim.info.local[\"sim_folder\"]))\n",
      "      sim.run_postprocess(filename,nproc=\"1\",memory=\"1024\")"
     ],
     "language": "python",
     "metadata": {},
     "outputs": [
      {
       "output_type": "stream",
       "stream": "stdout",
       "text": [
        "===================================================\n",
        " Syncing Current Working Directory with Cluster \n",
        "===================================================\n",
        "source $HOME/.bashrc_paraview; bsub -n 1 -W 60 -R \"rusage[mem=1024]\" -J 600_-1_conjugate-True_34 -o postprocess.out  mpirun /cluster/home/mavt/vjan/ParaView-4.0.1-Linux-64bit/bin/pvbatch --use-offscreen-rendering write_pictures.py"
       ]
      },
      {
       "output_type": "stream",
       "stream": "stdout",
       "text": [
        "\n",
        "==================================================="
       ]
      },
      {
       "output_type": "stream",
       "stream": "stdout",
       "text": [
        "\n",
        " Syncing Current Working Directory with Cluster \n",
        "===================================================\n",
        "source $HOME/.bashrc_paraview; bsub -n 1 -W 60 -R \"rusage[mem=1024]\" -J 600_-1_conjugate-True_67 -o postprocess.out  mpirun /cluster/home/mavt/vjan/ParaView-4.0.1-Linux-64bit/bin/pvbatch --use-offscreen-rendering write_pictures.py"
       ]
      },
      {
       "output_type": "stream",
       "stream": "stdout",
       "text": [
        "\n",
        "==================================================="
       ]
      },
      {
       "output_type": "stream",
       "stream": "stdout",
       "text": [
        "\n",
        " Syncing Current Working Directory with Cluster \n",
        "===================================================\n",
        "source $HOME/.bashrc_paraview; bsub -n 1 -W 60 -R \"rusage[mem=1024]\" -J 600_-1_conjugate-True_100 -o postprocess.out  mpirun /cluster/home/mavt/vjan/ParaView-4.0.1-Linux-64bit/bin/pvbatch --use-offscreen-rendering write_pictures.py"
       ]
      },
      {
       "output_type": "stream",
       "stream": "stdout",
       "text": [
        "\n",
        "==================================================="
       ]
      },
      {
       "output_type": "stream",
       "stream": "stdout",
       "text": [
        "\n",
        " Syncing Current Working Directory with Cluster \n",
        "===================================================\n",
        "source $HOME/.bashrc_paraview; bsub -n 1 -W 60 -R \"rusage[mem=1024]\" -J 600_-1_conjugate-False_34 -o postprocess.out  mpirun /cluster/home/mavt/vjan/ParaView-4.0.1-Linux-64bit/bin/pvbatch --use-offscreen-rendering write_pictures.py"
       ]
      },
      {
       "output_type": "stream",
       "stream": "stdout",
       "text": [
        "\n",
        "==================================================="
       ]
      },
      {
       "output_type": "stream",
       "stream": "stdout",
       "text": [
        "\n",
        " Syncing Current Working Directory with Cluster \n",
        "===================================================\n",
        "source $HOME/.bashrc_paraview; bsub -n 1 -W 60 -R \"rusage[mem=1024]\" -J 600_-1_conjugate-False_67 -o postprocess.out  mpirun /cluster/home/mavt/vjan/ParaView-4.0.1-Linux-64bit/bin/pvbatch --use-offscreen-rendering write_pictures.py"
       ]
      },
      {
       "output_type": "stream",
       "stream": "stdout",
       "text": [
        "\n",
        "==================================================="
       ]
      },
      {
       "output_type": "stream",
       "stream": "stdout",
       "text": [
        "\n",
        " Syncing Current Working Directory with Cluster \n",
        "===================================================\n",
        "source $HOME/.bashrc_paraview; bsub -n 1 -W 60 -R \"rusage[mem=1024]\" -J 600_-1_conjugate-False_100 -o postprocess.out  mpirun /cluster/home/mavt/vjan/ParaView-4.0.1-Linux-64bit/bin/pvbatch --use-offscreen-rendering write_pictures.py"
       ]
      },
      {
       "output_type": "stream",
       "stream": "stdout",
       "text": [
        "\n",
        "==================================================="
       ]
      },
      {
       "output_type": "stream",
       "stream": "stdout",
       "text": [
        "\n",
        " Syncing Current Working Directory with Cluster \n",
        "===================================================\n",
        "source $HOME/.bashrc_paraview; bsub -n 1 -W 60 -R \"rusage[mem=1024]\" -J 600_1e-05_conjugate-True_34 -o postprocess.out  mpirun /cluster/home/mavt/vjan/ParaView-4.0.1-Linux-64bit/bin/pvbatch --use-offscreen-rendering write_pictures.py"
       ]
      },
      {
       "output_type": "stream",
       "stream": "stdout",
       "text": [
        "\n",
        "==================================================="
       ]
      },
      {
       "output_type": "stream",
       "stream": "stdout",
       "text": [
        "\n",
        " Syncing Current Working Directory with Cluster \n",
        "===================================================\n",
        "source $HOME/.bashrc_paraview; bsub -n 1 -W 60 -R \"rusage[mem=1024]\" -J 600_1e-05_conjugate-True_67 -o postprocess.out  mpirun /cluster/home/mavt/vjan/ParaView-4.0.1-Linux-64bit/bin/pvbatch --use-offscreen-rendering write_pictures.py"
       ]
      },
      {
       "output_type": "stream",
       "stream": "stdout",
       "text": [
        "\n",
        "==================================================="
       ]
      },
      {
       "output_type": "stream",
       "stream": "stdout",
       "text": [
        "\n",
        " Syncing Current Working Directory with Cluster \n",
        "===================================================\n",
        "source $HOME/.bashrc_paraview; bsub -n 1 -W 60 -R \"rusage[mem=1024]\" -J 600_1e-05_conjugate-True_100 -o postprocess.out  mpirun /cluster/home/mavt/vjan/ParaView-4.0.1-Linux-64bit/bin/pvbatch --use-offscreen-rendering write_pictures.py"
       ]
      },
      {
       "output_type": "stream",
       "stream": "stdout",
       "text": [
        "\n",
        "==================================================="
       ]
      },
      {
       "output_type": "stream",
       "stream": "stdout",
       "text": [
        "\n",
        " Syncing Current Working Directory with Cluster \n",
        "===================================================\n",
        "source $HOME/.bashrc_paraview; bsub -n 1 -W 60 -R \"rusage[mem=1024]\" -J 600_1e-05_conjugate-False_34 -o postprocess.out  mpirun /cluster/home/mavt/vjan/ParaView-4.0.1-Linux-64bit/bin/pvbatch --use-offscreen-rendering write_pictures.py"
       ]
      },
      {
       "output_type": "stream",
       "stream": "stdout",
       "text": [
        "\n",
        "==================================================="
       ]
      },
      {
       "output_type": "stream",
       "stream": "stdout",
       "text": [
        "\n",
        " Syncing Current Working Directory with Cluster \n",
        "===================================================\n",
        "source $HOME/.bashrc_paraview; bsub -n 1 -W 60 -R \"rusage[mem=1024]\" -J 600_1e-05_conjugate-False_67 -o postprocess.out  mpirun /cluster/home/mavt/vjan/ParaView-4.0.1-Linux-64bit/bin/pvbatch --use-offscreen-rendering write_pictures.py"
       ]
      },
      {
       "output_type": "stream",
       "stream": "stdout",
       "text": [
        "\n",
        "==================================================="
       ]
      },
      {
       "output_type": "stream",
       "stream": "stdout",
       "text": [
        "\n",
        " Syncing Current Working Directory with Cluster \n",
        "===================================================\n",
        "source $HOME/.bashrc_paraview; bsub -n 1 -W 60 -R \"rusage[mem=1024]\" -J 600_1e-05_conjugate-False_100 -o postprocess.out  mpirun /cluster/home/mavt/vjan/ParaView-4.0.1-Linux-64bit/bin/pvbatch --use-offscreen-rendering write_pictures.py"
       ]
      },
      {
       "output_type": "stream",
       "stream": "stdout",
       "text": [
        "\n",
        "==================================================="
       ]
      },
      {
       "output_type": "stream",
       "stream": "stdout",
       "text": [
        "\n",
        " Syncing Current Working Directory with Cluster \n",
        "===================================================\n",
        "source $HOME/.bashrc_paraview; bsub -n 1 -W 60 -R \"rusage[mem=1024]\" -J 600_2e-05_conjugate-True_34 -o postprocess.out  mpirun /cluster/home/mavt/vjan/ParaView-4.0.1-Linux-64bit/bin/pvbatch --use-offscreen-rendering write_pictures.py"
       ]
      },
      {
       "output_type": "stream",
       "stream": "stdout",
       "text": [
        "\n",
        "==================================================="
       ]
      },
      {
       "output_type": "stream",
       "stream": "stdout",
       "text": [
        "\n",
        " Syncing Current Working Directory with Cluster \n",
        "===================================================\n",
        "source $HOME/.bashrc_paraview; bsub -n 1 -W 60 -R \"rusage[mem=1024]\" -J 600_2e-05_conjugate-True_67 -o postprocess.out  mpirun /cluster/home/mavt/vjan/ParaView-4.0.1-Linux-64bit/bin/pvbatch --use-offscreen-rendering write_pictures.py"
       ]
      },
      {
       "output_type": "stream",
       "stream": "stdout",
       "text": [
        "\n",
        "==================================================="
       ]
      },
      {
       "output_type": "stream",
       "stream": "stdout",
       "text": [
        "\n",
        " Syncing Current Working Directory with Cluster \n",
        "===================================================\n",
        "source $HOME/.bashrc_paraview; bsub -n 1 -W 60 -R \"rusage[mem=1024]\" -J 600_2e-05_conjugate-True_100 -o postprocess.out  mpirun /cluster/home/mavt/vjan/ParaView-4.0.1-Linux-64bit/bin/pvbatch --use-offscreen-rendering write_pictures.py"
       ]
      },
      {
       "output_type": "stream",
       "stream": "stdout",
       "text": [
        "\n",
        "==================================================="
       ]
      },
      {
       "output_type": "stream",
       "stream": "stdout",
       "text": [
        "\n",
        " Syncing Current Working Directory with Cluster \n",
        "===================================================\n",
        "source $HOME/.bashrc_paraview; bsub -n 1 -W 60 -R \"rusage[mem=1024]\" -J 600_2e-05_conjugate-False_34 -o postprocess.out  mpirun /cluster/home/mavt/vjan/ParaView-4.0.1-Linux-64bit/bin/pvbatch --use-offscreen-rendering write_pictures.py"
       ]
      },
      {
       "output_type": "stream",
       "stream": "stdout",
       "text": [
        "\n",
        "==================================================="
       ]
      },
      {
       "output_type": "stream",
       "stream": "stdout",
       "text": [
        "\n",
        " Syncing Current Working Directory with Cluster \n",
        "===================================================\n",
        "source $HOME/.bashrc_paraview; bsub -n 1 -W 60 -R \"rusage[mem=1024]\" -J 600_2e-05_conjugate-False_67 -o postprocess.out  mpirun /cluster/home/mavt/vjan/ParaView-4.0.1-Linux-64bit/bin/pvbatch --use-offscreen-rendering write_pictures.py"
       ]
      },
      {
       "output_type": "stream",
       "stream": "stdout",
       "text": [
        "\n",
        "==================================================="
       ]
      },
      {
       "output_type": "stream",
       "stream": "stdout",
       "text": [
        "\n",
        " Syncing Current Working Directory with Cluster \n",
        "===================================================\n",
        "source $HOME/.bashrc_paraview; bsub -n 1 -W 60 -R \"rusage[mem=1024]\" -J 600_2e-05_conjugate-False_100 -o postprocess.out  mpirun /cluster/home/mavt/vjan/ParaView-4.0.1-Linux-64bit/bin/pvbatch --use-offscreen-rendering write_pictures.py"
       ]
      },
      {
       "output_type": "stream",
       "stream": "stdout",
       "text": [
        "\n",
        "==================================================="
       ]
      },
      {
       "output_type": "stream",
       "stream": "stdout",
       "text": [
        "\n",
        " Syncing Current Working Directory with Cluster \n",
        "===================================================\n",
        "source $HOME/.bashrc_paraview; bsub -n 1 -W 60 -R \"rusage[mem=1024]\" -J 650_-1_conjugate-True_34 -o postprocess.out  mpirun /cluster/home/mavt/vjan/ParaView-4.0.1-Linux-64bit/bin/pvbatch --use-offscreen-rendering write_pictures.py"
       ]
      },
      {
       "output_type": "stream",
       "stream": "stdout",
       "text": [
        "\n",
        "==================================================="
       ]
      },
      {
       "output_type": "stream",
       "stream": "stdout",
       "text": [
        "\n",
        " Syncing Current Working Directory with Cluster \n",
        "===================================================\n",
        "source $HOME/.bashrc_paraview; bsub -n 1 -W 60 -R \"rusage[mem=1024]\" -J 650_-1_conjugate-True_67 -o postprocess.out  mpirun /cluster/home/mavt/vjan/ParaView-4.0.1-Linux-64bit/bin/pvbatch --use-offscreen-rendering write_pictures.py"
       ]
      },
      {
       "output_type": "stream",
       "stream": "stdout",
       "text": [
        "\n",
        "==================================================="
       ]
      },
      {
       "output_type": "stream",
       "stream": "stdout",
       "text": [
        "\n",
        " Syncing Current Working Directory with Cluster \n",
        "===================================================\n",
        "source $HOME/.bashrc_paraview; bsub -n 1 -W 60 -R \"rusage[mem=1024]\" -J 650_-1_conjugate-True_100 -o postprocess.out  mpirun /cluster/home/mavt/vjan/ParaView-4.0.1-Linux-64bit/bin/pvbatch --use-offscreen-rendering write_pictures.py"
       ]
      },
      {
       "output_type": "stream",
       "stream": "stdout",
       "text": [
        "\n",
        "==================================================="
       ]
      },
      {
       "output_type": "stream",
       "stream": "stdout",
       "text": [
        "\n",
        " Syncing Current Working Directory with Cluster \n",
        "===================================================\n",
        "source $HOME/.bashrc_paraview; bsub -n 1 -W 60 -R \"rusage[mem=1024]\" -J 650_-1_conjugate-False_34 -o postprocess.out  mpirun /cluster/home/mavt/vjan/ParaView-4.0.1-Linux-64bit/bin/pvbatch --use-offscreen-rendering write_pictures.py"
       ]
      },
      {
       "output_type": "stream",
       "stream": "stdout",
       "text": [
        "\n",
        "==================================================="
       ]
      },
      {
       "output_type": "stream",
       "stream": "stdout",
       "text": [
        "\n",
        " Syncing Current Working Directory with Cluster \n",
        "===================================================\n",
        "source $HOME/.bashrc_paraview; bsub -n 1 -W 60 -R \"rusage[mem=1024]\" -J 650_-1_conjugate-False_67 -o postprocess.out  mpirun /cluster/home/mavt/vjan/ParaView-4.0.1-Linux-64bit/bin/pvbatch --use-offscreen-rendering write_pictures.py"
       ]
      },
      {
       "output_type": "stream",
       "stream": "stdout",
       "text": [
        "\n",
        "==================================================="
       ]
      },
      {
       "output_type": "stream",
       "stream": "stdout",
       "text": [
        "\n",
        " Syncing Current Working Directory with Cluster \n",
        "===================================================\n",
        "source $HOME/.bashrc_paraview; bsub -n 1 -W 60 -R \"rusage[mem=1024]\" -J 650_-1_conjugate-False_100 -o postprocess.out  mpirun /cluster/home/mavt/vjan/ParaView-4.0.1-Linux-64bit/bin/pvbatch --use-offscreen-rendering write_pictures.py"
       ]
      },
      {
       "output_type": "stream",
       "stream": "stdout",
       "text": [
        "\n",
        "==================================================="
       ]
      },
      {
       "output_type": "stream",
       "stream": "stdout",
       "text": [
        "\n",
        " Syncing Current Working Directory with Cluster \n",
        "===================================================\n",
        "source $HOME/.bashrc_paraview; bsub -n 1 -W 60 -R \"rusage[mem=1024]\" -J 650_1e-05_conjugate-True_34 -o postprocess.out  mpirun /cluster/home/mavt/vjan/ParaView-4.0.1-Linux-64bit/bin/pvbatch --use-offscreen-rendering write_pictures.py"
       ]
      },
      {
       "output_type": "stream",
       "stream": "stdout",
       "text": [
        "\n",
        "==================================================="
       ]
      },
      {
       "output_type": "stream",
       "stream": "stdout",
       "text": [
        "\n",
        " Syncing Current Working Directory with Cluster \n",
        "===================================================\n",
        "source $HOME/.bashrc_paraview; bsub -n 1 -W 60 -R \"rusage[mem=1024]\" -J 650_1e-05_conjugate-True_67 -o postprocess.out  mpirun /cluster/home/mavt/vjan/ParaView-4.0.1-Linux-64bit/bin/pvbatch --use-offscreen-rendering write_pictures.py"
       ]
      },
      {
       "output_type": "stream",
       "stream": "stdout",
       "text": [
        "\n",
        "==================================================="
       ]
      },
      {
       "output_type": "stream",
       "stream": "stdout",
       "text": [
        "\n",
        " Syncing Current Working Directory with Cluster \n",
        "===================================================\n",
        "source $HOME/.bashrc_paraview; bsub -n 1 -W 60 -R \"rusage[mem=1024]\" -J 650_1e-05_conjugate-True_100 -o postprocess.out  mpirun /cluster/home/mavt/vjan/ParaView-4.0.1-Linux-64bit/bin/pvbatch --use-offscreen-rendering write_pictures.py"
       ]
      },
      {
       "output_type": "stream",
       "stream": "stdout",
       "text": [
        "\n",
        "==================================================="
       ]
      },
      {
       "output_type": "stream",
       "stream": "stdout",
       "text": [
        "\n",
        " Syncing Current Working Directory with Cluster \n",
        "===================================================\n",
        "source $HOME/.bashrc_paraview; bsub -n 1 -W 60 -R \"rusage[mem=1024]\" -J 650_1e-05_conjugate-False_34 -o postprocess.out  mpirun /cluster/home/mavt/vjan/ParaView-4.0.1-Linux-64bit/bin/pvbatch --use-offscreen-rendering write_pictures.py"
       ]
      },
      {
       "output_type": "stream",
       "stream": "stdout",
       "text": [
        "\n",
        "==================================================="
       ]
      },
      {
       "output_type": "stream",
       "stream": "stdout",
       "text": [
        "\n",
        " Syncing Current Working Directory with Cluster \n",
        "===================================================\n",
        "source $HOME/.bashrc_paraview; bsub -n 1 -W 60 -R \"rusage[mem=1024]\" -J 650_1e-05_conjugate-False_67 -o postprocess.out  mpirun /cluster/home/mavt/vjan/ParaView-4.0.1-Linux-64bit/bin/pvbatch --use-offscreen-rendering write_pictures.py"
       ]
      },
      {
       "output_type": "stream",
       "stream": "stdout",
       "text": [
        "\n",
        "==================================================="
       ]
      },
      {
       "output_type": "stream",
       "stream": "stdout",
       "text": [
        "\n",
        " Syncing Current Working Directory with Cluster \n",
        "===================================================\n",
        "source $HOME/.bashrc_paraview; bsub -n 1 -W 60 -R \"rusage[mem=1024]\" -J 650_1e-05_conjugate-False_100 -o postprocess.out  mpirun /cluster/home/mavt/vjan/ParaView-4.0.1-Linux-64bit/bin/pvbatch --use-offscreen-rendering write_pictures.py"
       ]
      },
      {
       "output_type": "stream",
       "stream": "stdout",
       "text": [
        "\n",
        "==================================================="
       ]
      },
      {
       "output_type": "stream",
       "stream": "stdout",
       "text": [
        "\n",
        " Syncing Current Working Directory with Cluster \n",
        "===================================================\n",
        "source $HOME/.bashrc_paraview; bsub -n 1 -W 60 -R \"rusage[mem=1024]\" -J 650_2e-05_conjugate-True_34 -o postprocess.out  mpirun /cluster/home/mavt/vjan/ParaView-4.0.1-Linux-64bit/bin/pvbatch --use-offscreen-rendering write_pictures.py"
       ]
      },
      {
       "output_type": "stream",
       "stream": "stdout",
       "text": [
        "\n",
        "==================================================="
       ]
      },
      {
       "output_type": "stream",
       "stream": "stdout",
       "text": [
        "\n",
        " Syncing Current Working Directory with Cluster \n",
        "===================================================\n",
        "source $HOME/.bashrc_paraview; bsub -n 1 -W 60 -R \"rusage[mem=1024]\" -J 650_2e-05_conjugate-True_67 -o postprocess.out  mpirun /cluster/home/mavt/vjan/ParaView-4.0.1-Linux-64bit/bin/pvbatch --use-offscreen-rendering write_pictures.py"
       ]
      },
      {
       "output_type": "stream",
       "stream": "stdout",
       "text": [
        "\n",
        "==================================================="
       ]
      },
      {
       "output_type": "stream",
       "stream": "stdout",
       "text": [
        "\n",
        " Syncing Current Working Directory with Cluster \n",
        "===================================================\n",
        "source $HOME/.bashrc_paraview; bsub -n 1 -W 60 -R \"rusage[mem=1024]\" -J 650_2e-05_conjugate-True_100 -o postprocess.out  mpirun /cluster/home/mavt/vjan/ParaView-4.0.1-Linux-64bit/bin/pvbatch --use-offscreen-rendering write_pictures.py"
       ]
      },
      {
       "output_type": "stream",
       "stream": "stdout",
       "text": [
        "\n",
        "==================================================="
       ]
      },
      {
       "output_type": "stream",
       "stream": "stdout",
       "text": [
        "\n",
        " Syncing Current Working Directory with Cluster \n",
        "===================================================\n",
        "source $HOME/.bashrc_paraview; bsub -n 1 -W 60 -R \"rusage[mem=1024]\" -J 650_2e-05_conjugate-False_34 -o postprocess.out  mpirun /cluster/home/mavt/vjan/ParaView-4.0.1-Linux-64bit/bin/pvbatch --use-offscreen-rendering write_pictures.py"
       ]
      },
      {
       "output_type": "stream",
       "stream": "stdout",
       "text": [
        "\n",
        "==================================================="
       ]
      },
      {
       "output_type": "stream",
       "stream": "stdout",
       "text": [
        "\n",
        " Syncing Current Working Directory with Cluster \n",
        "===================================================\n",
        "source $HOME/.bashrc_paraview; bsub -n 1 -W 60 -R \"rusage[mem=1024]\" -J 650_2e-05_conjugate-False_67 -o postprocess.out  mpirun /cluster/home/mavt/vjan/ParaView-4.0.1-Linux-64bit/bin/pvbatch --use-offscreen-rendering write_pictures.py"
       ]
      },
      {
       "output_type": "stream",
       "stream": "stdout",
       "text": [
        "\n",
        "==================================================="
       ]
      },
      {
       "output_type": "stream",
       "stream": "stdout",
       "text": [
        "\n",
        " Syncing Current Working Directory with Cluster \n",
        "===================================================\n",
        "source $HOME/.bashrc_paraview; bsub -n 1 -W 60 -R \"rusage[mem=1024]\" -J 650_2e-05_conjugate-False_100 -o postprocess.out  mpirun /cluster/home/mavt/vjan/ParaView-4.0.1-Linux-64bit/bin/pvbatch --use-offscreen-rendering write_pictures.py"
       ]
      },
      {
       "output_type": "stream",
       "stream": "stdout",
       "text": [
        "\n",
        "==================================================="
       ]
      },
      {
       "output_type": "stream",
       "stream": "stdout",
       "text": [
        "\n",
        " Syncing Current Working Directory with Cluster \n",
        "===================================================\n",
        "source $HOME/.bashrc_paraview; bsub -n 1 -W 60 -R \"rusage[mem=1024]\" -J 700_-1_conjugate-True_34 -o postprocess.out  mpirun /cluster/home/mavt/vjan/ParaView-4.0.1-Linux-64bit/bin/pvbatch --use-offscreen-rendering write_pictures.py"
       ]
      },
      {
       "output_type": "stream",
       "stream": "stdout",
       "text": [
        "\n",
        "==================================================="
       ]
      },
      {
       "output_type": "stream",
       "stream": "stdout",
       "text": [
        "\n",
        " Syncing Current Working Directory with Cluster \n",
        "===================================================\n",
        "source $HOME/.bashrc_paraview; bsub -n 1 -W 60 -R \"rusage[mem=1024]\" -J 700_-1_conjugate-True_67 -o postprocess.out  mpirun /cluster/home/mavt/vjan/ParaView-4.0.1-Linux-64bit/bin/pvbatch --use-offscreen-rendering write_pictures.py"
       ]
      },
      {
       "output_type": "stream",
       "stream": "stdout",
       "text": [
        "\n",
        "==================================================="
       ]
      },
      {
       "output_type": "stream",
       "stream": "stdout",
       "text": [
        "\n",
        " Syncing Current Working Directory with Cluster \n",
        "===================================================\n",
        "source $HOME/.bashrc_paraview; bsub -n 1 -W 60 -R \"rusage[mem=1024]\" -J 700_-1_conjugate-True_100 -o postprocess.out  mpirun /cluster/home/mavt/vjan/ParaView-4.0.1-Linux-64bit/bin/pvbatch --use-offscreen-rendering write_pictures.py"
       ]
      },
      {
       "output_type": "stream",
       "stream": "stdout",
       "text": [
        "\n",
        "===================================================\n",
        " Syncing Current Working Directory with Cluster \n",
        "===================================================\n",
        "source $HOME/.bashrc_paraview; bsub -n 1 -W 60 -R \"rusage[mem=1024]\" -J 700_-1_conjugate-False_34 -o postprocess.out  mpirun /cluster/home/mavt/vjan/ParaView-4.0.1-Linux-64bit/bin/pvbatch --use-offscreen-rendering write_pictures.py"
       ]
      },
      {
       "output_type": "stream",
       "stream": "stdout",
       "text": [
        "\n",
        "==================================================="
       ]
      },
      {
       "output_type": "stream",
       "stream": "stdout",
       "text": [
        "\n",
        " Syncing Current Working Directory with Cluster \n",
        "===================================================\n",
        "source $HOME/.bashrc_paraview; bsub -n 1 -W 60 -R \"rusage[mem=1024]\" -J 700_-1_conjugate-False_67 -o postprocess.out  mpirun /cluster/home/mavt/vjan/ParaView-4.0.1-Linux-64bit/bin/pvbatch --use-offscreen-rendering write_pictures.py"
       ]
      },
      {
       "output_type": "stream",
       "stream": "stdout",
       "text": [
        "\n",
        "==================================================="
       ]
      },
      {
       "output_type": "stream",
       "stream": "stdout",
       "text": [
        "\n",
        " Syncing Current Working Directory with Cluster \n",
        "===================================================\n",
        "source $HOME/.bashrc_paraview; bsub -n 1 -W 60 -R \"rusage[mem=1024]\" -J 700_-1_conjugate-False_100 -o postprocess.out  mpirun /cluster/home/mavt/vjan/ParaView-4.0.1-Linux-64bit/bin/pvbatch --use-offscreen-rendering write_pictures.py"
       ]
      },
      {
       "output_type": "stream",
       "stream": "stdout",
       "text": [
        "\n",
        "==================================================="
       ]
      },
      {
       "output_type": "stream",
       "stream": "stdout",
       "text": [
        "\n",
        " Syncing Current Working Directory with Cluster \n",
        "===================================================\n",
        "source $HOME/.bashrc_paraview; bsub -n 1 -W 60 -R \"rusage[mem=1024]\" -J 700_1e-05_conjugate-True_34 -o postprocess.out  mpirun /cluster/home/mavt/vjan/ParaView-4.0.1-Linux-64bit/bin/pvbatch --use-offscreen-rendering write_pictures.py"
       ]
      },
      {
       "output_type": "stream",
       "stream": "stdout",
       "text": [
        "\n",
        "==================================================="
       ]
      },
      {
       "output_type": "stream",
       "stream": "stdout",
       "text": [
        "\n",
        " Syncing Current Working Directory with Cluster \n",
        "===================================================\n",
        "source $HOME/.bashrc_paraview; bsub -n 1 -W 60 -R \"rusage[mem=1024]\" -J 700_1e-05_conjugate-True_67 -o postprocess.out  mpirun /cluster/home/mavt/vjan/ParaView-4.0.1-Linux-64bit/bin/pvbatch --use-offscreen-rendering write_pictures.py"
       ]
      },
      {
       "output_type": "stream",
       "stream": "stdout",
       "text": [
        "\n",
        "==================================================="
       ]
      },
      {
       "output_type": "stream",
       "stream": "stdout",
       "text": [
        "\n",
        " Syncing Current Working Directory with Cluster \n",
        "===================================================\n",
        "source $HOME/.bashrc_paraview; bsub -n 1 -W 60 -R \"rusage[mem=1024]\" -J 700_1e-05_conjugate-True_100 -o postprocess.out  mpirun /cluster/home/mavt/vjan/ParaView-4.0.1-Linux-64bit/bin/pvbatch --use-offscreen-rendering write_pictures.py"
       ]
      },
      {
       "output_type": "stream",
       "stream": "stdout",
       "text": [
        "\n",
        "==================================================="
       ]
      },
      {
       "output_type": "stream",
       "stream": "stdout",
       "text": [
        "\n",
        " Syncing Current Working Directory with Cluster \n",
        "===================================================\n",
        "source $HOME/.bashrc_paraview; bsub -n 1 -W 60 -R \"rusage[mem=1024]\" -J 700_1e-05_conjugate-False_34 -o postprocess.out  mpirun /cluster/home/mavt/vjan/ParaView-4.0.1-Linux-64bit/bin/pvbatch --use-offscreen-rendering write_pictures.py"
       ]
      },
      {
       "output_type": "stream",
       "stream": "stdout",
       "text": [
        "\n",
        "==================================================="
       ]
      },
      {
       "output_type": "stream",
       "stream": "stdout",
       "text": [
        "\n",
        " Syncing Current Working Directory with Cluster \n",
        "===================================================\n",
        "source $HOME/.bashrc_paraview; bsub -n 1 -W 60 -R \"rusage[mem=1024]\" -J 700_1e-05_conjugate-False_67 -o postprocess.out  mpirun /cluster/home/mavt/vjan/ParaView-4.0.1-Linux-64bit/bin/pvbatch --use-offscreen-rendering write_pictures.py"
       ]
      },
      {
       "output_type": "stream",
       "stream": "stdout",
       "text": [
        "\n",
        "==================================================="
       ]
      },
      {
       "output_type": "stream",
       "stream": "stdout",
       "text": [
        "\n",
        " Syncing Current Working Directory with Cluster \n",
        "===================================================\n",
        "source $HOME/.bashrc_paraview; bsub -n 1 -W 60 -R \"rusage[mem=1024]\" -J 700_1e-05_conjugate-False_100 -o postprocess.out  mpirun /cluster/home/mavt/vjan/ParaView-4.0.1-Linux-64bit/bin/pvbatch --use-offscreen-rendering write_pictures.py"
       ]
      },
      {
       "output_type": "stream",
       "stream": "stdout",
       "text": [
        "\n",
        "==================================================="
       ]
      },
      {
       "output_type": "stream",
       "stream": "stdout",
       "text": [
        "\n",
        " Syncing Current Working Directory with Cluster \n",
        "===================================================\n",
        "source $HOME/.bashrc_paraview; bsub -n 1 -W 60 -R \"rusage[mem=1024]\" -J 700_2e-05_conjugate-True_34 -o postprocess.out  mpirun /cluster/home/mavt/vjan/ParaView-4.0.1-Linux-64bit/bin/pvbatch --use-offscreen-rendering write_pictures.py"
       ]
      },
      {
       "output_type": "stream",
       "stream": "stdout",
       "text": [
        "\n",
        "==================================================="
       ]
      },
      {
       "output_type": "stream",
       "stream": "stdout",
       "text": [
        "\n",
        " Syncing Current Working Directory with Cluster \n",
        "===================================================\n",
        "source $HOME/.bashrc_paraview; bsub -n 1 -W 60 -R \"rusage[mem=1024]\" -J 700_2e-05_conjugate-True_67 -o postprocess.out  mpirun /cluster/home/mavt/vjan/ParaView-4.0.1-Linux-64bit/bin/pvbatch --use-offscreen-rendering write_pictures.py"
       ]
      },
      {
       "output_type": "stream",
       "stream": "stdout",
       "text": [
        "\n",
        "==================================================="
       ]
      },
      {
       "output_type": "stream",
       "stream": "stdout",
       "text": [
        "\n",
        " Syncing Current Working Directory with Cluster \n",
        "===================================================\n",
        "source $HOME/.bashrc_paraview; bsub -n 1 -W 60 -R \"rusage[mem=1024]\" -J 700_2e-05_conjugate-True_100 -o postprocess.out  mpirun /cluster/home/mavt/vjan/ParaView-4.0.1-Linux-64bit/bin/pvbatch --use-offscreen-rendering write_pictures.py"
       ]
      },
      {
       "output_type": "stream",
       "stream": "stdout",
       "text": [
        "\n",
        "==================================================="
       ]
      },
      {
       "output_type": "stream",
       "stream": "stdout",
       "text": [
        "\n",
        " Syncing Current Working Directory with Cluster \n",
        "===================================================\n",
        "source $HOME/.bashrc_paraview; bsub -n 1 -W 60 -R \"rusage[mem=1024]\" -J 700_2e-05_conjugate-False_34 -o postprocess.out  mpirun /cluster/home/mavt/vjan/ParaView-4.0.1-Linux-64bit/bin/pvbatch --use-offscreen-rendering write_pictures.py"
       ]
      },
      {
       "output_type": "stream",
       "stream": "stdout",
       "text": [
        "\n",
        "==================================================="
       ]
      },
      {
       "output_type": "stream",
       "stream": "stdout",
       "text": [
        "\n",
        " Syncing Current Working Directory with Cluster \n",
        "===================================================\n",
        "source $HOME/.bashrc_paraview; bsub -n 1 -W 60 -R \"rusage[mem=1024]\" -J 700_2e-05_conjugate-False_67 -o postprocess.out  mpirun /cluster/home/mavt/vjan/ParaView-4.0.1-Linux-64bit/bin/pvbatch --use-offscreen-rendering write_pictures.py"
       ]
      },
      {
       "output_type": "stream",
       "stream": "stdout",
       "text": [
        "\n",
        "==================================================="
       ]
      },
      {
       "output_type": "stream",
       "stream": "stdout",
       "text": [
        "\n",
        " Syncing Current Working Directory with Cluster \n",
        "===================================================\n",
        "source $HOME/.bashrc_paraview; bsub -n 1 -W 60 -R \"rusage[mem=1024]\" -J 700_2e-05_conjugate-False_100 -o postprocess.out  mpirun /cluster/home/mavt/vjan/ParaView-4.0.1-Linux-64bit/bin/pvbatch --use-offscreen-rendering write_pictures.py"
       ]
      },
      {
       "output_type": "stream",
       "stream": "stdout",
       "text": [
        "\n",
        "==================================================="
       ]
      },
      {
       "output_type": "stream",
       "stream": "stdout",
       "text": [
        "\n",
        " Syncing Current Working Directory with Cluster \n",
        "===================================================\n",
        "source $HOME/.bashrc_paraview; bsub -n 1 -W 60 -R \"rusage[mem=1024]\" -J 600_-1_conjugate-True_34 -o postprocess.out  mpirun /cluster/home/mavt/vjan/ParaView-4.0.1-Linux-64bit/bin/pvbatch --use-offscreen-rendering line_avg.py"
       ]
      },
      {
       "output_type": "stream",
       "stream": "stdout",
       "text": [
        "\n",
        "==================================================="
       ]
      },
      {
       "output_type": "stream",
       "stream": "stdout",
       "text": [
        "\n",
        " Syncing Current Working Directory with Cluster \n",
        "===================================================\n",
        "source $HOME/.bashrc_paraview; bsub -n 1 -W 60 -R \"rusage[mem=1024]\" -J 600_-1_conjugate-True_67 -o postprocess.out  mpirun /cluster/home/mavt/vjan/ParaView-4.0.1-Linux-64bit/bin/pvbatch --use-offscreen-rendering line_avg.py"
       ]
      },
      {
       "output_type": "stream",
       "stream": "stdout",
       "text": [
        "\n",
        "==================================================="
       ]
      },
      {
       "output_type": "stream",
       "stream": "stdout",
       "text": [
        "\n",
        " Syncing Current Working Directory with Cluster \n",
        "===================================================\n",
        "source $HOME/.bashrc_paraview; bsub -n 1 -W 60 -R \"rusage[mem=1024]\" -J 600_-1_conjugate-True_100 -o postprocess.out  mpirun /cluster/home/mavt/vjan/ParaView-4.0.1-Linux-64bit/bin/pvbatch --use-offscreen-rendering line_avg.py"
       ]
      },
      {
       "output_type": "stream",
       "stream": "stdout",
       "text": [
        "\n",
        "==================================================="
       ]
      },
      {
       "output_type": "stream",
       "stream": "stdout",
       "text": [
        "\n",
        " Syncing Current Working Directory with Cluster \n",
        "===================================================\n",
        "source $HOME/.bashrc_paraview; bsub -n 1 -W 60 -R \"rusage[mem=1024]\" -J 600_-1_conjugate-False_34 -o postprocess.out  mpirun /cluster/home/mavt/vjan/ParaView-4.0.1-Linux-64bit/bin/pvbatch --use-offscreen-rendering line_avg.py"
       ]
      },
      {
       "output_type": "stream",
       "stream": "stdout",
       "text": [
        "\n",
        "==================================================="
       ]
      },
      {
       "output_type": "stream",
       "stream": "stdout",
       "text": [
        "\n",
        " Syncing Current Working Directory with Cluster \n",
        "===================================================\n",
        "source $HOME/.bashrc_paraview; bsub -n 1 -W 60 -R \"rusage[mem=1024]\" -J 600_-1_conjugate-False_67 -o postprocess.out  mpirun /cluster/home/mavt/vjan/ParaView-4.0.1-Linux-64bit/bin/pvbatch --use-offscreen-rendering line_avg.py"
       ]
      },
      {
       "output_type": "stream",
       "stream": "stdout",
       "text": [
        "\n",
        "==================================================="
       ]
      },
      {
       "output_type": "stream",
       "stream": "stdout",
       "text": [
        "\n",
        " Syncing Current Working Directory with Cluster \n",
        "===================================================\n",
        "source $HOME/.bashrc_paraview; bsub -n 1 -W 60 -R \"rusage[mem=1024]\" -J 600_-1_conjugate-False_100 -o postprocess.out  mpirun /cluster/home/mavt/vjan/ParaView-4.0.1-Linux-64bit/bin/pvbatch --use-offscreen-rendering line_avg.py"
       ]
      },
      {
       "output_type": "stream",
       "stream": "stdout",
       "text": [
        "\n",
        "==================================================="
       ]
      },
      {
       "output_type": "stream",
       "stream": "stdout",
       "text": [
        "\n",
        " Syncing Current Working Directory with Cluster \n",
        "===================================================\n",
        "source $HOME/.bashrc_paraview; bsub -n 1 -W 60 -R \"rusage[mem=1024]\" -J 600_1e-05_conjugate-True_34 -o postprocess.out  mpirun /cluster/home/mavt/vjan/ParaView-4.0.1-Linux-64bit/bin/pvbatch --use-offscreen-rendering line_avg.py"
       ]
      },
      {
       "output_type": "stream",
       "stream": "stdout",
       "text": [
        "\n",
        "==================================================="
       ]
      },
      {
       "output_type": "stream",
       "stream": "stdout",
       "text": [
        "\n",
        " Syncing Current Working Directory with Cluster \n",
        "===================================================\n",
        "source $HOME/.bashrc_paraview; bsub -n 1 -W 60 -R \"rusage[mem=1024]\" -J 600_1e-05_conjugate-True_67 -o postprocess.out  mpirun /cluster/home/mavt/vjan/ParaView-4.0.1-Linux-64bit/bin/pvbatch --use-offscreen-rendering line_avg.py"
       ]
      },
      {
       "output_type": "stream",
       "stream": "stdout",
       "text": [
        "\n",
        "==================================================="
       ]
      },
      {
       "output_type": "stream",
       "stream": "stdout",
       "text": [
        "\n",
        " Syncing Current Working Directory with Cluster \n",
        "===================================================\n",
        "source $HOME/.bashrc_paraview; bsub -n 1 -W 60 -R \"rusage[mem=1024]\" -J 600_1e-05_conjugate-True_100 -o postprocess.out  mpirun /cluster/home/mavt/vjan/ParaView-4.0.1-Linux-64bit/bin/pvbatch --use-offscreen-rendering line_avg.py"
       ]
      },
      {
       "output_type": "stream",
       "stream": "stdout",
       "text": [
        "\n",
        "==================================================="
       ]
      },
      {
       "output_type": "stream",
       "stream": "stdout",
       "text": [
        "\n",
        " Syncing Current Working Directory with Cluster \n",
        "===================================================\n",
        "source $HOME/.bashrc_paraview; bsub -n 1 -W 60 -R \"rusage[mem=1024]\" -J 600_1e-05_conjugate-False_34 -o postprocess.out  mpirun /cluster/home/mavt/vjan/ParaView-4.0.1-Linux-64bit/bin/pvbatch --use-offscreen-rendering line_avg.py"
       ]
      },
      {
       "output_type": "stream",
       "stream": "stdout",
       "text": [
        "\n",
        "==================================================="
       ]
      },
      {
       "output_type": "stream",
       "stream": "stdout",
       "text": [
        "\n",
        " Syncing Current Working Directory with Cluster \n",
        "===================================================\n",
        "source $HOME/.bashrc_paraview; bsub -n 1 -W 60 -R \"rusage[mem=1024]\" -J 600_1e-05_conjugate-False_67 -o postprocess.out  mpirun /cluster/home/mavt/vjan/ParaView-4.0.1-Linux-64bit/bin/pvbatch --use-offscreen-rendering line_avg.py"
       ]
      },
      {
       "output_type": "stream",
       "stream": "stdout",
       "text": [
        "\n",
        "==================================================="
       ]
      },
      {
       "output_type": "stream",
       "stream": "stdout",
       "text": [
        "\n",
        " Syncing Current Working Directory with Cluster \n",
        "===================================================\n",
        "source $HOME/.bashrc_paraview; bsub -n 1 -W 60 -R \"rusage[mem=1024]\" -J 600_1e-05_conjugate-False_100 -o postprocess.out  mpirun /cluster/home/mavt/vjan/ParaView-4.0.1-Linux-64bit/bin/pvbatch --use-offscreen-rendering line_avg.py"
       ]
      },
      {
       "output_type": "stream",
       "stream": "stdout",
       "text": [
        "\n",
        "==================================================="
       ]
      },
      {
       "output_type": "stream",
       "stream": "stdout",
       "text": [
        "\n",
        " Syncing Current Working Directory with Cluster \n",
        "===================================================\n",
        "source $HOME/.bashrc_paraview; bsub -n 1 -W 60 -R \"rusage[mem=1024]\" -J 600_2e-05_conjugate-True_34 -o postprocess.out  mpirun /cluster/home/mavt/vjan/ParaView-4.0.1-Linux-64bit/bin/pvbatch --use-offscreen-rendering line_avg.py"
       ]
      },
      {
       "output_type": "stream",
       "stream": "stdout",
       "text": [
        "\n",
        "==================================================="
       ]
      },
      {
       "output_type": "stream",
       "stream": "stdout",
       "text": [
        "\n",
        " Syncing Current Working Directory with Cluster \n",
        "===================================================\n",
        "source $HOME/.bashrc_paraview; bsub -n 1 -W 60 -R \"rusage[mem=1024]\" -J 600_2e-05_conjugate-True_67 -o postprocess.out  mpirun /cluster/home/mavt/vjan/ParaView-4.0.1-Linux-64bit/bin/pvbatch --use-offscreen-rendering line_avg.py"
       ]
      },
      {
       "output_type": "stream",
       "stream": "stdout",
       "text": [
        "\n",
        "==================================================="
       ]
      },
      {
       "output_type": "stream",
       "stream": "stdout",
       "text": [
        "\n",
        " Syncing Current Working Directory with Cluster \n",
        "===================================================\n",
        "source $HOME/.bashrc_paraview; bsub -n 1 -W 60 -R \"rusage[mem=1024]\" -J 600_2e-05_conjugate-True_100 -o postprocess.out  mpirun /cluster/home/mavt/vjan/ParaView-4.0.1-Linux-64bit/bin/pvbatch --use-offscreen-rendering line_avg.py"
       ]
      },
      {
       "output_type": "stream",
       "stream": "stdout",
       "text": [
        "\n",
        "==================================================="
       ]
      },
      {
       "output_type": "stream",
       "stream": "stdout",
       "text": [
        "\n",
        " Syncing Current Working Directory with Cluster \n",
        "===================================================\n",
        "source $HOME/.bashrc_paraview; bsub -n 1 -W 60 -R \"rusage[mem=1024]\" -J 600_2e-05_conjugate-False_34 -o postprocess.out  mpirun /cluster/home/mavt/vjan/ParaView-4.0.1-Linux-64bit/bin/pvbatch --use-offscreen-rendering line_avg.py"
       ]
      },
      {
       "output_type": "stream",
       "stream": "stdout",
       "text": [
        "\n",
        "==================================================="
       ]
      },
      {
       "output_type": "stream",
       "stream": "stdout",
       "text": [
        "\n",
        " Syncing Current Working Directory with Cluster \n",
        "===================================================\n",
        "source $HOME/.bashrc_paraview; bsub -n 1 -W 60 -R \"rusage[mem=1024]\" -J 600_2e-05_conjugate-False_67 -o postprocess.out  mpirun /cluster/home/mavt/vjan/ParaView-4.0.1-Linux-64bit/bin/pvbatch --use-offscreen-rendering line_avg.py"
       ]
      },
      {
       "output_type": "stream",
       "stream": "stdout",
       "text": [
        "\n",
        "==================================================="
       ]
      },
      {
       "output_type": "stream",
       "stream": "stdout",
       "text": [
        "\n",
        " Syncing Current Working Directory with Cluster \n",
        "===================================================\n",
        "source $HOME/.bashrc_paraview; bsub -n 1 -W 60 -R \"rusage[mem=1024]\" -J 600_2e-05_conjugate-False_100 -o postprocess.out  mpirun /cluster/home/mavt/vjan/ParaView-4.0.1-Linux-64bit/bin/pvbatch --use-offscreen-rendering line_avg.py"
       ]
      },
      {
       "output_type": "stream",
       "stream": "stdout",
       "text": [
        "\n",
        "==================================================="
       ]
      },
      {
       "output_type": "stream",
       "stream": "stdout",
       "text": [
        "\n",
        " Syncing Current Working Directory with Cluster \n",
        "===================================================\n",
        "source $HOME/.bashrc_paraview; bsub -n 1 -W 60 -R \"rusage[mem=1024]\" -J 650_-1_conjugate-True_34 -o postprocess.out  mpirun /cluster/home/mavt/vjan/ParaView-4.0.1-Linux-64bit/bin/pvbatch --use-offscreen-rendering line_avg.py"
       ]
      },
      {
       "output_type": "stream",
       "stream": "stdout",
       "text": [
        "\n",
        "==================================================="
       ]
      },
      {
       "output_type": "stream",
       "stream": "stdout",
       "text": [
        "\n",
        " Syncing Current Working Directory with Cluster \n",
        "===================================================\n",
        "source $HOME/.bashrc_paraview; bsub -n 1 -W 60 -R \"rusage[mem=1024]\" -J 650_-1_conjugate-True_67 -o postprocess.out  mpirun /cluster/home/mavt/vjan/ParaView-4.0.1-Linux-64bit/bin/pvbatch --use-offscreen-rendering line_avg.py"
       ]
      },
      {
       "output_type": "stream",
       "stream": "stdout",
       "text": [
        "\n",
        "==================================================="
       ]
      },
      {
       "output_type": "stream",
       "stream": "stdout",
       "text": [
        "\n",
        " Syncing Current Working Directory with Cluster \n",
        "===================================================\n",
        "source $HOME/.bashrc_paraview; bsub -n 1 -W 60 -R \"rusage[mem=1024]\" -J 650_-1_conjugate-True_100 -o postprocess.out  mpirun /cluster/home/mavt/vjan/ParaView-4.0.1-Linux-64bit/bin/pvbatch --use-offscreen-rendering line_avg.py"
       ]
      },
      {
       "output_type": "stream",
       "stream": "stdout",
       "text": [
        "\n",
        "==================================================="
       ]
      },
      {
       "output_type": "stream",
       "stream": "stdout",
       "text": [
        "\n",
        " Syncing Current Working Directory with Cluster \n",
        "===================================================\n",
        "source $HOME/.bashrc_paraview; bsub -n 1 -W 60 -R \"rusage[mem=1024]\" -J 650_-1_conjugate-False_34 -o postprocess.out  mpirun /cluster/home/mavt/vjan/ParaView-4.0.1-Linux-64bit/bin/pvbatch --use-offscreen-rendering line_avg.py"
       ]
      },
      {
       "output_type": "stream",
       "stream": "stdout",
       "text": [
        "\n",
        "==================================================="
       ]
      },
      {
       "output_type": "stream",
       "stream": "stdout",
       "text": [
        "\n",
        " Syncing Current Working Directory with Cluster \n",
        "===================================================\n",
        "source $HOME/.bashrc_paraview; bsub -n 1 -W 60 -R \"rusage[mem=1024]\" -J 650_-1_conjugate-False_67 -o postprocess.out  mpirun /cluster/home/mavt/vjan/ParaView-4.0.1-Linux-64bit/bin/pvbatch --use-offscreen-rendering line_avg.py"
       ]
      },
      {
       "output_type": "stream",
       "stream": "stdout",
       "text": [
        "\n",
        "==================================================="
       ]
      },
      {
       "output_type": "stream",
       "stream": "stdout",
       "text": [
        "\n",
        " Syncing Current Working Directory with Cluster \n",
        "===================================================\n",
        "source $HOME/.bashrc_paraview; bsub -n 1 -W 60 -R \"rusage[mem=1024]\" -J 650_-1_conjugate-False_100 -o postprocess.out  mpirun /cluster/home/mavt/vjan/ParaView-4.0.1-Linux-64bit/bin/pvbatch --use-offscreen-rendering line_avg.py"
       ]
      },
      {
       "output_type": "stream",
       "stream": "stdout",
       "text": [
        "\n",
        "==================================================="
       ]
      },
      {
       "output_type": "stream",
       "stream": "stdout",
       "text": [
        "\n",
        " Syncing Current Working Directory with Cluster \n",
        "===================================================\n",
        "source $HOME/.bashrc_paraview; bsub -n 1 -W 60 -R \"rusage[mem=1024]\" -J 650_1e-05_conjugate-True_34 -o postprocess.out  mpirun /cluster/home/mavt/vjan/ParaView-4.0.1-Linux-64bit/bin/pvbatch --use-offscreen-rendering line_avg.py"
       ]
      },
      {
       "output_type": "stream",
       "stream": "stdout",
       "text": [
        "\n",
        "==================================================="
       ]
      },
      {
       "output_type": "stream",
       "stream": "stdout",
       "text": [
        "\n",
        " Syncing Current Working Directory with Cluster \n",
        "===================================================\n",
        "source $HOME/.bashrc_paraview; bsub -n 1 -W 60 -R \"rusage[mem=1024]\" -J 650_1e-05_conjugate-True_67 -o postprocess.out  mpirun /cluster/home/mavt/vjan/ParaView-4.0.1-Linux-64bit/bin/pvbatch --use-offscreen-rendering line_avg.py"
       ]
      },
      {
       "output_type": "stream",
       "stream": "stdout",
       "text": [
        "\n",
        "==================================================="
       ]
      },
      {
       "output_type": "stream",
       "stream": "stdout",
       "text": [
        "\n",
        " Syncing Current Working Directory with Cluster \n",
        "===================================================\n",
        "source $HOME/.bashrc_paraview; bsub -n 1 -W 60 -R \"rusage[mem=1024]\" -J 650_1e-05_conjugate-True_100 -o postprocess.out  mpirun /cluster/home/mavt/vjan/ParaView-4.0.1-Linux-64bit/bin/pvbatch --use-offscreen-rendering line_avg.py"
       ]
      },
      {
       "output_type": "stream",
       "stream": "stdout",
       "text": [
        "\n",
        "==================================================="
       ]
      },
      {
       "output_type": "stream",
       "stream": "stdout",
       "text": [
        "\n",
        " Syncing Current Working Directory with Cluster \n",
        "===================================================\n",
        "source $HOME/.bashrc_paraview; bsub -n 1 -W 60 -R \"rusage[mem=1024]\" -J 650_1e-05_conjugate-False_34 -o postprocess.out  mpirun /cluster/home/mavt/vjan/ParaView-4.0.1-Linux-64bit/bin/pvbatch --use-offscreen-rendering line_avg.py"
       ]
      },
      {
       "output_type": "stream",
       "stream": "stdout",
       "text": [
        "\n",
        "==================================================="
       ]
      },
      {
       "output_type": "stream",
       "stream": "stdout",
       "text": [
        "\n",
        " Syncing Current Working Directory with Cluster \n",
        "===================================================\n",
        "source $HOME/.bashrc_paraview; bsub -n 1 -W 60 -R \"rusage[mem=1024]\" -J 650_1e-05_conjugate-False_67 -o postprocess.out  mpirun /cluster/home/mavt/vjan/ParaView-4.0.1-Linux-64bit/bin/pvbatch --use-offscreen-rendering line_avg.py"
       ]
      },
      {
       "output_type": "stream",
       "stream": "stdout",
       "text": [
        "\n",
        "==================================================="
       ]
      },
      {
       "output_type": "stream",
       "stream": "stdout",
       "text": [
        "\n",
        " Syncing Current Working Directory with Cluster \n",
        "===================================================\n",
        "source $HOME/.bashrc_paraview; bsub -n 1 -W 60 -R \"rusage[mem=1024]\" -J 650_1e-05_conjugate-False_100 -o postprocess.out  mpirun /cluster/home/mavt/vjan/ParaView-4.0.1-Linux-64bit/bin/pvbatch --use-offscreen-rendering line_avg.py"
       ]
      },
      {
       "output_type": "stream",
       "stream": "stdout",
       "text": [
        "\n",
        "==================================================="
       ]
      },
      {
       "output_type": "stream",
       "stream": "stdout",
       "text": [
        "\n",
        " Syncing Current Working Directory with Cluster \n",
        "===================================================\n",
        "source $HOME/.bashrc_paraview; bsub -n 1 -W 60 -R \"rusage[mem=1024]\" -J 650_2e-05_conjugate-True_34 -o postprocess.out  mpirun /cluster/home/mavt/vjan/ParaView-4.0.1-Linux-64bit/bin/pvbatch --use-offscreen-rendering line_avg.py"
       ]
      },
      {
       "output_type": "stream",
       "stream": "stdout",
       "text": [
        "\n",
        "==================================================="
       ]
      },
      {
       "output_type": "stream",
       "stream": "stdout",
       "text": [
        "\n",
        " Syncing Current Working Directory with Cluster \n",
        "===================================================\n",
        "source $HOME/.bashrc_paraview; bsub -n 1 -W 60 -R \"rusage[mem=1024]\" -J 650_2e-05_conjugate-True_67 -o postprocess.out  mpirun /cluster/home/mavt/vjan/ParaView-4.0.1-Linux-64bit/bin/pvbatch --use-offscreen-rendering line_avg.py"
       ]
      },
      {
       "output_type": "stream",
       "stream": "stdout",
       "text": [
        "\n",
        "==================================================="
       ]
      },
      {
       "output_type": "stream",
       "stream": "stdout",
       "text": [
        "\n",
        " Syncing Current Working Directory with Cluster \n",
        "===================================================\n",
        "source $HOME/.bashrc_paraview; bsub -n 1 -W 60 -R \"rusage[mem=1024]\" -J 650_2e-05_conjugate-True_100 -o postprocess.out  mpirun /cluster/home/mavt/vjan/ParaView-4.0.1-Linux-64bit/bin/pvbatch --use-offscreen-rendering line_avg.py"
       ]
      },
      {
       "output_type": "stream",
       "stream": "stdout",
       "text": [
        "\n",
        "==================================================="
       ]
      },
      {
       "output_type": "stream",
       "stream": "stdout",
       "text": [
        "\n",
        " Syncing Current Working Directory with Cluster \n",
        "===================================================\n",
        "source $HOME/.bashrc_paraview; bsub -n 1 -W 60 -R \"rusage[mem=1024]\" -J 650_2e-05_conjugate-False_34 -o postprocess.out  mpirun /cluster/home/mavt/vjan/ParaView-4.0.1-Linux-64bit/bin/pvbatch --use-offscreen-rendering line_avg.py"
       ]
      },
      {
       "output_type": "stream",
       "stream": "stdout",
       "text": [
        "\n",
        "==================================================="
       ]
      },
      {
       "output_type": "stream",
       "stream": "stdout",
       "text": [
        "\n",
        " Syncing Current Working Directory with Cluster \n",
        "===================================================\n",
        "source $HOME/.bashrc_paraview; bsub -n 1 -W 60 -R \"rusage[mem=1024]\" -J 650_2e-05_conjugate-False_67 -o postprocess.out  mpirun /cluster/home/mavt/vjan/ParaView-4.0.1-Linux-64bit/bin/pvbatch --use-offscreen-rendering line_avg.py"
       ]
      },
      {
       "output_type": "stream",
       "stream": "stdout",
       "text": [
        "\n",
        "==================================================="
       ]
      },
      {
       "output_type": "stream",
       "stream": "stdout",
       "text": [
        "\n",
        " Syncing Current Working Directory with Cluster \n",
        "===================================================\n",
        "source $HOME/.bashrc_paraview; bsub -n 1 -W 60 -R \"rusage[mem=1024]\" -J 650_2e-05_conjugate-False_100 -o postprocess.out  mpirun /cluster/home/mavt/vjan/ParaView-4.0.1-Linux-64bit/bin/pvbatch --use-offscreen-rendering line_avg.py"
       ]
      },
      {
       "output_type": "stream",
       "stream": "stdout",
       "text": [
        "\n",
        "==================================================="
       ]
      },
      {
       "output_type": "stream",
       "stream": "stdout",
       "text": [
        "\n",
        " Syncing Current Working Directory with Cluster \n",
        "===================================================\n",
        "source $HOME/.bashrc_paraview; bsub -n 1 -W 60 -R \"rusage[mem=1024]\" -J 700_-1_conjugate-True_34 -o postprocess.out  mpirun /cluster/home/mavt/vjan/ParaView-4.0.1-Linux-64bit/bin/pvbatch --use-offscreen-rendering line_avg.py"
       ]
      },
      {
       "output_type": "stream",
       "stream": "stdout",
       "text": [
        "\n",
        "==================================================="
       ]
      },
      {
       "output_type": "stream",
       "stream": "stdout",
       "text": [
        "\n",
        " Syncing Current Working Directory with Cluster \n",
        "===================================================\n",
        "source $HOME/.bashrc_paraview; bsub -n 1 -W 60 -R \"rusage[mem=1024]\" -J 700_-1_conjugate-True_67 -o postprocess.out  mpirun /cluster/home/mavt/vjan/ParaView-4.0.1-Linux-64bit/bin/pvbatch --use-offscreen-rendering line_avg.py"
       ]
      },
      {
       "output_type": "stream",
       "stream": "stdout",
       "text": [
        "\n",
        "==================================================="
       ]
      },
      {
       "output_type": "stream",
       "stream": "stdout",
       "text": [
        "\n",
        " Syncing Current Working Directory with Cluster \n",
        "===================================================\n",
        "source $HOME/.bashrc_paraview; bsub -n 1 -W 60 -R \"rusage[mem=1024]\" -J 700_-1_conjugate-True_100 -o postprocess.out  mpirun /cluster/home/mavt/vjan/ParaView-4.0.1-Linux-64bit/bin/pvbatch --use-offscreen-rendering line_avg.py"
       ]
      },
      {
       "output_type": "stream",
       "stream": "stdout",
       "text": [
        "\n",
        "==================================================="
       ]
      },
      {
       "output_type": "stream",
       "stream": "stdout",
       "text": [
        "\n",
        " Syncing Current Working Directory with Cluster \n",
        "===================================================\n",
        "source $HOME/.bashrc_paraview; bsub -n 1 -W 60 -R \"rusage[mem=1024]\" -J 700_-1_conjugate-False_34 -o postprocess.out  mpirun /cluster/home/mavt/vjan/ParaView-4.0.1-Linux-64bit/bin/pvbatch --use-offscreen-rendering line_avg.py"
       ]
      },
      {
       "output_type": "stream",
       "stream": "stdout",
       "text": [
        "\n",
        "==================================================="
       ]
      },
      {
       "output_type": "stream",
       "stream": "stdout",
       "text": [
        "\n",
        " Syncing Current Working Directory with Cluster \n",
        "===================================================\n",
        "source $HOME/.bashrc_paraview; bsub -n 1 -W 60 -R \"rusage[mem=1024]\" -J 700_-1_conjugate-False_67 -o postprocess.out  mpirun /cluster/home/mavt/vjan/ParaView-4.0.1-Linux-64bit/bin/pvbatch --use-offscreen-rendering line_avg.py"
       ]
      },
      {
       "output_type": "stream",
       "stream": "stdout",
       "text": [
        "\n",
        "===================================================\n",
        " Syncing Current Working Directory with Cluster \n",
        "===================================================\n",
        "source $HOME/.bashrc_paraview; bsub -n 1 -W 60 -R \"rusage[mem=1024]\" -J 700_-1_conjugate-False_100 -o postprocess.out  mpirun /cluster/home/mavt/vjan/ParaView-4.0.1-Linux-64bit/bin/pvbatch --use-offscreen-rendering line_avg.py"
       ]
      },
      {
       "output_type": "stream",
       "stream": "stdout",
       "text": [
        "\n",
        "==================================================="
       ]
      },
      {
       "output_type": "stream",
       "stream": "stdout",
       "text": [
        "\n",
        " Syncing Current Working Directory with Cluster \n",
        "===================================================\n",
        "source $HOME/.bashrc_paraview; bsub -n 1 -W 60 -R \"rusage[mem=1024]\" -J 700_1e-05_conjugate-True_34 -o postprocess.out  mpirun /cluster/home/mavt/vjan/ParaView-4.0.1-Linux-64bit/bin/pvbatch --use-offscreen-rendering line_avg.py"
       ]
      },
      {
       "output_type": "stream",
       "stream": "stdout",
       "text": [
        "\n",
        "==================================================="
       ]
      },
      {
       "output_type": "stream",
       "stream": "stdout",
       "text": [
        "\n",
        " Syncing Current Working Directory with Cluster \n",
        "===================================================\n",
        "source $HOME/.bashrc_paraview; bsub -n 1 -W 60 -R \"rusage[mem=1024]\" -J 700_1e-05_conjugate-True_67 -o postprocess.out  mpirun /cluster/home/mavt/vjan/ParaView-4.0.1-Linux-64bit/bin/pvbatch --use-offscreen-rendering line_avg.py"
       ]
      },
      {
       "output_type": "stream",
       "stream": "stdout",
       "text": [
        "\n",
        "==================================================="
       ]
      },
      {
       "output_type": "stream",
       "stream": "stdout",
       "text": [
        "\n",
        " Syncing Current Working Directory with Cluster \n",
        "===================================================\n",
        "source $HOME/.bashrc_paraview; bsub -n 1 -W 60 -R \"rusage[mem=1024]\" -J 700_1e-05_conjugate-True_100 -o postprocess.out  mpirun /cluster/home/mavt/vjan/ParaView-4.0.1-Linux-64bit/bin/pvbatch --use-offscreen-rendering line_avg.py"
       ]
      },
      {
       "output_type": "stream",
       "stream": "stdout",
       "text": [
        "\n",
        "==================================================="
       ]
      },
      {
       "output_type": "stream",
       "stream": "stdout",
       "text": [
        "\n",
        " Syncing Current Working Directory with Cluster \n",
        "===================================================\n",
        "source $HOME/.bashrc_paraview; bsub -n 1 -W 60 -R \"rusage[mem=1024]\" -J 700_1e-05_conjugate-False_34 -o postprocess.out  mpirun /cluster/home/mavt/vjan/ParaView-4.0.1-Linux-64bit/bin/pvbatch --use-offscreen-rendering line_avg.py"
       ]
      },
      {
       "output_type": "stream",
       "stream": "stdout",
       "text": [
        "\n",
        "==================================================="
       ]
      },
      {
       "output_type": "stream",
       "stream": "stdout",
       "text": [
        "\n",
        " Syncing Current Working Directory with Cluster \n",
        "===================================================\n",
        "source $HOME/.bashrc_paraview; bsub -n 1 -W 60 -R \"rusage[mem=1024]\" -J 700_1e-05_conjugate-False_67 -o postprocess.out  mpirun /cluster/home/mavt/vjan/ParaView-4.0.1-Linux-64bit/bin/pvbatch --use-offscreen-rendering line_avg.py"
       ]
      },
      {
       "output_type": "stream",
       "stream": "stdout",
       "text": [
        "\n",
        "==================================================="
       ]
      },
      {
       "output_type": "stream",
       "stream": "stdout",
       "text": [
        "\n",
        " Syncing Current Working Directory with Cluster \n",
        "===================================================\n",
        "source $HOME/.bashrc_paraview; bsub -n 1 -W 60 -R \"rusage[mem=1024]\" -J 700_1e-05_conjugate-False_100 -o postprocess.out  mpirun /cluster/home/mavt/vjan/ParaView-4.0.1-Linux-64bit/bin/pvbatch --use-offscreen-rendering line_avg.py"
       ]
      },
      {
       "output_type": "stream",
       "stream": "stdout",
       "text": [
        "\n",
        "==================================================="
       ]
      },
      {
       "output_type": "stream",
       "stream": "stdout",
       "text": [
        "\n",
        " Syncing Current Working Directory with Cluster \n",
        "===================================================\n",
        "source $HOME/.bashrc_paraview; bsub -n 1 -W 60 -R \"rusage[mem=1024]\" -J 700_2e-05_conjugate-True_34 -o postprocess.out  mpirun /cluster/home/mavt/vjan/ParaView-4.0.1-Linux-64bit/bin/pvbatch --use-offscreen-rendering line_avg.py"
       ]
      },
      {
       "output_type": "stream",
       "stream": "stdout",
       "text": [
        "\n",
        "==================================================="
       ]
      },
      {
       "output_type": "stream",
       "stream": "stdout",
       "text": [
        "\n",
        " Syncing Current Working Directory with Cluster \n",
        "===================================================\n",
        "source $HOME/.bashrc_paraview; bsub -n 1 -W 60 -R \"rusage[mem=1024]\" -J 700_2e-05_conjugate-True_67 -o postprocess.out  mpirun /cluster/home/mavt/vjan/ParaView-4.0.1-Linux-64bit/bin/pvbatch --use-offscreen-rendering line_avg.py"
       ]
      },
      {
       "output_type": "stream",
       "stream": "stdout",
       "text": [
        "\n",
        "==================================================="
       ]
      },
      {
       "output_type": "stream",
       "stream": "stdout",
       "text": [
        "\n",
        " Syncing Current Working Directory with Cluster \n",
        "===================================================\n",
        "source $HOME/.bashrc_paraview; bsub -n 1 -W 60 -R \"rusage[mem=1024]\" -J 700_2e-05_conjugate-True_100 -o postprocess.out  mpirun /cluster/home/mavt/vjan/ParaView-4.0.1-Linux-64bit/bin/pvbatch --use-offscreen-rendering line_avg.py"
       ]
      },
      {
       "output_type": "stream",
       "stream": "stdout",
       "text": [
        "\n",
        "==================================================="
       ]
      },
      {
       "output_type": "stream",
       "stream": "stdout",
       "text": [
        "\n",
        " Syncing Current Working Directory with Cluster \n",
        "===================================================\n",
        "source $HOME/.bashrc_paraview; bsub -n 1 -W 60 -R \"rusage[mem=1024]\" -J 700_2e-05_conjugate-False_34 -o postprocess.out  mpirun /cluster/home/mavt/vjan/ParaView-4.0.1-Linux-64bit/bin/pvbatch --use-offscreen-rendering line_avg.py"
       ]
      },
      {
       "output_type": "stream",
       "stream": "stdout",
       "text": [
        "\n",
        "==================================================="
       ]
      },
      {
       "output_type": "stream",
       "stream": "stdout",
       "text": [
        "\n",
        " Syncing Current Working Directory with Cluster \n",
        "===================================================\n",
        "source $HOME/.bashrc_paraview; bsub -n 1 -W 60 -R \"rusage[mem=1024]\" -J 700_2e-05_conjugate-False_67 -o postprocess.out  mpirun /cluster/home/mavt/vjan/ParaView-4.0.1-Linux-64bit/bin/pvbatch --use-offscreen-rendering line_avg.py"
       ]
      },
      {
       "output_type": "stream",
       "stream": "stdout",
       "text": [
        "\n",
        "==================================================="
       ]
      },
      {
       "output_type": "stream",
       "stream": "stdout",
       "text": [
        "\n",
        " Syncing Current Working Directory with Cluster \n",
        "===================================================\n",
        "source $HOME/.bashrc_paraview; bsub -n 1 -W 60 -R \"rusage[mem=1024]\" -J 700_2e-05_conjugate-False_100 -o postprocess.out  mpirun /cluster/home/mavt/vjan/ParaView-4.0.1-Linux-64bit/bin/pvbatch --use-offscreen-rendering line_avg.py"
       ]
      },
      {
       "output_type": "stream",
       "stream": "stdout",
       "text": [
        "\n"
       ]
      }
     ],
     "prompt_number": 137
    },
    {
     "cell_type": "code",
     "collapsed": false,
     "input": [
      "for sim in sim_list:\n",
      "   sim.sync_input()\n",
      "   #sim.run_init(nproc=\"1\",memory=\"1024\",time='60') \n",
      "   #sim.run_sim(nproc=\"4\",memory=\"1024\",time='480',njobs=1,restart=True) \n",
      "   if not filter_file(sim):\n",
      "        sim.run_sim(nproc=\"4\",memory=\"1024\",time='480',njobs=1,restart=True) \n",
      "   #sim.kill()"
     ],
     "language": "python",
     "metadata": {},
     "outputs": [
      {
       "output_type": "stream",
       "stream": "stdout",
       "text": [
        "===================================================\n",
        " Syncing Current Working Directory with Cluster \n",
        "===================================================\n",
        "==================================================="
       ]
      },
      {
       "output_type": "stream",
       "stream": "stdout",
       "text": [
        "\n",
        " Syncing Current Working Directory with Cluster \n",
        "===================================================\n",
        "==================================================="
       ]
      },
      {
       "output_type": "stream",
       "stream": "stdout",
       "text": [
        "\n",
        " Syncing Current Working Directory with Cluster \n",
        "===================================================\n",
        "==================================================="
       ]
      },
      {
       "output_type": "stream",
       "stream": "stdout",
       "text": [
        "\n",
        " Syncing Current Working Directory with Cluster \n",
        "===================================================\n",
        "==================================================="
       ]
      },
      {
       "output_type": "stream",
       "stream": "stdout",
       "text": [
        "\n",
        " Syncing Current Working Directory with Cluster \n",
        "===================================================\n",
        "==================================================="
       ]
      },
      {
       "output_type": "stream",
       "stream": "stdout",
       "text": [
        "\n",
        " Syncing Current Working Directory with Cluster \n",
        "===================================================\n",
        "==================================================="
       ]
      },
      {
       "output_type": "stream",
       "stream": "stdout",
       "text": [
        "\n",
        " Syncing Current Working Directory with Cluster \n",
        "===================================================\n",
        "==================================================="
       ]
      },
      {
       "output_type": "stream",
       "stream": "stdout",
       "text": [
        "\n",
        " Syncing Current Working Directory with Cluster \n",
        "===================================================\n",
        "==================================================="
       ]
      },
      {
       "output_type": "stream",
       "stream": "stdout",
       "text": [
        "\n",
        " Syncing Current Working Directory with Cluster \n",
        "===================================================\n",
        "bsub -n 1 -W 60 -R \"rusage[mem=1024]\" -J 600_1e-05_conjugate-True_34 -o post_command.log   ./post_command.py "
       ]
      },
      {
       "output_type": "stream",
       "stream": "stdout",
       "text": [
        "\n",
        "Job <52024425> is submitted to queue <pub.1h>."
       ]
      },
      {
       "output_type": "stream",
       "stream": "stdout",
       "text": [
        "\n",
        "Generic job.\n",
        "bsub -n 4 -W 480 -R \"rusage[mem=1024]\" -J 600_1e-05_conjugate-True_34 -o std_out.log -w \"ended(600_1e-05_conjugate-True_34)\" mpirun ./transatmbDP -pc_hypre_boomeramg_max_iter -pc_hypre_boomeramg_coarsen_type HMIS -pc_hypre_boomeramg_interp_type ext+i -pc_hypre_boomeramg_P_max 4 -pc_hypre_boomeramg_strong_treshold 0 -pc_hypre_boomeramg_agg_nl 2\n",
        "Job <52024426> is submitted to queue <pub.8h>."
       ]
      },
      {
       "output_type": "stream",
       "stream": "stdout",
       "text": [
        "\n",
        "MPI job.\n",
        "===================================================\n",
        " Syncing Current Working Directory with Cluster \n",
        "===================================================\n",
        "==================================================="
       ]
      },
      {
       "output_type": "stream",
       "stream": "stdout",
       "text": [
        "\n",
        " Syncing Current Working Directory with Cluster \n",
        "===================================================\n",
        "==================================================="
       ]
      },
      {
       "output_type": "stream",
       "stream": "stdout",
       "text": [
        "\n",
        " Syncing Current Working Directory with Cluster \n",
        "===================================================\n",
        "==================================================="
       ]
      },
      {
       "output_type": "stream",
       "stream": "stdout",
       "text": [
        "\n",
        " Syncing Current Working Directory with Cluster \n",
        "===================================================\n",
        "bsub -n 1 -W 60 -R \"rusage[mem=1024]\" -J 600_1e-05_conjugate-True_100 -o post_command.log   ./post_command.py "
       ]
      },
      {
       "output_type": "stream",
       "stream": "stdout",
       "text": [
        "\n",
        "Job <52024440> is submitted to queue <pub.1h>."
       ]
      },
      {
       "output_type": "stream",
       "stream": "stdout",
       "text": [
        "\n",
        "Generic job.\n",
        "bsub -n 4 -W 480 -R \"rusage[mem=1024]\" -J 600_1e-05_conjugate-True_100 -o std_out.log -w \"ended(600_1e-05_conjugate-True_100)\" mpirun ./transatmbDP -pc_hypre_boomeramg_max_iter -pc_hypre_boomeramg_coarsen_type HMIS -pc_hypre_boomeramg_interp_type ext+i -pc_hypre_boomeramg_P_max 4 -pc_hypre_boomeramg_strong_treshold 0 -pc_hypre_boomeramg_agg_nl 2\n",
        "Job <52024444> is submitted to queue <pub.8h>."
       ]
      },
      {
       "output_type": "stream",
       "stream": "stdout",
       "text": [
        "\n",
        "MPI job.\n",
        "===================================================\n",
        " Syncing Current Working Directory with Cluster \n",
        "===================================================\n",
        "==================================================="
       ]
      },
      {
       "output_type": "stream",
       "stream": "stdout",
       "text": [
        "\n",
        " Syncing Current Working Directory with Cluster \n",
        "===================================================\n",
        "==================================================="
       ]
      },
      {
       "output_type": "stream",
       "stream": "stdout",
       "text": [
        "\n",
        " Syncing Current Working Directory with Cluster \n",
        "===================================================\n",
        "bsub -n 1 -W 60 -R \"rusage[mem=1024]\" -J 600_1e-05_conjugate-False_34 -o post_command.log   ./post_command.py "
       ]
      },
      {
       "output_type": "stream",
       "stream": "stdout",
       "text": [
        "\n",
        "Job <52024455> is submitted to queue <pub.1h>."
       ]
      },
      {
       "output_type": "stream",
       "stream": "stdout",
       "text": [
        "\n",
        "Generic job.\n",
        "bsub -n 4 -W 480 -R \"rusage[mem=1024]\" -J 600_1e-05_conjugate-False_34 -o std_out.log -w \"ended(600_1e-05_conjugate-False_34)\" mpirun ./transatmbDP -pc_hypre_boomeramg_max_iter -pc_hypre_boomeramg_coarsen_type HMIS -pc_hypre_boomeramg_interp_type ext+i -pc_hypre_boomeramg_P_max 4 -pc_hypre_boomeramg_strong_treshold 0 -pc_hypre_boomeramg_agg_nl 2\n",
        "Job <52024456> is submitted to queue <pub.8h>."
       ]
      },
      {
       "output_type": "stream",
       "stream": "stdout",
       "text": [
        "\n",
        "MPI job.\n",
        "===================================================\n",
        " Syncing Current Working Directory with Cluster \n",
        "===================================================\n",
        "==================================================="
       ]
      },
      {
       "output_type": "stream",
       "stream": "stdout",
       "text": [
        "\n",
        " Syncing Current Working Directory with Cluster \n",
        "===================================================\n",
        "==================================================="
       ]
      },
      {
       "output_type": "stream",
       "stream": "stdout",
       "text": [
        "\n",
        " Syncing Current Working Directory with Cluster \n",
        "===================================================\n",
        "==================================================="
       ]
      },
      {
       "output_type": "stream",
       "stream": "stdout",
       "text": [
        "\n",
        " Syncing Current Working Directory with Cluster \n",
        "===================================================\n",
        "==================================================="
       ]
      },
      {
       "output_type": "stream",
       "stream": "stdout",
       "text": [
        "\n",
        " Syncing Current Working Directory with Cluster \n",
        "===================================================\n",
        "bsub -n 1 -W 60 -R \"rusage[mem=1024]\" -J 600_2e-05_conjugate-True_34 -o post_command.log   ./post_command.py "
       ]
      },
      {
       "output_type": "stream",
       "stream": "stdout",
       "text": [
        "\n",
        "Job <52024457> is submitted to queue <pub.1h>."
       ]
      },
      {
       "output_type": "stream",
       "stream": "stdout",
       "text": [
        "\n",
        "Generic job.\n",
        "bsub -n 4 -W 480 -R \"rusage[mem=1024]\" -J 600_2e-05_conjugate-True_34 -o std_out.log -w \"ended(600_2e-05_conjugate-True_34)\" mpirun ./transatmbDP -pc_hypre_boomeramg_max_iter -pc_hypre_boomeramg_coarsen_type HMIS -pc_hypre_boomeramg_interp_type ext+i -pc_hypre_boomeramg_P_max 4 -pc_hypre_boomeramg_strong_treshold 0 -pc_hypre_boomeramg_agg_nl 2\n",
        "Job <52024458> is submitted to queue <pub.8h>."
       ]
      },
      {
       "output_type": "stream",
       "stream": "stdout",
       "text": [
        "\n",
        "MPI job.\n",
        "===================================================\n",
        " Syncing Current Working Directory with Cluster \n",
        "===================================================\n",
        "==================================================="
       ]
      },
      {
       "output_type": "stream",
       "stream": "stdout",
       "text": [
        "\n",
        " Syncing Current Working Directory with Cluster \n",
        "===================================================\n",
        "==================================================="
       ]
      },
      {
       "output_type": "stream",
       "stream": "stdout",
       "text": [
        "\n",
        " Syncing Current Working Directory with Cluster \n",
        "===================================================\n",
        "==================================================="
       ]
      },
      {
       "output_type": "stream",
       "stream": "stdout",
       "text": [
        "\n",
        " Syncing Current Working Directory with Cluster \n",
        "===================================================\n",
        "bsub -n 1 -W 60 -R \"rusage[mem=1024]\" -J 600_2e-05_conjugate-True_100 -o post_command.log   ./post_command.py "
       ]
      },
      {
       "output_type": "stream",
       "stream": "stdout",
       "text": [
        "\n",
        "Job <52024459> is submitted to queue <pub.1h>."
       ]
      },
      {
       "output_type": "stream",
       "stream": "stdout",
       "text": [
        "\n",
        "Generic job.\n",
        "bsub -n 4 -W 480 -R \"rusage[mem=1024]\" -J 600_2e-05_conjugate-True_100 -o std_out.log -w \"ended(600_2e-05_conjugate-True_100)\" mpirun ./transatmbDP -pc_hypre_boomeramg_max_iter -pc_hypre_boomeramg_coarsen_type HMIS -pc_hypre_boomeramg_interp_type ext+i -pc_hypre_boomeramg_P_max 4 -pc_hypre_boomeramg_strong_treshold 0 -pc_hypre_boomeramg_agg_nl 2\n",
        "Job <52024460> is submitted to queue <pub.8h>."
       ]
      },
      {
       "output_type": "stream",
       "stream": "stdout",
       "text": [
        "\n",
        "MPI job.\n",
        "===================================================\n",
        " Syncing Current Working Directory with Cluster \n",
        "===================================================\n",
        "==================================================="
       ]
      },
      {
       "output_type": "stream",
       "stream": "stdout",
       "text": [
        "\n",
        " Syncing Current Working Directory with Cluster \n",
        "===================================================\n",
        "==================================================="
       ]
      },
      {
       "output_type": "stream",
       "stream": "stdout",
       "text": [
        "\n",
        " Syncing Current Working Directory with Cluster \n",
        "===================================================\n",
        "==================================================="
       ]
      },
      {
       "output_type": "stream",
       "stream": "stdout",
       "text": [
        "\n",
        " Syncing Current Working Directory with Cluster \n",
        "===================================================\n",
        "==================================================="
       ]
      },
      {
       "output_type": "stream",
       "stream": "stdout",
       "text": [
        "\n",
        " Syncing Current Working Directory with Cluster \n",
        "===================================================\n",
        "==================================================="
       ]
      },
      {
       "output_type": "stream",
       "stream": "stdout",
       "text": [
        "\n",
        " Syncing Current Working Directory with Cluster \n",
        "===================================================\n",
        "==================================================="
       ]
      },
      {
       "output_type": "stream",
       "stream": "stdout",
       "text": [
        "\n",
        " Syncing Current Working Directory with Cluster \n",
        "===================================================\n",
        "==================================================="
       ]
      },
      {
       "output_type": "stream",
       "stream": "stdout",
       "text": [
        "\n",
        " Syncing Current Working Directory with Cluster \n",
        "===================================================\n",
        "==================================================="
       ]
      },
      {
       "output_type": "stream",
       "stream": "stdout",
       "text": [
        "\n",
        " Syncing Current Working Directory with Cluster \n",
        "===================================================\n",
        "==================================================="
       ]
      },
      {
       "output_type": "stream",
       "stream": "stdout",
       "text": [
        "\n",
        " Syncing Current Working Directory with Cluster \n",
        "===================================================\n",
        "==================================================="
       ]
      },
      {
       "output_type": "stream",
       "stream": "stdout",
       "text": [
        "\n",
        " Syncing Current Working Directory with Cluster \n",
        "===================================================\n",
        "==================================================="
       ]
      },
      {
       "output_type": "stream",
       "stream": "stdout",
       "text": [
        "\n",
        " Syncing Current Working Directory with Cluster \n",
        "===================================================\n",
        "==================================================="
       ]
      },
      {
       "output_type": "stream",
       "stream": "stdout",
       "text": [
        "\n",
        " Syncing Current Working Directory with Cluster \n",
        "===================================================\n",
        "==================================================="
       ]
      },
      {
       "output_type": "stream",
       "stream": "stdout",
       "text": [
        "\n",
        " Syncing Current Working Directory with Cluster \n",
        "===================================================\n",
        "==================================================="
       ]
      },
      {
       "output_type": "stream",
       "stream": "stdout",
       "text": [
        "\n",
        " Syncing Current Working Directory with Cluster \n",
        "===================================================\n",
        "==================================================="
       ]
      },
      {
       "output_type": "stream",
       "stream": "stdout",
       "text": [
        "\n",
        " Syncing Current Working Directory with Cluster \n",
        "===================================================\n",
        "==================================================="
       ]
      },
      {
       "output_type": "stream",
       "stream": "stdout",
       "text": [
        "\n",
        " Syncing Current Working Directory with Cluster \n",
        "===================================================\n",
        "==================================================="
       ]
      },
      {
       "output_type": "stream",
       "stream": "stdout",
       "text": [
        "\n",
        " Syncing Current Working Directory with Cluster \n",
        "===================================================\n",
        "==================================================="
       ]
      },
      {
       "output_type": "stream",
       "stream": "stdout",
       "text": [
        "\n",
        " Syncing Current Working Directory with Cluster \n",
        "===================================================\n",
        "==================================================="
       ]
      },
      {
       "output_type": "stream",
       "stream": "stdout",
       "text": [
        "\n",
        " Syncing Current Working Directory with Cluster \n",
        "===================================================\n",
        "==================================================="
       ]
      },
      {
       "output_type": "stream",
       "stream": "stdout",
       "text": [
        "\n",
        " Syncing Current Working Directory with Cluster \n",
        "===================================================\n",
        "==================================================="
       ]
      },
      {
       "output_type": "stream",
       "stream": "stdout",
       "text": [
        "\n",
        " Syncing Current Working Directory with Cluster \n",
        "===================================================\n",
        "==================================================="
       ]
      },
      {
       "output_type": "stream",
       "stream": "stdout",
       "text": [
        "\n",
        " Syncing Current Working Directory with Cluster \n",
        "===================================================\n",
        "==================================================="
       ]
      },
      {
       "output_type": "stream",
       "stream": "stdout",
       "text": [
        "\n",
        " Syncing Current Working Directory with Cluster \n",
        "===================================================\n",
        "==================================================="
       ]
      },
      {
       "output_type": "stream",
       "stream": "stdout",
       "text": [
        "\n",
        " Syncing Current Working Directory with Cluster \n",
        "===================================================\n",
        "==================================================="
       ]
      },
      {
       "output_type": "stream",
       "stream": "stdout",
       "text": [
        "\n",
        " Syncing Current Working Directory with Cluster \n",
        "===================================================\n",
        "==================================================="
       ]
      },
      {
       "output_type": "stream",
       "stream": "stdout",
       "text": [
        "\n",
        " Syncing Current Working Directory with Cluster \n",
        "===================================================\n",
        "==================================================="
       ]
      },
      {
       "output_type": "stream",
       "stream": "stdout",
       "text": [
        "\n",
        " Syncing Current Working Directory with Cluster \n",
        "===================================================\n",
        "==================================================="
       ]
      },
      {
       "output_type": "stream",
       "stream": "stdout",
       "text": [
        "\n",
        " Syncing Current Working Directory with Cluster \n",
        "===================================================\n",
        "==================================================="
       ]
      },
      {
       "output_type": "stream",
       "stream": "stdout",
       "text": [
        "\n",
        " Syncing Current Working Directory with Cluster \n",
        "===================================================\n",
        "==================================================="
       ]
      },
      {
       "output_type": "stream",
       "stream": "stdout",
       "text": [
        "\n",
        " Syncing Current Working Directory with Cluster \n",
        "===================================================\n",
        "==================================================="
       ]
      },
      {
       "output_type": "stream",
       "stream": "stdout",
       "text": [
        "\n",
        " Syncing Current Working Directory with Cluster \n",
        "===================================================\n",
        "==================================================="
       ]
      },
      {
       "output_type": "stream",
       "stream": "stdout",
       "text": [
        "\n",
        " Syncing Current Working Directory with Cluster \n",
        "===================================================\n",
        "==================================================="
       ]
      },
      {
       "output_type": "stream",
       "stream": "stdout",
       "text": [
        "\n",
        " Syncing Current Working Directory with Cluster \n",
        "===================================================\n",
        "==================================================="
       ]
      },
      {
       "output_type": "stream",
       "stream": "stdout",
       "text": [
        "\n",
        " Syncing Current Working Directory with Cluster \n",
        "===================================================\n",
        "==================================================="
       ]
      },
      {
       "output_type": "stream",
       "stream": "stdout",
       "text": [
        "\n",
        " Syncing Current Working Directory with Cluster \n",
        "===================================================\n",
        "==================================================="
       ]
      },
      {
       "output_type": "stream",
       "stream": "stdout",
       "text": [
        "\n",
        " Syncing Current Working Directory with Cluster \n",
        "===================================================\n",
        "==================================================="
       ]
      },
      {
       "output_type": "stream",
       "stream": "stdout",
       "text": [
        "\n",
        " Syncing Current Working Directory with Cluster \n",
        "===================================================\n",
        "==================================================="
       ]
      },
      {
       "output_type": "stream",
       "stream": "stdout",
       "text": [
        "\n",
        " Syncing Current Working Directory with Cluster \n",
        "===================================================\n"
       ]
      }
     ],
     "prompt_number": 176
    },
    {
     "cell_type": "code",
     "collapsed": false,
     "input": [
      "for sim in sim_list:\n",
      "   #sim.sync_input()\n",
      "   sim.run_init(nproc=\"1\",memory=\"1024\",time='60') \n",
      "   #sim.run_sim(nproc=\"4\",memory=\"1024\",time='480',njobs=1,restart=False) \n",
      "   #sim.kill()"
     ],
     "language": "python",
     "metadata": {},
     "outputs": [
      {
       "output_type": "stream",
       "stream": "stdout",
       "text": [
        "---\n",
        "- transatdir  =/cluster/home/mavt/vjan/gfort_O3\n",
        "- ccompiler   =mpicc\n",
        "- cppcompiler =mpicxx\n",
        "- linker      =mpicc\n",
        "- precision   =dp\n",
        "- mode        =64bit\n",
        "---\n",
        "\n",
        "Folder /cluster/scratch_xl/public/vjan/cylinder_tests/600_-1_conjugate-True_34/.initialconditions exists already...\n",
        "Creating folder /cluster/scratch_xl/public/vjan/cylinder_tests/600_-1_conjugate-True_34/RESULT\n",
        "Converting Cantera input file\n"
       ]
      },
      {
       "output_type": "stream",
       "stream": "stdout",
       "text": [
        "\n",
        "------------------\n",
        "library container:\n",
        "------------------\n",
        "\n",
        "library: libtransatmbDP.a\n",
        "-> contains 0 file objects:\n",
        "\n",
        "library: libDnspcgDP.a\n",
        "-> contains 0 file objects:\n",
        "\n",
        "library: liblokiDP.a\n",
        "-> contains 0 file objects:\n",
        "\n",
        "library: libusrtoolsDP.a\n",
        "-> contains 0 file objects:\n",
        "\n",
        "\n",
        "includes:\n",
        "-> contains 40 file objects:\n",
        "   -> 39 h-files\n",
        "   -> 1 h90-file\n",
        "\n"
       ]
      },
      {
       "output_type": "stream",
       "stream": "stdout",
       "text": [
        "\n",
        "--------------------------\n",
        "dependency summary:\n",
        "--------------------------\n",
        "creating all dependencies took 0.0556490421295 s\n",
        "\n",
        "\n",
        "-> list: sourcelist\n",
        "        * 0 objects\n",
        "        * 0 object with dependencies found\n",
        "        * 0 dependency found\n",
        "\n",
        "-> list: includelist\n",
        "        * 40 objects\n",
        "        * 18 objects with dependencies found\n",
        "        * 29 dependencies found\n",
        "\n",
        "-> list: libextlist\n",
        "        * 3 objects\n",
        "        * 1 object with dependencies found\n",
        "        * 1 dependency found\n",
        "\n",
        "----------------------------\n",
        " Creating Makefile          \n",
        "----------------------------\n",
        "\n",
        "working    directory : /cluster/scratch_xl/public/vjan/cylinder_tests/600_-1_conjugate-True_34/.initialconditions\n",
        "executable directory : /cluster/scratch_xl/public/vjan/cylinder_tests/600_-1_conjugate-True_34\n",
        "executable name      : transatmbinitialDP\n",
        "\n",
        "Makefile created...\n",
        "\n",
        "\n",
        "----------------------------\n",
        " Building                   \n",
        "----------------------------\n",
        "\n",
        "change to subfolder: /cluster/scratch_xl/public/vjan/cylinder_tests/600_-1_conjugate-True_34/.initialconditions\n",
        "mpicxx -O3   -I\"../../../../../../home/mavt/vjan/gfort_O3/inc\" -c ../initialconditions.cxx -o ./initialconditionsDP.o"
       ]
      },
      {
       "output_type": "stream",
       "stream": "stdout",
       "text": [
        "\n"
       ]
      },
      {
       "output_type": "stream",
       "stream": "stdout",
       "text": [
        "\n",
        "mpicc  ../../../../../../home/mavt/vjan/gfort_O3/lib/userglobalDP.o ./initialconditionsDP.o ../../../../../../home/mavt/vjan/gfort_O3/lib/tmbinitDP.o    -L\"../../../../../../home/mavt/vjan/gfort_O3/lib\"  -ltransatmbDP -lDnspcgDP -llokiDP -lusrtoolsDP  -ltransatmbDP -lDnspcgDP -llokiDP -lusrtoolsDP -lstdc++ -L/cluster/home/mavt/vjan/petsc/petsc-3.2-p7_with_16_gfortran/lib  -lpetsc -lX11 -Wl,-rpath,/cluster/home/mavt/vjan/petsc/petsc-3.2-p7_with_16_gfortran/lib -lHYPRE -lmpi_cxx -lstdc++ -lpthread -lflapack -lfblas -L/cluster/apps/openmpi/1.6.1/x86_64/gcc_4.7.2/lib -L/cluster/apps/gcc/gcc472/lib64/gcc/x86_64-unknown-linux-gnu/4.7.2 -L/cluster/apps/gcc/gcc472/lib64 -ldl -lmpi -lopen-rte -lopen-pal -lrt -lnsl -lutil -lgcc_s -lpthread -lmpi_f90 -lmpi_f77 -lgfortran -lm -lgfortran -lm -lgfortran -lm -lgfortran -lm -lm -lm -lquadmath -lm -lmpi_cxx -lstdc++ -ldl -lmpi -lopen-rte -lopen-pal -lrt -lnsl -lutil -lgcc_s -lpthread -ldl  -L/cluster/home/mavt/vjan/petsc/petsc-3.2-p7_with_16_gfortran/lib  -lpetsc -lX11 -Wl,-rpath,/cluster/home/mavt/vjan/petsc/petsc-3.2-p7_with_16_gfortran/lib -lHYPRE -lmpi_cxx -lstdc++ -lpthread -lflapack -lfblas -L/cluster/apps/openmpi/1.6.1/x86_64/gcc_4.7.2/lib -L/cluster/apps/gcc/gcc472/lib64/gcc/x86_64-unknown-linux-gnu/4.7.2 -L/cluster/apps/gcc/gcc472/lib64 -ldl -lmpi -lopen-rte -lopen-pal -lrt -lnsl -lutil -lgcc_s -lpthread -lmpi_f90 -lmpi_f77 -lgfortran -lm -lgfortran -lm -lgfortran -lm -lgfortran -lm -lm -lm -lquadmath -lm -lmpi_cxx -lstdc++ -ldl -lmpi -lopen-rte -lopen-pal -lrt -lnsl -lutil -lgcc_s -lpthread -ldl  -lcantera  -o ../transatmbinitialDP\n"
       ]
      },
      {
       "output_type": "stream",
       "stream": "stdout",
       "text": [
        "\n",
        "\n",
        "done...\n",
        "\n",
        "make: Warning: File `../initialconditions.cxx' has modification time 2.9e+03 s in the future\n",
        "make: warning:  Clock skew detected.  Your build may be incomplete.\n",
        "===================================================\n",
        " Syncing Current Working Directory with Cluster \n",
        "===================================================\n",
        "bsub -n 1 -W 60 -R \"rusage[mem=1024]\" -J 600_-1_conjugate-True_34 -o std_out.log  mpirun ./transatmbinitialDP "
       ]
      },
      {
       "output_type": "stream",
       "stream": "stdout",
       "text": [
        "\n",
        "Job <51612093> is submitted to queue <pub.1h>."
       ]
      },
      {
       "output_type": "stream",
       "stream": "stdout",
       "text": [
        "\n",
        "MPI job.\n",
        "---"
       ]
      },
      {
       "output_type": "stream",
       "stream": "stdout",
       "text": [
        "\n",
        "- transatdir  =/cluster/home/mavt/vjan/gfort_O3\n",
        "- ccompiler   =mpicc\n",
        "- cppcompiler =mpicxx\n",
        "- linker      =mpicc\n",
        "- precision   =dp\n",
        "- mode        =64bit\n",
        "---\n",
        "\n",
        "Folder /cluster/scratch_xl/public/vjan/cylinder_tests/600_-1_conjugate-True_67/.initialconditions exists already...\n",
        "Creating folder /cluster/scratch_xl/public/vjan/cylinder_tests/600_-1_conjugate-True_67/RESULT\n",
        "Converting Cantera input file\n",
        "\n",
        "------------------\n",
        "library container:\n",
        "------------------\n",
        "\n",
        "library: libtransatmbDP.a\n",
        "-> contains 0 file objects:\n",
        "\n",
        "library: libDnspcgDP.a\n",
        "-> contains 0 file objects:\n",
        "\n",
        "library: liblokiDP.a\n",
        "-> contains 0 file objects:\n",
        "\n",
        "library: libusrtoolsDP.a\n",
        "-> contains 0 file objects:\n",
        "\n",
        "\n",
        "includes:"
       ]
      },
      {
       "output_type": "stream",
       "stream": "stdout",
       "text": [
        "\n",
        "-> contains 40 file objects:\n",
        "   -> 39 h-files\n",
        "   -> 1 h90-file\n",
        "\n",
        "\n",
        "--------------------------\n",
        "dependency summary:\n",
        "--------------------------\n",
        "creating all dependencies took 0.0458548069 s\n",
        "\n",
        "\n",
        "-> list: sourcelist\n",
        "        * 0 objects\n",
        "        * 0 object with dependencies found\n",
        "        * 0 dependency found\n",
        "\n",
        "-> list: includelist\n",
        "        * 40 objects\n",
        "        * 18 objects with dependencies found\n",
        "        * 29 dependencies found\n",
        "\n",
        "-> list: libextlist\n",
        "        * 3 objects\n",
        "        * 1 object with dependencies found\n",
        "        * 1 dependency found\n",
        "\n",
        "----------------------------\n",
        " Creating Makefile          \n",
        "----------------------------\n",
        "\n",
        "working    directory : /cluster/scratch_xl/public/vjan/cylinder_tests/600_-1_conjugate-True_67/.initialconditions\n",
        "executable directory : /cluster/scratch_xl/public/vjan/cylinder_tests/600_-1_conjugate-True_67\n",
        "executable name      : transatmbinitialDP\n",
        "\n",
        "Makefile created..."
       ]
      },
      {
       "output_type": "stream",
       "stream": "stdout",
       "text": [
        "\n",
        "\n",
        "\n",
        "----------------------------\n",
        " Building                   \n",
        "----------------------------\n",
        "\n",
        "change to subfolder: /cluster/scratch_xl/public/vjan/cylinder_tests/600_-1_conjugate-True_67/.initialconditions\n",
        "mpicxx -O3   -I\"../../../../../../home/mavt/vjan/gfort_O3/inc\" -c ../initialconditions.cxx -o ./initialconditionsDP.o\n"
       ]
      },
      {
       "output_type": "stream",
       "stream": "stdout",
       "text": [
        "\n",
        "mpicc  ../../../../../../home/mavt/vjan/gfort_O3/lib/userglobalDP.o ./initialconditionsDP.o ../../../../../../home/mavt/vjan/gfort_O3/lib/tmbinitDP.o    -L\"../../../../../../home/mavt/vjan/gfort_O3/lib\"  -ltransatmbDP -lDnspcgDP -llokiDP -lusrtoolsDP  -ltransatmbDP -lDnspcgDP -llokiDP -lusrtoolsDP -lstdc++ -L/cluster/home/mavt/vjan/petsc/petsc-3.2-p7_with_16_gfortran/lib  -lpetsc -lX11 -Wl,-rpath,/cluster/home/mavt/vjan/petsc/petsc-3.2-p7_with_16_gfortran/lib -lHYPRE -lmpi_cxx -lstdc++ -lpthread -lflapack -lfblas -L/cluster/apps/openmpi/1.6.1/x86_64/gcc_4.7.2/lib -L/cluster/apps/gcc/gcc472/lib64/gcc/x86_64-unknown-linux-gnu/4.7.2 -L/cluster/apps/gcc/gcc472/lib64 -ldl -lmpi -lopen-rte -lopen-pal -lrt -lnsl -lutil -lgcc_s -lpthread -lmpi_f90 -lmpi_f77 -lgfortran -lm -lgfortran -lm -lgfortran -lm -lgfortran -lm -lm -lm -lquadmath -lm -lmpi_cxx -lstdc++ -ldl -lmpi -lopen-rte -lopen-pal -lrt -lnsl -lutil -lgcc_s -lpthread -ldl  -L/cluster/home/mavt/vjan/petsc/petsc-3.2-p7_with_16_gfortran/lib  -lpetsc -lX11 -Wl,-rpath,/cluster/home/mavt/vjan/petsc/petsc-3.2-p7_with_16_gfortran/lib -lHYPRE -lmpi_cxx -lstdc++ -lpthread -lflapack -lfblas -L/cluster/apps/openmpi/1.6.1/x86_64/gcc_4.7.2/lib -L/cluster/apps/gcc/gcc472/lib64/gcc/x86_64-unknown-linux-gnu/4.7.2 -L/cluster/apps/gcc/gcc472/lib64 -ldl -lmpi -lopen-rte -lopen-pal -lrt -lnsl -lutil -lgcc_s -lpthread -lmpi_f90 -lmpi_f77 -lgfortran -lm -lgfortran -lm -lgfortran -lm -lgfortran -lm -lm -lm -lquadmath -lm -lmpi_cxx -lstdc++ -ldl -lmpi -lopen-rte -lopen-pal -lrt -lnsl -lutil -lgcc_s -lpthread -ldl  -lcantera  -o ../transatmbinitialDP\n"
       ]
      },
      {
       "output_type": "stream",
       "stream": "stdout",
       "text": [
        "\n",
        "\n",
        "done...\n",
        "\n",
        "make: Warning: File `../initialconditions.cxx' has modification time 2.9e+03 s in the future\n",
        "make: warning:  Clock skew detected.  Your build may be incomplete.\n",
        "===================================================\n",
        " Syncing Current Working Directory with Cluster \n",
        "===================================================\n",
        "bsub -n 1 -W 60 -R \"rusage[mem=1024]\" -J 600_-1_conjugate-True_67 -o std_out.log  mpirun ./transatmbinitialDP "
       ]
      },
      {
       "output_type": "stream",
       "stream": "stdout",
       "text": [
        "\n",
        "Job <51612095> is submitted to queue <pub.1h>."
       ]
      },
      {
       "output_type": "stream",
       "stream": "stdout",
       "text": [
        "\n",
        "MPI job.\n",
        "---"
       ]
      },
      {
       "output_type": "stream",
       "stream": "stdout",
       "text": [
        "\n",
        "- transatdir  =/cluster/home/mavt/vjan/gfort_O3\n",
        "- ccompiler   =mpicc\n",
        "- cppcompiler =mpicxx\n",
        "- linker      =mpicc\n",
        "- precision   =dp\n",
        "- mode        =64bit\n",
        "---\n",
        "\n",
        "Folder /cluster/scratch_xl/public/vjan/cylinder_tests/600_-1_conjugate-True_100/.initialconditions exists already...\n",
        "Creating folder /cluster/scratch_xl/public/vjan/cylinder_tests/600_-1_conjugate-True_100/RESULT\n",
        "Converting Cantera input file\n"
       ]
      },
      {
       "output_type": "stream",
       "stream": "stdout",
       "text": [
        "\n",
        "------------------\n",
        "library container:\n",
        "------------------\n",
        "\n",
        "library: libtransatmbDP.a\n",
        "-> contains 0 file objects:\n",
        "\n",
        "library: libDnspcgDP.a\n",
        "-> contains 0 file objects:\n",
        "\n",
        "library: liblokiDP.a\n",
        "-> contains 0 file objects:\n",
        "\n",
        "library: libusrtoolsDP.a\n",
        "-> contains 0 file objects:\n",
        "\n",
        "\n",
        "includes:\n",
        "-> contains 40 file objects:\n",
        "   -> 39 h-files\n",
        "   -> 1 h90-file\n",
        "\n"
       ]
      },
      {
       "output_type": "stream",
       "stream": "stdout",
       "text": [
        "\n",
        "--------------------------\n",
        "dependency summary:\n",
        "--------------------------\n",
        "creating all dependencies took 0.0594348907471 s\n",
        "\n",
        "\n",
        "-> list: sourcelist\n",
        "        * 0 objects\n",
        "        * 0 object with dependencies found\n",
        "        * 0 dependency found\n",
        "\n",
        "-> list: includelist\n",
        "        * 40 objects\n",
        "        * 18 objects with dependencies found\n",
        "        * 29 dependencies found\n",
        "\n",
        "-> list: libextlist\n",
        "        * 3 objects\n",
        "        * 1 object with dependencies found\n",
        "        * 1 dependency found\n",
        "\n",
        "----------------------------\n",
        " Creating Makefile          \n",
        "----------------------------\n",
        "\n",
        "working    directory : /cluster/scratch_xl/public/vjan/cylinder_tests/600_-1_conjugate-True_100/.initialconditions\n",
        "executable directory : /cluster/scratch_xl/public/vjan/cylinder_tests/600_-1_conjugate-True_100\n",
        "executable name      : transatmbinitialDP\n",
        "\n",
        "Makefile created...\n",
        "\n",
        "\n",
        "----------------------------\n",
        " Building                   \n",
        "----------------------------\n",
        "\n",
        "change to subfolder: /cluster/scratch_xl/public/vjan/cylinder_tests/600_-1_conjugate-True_100/.initialconditions\n",
        "mpicxx -O3   -I\"../../../../../../home/mavt/vjan/gfort_O3/inc\" -c ../initialconditions.cxx -o ./initialconditionsDP.o"
       ]
      },
      {
       "output_type": "stream",
       "stream": "stdout",
       "text": [
        "\n"
       ]
      },
      {
       "output_type": "stream",
       "stream": "stdout",
       "text": [
        "\n",
        "mpicc  ../../../../../../home/mavt/vjan/gfort_O3/lib/userglobalDP.o ./initialconditionsDP.o ../../../../../../home/mavt/vjan/gfort_O3/lib/tmbinitDP.o    -L\"../../../../../../home/mavt/vjan/gfort_O3/lib\"  -ltransatmbDP -lDnspcgDP -llokiDP -lusrtoolsDP  -ltransatmbDP -lDnspcgDP -llokiDP -lusrtoolsDP -lstdc++ -L/cluster/home/mavt/vjan/petsc/petsc-3.2-p7_with_16_gfortran/lib  -lpetsc -lX11 -Wl,-rpath,/cluster/home/mavt/vjan/petsc/petsc-3.2-p7_with_16_gfortran/lib -lHYPRE -lmpi_cxx -lstdc++ -lpthread -lflapack -lfblas -L/cluster/apps/openmpi/1.6.1/x86_64/gcc_4.7.2/lib -L/cluster/apps/gcc/gcc472/lib64/gcc/x86_64-unknown-linux-gnu/4.7.2 -L/cluster/apps/gcc/gcc472/lib64 -ldl -lmpi -lopen-rte -lopen-pal -lrt -lnsl -lutil -lgcc_s -lpthread -lmpi_f90 -lmpi_f77 -lgfortran -lm -lgfortran -lm -lgfortran -lm -lgfortran -lm -lm -lm -lquadmath -lm -lmpi_cxx -lstdc++ -ldl -lmpi -lopen-rte -lopen-pal -lrt -lnsl -lutil -lgcc_s -lpthread -ldl  -L/cluster/home/mavt/vjan/petsc/petsc-3.2-p7_with_16_gfortran/lib  -lpetsc -lX11 -Wl,-rpath,/cluster/home/mavt/vjan/petsc/petsc-3.2-p7_with_16_gfortran/lib -lHYPRE -lmpi_cxx -lstdc++ -lpthread -lflapack -lfblas -L/cluster/apps/openmpi/1.6.1/x86_64/gcc_4.7.2/lib -L/cluster/apps/gcc/gcc472/lib64/gcc/x86_64-unknown-linux-gnu/4.7.2 -L/cluster/apps/gcc/gcc472/lib64 -ldl -lmpi -lopen-rte -lopen-pal -lrt -lnsl -lutil -lgcc_s -lpthread -lmpi_f90 -lmpi_f77 -lgfortran -lm -lgfortran -lm -lgfortran -lm -lgfortran -lm -lm -lm -lquadmath -lm -lmpi_cxx -lstdc++ -ldl -lmpi -lopen-rte -lopen-pal -lrt -lnsl -lutil -lgcc_s -lpthread -ldl  -lcantera  -o ../transatmbinitialDP\n"
       ]
      },
      {
       "output_type": "stream",
       "stream": "stdout",
       "text": [
        "\n",
        "\n",
        "done...\n",
        "\n",
        "make: Warning: File `../initialconditions.cxx' has modification time 2.8e+03 s in the future\n",
        "make: warning:  Clock skew detected.  Your build may be incomplete.\n",
        "===================================================\n",
        " Syncing Current Working Directory with Cluster \n",
        "===================================================\n",
        "bsub -n 1 -W 60 -R \"rusage[mem=1024]\" -J 600_-1_conjugate-True_100 -o std_out.log  mpirun ./transatmbinitialDP "
       ]
      },
      {
       "output_type": "stream",
       "stream": "stdout",
       "text": [
        "\n",
        "Job <51612098> is submitted to queue <pub.1h>."
       ]
      },
      {
       "output_type": "stream",
       "stream": "stdout",
       "text": [
        "\n",
        "MPI job.\n",
        "---"
       ]
      },
      {
       "output_type": "stream",
       "stream": "stdout",
       "text": [
        "\n",
        "- transatdir  =/cluster/home/mavt/vjan/gfort_O3\n",
        "- ccompiler   =mpicc\n",
        "- cppcompiler =mpicxx\n",
        "- linker      =mpicc\n",
        "- precision   =dp\n",
        "- mode        =64bit\n",
        "---\n",
        "\n",
        "Folder /cluster/scratch_xl/public/vjan/cylinder_tests/600_-1_conjugate-False_34/.initialconditions exists already...\n",
        "Creating folder /cluster/scratch_xl/public/vjan/cylinder_tests/600_-1_conjugate-False_34/RESULT\n",
        "Converting Cantera input file\n"
       ]
      },
      {
       "output_type": "stream",
       "stream": "stdout",
       "text": [
        "\n",
        "------------------\n",
        "library container:\n",
        "------------------\n",
        "\n",
        "library: libtransatmbDP.a\n",
        "-> contains 0 file objects:\n",
        "\n",
        "library: libDnspcgDP.a\n",
        "-> contains 0 file objects:\n",
        "\n",
        "library: liblokiDP.a\n",
        "-> contains 0 file objects:\n",
        "\n",
        "library: libusrtoolsDP.a\n",
        "-> contains 0 file objects:\n",
        "\n",
        "\n",
        "includes:\n",
        "-> contains 40 file objects:\n",
        "   -> 39 h-files\n",
        "   -> 1 h90-file\n",
        "\n"
       ]
      },
      {
       "output_type": "stream",
       "stream": "stdout",
       "text": [
        "\n",
        "--------------------------\n",
        "dependency summary:\n",
        "--------------------------\n",
        "creating all dependencies took 0.0472240447998 s\n",
        "\n",
        "\n",
        "-> list: sourcelist\n",
        "        * 0 objects\n",
        "        * 0 object with dependencies found\n",
        "        * 0 dependency found\n",
        "\n",
        "-> list: includelist\n",
        "        * 40 objects\n",
        "        * 18 objects with dependencies found\n",
        "        * 29 dependencies found\n",
        "\n",
        "-> list: libextlist\n",
        "        * 3 objects\n",
        "        * 1 object with dependencies found\n",
        "        * 1 dependency found\n",
        "\n",
        "----------------------------\n",
        " Creating Makefile          \n",
        "----------------------------\n",
        "\n",
        "working    directory : /cluster/scratch_xl/public/vjan/cylinder_tests/600_-1_conjugate-False_34/.initialconditions\n",
        "executable directory : /cluster/scratch_xl/public/vjan/cylinder_tests/600_-1_conjugate-False_34\n",
        "executable name      : transatmbinitialDP\n",
        "\n",
        "Makefile created...\n",
        "\n",
        "\n",
        "----------------------------\n",
        " Building                   \n",
        "----------------------------\n",
        "\n",
        "change to subfolder: /cluster/scratch_xl/public/vjan/cylinder_tests/600_-1_conjugate-False_34/.initialconditions\n",
        "mpicxx -O3   -I\"../../../../../../home/mavt/vjan/gfort_O3/inc\" -c ../initialconditions.cxx -o ./initialconditionsDP.o"
       ]
      },
      {
       "output_type": "stream",
       "stream": "stdout",
       "text": [
        "\n"
       ]
      },
      {
       "output_type": "stream",
       "stream": "stdout",
       "text": [
        "\n",
        "mpicc  ../../../../../../home/mavt/vjan/gfort_O3/lib/userglobalDP.o ./initialconditionsDP.o ../../../../../../home/mavt/vjan/gfort_O3/lib/tmbinitDP.o    -L\"../../../../../../home/mavt/vjan/gfort_O3/lib\"  -ltransatmbDP -lDnspcgDP -llokiDP -lusrtoolsDP  -ltransatmbDP -lDnspcgDP -llokiDP -lusrtoolsDP -lstdc++ -L/cluster/home/mavt/vjan/petsc/petsc-3.2-p7_with_16_gfortran/lib  -lpetsc -lX11 -Wl,-rpath,/cluster/home/mavt/vjan/petsc/petsc-3.2-p7_with_16_gfortran/lib -lHYPRE -lmpi_cxx -lstdc++ -lpthread -lflapack -lfblas -L/cluster/apps/openmpi/1.6.1/x86_64/gcc_4.7.2/lib -L/cluster/apps/gcc/gcc472/lib64/gcc/x86_64-unknown-linux-gnu/4.7.2 -L/cluster/apps/gcc/gcc472/lib64 -ldl -lmpi -lopen-rte -lopen-pal -lrt -lnsl -lutil -lgcc_s -lpthread -lmpi_f90 -lmpi_f77 -lgfortran -lm -lgfortran -lm -lgfortran -lm -lgfortran -lm -lm -lm -lquadmath -lm -lmpi_cxx -lstdc++ -ldl -lmpi -lopen-rte -lopen-pal -lrt -lnsl -lutil -lgcc_s -lpthread -ldl  -L/cluster/home/mavt/vjan/petsc/petsc-3.2-p7_with_16_gfortran/lib  -lpetsc -lX11 -Wl,-rpath,/cluster/home/mavt/vjan/petsc/petsc-3.2-p7_with_16_gfortran/lib -lHYPRE -lmpi_cxx -lstdc++ -lpthread -lflapack -lfblas -L/cluster/apps/openmpi/1.6.1/x86_64/gcc_4.7.2/lib -L/cluster/apps/gcc/gcc472/lib64/gcc/x86_64-unknown-linux-gnu/4.7.2 -L/cluster/apps/gcc/gcc472/lib64 -ldl -lmpi -lopen-rte -lopen-pal -lrt -lnsl -lutil -lgcc_s -lpthread -lmpi_f90 -lmpi_f77 -lgfortran -lm -lgfortran -lm -lgfortran -lm -lgfortran -lm -lm -lm -lquadmath -lm -lmpi_cxx -lstdc++ -ldl -lmpi -lopen-rte -lopen-pal -lrt -lnsl -lutil -lgcc_s -lpthread -ldl  -lcantera  -o ../transatmbinitialDP\n"
       ]
      },
      {
       "output_type": "stream",
       "stream": "stdout",
       "text": [
        "\n",
        "\n",
        "done...\n",
        "\n",
        "make: Warning: File `../initialconditions.cxx' has modification time 2.8e+03 s in the future\n",
        "make: warning:  Clock skew detected.  Your build may be incomplete.\n",
        "===================================================\n",
        " Syncing Current Working Directory with Cluster \n",
        "===================================================\n",
        "bsub -n 1 -W 60 -R \"rusage[mem=1024]\" -J 600_-1_conjugate-False_34 -o std_out.log  mpirun ./transatmbinitialDP "
       ]
      },
      {
       "output_type": "stream",
       "stream": "stdout",
       "text": [
        "\n",
        "Job <51612106> is submitted to queue <pub.1h>."
       ]
      },
      {
       "output_type": "stream",
       "stream": "stdout",
       "text": [
        "\n",
        "MPI job.\n",
        "---"
       ]
      },
      {
       "output_type": "stream",
       "stream": "stdout",
       "text": [
        "\n",
        "- transatdir  =/cluster/home/mavt/vjan/gfort_O3\n",
        "- ccompiler   =mpicc\n",
        "- cppcompiler =mpicxx\n",
        "- linker      =mpicc\n",
        "- precision   =dp\n",
        "- mode        =64bit\n",
        "---\n",
        "\n",
        "Folder /cluster/scratch_xl/public/vjan/cylinder_tests/600_-1_conjugate-False_67/.initialconditions exists already...\n",
        "Creating folder /cluster/scratch_xl/public/vjan/cylinder_tests/600_-1_conjugate-False_67/RESULT\n",
        "Converting Cantera input file\n",
        "\n",
        "------------------\n",
        "library container:\n",
        "------------------\n",
        "\n",
        "library: libtransatmbDP.a\n",
        "-> contains 0 file objects:\n",
        "\n",
        "library: libDnspcgDP.a\n",
        "-> contains 0 file objects:\n",
        "\n",
        "library: liblokiDP.a\n",
        "-> contains 0 file objects:\n",
        "\n",
        "library: libusrtoolsDP.a\n",
        "-> contains 0 file objects:\n",
        "\n",
        "\n",
        "includes:\n",
        "-> contains 40 file objects:\n",
        "   -> 39 h-files\n",
        "   -> 1 h90-file\n",
        "\n"
       ]
      },
      {
       "output_type": "stream",
       "stream": "stdout",
       "text": [
        "\n",
        "--------------------------\n",
        "dependency summary:\n",
        "--------------------------\n",
        "creating all dependencies took 0.0441188812256 s\n",
        "\n",
        "\n",
        "-> list: sourcelist\n",
        "        * 0 objects\n",
        "        * 0 object with dependencies found\n",
        "        * 0 dependency found\n",
        "\n",
        "-> list: includelist\n",
        "        * 40 objects\n",
        "        * 18 objects with dependencies found\n",
        "        * 29 dependencies found\n",
        "\n",
        "-> list: libextlist\n",
        "        * 3 objects\n",
        "        * 1 object with dependencies found\n",
        "        * 1 dependency found\n",
        "\n",
        "----------------------------\n",
        " Creating Makefile          \n",
        "----------------------------\n",
        "\n",
        "working    directory : /cluster/scratch_xl/public/vjan/cylinder_tests/600_-1_conjugate-False_67/.initialconditions\n",
        "executable directory : /cluster/scratch_xl/public/vjan/cylinder_tests/600_-1_conjugate-False_67\n",
        "executable name      : transatmbinitialDP\n",
        "\n",
        "Makefile created...\n",
        "\n",
        "\n",
        "----------------------------\n",
        " Building                   \n",
        "----------------------------\n",
        "\n",
        "change to subfolder: /cluster/scratch_xl/public/vjan/cylinder_tests/600_-1_conjugate-False_67/.initialconditions\n",
        "mpicxx -O3   -I\"../../../../../../home/mavt/vjan/gfort_O3/inc\" -c ../initialconditions.cxx -o ./initialconditionsDP.o\n"
       ]
      },
      {
       "output_type": "stream",
       "stream": "stdout",
       "text": [
        "\n",
        "mpicc  ../../../../../../home/mavt/vjan/gfort_O3/lib/userglobalDP.o ./initialconditionsDP.o ../../../../../../home/mavt/vjan/gfort_O3/lib/tmbinitDP.o    -L\"../../../../../../home/mavt/vjan/gfort_O3/lib\"  -ltransatmbDP -lDnspcgDP -llokiDP -lusrtoolsDP  -ltransatmbDP -lDnspcgDP -llokiDP -lusrtoolsDP -lstdc++ -L/cluster/home/mavt/vjan/petsc/petsc-3.2-p7_with_16_gfortran/lib  -lpetsc -lX11 -Wl,-rpath,/cluster/home/mavt/vjan/petsc/petsc-3.2-p7_with_16_gfortran/lib -lHYPRE -lmpi_cxx -lstdc++ -lpthread -lflapack -lfblas -L/cluster/apps/openmpi/1.6.1/x86_64/gcc_4.7.2/lib -L/cluster/apps/gcc/gcc472/lib64/gcc/x86_64-unknown-linux-gnu/4.7.2 -L/cluster/apps/gcc/gcc472/lib64 -ldl -lmpi -lopen-rte -lopen-pal -lrt -lnsl -lutil -lgcc_s -lpthread -lmpi_f90 -lmpi_f77 -lgfortran -lm -lgfortran -lm -lgfortran -lm -lgfortran -lm -lm -lm -lquadmath -lm -lmpi_cxx -lstdc++ -ldl -lmpi -lopen-rte -lopen-pal -lrt -lnsl -lutil -lgcc_s -lpthread -ldl  -L/cluster/home/mavt/vjan/petsc/petsc-3.2-p7_with_16_gfortran/lib  -lpetsc -lX11 -Wl,-rpath,/cluster/home/mavt/vjan/petsc/petsc-3.2-p7_with_16_gfortran/lib -lHYPRE -lmpi_cxx -lstdc++ -lpthread -lflapack -lfblas -L/cluster/apps/openmpi/1.6.1/x86_64/gcc_4.7.2/lib -L/cluster/apps/gcc/gcc472/lib64/gcc/x86_64-unknown-linux-gnu/4.7.2 -L/cluster/apps/gcc/gcc472/lib64 -ldl -lmpi -lopen-rte -lopen-pal -lrt -lnsl -lutil -lgcc_s -lpthread -lmpi_f90 -lmpi_f77 -lgfortran -lm -lgfortran -lm -lgfortran -lm -lgfortran -lm -lm -lm -lquadmath -lm -lmpi_cxx -lstdc++ -ldl -lmpi -lopen-rte -lopen-pal -lrt -lnsl -lutil -lgcc_s -lpthread -ldl  -lcantera  -o ../transatmbinitialDP\n"
       ]
      },
      {
       "output_type": "stream",
       "stream": "stdout",
       "text": [
        "\n",
        "\n",
        "done...\n",
        "\n",
        "make: Warning: File `../initialconditions.cxx' has modification time 2.8e+03 s in the future\n",
        "make: warning:  Clock skew detected.  Your build may be incomplete.\n",
        "===================================================\n",
        " Syncing Current Working Directory with Cluster \n",
        "===================================================\n",
        "bsub -n 1 -W 60 -R \"rusage[mem=1024]\" -J 600_-1_conjugate-False_67 -o std_out.log  mpirun ./transatmbinitialDP "
       ]
      },
      {
       "output_type": "stream",
       "stream": "stdout",
       "text": [
        "\n",
        "Job <51612111> is submitted to queue <pub.1h>."
       ]
      },
      {
       "output_type": "stream",
       "stream": "stdout",
       "text": [
        "\n",
        "MPI job.\n",
        "---"
       ]
      },
      {
       "output_type": "stream",
       "stream": "stdout",
       "text": [
        "\n",
        "- transatdir  =/cluster/home/mavt/vjan/gfort_O3\n",
        "- ccompiler   =mpicc\n",
        "- cppcompiler =mpicxx\n",
        "- linker      =mpicc\n",
        "- precision   =dp\n",
        "- mode        =64bit\n",
        "---\n",
        "\n",
        "Folder /cluster/scratch_xl/public/vjan/cylinder_tests/600_-1_conjugate-False_100/.initialconditions exists already...\n",
        "Folder /cluster/scratch_xl/public/vjan/cylinder_tests/600_-1_conjugate-False_100/RESULT exists already...\n",
        "Converting Cantera input file\n",
        "\n",
        "------------------\n",
        "library container:\n",
        "------------------\n",
        "\n",
        "library: libtransatmbDP.a\n",
        "-> contains 0 file objects:\n",
        "\n",
        "library: libDnspcgDP.a\n",
        "-> contains 0 file objects:\n",
        "\n",
        "library: liblokiDP.a\n",
        "-> contains 0 file objects:\n",
        "\n",
        "library: libusrtoolsDP.a\n",
        "-> contains 0 file objects:\n",
        "\n",
        "\n",
        "includes:\n",
        "-> contains 40 file objects:\n",
        "   -> 39 h-files\n",
        "   -> 1 h90-file\n",
        "\n"
       ]
      },
      {
       "output_type": "stream",
       "stream": "stdout",
       "text": [
        "\n",
        "--------------------------\n",
        "dependency summary:\n",
        "--------------------------\n",
        "creating all dependencies took 0.0424230098724 s\n",
        "\n",
        "\n",
        "-> list: sourcelist\n",
        "        * 0 objects\n",
        "        * 0 object with dependencies found\n",
        "        * 0 dependency found\n",
        "\n",
        "-> list: includelist\n",
        "        * 40 objects\n",
        "        * 18 objects with dependencies found\n",
        "        * 29 dependencies found\n",
        "\n",
        "-> list: libextlist\n",
        "        * 3 objects\n",
        "        * 1 object with dependencies found\n",
        "        * 1 dependency found\n",
        "\n",
        "----------------------------\n",
        " Creating Makefile          \n",
        "----------------------------\n",
        "\n",
        "working    directory : /cluster/scratch_xl/public/vjan/cylinder_tests/600_-1_conjugate-False_100/.initialconditions\n",
        "executable directory : /cluster/scratch_xl/public/vjan/cylinder_tests/600_-1_conjugate-False_100\n",
        "executable name      : transatmbinitialDP\n",
        "\n",
        "Makefile created...\n",
        "\n",
        "\n",
        "----------------------------\n",
        " Building                   \n",
        "----------------------------\n",
        "\n",
        "change to subfolder: /cluster/scratch_xl/public/vjan/cylinder_tests/600_-1_conjugate-False_100/.initialconditions\n",
        "mpicxx -O3   -I\"../../../../../../home/mavt/vjan/gfort_O3/inc\" -c ../initialconditions.cxx -o ./initialconditionsDP.o"
       ]
      },
      {
       "output_type": "stream",
       "stream": "stdout",
       "text": [
        "\n"
       ]
      },
      {
       "output_type": "stream",
       "stream": "stdout",
       "text": [
        "\n",
        "mpicc  ../../../../../../home/mavt/vjan/gfort_O3/lib/userglobalDP.o ./initialconditionsDP.o ../../../../../../home/mavt/vjan/gfort_O3/lib/tmbinitDP.o    -L\"../../../../../../home/mavt/vjan/gfort_O3/lib\"  -ltransatmbDP -lDnspcgDP -llokiDP -lusrtoolsDP  -ltransatmbDP -lDnspcgDP -llokiDP -lusrtoolsDP -lstdc++ -L/cluster/home/mavt/vjan/petsc/petsc-3.2-p7_with_16_gfortran/lib  -lpetsc -lX11 -Wl,-rpath,/cluster/home/mavt/vjan/petsc/petsc-3.2-p7_with_16_gfortran/lib -lHYPRE -lmpi_cxx -lstdc++ -lpthread -lflapack -lfblas -L/cluster/apps/openmpi/1.6.1/x86_64/gcc_4.7.2/lib -L/cluster/apps/gcc/gcc472/lib64/gcc/x86_64-unknown-linux-gnu/4.7.2 -L/cluster/apps/gcc/gcc472/lib64 -ldl -lmpi -lopen-rte -lopen-pal -lrt -lnsl -lutil -lgcc_s -lpthread -lmpi_f90 -lmpi_f77 -lgfortran -lm -lgfortran -lm -lgfortran -lm -lgfortran -lm -lm -lm -lquadmath -lm -lmpi_cxx -lstdc++ -ldl -lmpi -lopen-rte -lopen-pal -lrt -lnsl -lutil -lgcc_s -lpthread -ldl  -L/cluster/home/mavt/vjan/petsc/petsc-3.2-p7_with_16_gfortran/lib  -lpetsc -lX11 -Wl,-rpath,/cluster/home/mavt/vjan/petsc/petsc-3.2-p7_with_16_gfortran/lib -lHYPRE -lmpi_cxx -lstdc++ -lpthread -lflapack -lfblas -L/cluster/apps/openmpi/1.6.1/x86_64/gcc_4.7.2/lib -L/cluster/apps/gcc/gcc472/lib64/gcc/x86_64-unknown-linux-gnu/4.7.2 -L/cluster/apps/gcc/gcc472/lib64 -ldl -lmpi -lopen-rte -lopen-pal -lrt -lnsl -lutil -lgcc_s -lpthread -lmpi_f90 -lmpi_f77 -lgfortran -lm -lgfortran -lm -lgfortran -lm -lgfortran -lm -lm -lm -lquadmath -lm -lmpi_cxx -lstdc++ -ldl -lmpi -lopen-rte -lopen-pal -lrt -lnsl -lutil -lgcc_s -lpthread -ldl  -lcantera  -o ../transatmbinitialDP\n"
       ]
      },
      {
       "output_type": "stream",
       "stream": "stdout",
       "text": [
        "\n",
        "\n",
        "done...\n",
        "\n",
        "make: Warning: File `../initialconditions.cxx' has modification time 2.7e+03 s in the future\n",
        "make: warning:  Clock skew detected.  Your build may be incomplete.\n",
        "===================================================\n",
        " Syncing Current Working Directory with Cluster \n",
        "===================================================\n",
        "bsub -n 1 -W 60 -R \"rusage[mem=1024]\" -J 600_-1_conjugate-False_100 -o std_out.log  mpirun ./transatmbinitialDP "
       ]
      },
      {
       "output_type": "stream",
       "stream": "stdout",
       "text": [
        "\n",
        "Job <51612118> is submitted to queue <pub.1h>."
       ]
      },
      {
       "output_type": "stream",
       "stream": "stdout",
       "text": [
        "\n",
        "MPI job.\n",
        "---"
       ]
      },
      {
       "output_type": "stream",
       "stream": "stdout",
       "text": [
        "\n",
        "- transatdir  =/cluster/home/mavt/vjan/gfort_O3\n",
        "- ccompiler   =mpicc\n",
        "- cppcompiler =mpicxx\n",
        "- linker      =mpicc\n",
        "- precision   =dp\n",
        "- mode        =64bit\n",
        "---\n",
        "\n",
        "Folder /cluster/scratch_xl/public/vjan/cylinder_tests/600_1e-05_conjugate-True_34/.initialconditions exists already...\n",
        "Creating folder /cluster/scratch_xl/public/vjan/cylinder_tests/600_1e-05_conjugate-True_34/RESULT\n",
        "Converting Cantera input file\n",
        "\n",
        "------------------\n",
        "library container:\n",
        "------------------\n",
        "\n",
        "library: libtransatmbDP.a\n",
        "-> contains 0 file objects:\n",
        "\n",
        "library: libDnspcgDP.a\n",
        "-> contains 0 file objects:\n",
        "\n",
        "library: liblokiDP.a\n",
        "-> contains 0 file objects:\n",
        "\n",
        "library: libusrtoolsDP.a\n",
        "-> contains 0 file objects:\n",
        "\n",
        "\n",
        "includes:\n",
        "-> contains 40 file objects:\n",
        "   -> 39 h-files\n",
        "   -> 1 h90-file\n",
        "\n"
       ]
      },
      {
       "output_type": "stream",
       "stream": "stdout",
       "text": [
        "\n",
        "--------------------------\n",
        "dependency summary:\n",
        "--------------------------\n",
        "creating all dependencies took 0.044214963913 s\n",
        "\n",
        "\n",
        "-> list: sourcelist\n",
        "        * 0 objects\n",
        "        * 0 object with dependencies found\n",
        "        * 0 dependency found\n",
        "\n",
        "-> list: includelist\n",
        "        * 40 objects\n",
        "        * 18 objects with dependencies found\n",
        "        * 29 dependencies found\n",
        "\n",
        "-> list: libextlist\n",
        "        * 3 objects\n",
        "        * 1 object with dependencies found\n",
        "        * 1 dependency found\n",
        "\n",
        "----------------------------\n",
        " Creating Makefile          \n",
        "----------------------------\n",
        "\n",
        "working    directory : /cluster/scratch_xl/public/vjan/cylinder_tests/600_1e-05_conjugate-True_34/.initialconditions\n",
        "executable directory : /cluster/scratch_xl/public/vjan/cylinder_tests/600_1e-05_conjugate-True_34\n",
        "executable name      : transatmbinitialDP\n",
        "\n",
        "Makefile created...\n",
        "\n",
        "\n",
        "----------------------------\n",
        " Building                   \n",
        "----------------------------\n",
        "\n",
        "change to subfolder: /cluster/scratch_xl/public/vjan/cylinder_tests/600_1e-05_conjugate-True_34/.initialconditions\n",
        "mpicxx -O3   -I\"../../../../../../home/mavt/vjan/gfort_O3/inc\" -c ../initialconditions.cxx -o ./initialconditionsDP.o\n"
       ]
      },
      {
       "output_type": "stream",
       "stream": "stdout",
       "text": [
        "\n",
        "mpicc  ../../../../../../home/mavt/vjan/gfort_O3/lib/userglobalDP.o ./initialconditionsDP.o ../../../../../../home/mavt/vjan/gfort_O3/lib/tmbinitDP.o    -L\"../../../../../../home/mavt/vjan/gfort_O3/lib\"  -ltransatmbDP -lDnspcgDP -llokiDP -lusrtoolsDP  -ltransatmbDP -lDnspcgDP -llokiDP -lusrtoolsDP -lstdc++ -L/cluster/home/mavt/vjan/petsc/petsc-3.2-p7_with_16_gfortran/lib  -lpetsc -lX11 -Wl,-rpath,/cluster/home/mavt/vjan/petsc/petsc-3.2-p7_with_16_gfortran/lib -lHYPRE -lmpi_cxx -lstdc++ -lpthread -lflapack -lfblas -L/cluster/apps/openmpi/1.6.1/x86_64/gcc_4.7.2/lib -L/cluster/apps/gcc/gcc472/lib64/gcc/x86_64-unknown-linux-gnu/4.7.2 -L/cluster/apps/gcc/gcc472/lib64 -ldl -lmpi -lopen-rte -lopen-pal -lrt -lnsl -lutil -lgcc_s -lpthread -lmpi_f90 -lmpi_f77 -lgfortran -lm -lgfortran -lm -lgfortran -lm -lgfortran -lm -lm -lm -lquadmath -lm -lmpi_cxx -lstdc++ -ldl -lmpi -lopen-rte -lopen-pal -lrt -lnsl -lutil -lgcc_s -lpthread -ldl  -L/cluster/home/mavt/vjan/petsc/petsc-3.2-p7_with_16_gfortran/lib  -lpetsc -lX11 -Wl,-rpath,/cluster/home/mavt/vjan/petsc/petsc-3.2-p7_with_16_gfortran/lib -lHYPRE -lmpi_cxx -lstdc++ -lpthread -lflapack -lfblas -L/cluster/apps/openmpi/1.6.1/x86_64/gcc_4.7.2/lib -L/cluster/apps/gcc/gcc472/lib64/gcc/x86_64-unknown-linux-gnu/4.7.2 -L/cluster/apps/gcc/gcc472/lib64 -ldl -lmpi -lopen-rte -lopen-pal -lrt -lnsl -lutil -lgcc_s -lpthread -lmpi_f90 -lmpi_f77 -lgfortran -lm -lgfortran -lm -lgfortran -lm -lgfortran -lm -lm -lm -lquadmath -lm -lmpi_cxx -lstdc++ -ldl -lmpi -lopen-rte -lopen-pal -lrt -lnsl -lutil -lgcc_s -lpthread -ldl  -lcantera  -o ../transatmbinitialDP\n"
       ]
      },
      {
       "output_type": "stream",
       "stream": "stdout",
       "text": [
        "\n",
        "\n",
        "done...\n",
        "\n",
        "make: Warning: File `../initialconditions.cxx' has modification time 2.7e+03 s in the future\n",
        "make: warning:  Clock skew detected.  Your build may be incomplete.\n",
        "===================================================\n",
        " Syncing Current Working Directory with Cluster \n",
        "===================================================\n",
        "bsub -n 1 -W 60 -R \"rusage[mem=1024]\" -J 600_1e-05_conjugate-True_34 -o std_out.log  mpirun ./transatmbinitialDP "
       ]
      },
      {
       "output_type": "stream",
       "stream": "stdout",
       "text": [
        "\n",
        "Job <51612120> is submitted to queue <pub.1h>."
       ]
      },
      {
       "output_type": "stream",
       "stream": "stdout",
       "text": [
        "\n",
        "MPI job.\n",
        "---"
       ]
      },
      {
       "output_type": "stream",
       "stream": "stdout",
       "text": [
        "\n",
        "- transatdir  =/cluster/home/mavt/vjan/gfort_O3\n",
        "- ccompiler   =mpicc\n",
        "- cppcompiler =mpicxx\n",
        "- linker      =mpicc\n",
        "- precision   =dp\n",
        "- mode        =64bit\n",
        "---\n",
        "\n",
        "Folder /cluster/scratch_xl/public/vjan/cylinder_tests/600_1e-05_conjugate-True_67/.initialconditions exists already...\n",
        "Creating folder /cluster/scratch_xl/public/vjan/cylinder_tests/600_1e-05_conjugate-True_67/RESULT\n",
        "Converting Cantera input file\n"
       ]
      },
      {
       "output_type": "stream",
       "stream": "stdout",
       "text": [
        "\n",
        "------------------\n",
        "library container:\n",
        "------------------\n",
        "\n",
        "library: libtransatmbDP.a\n",
        "-> contains 0 file objects:\n",
        "\n",
        "library: libDnspcgDP.a\n",
        "-> contains 0 file objects:\n",
        "\n",
        "library: liblokiDP.a\n",
        "-> contains 0 file objects:\n",
        "\n",
        "library: libusrtoolsDP.a\n",
        "-> contains 0 file objects:\n",
        "\n",
        "\n",
        "includes:\n",
        "-> contains 40 file objects:\n",
        "   -> 39 h-files\n",
        "   -> 1 h90-file\n",
        "\n"
       ]
      },
      {
       "output_type": "stream",
       "stream": "stdout",
       "text": [
        "\n",
        "--------------------------\n",
        "dependency summary:\n",
        "--------------------------\n",
        "creating all dependencies took 0.0527939796448 s\n",
        "\n",
        "\n",
        "-> list: sourcelist\n",
        "        * 0 objects\n",
        "        * 0 object with dependencies found\n",
        "        * 0 dependency found\n",
        "\n",
        "-> list: includelist\n",
        "        * 40 objects\n",
        "        * 18 objects with dependencies found\n",
        "        * 29 dependencies found\n",
        "\n",
        "-> list: libextlist\n",
        "        * 3 objects\n",
        "        * 1 object with dependencies found\n",
        "        * 1 dependency found\n",
        "\n",
        "----------------------------\n",
        " Creating Makefile          \n",
        "----------------------------\n",
        "\n",
        "working    directory : /cluster/scratch_xl/public/vjan/cylinder_tests/600_1e-05_conjugate-True_67/.initialconditions\n",
        "executable directory : /cluster/scratch_xl/public/vjan/cylinder_tests/600_1e-05_conjugate-True_67\n",
        "executable name      : transatmbinitialDP\n",
        "\n",
        "Makefile created...\n",
        "\n",
        "\n",
        "----------------------------\n",
        " Building                   \n",
        "----------------------------\n",
        "\n",
        "change to subfolder: /cluster/scratch_xl/public/vjan/cylinder_tests/600_1e-05_conjugate-True_67/.initialconditions\n",
        "mpicxx -O3   -I\"../../../../../../home/mavt/vjan/gfort_O3/inc\" -c ../initialconditions.cxx -o ./initialconditionsDP.o"
       ]
      },
      {
       "output_type": "stream",
       "stream": "stdout",
       "text": [
        "\n"
       ]
      },
      {
       "output_type": "stream",
       "stream": "stdout",
       "text": [
        "\n",
        "mpicc  ../../../../../../home/mavt/vjan/gfort_O3/lib/userglobalDP.o ./initialconditionsDP.o ../../../../../../home/mavt/vjan/gfort_O3/lib/tmbinitDP.o    -L\"../../../../../../home/mavt/vjan/gfort_O3/lib\"  -ltransatmbDP -lDnspcgDP -llokiDP -lusrtoolsDP  -ltransatmbDP -lDnspcgDP -llokiDP -lusrtoolsDP -lstdc++ -L/cluster/home/mavt/vjan/petsc/petsc-3.2-p7_with_16_gfortran/lib  -lpetsc -lX11 -Wl,-rpath,/cluster/home/mavt/vjan/petsc/petsc-3.2-p7_with_16_gfortran/lib -lHYPRE -lmpi_cxx -lstdc++ -lpthread -lflapack -lfblas -L/cluster/apps/openmpi/1.6.1/x86_64/gcc_4.7.2/lib -L/cluster/apps/gcc/gcc472/lib64/gcc/x86_64-unknown-linux-gnu/4.7.2 -L/cluster/apps/gcc/gcc472/lib64 -ldl -lmpi -lopen-rte -lopen-pal -lrt -lnsl -lutil -lgcc_s -lpthread -lmpi_f90 -lmpi_f77 -lgfortran -lm -lgfortran -lm -lgfortran -lm -lgfortran -lm -lm -lm -lquadmath -lm -lmpi_cxx -lstdc++ -ldl -lmpi -lopen-rte -lopen-pal -lrt -lnsl -lutil -lgcc_s -lpthread -ldl  -L/cluster/home/mavt/vjan/petsc/petsc-3.2-p7_with_16_gfortran/lib  -lpetsc -lX11 -Wl,-rpath,/cluster/home/mavt/vjan/petsc/petsc-3.2-p7_with_16_gfortran/lib -lHYPRE -lmpi_cxx -lstdc++ -lpthread -lflapack -lfblas -L/cluster/apps/openmpi/1.6.1/x86_64/gcc_4.7.2/lib -L/cluster/apps/gcc/gcc472/lib64/gcc/x86_64-unknown-linux-gnu/4.7.2 -L/cluster/apps/gcc/gcc472/lib64 -ldl -lmpi -lopen-rte -lopen-pal -lrt -lnsl -lutil -lgcc_s -lpthread -lmpi_f90 -lmpi_f77 -lgfortran -lm -lgfortran -lm -lgfortran -lm -lgfortran -lm -lm -lm -lquadmath -lm -lmpi_cxx -lstdc++ -ldl -lmpi -lopen-rte -lopen-pal -lrt -lnsl -lutil -lgcc_s -lpthread -ldl  -lcantera  -o ../transatmbinitialDP\n"
       ]
      },
      {
       "output_type": "stream",
       "stream": "stdout",
       "text": [
        "\n",
        "\n",
        "done...\n",
        "\n",
        "make: Warning: File `../initialconditions.cxx' has modification time 2.6e+03 s in the future\n",
        "make: warning:  Clock skew detected.  Your build may be incomplete.\n",
        "===================================================\n",
        " Syncing Current Working Directory with Cluster \n",
        "===================================================\n",
        "bsub -n 1 -W 60 -R \"rusage[mem=1024]\" -J 600_1e-05_conjugate-True_67 -o std_out.log  mpirun ./transatmbinitialDP "
       ]
      },
      {
       "output_type": "stream",
       "stream": "stdout",
       "text": [
        "\n",
        "Job <51612124> is submitted to queue <pub.1h>."
       ]
      },
      {
       "output_type": "stream",
       "stream": "stdout",
       "text": [
        "\n",
        "MPI job.\n",
        "---"
       ]
      },
      {
       "output_type": "stream",
       "stream": "stdout",
       "text": [
        "\n",
        "- transatdir  =/cluster/home/mavt/vjan/gfort_O3\n",
        "- ccompiler   =mpicc\n",
        "- cppcompiler =mpicxx\n",
        "- linker      =mpicc\n",
        "- precision   =dp\n",
        "- mode        =64bit\n",
        "---\n",
        "\n",
        "Folder /cluster/scratch_xl/public/vjan/cylinder_tests/600_1e-05_conjugate-True_100/.initialconditions exists already...\n",
        "Creating folder /cluster/scratch_xl/public/vjan/cylinder_tests/600_1e-05_conjugate-True_100/RESULT\n",
        "Converting Cantera input file\n",
        "\n",
        "------------------\n",
        "library container:\n",
        "------------------\n",
        "\n",
        "library: libtransatmbDP.a\n",
        "-> contains 0 file objects:\n",
        "\n",
        "library: libDnspcgDP.a\n",
        "-> contains 0 file objects:\n",
        "\n",
        "library: liblokiDP.a\n",
        "-> contains 0 file objects:\n",
        "\n",
        "library: libusrtoolsDP.a\n",
        "-> contains 0 file objects:\n",
        "\n",
        "\n",
        "includes:\n",
        "-> contains 40 file objects:\n",
        "   -> 39 h-files\n",
        "   -> 1 h90-file\n",
        "\n"
       ]
      },
      {
       "output_type": "stream",
       "stream": "stdout",
       "text": [
        "\n",
        "--------------------------\n",
        "dependency summary:\n",
        "--------------------------\n",
        "creating all dependencies took 0.0416550636292 s\n",
        "\n",
        "\n",
        "-> list: sourcelist\n",
        "        * 0 objects\n",
        "        * 0 object with dependencies found\n",
        "        * 0 dependency found\n",
        "\n",
        "-> list: includelist\n",
        "        * 40 objects\n",
        "        * 18 objects with dependencies found\n",
        "        * 29 dependencies found\n",
        "\n",
        "-> list: libextlist\n",
        "        * 3 objects\n",
        "        * 1 object with dependencies found\n",
        "        * 1 dependency found\n",
        "\n",
        "----------------------------\n",
        " Creating Makefile          \n",
        "----------------------------\n",
        "\n",
        "working    directory : /cluster/scratch_xl/public/vjan/cylinder_tests/600_1e-05_conjugate-True_100/.initialconditions\n",
        "executable directory : /cluster/scratch_xl/public/vjan/cylinder_tests/600_1e-05_conjugate-True_100\n",
        "executable name      : transatmbinitialDP\n",
        "\n",
        "Makefile created...\n",
        "\n",
        "\n",
        "----------------------------\n",
        " Building                   \n",
        "----------------------------\n",
        "\n",
        "change to subfolder: /cluster/scratch_xl/public/vjan/cylinder_tests/600_1e-05_conjugate-True_100/.initialconditions\n",
        "mpicxx -O3   -I\"../../../../../../home/mavt/vjan/gfort_O3/inc\" -c ../initialconditions.cxx -o ./initialconditionsDP.o\n"
       ]
      },
      {
       "output_type": "stream",
       "stream": "stdout",
       "text": [
        "\n",
        "mpicc  ../../../../../../home/mavt/vjan/gfort_O3/lib/userglobalDP.o ./initialconditionsDP.o ../../../../../../home/mavt/vjan/gfort_O3/lib/tmbinitDP.o    -L\"../../../../../../home/mavt/vjan/gfort_O3/lib\"  -ltransatmbDP -lDnspcgDP -llokiDP -lusrtoolsDP  -ltransatmbDP -lDnspcgDP -llokiDP -lusrtoolsDP -lstdc++ -L/cluster/home/mavt/vjan/petsc/petsc-3.2-p7_with_16_gfortran/lib  -lpetsc -lX11 -Wl,-rpath,/cluster/home/mavt/vjan/petsc/petsc-3.2-p7_with_16_gfortran/lib -lHYPRE -lmpi_cxx -lstdc++ -lpthread -lflapack -lfblas -L/cluster/apps/openmpi/1.6.1/x86_64/gcc_4.7.2/lib -L/cluster/apps/gcc/gcc472/lib64/gcc/x86_64-unknown-linux-gnu/4.7.2 -L/cluster/apps/gcc/gcc472/lib64 -ldl -lmpi -lopen-rte -lopen-pal -lrt -lnsl -lutil -lgcc_s -lpthread -lmpi_f90 -lmpi_f77 -lgfortran -lm -lgfortran -lm -lgfortran -lm -lgfortran -lm -lm -lm -lquadmath -lm -lmpi_cxx -lstdc++ -ldl -lmpi -lopen-rte -lopen-pal -lrt -lnsl -lutil -lgcc_s -lpthread -ldl  -L/cluster/home/mavt/vjan/petsc/petsc-3.2-p7_with_16_gfortran/lib  -lpetsc -lX11 -Wl,-rpath,/cluster/home/mavt/vjan/petsc/petsc-3.2-p7_with_16_gfortran/lib -lHYPRE -lmpi_cxx -lstdc++ -lpthread -lflapack -lfblas -L/cluster/apps/openmpi/1.6.1/x86_64/gcc_4.7.2/lib -L/cluster/apps/gcc/gcc472/lib64/gcc/x86_64-unknown-linux-gnu/4.7.2 -L/cluster/apps/gcc/gcc472/lib64 -ldl -lmpi -lopen-rte -lopen-pal -lrt -lnsl -lutil -lgcc_s -lpthread -lmpi_f90 -lmpi_f77 -lgfortran -lm -lgfortran -lm -lgfortran -lm -lgfortran -lm -lm -lm -lquadmath -lm -lmpi_cxx -lstdc++ -ldl -lmpi -lopen-rte -lopen-pal -lrt -lnsl -lutil -lgcc_s -lpthread -ldl  -lcantera  -o ../transatmbinitialDP\n"
       ]
      },
      {
       "output_type": "stream",
       "stream": "stdout",
       "text": [
        "\n",
        "\n",
        "done...\n",
        "\n",
        "make: Warning: File `../initialconditions.cxx' has modification time 2.6e+03 s in the future\n",
        "make: warning:  Clock skew detected.  Your build may be incomplete.\n",
        "===================================================\n",
        " Syncing Current Working Directory with Cluster \n",
        "===================================================\n",
        "bsub -n 1 -W 60 -R \"rusage[mem=1024]\" -J 600_1e-05_conjugate-True_100 -o std_out.log  mpirun ./transatmbinitialDP "
       ]
      },
      {
       "output_type": "stream",
       "stream": "stdout",
       "text": [
        "\n",
        "Job <51612127> is submitted to queue <pub.1h>."
       ]
      },
      {
       "output_type": "stream",
       "stream": "stdout",
       "text": [
        "\n",
        "MPI job.\n",
        "---"
       ]
      },
      {
       "output_type": "stream",
       "stream": "stdout",
       "text": [
        "\n",
        "- transatdir  =/cluster/home/mavt/vjan/gfort_O3\n",
        "- ccompiler   =mpicc\n",
        "- cppcompiler =mpicxx\n",
        "- linker      =mpicc\n",
        "- precision   =dp\n",
        "- mode        =64bit\n",
        "---\n",
        "\n",
        "Folder /cluster/scratch_xl/public/vjan/cylinder_tests/600_1e-05_conjugate-False_34/.initialconditions exists already...\n",
        "Creating folder /cluster/scratch_xl/public/vjan/cylinder_tests/600_1e-05_conjugate-False_34/RESULT\n",
        "Converting Cantera input file\n",
        "\n",
        "------------------\n",
        "library container:\n",
        "------------------\n",
        "\n",
        "library: libtransatmbDP.a\n",
        "-> contains 0 file objects:\n"
       ]
      },
      {
       "output_type": "stream",
       "stream": "stdout",
       "text": [
        "\n",
        "library: libDnspcgDP.a\n",
        "-> contains 0 file objects:\n",
        "\n",
        "library: liblokiDP.a\n",
        "-> contains 0 file objects:\n",
        "\n",
        "library: libusrtoolsDP.a\n",
        "-> contains 0 file objects:\n",
        "\n",
        "\n",
        "includes:\n",
        "-> contains 40 file objects:\n",
        "   -> 39 h-files\n",
        "   -> 1 h90-file\n",
        "\n"
       ]
      },
      {
       "output_type": "stream",
       "stream": "stdout",
       "text": [
        "\n",
        "--------------------------\n",
        "dependency summary:\n",
        "--------------------------\n",
        "creating all dependencies took 0.060252904892 s\n",
        "\n",
        "\n",
        "-> list: sourcelist\n",
        "        * 0 objects\n",
        "        * 0 object with dependencies found\n",
        "        * 0 dependency found\n",
        "\n",
        "-> list: includelist\n",
        "        * 40 objects\n",
        "        * 18 objects with dependencies found\n",
        "        * 29 dependencies found\n",
        "\n",
        "-> list: libextlist\n",
        "        * 3 objects\n",
        "        * 1 object with dependencies found\n",
        "        * 1 dependency found\n",
        "\n",
        "----------------------------\n",
        " Creating Makefile          \n",
        "----------------------------\n",
        "\n",
        "working    directory : /cluster/scratch_xl/public/vjan/cylinder_tests/600_1e-05_conjugate-False_34/.initialconditions\n",
        "executable directory : /cluster/scratch_xl/public/vjan/cylinder_tests/600_1e-05_conjugate-False_34\n",
        "executable name      : transatmbinitialDP\n",
        "\n",
        "Makefile created...\n",
        "\n",
        "\n",
        "----------------------------\n",
        " Building                   \n",
        "----------------------------\n",
        "\n",
        "change to subfolder: /cluster/scratch_xl/public/vjan/cylinder_tests/600_1e-05_conjugate-False_34/.initialconditions\n",
        "mpicxx -O3   -I\"../../../../../../home/mavt/vjan/gfort_O3/inc\" -c ../initialconditions.cxx -o ./initialconditionsDP.o\n"
       ]
      },
      {
       "output_type": "stream",
       "stream": "stdout",
       "text": [
        "\n",
        "mpicc  ../../../../../../home/mavt/vjan/gfort_O3/lib/userglobalDP.o ./initialconditionsDP.o ../../../../../../home/mavt/vjan/gfort_O3/lib/tmbinitDP.o    -L\"../../../../../../home/mavt/vjan/gfort_O3/lib\"  -ltransatmbDP -lDnspcgDP -llokiDP -lusrtoolsDP  -ltransatmbDP -lDnspcgDP -llokiDP -lusrtoolsDP -lstdc++ -L/cluster/home/mavt/vjan/petsc/petsc-3.2-p7_with_16_gfortran/lib  -lpetsc -lX11 -Wl,-rpath,/cluster/home/mavt/vjan/petsc/petsc-3.2-p7_with_16_gfortran/lib -lHYPRE -lmpi_cxx -lstdc++ -lpthread -lflapack -lfblas -L/cluster/apps/openmpi/1.6.1/x86_64/gcc_4.7.2/lib -L/cluster/apps/gcc/gcc472/lib64/gcc/x86_64-unknown-linux-gnu/4.7.2 -L/cluster/apps/gcc/gcc472/lib64 -ldl -lmpi -lopen-rte -lopen-pal -lrt -lnsl -lutil -lgcc_s -lpthread -lmpi_f90 -lmpi_f77 -lgfortran -lm -lgfortran -lm -lgfortran -lm -lgfortran -lm -lm -lm -lquadmath -lm -lmpi_cxx -lstdc++ -ldl -lmpi -lopen-rte -lopen-pal -lrt -lnsl -lutil -lgcc_s -lpthread -ldl  -L/cluster/home/mavt/vjan/petsc/petsc-3.2-p7_with_16_gfortran/lib  -lpetsc -lX11 -Wl,-rpath,/cluster/home/mavt/vjan/petsc/petsc-3.2-p7_with_16_gfortran/lib -lHYPRE -lmpi_cxx -lstdc++ -lpthread -lflapack -lfblas -L/cluster/apps/openmpi/1.6.1/x86_64/gcc_4.7.2/lib -L/cluster/apps/gcc/gcc472/lib64/gcc/x86_64-unknown-linux-gnu/4.7.2 -L/cluster/apps/gcc/gcc472/lib64 -ldl -lmpi -lopen-rte -lopen-pal -lrt -lnsl -lutil -lgcc_s -lpthread -lmpi_f90 -lmpi_f77 -lgfortran -lm -lgfortran -lm -lgfortran -lm -lgfortran -lm -lm -lm -lquadmath -lm -lmpi_cxx -lstdc++ -ldl -lmpi -lopen-rte -lopen-pal -lrt -lnsl -lutil -lgcc_s -lpthread -ldl  -lcantera  -o ../transatmbinitialDP\n"
       ]
      },
      {
       "output_type": "stream",
       "stream": "stdout",
       "text": [
        "\n",
        "\n",
        "done...\n",
        "\n",
        "make: Warning: File `../initialconditions.cxx' has modification time 2.6e+03 s in the future\n",
        "make: warning:  Clock skew detected.  Your build may be incomplete.\n",
        "===================================================\n",
        " Syncing Current Working Directory with Cluster \n",
        "===================================================\n",
        "bsub -n 1 -W 60 -R \"rusage[mem=1024]\" -J 600_1e-05_conjugate-False_34 -o std_out.log  mpirun ./transatmbinitialDP "
       ]
      },
      {
       "output_type": "stream",
       "stream": "stdout",
       "text": [
        "\n",
        "Job <51612132> is submitted to queue <pub.1h>."
       ]
      },
      {
       "output_type": "stream",
       "stream": "stdout",
       "text": [
        "\n",
        "MPI job.\n",
        "---"
       ]
      },
      {
       "output_type": "stream",
       "stream": "stdout",
       "text": [
        "\n",
        "- transatdir  =/cluster/home/mavt/vjan/gfort_O3\n",
        "- ccompiler   =mpicc\n",
        "- cppcompiler =mpicxx\n",
        "- linker      =mpicc\n",
        "- precision   =dp\n",
        "- mode        =64bit\n",
        "---\n",
        "\n",
        "Folder /cluster/scratch_xl/public/vjan/cylinder_tests/600_1e-05_conjugate-False_67/.initialconditions exists already...\n",
        "Creating folder /cluster/scratch_xl/public/vjan/cylinder_tests/600_1e-05_conjugate-False_67/RESULT\n",
        "Converting Cantera input file\n",
        "\n",
        "------------------\n",
        "library container:\n",
        "------------------\n",
        "\n",
        "library: libtransatmbDP.a\n",
        "-> contains 0 file objects:\n",
        "\n",
        "library: libDnspcgDP.a\n",
        "-> contains 0 file objects:\n",
        "\n",
        "library: liblokiDP.a\n",
        "-> contains 0 file objects:\n",
        "\n",
        "library: libusrtoolsDP.a\n",
        "-> contains 0 file objects:\n",
        "\n",
        "\n",
        "includes:\n",
        "-> contains 40 file objects:\n",
        "   -> 39 h-files\n",
        "   -> 1 h90-file\n",
        "\n"
       ]
      },
      {
       "output_type": "stream",
       "stream": "stdout",
       "text": [
        "\n",
        "--------------------------\n",
        "dependency summary:\n",
        "--------------------------\n",
        "creating all dependencies took 0.0430729389191 s\n",
        "\n",
        "\n",
        "-> list: sourcelist\n",
        "        * 0 objects\n",
        "        * 0 object with dependencies found\n",
        "        * 0 dependency found\n",
        "\n",
        "-> list: includelist\n",
        "        * 40 objects\n",
        "        * 18 objects with dependencies found\n",
        "        * 29 dependencies found\n",
        "\n",
        "-> list: libextlist\n",
        "        * 3 objects\n",
        "        * 1 object with dependencies found\n",
        "        * 1 dependency found\n",
        "\n",
        "----------------------------\n",
        " Creating Makefile          \n",
        "----------------------------\n",
        "\n",
        "working    directory : /cluster/scratch_xl/public/vjan/cylinder_tests/600_1e-05_conjugate-False_67/.initialconditions\n",
        "executable directory : /cluster/scratch_xl/public/vjan/cylinder_tests/600_1e-05_conjugate-False_67\n",
        "executable name      : transatmbinitialDP\n",
        "\n",
        "Makefile created...\n",
        "\n",
        "\n",
        "----------------------------\n",
        " Building                   \n",
        "----------------------------\n",
        "\n",
        "change to subfolder: /cluster/scratch_xl/public/vjan/cylinder_tests/600_1e-05_conjugate-False_67/.initialconditions\n",
        "mpicxx -O3   -I\"../../../../../../home/mavt/vjan/gfort_O3/inc\" -c ../initialconditions.cxx -o ./initialconditionsDP.o"
       ]
      },
      {
       "output_type": "stream",
       "stream": "stdout",
       "text": [
        "\n"
       ]
      },
      {
       "output_type": "stream",
       "stream": "stdout",
       "text": [
        "\n",
        "mpicc  ../../../../../../home/mavt/vjan/gfort_O3/lib/userglobalDP.o ./initialconditionsDP.o ../../../../../../home/mavt/vjan/gfort_O3/lib/tmbinitDP.o    -L\"../../../../../../home/mavt/vjan/gfort_O3/lib\"  -ltransatmbDP -lDnspcgDP -llokiDP -lusrtoolsDP  -ltransatmbDP -lDnspcgDP -llokiDP -lusrtoolsDP -lstdc++ -L/cluster/home/mavt/vjan/petsc/petsc-3.2-p7_with_16_gfortran/lib  -lpetsc -lX11 -Wl,-rpath,/cluster/home/mavt/vjan/petsc/petsc-3.2-p7_with_16_gfortran/lib -lHYPRE -lmpi_cxx -lstdc++ -lpthread -lflapack -lfblas -L/cluster/apps/openmpi/1.6.1/x86_64/gcc_4.7.2/lib -L/cluster/apps/gcc/gcc472/lib64/gcc/x86_64-unknown-linux-gnu/4.7.2 -L/cluster/apps/gcc/gcc472/lib64 -ldl -lmpi -lopen-rte -lopen-pal -lrt -lnsl -lutil -lgcc_s -lpthread -lmpi_f90 -lmpi_f77 -lgfortran -lm -lgfortran -lm -lgfortran -lm -lgfortran -lm -lm -lm -lquadmath -lm -lmpi_cxx -lstdc++ -ldl -lmpi -lopen-rte -lopen-pal -lrt -lnsl -lutil -lgcc_s -lpthread -ldl  -L/cluster/home/mavt/vjan/petsc/petsc-3.2-p7_with_16_gfortran/lib  -lpetsc -lX11 -Wl,-rpath,/cluster/home/mavt/vjan/petsc/petsc-3.2-p7_with_16_gfortran/lib -lHYPRE -lmpi_cxx -lstdc++ -lpthread -lflapack -lfblas -L/cluster/apps/openmpi/1.6.1/x86_64/gcc_4.7.2/lib -L/cluster/apps/gcc/gcc472/lib64/gcc/x86_64-unknown-linux-gnu/4.7.2 -L/cluster/apps/gcc/gcc472/lib64 -ldl -lmpi -lopen-rte -lopen-pal -lrt -lnsl -lutil -lgcc_s -lpthread -lmpi_f90 -lmpi_f77 -lgfortran -lm -lgfortran -lm -lgfortran -lm -lgfortran -lm -lm -lm -lquadmath -lm -lmpi_cxx -lstdc++ -ldl -lmpi -lopen-rte -lopen-pal -lrt -lnsl -lutil -lgcc_s -lpthread -ldl  -lcantera  -o ../transatmbinitialDP\n"
       ]
      },
      {
       "output_type": "stream",
       "stream": "stdout",
       "text": [
        "\n",
        "\n",
        "done...\n",
        "\n",
        "make: Warning: File `../initialconditions.cxx' has modification time 2.5e+03 s in the future\n",
        "make: warning:  Clock skew detected.  Your build may be incomplete.\n",
        "===================================================\n",
        " Syncing Current Working Directory with Cluster \n",
        "===================================================\n",
        "bsub -n 1 -W 60 -R \"rusage[mem=1024]\" -J 600_1e-05_conjugate-False_67 -o std_out.log  mpirun ./transatmbinitialDP "
       ]
      },
      {
       "output_type": "stream",
       "stream": "stdout",
       "text": [
        "\n",
        "Job <51612136> is submitted to queue <pub.1h>."
       ]
      },
      {
       "output_type": "stream",
       "stream": "stdout",
       "text": [
        "\n",
        "MPI job.\n",
        "---"
       ]
      },
      {
       "output_type": "stream",
       "stream": "stdout",
       "text": [
        "\n",
        "- transatdir  =/cluster/home/mavt/vjan/gfort_O3\n",
        "- ccompiler   =mpicc\n",
        "- cppcompiler =mpicxx\n",
        "- linker      =mpicc\n",
        "- precision   =dp\n",
        "- mode        =64bit\n",
        "---\n",
        "\n",
        "Folder /cluster/scratch_xl/public/vjan/cylinder_tests/600_1e-05_conjugate-False_100/.initialconditions exists already...\n",
        "Creating folder /cluster/scratch_xl/public/vjan/cylinder_tests/600_1e-05_conjugate-False_100/RESULT\n",
        "Converting Cantera input file\n"
       ]
      },
      {
       "output_type": "stream",
       "stream": "stdout",
       "text": [
        "\n",
        "------------------\n",
        "library container:\n",
        "------------------\n",
        "\n",
        "library: libtransatmbDP.a\n",
        "-> contains 0 file objects:\n",
        "\n",
        "library: libDnspcgDP.a\n",
        "-> contains 0 file objects:\n",
        "\n",
        "library: liblokiDP.a\n",
        "-> contains 0 file objects:\n",
        "\n",
        "library: libusrtoolsDP.a\n",
        "-> contains 0 file objects:\n",
        "\n",
        "\n",
        "includes:\n",
        "-> contains 40 file objects:\n",
        "   -> 39 h-files\n",
        "   -> 1 h90-file\n",
        "\n"
       ]
      },
      {
       "output_type": "stream",
       "stream": "stdout",
       "text": [
        "\n",
        "--------------------------\n",
        "dependency summary:\n",
        "--------------------------\n",
        "creating all dependencies took 0.0474538803101 s\n",
        "\n",
        "\n",
        "-> list: sourcelist\n",
        "        * 0 objects\n",
        "        * 0 object with dependencies found\n",
        "        * 0 dependency found\n",
        "\n",
        "-> list: includelist\n",
        "        * 40 objects\n",
        "        * 18 objects with dependencies found\n",
        "        * 29 dependencies found\n",
        "\n",
        "-> list: libextlist\n",
        "        * 3 objects\n",
        "        * 1 object with dependencies found\n",
        "        * 1 dependency found\n",
        "\n",
        "----------------------------\n",
        " Creating Makefile          \n",
        "----------------------------\n",
        "\n",
        "working    directory : /cluster/scratch_xl/public/vjan/cylinder_tests/600_1e-05_conjugate-False_100/.initialconditions\n",
        "executable directory : /cluster/scratch_xl/public/vjan/cylinder_tests/600_1e-05_conjugate-False_100\n",
        "executable name      : transatmbinitialDP\n",
        "\n",
        "Makefile created...\n",
        "\n",
        "\n",
        "----------------------------\n",
        " Building                   \n",
        "----------------------------\n",
        "\n",
        "change to subfolder: /cluster/scratch_xl/public/vjan/cylinder_tests/600_1e-05_conjugate-False_100/.initialconditions\n",
        "mpicxx -O3   -I\"../../../../../../home/mavt/vjan/gfort_O3/inc\" -c ../initialconditions.cxx -o ./initialconditionsDP.o"
       ]
      },
      {
       "output_type": "stream",
       "stream": "stdout",
       "text": [
        "\n"
       ]
      },
      {
       "output_type": "stream",
       "stream": "stdout",
       "text": [
        "\n",
        "mpicc  ../../../../../../home/mavt/vjan/gfort_O3/lib/userglobalDP.o ./initialconditionsDP.o ../../../../../../home/mavt/vjan/gfort_O3/lib/tmbinitDP.o    -L\"../../../../../../home/mavt/vjan/gfort_O3/lib\"  -ltransatmbDP -lDnspcgDP -llokiDP -lusrtoolsDP  -ltransatmbDP -lDnspcgDP -llokiDP -lusrtoolsDP -lstdc++ -L/cluster/home/mavt/vjan/petsc/petsc-3.2-p7_with_16_gfortran/lib  -lpetsc -lX11 -Wl,-rpath,/cluster/home/mavt/vjan/petsc/petsc-3.2-p7_with_16_gfortran/lib -lHYPRE -lmpi_cxx -lstdc++ -lpthread -lflapack -lfblas -L/cluster/apps/openmpi/1.6.1/x86_64/gcc_4.7.2/lib -L/cluster/apps/gcc/gcc472/lib64/gcc/x86_64-unknown-linux-gnu/4.7.2 -L/cluster/apps/gcc/gcc472/lib64 -ldl -lmpi -lopen-rte -lopen-pal -lrt -lnsl -lutil -lgcc_s -lpthread -lmpi_f90 -lmpi_f77 -lgfortran -lm -lgfortran -lm -lgfortran -lm -lgfortran -lm -lm -lm -lquadmath -lm -lmpi_cxx -lstdc++ -ldl -lmpi -lopen-rte -lopen-pal -lrt -lnsl -lutil -lgcc_s -lpthread -ldl  -L/cluster/home/mavt/vjan/petsc/petsc-3.2-p7_with_16_gfortran/lib  -lpetsc -lX11 -Wl,-rpath,/cluster/home/mavt/vjan/petsc/petsc-3.2-p7_with_16_gfortran/lib -lHYPRE -lmpi_cxx -lstdc++ -lpthread -lflapack -lfblas -L/cluster/apps/openmpi/1.6.1/x86_64/gcc_4.7.2/lib -L/cluster/apps/gcc/gcc472/lib64/gcc/x86_64-unknown-linux-gnu/4.7.2 -L/cluster/apps/gcc/gcc472/lib64 -ldl -lmpi -lopen-rte -lopen-pal -lrt -lnsl -lutil -lgcc_s -lpthread -lmpi_f90 -lmpi_f77 -lgfortran -lm -lgfortran -lm -lgfortran -lm -lgfortran -lm -lm -lm -lquadmath -lm -lmpi_cxx -lstdc++ -ldl -lmpi -lopen-rte -lopen-pal -lrt -lnsl -lutil -lgcc_s -lpthread -ldl  -lcantera  -o ../transatmbinitialDP\n"
       ]
      },
      {
       "output_type": "stream",
       "stream": "stdout",
       "text": [
        "\n",
        "\n",
        "done...\n",
        "\n",
        "make: Warning: File `../initialconditions.cxx' has modification time 2.5e+03 s in the future\n",
        "make: warning:  Clock skew detected.  Your build may be incomplete.\n",
        "===================================================\n",
        " Syncing Current Working Directory with Cluster \n",
        "===================================================\n",
        "bsub -n 1 -W 60 -R \"rusage[mem=1024]\" -J 600_1e-05_conjugate-False_100 -o std_out.log  mpirun ./transatmbinitialDP "
       ]
      },
      {
       "output_type": "stream",
       "stream": "stdout",
       "text": [
        "\n",
        "Job <51612138> is submitted to queue <pub.1h>."
       ]
      },
      {
       "output_type": "stream",
       "stream": "stdout",
       "text": [
        "\n",
        "MPI job.\n",
        "---"
       ]
      },
      {
       "output_type": "stream",
       "stream": "stdout",
       "text": [
        "\n",
        "- transatdir  =/cluster/home/mavt/vjan/gfort_O3\n",
        "- ccompiler   =mpicc\n",
        "- cppcompiler =mpicxx\n",
        "- linker      =mpicc\n",
        "- precision   =dp\n",
        "- mode        =64bit\n",
        "---\n",
        "\n",
        "Folder /cluster/scratch_xl/public/vjan/cylinder_tests/600_2e-05_conjugate-True_34/.initialconditions exists already...\n",
        "Creating folder /cluster/scratch_xl/public/vjan/cylinder_tests/600_2e-05_conjugate-True_34/RESULT\n",
        "Converting Cantera input file\n",
        "\n",
        "------------------\n",
        "library container:\n",
        "------------------\n",
        "\n",
        "library: libtransatmbDP.a\n",
        "-> contains 0 file objects:\n",
        "\n",
        "library: libDnspcgDP.a\n",
        "-> contains 0 file objects:\n",
        "\n",
        "library: liblokiDP.a\n",
        "-> contains 0 file objects:\n",
        "\n",
        "library: libusrtoolsDP.a\n",
        "-> contains 0 file objects:\n",
        "\n",
        "\n",
        "includes:\n",
        "-> contains 40 file objects:\n",
        "   -> 39 h-files\n",
        "   -> 1 h90-file\n",
        "\n"
       ]
      },
      {
       "output_type": "stream",
       "stream": "stdout",
       "text": [
        "\n",
        "--------------------------\n",
        "dependency summary:\n",
        "--------------------------\n",
        "creating all dependencies took 0.0422170162201 s\n",
        "\n",
        "\n",
        "-> list: sourcelist\n",
        "        * 0 objects\n",
        "        * 0 object with dependencies found\n",
        "        * 0 dependency found\n",
        "\n",
        "-> list: includelist\n",
        "        * 40 objects\n",
        "        * 18 objects with dependencies found\n",
        "        * 29 dependencies found\n",
        "\n",
        "-> list: libextlist\n",
        "        * 3 objects\n",
        "        * 1 object with dependencies found\n",
        "        * 1 dependency found\n",
        "\n",
        "----------------------------\n",
        " Creating Makefile          \n",
        "----------------------------\n",
        "\n",
        "working    directory : /cluster/scratch_xl/public/vjan/cylinder_tests/600_2e-05_conjugate-True_34/.initialconditions\n",
        "executable directory : /cluster/scratch_xl/public/vjan/cylinder_tests/600_2e-05_conjugate-True_34\n",
        "executable name      : transatmbinitialDP\n",
        "\n",
        "Makefile created...\n",
        "\n",
        "\n",
        "----------------------------\n",
        " Building                   \n",
        "----------------------------\n",
        "\n",
        "change to subfolder: /cluster/scratch_xl/public/vjan/cylinder_tests/600_2e-05_conjugate-True_34/.initialconditions\n",
        "mpicxx -O3   -I\"../../../../../../home/mavt/vjan/gfort_O3/inc\" -c ../initialconditions.cxx -o ./initialconditionsDP.o\n"
       ]
      },
      {
       "output_type": "stream",
       "stream": "stdout",
       "text": [
        "\n",
        "mpicc  ../../../../../../home/mavt/vjan/gfort_O3/lib/userglobalDP.o ./initialconditionsDP.o ../../../../../../home/mavt/vjan/gfort_O3/lib/tmbinitDP.o    -L\"../../../../../../home/mavt/vjan/gfort_O3/lib\"  -ltransatmbDP -lDnspcgDP -llokiDP -lusrtoolsDP  -ltransatmbDP -lDnspcgDP -llokiDP -lusrtoolsDP -lstdc++ -L/cluster/home/mavt/vjan/petsc/petsc-3.2-p7_with_16_gfortran/lib  -lpetsc -lX11 -Wl,-rpath,/cluster/home/mavt/vjan/petsc/petsc-3.2-p7_with_16_gfortran/lib -lHYPRE -lmpi_cxx -lstdc++ -lpthread -lflapack -lfblas -L/cluster/apps/openmpi/1.6.1/x86_64/gcc_4.7.2/lib -L/cluster/apps/gcc/gcc472/lib64/gcc/x86_64-unknown-linux-gnu/4.7.2 -L/cluster/apps/gcc/gcc472/lib64 -ldl -lmpi -lopen-rte -lopen-pal -lrt -lnsl -lutil -lgcc_s -lpthread -lmpi_f90 -lmpi_f77 -lgfortran -lm -lgfortran -lm -lgfortran -lm -lgfortran -lm -lm -lm -lquadmath -lm -lmpi_cxx -lstdc++ -ldl -lmpi -lopen-rte -lopen-pal -lrt -lnsl -lutil -lgcc_s -lpthread -ldl  -L/cluster/home/mavt/vjan/petsc/petsc-3.2-p7_with_16_gfortran/lib  -lpetsc -lX11 -Wl,-rpath,/cluster/home/mavt/vjan/petsc/petsc-3.2-p7_with_16_gfortran/lib -lHYPRE -lmpi_cxx -lstdc++ -lpthread -lflapack -lfblas -L/cluster/apps/openmpi/1.6.1/x86_64/gcc_4.7.2/lib -L/cluster/apps/gcc/gcc472/lib64/gcc/x86_64-unknown-linux-gnu/4.7.2 -L/cluster/apps/gcc/gcc472/lib64 -ldl -lmpi -lopen-rte -lopen-pal -lrt -lnsl -lutil -lgcc_s -lpthread -lmpi_f90 -lmpi_f77 -lgfortran -lm -lgfortran -lm -lgfortran -lm -lgfortran -lm -lm -lm -lquadmath -lm -lmpi_cxx -lstdc++ -ldl -lmpi -lopen-rte -lopen-pal -lrt -lnsl -lutil -lgcc_s -lpthread -ldl  -lcantera  -o ../transatmbinitialDP\n"
       ]
      },
      {
       "output_type": "stream",
       "stream": "stdout",
       "text": [
        "\n",
        "\n",
        "done...\n",
        "\n",
        "make: Warning: File `../initialconditions.cxx' has modification time 2.5e+03 s in the future\n",
        "make: warning:  Clock skew detected.  Your build may be incomplete.\n",
        "===================================================\n",
        " Syncing Current Working Directory with Cluster \n",
        "===================================================\n",
        "bsub -n 1 -W 60 -R \"rusage[mem=1024]\" -J 600_2e-05_conjugate-True_34 -o std_out.log  mpirun ./transatmbinitialDP "
       ]
      },
      {
       "output_type": "stream",
       "stream": "stdout",
       "text": [
        "\n",
        "Job <51612145> is submitted to queue <pub.1h>."
       ]
      },
      {
       "output_type": "stream",
       "stream": "stdout",
       "text": [
        "\n",
        "MPI job.\n",
        "---"
       ]
      },
      {
       "output_type": "stream",
       "stream": "stdout",
       "text": [
        "\n",
        "- transatdir  =/cluster/home/mavt/vjan/gfort_O3\n",
        "- ccompiler   =mpicc\n",
        "- cppcompiler =mpicxx\n",
        "- linker      =mpicc\n",
        "- precision   =dp\n",
        "- mode        =64bit\n",
        "---\n",
        "\n",
        "Folder /cluster/scratch_xl/public/vjan/cylinder_tests/600_2e-05_conjugate-True_67/.initialconditions exists already...\n",
        "Creating folder /cluster/scratch_xl/public/vjan/cylinder_tests/600_2e-05_conjugate-True_67/RESULT\n",
        "Converting Cantera input file\n"
       ]
      },
      {
       "output_type": "stream",
       "stream": "stdout",
       "text": [
        "\n",
        "------------------\n",
        "library container:\n",
        "------------------\n",
        "\n",
        "library: libtransatmbDP.a\n",
        "-> contains 0 file objects:\n",
        "\n",
        "library: libDnspcgDP.a\n",
        "-> contains 0 file objects:\n",
        "\n",
        "library: liblokiDP.a\n",
        "-> contains 0 file objects:\n",
        "\n",
        "library: libusrtoolsDP.a\n",
        "-> contains 0 file objects:\n",
        "\n",
        "\n",
        "includes:\n",
        "-> contains 40 file objects:\n",
        "   -> 39 h-files\n",
        "   -> 1 h90-file\n",
        "\n"
       ]
      },
      {
       "output_type": "stream",
       "stream": "stdout",
       "text": [
        "\n",
        "--------------------------\n",
        "dependency summary:\n",
        "--------------------------\n",
        "creating all dependencies took 0.0427980422974 s\n",
        "\n",
        "\n",
        "-> list: sourcelist\n",
        "        * 0 objects\n",
        "        * 0 object with dependencies found\n",
        "        * 0 dependency found\n",
        "\n",
        "-> list: includelist\n",
        "        * 40 objects\n",
        "        * 18 objects with dependencies found\n",
        "        * 29 dependencies found\n",
        "\n",
        "-> list: libextlist\n",
        "        * 3 objects\n",
        "        * 1 object with dependencies found\n",
        "        * 1 dependency found\n",
        "\n",
        "----------------------------\n",
        " Creating Makefile          \n",
        "----------------------------\n",
        "\n",
        "working    directory : /cluster/scratch_xl/public/vjan/cylinder_tests/600_2e-05_conjugate-True_67/.initialconditions\n",
        "executable directory : /cluster/scratch_xl/public/vjan/cylinder_tests/600_2e-05_conjugate-True_67\n",
        "executable name      : transatmbinitialDP\n",
        "\n",
        "Makefile created...\n",
        "\n",
        "\n",
        "----------------------------\n",
        " Building                   \n",
        "----------------------------\n",
        "\n",
        "change to subfolder: /cluster/scratch_xl/public/vjan/cylinder_tests/600_2e-05_conjugate-True_67/.initialconditions\n",
        "mpicxx -O3   -I\"../../../../../../home/mavt/vjan/gfort_O3/inc\" -c ../initialconditions.cxx -o ./initialconditionsDP.o\n"
       ]
      },
      {
       "output_type": "stream",
       "stream": "stdout",
       "text": [
        "\n",
        "mpicc  ../../../../../../home/mavt/vjan/gfort_O3/lib/userglobalDP.o ./initialconditionsDP.o ../../../../../../home/mavt/vjan/gfort_O3/lib/tmbinitDP.o    -L\"../../../../../../home/mavt/vjan/gfort_O3/lib\"  -ltransatmbDP -lDnspcgDP -llokiDP -lusrtoolsDP  -ltransatmbDP -lDnspcgDP -llokiDP -lusrtoolsDP -lstdc++ -L/cluster/home/mavt/vjan/petsc/petsc-3.2-p7_with_16_gfortran/lib  -lpetsc -lX11 -Wl,-rpath,/cluster/home/mavt/vjan/petsc/petsc-3.2-p7_with_16_gfortran/lib -lHYPRE -lmpi_cxx -lstdc++ -lpthread -lflapack -lfblas -L/cluster/apps/openmpi/1.6.1/x86_64/gcc_4.7.2/lib -L/cluster/apps/gcc/gcc472/lib64/gcc/x86_64-unknown-linux-gnu/4.7.2 -L/cluster/apps/gcc/gcc472/lib64 -ldl -lmpi -lopen-rte -lopen-pal -lrt -lnsl -lutil -lgcc_s -lpthread -lmpi_f90 -lmpi_f77 -lgfortran -lm -lgfortran -lm -lgfortran -lm -lgfortran -lm -lm -lm -lquadmath -lm -lmpi_cxx -lstdc++ -ldl -lmpi -lopen-rte -lopen-pal -lrt -lnsl -lutil -lgcc_s -lpthread -ldl  -L/cluster/home/mavt/vjan/petsc/petsc-3.2-p7_with_16_gfortran/lib  -lpetsc -lX11 -Wl,-rpath,/cluster/home/mavt/vjan/petsc/petsc-3.2-p7_with_16_gfortran/lib -lHYPRE -lmpi_cxx -lstdc++ -lpthread -lflapack -lfblas -L/cluster/apps/openmpi/1.6.1/x86_64/gcc_4.7.2/lib -L/cluster/apps/gcc/gcc472/lib64/gcc/x86_64-unknown-linux-gnu/4.7.2 -L/cluster/apps/gcc/gcc472/lib64 -ldl -lmpi -lopen-rte -lopen-pal -lrt -lnsl -lutil -lgcc_s -lpthread -lmpi_f90 -lmpi_f77 -lgfortran -lm -lgfortran -lm -lgfortran -lm -lgfortran -lm -lm -lm -lquadmath -lm -lmpi_cxx -lstdc++ -ldl -lmpi -lopen-rte -lopen-pal -lrt -lnsl -lutil -lgcc_s -lpthread -ldl  -lcantera  -o ../transatmbinitialDP\n"
       ]
      },
      {
       "output_type": "stream",
       "stream": "stdout",
       "text": [
        "\n",
        "\n",
        "done...\n",
        "\n",
        "make: Warning: File `../initialconditions.cxx' has modification time 2.4e+03 s in the future\n",
        "make: warning:  Clock skew detected.  Your build may be incomplete.\n",
        "===================================================\n",
        " Syncing Current Working Directory with Cluster \n",
        "===================================================\n",
        "bsub -n 1 -W 60 -R \"rusage[mem=1024]\" -J 600_2e-05_conjugate-True_67 -o std_out.log  mpirun ./transatmbinitialDP "
       ]
      },
      {
       "output_type": "stream",
       "stream": "stdout",
       "text": [
        "\n",
        "Job <51612148> is submitted to queue <pub.1h>."
       ]
      },
      {
       "output_type": "stream",
       "stream": "stdout",
       "text": [
        "\n",
        "MPI job.\n",
        "---"
       ]
      },
      {
       "output_type": "stream",
       "stream": "stdout",
       "text": [
        "\n",
        "- transatdir  =/cluster/home/mavt/vjan/gfort_O3\n",
        "- ccompiler   =mpicc\n",
        "- cppcompiler =mpicxx\n",
        "- linker      =mpicc\n",
        "- precision   =dp\n",
        "- mode        =64bit\n",
        "---\n",
        "\n",
        "Folder /cluster/scratch_xl/public/vjan/cylinder_tests/600_2e-05_conjugate-True_100/.initialconditions exists already...\n",
        "Creating folder /cluster/scratch_xl/public/vjan/cylinder_tests/600_2e-05_conjugate-True_100/RESULT\n",
        "Converting Cantera input file\n",
        "\n",
        "------------------\n",
        "library container:\n",
        "------------------\n",
        "\n",
        "library: libtransatmbDP.a\n",
        "-> contains 0 file objects:\n",
        "\n",
        "library: libDnspcgDP.a\n",
        "-> contains 0 file objects:\n",
        "\n",
        "library: liblokiDP.a\n",
        "-> contains 0 file objects:\n",
        "\n",
        "library: libusrtoolsDP.a\n",
        "-> contains 0 file objects:\n",
        "\n",
        "\n",
        "includes:\n",
        "-> contains 40 file objects:\n",
        "   -> 39 h-files\n",
        "   -> 1 h90-file\n",
        "\n"
       ]
      },
      {
       "output_type": "stream",
       "stream": "stdout",
       "text": [
        "\n",
        "--------------------------\n",
        "dependency summary:\n",
        "--------------------------\n",
        "creating all dependencies took 0.0510399341583 s\n",
        "\n",
        "\n",
        "-> list: sourcelist\n",
        "        * 0 objects\n",
        "        * 0 object with dependencies found\n",
        "        * 0 dependency found\n",
        "\n",
        "-> list: includelist\n",
        "        * 40 objects\n",
        "        * 18 objects with dependencies found\n",
        "        * 29 dependencies found\n",
        "\n",
        "-> list: libextlist\n",
        "        * 3 objects\n",
        "        * 1 object with dependencies found\n",
        "        * 1 dependency found\n",
        "\n",
        "----------------------------\n",
        " Creating Makefile          \n",
        "----------------------------\n",
        "\n",
        "working    directory : /cluster/scratch_xl/public/vjan/cylinder_tests/600_2e-05_conjugate-True_100/.initialconditions\n",
        "executable directory : /cluster/scratch_xl/public/vjan/cylinder_tests/600_2e-05_conjugate-True_100\n",
        "executable name      : transatmbinitialDP\n",
        "\n",
        "Makefile created...\n",
        "\n",
        "\n",
        "----------------------------\n",
        " Building                   \n",
        "----------------------------\n",
        "\n",
        "change to subfolder: /cluster/scratch_xl/public/vjan/cylinder_tests/600_2e-05_conjugate-True_100/.initialconditions\n",
        "mpicxx -O3   -I\"../../../../../../home/mavt/vjan/gfort_O3/inc\" -c ../initialconditions.cxx -o ./initialconditionsDP.o"
       ]
      },
      {
       "output_type": "stream",
       "stream": "stdout",
       "text": [
        "\n"
       ]
      },
      {
       "output_type": "stream",
       "stream": "stdout",
       "text": [
        "\n",
        "mpicc  ../../../../../../home/mavt/vjan/gfort_O3/lib/userglobalDP.o ./initialconditionsDP.o ../../../../../../home/mavt/vjan/gfort_O3/lib/tmbinitDP.o    -L\"../../../../../../home/mavt/vjan/gfort_O3/lib\"  -ltransatmbDP -lDnspcgDP -llokiDP -lusrtoolsDP  -ltransatmbDP -lDnspcgDP -llokiDP -lusrtoolsDP -lstdc++ -L/cluster/home/mavt/vjan/petsc/petsc-3.2-p7_with_16_gfortran/lib  -lpetsc -lX11 -Wl,-rpath,/cluster/home/mavt/vjan/petsc/petsc-3.2-p7_with_16_gfortran/lib -lHYPRE -lmpi_cxx -lstdc++ -lpthread -lflapack -lfblas -L/cluster/apps/openmpi/1.6.1/x86_64/gcc_4.7.2/lib -L/cluster/apps/gcc/gcc472/lib64/gcc/x86_64-unknown-linux-gnu/4.7.2 -L/cluster/apps/gcc/gcc472/lib64 -ldl -lmpi -lopen-rte -lopen-pal -lrt -lnsl -lutil -lgcc_s -lpthread -lmpi_f90 -lmpi_f77 -lgfortran -lm -lgfortran -lm -lgfortran -lm -lgfortran -lm -lm -lm -lquadmath -lm -lmpi_cxx -lstdc++ -ldl -lmpi -lopen-rte -lopen-pal -lrt -lnsl -lutil -lgcc_s -lpthread -ldl  -L/cluster/home/mavt/vjan/petsc/petsc-3.2-p7_with_16_gfortran/lib  -lpetsc -lX11 -Wl,-rpath,/cluster/home/mavt/vjan/petsc/petsc-3.2-p7_with_16_gfortran/lib -lHYPRE -lmpi_cxx -lstdc++ -lpthread -lflapack -lfblas -L/cluster/apps/openmpi/1.6.1/x86_64/gcc_4.7.2/lib -L/cluster/apps/gcc/gcc472/lib64/gcc/x86_64-unknown-linux-gnu/4.7.2 -L/cluster/apps/gcc/gcc472/lib64 -ldl -lmpi -lopen-rte -lopen-pal -lrt -lnsl -lutil -lgcc_s -lpthread -lmpi_f90 -lmpi_f77 -lgfortran -lm -lgfortran -lm -lgfortran -lm -lgfortran -lm -lm -lm -lquadmath -lm -lmpi_cxx -lstdc++ -ldl -lmpi -lopen-rte -lopen-pal -lrt -lnsl -lutil -lgcc_s -lpthread -ldl  -lcantera  -o ../transatmbinitialDP\n"
       ]
      },
      {
       "output_type": "stream",
       "stream": "stdout",
       "text": [
        "\n",
        "\n",
        "done...\n",
        "\n",
        "make: Warning: File `../initialconditions.cxx' has modification time 2.4e+03 s in the future\n",
        "make: warning:  Clock skew detected.  Your build may be incomplete.\n",
        "===================================================\n",
        " Syncing Current Working Directory with Cluster \n",
        "===================================================\n",
        "bsub -n 1 -W 60 -R \"rusage[mem=1024]\" -J 600_2e-05_conjugate-True_100 -o std_out.log  mpirun ./transatmbinitialDP "
       ]
      },
      {
       "output_type": "stream",
       "stream": "stdout",
       "text": [
        "\n",
        "Job <51612205> is submitted to queue <pub.1h>."
       ]
      },
      {
       "output_type": "stream",
       "stream": "stdout",
       "text": [
        "\n",
        "MPI job.\n",
        "---"
       ]
      },
      {
       "output_type": "stream",
       "stream": "stdout",
       "text": [
        "\n",
        "- transatdir  =/cluster/home/mavt/vjan/gfort_O3\n",
        "- ccompiler   =mpicc\n",
        "- cppcompiler =mpicxx\n",
        "- linker      =mpicc\n",
        "- precision   =dp\n",
        "- mode        =64bit\n",
        "---\n",
        "\n",
        "Folder /cluster/scratch_xl/public/vjan/cylinder_tests/600_2e-05_conjugate-False_34/.initialconditions exists already...\n",
        "Creating folder /cluster/scratch_xl/public/vjan/cylinder_tests/600_2e-05_conjugate-False_34/RESULT\n",
        "Converting Cantera input file\n",
        "\n",
        "------------------\n",
        "library container:\n",
        "------------------\n",
        "\n",
        "library: libtransatmbDP.a\n",
        "-> contains 0 file objects:\n",
        "\n",
        "library: libDnspcgDP.a\n",
        "-> contains 0 file objects:\n",
        "\n",
        "library: liblokiDP.a\n",
        "-> contains 0 file objects:\n",
        "\n",
        "library: libusrtoolsDP.a\n",
        "-> contains 0 file objects:\n",
        "\n",
        "\n",
        "includes:\n",
        "-> contains 40 file objects:\n",
        "   -> 39 h-files\n",
        "   -> 1 h90-file\n",
        "\n"
       ]
      },
      {
       "output_type": "stream",
       "stream": "stdout",
       "text": [
        "\n",
        "--------------------------\n",
        "dependency summary:\n",
        "--------------------------\n",
        "creating all dependencies took 0.0326659679413 s\n",
        "\n",
        "\n",
        "-> list: sourcelist\n",
        "        * 0 objects\n",
        "        * 0 object with dependencies found\n",
        "        * 0 dependency found\n",
        "\n",
        "-> list: includelist\n",
        "        * 40 objects\n",
        "        * 18 objects with dependencies found\n",
        "        * 29 dependencies found\n",
        "\n",
        "-> list: libextlist\n",
        "        * 3 objects\n",
        "        * 1 object with dependencies found\n",
        "        * 1 dependency found\n",
        "\n",
        "----------------------------\n",
        " Creating Makefile          \n",
        "----------------------------\n",
        "\n",
        "working    directory : /cluster/scratch_xl/public/vjan/cylinder_tests/600_2e-05_conjugate-False_34/.initialconditions\n",
        "executable directory : /cluster/scratch_xl/public/vjan/cylinder_tests/600_2e-05_conjugate-False_34\n",
        "executable name      : transatmbinitialDP\n",
        "\n",
        "Makefile created...\n",
        "\n",
        "\n",
        "----------------------------\n",
        " Building                   \n",
        "----------------------------\n",
        "\n",
        "change to subfolder: /cluster/scratch_xl/public/vjan/cylinder_tests/600_2e-05_conjugate-False_34/.initialconditions\n",
        "mpicxx -O3   -I\"../../../../../../home/mavt/vjan/gfort_O3/inc\" -c ../initialconditions.cxx -o ./initialconditionsDP.o\n"
       ]
      },
      {
       "output_type": "stream",
       "stream": "stdout",
       "text": [
        "\n",
        "mpicc  ../../../../../../home/mavt/vjan/gfort_O3/lib/userglobalDP.o ./initialconditionsDP.o ../../../../../../home/mavt/vjan/gfort_O3/lib/tmbinitDP.o    -L\"../../../../../../home/mavt/vjan/gfort_O3/lib\"  -ltransatmbDP -lDnspcgDP -llokiDP -lusrtoolsDP  -ltransatmbDP -lDnspcgDP -llokiDP -lusrtoolsDP -lstdc++ -L/cluster/home/mavt/vjan/petsc/petsc-3.2-p7_with_16_gfortran/lib  -lpetsc -lX11 -Wl,-rpath,/cluster/home/mavt/vjan/petsc/petsc-3.2-p7_with_16_gfortran/lib -lHYPRE -lmpi_cxx -lstdc++ -lpthread -lflapack -lfblas -L/cluster/apps/openmpi/1.6.1/x86_64/gcc_4.7.2/lib -L/cluster/apps/gcc/gcc472/lib64/gcc/x86_64-unknown-linux-gnu/4.7.2 -L/cluster/apps/gcc/gcc472/lib64 -ldl -lmpi -lopen-rte -lopen-pal -lrt -lnsl -lutil -lgcc_s -lpthread -lmpi_f90 -lmpi_f77 -lgfortran -lm -lgfortran -lm -lgfortran -lm -lgfortran -lm -lm -lm -lquadmath -lm -lmpi_cxx -lstdc++ -ldl -lmpi -lopen-rte -lopen-pal -lrt -lnsl -lutil -lgcc_s -lpthread -ldl  -L/cluster/home/mavt/vjan/petsc/petsc-3.2-p7_with_16_gfortran/lib  -lpetsc -lX11 -Wl,-rpath,/cluster/home/mavt/vjan/petsc/petsc-3.2-p7_with_16_gfortran/lib -lHYPRE -lmpi_cxx -lstdc++ -lpthread -lflapack -lfblas -L/cluster/apps/openmpi/1.6.1/x86_64/gcc_4.7.2/lib -L/cluster/apps/gcc/gcc472/lib64/gcc/x86_64-unknown-linux-gnu/4.7.2 -L/cluster/apps/gcc/gcc472/lib64 -ldl -lmpi -lopen-rte -lopen-pal -lrt -lnsl -lutil -lgcc_s -lpthread -lmpi_f90 -lmpi_f77 -lgfortran -lm -lgfortran -lm -lgfortran -lm -lgfortran -lm -lm -lm -lquadmath -lm -lmpi_cxx -lstdc++ -ldl -lmpi -lopen-rte -lopen-pal -lrt -lnsl -lutil -lgcc_s -lpthread -ldl  -lcantera  -o ../transatmbinitialDP\n"
       ]
      },
      {
       "output_type": "stream",
       "stream": "stdout",
       "text": [
        "\n",
        "\n",
        "done...\n",
        "\n",
        "make: Warning: File `../initialconditions.cxx' has modification time 2.3e+03 s in the future\n",
        "make: warning:  Clock skew detected.  Your build may be incomplete.\n",
        "===================================================\n",
        " Syncing Current Working Directory with Cluster \n",
        "===================================================\n",
        "bsub -n 1 -W 60 -R \"rusage[mem=1024]\" -J 600_2e-05_conjugate-False_34 -o std_out.log  mpirun ./transatmbinitialDP "
       ]
      },
      {
       "output_type": "stream",
       "stream": "stdout",
       "text": [
        "\n",
        "Job <51612252> is submitted to queue <pub.1h>."
       ]
      },
      {
       "output_type": "stream",
       "stream": "stdout",
       "text": [
        "\n",
        "MPI job.\n",
        "---"
       ]
      },
      {
       "output_type": "stream",
       "stream": "stdout",
       "text": [
        "\n",
        "- transatdir  =/cluster/home/mavt/vjan/gfort_O3\n",
        "- ccompiler   =mpicc\n",
        "- cppcompiler =mpicxx\n",
        "- linker      =mpicc\n",
        "- precision   =dp\n",
        "- mode        =64bit\n",
        "---\n",
        "\n",
        "Folder /cluster/scratch_xl/public/vjan/cylinder_tests/600_2e-05_conjugate-False_67/.initialconditions exists already...\n",
        "Creating folder /cluster/scratch_xl/public/vjan/cylinder_tests/600_2e-05_conjugate-False_67/RESULT\n",
        "Converting Cantera input file\n"
       ]
      },
      {
       "output_type": "stream",
       "stream": "stdout",
       "text": [
        "\n",
        "------------------\n",
        "library container:\n",
        "------------------\n",
        "\n",
        "library: libtransatmbDP.a\n",
        "-> contains 0 file objects:\n",
        "\n",
        "library: libDnspcgDP.a\n",
        "-> contains 0 file objects:\n",
        "\n",
        "library: liblokiDP.a\n",
        "-> contains 0 file objects:\n",
        "\n",
        "library: libusrtoolsDP.a\n",
        "-> contains 0 file objects:\n",
        "\n",
        "\n",
        "includes:\n",
        "-> contains 40 file objects:\n",
        "   -> 39 h-files\n",
        "   -> 1 h90-file\n",
        "\n"
       ]
      },
      {
       "output_type": "stream",
       "stream": "stdout",
       "text": [
        "\n",
        "--------------------------\n",
        "dependency summary:\n",
        "--------------------------\n",
        "creating all dependencies took 0.0449838638306 s\n",
        "\n",
        "\n",
        "-> list: sourcelist\n",
        "        * 0 objects\n",
        "        * 0 object with dependencies found\n",
        "        * 0 dependency found\n",
        "\n",
        "-> list: includelist\n",
        "        * 40 objects\n",
        "        * 18 objects with dependencies found\n",
        "        * 29 dependencies found\n",
        "\n",
        "-> list: libextlist\n",
        "        * 3 objects\n",
        "        * 1 object with dependencies found\n",
        "        * 1 dependency found\n",
        "\n",
        "----------------------------\n",
        " Creating Makefile          \n",
        "----------------------------\n",
        "\n",
        "working    directory : /cluster/scratch_xl/public/vjan/cylinder_tests/600_2e-05_conjugate-False_67/.initialconditions\n",
        "executable directory : /cluster/scratch_xl/public/vjan/cylinder_tests/600_2e-05_conjugate-False_67\n",
        "executable name      : transatmbinitialDP\n",
        "\n",
        "Makefile created...\n",
        "\n",
        "\n",
        "----------------------------\n",
        " Building                   \n",
        "----------------------------\n",
        "\n",
        "change to subfolder: /cluster/scratch_xl/public/vjan/cylinder_tests/600_2e-05_conjugate-False_67/.initialconditions\n",
        "mpicxx -O3   -I\"../../../../../../home/mavt/vjan/gfort_O3/inc\" -c ../initialconditions.cxx -o ./initialconditionsDP.o"
       ]
      },
      {
       "output_type": "stream",
       "stream": "stdout",
       "text": [
        "\n"
       ]
      },
      {
       "output_type": "stream",
       "stream": "stdout",
       "text": [
        "\n",
        "mpicc  ../../../../../../home/mavt/vjan/gfort_O3/lib/userglobalDP.o ./initialconditionsDP.o ../../../../../../home/mavt/vjan/gfort_O3/lib/tmbinitDP.o    -L\"../../../../../../home/mavt/vjan/gfort_O3/lib\"  -ltransatmbDP -lDnspcgDP -llokiDP -lusrtoolsDP  -ltransatmbDP -lDnspcgDP -llokiDP -lusrtoolsDP -lstdc++ -L/cluster/home/mavt/vjan/petsc/petsc-3.2-p7_with_16_gfortran/lib  -lpetsc -lX11 -Wl,-rpath,/cluster/home/mavt/vjan/petsc/petsc-3.2-p7_with_16_gfortran/lib -lHYPRE -lmpi_cxx -lstdc++ -lpthread -lflapack -lfblas -L/cluster/apps/openmpi/1.6.1/x86_64/gcc_4.7.2/lib -L/cluster/apps/gcc/gcc472/lib64/gcc/x86_64-unknown-linux-gnu/4.7.2 -L/cluster/apps/gcc/gcc472/lib64 -ldl -lmpi -lopen-rte -lopen-pal -lrt -lnsl -lutil -lgcc_s -lpthread -lmpi_f90 -lmpi_f77 -lgfortran -lm -lgfortran -lm -lgfortran -lm -lgfortran -lm -lm -lm -lquadmath -lm -lmpi_cxx -lstdc++ -ldl -lmpi -lopen-rte -lopen-pal -lrt -lnsl -lutil -lgcc_s -lpthread -ldl  -L/cluster/home/mavt/vjan/petsc/petsc-3.2-p7_with_16_gfortran/lib  -lpetsc -lX11 -Wl,-rpath,/cluster/home/mavt/vjan/petsc/petsc-3.2-p7_with_16_gfortran/lib -lHYPRE -lmpi_cxx -lstdc++ -lpthread -lflapack -lfblas -L/cluster/apps/openmpi/1.6.1/x86_64/gcc_4.7.2/lib -L/cluster/apps/gcc/gcc472/lib64/gcc/x86_64-unknown-linux-gnu/4.7.2 -L/cluster/apps/gcc/gcc472/lib64 -ldl -lmpi -lopen-rte -lopen-pal -lrt -lnsl -lutil -lgcc_s -lpthread -lmpi_f90 -lmpi_f77 -lgfortran -lm -lgfortran -lm -lgfortran -lm -lgfortran -lm -lm -lm -lquadmath -lm -lmpi_cxx -lstdc++ -ldl -lmpi -lopen-rte -lopen-pal -lrt -lnsl -lutil -lgcc_s -lpthread -ldl  -lcantera  -o ../transatmbinitialDP\n"
       ]
      },
      {
       "output_type": "stream",
       "stream": "stdout",
       "text": [
        "\n",
        "\n",
        "done...\n",
        "\n",
        "make: Warning: File `../initialconditions.cxx' has modification time 2.3e+03 s in the future\n",
        "make: warning:  Clock skew detected.  Your build may be incomplete.\n",
        "===================================================\n",
        " Syncing Current Working Directory with Cluster \n",
        "===================================================\n",
        "bsub -n 1 -W 60 -R \"rusage[mem=1024]\" -J 600_2e-05_conjugate-False_67 -o std_out.log  mpirun ./transatmbinitialDP "
       ]
      },
      {
       "output_type": "stream",
       "stream": "stdout",
       "text": [
        "\n",
        "Job <51612289> is submitted to queue <pub.1h>."
       ]
      },
      {
       "output_type": "stream",
       "stream": "stdout",
       "text": [
        "\n",
        "MPI job.\n",
        "---"
       ]
      },
      {
       "output_type": "stream",
       "stream": "stdout",
       "text": [
        "\n",
        "- transatdir  =/cluster/home/mavt/vjan/gfort_O3\n",
        "- ccompiler   =mpicc\n",
        "- cppcompiler =mpicxx\n",
        "- linker      =mpicc\n",
        "- precision   =dp\n",
        "- mode        =64bit\n",
        "---\n",
        "\n",
        "Folder /cluster/scratch_xl/public/vjan/cylinder_tests/600_2e-05_conjugate-False_100/.initialconditions exists already...\n",
        "Creating folder /cluster/scratch_xl/public/vjan/cylinder_tests/600_2e-05_conjugate-False_100/RESULT\n",
        "Converting Cantera input file\n"
       ]
      },
      {
       "output_type": "stream",
       "stream": "stdout",
       "text": [
        "\n",
        "------------------\n",
        "library container:\n",
        "------------------\n",
        "\n",
        "library: libtransatmbDP.a\n",
        "-> contains 0 file objects:\n",
        "\n",
        "library: libDnspcgDP.a\n",
        "-> contains 0 file objects:\n",
        "\n",
        "library: liblokiDP.a\n",
        "-> contains 0 file objects:\n",
        "\n",
        "library: libusrtoolsDP.a\n",
        "-> contains 0 file objects:\n",
        "\n",
        "\n",
        "includes:\n",
        "-> contains 40 file objects:\n",
        "   -> 39 h-files\n",
        "   -> 1 h90-file\n",
        "\n"
       ]
      },
      {
       "output_type": "stream",
       "stream": "stdout",
       "text": [
        "\n",
        "--------------------------\n",
        "dependency summary:\n",
        "--------------------------\n",
        "creating all dependencies took 0.0591011047363 s\n",
        "\n",
        "\n",
        "-> list: sourcelist\n",
        "        * 0 objects\n",
        "        * 0 object with dependencies found\n",
        "        * 0 dependency found\n",
        "\n",
        "-> list: includelist\n",
        "        * 40 objects\n",
        "        * 18 objects with dependencies found\n",
        "        * 29 dependencies found\n",
        "\n",
        "-> list: libextlist\n",
        "        * 3 objects\n",
        "        * 1 object with dependencies found\n",
        "        * 1 dependency found\n",
        "\n",
        "----------------------------\n",
        " Creating Makefile          \n",
        "----------------------------\n",
        "\n",
        "working    directory : /cluster/scratch_xl/public/vjan/cylinder_tests/600_2e-05_conjugate-False_100/.initialconditions\n",
        "executable directory : /cluster/scratch_xl/public/vjan/cylinder_tests/600_2e-05_conjugate-False_100\n",
        "executable name      : transatmbinitialDP\n",
        "\n",
        "Makefile created...\n",
        "\n",
        "\n",
        "----------------------------\n",
        " Building                   \n",
        "----------------------------\n",
        "\n",
        "change to subfolder: /cluster/scratch_xl/public/vjan/cylinder_tests/600_2e-05_conjugate-False_100/.initialconditions\n",
        "mpicxx -O3   -I\"../../../../../../home/mavt/vjan/gfort_O3/inc\" -c ../initialconditions.cxx -o ./initialconditionsDP.o\n"
       ]
      },
      {
       "output_type": "stream",
       "stream": "stdout",
       "text": [
        "\n",
        "mpicc  ../../../../../../home/mavt/vjan/gfort_O3/lib/userglobalDP.o ./initialconditionsDP.o ../../../../../../home/mavt/vjan/gfort_O3/lib/tmbinitDP.o    -L\"../../../../../../home/mavt/vjan/gfort_O3/lib\"  -ltransatmbDP -lDnspcgDP -llokiDP -lusrtoolsDP  -ltransatmbDP -lDnspcgDP -llokiDP -lusrtoolsDP -lstdc++ -L/cluster/home/mavt/vjan/petsc/petsc-3.2-p7_with_16_gfortran/lib  -lpetsc -lX11 -Wl,-rpath,/cluster/home/mavt/vjan/petsc/petsc-3.2-p7_with_16_gfortran/lib -lHYPRE -lmpi_cxx -lstdc++ -lpthread -lflapack -lfblas -L/cluster/apps/openmpi/1.6.1/x86_64/gcc_4.7.2/lib -L/cluster/apps/gcc/gcc472/lib64/gcc/x86_64-unknown-linux-gnu/4.7.2 -L/cluster/apps/gcc/gcc472/lib64 -ldl -lmpi -lopen-rte -lopen-pal -lrt -lnsl -lutil -lgcc_s -lpthread -lmpi_f90 -lmpi_f77 -lgfortran -lm -lgfortran -lm -lgfortran -lm -lgfortran -lm -lm -lm -lquadmath -lm -lmpi_cxx -lstdc++ -ldl -lmpi -lopen-rte -lopen-pal -lrt -lnsl -lutil -lgcc_s -lpthread -ldl  -L/cluster/home/mavt/vjan/petsc/petsc-3.2-p7_with_16_gfortran/lib  -lpetsc -lX11 -Wl,-rpath,/cluster/home/mavt/vjan/petsc/petsc-3.2-p7_with_16_gfortran/lib -lHYPRE -lmpi_cxx -lstdc++ -lpthread -lflapack -lfblas -L/cluster/apps/openmpi/1.6.1/x86_64/gcc_4.7.2/lib -L/cluster/apps/gcc/gcc472/lib64/gcc/x86_64-unknown-linux-gnu/4.7.2 -L/cluster/apps/gcc/gcc472/lib64 -ldl -lmpi -lopen-rte -lopen-pal -lrt -lnsl -lutil -lgcc_s -lpthread -lmpi_f90 -lmpi_f77 -lgfortran -lm -lgfortran -lm -lgfortran -lm -lgfortran -lm -lm -lm -lquadmath -lm -lmpi_cxx -lstdc++ -ldl -lmpi -lopen-rte -lopen-pal -lrt -lnsl -lutil -lgcc_s -lpthread -ldl  -lcantera  -o ../transatmbinitialDP\n"
       ]
      },
      {
       "output_type": "stream",
       "stream": "stdout",
       "text": [
        "\n",
        "\n",
        "done...\n",
        "\n",
        "make: Warning: File `../initialconditions.cxx' has modification time 2.2e+03 s in the future\n",
        "make: warning:  Clock skew detected.  Your build may be incomplete.\n",
        "===================================================\n",
        " Syncing Current Working Directory with Cluster \n",
        "===================================================\n",
        "bsub -n 1 -W 60 -R \"rusage[mem=1024]\" -J 600_2e-05_conjugate-False_100 -o std_out.log  mpirun ./transatmbinitialDP "
       ]
      },
      {
       "output_type": "stream",
       "stream": "stdout",
       "text": [
        "\n",
        "Job <51612311> is submitted to queue <pub.1h>."
       ]
      },
      {
       "output_type": "stream",
       "stream": "stdout",
       "text": [
        "\n",
        "MPI job.\n",
        "---"
       ]
      },
      {
       "output_type": "stream",
       "stream": "stdout",
       "text": [
        "\n",
        "- transatdir  =/cluster/home/mavt/vjan/gfort_O3\n",
        "- ccompiler   =mpicc\n",
        "- cppcompiler =mpicxx\n",
        "- linker      =mpicc\n",
        "- precision   =dp\n",
        "- mode        =64bit\n",
        "---\n",
        "\n",
        "Folder /cluster/scratch_xl/public/vjan/cylinder_tests/650_-1_conjugate-True_34/.initialconditions exists already...\n",
        "Creating folder /cluster/scratch_xl/public/vjan/cylinder_tests/650_-1_conjugate-True_34/RESULT\n",
        "Converting Cantera input file\n",
        "\n",
        "------------------\n",
        "library container:\n",
        "------------------\n",
        "\n",
        "library: libtransatmbDP.a\n",
        "-> contains 0 file objects:\n",
        "\n",
        "library: libDnspcgDP.a\n",
        "-> contains 0 file objects:\n",
        "\n",
        "library: liblokiDP.a\n",
        "-> contains 0 file objects:\n",
        "\n",
        "library: libusrtoolsDP.a\n",
        "-> contains 0 file objects:\n",
        "\n",
        "\n",
        "includes:\n",
        "-> contains 40 file objects:\n",
        "   -> 39 h-files\n",
        "   -> 1 h90-file\n",
        "\n"
       ]
      },
      {
       "output_type": "stream",
       "stream": "stdout",
       "text": [
        "\n",
        "--------------------------\n",
        "dependency summary:\n",
        "--------------------------\n",
        "creating all dependencies took 0.0412771701813 s\n",
        "\n",
        "\n",
        "-> list: sourcelist\n",
        "        * 0 objects\n",
        "        * 0 object with dependencies found\n",
        "        * 0 dependency found\n",
        "\n",
        "-> list: includelist\n",
        "        * 40 objects\n",
        "        * 18 objects with dependencies found\n",
        "        * 29 dependencies found\n",
        "\n",
        "-> list: libextlist\n",
        "        * 3 objects\n",
        "        * 1 object with dependencies found\n",
        "        * 1 dependency found\n",
        "\n",
        "----------------------------\n",
        " Creating Makefile          \n",
        "----------------------------\n",
        "\n",
        "working    directory : /cluster/scratch_xl/public/vjan/cylinder_tests/650_-1_conjugate-True_34/.initialconditions\n",
        "executable directory : /cluster/scratch_xl/public/vjan/cylinder_tests/650_-1_conjugate-True_34\n",
        "executable name      : transatmbinitialDP\n",
        "\n",
        "Makefile created...\n",
        "\n",
        "\n",
        "----------------------------\n",
        " Building                   \n",
        "----------------------------\n",
        "\n",
        "change to subfolder: /cluster/scratch_xl/public/vjan/cylinder_tests/650_-1_conjugate-True_34/.initialconditions\n",
        "mpicxx -O3   -I\"../../../../../../home/mavt/vjan/gfort_O3/inc\" -c ../initialconditions.cxx -o ./initialconditionsDP.o\n"
       ]
      },
      {
       "output_type": "stream",
       "stream": "stdout",
       "text": [
        "\n",
        "mpicc  ../../../../../../home/mavt/vjan/gfort_O3/lib/userglobalDP.o ./initialconditionsDP.o ../../../../../../home/mavt/vjan/gfort_O3/lib/tmbinitDP.o    -L\"../../../../../../home/mavt/vjan/gfort_O3/lib\"  -ltransatmbDP -lDnspcgDP -llokiDP -lusrtoolsDP  -ltransatmbDP -lDnspcgDP -llokiDP -lusrtoolsDP -lstdc++ -L/cluster/home/mavt/vjan/petsc/petsc-3.2-p7_with_16_gfortran/lib  -lpetsc -lX11 -Wl,-rpath,/cluster/home/mavt/vjan/petsc/petsc-3.2-p7_with_16_gfortran/lib -lHYPRE -lmpi_cxx -lstdc++ -lpthread -lflapack -lfblas -L/cluster/apps/openmpi/1.6.1/x86_64/gcc_4.7.2/lib -L/cluster/apps/gcc/gcc472/lib64/gcc/x86_64-unknown-linux-gnu/4.7.2 -L/cluster/apps/gcc/gcc472/lib64 -ldl -lmpi -lopen-rte -lopen-pal -lrt -lnsl -lutil -lgcc_s -lpthread -lmpi_f90 -lmpi_f77 -lgfortran -lm -lgfortran -lm -lgfortran -lm -lgfortran -lm -lm -lm -lquadmath -lm -lmpi_cxx -lstdc++ -ldl -lmpi -lopen-rte -lopen-pal -lrt -lnsl -lutil -lgcc_s -lpthread -ldl  -L/cluster/home/mavt/vjan/petsc/petsc-3.2-p7_with_16_gfortran/lib  -lpetsc -lX11 -Wl,-rpath,/cluster/home/mavt/vjan/petsc/petsc-3.2-p7_with_16_gfortran/lib -lHYPRE -lmpi_cxx -lstdc++ -lpthread -lflapack -lfblas -L/cluster/apps/openmpi/1.6.1/x86_64/gcc_4.7.2/lib -L/cluster/apps/gcc/gcc472/lib64/gcc/x86_64-unknown-linux-gnu/4.7.2 -L/cluster/apps/gcc/gcc472/lib64 -ldl -lmpi -lopen-rte -lopen-pal -lrt -lnsl -lutil -lgcc_s -lpthread -lmpi_f90 -lmpi_f77 -lgfortran -lm -lgfortran -lm -lgfortran -lm -lgfortran -lm -lm -lm -lquadmath -lm -lmpi_cxx -lstdc++ -ldl -lmpi -lopen-rte -lopen-pal -lrt -lnsl -lutil -lgcc_s -lpthread -ldl  -lcantera  -o ../transatmbinitialDP\n"
       ]
      },
      {
       "output_type": "stream",
       "stream": "stdout",
       "text": [
        "\n",
        "\n",
        "done...\n",
        "\n",
        "make: Warning: File `../initialconditions.cxx' has modification time 2.2e+03 s in the future\n",
        "make: warning:  Clock skew detected.  Your build may be incomplete.\n",
        "===================================================\n",
        " Syncing Current Working Directory with Cluster \n",
        "===================================================\n",
        "bsub -n 1 -W 60 -R \"rusage[mem=1024]\" -J 650_-1_conjugate-True_34 -o std_out.log  mpirun ./transatmbinitialDP "
       ]
      },
      {
       "output_type": "stream",
       "stream": "stdout",
       "text": [
        "\n",
        "Job <51612318> is submitted to queue <pub.1h>."
       ]
      },
      {
       "output_type": "stream",
       "stream": "stdout",
       "text": [
        "\n",
        "MPI job.\n",
        "---"
       ]
      },
      {
       "output_type": "stream",
       "stream": "stdout",
       "text": [
        "\n",
        "- transatdir  =/cluster/home/mavt/vjan/gfort_O3\n",
        "- ccompiler   =mpicc\n",
        "- cppcompiler =mpicxx\n",
        "- linker      =mpicc\n",
        "- precision   =dp\n",
        "- mode        =64bit\n",
        "---\n",
        "\n",
        "Folder /cluster/scratch_xl/public/vjan/cylinder_tests/650_-1_conjugate-True_67/.initialconditions exists already...\n",
        "Creating folder /cluster/scratch_xl/public/vjan/cylinder_tests/650_-1_conjugate-True_67/RESULT\n",
        "Converting Cantera input file\n"
       ]
      },
      {
       "output_type": "stream",
       "stream": "stdout",
       "text": [
        "\n",
        "------------------\n",
        "library container:\n",
        "------------------\n",
        "\n",
        "library: libtransatmbDP.a\n",
        "-> contains 0 file objects:\n",
        "\n",
        "library: libDnspcgDP.a\n",
        "-> contains 0 file objects:\n",
        "\n",
        "library: liblokiDP.a\n",
        "-> contains 0 file objects:\n",
        "\n",
        "library: libusrtoolsDP.a\n",
        "-> contains 0 file objects:\n",
        "\n",
        "\n",
        "includes:\n",
        "-> contains 40 file objects:\n",
        "   -> 39 h-files\n",
        "   -> 1 h90-file\n",
        "\n"
       ]
      },
      {
       "output_type": "stream",
       "stream": "stdout",
       "text": [
        "\n",
        "--------------------------\n",
        "dependency summary:\n",
        "--------------------------\n",
        "creating all dependencies took 0.046238899231 s\n",
        "\n",
        "\n",
        "-> list: sourcelist\n",
        "        * 0 objects\n",
        "        * 0 object with dependencies found\n",
        "        * 0 dependency found\n",
        "\n",
        "-> list: includelist\n",
        "        * 40 objects\n",
        "        * 18 objects with dependencies found\n",
        "        * 29 dependencies found\n",
        "\n",
        "-> list: libextlist\n",
        "        * 3 objects\n",
        "        * 1 object with dependencies found\n",
        "        * 1 dependency found\n",
        "\n",
        "----------------------------\n",
        " Creating Makefile          \n",
        "----------------------------\n",
        "\n",
        "working    directory : /cluster/scratch_xl/public/vjan/cylinder_tests/650_-1_conjugate-True_67/.initialconditions\n",
        "executable directory : /cluster/scratch_xl/public/vjan/cylinder_tests/650_-1_conjugate-True_67\n",
        "executable name      : transatmbinitialDP\n",
        "\n",
        "Makefile created...\n",
        "\n",
        "\n",
        "----------------------------\n",
        " Building                   \n",
        "----------------------------\n",
        "\n",
        "change to subfolder: /cluster/scratch_xl/public/vjan/cylinder_tests/650_-1_conjugate-True_67/.initialconditions\n",
        "mpicxx -O3   -I\"../../../../../../home/mavt/vjan/gfort_O3/inc\" -c ../initialconditions.cxx -o ./initialconditionsDP.o"
       ]
      },
      {
       "output_type": "stream",
       "stream": "stdout",
       "text": [
        "\n"
       ]
      },
      {
       "output_type": "stream",
       "stream": "stdout",
       "text": [
        "\n",
        "mpicc  ../../../../../../home/mavt/vjan/gfort_O3/lib/userglobalDP.o ./initialconditionsDP.o ../../../../../../home/mavt/vjan/gfort_O3/lib/tmbinitDP.o    -L\"../../../../../../home/mavt/vjan/gfort_O3/lib\"  -ltransatmbDP -lDnspcgDP -llokiDP -lusrtoolsDP  -ltransatmbDP -lDnspcgDP -llokiDP -lusrtoolsDP -lstdc++ -L/cluster/home/mavt/vjan/petsc/petsc-3.2-p7_with_16_gfortran/lib  -lpetsc -lX11 -Wl,-rpath,/cluster/home/mavt/vjan/petsc/petsc-3.2-p7_with_16_gfortran/lib -lHYPRE -lmpi_cxx -lstdc++ -lpthread -lflapack -lfblas -L/cluster/apps/openmpi/1.6.1/x86_64/gcc_4.7.2/lib -L/cluster/apps/gcc/gcc472/lib64/gcc/x86_64-unknown-linux-gnu/4.7.2 -L/cluster/apps/gcc/gcc472/lib64 -ldl -lmpi -lopen-rte -lopen-pal -lrt -lnsl -lutil -lgcc_s -lpthread -lmpi_f90 -lmpi_f77 -lgfortran -lm -lgfortran -lm -lgfortran -lm -lgfortran -lm -lm -lm -lquadmath -lm -lmpi_cxx -lstdc++ -ldl -lmpi -lopen-rte -lopen-pal -lrt -lnsl -lutil -lgcc_s -lpthread -ldl  -L/cluster/home/mavt/vjan/petsc/petsc-3.2-p7_with_16_gfortran/lib  -lpetsc -lX11 -Wl,-rpath,/cluster/home/mavt/vjan/petsc/petsc-3.2-p7_with_16_gfortran/lib -lHYPRE -lmpi_cxx -lstdc++ -lpthread -lflapack -lfblas -L/cluster/apps/openmpi/1.6.1/x86_64/gcc_4.7.2/lib -L/cluster/apps/gcc/gcc472/lib64/gcc/x86_64-unknown-linux-gnu/4.7.2 -L/cluster/apps/gcc/gcc472/lib64 -ldl -lmpi -lopen-rte -lopen-pal -lrt -lnsl -lutil -lgcc_s -lpthread -lmpi_f90 -lmpi_f77 -lgfortran -lm -lgfortran -lm -lgfortran -lm -lgfortran -lm -lm -lm -lquadmath -lm -lmpi_cxx -lstdc++ -ldl -lmpi -lopen-rte -lopen-pal -lrt -lnsl -lutil -lgcc_s -lpthread -ldl  -lcantera  -o ../transatmbinitialDP\n"
       ]
      },
      {
       "output_type": "stream",
       "stream": "stdout",
       "text": [
        "\n",
        "\n",
        "done...\n",
        "\n",
        "make: Warning: File `../initialconditions.cxx' has modification time 2.2e+03 s in the future\n",
        "make: warning:  Clock skew detected.  Your build may be incomplete.\n",
        "===================================================\n",
        " Syncing Current Working Directory with Cluster \n",
        "===================================================\n",
        "bsub -n 1 -W 60 -R \"rusage[mem=1024]\" -J 650_-1_conjugate-True_67 -o std_out.log  mpirun ./transatmbinitialDP "
       ]
      },
      {
       "output_type": "stream",
       "stream": "stdout",
       "text": [
        "\n",
        "Job <51612335> is submitted to queue <pub.1h>."
       ]
      },
      {
       "output_type": "stream",
       "stream": "stdout",
       "text": [
        "\n",
        "MPI job.\n",
        "---"
       ]
      },
      {
       "output_type": "stream",
       "stream": "stdout",
       "text": [
        "\n",
        "- transatdir  =/cluster/home/mavt/vjan/gfort_O3\n",
        "- ccompiler   =mpicc\n",
        "- cppcompiler =mpicxx\n",
        "- linker      =mpicc\n",
        "- precision   =dp\n",
        "- mode        =64bit\n",
        "---\n",
        "\n",
        "Folder /cluster/scratch_xl/public/vjan/cylinder_tests/650_-1_conjugate-True_100/.initialconditions exists already...\n",
        "Creating folder /cluster/scratch_xl/public/vjan/cylinder_tests/650_-1_conjugate-True_100/RESULT\n",
        "Converting Cantera input file\n"
       ]
      },
      {
       "output_type": "stream",
       "stream": "stdout",
       "text": [
        "\n",
        "------------------\n",
        "library container:\n",
        "------------------\n",
        "\n",
        "library: libtransatmbDP.a\n",
        "-> contains 0 file objects:\n",
        "\n",
        "library: libDnspcgDP.a\n",
        "-> contains 0 file objects:\n",
        "\n",
        "library: liblokiDP.a\n",
        "-> contains 0 file objects:\n",
        "\n",
        "library: libusrtoolsDP.a\n",
        "-> contains 0 file objects:\n",
        "\n",
        "\n",
        "includes:\n",
        "-> contains 40 file objects:\n",
        "   -> 39 h-files\n",
        "   -> 1 h90-file\n",
        "\n"
       ]
      },
      {
       "output_type": "stream",
       "stream": "stdout",
       "text": [
        "\n",
        "--------------------------\n",
        "dependency summary:\n",
        "--------------------------\n",
        "creating all dependencies took 0.0568878650665 s\n",
        "\n",
        "\n",
        "-> list: sourcelist\n",
        "        * 0 objects\n",
        "        * 0 object with dependencies found\n",
        "        * 0 dependency found\n",
        "\n",
        "-> list: includelist\n",
        "        * 40 objects\n",
        "        * 18 objects with dependencies found\n",
        "        * 29 dependencies found\n",
        "\n",
        "-> list: libextlist\n",
        "        * 3 objects\n",
        "        * 1 object with dependencies found\n",
        "        * 1 dependency found\n",
        "\n",
        "----------------------------\n",
        " Creating Makefile          \n",
        "----------------------------\n",
        "\n",
        "working    directory : /cluster/scratch_xl/public/vjan/cylinder_tests/650_-1_conjugate-True_100/.initialconditions\n",
        "executable directory : /cluster/scratch_xl/public/vjan/cylinder_tests/650_-1_conjugate-True_100\n",
        "executable name      : transatmbinitialDP\n",
        "\n",
        "Makefile created...\n",
        "\n",
        "\n",
        "----------------------------\n",
        " Building                   \n",
        "----------------------------\n",
        "\n",
        "change to subfolder: /cluster/scratch_xl/public/vjan/cylinder_tests/650_-1_conjugate-True_100/.initialconditions\n",
        "mpicxx -O3   -I\"../../../../../../home/mavt/vjan/gfort_O3/inc\" -c ../initialconditions.cxx -o ./initialconditionsDP.o"
       ]
      },
      {
       "output_type": "stream",
       "stream": "stdout",
       "text": [
        "\n"
       ]
      },
      {
       "output_type": "stream",
       "stream": "stdout",
       "text": [
        "\n",
        "mpicc  ../../../../../../home/mavt/vjan/gfort_O3/lib/userglobalDP.o ./initialconditionsDP.o ../../../../../../home/mavt/vjan/gfort_O3/lib/tmbinitDP.o    -L\"../../../../../../home/mavt/vjan/gfort_O3/lib\"  -ltransatmbDP -lDnspcgDP -llokiDP -lusrtoolsDP  -ltransatmbDP -lDnspcgDP -llokiDP -lusrtoolsDP -lstdc++ -L/cluster/home/mavt/vjan/petsc/petsc-3.2-p7_with_16_gfortran/lib  -lpetsc -lX11 -Wl,-rpath,/cluster/home/mavt/vjan/petsc/petsc-3.2-p7_with_16_gfortran/lib -lHYPRE -lmpi_cxx -lstdc++ -lpthread -lflapack -lfblas -L/cluster/apps/openmpi/1.6.1/x86_64/gcc_4.7.2/lib -L/cluster/apps/gcc/gcc472/lib64/gcc/x86_64-unknown-linux-gnu/4.7.2 -L/cluster/apps/gcc/gcc472/lib64 -ldl -lmpi -lopen-rte -lopen-pal -lrt -lnsl -lutil -lgcc_s -lpthread -lmpi_f90 -lmpi_f77 -lgfortran -lm -lgfortran -lm -lgfortran -lm -lgfortran -lm -lm -lm -lquadmath -lm -lmpi_cxx -lstdc++ -ldl -lmpi -lopen-rte -lopen-pal -lrt -lnsl -lutil -lgcc_s -lpthread -ldl  -L/cluster/home/mavt/vjan/petsc/petsc-3.2-p7_with_16_gfortran/lib  -lpetsc -lX11 -Wl,-rpath,/cluster/home/mavt/vjan/petsc/petsc-3.2-p7_with_16_gfortran/lib -lHYPRE -lmpi_cxx -lstdc++ -lpthread -lflapack -lfblas -L/cluster/apps/openmpi/1.6.1/x86_64/gcc_4.7.2/lib -L/cluster/apps/gcc/gcc472/lib64/gcc/x86_64-unknown-linux-gnu/4.7.2 -L/cluster/apps/gcc/gcc472/lib64 -ldl -lmpi -lopen-rte -lopen-pal -lrt -lnsl -lutil -lgcc_s -lpthread -lmpi_f90 -lmpi_f77 -lgfortran -lm -lgfortran -lm -lgfortran -lm -lgfortran -lm -lm -lm -lquadmath -lm -lmpi_cxx -lstdc++ -ldl -lmpi -lopen-rte -lopen-pal -lrt -lnsl -lutil -lgcc_s -lpthread -ldl  -lcantera  -o ../transatmbinitialDP\n"
       ]
      },
      {
       "output_type": "stream",
       "stream": "stdout",
       "text": [
        "\n",
        "\n",
        "done...\n",
        "\n",
        "make: Warning: File `../initialconditions.cxx' has modification time 2.1e+03 s in the future\n",
        "make: warning:  Clock skew detected.  Your build may be incomplete.\n",
        "===================================================\n",
        " Syncing Current Working Directory with Cluster \n",
        "===================================================\n",
        "bsub -n 1 -W 60 -R \"rusage[mem=1024]\" -J 650_-1_conjugate-True_100 -o std_out.log  mpirun ./transatmbinitialDP "
       ]
      },
      {
       "output_type": "stream",
       "stream": "stdout",
       "text": [
        "\n",
        "Job <51612342> is submitted to queue <pub.1h>."
       ]
      },
      {
       "output_type": "stream",
       "stream": "stdout",
       "text": [
        "\n",
        "MPI job.\n",
        "---"
       ]
      },
      {
       "output_type": "stream",
       "stream": "stdout",
       "text": [
        "\n",
        "- transatdir  =/cluster/home/mavt/vjan/gfort_O3\n",
        "- ccompiler   =mpicc\n",
        "- cppcompiler =mpicxx\n",
        "- linker      =mpicc\n",
        "- precision   =dp\n",
        "- mode        =64bit\n",
        "---\n",
        "\n",
        "Folder /cluster/scratch_xl/public/vjan/cylinder_tests/650_-1_conjugate-False_34/.initialconditions exists already...\n",
        "Creating folder /cluster/scratch_xl/public/vjan/cylinder_tests/650_-1_conjugate-False_34/RESULT\n",
        "Converting Cantera input file\n",
        "\n",
        "------------------\n",
        "library container:\n",
        "------------------"
       ]
      },
      {
       "output_type": "stream",
       "stream": "stdout",
       "text": [
        "\n",
        "\n",
        "library: libtransatmbDP.a\n",
        "-> contains 0 file objects:\n",
        "\n",
        "library: libDnspcgDP.a\n",
        "-> contains 0 file objects:\n",
        "\n",
        "library: liblokiDP.a\n",
        "-> contains 0 file objects:\n",
        "\n",
        "library: libusrtoolsDP.a\n",
        "-> contains 0 file objects:\n",
        "\n",
        "\n",
        "includes:\n",
        "-> contains 40 file objects:\n",
        "   -> 39 h-files\n",
        "   -> 1 h90-file\n",
        "\n"
       ]
      },
      {
       "output_type": "stream",
       "stream": "stdout",
       "text": [
        "\n",
        "--------------------------\n",
        "dependency summary:\n",
        "--------------------------\n",
        "creating all dependencies took 0.0663871765137 s\n",
        "\n",
        "\n",
        "-> list: sourcelist\n",
        "        * 0 objects\n",
        "        * 0 object with dependencies found\n",
        "        * 0 dependency found\n",
        "\n",
        "-> list: includelist\n",
        "        * 40 objects\n",
        "        * 18 objects with dependencies found\n",
        "        * 29 dependencies found\n",
        "\n",
        "-> list: libextlist\n",
        "        * 3 objects\n",
        "        * 1 object with dependencies found\n",
        "        * 1 dependency found\n",
        "\n",
        "----------------------------\n",
        " Creating Makefile          \n",
        "----------------------------\n",
        "\n",
        "working    directory : /cluster/scratch_xl/public/vjan/cylinder_tests/650_-1_conjugate-False_34/.initialconditions\n",
        "executable directory : /cluster/scratch_xl/public/vjan/cylinder_tests/650_-1_conjugate-False_34\n",
        "executable name      : transatmbinitialDP\n",
        "\n",
        "Makefile created...\n",
        "\n",
        "\n",
        "----------------------------\n",
        " Building                   \n",
        "----------------------------\n",
        "\n",
        "change to subfolder: /cluster/scratch_xl/public/vjan/cylinder_tests/650_-1_conjugate-False_34/.initialconditions\n",
        "mpicxx -O3   -I\"../../../../../../home/mavt/vjan/gfort_O3/inc\" -c ../initialconditions.cxx -o ./initialconditionsDP.o"
       ]
      },
      {
       "output_type": "stream",
       "stream": "stdout",
       "text": [
        "\n"
       ]
      },
      {
       "output_type": "stream",
       "stream": "stdout",
       "text": [
        "\n",
        "mpicc  ../../../../../../home/mavt/vjan/gfort_O3/lib/userglobalDP.o ./initialconditionsDP.o ../../../../../../home/mavt/vjan/gfort_O3/lib/tmbinitDP.o    -L\"../../../../../../home/mavt/vjan/gfort_O3/lib\"  -ltransatmbDP -lDnspcgDP -llokiDP -lusrtoolsDP  -ltransatmbDP -lDnspcgDP -llokiDP -lusrtoolsDP -lstdc++ -L/cluster/home/mavt/vjan/petsc/petsc-3.2-p7_with_16_gfortran/lib  -lpetsc -lX11 -Wl,-rpath,/cluster/home/mavt/vjan/petsc/petsc-3.2-p7_with_16_gfortran/lib -lHYPRE -lmpi_cxx -lstdc++ -lpthread -lflapack -lfblas -L/cluster/apps/openmpi/1.6.1/x86_64/gcc_4.7.2/lib -L/cluster/apps/gcc/gcc472/lib64/gcc/x86_64-unknown-linux-gnu/4.7.2 -L/cluster/apps/gcc/gcc472/lib64 -ldl -lmpi -lopen-rte -lopen-pal -lrt -lnsl -lutil -lgcc_s -lpthread -lmpi_f90 -lmpi_f77 -lgfortran -lm -lgfortran -lm -lgfortran -lm -lgfortran -lm -lm -lm -lquadmath -lm -lmpi_cxx -lstdc++ -ldl -lmpi -lopen-rte -lopen-pal -lrt -lnsl -lutil -lgcc_s -lpthread -ldl  -L/cluster/home/mavt/vjan/petsc/petsc-3.2-p7_with_16_gfortran/lib  -lpetsc -lX11 -Wl,-rpath,/cluster/home/mavt/vjan/petsc/petsc-3.2-p7_with_16_gfortran/lib -lHYPRE -lmpi_cxx -lstdc++ -lpthread -lflapack -lfblas -L/cluster/apps/openmpi/1.6.1/x86_64/gcc_4.7.2/lib -L/cluster/apps/gcc/gcc472/lib64/gcc/x86_64-unknown-linux-gnu/4.7.2 -L/cluster/apps/gcc/gcc472/lib64 -ldl -lmpi -lopen-rte -lopen-pal -lrt -lnsl -lutil -lgcc_s -lpthread -lmpi_f90 -lmpi_f77 -lgfortran -lm -lgfortran -lm -lgfortran -lm -lgfortran -lm -lm -lm -lquadmath -lm -lmpi_cxx -lstdc++ -ldl -lmpi -lopen-rte -lopen-pal -lrt -lnsl -lutil -lgcc_s -lpthread -ldl  -lcantera  -o ../transatmbinitialDP\n"
       ]
      },
      {
       "output_type": "stream",
       "stream": "stdout",
       "text": [
        "\n",
        "\n",
        "done...\n",
        "\n",
        "make: Warning: File `../initialconditions.cxx' has modification time 2.1e+03 s in the future\n",
        "make: warning:  Clock skew detected.  Your build may be incomplete.\n",
        "===================================================\n",
        " Syncing Current Working Directory with Cluster \n",
        "===================================================\n",
        "bsub -n 1 -W 60 -R \"rusage[mem=1024]\" -J 650_-1_conjugate-False_34 -o std_out.log  mpirun ./transatmbinitialDP "
       ]
      },
      {
       "output_type": "stream",
       "stream": "stdout",
       "text": [
        "\n",
        "Job <51612344> is submitted to queue <pub.1h>."
       ]
      },
      {
       "output_type": "stream",
       "stream": "stdout",
       "text": [
        "\n",
        "MPI job.\n",
        "---"
       ]
      },
      {
       "output_type": "stream",
       "stream": "stdout",
       "text": [
        "\n",
        "- transatdir  =/cluster/home/mavt/vjan/gfort_O3\n",
        "- ccompiler   =mpicc\n",
        "- cppcompiler =mpicxx\n",
        "- linker      =mpicc\n",
        "- precision   =dp\n",
        "- mode        =64bit\n",
        "---\n",
        "\n",
        "Folder /cluster/scratch_xl/public/vjan/cylinder_tests/650_-1_conjugate-False_67/.initialconditions exists already...\n",
        "Creating folder /cluster/scratch_xl/public/vjan/cylinder_tests/650_-1_conjugate-False_67/RESULT\n",
        "Converting Cantera input file\n",
        "\n",
        "------------------\n",
        "library container:\n",
        "------------------\n",
        "\n",
        "library: libtransatmbDP.a\n",
        "-> contains 0 file objects:\n",
        "\n",
        "library: libDnspcgDP.a\n",
        "-> contains 0 file objects:\n",
        "\n",
        "library: liblokiDP.a\n",
        "-> contains 0 file objects:\n",
        "\n",
        "library: libusrtoolsDP.a\n",
        "-> contains 0 file objects:\n",
        "\n",
        "\n",
        "includes:\n",
        "-> contains 40 file objects:\n",
        "   -> 39 h-files\n"
       ]
      },
      {
       "output_type": "stream",
       "stream": "stdout",
       "text": [
        "   -> 1 h90-file\n",
        "\n"
       ]
      },
      {
       "output_type": "stream",
       "stream": "stdout",
       "text": [
        "\n",
        "--------------------------\n",
        "dependency summary:\n",
        "--------------------------\n",
        "creating all dependencies took 0.0602610111237 s\n",
        "\n",
        "\n",
        "-> list: sourcelist\n",
        "        * 0 objects\n",
        "        * 0 object with dependencies found\n",
        "        * 0 dependency found\n",
        "\n",
        "-> list: includelist\n",
        "        * 40 objects\n",
        "        * 18 objects with dependencies found\n",
        "        * 29 dependencies found\n",
        "\n",
        "-> list: libextlist\n",
        "        * 3 objects\n",
        "        * 1 object with dependencies found\n",
        "        * 1 dependency found\n",
        "\n",
        "----------------------------\n",
        " Creating Makefile          \n",
        "----------------------------\n",
        "\n",
        "working    directory : /cluster/scratch_xl/public/vjan/cylinder_tests/650_-1_conjugate-False_67/.initialconditions\n",
        "executable directory : /cluster/scratch_xl/public/vjan/cylinder_tests/650_-1_conjugate-False_67\n",
        "executable name      : transatmbinitialDP\n",
        "\n",
        "Makefile created...\n",
        "\n",
        "\n",
        "----------------------------\n",
        " Building                   \n",
        "----------------------------\n",
        "\n",
        "change to subfolder: /cluster/scratch_xl/public/vjan/cylinder_tests/650_-1_conjugate-False_67/.initialconditions\n",
        "mpicxx -O3   -I\"../../../../../../home/mavt/vjan/gfort_O3/inc\" -c ../initialconditions.cxx -o ./initialconditionsDP.o"
       ]
      },
      {
       "output_type": "stream",
       "stream": "stdout",
       "text": [
        "\n"
       ]
      },
      {
       "output_type": "stream",
       "stream": "stdout",
       "text": [
        "\n",
        "mpicc  ../../../../../../home/mavt/vjan/gfort_O3/lib/userglobalDP.o ./initialconditionsDP.o ../../../../../../home/mavt/vjan/gfort_O3/lib/tmbinitDP.o    -L\"../../../../../../home/mavt/vjan/gfort_O3/lib\"  -ltransatmbDP -lDnspcgDP -llokiDP -lusrtoolsDP  -ltransatmbDP -lDnspcgDP -llokiDP -lusrtoolsDP -lstdc++ -L/cluster/home/mavt/vjan/petsc/petsc-3.2-p7_with_16_gfortran/lib  -lpetsc -lX11 -Wl,-rpath,/cluster/home/mavt/vjan/petsc/petsc-3.2-p7_with_16_gfortran/lib -lHYPRE -lmpi_cxx -lstdc++ -lpthread -lflapack -lfblas -L/cluster/apps/openmpi/1.6.1/x86_64/gcc_4.7.2/lib -L/cluster/apps/gcc/gcc472/lib64/gcc/x86_64-unknown-linux-gnu/4.7.2 -L/cluster/apps/gcc/gcc472/lib64 -ldl -lmpi -lopen-rte -lopen-pal -lrt -lnsl -lutil -lgcc_s -lpthread -lmpi_f90 -lmpi_f77 -lgfortran -lm -lgfortran -lm -lgfortran -lm -lgfortran -lm -lm -lm -lquadmath -lm -lmpi_cxx -lstdc++ -ldl -lmpi -lopen-rte -lopen-pal -lrt -lnsl -lutil -lgcc_s -lpthread -ldl  -L/cluster/home/mavt/vjan/petsc/petsc-3.2-p7_with_16_gfortran/lib  -lpetsc -lX11 -Wl,-rpath,/cluster/home/mavt/vjan/petsc/petsc-3.2-p7_with_16_gfortran/lib -lHYPRE -lmpi_cxx -lstdc++ -lpthread -lflapack -lfblas -L/cluster/apps/openmpi/1.6.1/x86_64/gcc_4.7.2/lib -L/cluster/apps/gcc/gcc472/lib64/gcc/x86_64-unknown-linux-gnu/4.7.2 -L/cluster/apps/gcc/gcc472/lib64 -ldl -lmpi -lopen-rte -lopen-pal -lrt -lnsl -lutil -lgcc_s -lpthread -lmpi_f90 -lmpi_f77 -lgfortran -lm -lgfortran -lm -lgfortran -lm -lgfortran -lm -lm -lm -lquadmath -lm -lmpi_cxx -lstdc++ -ldl -lmpi -lopen-rte -lopen-pal -lrt -lnsl -lutil -lgcc_s -lpthread -ldl  -lcantera  -o ../transatmbinitialDP\n"
       ]
      },
      {
       "output_type": "stream",
       "stream": "stdout",
       "text": [
        "\n",
        "\n",
        "done...\n",
        "\n",
        "make: Warning: File `../initialconditions.cxx' has modification time 2.1e+03 s in the future\n",
        "make: warning:  Clock skew detected.  Your build may be incomplete.\n",
        "===================================================\n",
        " Syncing Current Working Directory with Cluster \n",
        "===================================================\n",
        "bsub -n 1 -W 60 -R \"rusage[mem=1024]\" -J 650_-1_conjugate-False_67 -o std_out.log  mpirun ./transatmbinitialDP "
       ]
      },
      {
       "output_type": "stream",
       "stream": "stdout",
       "text": [
        "\n",
        "Job <51612353> is submitted to queue <pub.1h>."
       ]
      },
      {
       "output_type": "stream",
       "stream": "stdout",
       "text": [
        "\n",
        "MPI job.\n",
        "---"
       ]
      },
      {
       "output_type": "stream",
       "stream": "stdout",
       "text": [
        "\n",
        "- transatdir  =/cluster/home/mavt/vjan/gfort_O3\n",
        "- ccompiler   =mpicc\n",
        "- cppcompiler =mpicxx\n",
        "- linker      =mpicc\n",
        "- precision   =dp\n",
        "- mode        =64bit\n",
        "---\n",
        "\n",
        "Folder /cluster/scratch_xl/public/vjan/cylinder_tests/650_-1_conjugate-False_100/.initialconditions exists already...\n",
        "Creating folder /cluster/scratch_xl/public/vjan/cylinder_tests/650_-1_conjugate-False_100/RESULT\n",
        "Converting Cantera input file\n"
       ]
      },
      {
       "output_type": "stream",
       "stream": "stdout",
       "text": [
        "\n",
        "------------------\n",
        "library container:\n",
        "------------------\n",
        "\n",
        "library: libtransatmbDP.a\n",
        "-> contains 0 file objects:\n",
        "\n",
        "library: libDnspcgDP.a\n",
        "-> contains 0 file objects:\n",
        "\n",
        "library: liblokiDP.a\n",
        "-> contains 0 file objects:\n",
        "\n",
        "library: libusrtoolsDP.a\n",
        "-> contains 0 file objects:\n",
        "\n",
        "\n",
        "includes:\n",
        "-> contains 40 file objects:\n",
        "   -> 39 h-files\n",
        "   -> 1 h90-file\n",
        "\n"
       ]
      },
      {
       "output_type": "stream",
       "stream": "stdout",
       "text": [
        "\n",
        "--------------------------\n",
        "dependency summary:\n",
        "--------------------------\n",
        "creating all dependencies took 0.0665249824524 s\n",
        "\n",
        "\n",
        "-> list: sourcelist\n",
        "        * 0 objects\n",
        "        * 0 object with dependencies found\n",
        "        * 0 dependency found\n",
        "\n",
        "-> list: includelist\n",
        "        * 40 objects\n",
        "        * 18 objects with dependencies found\n",
        "        * 29 dependencies found\n",
        "\n",
        "-> list: libextlist\n",
        "        * 3 objects\n",
        "        * 1 object with dependencies found\n",
        "        * 1 dependency found\n",
        "\n",
        "----------------------------\n",
        " Creating Makefile          \n",
        "----------------------------\n",
        "\n",
        "working    directory : /cluster/scratch_xl/public/vjan/cylinder_tests/650_-1_conjugate-False_100/.initialconditions\n",
        "executable directory : /cluster/scratch_xl/public/vjan/cylinder_tests/650_-1_conjugate-False_100\n",
        "executable name      : transatmbinitialDP\n",
        "\n",
        "Makefile created...\n",
        "\n",
        "\n",
        "----------------------------\n",
        " Building                   \n",
        "----------------------------\n",
        "\n",
        "change to subfolder: /cluster/scratch_xl/public/vjan/cylinder_tests/650_-1_conjugate-False_100/.initialconditions\n",
        "mpicxx -O3   -I\"../../../../../../home/mavt/vjan/gfort_O3/inc\" -c ../initialconditions.cxx -o ./initialconditionsDP.o"
       ]
      },
      {
       "output_type": "stream",
       "stream": "stdout",
       "text": [
        "\n"
       ]
      },
      {
       "output_type": "stream",
       "stream": "stdout",
       "text": [
        "\n",
        "mpicc  ../../../../../../home/mavt/vjan/gfort_O3/lib/userglobalDP.o ./initialconditionsDP.o ../../../../../../home/mavt/vjan/gfort_O3/lib/tmbinitDP.o    -L\"../../../../../../home/mavt/vjan/gfort_O3/lib\"  -ltransatmbDP -lDnspcgDP -llokiDP -lusrtoolsDP  -ltransatmbDP -lDnspcgDP -llokiDP -lusrtoolsDP -lstdc++ -L/cluster/home/mavt/vjan/petsc/petsc-3.2-p7_with_16_gfortran/lib  -lpetsc -lX11 -Wl,-rpath,/cluster/home/mavt/vjan/petsc/petsc-3.2-p7_with_16_gfortran/lib -lHYPRE -lmpi_cxx -lstdc++ -lpthread -lflapack -lfblas -L/cluster/apps/openmpi/1.6.1/x86_64/gcc_4.7.2/lib -L/cluster/apps/gcc/gcc472/lib64/gcc/x86_64-unknown-linux-gnu/4.7.2 -L/cluster/apps/gcc/gcc472/lib64 -ldl -lmpi -lopen-rte -lopen-pal -lrt -lnsl -lutil -lgcc_s -lpthread -lmpi_f90 -lmpi_f77 -lgfortran -lm -lgfortran -lm -lgfortran -lm -lgfortran -lm -lm -lm -lquadmath -lm -lmpi_cxx -lstdc++ -ldl -lmpi -lopen-rte -lopen-pal -lrt -lnsl -lutil -lgcc_s -lpthread -ldl  -L/cluster/home/mavt/vjan/petsc/petsc-3.2-p7_with_16_gfortran/lib  -lpetsc -lX11 -Wl,-rpath,/cluster/home/mavt/vjan/petsc/petsc-3.2-p7_with_16_gfortran/lib -lHYPRE -lmpi_cxx -lstdc++ -lpthread -lflapack -lfblas -L/cluster/apps/openmpi/1.6.1/x86_64/gcc_4.7.2/lib -L/cluster/apps/gcc/gcc472/lib64/gcc/x86_64-unknown-linux-gnu/4.7.2 -L/cluster/apps/gcc/gcc472/lib64 -ldl -lmpi -lopen-rte -lopen-pal -lrt -lnsl -lutil -lgcc_s -lpthread -lmpi_f90 -lmpi_f77 -lgfortran -lm -lgfortran -lm -lgfortran -lm -lgfortran -lm -lm -lm -lquadmath -lm -lmpi_cxx -lstdc++ -ldl -lmpi -lopen-rte -lopen-pal -lrt -lnsl -lutil -lgcc_s -lpthread -ldl  -lcantera  -o ../transatmbinitialDP\n"
       ]
      },
      {
       "output_type": "stream",
       "stream": "stdout",
       "text": [
        "\n",
        "\n",
        "done...\n",
        "\n",
        "make: Warning: File `../initialconditions.cxx' has modification time 2e+03 s in the future\n",
        "make: warning:  Clock skew detected.  Your build may be incomplete.\n",
        "===================================================\n",
        " Syncing Current Working Directory with Cluster \n",
        "===================================================\n",
        "bsub -n 1 -W 60 -R \"rusage[mem=1024]\" -J 650_-1_conjugate-False_100 -o std_out.log  mpirun ./transatmbinitialDP "
       ]
      },
      {
       "output_type": "stream",
       "stream": "stdout",
       "text": [
        "\n",
        "Job <51612360> is submitted to queue <pub.1h>."
       ]
      },
      {
       "output_type": "stream",
       "stream": "stdout",
       "text": [
        "\n",
        "MPI job.\n",
        "---"
       ]
      },
      {
       "output_type": "stream",
       "stream": "stdout",
       "text": [
        "\n",
        "- transatdir  =/cluster/home/mavt/vjan/gfort_O3\n",
        "- ccompiler   =mpicc\n",
        "- cppcompiler =mpicxx\n",
        "- linker      =mpicc\n",
        "- precision   =dp\n",
        "- mode        =64bit\n",
        "---\n",
        "\n",
        "Folder /cluster/scratch_xl/public/vjan/cylinder_tests/650_1e-05_conjugate-True_34/.initialconditions exists already...\n",
        "Creating folder /cluster/scratch_xl/public/vjan/cylinder_tests/650_1e-05_conjugate-True_34/RESULT\n",
        "Converting Cantera input file\n",
        "\n",
        "------------------\n",
        "library container:\n",
        "------------------\n",
        "\n",
        "library: libtransatmbDP.a\n",
        "-> contains 0 file objects:\n",
        "\n",
        "library: libDnspcgDP.a\n",
        "-> contains 0 file objects:\n",
        "\n",
        "library: liblokiDP.a\n",
        "-> contains 0 file objects:\n",
        "\n",
        "library: libusrtoolsDP.a\n",
        "-> contains 0 file objects:\n",
        "\n",
        "\n",
        "includes:"
       ]
      },
      {
       "output_type": "stream",
       "stream": "stdout",
       "text": [
        "\n",
        "-> contains 40 file objects:\n",
        "   -> 39 h-files\n",
        "   -> 1 h90-file\n",
        "\n",
        "\n",
        "--------------------------\n",
        "dependency summary:\n",
        "--------------------------\n",
        "creating all dependencies took 0.047492980957 s\n",
        "\n",
        "\n",
        "-> list: sourcelist\n"
       ]
      },
      {
       "output_type": "stream",
       "stream": "stdout",
       "text": [
        "        * 0 objects\n",
        "        * 0 object with dependencies found\n",
        "        * 0 dependency found\n",
        "\n",
        "-> list: includelist\n",
        "        * 40 objects\n",
        "        * 18 objects with dependencies found\n",
        "        * 29 dependencies found\n",
        "\n",
        "-> list: libextlist\n",
        "        * 3 objects\n",
        "        * 1 object with dependencies found\n",
        "        * 1 dependency found\n",
        "\n",
        "----------------------------\n",
        " Creating Makefile          \n",
        "----------------------------\n",
        "\n",
        "working    directory : /cluster/scratch_xl/public/vjan/cylinder_tests/650_1e-05_conjugate-True_34/.initialconditions\n",
        "executable directory : /cluster/scratch_xl/public/vjan/cylinder_tests/650_1e-05_conjugate-True_34\n",
        "executable name      : transatmbinitialDP\n",
        "\n",
        "Makefile created...\n",
        "\n",
        "\n",
        "----------------------------\n",
        " Building                   \n",
        "----------------------------\n",
        "\n",
        "change to subfolder: /cluster/scratch_xl/public/vjan/cylinder_tests/650_1e-05_conjugate-True_34/.initialconditions\n",
        "mpicxx -O3   -I\"../../../../../../home/mavt/vjan/gfort_O3/inc\" -c ../initialconditions.cxx -o ./initialconditionsDP.o"
       ]
      },
      {
       "output_type": "stream",
       "stream": "stdout",
       "text": [
        "\n"
       ]
      },
      {
       "output_type": "stream",
       "stream": "stdout",
       "text": [
        "\n",
        "mpicc  ../../../../../../home/mavt/vjan/gfort_O3/lib/userglobalDP.o ./initialconditionsDP.o ../../../../../../home/mavt/vjan/gfort_O3/lib/tmbinitDP.o    -L\"../../../../../../home/mavt/vjan/gfort_O3/lib\"  -ltransatmbDP -lDnspcgDP -llokiDP -lusrtoolsDP  -ltransatmbDP -lDnspcgDP -llokiDP -lusrtoolsDP -lstdc++ -L/cluster/home/mavt/vjan/petsc/petsc-3.2-p7_with_16_gfortran/lib  -lpetsc -lX11 -Wl,-rpath,/cluster/home/mavt/vjan/petsc/petsc-3.2-p7_with_16_gfortran/lib -lHYPRE -lmpi_cxx -lstdc++ -lpthread -lflapack -lfblas -L/cluster/apps/openmpi/1.6.1/x86_64/gcc_4.7.2/lib -L/cluster/apps/gcc/gcc472/lib64/gcc/x86_64-unknown-linux-gnu/4.7.2 -L/cluster/apps/gcc/gcc472/lib64 -ldl -lmpi -lopen-rte -lopen-pal -lrt -lnsl -lutil -lgcc_s -lpthread -lmpi_f90 -lmpi_f77 -lgfortran -lm -lgfortran -lm -lgfortran -lm -lgfortran -lm -lm -lm -lquadmath -lm -lmpi_cxx -lstdc++ -ldl -lmpi -lopen-rte -lopen-pal -lrt -lnsl -lutil -lgcc_s -lpthread -ldl  -L/cluster/home/mavt/vjan/petsc/petsc-3.2-p7_with_16_gfortran/lib  -lpetsc -lX11 -Wl,-rpath,/cluster/home/mavt/vjan/petsc/petsc-3.2-p7_with_16_gfortran/lib -lHYPRE -lmpi_cxx -lstdc++ -lpthread -lflapack -lfblas -L/cluster/apps/openmpi/1.6.1/x86_64/gcc_4.7.2/lib -L/cluster/apps/gcc/gcc472/lib64/gcc/x86_64-unknown-linux-gnu/4.7.2 -L/cluster/apps/gcc/gcc472/lib64 -ldl -lmpi -lopen-rte -lopen-pal -lrt -lnsl -lutil -lgcc_s -lpthread -lmpi_f90 -lmpi_f77 -lgfortran -lm -lgfortran -lm -lgfortran -lm -lgfortran -lm -lm -lm -lquadmath -lm -lmpi_cxx -lstdc++ -ldl -lmpi -lopen-rte -lopen-pal -lrt -lnsl -lutil -lgcc_s -lpthread -ldl  -lcantera  -o ../transatmbinitialDP\n"
       ]
      },
      {
       "output_type": "stream",
       "stream": "stdout",
       "text": [
        "\n",
        "\n",
        "done...\n",
        "\n",
        "make: Warning: File `../initialconditions.cxx' has modification time 2e+03 s in the future\n",
        "make: warning:  Clock skew detected.  Your build may be incomplete.\n",
        "===================================================\n",
        " Syncing Current Working Directory with Cluster \n",
        "===================================================\n",
        "bsub -n 1 -W 60 -R \"rusage[mem=1024]\" -J 650_1e-05_conjugate-True_34 -o std_out.log  mpirun ./transatmbinitialDP "
       ]
      },
      {
       "output_type": "stream",
       "stream": "stdout",
       "text": [
        "\n",
        "Job <51612365> is submitted to queue <pub.1h>."
       ]
      },
      {
       "output_type": "stream",
       "stream": "stdout",
       "text": [
        "\n",
        "MPI job.\n",
        "---"
       ]
      },
      {
       "output_type": "stream",
       "stream": "stdout",
       "text": [
        "\n",
        "- transatdir  =/cluster/home/mavt/vjan/gfort_O3\n",
        "- ccompiler   =mpicc\n",
        "- cppcompiler =mpicxx\n",
        "- linker      =mpicc\n",
        "- precision   =dp\n",
        "- mode        =64bit\n",
        "---\n",
        "\n",
        "Folder /cluster/scratch_xl/public/vjan/cylinder_tests/650_1e-05_conjugate-True_67/.initialconditions exists already...\n",
        "Creating folder /cluster/scratch_xl/public/vjan/cylinder_tests/650_1e-05_conjugate-True_67/RESULT\n",
        "Converting Cantera input file\n"
       ]
      },
      {
       "output_type": "stream",
       "stream": "stdout",
       "text": [
        "\n",
        "------------------\n",
        "library container:\n",
        "------------------\n",
        "\n",
        "library: libtransatmbDP.a\n",
        "-> contains 0 file objects:\n",
        "\n",
        "library: libDnspcgDP.a\n",
        "-> contains 0 file objects:\n",
        "\n",
        "library: liblokiDP.a\n",
        "-> contains 0 file objects:\n",
        "\n",
        "library: libusrtoolsDP.a\n",
        "-> contains 0 file objects:\n",
        "\n",
        "\n",
        "includes:\n",
        "-> contains 40 file objects:\n",
        "   -> 39 h-files\n",
        "   -> 1 h90-file\n",
        "\n"
       ]
      },
      {
       "output_type": "stream",
       "stream": "stdout",
       "text": [
        "\n",
        "--------------------------\n",
        "dependency summary:\n",
        "--------------------------\n",
        "creating all dependencies took 0.0583100318909 s\n",
        "\n",
        "\n",
        "-> list: sourcelist\n",
        "        * 0 objects\n",
        "        * 0 object with dependencies found\n",
        "        * 0 dependency found\n",
        "\n",
        "-> list: includelist\n",
        "        * 40 objects\n",
        "        * 18 objects with dependencies found\n",
        "        * 29 dependencies found\n",
        "\n",
        "-> list: libextlist\n",
        "        * 3 objects\n",
        "        * 1 object with dependencies found\n",
        "        * 1 dependency found\n",
        "\n",
        "----------------------------\n",
        " Creating Makefile          \n",
        "----------------------------\n",
        "\n",
        "working    directory : /cluster/scratch_xl/public/vjan/cylinder_tests/650_1e-05_conjugate-True_67/.initialconditions\n",
        "executable directory : /cluster/scratch_xl/public/vjan/cylinder_tests/650_1e-05_conjugate-True_67\n",
        "executable name      : transatmbinitialDP\n",
        "\n",
        "Makefile created...\n",
        "\n",
        "\n",
        "----------------------------\n",
        " Building                   \n",
        "----------------------------\n",
        "\n",
        "change to subfolder: /cluster/scratch_xl/public/vjan/cylinder_tests/650_1e-05_conjugate-True_67/.initialconditions\n",
        "mpicxx -O3   -I\"../../../../../../home/mavt/vjan/gfort_O3/inc\" -c ../initialconditions.cxx -o ./initialconditionsDP.o"
       ]
      },
      {
       "output_type": "stream",
       "stream": "stdout",
       "text": [
        "\n"
       ]
      },
      {
       "output_type": "stream",
       "stream": "stdout",
       "text": [
        "\n",
        "mpicc  ../../../../../../home/mavt/vjan/gfort_O3/lib/userglobalDP.o ./initialconditionsDP.o ../../../../../../home/mavt/vjan/gfort_O3/lib/tmbinitDP.o    -L\"../../../../../../home/mavt/vjan/gfort_O3/lib\"  -ltransatmbDP -lDnspcgDP -llokiDP -lusrtoolsDP  -ltransatmbDP -lDnspcgDP -llokiDP -lusrtoolsDP -lstdc++ -L/cluster/home/mavt/vjan/petsc/petsc-3.2-p7_with_16_gfortran/lib  -lpetsc -lX11 -Wl,-rpath,/cluster/home/mavt/vjan/petsc/petsc-3.2-p7_with_16_gfortran/lib -lHYPRE -lmpi_cxx -lstdc++ -lpthread -lflapack -lfblas -L/cluster/apps/openmpi/1.6.1/x86_64/gcc_4.7.2/lib -L/cluster/apps/gcc/gcc472/lib64/gcc/x86_64-unknown-linux-gnu/4.7.2 -L/cluster/apps/gcc/gcc472/lib64 -ldl -lmpi -lopen-rte -lopen-pal -lrt -lnsl -lutil -lgcc_s -lpthread -lmpi_f90 -lmpi_f77 -lgfortran -lm -lgfortran -lm -lgfortran -lm -lgfortran -lm -lm -lm -lquadmath -lm -lmpi_cxx -lstdc++ -ldl -lmpi -lopen-rte -lopen-pal -lrt -lnsl -lutil -lgcc_s -lpthread -ldl  -L/cluster/home/mavt/vjan/petsc/petsc-3.2-p7_with_16_gfortran/lib  -lpetsc -lX11 -Wl,-rpath,/cluster/home/mavt/vjan/petsc/petsc-3.2-p7_with_16_gfortran/lib -lHYPRE -lmpi_cxx -lstdc++ -lpthread -lflapack -lfblas -L/cluster/apps/openmpi/1.6.1/x86_64/gcc_4.7.2/lib -L/cluster/apps/gcc/gcc472/lib64/gcc/x86_64-unknown-linux-gnu/4.7.2 -L/cluster/apps/gcc/gcc472/lib64 -ldl -lmpi -lopen-rte -lopen-pal -lrt -lnsl -lutil -lgcc_s -lpthread -lmpi_f90 -lmpi_f77 -lgfortran -lm -lgfortran -lm -lgfortran -lm -lgfortran -lm -lm -lm -lquadmath -lm -lmpi_cxx -lstdc++ -ldl -lmpi -lopen-rte -lopen-pal -lrt -lnsl -lutil -lgcc_s -lpthread -ldl  -lcantera  -o ../transatmbinitialDP\n"
       ]
      },
      {
       "output_type": "stream",
       "stream": "stdout",
       "text": [
        "\n",
        "\n",
        "done...\n",
        "\n",
        "make: Warning: File `../initialconditions.cxx' has modification time 2e+03 s in the future\n",
        "make: warning:  Clock skew detected.  Your build may be incomplete.\n",
        "===================================================\n",
        " Syncing Current Working Directory with Cluster \n",
        "===================================================\n",
        "bsub -n 1 -W 60 -R \"rusage[mem=1024]\" -J 650_1e-05_conjugate-True_67 -o std_out.log  mpirun ./transatmbinitialDP "
       ]
      },
      {
       "output_type": "stream",
       "stream": "stdout",
       "text": [
        "\n",
        "Job <51612369> is submitted to queue <pub.1h>."
       ]
      },
      {
       "output_type": "stream",
       "stream": "stdout",
       "text": [
        "\n",
        "MPI job.\n",
        "---"
       ]
      },
      {
       "output_type": "stream",
       "stream": "stdout",
       "text": [
        "\n",
        "- transatdir  =/cluster/home/mavt/vjan/gfort_O3\n",
        "- ccompiler   =mpicc\n",
        "- cppcompiler =mpicxx\n",
        "- linker      =mpicc\n",
        "- precision   =dp\n",
        "- mode        =64bit\n",
        "---\n",
        "\n",
        "Folder /cluster/scratch_xl/public/vjan/cylinder_tests/650_1e-05_conjugate-True_100/.initialconditions exists already...\n",
        "Creating folder /cluster/scratch_xl/public/vjan/cylinder_tests/650_1e-05_conjugate-True_100/RESULT\n",
        "Converting Cantera input file\n"
       ]
      },
      {
       "output_type": "stream",
       "stream": "stdout",
       "text": [
        "\n",
        "------------------\n",
        "library container:\n",
        "------------------\n",
        "\n",
        "library: libtransatmbDP.a\n",
        "-> contains 0 file objects:\n",
        "\n",
        "library: libDnspcgDP.a\n",
        "-> contains 0 file objects:\n",
        "\n",
        "library: liblokiDP.a\n",
        "-> contains 0 file objects:\n",
        "\n",
        "library: libusrtoolsDP.a\n",
        "-> contains 0 file objects:\n",
        "\n",
        "\n",
        "includes:\n",
        "-> contains 40 file objects:\n",
        "   -> 39 h-files\n",
        "   -> 1 h90-file\n",
        "\n"
       ]
      },
      {
       "output_type": "stream",
       "stream": "stdout",
       "text": [
        "\n",
        "--------------------------\n",
        "dependency summary:\n",
        "--------------------------\n",
        "creating all dependencies took 0.0472221374512 s\n",
        "\n",
        "\n",
        "-> list: sourcelist\n",
        "        * 0 objects\n",
        "        * 0 object with dependencies found\n",
        "        * 0 dependency found\n",
        "\n",
        "-> list: includelist\n",
        "        * 40 objects\n",
        "        * 18 objects with dependencies found\n",
        "        * 29 dependencies found\n",
        "\n",
        "-> list: libextlist\n",
        "        * 3 objects\n",
        "        * 1 object with dependencies found\n",
        "        * 1 dependency found\n",
        "\n",
        "----------------------------\n",
        " Creating Makefile          \n",
        "----------------------------\n",
        "\n",
        "working    directory : /cluster/scratch_xl/public/vjan/cylinder_tests/650_1e-05_conjugate-True_100/.initialconditions\n",
        "executable directory : /cluster/scratch_xl/public/vjan/cylinder_tests/650_1e-05_conjugate-True_100\n",
        "executable name      : transatmbinitialDP\n",
        "\n",
        "Makefile created...\n",
        "\n",
        "\n",
        "----------------------------\n",
        " Building                   \n",
        "----------------------------\n",
        "\n",
        "change to subfolder: /cluster/scratch_xl/public/vjan/cylinder_tests/650_1e-05_conjugate-True_100/.initialconditions\n",
        "mpicxx -O3   -I\"../../../../../../home/mavt/vjan/gfort_O3/inc\" -c ../initialconditions.cxx -o ./initialconditionsDP.o"
       ]
      },
      {
       "output_type": "stream",
       "stream": "stdout",
       "text": [
        "\n"
       ]
      },
      {
       "output_type": "stream",
       "stream": "stdout",
       "text": [
        "\n",
        "mpicc  ../../../../../../home/mavt/vjan/gfort_O3/lib/userglobalDP.o ./initialconditionsDP.o ../../../../../../home/mavt/vjan/gfort_O3/lib/tmbinitDP.o    -L\"../../../../../../home/mavt/vjan/gfort_O3/lib\"  -ltransatmbDP -lDnspcgDP -llokiDP -lusrtoolsDP  -ltransatmbDP -lDnspcgDP -llokiDP -lusrtoolsDP -lstdc++ -L/cluster/home/mavt/vjan/petsc/petsc-3.2-p7_with_16_gfortran/lib  -lpetsc -lX11 -Wl,-rpath,/cluster/home/mavt/vjan/petsc/petsc-3.2-p7_with_16_gfortran/lib -lHYPRE -lmpi_cxx -lstdc++ -lpthread -lflapack -lfblas -L/cluster/apps/openmpi/1.6.1/x86_64/gcc_4.7.2/lib -L/cluster/apps/gcc/gcc472/lib64/gcc/x86_64-unknown-linux-gnu/4.7.2 -L/cluster/apps/gcc/gcc472/lib64 -ldl -lmpi -lopen-rte -lopen-pal -lrt -lnsl -lutil -lgcc_s -lpthread -lmpi_f90 -lmpi_f77 -lgfortran -lm -lgfortran -lm -lgfortran -lm -lgfortran -lm -lm -lm -lquadmath -lm -lmpi_cxx -lstdc++ -ldl -lmpi -lopen-rte -lopen-pal -lrt -lnsl -lutil -lgcc_s -lpthread -ldl  -L/cluster/home/mavt/vjan/petsc/petsc-3.2-p7_with_16_gfortran/lib  -lpetsc -lX11 -Wl,-rpath,/cluster/home/mavt/vjan/petsc/petsc-3.2-p7_with_16_gfortran/lib -lHYPRE -lmpi_cxx -lstdc++ -lpthread -lflapack -lfblas -L/cluster/apps/openmpi/1.6.1/x86_64/gcc_4.7.2/lib -L/cluster/apps/gcc/gcc472/lib64/gcc/x86_64-unknown-linux-gnu/4.7.2 -L/cluster/apps/gcc/gcc472/lib64 -ldl -lmpi -lopen-rte -lopen-pal -lrt -lnsl -lutil -lgcc_s -lpthread -lmpi_f90 -lmpi_f77 -lgfortran -lm -lgfortran -lm -lgfortran -lm -lgfortran -lm -lm -lm -lquadmath -lm -lmpi_cxx -lstdc++ -ldl -lmpi -lopen-rte -lopen-pal -lrt -lnsl -lutil -lgcc_s -lpthread -ldl  -lcantera  -o ../transatmbinitialDP\n"
       ]
      },
      {
       "output_type": "stream",
       "stream": "stdout",
       "text": [
        "\n",
        "\n",
        "done...\n",
        "\n",
        "make: Warning: File `../initialconditions.cxx' has modification time 1.9e+03 s in the future\n",
        "make: warning:  Clock skew detected.  Your build may be incomplete.\n",
        "===================================================\n",
        " Syncing Current Working Directory with Cluster \n",
        "===================================================\n",
        "bsub -n 1 -W 60 -R \"rusage[mem=1024]\" -J 650_1e-05_conjugate-True_100 -o std_out.log  mpirun ./transatmbinitialDP "
       ]
      },
      {
       "output_type": "stream",
       "stream": "stdout",
       "text": [
        "\n",
        "Job <51612374> is submitted to queue <pub.1h>."
       ]
      },
      {
       "output_type": "stream",
       "stream": "stdout",
       "text": [
        "\n",
        "MPI job.\n",
        "---"
       ]
      },
      {
       "output_type": "stream",
       "stream": "stdout",
       "text": [
        "\n",
        "- transatdir  =/cluster/home/mavt/vjan/gfort_O3\n",
        "- ccompiler   =mpicc\n",
        "- cppcompiler =mpicxx\n",
        "- linker      =mpicc\n",
        "- precision   =dp\n",
        "- mode        =64bit\n",
        "---\n",
        "\n",
        "Folder /cluster/scratch_xl/public/vjan/cylinder_tests/650_1e-05_conjugate-False_34/.initialconditions exists already...\n",
        "Creating folder /cluster/scratch_xl/public/vjan/cylinder_tests/650_1e-05_conjugate-False_34/RESULT\n",
        "Converting Cantera input file\n"
       ]
      },
      {
       "output_type": "stream",
       "stream": "stdout",
       "text": [
        "\n",
        "------------------\n",
        "library container:\n",
        "------------------\n",
        "\n",
        "library: libtransatmbDP.a\n",
        "-> contains 0 file objects:\n",
        "\n",
        "library: libDnspcgDP.a\n",
        "-> contains 0 file objects:\n",
        "\n",
        "library: liblokiDP.a\n",
        "-> contains 0 file objects:\n",
        "\n",
        "library: libusrtoolsDP.a\n",
        "-> contains 0 file objects:\n",
        "\n",
        "\n",
        "includes:\n",
        "-> contains 40 file objects:\n",
        "   -> 39 h-files\n",
        "   -> 1 h90-file\n",
        "\n"
       ]
      },
      {
       "output_type": "stream",
       "stream": "stdout",
       "text": [
        "\n",
        "--------------------------\n",
        "dependency summary:\n",
        "--------------------------\n",
        "creating all dependencies took 0.0673100948334 s\n",
        "\n",
        "\n",
        "-> list: sourcelist\n",
        "        * 0 objects\n",
        "        * 0 object with dependencies found\n",
        "        * 0 dependency found\n",
        "\n",
        "-> list: includelist\n",
        "        * 40 objects\n",
        "        * 18 objects with dependencies found\n",
        "        * 29 dependencies found\n",
        "\n",
        "-> list: libextlist\n",
        "        * 3 objects\n",
        "        * 1 object with dependencies found\n",
        "        * 1 dependency found\n",
        "\n",
        "----------------------------\n",
        " Creating Makefile          \n",
        "----------------------------\n",
        "\n",
        "working    directory : /cluster/scratch_xl/public/vjan/cylinder_tests/650_1e-05_conjugate-False_34/.initialconditions\n",
        "executable directory : /cluster/scratch_xl/public/vjan/cylinder_tests/650_1e-05_conjugate-False_34\n",
        "executable name      : transatmbinitialDP\n",
        "\n",
        "Makefile created...\n",
        "\n",
        "\n",
        "----------------------------\n",
        " Building                   \n",
        "----------------------------\n",
        "\n",
        "change to subfolder: /cluster/scratch_xl/public/vjan/cylinder_tests/650_1e-05_conjugate-False_34/.initialconditions\n",
        "mpicxx -O3   -I\"../../../../../../home/mavt/vjan/gfort_O3/inc\" -c ../initialconditions.cxx -o ./initialconditionsDP.o"
       ]
      },
      {
       "output_type": "stream",
       "stream": "stdout",
       "text": [
        "\n"
       ]
      },
      {
       "output_type": "stream",
       "stream": "stdout",
       "text": [
        "\n",
        "mpicc  ../../../../../../home/mavt/vjan/gfort_O3/lib/userglobalDP.o ./initialconditionsDP.o ../../../../../../home/mavt/vjan/gfort_O3/lib/tmbinitDP.o    -L\"../../../../../../home/mavt/vjan/gfort_O3/lib\"  -ltransatmbDP -lDnspcgDP -llokiDP -lusrtoolsDP  -ltransatmbDP -lDnspcgDP -llokiDP -lusrtoolsDP -lstdc++ -L/cluster/home/mavt/vjan/petsc/petsc-3.2-p7_with_16_gfortran/lib  -lpetsc -lX11 -Wl,-rpath,/cluster/home/mavt/vjan/petsc/petsc-3.2-p7_with_16_gfortran/lib -lHYPRE -lmpi_cxx -lstdc++ -lpthread -lflapack -lfblas -L/cluster/apps/openmpi/1.6.1/x86_64/gcc_4.7.2/lib -L/cluster/apps/gcc/gcc472/lib64/gcc/x86_64-unknown-linux-gnu/4.7.2 -L/cluster/apps/gcc/gcc472/lib64 -ldl -lmpi -lopen-rte -lopen-pal -lrt -lnsl -lutil -lgcc_s -lpthread -lmpi_f90 -lmpi_f77 -lgfortran -lm -lgfortran -lm -lgfortran -lm -lgfortran -lm -lm -lm -lquadmath -lm -lmpi_cxx -lstdc++ -ldl -lmpi -lopen-rte -lopen-pal -lrt -lnsl -lutil -lgcc_s -lpthread -ldl  -L/cluster/home/mavt/vjan/petsc/petsc-3.2-p7_with_16_gfortran/lib  -lpetsc -lX11 -Wl,-rpath,/cluster/home/mavt/vjan/petsc/petsc-3.2-p7_with_16_gfortran/lib -lHYPRE -lmpi_cxx -lstdc++ -lpthread -lflapack -lfblas -L/cluster/apps/openmpi/1.6.1/x86_64/gcc_4.7.2/lib -L/cluster/apps/gcc/gcc472/lib64/gcc/x86_64-unknown-linux-gnu/4.7.2 -L/cluster/apps/gcc/gcc472/lib64 -ldl -lmpi -lopen-rte -lopen-pal -lrt -lnsl -lutil -lgcc_s -lpthread -lmpi_f90 -lmpi_f77 -lgfortran -lm -lgfortran -lm -lgfortran -lm -lgfortran -lm -lm -lm -lquadmath -lm -lmpi_cxx -lstdc++ -ldl -lmpi -lopen-rte -lopen-pal -lrt -lnsl -lutil -lgcc_s -lpthread -ldl  -lcantera  -o ../transatmbinitialDP\n"
       ]
      },
      {
       "output_type": "stream",
       "stream": "stdout",
       "text": [
        "\n",
        "\n",
        "done...\n",
        "\n",
        "make: Warning: File `../initialconditions.cxx' has modification time 1.9e+03 s in the future\n",
        "make: warning:  Clock skew detected.  Your build may be incomplete.\n",
        "===================================================\n",
        " Syncing Current Working Directory with Cluster \n",
        "===================================================\n",
        "bsub -n 1 -W 60 -R \"rusage[mem=1024]\" -J 650_1e-05_conjugate-False_34 -o std_out.log  mpirun ./transatmbinitialDP "
       ]
      },
      {
       "output_type": "stream",
       "stream": "stdout",
       "text": [
        "\n",
        "Job <51612378> is submitted to queue <pub.1h>."
       ]
      },
      {
       "output_type": "stream",
       "stream": "stdout",
       "text": [
        "\n",
        "MPI job.\n",
        "---"
       ]
      },
      {
       "output_type": "stream",
       "stream": "stdout",
       "text": [
        "\n",
        "- transatdir  =/cluster/home/mavt/vjan/gfort_O3\n",
        "- ccompiler   =mpicc\n",
        "- cppcompiler =mpicxx\n",
        "- linker      =mpicc\n",
        "- precision   =dp\n",
        "- mode        =64bit\n",
        "---\n",
        "\n",
        "Folder /cluster/scratch_xl/public/vjan/cylinder_tests/650_1e-05_conjugate-False_67/.initialconditions exists already...\n",
        "Creating folder /cluster/scratch_xl/public/vjan/cylinder_tests/650_1e-05_conjugate-False_67/RESULT\n",
        "Converting Cantera input file\n"
       ]
      },
      {
       "output_type": "stream",
       "stream": "stdout",
       "text": [
        "\n",
        "------------------\n",
        "library container:\n",
        "------------------\n",
        "\n",
        "library: libtransatmbDP.a\n",
        "-> contains 0 file objects:\n",
        "\n",
        "library: libDnspcgDP.a\n",
        "-> contains 0 file objects:\n",
        "\n",
        "library: liblokiDP.a\n",
        "-> contains 0 file objects:\n",
        "\n",
        "library: libusrtoolsDP.a\n",
        "-> contains 0 file objects:\n",
        "\n",
        "\n",
        "includes:\n",
        "-> contains 40 file objects:\n",
        "   -> 39 h-files\n",
        "   -> 1 h90-file\n",
        "\n"
       ]
      },
      {
       "output_type": "stream",
       "stream": "stdout",
       "text": [
        "\n",
        "--------------------------\n",
        "dependency summary:\n",
        "--------------------------\n",
        "creating all dependencies took 0.0676310062408 s\n",
        "\n",
        "\n",
        "-> list: sourcelist\n",
        "        * 0 objects\n",
        "        * 0 object with dependencies found\n",
        "        * 0 dependency found\n",
        "\n",
        "-> list: includelist\n",
        "        * 40 objects\n",
        "        * 18 objects with dependencies found\n",
        "        * 29 dependencies found\n",
        "\n",
        "-> list: libextlist\n",
        "        * 3 objects\n",
        "        * 1 object with dependencies found\n",
        "        * 1 dependency found\n",
        "\n",
        "----------------------------\n",
        " Creating Makefile          \n",
        "----------------------------\n",
        "\n",
        "working    directory : /cluster/scratch_xl/public/vjan/cylinder_tests/650_1e-05_conjugate-False_67/.initialconditions\n",
        "executable directory : /cluster/scratch_xl/public/vjan/cylinder_tests/650_1e-05_conjugate-False_67\n",
        "executable name      : transatmbinitialDP\n",
        "\n",
        "Makefile created...\n",
        "\n",
        "\n",
        "----------------------------\n",
        " Building                   \n",
        "----------------------------\n",
        "\n",
        "change to subfolder: /cluster/scratch_xl/public/vjan/cylinder_tests/650_1e-05_conjugate-False_67/.initialconditions\n",
        "mpicxx -O3   -I\"../../../../../../home/mavt/vjan/gfort_O3/inc\" -c ../initialconditions.cxx -o ./initialconditionsDP.o"
       ]
      },
      {
       "output_type": "stream",
       "stream": "stdout",
       "text": [
        "\n"
       ]
      },
      {
       "output_type": "stream",
       "stream": "stdout",
       "text": [
        "\n",
        "mpicc  ../../../../../../home/mavt/vjan/gfort_O3/lib/userglobalDP.o ./initialconditionsDP.o ../../../../../../home/mavt/vjan/gfort_O3/lib/tmbinitDP.o    -L\"../../../../../../home/mavt/vjan/gfort_O3/lib\"  -ltransatmbDP -lDnspcgDP -llokiDP -lusrtoolsDP  -ltransatmbDP -lDnspcgDP -llokiDP -lusrtoolsDP -lstdc++ -L/cluster/home/mavt/vjan/petsc/petsc-3.2-p7_with_16_gfortran/lib  -lpetsc -lX11 -Wl,-rpath,/cluster/home/mavt/vjan/petsc/petsc-3.2-p7_with_16_gfortran/lib -lHYPRE -lmpi_cxx -lstdc++ -lpthread -lflapack -lfblas -L/cluster/apps/openmpi/1.6.1/x86_64/gcc_4.7.2/lib -L/cluster/apps/gcc/gcc472/lib64/gcc/x86_64-unknown-linux-gnu/4.7.2 -L/cluster/apps/gcc/gcc472/lib64 -ldl -lmpi -lopen-rte -lopen-pal -lrt -lnsl -lutil -lgcc_s -lpthread -lmpi_f90 -lmpi_f77 -lgfortran -lm -lgfortran -lm -lgfortran -lm -lgfortran -lm -lm -lm -lquadmath -lm -lmpi_cxx -lstdc++ -ldl -lmpi -lopen-rte -lopen-pal -lrt -lnsl -lutil -lgcc_s -lpthread -ldl  -L/cluster/home/mavt/vjan/petsc/petsc-3.2-p7_with_16_gfortran/lib  -lpetsc -lX11 -Wl,-rpath,/cluster/home/mavt/vjan/petsc/petsc-3.2-p7_with_16_gfortran/lib -lHYPRE -lmpi_cxx -lstdc++ -lpthread -lflapack -lfblas -L/cluster/apps/openmpi/1.6.1/x86_64/gcc_4.7.2/lib -L/cluster/apps/gcc/gcc472/lib64/gcc/x86_64-unknown-linux-gnu/4.7.2 -L/cluster/apps/gcc/gcc472/lib64 -ldl -lmpi -lopen-rte -lopen-pal -lrt -lnsl -lutil -lgcc_s -lpthread -lmpi_f90 -lmpi_f77 -lgfortran -lm -lgfortran -lm -lgfortran -lm -lgfortran -lm -lm -lm -lquadmath -lm -lmpi_cxx -lstdc++ -ldl -lmpi -lopen-rte -lopen-pal -lrt -lnsl -lutil -lgcc_s -lpthread -ldl  -lcantera  -o ../transatmbinitialDP\n"
       ]
      },
      {
       "output_type": "stream",
       "stream": "stdout",
       "text": [
        "\n",
        "\n",
        "done...\n",
        "\n",
        "make: Warning: File `../initialconditions.cxx' has modification time 1.9e+03 s in the future\n",
        "make: warning:  Clock skew detected.  Your build may be incomplete.\n",
        "===================================================\n",
        " Syncing Current Working Directory with Cluster \n",
        "===================================================\n",
        "bsub -n 1 -W 60 -R \"rusage[mem=1024]\" -J 650_1e-05_conjugate-False_67 -o std_out.log  mpirun ./transatmbinitialDP "
       ]
      },
      {
       "output_type": "stream",
       "stream": "stdout",
       "text": [
        "\n",
        "Job <51612385> is submitted to queue <pub.1h>."
       ]
      },
      {
       "output_type": "stream",
       "stream": "stdout",
       "text": [
        "\n",
        "MPI job.\n",
        "---"
       ]
      },
      {
       "output_type": "stream",
       "stream": "stdout",
       "text": [
        "\n",
        "- transatdir  =/cluster/home/mavt/vjan/gfort_O3\n",
        "- ccompiler   =mpicc\n",
        "- cppcompiler =mpicxx\n",
        "- linker      =mpicc\n",
        "- precision   =dp\n",
        "- mode        =64bit\n",
        "---\n",
        "\n",
        "Folder /cluster/scratch_xl/public/vjan/cylinder_tests/650_1e-05_conjugate-False_100/.initialconditions exists already...\n",
        "Creating folder /cluster/scratch_xl/public/vjan/cylinder_tests/650_1e-05_conjugate-False_100/RESULT\n",
        "Converting Cantera input file\n",
        "\n",
        "------------------\n",
        "library container:\n",
        "------------------\n",
        "\n",
        "library: libtransatmbDP.a\n",
        "-> contains 0 file objects:\n",
        "\n",
        "library: libDnspcgDP.a\n",
        "-> contains 0 file objects:\n",
        "\n",
        "library: liblokiDP.a\n",
        "-> contains 0 file objects:\n",
        "\n",
        "library: libusrtoolsDP.a\n",
        "-> contains 0 file objects:\n",
        "\n",
        "\n",
        "includes:\n",
        "-> contains 40 file objects:\n",
        "   -> 39 h-files\n",
        "   -> 1 h90-file\n",
        "\n"
       ]
      },
      {
       "output_type": "stream",
       "stream": "stdout",
       "text": [
        "\n",
        "--------------------------\n",
        "dependency summary:\n",
        "--------------------------\n",
        "creating all dependencies took 0.0337450504303 s\n",
        "\n",
        "\n",
        "-> list: sourcelist\n",
        "        * 0 objects\n",
        "        * 0 object with dependencies found\n",
        "        * 0 dependency found\n",
        "\n",
        "-> list: includelist\n",
        "        * 40 objects\n",
        "        * 18 objects with dependencies found\n",
        "        * 29 dependencies found\n",
        "\n",
        "-> list: libextlist\n",
        "        * 3 objects\n",
        "        * 1 object with dependencies found\n",
        "        * 1 dependency found\n",
        "\n",
        "----------------------------\n",
        " Creating Makefile          \n",
        "----------------------------\n",
        "\n",
        "working    directory : /cluster/scratch_xl/public/vjan/cylinder_tests/650_1e-05_conjugate-False_100/.initialconditions\n",
        "executable directory : /cluster/scratch_xl/public/vjan/cylinder_tests/650_1e-05_conjugate-False_100\n",
        "executable name      : transatmbinitialDP\n",
        "\n",
        "Makefile created...\n",
        "\n",
        "\n",
        "----------------------------\n",
        " Building                   \n",
        "----------------------------\n",
        "\n",
        "change to subfolder: /cluster/scratch_xl/public/vjan/cylinder_tests/650_1e-05_conjugate-False_100/.initialconditions\n",
        "mpicxx -O3   -I\"../../../../../../home/mavt/vjan/gfort_O3/inc\" -c ../initialconditions.cxx -o ./initialconditionsDP.o\n"
       ]
      },
      {
       "output_type": "stream",
       "stream": "stdout",
       "text": [
        "\n",
        "mpicc  ../../../../../../home/mavt/vjan/gfort_O3/lib/userglobalDP.o ./initialconditionsDP.o ../../../../../../home/mavt/vjan/gfort_O3/lib/tmbinitDP.o    -L\"../../../../../../home/mavt/vjan/gfort_O3/lib\"  -ltransatmbDP -lDnspcgDP -llokiDP -lusrtoolsDP  -ltransatmbDP -lDnspcgDP -llokiDP -lusrtoolsDP -lstdc++ -L/cluster/home/mavt/vjan/petsc/petsc-3.2-p7_with_16_gfortran/lib  -lpetsc -lX11 -Wl,-rpath,/cluster/home/mavt/vjan/petsc/petsc-3.2-p7_with_16_gfortran/lib -lHYPRE -lmpi_cxx -lstdc++ -lpthread -lflapack -lfblas -L/cluster/apps/openmpi/1.6.1/x86_64/gcc_4.7.2/lib -L/cluster/apps/gcc/gcc472/lib64/gcc/x86_64-unknown-linux-gnu/4.7.2 -L/cluster/apps/gcc/gcc472/lib64 -ldl -lmpi -lopen-rte -lopen-pal -lrt -lnsl -lutil -lgcc_s -lpthread -lmpi_f90 -lmpi_f77 -lgfortran -lm -lgfortran -lm -lgfortran -lm -lgfortran -lm -lm -lm -lquadmath -lm -lmpi_cxx -lstdc++ -ldl -lmpi -lopen-rte -lopen-pal -lrt -lnsl -lutil -lgcc_s -lpthread -ldl  -L/cluster/home/mavt/vjan/petsc/petsc-3.2-p7_with_16_gfortran/lib  -lpetsc -lX11 -Wl,-rpath,/cluster/home/mavt/vjan/petsc/petsc-3.2-p7_with_16_gfortran/lib -lHYPRE -lmpi_cxx -lstdc++ -lpthread -lflapack -lfblas -L/cluster/apps/openmpi/1.6.1/x86_64/gcc_4.7.2/lib -L/cluster/apps/gcc/gcc472/lib64/gcc/x86_64-unknown-linux-gnu/4.7.2 -L/cluster/apps/gcc/gcc472/lib64 -ldl -lmpi -lopen-rte -lopen-pal -lrt -lnsl -lutil -lgcc_s -lpthread -lmpi_f90 -lmpi_f77 -lgfortran -lm -lgfortran -lm -lgfortran -lm -lgfortran -lm -lm -lm -lquadmath -lm -lmpi_cxx -lstdc++ -ldl -lmpi -lopen-rte -lopen-pal -lrt -lnsl -lutil -lgcc_s -lpthread -ldl  -lcantera  -o ../transatmbinitialDP\n"
       ]
      },
      {
       "output_type": "stream",
       "stream": "stdout",
       "text": [
        "\n",
        "\n",
        "done...\n",
        "\n",
        "make: Warning: File `../initialconditions.cxx' has modification time 1.8e+03 s in the future\n",
        "make: warning:  Clock skew detected.  Your build may be incomplete.\n",
        "===================================================\n",
        " Syncing Current Working Directory with Cluster \n",
        "===================================================\n",
        "bsub -n 1 -W 60 -R \"rusage[mem=1024]\" -J 650_1e-05_conjugate-False_100 -o std_out.log  mpirun ./transatmbinitialDP "
       ]
      },
      {
       "output_type": "stream",
       "stream": "stdout",
       "text": [
        "\n",
        "Job <51612390> is submitted to queue <pub.1h>."
       ]
      },
      {
       "output_type": "stream",
       "stream": "stdout",
       "text": [
        "\n",
        "MPI job.\n",
        "---"
       ]
      },
      {
       "output_type": "stream",
       "stream": "stdout",
       "text": [
        "\n",
        "- transatdir  =/cluster/home/mavt/vjan/gfort_O3\n",
        "- ccompiler   =mpicc\n",
        "- cppcompiler =mpicxx\n",
        "- linker      =mpicc\n",
        "- precision   =dp\n",
        "- mode        =64bit\n",
        "---\n",
        "\n",
        "Folder /cluster/scratch_xl/public/vjan/cylinder_tests/650_2e-05_conjugate-True_34/.initialconditions exists already...\n",
        "Creating folder /cluster/scratch_xl/public/vjan/cylinder_tests/650_2e-05_conjugate-True_34/RESULT\n",
        "Converting Cantera input file\n"
       ]
      },
      {
       "output_type": "stream",
       "stream": "stdout",
       "text": [
        "\n",
        "------------------\n",
        "library container:\n",
        "------------------\n",
        "\n",
        "library: libtransatmbDP.a\n",
        "-> contains 0 file objects:\n",
        "\n",
        "library: libDnspcgDP.a\n",
        "-> contains 0 file objects:\n",
        "\n",
        "library: liblokiDP.a\n",
        "-> contains 0 file objects:\n",
        "\n",
        "library: libusrtoolsDP.a\n",
        "-> contains 0 file objects:\n",
        "\n",
        "\n",
        "includes:\n",
        "-> contains 40 file objects:\n",
        "   -> 39 h-files\n",
        "   -> 1 h90-file\n",
        "\n"
       ]
      },
      {
       "output_type": "stream",
       "stream": "stdout",
       "text": [
        "\n",
        "--------------------------\n",
        "dependency summary:\n",
        "--------------------------\n",
        "creating all dependencies took 0.0667328834534 s\n",
        "\n",
        "\n",
        "-> list: sourcelist\n",
        "        * 0 objects\n",
        "        * 0 object with dependencies found\n",
        "        * 0 dependency found\n",
        "\n",
        "-> list: includelist\n",
        "        * 40 objects\n",
        "        * 18 objects with dependencies found\n",
        "        * 29 dependencies found\n",
        "\n",
        "-> list: libextlist\n",
        "        * 3 objects\n",
        "        * 1 object with dependencies found\n",
        "        * 1 dependency found\n",
        "\n",
        "----------------------------\n",
        " Creating Makefile          \n",
        "----------------------------\n",
        "\n",
        "working    directory : /cluster/scratch_xl/public/vjan/cylinder_tests/650_2e-05_conjugate-True_34/.initialconditions\n",
        "executable directory : /cluster/scratch_xl/public/vjan/cylinder_tests/650_2e-05_conjugate-True_34\n",
        "executable name      : transatmbinitialDP\n",
        "\n",
        "Makefile created...\n",
        "\n",
        "\n",
        "----------------------------\n",
        " Building                   \n",
        "----------------------------\n",
        "\n",
        "change to subfolder: /cluster/scratch_xl/public/vjan/cylinder_tests/650_2e-05_conjugate-True_34/.initialconditions\n",
        "mpicxx -O3   -I\"../../../../../../home/mavt/vjan/gfort_O3/inc\" -c ../initialconditions.cxx -o ./initialconditionsDP.o"
       ]
      },
      {
       "output_type": "stream",
       "stream": "stdout",
       "text": [
        "\n"
       ]
      },
      {
       "output_type": "stream",
       "stream": "stdout",
       "text": [
        "\n",
        "mpicc  ../../../../../../home/mavt/vjan/gfort_O3/lib/userglobalDP.o ./initialconditionsDP.o ../../../../../../home/mavt/vjan/gfort_O3/lib/tmbinitDP.o    -L\"../../../../../../home/mavt/vjan/gfort_O3/lib\"  -ltransatmbDP -lDnspcgDP -llokiDP -lusrtoolsDP  -ltransatmbDP -lDnspcgDP -llokiDP -lusrtoolsDP -lstdc++ -L/cluster/home/mavt/vjan/petsc/petsc-3.2-p7_with_16_gfortran/lib  -lpetsc -lX11 -Wl,-rpath,/cluster/home/mavt/vjan/petsc/petsc-3.2-p7_with_16_gfortran/lib -lHYPRE -lmpi_cxx -lstdc++ -lpthread -lflapack -lfblas -L/cluster/apps/openmpi/1.6.1/x86_64/gcc_4.7.2/lib -L/cluster/apps/gcc/gcc472/lib64/gcc/x86_64-unknown-linux-gnu/4.7.2 -L/cluster/apps/gcc/gcc472/lib64 -ldl -lmpi -lopen-rte -lopen-pal -lrt -lnsl -lutil -lgcc_s -lpthread -lmpi_f90 -lmpi_f77 -lgfortran -lm -lgfortran -lm -lgfortran -lm -lgfortran -lm -lm -lm -lquadmath -lm -lmpi_cxx -lstdc++ -ldl -lmpi -lopen-rte -lopen-pal -lrt -lnsl -lutil -lgcc_s -lpthread -ldl  -L/cluster/home/mavt/vjan/petsc/petsc-3.2-p7_with_16_gfortran/lib  -lpetsc -lX11 -Wl,-rpath,/cluster/home/mavt/vjan/petsc/petsc-3.2-p7_with_16_gfortran/lib -lHYPRE -lmpi_cxx -lstdc++ -lpthread -lflapack -lfblas -L/cluster/apps/openmpi/1.6.1/x86_64/gcc_4.7.2/lib -L/cluster/apps/gcc/gcc472/lib64/gcc/x86_64-unknown-linux-gnu/4.7.2 -L/cluster/apps/gcc/gcc472/lib64 -ldl -lmpi -lopen-rte -lopen-pal -lrt -lnsl -lutil -lgcc_s -lpthread -lmpi_f90 -lmpi_f77 -lgfortran -lm -lgfortran -lm -lgfortran -lm -lgfortran -lm -lm -lm -lquadmath -lm -lmpi_cxx -lstdc++ -ldl -lmpi -lopen-rte -lopen-pal -lrt -lnsl -lutil -lgcc_s -lpthread -ldl  -lcantera  -o ../transatmbinitialDP\n"
       ]
      },
      {
       "output_type": "stream",
       "stream": "stdout",
       "text": [
        "\n",
        "\n",
        "done...\n",
        "\n",
        "make: Warning: File `../initialconditions.cxx' has modification time 1.8e+03 s in the future\n",
        "make: warning:  Clock skew detected.  Your build may be incomplete.\n",
        "===================================================\n",
        " Syncing Current Working Directory with Cluster \n",
        "===================================================\n",
        "bsub -n 1 -W 60 -R \"rusage[mem=1024]\" -J 650_2e-05_conjugate-True_34 -o std_out.log  mpirun ./transatmbinitialDP "
       ]
      },
      {
       "output_type": "stream",
       "stream": "stdout",
       "text": [
        "\n",
        "Job <51612415> is submitted to queue <pub.1h>."
       ]
      },
      {
       "output_type": "stream",
       "stream": "stdout",
       "text": [
        "\n",
        "MPI job.\n",
        "---"
       ]
      },
      {
       "output_type": "stream",
       "stream": "stdout",
       "text": [
        "\n",
        "- transatdir  =/cluster/home/mavt/vjan/gfort_O3\n",
        "- ccompiler   =mpicc\n",
        "- cppcompiler =mpicxx\n",
        "- linker      =mpicc\n",
        "- precision   =dp\n",
        "- mode        =64bit\n",
        "---\n",
        "\n",
        "Folder /cluster/scratch_xl/public/vjan/cylinder_tests/650_2e-05_conjugate-True_67/.initialconditions exists already...\n",
        "Creating folder /cluster/scratch_xl/public/vjan/cylinder_tests/650_2e-05_conjugate-True_67/RESULT\n",
        "Converting Cantera input file\n"
       ]
      },
      {
       "output_type": "stream",
       "stream": "stdout",
       "text": [
        "\n",
        "------------------\n",
        "library container:\n",
        "------------------\n",
        "\n",
        "library: libtransatmbDP.a\n",
        "-> contains 0 file objects:\n",
        "\n",
        "library: libDnspcgDP.a\n",
        "-> contains 0 file objects:\n",
        "\n",
        "library: liblokiDP.a\n",
        "-> contains 0 file objects:\n",
        "\n",
        "library: libusrtoolsDP.a\n",
        "-> contains 0 file objects:\n",
        "\n",
        "\n",
        "includes:\n",
        "-> contains 40 file objects:\n",
        "   -> 39 h-files\n",
        "   -> 1 h90-file\n",
        "\n"
       ]
      },
      {
       "output_type": "stream",
       "stream": "stdout",
       "text": [
        "\n",
        "--------------------------\n",
        "dependency summary:\n",
        "--------------------------\n",
        "creating all dependencies took 0.0613191127777 s\n",
        "\n",
        "\n",
        "-> list: sourcelist\n",
        "        * 0 objects\n",
        "        * 0 object with dependencies found\n",
        "        * 0 dependency found\n",
        "\n",
        "-> list: includelist\n",
        "        * 40 objects\n",
        "        * 18 objects with dependencies found\n",
        "        * 29 dependencies found\n",
        "\n",
        "-> list: libextlist\n",
        "        * 3 objects\n",
        "        * 1 object with dependencies found\n",
        "        * 1 dependency found\n",
        "\n",
        "----------------------------\n",
        " Creating Makefile          \n",
        "----------------------------\n",
        "\n",
        "working    directory : /cluster/scratch_xl/public/vjan/cylinder_tests/650_2e-05_conjugate-True_67/.initialconditions\n",
        "executable directory : /cluster/scratch_xl/public/vjan/cylinder_tests/650_2e-05_conjugate-True_67\n",
        "executable name      : transatmbinitialDP\n",
        "\n",
        "Makefile created...\n",
        "\n",
        "\n",
        "----------------------------\n",
        " Building                   \n",
        "----------------------------\n",
        "\n",
        "change to subfolder: /cluster/scratch_xl/public/vjan/cylinder_tests/650_2e-05_conjugate-True_67/.initialconditions\n",
        "mpicxx -O3   -I\"../../../../../../home/mavt/vjan/gfort_O3/inc\" -c ../initialconditions.cxx -o ./initialconditionsDP.o"
       ]
      },
      {
       "output_type": "stream",
       "stream": "stdout",
       "text": [
        "\n"
       ]
      },
      {
       "output_type": "stream",
       "stream": "stdout",
       "text": [
        "\n",
        "mpicc  ../../../../../../home/mavt/vjan/gfort_O3/lib/userglobalDP.o ./initialconditionsDP.o ../../../../../../home/mavt/vjan/gfort_O3/lib/tmbinitDP.o    -L\"../../../../../../home/mavt/vjan/gfort_O3/lib\"  -ltransatmbDP -lDnspcgDP -llokiDP -lusrtoolsDP  -ltransatmbDP -lDnspcgDP -llokiDP -lusrtoolsDP -lstdc++ -L/cluster/home/mavt/vjan/petsc/petsc-3.2-p7_with_16_gfortran/lib  -lpetsc -lX11 -Wl,-rpath,/cluster/home/mavt/vjan/petsc/petsc-3.2-p7_with_16_gfortran/lib -lHYPRE -lmpi_cxx -lstdc++ -lpthread -lflapack -lfblas -L/cluster/apps/openmpi/1.6.1/x86_64/gcc_4.7.2/lib -L/cluster/apps/gcc/gcc472/lib64/gcc/x86_64-unknown-linux-gnu/4.7.2 -L/cluster/apps/gcc/gcc472/lib64 -ldl -lmpi -lopen-rte -lopen-pal -lrt -lnsl -lutil -lgcc_s -lpthread -lmpi_f90 -lmpi_f77 -lgfortran -lm -lgfortran -lm -lgfortran -lm -lgfortran -lm -lm -lm -lquadmath -lm -lmpi_cxx -lstdc++ -ldl -lmpi -lopen-rte -lopen-pal -lrt -lnsl -lutil -lgcc_s -lpthread -ldl  -L/cluster/home/mavt/vjan/petsc/petsc-3.2-p7_with_16_gfortran/lib  -lpetsc -lX11 -Wl,-rpath,/cluster/home/mavt/vjan/petsc/petsc-3.2-p7_with_16_gfortran/lib -lHYPRE -lmpi_cxx -lstdc++ -lpthread -lflapack -lfblas -L/cluster/apps/openmpi/1.6.1/x86_64/gcc_4.7.2/lib -L/cluster/apps/gcc/gcc472/lib64/gcc/x86_64-unknown-linux-gnu/4.7.2 -L/cluster/apps/gcc/gcc472/lib64 -ldl -lmpi -lopen-rte -lopen-pal -lrt -lnsl -lutil -lgcc_s -lpthread -lmpi_f90 -lmpi_f77 -lgfortran -lm -lgfortran -lm -lgfortran -lm -lgfortran -lm -lm -lm -lquadmath -lm -lmpi_cxx -lstdc++ -ldl -lmpi -lopen-rte -lopen-pal -lrt -lnsl -lutil -lgcc_s -lpthread -ldl  -lcantera  -o ../transatmbinitialDP\n"
       ]
      },
      {
       "output_type": "stream",
       "stream": "stdout",
       "text": [
        "\n",
        "\n",
        "done...\n",
        "\n",
        "make: Warning: File `../initialconditions.cxx' has modification time 1.7e+03 s in the future\n",
        "make: warning:  Clock skew detected.  Your build may be incomplete.\n",
        "===================================================\n",
        " Syncing Current Working Directory with Cluster \n",
        "===================================================\n",
        "bsub -n 1 -W 60 -R \"rusage[mem=1024]\" -J 650_2e-05_conjugate-True_67 -o std_out.log  mpirun ./transatmbinitialDP "
       ]
      },
      {
       "output_type": "stream",
       "stream": "stdout",
       "text": [
        "\n",
        "Job <51612419> is submitted to queue <pub.1h>."
       ]
      },
      {
       "output_type": "stream",
       "stream": "stdout",
       "text": [
        "\n",
        "MPI job.\n",
        "---"
       ]
      },
      {
       "output_type": "stream",
       "stream": "stdout",
       "text": [
        "\n",
        "- transatdir  =/cluster/home/mavt/vjan/gfort_O3\n",
        "- ccompiler   =mpicc\n",
        "- cppcompiler =mpicxx\n",
        "- linker      =mpicc\n",
        "- precision   =dp\n",
        "- mode        =64bit\n",
        "---\n",
        "\n",
        "Folder /cluster/scratch_xl/public/vjan/cylinder_tests/650_2e-05_conjugate-True_100/.initialconditions exists already...\n",
        "Creating folder /cluster/scratch_xl/public/vjan/cylinder_tests/650_2e-05_conjugate-True_100/RESULT\n",
        "Converting Cantera input file\n",
        "\n",
        "------------------\n",
        "library container:\n",
        "------------------\n",
        "\n",
        "library: libtransatmbDP.a\n",
        "-> contains 0 file objects:\n",
        "\n",
        "library: libDnspcgDP.a\n",
        "-> contains 0 file objects:\n",
        "\n",
        "library: liblokiDP.a\n",
        "-> contains 0 file objects:\n",
        "\n",
        "library: libusrtoolsDP.a\n",
        "-> contains 0 file objects:\n",
        "\n",
        "\n",
        "includes:\n",
        "-> contains 40 file objects:\n",
        "   -> 39 h-files\n",
        "   -> 1 h90-file\n",
        "\n"
       ]
      },
      {
       "output_type": "stream",
       "stream": "stdout",
       "text": [
        "\n",
        "--------------------------\n",
        "dependency summary:\n",
        "--------------------------\n",
        "creating all dependencies took 0.0296769142151 s\n",
        "\n",
        "\n",
        "-> list: sourcelist\n",
        "        * 0 objects\n",
        "        * 0 object with dependencies found\n",
        "        * 0 dependency found\n",
        "\n",
        "-> list: includelist\n",
        "        * 40 objects\n",
        "        * 18 objects with dependencies found\n",
        "        * 29 dependencies found\n",
        "\n",
        "-> list: libextlist\n",
        "        * 3 objects\n",
        "        * 1 object with dependencies found\n",
        "        * 1 dependency found\n",
        "\n",
        "----------------------------\n",
        " Creating Makefile          \n",
        "----------------------------\n",
        "\n",
        "working    directory : /cluster/scratch_xl/public/vjan/cylinder_tests/650_2e-05_conjugate-True_100/.initialconditions\n",
        "executable directory : /cluster/scratch_xl/public/vjan/cylinder_tests/650_2e-05_conjugate-True_100\n",
        "executable name      : transatmbinitialDP\n",
        "\n",
        "Makefile created...\n",
        "\n",
        "\n",
        "----------------------------\n",
        " Building                   \n",
        "----------------------------\n",
        "\n",
        "change to subfolder: /cluster/scratch_xl/public/vjan/cylinder_tests/650_2e-05_conjugate-True_100/.initialconditions\n",
        "mpicxx -O3   -I\"../../../../../../home/mavt/vjan/gfort_O3/inc\" -c ../initialconditions.cxx -o ./initialconditionsDP.o\n"
       ]
      },
      {
       "output_type": "stream",
       "stream": "stdout",
       "text": [
        "\n",
        "mpicc  ../../../../../../home/mavt/vjan/gfort_O3/lib/userglobalDP.o ./initialconditionsDP.o ../../../../../../home/mavt/vjan/gfort_O3/lib/tmbinitDP.o    -L\"../../../../../../home/mavt/vjan/gfort_O3/lib\"  -ltransatmbDP -lDnspcgDP -llokiDP -lusrtoolsDP  -ltransatmbDP -lDnspcgDP -llokiDP -lusrtoolsDP -lstdc++ -L/cluster/home/mavt/vjan/petsc/petsc-3.2-p7_with_16_gfortran/lib  -lpetsc -lX11 -Wl,-rpath,/cluster/home/mavt/vjan/petsc/petsc-3.2-p7_with_16_gfortran/lib -lHYPRE -lmpi_cxx -lstdc++ -lpthread -lflapack -lfblas -L/cluster/apps/openmpi/1.6.1/x86_64/gcc_4.7.2/lib -L/cluster/apps/gcc/gcc472/lib64/gcc/x86_64-unknown-linux-gnu/4.7.2 -L/cluster/apps/gcc/gcc472/lib64 -ldl -lmpi -lopen-rte -lopen-pal -lrt -lnsl -lutil -lgcc_s -lpthread -lmpi_f90 -lmpi_f77 -lgfortran -lm -lgfortran -lm -lgfortran -lm -lgfortran -lm -lm -lm -lquadmath -lm -lmpi_cxx -lstdc++ -ldl -lmpi -lopen-rte -lopen-pal -lrt -lnsl -lutil -lgcc_s -lpthread -ldl  -L/cluster/home/mavt/vjan/petsc/petsc-3.2-p7_with_16_gfortran/lib  -lpetsc -lX11 -Wl,-rpath,/cluster/home/mavt/vjan/petsc/petsc-3.2-p7_with_16_gfortran/lib -lHYPRE -lmpi_cxx -lstdc++ -lpthread -lflapack -lfblas -L/cluster/apps/openmpi/1.6.1/x86_64/gcc_4.7.2/lib -L/cluster/apps/gcc/gcc472/lib64/gcc/x86_64-unknown-linux-gnu/4.7.2 -L/cluster/apps/gcc/gcc472/lib64 -ldl -lmpi -lopen-rte -lopen-pal -lrt -lnsl -lutil -lgcc_s -lpthread -lmpi_f90 -lmpi_f77 -lgfortran -lm -lgfortran -lm -lgfortran -lm -lgfortran -lm -lm -lm -lquadmath -lm -lmpi_cxx -lstdc++ -ldl -lmpi -lopen-rte -lopen-pal -lrt -lnsl -lutil -lgcc_s -lpthread -ldl  -lcantera  -o ../transatmbinitialDP\n"
       ]
      },
      {
       "output_type": "stream",
       "stream": "stdout",
       "text": [
        "\n",
        "\n",
        "done...\n",
        "\n",
        "make: Warning: File `../initialconditions.cxx' has modification time 1.7e+03 s in the future\n",
        "make: warning:  Clock skew detected.  Your build may be incomplete.\n",
        "===================================================\n",
        " Syncing Current Working Directory with Cluster \n",
        "===================================================\n",
        "bsub -n 1 -W 60 -R \"rusage[mem=1024]\" -J 650_2e-05_conjugate-True_100 -o std_out.log  mpirun ./transatmbinitialDP "
       ]
      },
      {
       "output_type": "stream",
       "stream": "stdout",
       "text": [
        "\n",
        "Job <51612423> is submitted to queue <pub.1h>."
       ]
      },
      {
       "output_type": "stream",
       "stream": "stdout",
       "text": [
        "\n",
        "MPI job.\n",
        "---"
       ]
      },
      {
       "output_type": "stream",
       "stream": "stdout",
       "text": [
        "\n",
        "- transatdir  =/cluster/home/mavt/vjan/gfort_O3\n",
        "- ccompiler   =mpicc\n",
        "- cppcompiler =mpicxx\n",
        "- linker      =mpicc\n",
        "- precision   =dp\n",
        "- mode        =64bit\n",
        "---\n",
        "\n",
        "Folder /cluster/scratch_xl/public/vjan/cylinder_tests/650_2e-05_conjugate-False_34/.initialconditions exists already...\n",
        "Creating folder /cluster/scratch_xl/public/vjan/cylinder_tests/650_2e-05_conjugate-False_34/RESULT\n",
        "Converting Cantera input file\n"
       ]
      },
      {
       "output_type": "stream",
       "stream": "stdout",
       "text": [
        "\n",
        "------------------\n",
        "library container:\n",
        "------------------\n",
        "\n",
        "library: libtransatmbDP.a\n",
        "-> contains 0 file objects:\n",
        "\n",
        "library: libDnspcgDP.a\n",
        "-> contains 0 file objects:\n",
        "\n",
        "library: liblokiDP.a\n",
        "-> contains 0 file objects:\n",
        "\n",
        "library: libusrtoolsDP.a\n",
        "-> contains 0 file objects:\n",
        "\n",
        "\n",
        "includes:\n",
        "-> contains 40 file objects:\n",
        "   -> 39 h-files\n",
        "   -> 1 h90-file\n",
        "\n"
       ]
      },
      {
       "output_type": "stream",
       "stream": "stdout",
       "text": [
        "\n",
        "--------------------------\n",
        "dependency summary:\n",
        "--------------------------\n",
        "creating all dependencies took 0.0668008327484 s\n",
        "\n",
        "\n",
        "-> list: sourcelist\n",
        "        * 0 objects\n",
        "        * 0 object with dependencies found\n",
        "        * 0 dependency found\n",
        "\n",
        "-> list: includelist\n",
        "        * 40 objects\n",
        "        * 18 objects with dependencies found\n",
        "        * 29 dependencies found\n",
        "\n",
        "-> list: libextlist\n",
        "        * 3 objects\n",
        "        * 1 object with dependencies found\n",
        "        * 1 dependency found\n",
        "\n",
        "----------------------------\n",
        " Creating Makefile          \n",
        "----------------------------\n",
        "\n",
        "working    directory : /cluster/scratch_xl/public/vjan/cylinder_tests/650_2e-05_conjugate-False_34/.initialconditions\n",
        "executable directory : /cluster/scratch_xl/public/vjan/cylinder_tests/650_2e-05_conjugate-False_34\n",
        "executable name      : transatmbinitialDP\n",
        "\n",
        "Makefile created...\n",
        "\n",
        "\n",
        "----------------------------\n",
        " Building                   \n",
        "----------------------------\n",
        "\n",
        "change to subfolder: /cluster/scratch_xl/public/vjan/cylinder_tests/650_2e-05_conjugate-False_34/.initialconditions\n",
        "mpicxx -O3   -I\"../../../../../../home/mavt/vjan/gfort_O3/inc\" -c ../initialconditions.cxx -o ./initialconditionsDP.o"
       ]
      },
      {
       "output_type": "stream",
       "stream": "stdout",
       "text": [
        "\n"
       ]
      },
      {
       "output_type": "stream",
       "stream": "stdout",
       "text": [
        "\n",
        "mpicc  ../../../../../../home/mavt/vjan/gfort_O3/lib/userglobalDP.o ./initialconditionsDP.o ../../../../../../home/mavt/vjan/gfort_O3/lib/tmbinitDP.o    -L\"../../../../../../home/mavt/vjan/gfort_O3/lib\"  -ltransatmbDP -lDnspcgDP -llokiDP -lusrtoolsDP  -ltransatmbDP -lDnspcgDP -llokiDP -lusrtoolsDP -lstdc++ -L/cluster/home/mavt/vjan/petsc/petsc-3.2-p7_with_16_gfortran/lib  -lpetsc -lX11 -Wl,-rpath,/cluster/home/mavt/vjan/petsc/petsc-3.2-p7_with_16_gfortran/lib -lHYPRE -lmpi_cxx -lstdc++ -lpthread -lflapack -lfblas -L/cluster/apps/openmpi/1.6.1/x86_64/gcc_4.7.2/lib -L/cluster/apps/gcc/gcc472/lib64/gcc/x86_64-unknown-linux-gnu/4.7.2 -L/cluster/apps/gcc/gcc472/lib64 -ldl -lmpi -lopen-rte -lopen-pal -lrt -lnsl -lutil -lgcc_s -lpthread -lmpi_f90 -lmpi_f77 -lgfortran -lm -lgfortran -lm -lgfortran -lm -lgfortran -lm -lm -lm -lquadmath -lm -lmpi_cxx -lstdc++ -ldl -lmpi -lopen-rte -lopen-pal -lrt -lnsl -lutil -lgcc_s -lpthread -ldl  -L/cluster/home/mavt/vjan/petsc/petsc-3.2-p7_with_16_gfortran/lib  -lpetsc -lX11 -Wl,-rpath,/cluster/home/mavt/vjan/petsc/petsc-3.2-p7_with_16_gfortran/lib -lHYPRE -lmpi_cxx -lstdc++ -lpthread -lflapack -lfblas -L/cluster/apps/openmpi/1.6.1/x86_64/gcc_4.7.2/lib -L/cluster/apps/gcc/gcc472/lib64/gcc/x86_64-unknown-linux-gnu/4.7.2 -L/cluster/apps/gcc/gcc472/lib64 -ldl -lmpi -lopen-rte -lopen-pal -lrt -lnsl -lutil -lgcc_s -lpthread -lmpi_f90 -lmpi_f77 -lgfortran -lm -lgfortran -lm -lgfortran -lm -lgfortran -lm -lm -lm -lquadmath -lm -lmpi_cxx -lstdc++ -ldl -lmpi -lopen-rte -lopen-pal -lrt -lnsl -lutil -lgcc_s -lpthread -ldl  -lcantera  -o ../transatmbinitialDP\n"
       ]
      },
      {
       "output_type": "stream",
       "stream": "stdout",
       "text": [
        "\n",
        "\n",
        "done...\n",
        "\n",
        "make: Warning: File `../initialconditions.cxx' has modification time 1.7e+03 s in the future\n",
        "make: warning:  Clock skew detected.  Your build may be incomplete.\n",
        "===================================================\n",
        " Syncing Current Working Directory with Cluster \n",
        "===================================================\n",
        "bsub -n 1 -W 60 -R \"rusage[mem=1024]\" -J 650_2e-05_conjugate-False_34 -o std_out.log  mpirun ./transatmbinitialDP "
       ]
      },
      {
       "output_type": "stream",
       "stream": "stdout",
       "text": [
        "\n",
        "Job <51612429> is submitted to queue <pub.1h>."
       ]
      },
      {
       "output_type": "stream",
       "stream": "stdout",
       "text": [
        "\n",
        "MPI job.\n",
        "---"
       ]
      },
      {
       "output_type": "stream",
       "stream": "stdout",
       "text": [
        "\n",
        "- transatdir  =/cluster/home/mavt/vjan/gfort_O3\n",
        "- ccompiler   =mpicc\n",
        "- cppcompiler =mpicxx\n",
        "- linker      =mpicc\n",
        "- precision   =dp\n",
        "- mode        =64bit\n",
        "---\n",
        "\n",
        "Folder /cluster/scratch_xl/public/vjan/cylinder_tests/650_2e-05_conjugate-False_67/.initialconditions exists already...\n",
        "Creating folder /cluster/scratch_xl/public/vjan/cylinder_tests/650_2e-05_conjugate-False_67/RESULT\n",
        "Converting Cantera input file\n",
        "\n",
        "------------------\n",
        "library container:\n",
        "------------------\n",
        "\n",
        "library: libtransatmbDP.a\n",
        "-> contains 0 file objects:\n",
        "\n",
        "library: libDnspcgDP.a\n",
        "-> contains 0 file objects:\n",
        "\n",
        "library: liblokiDP.a\n",
        "-> contains 0 file objects:\n",
        "\n",
        "library: libusrtoolsDP.a\n",
        "-> contains 0 file objects:\n",
        "\n",
        "\n",
        "includes:\n",
        "-> contains 40 file objects:\n",
        "   -> 39 h-files\n",
        "   -> 1 h90-file\n",
        "\n"
       ]
      },
      {
       "output_type": "stream",
       "stream": "stdout",
       "text": [
        "\n",
        "--------------------------\n",
        "dependency summary:\n",
        "--------------------------\n",
        "creating all dependencies took 0.0423038005829 s\n",
        "\n",
        "\n",
        "-> list: sourcelist\n",
        "        * 0 objects\n",
        "        * 0 object with dependencies found\n",
        "        * 0 dependency found\n",
        "\n",
        "-> list: includelist\n",
        "        * 40 objects\n",
        "        * 18 objects with dependencies found\n",
        "        * 29 dependencies found\n",
        "\n",
        "-> list: libextlist\n",
        "        * 3 objects\n",
        "        * 1 object with dependencies found\n",
        "        * 1 dependency found\n",
        "\n",
        "----------------------------\n",
        " Creating Makefile          \n",
        "----------------------------\n",
        "\n",
        "working    directory : /cluster/scratch_xl/public/vjan/cylinder_tests/650_2e-05_conjugate-False_67/.initialconditions\n",
        "executable directory : /cluster/scratch_xl/public/vjan/cylinder_tests/650_2e-05_conjugate-False_67\n",
        "executable name      : transatmbinitialDP\n",
        "\n",
        "Makefile created...\n",
        "\n",
        "\n",
        "----------------------------\n",
        " Building                   \n",
        "----------------------------\n",
        "\n",
        "change to subfolder: /cluster/scratch_xl/public/vjan/cylinder_tests/650_2e-05_conjugate-False_67/.initialconditions\n",
        "mpicxx -O3   -I\"../../../../../../home/mavt/vjan/gfort_O3/inc\" -c ../initialconditions.cxx -o ./initialconditionsDP.o\n"
       ]
      },
      {
       "output_type": "stream",
       "stream": "stdout",
       "text": [
        "\n",
        "mpicc  ../../../../../../home/mavt/vjan/gfort_O3/lib/userglobalDP.o ./initialconditionsDP.o ../../../../../../home/mavt/vjan/gfort_O3/lib/tmbinitDP.o    -L\"../../../../../../home/mavt/vjan/gfort_O3/lib\"  -ltransatmbDP -lDnspcgDP -llokiDP -lusrtoolsDP  -ltransatmbDP -lDnspcgDP -llokiDP -lusrtoolsDP -lstdc++ -L/cluster/home/mavt/vjan/petsc/petsc-3.2-p7_with_16_gfortran/lib  -lpetsc -lX11 -Wl,-rpath,/cluster/home/mavt/vjan/petsc/petsc-3.2-p7_with_16_gfortran/lib -lHYPRE -lmpi_cxx -lstdc++ -lpthread -lflapack -lfblas -L/cluster/apps/openmpi/1.6.1/x86_64/gcc_4.7.2/lib -L/cluster/apps/gcc/gcc472/lib64/gcc/x86_64-unknown-linux-gnu/4.7.2 -L/cluster/apps/gcc/gcc472/lib64 -ldl -lmpi -lopen-rte -lopen-pal -lrt -lnsl -lutil -lgcc_s -lpthread -lmpi_f90 -lmpi_f77 -lgfortran -lm -lgfortran -lm -lgfortran -lm -lgfortran -lm -lm -lm -lquadmath -lm -lmpi_cxx -lstdc++ -ldl -lmpi -lopen-rte -lopen-pal -lrt -lnsl -lutil -lgcc_s -lpthread -ldl  -L/cluster/home/mavt/vjan/petsc/petsc-3.2-p7_with_16_gfortran/lib  -lpetsc -lX11 -Wl,-rpath,/cluster/home/mavt/vjan/petsc/petsc-3.2-p7_with_16_gfortran/lib -lHYPRE -lmpi_cxx -lstdc++ -lpthread -lflapack -lfblas -L/cluster/apps/openmpi/1.6.1/x86_64/gcc_4.7.2/lib -L/cluster/apps/gcc/gcc472/lib64/gcc/x86_64-unknown-linux-gnu/4.7.2 -L/cluster/apps/gcc/gcc472/lib64 -ldl -lmpi -lopen-rte -lopen-pal -lrt -lnsl -lutil -lgcc_s -lpthread -lmpi_f90 -lmpi_f77 -lgfortran -lm -lgfortran -lm -lgfortran -lm -lgfortran -lm -lm -lm -lquadmath -lm -lmpi_cxx -lstdc++ -ldl -lmpi -lopen-rte -lopen-pal -lrt -lnsl -lutil -lgcc_s -lpthread -ldl  -lcantera  -o ../transatmbinitialDP\n"
       ]
      },
      {
       "output_type": "stream",
       "stream": "stdout",
       "text": [
        "\n",
        "\n",
        "done...\n",
        "\n",
        "make: Warning: File `../initialconditions.cxx' has modification time 1.6e+03 s in the future\n",
        "make: warning:  Clock skew detected.  Your build may be incomplete.\n",
        "===================================================\n",
        " Syncing Current Working Directory with Cluster \n",
        "===================================================\n",
        "bsub -n 1 -W 60 -R \"rusage[mem=1024]\" -J 650_2e-05_conjugate-False_67 -o std_out.log  mpirun ./transatmbinitialDP "
       ]
      },
      {
       "output_type": "stream",
       "stream": "stdout",
       "text": [
        "\n",
        "Job <51612432> is submitted to queue <pub.1h>."
       ]
      },
      {
       "output_type": "stream",
       "stream": "stdout",
       "text": [
        "\n",
        "MPI job.\n",
        "---"
       ]
      },
      {
       "output_type": "stream",
       "stream": "stdout",
       "text": [
        "\n",
        "- transatdir  =/cluster/home/mavt/vjan/gfort_O3\n",
        "- ccompiler   =mpicc\n",
        "- cppcompiler =mpicxx\n",
        "- linker      =mpicc\n",
        "- precision   =dp\n",
        "- mode        =64bit\n",
        "---\n",
        "\n",
        "Folder /cluster/scratch_xl/public/vjan/cylinder_tests/650_2e-05_conjugate-False_100/.initialconditions exists already...\n",
        "Creating folder /cluster/scratch_xl/public/vjan/cylinder_tests/650_2e-05_conjugate-False_100/RESULT\n",
        "Converting Cantera input file\n",
        "\n",
        "------------------\n",
        "library container:\n",
        "------------------\n",
        "\n",
        "library: libtransatmbDP.a\n",
        "-> contains 0 file objects:\n",
        "\n",
        "library: libDnspcgDP.a\n",
        "-> contains 0 file objects:\n",
        "\n",
        "library: liblokiDP.a\n",
        "-> contains 0 file objects:\n",
        "\n",
        "library: libusrtoolsDP.a\n",
        "-> contains 0 file objects:\n",
        "\n",
        "\n",
        "includes:\n",
        "-> contains 40 file objects:\n",
        "   -> 39 h-files\n",
        "   -> 1 h90-file\n",
        "\n"
       ]
      },
      {
       "output_type": "stream",
       "stream": "stdout",
       "text": [
        "\n",
        "--------------------------\n",
        "dependency summary:\n",
        "--------------------------\n",
        "creating all dependencies took 0.0462138652802 s\n",
        "\n",
        "\n",
        "-> list: sourcelist\n",
        "        * 0 objects\n",
        "        * 0 object with dependencies found\n",
        "        * 0 dependency found\n",
        "\n",
        "-> list: includelist\n",
        "        * 40 objects\n",
        "        * 18 objects with dependencies found\n",
        "        * 29 dependencies found\n",
        "\n",
        "-> list: libextlist\n",
        "        * 3 objects\n",
        "        * 1 object with dependencies found\n",
        "        * 1 dependency found\n",
        "\n",
        "----------------------------\n",
        " Creating Makefile          \n",
        "----------------------------\n",
        "\n",
        "working    directory : /cluster/scratch_xl/public/vjan/cylinder_tests/650_2e-05_conjugate-False_100/.initialconditions\n",
        "executable directory : /cluster/scratch_xl/public/vjan/cylinder_tests/650_2e-05_conjugate-False_100\n",
        "executable name      : transatmbinitialDP\n",
        "\n",
        "Makefile created...\n",
        "\n",
        "\n",
        "----------------------------\n",
        " Building                   \n",
        "----------------------------\n",
        "\n",
        "change to subfolder: /cluster/scratch_xl/public/vjan/cylinder_tests/650_2e-05_conjugate-False_100/.initialconditions\n",
        "mpicxx -O3   -I\"../../../../../../home/mavt/vjan/gfort_O3/inc\" -c ../initialconditions.cxx -o ./initialconditionsDP.o"
       ]
      },
      {
       "output_type": "stream",
       "stream": "stdout",
       "text": [
        "\n"
       ]
      },
      {
       "output_type": "stream",
       "stream": "stdout",
       "text": [
        "\n",
        "mpicc  ../../../../../../home/mavt/vjan/gfort_O3/lib/userglobalDP.o ./initialconditionsDP.o ../../../../../../home/mavt/vjan/gfort_O3/lib/tmbinitDP.o    -L\"../../../../../../home/mavt/vjan/gfort_O3/lib\"  -ltransatmbDP -lDnspcgDP -llokiDP -lusrtoolsDP  -ltransatmbDP -lDnspcgDP -llokiDP -lusrtoolsDP -lstdc++ -L/cluster/home/mavt/vjan/petsc/petsc-3.2-p7_with_16_gfortran/lib  -lpetsc -lX11 -Wl,-rpath,/cluster/home/mavt/vjan/petsc/petsc-3.2-p7_with_16_gfortran/lib -lHYPRE -lmpi_cxx -lstdc++ -lpthread -lflapack -lfblas -L/cluster/apps/openmpi/1.6.1/x86_64/gcc_4.7.2/lib -L/cluster/apps/gcc/gcc472/lib64/gcc/x86_64-unknown-linux-gnu/4.7.2 -L/cluster/apps/gcc/gcc472/lib64 -ldl -lmpi -lopen-rte -lopen-pal -lrt -lnsl -lutil -lgcc_s -lpthread -lmpi_f90 -lmpi_f77 -lgfortran -lm -lgfortran -lm -lgfortran -lm -lgfortran -lm -lm -lm -lquadmath -lm -lmpi_cxx -lstdc++ -ldl -lmpi -lopen-rte -lopen-pal -lrt -lnsl -lutil -lgcc_s -lpthread -ldl  -L/cluster/home/mavt/vjan/petsc/petsc-3.2-p7_with_16_gfortran/lib  -lpetsc -lX11 -Wl,-rpath,/cluster/home/mavt/vjan/petsc/petsc-3.2-p7_with_16_gfortran/lib -lHYPRE -lmpi_cxx -lstdc++ -lpthread -lflapack -lfblas -L/cluster/apps/openmpi/1.6.1/x86_64/gcc_4.7.2/lib -L/cluster/apps/gcc/gcc472/lib64/gcc/x86_64-unknown-linux-gnu/4.7.2 -L/cluster/apps/gcc/gcc472/lib64 -ldl -lmpi -lopen-rte -lopen-pal -lrt -lnsl -lutil -lgcc_s -lpthread -lmpi_f90 -lmpi_f77 -lgfortran -lm -lgfortran -lm -lgfortran -lm -lgfortran -lm -lm -lm -lquadmath -lm -lmpi_cxx -lstdc++ -ldl -lmpi -lopen-rte -lopen-pal -lrt -lnsl -lutil -lgcc_s -lpthread -ldl  -lcantera  -o ../transatmbinitialDP\n"
       ]
      },
      {
       "output_type": "stream",
       "stream": "stdout",
       "text": [
        "\n",
        "\n",
        "done...\n",
        "\n",
        "make: Warning: File `../initialconditions.cxx' has modification time 1.6e+03 s in the future\n",
        "make: warning:  Clock skew detected.  Your build may be incomplete.\n",
        "===================================================\n",
        " Syncing Current Working Directory with Cluster \n",
        "===================================================\n",
        "bsub -n 1 -W 60 -R \"rusage[mem=1024]\" -J 650_2e-05_conjugate-False_100 -o std_out.log  mpirun ./transatmbinitialDP "
       ]
      },
      {
       "output_type": "stream",
       "stream": "stdout",
       "text": [
        "\n",
        "Job <51612436> is submitted to queue <pub.1h>."
       ]
      },
      {
       "output_type": "stream",
       "stream": "stdout",
       "text": [
        "\n",
        "MPI job.\n",
        "---"
       ]
      },
      {
       "output_type": "stream",
       "stream": "stdout",
       "text": [
        "\n",
        "- transatdir  =/cluster/home/mavt/vjan/gfort_O3\n",
        "- ccompiler   =mpicc\n",
        "- cppcompiler =mpicxx\n",
        "- linker      =mpicc\n",
        "- precision   =dp\n",
        "- mode        =64bit\n",
        "---\n",
        "\n",
        "Folder /cluster/scratch_xl/public/vjan/cylinder_tests/700_-1_conjugate-True_34/.initialconditions exists already...\n",
        "Creating folder /cluster/scratch_xl/public/vjan/cylinder_tests/700_-1_conjugate-True_34/RESULT\n",
        "Converting Cantera input file\n"
       ]
      },
      {
       "output_type": "stream",
       "stream": "stdout",
       "text": [
        "\n",
        "------------------\n",
        "library container:\n",
        "------------------\n",
        "\n",
        "library: libtransatmbDP.a\n",
        "-> contains 0 file objects:\n",
        "\n",
        "library: libDnspcgDP.a\n",
        "-> contains 0 file objects:\n",
        "\n",
        "library: liblokiDP.a\n",
        "-> contains 0 file objects:\n",
        "\n",
        "library: libusrtoolsDP.a\n",
        "-> contains 0 file objects:\n",
        "\n",
        "\n",
        "includes:\n",
        "-> contains 40 file objects:\n",
        "   -> 39 h-files\n",
        "   -> 1 h90-file\n",
        "\n"
       ]
      },
      {
       "output_type": "stream",
       "stream": "stdout",
       "text": [
        "\n",
        "--------------------------\n",
        "dependency summary:\n",
        "--------------------------\n",
        "creating all dependencies took 0.046128988266 s\n",
        "\n",
        "\n",
        "-> list: sourcelist\n",
        "        * 0 objects\n",
        "        * 0 object with dependencies found\n",
        "        * 0 dependency found\n",
        "\n",
        "-> list: includelist\n",
        "        * 40 objects\n",
        "        * 18 objects with dependencies found\n",
        "        * 29 dependencies found\n",
        "\n",
        "-> list: libextlist\n",
        "        * 3 objects\n",
        "        * 1 object with dependencies found\n",
        "        * 1 dependency found\n",
        "\n",
        "----------------------------\n",
        " Creating Makefile          \n",
        "----------------------------\n",
        "\n",
        "working    directory : /cluster/scratch_xl/public/vjan/cylinder_tests/700_-1_conjugate-True_34/.initialconditions\n",
        "executable directory : /cluster/scratch_xl/public/vjan/cylinder_tests/700_-1_conjugate-True_34\n",
        "executable name      : transatmbinitialDP\n",
        "\n",
        "Makefile created...\n",
        "\n",
        "\n",
        "----------------------------\n",
        " Building                   \n",
        "----------------------------\n",
        "\n",
        "change to subfolder: /cluster/scratch_xl/public/vjan/cylinder_tests/700_-1_conjugate-True_34/.initialconditions\n",
        "mpicxx -O3   -I\"../../../../../../home/mavt/vjan/gfort_O3/inc\" -c ../initialconditions.cxx -o ./initialconditionsDP.o"
       ]
      },
      {
       "output_type": "stream",
       "stream": "stdout",
       "text": [
        "\n"
       ]
      },
      {
       "output_type": "stream",
       "stream": "stdout",
       "text": [
        "\n",
        "mpicc  ../../../../../../home/mavt/vjan/gfort_O3/lib/userglobalDP.o ./initialconditionsDP.o ../../../../../../home/mavt/vjan/gfort_O3/lib/tmbinitDP.o    -L\"../../../../../../home/mavt/vjan/gfort_O3/lib\"  -ltransatmbDP -lDnspcgDP -llokiDP -lusrtoolsDP  -ltransatmbDP -lDnspcgDP -llokiDP -lusrtoolsDP -lstdc++ -L/cluster/home/mavt/vjan/petsc/petsc-3.2-p7_with_16_gfortran/lib  -lpetsc -lX11 -Wl,-rpath,/cluster/home/mavt/vjan/petsc/petsc-3.2-p7_with_16_gfortran/lib -lHYPRE -lmpi_cxx -lstdc++ -lpthread -lflapack -lfblas -L/cluster/apps/openmpi/1.6.1/x86_64/gcc_4.7.2/lib -L/cluster/apps/gcc/gcc472/lib64/gcc/x86_64-unknown-linux-gnu/4.7.2 -L/cluster/apps/gcc/gcc472/lib64 -ldl -lmpi -lopen-rte -lopen-pal -lrt -lnsl -lutil -lgcc_s -lpthread -lmpi_f90 -lmpi_f77 -lgfortran -lm -lgfortran -lm -lgfortran -lm -lgfortran -lm -lm -lm -lquadmath -lm -lmpi_cxx -lstdc++ -ldl -lmpi -lopen-rte -lopen-pal -lrt -lnsl -lutil -lgcc_s -lpthread -ldl  -L/cluster/home/mavt/vjan/petsc/petsc-3.2-p7_with_16_gfortran/lib  -lpetsc -lX11 -Wl,-rpath,/cluster/home/mavt/vjan/petsc/petsc-3.2-p7_with_16_gfortran/lib -lHYPRE -lmpi_cxx -lstdc++ -lpthread -lflapack -lfblas -L/cluster/apps/openmpi/1.6.1/x86_64/gcc_4.7.2/lib -L/cluster/apps/gcc/gcc472/lib64/gcc/x86_64-unknown-linux-gnu/4.7.2 -L/cluster/apps/gcc/gcc472/lib64 -ldl -lmpi -lopen-rte -lopen-pal -lrt -lnsl -lutil -lgcc_s -lpthread -lmpi_f90 -lmpi_f77 -lgfortran -lm -lgfortran -lm -lgfortran -lm -lgfortran -lm -lm -lm -lquadmath -lm -lmpi_cxx -lstdc++ -ldl -lmpi -lopen-rte -lopen-pal -lrt -lnsl -lutil -lgcc_s -lpthread -ldl  -lcantera  -o ../transatmbinitialDP\n"
       ]
      },
      {
       "output_type": "stream",
       "stream": "stdout",
       "text": [
        "\n",
        "\n",
        "done...\n",
        "\n",
        "make: Warning: File `../initialconditions.cxx' has modification time 1.6e+03 s in the future\n",
        "make: warning:  Clock skew detected.  Your build may be incomplete.\n",
        "===================================================\n",
        " Syncing Current Working Directory with Cluster \n",
        "===================================================\n",
        "bsub -n 1 -W 60 -R \"rusage[mem=1024]\" -J 700_-1_conjugate-True_34 -o std_out.log  mpirun ./transatmbinitialDP "
       ]
      },
      {
       "output_type": "stream",
       "stream": "stdout",
       "text": [
        "\n",
        "Job <51612439> is submitted to queue <pub.1h>."
       ]
      },
      {
       "output_type": "stream",
       "stream": "stdout",
       "text": [
        "\n",
        "MPI job.\n",
        "---"
       ]
      },
      {
       "output_type": "stream",
       "stream": "stdout",
       "text": [
        "\n",
        "- transatdir  =/cluster/home/mavt/vjan/gfort_O3\n",
        "- ccompiler   =mpicc\n",
        "- cppcompiler =mpicxx\n",
        "- linker      =mpicc\n",
        "- precision   =dp\n",
        "- mode        =64bit\n",
        "---\n",
        "\n",
        "Folder /cluster/scratch_xl/public/vjan/cylinder_tests/700_-1_conjugate-True_67/.initialconditions exists already...\n",
        "Creating folder /cluster/scratch_xl/public/vjan/cylinder_tests/700_-1_conjugate-True_67/RESULT\n",
        "Converting Cantera input file\n"
       ]
      },
      {
       "output_type": "stream",
       "stream": "stdout",
       "text": [
        "\n",
        "------------------\n",
        "library container:\n",
        "------------------\n",
        "\n",
        "library: libtransatmbDP.a\n",
        "-> contains 0 file objects:\n",
        "\n",
        "library: libDnspcgDP.a\n",
        "-> contains 0 file objects:\n",
        "\n",
        "library: liblokiDP.a\n",
        "-> contains 0 file objects:\n",
        "\n",
        "library: libusrtoolsDP.a\n",
        "-> contains 0 file objects:\n",
        "\n",
        "\n",
        "includes:\n",
        "-> contains 40 file objects:\n",
        "   -> 39 h-files\n",
        "   -> 1 h90-file\n",
        "\n"
       ]
      },
      {
       "output_type": "stream",
       "stream": "stdout",
       "text": [
        "\n",
        "--------------------------\n",
        "dependency summary:\n",
        "--------------------------\n",
        "creating all dependencies took 0.062059879303 s\n",
        "\n",
        "\n",
        "-> list: sourcelist\n",
        "        * 0 objects\n",
        "        * 0 object with dependencies found\n",
        "        * 0 dependency found\n",
        "\n",
        "-> list: includelist\n",
        "        * 40 objects\n",
        "        * 18 objects with dependencies found\n",
        "        * 29 dependencies found\n",
        "\n",
        "-> list: libextlist\n",
        "        * 3 objects\n",
        "        * 1 object with dependencies found\n",
        "        * 1 dependency found\n",
        "\n",
        "----------------------------\n",
        " Creating Makefile          \n",
        "----------------------------\n",
        "\n",
        "working    directory : /cluster/scratch_xl/public/vjan/cylinder_tests/700_-1_conjugate-True_67/.initialconditions\n",
        "executable directory : /cluster/scratch_xl/public/vjan/cylinder_tests/700_-1_conjugate-True_67\n",
        "executable name      : transatmbinitialDP\n",
        "\n",
        "Makefile created...\n",
        "\n",
        "\n",
        "----------------------------\n",
        " Building                   \n",
        "----------------------------\n",
        "\n",
        "change to subfolder: /cluster/scratch_xl/public/vjan/cylinder_tests/700_-1_conjugate-True_67/.initialconditions\n",
        "mpicxx -O3   -I\"../../../../../../home/mavt/vjan/gfort_O3/inc\" -c ../initialconditions.cxx -o ./initialconditionsDP.o"
       ]
      },
      {
       "output_type": "stream",
       "stream": "stdout",
       "text": [
        "\n"
       ]
      },
      {
       "output_type": "stream",
       "stream": "stdout",
       "text": [
        "\n",
        "mpicc  ../../../../../../home/mavt/vjan/gfort_O3/lib/userglobalDP.o ./initialconditionsDP.o ../../../../../../home/mavt/vjan/gfort_O3/lib/tmbinitDP.o    -L\"../../../../../../home/mavt/vjan/gfort_O3/lib\"  -ltransatmbDP -lDnspcgDP -llokiDP -lusrtoolsDP  -ltransatmbDP -lDnspcgDP -llokiDP -lusrtoolsDP -lstdc++ -L/cluster/home/mavt/vjan/petsc/petsc-3.2-p7_with_16_gfortran/lib  -lpetsc -lX11 -Wl,-rpath,/cluster/home/mavt/vjan/petsc/petsc-3.2-p7_with_16_gfortran/lib -lHYPRE -lmpi_cxx -lstdc++ -lpthread -lflapack -lfblas -L/cluster/apps/openmpi/1.6.1/x86_64/gcc_4.7.2/lib -L/cluster/apps/gcc/gcc472/lib64/gcc/x86_64-unknown-linux-gnu/4.7.2 -L/cluster/apps/gcc/gcc472/lib64 -ldl -lmpi -lopen-rte -lopen-pal -lrt -lnsl -lutil -lgcc_s -lpthread -lmpi_f90 -lmpi_f77 -lgfortran -lm -lgfortran -lm -lgfortran -lm -lgfortran -lm -lm -lm -lquadmath -lm -lmpi_cxx -lstdc++ -ldl -lmpi -lopen-rte -lopen-pal -lrt -lnsl -lutil -lgcc_s -lpthread -ldl  -L/cluster/home/mavt/vjan/petsc/petsc-3.2-p7_with_16_gfortran/lib  -lpetsc -lX11 -Wl,-rpath,/cluster/home/mavt/vjan/petsc/petsc-3.2-p7_with_16_gfortran/lib -lHYPRE -lmpi_cxx -lstdc++ -lpthread -lflapack -lfblas -L/cluster/apps/openmpi/1.6.1/x86_64/gcc_4.7.2/lib -L/cluster/apps/gcc/gcc472/lib64/gcc/x86_64-unknown-linux-gnu/4.7.2 -L/cluster/apps/gcc/gcc472/lib64 -ldl -lmpi -lopen-rte -lopen-pal -lrt -lnsl -lutil -lgcc_s -lpthread -lmpi_f90 -lmpi_f77 -lgfortran -lm -lgfortran -lm -lgfortran -lm -lgfortran -lm -lm -lm -lquadmath -lm -lmpi_cxx -lstdc++ -ldl -lmpi -lopen-rte -lopen-pal -lrt -lnsl -lutil -lgcc_s -lpthread -ldl  -lcantera  -o ../transatmbinitialDP\n"
       ]
      },
      {
       "output_type": "stream",
       "stream": "stdout",
       "text": [
        "\n",
        "\n",
        "done...\n",
        "\n",
        "make: Warning: File `../initialconditions.cxx' has modification time 1.5e+03 s in the future\n",
        "make: warning:  Clock skew detected.  Your build may be incomplete.\n",
        "===================================================\n",
        " Syncing Current Working Directory with Cluster \n",
        "===================================================\n",
        "bsub -n 1 -W 60 -R \"rusage[mem=1024]\" -J 700_-1_conjugate-True_67 -o std_out.log  mpirun ./transatmbinitialDP "
       ]
      },
      {
       "output_type": "stream",
       "stream": "stdout",
       "text": [
        "\n",
        "Job <51612443> is submitted to queue <pub.1h>."
       ]
      },
      {
       "output_type": "stream",
       "stream": "stdout",
       "text": [
        "\n",
        "MPI job.\n",
        "---"
       ]
      },
      {
       "output_type": "stream",
       "stream": "stdout",
       "text": [
        "\n",
        "- transatdir  =/cluster/home/mavt/vjan/gfort_O3\n",
        "- ccompiler   =mpicc\n",
        "- cppcompiler =mpicxx\n",
        "- linker      =mpicc\n",
        "- precision   =dp\n",
        "- mode        =64bit\n",
        "---\n",
        "\n",
        "Folder /cluster/scratch_xl/public/vjan/cylinder_tests/700_-1_conjugate-True_100/.initialconditions exists already...\n",
        "Creating folder /cluster/scratch_xl/public/vjan/cylinder_tests/700_-1_conjugate-True_100/RESULT\n",
        "Converting Cantera input file\n"
       ]
      },
      {
       "output_type": "stream",
       "stream": "stdout",
       "text": [
        "\n",
        "------------------\n",
        "library container:\n",
        "------------------\n",
        "\n",
        "library: libtransatmbDP.a\n",
        "-> contains 0 file objects:\n",
        "\n",
        "library: libDnspcgDP.a\n",
        "-> contains 0 file objects:\n",
        "\n",
        "library: liblokiDP.a\n",
        "-> contains 0 file objects:\n",
        "\n",
        "library: libusrtoolsDP.a\n",
        "-> contains 0 file objects:\n",
        "\n",
        "\n",
        "includes:\n",
        "-> contains 40 file objects:\n",
        "   -> 39 h-files\n",
        "   -> 1 h90-file\n",
        "\n",
        "\n",
        "--------------------------\n",
        "dependency summary:\n",
        "--------------------------\n",
        "creating all dependencies took 0.0438079833984 s\n",
        "\n",
        "\n",
        "-> list: sourcelist\n",
        "        * 0 objects\n",
        "        * 0 object with dependencies found\n",
        "        * 0 dependency found\n",
        "\n",
        "-> list: includelist\n",
        "        * 40 objects\n",
        "        * 18 objects with dependencies found\n",
        "        * 29 dependencies found\n",
        "\n",
        "-> list: libextlist\n",
        "        * 3 objects\n",
        "        * 1 object with dependencies found\n",
        "        * 1 dependency found\n",
        "\n",
        "----------------------------\n",
        " Creating Makefile          \n",
        "----------------------------\n",
        "\n",
        "working    directory : /cluster/scratch_xl/public/vjan/cylinder_tests/700_-1_conjugate-True_100/.initialconditions\n",
        "executable directory : /cluster/scratch_xl/public/vjan/cylinder_tests/700_-1_conjugate-True_100\n",
        "executable name      : transatmbinitialDP\n",
        "\n",
        "Makefile created..."
       ]
      },
      {
       "output_type": "stream",
       "stream": "stdout",
       "text": [
        "\n",
        "\n",
        "\n",
        "----------------------------\n",
        " Building                   \n",
        "----------------------------\n",
        "\n",
        "change to subfolder: /cluster/scratch_xl/public/vjan/cylinder_tests/700_-1_conjugate-True_100/.initialconditions\n",
        "mpicxx -O3   -I\"../../../../../../home/mavt/vjan/gfort_O3/inc\" -c ../initialconditions.cxx -o ./initialconditionsDP.o\n"
       ]
      },
      {
       "output_type": "stream",
       "stream": "stdout",
       "text": [
        "\n",
        "mpicc  ../../../../../../home/mavt/vjan/gfort_O3/lib/userglobalDP.o ./initialconditionsDP.o ../../../../../../home/mavt/vjan/gfort_O3/lib/tmbinitDP.o    -L\"../../../../../../home/mavt/vjan/gfort_O3/lib\"  -ltransatmbDP -lDnspcgDP -llokiDP -lusrtoolsDP  -ltransatmbDP -lDnspcgDP -llokiDP -lusrtoolsDP -lstdc++ -L/cluster/home/mavt/vjan/petsc/petsc-3.2-p7_with_16_gfortran/lib  -lpetsc -lX11 -Wl,-rpath,/cluster/home/mavt/vjan/petsc/petsc-3.2-p7_with_16_gfortran/lib -lHYPRE -lmpi_cxx -lstdc++ -lpthread -lflapack -lfblas -L/cluster/apps/openmpi/1.6.1/x86_64/gcc_4.7.2/lib -L/cluster/apps/gcc/gcc472/lib64/gcc/x86_64-unknown-linux-gnu/4.7.2 -L/cluster/apps/gcc/gcc472/lib64 -ldl -lmpi -lopen-rte -lopen-pal -lrt -lnsl -lutil -lgcc_s -lpthread -lmpi_f90 -lmpi_f77 -lgfortran -lm -lgfortran -lm -lgfortran -lm -lgfortran -lm -lm -lm -lquadmath -lm -lmpi_cxx -lstdc++ -ldl -lmpi -lopen-rte -lopen-pal -lrt -lnsl -lutil -lgcc_s -lpthread -ldl  -L/cluster/home/mavt/vjan/petsc/petsc-3.2-p7_with_16_gfortran/lib  -lpetsc -lX11 -Wl,-rpath,/cluster/home/mavt/vjan/petsc/petsc-3.2-p7_with_16_gfortran/lib -lHYPRE -lmpi_cxx -lstdc++ -lpthread -lflapack -lfblas -L/cluster/apps/openmpi/1.6.1/x86_64/gcc_4.7.2/lib -L/cluster/apps/gcc/gcc472/lib64/gcc/x86_64-unknown-linux-gnu/4.7.2 -L/cluster/apps/gcc/gcc472/lib64 -ldl -lmpi -lopen-rte -lopen-pal -lrt -lnsl -lutil -lgcc_s -lpthread -lmpi_f90 -lmpi_f77 -lgfortran -lm -lgfortran -lm -lgfortran -lm -lgfortran -lm -lm -lm -lquadmath -lm -lmpi_cxx -lstdc++ -ldl -lmpi -lopen-rte -lopen-pal -lrt -lnsl -lutil -lgcc_s -lpthread -ldl  -lcantera  -o ../transatmbinitialDP\n"
       ]
      },
      {
       "output_type": "stream",
       "stream": "stdout",
       "text": [
        "\n",
        "\n",
        "done...\n",
        "\n",
        "make: Warning: File `../initialconditions.cxx' has modification time 1.5e+03 s in the future\n",
        "make: warning:  Clock skew detected.  Your build may be incomplete.\n",
        "===================================================\n",
        " Syncing Current Working Directory with Cluster \n",
        "===================================================\n",
        "bsub -n 1 -W 60 -R \"rusage[mem=1024]\" -J 700_-1_conjugate-True_100 -o std_out.log  mpirun ./transatmbinitialDP "
       ]
      },
      {
       "output_type": "stream",
       "stream": "stdout",
       "text": [
        "\n",
        "Job <51612463> is submitted to queue <pub.1h>."
       ]
      },
      {
       "output_type": "stream",
       "stream": "stdout",
       "text": [
        "\n",
        "MPI job.\n",
        "---"
       ]
      },
      {
       "output_type": "stream",
       "stream": "stdout",
       "text": [
        "\n",
        "- transatdir  =/cluster/home/mavt/vjan/gfort_O3\n",
        "- ccompiler   =mpicc\n",
        "- cppcompiler =mpicxx\n",
        "- linker      =mpicc\n",
        "- precision   =dp\n",
        "- mode        =64bit\n",
        "---\n",
        "\n",
        "Folder /cluster/scratch_xl/public/vjan/cylinder_tests/700_-1_conjugate-False_34/.initialconditions exists already...\n",
        "Creating folder /cluster/scratch_xl/public/vjan/cylinder_tests/700_-1_conjugate-False_34/RESULT\n",
        "Converting Cantera input file\n",
        "\n",
        "------------------\n",
        "library container:\n",
        "------------------\n",
        "\n",
        "library: libtransatmbDP.a\n",
        "-> contains 0 file objects:\n",
        "\n",
        "library: libDnspcgDP.a\n",
        "-> contains 0 file objects:\n",
        "\n",
        "library: liblokiDP.a\n",
        "-> contains 0 file objects:\n",
        "\n",
        "library: libusrtoolsDP.a\n",
        "-> contains 0 file objects:\n",
        "\n",
        "\n",
        "includes:\n",
        "-> contains 40 file objects:\n",
        "   -> 39 h-files\n",
        "   -> 1 h90-file\n",
        "\n"
       ]
      },
      {
       "output_type": "stream",
       "stream": "stdout",
       "text": [
        "\n",
        "--------------------------\n",
        "dependency summary:\n",
        "--------------------------\n",
        "creating all dependencies took 0.0475990772247 s\n",
        "\n",
        "\n",
        "-> list: sourcelist\n",
        "        * 0 objects\n",
        "        * 0 object with dependencies found\n",
        "        * 0 dependency found\n",
        "\n",
        "-> list: includelist\n",
        "        * 40 objects\n",
        "        * 18 objects with dependencies found\n",
        "        * 29 dependencies found\n",
        "\n",
        "-> list: libextlist\n",
        "        * 3 objects\n",
        "        * 1 object with dependencies found\n",
        "        * 1 dependency found\n",
        "\n",
        "----------------------------\n",
        " Creating Makefile          \n",
        "----------------------------\n",
        "\n",
        "working    directory : /cluster/scratch_xl/public/vjan/cylinder_tests/700_-1_conjugate-False_34/.initialconditions\n",
        "executable directory : /cluster/scratch_xl/public/vjan/cylinder_tests/700_-1_conjugate-False_34\n",
        "executable name      : transatmbinitialDP\n",
        "\n",
        "Makefile created...\n",
        "\n",
        "\n",
        "----------------------------\n",
        " Building                   \n",
        "----------------------------\n",
        "\n",
        "change to subfolder: /cluster/scratch_xl/public/vjan/cylinder_tests/700_-1_conjugate-False_34/.initialconditions\n",
        "mpicxx -O3   -I\"../../../../../../home/mavt/vjan/gfort_O3/inc\" -c ../initialconditions.cxx -o ./initialconditionsDP.o\n"
       ]
      },
      {
       "output_type": "stream",
       "stream": "stdout",
       "text": [
        "\n",
        "mpicc  ../../../../../../home/mavt/vjan/gfort_O3/lib/userglobalDP.o ./initialconditionsDP.o ../../../../../../home/mavt/vjan/gfort_O3/lib/tmbinitDP.o    -L\"../../../../../../home/mavt/vjan/gfort_O3/lib\"  -ltransatmbDP -lDnspcgDP -llokiDP -lusrtoolsDP  -ltransatmbDP -lDnspcgDP -llokiDP -lusrtoolsDP -lstdc++ -L/cluster/home/mavt/vjan/petsc/petsc-3.2-p7_with_16_gfortran/lib  -lpetsc -lX11 -Wl,-rpath,/cluster/home/mavt/vjan/petsc/petsc-3.2-p7_with_16_gfortran/lib -lHYPRE -lmpi_cxx -lstdc++ -lpthread -lflapack -lfblas -L/cluster/apps/openmpi/1.6.1/x86_64/gcc_4.7.2/lib -L/cluster/apps/gcc/gcc472/lib64/gcc/x86_64-unknown-linux-gnu/4.7.2 -L/cluster/apps/gcc/gcc472/lib64 -ldl -lmpi -lopen-rte -lopen-pal -lrt -lnsl -lutil -lgcc_s -lpthread -lmpi_f90 -lmpi_f77 -lgfortran -lm -lgfortran -lm -lgfortran -lm -lgfortran -lm -lm -lm -lquadmath -lm -lmpi_cxx -lstdc++ -ldl -lmpi -lopen-rte -lopen-pal -lrt -lnsl -lutil -lgcc_s -lpthread -ldl  -L/cluster/home/mavt/vjan/petsc/petsc-3.2-p7_with_16_gfortran/lib  -lpetsc -lX11 -Wl,-rpath,/cluster/home/mavt/vjan/petsc/petsc-3.2-p7_with_16_gfortran/lib -lHYPRE -lmpi_cxx -lstdc++ -lpthread -lflapack -lfblas -L/cluster/apps/openmpi/1.6.1/x86_64/gcc_4.7.2/lib -L/cluster/apps/gcc/gcc472/lib64/gcc/x86_64-unknown-linux-gnu/4.7.2 -L/cluster/apps/gcc/gcc472/lib64 -ldl -lmpi -lopen-rte -lopen-pal -lrt -lnsl -lutil -lgcc_s -lpthread -lmpi_f90 -lmpi_f77 -lgfortran -lm -lgfortran -lm -lgfortran -lm -lgfortran -lm -lm -lm -lquadmath -lm -lmpi_cxx -lstdc++ -ldl -lmpi -lopen-rte -lopen-pal -lrt -lnsl -lutil -lgcc_s -lpthread -ldl  -lcantera  -o ../transatmbinitialDP\n"
       ]
      },
      {
       "output_type": "stream",
       "stream": "stdout",
       "text": [
        "\n",
        "\n",
        "done...\n",
        "\n",
        "make: Warning: File `../initialconditions.cxx' has modification time 1.5e+03 s in the future\n",
        "make: warning:  Clock skew detected.  Your build may be incomplete.\n",
        "===================================================\n",
        " Syncing Current Working Directory with Cluster \n",
        "===================================================\n",
        "bsub -n 1 -W 60 -R \"rusage[mem=1024]\" -J 700_-1_conjugate-False_34 -o std_out.log  mpirun ./transatmbinitialDP "
       ]
      },
      {
       "output_type": "stream",
       "stream": "stdout",
       "text": [
        "\n",
        "Job <51612472> is submitted to queue <pub.1h>."
       ]
      },
      {
       "output_type": "stream",
       "stream": "stdout",
       "text": [
        "\n",
        "MPI job.\n",
        "---"
       ]
      },
      {
       "output_type": "stream",
       "stream": "stdout",
       "text": [
        "\n",
        "- transatdir  =/cluster/home/mavt/vjan/gfort_O3\n",
        "- ccompiler   =mpicc\n",
        "- cppcompiler =mpicxx\n",
        "- linker      =mpicc\n",
        "- precision   =dp\n",
        "- mode        =64bit\n",
        "---\n",
        "\n",
        "Folder /cluster/scratch_xl/public/vjan/cylinder_tests/700_-1_conjugate-False_67/.initialconditions exists already...\n",
        "Creating folder /cluster/scratch_xl/public/vjan/cylinder_tests/700_-1_conjugate-False_67/RESULT\n",
        "Converting Cantera input file\n",
        "\n",
        "------------------\n",
        "library container:\n",
        "------------------\n",
        "\n",
        "library: libtransatmbDP.a\n",
        "-> contains 0 file objects:\n",
        "\n",
        "library: libDnspcgDP.a\n",
        "-> contains 0 file objects:\n",
        "\n",
        "library: liblokiDP.a\n",
        "-> contains 0 file objects:\n",
        "\n",
        "library: libusrtoolsDP.a\n",
        "-> contains 0 file objects:\n",
        "\n",
        "\n",
        "includes:\n",
        "-> contains 40 file objects:\n",
        "   -> 39 h-files\n",
        "   -> 1 h90-file\n",
        "\n"
       ]
      },
      {
       "output_type": "stream",
       "stream": "stdout",
       "text": [
        "\n",
        "--------------------------\n",
        "dependency summary:\n",
        "--------------------------\n",
        "creating all dependencies took 0.0415391921997 s\n",
        "\n",
        "\n",
        "-> list: sourcelist\n",
        "        * 0 objects\n",
        "        * 0 object with dependencies found\n",
        "        * 0 dependency found\n",
        "\n",
        "-> list: includelist\n",
        "        * 40 objects\n",
        "        * 18 objects with dependencies found\n",
        "        * 29 dependencies found\n",
        "\n",
        "-> list: libextlist\n",
        "        * 3 objects\n",
        "        * 1 object with dependencies found\n",
        "        * 1 dependency found\n",
        "\n",
        "----------------------------\n",
        " Creating Makefile          \n",
        "----------------------------\n",
        "\n",
        "working    directory : /cluster/scratch_xl/public/vjan/cylinder_tests/700_-1_conjugate-False_67/.initialconditions\n",
        "executable directory : /cluster/scratch_xl/public/vjan/cylinder_tests/700_-1_conjugate-False_67\n",
        "executable name      : transatmbinitialDP\n",
        "\n",
        "Makefile created...\n",
        "\n",
        "\n",
        "----------------------------\n",
        " Building                   \n",
        "----------------------------\n",
        "\n",
        "change to subfolder: /cluster/scratch_xl/public/vjan/cylinder_tests/700_-1_conjugate-False_67/.initialconditions\n",
        "mpicxx -O3   -I\"../../../../../../home/mavt/vjan/gfort_O3/inc\" -c ../initialconditions.cxx -o ./initialconditionsDP.o\n"
       ]
      },
      {
       "output_type": "stream",
       "stream": "stdout",
       "text": [
        "\n",
        "mpicc  ../../../../../../home/mavt/vjan/gfort_O3/lib/userglobalDP.o ./initialconditionsDP.o ../../../../../../home/mavt/vjan/gfort_O3/lib/tmbinitDP.o    -L\"../../../../../../home/mavt/vjan/gfort_O3/lib\"  -ltransatmbDP -lDnspcgDP -llokiDP -lusrtoolsDP  -ltransatmbDP -lDnspcgDP -llokiDP -lusrtoolsDP -lstdc++ -L/cluster/home/mavt/vjan/petsc/petsc-3.2-p7_with_16_gfortran/lib  -lpetsc -lX11 -Wl,-rpath,/cluster/home/mavt/vjan/petsc/petsc-3.2-p7_with_16_gfortran/lib -lHYPRE -lmpi_cxx -lstdc++ -lpthread -lflapack -lfblas -L/cluster/apps/openmpi/1.6.1/x86_64/gcc_4.7.2/lib -L/cluster/apps/gcc/gcc472/lib64/gcc/x86_64-unknown-linux-gnu/4.7.2 -L/cluster/apps/gcc/gcc472/lib64 -ldl -lmpi -lopen-rte -lopen-pal -lrt -lnsl -lutil -lgcc_s -lpthread -lmpi_f90 -lmpi_f77 -lgfortran -lm -lgfortran -lm -lgfortran -lm -lgfortran -lm -lm -lm -lquadmath -lm -lmpi_cxx -lstdc++ -ldl -lmpi -lopen-rte -lopen-pal -lrt -lnsl -lutil -lgcc_s -lpthread -ldl  -L/cluster/home/mavt/vjan/petsc/petsc-3.2-p7_with_16_gfortran/lib  -lpetsc -lX11 -Wl,-rpath,/cluster/home/mavt/vjan/petsc/petsc-3.2-p7_with_16_gfortran/lib -lHYPRE -lmpi_cxx -lstdc++ -lpthread -lflapack -lfblas -L/cluster/apps/openmpi/1.6.1/x86_64/gcc_4.7.2/lib -L/cluster/apps/gcc/gcc472/lib64/gcc/x86_64-unknown-linux-gnu/4.7.2 -L/cluster/apps/gcc/gcc472/lib64 -ldl -lmpi -lopen-rte -lopen-pal -lrt -lnsl -lutil -lgcc_s -lpthread -lmpi_f90 -lmpi_f77 -lgfortran -lm -lgfortran -lm -lgfortran -lm -lgfortran -lm -lm -lm -lquadmath -lm -lmpi_cxx -lstdc++ -ldl -lmpi -lopen-rte -lopen-pal -lrt -lnsl -lutil -lgcc_s -lpthread -ldl  -lcantera  -o ../transatmbinitialDP\n"
       ]
      },
      {
       "output_type": "stream",
       "stream": "stdout",
       "text": [
        "\n",
        "\n",
        "done...\n",
        "\n",
        "make: Warning: File `../initialconditions.cxx' has modification time 1.4e+03 s in the future\n",
        "make: warning:  Clock skew detected.  Your build may be incomplete.\n",
        "===================================================\n",
        " Syncing Current Working Directory with Cluster \n",
        "===================================================\n",
        "bsub -n 1 -W 60 -R \"rusage[mem=1024]\" -J 700_-1_conjugate-False_67 -o std_out.log  mpirun ./transatmbinitialDP "
       ]
      },
      {
       "output_type": "stream",
       "stream": "stdout",
       "text": [
        "\n",
        "Job <51612479> is submitted to queue <pub.1h>."
       ]
      },
      {
       "output_type": "stream",
       "stream": "stdout",
       "text": [
        "\n",
        "MPI job.\n",
        "---"
       ]
      },
      {
       "output_type": "stream",
       "stream": "stdout",
       "text": [
        "\n",
        "- transatdir  =/cluster/home/mavt/vjan/gfort_O3\n",
        "- ccompiler   =mpicc\n",
        "- cppcompiler =mpicxx\n",
        "- linker      =mpicc\n",
        "- precision   =dp\n",
        "- mode        =64bit\n",
        "---\n",
        "\n",
        "Folder /cluster/scratch_xl/public/vjan/cylinder_tests/700_-1_conjugate-False_100/.initialconditions exists already...\n",
        "Creating folder /cluster/scratch_xl/public/vjan/cylinder_tests/700_-1_conjugate-False_100/RESULT\n",
        "Converting Cantera input file\n"
       ]
      },
      {
       "output_type": "stream",
       "stream": "stdout",
       "text": [
        "\n",
        "------------------\n",
        "library container:\n",
        "------------------\n",
        "\n",
        "library: libtransatmbDP.a\n",
        "-> contains 0 file objects:\n",
        "\n",
        "library: libDnspcgDP.a\n",
        "-> contains 0 file objects:\n",
        "\n",
        "library: liblokiDP.a\n",
        "-> contains 0 file objects:\n",
        "\n",
        "library: libusrtoolsDP.a\n",
        "-> contains 0 file objects:\n",
        "\n",
        "\n",
        "includes:\n",
        "-> contains 40 file objects:\n",
        "   -> 39 h-files\n",
        "   -> 1 h90-file\n",
        "\n"
       ]
      },
      {
       "output_type": "stream",
       "stream": "stdout",
       "text": [
        "\n",
        "--------------------------\n",
        "dependency summary:\n",
        "--------------------------\n",
        "creating all dependencies took 0.0646438598633 s\n",
        "\n",
        "\n",
        "-> list: sourcelist\n",
        "        * 0 objects\n",
        "        * 0 object with dependencies found\n",
        "        * 0 dependency found\n",
        "\n",
        "-> list: includelist\n",
        "        * 40 objects\n",
        "        * 18 objects with dependencies found\n",
        "        * 29 dependencies found\n",
        "\n",
        "-> list: libextlist\n",
        "        * 3 objects\n",
        "        * 1 object with dependencies found\n",
        "        * 1 dependency found\n",
        "\n",
        "----------------------------\n",
        " Creating Makefile          \n",
        "----------------------------\n",
        "\n",
        "working    directory : /cluster/scratch_xl/public/vjan/cylinder_tests/700_-1_conjugate-False_100/.initialconditions\n",
        "executable directory : /cluster/scratch_xl/public/vjan/cylinder_tests/700_-1_conjugate-False_100\n",
        "executable name      : transatmbinitialDP\n",
        "\n",
        "Makefile created...\n",
        "\n",
        "\n",
        "----------------------------\n",
        " Building                   \n",
        "----------------------------\n",
        "\n",
        "change to subfolder: /cluster/scratch_xl/public/vjan/cylinder_tests/700_-1_conjugate-False_100/.initialconditions\n",
        "mpicxx -O3   -I\"../../../../../../home/mavt/vjan/gfort_O3/inc\" -c ../initialconditions.cxx -o ./initialconditionsDP.o"
       ]
      },
      {
       "output_type": "stream",
       "stream": "stdout",
       "text": [
        "\n"
       ]
      },
      {
       "output_type": "stream",
       "stream": "stdout",
       "text": [
        "\n",
        "mpicc  ../../../../../../home/mavt/vjan/gfort_O3/lib/userglobalDP.o ./initialconditionsDP.o ../../../../../../home/mavt/vjan/gfort_O3/lib/tmbinitDP.o    -L\"../../../../../../home/mavt/vjan/gfort_O3/lib\"  -ltransatmbDP -lDnspcgDP -llokiDP -lusrtoolsDP  -ltransatmbDP -lDnspcgDP -llokiDP -lusrtoolsDP -lstdc++ -L/cluster/home/mavt/vjan/petsc/petsc-3.2-p7_with_16_gfortran/lib  -lpetsc -lX11 -Wl,-rpath,/cluster/home/mavt/vjan/petsc/petsc-3.2-p7_with_16_gfortran/lib -lHYPRE -lmpi_cxx -lstdc++ -lpthread -lflapack -lfblas -L/cluster/apps/openmpi/1.6.1/x86_64/gcc_4.7.2/lib -L/cluster/apps/gcc/gcc472/lib64/gcc/x86_64-unknown-linux-gnu/4.7.2 -L/cluster/apps/gcc/gcc472/lib64 -ldl -lmpi -lopen-rte -lopen-pal -lrt -lnsl -lutil -lgcc_s -lpthread -lmpi_f90 -lmpi_f77 -lgfortran -lm -lgfortran -lm -lgfortran -lm -lgfortran -lm -lm -lm -lquadmath -lm -lmpi_cxx -lstdc++ -ldl -lmpi -lopen-rte -lopen-pal -lrt -lnsl -lutil -lgcc_s -lpthread -ldl  -L/cluster/home/mavt/vjan/petsc/petsc-3.2-p7_with_16_gfortran/lib  -lpetsc -lX11 -Wl,-rpath,/cluster/home/mavt/vjan/petsc/petsc-3.2-p7_with_16_gfortran/lib -lHYPRE -lmpi_cxx -lstdc++ -lpthread -lflapack -lfblas -L/cluster/apps/openmpi/1.6.1/x86_64/gcc_4.7.2/lib -L/cluster/apps/gcc/gcc472/lib64/gcc/x86_64-unknown-linux-gnu/4.7.2 -L/cluster/apps/gcc/gcc472/lib64 -ldl -lmpi -lopen-rte -lopen-pal -lrt -lnsl -lutil -lgcc_s -lpthread -lmpi_f90 -lmpi_f77 -lgfortran -lm -lgfortran -lm -lgfortran -lm -lgfortran -lm -lm -lm -lquadmath -lm -lmpi_cxx -lstdc++ -ldl -lmpi -lopen-rte -lopen-pal -lrt -lnsl -lutil -lgcc_s -lpthread -ldl  -lcantera  -o ../transatmbinitialDP\n"
       ]
      },
      {
       "output_type": "stream",
       "stream": "stdout",
       "text": [
        "\n",
        "\n",
        "done...\n",
        "\n",
        "make: Warning: File `../initialconditions.cxx' has modification time 1.4e+03 s in the future\n",
        "make: warning:  Clock skew detected.  Your build may be incomplete.\n",
        "===================================================\n",
        " Syncing Current Working Directory with Cluster \n",
        "===================================================\n",
        "bsub -n 1 -W 60 -R \"rusage[mem=1024]\" -J 700_-1_conjugate-False_100 -o std_out.log  mpirun ./transatmbinitialDP "
       ]
      },
      {
       "output_type": "stream",
       "stream": "stdout",
       "text": [
        "\n",
        "Job <51612485> is submitted to queue <pub.1h>."
       ]
      },
      {
       "output_type": "stream",
       "stream": "stdout",
       "text": [
        "\n",
        "MPI job.\n",
        "---"
       ]
      },
      {
       "output_type": "stream",
       "stream": "stdout",
       "text": [
        "\n",
        "- transatdir  =/cluster/home/mavt/vjan/gfort_O3\n",
        "- ccompiler   =mpicc\n",
        "- cppcompiler =mpicxx\n",
        "- linker      =mpicc\n",
        "- precision   =dp\n",
        "- mode        =64bit\n",
        "---\n",
        "\n",
        "Folder /cluster/scratch_xl/public/vjan/cylinder_tests/700_1e-05_conjugate-True_34/.initialconditions exists already...\n",
        "Creating folder /cluster/scratch_xl/public/vjan/cylinder_tests/700_1e-05_conjugate-True_34/RESULT\n",
        "Converting Cantera input file\n"
       ]
      },
      {
       "output_type": "stream",
       "stream": "stdout",
       "text": [
        "\n",
        "------------------\n",
        "library container:\n",
        "------------------\n",
        "\n",
        "library: libtransatmbDP.a\n",
        "-> contains 0 file objects:\n",
        "\n",
        "library: libDnspcgDP.a\n",
        "-> contains 0 file objects:\n",
        "\n",
        "library: liblokiDP.a\n",
        "-> contains 0 file objects:\n",
        "\n",
        "library: libusrtoolsDP.a\n",
        "-> contains 0 file objects:\n",
        "\n",
        "\n",
        "includes:\n",
        "-> contains 40 file objects:\n",
        "   -> 39 h-files\n",
        "   -> 1 h90-file\n",
        "\n"
       ]
      },
      {
       "output_type": "stream",
       "stream": "stdout",
       "text": [
        "\n",
        "--------------------------\n",
        "dependency summary:\n",
        "--------------------------\n",
        "creating all dependencies took 0.0482618808746 s\n",
        "\n",
        "\n",
        "-> list: sourcelist\n",
        "        * 0 objects\n",
        "        * 0 object with dependencies found\n",
        "        * 0 dependency found\n",
        "\n",
        "-> list: includelist\n",
        "        * 40 objects\n",
        "        * 18 objects with dependencies found\n",
        "        * 29 dependencies found\n",
        "\n",
        "-> list: libextlist\n",
        "        * 3 objects\n",
        "        * 1 object with dependencies found\n",
        "        * 1 dependency found\n",
        "\n",
        "----------------------------\n",
        " Creating Makefile          \n",
        "----------------------------\n",
        "\n",
        "working    directory : /cluster/scratch_xl/public/vjan/cylinder_tests/700_1e-05_conjugate-True_34/.initialconditions\n",
        "executable directory : /cluster/scratch_xl/public/vjan/cylinder_tests/700_1e-05_conjugate-True_34\n",
        "executable name      : transatmbinitialDP\n",
        "\n",
        "Makefile created...\n",
        "\n",
        "\n",
        "----------------------------\n",
        " Building                   \n",
        "----------------------------\n",
        "\n",
        "change to subfolder: /cluster/scratch_xl/public/vjan/cylinder_tests/700_1e-05_conjugate-True_34/.initialconditions\n",
        "mpicxx -O3   -I\"../../../../../../home/mavt/vjan/gfort_O3/inc\" -c ../initialconditions.cxx -o ./initialconditionsDP.o"
       ]
      },
      {
       "output_type": "stream",
       "stream": "stdout",
       "text": [
        "\n"
       ]
      },
      {
       "output_type": "stream",
       "stream": "stdout",
       "text": [
        "\n",
        "mpicc  ../../../../../../home/mavt/vjan/gfort_O3/lib/userglobalDP.o ./initialconditionsDP.o ../../../../../../home/mavt/vjan/gfort_O3/lib/tmbinitDP.o    -L\"../../../../../../home/mavt/vjan/gfort_O3/lib\"  -ltransatmbDP -lDnspcgDP -llokiDP -lusrtoolsDP  -ltransatmbDP -lDnspcgDP -llokiDP -lusrtoolsDP -lstdc++ -L/cluster/home/mavt/vjan/petsc/petsc-3.2-p7_with_16_gfortran/lib  -lpetsc -lX11 -Wl,-rpath,/cluster/home/mavt/vjan/petsc/petsc-3.2-p7_with_16_gfortran/lib -lHYPRE -lmpi_cxx -lstdc++ -lpthread -lflapack -lfblas -L/cluster/apps/openmpi/1.6.1/x86_64/gcc_4.7.2/lib -L/cluster/apps/gcc/gcc472/lib64/gcc/x86_64-unknown-linux-gnu/4.7.2 -L/cluster/apps/gcc/gcc472/lib64 -ldl -lmpi -lopen-rte -lopen-pal -lrt -lnsl -lutil -lgcc_s -lpthread -lmpi_f90 -lmpi_f77 -lgfortran -lm -lgfortran -lm -lgfortran -lm -lgfortran -lm -lm -lm -lquadmath -lm -lmpi_cxx -lstdc++ -ldl -lmpi -lopen-rte -lopen-pal -lrt -lnsl -lutil -lgcc_s -lpthread -ldl  -L/cluster/home/mavt/vjan/petsc/petsc-3.2-p7_with_16_gfortran/lib  -lpetsc -lX11 -Wl,-rpath,/cluster/home/mavt/vjan/petsc/petsc-3.2-p7_with_16_gfortran/lib -lHYPRE -lmpi_cxx -lstdc++ -lpthread -lflapack -lfblas -L/cluster/apps/openmpi/1.6.1/x86_64/gcc_4.7.2/lib -L/cluster/apps/gcc/gcc472/lib64/gcc/x86_64-unknown-linux-gnu/4.7.2 -L/cluster/apps/gcc/gcc472/lib64 -ldl -lmpi -lopen-rte -lopen-pal -lrt -lnsl -lutil -lgcc_s -lpthread -lmpi_f90 -lmpi_f77 -lgfortran -lm -lgfortran -lm -lgfortran -lm -lgfortran -lm -lm -lm -lquadmath -lm -lmpi_cxx -lstdc++ -ldl -lmpi -lopen-rte -lopen-pal -lrt -lnsl -lutil -lgcc_s -lpthread -ldl  -lcantera  -o ../transatmbinitialDP\n"
       ]
      },
      {
       "output_type": "stream",
       "stream": "stdout",
       "text": [
        "\n",
        "\n",
        "done...\n",
        "\n",
        "make: Warning: File `../initialconditions.cxx' has modification time 1.4e+03 s in the future\n",
        "make: warning:  Clock skew detected.  Your build may be incomplete.\n",
        "===================================================\n",
        " Syncing Current Working Directory with Cluster \n",
        "===================================================\n",
        "bsub -n 1 -W 60 -R \"rusage[mem=1024]\" -J 700_1e-05_conjugate-True_34 -o std_out.log  mpirun ./transatmbinitialDP "
       ]
      },
      {
       "output_type": "stream",
       "stream": "stdout",
       "text": [
        "\n",
        "Job <51612496> is submitted to queue <pub.1h>."
       ]
      },
      {
       "output_type": "stream",
       "stream": "stdout",
       "text": [
        "\n",
        "MPI job.\n",
        "---"
       ]
      },
      {
       "output_type": "stream",
       "stream": "stdout",
       "text": [
        "\n",
        "- transatdir  =/cluster/home/mavt/vjan/gfort_O3\n",
        "- ccompiler   =mpicc\n",
        "- cppcompiler =mpicxx\n",
        "- linker      =mpicc\n",
        "- precision   =dp\n",
        "- mode        =64bit\n",
        "---\n",
        "\n",
        "Folder /cluster/scratch_xl/public/vjan/cylinder_tests/700_1e-05_conjugate-True_67/.initialconditions exists already...\n",
        "Creating folder /cluster/scratch_xl/public/vjan/cylinder_tests/700_1e-05_conjugate-True_67/RESULT\n",
        "Converting Cantera input file\n"
       ]
      },
      {
       "output_type": "stream",
       "stream": "stdout",
       "text": [
        "\n",
        "------------------\n",
        "library container:\n",
        "------------------\n",
        "\n",
        "library: libtransatmbDP.a\n",
        "-> contains 0 file objects:\n",
        "\n",
        "library: libDnspcgDP.a\n",
        "-> contains 0 file objects:\n",
        "\n",
        "library: liblokiDP.a\n",
        "-> contains 0 file objects:\n",
        "\n",
        "library: libusrtoolsDP.a\n",
        "-> contains 0 file objects:\n",
        "\n",
        "\n",
        "includes:\n",
        "-> contains 40 file objects:\n",
        "   -> 39 h-files\n",
        "   -> 1 h90-file\n",
        "\n"
       ]
      },
      {
       "output_type": "stream",
       "stream": "stdout",
       "text": [
        "\n",
        "--------------------------\n",
        "dependency summary:\n",
        "--------------------------\n",
        "creating all dependencies took 0.0519990921021 s\n",
        "\n",
        "\n",
        "-> list: sourcelist\n",
        "        * 0 objects\n",
        "        * 0 object with dependencies found\n",
        "        * 0 dependency found\n",
        "\n",
        "-> list: includelist\n",
        "        * 40 objects\n",
        "        * 18 objects with dependencies found\n",
        "        * 29 dependencies found\n",
        "\n",
        "-> list: libextlist\n",
        "        * 3 objects\n",
        "        * 1 object with dependencies found\n",
        "        * 1 dependency found\n",
        "\n",
        "----------------------------\n",
        " Creating Makefile          \n",
        "----------------------------\n",
        "\n",
        "working    directory : /cluster/scratch_xl/public/vjan/cylinder_tests/700_1e-05_conjugate-True_67/.initialconditions\n",
        "executable directory : /cluster/scratch_xl/public/vjan/cylinder_tests/700_1e-05_conjugate-True_67\n",
        "executable name      : transatmbinitialDP\n",
        "\n",
        "Makefile created...\n",
        "\n",
        "\n",
        "----------------------------\n",
        " Building                   \n",
        "----------------------------\n",
        "\n",
        "change to subfolder: /cluster/scratch_xl/public/vjan/cylinder_tests/700_1e-05_conjugate-True_67/.initialconditions\n",
        "mpicxx -O3   -I\"../../../../../../home/mavt/vjan/gfort_O3/inc\" -c ../initialconditions.cxx -o ./initialconditionsDP.o"
       ]
      },
      {
       "output_type": "stream",
       "stream": "stdout",
       "text": [
        "\n"
       ]
      },
      {
       "output_type": "stream",
       "stream": "stdout",
       "text": [
        "\n",
        "mpicc  ../../../../../../home/mavt/vjan/gfort_O3/lib/userglobalDP.o ./initialconditionsDP.o ../../../../../../home/mavt/vjan/gfort_O3/lib/tmbinitDP.o    -L\"../../../../../../home/mavt/vjan/gfort_O3/lib\"  -ltransatmbDP -lDnspcgDP -llokiDP -lusrtoolsDP  -ltransatmbDP -lDnspcgDP -llokiDP -lusrtoolsDP -lstdc++ -L/cluster/home/mavt/vjan/petsc/petsc-3.2-p7_with_16_gfortran/lib  -lpetsc -lX11 -Wl,-rpath,/cluster/home/mavt/vjan/petsc/petsc-3.2-p7_with_16_gfortran/lib -lHYPRE -lmpi_cxx -lstdc++ -lpthread -lflapack -lfblas -L/cluster/apps/openmpi/1.6.1/x86_64/gcc_4.7.2/lib -L/cluster/apps/gcc/gcc472/lib64/gcc/x86_64-unknown-linux-gnu/4.7.2 -L/cluster/apps/gcc/gcc472/lib64 -ldl -lmpi -lopen-rte -lopen-pal -lrt -lnsl -lutil -lgcc_s -lpthread -lmpi_f90 -lmpi_f77 -lgfortran -lm -lgfortran -lm -lgfortran -lm -lgfortran -lm -lm -lm -lquadmath -lm -lmpi_cxx -lstdc++ -ldl -lmpi -lopen-rte -lopen-pal -lrt -lnsl -lutil -lgcc_s -lpthread -ldl  -L/cluster/home/mavt/vjan/petsc/petsc-3.2-p7_with_16_gfortran/lib  -lpetsc -lX11 -Wl,-rpath,/cluster/home/mavt/vjan/petsc/petsc-3.2-p7_with_16_gfortran/lib -lHYPRE -lmpi_cxx -lstdc++ -lpthread -lflapack -lfblas -L/cluster/apps/openmpi/1.6.1/x86_64/gcc_4.7.2/lib -L/cluster/apps/gcc/gcc472/lib64/gcc/x86_64-unknown-linux-gnu/4.7.2 -L/cluster/apps/gcc/gcc472/lib64 -ldl -lmpi -lopen-rte -lopen-pal -lrt -lnsl -lutil -lgcc_s -lpthread -lmpi_f90 -lmpi_f77 -lgfortran -lm -lgfortran -lm -lgfortran -lm -lgfortran -lm -lm -lm -lquadmath -lm -lmpi_cxx -lstdc++ -ldl -lmpi -lopen-rte -lopen-pal -lrt -lnsl -lutil -lgcc_s -lpthread -ldl  -lcantera  -o ../transatmbinitialDP\n"
       ]
      },
      {
       "output_type": "stream",
       "stream": "stdout",
       "text": [
        "\n",
        "\n",
        "done...\n",
        "\n",
        "make: Warning: File `../initialconditions.cxx' has modification time 1.3e+03 s in the future\n",
        "make: warning:  Clock skew detected.  Your build may be incomplete.\n",
        "===================================================\n",
        " Syncing Current Working Directory with Cluster \n",
        "===================================================\n",
        "bsub -n 1 -W 60 -R \"rusage[mem=1024]\" -J 700_1e-05_conjugate-True_67 -o std_out.log  mpirun ./transatmbinitialDP "
       ]
      },
      {
       "output_type": "stream",
       "stream": "stdout",
       "text": [
        "\n",
        "Job <51612508> is submitted to queue <pub.1h>."
       ]
      },
      {
       "output_type": "stream",
       "stream": "stdout",
       "text": [
        "\n",
        "MPI job.\n",
        "---"
       ]
      },
      {
       "output_type": "stream",
       "stream": "stdout",
       "text": [
        "\n",
        "- transatdir  =/cluster/home/mavt/vjan/gfort_O3\n",
        "- ccompiler   =mpicc\n",
        "- cppcompiler =mpicxx\n",
        "- linker      =mpicc\n",
        "- precision   =dp\n",
        "- mode        =64bit\n",
        "---\n",
        "\n",
        "Folder /cluster/scratch_xl/public/vjan/cylinder_tests/700_1e-05_conjugate-True_100/.initialconditions exists already...\n",
        "Creating folder /cluster/scratch_xl/public/vjan/cylinder_tests/700_1e-05_conjugate-True_100/RESULT\n",
        "Converting Cantera input file\n"
       ]
      },
      {
       "output_type": "stream",
       "stream": "stdout",
       "text": [
        "\n",
        "------------------\n",
        "library container:\n",
        "------------------\n",
        "\n",
        "library: libtransatmbDP.a\n",
        "-> contains 0 file objects:\n",
        "\n",
        "library: libDnspcgDP.a\n",
        "-> contains 0 file objects:\n",
        "\n",
        "library: liblokiDP.a\n",
        "-> contains 0 file objects:\n",
        "\n",
        "library: libusrtoolsDP.a\n",
        "-> contains 0 file objects:\n",
        "\n",
        "\n",
        "includes:\n",
        "-> contains 40 file objects:\n",
        "   -> 39 h-files\n",
        "   -> 1 h90-file\n",
        "\n"
       ]
      },
      {
       "output_type": "stream",
       "stream": "stdout",
       "text": [
        "\n",
        "--------------------------\n",
        "dependency summary:\n",
        "--------------------------\n",
        "creating all dependencies took 0.0631349086761 s\n",
        "\n",
        "\n",
        "-> list: sourcelist\n",
        "        * 0 objects\n",
        "        * 0 object with dependencies found\n",
        "        * 0 dependency found\n",
        "\n",
        "-> list: includelist\n",
        "        * 40 objects\n",
        "        * 18 objects with dependencies found\n",
        "        * 29 dependencies found\n",
        "\n",
        "-> list: libextlist\n",
        "        * 3 objects\n",
        "        * 1 object with dependencies found\n",
        "        * 1 dependency found\n",
        "\n",
        "----------------------------\n",
        " Creating Makefile          \n",
        "----------------------------\n",
        "\n",
        "working    directory : /cluster/scratch_xl/public/vjan/cylinder_tests/700_1e-05_conjugate-True_100/.initialconditions\n",
        "executable directory : /cluster/scratch_xl/public/vjan/cylinder_tests/700_1e-05_conjugate-True_100\n",
        "executable name      : transatmbinitialDP\n",
        "\n",
        "Makefile created...\n",
        "\n",
        "\n",
        "----------------------------\n",
        " Building                   \n",
        "----------------------------\n",
        "\n",
        "change to subfolder: /cluster/scratch_xl/public/vjan/cylinder_tests/700_1e-05_conjugate-True_100/.initialconditions\n",
        "mpicxx -O3   -I\"../../../../../../home/mavt/vjan/gfort_O3/inc\" -c ../initialconditions.cxx -o ./initialconditionsDP.o"
       ]
      },
      {
       "output_type": "stream",
       "stream": "stdout",
       "text": [
        "\n"
       ]
      },
      {
       "output_type": "stream",
       "stream": "stdout",
       "text": [
        "\n",
        "mpicc  ../../../../../../home/mavt/vjan/gfort_O3/lib/userglobalDP.o ./initialconditionsDP.o ../../../../../../home/mavt/vjan/gfort_O3/lib/tmbinitDP.o    -L\"../../../../../../home/mavt/vjan/gfort_O3/lib\"  -ltransatmbDP -lDnspcgDP -llokiDP -lusrtoolsDP  -ltransatmbDP -lDnspcgDP -llokiDP -lusrtoolsDP -lstdc++ -L/cluster/home/mavt/vjan/petsc/petsc-3.2-p7_with_16_gfortran/lib  -lpetsc -lX11 -Wl,-rpath,/cluster/home/mavt/vjan/petsc/petsc-3.2-p7_with_16_gfortran/lib -lHYPRE -lmpi_cxx -lstdc++ -lpthread -lflapack -lfblas -L/cluster/apps/openmpi/1.6.1/x86_64/gcc_4.7.2/lib -L/cluster/apps/gcc/gcc472/lib64/gcc/x86_64-unknown-linux-gnu/4.7.2 -L/cluster/apps/gcc/gcc472/lib64 -ldl -lmpi -lopen-rte -lopen-pal -lrt -lnsl -lutil -lgcc_s -lpthread -lmpi_f90 -lmpi_f77 -lgfortran -lm -lgfortran -lm -lgfortran -lm -lgfortran -lm -lm -lm -lquadmath -lm -lmpi_cxx -lstdc++ -ldl -lmpi -lopen-rte -lopen-pal -lrt -lnsl -lutil -lgcc_s -lpthread -ldl  -L/cluster/home/mavt/vjan/petsc/petsc-3.2-p7_with_16_gfortran/lib  -lpetsc -lX11 -Wl,-rpath,/cluster/home/mavt/vjan/petsc/petsc-3.2-p7_with_16_gfortran/lib -lHYPRE -lmpi_cxx -lstdc++ -lpthread -lflapack -lfblas -L/cluster/apps/openmpi/1.6.1/x86_64/gcc_4.7.2/lib -L/cluster/apps/gcc/gcc472/lib64/gcc/x86_64-unknown-linux-gnu/4.7.2 -L/cluster/apps/gcc/gcc472/lib64 -ldl -lmpi -lopen-rte -lopen-pal -lrt -lnsl -lutil -lgcc_s -lpthread -lmpi_f90 -lmpi_f77 -lgfortran -lm -lgfortran -lm -lgfortran -lm -lgfortran -lm -lm -lm -lquadmath -lm -lmpi_cxx -lstdc++ -ldl -lmpi -lopen-rte -lopen-pal -lrt -lnsl -lutil -lgcc_s -lpthread -ldl  -lcantera  -o ../transatmbinitialDP\n"
       ]
      },
      {
       "output_type": "stream",
       "stream": "stdout",
       "text": [
        "\n",
        "\n",
        "done...\n",
        "\n",
        "make: Warning: File `../initialconditions.cxx' has modification time 1.3e+03 s in the future\n",
        "make: warning:  Clock skew detected.  Your build may be incomplete.\n",
        "===================================================\n",
        " Syncing Current Working Directory with Cluster \n",
        "===================================================\n",
        "bsub -n 1 -W 60 -R \"rusage[mem=1024]\" -J 700_1e-05_conjugate-True_100 -o std_out.log  mpirun ./transatmbinitialDP "
       ]
      },
      {
       "output_type": "stream",
       "stream": "stdout",
       "text": [
        "\n",
        "Job <51612511> is submitted to queue <pub.1h>."
       ]
      },
      {
       "output_type": "stream",
       "stream": "stdout",
       "text": [
        "\n",
        "MPI job.\n",
        "---"
       ]
      },
      {
       "output_type": "stream",
       "stream": "stdout",
       "text": [
        "\n",
        "- transatdir  =/cluster/home/mavt/vjan/gfort_O3\n",
        "- ccompiler   =mpicc\n",
        "- cppcompiler =mpicxx\n",
        "- linker      =mpicc\n",
        "- precision   =dp\n",
        "- mode        =64bit\n",
        "---\n",
        "\n",
        "Folder /cluster/scratch_xl/public/vjan/cylinder_tests/700_1e-05_conjugate-False_34/.initialconditions exists already...\n",
        "Creating folder /cluster/scratch_xl/public/vjan/cylinder_tests/700_1e-05_conjugate-False_34/RESULT\n",
        "Converting Cantera input file\n"
       ]
      },
      {
       "output_type": "stream",
       "stream": "stdout",
       "text": [
        "\n",
        "------------------\n",
        "library container:\n",
        "------------------\n",
        "\n",
        "library: libtransatmbDP.a\n",
        "-> contains 0 file objects:\n",
        "\n",
        "library: libDnspcgDP.a\n",
        "-> contains 0 file objects:\n",
        "\n",
        "library: liblokiDP.a\n",
        "-> contains 0 file objects:\n",
        "\n",
        "library: libusrtoolsDP.a\n",
        "-> contains 0 file objects:\n",
        "\n",
        "\n",
        "includes:\n",
        "-> contains 40 file objects:\n",
        "   -> 39 h-files\n",
        "   -> 1 h90-file\n",
        "\n"
       ]
      },
      {
       "output_type": "stream",
       "stream": "stdout",
       "text": [
        "\n",
        "--------------------------\n",
        "dependency summary:\n",
        "--------------------------\n",
        "creating all dependencies took 0.0528221130371 s\n",
        "\n",
        "\n",
        "-> list: sourcelist\n",
        "        * 0 objects\n",
        "        * 0 object with dependencies found\n",
        "        * 0 dependency found\n",
        "\n",
        "-> list: includelist\n",
        "        * 40 objects\n",
        "        * 18 objects with dependencies found\n",
        "        * 29 dependencies found\n",
        "\n",
        "-> list: libextlist\n",
        "        * 3 objects\n",
        "        * 1 object with dependencies found\n",
        "        * 1 dependency found\n",
        "\n",
        "----------------------------\n",
        " Creating Makefile          \n",
        "----------------------------\n",
        "\n",
        "working    directory : /cluster/scratch_xl/public/vjan/cylinder_tests/700_1e-05_conjugate-False_34/.initialconditions\n",
        "executable directory : /cluster/scratch_xl/public/vjan/cylinder_tests/700_1e-05_conjugate-False_34\n",
        "executable name      : transatmbinitialDP\n",
        "\n",
        "Makefile created...\n",
        "\n",
        "\n",
        "----------------------------\n",
        " Building                   \n",
        "----------------------------\n",
        "\n",
        "change to subfolder: /cluster/scratch_xl/public/vjan/cylinder_tests/700_1e-05_conjugate-False_34/.initialconditions\n",
        "mpicxx -O3   -I\"../../../../../../home/mavt/vjan/gfort_O3/inc\" -c ../initialconditions.cxx -o ./initialconditionsDP.o"
       ]
      },
      {
       "output_type": "stream",
       "stream": "stdout",
       "text": [
        "\n"
       ]
      },
      {
       "output_type": "stream",
       "stream": "stdout",
       "text": [
        "\n",
        "mpicc  ../../../../../../home/mavt/vjan/gfort_O3/lib/userglobalDP.o ./initialconditionsDP.o ../../../../../../home/mavt/vjan/gfort_O3/lib/tmbinitDP.o    -L\"../../../../../../home/mavt/vjan/gfort_O3/lib\"  -ltransatmbDP -lDnspcgDP -llokiDP -lusrtoolsDP  -ltransatmbDP -lDnspcgDP -llokiDP -lusrtoolsDP -lstdc++ -L/cluster/home/mavt/vjan/petsc/petsc-3.2-p7_with_16_gfortran/lib  -lpetsc -lX11 -Wl,-rpath,/cluster/home/mavt/vjan/petsc/petsc-3.2-p7_with_16_gfortran/lib -lHYPRE -lmpi_cxx -lstdc++ -lpthread -lflapack -lfblas -L/cluster/apps/openmpi/1.6.1/x86_64/gcc_4.7.2/lib -L/cluster/apps/gcc/gcc472/lib64/gcc/x86_64-unknown-linux-gnu/4.7.2 -L/cluster/apps/gcc/gcc472/lib64 -ldl -lmpi -lopen-rte -lopen-pal -lrt -lnsl -lutil -lgcc_s -lpthread -lmpi_f90 -lmpi_f77 -lgfortran -lm -lgfortran -lm -lgfortran -lm -lgfortran -lm -lm -lm -lquadmath -lm -lmpi_cxx -lstdc++ -ldl -lmpi -lopen-rte -lopen-pal -lrt -lnsl -lutil -lgcc_s -lpthread -ldl  -L/cluster/home/mavt/vjan/petsc/petsc-3.2-p7_with_16_gfortran/lib  -lpetsc -lX11 -Wl,-rpath,/cluster/home/mavt/vjan/petsc/petsc-3.2-p7_with_16_gfortran/lib -lHYPRE -lmpi_cxx -lstdc++ -lpthread -lflapack -lfblas -L/cluster/apps/openmpi/1.6.1/x86_64/gcc_4.7.2/lib -L/cluster/apps/gcc/gcc472/lib64/gcc/x86_64-unknown-linux-gnu/4.7.2 -L/cluster/apps/gcc/gcc472/lib64 -ldl -lmpi -lopen-rte -lopen-pal -lrt -lnsl -lutil -lgcc_s -lpthread -lmpi_f90 -lmpi_f77 -lgfortran -lm -lgfortran -lm -lgfortran -lm -lgfortran -lm -lm -lm -lquadmath -lm -lmpi_cxx -lstdc++ -ldl -lmpi -lopen-rte -lopen-pal -lrt -lnsl -lutil -lgcc_s -lpthread -ldl  -lcantera  -o ../transatmbinitialDP\n"
       ]
      },
      {
       "output_type": "stream",
       "stream": "stdout",
       "text": [
        "\n",
        "\n",
        "done...\n",
        "\n",
        "make: Warning: File `../initialconditions.cxx' has modification time 1.3e+03 s in the future\n",
        "make: warning:  Clock skew detected.  Your build may be incomplete.\n",
        "===================================================\n",
        " Syncing Current Working Directory with Cluster \n",
        "===================================================\n",
        "bsub -n 1 -W 60 -R \"rusage[mem=1024]\" -J 700_1e-05_conjugate-False_34 -o std_out.log  mpirun ./transatmbinitialDP "
       ]
      },
      {
       "output_type": "stream",
       "stream": "stdout",
       "text": [
        "\n",
        "Job <51612514> is submitted to queue <pub.1h>."
       ]
      },
      {
       "output_type": "stream",
       "stream": "stdout",
       "text": [
        "\n",
        "MPI job.\n",
        "---"
       ]
      },
      {
       "output_type": "stream",
       "stream": "stdout",
       "text": [
        "\n",
        "- transatdir  =/cluster/home/mavt/vjan/gfort_O3\n",
        "- ccompiler   =mpicc\n",
        "- cppcompiler =mpicxx\n",
        "- linker      =mpicc\n",
        "- precision   =dp\n",
        "- mode        =64bit\n",
        "---\n",
        "\n",
        "Folder /cluster/scratch_xl/public/vjan/cylinder_tests/700_1e-05_conjugate-False_67/.initialconditions exists already...\n",
        "Creating folder /cluster/scratch_xl/public/vjan/cylinder_tests/700_1e-05_conjugate-False_67/RESULT\n",
        "Converting Cantera input file\n"
       ]
      },
      {
       "output_type": "stream",
       "stream": "stdout",
       "text": [
        "\n",
        "------------------\n",
        "library container:\n",
        "------------------\n",
        "\n",
        "library: libtransatmbDP.a\n",
        "-> contains 0 file objects:\n",
        "\n",
        "library: libDnspcgDP.a\n",
        "-> contains 0 file objects:\n",
        "\n",
        "library: liblokiDP.a\n",
        "-> contains 0 file objects:\n",
        "\n",
        "library: libusrtoolsDP.a\n",
        "-> contains 0 file objects:\n",
        "\n",
        "\n",
        "includes:\n",
        "-> contains 40 file objects:\n",
        "   -> 39 h-files\n",
        "   -> 1 h90-file\n",
        "\n",
        "\n",
        "--------------------------\n",
        "dependency summary:\n",
        "--------------------------\n",
        "creating all dependencies took 0.0438868999481 s\n",
        "\n",
        "\n",
        "-> list: sourcelist\n",
        "        * 0 objects\n",
        "        * 0 object with dependencies found\n",
        "        * 0 dependency found\n",
        "\n",
        "-> list: includelist\n",
        "        * 40 objects\n",
        "        * 18 objects with dependencies found\n",
        "        * 29 dependencies found"
       ]
      },
      {
       "output_type": "stream",
       "stream": "stdout",
       "text": [
        "\n",
        "\n",
        "-> list: libextlist\n",
        "        * 3 objects\n",
        "        * 1 object with dependencies found\n",
        "        * 1 dependency found\n",
        "\n",
        "----------------------------\n",
        " Creating Makefile          \n",
        "----------------------------\n",
        "\n",
        "working    directory : /cluster/scratch_xl/public/vjan/cylinder_tests/700_1e-05_conjugate-False_67/.initialconditions\n",
        "executable directory : /cluster/scratch_xl/public/vjan/cylinder_tests/700_1e-05_conjugate-False_67\n",
        "executable name      : transatmbinitialDP\n",
        "\n",
        "Makefile created...\n",
        "\n",
        "\n",
        "----------------------------\n",
        " Building                   \n",
        "----------------------------\n",
        "\n",
        "change to subfolder: /cluster/scratch_xl/public/vjan/cylinder_tests/700_1e-05_conjugate-False_67/.initialconditions\n",
        "mpicxx -O3   -I\"../../../../../../home/mavt/vjan/gfort_O3/inc\" -c ../initialconditions.cxx -o ./initialconditionsDP.o\n"
       ]
      },
      {
       "output_type": "stream",
       "stream": "stdout",
       "text": [
        "\n",
        "mpicc  ../../../../../../home/mavt/vjan/gfort_O3/lib/userglobalDP.o ./initialconditionsDP.o ../../../../../../home/mavt/vjan/gfort_O3/lib/tmbinitDP.o    -L\"../../../../../../home/mavt/vjan/gfort_O3/lib\"  -ltransatmbDP -lDnspcgDP -llokiDP -lusrtoolsDP  -ltransatmbDP -lDnspcgDP -llokiDP -lusrtoolsDP -lstdc++ -L/cluster/home/mavt/vjan/petsc/petsc-3.2-p7_with_16_gfortran/lib  -lpetsc -lX11 -Wl,-rpath,/cluster/home/mavt/vjan/petsc/petsc-3.2-p7_with_16_gfortran/lib -lHYPRE -lmpi_cxx -lstdc++ -lpthread -lflapack -lfblas -L/cluster/apps/openmpi/1.6.1/x86_64/gcc_4.7.2/lib -L/cluster/apps/gcc/gcc472/lib64/gcc/x86_64-unknown-linux-gnu/4.7.2 -L/cluster/apps/gcc/gcc472/lib64 -ldl -lmpi -lopen-rte -lopen-pal -lrt -lnsl -lutil -lgcc_s -lpthread -lmpi_f90 -lmpi_f77 -lgfortran -lm -lgfortran -lm -lgfortran -lm -lgfortran -lm -lm -lm -lquadmath -lm -lmpi_cxx -lstdc++ -ldl -lmpi -lopen-rte -lopen-pal -lrt -lnsl -lutil -lgcc_s -lpthread -ldl  -L/cluster/home/mavt/vjan/petsc/petsc-3.2-p7_with_16_gfortran/lib  -lpetsc -lX11 -Wl,-rpath,/cluster/home/mavt/vjan/petsc/petsc-3.2-p7_with_16_gfortran/lib -lHYPRE -lmpi_cxx -lstdc++ -lpthread -lflapack -lfblas -L/cluster/apps/openmpi/1.6.1/x86_64/gcc_4.7.2/lib -L/cluster/apps/gcc/gcc472/lib64/gcc/x86_64-unknown-linux-gnu/4.7.2 -L/cluster/apps/gcc/gcc472/lib64 -ldl -lmpi -lopen-rte -lopen-pal -lrt -lnsl -lutil -lgcc_s -lpthread -lmpi_f90 -lmpi_f77 -lgfortran -lm -lgfortran -lm -lgfortran -lm -lgfortran -lm -lm -lm -lquadmath -lm -lmpi_cxx -lstdc++ -ldl -lmpi -lopen-rte -lopen-pal -lrt -lnsl -lutil -lgcc_s -lpthread -ldl  -lcantera  -o ../transatmbinitialDP\n"
       ]
      },
      {
       "output_type": "stream",
       "stream": "stdout",
       "text": [
        "\n",
        "\n",
        "done...\n",
        "\n",
        "make: Warning: File `../initialconditions.cxx' has modification time 1.2e+03 s in the future\n",
        "make: warning:  Clock skew detected.  Your build may be incomplete.\n",
        "===================================================\n",
        " Syncing Current Working Directory with Cluster \n",
        "===================================================\n",
        "bsub -n 1 -W 60 -R \"rusage[mem=1024]\" -J 700_1e-05_conjugate-False_67 -o std_out.log  mpirun ./transatmbinitialDP "
       ]
      },
      {
       "output_type": "stream",
       "stream": "stdout",
       "text": [
        "\n",
        "Job <51612548> is submitted to queue <pub.1h>."
       ]
      },
      {
       "output_type": "stream",
       "stream": "stdout",
       "text": [
        "\n",
        "MPI job.\n",
        "---"
       ]
      },
      {
       "output_type": "stream",
       "stream": "stdout",
       "text": [
        "\n",
        "- transatdir  =/cluster/home/mavt/vjan/gfort_O3\n",
        "- ccompiler   =mpicc\n",
        "- cppcompiler =mpicxx\n",
        "- linker      =mpicc\n",
        "- precision   =dp\n",
        "- mode        =64bit\n",
        "---\n",
        "\n",
        "Folder /cluster/scratch_xl/public/vjan/cylinder_tests/700_1e-05_conjugate-False_100/.initialconditions exists already...\n",
        "Creating folder /cluster/scratch_xl/public/vjan/cylinder_tests/700_1e-05_conjugate-False_100/RESULT\n",
        "Converting Cantera input file\n"
       ]
      },
      {
       "output_type": "stream",
       "stream": "stdout",
       "text": [
        "\n",
        "------------------\n",
        "library container:\n",
        "------------------\n",
        "\n",
        "library: libtransatmbDP.a\n",
        "-> contains 0 file objects:\n",
        "\n",
        "library: libDnspcgDP.a\n",
        "-> contains 0 file objects:\n",
        "\n",
        "library: liblokiDP.a\n",
        "-> contains 0 file objects:\n",
        "\n",
        "library: libusrtoolsDP.a\n",
        "-> contains 0 file objects:\n",
        "\n",
        "\n",
        "includes:\n",
        "-> contains 40 file objects:\n",
        "   -> 39 h-files\n",
        "   -> 1 h90-file\n",
        "\n"
       ]
      },
      {
       "output_type": "stream",
       "stream": "stdout",
       "text": [
        "\n",
        "--------------------------\n",
        "dependency summary:\n",
        "--------------------------\n",
        "creating all dependencies took 0.0621631145477 s\n",
        "\n",
        "\n",
        "-> list: sourcelist\n",
        "        * 0 objects\n",
        "        * 0 object with dependencies found\n",
        "        * 0 dependency found\n",
        "\n",
        "-> list: includelist\n",
        "        * 40 objects\n",
        "        * 18 objects with dependencies found\n",
        "        * 29 dependencies found\n",
        "\n",
        "-> list: libextlist\n",
        "        * 3 objects\n",
        "        * 1 object with dependencies found\n",
        "        * 1 dependency found\n",
        "\n",
        "----------------------------\n",
        " Creating Makefile          \n",
        "----------------------------\n",
        "\n",
        "working    directory : /cluster/scratch_xl/public/vjan/cylinder_tests/700_1e-05_conjugate-False_100/.initialconditions\n",
        "executable directory : /cluster/scratch_xl/public/vjan/cylinder_tests/700_1e-05_conjugate-False_100\n",
        "executable name      : transatmbinitialDP\n",
        "\n",
        "Makefile created...\n",
        "\n",
        "\n",
        "----------------------------\n",
        " Building                   \n",
        "----------------------------\n",
        "\n",
        "change to subfolder: /cluster/scratch_xl/public/vjan/cylinder_tests/700_1e-05_conjugate-False_100/.initialconditions\n",
        "mpicxx -O3   -I\"../../../../../../home/mavt/vjan/gfort_O3/inc\" -c ../initialconditions.cxx -o ./initialconditionsDP.o"
       ]
      },
      {
       "output_type": "stream",
       "stream": "stdout",
       "text": [
        "\n"
       ]
      },
      {
       "output_type": "stream",
       "stream": "stdout",
       "text": [
        "\n",
        "mpicc  ../../../../../../home/mavt/vjan/gfort_O3/lib/userglobalDP.o ./initialconditionsDP.o ../../../../../../home/mavt/vjan/gfort_O3/lib/tmbinitDP.o    -L\"../../../../../../home/mavt/vjan/gfort_O3/lib\"  -ltransatmbDP -lDnspcgDP -llokiDP -lusrtoolsDP  -ltransatmbDP -lDnspcgDP -llokiDP -lusrtoolsDP -lstdc++ -L/cluster/home/mavt/vjan/petsc/petsc-3.2-p7_with_16_gfortran/lib  -lpetsc -lX11 -Wl,-rpath,/cluster/home/mavt/vjan/petsc/petsc-3.2-p7_with_16_gfortran/lib -lHYPRE -lmpi_cxx -lstdc++ -lpthread -lflapack -lfblas -L/cluster/apps/openmpi/1.6.1/x86_64/gcc_4.7.2/lib -L/cluster/apps/gcc/gcc472/lib64/gcc/x86_64-unknown-linux-gnu/4.7.2 -L/cluster/apps/gcc/gcc472/lib64 -ldl -lmpi -lopen-rte -lopen-pal -lrt -lnsl -lutil -lgcc_s -lpthread -lmpi_f90 -lmpi_f77 -lgfortran -lm -lgfortran -lm -lgfortran -lm -lgfortran -lm -lm -lm -lquadmath -lm -lmpi_cxx -lstdc++ -ldl -lmpi -lopen-rte -lopen-pal -lrt -lnsl -lutil -lgcc_s -lpthread -ldl  -L/cluster/home/mavt/vjan/petsc/petsc-3.2-p7_with_16_gfortran/lib  -lpetsc -lX11 -Wl,-rpath,/cluster/home/mavt/vjan/petsc/petsc-3.2-p7_with_16_gfortran/lib -lHYPRE -lmpi_cxx -lstdc++ -lpthread -lflapack -lfblas -L/cluster/apps/openmpi/1.6.1/x86_64/gcc_4.7.2/lib -L/cluster/apps/gcc/gcc472/lib64/gcc/x86_64-unknown-linux-gnu/4.7.2 -L/cluster/apps/gcc/gcc472/lib64 -ldl -lmpi -lopen-rte -lopen-pal -lrt -lnsl -lutil -lgcc_s -lpthread -lmpi_f90 -lmpi_f77 -lgfortran -lm -lgfortran -lm -lgfortran -lm -lgfortran -lm -lm -lm -lquadmath -lm -lmpi_cxx -lstdc++ -ldl -lmpi -lopen-rte -lopen-pal -lrt -lnsl -lutil -lgcc_s -lpthread -ldl  -lcantera  -o ../transatmbinitialDP\n"
       ]
      },
      {
       "output_type": "stream",
       "stream": "stdout",
       "text": [
        "\n",
        "\n",
        "done...\n",
        "\n",
        "make: Warning: File `../initialconditions.cxx' has modification time 1.2e+03 s in the future\n",
        "make: warning:  Clock skew detected.  Your build may be incomplete.\n",
        "===================================================\n",
        " Syncing Current Working Directory with Cluster \n",
        "===================================================\n",
        "bsub -n 1 -W 60 -R \"rusage[mem=1024]\" -J 700_1e-05_conjugate-False_100 -o std_out.log  mpirun ./transatmbinitialDP "
       ]
      },
      {
       "output_type": "stream",
       "stream": "stdout",
       "text": [
        "\n",
        "Job <51612552> is submitted to queue <pub.1h>."
       ]
      },
      {
       "output_type": "stream",
       "stream": "stdout",
       "text": [
        "\n",
        "MPI job.\n",
        "---"
       ]
      },
      {
       "output_type": "stream",
       "stream": "stdout",
       "text": [
        "\n",
        "- transatdir  =/cluster/home/mavt/vjan/gfort_O3\n",
        "- ccompiler   =mpicc\n",
        "- cppcompiler =mpicxx\n",
        "- linker      =mpicc\n",
        "- precision   =dp\n",
        "- mode        =64bit\n",
        "---\n",
        "\n",
        "Folder /cluster/scratch_xl/public/vjan/cylinder_tests/700_2e-05_conjugate-True_34/.initialconditions exists already...\n",
        "Creating folder /cluster/scratch_xl/public/vjan/cylinder_tests/700_2e-05_conjugate-True_34/RESULT\n",
        "Converting Cantera input file\n"
       ]
      },
      {
       "output_type": "stream",
       "stream": "stdout",
       "text": [
        "\n",
        "------------------\n",
        "library container:\n",
        "------------------\n",
        "\n",
        "library: libtransatmbDP.a\n",
        "-> contains 0 file objects:\n",
        "\n",
        "library: libDnspcgDP.a\n",
        "-> contains 0 file objects:\n",
        "\n",
        "library: liblokiDP.a\n",
        "-> contains 0 file objects:\n",
        "\n",
        "library: libusrtoolsDP.a\n",
        "-> contains 0 file objects:\n",
        "\n",
        "\n",
        "includes:\n",
        "-> contains 40 file objects:\n",
        "   -> 39 h-files\n",
        "   -> 1 h90-file\n",
        "\n"
       ]
      },
      {
       "output_type": "stream",
       "stream": "stdout",
       "text": [
        "\n",
        "--------------------------\n",
        "dependency summary:\n",
        "--------------------------\n",
        "creating all dependencies took 0.0713500976562 s\n",
        "\n",
        "\n",
        "-> list: sourcelist\n",
        "        * 0 objects\n",
        "        * 0 object with dependencies found\n",
        "        * 0 dependency found\n",
        "\n",
        "-> list: includelist\n",
        "        * 40 objects\n",
        "        * 18 objects with dependencies found\n",
        "        * 29 dependencies found\n",
        "\n",
        "-> list: libextlist\n",
        "        * 3 objects\n",
        "        * 1 object with dependencies found\n",
        "        * 1 dependency found\n",
        "\n",
        "----------------------------\n",
        " Creating Makefile          \n",
        "----------------------------\n",
        "\n",
        "working    directory : /cluster/scratch_xl/public/vjan/cylinder_tests/700_2e-05_conjugate-True_34/.initialconditions\n",
        "executable directory : /cluster/scratch_xl/public/vjan/cylinder_tests/700_2e-05_conjugate-True_34\n",
        "executable name      : transatmbinitialDP\n",
        "\n",
        "Makefile created...\n",
        "\n",
        "\n",
        "----------------------------\n",
        " Building                   \n",
        "----------------------------\n",
        "\n",
        "change to subfolder: /cluster/scratch_xl/public/vjan/cylinder_tests/700_2e-05_conjugate-True_34/.initialconditions\n",
        "mpicxx -O3   -I\"../../../../../../home/mavt/vjan/gfort_O3/inc\" -c ../initialconditions.cxx -o ./initialconditionsDP.o"
       ]
      },
      {
       "output_type": "stream",
       "stream": "stdout",
       "text": [
        "\n"
       ]
      },
      {
       "output_type": "stream",
       "stream": "stdout",
       "text": [
        "\n",
        "mpicc  ../../../../../../home/mavt/vjan/gfort_O3/lib/userglobalDP.o ./initialconditionsDP.o ../../../../../../home/mavt/vjan/gfort_O3/lib/tmbinitDP.o    -L\"../../../../../../home/mavt/vjan/gfort_O3/lib\"  -ltransatmbDP -lDnspcgDP -llokiDP -lusrtoolsDP  -ltransatmbDP -lDnspcgDP -llokiDP -lusrtoolsDP -lstdc++ -L/cluster/home/mavt/vjan/petsc/petsc-3.2-p7_with_16_gfortran/lib  -lpetsc -lX11 -Wl,-rpath,/cluster/home/mavt/vjan/petsc/petsc-3.2-p7_with_16_gfortran/lib -lHYPRE -lmpi_cxx -lstdc++ -lpthread -lflapack -lfblas -L/cluster/apps/openmpi/1.6.1/x86_64/gcc_4.7.2/lib -L/cluster/apps/gcc/gcc472/lib64/gcc/x86_64-unknown-linux-gnu/4.7.2 -L/cluster/apps/gcc/gcc472/lib64 -ldl -lmpi -lopen-rte -lopen-pal -lrt -lnsl -lutil -lgcc_s -lpthread -lmpi_f90 -lmpi_f77 -lgfortran -lm -lgfortran -lm -lgfortran -lm -lgfortran -lm -lm -lm -lquadmath -lm -lmpi_cxx -lstdc++ -ldl -lmpi -lopen-rte -lopen-pal -lrt -lnsl -lutil -lgcc_s -lpthread -ldl  -L/cluster/home/mavt/vjan/petsc/petsc-3.2-p7_with_16_gfortran/lib  -lpetsc -lX11 -Wl,-rpath,/cluster/home/mavt/vjan/petsc/petsc-3.2-p7_with_16_gfortran/lib -lHYPRE -lmpi_cxx -lstdc++ -lpthread -lflapack -lfblas -L/cluster/apps/openmpi/1.6.1/x86_64/gcc_4.7.2/lib -L/cluster/apps/gcc/gcc472/lib64/gcc/x86_64-unknown-linux-gnu/4.7.2 -L/cluster/apps/gcc/gcc472/lib64 -ldl -lmpi -lopen-rte -lopen-pal -lrt -lnsl -lutil -lgcc_s -lpthread -lmpi_f90 -lmpi_f77 -lgfortran -lm -lgfortran -lm -lgfortran -lm -lgfortran -lm -lm -lm -lquadmath -lm -lmpi_cxx -lstdc++ -ldl -lmpi -lopen-rte -lopen-pal -lrt -lnsl -lutil -lgcc_s -lpthread -ldl  -lcantera  -o ../transatmbinitialDP\n"
       ]
      },
      {
       "output_type": "stream",
       "stream": "stdout",
       "text": [
        "\n",
        "\n",
        "done...\n",
        "\n",
        "make: Warning: File `../initialconditions.cxx' has modification time 1.1e+03 s in the future\n",
        "make: warning:  Clock skew detected.  Your build may be incomplete.\n",
        "===================================================\n",
        " Syncing Current Working Directory with Cluster \n",
        "===================================================\n",
        "bsub -n 1 -W 60 -R \"rusage[mem=1024]\" -J 700_2e-05_conjugate-True_34 -o std_out.log  mpirun ./transatmbinitialDP "
       ]
      },
      {
       "output_type": "stream",
       "stream": "stdout",
       "text": [
        "\n",
        "Job <51612558> is submitted to queue <pub.1h>."
       ]
      },
      {
       "output_type": "stream",
       "stream": "stdout",
       "text": [
        "\n",
        "MPI job.\n",
        "---"
       ]
      },
      {
       "output_type": "stream",
       "stream": "stdout",
       "text": [
        "\n",
        "- transatdir  =/cluster/home/mavt/vjan/gfort_O3\n",
        "- ccompiler   =mpicc\n",
        "- cppcompiler =mpicxx\n",
        "- linker      =mpicc\n",
        "- precision   =dp\n",
        "- mode        =64bit\n",
        "---\n",
        "\n",
        "Folder /cluster/scratch_xl/public/vjan/cylinder_tests/700_2e-05_conjugate-True_67/.initialconditions exists already...\n",
        "Creating folder /cluster/scratch_xl/public/vjan/cylinder_tests/700_2e-05_conjugate-True_67/RESULT\n",
        "Converting Cantera input file\n"
       ]
      },
      {
       "output_type": "stream",
       "stream": "stdout",
       "text": [
        "\n",
        "------------------\n",
        "library container:\n",
        "------------------\n",
        "\n",
        "library: libtransatmbDP.a\n",
        "-> contains 0 file objects:\n",
        "\n",
        "library: libDnspcgDP.a\n",
        "-> contains 0 file objects:\n",
        "\n",
        "library: liblokiDP.a\n",
        "-> contains 0 file objects:\n",
        "\n",
        "library: libusrtoolsDP.a\n",
        "-> contains 0 file objects:\n",
        "\n",
        "\n",
        "includes:\n",
        "-> contains 40 file objects:\n",
        "   -> 39 h-files\n",
        "   -> 1 h90-file\n",
        "\n",
        "\n",
        "--------------------------\n",
        "dependency summary:\n",
        "--------------------------\n",
        "creating all dependencies took 0.0435638427734 s\n",
        "\n",
        "\n",
        "-> list: sourcelist\n",
        "        * 0 objects\n",
        "        * 0 object with dependencies found\n",
        "        * 0 dependency found\n",
        "\n",
        "-> list: includelist\n",
        "        * 40 objects\n",
        "        * 18 objects with dependencies found\n",
        "        * 29 dependencies found\n",
        "\n",
        "-> list: libextlist\n",
        "        * 3 objects\n",
        "        * 1 object with dependencies found\n",
        "        * 1 dependency found\n",
        "\n",
        "----------------------------\n",
        " Creating Makefile          \n",
        "----------------------------\n",
        "\n",
        "working    directory : /cluster/scratch_xl/public/vjan/cylinder_tests/700_2e-05_conjugate-True_67/.initialconditions\n",
        "executable directory : /cluster/scratch_xl/public/vjan/cylinder_tests/700_2e-05_conjugate-True_67\n",
        "executable name      : transatmbinitialDP"
       ]
      },
      {
       "output_type": "stream",
       "stream": "stdout",
       "text": [
        "\n",
        "\n",
        "Makefile created...\n",
        "\n",
        "\n",
        "----------------------------\n",
        " Building                   \n",
        "----------------------------\n",
        "\n",
        "change to subfolder: /cluster/scratch_xl/public/vjan/cylinder_tests/700_2e-05_conjugate-True_67/.initialconditions\n",
        "mpicxx -O3   -I\"../../../../../../home/mavt/vjan/gfort_O3/inc\" -c ../initialconditions.cxx -o ./initialconditionsDP.o\n"
       ]
      },
      {
       "output_type": "stream",
       "stream": "stdout",
       "text": [
        "\n",
        "mpicc  ../../../../../../home/mavt/vjan/gfort_O3/lib/userglobalDP.o ./initialconditionsDP.o ../../../../../../home/mavt/vjan/gfort_O3/lib/tmbinitDP.o    -L\"../../../../../../home/mavt/vjan/gfort_O3/lib\"  -ltransatmbDP -lDnspcgDP -llokiDP -lusrtoolsDP  -ltransatmbDP -lDnspcgDP -llokiDP -lusrtoolsDP -lstdc++ -L/cluster/home/mavt/vjan/petsc/petsc-3.2-p7_with_16_gfortran/lib  -lpetsc -lX11 -Wl,-rpath,/cluster/home/mavt/vjan/petsc/petsc-3.2-p7_with_16_gfortran/lib -lHYPRE -lmpi_cxx -lstdc++ -lpthread -lflapack -lfblas -L/cluster/apps/openmpi/1.6.1/x86_64/gcc_4.7.2/lib -L/cluster/apps/gcc/gcc472/lib64/gcc/x86_64-unknown-linux-gnu/4.7.2 -L/cluster/apps/gcc/gcc472/lib64 -ldl -lmpi -lopen-rte -lopen-pal -lrt -lnsl -lutil -lgcc_s -lpthread -lmpi_f90 -lmpi_f77 -lgfortran -lm -lgfortran -lm -lgfortran -lm -lgfortran -lm -lm -lm -lquadmath -lm -lmpi_cxx -lstdc++ -ldl -lmpi -lopen-rte -lopen-pal -lrt -lnsl -lutil -lgcc_s -lpthread -ldl  -L/cluster/home/mavt/vjan/petsc/petsc-3.2-p7_with_16_gfortran/lib  -lpetsc -lX11 -Wl,-rpath,/cluster/home/mavt/vjan/petsc/petsc-3.2-p7_with_16_gfortran/lib -lHYPRE -lmpi_cxx -lstdc++ -lpthread -lflapack -lfblas -L/cluster/apps/openmpi/1.6.1/x86_64/gcc_4.7.2/lib -L/cluster/apps/gcc/gcc472/lib64/gcc/x86_64-unknown-linux-gnu/4.7.2 -L/cluster/apps/gcc/gcc472/lib64 -ldl -lmpi -lopen-rte -lopen-pal -lrt -lnsl -lutil -lgcc_s -lpthread -lmpi_f90 -lmpi_f77 -lgfortran -lm -lgfortran -lm -lgfortran -lm -lgfortran -lm -lm -lm -lquadmath -lm -lmpi_cxx -lstdc++ -ldl -lmpi -lopen-rte -lopen-pal -lrt -lnsl -lutil -lgcc_s -lpthread -ldl  -lcantera  -o ../transatmbinitialDP\n"
       ]
      },
      {
       "output_type": "stream",
       "stream": "stdout",
       "text": [
        "\n",
        "\n",
        "done...\n",
        "\n",
        "make: Warning: File `../initialconditions.cxx' has modification time 1.1e+03 s in the future\n",
        "make: warning:  Clock skew detected.  Your build may be incomplete.\n",
        "===================================================\n",
        " Syncing Current Working Directory with Cluster \n",
        "===================================================\n",
        "bsub -n 1 -W 60 -R \"rusage[mem=1024]\" -J 700_2e-05_conjugate-True_67 -o std_out.log  mpirun ./transatmbinitialDP "
       ]
      },
      {
       "output_type": "stream",
       "stream": "stdout",
       "text": [
        "\n",
        "Job <51612565> is submitted to queue <pub.1h>."
       ]
      },
      {
       "output_type": "stream",
       "stream": "stdout",
       "text": [
        "\n",
        "MPI job.\n",
        "---"
       ]
      },
      {
       "output_type": "stream",
       "stream": "stdout",
       "text": [
        "\n",
        "- transatdir  =/cluster/home/mavt/vjan/gfort_O3\n",
        "- ccompiler   =mpicc\n",
        "- cppcompiler =mpicxx\n",
        "- linker      =mpicc\n",
        "- precision   =dp\n",
        "- mode        =64bit\n",
        "---\n",
        "\n",
        "Folder /cluster/scratch_xl/public/vjan/cylinder_tests/700_2e-05_conjugate-True_100/.initialconditions exists already...\n",
        "Creating folder /cluster/scratch_xl/public/vjan/cylinder_tests/700_2e-05_conjugate-True_100/RESULT\n",
        "Converting Cantera input file\n"
       ]
      },
      {
       "output_type": "stream",
       "stream": "stdout",
       "text": [
        "\n",
        "------------------\n",
        "library container:\n",
        "------------------\n",
        "\n",
        "library: libtransatmbDP.a\n",
        "-> contains 0 file objects:\n",
        "\n",
        "library: libDnspcgDP.a\n",
        "-> contains 0 file objects:\n",
        "\n",
        "library: liblokiDP.a\n",
        "-> contains 0 file objects:\n",
        "\n",
        "library: libusrtoolsDP.a\n",
        "-> contains 0 file objects:\n",
        "\n",
        "\n",
        "includes:\n",
        "-> contains 40 file objects:\n",
        "   -> 39 h-files\n",
        "   -> 1 h90-file\n",
        "\n"
       ]
      },
      {
       "output_type": "stream",
       "stream": "stdout",
       "text": [
        "\n",
        "--------------------------\n",
        "dependency summary:\n",
        "--------------------------\n",
        "creating all dependencies took 0.0592379570007 s\n",
        "\n",
        "\n",
        "-> list: sourcelist\n",
        "        * 0 objects\n",
        "        * 0 object with dependencies found\n",
        "        * 0 dependency found\n",
        "\n",
        "-> list: includelist\n",
        "        * 40 objects\n",
        "        * 18 objects with dependencies found\n",
        "        * 29 dependencies found\n",
        "\n",
        "-> list: libextlist\n",
        "        * 3 objects\n",
        "        * 1 object with dependencies found\n",
        "        * 1 dependency found\n",
        "\n",
        "----------------------------\n",
        " Creating Makefile          \n",
        "----------------------------\n",
        "\n",
        "working    directory : /cluster/scratch_xl/public/vjan/cylinder_tests/700_2e-05_conjugate-True_100/.initialconditions\n",
        "executable directory : /cluster/scratch_xl/public/vjan/cylinder_tests/700_2e-05_conjugate-True_100\n",
        "executable name      : transatmbinitialDP\n",
        "\n",
        "Makefile created...\n",
        "\n",
        "\n",
        "----------------------------\n",
        " Building                   \n",
        "----------------------------\n",
        "\n",
        "change to subfolder: /cluster/scratch_xl/public/vjan/cylinder_tests/700_2e-05_conjugate-True_100/.initialconditions\n",
        "mpicxx -O3   -I\"../../../../../../home/mavt/vjan/gfort_O3/inc\" -c ../initialconditions.cxx -o ./initialconditionsDP.o"
       ]
      },
      {
       "output_type": "stream",
       "stream": "stdout",
       "text": [
        "\n"
       ]
      },
      {
       "output_type": "stream",
       "stream": "stdout",
       "text": [
        "\n",
        "mpicc  ../../../../../../home/mavt/vjan/gfort_O3/lib/userglobalDP.o ./initialconditionsDP.o ../../../../../../home/mavt/vjan/gfort_O3/lib/tmbinitDP.o    -L\"../../../../../../home/mavt/vjan/gfort_O3/lib\"  -ltransatmbDP -lDnspcgDP -llokiDP -lusrtoolsDP  -ltransatmbDP -lDnspcgDP -llokiDP -lusrtoolsDP -lstdc++ -L/cluster/home/mavt/vjan/petsc/petsc-3.2-p7_with_16_gfortran/lib  -lpetsc -lX11 -Wl,-rpath,/cluster/home/mavt/vjan/petsc/petsc-3.2-p7_with_16_gfortran/lib -lHYPRE -lmpi_cxx -lstdc++ -lpthread -lflapack -lfblas -L/cluster/apps/openmpi/1.6.1/x86_64/gcc_4.7.2/lib -L/cluster/apps/gcc/gcc472/lib64/gcc/x86_64-unknown-linux-gnu/4.7.2 -L/cluster/apps/gcc/gcc472/lib64 -ldl -lmpi -lopen-rte -lopen-pal -lrt -lnsl -lutil -lgcc_s -lpthread -lmpi_f90 -lmpi_f77 -lgfortran -lm -lgfortran -lm -lgfortran -lm -lgfortran -lm -lm -lm -lquadmath -lm -lmpi_cxx -lstdc++ -ldl -lmpi -lopen-rte -lopen-pal -lrt -lnsl -lutil -lgcc_s -lpthread -ldl  -L/cluster/home/mavt/vjan/petsc/petsc-3.2-p7_with_16_gfortran/lib  -lpetsc -lX11 -Wl,-rpath,/cluster/home/mavt/vjan/petsc/petsc-3.2-p7_with_16_gfortran/lib -lHYPRE -lmpi_cxx -lstdc++ -lpthread -lflapack -lfblas -L/cluster/apps/openmpi/1.6.1/x86_64/gcc_4.7.2/lib -L/cluster/apps/gcc/gcc472/lib64/gcc/x86_64-unknown-linux-gnu/4.7.2 -L/cluster/apps/gcc/gcc472/lib64 -ldl -lmpi -lopen-rte -lopen-pal -lrt -lnsl -lutil -lgcc_s -lpthread -lmpi_f90 -lmpi_f77 -lgfortran -lm -lgfortran -lm -lgfortran -lm -lgfortran -lm -lm -lm -lquadmath -lm -lmpi_cxx -lstdc++ -ldl -lmpi -lopen-rte -lopen-pal -lrt -lnsl -lutil -lgcc_s -lpthread -ldl  -lcantera  -o ../transatmbinitialDP\n"
       ]
      },
      {
       "output_type": "stream",
       "stream": "stdout",
       "text": [
        "\n",
        "\n",
        "done...\n",
        "\n",
        "make: Warning: File `../initialconditions.cxx' has modification time 1.1e+03 s in the future\n",
        "make: warning:  Clock skew detected.  Your build may be incomplete.\n",
        "===================================================\n",
        " Syncing Current Working Directory with Cluster \n",
        "===================================================\n",
        "bsub -n 1 -W 60 -R \"rusage[mem=1024]\" -J 700_2e-05_conjugate-True_100 -o std_out.log  mpirun ./transatmbinitialDP "
       ]
      },
      {
       "output_type": "stream",
       "stream": "stdout",
       "text": [
        "\n",
        "Job <51612567> is submitted to queue <pub.1h>."
       ]
      },
      {
       "output_type": "stream",
       "stream": "stdout",
       "text": [
        "\n",
        "MPI job.\n",
        "---"
       ]
      },
      {
       "output_type": "stream",
       "stream": "stdout",
       "text": [
        "\n",
        "- transatdir  =/cluster/home/mavt/vjan/gfort_O3\n",
        "- ccompiler   =mpicc\n",
        "- cppcompiler =mpicxx\n",
        "- linker      =mpicc\n",
        "- precision   =dp\n",
        "- mode        =64bit\n",
        "---\n",
        "\n",
        "Folder /cluster/scratch_xl/public/vjan/cylinder_tests/700_2e-05_conjugate-False_34/.initialconditions exists already...\n",
        "Creating folder /cluster/scratch_xl/public/vjan/cylinder_tests/700_2e-05_conjugate-False_34/RESULT\n",
        "Converting Cantera input file\n"
       ]
      },
      {
       "output_type": "stream",
       "stream": "stdout",
       "text": [
        "\n",
        "------------------\n",
        "library container:\n",
        "------------------\n",
        "\n",
        "library: libtransatmbDP.a\n",
        "-> contains 0 file objects:\n",
        "\n",
        "library: libDnspcgDP.a\n",
        "-> contains 0 file objects:\n",
        "\n",
        "library: liblokiDP.a\n",
        "-> contains 0 file objects:\n",
        "\n",
        "library: libusrtoolsDP.a\n",
        "-> contains 0 file objects:\n",
        "\n",
        "\n",
        "includes:\n",
        "-> contains 40 file objects:\n",
        "   -> 39 h-files\n",
        "   -> 1 h90-file\n",
        "\n"
       ]
      },
      {
       "output_type": "stream",
       "stream": "stdout",
       "text": [
        "\n",
        "--------------------------\n",
        "dependency summary:\n",
        "--------------------------\n",
        "creating all dependencies took 0.0568690299988 s\n",
        "\n",
        "\n",
        "-> list: sourcelist\n",
        "        * 0 objects\n",
        "        * 0 object with dependencies found\n",
        "        * 0 dependency found\n",
        "\n",
        "-> list: includelist\n",
        "        * 40 objects\n",
        "        * 18 objects with dependencies found\n",
        "        * 29 dependencies found\n",
        "\n",
        "-> list: libextlist\n",
        "        * 3 objects\n",
        "        * 1 object with dependencies found\n",
        "        * 1 dependency found\n",
        "\n",
        "----------------------------\n",
        " Creating Makefile          \n",
        "----------------------------\n",
        "\n",
        "working    directory : /cluster/scratch_xl/public/vjan/cylinder_tests/700_2e-05_conjugate-False_34/.initialconditions\n",
        "executable directory : /cluster/scratch_xl/public/vjan/cylinder_tests/700_2e-05_conjugate-False_34\n",
        "executable name      : transatmbinitialDP\n",
        "\n",
        "Makefile created...\n",
        "\n",
        "\n",
        "----------------------------\n",
        " Building                   \n",
        "----------------------------\n",
        "\n",
        "change to subfolder: /cluster/scratch_xl/public/vjan/cylinder_tests/700_2e-05_conjugate-False_34/.initialconditions\n",
        "mpicxx -O3   -I\"../../../../../../home/mavt/vjan/gfort_O3/inc\" -c ../initialconditions.cxx -o ./initialconditionsDP.o\n"
       ]
      },
      {
       "output_type": "stream",
       "stream": "stdout",
       "text": [
        "\n",
        "mpicc  ../../../../../../home/mavt/vjan/gfort_O3/lib/userglobalDP.o ./initialconditionsDP.o ../../../../../../home/mavt/vjan/gfort_O3/lib/tmbinitDP.o    -L\"../../../../../../home/mavt/vjan/gfort_O3/lib\"  -ltransatmbDP -lDnspcgDP -llokiDP -lusrtoolsDP  -ltransatmbDP -lDnspcgDP -llokiDP -lusrtoolsDP -lstdc++ -L/cluster/home/mavt/vjan/petsc/petsc-3.2-p7_with_16_gfortran/lib  -lpetsc -lX11 -Wl,-rpath,/cluster/home/mavt/vjan/petsc/petsc-3.2-p7_with_16_gfortran/lib -lHYPRE -lmpi_cxx -lstdc++ -lpthread -lflapack -lfblas -L/cluster/apps/openmpi/1.6.1/x86_64/gcc_4.7.2/lib -L/cluster/apps/gcc/gcc472/lib64/gcc/x86_64-unknown-linux-gnu/4.7.2 -L/cluster/apps/gcc/gcc472/lib64 -ldl -lmpi -lopen-rte -lopen-pal -lrt -lnsl -lutil -lgcc_s -lpthread -lmpi_f90 -lmpi_f77 -lgfortran -lm -lgfortran -lm -lgfortran -lm -lgfortran -lm -lm -lm -lquadmath -lm -lmpi_cxx -lstdc++ -ldl -lmpi -lopen-rte -lopen-pal -lrt -lnsl -lutil -lgcc_s -lpthread -ldl  -L/cluster/home/mavt/vjan/petsc/petsc-3.2-p7_with_16_gfortran/lib  -lpetsc -lX11 -Wl,-rpath,/cluster/home/mavt/vjan/petsc/petsc-3.2-p7_with_16_gfortran/lib -lHYPRE -lmpi_cxx -lstdc++ -lpthread -lflapack -lfblas -L/cluster/apps/openmpi/1.6.1/x86_64/gcc_4.7.2/lib -L/cluster/apps/gcc/gcc472/lib64/gcc/x86_64-unknown-linux-gnu/4.7.2 -L/cluster/apps/gcc/gcc472/lib64 -ldl -lmpi -lopen-rte -lopen-pal -lrt -lnsl -lutil -lgcc_s -lpthread -lmpi_f90 -lmpi_f77 -lgfortran -lm -lgfortran -lm -lgfortran -lm -lgfortran -lm -lm -lm -lquadmath -lm -lmpi_cxx -lstdc++ -ldl -lmpi -lopen-rte -lopen-pal -lrt -lnsl -lutil -lgcc_s -lpthread -ldl  -lcantera  -o ../transatmbinitialDP\n"
       ]
      },
      {
       "output_type": "stream",
       "stream": "stdout",
       "text": [
        "\n",
        "\n",
        "done...\n",
        "\n",
        "make: Warning: File `../initialconditions.cxx' has modification time 1e+03 s in the future\n",
        "make: warning:  Clock skew detected.  Your build may be incomplete.\n",
        "===================================================\n",
        " Syncing Current Working Directory with Cluster \n",
        "===================================================\n",
        "bsub -n 1 -W 60 -R \"rusage[mem=1024]\" -J 700_2e-05_conjugate-False_34 -o std_out.log  mpirun ./transatmbinitialDP "
       ]
      },
      {
       "output_type": "stream",
       "stream": "stdout",
       "text": [
        "\n",
        "Job <51612571> is submitted to queue <pub.1h>."
       ]
      },
      {
       "output_type": "stream",
       "stream": "stdout",
       "text": [
        "\n",
        "MPI job.\n",
        "---"
       ]
      },
      {
       "output_type": "stream",
       "stream": "stdout",
       "text": [
        "\n",
        "- transatdir  =/cluster/home/mavt/vjan/gfort_O3\n",
        "- ccompiler   =mpicc\n",
        "- cppcompiler =mpicxx\n",
        "- linker      =mpicc\n",
        "- precision   =dp\n",
        "- mode        =64bit\n",
        "---\n",
        "\n",
        "Folder /cluster/scratch_xl/public/vjan/cylinder_tests/700_2e-05_conjugate-False_67/.initialconditions exists already...\n",
        "Creating folder /cluster/scratch_xl/public/vjan/cylinder_tests/700_2e-05_conjugate-False_67/RESULT\n",
        "Converting Cantera input file\n",
        "\n",
        "------------------\n",
        "library container:\n",
        "------------------\n",
        "\n",
        "library: libtransatmbDP.a\n",
        "-> contains 0 file objects:\n",
        "\n",
        "library: libDnspcgDP.a\n",
        "-> contains 0 file objects:\n",
        "\n",
        "library: liblokiDP.a\n",
        "-> contains 0 file objects:\n",
        "\n",
        "library: libusrtoolsDP.a\n",
        "-> contains 0 file objects:\n",
        "\n",
        "\n",
        "includes:\n",
        "-> contains 40 file objects:\n",
        "   -> 39 h-files\n",
        "   -> 1 h90-file\n",
        "\n"
       ]
      },
      {
       "output_type": "stream",
       "stream": "stdout",
       "text": [
        "\n",
        "--------------------------\n",
        "dependency summary:\n",
        "--------------------------\n",
        "creating all dependencies took 0.0451018810272 s\n",
        "\n",
        "\n",
        "-> list: sourcelist\n",
        "        * 0 objects\n",
        "        * 0 object with dependencies found\n",
        "        * 0 dependency found\n",
        "\n",
        "-> list: includelist\n",
        "        * 40 objects\n",
        "        * 18 objects with dependencies found\n",
        "        * 29 dependencies found\n",
        "\n",
        "-> list: libextlist\n",
        "        * 3 objects\n",
        "        * 1 object with dependencies found\n",
        "        * 1 dependency found\n",
        "\n",
        "----------------------------\n",
        " Creating Makefile          \n",
        "----------------------------\n",
        "\n",
        "working    directory : /cluster/scratch_xl/public/vjan/cylinder_tests/700_2e-05_conjugate-False_67/.initialconditions\n",
        "executable directory : /cluster/scratch_xl/public/vjan/cylinder_tests/700_2e-05_conjugate-False_67\n",
        "executable name      : transatmbinitialDP\n",
        "\n",
        "Makefile created...\n",
        "\n",
        "\n",
        "----------------------------\n",
        " Building                   \n",
        "----------------------------\n",
        "\n",
        "change to subfolder: /cluster/scratch_xl/public/vjan/cylinder_tests/700_2e-05_conjugate-False_67/.initialconditions\n",
        "mpicxx -O3   -I\"../../../../../../home/mavt/vjan/gfort_O3/inc\" -c ../initialconditions.cxx -o ./initialconditionsDP.o"
       ]
      },
      {
       "output_type": "stream",
       "stream": "stdout",
       "text": [
        "\n"
       ]
      },
      {
       "output_type": "stream",
       "stream": "stdout",
       "text": [
        "\n",
        "mpicc  ../../../../../../home/mavt/vjan/gfort_O3/lib/userglobalDP.o ./initialconditionsDP.o ../../../../../../home/mavt/vjan/gfort_O3/lib/tmbinitDP.o    -L\"../../../../../../home/mavt/vjan/gfort_O3/lib\"  -ltransatmbDP -lDnspcgDP -llokiDP -lusrtoolsDP  -ltransatmbDP -lDnspcgDP -llokiDP -lusrtoolsDP -lstdc++ -L/cluster/home/mavt/vjan/petsc/petsc-3.2-p7_with_16_gfortran/lib  -lpetsc -lX11 -Wl,-rpath,/cluster/home/mavt/vjan/petsc/petsc-3.2-p7_with_16_gfortran/lib -lHYPRE -lmpi_cxx -lstdc++ -lpthread -lflapack -lfblas -L/cluster/apps/openmpi/1.6.1/x86_64/gcc_4.7.2/lib -L/cluster/apps/gcc/gcc472/lib64/gcc/x86_64-unknown-linux-gnu/4.7.2 -L/cluster/apps/gcc/gcc472/lib64 -ldl -lmpi -lopen-rte -lopen-pal -lrt -lnsl -lutil -lgcc_s -lpthread -lmpi_f90 -lmpi_f77 -lgfortran -lm -lgfortran -lm -lgfortran -lm -lgfortran -lm -lm -lm -lquadmath -lm -lmpi_cxx -lstdc++ -ldl -lmpi -lopen-rte -lopen-pal -lrt -lnsl -lutil -lgcc_s -lpthread -ldl  -L/cluster/home/mavt/vjan/petsc/petsc-3.2-p7_with_16_gfortran/lib  -lpetsc -lX11 -Wl,-rpath,/cluster/home/mavt/vjan/petsc/petsc-3.2-p7_with_16_gfortran/lib -lHYPRE -lmpi_cxx -lstdc++ -lpthread -lflapack -lfblas -L/cluster/apps/openmpi/1.6.1/x86_64/gcc_4.7.2/lib -L/cluster/apps/gcc/gcc472/lib64/gcc/x86_64-unknown-linux-gnu/4.7.2 -L/cluster/apps/gcc/gcc472/lib64 -ldl -lmpi -lopen-rte -lopen-pal -lrt -lnsl -lutil -lgcc_s -lpthread -lmpi_f90 -lmpi_f77 -lgfortran -lm -lgfortran -lm -lgfortran -lm -lgfortran -lm -lm -lm -lquadmath -lm -lmpi_cxx -lstdc++ -ldl -lmpi -lopen-rte -lopen-pal -lrt -lnsl -lutil -lgcc_s -lpthread -ldl  -lcantera  -o ../transatmbinitialDP\n"
       ]
      },
      {
       "output_type": "stream",
       "stream": "stdout",
       "text": [
        "\n",
        "\n",
        "done...\n",
        "\n",
        "make: Warning: File `../initialconditions.cxx' has modification time 9.8e+02 s in the future\n",
        "make: warning:  Clock skew detected.  Your build may be incomplete.\n",
        "===================================================\n",
        " Syncing Current Working Directory with Cluster \n",
        "===================================================\n",
        "bsub -n 1 -W 60 -R \"rusage[mem=1024]\" -J 700_2e-05_conjugate-False_67 -o std_out.log  mpirun ./transatmbinitialDP "
       ]
      },
      {
       "output_type": "stream",
       "stream": "stdout",
       "text": [
        "\n",
        "Job <51612579> is submitted to queue <pub.1h>."
       ]
      },
      {
       "output_type": "stream",
       "stream": "stdout",
       "text": [
        "\n",
        "MPI job.\n",
        "---"
       ]
      },
      {
       "output_type": "stream",
       "stream": "stdout",
       "text": [
        "\n",
        "- transatdir  =/cluster/home/mavt/vjan/gfort_O3\n",
        "- ccompiler   =mpicc\n",
        "- cppcompiler =mpicxx\n",
        "- linker      =mpicc\n",
        "- precision   =dp\n",
        "- mode        =64bit\n",
        "---\n",
        "\n",
        "Folder /cluster/scratch_xl/public/vjan/cylinder_tests/700_2e-05_conjugate-False_100/.initialconditions exists already...\n",
        "Creating folder /cluster/scratch_xl/public/vjan/cylinder_tests/700_2e-05_conjugate-False_100/RESULT\n",
        "Converting Cantera input file\n"
       ]
      },
      {
       "output_type": "stream",
       "stream": "stdout",
       "text": [
        "\n",
        "------------------\n",
        "library container:\n",
        "------------------\n",
        "\n",
        "library: libtransatmbDP.a\n",
        "-> contains 0 file objects:\n",
        "\n",
        "library: libDnspcgDP.a\n",
        "-> contains 0 file objects:\n",
        "\n",
        "library: liblokiDP.a\n",
        "-> contains 0 file objects:\n",
        "\n",
        "library: libusrtoolsDP.a\n",
        "-> contains 0 file objects:\n",
        "\n",
        "\n",
        "includes:\n",
        "-> contains 40 file objects:\n",
        "   -> 39 h-files\n",
        "   -> 1 h90-file\n",
        "\n"
       ]
      },
      {
       "output_type": "stream",
       "stream": "stdout",
       "text": [
        "\n",
        "--------------------------\n",
        "dependency summary:\n",
        "--------------------------\n",
        "creating all dependencies took 0.0658481121063 s\n",
        "\n",
        "\n",
        "-> list: sourcelist\n",
        "        * 0 objects\n",
        "        * 0 object with dependencies found\n",
        "        * 0 dependency found\n",
        "\n",
        "-> list: includelist\n",
        "        * 40 objects\n",
        "        * 18 objects with dependencies found\n",
        "        * 29 dependencies found\n",
        "\n",
        "-> list: libextlist\n",
        "        * 3 objects\n",
        "        * 1 object with dependencies found\n",
        "        * 1 dependency found\n",
        "\n",
        "----------------------------\n",
        " Creating Makefile          \n",
        "----------------------------\n",
        "\n",
        "working    directory : /cluster/scratch_xl/public/vjan/cylinder_tests/700_2e-05_conjugate-False_100/.initialconditions\n",
        "executable directory : /cluster/scratch_xl/public/vjan/cylinder_tests/700_2e-05_conjugate-False_100\n",
        "executable name      : transatmbinitialDP\n",
        "\n",
        "Makefile created...\n",
        "\n",
        "\n",
        "----------------------------\n",
        " Building                   \n",
        "----------------------------\n",
        "\n",
        "change to subfolder: /cluster/scratch_xl/public/vjan/cylinder_tests/700_2e-05_conjugate-False_100/.initialconditions\n",
        "mpicxx -O3   -I\"../../../../../../home/mavt/vjan/gfort_O3/inc\" -c ../initialconditions.cxx -o ./initialconditionsDP.o"
       ]
      },
      {
       "output_type": "stream",
       "stream": "stdout",
       "text": [
        "\n"
       ]
      },
      {
       "output_type": "stream",
       "stream": "stdout",
       "text": [
        "\n",
        "mpicc  ../../../../../../home/mavt/vjan/gfort_O3/lib/userglobalDP.o ./initialconditionsDP.o ../../../../../../home/mavt/vjan/gfort_O3/lib/tmbinitDP.o    -L\"../../../../../../home/mavt/vjan/gfort_O3/lib\"  -ltransatmbDP -lDnspcgDP -llokiDP -lusrtoolsDP  -ltransatmbDP -lDnspcgDP -llokiDP -lusrtoolsDP -lstdc++ -L/cluster/home/mavt/vjan/petsc/petsc-3.2-p7_with_16_gfortran/lib  -lpetsc -lX11 -Wl,-rpath,/cluster/home/mavt/vjan/petsc/petsc-3.2-p7_with_16_gfortran/lib -lHYPRE -lmpi_cxx -lstdc++ -lpthread -lflapack -lfblas -L/cluster/apps/openmpi/1.6.1/x86_64/gcc_4.7.2/lib -L/cluster/apps/gcc/gcc472/lib64/gcc/x86_64-unknown-linux-gnu/4.7.2 -L/cluster/apps/gcc/gcc472/lib64 -ldl -lmpi -lopen-rte -lopen-pal -lrt -lnsl -lutil -lgcc_s -lpthread -lmpi_f90 -lmpi_f77 -lgfortran -lm -lgfortran -lm -lgfortran -lm -lgfortran -lm -lm -lm -lquadmath -lm -lmpi_cxx -lstdc++ -ldl -lmpi -lopen-rte -lopen-pal -lrt -lnsl -lutil -lgcc_s -lpthread -ldl  -L/cluster/home/mavt/vjan/petsc/petsc-3.2-p7_with_16_gfortran/lib  -lpetsc -lX11 -Wl,-rpath,/cluster/home/mavt/vjan/petsc/petsc-3.2-p7_with_16_gfortran/lib -lHYPRE -lmpi_cxx -lstdc++ -lpthread -lflapack -lfblas -L/cluster/apps/openmpi/1.6.1/x86_64/gcc_4.7.2/lib -L/cluster/apps/gcc/gcc472/lib64/gcc/x86_64-unknown-linux-gnu/4.7.2 -L/cluster/apps/gcc/gcc472/lib64 -ldl -lmpi -lopen-rte -lopen-pal -lrt -lnsl -lutil -lgcc_s -lpthread -lmpi_f90 -lmpi_f77 -lgfortran -lm -lgfortran -lm -lgfortran -lm -lgfortran -lm -lm -lm -lquadmath -lm -lmpi_cxx -lstdc++ -ldl -lmpi -lopen-rte -lopen-pal -lrt -lnsl -lutil -lgcc_s -lpthread -ldl  -lcantera  -o ../transatmbinitialDP\n"
       ]
      },
      {
       "output_type": "stream",
       "stream": "stdout",
       "text": [
        "\n",
        "\n",
        "done...\n",
        "\n",
        "make: Warning: File `../initialconditions.cxx' has modification time 9.5e+02 s in the future\n",
        "make: warning:  Clock skew detected.  Your build may be incomplete.\n",
        "===================================================\n",
        " Syncing Current Working Directory with Cluster \n",
        "===================================================\n",
        "bsub -n 1 -W 60 -R \"rusage[mem=1024]\" -J 700_2e-05_conjugate-False_100 -o std_out.log  mpirun ./transatmbinitialDP "
       ]
      },
      {
       "output_type": "stream",
       "stream": "stdout",
       "text": [
        "\n",
        "Job <51612586> is submitted to queue <pub.1h>."
       ]
      },
      {
       "output_type": "stream",
       "stream": "stdout",
       "text": [
        "\n",
        "MPI job.\n"
       ]
      }
     ],
     "prompt_number": 131
    },
    {
     "cell_type": "code",
     "collapsed": false,
     "input": [
      "for sim in sim_list:\n",
      "  sim.sync_result(\"processed\")\n",
      "\n",
      "  var_list = [\"U\",\"T\",\"C3H6\"]\n",
      "\n",
      "  try:\n",
      "      for var in var_list:\n",
      "          picture_name = sim.info.local[\"jobname\"] + \"_\" + var + \".png\"\n",
      "          print(sim.info.local[\"jobname\"])\n",
      "          pa.pa.Disconnect()\n",
      "          pa.pa.Connect()\n",
      "          data = pa.pa.OpenDataFile(os.path.join(sim.info.local[\"sim_folder\"],\"processed\",\"unstructured.vtu\"))\n",
      "          para_slice = pa.pa.Slice(data)\n",
      "          para_slice.SliceType.Normal = [0,0,-1]\n",
      "          pa.pa.UpdatePipeline()\n",
      "          var = var\n",
      "          data_range =para_slice.GetDataInformation().GetPointDataInformation().GetArrayInformation(var).GetComponentRange(0)\n",
      "          pa.paraview_image(para_slice,var,data_range[1],data_range[0],x=0.004,y=0.004,folder=sim.info.local[\"sim_folder\"],filename=picture_name)\n",
      "          pa.pa.Disconnect()\n",
      "\n",
      "  except:\n",
      "    print(\"PROBLEM CREATING PICTURE\")"
     ],
     "language": "python",
     "metadata": {},
     "outputs": [
      {
       "output_type": "stream",
       "stream": "stdout",
       "text": [
        "===================================================\n",
        " Syncing processed folder  with Cluster      \n",
        "===================================================\n",
        "600_-1_conjugate-True_34"
       ]
      },
      {
       "output_type": "stream",
       "stream": "stdout",
       "text": [
        "\n",
        "using prescribed x & y"
       ]
      },
      {
       "output_type": "stream",
       "stream": "stdout",
       "text": [
        "\n",
        "File 600_-1_conjugate-True_34_U.png written to /home/vonrickenbach/testcases_mb/kelvin_cell_final/cylinder_tests/600_-1_conjugate-True_34"
       ]
      },
      {
       "output_type": "stream",
       "stream": "stdout",
       "text": [
        "\n",
        "600_-1_conjugate-True_34"
       ]
      },
      {
       "output_type": "stream",
       "stream": "stdout",
       "text": [
        "\n",
        "using prescribed x & y"
       ]
      },
      {
       "output_type": "stream",
       "stream": "stdout",
       "text": [
        "\n",
        "File 600_-1_conjugate-True_34_T.png written to /home/vonrickenbach/testcases_mb/kelvin_cell_final/cylinder_tests/600_-1_conjugate-True_34"
       ]
      },
      {
       "output_type": "stream",
       "stream": "stdout",
       "text": [
        "\n",
        "600_-1_conjugate-True_34"
       ]
      },
      {
       "output_type": "stream",
       "stream": "stdout",
       "text": [
        "\n",
        "using prescribed x & y"
       ]
      },
      {
       "output_type": "stream",
       "stream": "stdout",
       "text": [
        "\n",
        "File 600_-1_conjugate-True_34_C3H6.png written to /home/vonrickenbach/testcases_mb/kelvin_cell_final/cylinder_tests/600_-1_conjugate-True_34"
       ]
      },
      {
       "output_type": "stream",
       "stream": "stdout",
       "text": [
        "\n",
        "==================================================="
       ]
      },
      {
       "output_type": "stream",
       "stream": "stdout",
       "text": [
        "\n",
        " Syncing processed folder  with Cluster      \n",
        "===================================================\n",
        "600_-1_conjugate-True_67"
       ]
      },
      {
       "output_type": "stream",
       "stream": "stdout",
       "text": [
        "\n",
        "using prescribed x & y"
       ]
      },
      {
       "output_type": "stream",
       "stream": "stdout",
       "text": [
        "\n",
        "File 600_-1_conjugate-True_67_U.png written to /home/vonrickenbach/testcases_mb/kelvin_cell_final/cylinder_tests/600_-1_conjugate-True_67"
       ]
      },
      {
       "output_type": "stream",
       "stream": "stdout",
       "text": [
        "\n",
        "600_-1_conjugate-True_67"
       ]
      },
      {
       "output_type": "stream",
       "stream": "stdout",
       "text": [
        "\n",
        "using prescribed x & y"
       ]
      },
      {
       "output_type": "stream",
       "stream": "stdout",
       "text": [
        "\n",
        "File 600_-1_conjugate-True_67_T.png written to /home/vonrickenbach/testcases_mb/kelvin_cell_final/cylinder_tests/600_-1_conjugate-True_67"
       ]
      },
      {
       "output_type": "stream",
       "stream": "stdout",
       "text": [
        "\n",
        "600_-1_conjugate-True_67"
       ]
      },
      {
       "output_type": "stream",
       "stream": "stdout",
       "text": [
        "\n",
        "using prescribed x & y"
       ]
      },
      {
       "output_type": "stream",
       "stream": "stdout",
       "text": [
        "\n",
        "File 600_-1_conjugate-True_67_C3H6.png written to /home/vonrickenbach/testcases_mb/kelvin_cell_final/cylinder_tests/600_-1_conjugate-True_67"
       ]
      },
      {
       "output_type": "stream",
       "stream": "stdout",
       "text": [
        "\n",
        "==================================================="
       ]
      },
      {
       "output_type": "stream",
       "stream": "stdout",
       "text": [
        "\n",
        " Syncing processed folder  with Cluster      \n",
        "===================================================\n",
        "600_-1_conjugate-True_100"
       ]
      },
      {
       "output_type": "stream",
       "stream": "stdout",
       "text": [
        "\n",
        "using prescribed x & y"
       ]
      },
      {
       "output_type": "stream",
       "stream": "stdout",
       "text": [
        "\n",
        "File 600_-1_conjugate-True_100_U.png written to /home/vonrickenbach/testcases_mb/kelvin_cell_final/cylinder_tests/600_-1_conjugate-True_100"
       ]
      },
      {
       "output_type": "stream",
       "stream": "stdout",
       "text": [
        "\n",
        "600_-1_conjugate-True_100"
       ]
      },
      {
       "output_type": "stream",
       "stream": "stdout",
       "text": [
        "\n",
        "using prescribed x & y"
       ]
      },
      {
       "output_type": "stream",
       "stream": "stdout",
       "text": [
        "\n",
        "File 600_-1_conjugate-True_100_T.png written to /home/vonrickenbach/testcases_mb/kelvin_cell_final/cylinder_tests/600_-1_conjugate-True_100"
       ]
      },
      {
       "output_type": "stream",
       "stream": "stdout",
       "text": [
        "\n",
        "600_-1_conjugate-True_100"
       ]
      },
      {
       "output_type": "stream",
       "stream": "stdout",
       "text": [
        "\n",
        "using prescribed x & y"
       ]
      },
      {
       "output_type": "stream",
       "stream": "stdout",
       "text": [
        "\n",
        "File 600_-1_conjugate-True_100_C3H6.png written to /home/vonrickenbach/testcases_mb/kelvin_cell_final/cylinder_tests/600_-1_conjugate-True_100"
       ]
      },
      {
       "output_type": "stream",
       "stream": "stdout",
       "text": [
        "\n",
        "==================================================="
       ]
      },
      {
       "output_type": "stream",
       "stream": "stdout",
       "text": [
        "\n",
        " Syncing processed folder  with Cluster      \n",
        "===================================================\n",
        "600_-1_conjugate-False_34"
       ]
      },
      {
       "output_type": "stream",
       "stream": "stdout",
       "text": [
        "\n",
        "using prescribed x & y"
       ]
      },
      {
       "output_type": "stream",
       "stream": "stdout",
       "text": [
        "\n",
        "File 600_-1_conjugate-False_34_U.png written to /home/vonrickenbach/testcases_mb/kelvin_cell_final/cylinder_tests/600_-1_conjugate-False_34"
       ]
      },
      {
       "output_type": "stream",
       "stream": "stdout",
       "text": [
        "\n",
        "600_-1_conjugate-False_34"
       ]
      },
      {
       "output_type": "stream",
       "stream": "stdout",
       "text": [
        "\n",
        "using prescribed x & y"
       ]
      },
      {
       "output_type": "stream",
       "stream": "stdout",
       "text": [
        "\n",
        "File 600_-1_conjugate-False_34_T.png written to /home/vonrickenbach/testcases_mb/kelvin_cell_final/cylinder_tests/600_-1_conjugate-False_34"
       ]
      },
      {
       "output_type": "stream",
       "stream": "stdout",
       "text": [
        "\n",
        "600_-1_conjugate-False_34"
       ]
      },
      {
       "output_type": "stream",
       "stream": "stdout",
       "text": [
        "\n",
        "using prescribed x & y"
       ]
      },
      {
       "output_type": "stream",
       "stream": "stdout",
       "text": [
        "\n",
        "File 600_-1_conjugate-False_34_C3H6.png written to /home/vonrickenbach/testcases_mb/kelvin_cell_final/cylinder_tests/600_-1_conjugate-False_34"
       ]
      },
      {
       "output_type": "stream",
       "stream": "stdout",
       "text": [
        "\n",
        "==================================================="
       ]
      },
      {
       "output_type": "stream",
       "stream": "stdout",
       "text": [
        "\n",
        " Syncing processed folder  with Cluster      \n",
        "===================================================\n",
        "600_-1_conjugate-False_67"
       ]
      },
      {
       "output_type": "stream",
       "stream": "stdout",
       "text": [
        "\n",
        "using prescribed x & y"
       ]
      },
      {
       "output_type": "stream",
       "stream": "stdout",
       "text": [
        "\n",
        "File 600_-1_conjugate-False_67_U.png written to /home/vonrickenbach/testcases_mb/kelvin_cell_final/cylinder_tests/600_-1_conjugate-False_67"
       ]
      },
      {
       "output_type": "stream",
       "stream": "stdout",
       "text": [
        "\n",
        "600_-1_conjugate-False_67"
       ]
      },
      {
       "output_type": "stream",
       "stream": "stdout",
       "text": [
        "\n",
        "using prescribed x & y"
       ]
      },
      {
       "output_type": "stream",
       "stream": "stdout",
       "text": [
        "\n",
        "File 600_-1_conjugate-False_67_T.png written to /home/vonrickenbach/testcases_mb/kelvin_cell_final/cylinder_tests/600_-1_conjugate-False_67"
       ]
      },
      {
       "output_type": "stream",
       "stream": "stdout",
       "text": [
        "\n",
        "600_-1_conjugate-False_67"
       ]
      },
      {
       "output_type": "stream",
       "stream": "stdout",
       "text": [
        "\n",
        "using prescribed x & y"
       ]
      },
      {
       "output_type": "stream",
       "stream": "stdout",
       "text": [
        "\n",
        "File 600_-1_conjugate-False_67_C3H6.png written to /home/vonrickenbach/testcases_mb/kelvin_cell_final/cylinder_tests/600_-1_conjugate-False_67"
       ]
      },
      {
       "output_type": "stream",
       "stream": "stdout",
       "text": [
        "\n",
        "==================================================="
       ]
      },
      {
       "output_type": "stream",
       "stream": "stdout",
       "text": [
        "\n",
        " Syncing processed folder  with Cluster      \n",
        "===================================================\n",
        "600_-1_conjugate-False_100"
       ]
      },
      {
       "output_type": "stream",
       "stream": "stdout",
       "text": [
        "\n",
        "using prescribed x & y"
       ]
      },
      {
       "output_type": "stream",
       "stream": "stdout",
       "text": [
        "\n",
        "File 600_-1_conjugate-False_100_U.png written to /home/vonrickenbach/testcases_mb/kelvin_cell_final/cylinder_tests/600_-1_conjugate-False_100"
       ]
      },
      {
       "output_type": "stream",
       "stream": "stdout",
       "text": [
        "\n",
        "600_-1_conjugate-False_100"
       ]
      },
      {
       "output_type": "stream",
       "stream": "stdout",
       "text": [
        "\n",
        "using prescribed x & y"
       ]
      },
      {
       "output_type": "stream",
       "stream": "stdout",
       "text": [
        "\n",
        "File 600_-1_conjugate-False_100_T.png written to /home/vonrickenbach/testcases_mb/kelvin_cell_final/cylinder_tests/600_-1_conjugate-False_100"
       ]
      },
      {
       "output_type": "stream",
       "stream": "stdout",
       "text": [
        "\n",
        "600_-1_conjugate-False_100"
       ]
      },
      {
       "output_type": "stream",
       "stream": "stdout",
       "text": [
        "\n",
        "using prescribed x & y"
       ]
      },
      {
       "output_type": "stream",
       "stream": "stdout",
       "text": [
        "\n",
        "File 600_-1_conjugate-False_100_C3H6.png written to /home/vonrickenbach/testcases_mb/kelvin_cell_final/cylinder_tests/600_-1_conjugate-False_100"
       ]
      },
      {
       "output_type": "stream",
       "stream": "stdout",
       "text": [
        "\n",
        "==================================================="
       ]
      },
      {
       "output_type": "stream",
       "stream": "stdout",
       "text": [
        "\n",
        " Syncing processed folder  with Cluster      \n",
        "===================================================\n",
        "600_1e-05_conjugate-True_34"
       ]
      },
      {
       "output_type": "stream",
       "stream": "stdout",
       "text": [
        "\n",
        "using prescribed x & y"
       ]
      },
      {
       "output_type": "stream",
       "stream": "stdout",
       "text": [
        "\n",
        "File 600_1e-05_conjugate-True_34_U.png written to /home/vonrickenbach/testcases_mb/kelvin_cell_final/cylinder_tests/600_1e-05_conjugate-True_34"
       ]
      },
      {
       "output_type": "stream",
       "stream": "stdout",
       "text": [
        "\n",
        "600_1e-05_conjugate-True_34"
       ]
      },
      {
       "output_type": "stream",
       "stream": "stdout",
       "text": [
        "\n",
        "using prescribed x & y"
       ]
      },
      {
       "output_type": "stream",
       "stream": "stdout",
       "text": [
        "\n",
        "File 600_1e-05_conjugate-True_34_T.png written to /home/vonrickenbach/testcases_mb/kelvin_cell_final/cylinder_tests/600_1e-05_conjugate-True_34"
       ]
      },
      {
       "output_type": "stream",
       "stream": "stdout",
       "text": [
        "\n",
        "600_1e-05_conjugate-True_34"
       ]
      },
      {
       "output_type": "stream",
       "stream": "stdout",
       "text": [
        "\n",
        "using prescribed x & y"
       ]
      },
      {
       "output_type": "stream",
       "stream": "stdout",
       "text": [
        "\n",
        "File 600_1e-05_conjugate-True_34_C3H6.png written to /home/vonrickenbach/testcases_mb/kelvin_cell_final/cylinder_tests/600_1e-05_conjugate-True_34"
       ]
      },
      {
       "output_type": "stream",
       "stream": "stdout",
       "text": [
        "\n",
        "==================================================="
       ]
      },
      {
       "output_type": "stream",
       "stream": "stdout",
       "text": [
        "\n",
        " Syncing processed folder  with Cluster      \n",
        "===================================================\n",
        "600_1e-05_conjugate-True_67"
       ]
      },
      {
       "output_type": "stream",
       "stream": "stdout",
       "text": [
        "\n",
        "using prescribed x & y"
       ]
      },
      {
       "output_type": "stream",
       "stream": "stdout",
       "text": [
        "\n",
        "File 600_1e-05_conjugate-True_67_U.png written to /home/vonrickenbach/testcases_mb/kelvin_cell_final/cylinder_tests/600_1e-05_conjugate-True_67"
       ]
      },
      {
       "output_type": "stream",
       "stream": "stdout",
       "text": [
        "\n",
        "600_1e-05_conjugate-True_67"
       ]
      },
      {
       "output_type": "stream",
       "stream": "stdout",
       "text": [
        "\n",
        "using prescribed x & y"
       ]
      },
      {
       "output_type": "stream",
       "stream": "stdout",
       "text": [
        "\n",
        "File 600_1e-05_conjugate-True_67_T.png written to /home/vonrickenbach/testcases_mb/kelvin_cell_final/cylinder_tests/600_1e-05_conjugate-True_67"
       ]
      },
      {
       "output_type": "stream",
       "stream": "stdout",
       "text": [
        "\n",
        "600_1e-05_conjugate-True_67"
       ]
      },
      {
       "output_type": "stream",
       "stream": "stdout",
       "text": [
        "\n",
        "using prescribed x & y"
       ]
      },
      {
       "output_type": "stream",
       "stream": "stdout",
       "text": [
        "\n",
        "File 600_1e-05_conjugate-True_67_C3H6.png written to /home/vonrickenbach/testcases_mb/kelvin_cell_final/cylinder_tests/600_1e-05_conjugate-True_67"
       ]
      },
      {
       "output_type": "stream",
       "stream": "stdout",
       "text": [
        "\n",
        "==================================================="
       ]
      },
      {
       "output_type": "stream",
       "stream": "stdout",
       "text": [
        "\n",
        " Syncing processed folder  with Cluster      \n",
        "===================================================\n",
        "600_1e-05_conjugate-True_100"
       ]
      },
      {
       "output_type": "stream",
       "stream": "stdout",
       "text": [
        "\n",
        "using prescribed x & y"
       ]
      },
      {
       "output_type": "stream",
       "stream": "stdout",
       "text": [
        "\n",
        "File 600_1e-05_conjugate-True_100_U.png written to /home/vonrickenbach/testcases_mb/kelvin_cell_final/cylinder_tests/600_1e-05_conjugate-True_100"
       ]
      },
      {
       "output_type": "stream",
       "stream": "stdout",
       "text": [
        "\n",
        "600_1e-05_conjugate-True_100"
       ]
      },
      {
       "output_type": "stream",
       "stream": "stdout",
       "text": [
        "\n",
        "using prescribed x & y"
       ]
      },
      {
       "output_type": "stream",
       "stream": "stdout",
       "text": [
        "\n",
        "File 600_1e-05_conjugate-True_100_T.png written to /home/vonrickenbach/testcases_mb/kelvin_cell_final/cylinder_tests/600_1e-05_conjugate-True_100"
       ]
      },
      {
       "output_type": "stream",
       "stream": "stdout",
       "text": [
        "\n",
        "600_1e-05_conjugate-True_100"
       ]
      },
      {
       "output_type": "stream",
       "stream": "stdout",
       "text": [
        "\n",
        "using prescribed x & y"
       ]
      },
      {
       "output_type": "stream",
       "stream": "stdout",
       "text": [
        "\n",
        "File 600_1e-05_conjugate-True_100_C3H6.png written to /home/vonrickenbach/testcases_mb/kelvin_cell_final/cylinder_tests/600_1e-05_conjugate-True_100"
       ]
      },
      {
       "output_type": "stream",
       "stream": "stdout",
       "text": [
        "\n",
        "==================================================="
       ]
      },
      {
       "output_type": "stream",
       "stream": "stdout",
       "text": [
        "\n",
        " Syncing processed folder  with Cluster      \n",
        "===================================================\n",
        "600_1e-05_conjugate-False_34"
       ]
      },
      {
       "output_type": "stream",
       "stream": "stdout",
       "text": [
        "\n",
        "using prescribed x & y"
       ]
      },
      {
       "output_type": "stream",
       "stream": "stdout",
       "text": [
        "\n",
        "File 600_1e-05_conjugate-False_34_U.png written to /home/vonrickenbach/testcases_mb/kelvin_cell_final/cylinder_tests/600_1e-05_conjugate-False_34"
       ]
      },
      {
       "output_type": "stream",
       "stream": "stdout",
       "text": [
        "\n",
        "600_1e-05_conjugate-False_34"
       ]
      },
      {
       "output_type": "stream",
       "stream": "stdout",
       "text": [
        "\n",
        "using prescribed x & y"
       ]
      },
      {
       "output_type": "stream",
       "stream": "stdout",
       "text": [
        "\n",
        "File 600_1e-05_conjugate-False_34_T.png written to /home/vonrickenbach/testcases_mb/kelvin_cell_final/cylinder_tests/600_1e-05_conjugate-False_34"
       ]
      },
      {
       "output_type": "stream",
       "stream": "stdout",
       "text": [
        "\n",
        "600_1e-05_conjugate-False_34"
       ]
      },
      {
       "output_type": "stream",
       "stream": "stdout",
       "text": [
        "\n",
        "using prescribed x & y"
       ]
      },
      {
       "output_type": "stream",
       "stream": "stdout",
       "text": [
        "\n",
        "File 600_1e-05_conjugate-False_34_C3H6.png written to /home/vonrickenbach/testcases_mb/kelvin_cell_final/cylinder_tests/600_1e-05_conjugate-False_34"
       ]
      },
      {
       "output_type": "stream",
       "stream": "stdout",
       "text": [
        "\n",
        "==================================================="
       ]
      },
      {
       "output_type": "stream",
       "stream": "stdout",
       "text": [
        "\n",
        " Syncing processed folder  with Cluster      \n",
        "===================================================\n",
        "600_1e-05_conjugate-False_67"
       ]
      },
      {
       "output_type": "stream",
       "stream": "stdout",
       "text": [
        "\n",
        "using prescribed x & y"
       ]
      },
      {
       "output_type": "stream",
       "stream": "stdout",
       "text": [
        "\n",
        "File 600_1e-05_conjugate-False_67_U.png written to /home/vonrickenbach/testcases_mb/kelvin_cell_final/cylinder_tests/600_1e-05_conjugate-False_67"
       ]
      },
      {
       "output_type": "stream",
       "stream": "stdout",
       "text": [
        "\n",
        "600_1e-05_conjugate-False_67"
       ]
      },
      {
       "output_type": "stream",
       "stream": "stdout",
       "text": [
        "\n",
        "using prescribed x & y"
       ]
      },
      {
       "output_type": "stream",
       "stream": "stdout",
       "text": [
        "\n",
        "File 600_1e-05_conjugate-False_67_T.png written to /home/vonrickenbach/testcases_mb/kelvin_cell_final/cylinder_tests/600_1e-05_conjugate-False_67"
       ]
      },
      {
       "output_type": "stream",
       "stream": "stdout",
       "text": [
        "\n",
        "600_1e-05_conjugate-False_67"
       ]
      },
      {
       "output_type": "stream",
       "stream": "stdout",
       "text": [
        "\n",
        "using prescribed x & y"
       ]
      },
      {
       "output_type": "stream",
       "stream": "stdout",
       "text": [
        "\n",
        "File 600_1e-05_conjugate-False_67_C3H6.png written to /home/vonrickenbach/testcases_mb/kelvin_cell_final/cylinder_tests/600_1e-05_conjugate-False_67"
       ]
      },
      {
       "output_type": "stream",
       "stream": "stdout",
       "text": [
        "\n",
        "==================================================="
       ]
      },
      {
       "output_type": "stream",
       "stream": "stdout",
       "text": [
        "\n",
        " Syncing processed folder  with Cluster      \n",
        "===================================================\n",
        "600_1e-05_conjugate-False_100"
       ]
      },
      {
       "output_type": "stream",
       "stream": "stdout",
       "text": [
        "\n",
        "using prescribed x & y"
       ]
      },
      {
       "output_type": "stream",
       "stream": "stdout",
       "text": [
        "\n",
        "File 600_1e-05_conjugate-False_100_U.png written to /home/vonrickenbach/testcases_mb/kelvin_cell_final/cylinder_tests/600_1e-05_conjugate-False_100"
       ]
      },
      {
       "output_type": "stream",
       "stream": "stdout",
       "text": [
        "\n",
        "600_1e-05_conjugate-False_100"
       ]
      },
      {
       "output_type": "stream",
       "stream": "stdout",
       "text": [
        "\n",
        "using prescribed x & y"
       ]
      },
      {
       "output_type": "stream",
       "stream": "stdout",
       "text": [
        "\n",
        "File 600_1e-05_conjugate-False_100_T.png written to /home/vonrickenbach/testcases_mb/kelvin_cell_final/cylinder_tests/600_1e-05_conjugate-False_100"
       ]
      },
      {
       "output_type": "stream",
       "stream": "stdout",
       "text": [
        "\n",
        "600_1e-05_conjugate-False_100"
       ]
      },
      {
       "output_type": "stream",
       "stream": "stdout",
       "text": [
        "\n",
        "using prescribed x & y"
       ]
      },
      {
       "output_type": "stream",
       "stream": "stdout",
       "text": [
        "\n",
        "File 600_1e-05_conjugate-False_100_C3H6.png written to /home/vonrickenbach/testcases_mb/kelvin_cell_final/cylinder_tests/600_1e-05_conjugate-False_100"
       ]
      },
      {
       "output_type": "stream",
       "stream": "stdout",
       "text": [
        "\n",
        "==================================================="
       ]
      },
      {
       "output_type": "stream",
       "stream": "stdout",
       "text": [
        "\n",
        " Syncing processed folder  with Cluster      \n",
        "===================================================\n",
        "600_2e-05_conjugate-True_34"
       ]
      },
      {
       "output_type": "stream",
       "stream": "stdout",
       "text": [
        "\n",
        "using prescribed x & y"
       ]
      },
      {
       "output_type": "stream",
       "stream": "stdout",
       "text": [
        "\n",
        "File 600_2e-05_conjugate-True_34_U.png written to /home/vonrickenbach/testcases_mb/kelvin_cell_final/cylinder_tests/600_2e-05_conjugate-True_34"
       ]
      },
      {
       "output_type": "stream",
       "stream": "stdout",
       "text": [
        "\n",
        "600_2e-05_conjugate-True_34"
       ]
      },
      {
       "output_type": "stream",
       "stream": "stdout",
       "text": [
        "\n",
        "using prescribed x & y"
       ]
      },
      {
       "output_type": "stream",
       "stream": "stdout",
       "text": [
        "\n",
        "File 600_2e-05_conjugate-True_34_T.png written to /home/vonrickenbach/testcases_mb/kelvin_cell_final/cylinder_tests/600_2e-05_conjugate-True_34"
       ]
      },
      {
       "output_type": "stream",
       "stream": "stdout",
       "text": [
        "\n",
        "600_2e-05_conjugate-True_34"
       ]
      },
      {
       "output_type": "stream",
       "stream": "stdout",
       "text": [
        "\n",
        "using prescribed x & y"
       ]
      },
      {
       "output_type": "stream",
       "stream": "stdout",
       "text": [
        "\n",
        "File 600_2e-05_conjugate-True_34_C3H6.png written to /home/vonrickenbach/testcases_mb/kelvin_cell_final/cylinder_tests/600_2e-05_conjugate-True_34"
       ]
      },
      {
       "output_type": "stream",
       "stream": "stdout",
       "text": [
        "\n",
        "==================================================="
       ]
      },
      {
       "output_type": "stream",
       "stream": "stdout",
       "text": [
        "\n",
        " Syncing processed folder  with Cluster      \n",
        "===================================================\n",
        "600_2e-05_conjugate-True_67"
       ]
      },
      {
       "output_type": "stream",
       "stream": "stdout",
       "text": [
        "\n",
        "using prescribed x & y"
       ]
      },
      {
       "output_type": "stream",
       "stream": "stdout",
       "text": [
        "\n",
        "File 600_2e-05_conjugate-True_67_U.png written to /home/vonrickenbach/testcases_mb/kelvin_cell_final/cylinder_tests/600_2e-05_conjugate-True_67"
       ]
      },
      {
       "output_type": "stream",
       "stream": "stdout",
       "text": [
        "\n",
        "600_2e-05_conjugate-True_67"
       ]
      },
      {
       "output_type": "stream",
       "stream": "stdout",
       "text": [
        "\n",
        "using prescribed x & y"
       ]
      },
      {
       "output_type": "stream",
       "stream": "stdout",
       "text": [
        "\n",
        "File 600_2e-05_conjugate-True_67_T.png written to /home/vonrickenbach/testcases_mb/kelvin_cell_final/cylinder_tests/600_2e-05_conjugate-True_67"
       ]
      },
      {
       "output_type": "stream",
       "stream": "stdout",
       "text": [
        "\n",
        "600_2e-05_conjugate-True_67"
       ]
      },
      {
       "output_type": "stream",
       "stream": "stdout",
       "text": [
        "\n",
        "using prescribed x & y"
       ]
      },
      {
       "output_type": "stream",
       "stream": "stdout",
       "text": [
        "\n",
        "File 600_2e-05_conjugate-True_67_C3H6.png written to /home/vonrickenbach/testcases_mb/kelvin_cell_final/cylinder_tests/600_2e-05_conjugate-True_67"
       ]
      },
      {
       "output_type": "stream",
       "stream": "stdout",
       "text": [
        "\n",
        "==================================================="
       ]
      },
      {
       "output_type": "stream",
       "stream": "stdout",
       "text": [
        "\n",
        " Syncing processed folder  with Cluster      \n",
        "===================================================\n",
        "600_2e-05_conjugate-True_100"
       ]
      },
      {
       "output_type": "stream",
       "stream": "stdout",
       "text": [
        "\n",
        "using prescribed x & y"
       ]
      },
      {
       "output_type": "stream",
       "stream": "stdout",
       "text": [
        "\n",
        "File 600_2e-05_conjugate-True_100_U.png written to /home/vonrickenbach/testcases_mb/kelvin_cell_final/cylinder_tests/600_2e-05_conjugate-True_100"
       ]
      },
      {
       "output_type": "stream",
       "stream": "stdout",
       "text": [
        "\n",
        "600_2e-05_conjugate-True_100"
       ]
      },
      {
       "output_type": "stream",
       "stream": "stdout",
       "text": [
        "\n",
        "using prescribed x & y"
       ]
      },
      {
       "output_type": "stream",
       "stream": "stdout",
       "text": [
        "\n",
        "File 600_2e-05_conjugate-True_100_T.png written to /home/vonrickenbach/testcases_mb/kelvin_cell_final/cylinder_tests/600_2e-05_conjugate-True_100"
       ]
      },
      {
       "output_type": "stream",
       "stream": "stdout",
       "text": [
        "\n",
        "600_2e-05_conjugate-True_100"
       ]
      },
      {
       "output_type": "stream",
       "stream": "stdout",
       "text": [
        "\n",
        "using prescribed x & y"
       ]
      },
      {
       "output_type": "stream",
       "stream": "stdout",
       "text": [
        "\n",
        "File 600_2e-05_conjugate-True_100_C3H6.png written to /home/vonrickenbach/testcases_mb/kelvin_cell_final/cylinder_tests/600_2e-05_conjugate-True_100"
       ]
      },
      {
       "output_type": "stream",
       "stream": "stdout",
       "text": [
        "\n",
        "==================================================="
       ]
      },
      {
       "output_type": "stream",
       "stream": "stdout",
       "text": [
        "\n",
        " Syncing processed folder  with Cluster      \n",
        "===================================================\n",
        "600_2e-05_conjugate-False_34"
       ]
      },
      {
       "output_type": "stream",
       "stream": "stdout",
       "text": [
        "\n",
        "using prescribed x & y"
       ]
      },
      {
       "output_type": "stream",
       "stream": "stdout",
       "text": [
        "\n",
        "File 600_2e-05_conjugate-False_34_U.png written to /home/vonrickenbach/testcases_mb/kelvin_cell_final/cylinder_tests/600_2e-05_conjugate-False_34"
       ]
      },
      {
       "output_type": "stream",
       "stream": "stdout",
       "text": [
        "\n",
        "600_2e-05_conjugate-False_34"
       ]
      },
      {
       "output_type": "stream",
       "stream": "stdout",
       "text": [
        "\n",
        "using prescribed x & y"
       ]
      },
      {
       "output_type": "stream",
       "stream": "stdout",
       "text": [
        "\n",
        "File 600_2e-05_conjugate-False_34_T.png written to /home/vonrickenbach/testcases_mb/kelvin_cell_final/cylinder_tests/600_2e-05_conjugate-False_34"
       ]
      },
      {
       "output_type": "stream",
       "stream": "stdout",
       "text": [
        "\n",
        "600_2e-05_conjugate-False_34"
       ]
      },
      {
       "output_type": "stream",
       "stream": "stdout",
       "text": [
        "\n",
        "using prescribed x & y"
       ]
      },
      {
       "output_type": "stream",
       "stream": "stdout",
       "text": [
        "\n",
        "File 600_2e-05_conjugate-False_34_C3H6.png written to /home/vonrickenbach/testcases_mb/kelvin_cell_final/cylinder_tests/600_2e-05_conjugate-False_34"
       ]
      },
      {
       "output_type": "stream",
       "stream": "stdout",
       "text": [
        "\n",
        "==================================================="
       ]
      },
      {
       "output_type": "stream",
       "stream": "stdout",
       "text": [
        "\n",
        " Syncing processed folder  with Cluster      \n",
        "===================================================\n",
        "600_2e-05_conjugate-False_67"
       ]
      },
      {
       "output_type": "stream",
       "stream": "stdout",
       "text": [
        "\n",
        "using prescribed x & y"
       ]
      },
      {
       "output_type": "stream",
       "stream": "stdout",
       "text": [
        "\n",
        "File 600_2e-05_conjugate-False_67_U.png written to /home/vonrickenbach/testcases_mb/kelvin_cell_final/cylinder_tests/600_2e-05_conjugate-False_67"
       ]
      },
      {
       "output_type": "stream",
       "stream": "stdout",
       "text": [
        "\n",
        "600_2e-05_conjugate-False_67"
       ]
      },
      {
       "output_type": "stream",
       "stream": "stdout",
       "text": [
        "\n",
        "using prescribed x & y"
       ]
      },
      {
       "output_type": "stream",
       "stream": "stdout",
       "text": [
        "\n",
        "File 600_2e-05_conjugate-False_67_T.png written to /home/vonrickenbach/testcases_mb/kelvin_cell_final/cylinder_tests/600_2e-05_conjugate-False_67"
       ]
      },
      {
       "output_type": "stream",
       "stream": "stdout",
       "text": [
        "\n",
        "600_2e-05_conjugate-False_67"
       ]
      },
      {
       "output_type": "stream",
       "stream": "stdout",
       "text": [
        "\n",
        "using prescribed x & y"
       ]
      },
      {
       "output_type": "stream",
       "stream": "stdout",
       "text": [
        "\n",
        "File 600_2e-05_conjugate-False_67_C3H6.png written to /home/vonrickenbach/testcases_mb/kelvin_cell_final/cylinder_tests/600_2e-05_conjugate-False_67"
       ]
      },
      {
       "output_type": "stream",
       "stream": "stdout",
       "text": [
        "\n",
        "==================================================="
       ]
      },
      {
       "output_type": "stream",
       "stream": "stdout",
       "text": [
        "\n",
        " Syncing processed folder  with Cluster      \n",
        "===================================================\n",
        "600_2e-05_conjugate-False_100"
       ]
      },
      {
       "output_type": "stream",
       "stream": "stdout",
       "text": [
        "\n",
        "using prescribed x & y"
       ]
      },
      {
       "output_type": "stream",
       "stream": "stdout",
       "text": [
        "\n",
        "File 600_2e-05_conjugate-False_100_U.png written to /home/vonrickenbach/testcases_mb/kelvin_cell_final/cylinder_tests/600_2e-05_conjugate-False_100"
       ]
      },
      {
       "output_type": "stream",
       "stream": "stdout",
       "text": [
        "\n",
        "600_2e-05_conjugate-False_100"
       ]
      },
      {
       "output_type": "stream",
       "stream": "stdout",
       "text": [
        "\n",
        "using prescribed x & y"
       ]
      },
      {
       "output_type": "stream",
       "stream": "stdout",
       "text": [
        "\n",
        "File 600_2e-05_conjugate-False_100_T.png written to /home/vonrickenbach/testcases_mb/kelvin_cell_final/cylinder_tests/600_2e-05_conjugate-False_100"
       ]
      },
      {
       "output_type": "stream",
       "stream": "stdout",
       "text": [
        "\n",
        "600_2e-05_conjugate-False_100"
       ]
      },
      {
       "output_type": "stream",
       "stream": "stdout",
       "text": [
        "\n",
        "using prescribed x & y"
       ]
      },
      {
       "output_type": "stream",
       "stream": "stdout",
       "text": [
        "\n",
        "File 600_2e-05_conjugate-False_100_C3H6.png written to /home/vonrickenbach/testcases_mb/kelvin_cell_final/cylinder_tests/600_2e-05_conjugate-False_100"
       ]
      },
      {
       "output_type": "stream",
       "stream": "stdout",
       "text": [
        "\n",
        "==================================================="
       ]
      },
      {
       "output_type": "stream",
       "stream": "stdout",
       "text": [
        "\n",
        " Syncing processed folder  with Cluster      \n",
        "===================================================\n",
        "650_-1_conjugate-True_34"
       ]
      },
      {
       "output_type": "stream",
       "stream": "stdout",
       "text": [
        "\n",
        "using prescribed x & y"
       ]
      },
      {
       "output_type": "stream",
       "stream": "stdout",
       "text": [
        "\n",
        "File 650_-1_conjugate-True_34_U.png written to /home/vonrickenbach/testcases_mb/kelvin_cell_final/cylinder_tests/650_-1_conjugate-True_34"
       ]
      },
      {
       "output_type": "stream",
       "stream": "stdout",
       "text": [
        "\n",
        "650_-1_conjugate-True_34"
       ]
      },
      {
       "output_type": "stream",
       "stream": "stdout",
       "text": [
        "\n",
        "using prescribed x & y"
       ]
      },
      {
       "output_type": "stream",
       "stream": "stdout",
       "text": [
        "\n",
        "File 650_-1_conjugate-True_34_T.png written to /home/vonrickenbach/testcases_mb/kelvin_cell_final/cylinder_tests/650_-1_conjugate-True_34"
       ]
      },
      {
       "output_type": "stream",
       "stream": "stdout",
       "text": [
        "\n",
        "650_-1_conjugate-True_34"
       ]
      },
      {
       "output_type": "stream",
       "stream": "stdout",
       "text": [
        "\n",
        "using prescribed x & y"
       ]
      },
      {
       "output_type": "stream",
       "stream": "stdout",
       "text": [
        "\n",
        "File 650_-1_conjugate-True_34_C3H6.png written to /home/vonrickenbach/testcases_mb/kelvin_cell_final/cylinder_tests/650_-1_conjugate-True_34"
       ]
      },
      {
       "output_type": "stream",
       "stream": "stdout",
       "text": [
        "\n",
        "==================================================="
       ]
      },
      {
       "output_type": "stream",
       "stream": "stdout",
       "text": [
        "\n",
        " Syncing processed folder  with Cluster      \n",
        "===================================================\n",
        "650_-1_conjugate-True_67"
       ]
      },
      {
       "output_type": "stream",
       "stream": "stdout",
       "text": [
        "\n",
        "using prescribed x & y"
       ]
      },
      {
       "output_type": "stream",
       "stream": "stdout",
       "text": [
        "\n",
        "File 650_-1_conjugate-True_67_U.png written to /home/vonrickenbach/testcases_mb/kelvin_cell_final/cylinder_tests/650_-1_conjugate-True_67"
       ]
      },
      {
       "output_type": "stream",
       "stream": "stdout",
       "text": [
        "\n",
        "650_-1_conjugate-True_67"
       ]
      },
      {
       "output_type": "stream",
       "stream": "stdout",
       "text": [
        "\n",
        "using prescribed x & y"
       ]
      },
      {
       "output_type": "stream",
       "stream": "stdout",
       "text": [
        "\n",
        "File 650_-1_conjugate-True_67_T.png written to /home/vonrickenbach/testcases_mb/kelvin_cell_final/cylinder_tests/650_-1_conjugate-True_67"
       ]
      },
      {
       "output_type": "stream",
       "stream": "stdout",
       "text": [
        "\n",
        "650_-1_conjugate-True_67"
       ]
      },
      {
       "output_type": "stream",
       "stream": "stdout",
       "text": [
        "\n",
        "using prescribed x & y"
       ]
      },
      {
       "output_type": "stream",
       "stream": "stdout",
       "text": [
        "\n",
        "File 650_-1_conjugate-True_67_C3H6.png written to /home/vonrickenbach/testcases_mb/kelvin_cell_final/cylinder_tests/650_-1_conjugate-True_67"
       ]
      },
      {
       "output_type": "stream",
       "stream": "stdout",
       "text": [
        "\n",
        "==================================================="
       ]
      },
      {
       "output_type": "stream",
       "stream": "stdout",
       "text": [
        "\n",
        " Syncing processed folder  with Cluster      \n",
        "===================================================\n",
        "650_-1_conjugate-True_100"
       ]
      },
      {
       "output_type": "stream",
       "stream": "stdout",
       "text": [
        "\n",
        "using prescribed x & y"
       ]
      },
      {
       "output_type": "stream",
       "stream": "stdout",
       "text": [
        "\n",
        "File 650_-1_conjugate-True_100_U.png written to /home/vonrickenbach/testcases_mb/kelvin_cell_final/cylinder_tests/650_-1_conjugate-True_100"
       ]
      },
      {
       "output_type": "stream",
       "stream": "stdout",
       "text": [
        "\n",
        "650_-1_conjugate-True_100"
       ]
      },
      {
       "output_type": "stream",
       "stream": "stdout",
       "text": [
        "\n",
        "using prescribed x & y"
       ]
      },
      {
       "output_type": "stream",
       "stream": "stdout",
       "text": [
        "\n",
        "File 650_-1_conjugate-True_100_T.png written to /home/vonrickenbach/testcases_mb/kelvin_cell_final/cylinder_tests/650_-1_conjugate-True_100"
       ]
      },
      {
       "output_type": "stream",
       "stream": "stdout",
       "text": [
        "\n",
        "650_-1_conjugate-True_100"
       ]
      },
      {
       "output_type": "stream",
       "stream": "stdout",
       "text": [
        "\n",
        "using prescribed x & y"
       ]
      },
      {
       "output_type": "stream",
       "stream": "stdout",
       "text": [
        "\n",
        "File 650_-1_conjugate-True_100_C3H6.png written to /home/vonrickenbach/testcases_mb/kelvin_cell_final/cylinder_tests/650_-1_conjugate-True_100"
       ]
      },
      {
       "output_type": "stream",
       "stream": "stdout",
       "text": [
        "\n",
        "==================================================="
       ]
      },
      {
       "output_type": "stream",
       "stream": "stdout",
       "text": [
        "\n",
        " Syncing processed folder  with Cluster      \n",
        "===================================================\n",
        "650_-1_conjugate-False_34"
       ]
      },
      {
       "output_type": "stream",
       "stream": "stdout",
       "text": [
        "\n",
        "using prescribed x & y"
       ]
      },
      {
       "output_type": "stream",
       "stream": "stdout",
       "text": [
        "\n",
        "File 650_-1_conjugate-False_34_U.png written to /home/vonrickenbach/testcases_mb/kelvin_cell_final/cylinder_tests/650_-1_conjugate-False_34"
       ]
      },
      {
       "output_type": "stream",
       "stream": "stdout",
       "text": [
        "\n",
        "650_-1_conjugate-False_34"
       ]
      },
      {
       "output_type": "stream",
       "stream": "stdout",
       "text": [
        "\n",
        "using prescribed x & y"
       ]
      },
      {
       "output_type": "stream",
       "stream": "stdout",
       "text": [
        "\n",
        "File 650_-1_conjugate-False_34_T.png written to /home/vonrickenbach/testcases_mb/kelvin_cell_final/cylinder_tests/650_-1_conjugate-False_34"
       ]
      },
      {
       "output_type": "stream",
       "stream": "stdout",
       "text": [
        "\n",
        "650_-1_conjugate-False_34"
       ]
      },
      {
       "output_type": "stream",
       "stream": "stdout",
       "text": [
        "\n",
        "using prescribed x & y"
       ]
      },
      {
       "output_type": "stream",
       "stream": "stdout",
       "text": [
        "\n",
        "File 650_-1_conjugate-False_34_C3H6.png written to /home/vonrickenbach/testcases_mb/kelvin_cell_final/cylinder_tests/650_-1_conjugate-False_34"
       ]
      },
      {
       "output_type": "stream",
       "stream": "stdout",
       "text": [
        "\n",
        "==================================================="
       ]
      },
      {
       "output_type": "stream",
       "stream": "stdout",
       "text": [
        "\n",
        " Syncing processed folder  with Cluster      \n",
        "===================================================\n",
        "650_-1_conjugate-False_67"
       ]
      },
      {
       "output_type": "stream",
       "stream": "stdout",
       "text": [
        "\n",
        "using prescribed x & y"
       ]
      },
      {
       "output_type": "stream",
       "stream": "stdout",
       "text": [
        "\n",
        "File 650_-1_conjugate-False_67_U.png written to /home/vonrickenbach/testcases_mb/kelvin_cell_final/cylinder_tests/650_-1_conjugate-False_67"
       ]
      },
      {
       "output_type": "stream",
       "stream": "stdout",
       "text": [
        "\n",
        "650_-1_conjugate-False_67"
       ]
      },
      {
       "output_type": "stream",
       "stream": "stdout",
       "text": [
        "\n",
        "using prescribed x & y"
       ]
      },
      {
       "output_type": "stream",
       "stream": "stdout",
       "text": [
        "\n",
        "File 650_-1_conjugate-False_67_T.png written to /home/vonrickenbach/testcases_mb/kelvin_cell_final/cylinder_tests/650_-1_conjugate-False_67"
       ]
      },
      {
       "output_type": "stream",
       "stream": "stdout",
       "text": [
        "\n",
        "650_-1_conjugate-False_67"
       ]
      },
      {
       "output_type": "stream",
       "stream": "stdout",
       "text": [
        "\n",
        "using prescribed x & y"
       ]
      },
      {
       "output_type": "stream",
       "stream": "stdout",
       "text": [
        "\n",
        "File 650_-1_conjugate-False_67_C3H6.png written to /home/vonrickenbach/testcases_mb/kelvin_cell_final/cylinder_tests/650_-1_conjugate-False_67"
       ]
      },
      {
       "output_type": "stream",
       "stream": "stdout",
       "text": [
        "\n",
        "==================================================="
       ]
      },
      {
       "output_type": "stream",
       "stream": "stdout",
       "text": [
        "\n",
        " Syncing processed folder  with Cluster      \n",
        "===================================================\n",
        "650_-1_conjugate-False_100"
       ]
      },
      {
       "output_type": "stream",
       "stream": "stdout",
       "text": [
        "\n",
        "using prescribed x & y"
       ]
      },
      {
       "output_type": "stream",
       "stream": "stdout",
       "text": [
        "\n",
        "File 650_-1_conjugate-False_100_U.png written to /home/vonrickenbach/testcases_mb/kelvin_cell_final/cylinder_tests/650_-1_conjugate-False_100"
       ]
      },
      {
       "output_type": "stream",
       "stream": "stdout",
       "text": [
        "\n",
        "650_-1_conjugate-False_100"
       ]
      },
      {
       "output_type": "stream",
       "stream": "stdout",
       "text": [
        "\n",
        "using prescribed x & y"
       ]
      },
      {
       "output_type": "stream",
       "stream": "stdout",
       "text": [
        "\n",
        "File 650_-1_conjugate-False_100_T.png written to /home/vonrickenbach/testcases_mb/kelvin_cell_final/cylinder_tests/650_-1_conjugate-False_100"
       ]
      },
      {
       "output_type": "stream",
       "stream": "stdout",
       "text": [
        "\n",
        "650_-1_conjugate-False_100"
       ]
      },
      {
       "output_type": "stream",
       "stream": "stdout",
       "text": [
        "\n",
        "using prescribed x & y"
       ]
      },
      {
       "output_type": "stream",
       "stream": "stdout",
       "text": [
        "\n",
        "File 650_-1_conjugate-False_100_C3H6.png written to /home/vonrickenbach/testcases_mb/kelvin_cell_final/cylinder_tests/650_-1_conjugate-False_100"
       ]
      },
      {
       "output_type": "stream",
       "stream": "stdout",
       "text": [
        "\n",
        "==================================================="
       ]
      },
      {
       "output_type": "stream",
       "stream": "stdout",
       "text": [
        "\n",
        " Syncing processed folder  with Cluster      \n",
        "===================================================\n",
        "650_1e-05_conjugate-True_34"
       ]
      },
      {
       "output_type": "stream",
       "stream": "stdout",
       "text": [
        "\n",
        "using prescribed x & y"
       ]
      },
      {
       "output_type": "stream",
       "stream": "stdout",
       "text": [
        "\n",
        "File 650_1e-05_conjugate-True_34_U.png written to /home/vonrickenbach/testcases_mb/kelvin_cell_final/cylinder_tests/650_1e-05_conjugate-True_34"
       ]
      },
      {
       "output_type": "stream",
       "stream": "stdout",
       "text": [
        "\n",
        "650_1e-05_conjugate-True_34"
       ]
      },
      {
       "output_type": "stream",
       "stream": "stdout",
       "text": [
        "\n",
        "using prescribed x & y"
       ]
      },
      {
       "output_type": "stream",
       "stream": "stdout",
       "text": [
        "\n",
        "File 650_1e-05_conjugate-True_34_T.png written to /home/vonrickenbach/testcases_mb/kelvin_cell_final/cylinder_tests/650_1e-05_conjugate-True_34"
       ]
      },
      {
       "output_type": "stream",
       "stream": "stdout",
       "text": [
        "\n",
        "650_1e-05_conjugate-True_34"
       ]
      },
      {
       "output_type": "stream",
       "stream": "stdout",
       "text": [
        "\n",
        "using prescribed x & y"
       ]
      },
      {
       "output_type": "stream",
       "stream": "stdout",
       "text": [
        "\n",
        "File 650_1e-05_conjugate-True_34_C3H6.png written to /home/vonrickenbach/testcases_mb/kelvin_cell_final/cylinder_tests/650_1e-05_conjugate-True_34"
       ]
      },
      {
       "output_type": "stream",
       "stream": "stdout",
       "text": [
        "\n",
        "==================================================="
       ]
      },
      {
       "output_type": "stream",
       "stream": "stdout",
       "text": [
        "\n",
        " Syncing processed folder  with Cluster      \n",
        "===================================================\n",
        "650_1e-05_conjugate-True_67"
       ]
      },
      {
       "output_type": "stream",
       "stream": "stdout",
       "text": [
        "\n",
        "using prescribed x & y"
       ]
      },
      {
       "output_type": "stream",
       "stream": "stdout",
       "text": [
        "\n",
        "File 650_1e-05_conjugate-True_67_U.png written to /home/vonrickenbach/testcases_mb/kelvin_cell_final/cylinder_tests/650_1e-05_conjugate-True_67"
       ]
      },
      {
       "output_type": "stream",
       "stream": "stdout",
       "text": [
        "\n",
        "650_1e-05_conjugate-True_67"
       ]
      },
      {
       "output_type": "stream",
       "stream": "stdout",
       "text": [
        "\n",
        "using prescribed x & y"
       ]
      },
      {
       "output_type": "stream",
       "stream": "stdout",
       "text": [
        "\n",
        "File 650_1e-05_conjugate-True_67_T.png written to /home/vonrickenbach/testcases_mb/kelvin_cell_final/cylinder_tests/650_1e-05_conjugate-True_67"
       ]
      },
      {
       "output_type": "stream",
       "stream": "stdout",
       "text": [
        "\n",
        "650_1e-05_conjugate-True_67"
       ]
      },
      {
       "output_type": "stream",
       "stream": "stdout",
       "text": [
        "\n",
        "using prescribed x & y"
       ]
      },
      {
       "output_type": "stream",
       "stream": "stdout",
       "text": [
        "\n",
        "File 650_1e-05_conjugate-True_67_C3H6.png written to /home/vonrickenbach/testcases_mb/kelvin_cell_final/cylinder_tests/650_1e-05_conjugate-True_67"
       ]
      },
      {
       "output_type": "stream",
       "stream": "stdout",
       "text": [
        "\n",
        "==================================================="
       ]
      },
      {
       "output_type": "stream",
       "stream": "stdout",
       "text": [
        "\n",
        " Syncing processed folder  with Cluster      \n",
        "===================================================\n",
        "650_1e-05_conjugate-True_100"
       ]
      },
      {
       "output_type": "stream",
       "stream": "stdout",
       "text": [
        "\n",
        "using prescribed x & y"
       ]
      },
      {
       "output_type": "stream",
       "stream": "stdout",
       "text": [
        "\n",
        "File 650_1e-05_conjugate-True_100_U.png written to /home/vonrickenbach/testcases_mb/kelvin_cell_final/cylinder_tests/650_1e-05_conjugate-True_100"
       ]
      },
      {
       "output_type": "stream",
       "stream": "stdout",
       "text": [
        "\n",
        "650_1e-05_conjugate-True_100"
       ]
      },
      {
       "output_type": "stream",
       "stream": "stdout",
       "text": [
        "\n",
        "using prescribed x & y"
       ]
      },
      {
       "output_type": "stream",
       "stream": "stdout",
       "text": [
        "\n",
        "File 650_1e-05_conjugate-True_100_T.png written to /home/vonrickenbach/testcases_mb/kelvin_cell_final/cylinder_tests/650_1e-05_conjugate-True_100"
       ]
      },
      {
       "output_type": "stream",
       "stream": "stdout",
       "text": [
        "\n",
        "650_1e-05_conjugate-True_100"
       ]
      },
      {
       "output_type": "stream",
       "stream": "stdout",
       "text": [
        "\n",
        "using prescribed x & y"
       ]
      },
      {
       "output_type": "stream",
       "stream": "stdout",
       "text": [
        "\n",
        "File 650_1e-05_conjugate-True_100_C3H6.png written to /home/vonrickenbach/testcases_mb/kelvin_cell_final/cylinder_tests/650_1e-05_conjugate-True_100"
       ]
      },
      {
       "output_type": "stream",
       "stream": "stdout",
       "text": [
        "\n",
        "==================================================="
       ]
      },
      {
       "output_type": "stream",
       "stream": "stdout",
       "text": [
        "\n",
        " Syncing processed folder  with Cluster      \n",
        "===================================================\n",
        "650_1e-05_conjugate-False_34"
       ]
      },
      {
       "output_type": "stream",
       "stream": "stdout",
       "text": [
        "\n",
        "using prescribed x & y"
       ]
      },
      {
       "output_type": "stream",
       "stream": "stdout",
       "text": [
        "\n",
        "File 650_1e-05_conjugate-False_34_U.png written to /home/vonrickenbach/testcases_mb/kelvin_cell_final/cylinder_tests/650_1e-05_conjugate-False_34"
       ]
      },
      {
       "output_type": "stream",
       "stream": "stdout",
       "text": [
        "\n",
        "650_1e-05_conjugate-False_34"
       ]
      },
      {
       "output_type": "stream",
       "stream": "stdout",
       "text": [
        "\n",
        "using prescribed x & y"
       ]
      },
      {
       "output_type": "stream",
       "stream": "stdout",
       "text": [
        "\n",
        "File 650_1e-05_conjugate-False_34_T.png written to /home/vonrickenbach/testcases_mb/kelvin_cell_final/cylinder_tests/650_1e-05_conjugate-False_34"
       ]
      },
      {
       "output_type": "stream",
       "stream": "stdout",
       "text": [
        "\n",
        "650_1e-05_conjugate-False_34"
       ]
      },
      {
       "output_type": "stream",
       "stream": "stdout",
       "text": [
        "\n",
        "using prescribed x & y"
       ]
      },
      {
       "output_type": "stream",
       "stream": "stdout",
       "text": [
        "\n",
        "File 650_1e-05_conjugate-False_34_C3H6.png written to /home/vonrickenbach/testcases_mb/kelvin_cell_final/cylinder_tests/650_1e-05_conjugate-False_34"
       ]
      },
      {
       "output_type": "stream",
       "stream": "stdout",
       "text": [
        "\n",
        "==================================================="
       ]
      },
      {
       "output_type": "stream",
       "stream": "stdout",
       "text": [
        "\n",
        " Syncing processed folder  with Cluster      \n",
        "===================================================\n",
        "650_1e-05_conjugate-False_67"
       ]
      },
      {
       "output_type": "stream",
       "stream": "stdout",
       "text": [
        "\n",
        "using prescribed x & y"
       ]
      },
      {
       "output_type": "stream",
       "stream": "stdout",
       "text": [
        "\n",
        "File 650_1e-05_conjugate-False_67_U.png written to /home/vonrickenbach/testcases_mb/kelvin_cell_final/cylinder_tests/650_1e-05_conjugate-False_67"
       ]
      },
      {
       "output_type": "stream",
       "stream": "stdout",
       "text": [
        "\n",
        "650_1e-05_conjugate-False_67"
       ]
      },
      {
       "output_type": "stream",
       "stream": "stdout",
       "text": [
        "\n",
        "using prescribed x & y"
       ]
      },
      {
       "output_type": "stream",
       "stream": "stdout",
       "text": [
        "\n",
        "File 650_1e-05_conjugate-False_67_T.png written to /home/vonrickenbach/testcases_mb/kelvin_cell_final/cylinder_tests/650_1e-05_conjugate-False_67"
       ]
      },
      {
       "output_type": "stream",
       "stream": "stdout",
       "text": [
        "\n",
        "650_1e-05_conjugate-False_67"
       ]
      },
      {
       "output_type": "stream",
       "stream": "stdout",
       "text": [
        "\n",
        "using prescribed x & y"
       ]
      },
      {
       "output_type": "stream",
       "stream": "stdout",
       "text": [
        "\n",
        "File 650_1e-05_conjugate-False_67_C3H6.png written to /home/vonrickenbach/testcases_mb/kelvin_cell_final/cylinder_tests/650_1e-05_conjugate-False_67"
       ]
      },
      {
       "output_type": "stream",
       "stream": "stdout",
       "text": [
        "\n",
        "==================================================="
       ]
      },
      {
       "output_type": "stream",
       "stream": "stdout",
       "text": [
        "\n",
        " Syncing processed folder  with Cluster      \n",
        "===================================================\n",
        "650_1e-05_conjugate-False_100"
       ]
      },
      {
       "output_type": "stream",
       "stream": "stdout",
       "text": [
        "\n",
        "using prescribed x & y"
       ]
      },
      {
       "output_type": "stream",
       "stream": "stdout",
       "text": [
        "\n",
        "File 650_1e-05_conjugate-False_100_U.png written to /home/vonrickenbach/testcases_mb/kelvin_cell_final/cylinder_tests/650_1e-05_conjugate-False_100"
       ]
      },
      {
       "output_type": "stream",
       "stream": "stdout",
       "text": [
        "\n",
        "650_1e-05_conjugate-False_100"
       ]
      },
      {
       "output_type": "stream",
       "stream": "stdout",
       "text": [
        "\n",
        "using prescribed x & y"
       ]
      },
      {
       "output_type": "stream",
       "stream": "stdout",
       "text": [
        "\n",
        "File 650_1e-05_conjugate-False_100_T.png written to /home/vonrickenbach/testcases_mb/kelvin_cell_final/cylinder_tests/650_1e-05_conjugate-False_100"
       ]
      },
      {
       "output_type": "stream",
       "stream": "stdout",
       "text": [
        "\n",
        "650_1e-05_conjugate-False_100"
       ]
      },
      {
       "output_type": "stream",
       "stream": "stdout",
       "text": [
        "\n",
        "using prescribed x & y"
       ]
      },
      {
       "output_type": "stream",
       "stream": "stdout",
       "text": [
        "\n",
        "File 650_1e-05_conjugate-False_100_C3H6.png written to /home/vonrickenbach/testcases_mb/kelvin_cell_final/cylinder_tests/650_1e-05_conjugate-False_100"
       ]
      },
      {
       "output_type": "stream",
       "stream": "stdout",
       "text": [
        "\n",
        "==================================================="
       ]
      },
      {
       "output_type": "stream",
       "stream": "stdout",
       "text": [
        "\n",
        " Syncing processed folder  with Cluster      \n",
        "===================================================\n",
        "650_2e-05_conjugate-True_34"
       ]
      },
      {
       "output_type": "stream",
       "stream": "stdout",
       "text": [
        "\n",
        "using prescribed x & y"
       ]
      },
      {
       "output_type": "stream",
       "stream": "stdout",
       "text": [
        "\n",
        "File 650_2e-05_conjugate-True_34_U.png written to /home/vonrickenbach/testcases_mb/kelvin_cell_final/cylinder_tests/650_2e-05_conjugate-True_34"
       ]
      },
      {
       "output_type": "stream",
       "stream": "stdout",
       "text": [
        "\n",
        "650_2e-05_conjugate-True_34"
       ]
      },
      {
       "output_type": "stream",
       "stream": "stdout",
       "text": [
        "\n",
        "using prescribed x & y"
       ]
      },
      {
       "output_type": "stream",
       "stream": "stdout",
       "text": [
        "\n",
        "File 650_2e-05_conjugate-True_34_T.png written to /home/vonrickenbach/testcases_mb/kelvin_cell_final/cylinder_tests/650_2e-05_conjugate-True_34"
       ]
      },
      {
       "output_type": "stream",
       "stream": "stdout",
       "text": [
        "\n",
        "650_2e-05_conjugate-True_34"
       ]
      },
      {
       "output_type": "stream",
       "stream": "stdout",
       "text": [
        "\n",
        "using prescribed x & y"
       ]
      },
      {
       "output_type": "stream",
       "stream": "stdout",
       "text": [
        "\n",
        "File 650_2e-05_conjugate-True_34_C3H6.png written to /home/vonrickenbach/testcases_mb/kelvin_cell_final/cylinder_tests/650_2e-05_conjugate-True_34"
       ]
      },
      {
       "output_type": "stream",
       "stream": "stdout",
       "text": [
        "\n",
        "==================================================="
       ]
      },
      {
       "output_type": "stream",
       "stream": "stdout",
       "text": [
        "\n",
        " Syncing processed folder  with Cluster      \n",
        "===================================================\n",
        "650_2e-05_conjugate-True_67"
       ]
      },
      {
       "output_type": "stream",
       "stream": "stdout",
       "text": [
        "\n",
        "using prescribed x & y"
       ]
      },
      {
       "output_type": "stream",
       "stream": "stdout",
       "text": [
        "\n",
        "File 650_2e-05_conjugate-True_67_U.png written to /home/vonrickenbach/testcases_mb/kelvin_cell_final/cylinder_tests/650_2e-05_conjugate-True_67"
       ]
      },
      {
       "output_type": "stream",
       "stream": "stdout",
       "text": [
        "\n",
        "650_2e-05_conjugate-True_67"
       ]
      },
      {
       "output_type": "stream",
       "stream": "stdout",
       "text": [
        "\n",
        "using prescribed x & y"
       ]
      },
      {
       "output_type": "stream",
       "stream": "stdout",
       "text": [
        "\n",
        "File 650_2e-05_conjugate-True_67_T.png written to /home/vonrickenbach/testcases_mb/kelvin_cell_final/cylinder_tests/650_2e-05_conjugate-True_67"
       ]
      },
      {
       "output_type": "stream",
       "stream": "stdout",
       "text": [
        "\n",
        "650_2e-05_conjugate-True_67"
       ]
      },
      {
       "output_type": "stream",
       "stream": "stdout",
       "text": [
        "\n",
        "using prescribed x & y"
       ]
      },
      {
       "output_type": "stream",
       "stream": "stdout",
       "text": [
        "\n",
        "File 650_2e-05_conjugate-True_67_C3H6.png written to /home/vonrickenbach/testcases_mb/kelvin_cell_final/cylinder_tests/650_2e-05_conjugate-True_67"
       ]
      },
      {
       "output_type": "stream",
       "stream": "stdout",
       "text": [
        "\n",
        "==================================================="
       ]
      },
      {
       "output_type": "stream",
       "stream": "stdout",
       "text": [
        "\n",
        " Syncing processed folder  with Cluster      \n",
        "===================================================\n",
        "650_2e-05_conjugate-True_100"
       ]
      },
      {
       "output_type": "stream",
       "stream": "stdout",
       "text": [
        "\n",
        "using prescribed x & y"
       ]
      },
      {
       "output_type": "stream",
       "stream": "stdout",
       "text": [
        "\n",
        "File 650_2e-05_conjugate-True_100_U.png written to /home/vonrickenbach/testcases_mb/kelvin_cell_final/cylinder_tests/650_2e-05_conjugate-True_100"
       ]
      },
      {
       "output_type": "stream",
       "stream": "stdout",
       "text": [
        "\n",
        "650_2e-05_conjugate-True_100"
       ]
      },
      {
       "output_type": "stream",
       "stream": "stdout",
       "text": [
        "\n",
        "using prescribed x & y"
       ]
      },
      {
       "output_type": "stream",
       "stream": "stdout",
       "text": [
        "\n",
        "File 650_2e-05_conjugate-True_100_T.png written to /home/vonrickenbach/testcases_mb/kelvin_cell_final/cylinder_tests/650_2e-05_conjugate-True_100"
       ]
      },
      {
       "output_type": "stream",
       "stream": "stdout",
       "text": [
        "\n",
        "650_2e-05_conjugate-True_100"
       ]
      },
      {
       "output_type": "stream",
       "stream": "stdout",
       "text": [
        "\n",
        "using prescribed x & y"
       ]
      },
      {
       "output_type": "stream",
       "stream": "stdout",
       "text": [
        "\n",
        "File 650_2e-05_conjugate-True_100_C3H6.png written to /home/vonrickenbach/testcases_mb/kelvin_cell_final/cylinder_tests/650_2e-05_conjugate-True_100"
       ]
      },
      {
       "output_type": "stream",
       "stream": "stdout",
       "text": [
        "\n",
        "==================================================="
       ]
      },
      {
       "output_type": "stream",
       "stream": "stdout",
       "text": [
        "\n",
        " Syncing processed folder  with Cluster      \n",
        "===================================================\n",
        "650_2e-05_conjugate-False_34"
       ]
      },
      {
       "output_type": "stream",
       "stream": "stdout",
       "text": [
        "\n",
        "using prescribed x & y"
       ]
      },
      {
       "output_type": "stream",
       "stream": "stdout",
       "text": [
        "\n",
        "File 650_2e-05_conjugate-False_34_U.png written to /home/vonrickenbach/testcases_mb/kelvin_cell_final/cylinder_tests/650_2e-05_conjugate-False_34"
       ]
      },
      {
       "output_type": "stream",
       "stream": "stdout",
       "text": [
        "\n",
        "650_2e-05_conjugate-False_34"
       ]
      },
      {
       "output_type": "stream",
       "stream": "stdout",
       "text": [
        "\n",
        "using prescribed x & y"
       ]
      },
      {
       "output_type": "stream",
       "stream": "stdout",
       "text": [
        "\n",
        "File 650_2e-05_conjugate-False_34_T.png written to /home/vonrickenbach/testcases_mb/kelvin_cell_final/cylinder_tests/650_2e-05_conjugate-False_34"
       ]
      },
      {
       "output_type": "stream",
       "stream": "stdout",
       "text": [
        "\n",
        "650_2e-05_conjugate-False_34"
       ]
      },
      {
       "output_type": "stream",
       "stream": "stdout",
       "text": [
        "\n",
        "using prescribed x & y"
       ]
      },
      {
       "output_type": "stream",
       "stream": "stdout",
       "text": [
        "\n",
        "File 650_2e-05_conjugate-False_34_C3H6.png written to /home/vonrickenbach/testcases_mb/kelvin_cell_final/cylinder_tests/650_2e-05_conjugate-False_34"
       ]
      },
      {
       "output_type": "stream",
       "stream": "stdout",
       "text": [
        "\n",
        "==================================================="
       ]
      },
      {
       "output_type": "stream",
       "stream": "stdout",
       "text": [
        "\n",
        " Syncing processed folder  with Cluster      \n",
        "===================================================\n",
        "650_2e-05_conjugate-False_67"
       ]
      },
      {
       "output_type": "stream",
       "stream": "stdout",
       "text": [
        "\n",
        "using prescribed x & y"
       ]
      },
      {
       "output_type": "stream",
       "stream": "stdout",
       "text": [
        "\n",
        "File 650_2e-05_conjugate-False_67_U.png written to /home/vonrickenbach/testcases_mb/kelvin_cell_final/cylinder_tests/650_2e-05_conjugate-False_67"
       ]
      },
      {
       "output_type": "stream",
       "stream": "stdout",
       "text": [
        "\n",
        "650_2e-05_conjugate-False_67"
       ]
      },
      {
       "output_type": "stream",
       "stream": "stdout",
       "text": [
        "\n",
        "using prescribed x & y"
       ]
      },
      {
       "output_type": "stream",
       "stream": "stdout",
       "text": [
        "\n",
        "File 650_2e-05_conjugate-False_67_T.png written to /home/vonrickenbach/testcases_mb/kelvin_cell_final/cylinder_tests/650_2e-05_conjugate-False_67"
       ]
      },
      {
       "output_type": "stream",
       "stream": "stdout",
       "text": [
        "\n",
        "650_2e-05_conjugate-False_67"
       ]
      },
      {
       "output_type": "stream",
       "stream": "stdout",
       "text": [
        "\n",
        "using prescribed x & y"
       ]
      },
      {
       "output_type": "stream",
       "stream": "stdout",
       "text": [
        "\n",
        "File 650_2e-05_conjugate-False_67_C3H6.png written to /home/vonrickenbach/testcases_mb/kelvin_cell_final/cylinder_tests/650_2e-05_conjugate-False_67"
       ]
      },
      {
       "output_type": "stream",
       "stream": "stdout",
       "text": [
        "\n",
        "==================================================="
       ]
      },
      {
       "output_type": "stream",
       "stream": "stdout",
       "text": [
        "\n",
        " Syncing processed folder  with Cluster      \n",
        "===================================================\n",
        "650_2e-05_conjugate-False_100"
       ]
      },
      {
       "output_type": "stream",
       "stream": "stdout",
       "text": [
        "\n",
        "using prescribed x & y"
       ]
      },
      {
       "output_type": "stream",
       "stream": "stdout",
       "text": [
        "\n",
        "File 650_2e-05_conjugate-False_100_U.png written to /home/vonrickenbach/testcases_mb/kelvin_cell_final/cylinder_tests/650_2e-05_conjugate-False_100"
       ]
      },
      {
       "output_type": "stream",
       "stream": "stdout",
       "text": [
        "\n",
        "650_2e-05_conjugate-False_100"
       ]
      },
      {
       "output_type": "stream",
       "stream": "stdout",
       "text": [
        "\n",
        "using prescribed x & y"
       ]
      },
      {
       "output_type": "stream",
       "stream": "stdout",
       "text": [
        "\n",
        "File 650_2e-05_conjugate-False_100_T.png written to /home/vonrickenbach/testcases_mb/kelvin_cell_final/cylinder_tests/650_2e-05_conjugate-False_100"
       ]
      },
      {
       "output_type": "stream",
       "stream": "stdout",
       "text": [
        "\n",
        "650_2e-05_conjugate-False_100"
       ]
      },
      {
       "output_type": "stream",
       "stream": "stdout",
       "text": [
        "\n",
        "using prescribed x & y"
       ]
      },
      {
       "output_type": "stream",
       "stream": "stdout",
       "text": [
        "\n",
        "File 650_2e-05_conjugate-False_100_C3H6.png written to /home/vonrickenbach/testcases_mb/kelvin_cell_final/cylinder_tests/650_2e-05_conjugate-False_100"
       ]
      },
      {
       "output_type": "stream",
       "stream": "stdout",
       "text": [
        "\n",
        "==================================================="
       ]
      },
      {
       "output_type": "stream",
       "stream": "stdout",
       "text": [
        "\n",
        " Syncing processed folder  with Cluster      \n",
        "===================================================\n",
        "700_-1_conjugate-True_34"
       ]
      },
      {
       "output_type": "stream",
       "stream": "stdout",
       "text": [
        "\n",
        "using prescribed x & y"
       ]
      },
      {
       "output_type": "stream",
       "stream": "stdout",
       "text": [
        "\n",
        "File 700_-1_conjugate-True_34_U.png written to /home/vonrickenbach/testcases_mb/kelvin_cell_final/cylinder_tests/700_-1_conjugate-True_34"
       ]
      },
      {
       "output_type": "stream",
       "stream": "stdout",
       "text": [
        "\n",
        "700_-1_conjugate-True_34"
       ]
      },
      {
       "output_type": "stream",
       "stream": "stdout",
       "text": [
        "\n",
        "using prescribed x & y"
       ]
      },
      {
       "output_type": "stream",
       "stream": "stdout",
       "text": [
        "\n",
        "File 700_-1_conjugate-True_34_T.png written to /home/vonrickenbach/testcases_mb/kelvin_cell_final/cylinder_tests/700_-1_conjugate-True_34"
       ]
      },
      {
       "output_type": "stream",
       "stream": "stdout",
       "text": [
        "\n",
        "700_-1_conjugate-True_34"
       ]
      },
      {
       "output_type": "stream",
       "stream": "stdout",
       "text": [
        "\n",
        "using prescribed x & y"
       ]
      },
      {
       "output_type": "stream",
       "stream": "stdout",
       "text": [
        "\n",
        "File 700_-1_conjugate-True_34_C3H6.png written to /home/vonrickenbach/testcases_mb/kelvin_cell_final/cylinder_tests/700_-1_conjugate-True_34"
       ]
      },
      {
       "output_type": "stream",
       "stream": "stdout",
       "text": [
        "\n",
        "==================================================="
       ]
      },
      {
       "output_type": "stream",
       "stream": "stdout",
       "text": [
        "\n",
        " Syncing processed folder  with Cluster      \n",
        "===================================================\n",
        "700_-1_conjugate-True_67"
       ]
      },
      {
       "output_type": "stream",
       "stream": "stdout",
       "text": [
        "\n",
        "using prescribed x & y"
       ]
      },
      {
       "output_type": "stream",
       "stream": "stdout",
       "text": [
        "\n",
        "File 700_-1_conjugate-True_67_U.png written to /home/vonrickenbach/testcases_mb/kelvin_cell_final/cylinder_tests/700_-1_conjugate-True_67"
       ]
      },
      {
       "output_type": "stream",
       "stream": "stdout",
       "text": [
        "\n",
        "700_-1_conjugate-True_67"
       ]
      },
      {
       "output_type": "stream",
       "stream": "stdout",
       "text": [
        "\n",
        "using prescribed x & y"
       ]
      },
      {
       "output_type": "stream",
       "stream": "stdout",
       "text": [
        "\n",
        "File 700_-1_conjugate-True_67_T.png written to /home/vonrickenbach/testcases_mb/kelvin_cell_final/cylinder_tests/700_-1_conjugate-True_67"
       ]
      },
      {
       "output_type": "stream",
       "stream": "stdout",
       "text": [
        "\n",
        "700_-1_conjugate-True_67"
       ]
      },
      {
       "output_type": "stream",
       "stream": "stdout",
       "text": [
        "\n",
        "using prescribed x & y"
       ]
      },
      {
       "output_type": "stream",
       "stream": "stdout",
       "text": [
        "\n",
        "File 700_-1_conjugate-True_67_C3H6.png written to /home/vonrickenbach/testcases_mb/kelvin_cell_final/cylinder_tests/700_-1_conjugate-True_67"
       ]
      },
      {
       "output_type": "stream",
       "stream": "stdout",
       "text": [
        "\n",
        "==================================================="
       ]
      },
      {
       "output_type": "stream",
       "stream": "stdout",
       "text": [
        "\n",
        " Syncing processed folder  with Cluster      \n",
        "===================================================\n",
        "700_-1_conjugate-True_100"
       ]
      },
      {
       "output_type": "stream",
       "stream": "stdout",
       "text": [
        "\n",
        "using prescribed x & y"
       ]
      },
      {
       "output_type": "stream",
       "stream": "stdout",
       "text": [
        "\n",
        "File 700_-1_conjugate-True_100_U.png written to /home/vonrickenbach/testcases_mb/kelvin_cell_final/cylinder_tests/700_-1_conjugate-True_100"
       ]
      },
      {
       "output_type": "stream",
       "stream": "stdout",
       "text": [
        "\n",
        "700_-1_conjugate-True_100"
       ]
      },
      {
       "output_type": "stream",
       "stream": "stdout",
       "text": [
        "\n",
        "using prescribed x & y"
       ]
      },
      {
       "output_type": "stream",
       "stream": "stdout",
       "text": [
        "\n",
        "File 700_-1_conjugate-True_100_T.png written to /home/vonrickenbach/testcases_mb/kelvin_cell_final/cylinder_tests/700_-1_conjugate-True_100"
       ]
      },
      {
       "output_type": "stream",
       "stream": "stdout",
       "text": [
        "\n",
        "700_-1_conjugate-True_100"
       ]
      },
      {
       "output_type": "stream",
       "stream": "stdout",
       "text": [
        "\n",
        "using prescribed x & y"
       ]
      },
      {
       "output_type": "stream",
       "stream": "stdout",
       "text": [
        "\n",
        "File 700_-1_conjugate-True_100_C3H6.png written to /home/vonrickenbach/testcases_mb/kelvin_cell_final/cylinder_tests/700_-1_conjugate-True_100"
       ]
      },
      {
       "output_type": "stream",
       "stream": "stdout",
       "text": [
        "\n",
        "==================================================="
       ]
      },
      {
       "output_type": "stream",
       "stream": "stdout",
       "text": [
        "\n",
        " Syncing processed folder  with Cluster      \n",
        "===================================================\n",
        "700_-1_conjugate-False_34"
       ]
      },
      {
       "output_type": "stream",
       "stream": "stdout",
       "text": [
        "\n",
        "using prescribed x & y"
       ]
      },
      {
       "output_type": "stream",
       "stream": "stdout",
       "text": [
        "\n",
        "File 700_-1_conjugate-False_34_U.png written to /home/vonrickenbach/testcases_mb/kelvin_cell_final/cylinder_tests/700_-1_conjugate-False_34"
       ]
      },
      {
       "output_type": "stream",
       "stream": "stdout",
       "text": [
        "\n",
        "700_-1_conjugate-False_34"
       ]
      },
      {
       "output_type": "stream",
       "stream": "stdout",
       "text": [
        "\n",
        "using prescribed x & y"
       ]
      },
      {
       "output_type": "stream",
       "stream": "stdout",
       "text": [
        "\n",
        "File 700_-1_conjugate-False_34_T.png written to /home/vonrickenbach/testcases_mb/kelvin_cell_final/cylinder_tests/700_-1_conjugate-False_34"
       ]
      },
      {
       "output_type": "stream",
       "stream": "stdout",
       "text": [
        "\n",
        "700_-1_conjugate-False_34"
       ]
      },
      {
       "output_type": "stream",
       "stream": "stdout",
       "text": [
        "\n",
        "using prescribed x & y"
       ]
      },
      {
       "output_type": "stream",
       "stream": "stdout",
       "text": [
        "\n",
        "File 700_-1_conjugate-False_34_C3H6.png written to /home/vonrickenbach/testcases_mb/kelvin_cell_final/cylinder_tests/700_-1_conjugate-False_34"
       ]
      },
      {
       "output_type": "stream",
       "stream": "stdout",
       "text": [
        "\n",
        "==================================================="
       ]
      },
      {
       "output_type": "stream",
       "stream": "stdout",
       "text": [
        "\n",
        " Syncing processed folder  with Cluster      \n",
        "===================================================\n",
        "700_-1_conjugate-False_67"
       ]
      },
      {
       "output_type": "stream",
       "stream": "stdout",
       "text": [
        "\n",
        "using prescribed x & y"
       ]
      },
      {
       "output_type": "stream",
       "stream": "stdout",
       "text": [
        "\n",
        "File 700_-1_conjugate-False_67_U.png written to /home/vonrickenbach/testcases_mb/kelvin_cell_final/cylinder_tests/700_-1_conjugate-False_67"
       ]
      },
      {
       "output_type": "stream",
       "stream": "stdout",
       "text": [
        "\n",
        "700_-1_conjugate-False_67"
       ]
      },
      {
       "output_type": "stream",
       "stream": "stdout",
       "text": [
        "\n",
        "using prescribed x & y"
       ]
      },
      {
       "output_type": "stream",
       "stream": "stdout",
       "text": [
        "\n",
        "File 700_-1_conjugate-False_67_T.png written to /home/vonrickenbach/testcases_mb/kelvin_cell_final/cylinder_tests/700_-1_conjugate-False_67"
       ]
      },
      {
       "output_type": "stream",
       "stream": "stdout",
       "text": [
        "\n",
        "700_-1_conjugate-False_67"
       ]
      },
      {
       "output_type": "stream",
       "stream": "stdout",
       "text": [
        "\n",
        "using prescribed x & y"
       ]
      },
      {
       "output_type": "stream",
       "stream": "stdout",
       "text": [
        "\n",
        "File 700_-1_conjugate-False_67_C3H6.png written to /home/vonrickenbach/testcases_mb/kelvin_cell_final/cylinder_tests/700_-1_conjugate-False_67"
       ]
      },
      {
       "output_type": "stream",
       "stream": "stdout",
       "text": [
        "\n",
        "==================================================="
       ]
      },
      {
       "output_type": "stream",
       "stream": "stdout",
       "text": [
        "\n",
        " Syncing processed folder  with Cluster      \n",
        "===================================================\n",
        "700_-1_conjugate-False_100"
       ]
      },
      {
       "output_type": "stream",
       "stream": "stdout",
       "text": [
        "\n",
        "using prescribed x & y"
       ]
      },
      {
       "output_type": "stream",
       "stream": "stdout",
       "text": [
        "\n",
        "File 700_-1_conjugate-False_100_U.png written to /home/vonrickenbach/testcases_mb/kelvin_cell_final/cylinder_tests/700_-1_conjugate-False_100"
       ]
      },
      {
       "output_type": "stream",
       "stream": "stdout",
       "text": [
        "\n",
        "700_-1_conjugate-False_100"
       ]
      },
      {
       "output_type": "stream",
       "stream": "stdout",
       "text": [
        "\n",
        "using prescribed x & y"
       ]
      },
      {
       "output_type": "stream",
       "stream": "stdout",
       "text": [
        "\n",
        "File 700_-1_conjugate-False_100_T.png written to /home/vonrickenbach/testcases_mb/kelvin_cell_final/cylinder_tests/700_-1_conjugate-False_100"
       ]
      },
      {
       "output_type": "stream",
       "stream": "stdout",
       "text": [
        "\n",
        "700_-1_conjugate-False_100"
       ]
      },
      {
       "output_type": "stream",
       "stream": "stdout",
       "text": [
        "\n",
        "using prescribed x & y"
       ]
      },
      {
       "output_type": "stream",
       "stream": "stdout",
       "text": [
        "\n",
        "File 700_-1_conjugate-False_100_C3H6.png written to /home/vonrickenbach/testcases_mb/kelvin_cell_final/cylinder_tests/700_-1_conjugate-False_100"
       ]
      },
      {
       "output_type": "stream",
       "stream": "stdout",
       "text": [
        "\n",
        "==================================================="
       ]
      },
      {
       "output_type": "stream",
       "stream": "stdout",
       "text": [
        "\n",
        " Syncing processed folder  with Cluster      \n",
        "===================================================\n",
        "700_1e-05_conjugate-True_34"
       ]
      },
      {
       "output_type": "stream",
       "stream": "stdout",
       "text": [
        "\n",
        "using prescribed x & y"
       ]
      },
      {
       "output_type": "stream",
       "stream": "stdout",
       "text": [
        "\n",
        "File 700_1e-05_conjugate-True_34_U.png written to /home/vonrickenbach/testcases_mb/kelvin_cell_final/cylinder_tests/700_1e-05_conjugate-True_34"
       ]
      },
      {
       "output_type": "stream",
       "stream": "stdout",
       "text": [
        "\n",
        "700_1e-05_conjugate-True_34"
       ]
      },
      {
       "output_type": "stream",
       "stream": "stdout",
       "text": [
        "\n",
        "using prescribed x & y"
       ]
      },
      {
       "output_type": "stream",
       "stream": "stdout",
       "text": [
        "\n",
        "File 700_1e-05_conjugate-True_34_T.png written to /home/vonrickenbach/testcases_mb/kelvin_cell_final/cylinder_tests/700_1e-05_conjugate-True_34"
       ]
      },
      {
       "output_type": "stream",
       "stream": "stdout",
       "text": [
        "\n",
        "700_1e-05_conjugate-True_34"
       ]
      },
      {
       "output_type": "stream",
       "stream": "stdout",
       "text": [
        "\n",
        "using prescribed x & y"
       ]
      },
      {
       "output_type": "stream",
       "stream": "stdout",
       "text": [
        "\n",
        "File 700_1e-05_conjugate-True_34_C3H6.png written to /home/vonrickenbach/testcases_mb/kelvin_cell_final/cylinder_tests/700_1e-05_conjugate-True_34"
       ]
      },
      {
       "output_type": "stream",
       "stream": "stdout",
       "text": [
        "\n",
        "==================================================="
       ]
      },
      {
       "output_type": "stream",
       "stream": "stdout",
       "text": [
        "\n",
        " Syncing processed folder  with Cluster      \n",
        "===================================================\n",
        "700_1e-05_conjugate-True_67"
       ]
      },
      {
       "output_type": "stream",
       "stream": "stdout",
       "text": [
        "\n",
        "using prescribed x & y"
       ]
      },
      {
       "output_type": "stream",
       "stream": "stdout",
       "text": [
        "\n",
        "File 700_1e-05_conjugate-True_67_U.png written to /home/vonrickenbach/testcases_mb/kelvin_cell_final/cylinder_tests/700_1e-05_conjugate-True_67"
       ]
      },
      {
       "output_type": "stream",
       "stream": "stdout",
       "text": [
        "\n",
        "700_1e-05_conjugate-True_67"
       ]
      },
      {
       "output_type": "stream",
       "stream": "stdout",
       "text": [
        "\n",
        "using prescribed x & y"
       ]
      },
      {
       "output_type": "stream",
       "stream": "stdout",
       "text": [
        "\n",
        "File 700_1e-05_conjugate-True_67_T.png written to /home/vonrickenbach/testcases_mb/kelvin_cell_final/cylinder_tests/700_1e-05_conjugate-True_67"
       ]
      },
      {
       "output_type": "stream",
       "stream": "stdout",
       "text": [
        "\n",
        "700_1e-05_conjugate-True_67"
       ]
      },
      {
       "output_type": "stream",
       "stream": "stdout",
       "text": [
        "\n",
        "using prescribed x & y"
       ]
      },
      {
       "output_type": "stream",
       "stream": "stdout",
       "text": [
        "\n",
        "File 700_1e-05_conjugate-True_67_C3H6.png written to /home/vonrickenbach/testcases_mb/kelvin_cell_final/cylinder_tests/700_1e-05_conjugate-True_67"
       ]
      },
      {
       "output_type": "stream",
       "stream": "stdout",
       "text": [
        "\n",
        "==================================================="
       ]
      },
      {
       "output_type": "stream",
       "stream": "stdout",
       "text": [
        "\n",
        " Syncing processed folder  with Cluster      \n",
        "===================================================\n",
        "700_1e-05_conjugate-True_100"
       ]
      },
      {
       "output_type": "stream",
       "stream": "stdout",
       "text": [
        "\n",
        "using prescribed x & y"
       ]
      },
      {
       "output_type": "stream",
       "stream": "stdout",
       "text": [
        "\n",
        "File 700_1e-05_conjugate-True_100_U.png written to /home/vonrickenbach/testcases_mb/kelvin_cell_final/cylinder_tests/700_1e-05_conjugate-True_100"
       ]
      },
      {
       "output_type": "stream",
       "stream": "stdout",
       "text": [
        "\n",
        "700_1e-05_conjugate-True_100"
       ]
      },
      {
       "output_type": "stream",
       "stream": "stdout",
       "text": [
        "\n",
        "using prescribed x & y"
       ]
      },
      {
       "output_type": "stream",
       "stream": "stdout",
       "text": [
        "\n",
        "File 700_1e-05_conjugate-True_100_T.png written to /home/vonrickenbach/testcases_mb/kelvin_cell_final/cylinder_tests/700_1e-05_conjugate-True_100"
       ]
      },
      {
       "output_type": "stream",
       "stream": "stdout",
       "text": [
        "\n",
        "700_1e-05_conjugate-True_100"
       ]
      },
      {
       "output_type": "stream",
       "stream": "stdout",
       "text": [
        "\n",
        "using prescribed x & y"
       ]
      },
      {
       "output_type": "stream",
       "stream": "stdout",
       "text": [
        "\n",
        "File 700_1e-05_conjugate-True_100_C3H6.png written to /home/vonrickenbach/testcases_mb/kelvin_cell_final/cylinder_tests/700_1e-05_conjugate-True_100"
       ]
      },
      {
       "output_type": "stream",
       "stream": "stdout",
       "text": [
        "\n",
        "==================================================="
       ]
      },
      {
       "output_type": "stream",
       "stream": "stdout",
       "text": [
        "\n",
        " Syncing processed folder  with Cluster      \n",
        "===================================================\n",
        "700_1e-05_conjugate-False_34"
       ]
      },
      {
       "output_type": "stream",
       "stream": "stdout",
       "text": [
        "\n",
        "using prescribed x & y"
       ]
      },
      {
       "output_type": "stream",
       "stream": "stdout",
       "text": [
        "\n",
        "File 700_1e-05_conjugate-False_34_U.png written to /home/vonrickenbach/testcases_mb/kelvin_cell_final/cylinder_tests/700_1e-05_conjugate-False_34"
       ]
      },
      {
       "output_type": "stream",
       "stream": "stdout",
       "text": [
        "\n",
        "700_1e-05_conjugate-False_34"
       ]
      },
      {
       "output_type": "stream",
       "stream": "stdout",
       "text": [
        "\n",
        "using prescribed x & y"
       ]
      },
      {
       "output_type": "stream",
       "stream": "stdout",
       "text": [
        "\n",
        "File 700_1e-05_conjugate-False_34_T.png written to /home/vonrickenbach/testcases_mb/kelvin_cell_final/cylinder_tests/700_1e-05_conjugate-False_34"
       ]
      },
      {
       "output_type": "stream",
       "stream": "stdout",
       "text": [
        "\n",
        "700_1e-05_conjugate-False_34"
       ]
      },
      {
       "output_type": "stream",
       "stream": "stdout",
       "text": [
        "\n",
        "using prescribed x & y"
       ]
      },
      {
       "output_type": "stream",
       "stream": "stdout",
       "text": [
        "\n",
        "File 700_1e-05_conjugate-False_34_C3H6.png written to /home/vonrickenbach/testcases_mb/kelvin_cell_final/cylinder_tests/700_1e-05_conjugate-False_34"
       ]
      },
      {
       "output_type": "stream",
       "stream": "stdout",
       "text": [
        "\n",
        "==================================================="
       ]
      },
      {
       "output_type": "stream",
       "stream": "stdout",
       "text": [
        "\n",
        " Syncing processed folder  with Cluster      \n",
        "===================================================\n",
        "700_1e-05_conjugate-False_67"
       ]
      },
      {
       "output_type": "stream",
       "stream": "stdout",
       "text": [
        "\n",
        "using prescribed x & y"
       ]
      },
      {
       "output_type": "stream",
       "stream": "stdout",
       "text": [
        "\n",
        "File 700_1e-05_conjugate-False_67_U.png written to /home/vonrickenbach/testcases_mb/kelvin_cell_final/cylinder_tests/700_1e-05_conjugate-False_67"
       ]
      },
      {
       "output_type": "stream",
       "stream": "stdout",
       "text": [
        "\n",
        "700_1e-05_conjugate-False_67"
       ]
      },
      {
       "output_type": "stream",
       "stream": "stdout",
       "text": [
        "\n",
        "using prescribed x & y"
       ]
      },
      {
       "output_type": "stream",
       "stream": "stdout",
       "text": [
        "\n",
        "File 700_1e-05_conjugate-False_67_T.png written to /home/vonrickenbach/testcases_mb/kelvin_cell_final/cylinder_tests/700_1e-05_conjugate-False_67"
       ]
      },
      {
       "output_type": "stream",
       "stream": "stdout",
       "text": [
        "\n",
        "700_1e-05_conjugate-False_67"
       ]
      },
      {
       "output_type": "stream",
       "stream": "stdout",
       "text": [
        "\n",
        "using prescribed x & y"
       ]
      },
      {
       "output_type": "stream",
       "stream": "stdout",
       "text": [
        "\n",
        "File 700_1e-05_conjugate-False_67_C3H6.png written to /home/vonrickenbach/testcases_mb/kelvin_cell_final/cylinder_tests/700_1e-05_conjugate-False_67"
       ]
      },
      {
       "output_type": "stream",
       "stream": "stdout",
       "text": [
        "\n",
        "==================================================="
       ]
      },
      {
       "output_type": "stream",
       "stream": "stdout",
       "text": [
        "\n",
        " Syncing processed folder  with Cluster      \n",
        "===================================================\n",
        "700_1e-05_conjugate-False_100"
       ]
      },
      {
       "output_type": "stream",
       "stream": "stdout",
       "text": [
        "\n",
        "using prescribed x & y"
       ]
      },
      {
       "output_type": "stream",
       "stream": "stdout",
       "text": [
        "\n",
        "File 700_1e-05_conjugate-False_100_U.png written to /home/vonrickenbach/testcases_mb/kelvin_cell_final/cylinder_tests/700_1e-05_conjugate-False_100"
       ]
      },
      {
       "output_type": "stream",
       "stream": "stdout",
       "text": [
        "\n",
        "700_1e-05_conjugate-False_100"
       ]
      },
      {
       "output_type": "stream",
       "stream": "stdout",
       "text": [
        "\n",
        "using prescribed x & y"
       ]
      },
      {
       "output_type": "stream",
       "stream": "stdout",
       "text": [
        "\n",
        "File 700_1e-05_conjugate-False_100_T.png written to /home/vonrickenbach/testcases_mb/kelvin_cell_final/cylinder_tests/700_1e-05_conjugate-False_100"
       ]
      },
      {
       "output_type": "stream",
       "stream": "stdout",
       "text": [
        "\n",
        "700_1e-05_conjugate-False_100"
       ]
      },
      {
       "output_type": "stream",
       "stream": "stdout",
       "text": [
        "\n",
        "using prescribed x & y"
       ]
      },
      {
       "output_type": "stream",
       "stream": "stdout",
       "text": [
        "\n",
        "File 700_1e-05_conjugate-False_100_C3H6.png written to /home/vonrickenbach/testcases_mb/kelvin_cell_final/cylinder_tests/700_1e-05_conjugate-False_100"
       ]
      },
      {
       "output_type": "stream",
       "stream": "stdout",
       "text": [
        "\n",
        "==================================================="
       ]
      },
      {
       "output_type": "stream",
       "stream": "stdout",
       "text": [
        "\n",
        " Syncing processed folder  with Cluster      \n",
        "===================================================\n",
        "700_2e-05_conjugate-True_34"
       ]
      },
      {
       "output_type": "stream",
       "stream": "stdout",
       "text": [
        "\n",
        "using prescribed x & y"
       ]
      },
      {
       "output_type": "stream",
       "stream": "stdout",
       "text": [
        "\n",
        "File 700_2e-05_conjugate-True_34_U.png written to /home/vonrickenbach/testcases_mb/kelvin_cell_final/cylinder_tests/700_2e-05_conjugate-True_34"
       ]
      },
      {
       "output_type": "stream",
       "stream": "stdout",
       "text": [
        "\n",
        "700_2e-05_conjugate-True_34"
       ]
      },
      {
       "output_type": "stream",
       "stream": "stdout",
       "text": [
        "\n",
        "using prescribed x & y"
       ]
      },
      {
       "output_type": "stream",
       "stream": "stdout",
       "text": [
        "\n",
        "File 700_2e-05_conjugate-True_34_T.png written to /home/vonrickenbach/testcases_mb/kelvin_cell_final/cylinder_tests/700_2e-05_conjugate-True_34"
       ]
      },
      {
       "output_type": "stream",
       "stream": "stdout",
       "text": [
        "\n",
        "700_2e-05_conjugate-True_34"
       ]
      },
      {
       "output_type": "stream",
       "stream": "stdout",
       "text": [
        "\n",
        "using prescribed x & y"
       ]
      },
      {
       "output_type": "stream",
       "stream": "stdout",
       "text": [
        "\n",
        "File 700_2e-05_conjugate-True_34_C3H6.png written to /home/vonrickenbach/testcases_mb/kelvin_cell_final/cylinder_tests/700_2e-05_conjugate-True_34"
       ]
      },
      {
       "output_type": "stream",
       "stream": "stdout",
       "text": [
        "\n",
        "==================================================="
       ]
      },
      {
       "output_type": "stream",
       "stream": "stdout",
       "text": [
        "\n",
        " Syncing processed folder  with Cluster      \n",
        "===================================================\n",
        "700_2e-05_conjugate-True_67"
       ]
      },
      {
       "output_type": "stream",
       "stream": "stdout",
       "text": [
        "\n",
        "using prescribed x & y"
       ]
      },
      {
       "output_type": "stream",
       "stream": "stdout",
       "text": [
        "\n",
        "File 700_2e-05_conjugate-True_67_U.png written to /home/vonrickenbach/testcases_mb/kelvin_cell_final/cylinder_tests/700_2e-05_conjugate-True_67"
       ]
      },
      {
       "output_type": "stream",
       "stream": "stdout",
       "text": [
        "\n",
        "700_2e-05_conjugate-True_67"
       ]
      },
      {
       "output_type": "stream",
       "stream": "stdout",
       "text": [
        "\n",
        "using prescribed x & y"
       ]
      },
      {
       "output_type": "stream",
       "stream": "stdout",
       "text": [
        "\n",
        "File 700_2e-05_conjugate-True_67_T.png written to /home/vonrickenbach/testcases_mb/kelvin_cell_final/cylinder_tests/700_2e-05_conjugate-True_67"
       ]
      },
      {
       "output_type": "stream",
       "stream": "stdout",
       "text": [
        "\n",
        "700_2e-05_conjugate-True_67"
       ]
      },
      {
       "output_type": "stream",
       "stream": "stdout",
       "text": [
        "\n",
        "using prescribed x & y"
       ]
      },
      {
       "output_type": "stream",
       "stream": "stdout",
       "text": [
        "\n",
        "File 700_2e-05_conjugate-True_67_C3H6.png written to /home/vonrickenbach/testcases_mb/kelvin_cell_final/cylinder_tests/700_2e-05_conjugate-True_67"
       ]
      },
      {
       "output_type": "stream",
       "stream": "stdout",
       "text": [
        "\n",
        "==================================================="
       ]
      },
      {
       "output_type": "stream",
       "stream": "stdout",
       "text": [
        "\n",
        " Syncing processed folder  with Cluster      \n",
        "===================================================\n",
        "700_2e-05_conjugate-True_100"
       ]
      },
      {
       "output_type": "stream",
       "stream": "stdout",
       "text": [
        "\n",
        "using prescribed x & y"
       ]
      },
      {
       "output_type": "stream",
       "stream": "stdout",
       "text": [
        "\n",
        "File 700_2e-05_conjugate-True_100_U.png written to /home/vonrickenbach/testcases_mb/kelvin_cell_final/cylinder_tests/700_2e-05_conjugate-True_100"
       ]
      },
      {
       "output_type": "stream",
       "stream": "stdout",
       "text": [
        "\n",
        "700_2e-05_conjugate-True_100"
       ]
      },
      {
       "output_type": "stream",
       "stream": "stdout",
       "text": [
        "\n",
        "using prescribed x & y"
       ]
      },
      {
       "output_type": "stream",
       "stream": "stdout",
       "text": [
        "\n",
        "File 700_2e-05_conjugate-True_100_T.png written to /home/vonrickenbach/testcases_mb/kelvin_cell_final/cylinder_tests/700_2e-05_conjugate-True_100"
       ]
      },
      {
       "output_type": "stream",
       "stream": "stdout",
       "text": [
        "\n",
        "700_2e-05_conjugate-True_100"
       ]
      },
      {
       "output_type": "stream",
       "stream": "stdout",
       "text": [
        "\n",
        "using prescribed x & y"
       ]
      },
      {
       "output_type": "stream",
       "stream": "stdout",
       "text": [
        "\n",
        "File 700_2e-05_conjugate-True_100_C3H6.png written to /home/vonrickenbach/testcases_mb/kelvin_cell_final/cylinder_tests/700_2e-05_conjugate-True_100"
       ]
      },
      {
       "output_type": "stream",
       "stream": "stdout",
       "text": [
        "\n",
        "==================================================="
       ]
      },
      {
       "output_type": "stream",
       "stream": "stdout",
       "text": [
        "\n",
        " Syncing processed folder  with Cluster      \n",
        "===================================================\n",
        "700_2e-05_conjugate-False_34"
       ]
      },
      {
       "output_type": "stream",
       "stream": "stdout",
       "text": [
        "\n",
        "using prescribed x & y"
       ]
      },
      {
       "output_type": "stream",
       "stream": "stdout",
       "text": [
        "\n",
        "File 700_2e-05_conjugate-False_34_U.png written to /home/vonrickenbach/testcases_mb/kelvin_cell_final/cylinder_tests/700_2e-05_conjugate-False_34"
       ]
      },
      {
       "output_type": "stream",
       "stream": "stdout",
       "text": [
        "\n",
        "700_2e-05_conjugate-False_34"
       ]
      },
      {
       "output_type": "stream",
       "stream": "stdout",
       "text": [
        "\n",
        "using prescribed x & y"
       ]
      },
      {
       "output_type": "stream",
       "stream": "stdout",
       "text": [
        "\n",
        "File 700_2e-05_conjugate-False_34_T.png written to /home/vonrickenbach/testcases_mb/kelvin_cell_final/cylinder_tests/700_2e-05_conjugate-False_34"
       ]
      },
      {
       "output_type": "stream",
       "stream": "stdout",
       "text": [
        "\n",
        "700_2e-05_conjugate-False_34"
       ]
      },
      {
       "output_type": "stream",
       "stream": "stdout",
       "text": [
        "\n",
        "using prescribed x & y"
       ]
      },
      {
       "output_type": "stream",
       "stream": "stdout",
       "text": [
        "\n",
        "File 700_2e-05_conjugate-False_34_C3H6.png written to /home/vonrickenbach/testcases_mb/kelvin_cell_final/cylinder_tests/700_2e-05_conjugate-False_34"
       ]
      },
      {
       "output_type": "stream",
       "stream": "stdout",
       "text": [
        "\n",
        "==================================================="
       ]
      },
      {
       "output_type": "stream",
       "stream": "stdout",
       "text": [
        "\n",
        " Syncing processed folder  with Cluster      \n",
        "===================================================\n",
        "700_2e-05_conjugate-False_67"
       ]
      },
      {
       "output_type": "stream",
       "stream": "stdout",
       "text": [
        "\n",
        "using prescribed x & y"
       ]
      },
      {
       "output_type": "stream",
       "stream": "stdout",
       "text": [
        "\n",
        "File 700_2e-05_conjugate-False_67_U.png written to /home/vonrickenbach/testcases_mb/kelvin_cell_final/cylinder_tests/700_2e-05_conjugate-False_67"
       ]
      },
      {
       "output_type": "stream",
       "stream": "stdout",
       "text": [
        "\n",
        "700_2e-05_conjugate-False_67"
       ]
      },
      {
       "output_type": "stream",
       "stream": "stdout",
       "text": [
        "\n",
        "using prescribed x & y"
       ]
      },
      {
       "output_type": "stream",
       "stream": "stdout",
       "text": [
        "\n",
        "File 700_2e-05_conjugate-False_67_T.png written to /home/vonrickenbach/testcases_mb/kelvin_cell_final/cylinder_tests/700_2e-05_conjugate-False_67"
       ]
      },
      {
       "output_type": "stream",
       "stream": "stdout",
       "text": [
        "\n",
        "700_2e-05_conjugate-False_67"
       ]
      },
      {
       "output_type": "stream",
       "stream": "stdout",
       "text": [
        "\n",
        "using prescribed x & y"
       ]
      },
      {
       "output_type": "stream",
       "stream": "stdout",
       "text": [
        "\n",
        "File 700_2e-05_conjugate-False_67_C3H6.png written to /home/vonrickenbach/testcases_mb/kelvin_cell_final/cylinder_tests/700_2e-05_conjugate-False_67"
       ]
      },
      {
       "output_type": "stream",
       "stream": "stdout",
       "text": [
        "\n",
        "==================================================="
       ]
      },
      {
       "output_type": "stream",
       "stream": "stdout",
       "text": [
        "\n",
        " Syncing processed folder  with Cluster      \n",
        "===================================================\n",
        "700_2e-05_conjugate-False_100"
       ]
      },
      {
       "output_type": "stream",
       "stream": "stdout",
       "text": [
        "\n",
        "using prescribed x & y"
       ]
      },
      {
       "output_type": "stream",
       "stream": "stdout",
       "text": [
        "\n",
        "File 700_2e-05_conjugate-False_100_U.png written to /home/vonrickenbach/testcases_mb/kelvin_cell_final/cylinder_tests/700_2e-05_conjugate-False_100"
       ]
      },
      {
       "output_type": "stream",
       "stream": "stdout",
       "text": [
        "\n",
        "700_2e-05_conjugate-False_100"
       ]
      },
      {
       "output_type": "stream",
       "stream": "stdout",
       "text": [
        "\n",
        "using prescribed x & y"
       ]
      },
      {
       "output_type": "stream",
       "stream": "stdout",
       "text": [
        "\n",
        "File 700_2e-05_conjugate-False_100_T.png written to /home/vonrickenbach/testcases_mb/kelvin_cell_final/cylinder_tests/700_2e-05_conjugate-False_100"
       ]
      },
      {
       "output_type": "stream",
       "stream": "stdout",
       "text": [
        "\n",
        "700_2e-05_conjugate-False_100"
       ]
      },
      {
       "output_type": "stream",
       "stream": "stdout",
       "text": [
        "\n",
        "using prescribed x & y"
       ]
      },
      {
       "output_type": "stream",
       "stream": "stdout",
       "text": [
        "\n",
        "File 700_2e-05_conjugate-False_100_C3H6.png written to /home/vonrickenbach/testcases_mb/kelvin_cell_final/cylinder_tests/700_2e-05_conjugate-False_100"
       ]
      },
      {
       "output_type": "stream",
       "stream": "stdout",
       "text": [
        "\n"
       ]
      }
     ],
     "prompt_number": 140
    },
    {
     "cell_type": "code",
     "collapsed": false,
     "input": [
      "for sim in filter_simulations(sim_list,wc_thickness=1E-5,res=\"101\"):\n",
      "    var= \"C3H6\"\n",
      "    picture_name = sim.info.local[\"jobname\"] + \"_\" + var + \".png\"\n",
      "\n",
      "    print(picture_name)            \n",
      "    display(Image(filename=os.path.join(sim.info.local[\"sim_folder\"],picture_name)))"
     ],
     "language": "python",
     "metadata": {},
     "outputs": [
      {
       "output_type": "stream",
       "stream": "stdout",
       "text": [
        "600_1e-05_conjugate-True_101_C3H6.png\n"
       ]
      },
      {
       "metadata": {},
       "output_type": "display_data",
       "png": "[encoded data removed]",
       "text": [
        "<IPython.core.display.Image at 0x58629d0>"
       ]
      },
      {
       "output_type": "stream",
       "stream": "stdout",
       "text": [
        "600_1e-05_conjugate-False_101_C3H6.png\n"
       ]
      },
      {
       "metadata": {},
       "output_type": "display_data",
       "png": "[encoded data removed]",
       "text": [
        "<IPython.core.display.Image at 0x30a4c90>"
       ]
      }
     ],
     "prompt_number": 121
    },
    {
     "cell_type": "code",
     "collapsed": false,
     "input": [
      "def filter_file(sim):\n",
      "    sim.cp()\n",
      "    filename = os.path.join(sim.info.local[\"sim_folder\"],\"std_out.log_cluster\")\n",
      "    file_obj = open(filename)\n",
      "    last_job = []\n",
      "    for line in file_obj:\n",
      "        last_job.append(line)\n",
      "        if \"Your job looked like\" in line:\n",
      "            last_job = []\n",
      "            \n",
      "    for line in last_job:       \n",
      "        if \"---> iteration stops here\" in line:\n",
      "            return \"converged\"\n",
      "\n",
      "\n",
      "    return None\n",
      "    "
     ],
     "language": "python",
     "metadata": {},
     "outputs": [],
     "prompt_number": 127
    },
    {
     "cell_type": "code",
     "collapsed": false,
     "input": [
      "try:\n",
      "    sh.rmtree(\"logfiles\")\n",
      "except:\n",
      "   pass\n",
      "os.mkdir(\"logfiles\")\n",
      "\n",
      "for sim in sim_list:\n",
      "    if not filter_file(sim):\n",
      "        #sim.run_sim(nproc=\"4\",memory=\"1024\",time='480',njobs=1,restart=False) \n",
      "        sh.copy(os.path.join(sim.info.local[\"sim_folder\"],\"std_out.log_cluster\"),os.path.join(\"logfiles\",sim.info.local[\"jobname\"]))"
     ],
     "language": "python",
     "metadata": {},
     "outputs": [],
     "prompt_number": 139
    },
    {
     "cell_type": "code",
     "collapsed": false,
     "input": [
      "for sim in sim_list:\n",
      "  sim.sync_result(\"processed\")\n",
      "  sim.data = pic.load(open(os.path.join(sim.info.local[\"sim_folder\"],\"processed/slice_averages.dat\")))  "
     ],
     "language": "python",
     "metadata": {},
     "outputs": [
      {
       "output_type": "stream",
       "stream": "stdout",
       "text": [
        "===================================================\n",
        " Syncing processed folder  with Cluster      \n",
        "===================================================\n",
        "==================================================="
       ]
      },
      {
       "output_type": "stream",
       "stream": "stdout",
       "text": [
        "\n",
        " Syncing processed folder  with Cluster      \n",
        "===================================================\n",
        "==================================================="
       ]
      },
      {
       "output_type": "stream",
       "stream": "stdout",
       "text": [
        "\n",
        " Syncing processed folder  with Cluster      \n",
        "===================================================\n",
        "==================================================="
       ]
      },
      {
       "output_type": "stream",
       "stream": "stdout",
       "text": [
        "\n",
        " Syncing processed folder  with Cluster      \n",
        "===================================================\n",
        "==================================================="
       ]
      },
      {
       "output_type": "stream",
       "stream": "stdout",
       "text": [
        "\n",
        " Syncing processed folder  with Cluster      \n",
        "===================================================\n",
        "==================================================="
       ]
      },
      {
       "output_type": "stream",
       "stream": "stdout",
       "text": [
        "\n",
        " Syncing processed folder  with Cluster      \n",
        "===================================================\n",
        "==================================================="
       ]
      },
      {
       "output_type": "stream",
       "stream": "stdout",
       "text": [
        "\n",
        " Syncing processed folder  with Cluster      \n",
        "===================================================\n",
        "==================================================="
       ]
      },
      {
       "output_type": "stream",
       "stream": "stdout",
       "text": [
        "\n",
        " Syncing processed folder  with Cluster      \n",
        "===================================================\n",
        "==================================================="
       ]
      },
      {
       "output_type": "stream",
       "stream": "stdout",
       "text": [
        "\n",
        " Syncing processed folder  with Cluster      \n",
        "===================================================\n",
        "==================================================="
       ]
      },
      {
       "output_type": "stream",
       "stream": "stdout",
       "text": [
        "\n",
        " Syncing processed folder  with Cluster      \n",
        "===================================================\n",
        "==================================================="
       ]
      },
      {
       "output_type": "stream",
       "stream": "stdout",
       "text": [
        "\n",
        " Syncing processed folder  with Cluster      \n",
        "===================================================\n",
        "==================================================="
       ]
      },
      {
       "output_type": "stream",
       "stream": "stdout",
       "text": [
        "\n",
        " Syncing processed folder  with Cluster      \n",
        "===================================================\n",
        "==================================================="
       ]
      },
      {
       "output_type": "stream",
       "stream": "stdout",
       "text": [
        "\n",
        " Syncing processed folder  with Cluster      \n",
        "===================================================\n",
        "==================================================="
       ]
      },
      {
       "output_type": "stream",
       "stream": "stdout",
       "text": [
        "\n",
        " Syncing processed folder  with Cluster      \n",
        "===================================================\n",
        "==================================================="
       ]
      },
      {
       "output_type": "stream",
       "stream": "stdout",
       "text": [
        "\n",
        " Syncing processed folder  with Cluster      \n",
        "===================================================\n",
        "==================================================="
       ]
      },
      {
       "output_type": "stream",
       "stream": "stdout",
       "text": [
        "\n",
        " Syncing processed folder  with Cluster      \n",
        "===================================================\n",
        "==================================================="
       ]
      },
      {
       "output_type": "stream",
       "stream": "stdout",
       "text": [
        "\n",
        " Syncing processed folder  with Cluster      \n",
        "===================================================\n",
        "==================================================="
       ]
      },
      {
       "output_type": "stream",
       "stream": "stdout",
       "text": [
        "\n",
        " Syncing processed folder  with Cluster      \n",
        "===================================================\n",
        "==================================================="
       ]
      },
      {
       "output_type": "stream",
       "stream": "stdout",
       "text": [
        "\n",
        " Syncing processed folder  with Cluster      \n",
        "===================================================\n",
        "==================================================="
       ]
      },
      {
       "output_type": "stream",
       "stream": "stdout",
       "text": [
        "\n",
        " Syncing processed folder  with Cluster      \n",
        "===================================================\n",
        "==================================================="
       ]
      },
      {
       "output_type": "stream",
       "stream": "stdout",
       "text": [
        "\n",
        " Syncing processed folder  with Cluster      \n",
        "===================================================\n",
        "==================================================="
       ]
      },
      {
       "output_type": "stream",
       "stream": "stdout",
       "text": [
        "\n",
        " Syncing processed folder  with Cluster      \n",
        "===================================================\n",
        "==================================================="
       ]
      },
      {
       "output_type": "stream",
       "stream": "stdout",
       "text": [
        "\n",
        " Syncing processed folder  with Cluster      \n",
        "===================================================\n",
        "==================================================="
       ]
      },
      {
       "output_type": "stream",
       "stream": "stdout",
       "text": [
        "\n",
        " Syncing processed folder  with Cluster      \n",
        "===================================================\n",
        "==================================================="
       ]
      },
      {
       "output_type": "stream",
       "stream": "stdout",
       "text": [
        "\n",
        " Syncing processed folder  with Cluster      \n",
        "===================================================\n",
        "==================================================="
       ]
      },
      {
       "output_type": "stream",
       "stream": "stdout",
       "text": [
        "\n",
        " Syncing processed folder  with Cluster      \n",
        "===================================================\n",
        "==================================================="
       ]
      },
      {
       "output_type": "stream",
       "stream": "stdout",
       "text": [
        "\n",
        " Syncing processed folder  with Cluster      \n",
        "===================================================\n",
        "==================================================="
       ]
      },
      {
       "output_type": "stream",
       "stream": "stdout",
       "text": [
        "\n",
        " Syncing processed folder  with Cluster      \n",
        "===================================================\n",
        "==================================================="
       ]
      },
      {
       "output_type": "stream",
       "stream": "stdout",
       "text": [
        "\n",
        " Syncing processed folder  with Cluster      \n",
        "===================================================\n",
        "==================================================="
       ]
      },
      {
       "output_type": "stream",
       "stream": "stdout",
       "text": [
        "\n",
        " Syncing processed folder  with Cluster      \n",
        "===================================================\n",
        "==================================================="
       ]
      },
      {
       "output_type": "stream",
       "stream": "stdout",
       "text": [
        "\n",
        " Syncing processed folder  with Cluster      \n",
        "===================================================\n",
        "==================================================="
       ]
      },
      {
       "output_type": "stream",
       "stream": "stdout",
       "text": [
        "\n",
        " Syncing processed folder  with Cluster      \n",
        "===================================================\n",
        "==================================================="
       ]
      },
      {
       "output_type": "stream",
       "stream": "stdout",
       "text": [
        "\n",
        " Syncing processed folder  with Cluster      \n",
        "===================================================\n",
        "==================================================="
       ]
      },
      {
       "output_type": "stream",
       "stream": "stdout",
       "text": [
        "\n",
        " Syncing processed folder  with Cluster      \n",
        "===================================================\n",
        "==================================================="
       ]
      },
      {
       "output_type": "stream",
       "stream": "stdout",
       "text": [
        "\n",
        " Syncing processed folder  with Cluster      \n",
        "===================================================\n",
        "==================================================="
       ]
      },
      {
       "output_type": "stream",
       "stream": "stdout",
       "text": [
        "\n",
        " Syncing processed folder  with Cluster      \n",
        "===================================================\n",
        "==================================================="
       ]
      },
      {
       "output_type": "stream",
       "stream": "stdout",
       "text": [
        "\n",
        " Syncing processed folder  with Cluster      \n",
        "===================================================\n",
        "==================================================="
       ]
      },
      {
       "output_type": "stream",
       "stream": "stdout",
       "text": [
        "\n",
        " Syncing processed folder  with Cluster      \n",
        "===================================================\n",
        "==================================================="
       ]
      },
      {
       "output_type": "stream",
       "stream": "stdout",
       "text": [
        "\n",
        " Syncing processed folder  with Cluster      \n",
        "===================================================\n",
        "==================================================="
       ]
      },
      {
       "output_type": "stream",
       "stream": "stdout",
       "text": [
        "\n",
        " Syncing processed folder  with Cluster      \n",
        "===================================================\n",
        "==================================================="
       ]
      },
      {
       "output_type": "stream",
       "stream": "stdout",
       "text": [
        "\n",
        " Syncing processed folder  with Cluster      \n",
        "===================================================\n",
        "==================================================="
       ]
      },
      {
       "output_type": "stream",
       "stream": "stdout",
       "text": [
        "\n",
        " Syncing processed folder  with Cluster      \n",
        "===================================================\n",
        "==================================================="
       ]
      },
      {
       "output_type": "stream",
       "stream": "stdout",
       "text": [
        "\n",
        " Syncing processed folder  with Cluster      \n",
        "===================================================\n",
        "==================================================="
       ]
      },
      {
       "output_type": "stream",
       "stream": "stdout",
       "text": [
        "\n",
        " Syncing processed folder  with Cluster      \n",
        "===================================================\n",
        "==================================================="
       ]
      },
      {
       "output_type": "stream",
       "stream": "stdout",
       "text": [
        "\n",
        " Syncing processed folder  with Cluster      \n",
        "===================================================\n",
        "==================================================="
       ]
      },
      {
       "output_type": "stream",
       "stream": "stdout",
       "text": [
        "\n",
        " Syncing processed folder  with Cluster      \n",
        "===================================================\n",
        "==================================================="
       ]
      },
      {
       "output_type": "stream",
       "stream": "stdout",
       "text": [
        "\n",
        " Syncing processed folder  with Cluster      \n",
        "===================================================\n",
        "==================================================="
       ]
      },
      {
       "output_type": "stream",
       "stream": "stdout",
       "text": [
        "\n",
        " Syncing processed folder  with Cluster      \n",
        "===================================================\n",
        "==================================================="
       ]
      },
      {
       "output_type": "stream",
       "stream": "stdout",
       "text": [
        "\n",
        " Syncing processed folder  with Cluster      \n",
        "===================================================\n",
        "==================================================="
       ]
      },
      {
       "output_type": "stream",
       "stream": "stdout",
       "text": [
        "\n",
        " Syncing processed folder  with Cluster      \n",
        "===================================================\n",
        "==================================================="
       ]
      },
      {
       "output_type": "stream",
       "stream": "stdout",
       "text": [
        "\n",
        " Syncing processed folder  with Cluster      \n",
        "===================================================\n",
        "==================================================="
       ]
      },
      {
       "output_type": "stream",
       "stream": "stdout",
       "text": [
        "\n",
        " Syncing processed folder  with Cluster      \n",
        "===================================================\n",
        "==================================================="
       ]
      },
      {
       "output_type": "stream",
       "stream": "stdout",
       "text": [
        "\n",
        " Syncing processed folder  with Cluster      \n",
        "===================================================\n",
        "==================================================="
       ]
      },
      {
       "output_type": "stream",
       "stream": "stdout",
       "text": [
        "\n",
        " Syncing processed folder  with Cluster      \n",
        "===================================================\n"
       ]
      }
     ],
     "prompt_number": 138
    },
    {
     "cell_type": "code",
     "collapsed": false,
     "input": [
      "grid_dict = {}\n",
      "\n",
      "import itertools as itera\n",
      "temps = [\"600\",\"700\"]\n",
      "\n",
      "for temp in temps:\n",
      "    grid_dict[temp] = {}\n",
      "    for res,conj in itera.product(resolutions,[str(True),str(False)]):\n",
      "        grid_dict[temp][res+\"_\"+conj] = []\n",
      "\n",
      "\n",
      "\n",
      "for sim in sim_list:\n",
      "  for res in resolutions:\n",
      "    sim.result = {}\n",
      "    avg_Y= sim.data[0][0]\n",
      "    mf = avg_Y[\"massflow\"]\n",
      "    mf_Y = avg_Y[\"massflow_t_C3H6\"]\n",
      "    sim.result[\"conv\"] = 1-mf_Y/mf/0.00438125\n",
      "    if sim.sim_info[\"temperature\"] == 600 and sim.sim_info[\"res\"] == res:\n",
      "         grid_dict[\"600\"][sim.sim_info[\"res\"]+\"_\"+str(sim.sim_info[\"conjugate\"])].append(sim)\n",
      "    elif sim.sim_info[\"temperature\"] == 700 and sim.sim_info[\"res\"] == res: \n",
      "         grid_dict[\"700\"][sim.sim_info[\"ref\"]+\"_\"+str(sim.sim_info[\"conjugate\"])].append(sim)\n"
     ],
     "language": "python",
     "metadata": {},
     "outputs": [],
     "prompt_number": 125
    },
    {
     "cell_type": "code",
     "collapsed": false,
     "input": [
      "grid_dict"
     ],
     "language": "python",
     "metadata": {},
     "outputs": [
      {
       "metadata": {},
       "output_type": "pyout",
       "prompt_number": 32,
       "text": [
        "{'600': {'cylinder_finite_False': [],\n",
        "  'cylinder_finite_True': [],\n",
        "  'cylinder_finite_coarse_False': [<simulation_brutus.job instance at 0x5a9f4d0>,\n",
        "   <simulation_brutus.job instance at 0x5ac0170>,\n",
        "   <simulation_brutus.job instance at 0x5b179e0>,\n",
        "   <simulation_brutus.job instance at 0x5aeec20>],\n",
        "  'cylinder_finite_coarse_True': [<simulation_brutus.job instance at 0x5aad998>,\n",
        "   <simulation_brutus.job instance at 0x5ab7e60>,\n",
        "   <simulation_brutus.job instance at 0x5ac1d88>,\n",
        "   <simulation_brutus.job instance at 0x5b23e18>],\n",
        "  'cylinder_finite_very_coarse_False': [],\n",
        "  'cylinder_finite_very_coarse_True': []},\n",
        " '700': {'cylinder_finite_False': [],\n",
        "  'cylinder_finite_True': [],\n",
        "  'cylinder_finite_coarse_False': [<simulation_brutus.job instance at 0x5af6c20>,\n",
        "   <simulation_brutus.job instance at 0x5ab4b90>,\n",
        "   <simulation_brutus.job instance at 0x5b71ef0>,\n",
        "   <simulation_brutus.job instance at 0x5b73f38>],\n",
        "  'cylinder_finite_coarse_True': [<simulation_brutus.job instance at 0x5afeb00>,\n",
        "   <simulation_brutus.job instance at 0x5b1e830>,\n",
        "   <simulation_brutus.job instance at 0x5b63cf8>,\n",
        "   <simulation_brutus.job instance at 0x5b68710>],\n",
        "  'cylinder_finite_very_coarse_False': [],\n",
        "  'cylinder_finite_very_coarse_True': []}}"
       ]
      }
     ],
     "prompt_number": 32
    },
    {
     "cell_type": "code",
     "collapsed": false,
     "input": [
      "nfigs = 2\n",
      "figs = []\n",
      "ax   = []\n",
      "for i in range(nfigs):\n",
      "    figs.append(pl.figure())\n",
      "    ax.append(figs[-1].add_subplot(1,1,1))\n",
      "\n",
      "\n",
      "for temp,temp_dict in grid_dict.iteritems():\n",
      "  for key, item in temp_dict.iteritems():\n",
      "    item.sort(key=lambda it: it.sim_info[\"wc_thickness\"])\n",
      "    conv_arr = [it.result[\"conv\"] for it in item]\n",
      "    wc_arr = [max(it.sim_info[\"wc_thickness\"]*1E6,0) for it in item]\n",
      "    if conv_arr:\n",
      "       \n",
      "        if temp==\"600\":\n",
      "            ax[0].plot(wc_arr,conv_arr,'o-',label=item[0].info.local[\"jobname\"])\n",
      "        else:\n",
      "            ax[1].plot(wc_arr,conv_arr,'o-',label=label,color=color)\n",
      "    \n",
      "   \n",
      "    \n",
      "    ax[0].text(0.4, 0.1, '$T=600 K$',\n",
      "        fontsize=16, \n",
      "        transform=ax[0].transAxes)\n",
      "    ax[1].text(0.4, 0.5, '$T=700 K$',\n",
      "    fontsize=16, \n",
      "    transform=ax[1].transAxes)\n",
      "    ax[0].legend(loc=0)\n",
      "    ax[1].legend(loc=0)\n",
      "    ax[0].set_xlabel(\"Wash-coat thickness $\\mu m$\")\n",
      "    ax[1].set_xlabel(\"Wash-coat thickness $\\mu m$\")\n",
      "    ax[0].set_ylabel(\"$C_3H_6$ conversion\")\n",
      "    ax[1].set_ylabel(\"$C_3H_6$ conversion\")\n",
      "\n",
      "names = [\"T_600\",\"T_700\"]\n",
      "ext = \".png\"\n",
      "for fig,name in zip(figs,names):\n",
      "    fig.tight_layout()\n",
      "    fig.savefig(name+ext)\n"
     ],
     "language": "python",
     "metadata": {},
     "outputs": [
      {
       "metadata": {},
       "output_type": "display_data",
       "png": "[encoded data removed]",
       "text": [
        "<matplotlib.figure.Figure at 0x3a93a90>"
       ]
      },
      {
       "metadata": {},
       "output_type": "display_data",
       "png": "[encoded data removed]",
       "text": [
        "<matplotlib.figure.Figure at 0x4228fd0>"
       ]
      }
     ],
     "prompt_number": 126
    },
    {
     "cell_type": "raw",
     "metadata": {},
     "source": []
    },
    {
     "cell_type": "code",
     "collapsed": false,
     "input": [
      "def filter_simulations(sim_list,**kwargs):\n",
      "  filtered_list = []\n",
      "  for sim in sim_list:\n",
      "      match_all = True\n",
      "      for key, item in kwargs.iteritems():\n",
      "            if not sim.sim_info[key] == item:\n",
      "              match_all = False\n",
      "      if match_all:\n",
      "        filtered_list.append(sim)\n",
      "  return filtered_list"
     ],
     "language": "python",
     "metadata": {},
     "outputs": [],
     "prompt_number": 49
    },
    {
     "cell_type": "code",
     "collapsed": false,
     "input": [
      "filt_list = filter_simulations(sim_list,wc_thickness=1E-5,temperature=600,res=\"51\")"
     ],
     "language": "python",
     "metadata": {},
     "outputs": [],
     "prompt_number": 67
    },
    {
     "cell_type": "code",
     "collapsed": false,
     "input": [
      "for sim in filt_list:\n",
      "    print(sim.sim_info[\"res\"])"
     ],
     "language": "python",
     "metadata": {},
     "outputs": [
      {
       "output_type": "stream",
       "stream": "stdout",
       "text": [
        "51\n",
        "51\n"
       ]
      }
     ],
     "prompt_number": 68
    },
    {
     "cell_type": "code",
     "collapsed": false,
     "input": [
      "def sort_sims(sim_list,prop): \n",
      "    return sorted(sim_list,key=lambda it: it.sim_info[prop])\n"
     ],
     "language": "python",
     "metadata": {},
     "outputs": [],
     "prompt_number": 83
    },
    {
     "cell_type": "code",
     "collapsed": false,
     "input": [
      "def get_array(sim_list,func=None):\n",
      "    prop_list = []\n",
      "    if func:\n",
      "        for sim in sim_list:\n",
      "           prop_list.append(func(sim))\n",
      "    return np.array(prop_list)"
     ],
     "language": "python",
     "metadata": {},
     "outputs": [],
     "prompt_number": 88
    },
    {
     "cell_type": "code",
     "collapsed": false,
     "input": [
      "linestyles = [\"-\",\"--\",\":\"]\n",
      "colors =[\"k\",\"r\",\"b\"]\n",
      "markers = ['o',\".\"]\n",
      "for mark,conjugate in zip(markers,[False,True]):\n",
      "    for res,ls in zip([resolutions[-1]],linestyles):\n",
      "        for co,temp in zip(colors,temperatures):\n",
      "\n",
      "            sim_to_plot = sort_sims(filter_simulations(sim_list,conjugate=conjugate,res=res,temperature=temp),\"wc_thickness\")\n",
      "    \n",
      "            label = \"_\".join([str(temp),str(conjugate),res])\n",
      "            pl.plot(get_array(sim_to_plot,get_wc_thick),get_array(sim_to_plot,get_conv),label=label,linestyle=ls,color=co,marker=mark)\n",
      "\n",
      "pl.legend(bbox_to_anchor=[1.3,1])\n"
     ],
     "language": "python",
     "metadata": {},
     "outputs": [
      {
       "metadata": {},
       "output_type": "pyout",
       "prompt_number": 175,
       "text": [
        "<matplotlib.legend.Legend at 0x7fdd9c041750>"
       ]
      },
      {
       "metadata": {},
       "output_type": "display_data",
       "png": "[encoded data removed]",
       "text": [
        "<matplotlib.figure.Figure at 0x7fdd9c041cd0>"
       ]
      }
     ],
     "prompt_number": 175
    },
    {
     "cell_type": "code",
     "collapsed": false,
     "input": [
      "def get_wc_thick(sim):\n",
      "   return max(0,sim.sim_info[\"wc_thickness\"])\n",
      "    "
     ],
     "language": "python",
     "metadata": {},
     "outputs": [],
     "prompt_number": 95
    },
    {
     "cell_type": "code",
     "collapsed": false,
     "input": [
      "def get_conv(sim):\n",
      "    avg_Y= sim.data[0][0]\n",
      "    mf   = avg_Y[\"massflow\"]\n",
      "    mf_Y = avg_Y[\"massflow_t_C3H6\"]\n",
      "    return 1-mf_Y/mf/0.00438125"
     ],
     "language": "python",
     "metadata": {},
     "outputs": [],
     "prompt_number": 92
    },
    {
     "cell_type": "code",
     "collapsed": false,
     "input": [
      "a = 5\n",
      "a + \"fadaf\""
     ],
     "language": "python",
     "metadata": {},
     "outputs": [
      {
       "ename": "TypeError",
       "evalue": "unsupported operand type(s) for +: 'int' and 'str'",
       "output_type": "pyerr",
       "traceback": [
        "\u001b[1;31m---------------------------------------------------------------------------\u001b[0m\n\u001b[1;31mTypeError\u001b[0m                                 Traceback (most recent call last)",
        "\u001b[1;32m<ipython-input-1-a7bdb31e76c3>\u001b[0m in \u001b[0;36m<module>\u001b[1;34m()\u001b[0m\n\u001b[0;32m      1\u001b[0m \u001b[0ma\u001b[0m \u001b[1;33m=\u001b[0m \u001b[1;36m5\u001b[0m\u001b[1;33m\u001b[0m\u001b[0m\n\u001b[1;32m----> 2\u001b[1;33m \u001b[0ma\u001b[0m \u001b[1;33m+\u001b[0m \u001b[1;34m\"fadaf\"\u001b[0m\u001b[1;33m\u001b[0m\u001b[0m\n\u001b[0m",
        "\u001b[1;31mTypeError\u001b[0m: unsupported operand type(s) for +: 'int' and 'str'"
       ]
      }
     ],
     "prompt_number": 1
    },
    {
     "cell_type": "code",
     "collapsed": false,
     "input": [
      "%debug"
     ],
     "language": "python",
     "metadata": {},
     "outputs": [
      {
       "output_type": "stream",
       "stream": "stdout",
       "text": [
        "*** NameError: name 'pdb' is not defined\n",
        "> \u001b[1;32m<ipython-input-1-a7bdb31e76c3>\u001b[0m(2)\u001b[0;36m<module>\u001b[1;34m()\u001b[0m\n",
        "\u001b[1;32m      1 \u001b[1;33m\u001b[0ma\u001b[0m \u001b[1;33m=\u001b[0m \u001b[1;36m5\u001b[0m\u001b[1;33m\u001b[0m\u001b[0m\n",
        "\u001b[0m\u001b[1;32m----> 2 \u001b[1;33m\u001b[0ma\u001b[0m \u001b[1;33m+\u001b[0m \u001b[1;34m\"fadaf\"\u001b[0m\u001b[1;33m\u001b[0m\u001b[0m\n",
        "\u001b[0m"
       ]
      },
      {
       "output_type": "stream",
       "stream": "stdout",
       "text": [
        "\n"
       ]
      },
      {
       "name": "stdout",
       "output_type": "stream",
       "stream": "stdout",
       "text": [
        "ipdb> p a\n"
       ]
      },
      {
       "output_type": "stream",
       "stream": "stdout",
       "text": [
        "5\n"
       ]
      }
     ]
    },
    {
     "cell_type": "code",
     "collapsed": false,
     "input": [],
     "language": "python",
     "metadata": {},
     "outputs": []
    }
   ],
   "metadata": {}
  }
 ]
}