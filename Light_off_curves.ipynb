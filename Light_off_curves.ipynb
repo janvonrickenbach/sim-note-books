{
 "metadata": {
  "name": "",
  "signature": "sha256:775d757b9f49ea28974f120b20545b1e08f95cd69d9c84e9c54eba89ac22993f"
 },
 "nbformat": 3,
 "nbformat_minor": 0,
 "worksheets": [
  {
   "cells": [
    {
     "cell_type": "code",
     "collapsed": false,
     "input": [
      "import simulation_brutus as sim_brutus\n",
      "import numpy as np\n",
      "import initial_condition_writer as ini\n",
      "import shutil as sh\n",
      "import job_configurations as jc\n",
      "import matplotlib.pyplot as pl\n",
      "\n",
      "import para_reader as pa\n",
      "import pickle as pic\n",
      "import os\n",
      "import re\n",
      "%matplotlib inline"
     ],
     "language": "python",
     "metadata": {},
     "outputs": [
      {
       "output_type": "stream",
       "stream": "stdout",
       "text": [
        "paraview version 3.98.1-79-g52cc6ea\n"
       ]
      }
     ],
     "prompt_number": 1
    },
    {
     "cell_type": "code",
     "collapsed": false,
     "input": [
      "massfraction = {}\n",
      "massfraction[\"C3H6\"] = [0.003, [0,0]]\n",
      "massfraction[\"O2\"]   = [0.1,   [0,1]] \n",
      "massfraction[\"CO2\"]  = [0.064, [0,2]]\n",
      "massfraction[\"H2O\"]  = [0.072, [0,3]]\n",
      "massfraction[\"N2\"]   = [0.76,  [0,4]]\n",
      "massfraction[\"CO\"]   = [0.003, [0,5]]\n",
      "\n",
      "\n",
      "\n"
     ],
     "language": "python",
     "metadata": {},
     "outputs": [],
     "prompt_number": 2
    },
    {
     "cell_type": "code",
     "collapsed": false,
     "input": [
      "temperature = np.linspace(1000,1)\n",
      "temperature = [999,1000,1001]\n",
      "velocity = [5]\n",
      "\n",
      "colors = ['r','b','k','y']\n",
      "#colors = ['r','g']\n",
      "#colors = ['r']\n"
     ],
     "language": "python",
     "metadata": {},
     "outputs": [],
     "prompt_number": 3
    },
    {
     "cell_type": "code",
     "collapsed": false,
     "input": [
      "def create_simulation(folder,massfraction,velocity,temperature,ref_folder,root_folder='.'):\n",
      "    try:\n",
      "        sh.copytree(os.path.join(root_folder,ref_folder),os.path.join(root_folder,folder))\n",
      "    \n",
      "    except:\n",
      "        print(\"directory exists\")\n",
      "    sh.copy(os.path.join(os.path.join(root_folder,ref_folder),\"transat_mb.inp\"),os.path.join(root_folder,folder))\n",
      "    \n",
      "    write_inital_conditions(os.path.join(root_folder,folder),massfraction,velocity,temperature)\n",
      "    config = jc.configuration_mb_local\n",
      "    config[\"jobname\"] = folder\n",
      "    config[\"root_folder\"] = root_folder\n",
      "    simulation = sim_brutus.job(**config)\n",
      "    simulation.application.change_input(\"data_format\",'\\\"paraview_cell\\\"')\n",
      "    simulation.application.change_input(\"l3dplot\",'.true.')\n",
      "    simulation.application.change_input(\"l2dplot\",'.false.')\n",
      "    simulation.application.change_input(\"compressible\",'.true.')\n",
      "    simulation.application.change_input(\"solve_temperature\",'.true.')\n",
      "    simulation.application.change_input(\"activate_chem_heat_src\",'.true.')\n",
      "    simulation.application.change_input(\"diffusion_model\",'\\\"mixture\\\"')\n",
      "    simulation.application.change_input(\"visc_method(1)\",'\\\"cantera\\\"')\n",
      "    simulation.application.change_input(\"lamb_method(1)\",'\\\"cantera\\\"')\n",
      "    simulation.application.change_input(\"cp_method(1)\",'\\\"cantera\\\"')\n",
      "    simulation.application.change_input(\"wrtadhesionzone\",\".false.\")\n",
      "\n",
      "  \n",
      "    return simulation\n",
      "\n"
     ],
     "language": "python",
     "metadata": {},
     "outputs": [],
     "prompt_number": 5
    },
    {
     "cell_type": "code",
     "collapsed": false,
     "input": [
      "def write_inital_conditions(folder,massfraction,velocity,temperature):\n",
      "\n",
      "    writer = ini.initalconditions_writer()\n",
      "    writer.add_variable(\"uvelocity\",velocity)\n",
      "    writer.add_variable(\"temperature\",temperature)\n",
      "    \n",
      "    for key,item in massfraction.iteritems():\n",
      "        writer.add_variable(var=\"component_molefraction\",value=item[0],index=item[1])\n",
      "        \n",
      "    writer.write_file(folder)\n",
      "       \n",
      "\n"
     ],
     "language": "python",
     "metadata": {},
     "outputs": [],
     "prompt_number": 7
    },
    {
     "cell_type": "code",
     "collapsed": false,
     "input": [
      "for sim in sim_list:\n",
      "  sh.rmtree(sim.info.local[\"sim_folder\"])\n"
     ],
     "language": "python",
     "metadata": {},
     "outputs": [
      {
       "ename": "NameError",
       "evalue": "name 'sim_list' is not defined",
       "output_type": "pyerr",
       "traceback": [
        "\u001b[1;31m---------------------------------------------------------------------------\u001b[0m\n\u001b[1;31mNameError\u001b[0m                                 Traceback (most recent call last)",
        "\u001b[1;32m<ipython-input-6-f9e76292978b>\u001b[0m in \u001b[0;36m<module>\u001b[1;34m()\u001b[0m\n\u001b[1;32m----> 1\u001b[1;33m \u001b[1;32mfor\u001b[0m \u001b[0msim\u001b[0m \u001b[1;32min\u001b[0m \u001b[0msim_list\u001b[0m\u001b[1;33m:\u001b[0m\u001b[1;33m\u001b[0m\u001b[0m\n\u001b[0m\u001b[0;32m      2\u001b[0m   \u001b[0msh\u001b[0m\u001b[1;33m.\u001b[0m\u001b[0mrmtree\u001b[0m\u001b[1;33m(\u001b[0m\u001b[0msim\u001b[0m\u001b[1;33m.\u001b[0m\u001b[0minfo\u001b[0m\u001b[1;33m.\u001b[0m\u001b[0mlocal\u001b[0m\u001b[1;33m[\u001b[0m\u001b[1;34m\"sim_folder\"\u001b[0m\u001b[1;33m]\u001b[0m\u001b[1;33m)\u001b[0m\u001b[1;33m\u001b[0m\u001b[0m\n",
        "\u001b[1;31mNameError\u001b[0m: name 'sim_list' is not defined"
       ]
      }
     ],
     "prompt_number": 6
    },
    {
     "cell_type": "code",
     "collapsed": false,
     "input": [
      "data_folder = \"/home/vonrickenbach/testcases_mb/kelvin_cell_final/param_study_8_cells\"\n",
      "root_folder = \"/home/vonrickenbach/testcases_mb/kelvin_cell_final/param_study_8_cells/inf_vol_avg_param_study/\"\n",
      "\n",
      "sim_list = []\n",
      "sim_list_finite = []\n",
      "\n",
      "ref_cases = [\"channel_test_infinite\",\"channel_test_finite\"]\n",
      "ref_cases = [\"channel_test_infinite_entrance\"]\n",
      "for ref_case in ref_cases:\n",
      "    for idx_temp in range(len(temperature)):\n",
      "        for idx_vel in range(len(velocity)):\n",
      "            name = \"case_t_\" + str(int(temperature[idx_temp])) + '_' + str(int(velocity[idx_vel])) + '_' + ref_case\n",
      "            test = create_simulation(name,massfraction,velocity[idx_vel],temperature[idx_temp],ref_case,root_folder=root_folder)\n",
      "\n",
      "            test.sim_data = {}\n",
      "            test.sim_data[\"temperature\"] = temperature[idx_temp]\n",
      "            test.sim_data[\"velocity\"]    = velocity[idx_vel]\n",
      "            test.sim_data[\"geometry\"] = \"A\"\n",
      "            test.sim_data[\"Dp\"]       = 0.0023\n",
      "\n",
      "            sim_list.append(test)\n",
      "\n",
      "pressure_coefficients = pic.load(open(os.path.join(data_folder,\"pressure_data.dat\")))\n",
      "sherwood_coefficients = pic.load(open(os.path.join(data_folder,\"sherwood_data.dat\")))\n",
      "data_files = {\"mt_coefficients.dat\":sherwood_coefficients, \"res_coefficients.dat\":pressure_coefficients}\n",
      "# loop through all the simulations\n",
      "for sim in sim_list:\n",
      "    # Loop through the two files to write\n",
      "    for filename,data in data_files.iteritems():\n",
      "        # Open the file\n",
      "        param_file = open(os.path.join(sim.info.local[\"sim_folder\"],filename),'w')\n",
      "        geom = sim.sim_data[\"geometry\"]\n",
      "        lengthscale = sim.sim_data[\"Dp\"]\n",
      "        coeff = {\"coeff1\":data[geom][0],\n",
      "                 \"coeff2\":data[geom][1],\n",
      "                 \"lengthscale\":lengthscale}\n",
      "        for key,item in coeff.iteritems():\n",
      "            param_file.write(\" \".join([key,str(item),\"\\n\"]))\n",
      "        param_file.close()\n",
      "        "
     ],
     "language": "python",
     "metadata": {},
     "outputs": [
      {
       "output_type": "stream",
       "stream": "stdout",
       "text": [
        "directory exists\n",
        "Warning Initial conditions with single block code not supported"
       ]
      },
      {
       "output_type": "stream",
       "stream": "stdout",
       "text": [
        "\n",
        "===============================================\n",
        "project_name    channel_test                            \n",
        "sim_folder      /home/vonrickenbach/testcases_mb/kelvin_cell_final/param_study_8_cells/inf_vol_avg_param_study/case_t_999_5_channel_test_infinite_entrance\n",
        "jobname         case_t_999_5_channel_test_infinite_entrance\n",
        "===============================================\n",
        "directory exists\n",
        "Warning Initial conditions with single block code not supported"
       ]
      },
      {
       "output_type": "stream",
       "stream": "stdout",
       "text": [
        "\n",
        "===============================================\n",
        "project_name    channel_test                            \n",
        "sim_folder      /home/vonrickenbach/testcases_mb/kelvin_cell_final/param_study_8_cells/inf_vol_avg_param_study/case_t_1000_5_channel_test_infinite_entrance\n",
        "jobname         case_t_1000_5_channel_test_infinite_entrance\n",
        "===============================================\n",
        "directory exists\n",
        "Warning Initial conditions with single block code not supported\n",
        "===============================================\n",
        "project_name    channel_test                            \n",
        "sim_folder      /home/vonrickenbach/testcases_mb/kelvin_cell_final/param_study_8_cells/inf_vol_avg_param_study/case_t_1001_5_channel_test_infinite_entrance\n",
        "jobname         case_t_1001_5_channel_test_infinite_entrance\n",
        "===============================================\n"
       ]
      }
     ],
     "prompt_number": 6
    },
    {
     "cell_type": "code",
     "collapsed": false,
     "input": [
      "for sim in sim_list:\n",
      "  sim.run_init(nproc='1')\n"
     ],
     "language": "python",
     "metadata": {},
     "outputs": [],
     "prompt_number": 11
    },
    {
     "cell_type": "code",
     "collapsed": false,
     "input": [
      "#for sim in sim_list:\n",
      "#  sim.run_sim(nproc='1')"
     ],
     "language": "python",
     "metadata": {},
     "outputs": []
    },
    {
     "cell_type": "code",
     "collapsed": false,
     "input": [
      "for sim in sim_list:\n",
      "   print(sim.status(),sim.sim_data[\"temperature\"],sim.sim_data[\"velocity\"])"
     ],
     "language": "python",
     "metadata": {},
     "outputs": []
    },
    {
     "cell_type": "code",
     "collapsed": false,
     "input": [
      "%%file postprocess.py\n",
      "\n",
      "import para_reader as pa\n",
      "import paraview.simple as ps\n",
      "import pickle as pic\n",
      "\n",
      "filename = pa.get_last_modified()\n",
      "print(filename)\n",
      "datafile = ps.OpenDataFile(filename)\n",
      "\n",
      "PlotOverLine1 = ps.PlotOverLine(datafile)\n",
      "\n",
      "PlotOverLine1.Source.Point1 = [-0.01, 0.0003999969482421875, 0.0009999923706054687]\n",
      "PlotOverLine1.Source.Point2 = [0.04009999990463256, 0.0003999969482421875, 0.0009999923706054687]\n",
      "\n",
      "\n",
      "data_dict = pa.save_data_to_dict(PlotOverLine1,cell=False)\n",
      "\n",
      "pic.dump(data_dict,open(\"data.dat\",'w'))"
     ],
     "language": "python",
     "metadata": {},
     "outputs": [
      {
       "output_type": "stream",
       "stream": "stdout",
       "text": [
        "Writing postprocess.py\n"
       ]
      }
     ],
     "prompt_number": 10
    },
    {
     "cell_type": "code",
     "collapsed": false,
     "input": [
      "for sim in sim_list:  \n",
      "  sh.copy(\"postprocess.py\",sim.info.local[\"sim_folder\"])\n",
      "  sim.run_postprocess(\"postprocess.py\")"
     ],
     "language": "python",
     "metadata": {},
     "outputs": [],
     "prompt_number": 59
    },
    {
     "cell_type": "code",
     "collapsed": false,
     "input": [
      "for sim in sim_list:\n",
      "  sim.data = pic.load(open(os.path.join(sim.info.local[\"sim_folder\"],\"data.dat\")))\n"
     ],
     "language": "python",
     "metadata": {},
     "outputs": [],
     "prompt_number": 8
    },
    {
     "cell_type": "code",
     "collapsed": false,
     "input": [
      "import Cantera as ca\n",
      "\n",
      "gas=ca.importPhase(os.path.join(root_folder,\"../cantera_input.cti\"),\"gas\")\n",
      "\n",
      "molfractions  =  [0.003,0.1,0.064,0.072,0.76,0.003]\n",
      "\n",
      "gas.setState_TPX(1000,1E5,molfractions)\n",
      "\n",
      "Re = 1.0*0.0023/gas.viscosity()\n",
      "gas.delta_H()\n",
      "\n",
      "Sc = gas.viscosity()/gas.density()/gas.diffusionCoeffs()[0]\n",
      "Pr = gas.viscosity()/gas.density()/(gas.thermalConductivity()/(gas.density()*gas.cp_mass()))\n",
      "Re,Sc,Pr\n",
      "\n",
      "C3H6_index = gas.speciesIndex(\"C3H6\")\n",
      "CO_index = gas.speciesIndex(\"CO\")\n",
      "#ca.Th\n",
      "#ca.G\n",
      "delta_T = 0.0\n",
      "delta_T = []\n",
      "Sc = []\n",
      "Pr = gas.viscosity()/gas.density()/(gas.thermalConductivity()/(gas.density()*gas.cp_mass()))\n",
      "for idx,reac_idx in zip([CO_index, C3H6_index],[1,0]):\n",
      "   delta_T.append(-gas.delta_H()[reac_idx]/gas.molecularWeights()[idx]/(gas.cp_mass()))\n",
      "   Sc.append(gas.viscosity()/gas.density()/gas.mixDiffCoeffs()[idx])\n",
      "\n",
      "np.array(Sc)/Pr"
     ],
     "language": "python",
     "metadata": {},
     "outputs": [
      {
       "metadata": {},
       "output_type": "pyout",
       "prompt_number": 12,
       "text": [
        "array([ 1.03144398,  1.63802867])"
       ]
      }
     ],
     "prompt_number": 12
    },
    {
     "cell_type": "code",
     "collapsed": false,
     "input": [
      "delta_T[1]*gas.massFractions()[C3H6_index]\n",
      "delta_T[0]*gas.massFractions()[CO_index]"
     ],
     "language": "python",
     "metadata": {},
     "outputs": [
      {
       "metadata": {},
       "output_type": "pyout",
       "prompt_number": 13,
       "text": [
        "23.971232005866455"
       ]
      }
     ],
     "prompt_number": 13
    },
    {
     "cell_type": "code",
     "collapsed": false,
     "input": [
      "((Pr/Sc[0])**(2.0/3.0))*delta_T[0]*gas.massFractions()[CO_index] +((Pr/Sc[1])**(2.0/3.0))*delta_T[1]*gas.massFractions()[C3H6_index]"
     ],
     "language": "python",
     "metadata": {},
     "outputs": [
      {
       "metadata": {},
       "output_type": "pyout",
       "prompt_number": 14,
       "text": [
        "141.11353449476607"
       ]
      }
     ],
     "prompt_number": 14
    },
    {
     "cell_type": "code",
     "collapsed": false,
     "input": [
      "gas.cp_mass()"
     ],
     "language": "python",
     "metadata": {},
     "outputs": [
      {
       "metadata": {},
       "output_type": "pyout",
       "prompt_number": 15,
       "text": [
        "1227.539660772591"
       ]
      }
     ],
     "prompt_number": 15
    },
    {
     "cell_type": "code",
     "collapsed": false,
     "input": [
      "fig = []\n",
      "ax  = []\n",
      "nfig = 8\n",
      "for idx in range(nfig):  \n",
      "    figure = pl.figure(figsize=(6,4))\n",
      "    axes   = figure.add_subplot(1,1,1)\n",
      "    fig.append(figure)\n",
      "    ax.append(axes)\n",
      "\n",
      "legendlist = []\n",
      "conversion = {}\n",
      "\n",
      "sorted_list = {}\n",
      "#filters = [\"finite\",[int(item) for item in velocity])\n",
      "\n",
      "list_finite = []\n",
      "list_infinite = []\n",
      "list_entrance = []\n",
      "for vel in [5]:\n",
      "    list_finite.append([sim for sim in sim_list if int(vel) == int(sim.sim_data[\"velocity\"]) and \"_infinite\" in sim.info.local[\"jobname\"]])\n",
      "    list_infinite.append([sim for sim in sim_list if int(vel) == int(sim.sim_data[\"velocity\"]) and \"_finite\" in sim.info.local[\"jobname\"]])\n",
      "    list_entrance.append([sim for sim in sim_list if int(vel) == int(sim.sim_data[\"velocity\"]) and \"_entrance\" in sim.info.local[\"jobname\"]])\n",
      "\n",
      "job_types = [\"_finite\",\"_infinite\"] \n",
      "job_types = [\"_entrance\"] \n",
      "linestyles = ['--','-']\n",
      "postfixes    = [\" finite\",\" infinite\"]\n",
      "postfixes   = [\" entrance\"]\n",
      "for item in list_entrance:\n",
      "    postfix = [ident[1] for ident in zip(job_types,postfixes) if ident[0] in item[0].info.local[\"jobname\"]][0]\n",
      "    ls      = [ident[1] for ident in zip(job_types,linestyles) if ident[0] in item[0].info.local[\"jobname\"]][0]\n",
      "\n",
      "    co = [vel[1] for vel in zip(velocity,colors) if vel[0] == item[0].sim_data[\"velocity\"]][0]\n",
      "\n",
      "\n",
      "    temperature= [sim.sim_data[\"temperature\"] for sim in item]\n",
      "    conversion = [1 - sim.data[\"C3H6\"][-2] /sim.data[\"C3H6\"][2] for sim in item]\n",
      "    conversion_CO = [1 - sim.data[\"CO\"][-2] /sim.data[\"CO\"][2] for sim in item]\n",
      "\n",
      "    dp         = [sim.data[\"P\"][2] for sim in item]\n",
      "    labelstring = 'U = ' +  str(sim.sim_data[\"velocity\"])+postfix\n",
      "    ax[0].plot(temperature,conversion,label=labelstring,linestyle=ls,color=co)\n",
      "    ax[1].plot(temperature,dp,label=labelstring,linestyle=ls,color=co)\n",
      "    ax[2].plot(temperature,conversion_CO,label=labelstring,linestyle=ls,color=co)\n",
      " \n",
      "\n",
      "\n",
      "for ax_item in ax[:3]:\n",
      "    handles, labels = ax_item.get_legend_handles_labels()\n",
      "    handles, labels = zip(*sorted(zip(handles,labels),key=lambda item: int(re.sub(\"\\D\",\"\",item[1]))))\n",
      " #   handles, labels = zip(*sorted(zip(handles,labels)))\n",
      "\n",
      "    ax_item.legend(handles,labels,loc=0,frameon=False)\n",
      "\n",
      "sim_to_plot_list = [list_entrance[-1][0], list_entrance[-1][1],list_entrance[-1][-1]]\n",
      "#sim_to_plot_list = [list_entrance[-1][-2]]\n",
      "\n",
      "label_list= [\"reference\",\"no heat release\",\"no entrance eff\"]\n",
      "line_style_list = [[\"k-\",\"b-\"],[\"k--\",\"b--\"],[\"k:\",\"b:\"]]\n",
      "\n",
      "for label,sim_to_plot,line_style_l in zip(label_list,sim_to_plot_list,line_style_list):\n",
      "    line_style = line_style_l[0]\n",
      "    ax[0].set_ylabel(\"$C_3H_6$ Conversion (-)\")\n",
      "    ax[0].set_xlabel(\"Inflow Temperature (K)\")\n",
      "    \n",
      "    ax[1].set_ylabel(\"Pressure Drop (Pa)\")\n",
      "    ax[1].set_xlabel(\"Inflow Temperature (K)\")\n",
      "    ax[1].set_ylim([0,7000])\n",
      "    \n",
      "    ax[2].set_ylabel(\"$CO$ Conversion (-)\")\n",
      "    ax[2].set_xlabel(\"Inflow Temperature (K)\")\n",
      "\n",
      "    coord_label = \"$\\mathrm{x'}$ (-)\"\n",
      "    if label not in \"no heat release\":\n",
      "        ax[3].plot((sim_to_plot.data[\"arc_length\"]-0.01)/0.0023,sim_to_plot.data[\"T\"],line_style,label=\"$\\mathrm{T_b}$ Vol avg \"+label)\n",
      "    delta_T_CO =   delta_T[0]*(sim_to_plot.data[\"CO\"]*((Pr/Sc[0])**(0.69)))\n",
      "    delta_T_C3H6 = delta_T[1]*(sim_to_plot.data[\"C3H6\"]*((Pr/Sc[1])**(0.69)))\n",
      "\n",
      "    if label not in \"no heat release\":\n",
      "       ax[3].plot((sim_to_plot.data[\"arc_length\"]-0.01)/0.0023,sim_to_plot.data[\"T\"]+delta_T_CO+delta_T_C3H6,line_style_l[1],label=\"$\\mathrm{T_s}$ Vol avg \"+label)\n",
      "\n",
      "    ax[3].set_xlabel(coord_label)\n",
      "    ax[3].set_ylabel(\"$T$ (K)\")\n",
      "\n",
      "    \n",
      "    indices = np.where(sim_to_plot.data[\"arc_length\"]-0.01 < 9*0.0023+0.0005)\n",
      "    ax[4].plot((sim_to_plot.data[\"arc_length\"][indices]-0.01)/0.0023,-sim_to_plot.data[\"P\"][indices]+sim_to_plot.data[\"P\"][indices][0],line_style,label=\"Vol avg \"+ label)\n",
      "    ax[4].set_xlabel(coord_label)\n",
      "    ax[4].set_ylabel(\"$\\Delta p$ (Pa)\")\n",
      "    \n",
      "    \n",
      "    ax[5].plot(sim_to_plot.data[\"arc_length\"],sim_to_plot.data[\"U\"])\n",
      "    ax[5].set_xlabel(coord_label)\n",
      "    ax[5].set_ylabel(\"Velocity (m/s)\")\n",
      "    \n",
      "    \n",
      "    ax[6].plot(sim_to_plot.data[\"arc_length\"],sim_to_plot.data[\"VIS\"])\n",
      "    ax[6].set_xlabel(coord_label)\n",
      "    ax[6].set_ylabel(\"Viscosity (Pa s)\")\n",
      "    \n",
      "    ax[7].plot((sim_to_plot.data[\"arc_length\"]-0.01)/0.0023,sim_to_plot.data[\"C3H6\"]/sim_to_plot.data[\"C3H6\"][0],line_style,label=\"Vol avg \" + label)\n",
      "    ax[7].set_xlabel(coord_label)\n",
      "    ax[7].set_ylabel(r\"$Y_{C_3H_6}'$ (-)\")\n",
      "\n",
      "data_var_properties = pic.load(open(os.path.join(root_folder,\"../../8_cells_realistic/st_3_dp_2_T_430_U_10_coarse/processed/slice_averages_fine.dat\")))\n",
      "#data_var_properties = pic.load(open(os.path.join(root_folder,\"../../8_cells_realistic/8_cell_inf_neumann/processed/slice_averages_fine.dat\")))\n",
      "\n",
      "#data_var_properties = pic.load(open(\"/home/vonrickenbach/testcases_mb/kelvin_cell_final/geometries_ABC/geom_A/Re_90_geometry_A/processed/slice_averages_fine.dat\"))\n",
      "\n",
      "massfraction = []\n",
      "avg_temp = []\n",
      "avg_temp_s = []\n",
      "avg_P = []\n",
      "avg_U = []\n",
      "\n",
      "for slice_avg in data_var_properties:\n",
      "    norm = gas.massFractions()[C3H6_index]\n",
      "    massfraction.append(slice_avg[0][\"massflow_t_C3H6\"]/slice_avg[0][\"massflow\"]/norm)\n",
      "    avg_temp.append((slice_avg[3][\"massflow_t_T\"]/slice_avg[3][\"massflow\"])[0])\n",
      "    avg_temp_s.append((slice_avg[4][\"massflow_t_T\"]/slice_avg[4][\"massflow\"])[0])\n",
      "    avg_P.append((slice_avg[1][\"massflow_t_P\"]/slice_avg[1][\"massflow\"])[0])\n",
      "    avg_U.append((slice_avg[2][\"massflow_t_U\"]/slice_avg[2][\"massflow\"])[0])\n",
      "\n",
      "\n",
      "kelvin_cell_size = 0.0023\n",
      "ncells = 8\n",
      "xcoord = (np.linspace(-0.0*kelvin_cell_size,(ncells)*kelvin_cell_size,ncells+1)+0.00015)/0.0023\n",
      "#xcoord = np.linspace(-0.0*kelvin_cell_size,8.0*kelvin_cell_size,20) +0.01\n",
      "\n",
      "ax[7].plot(xcoord,massfraction,'ok',label=\"Pore scale\")\n",
      "ax[3].plot(xcoord,avg_temp,'ok',label=\"${T_b}$ Pore scale\")\n",
      "ax[3].plot(xcoord,avg_temp_s,\"bo\",label=\"${T_s}$ Pore scale\")\n",
      "ax[5].plot(xcoord,avg_U,'^k',label=\"velocity Pore scale\")\n",
      "ax[4].plot(xcoord,np.array(173.0)-avg_P,'ko',label=\"Pore scale\")\n",
      "ax[7].set_yscale(\"log\")\n",
      "#ax[4].set_yscale(\"log\")\n",
      "ax[7].set_ylim([0.03,1])\n",
      "\n",
      "\n",
      "ax[3].set_xlim([-0.01,8.5])\n",
      "ax[7].set_xlim([-0.01,8.5])\n",
      "ax[4].set_xlim([-0.01,8.5])\n",
      "ax[3].set_ylim([1000,1200])\n",
      "\n",
      "ax[4].set_ylim([0,200])\n",
      "legend_loc = [0,0,0,0,0,0,0,3]\n",
      "for ax_item,loc in zip (ax,legend_loc):\n",
      "    handles, labels = ax_item.get_legend_handles_labels()\n",
      "    ax_item.legend(handles, labels,loc=loc,frameon=False,borderpad=0.2)\n",
      "\n",
      "extension=\".eps\"\n",
      "name_list = [\"C3H6_conversion\",\"Pressure_drop\",\"CO_conversion\",\"Temperature_profile\",\"Pressure\"\n",
      "            ,\"Velocity\",\"Viscosity\",\"Massfraction\"]\n",
      "for fi,name in zip(fig,name_list):  \n",
      "    fi.tight_layout()\n",
      "    fi.savefig(name+extension,dpi=50)"
     ],
     "language": "python",
     "metadata": {},
     "outputs": [
      {
       "metadata": {},
       "output_type": "display_data",
       "png": "[encoded data removed]",
       "text": [
        "<matplotlib.figure.Figure at 0x76cf090>"
       ]
      },
      {
       "metadata": {},
       "output_type": "display_data",
       "png": "[encoded data removed]",
       "text": [
        "<matplotlib.figure.Figure at 0x5888f10>"
       ]
      },
      {
       "metadata": {},
       "output_type": "display_data",
       "png": "[encoded data removed]",
       "text": [
        "<matplotlib.figure.Figure at 0x55f5550>"
       ]
      },
      {
       "metadata": {},
       "output_type": "display_data",
       "png": "[encoded data removed]",
       "text": [
        "<matplotlib.figure.Figure at 0x58a0d90>"
       ]
      },
      {
       "metadata": {},
       "output_type": "display_data",
       "png": "[encoded data removed]",
       "text": [
        "<matplotlib.figure.Figure at 0x6d94610>"
       ]
      },
      {
       "metadata": {},
       "output_type": "display_data",
       "png": "[encoded data removed]",
       "text": [
        "<matplotlib.figure.Figure at 0x542efd0>"
       ]
      },
      {
       "metadata": {},
       "output_type": "display_data",
       "png": "[encoded data removed]",
       "text": [
        "<matplotlib.figure.Figure at 0x5d43350>"
       ]
      },
      {
       "metadata": {},
       "output_type": "display_data",
       "png": "[encoded data removed]",
       "text": [
        "<matplotlib.figure.Figure at 0x61815d0>"
       ]
      }
     ],
     "prompt_number": 29
    },
    {
     "cell_type": "code",
     "collapsed": false,
     "input": [
      "for sim in sim_list:\n",
      "    print(sim.data[\"P\"][0])\n",
      "    \n",
      "361./298\n"
     ],
     "language": "python",
     "metadata": {},
     "outputs": [
      {
       "output_type": "stream",
       "stream": "stdout",
       "text": [
        "368.068\n",
        "298.18\n",
        "361.993\n"
       ]
      },
      {
       "metadata": {},
       "output_type": "pyout",
       "prompt_number": 25,
       "text": [
        "1.2114093959731544"
       ]
      }
     ],
     "prompt_number": 25
    },
    {
     "cell_type": "code",
     "collapsed": false,
     "input": [
      "test.get_figheight()"
     ],
     "language": "python",
     "metadata": {},
     "outputs": [
      {
       "metadata": {},
       "output_type": "pyout",
       "prompt_number": 49,
       "text": [
        "4.0"
       ]
      }
     ],
     "prompt_number": 49
    },
    {
     "cell_type": "code",
     "collapsed": false,
     "input": [
      "norm"
     ],
     "language": "python",
     "metadata": {},
     "outputs": [
      {
       "metadata": {},
       "output_type": "pyout",
       "prompt_number": 82,
       "text": [
        "0.0043812511666847312"
       ]
      }
     ],
     "prompt_number": 82
    },
    {
     "cell_type": "code",
     "collapsed": false,
     "input": [
      "x=np.array([1.0,2.0,3.0])\n",
      "anp.where(x<3.0)"
     ],
     "language": "python",
     "metadata": {},
     "outputs": [
      {
       "ename": "NameError",
       "evalue": "name 'anp' is not defined",
       "output_type": "pyerr",
       "traceback": [
        "\u001b[1;31m---------------------------------------------------------------------------\u001b[0m\n\u001b[1;31mNameError\u001b[0m                                 Traceback (most recent call last)",
        "\u001b[1;32m<ipython-input-58-36cbe2d6f4b2>\u001b[0m in \u001b[0;36m<module>\u001b[1;34m()\u001b[0m\n\u001b[0;32m      1\u001b[0m \u001b[1;33m\u001b[0m\u001b[0m\n\u001b[0;32m      2\u001b[0m \u001b[0mx\u001b[0m\u001b[1;33m=\u001b[0m\u001b[0mnp\u001b[0m\u001b[1;33m.\u001b[0m\u001b[0marray\u001b[0m\u001b[1;33m(\u001b[0m\u001b[1;33m[\u001b[0m\u001b[1;36m1.0\u001b[0m\u001b[1;33m,\u001b[0m\u001b[1;36m2.0\u001b[0m\u001b[1;33m,\u001b[0m\u001b[1;36m3.0\u001b[0m\u001b[1;33m]\u001b[0m\u001b[1;33m)\u001b[0m\u001b[1;33m\u001b[0m\u001b[0m\n\u001b[1;32m----> 3\u001b[1;33m \u001b[0manp\u001b[0m\u001b[1;33m.\u001b[0m\u001b[0mwhere\u001b[0m\u001b[1;33m(\u001b[0m\u001b[0mx\u001b[0m\u001b[1;33m<\u001b[0m\u001b[1;36m3.0\u001b[0m\u001b[1;33m)\u001b[0m\u001b[1;33m\u001b[0m\u001b[0m\n\u001b[0m",
        "\u001b[1;31mNameError\u001b[0m: name 'anp' is not defined"
       ]
      }
     ],
     "prompt_number": 58
    },
    {
     "cell_type": "code",
     "collapsed": false,
     "input": [
      "slice_avg[3]\n"
     ],
     "language": "python",
     "metadata": {},
     "outputs": [
      {
       "metadata": {},
       "output_type": "pyout",
       "prompt_number": 132,
       "text": [
        "{'massflow': array([  7.81606791e-06]), 'massflow_t_T': array([ 0.00922547])}"
       ]
      }
     ],
     "prompt_number": 132
    },
    {
     "cell_type": "code",
     "collapsed": false,
     "input": [
      "list_entrance[0].info.local[\"jobname\"]"
     ],
     "language": "python",
     "metadata": {},
     "outputs": [
      {
       "ename": "AttributeError",
       "evalue": "'list' object has no attribute 'info'",
       "output_type": "pyerr",
       "traceback": [
        "\u001b[1;31m---------------------------------------------------------------------------\u001b[0m\n\u001b[1;31mAttributeError\u001b[0m                            Traceback (most recent call last)",
        "\u001b[1;32m<ipython-input-133-4e9f610a078a>\u001b[0m in \u001b[0;36m<module>\u001b[1;34m()\u001b[0m\n\u001b[1;32m----> 1\u001b[1;33m \u001b[0mlist_entrance\u001b[0m\u001b[1;33m[\u001b[0m\u001b[1;36m0\u001b[0m\u001b[1;33m]\u001b[0m\u001b[1;33m.\u001b[0m\u001b[0minfo\u001b[0m\u001b[1;33m.\u001b[0m\u001b[0mlocal\u001b[0m\u001b[1;33m[\u001b[0m\u001b[1;34m\"jobname\"\u001b[0m\u001b[1;33m]\u001b[0m\u001b[1;33m\u001b[0m\u001b[0m\n\u001b[0m",
        "\u001b[1;31mAttributeError\u001b[0m: 'list' object has no attribute 'info'"
       ]
      }
     ],
     "prompt_number": 133
    },
    {
     "cell_type": "code",
     "collapsed": false,
     "input": [
      "import sympy as sy\n",
      "\n",
      "U,D,K,u,k,d,d_eff,A,a11,a12,a21,a22,alpha,Y_m,Y_b = sy.var(\"U D K u k d d_eff A a11,a12,a21,a22,alpha,Y_m,Y_b\")\n",
      "\n",
      "k= sy.Symbol(\"k\",positive=True)\n",
      "u= sy.Symbol(\"u\",positive=True)\n",
      "d= sy.Symbol(\"d\",positive=True)\n",
      "d_eff= sy.Symbol(\"d_eff\",positive=True)\n",
      "#D=5.0\n",
      "#u=1\n",
      "#k=1\n",
      "#D_eff =0\n",
      "\n",
      "U = sy.Matrix([[u,0],[0,u]])\n",
      "K = sy.Matrix([[k,0],[k,0]])\n",
      "D = sy.Matrix([[0,d],[0,d_eff]])\n",
      "A = sy.Matrix([[a11,a12],[a21,a22]])\n",
      "alpha = d/d_eff\n",
      "print\n",
      "#A=A.subs({a11:(alpha+k*(1-alpha))/u})\n",
      "#A=A.subs({a21:k/u - k/alpha/u + (alpha+k*(1-alpha))/u/alpha})\n",
      "\n",
      "LHS = U*A - D*A**2 - K\n",
      "#LHS.subs({a21:0.0}\n",
      "equations = []\n",
      "#equations.append(sy.Eq(LHS[0,0],0))\n",
      "equations.append(sy.Eq(LHS[0,1],0))\n",
      "#equations.append(sy.Eq(LHS[1,0],0))\n",
      "equations.append(sy.Eq(LHS[1,1],0))\n",
      "\n",
      "#print(equations)\n",
      "\n",
      "#print(LHS)\n",
      "add_eq=[[],[]]\n",
      "add_eq[0] = sy.Eq(a11*u-d*(a11*a21) -k,alpha*a21*u-d*alpha*a21**2)\n",
      "add_eq[1] = sy.Eq(a11*a21-alpha*a21**2+k/d_eff,0)\n",
      "sol_add = sy.solve(add_eq,[a21,a11])\n",
      "sol = sy.solve(equations,[a12,a22])\n",
      "sol"
     ],
     "language": "python",
     "metadata": {},
     "outputs": [
      {
       "output_type": "stream",
       "stream": "stdout",
       "text": [
        "\n"
       ]
      },
      {
       "metadata": {},
       "output_type": "pyout",
       "prompt_number": 917,
       "text": [
        "[(0, 0), (d*(-a21*d + u)/d_eff**2, (-a21*d + u)/d_eff)]"
       ]
      }
     ],
     "prompt_number": 917
    },
    {
     "cell_type": "code",
     "collapsed": false,
     "input": [
      "LHS.subs({a12:sol[0][0],a22:sol[1][0]})[0].simplify()"
     ],
     "language": "python",
     "metadata": {},
     "outputs": [
      {
       "metadata": {},
       "output_type": "pyout",
       "prompt_number": 839,
       "text": [
        "a11*u - d*(a11*a21 + a21*d*(-a21*d + u)/d_eff**2) - k"
       ]
      }
     ],
     "prompt_number": 839
    },
    {
     "cell_type": "code",
     "collapsed": false,
     "input": [
      "sol_add"
     ],
     "language": "python",
     "metadata": {},
     "outputs": [
      {
       "metadata": {},
       "output_type": "pyout",
       "prompt_number": 841,
       "text": [
        "[(u/(d - d_eff),\n",
        "  (-d**2*k + 2*d*d_eff*k + d*u**2 - d_eff**2*k)/(d_eff*u*(d - d_eff)))]"
       ]
      }
     ],
     "prompt_number": 841
    },
    {
     "cell_type": "code",
     "collapsed": false,
     "input": [
      "LHS"
     ],
     "language": "python",
     "metadata": {},
     "outputs": [
      {
       "metadata": {},
       "output_type": "pyout",
       "prompt_number": 842,
       "text": [
        "[    a11*u - d*(a11*a21 + a21*a22) - k,     a12*u - d*(a12*a21 + a22**2)]\n",
        "[a21*u - d_eff*(a11*a21 + a21*a22) - k, a22*u - d_eff*(a12*a21 + a22**2)]"
       ]
      }
     ],
     "prompt_number": 842
    },
    {
     "cell_type": "code",
     "collapsed": false,
     "input": [
      "replaced=LHS[0,0].subs({a11:sol_add[0][1],a21:sol_add[0][0]})"
     ],
     "language": "python",
     "metadata": {},
     "outputs": [],
     "prompt_number": 867
    },
    {
     "cell_type": "code",
     "collapsed": false,
     "input": [
      "solution_a22=sy.solve(replaced,a22)"
     ],
     "language": "python",
     "metadata": {},
     "outputs": [],
     "prompt_number": 868
    },
    {
     "cell_type": "code",
     "collapsed": false,
     "input": [
      "replaced_2=LHS[0,1].subs({a11:sol_add[0][1],a21:sol_add[0][0],a22:solution_a22[0]})"
     ],
     "language": "python",
     "metadata": {},
     "outputs": [],
     "prompt_number": 871
    },
    {
     "cell_type": "code",
     "collapsed": false,
     "input": [
      "sol_a11 = sol_add[0][1]\n",
      "sol_a12 = a12_solution[0]\n",
      "sol_a21 = sol_add[0][0]\n",
      "sol_a22 = solution_a22[0]"
     ],
     "language": "python",
     "metadata": {},
     "outputs": []
    },
    {
     "cell_type": "code",
     "collapsed": false,
     "input": [
      "[[a12_solution[0],solution_a22[0]],[sol_add[0][1].simplify(),sol_add[0][0]]]b"
     ],
     "language": "python",
     "metadata": {},
     "outputs": [
      {
       "metadata": {},
       "output_type": "pyout",
       "prompt_number": 890,
       "text": [
        "[[-d*u/(d*d_eff - d_eff**2), -u/(d - d_eff)],\n",
        " [(-d**2*k + 2*d*d_eff*k + d*u**2 - d_eff**2*k)/(d_eff*u*(d - d_eff)),\n",
        "  u/(d - d_eff)]]"
       ]
      }
     ],
     "prompt_number": 890
    },
    {
     "cell_type": "code",
     "collapsed": false,
     "input": [
      "a12_solution=sy.solve(replaced_2.simplify(),a12)"
     ],
     "language": "python",
     "metadata": {},
     "outputs": [],
     "prompt_number": 875
    },
    {
     "cell_type": "code",
     "collapsed": false,
     "input": [
      "replaced_3=LHS[0,1].subs({a11:sol_add[0][1],a21:sol_add[0][0],a12:a12_solution[0],a22:solution_a22[0]})"
     ],
     "language": "python",
     "metadata": {},
     "outputs": [],
     "prompt_number": 883
    },
    {
     "cell_type": "code",
     "collapsed": false,
     "input": [
      "replaced_3.simplify()"
     ],
     "language": "python",
     "metadata": {},
     "outputs": [
      {
       "metadata": {},
       "output_type": "pyout",
       "prompt_number": 884,
       "text": [
        "0"
       ]
      }
     ],
     "prompt_number": 884
    },
    {
     "cell_type": "code",
     "collapsed": false,
     "input": [
      "sol_a11 = sol_add[0][1]\n",
      "sol_a12 = a12_solution[0]\n",
      "sol_a21 = sol_add[0][0]\n",
      "sol_a22 = solution_a22[0]"
     ],
     "language": "python",
     "metadata": {},
     "outputs": [],
     "prompt_number": 892
    },
    {
     "cell_type": "code",
     "collapsed": false,
     "input": [
      "solution_matrix = sy.Matrix([[sol_a11,sol_a12],[sol_a21,sol_a22]])"
     ],
     "language": "python",
     "metadata": {},
     "outputs": [],
     "prompt_number": 893
    },
    {
     "cell_type": "code",
     "collapsed": false,
     "input": [
      "sy.init_printing()\n",
      "general_solution=solution_matrix.exp()*sy.Matrix([[Y_m],[Y_b]])\n",
      "general_solution=general_solution[0]\n",
      "#subs({U:1,d_eff:1,d:1})\n",
      "#general_solution.simplify()\n",
      "general_solution"
     ],
     "language": "python",
     "metadata": {},
     "outputs": [
      {
       "output_type": "stream",
       "stream": "stdout",
       "text": [
        "                                                                              \n",
        "                                                                              \n",
        "                                                                              \n",
        "                                                                              \n",
        "                                                                              \n",
        "                                                                              \n",
        "                                                                              \n",
        "    \u239b                                                                         \n",
        "    \u239c                                                                         \n",
        "    \u239c                                                                         \n",
        "    \u239c                                                                         \n",
        "    \u239c                                                                         \n",
        "    \u239c                                                                         \n",
        "Y_b\u22c5\u239c\u2500\u2500\u2500\u2500\u2500\u2500\u2500\u2500\u2500\u2500\u2500\u2500\u2500\u2500\u2500\u2500\u2500\u2500\u2500\u2500\u2500\u2500\u2500\u2500\u2500\u2500\u2500\u2500\u2500\u2500\u2500\u2500\u2500\u2500\u2500\u2500\u2500\u2500\u2500\u2500\u2500\u2500\u2500\u2500\u2500\u2500\u2500\u2500\u2500\u2500\u2500\u2500\u2500\u2500\u2500\u2500\u2500\u2500\u2500\u2500\u2500\u2500\u2500\u2500\u2500\u2500\u2500\u2500\u2500\u2500\u2500\u2500\u2500\n",
        "    \u239c                   \u239b                                     \u23bd\u23bd\u23bd\u23bd\u23bd\u23bd\u23bd\u23bd\u23bd\u23bd\u23bd\u23bd\u23bd\u23bd\u23bd\u23bd\n",
        "    \u239c                   \u239c     2                      2       \u2571  2  2          \n",
        "    \u239c\u239b               2\u239e \u239c  - d \u22c5k + 2\u22c5d\u22c5d_eff\u22c5k + d\u22c5u  - d\u22c5\u2572\u2571  d \u22c5k  - 2\u22c5d\u22c5d_e\n",
        "    \u239c\u239dd\u22c5d_eff - d_eff \u23a0\u22c5\u239c- \u2500\u2500\u2500\u2500\u2500\u2500\u2500\u2500\u2500\u2500\u2500\u2500\u2500\u2500\u2500\u2500\u2500\u2500\u2500\u2500\u2500\u2500\u2500\u2500\u2500\u2500\u2500\u2500\u2500\u2500\u2500\u2500\u2500\u2500\u2500\u2500\u2500\u2500\u2500\u2500\u2500\u2500\u2500\u2500\u2500\u2500\u2500\u2500\u2500\u2500\u2500\n",
        "    \u239c                   \u239c                                     \u23bd\u23bd\u23bd\u23bd\u23bd\u23bd\u23bd\u23bd\u23bd\u23bd\u23bd\u23bd\u23bd\u23bd\u23bd\u23bd\n",
        "    \u239c                   \u239c     2                      2       \u2571  2  2          \n",
        "    \u239d                   \u239d  - d \u22c5k + 2\u22c5d\u22c5d_eff\u22c5k + d\u22c5u  + d\u22c5\u2572\u2571  d \u22c5k  - 2\u22c5d\u22c5d_e\n",
        "\n",
        "                                                                              \n",
        "                                                                              \n",
        "                                                                              \n",
        "                                                                              \n",
        "                                                                              \n",
        "                                                                              \n",
        "                                                                              \n",
        "                                                                              \n",
        "                                                                              \n",
        "                                                                              \n",
        "                                                                              \n",
        "                                                                              \n",
        "                                                                              \n",
        "\u2500\u2500\u2500\u2500\u2500\u2500\u2500\u2500\u2500\u2500\u2500\u2500\u2500\u2500\u2500\u2500\u2500\u2500\u2500\u2500\u2500\u2500\u2500\u2500\u2500\u2500\u2500\u2500\u2500\u2500\u2500\u2500\u2500\u2500\u2500\u2500\u2500\u2500\u2500\u2500\u2500\u2500\u2500\u2500\u2500\u2500\u2500\u2500\u2500\u2500\u2500\u2500\u2500\u2500\u2500\u2500\u2500\u2500\u2500\u2500\u2500\u2500\u2500\u2500\u2500\u2500\u2500\u2500\u2500\u2500\u2500\u2500\u2500\u2500\u2500\u2500\u2500\u2500\n",
        "\u23bd\u23bd\u23bd\u23bd\u23bd\u23bd\u23bd\u23bd\u23bd\u23bd\u23bd\u23bd\u23bd\u23bd\u23bd\u23bd\u23bd\u23bd\u23bd\u23bd\u23bd\u23bd\u23bd\u23bd\u23bd\u23bd\u23bd\u23bd\u23bd\u23bd\u23bd\u23bd\u23bd\u23bd\u23bd\u23bd\u23bd\u23bd\u23bd\u23bd\u23bd\u23bd\u23bd\u23bd\u23bd\u23bd\u23bd\u23bd\u23bd                             \n",
        "    2          2        2  2              2    4         2            2       \n",
        "ff\u22c5k  - 2\u22c5d\u22c5k\u22c5u  + d_eff \u22c5k  - 2\u22c5d_eff\u22c5k\u22c5u  + u   - d_eff \u22c5k + d_eff\u22c5u  + d_ef\n",
        "\u2500\u2500\u2500\u2500\u2500\u2500\u2500\u2500\u2500\u2500\u2500\u2500\u2500\u2500\u2500\u2500\u2500\u2500\u2500\u2500\u2500\u2500\u2500\u2500\u2500\u2500\u2500\u2500\u2500\u2500\u2500\u2500\u2500\u2500\u2500\u2500\u2500\u2500\u2500\u2500\u2500\u2500\u2500\u2500\u2500\u2500\u2500\u2500\u2500\u2500\u2500\u2500\u2500\u2500\u2500\u2500\u2500\u2500\u2500\u2500\u2500\u2500\u2500\u2500\u2500\u2500\u2500\u2500\u2500\u2500\u2500\u2500\u2500\u2500\u2500\u2500\u2500\u2500\n",
        "\u23bd\u23bd\u23bd\u23bd\u23bd\u23bd\u23bd\u23bd\u23bd\u23bd\u23bd\u23bd\u23bd\u23bd\u23bd\u23bd\u23bd\u23bd\u23bd\u23bd\u23bd\u23bd\u23bd\u23bd\u23bd\u23bd\u23bd\u23bd\u23bd\u23bd\u23bd\u23bd\u23bd\u23bd\u23bd\u23bd\u23bd\u23bd\u23bd\u23bd\u23bd\u23bd\u23bd\u23bd\u23bd\u23bd\u23bd\u23bd\u23bd                             \n",
        "    2          2        2  2              2    4         2            2       \n",
        "ff\u22c5k  - 2\u22c5d\u22c5k\u22c5u  + d_eff \u22c5k  - 2\u22c5d_eff\u22c5k\u22c5u  + u   - d_eff \u22c5k + d_eff\u22c5u  - d_ef\n",
        "\n",
        "                                                                              \n",
        "                                                                              \n",
        "                                                                              \n",
        "                                                                              \n",
        "                                                                              \n",
        "                                                                              \n",
        "                                                                              \n",
        "                                                        \u23bd\u23bd\u23bd\u23bd\u23bd\u23bd\u23bd\u23bd\u23bd\u23bd\u23bd\u23bd\u23bd\u23bd\u23bd\u23bd\u23bd\u23bd\u23bd\u23bd\u23bd\u23bd\n",
        "                                                 2     \u2571  2  2              2 \n",
        "                               -d\u22c5k + d_eff\u22c5k + u    \u2572\u2571  d \u22c5k  - 2\u22c5d\u22c5d_eff\u22c5k  \n",
        "                               \u2500\u2500\u2500\u2500\u2500\u2500\u2500\u2500\u2500\u2500\u2500\u2500\u2500\u2500\u2500\u2500\u2500\u2500\u2500 - \u2500\u2500\u2500\u2500\u2500\u2500\u2500\u2500\u2500\u2500\u2500\u2500\u2500\u2500\u2500\u2500\u2500\u2500\u2500\u2500\u2500\u2500\u2500\u2500\u2500\n",
        "                2                   2\u22c5d_eff\u22c5u                                 \n",
        "     2\u22c5d\u22c5d_eff\u22c5u \u22c5(d - d_eff)\u22c5\u212f                                               \n",
        "\u2500\u2500\u2500\u2500\u2500\u2500\u2500\u2500\u2500\u2500\u2500\u2500\u2500\u2500\u2500\u2500\u2500\u2500\u2500\u2500\u2500\u2500\u2500\u2500\u2500\u2500\u2500\u2500\u2500\u2500\u2500\u2500\u2500\u2500\u2500\u2500\u2500\u2500\u2500\u2500\u2500\u2500\u2500\u2500\u2500\u2500\u2500\u2500\u2500\u2500\u2500\u2500\u2500\u2500\u2500\u2500\u2500\u2500\u2500\u2500\u2500\u2500\u2500\u2500\u2500\u2500\u2500\u2500\u2500\u2500\u2500\u2500\u2500\u2500\u2500\u2500\u2500\u2500\n",
        "     \u23bd\u23bd\u23bd\u23bd\u23bd\u23bd\u23bd\u23bd\u23bd\u23bd\u23bd\u23bd\u23bd\u23bd\u23bd\u23bd\u23bd\u23bd\u23bd\u23bd\u23bd\u23bd\u23bd\u23bd\u23bd\u23bd\u23bd\u23bd\u23bd\u23bd\u23bd\u23bd\u23bd\u23bd\u23bd\u23bd\u23bd\u23bd\u23bd\u23bd\u23bd\u23bd\u23bd\u23bd\u23bd\u23bd\u23bd\u23bd\u23bd\u23bd\u23bd\u23bd\u23bd\u23bd\u23bd\u23bd\u23bd\u23bd\u23bd\u23bd\u23bd\u23bd\u23bd\u23bd\u23bd    \u239e   \n",
        "    \u2571  2  2              2          2        2  2              2    4     \u239f \u239b \n",
        "f\u22c5\u2572\u2571  d \u22c5k  - 2\u22c5d\u22c5d_eff\u22c5k  - 2\u22c5d\u22c5k\u22c5u  + d_eff \u22c5k  - 2\u22c5d_eff\u22c5k\u22c5u  + u      \u239f \u239c \n",
        "\u2500\u2500\u2500\u2500\u2500\u2500\u2500\u2500\u2500\u2500\u2500\u2500\u2500\u2500\u2500\u2500\u2500\u2500\u2500\u2500\u2500\u2500\u2500\u2500\u2500\u2500\u2500\u2500\u2500\u2500\u2500\u2500\u2500\u2500\u2500\u2500\u2500\u2500\u2500\u2500\u2500\u2500\u2500\u2500\u2500\u2500\u2500\u2500\u2500\u2500\u2500\u2500\u2500\u2500\u2500\u2500\u2500\u2500\u2500\u2500\u2500\u2500\u2500\u2500\u2500\u2500\u2500\u2500\u2500\u2500 + 1\u239f\u22c5\u239d-\n",
        "     \u23bd\u23bd\u23bd\u23bd\u23bd\u23bd\u23bd\u23bd\u23bd\u23bd\u23bd\u23bd\u23bd\u23bd\u23bd\u23bd\u23bd\u23bd\u23bd\u23bd\u23bd\u23bd\u23bd\u23bd\u23bd\u23bd\u23bd\u23bd\u23bd\u23bd\u23bd\u23bd\u23bd\u23bd\u23bd\u23bd\u23bd\u23bd\u23bd\u23bd\u23bd\u23bd\u23bd\u23bd\u23bd\u23bd\u23bd\u23bd\u23bd\u23bd\u23bd\u23bd\u23bd\u23bd\u23bd\u23bd\u23bd\u23bd\u23bd\u23bd\u23bd\u23bd\u23bd\u23bd\u23bd    \u239f   \n",
        "    \u2571  2  2              2          2        2  2              2    4     \u239f   \n",
        "f\u22c5\u2572\u2571  d \u22c5k  - 2\u22c5d\u22c5d_eff\u22c5k  - 2\u22c5d\u22c5k\u22c5u  + d_eff \u22c5k  - 2\u22c5d_eff\u22c5k\u22c5u  + u      \u23a0   \n",
        "\n",
        "                                                                              \n",
        "                                                                              \n",
        "                                                                              \n",
        "                                                                              \n",
        "                                                                              \n",
        "                                                                              \n",
        "                                                                              \n",
        "\u23bd\u23bd\u23bd\u23bd\u23bd\u23bd\u23bd\u23bd\u23bd\u23bd\u23bd\u23bd\u23bd\u23bd\u23bd\u23bd\u23bd\u23bd\u23bd\u23bd\u23bd\u23bd\u23bd\u23bd\u23bd\u23bd\u23bd\u23bd\u23bd\u23bd\u23bd\u23bd\u23bd\u23bd\u23bd\u23bd\u23bd\u23bd\u23bd\u23bd\u23bd\u23bd\u23bd                                   \n",
        "         2        2  2              2    4                                    \n",
        "- 2\u22c5d\u22c5k\u22c5u  + d_eff \u22c5k  - 2\u22c5d_eff\u22c5k\u22c5u  + u                                     \n",
        "\u2500\u2500\u2500\u2500\u2500\u2500\u2500\u2500\u2500\u2500\u2500\u2500\u2500\u2500\u2500\u2500\u2500\u2500\u2500\u2500\u2500\u2500\u2500\u2500\u2500\u2500\u2500\u2500\u2500\u2500\u2500\u2500\u2500\u2500\u2500\u2500\u2500\u2500\u2500\u2500\u2500\u2500\u2500                                   \n",
        "    2\u22c5d_eff\u22c5u                                                                 \n",
        "                                                                              \n",
        "\u2500\u2500\u2500\u2500\u2500\u2500\u2500\u2500\u2500\u2500\u2500\u2500\u2500\u2500\u2500\u2500\u2500\u2500\u2500\u2500\u2500\u2500\u2500\u2500\u2500\u2500\u2500\u2500\u2500\u2500\u2500\u2500\u2500\u2500\u2500\u2500\u2500\u2500\u2500\u2500\u2500\u2500\u2500\u2500\u2500\u2500\u2500\u2500\u2500\u2500\u2500\u2500\u2500\u2500\u2500\u2500\u2500\u2500\u2500\u2500\u2500\u2500\u2500\u2500\u2500\u2500\u2500\u2500\u2500\u2500\u2500\u2500\u2500\u2500\u2500\u2500\u2500\u2500\n",
        "                                                                              \n",
        "                                  \u23bd\u23bd\u23bd\u23bd\u23bd\u23bd\u23bd\u23bd\u23bd\u23bd\u23bd\u23bd\u23bd\u23bd\u23bd\u23bd\u23bd\u23bd\u23bd\u23bd\u23bd\u23bd\u23bd\u23bd\u23bd\u23bd\u23bd\u23bd\u23bd\u23bd\u23bd\u23bd\u23bd\u23bd\u23bd\u23bd\u23bd\u23bd\u23bd\u23bd\u23bd\u23bd\u23bd\u23bd\n",
        "  2                      2       \u2571  2  2              2          2        2  2\n",
        " d \u22c5k + 2\u22c5d\u22c5d_eff\u22c5k + d\u22c5u  + d\u22c5\u2572\u2571  d \u22c5k  - 2\u22c5d\u22c5d_eff\u22c5k  - 2\u22c5d\u22c5k\u22c5u  + d_eff \u22c5k \n",
        "                                                                              \n",
        "                                                                              \n",
        "                                                                              \n",
        "\n",
        "                                                                              \n",
        "                                                                              \n",
        "                                                                              \n",
        "                                                                              \n",
        "                                                                              \n",
        "                                                                              \n",
        "                                                                              \n",
        "                                                                              \n",
        "                                                                              \n",
        "                                                                              \n",
        "                                                                              \n",
        "                                                                              \n",
        "                                                                              \n",
        "\u2500\u2500\u2500\u2500\u2500\u2500\u2500\u2500\u2500\u2500\u2500\u2500\u2500\u2500\u2500\u2500\u2500\u2500\u2500\u2500\u2500\u2500\u2500\u2500\u2500\u2500\u2500\u2500\u2500\u2500\u2500\u2500\u2500\u2500\u2500\u2500\u2500\u2500\u2500\u2500\u2500\u2500\u2500\u2500\u2500\u2500\u2500\u2500\u2500\u2500\u2500\u2500\u2500\u2500\u2500\u2500\u2500\u2500\u2500\u2500\u2500\u2500\u2500\u2500\u2500\u2500\u2500\u2500\u2500\u2500\u2500\u2500\u2500\u2500\u2500\u2500\u2500\u2500\n",
        "                                                                              \n",
        "\u23bd\u23bd\u23bd\u23bd\u23bd\u23bd\u23bd\u23bd\u23bd\u23bd\u23bd\u23bd\u23bd\u23bd\u23bd\u23bd\u23bd\u23bd\u23bd\u23bd\u23bd                                  \u23bd\u23bd\u23bd\u23bd\u23bd\u23bd\u23bd\u23bd\u23bd\u23bd\u23bd\u23bd\u23bd\u23bd\u23bd\u23bd\u23bd\u23bd\u23bd\u23bd\u23bd\u23bd\u23bd\n",
        "              2    4         2            2           \u2571  2  2              2  \n",
        " - 2\u22c5d_eff\u22c5k\u22c5u  + u   - d_eff \u22c5k + d_eff\u22c5u  - d_eff\u22c5\u2572\u2571  d \u22c5k  - 2\u22c5d\u22c5d_eff\u22c5k  -\n",
        "                                                                              \n",
        "                                                                              \n",
        "                                                                              \n",
        "\n",
        "                                                                              \n",
        "                                                                              \n",
        "                                                                              \n",
        "                                                                              \n",
        "                                                                              \n",
        "                                                                              \n",
        "                                                                              \n",
        "                                                                              \n",
        "                                                                              \n",
        "                                                                              \n",
        "                                                                              \n",
        "                                                                              \n",
        "                                                                              \n",
        "\u2500\u2500\u2500\u2500\u2500\u2500\u2500\u2500\u2500\u2500\u2500\u2500\u2500\u2500\u2500\u2500\u2500\u2500\u2500\u2500\u2500\u2500\u2500\u2500\u2500\u2500\u2500\u2500\u2500\u2500\u2500\u2500\u2500\u2500\u2500\u2500\u2500\u2500\u2500\u2500\u2500\u2500\u2500 - \u2500\u2500\u2500\u2500\u2500\u2500\u2500\u2500\u2500\u2500\u2500\u2500\u2500\u2500\u2500\u2500\u2500\u2500\u2500\u2500\u2500\u2500\u2500\u2500\u2500\u2500\u2500\u2500\u2500\u2500\u2500\u2500\n",
        "                                                                 \u239b            \n",
        "\u23bd\u23bd\u23bd\u23bd\u23bd\u23bd\u23bd\u23bd\u23bd\u23bd\u23bd\u23bd\u23bd\u23bd\u23bd\u23bd\u23bd\u23bd\u23bd\u23bd\u23bd\u23bd\u23bd\u23bd\u23bd\u23bd\u23bd\u23bd\u23bd\u23bd\u23bd\u23bd\u23bd\u23bd\u23bd\u23bd\u23bd\u23bd\u23bd\u23bd\u23bd\u23bd\u239e                      \u239c     2      \n",
        "        2        2  2              2    4 \u239f   \u239b               2\u239e \u239c  - d \u22c5k + 2\n",
        " 2\u22c5d\u22c5k\u22c5u  + d_eff \u22c5k  - 2\u22c5d_eff\u22c5k\u22c5u  + u  \u23a0   \u239dd\u22c5d_eff - d_eff \u23a0\u22c5\u239c- \u2500\u2500\u2500\u2500\u2500\u2500\u2500\u2500\u2500\u2500\n",
        "                                                                 \u239c            \n",
        "                                                                 \u239c     2      \n",
        "                                                                 \u239d  - d \u22c5k + 2\n",
        "\n",
        "                                                                              \n",
        "                                                                              \n",
        "                                                                              \n",
        "                                                                              \n",
        "                                                                              \n",
        "                                                                              \n",
        "                                                                              \n",
        "                                                                              \n",
        "                                                                              \n",
        "                                                                              \n",
        "                                                                              \n",
        "                                                                              \n",
        "                                                                              \n",
        "\u2500\u2500\u2500\u2500\u2500\u2500\u2500\u2500\u2500\u2500\u2500\u2500\u2500\u2500\u2500\u2500\u2500\u2500\u2500\u2500\u2500\u2500\u2500\u2500\u2500\u2500\u2500\u2500\u2500\u2500\u2500\u2500\u2500\u2500\u2500\u2500\u2500\u2500\u2500\u2500\u2500\u2500\u2500\u2500\u2500\u2500\u2500\u2500\u2500\u2500\u2500\u2500\u2500\u2500\u2500\u2500\u2500\u2500\u2500\u2500\u2500\u2500\u2500\u2500\u2500\u2500\u2500\u2500\u2500\u2500\u2500\u2500\u2500\u2500\u2500\u2500\u2500\u2500\n",
        "                         \u23bd\u23bd\u23bd\u23bd\u23bd\u23bd\u23bd\u23bd\u23bd\u23bd\u23bd\u23bd\u23bd\u23bd\u23bd\u23bd\u23bd\u23bd\u23bd\u23bd\u23bd\u23bd\u23bd\u23bd\u23bd\u23bd\u23bd\u23bd\u23bd\u23bd\u23bd\u23bd\u23bd\u23bd\u23bd\u23bd\u23bd\u23bd\u23bd\u23bd\u23bd\u23bd\u23bd\u23bd\u23bd\u23bd\u23bd\u23bd\u23bd\u23bd\u23bd\u23bd\u23bd\n",
        "                2       \u2571  2  2              2          2        2  2         \n",
        "\u22c5d\u22c5d_eff\u22c5k + d\u22c5u  - d\u22c5\u2572\u2571  d \u22c5k  - 2\u22c5d\u22c5d_eff\u22c5k  - 2\u22c5d\u22c5k\u22c5u  + d_eff \u22c5k  - 2\u22c5d_ef\n",
        "\u2500\u2500\u2500\u2500\u2500\u2500\u2500\u2500\u2500\u2500\u2500\u2500\u2500\u2500\u2500\u2500\u2500\u2500\u2500\u2500\u2500\u2500\u2500\u2500\u2500\u2500\u2500\u2500\u2500\u2500\u2500\u2500\u2500\u2500\u2500\u2500\u2500\u2500\u2500\u2500\u2500\u2500\u2500\u2500\u2500\u2500\u2500\u2500\u2500\u2500\u2500\u2500\u2500\u2500\u2500\u2500\u2500\u2500\u2500\u2500\u2500\u2500\u2500\u2500\u2500\u2500\u2500\u2500\u2500\u2500\u2500\u2500\u2500\u2500\u2500\u2500\u2500\u2500\n",
        "                         \u23bd\u23bd\u23bd\u23bd\u23bd\u23bd\u23bd\u23bd\u23bd\u23bd\u23bd\u23bd\u23bd\u23bd\u23bd\u23bd\u23bd\u23bd\u23bd\u23bd\u23bd\u23bd\u23bd\u23bd\u23bd\u23bd\u23bd\u23bd\u23bd\u23bd\u23bd\u23bd\u23bd\u23bd\u23bd\u23bd\u23bd\u23bd\u23bd\u23bd\u23bd\u23bd\u23bd\u23bd\u23bd\u23bd\u23bd\u23bd\u23bd\u23bd\u23bd\u23bd\u23bd\n",
        "                2       \u2571  2  2              2          2        2  2         \n",
        "\u22c5d\u22c5d_eff\u22c5k + d\u22c5u  + d\u22c5\u2572\u2571  d \u22c5k  - 2\u22c5d\u22c5d_eff\u22c5k  - 2\u22c5d\u22c5k\u22c5u  + d_eff \u22c5k  - 2\u22c5d_ef\n",
        "\n",
        "                                                                              \n",
        "                                                                              \n",
        "                                                                              \n",
        "                                                                              \n",
        "                                                                              \n",
        "                                                                              \n",
        "                                                                              \n",
        "                                                                              \n",
        "                                                                              \n",
        "                                                                        -d\u22c5k +\n",
        "                                                                        \u2500\u2500\u2500\u2500\u2500\u2500\n",
        "                                                         2                   2\n",
        "                                              2\u22c5d\u22c5d_eff\u22c5u \u22c5(d - d_eff)\u22c5\u212f      \n",
        "\u2500\u2500\u2500\u2500\u2500\u2500\u2500\u2500\u2500\u2500\u2500\u2500\u2500\u2500\u2500\u2500\u2500\u2500\u2500\u2500\u2500\u2500\u2500\u2500\u2500\u2500\u2500\u2500\u2500\u2500\u2500\u2500\u2500\u2500\u2500\u2500\u2500\u2500\u2500\u2500\u2500\u2500\u2500\u2500\u2500\u2500\u2500\u2500\u2500\u2500\u2500\u2500\u2500\u2500\u2500\u2500\u2500\u2500\u2500\u2500\u2500\u2500\u2500\u2500\u2500\u2500\u2500\u2500\u2500\u2500\u2500\u2500\u2500\u2500\u2500\u2500\u2500\u2500\n",
        "\u23bd\u23bd\u23bd\u23bd\u23bd\u23bd\u23bd\u23bd\u23bd\u23bd\u23bd\u23bd                                  \u23bd\u23bd\u23bd\u23bd\u23bd\u23bd\u23bd\u23bd\u23bd\u23bd\u23bd\u23bd\u23bd\u23bd\u23bd\u23bd\u23bd\u23bd\u23bd\u23bd\u23bd\u23bd\u23bd\u23bd\u23bd\u23bd\u23bd\u23bd\u23bd\u23bd\u23bd\u23bd\n",
        "     2    4         2            2           \u2571  2  2              2          2\n",
        "f\u22c5k\u22c5u  + u   - d_eff \u22c5k + d_eff\u22c5u  + d_eff\u22c5\u2572\u2571  d \u22c5k  - 2\u22c5d\u22c5d_eff\u22c5k  - 2\u22c5d\u22c5k\u22c5u \n",
        "\u2500\u2500\u2500\u2500\u2500\u2500\u2500\u2500\u2500\u2500\u2500\u2500\u2500\u2500\u2500\u2500\u2500\u2500\u2500\u2500\u2500\u2500\u2500\u2500\u2500\u2500\u2500\u2500\u2500\u2500\u2500\u2500\u2500\u2500\u2500\u2500\u2500\u2500\u2500\u2500\u2500\u2500\u2500\u2500\u2500\u2500\u2500\u2500\u2500\u2500\u2500\u2500\u2500\u2500\u2500\u2500\u2500\u2500\u2500\u2500\u2500\u2500\u2500\u2500\u2500\u2500\u2500\u2500\u2500\u2500\u2500\u2500\u2500\u2500\u2500\u2500\u2500\u2500\n",
        "\u23bd\u23bd\u23bd\u23bd\u23bd\u23bd\u23bd\u23bd\u23bd\u23bd\u23bd\u23bd                                  \u23bd\u23bd\u23bd\u23bd\u23bd\u23bd\u23bd\u23bd\u23bd\u23bd\u23bd\u23bd\u23bd\u23bd\u23bd\u23bd\u23bd\u23bd\u23bd\u23bd\u23bd\u23bd\u23bd\u23bd\u23bd\u23bd\u23bd\u23bd\u23bd\u23bd\u23bd\u23bd\n",
        "     2    4         2            2           \u2571  2  2              2          2\n",
        "f\u22c5k\u22c5u  + u   - d_eff \u22c5k + d_eff\u22c5u  - d_eff\u22c5\u2572\u2571  d \u22c5k  - 2\u22c5d\u22c5d_eff\u22c5k  - 2\u22c5d\u22c5k\u22c5u \n",
        "\n",
        "                                                                              \n",
        "                                                                              \n",
        "                                                                              \n",
        "                                                                              \n",
        "                                                                              \n",
        "                                                                              \n",
        "                                                                              \n",
        "                   \u23bd\u23bd\u23bd\u23bd\u23bd\u23bd\u23bd\u23bd\u23bd\u23bd\u23bd\u23bd\u23bd\u23bd\u23bd\u23bd\u23bd\u23bd\u23bd\u23bd\u23bd\u23bd\u23bd\u23bd\u23bd\u23bd\u23bd\u23bd\u23bd\u23bd\u23bd\u23bd\u23bd\u23bd\u23bd\u23bd\u23bd\u23bd\u23bd\u23bd\u23bd\u23bd\u23bd\u23bd\u23bd\u23bd\u23bd\u23bd\u23bd\u23bd\u23bd\u23bd\u23bd\u23bd\u23bd\u23bd\u23bd\u23bd\u23bd\n",
        "            2     \u2571  2  2              2          2        2  2              2\n",
        " d_eff\u22c5k + u    \u2572\u2571  d \u22c5k  - 2\u22c5d\u22c5d_eff\u22c5k  - 2\u22c5d\u22c5k\u22c5u  + d_eff \u22c5k  - 2\u22c5d_eff\u22c5k\u22c5u \n",
        "\u2500\u2500\u2500\u2500\u2500\u2500\u2500\u2500\u2500\u2500\u2500\u2500\u2500 + \u2500\u2500\u2500\u2500\u2500\u2500\u2500\u2500\u2500\u2500\u2500\u2500\u2500\u2500\u2500\u2500\u2500\u2500\u2500\u2500\u2500\u2500\u2500\u2500\u2500\u2500\u2500\u2500\u2500\u2500\u2500\u2500\u2500\u2500\u2500\u2500\u2500\u2500\u2500\u2500\u2500\u2500\u2500\u2500\u2500\u2500\u2500\u2500\u2500\u2500\u2500\u2500\u2500\u2500\u2500\u2500\u2500\u2500\u2500\u2500\u2500\u2500\n",
        "\u22c5d_eff\u22c5u                                     2\u22c5d_eff\u22c5u                        \n",
        "                                                                              \n",
        "\u2500\u2500\u2500\u2500\u2500\u2500\u2500\u2500\u2500\u2500\u2500\u2500\u2500\u2500\u2500\u2500\u2500\u2500\u2500\u2500\u2500\u2500\u2500\u2500\u2500\u2500\u2500\u2500\u2500\u2500\u2500\u2500\u2500\u2500\u2500\u2500\u2500\u2500\u2500\u2500\u2500\u2500\u2500\u2500\u2500\u2500\u2500\u2500\u2500\u2500\u2500\u2500\u2500\u2500\u2500\u2500\u2500\u2500\u2500\u2500\u2500\u2500\u2500\u2500\u2500\u2500\u2500\u2500\u2500\u2500\u2500\u2500\u2500\u2500\u2500\u2500\u2500\u2500\n",
        "\u23bd\u23bd\u23bd\u23bd\u23bd\u23bd\u23bd\u23bd\u23bd\u23bd\u23bd\u23bd\u23bd\u23bd\u23bd\u23bd\u23bd\u23bd\u23bd\u23bd\u23bd\u23bd\u23bd\u23bd\u23bd\u23bd\u23bd\u23bd\u23bd\u23bd\u23bd\u23bd\u23bd    \u239e                                        \n",
        "        2  2              2    4     \u239f \u239b                                   \u23bd\u23bd\u23bd\n",
        " + d_eff \u22c5k  - 2\u22c5d_eff\u22c5k\u22c5u  + u      \u239f \u239c   2                      2       \u2571  2\n",
        "\u2500\u2500\u2500\u2500\u2500\u2500\u2500\u2500\u2500\u2500\u2500\u2500\u2500\u2500\u2500\u2500\u2500\u2500\u2500\u2500\u2500\u2500\u2500\u2500\u2500\u2500\u2500\u2500\u2500\u2500\u2500\u2500\u2500 + 1\u239f\u22c5\u239d- d \u22c5k + 2\u22c5d\u22c5d_eff\u22c5k + d\u22c5u  + d\u22c5\u2572\u2571  d \n",
        "\u23bd\u23bd\u23bd\u23bd\u23bd\u23bd\u23bd\u23bd\u23bd\u23bd\u23bd\u23bd\u23bd\u23bd\u23bd\u23bd\u23bd\u23bd\u23bd\u23bd\u23bd\u23bd\u23bd\u23bd\u23bd\u23bd\u23bd\u23bd\u23bd\u23bd\u23bd\u23bd\u23bd    \u239f                                        \n",
        "        2  2              2    4     \u239f                                        \n",
        " + d_eff \u22c5k  - 2\u22c5d_eff\u22c5k\u22c5u  + u      \u23a0                                        \n",
        "\n",
        "                                                                              \n",
        "                                                                              \n",
        "                                                                              \n",
        "                                                                              \n",
        "                                                                              \n",
        "                                                                              \n",
        "                                                                              \n",
        "\u23bd\u23bd\u23bd\u23bd\u23bd\u23bd                                                                        \n",
        "    4                                                                         \n",
        " + u                                                                          \n",
        "\u2500\u2500\u2500\u2500\u2500\u2500                                                                        \n",
        "                                                                              \n",
        "                                                                              \n",
        "\u2500\u2500\u2500\u2500\u2500\u2500\u2500\u2500\u2500\u2500\u2500\u2500\u2500\u2500\u2500\u2500\u2500\u2500\u2500\u2500\u2500\u2500\u2500\u2500\u2500\u2500\u2500\u2500\u2500\u2500\u2500\u2500\u2500\u2500\u2500\u2500\u2500\u2500\u2500\u2500\u2500\u2500\u2500\u2500\u2500\u2500\u2500\u2500\u2500\u2500\u2500\u2500\u2500\u2500\u2500\u2500\u2500\u2500\u2500\u2500\u2500\u2500\u2500\u2500\u2500\u2500\u2500\u2500\u2500\u2500\u2500\u2500\u2500\u2500\u2500\u2500\u2500\u2500\n",
        "                                                                              \n",
        "\u23bd\u23bd\u23bd\u23bd\u23bd\u23bd\u23bd\u23bd\u23bd\u23bd\u23bd\u23bd\u23bd\u23bd\u23bd\u23bd\u23bd\u23bd\u23bd\u23bd\u23bd\u23bd\u23bd\u23bd\u23bd\u23bd\u23bd\u23bd\u23bd\u23bd\u23bd\u23bd\u23bd\u23bd\u23bd\u23bd\u23bd\u23bd\u23bd\u23bd\u23bd\u23bd\u23bd\u23bd\u23bd\u23bd\u23bd\u23bd\u23bd\u23bd\u23bd\u23bd\u23bd\u23bd\u23bd\u23bd\u23bd\u23bd\u23bd\u23bd\u23bd\u23bd                \n",
        "  2              2          2        2  2              2    4         2       \n",
        "\u22c5k  - 2\u22c5d\u22c5d_eff\u22c5k  - 2\u22c5d\u22c5k\u22c5u  + d_eff \u22c5k  - 2\u22c5d_eff\u22c5k\u22c5u  + u   - d_eff \u22c5k + d_\n",
        "                                                                              \n",
        "                                                                              \n",
        "                                                                              \n",
        "\n",
        "                                                                              \n",
        "                                                                              \n",
        "                                                                              \n",
        "                                                                              \n",
        "                                                                              \n",
        "                                                                              \n",
        "                                                                              \n",
        "                                                                              \n",
        "                                                                              \n",
        "                                                                              \n",
        "                                                                              \n",
        "                                                                              \n",
        "                                                                              \n",
        "\u2500\u2500\u2500\u2500\u2500\u2500\u2500\u2500\u2500\u2500\u2500\u2500\u2500\u2500\u2500\u2500\u2500\u2500\u2500\u2500\u2500\u2500\u2500\u2500\u2500\u2500\u2500\u2500\u2500\u2500\u2500\u2500\u2500\u2500\u2500\u2500\u2500\u2500\u2500\u2500\u2500\u2500\u2500\u2500\u2500\u2500\u2500\u2500\u2500\u2500\u2500\u2500\u2500\u2500\u2500\u2500\u2500\u2500\u2500\u2500\u2500\u2500\u2500\u2500\u2500\u2500\u2500\u2500\u2500\u2500\u2500\u2500\u2500\u2500\u2500\u2500\u2500\u2500\n",
        "                                                                              \n",
        "                  \u23bd\u23bd\u23bd\u23bd\u23bd\u23bd\u23bd\u23bd\u23bd\u23bd\u23bd\u23bd\u23bd\u23bd\u23bd\u23bd\u23bd\u23bd\u23bd\u23bd\u23bd\u23bd\u23bd\u23bd\u23bd\u23bd\u23bd\u23bd\u23bd\u23bd\u23bd\u23bd\u23bd\u23bd\u23bd\u23bd\u23bd\u23bd\u23bd\u23bd\u23bd\u23bd\u23bd\u23bd\u23bd\u23bd\u23bd\u23bd\u23bd\u23bd\u23bd\u23bd\u23bd\u23bd\u23bd\u23bd\u23bd\u23bd\u23bd\u23bd\n",
        "     2           \u2571  2  2              2          2        2  2              2 \n",
        "eff\u22c5u  - d_eff\u22c5\u2572\u2571  d \u22c5k  - 2\u22c5d\u22c5d_eff\u22c5k  - 2\u22c5d\u22c5k\u22c5u  + d_eff \u22c5k  - 2\u22c5d_eff\u22c5k\u22c5u  \n",
        "                                                                              \n",
        "                                                                              \n",
        "                                                                              \n",
        "\n",
        "              \u239b                                                               \n",
        "              \u239c                         \u239b                                     \n",
        "              \u239c                         \u239c                   \u239b                 \n",
        "              \u239c                         \u239c\u239b               2\u239e \u239c   2             \n",
        "              \u239c           2             \u239c\u239dd\u22c5d_eff - d_eff \u23a0\u22c5\u239d- d \u22c5k + 2\u22c5d\u22c5d_ef\n",
        "              \u239c2\u22c5d\u22c5d_eff\u22c5u \u22c5(d - d_eff)\u22c5\u239c\u2500\u2500\u2500\u2500\u2500\u2500\u2500\u2500\u2500\u2500\u2500\u2500\u2500\u2500\u2500\u2500\u2500\u2500\u2500\u2500\u2500\u2500\u2500\u2500\u2500\u2500\u2500\u2500\u2500\u2500\u2500\u2500\u2500\u2500\u2500\u2500\u2500\n",
        "              \u239c                         \u239c                                     \n",
        "      \u239e       \u239c                         \u239c                                     \n",
        "      \u239f       \u239c                         \u239c                                     \n",
        "      \u239f       \u239c                         \u239c                                     \n",
        "      \u239f       \u239c                         \u239c                                     \n",
        "      \u239f       \u239c                         \u239c                                     \n",
        "      \u239f       \u239c                         \u239d                                     \n",
        "\u2500\u2500\u2500\u2500\u2500\u2500\u239f + Y_m\u22c5\u239c\u2500\u2500\u2500\u2500\u2500\u2500\u2500\u2500\u2500\u2500\u2500\u2500\u2500\u2500\u2500\u2500\u2500\u2500\u2500\u2500\u2500\u2500\u2500\u2500\u2500\u2500\u2500\u2500\u2500\u2500\u2500\u2500\u2500\u2500\u2500\u2500\u2500\u2500\u2500\u2500\u2500\u2500\u2500\u2500\u2500\u2500\u2500\u2500\u2500\u2500\u2500\u2500\u2500\u2500\u2500\u2500\u2500\u2500\u2500\u2500\u2500\u2500\u2500\n",
        "      \u239f       \u239c                                                               \n",
        "\u23bd\u23bd\u23bd\u23bd\u23bd\u239e\u239f       \u239c                                                               \n",
        "   4 \u239f\u239f       \u239c                                                               \n",
        "+ u  \u23a0\u239f       \u239c                                                               \n",
        "      \u239f       \u239c                                                               \n",
        "      \u239f       \u239c                                                               \n",
        "      \u23a0       \u239d                                                               \n",
        "\n",
        "                                                                              \n",
        "                                                                              \n",
        "                  \u23bd\u23bd\u23bd\u23bd\u23bd\u23bd\u23bd\u23bd\u23bd\u23bd\u23bd\u23bd\u23bd\u23bd\u23bd\u23bd\u23bd\u23bd\u23bd\u23bd\u23bd\u23bd\u23bd\u23bd\u23bd\u23bd\u23bd\u23bd\u23bd\u23bd\u23bd\u23bd\u23bd\u23bd\u23bd\u23bd\u23bd\u23bd\u23bd\u23bd\u23bd\u23bd\u23bd\u23bd\u23bd\u23bd\u23bd\u23bd\u23bd\u23bd\u23bd\u23bd\u23bd\u23bd\u23bd\u23bd\u23bd\u23bd\u23bd\u23bd\n",
        "         2       \u2571  2  2              2          2        2  2              2 \n",
        "f\u22c5k + d\u22c5u  - d\u22c5\u2572\u2571  d \u22c5k  - 2\u22c5d\u22c5d_eff\u22c5k  - 2\u22c5d\u22c5k\u22c5u  + d_eff \u22c5k  - 2\u22c5d_eff\u22c5k\u22c5u  \n",
        "\u2500\u2500\u2500\u2500\u2500\u2500\u2500\u2500\u2500\u2500\u2500\u2500\u2500\u2500\u2500\u2500\u2500\u2500\u2500\u2500\u2500\u2500\u2500\u2500\u2500\u2500\u2500\u2500\u2500\u2500\u2500\u2500\u2500\u2500\u2500\u2500\u2500\u2500\u2500\u2500\u2500\u2500\u2500\u2500\u2500\u2500\u2500\u2500\u2500\u2500\u2500\u2500\u2500\u2500\u2500\u2500\u2500\u2500\u2500\u2500\u2500\u2500\u2500\u2500\u2500\u2500\u2500\u2500\u2500\u2500\u2500\u2500\u2500\u2500\u2500\u2500\u2500\u2500\n",
        "                                                                        2     \n",
        "                                                             2\u22c5d\u22c5d_eff\u22c5u \u22c5(d -\n",
        "                                                                              \n",
        "                                                                              \n",
        "                                                                              \n",
        "                                                                              \n",
        "                                                                              \n",
        "\u2500\u2500\u2500\u2500\u2500\u2500\u2500\u2500\u2500\u2500\u2500\u2500\u2500\u2500\u2500\u2500\u2500\u2500\u2500\u2500\u2500\u2500\u2500\u2500\u2500\u2500\u2500\u2500\u2500\u2500\u2500\u2500\u2500\u2500\u2500\u2500\u2500\u2500\u2500\u2500\u2500\u2500\u2500\u2500\u2500\u2500\u2500\u2500\u2500\u2500\u2500\u2500\u2500\u2500\u2500\u2500\u2500\u2500\u2500\u2500\u2500\u2500\u2500\u2500\u2500\u2500\u2500\u2500\u2500\u2500\u2500\u2500\u2500\u2500\u2500\u2500\u2500\u2500\n",
        "                                                                              \n",
        "                                                                              \n",
        "                                                                              \n",
        "                                                                              \n",
        "                                                                              \n",
        "                                                                              \n",
        "                                                                              \n",
        "\n",
        "                                                                              \n",
        "                                                                              \n",
        "\u23bd\u23bd\u23bd\u23bd\u23bd                                  \u23bd\u23bd\u23bd\u23bd\u23bd\u23bd\u23bd\u23bd\u23bd\u23bd\u23bd\u23bd\u23bd\u23bd\u23bd\u23bd\u23bd\u23bd\u23bd\u23bd\u23bd\u23bd\u23bd\u23bd\u23bd\u23bd\u23bd\u23bd\u23bd\u23bd\u23bd\u23bd\u23bd\u23bd\u23bd\u23bd\u23bd\u23bd\u23bd\n",
        "   4         2            2           \u2571  2  2              2          2       \n",
        "+ u   - d_eff \u22c5k + d_eff\u22c5u  + d_eff\u22c5\u2572\u2571  d \u22c5k  - 2\u22c5d\u22c5d_eff\u22c5k  - 2\u22c5d\u22c5k\u22c5u  + d_ef\n",
        "\u2500\u2500\u2500\u2500\u2500\u2500\u2500\u2500\u2500\u2500\u2500\u2500\u2500\u2500\u2500\u2500\u2500\u2500\u2500\u2500\u2500\u2500\u2500\u2500\u2500\u2500\u2500\u2500\u2500\u2500\u2500\u2500\u2500\u2500\u2500\u2500\u2500\u2500\u2500\u2500\u2500\u2500\u2500\u2500\u2500\u2500\u2500\u2500\u2500\u2500\u2500\u2500\u2500\u2500\u2500\u2500\u2500\u2500\u2500\u2500\u2500\u2500\u2500\u2500\u2500\u2500\u2500\u2500\u2500\u2500\u2500\u2500\u2500\u2500\u2500\u2500\u2500\u2500\n",
        "                                                                              \n",
        " d_eff)                                                                       \n",
        "                                                                              \n",
        "                                                                              \n",
        "                                                                              \n",
        "                                                                              \n",
        "                                                                              \n",
        "\u2500\u2500\u2500\u2500\u2500\u2500\u2500\u2500\u2500\u2500\u2500\u2500\u2500\u2500\u2500\u2500\u2500\u2500\u2500\u2500\u2500\u2500\u2500\u2500\u2500\u2500\u2500\u2500\u2500\u2500\u2500\u2500\u2500\u2500\u2500\u2500\u2500\u2500\u2500\u2500\u2500\u2500\u2500\u2500\u2500\u2500\u2500\u2500\u2500\u2500\u2500\u2500\u2500\u2500\u2500\u2500\u2500\u2500\u2500\u2500\u2500\u2500\u2500\u2500\u2500\u2500\u2500\u2500\u2500\u2500\u2500\u2500\u2500\u2500\u2500\u2500\u2500\u2500\n",
        "                                                                              \n",
        "                                                                              \n",
        "                                                                              \n",
        "                                                                              \n",
        "                                                                              \n",
        "                                                                              \n",
        "                                                                              \n",
        "\n",
        "                                                                              \n",
        "                                                                              \n",
        "\u23bd\u23bd\u23bd\u23bd\u23bd\u23bd\u23bd\u23bd\u23bd\u23bd\u23bd\u23bd\u23bd\u23bd\u23bd\u23bd\u23bd\u23bd\u23bd\u23bd\u23bd\u23bd\u23bd\u23bd\u23bd\u23bd\u239e                                                   \n",
        " 2  2              2    4 \u239f                                                   \n",
        "f \u22c5k  - 2\u22c5d_eff\u22c5k\u22c5u  + u  \u23a0                                                   \n",
        "\u2500\u2500\u2500\u2500\u2500\u2500\u2500\u2500\u2500\u2500\u2500\u2500\u2500\u2500\u2500\u2500\u2500\u2500\u2500\u2500\u2500\u2500\u2500\u2500\u2500\u2500\u2500 + \u2500\u2500\u2500\u2500\u2500\u2500\u2500\u2500\u2500\u2500\u2500\u2500\u2500\u2500\u2500\u2500\u2500\u2500\u2500\u2500\u2500\u2500\u2500\u2500\u2500\u2500\u2500\u2500\u2500\u2500\u2500\u2500\u2500\u2500\u2500\u2500\u2500\u2500\u2500\u2500\u2500\u2500\u2500\u2500\u2500\u2500\u2500\u2500\n",
        "                                                       \u239b                      \n",
        "                                                       \u239c     2                \n",
        "                                         2             \u239c  - d \u22c5k + 2\u22c5d\u22c5d_eff\u22c5k\n",
        "                              2\u22c5d\u22c5d_eff\u22c5u \u22c5(d - d_eff)\u22c5\u239c- \u2500\u2500\u2500\u2500\u2500\u2500\u2500\u2500\u2500\u2500\u2500\u2500\u2500\u2500\u2500\u2500\u2500\u2500\u2500\u2500\n",
        "                                                       \u239c                      \n",
        "                                                       \u239c     2                \n",
        "                                                       \u239d  - d \u22c5k + 2\u22c5d\u22c5d_eff\u22c5k\n",
        "\u2500\u2500\u2500\u2500\u2500\u2500\u2500\u2500\u2500\u2500\u2500\u2500\u2500\u2500\u2500\u2500\u2500\u2500\u2500\u2500\u2500\u2500\u2500\u2500\u2500\u2500\u2500\u2500\u2500\u2500\u2500\u2500\u2500\u2500\u2500\u2500\u2500\u2500\u2500\u2500\u2500\u2500\u2500\u2500\u2500\u2500\u2500\u2500\u2500\u2500\u2500\u2500\u2500\u2500\u2500\u2500\u2500\u2500\u2500\u2500\u2500\u2500\u2500\u2500\u2500\u2500\u2500\u2500\u2500\u2500\u2500\u2500\u2500\u2500\u2500\u2500\u2500\u2500\n",
        "                                                                              \n",
        "                                                           \u239b               2\u239e \n",
        "                                                           \u239dd\u22c5d_eff - d_eff \u23a0\u22c5\n",
        "                                                                              \n",
        "                                                                              \n",
        "                                                                              \n",
        "                                                                              \n",
        "\n",
        "                                                                              \n",
        "                                                                              \n",
        "                                                                             \u239b\n",
        "                                                          \u239b               2\u239e \u239c\n",
        "                                                          \u239dd\u22c5d_eff - d_eff \u23a0\u22c5\u239d\n",
        "\u2500\u2500\u2500\u2500\u2500\u2500\u2500\u2500\u2500\u2500\u2500\u2500\u2500\u2500\u2500\u2500\u2500\u2500\u2500\u2500\u2500\u2500\u2500\u2500\u2500\u2500\u2500\u2500\u2500\u2500\u2500\u2500\u2500\u2500\u2500\u2500\u2500\u2500\u2500\u2500\u2500\u2500\u2500\u2500\u2500\u2500\u2500\u2500\u2500\u2500\u2500\u2500\u2500\u2500\u2500\u2500\u2500\u2500\u2500\u2500\u2500\u2500\u2500\u2500\u2500\u2500\u2500\u2500\u2500\u2500\u2500\u2500\u2500\u2500\u2500\u2500\u2500\u2500\n",
        "               \u23bd\u23bd\u23bd\u23bd\u23bd\u23bd\u23bd\u23bd\u23bd\u23bd\u23bd\u23bd\u23bd\u23bd\u23bd\u23bd\u23bd\u23bd\u23bd\u23bd\u23bd\u23bd\u23bd\u23bd\u23bd\u23bd\u23bd\u23bd\u23bd\u23bd\u23bd\u23bd\u23bd\u23bd\u23bd\u23bd\u23bd\u23bd\u23bd\u23bd\u23bd\u23bd\u23bd\u23bd\u23bd\u23bd\u23bd\u23bd\u23bd\u23bd\u23bd\u23bd\u23bd\u23bd\u23bd\u23bd\u23bd\u23bd\u23bd\u23bd\u23bd\u23bd\u23bd\n",
        "      2       \u2571  2  2              2          2        2  2              2    \n",
        " + d\u22c5u  - d\u22c5\u2572\u2571  d \u22c5k  - 2\u22c5d\u22c5d_eff\u22c5k  - 2\u22c5d\u22c5k\u22c5u  + d_eff \u22c5k  - 2\u22c5d_eff\u22c5k\u22c5u  + u\n",
        "\u2500\u2500\u2500\u2500\u2500\u2500\u2500\u2500\u2500\u2500\u2500\u2500\u2500\u2500\u2500\u2500\u2500\u2500\u2500\u2500\u2500\u2500\u2500\u2500\u2500\u2500\u2500\u2500\u2500\u2500\u2500\u2500\u2500\u2500\u2500\u2500\u2500\u2500\u2500\u2500\u2500\u2500\u2500\u2500\u2500\u2500\u2500\u2500\u2500\u2500\u2500\u2500\u2500\u2500\u2500\u2500\u2500\u2500\u2500\u2500\u2500\u2500\u2500\u2500\u2500\u2500\u2500\u2500\u2500\u2500\u2500\u2500\u2500\u2500\u2500\u2500\u2500\u2500\n",
        "               \u23bd\u23bd\u23bd\u23bd\u23bd\u23bd\u23bd\u23bd\u23bd\u23bd\u23bd\u23bd\u23bd\u23bd\u23bd\u23bd\u23bd\u23bd\u23bd\u23bd\u23bd\u23bd\u23bd\u23bd\u23bd\u23bd\u23bd\u23bd\u23bd\u23bd\u23bd\u23bd\u23bd\u23bd\u23bd\u23bd\u23bd\u23bd\u23bd\u23bd\u23bd\u23bd\u23bd\u23bd\u23bd\u23bd\u23bd\u23bd\u23bd\u23bd\u23bd\u23bd\u23bd\u23bd\u23bd\u23bd\u23bd\u23bd\u23bd\u23bd\u23bd\u23bd\u23bd\n",
        "      2       \u2571  2  2              2          2        2  2              2    \n",
        " + d\u22c5u  + d\u22c5\u2572\u2571  d \u22c5k  - 2\u22c5d\u22c5d_eff\u22c5k  - 2\u22c5d\u22c5k\u22c5u  + d_eff \u22c5k  - 2\u22c5d_eff\u22c5k\u22c5u  + u\n",
        "\u2500\u2500\u2500\u2500\u2500\u2500\u2500\u2500\u2500\u2500\u2500\u2500\u2500\u2500\u2500\u2500\u2500\u2500\u2500\u2500\u2500\u2500\u2500\u2500\u2500\u2500\u2500\u2500\u2500\u2500\u2500\u2500\u2500\u2500\u2500\u2500\u2500\u2500\u2500\u2500\u2500\u2500\u2500\u2500\u2500\u2500\u2500\u2500\u2500\u2500\u2500\u2500\u2500\u2500\u2500\u2500\u2500\u2500\u2500\u2500\u2500\u2500\u2500\u2500\u2500\u2500\u2500\u2500\u2500\u2500\u2500\u2500\u2500\u2500\u2500\u2500\u2500\u2500\n",
        "\u239b                                   \u23bd\u23bd\u23bd\u23bd\u23bd\u23bd\u23bd\u23bd\u23bd\u23bd\u23bd\u23bd\u23bd\u23bd\u23bd\u23bd\u23bd\u23bd\u23bd\u23bd\u23bd\u23bd\u23bd\u23bd\u23bd\u23bd\u23bd\u23bd\u23bd\u23bd\u23bd\u23bd\u23bd\u23bd\u23bd\u23bd\u23bd\u23bd\u23bd\u23bd\u23bd\u23bd\n",
        "\u239c   2                      2       \u2571  2  2              2          2        2 \n",
        "\u239d- d \u22c5k + 2\u22c5d\u22c5d_eff\u22c5k + d\u22c5u  - d\u22c5\u2572\u2571  d \u22c5k  - 2\u22c5d\u22c5d_eff\u22c5k  - 2\u22c5d\u22c5k\u22c5u  + d_eff \u22c5\n",
        "                                                                              \n",
        "                                                                              \n",
        "                                                                              \n",
        "                                                                              \n",
        "\n",
        "                                                                              \n",
        "                                                                              \n",
        "                                   \u23bd\u23bd\u23bd\u23bd\u23bd\u23bd\u23bd\u23bd\u23bd\u23bd\u23bd\u23bd\u23bd\u23bd\u23bd\u23bd\u23bd\u23bd\u23bd\u23bd\u23bd\u23bd\u23bd\u23bd\u23bd\u23bd\u23bd\u23bd\u23bd\u23bd\u23bd\u23bd\u23bd\u23bd\u23bd\u23bd\u23bd\u23bd\u23bd\u23bd\u23bd\u23bd\u23bd\n",
        "   2                      2       \u2571  2  2              2          2        2  \n",
        "- d \u22c5k + 2\u22c5d\u22c5d_eff\u22c5k + d\u22c5u  - d\u22c5\u2572\u2571  d \u22c5k  - 2\u22c5d\u22c5d_eff\u22c5k  - 2\u22c5d\u22c5k\u22c5u  + d_eff \u22c5k\n",
        "\u2500\u2500\u2500\u2500\u2500\u2500\u2500\u2500\u2500\u2500\u2500\u2500\u2500\u2500\u2500\u2500\u2500\u2500\u2500\u2500\u2500\u2500\u2500\u2500\u2500\u2500\u2500\u2500\u2500\u2500\u2500\u2500\u2500\u2500\u2500\u2500\u2500\u2500\u2500\u2500\u2500\u2500\u2500\u2500\u2500\u2500\u2500\u2500\u2500\u2500\u2500\u2500\u2500\u2500\u2500\u2500\u2500\u2500\u2500\u2500\u2500\u2500\u2500\u2500\u2500\u2500\u2500\u2500\u2500\u2500\u2500\u2500\u2500\u2500\u2500\u2500\u2500\u2500\n",
        "\u23bd\u23bd                                  \u23bd\u23bd\u23bd\u23bd\u23bd\u23bd\u23bd\u23bd\u23bd\u23bd\u23bd\u23bd\u23bd\u23bd\u23bd\u23bd\u23bd\u23bd\u23bd\u23bd\u23bd\u23bd\u23bd\u23bd\u23bd\u23bd\u23bd\u23bd\u23bd\u23bd\u23bd\u23bd\u23bd\u23bd\u23bd\u23bd\u23bd\u23bd\u23bd\u23bd\u23bd\u23bd\n",
        "4         2            2           \u2571  2  2              2          2        2 \n",
        "   - d_eff \u22c5k + d_eff\u22c5u  + d_eff\u22c5\u2572\u2571  d \u22c5k  - 2\u22c5d\u22c5d_eff\u22c5k  - 2\u22c5d\u22c5k\u22c5u  + d_eff \u22c5\n",
        "\u2500\u2500\u2500\u2500\u2500\u2500\u2500\u2500\u2500\u2500\u2500\u2500\u2500\u2500\u2500\u2500\u2500\u2500\u2500\u2500\u2500\u2500\u2500\u2500\u2500\u2500\u2500\u2500\u2500\u2500\u2500\u2500\u2500\u2500\u2500\u2500\u2500\u2500\u2500\u2500\u2500\u2500\u2500\u2500\u2500\u2500\u2500\u2500\u2500\u2500\u2500\u2500\u2500\u2500\u2500\u2500\u2500\u2500\u2500\u2500\u2500\u2500\u2500\u2500\u2500\u2500\u2500\u2500\u2500\u2500\u2500\u2500\u2500\u2500\u2500\u2500\u2500\u2500\n",
        "\u23bd\u23bd                                  \u23bd\u23bd\u23bd\u23bd\u23bd\u23bd\u23bd\u23bd\u23bd\u23bd\u23bd\u23bd\u23bd\u23bd\u23bd\u23bd\u23bd\u23bd\u23bd\u23bd\u23bd\u23bd\u23bd\u23bd\u23bd\u23bd\u23bd\u23bd\u23bd\u23bd\u23bd\u23bd\u23bd\u23bd\u23bd\u23bd\u23bd\u23bd\u23bd\u23bd\u23bd\u23bd\n",
        "4         2            2           \u2571  2  2              2          2        2 \n",
        "   - d_eff \u22c5k + d_eff\u22c5u  - d_eff\u22c5\u2572\u2571  d \u22c5k  - 2\u22c5d\u22c5d_eff\u22c5k  - 2\u22c5d\u22c5k\u22c5u  + d_eff \u22c5\n",
        "\u2500\u2500\u2500\u2500\u2500\u2500\u2500\u2500\u2500\u2500\u2500\u2500\u2500\u2500\u2500\u2500\u2500\u2500\u2500\u2500\u2500\u2500\u2500\u2500\u2500\u2500\u2500\u2500\u2500\u2500\u2500\u2500\u2500\u2500\u2500\u2500\u2500\u2500\u2500\u2500\u2500\u2500\u2500\u2500\u2500\u2500\u2500\u2500\u2500\u2500\u2500\u2500\u2500\u2500\u2500\u2500\u2500\u2500\u2500\u2500\u2500\u2500\u2500\u2500\u2500\u2500\u2500\u2500\u2500\u2500\u2500\u2500\u2500\u2500\u2500\u2500\u2500\u2500\n",
        "\u23bd\u23bd\u23bd\u23bd\u23bd\u23bd\u23bd\u23bd\u23bd\u23bd\u23bd\u23bd\u23bd\u23bd\u23bd\u23bd\u23bd\u23bd\u23bd\u23bd\u23bd\u23bd\u23bd                                  \u23bd\u23bd\u23bd\u23bd\u23bd\u23bd\u23bd\u23bd\u23bd\u23bd\u23bd\u23bd\u23bd\u23bd\u23bd\u23bd\u23bd\u23bd\u23bd\u23bd\u23bd\n",
        " 2              2    4         2            2           \u2571  2  2              2\n",
        "k  - 2\u22c5d_eff\u22c5k\u22c5u  + u   - d_eff \u22c5k + d_eff\u22c5u  + d_eff\u22c5\u2572\u2571  d \u22c5k  - 2\u22c5d\u22c5d_eff\u22c5k \n",
        "                                                                              \n",
        "                                                                              \n",
        "                                                                              \n",
        "                                                                              \n",
        "\n",
        "                                                                              \n",
        "                                                                              \n",
        "\u23bd\u23bd\u23bd\u23bd\u23bd\u23bd\u23bd\u23bd\u23bd\u23bd\u23bd\u23bd\u23bd\u23bd\u23bd\u23bd\u23bd\u23bd\u23bd\u23bd\u23bd\u23bd                                  \u23bd\u23bd\u23bd\u23bd\u23bd\u23bd\u23bd\u23bd\u23bd\u23bd\u23bd\u23bd\u23bd\u23bd\u23bd\u23bd\u23bd\u23bd\u23bd\u23bd\u23bd\u23bd\n",
        "2              2    4         2            2           \u2571  2  2              2 \n",
        "  - 2\u22c5d_eff\u22c5k\u22c5u  + u   - d_eff \u22c5k + d_eff\u22c5u  + d_eff\u22c5\u2572\u2571  d \u22c5k  - 2\u22c5d\u22c5d_eff\u22c5k  \n",
        "\u2500\u2500\u2500\u2500\u2500\u2500\u2500\u2500\u2500\u2500\u2500\u2500\u2500\u2500\u2500\u2500\u2500\u2500\u2500\u2500\u2500\u2500\u2500\u2500\u2500\u2500\u2500\u2500\u2500\u2500\u2500\u2500\u2500\u2500\u2500\u2500\u2500\u2500\u2500\u2500\u2500\u2500\u2500\u2500\u2500\u2500\u2500\u2500\u2500\u2500\u2500\u2500\u2500\u2500\u2500\u2500\u2500\u2500\u2500\u2500\u2500\u2500\u2500\u2500\u2500\u2500\u2500\u2500\u2500\u2500\u2500\u2500\u2500\u2500\u2500\u2500\u2500\u2500\n",
        "\u23bd\u23bd\u23bd\u23bd\u23bd\u23bd\u23bd\u23bd\u23bd\u23bd\u23bd\u23bd\u23bd\u23bd\u23bd\u23bd\u23bd\u23bd\u23bd\u23bd\u23bd\u23bd\u23bd    \u239e                                                  \n",
        " 2              2    4     \u239f \u239b                                   \u23bd\u23bd\u23bd\u23bd\u23bd\u23bd\u23bd\u23bd\u23bd\u23bd\u23bd\u23bd\u23bd\n",
        "k  - 2\u22c5d_eff\u22c5k\u22c5u  + u      \u239f \u239c   2                      2       \u2571  2  2       \n",
        "\u2500\u2500\u2500\u2500\u2500\u2500\u2500\u2500\u2500\u2500\u2500\u2500\u2500\u2500\u2500\u2500\u2500\u2500\u2500\u2500\u2500\u2500\u2500 + 1\u239f\u22c5\u239d- d \u22c5k + 2\u22c5d\u22c5d_eff\u22c5k + d\u22c5u  + d\u22c5\u2572\u2571  d \u22c5k  - 2\u22c5d\u22c5\n",
        "\u23bd\u23bd\u23bd\u23bd\u23bd\u23bd\u23bd\u23bd\u23bd\u23bd\u23bd\u23bd\u23bd\u23bd\u23bd\u23bd\u23bd\u23bd\u23bd\u23bd\u23bd\u23bd\u23bd    \u239f                                                  \n",
        " 2              2    4     \u239f                                                  \n",
        "k  - 2\u22c5d_eff\u22c5k\u22c5u  + u      \u23a0                                                  \n",
        "\u2500\u2500\u2500\u2500\u2500\u2500\u2500\u2500\u2500\u2500\u2500\u2500\u2500\u2500\u2500\u2500\u2500\u2500\u2500\u2500\u2500\u2500\u2500\u2500\u2500\u2500\u2500\u2500\u2500\u2500\u2500\u2500\u2500\u2500\u2500\u2500\u2500\u2500\u2500\u2500\u2500\u2500\u2500\u2500\u2500\u2500\u2500\u2500\u2500\u2500\u2500\u2500\u2500\u2500\u2500\u2500\u2500\u2500\u2500\u2500\u2500\u2500\u2500\u2500\u2500\u2500\u2500\u2500\u2500\u2500\u2500\u2500\u2500\u2500\u2500\u2500\u2500\u2500\n",
        "\u23bd\u23bd\u23bd\u23bd\u23bd\u23bd\u23bd\u23bd\u23bd\u23bd\u23bd\u23bd\u23bd\u23bd\u23bd\u23bd\u23bd\u23bd\u23bd\u23bd\u23bd\u23bd\u23bd\u23bd\u23bd\u23bd\u23bd\u23bd\u23bd\u23bd\u23bd\u23bd\u23bd\u23bd\u23bd\u23bd\u23bd\u23bd\u23bd\u23bd\u23bd\u23bd\u23bd\u23bd\u239e                                 \n",
        "          2        2  2              2    4 \u239f                                 \n",
        " - 2\u22c5d\u22c5k\u22c5u  + d_eff \u22c5k  - 2\u22c5d_eff\u22c5k\u22c5u  + u  \u23a0                                 \n",
        "                                                                              \n",
        "                                                                              \n",
        "                                                                              \n",
        "                                                                              \n",
        "\n",
        "                                                                              \n",
        "                                            2                                 \n",
        "\u23bd\u23bd\u23bd\u23bd\u23bd\u23bd\u23bd\u23bd\u23bd\u23bd\u23bd\u23bd\u23bd\u23bd\u23bd\u23bd\u23bd\u23bd\u23bd\u23bd\u23bd\u23bd\u23bd\u23bd\u23bd\u23bd\u23bd\u23bd\u23bd\u23bd\u23bd\u23bd\u23bd\u23bd\u23bd\u23bd\u23bd\u23bd\u23bd\u23bd\u23bd\u23bd\u23bd\u239e                                  \n",
        "         2        2  2              2    4 \u239f                                  \n",
        "- 2\u22c5d\u22c5k\u22c5u  + d_eff \u22c5k  - 2\u22c5d_eff\u22c5k\u22c5u  + u  \u23a0                                  \n",
        "\u2500\u2500\u2500\u2500\u2500\u2500\u2500\u2500\u2500\u2500\u2500\u2500\u2500\u2500\u2500\u2500\u2500\u2500\u2500\u2500\u2500\u2500\u2500\u2500\u2500\u2500\u2500\u2500\u2500\u2500\u2500\u2500\u2500\u2500\u2500\u2500\u2500\u2500\u2500\u2500\u2500\u2500\u2500\u2500\u2500\u2500\u2500\u2500\u2500\u2500\u2500\u2500\u2500\u2500\u2500\u2500\u2500\u2500\u2500\u2500\u2500\u2500\u2500\u2500\u2500\u2500\u2500\u2500\u2500\u2500\u2500\u2500\u2500\u2500\u2500\u2500\u2500\u2500\n",
        "                                                                              \n",
        "\u23bd\u23bd\u23bd\u23bd\u23bd\u23bd\u23bd\u23bd\u23bd\u23bd\u23bd\u23bd\u23bd\u23bd\u23bd\u23bd\u23bd\u23bd\u23bd\u23bd\u23bd\u23bd\u23bd\u23bd\u23bd\u23bd\u23bd\u23bd\u23bd\u23bd\u23bd\u23bd\u23bd\u23bd\u23bd\u23bd\u23bd\u23bd\u23bd\u23bd\u23bd\u23bd\u23bd\u23bd\u23bd\u23bd\u23bd\u23bd\u23bd\u23bd\u23bd\u23bd                          \n",
        "       2          2        2  2              2    4         2            2    \n",
        "d_eff\u22c5k  - 2\u22c5d\u22c5k\u22c5u  + d_eff \u22c5k  - 2\u22c5d_eff\u22c5k\u22c5u  + u   - d_eff \u22c5k + d_eff\u22c5u  - d\n",
        "                                                                              \n",
        "                                                                              \n",
        "                                                                              \n",
        "\u2500\u2500\u2500\u2500\u2500\u2500\u2500\u2500\u2500\u2500\u2500\u2500\u2500\u2500\u2500\u2500\u2500\u2500\u2500\u2500\u2500\u2500\u2500\u2500\u2500\u2500\u2500\u2500\u2500\u2500\u2500\u2500\u2500\u2500\u2500\u2500\u2500\u2500\u2500\u2500\u2500\u2500\u2500\u2500\u2500\u2500\u2500\u2500\u2500\u2500\u2500\u2500\u2500\u2500\u2500\u2500\u2500\u2500\u2500\u2500\u2500\u2500\u2500\u2500\u2500\u2500\u2500\u2500\u2500\u2500\u2500\u2500\u2500\u2500\u2500\u2500\u2500\u2500\n",
        "                                                                              \n",
        "                                                                              \n",
        "                                                                              \n",
        "                                                                              \n",
        "                                                                              \n",
        "                                                                              \n",
        "                                                                              \n",
        "\n",
        "                                                                              \n",
        "                                                                          \u239e   \n",
        "                                                                          \u239f  -\n",
        "                                                                          \u239f  \u2500\n",
        "                                                                          \u239f   \n",
        "\u2500\u2500\u2500\u2500\u2500\u2500\u2500\u2500\u2500\u2500\u2500\u2500\u2500\u2500\u2500\u2500\u2500\u2500\u2500\u2500\u2500\u2500\u2500\u2500\u2500\u2500\u2500\u2500\u2500\u2500\u2500\u2500\u2500\u2500\u2500\u2500\u2500\u2500\u2500\u2500\u2500\u2500\u2500\u2500\u2500\u2500\u2500\u2500\u2500\u2500\u2500\u2500\u2500\u2500\u2500\u2500\u2500\u2500\u2500\u2500\u2500\u2500\u2500\u2500\u2500\u2500\u2500\u2500\u2500\u2500\u2500\u2500\u2500\u2500\u239f\u22c5\u212f \n",
        "                                                                          \u239f   \n",
        "        \u23bd\u23bd\u23bd\u23bd\u23bd\u23bd\u23bd\u23bd\u23bd\u23bd\u23bd\u23bd\u23bd\u23bd\u23bd\u23bd\u23bd\u23bd\u23bd\u23bd\u23bd\u23bd\u23bd\u23bd\u23bd\u23bd\u23bd\u23bd\u23bd\u23bd\u23bd\u23bd\u23bd\u23bd\u23bd\u23bd\u23bd\u23bd\u23bd\u23bd\u23bd\u23bd\u23bd\u23bd\u23bd\u23bd\u23bd\u23bd\u23bd\u23bd\u23bd\u23bd\u23bd\u23bd\u23bd\u23bd\u23bd\u23bd\u23bd\u23bd\u23bd\u23bd\u23bd\u23bd\u23bd\u239e\u239f   \n",
        "       \u2571  2  2              2          2        2  2              2    4 \u239f\u239f   \n",
        "_eff\u22c5\u2572\u2571  d \u22c5k  - 2\u22c5d\u22c5d_eff\u22c5k  - 2\u22c5d\u22c5k\u22c5u  + d_eff \u22c5k  - 2\u22c5d_eff\u22c5k\u22c5u  + u  \u23a0\u239f   \n",
        "                                                                          \u239f   \n",
        "                                                                          \u239f   \n",
        "                                                                          \u23a0   \n",
        "\u2500\u2500\u2500\u2500\u2500\u2500\u2500\u2500\u2500\u2500\u2500\u2500\u2500\u2500\u2500\u2500\u2500\u2500\u2500\u2500\u2500\u2500\u2500\u2500\u2500\u2500\u2500\u2500\u2500\u2500\u2500\u2500\u2500\u2500\u2500\u2500\u2500\u2500\u2500\u2500\u2500\u2500\u2500\u2500\u2500\u2500\u2500\u2500\u2500\u2500\u2500\u2500\u2500\u2500\u2500\u2500\u2500\u2500\u2500\u2500\u2500\u2500\u2500\u2500\u2500\u2500\u2500\u2500\u2500\u2500\u2500\u2500\u2500\u2500\u2500\u2500\u2500\u2500\n",
        "                                                                              \n",
        "                                                                              \n",
        "                                                                              \n",
        "                                                                              \n",
        "                                                                              \n",
        "                                                                              \n",
        "                                                                              \n",
        "\n",
        "                        \u23bd\u23bd\u23bd\u23bd\u23bd\u23bd\u23bd\u23bd\u23bd\u23bd\u23bd\u23bd\u23bd\u23bd\u23bd\u23bd\u23bd\u23bd\u23bd\u23bd\u23bd\u23bd\u23bd\u23bd\u23bd\u23bd\u23bd\u23bd\u23bd\u23bd\u23bd\u23bd\u23bd\u23bd\u23bd\u23bd\u23bd\u23bd\u23bd\u23bd\u23bd\u23bd\u23bd\u23bd\u23bd\u23bd\u23bd\u23bd\u23bd\u23bd\u23bd\u23bd\u23bd\u23bd\n",
        "                 2     \u2571  2  2              2          2        2  2          \n",
        "d\u22c5k + d_eff\u22c5k + u    \u2572\u2571  d \u22c5k  - 2\u22c5d\u22c5d_eff\u22c5k  - 2\u22c5d\u22c5k\u22c5u  + d_eff \u22c5k  - 2\u22c5d_eff\n",
        "\u2500\u2500\u2500\u2500\u2500\u2500\u2500\u2500\u2500\u2500\u2500\u2500\u2500\u2500\u2500\u2500\u2500\u2500 + \u2500\u2500\u2500\u2500\u2500\u2500\u2500\u2500\u2500\u2500\u2500\u2500\u2500\u2500\u2500\u2500\u2500\u2500\u2500\u2500\u2500\u2500\u2500\u2500\u2500\u2500\u2500\u2500\u2500\u2500\u2500\u2500\u2500\u2500\u2500\u2500\u2500\u2500\u2500\u2500\u2500\u2500\u2500\u2500\u2500\u2500\u2500\u2500\u2500\u2500\u2500\u2500\u2500\u2500\u2500\u2500\u2500\n",
        "    2\u22c5d_eff\u22c5u                                     2\u22c5d_eff\u22c5u                   \n",
        "                                                                              \n",
        "                                                                              \n",
        "                                                                              \n",
        "                                                                              \n",
        "                                                                              \n",
        "                                                                              \n",
        "                                                                              \n",
        "                                                                              \n",
        "\u2500\u2500\u2500\u2500\u2500\u2500\u2500\u2500\u2500\u2500\u2500\u2500\u2500\u2500\u2500\u2500\u2500\u2500\u2500\u2500\u2500\u2500\u2500\u2500\u2500\u2500\u2500\u2500\u2500\u2500\u2500\u2500\u2500\u2500\u2500\u2500\u2500\u2500\u2500\u2500\u2500\u2500\u2500\u2500\u2500\u2500\u2500\u2500\u2500\u2500\u2500\u2500\u2500\u2500\u2500\u2500\u2500\u2500\u2500\u2500\u2500\u2500\u2500\u2500\u2500\u2500\u2500\u2500\u2500\u2500\u2500\u2500\u2500\u2500\u2500\u2500\u2500\u2500\n",
        "                                                                              \n",
        "                                                                              \n",
        "                                                                              \n",
        "                                                                              \n",
        "                                                                              \n",
        "                                                                              \n",
        "                                                                              \n",
        "\n",
        "\u23bd\u23bd\u23bd\u23bd\u23bd\u23bd\u23bd\u23bd\u23bd\u23bd\u23bd                                                                   \n",
        "    2    4                                                                    \n",
        "\u22c5k\u22c5u  + u                                                                     \n",
        "\u2500\u2500\u2500\u2500\u2500\u2500\u2500\u2500\u2500\u2500\u2500                                                                   \n",
        "                                                                              \n",
        "                                                                              \n",
        "                                                                              \n",
        "                                                                              \n",
        "                                                                              \n",
        "                                                                              \n",
        "                                                                        \u239b     \n",
        "                                                                        \u239c   2 \n",
        "                                                                        \u239d- d \u22c5\n",
        "\u2500\u2500\u2500\u2500\u2500\u2500\u2500\u2500\u2500\u2500\u2500 - \u2500\u2500\u2500\u2500\u2500\u2500\u2500\u2500\u2500\u2500\u2500\u2500\u2500\u2500\u2500\u2500\u2500\u2500\u2500\u2500\u2500\u2500\u2500\u2500\u2500\u2500\u2500\u2500\u2500\u2500\u2500\u2500\u2500\u2500\u2500\u2500\u2500\u2500\u2500\u2500\u2500\u2500\u2500\u2500\u2500\u2500\u2500\u2500\u2500\u2500\u2500\u2500\u2500\u2500\u2500\u2500\u2500\u2500\u2500\u2500\u2500\u2500\u2500\u2500\n",
        "              \u239b                                     \u23bd\u23bd\u23bd\u23bd\u23bd\u23bd\u23bd\u23bd\u23bd\u23bd\u23bd\u23bd\u23bd\u23bd\u23bd\u23bd\u23bd\u23bd\u23bd\u23bd\u23bd\u23bd\u23bd\u23bd\u23bd\u23bd\n",
        "              \u239c     2                      2       \u2571  2  2              2     \n",
        "              \u239c  - d \u22c5k + 2\u22c5d\u22c5d_eff\u22c5k + d\u22c5u  - d\u22c5\u2572\u2571  d \u22c5k  - 2\u22c5d\u22c5d_eff\u22c5k  - 2\u22c5\n",
        "              \u239c- \u2500\u2500\u2500\u2500\u2500\u2500\u2500\u2500\u2500\u2500\u2500\u2500\u2500\u2500\u2500\u2500\u2500\u2500\u2500\u2500\u2500\u2500\u2500\u2500\u2500\u2500\u2500\u2500\u2500\u2500\u2500\u2500\u2500\u2500\u2500\u2500\u2500\u2500\u2500\u2500\u2500\u2500\u2500\u2500\u2500\u2500\u2500\u2500\u2500\u2500\u2500\u2500\u2500\u2500\u2500\u2500\u2500\u2500\u2500\u2500\u2500\n",
        "              \u239c                                     \u23bd\u23bd\u23bd\u23bd\u23bd\u23bd\u23bd\u23bd\u23bd\u23bd\u23bd\u23bd\u23bd\u23bd\u23bd\u23bd\u23bd\u23bd\u23bd\u23bd\u23bd\u23bd\u23bd\u23bd\u23bd\u23bd\n",
        "              \u239c     2                      2       \u2571  2  2              2     \n",
        "              \u239d  - d \u22c5k + 2\u22c5d\u22c5d_eff\u22c5k + d\u22c5u  + d\u22c5\u2572\u2571  d \u22c5k  - 2\u22c5d\u22c5d_eff\u22c5k  - 2\u22c5\n",
        "\n",
        "                                                                              \n",
        "                                                                              \n",
        "                                                                              \n",
        "                                                                              \n",
        "                                                                              \n",
        "                                                                              \n",
        "                                                                              \n",
        "                                                                              \n",
        "                                                                              \n",
        "                                                                              \n",
        "                              \u23bd\u23bd\u23bd\u23bd\u23bd\u23bd\u23bd\u23bd\u23bd\u23bd\u23bd\u23bd\u23bd\u23bd\u23bd\u23bd\u23bd\u23bd\u23bd\u23bd\u23bd\u23bd\u23bd\u23bd\u23bd\u23bd\u23bd\u23bd\u23bd\u23bd\u23bd\u23bd\u23bd\u23bd\u23bd\u23bd\u23bd\u23bd\u23bd\u23bd\u23bd\u23bd\u23bd\u23bd\u23bd\u23bd\u23bd\u23bd\n",
        "                     2       \u2571  2  2              2          2        2  2    \n",
        "k + 2\u22c5d\u22c5d_eff\u22c5k + d\u22c5u  - d\u22c5\u2572\u2571  d \u22c5k  - 2\u22c5d\u22c5d_eff\u22c5k  - 2\u22c5d\u22c5k\u22c5u  + d_eff \u22c5k  - 2\n",
        "\u2500\u2500\u2500\u2500\u2500\u2500\u2500\u2500\u2500\u2500\u2500\u2500\u2500\u2500\u2500\u2500\u2500\u2500\u2500\u2500\u2500\u2500\u2500\u2500\u2500\u2500\u2500\u2500\u2500\u2500\u2500\u2500\u2500\u2500\u2500\u2500\u2500\u2500\u2500\u2500\u2500\u2500\u2500\u2500\u2500\u2500\u2500\u2500\u2500\u2500\u2500\u2500\u2500\u2500\u2500\u2500\u2500\u2500\u2500\u2500\u2500\u2500\u2500\u2500\u2500\u2500\u2500\u2500\u2500\u2500\u2500\u2500\u2500\u2500\u2500\u2500\u2500\u2500\n",
        "\u23bd\u23bd\u23bd\u23bd\u23bd\u23bd\u23bd\u23bd\u23bd\u23bd\u23bd\u23bd\u23bd\u23bd\u23bd\u23bd\u23bd\u23bd\u23bd\u23bd\u23bd\u23bd\u23bd\u23bd\u23bd\u23bd\u23bd\u23bd\u23bd\u23bd\u23bd\u23bd\u23bd\u23bd\u23bd\u23bd\u23bd\u23bd\u23bd                                  \u23bd\u23bd\u23bd\u23bd\u23bd\n",
        "     2        2  2              2    4         2            2           \u2571  2  \n",
        "d\u22c5k\u22c5u  + d_eff \u22c5k  - 2\u22c5d_eff\u22c5k\u22c5u  + u   - d_eff \u22c5k + d_eff\u22c5u  + d_eff\u22c5\u2572\u2571  d \u22c5k\n",
        "\u2500\u2500\u2500\u2500\u2500\u2500\u2500\u2500\u2500\u2500\u2500\u2500\u2500\u2500\u2500\u2500\u2500\u2500\u2500\u2500\u2500\u2500\u2500\u2500\u2500\u2500\u2500\u2500\u2500\u2500\u2500\u2500\u2500\u2500\u2500\u2500\u2500\u2500\u2500\u2500\u2500\u2500\u2500\u2500\u2500\u2500\u2500\u2500\u2500\u2500\u2500\u2500\u2500\u2500\u2500\u2500\u2500\u2500\u2500\u2500\u2500\u2500\u2500\u2500\u2500\u2500\u2500\u2500\u2500\u2500\u2500\u2500\u2500\u2500\u2500\u2500\u2500\u2500\n",
        "\u23bd\u23bd\u23bd\u23bd\u23bd\u23bd\u23bd\u23bd\u23bd\u23bd\u23bd\u23bd\u23bd\u23bd\u23bd\u23bd\u23bd\u23bd\u23bd\u23bd\u23bd\u23bd\u23bd\u23bd\u23bd\u23bd\u23bd\u23bd\u23bd\u23bd\u23bd\u23bd\u23bd\u23bd\u23bd\u23bd\u23bd\u23bd\u23bd                                  \u23bd\u23bd\u23bd\u23bd\u23bd\n",
        "     2        2  2              2    4         2            2           \u2571  2  \n",
        "d\u22c5k\u22c5u  + d_eff \u22c5k  - 2\u22c5d_eff\u22c5k\u22c5u  + u   - d_eff \u22c5k + d_eff\u22c5u  - d_eff\u22c5\u2572\u2571  d \u22c5k\n",
        "\n",
        "                                                                              \n",
        "                                                                              \n",
        "                                                                              \n",
        "                                                                              \n",
        "                                                                              \n",
        "                                                                              \n",
        "                                                                              \n",
        "                                                                              \n",
        "                                                                              \n",
        "                                                                              \n",
        "\u23bd\u23bd\u23bd\u23bd\u23bd\u23bd\u23bd\u23bd\u23bd\u23bd\u23bd\u23bd\u23bd\u23bd\u23bd\u23bd\u23bd                                  \u23bd\u23bd\u23bd\u23bd\u23bd\u23bd\u23bd\u23bd\u23bd\u23bd\u23bd\u23bd\u23bd\u23bd\u23bd\u23bd\u23bd\u23bd\u23bd\u23bd\u23bd\u23bd\u23bd\u23bd\u23bd\u23bd\u23bd\n",
        "          2    4         2            2           \u2571  2  2              2      \n",
        "\u22c5d_eff\u22c5k\u22c5u  + u   - d_eff \u22c5k + d_eff\u22c5u  + d_eff\u22c5\u2572\u2571  d \u22c5k  - 2\u22c5d\u22c5d_eff\u22c5k  - 2\u22c5d\n",
        "\u2500\u2500\u2500\u2500\u2500\u2500\u2500\u2500\u2500\u2500\u2500\u2500\u2500\u2500\u2500\u2500\u2500\u2500\u2500\u2500\u2500\u2500\u2500\u2500\u2500\u2500\u2500\u2500\u2500\u2500\u2500\u2500\u2500\u2500\u2500\u2500\u2500\u2500\u2500\u2500\u2500\u2500\u2500\u2500\u2500\u2500\u2500\u2500\u2500\u2500\u2500\u2500\u2500\u2500\u2500\u2500\u2500\u2500\u2500\u2500\u2500\u2500\u2500\u2500\u2500\u2500\u2500\u2500\u2500\u2500\u2500\u2500\u2500\u2500\u2500\u2500\u2500\u2500\n",
        "\u23bd\u23bd\u23bd\u23bd\u23bd\u23bd\u23bd\u23bd\u23bd\u23bd\u23bd\u23bd\u23bd\u23bd\u23bd\u23bd\u23bd\u23bd\u23bd\u23bd\u23bd\u23bd\u23bd\u23bd\u23bd\u23bd\u23bd\u23bd\u23bd\u23bd\u23bd\u23bd\u23bd\u23bd\u23bd\u23bd\u23bd\u23bd\u23bd\u23bd\u23bd\u23bd\u23bd\u23bd\u23bd\u23bd\u23bd\u23bd\u23bd\u23bd\u23bd\u23bd\u23bd\u23bd\u23bd\u23bd\u23bd\u23bd\u23bd\u23bd    \u239e             \n",
        "2              2          2        2  2              2    4     \u239f \u239b           \n",
        "  - 2\u22c5d\u22c5d_eff\u22c5k  - 2\u22c5d\u22c5k\u22c5u  + d_eff \u22c5k  - 2\u22c5d_eff\u22c5k\u22c5u  + u      \u239f \u239c   2       \n",
        "\u2500\u2500\u2500\u2500\u2500\u2500\u2500\u2500\u2500\u2500\u2500\u2500\u2500\u2500\u2500\u2500\u2500\u2500\u2500\u2500\u2500\u2500\u2500\u2500\u2500\u2500\u2500\u2500\u2500\u2500\u2500\u2500\u2500\u2500\u2500\u2500\u2500\u2500\u2500\u2500\u2500\u2500\u2500\u2500\u2500\u2500\u2500\u2500\u2500\u2500\u2500\u2500\u2500\u2500\u2500\u2500\u2500\u2500\u2500\u2500 + 1\u239f\u22c5\u239d- d \u22c5k + 2\u22c5\n",
        "\u23bd\u23bd\u23bd\u23bd\u23bd\u23bd\u23bd\u23bd\u23bd\u23bd\u23bd\u23bd\u23bd\u23bd\u23bd\u23bd\u23bd\u23bd\u23bd\u23bd\u23bd\u23bd\u23bd\u23bd\u23bd\u23bd\u23bd\u23bd\u23bd\u23bd\u23bd\u23bd\u23bd\u23bd\u23bd\u23bd\u23bd\u23bd\u23bd\u23bd\u23bd\u23bd\u23bd\u23bd\u23bd\u23bd\u23bd\u23bd\u23bd\u23bd\u23bd\u23bd\u23bd\u23bd\u23bd\u23bd\u23bd\u23bd\u23bd\u23bd    \u239f             \n",
        "2              2          2        2  2              2    4     \u239f             \n",
        "  - 2\u22c5d\u22c5d_eff\u22c5k  - 2\u22c5d\u22c5k\u22c5u  + d_eff \u22c5k  - 2\u22c5d_eff\u22c5k\u22c5u  + u      \u23a0             \n",
        "\n",
        "                                                                              \n",
        "                                                                              \n",
        "                                                                              \n",
        "                                                                              \n",
        "                                                                              \n",
        "                                                                              \n",
        "                                                                              \n",
        "                                                                  \u23bd\u23bd\u23bd\u23bd\u23bd\u23bd\u23bd\u23bd\u23bd\u23bd\u23bd\u23bd\n",
        "                                                           2     \u2571  2  2      \n",
        "                                         -d\u22c5k + d_eff\u22c5k + u    \u2572\u2571  d \u22c5k  - 2\u22c5d\n",
        "\u23bd\u23bd\u23bd\u23bd\u23bd\u23bd\u23bd\u23bd\u23bd\u23bd\u23bd\u23bd\u23bd\u23bd\u23bd\u23bd\u23bd\u23bd\u23bd\u23bd\u23bd\u23bd\u23bd\u23bd\u23bd\u23bd\u23bd\u23bd\u23bd\u23bd\u23bd\u23bd\u23bd\u23bd\u23bd\u23bd\u23bd\u23bd\u239e  \u2500\u2500\u2500\u2500\u2500\u2500\u2500\u2500\u2500\u2500\u2500\u2500\u2500\u2500\u2500\u2500\u2500\u2500\u2500 - \u2500\u2500\u2500\u2500\u2500\u2500\u2500\u2500\u2500\u2500\u2500\u2500\u2500\u2500\u2500\n",
        "    2        2  2              2    4 \u239f       2\u22c5d_eff\u22c5u                       \n",
        "\u22c5k\u22c5u  + d_eff \u22c5k  - 2\u22c5d_eff\u22c5k\u22c5u  + u  \u23a0\u22c5\u212f                                     \n",
        "\u2500\u2500\u2500\u2500\u2500\u2500\u2500\u2500\u2500\u2500\u2500\u2500\u2500\u2500\u2500\u2500\u2500\u2500\u2500\u2500\u2500\u2500\u2500\u2500\u2500\u2500\u2500\u2500\u2500\u2500\u2500\u2500\u2500\u2500\u2500\u2500\u2500\u2500\u2500\u2500\u2500\u2500\u2500\u2500\u2500\u2500\u2500\u2500\u2500\u2500\u2500\u2500\u2500\u2500\u2500\u2500\u2500\u2500\u2500\u2500\u2500\u2500\u2500\u2500\u2500\u2500\u2500\u2500\u2500\u2500\u2500\u2500\u2500\u2500\u2500\u2500\u2500\u2500\n",
        "                                                                              \n",
        "                        \u23bd\u23bd\u23bd\u23bd\u23bd\u23bd\u23bd\u23bd\u23bd\u23bd\u23bd\u23bd\u23bd\u23bd\u23bd\u23bd\u23bd\u23bd\u23bd\u23bd\u23bd\u23bd\u23bd\u23bd\u23bd\u23bd\u23bd\u23bd\u23bd\u23bd\u23bd\u23bd\u23bd\u23bd\u23bd\u23bd\u23bd\u23bd\u23bd\u23bd\u23bd\u23bd\u23bd\u23bd\u23bd\u23bd\u23bd\u23bd\u23bd\u23bd\u23bd\u23bd\u23bd\u23bd\n",
        "               2       \u2571  2  2              2          2        2  2          \n",
        "d\u22c5d_eff\u22c5k + d\u22c5u  + d\u22c5\u2572\u2571  d \u22c5k  - 2\u22c5d\u22c5d_eff\u22c5k  - 2\u22c5d\u22c5k\u22c5u  + d_eff \u22c5k  - 2\u22c5d_eff\n",
        "                                                                              \n",
        "                                                                              \n",
        "                                                                              \n",
        "\n",
        "                                                                              \n",
        "                                                                              \n",
        "                                                                              \n",
        "                                                                              \n",
        "                                                                              \n",
        "                                                                              \n",
        "                                                                              \n",
        "\u23bd\u23bd\u23bd\u23bd\u23bd\u23bd\u23bd\u23bd\u23bd\u23bd\u23bd\u23bd\u23bd\u23bd\u23bd\u23bd\u23bd\u23bd\u23bd\u23bd\u23bd\u23bd\u23bd\u23bd\u23bd\u23bd\u23bd\u23bd\u23bd\u23bd\u23bd\u23bd\u23bd\u23bd\u23bd\u23bd\u23bd\u23bd\u23bd\u23bd\u23bd\u23bd\u23bd\u23bd\u23bd\u23bd\u23bd\u23bd\u23bd\u23bd\u23bd\u23bd\u23bd                         \n",
        "        2          2        2  2              2    4                          \n",
        "\u22c5d_eff\u22c5k  - 2\u22c5d\u22c5k\u22c5u  + d_eff \u22c5k  - 2\u22c5d_eff\u22c5k\u22c5u  + u                           \n",
        "\u2500\u2500\u2500\u2500\u2500\u2500\u2500\u2500\u2500\u2500\u2500\u2500\u2500\u2500\u2500\u2500\u2500\u2500\u2500\u2500\u2500\u2500\u2500\u2500\u2500\u2500\u2500\u2500\u2500\u2500\u2500\u2500\u2500\u2500\u2500\u2500\u2500\u2500\u2500\u2500\u2500\u2500\u2500\u2500\u2500\u2500\u2500\u2500\u2500\u2500\u2500\u2500\u2500                         \n",
        "              2\u22c5d_eff\u22c5u                                                       \n",
        "                                                                              \n",
        "\u2500\u2500\u2500\u2500\u2500\u2500\u2500\u2500\u2500\u2500\u2500\u2500\u2500\u2500\u2500\u2500\u2500\u2500\u2500\u2500\u2500\u2500\u2500\u2500\u2500\u2500\u2500\u2500\u2500\u2500\u2500\u2500\u2500\u2500\u2500\u2500\u2500\u2500\u2500\u2500\u2500\u2500\u2500\u2500\u2500\u2500\u2500\u2500\u2500\u2500\u2500\u2500\u2500\u2500\u2500\u2500\u2500\u2500\u2500\u2500\u2500\u2500\u2500\u2500\u2500\u2500\u2500\u2500\u2500\u2500\u2500\u2500\u2500\u2500\u2500\u2500\u2500\u2500\n",
        "                                                                              \n",
        "\u23bd\u23bd\u23bd\u23bd\u23bd\u23bd\u23bd\u23bd\u23bd\u23bd\u23bd                                  \u23bd\u23bd\u23bd\u23bd\u23bd\u23bd\u23bd\u23bd\u23bd\u23bd\u23bd\u23bd\u23bd\u23bd\u23bd\u23bd\u23bd\u23bd\u23bd\u23bd\u23bd\u23bd\u23bd\u23bd\u23bd\u23bd\u23bd\u23bd\u23bd\u23bd\u23bd\u23bd\u23bd\n",
        "    2    4         2            2           \u2571  2  2              2          2 \n",
        "\u22c5k\u22c5u  + u   - d_eff \u22c5k + d_eff\u22c5u  - d_eff\u22c5\u2572\u2571  d \u22c5k  - 2\u22c5d\u22c5d_eff\u22c5k  - 2\u22c5d\u22c5k\u22c5u  \n",
        "                                                                              \n",
        "                                                                              \n",
        "                                                                              \n",
        "\n",
        "                                 \u239e\n",
        "                                 \u239f\n",
        "                                 \u239f\n",
        "                                 \u239f\n",
        "                                 \u239f\n",
        "                                 \u239f\n",
        "                                 \u239f\n",
        "                                 \u239f\n",
        "                                 \u239f\n",
        "                                 \u239f\n",
        "                                 \u239f\n",
        "                                 \u239f\n",
        "                                 \u239f\n",
        "\u2500\u2500\u2500\u2500\u2500\u2500\u2500\u2500\u2500\u2500\u2500\u2500\u2500\u2500\u2500\u2500\u2500\u2500\u2500\u2500\u2500\u2500\u2500\u2500\u2500\u2500\u2500\u2500\u2500\u2500\u2500\u2500\u2500\u239f\n",
        "                                 \u239f\n",
        "\u23bd\u23bd\u23bd\u23bd\u23bd\u23bd\u23bd\u23bd\u23bd\u23bd\u23bd\u23bd\u23bd\u23bd\u23bd\u23bd\u23bd\u23bd\u23bd\u23bd\u23bd\u23bd\u23bd\u23bd\u23bd\u23bd\u23bd\u23bd\u23bd\u23bd\u23bd\u23bd\u239e\u239f\n",
        "       2  2              2    4 \u239f\u239f\n",
        "+ d_eff \u22c5k  - 2\u22c5d_eff\u22c5k\u22c5u  + u  \u23a0\u239f\n",
        "                                 \u239f\n",
        "                                 \u239f\n",
        "                                 \u23a0\n"
       ]
      }
     ],
     "prompt_number": 937
    },
    {
     "cell_type": "code",
     "collapsed": false,
     "input": [
      "\n",
      "\n"
     ],
     "language": "python",
     "metadata": {},
     "outputs": []
    },
    {
     "cell_type": "code",
     "collapsed": false,
     "input": [
      "replaced_3=LHS[0,1].subs({a11:sol_add[0][1],a21:sol_add[0][0],a12:a12_solution[0],a22:solution_a22[0]})"
     ],
     "language": "python",
     "metadata": {},
     "outputs": []
    },
    {
     "cell_type": "code",
     "collapsed": false,
     "input": [
      "temperature = [800]\n",
      "velocity    = [10]\n",
      "\n",
      "geometries = [\"A\",\"B\",\"C\",\"D\",\"E\",\"F\"]\n",
      "dp         = [0.002,0.003,0.004,0.005,0.006,0.007]\n",
      "pressure_coefficients = pic.load(open(\"../pressure_data.dat\"))\n",
      "sherwood_coefficients = pic.load(open(\"../sherwood_data.dat\"))\n",
      "\n",
      "\n",
      "sim_list_pi = []\n",
      "for ref_case in [\"channel_test_infinite\"]:\n",
      "    for idx_temp in range(len(temperature)):\n",
      "        for idx_vel in range(len(velocity)):\n",
      "            for idx,geom in enumerate(geometries):\n",
      "                name = \"case_t_\" + str(int(temperature[idx_temp])) + '_' + str(int(velocity[idx_vel])) + '_' + ref_case + '_' + geom\n",
      "                test = create_simulation(name,massfraction\n",
      "                                        ,velocity[idx_vel]\n",
      "                                        ,temperature[idx_temp]\n",
      "                                        ,ref_case\n",
      "                                        ,root_folder='../inf_vol_avg_performance_index')\n",
      "    \n",
      "                test.sim_data = {}\n",
      "                test.sim_data[\"temperature\"] = temperature[idx_temp]\n",
      "                test.sim_data[\"velocity\"]    = velocity[idx_vel]\n",
      "                test.sim_data[\"geometry\"]    = geom\n",
      "                test.sim_data[\"Dp\"]          = dp[idx]\n",
      "    \n",
      "                sim_list_pi.append(test)\n",
      "\n",
      "data_files = {\"mt_coefficients.dat\":sherwood_coefficients, \"pressure_coefficients.dat\":pressure_coefficients}\n",
      "\n",
      "\n",
      "# loop through all the simulations\n",
      "for sim in sim_list_pi:\n",
      "    # Loop through the two files to write\n",
      "    for filename,data in data_files.iteritems():\n",
      "        # Open the file\n",
      "        param_file = open(os.path.join(sim.info.local[\"sim_folder\"],filename),'w')\n",
      "        geom = sim.sim_data[\"geometry\"]\n",
      "        lengthscale = sim.sim_data[\"Dp\"]\n",
      "        coeff = {\"coeff1\":data[geom][0],\n",
      "                 \"coeff2\":data[geom][1],\n",
      "                 \"lengthscale\":lengthscale}\n",
      "        for key,item in coeff.iteritems():\n",
      "            param_file.write(\" \".join([key,str(item),\"\\n\"]))\n",
      "        param_file.close()\n",
      "        \n",
      "        \n",
      "        \n",
      "        "
     ],
     "language": "python",
     "metadata": {},
     "outputs": [
      {
       "ename": "AttributeError",
       "evalue": "'list' object has no attribute 'iteritems'",
       "output_type": "pyerr",
       "traceback": [
        "\u001b[1;31m---------------------------------------------------------------------------\u001b[0m\n\u001b[1;31mAttributeError\u001b[0m                            Traceback (most recent call last)",
        "\u001b[1;32m<ipython-input-792-d417d69386ac>\u001b[0m in \u001b[0;36m<module>\u001b[1;34m()\u001b[0m\n\u001b[0;32m     18\u001b[0m                                         \u001b[1;33m,\u001b[0m\u001b[0mtemperature\u001b[0m\u001b[1;33m[\u001b[0m\u001b[0midx_temp\u001b[0m\u001b[1;33m]\u001b[0m\u001b[1;33m\u001b[0m\u001b[0m\n\u001b[0;32m     19\u001b[0m                                         \u001b[1;33m,\u001b[0m\u001b[0mref_case\u001b[0m\u001b[1;33m\u001b[0m\u001b[0m\n\u001b[1;32m---> 20\u001b[1;33m                                         ,root_folder='../inf_vol_avg_performance_index')\n\u001b[0m\u001b[0;32m     21\u001b[0m \u001b[1;33m\u001b[0m\u001b[0m\n\u001b[0;32m     22\u001b[0m                 \u001b[0mtest\u001b[0m\u001b[1;33m.\u001b[0m\u001b[0msim_data\u001b[0m \u001b[1;33m=\u001b[0m \u001b[1;33m{\u001b[0m\u001b[1;33m}\u001b[0m\u001b[1;33m\u001b[0m\u001b[0m\n",
        "\u001b[1;32m<ipython-input-178-a908a1041165>\u001b[0m in \u001b[0;36mcreate_simulation\u001b[1;34m(folder, massfraction, velocity, temperature, ref_folder, root_folder)\u001b[0m\n\u001b[0;32m      7\u001b[0m     \u001b[0msh\u001b[0m\u001b[1;33m.\u001b[0m\u001b[0mcopy\u001b[0m\u001b[1;33m(\u001b[0m\u001b[0mos\u001b[0m\u001b[1;33m.\u001b[0m\u001b[0mpath\u001b[0m\u001b[1;33m.\u001b[0m\u001b[0mjoin\u001b[0m\u001b[1;33m(\u001b[0m\u001b[0mos\u001b[0m\u001b[1;33m.\u001b[0m\u001b[0mpath\u001b[0m\u001b[1;33m.\u001b[0m\u001b[0mjoin\u001b[0m\u001b[1;33m(\u001b[0m\u001b[0mroot_folder\u001b[0m\u001b[1;33m,\u001b[0m\u001b[0mref_folder\u001b[0m\u001b[1;33m)\u001b[0m\u001b[1;33m,\u001b[0m\u001b[1;34m\"transat_mb.inp\"\u001b[0m\u001b[1;33m)\u001b[0m\u001b[1;33m,\u001b[0m\u001b[0mos\u001b[0m\u001b[1;33m.\u001b[0m\u001b[0mpath\u001b[0m\u001b[1;33m.\u001b[0m\u001b[0mjoin\u001b[0m\u001b[1;33m(\u001b[0m\u001b[0mroot_folder\u001b[0m\u001b[1;33m,\u001b[0m\u001b[0mfolder\u001b[0m\u001b[1;33m)\u001b[0m\u001b[1;33m)\u001b[0m\u001b[1;33m\u001b[0m\u001b[0m\n\u001b[0;32m      8\u001b[0m \u001b[1;33m\u001b[0m\u001b[0m\n\u001b[1;32m----> 9\u001b[1;33m     \u001b[0mwrite_inital_conditions\u001b[0m\u001b[1;33m(\u001b[0m\u001b[0mos\u001b[0m\u001b[1;33m.\u001b[0m\u001b[0mpath\u001b[0m\u001b[1;33m.\u001b[0m\u001b[0mjoin\u001b[0m\u001b[1;33m(\u001b[0m\u001b[0mroot_folder\u001b[0m\u001b[1;33m,\u001b[0m\u001b[0mfolder\u001b[0m\u001b[1;33m)\u001b[0m\u001b[1;33m,\u001b[0m\u001b[0mmassfraction\u001b[0m\u001b[1;33m,\u001b[0m\u001b[0mvelocity\u001b[0m\u001b[1;33m,\u001b[0m\u001b[0mtemperature\u001b[0m\u001b[1;33m)\u001b[0m\u001b[1;33m\u001b[0m\u001b[0m\n\u001b[0m\u001b[0;32m     10\u001b[0m     \u001b[0mconfig\u001b[0m \u001b[1;33m=\u001b[0m \u001b[0mjc\u001b[0m\u001b[1;33m.\u001b[0m\u001b[0mconfiguration_mb_local\u001b[0m\u001b[1;33m\u001b[0m\u001b[0m\n\u001b[0;32m     11\u001b[0m     \u001b[0mconfig\u001b[0m\u001b[1;33m[\u001b[0m\u001b[1;34m\"jobname\"\u001b[0m\u001b[1;33m]\u001b[0m \u001b[1;33m=\u001b[0m \u001b[0mfolder\u001b[0m\u001b[1;33m\u001b[0m\u001b[0m\n",
        "\u001b[1;32m<ipython-input-179-8d10bf4067aa>\u001b[0m in \u001b[0;36mwrite_inital_conditions\u001b[1;34m(folder, massfraction, velocity, temperature)\u001b[0m\n\u001b[0;32m      5\u001b[0m     \u001b[0mwriter\u001b[0m\u001b[1;33m.\u001b[0m\u001b[0madd_variable\u001b[0m\u001b[1;33m(\u001b[0m\u001b[1;34m\"temperature\"\u001b[0m\u001b[1;33m,\u001b[0m\u001b[0mtemperature\u001b[0m\u001b[1;33m)\u001b[0m\u001b[1;33m\u001b[0m\u001b[0m\n\u001b[0;32m      6\u001b[0m \u001b[1;33m\u001b[0m\u001b[0m\n\u001b[1;32m----> 7\u001b[1;33m     \u001b[1;32mfor\u001b[0m \u001b[0mkey\u001b[0m\u001b[1;33m,\u001b[0m\u001b[0mitem\u001b[0m \u001b[1;32min\u001b[0m \u001b[0mmassfraction\u001b[0m\u001b[1;33m.\u001b[0m\u001b[0miteritems\u001b[0m\u001b[1;33m(\u001b[0m\u001b[1;33m)\u001b[0m\u001b[1;33m:\u001b[0m\u001b[1;33m\u001b[0m\u001b[0m\n\u001b[0m\u001b[0;32m      8\u001b[0m         \u001b[0mwriter\u001b[0m\u001b[1;33m.\u001b[0m\u001b[0madd_variable\u001b[0m\u001b[1;33m(\u001b[0m\u001b[0mvar\u001b[0m\u001b[1;33m=\u001b[0m\u001b[1;34m\"component_molefraction\"\u001b[0m\u001b[1;33m,\u001b[0m\u001b[0mvalue\u001b[0m\u001b[1;33m=\u001b[0m\u001b[0mitem\u001b[0m\u001b[1;33m[\u001b[0m\u001b[1;36m0\u001b[0m\u001b[1;33m]\u001b[0m\u001b[1;33m,\u001b[0m\u001b[0mindex\u001b[0m\u001b[1;33m=\u001b[0m\u001b[0mitem\u001b[0m\u001b[1;33m[\u001b[0m\u001b[1;36m1\u001b[0m\u001b[1;33m]\u001b[0m\u001b[1;33m)\u001b[0m\u001b[1;33m\u001b[0m\u001b[0m\n\u001b[0;32m      9\u001b[0m \u001b[1;33m\u001b[0m\u001b[0m\n",
        "\u001b[1;31mAttributeError\u001b[0m: 'list' object has no attribute 'iteritems'"
       ]
      },
      {
       "output_type": "stream",
       "stream": "stdout",
       "text": [
        "directory exists\n"
       ]
      }
     ],
     "prompt_number": 792
    },
    {
     "cell_type": "code",
     "collapsed": false,
     "input": [
      "for sim in sim_list_pi:\n",
      "    print(sim.sim_data[\"velocity\"])\n",
      "    sim.run_init(nproc='1')\n"
     ],
     "language": "python",
     "metadata": {},
     "outputs": [
      {
       "output_type": "stream",
       "stream": "stdout",
       "text": [
        "10\n",
        "10"
       ]
      },
      {
       "output_type": "stream",
       "stream": "stdout",
       "text": [
        "\n",
        "10"
       ]
      },
      {
       "output_type": "stream",
       "stream": "stdout",
       "text": [
        "\n",
        "10"
       ]
      },
      {
       "output_type": "stream",
       "stream": "stdout",
       "text": [
        "\n",
        "10"
       ]
      },
      {
       "output_type": "stream",
       "stream": "stdout",
       "text": [
        "\n",
        "10"
       ]
      },
      {
       "output_type": "stream",
       "stream": "stdout",
       "text": [
        "\n"
       ]
      }
     ],
     "prompt_number": 57
    },
    {
     "cell_type": "code",
     "collapsed": false,
     "input": [
      "for sim in sim_list_pi:\n",
      "    print(sim.sim_data[\"velocity\"])\n",
      "    sim.run_sim(nproc='1')"
     ],
     "language": "python",
     "metadata": {},
     "outputs": [
      {
       "output_type": "stream",
       "stream": "stdout",
       "text": [
        "10\n",
        "10"
       ]
      },
      {
       "output_type": "stream",
       "stream": "stdout",
       "text": [
        "\n",
        "10\n",
        "10\n",
        "10"
       ]
      },
      {
       "output_type": "stream",
       "stream": "stdout",
       "text": [
        "\n",
        "10\n"
       ]
      }
     ],
     "prompt_number": 58
    },
    {
     "cell_type": "code",
     "collapsed": false,
     "input": [
      "for sim in sim_list_pi:\n",
      "    if not sim.status():\n",
      "      print(sim.status())\n",
      "      filename = os.path.join(sim.info.local[\"sim_folder\"],\"std_out.log\")\n",
      "     # !tail -n 100 $filename"
     ],
     "language": "python",
     "metadata": {},
     "outputs": [
      {
       "output_type": "stream",
       "stream": "stdout",
       "text": [
        "0\n",
        "0\n",
        "0\n",
        "0\n",
        "0\n",
        "0\n"
       ]
      }
     ],
     "prompt_number": 66
    },
    {
     "cell_type": "code",
     "collapsed": false,
     "input": [
      "for sim in sim_list_pi:  \n",
      "  sh.copy(\"postprocess.py\",sim.info.local[\"sim_folder\"])\n",
      "  sim.run_postprocess(\"postprocess.py\")"
     ],
     "language": "python",
     "metadata": {},
     "outputs": [],
     "prompt_number": 68
    },
    {
     "cell_type": "code",
     "collapsed": false,
     "input": [
      "for sim in sim_list_pi:\n",
      "  sim.data = pic.load(open(os.path.join(sim.info.local[\"sim_folder\"],\"data.dat\")))"
     ],
     "language": "python",
     "metadata": {},
     "outputs": [],
     "prompt_number": 69
    },
    {
     "cell_type": "code",
     "collapsed": false,
     "input": [
      "geomfig = pl.figure()\n",
      "ax  = geomfig.add_subplot(1,1,1)\n",
      "geo_sim_list = {}\n",
      "vel_names = [str(int(vel)) for vel in velocity]\n",
      "#vel_names = [vel_names[0],vel_names[2]]\n",
      "for vel in vel_names:\n",
      "    geo_sim_list[vel] = {}\n",
      "    for geo in geometries:\n",
      "         geo_sim_list[vel][geo] = [item for item in sim_list_pi if geo == item.sim_data[\"geometry\"] and int(vel) == int(item.sim_data[\"velocity\"])]\n",
      "#vel_names = list(vel_names[0])\n",
      "for vel in vel_names:\n",
      "    for geom,sim_list in geo_sim_list[vel].iteritems():\n",
      "        vel_list      = [item.data[\"U\"][-2] for item in sim_list] \n",
      "        C3H6_list     = [item.data[\"C3H6\"][-2] for item in sim_list]\n",
      "        pressure_list = [item.data[\"P\"][1] for item in sim_list]\n",
      "        temperature_list = [item.data[\"T\"][1] for item in sim_list]\n",
      "        dp_list = [item.sim_data[\"Dp\"] for item in sim_list]\n",
      "        ax.plot(dp_list,np.log(0.003/np.array(C3H6_list))/np.array(pressure_list)*np.array(vel_list)**2,'o',label=\" \".join([vel,geom]))\n",
      "        \n",
      "\n",
      "    \n",
      "handle,label = ax.get_legend_handles_labels()\n",
      "handle,label = zip(*sorted(zip(handle,label),key=lambda item:item[1]))\n",
      "ax.legend(handle,label)\n"
     ],
     "language": "python",
     "metadata": {},
     "outputs": [
      {
       "metadata": {},
       "output_type": "pyout",
       "prompt_number": 85,
       "text": [
        "<matplotlib.legend.Legend at 0x605f410>"
       ]
      },
      {
       "metadata": {},
       "output_type": "display_data",
       "png": "[encoded data removed]",
       "text": [
        "<matplotlib.figure.Figure at 0x50bc210>"
       ]
      }
     ],
     "prompt_number": 85
    },
    {
     "cell_type": "code",
     "collapsed": false,
     "input": [
      "!source ~/.bashrc_gfort\n"
     ],
     "language": "python",
     "metadata": {},
     "outputs": []
    },
    {
     "cell_type": "code",
     "collapsed": false,
     "input": [
      "dp"
     ],
     "language": "python",
     "metadata": {},
     "outputs": [
      {
       "metadata": {},
       "output_type": "pyout",
       "prompt_number": 74,
       "text": [
        "[0.002, 0.003, 0.004, 0.005, 0.006, 0.007]"
       ]
      }
     ],
     "prompt_number": 74
    },
    {
     "cell_type": "code",
     "collapsed": false,
     "input": [
      "pressure_list"
     ],
     "language": "python",
     "metadata": {},
     "outputs": [
      {
       "metadata": {},
       "output_type": "pyout",
       "prompt_number": 77,
       "text": [
        "[801.66800000000001]"
       ]
      }
     ],
     "prompt_number": 77
    },
    {
     "cell_type": "code",
     "collapsed": false,
     "input": [
      "geo_sim_list['10']"
     ],
     "language": "python",
     "metadata": {},
     "outputs": [
      {
       "metadata": {},
       "output_type": "pyout",
       "prompt_number": 82,
       "text": [
        "{'A': [<simulation_brutus.job instance at 0x53b17e8>],\n",
        " 'B': [<simulation_brutus.job instance at 0x50b38c0>],\n",
        " 'C': [<simulation_brutus.job instance at 0x4a98ea8>],\n",
        " 'D': [<simulation_brutus.job instance at 0x5923e18>],\n",
        " 'E': [<simulation_brutus.job instance at 0x4cf88c0>],\n",
        " 'F': [<simulation_brutus.job instance at 0x4a7d488>]}"
       ]
      }
     ],
     "prompt_number": 82
    },
    {
     "cell_type": "heading",
     "level": 1,
     "metadata": {},
     "source": [
      "ODE Solution"
     ]
    },
    {
     "cell_type": "code",
     "collapsed": false,
     "input": [
      "\n",
      "def rhs(y,x):\n",
      "    if x> 0.01:\n",
      "        rhs_vec = [0,0,0,0]\n",
      "        rhs_vec[0]= -surf_to_volume*Sh*Diff/L/u*y[0]\n",
      "        #energy source from reaction\n",
      "        reaction_source = surf_to_volume*Sh*H*Diff/L*rho*y[0]\n",
      "        interaction_term_s = surf_to_volume*Sh/L* lambda_f*(y[3]-y[2])\n",
      "       # interaction_term_s = 0.0\n",
      "        rhs_vec[1] = -(reaction_source - interaction_term_s)/lambda_s\n",
      "        # Fluid temperature\n",
      "        interaction_term_f = +interaction_term_s/(rho*cp_f*u)\n",
      "        rhs_vec[2] = interaction_term_f\n",
      "        rhs_vec[3] = y[1]\n",
      "       # rhs_vec[3] = 0.04\n",
      "    else:\n",
      "        rhs_vec= [0,0,0]\n",
      "    return rhs_vec"
     ],
     "language": "python",
     "metadata": {},
     "outputs": []
    },
    {
     "cell_type": "code",
     "collapsed": false,
     "input": [
      "import scipy.integrate as integ\n",
      "\n",
      "Sh = 10.0\n",
      "surf_to_volume = 1000\n",
      "Diff           = 1E-5\n",
      "rho  = 1.0\n",
      "u = 5.0\n",
      "L = 0.0023\n",
      "H = 1E7\n",
      "lambda_s =1000\n",
      "lambda_f = 0.025\n",
      "cp_f = 1000\n",
      "\n",
      "species_flux = surf_to_volume*Sh*Diff/L*rho\n",
      "energy_flux  = surf_to_volume*Sh/L*lambda_f\n",
      "\n",
      "def rhs(y,x):\n",
      "    if x> 0.00:\n",
      "        rhs_vec = [0,0,0,0]\n",
      "\n",
      "        rhs_vec[0]= -species_flux*y[0]\n",
      "        #energy source from reaction\n",
      "        \n",
      "        T_s = species_flux*y[0]*H/energy_flux+y[1]\n",
      "        interaction_term_s = energy_flux*(T_s-y[1])\n",
      "\n",
      "        # Fluid temperature\n",
      "        interaction_term_f = +interaction_term_s/(rho*cp_f*u)\n",
      "        rhs_vec[1] = interaction_term_f\n",
      "\n",
      "       # rhs_vec[3] = 0.04\n",
      "    else:\n",
      "        rhs_vec= [0,0,0]\n",
      "    return rhs_vec\n",
      "\n",
      "\n",
      "x_vals = np.linspace(0,0.2,200)\n",
      "\n",
      "ode_solver=integ.odeint(rhs,[0.003,1000],x_vals,rtol=1E-10,hmax=0.0001)"
     ],
     "language": "python",
     "metadata": {},
     "outputs": [],
     "prompt_number": 696
    },
    {
     "cell_type": "code",
     "collapsed": false,
     "input": [
      "nfig = 4\n",
      "\n",
      "fig_list = []\n",
      "for fig in range(nfig):\n",
      "    fig_list.append(pl.figure())\n",
      "    \n",
      "ax_list = []\n",
      "for fig in fig_list:\n",
      "    ax_list.append(fig.add_subplot(1,1,1))\n",
      "\n",
      "T_s = (species_flux*ode_solver[:,0]*H/energy_flux+ ode_solver[:,1])   \n",
      "ax_list[0].plot(x_vals,ode_solver[:,0])\n",
      "ax_list[1].plot(x_vals,ode_solver[:,1])\n",
      "ax_list[2].plot(x_vals,T_s)\n"
     ],
     "language": "python",
     "metadata": {},
     "outputs": [
      {
       "metadata": {},
       "output_type": "pyout",
       "prompt_number": 697,
       "text": [
        "[<matplotlib.lines.Line2D at 0xd9c7510>]"
       ]
      },
      {
       "metadata": {},
       "output_type": "display_data",
       "png": "[encoded data removed]",
       "text": [
        "<matplotlib.figure.Figure at 0x123fe250>"
       ]
      },
      {
       "metadata": {},
       "output_type": "display_data",
       "png": "[encoded data removed]",
       "text": [
        "<matplotlib.figure.Figure at 0x123fcfd0>"
       ]
      },
      {
       "metadata": {},
       "output_type": "display_data",
       "png": "[encoded data removed]",
       "text": [
        "<matplotlib.figure.Figure at 0xd9b3f90>"
       ]
      },
      {
       "metadata": {},
       "output_type": "display_data",
       "png": "[encoded data removed]",
       "text": [
        "<matplotlib.figure.Figure at 0x10d9a7d0>"
       ]
      }
     ],
     "prompt_number": 697
    },
    {
     "cell_type": "code",
     "collapsed": false,
     "input": [
      "x_vals = np.linspace(0,0.01,20)\n",
      "\n",
      "for x in x_vals\n",
      "ode_solver.integrate"
     ],
     "language": "python",
     "metadata": {},
     "outputs": [
      {
       "ename": "SyntaxError",
       "evalue": "invalid syntax (<ipython-input-692-41a3ef11368f>, line 3)",
       "output_type": "pyerr",
       "traceback": [
        "\u001b[1;36m  File \u001b[1;32m\"<ipython-input-692-41a3ef11368f>\"\u001b[1;36m, line \u001b[1;32m3\u001b[0m\n\u001b[1;33m    for x in x_vals\u001b[0m\n\u001b[1;37m                   ^\u001b[0m\n\u001b[1;31mSyntaxError\u001b[0m\u001b[1;31m:\u001b[0m invalid syntax\n"
       ]
      }
     ],
     "prompt_number": 692
    },
    {
     "cell_type": "code",
     "collapsed": false,
     "input": [
      "import Cantera as ca"
     ],
     "language": "python",
     "metadata": {},
     "outputs": [],
     "prompt_number": 687
    },
    {
     "cell_type": "code",
     "collapsed": false,
     "input": [
      "nx = 100\n",
      "u = 1\n",
      "L = 1.0\n",
      "D = 0.000\n",
      "dx = L/nx\n",
      "Y0 = 1\n",
      "Sp  = -10\n",
      "Su  = 0\n",
      "\n",
      "diagonal = np.ones(nx)*(-2*D/dx-u)+Sp*dx\n",
      "diagonalE = np.ones(nx-1)*(D/dx)\n",
      "diagonalW = np.ones(nx-1)*(u+D/dx)\n",
      "\n",
      "matrix = np.diag(diagonal) + np.diag(diagonalE,1) + np.diag(diagonalW,-1)\n",
      "\n",
      "b = np.zeros(nx)  - Su\n",
      "matrix[0,:] = np.zeros(nx)\n",
      "matrix[0,0] = -3*D/dx-u+Sp*dx\n",
      "matrix[0,1] = +D/dx\n",
      "\n",
      "b[0]  = -u*Y0-2*D*Y0/dx \n",
      "\n",
      "#matrix[nx-1,nx-2] = u+D/dx\n",
      "#matrix[nx-1,nx-1] = -D/dx-u\n",
      "\n",
      "matrix[nx-1,nx-2] = u+D/dx\n",
      "matrix[nx-1,nx-1] = -D/dx-u + Sp*dx"
     ],
     "language": "python",
     "metadata": {},
     "outputs": [],
     "prompt_number": 1179
    },
    {
     "cell_type": "code",
     "collapsed": false,
     "input": [
      "solution= np.linalg.solve(matrix,b)"
     ],
     "language": "python",
     "metadata": {},
     "outputs": [],
     "prompt_number": 1180
    },
    {
     "cell_type": "code",
     "collapsed": false,
     "input": [
      "pl.plot(solution)"
     ],
     "language": "python",
     "metadata": {},
     "outputs": [
      {
       "metadata": {},
       "output_type": "pyout",
       "prompt_number": 1181,
       "text": [
        "[<matplotlib.lines.Line2D at 0x1eccebd0>]"
       ]
      },
      {
       "metadata": {},
       "output_type": "display_data",
       "png": "[encoded data removed]",
       "text": [
        "<matplotlib.figure.Figure at 0x1db4e050>"
       ]
      }
     ],
     "prompt_number": 1181
    },
    {
     "cell_type": "code",
     "collapsed": false,
     "input": [
      "matrix"
     ],
     "language": "python",
     "metadata": {},
     "outputs": [
      {
       "metadata": {},
       "output_type": "pyout",
       "prompt_number": 1178,
       "text": [
        "array([[-1.01,  0.  ,  0.  , ...,  0.  ,  0.  ,  0.  ],\n",
        "       [ 1.  , -1.01,  0.  , ...,  0.  ,  0.  ,  0.  ],\n",
        "       [ 0.  ,  1.  , -1.01, ...,  0.  ,  0.  ,  0.  ],\n",
        "       ..., \n",
        "       [ 0.  ,  0.  ,  0.  , ..., -1.01,  0.  ,  0.  ],\n",
        "       [ 0.  ,  0.  ,  0.  , ...,  1.  , -1.01,  0.  ],\n",
        "       [ 0.  ,  0.  ,  0.  , ...,  0.  ,  1.  , -1.01]])"
       ]
      }
     ],
     "prompt_number": 1178
    },
    {
     "cell_type": "code",
     "collapsed": false,
     "input": [
      "matrix[1,2]"
     ],
     "language": "python",
     "metadata": {},
     "outputs": [
      {
       "metadata": {},
       "output_type": "pyout",
       "prompt_number": 1160,
       "text": [
        "1.0"
       ]
      }
     ],
     "prompt_number": 1160
    },
    {
     "cell_type": "code",
     "collapsed": false,
     "input": [
      "b[0]"
     ],
     "language": "python",
     "metadata": {},
     "outputs": [
      {
       "metadata": {},
       "output_type": "pyout",
       "prompt_number": 1151,
       "text": [
        "-1.0"
       ]
      }
     ],
     "prompt_number": 1151
    },
    {
     "cell_type": "code",
     "collapsed": false,
     "input": [
      "b"
     ],
     "language": "python",
     "metadata": {},
     "outputs": [
      {
       "metadata": {},
       "output_type": "pyout",
       "prompt_number": 1152,
       "text": [
        "array([-1.,  0.,  0.,  0.,  0.,  0.,  0.,  0.,  0.,  0.,  0.,  0.,  0.,\n",
        "        0.,  0.,  0.,  0.,  0.,  0.,  0.,  0.,  0.,  0.,  0.,  0.,  0.,\n",
        "        0.,  0.,  0.,  0.,  0.,  0.,  0.,  0.,  0.,  0.,  0.,  0.,  0.,\n",
        "        0.,  0.,  0.,  0.,  0.,  0.,  0.,  0.,  0.,  0.,  0.,  0.,  0.,\n",
        "        0.,  0.,  0.,  0.,  0.,  0.,  0.,  0.,  0.,  0.,  0.,  0.,  0.,\n",
        "        0.,  0.,  0.,  0.,  0.,  0.,  0.,  0.,  0.,  0.,  0.,  0.,  0.,\n",
        "        0.,  0.,  0.,  0.,  0.,  0.,  0.,  0.,  0.,  0.,  0.,  0.,  0.,\n",
        "        0.,  0.,  0.,  0.,  0.,  0.,  0.,  0.,  0.,  0.,  0.,  0.,  0.,\n",
        "        0.,  0.,  0.,  0.,  0.,  0.,  0.,  0.,  0.,  0.,  0.,  0.,  0.,\n",
        "        0.,  0.,  0.,  0.,  0.,  0.,  0.,  0.,  0.,  0.,  0.,  0.,  0.,\n",
        "        0.,  0.,  0.,  0.,  0.,  0.,  0.,  0.,  0.,  0.,  0.,  0.,  0.,\n",
        "        0.,  0.,  0.,  0.,  0.,  0.,  0.,  0.,  0.,  0.,  0.,  0.,  0.,\n",
        "        0.,  0.,  0.,  0.,  0.,  0.,  0.,  0.,  0.,  0.,  0.,  0.,  0.,\n",
        "        0.,  0.,  0.,  0.,  0.,  0.,  0.,  0.,  0.,  0.,  0.,  0.,  0.,\n",
        "        0.,  0.,  0.,  0.,  0.,  0.,  0.,  0.,  0.,  0.,  0.,  0.,  0.,\n",
        "        0.,  0.,  0.,  0.,  0.,  0.,  0.,  0.,  0.,  0.,  0.,  0.,  0.,\n",
        "        0.,  0.,  0.,  0.,  0.,  0.,  0.,  0.,  0.,  0.,  0.,  0.,  0.,\n",
        "        0.,  0.,  0.,  0.,  0.,  0.,  0.,  0.,  0.,  0.,  0.,  0.,  0.,\n",
        "        0.,  0.,  0.,  0.,  0.,  0.,  0.,  0.,  0.,  0.,  0.,  0.,  0.,\n",
        "        0.,  0.,  0.,  0.,  0.,  0.,  0.,  0.,  0.,  0.,  0.,  0.,  0.,\n",
        "        0.,  0.,  0.,  0.,  0.,  0.,  0.,  0.,  0.,  0.,  0.,  0.,  0.,\n",
        "        0.,  0.,  0.,  0.,  0.,  0.,  0.,  0.,  0.,  0.,  0.,  0.,  0.,\n",
        "        0.,  0.,  0.,  0.,  0.,  0.,  0.,  0.,  0.,  0.,  0.,  0.,  0.,\n",
        "        0.,  0.,  0.,  0.,  0.,  0.,  0.,  0.,  0.,  0.,  0.,  0.,  0.,\n",
        "        0.,  0.,  0.,  0.,  0.,  0.,  0.,  0.,  0.,  0.,  0.,  0.,  0.,\n",
        "        0.,  0.,  0.,  0.,  0.,  0.,  0.,  0.,  0.,  0.,  0.,  0.,  0.,\n",
        "        0.,  0.,  0.,  0.,  0.,  0.,  0.,  0.,  0.,  0.,  0.,  0.,  0.,\n",
        "        0.,  0.,  0.,  0.,  0.,  0.,  0.,  0.,  0.,  0.,  0.,  0.,  0.,\n",
        "        0.,  0.,  0.,  0.,  0.,  0.,  0.,  0.,  0.,  0.,  0.,  0.,  0.,\n",
        "        0.,  0.,  0.,  0.,  0.,  0.,  0.,  0.,  0.,  0.,  0.,  0.,  0.,\n",
        "        0.,  0.,  0.,  0.,  0.,  0.,  0.,  0.,  0.,  0.,  0.,  0.,  0.,\n",
        "        0.,  0.,  0.,  0.,  0.,  0.,  0.,  0.,  0.,  0.,  0.,  0.,  0.,\n",
        "        0.,  0.,  0.,  0.,  0.,  0.,  0.,  0.,  0.,  0.,  0.,  0.,  0.,\n",
        "        0.,  0.,  0.,  0.,  0.,  0.,  0.,  0.,  0.,  0.,  0.,  0.,  0.,\n",
        "        0.,  0.,  0.,  0.,  0.,  0.,  0.,  0.,  0.,  0.,  0.,  0.,  0.,\n",
        "        0.,  0.,  0.,  0.,  0.,  0.,  0.,  0.,  0.,  0.,  0.,  0.,  0.,\n",
        "        0.,  0.,  0.,  0.,  0.,  0.,  0.,  0.,  0.,  0.,  0.,  0.,  0.,\n",
        "        0.,  0.,  0.,  0.,  0.,  0.,  0.,  0.,  0.,  0.,  0.,  0.,  0.,\n",
        "        0.,  0.,  0.,  0.,  0.,  0.,  0.,  0.,  0.,  0.,  0.,  0.,  0.,\n",
        "        0.,  0.,  0.,  0.,  0.,  0.,  0.,  0.,  0.,  0.,  0.,  0.,  0.,\n",
        "        0.,  0.,  0.,  0.,  0.,  0.,  0.,  0.,  0.,  0.,  0.,  0.,  0.,\n",
        "        0.,  0.,  0.,  0.,  0.,  0.,  0.,  0.,  0.,  0.,  0.,  0.,  0.,\n",
        "        0.,  0.,  0.,  0.,  0.,  0.,  0.,  0.,  0.,  0.,  0.,  0.,  0.,\n",
        "        0.,  0.,  0.,  0.,  0.,  0.,  0.,  0.,  0.,  0.,  0.,  0.,  0.,\n",
        "        0.,  0.,  0.,  0.,  0.,  0.,  0.,  0.,  0.,  0.,  0.,  0.,  0.,\n",
        "        0.,  0.,  0.,  0.,  0.,  0.,  0.,  0.,  0.,  0.,  0.,  0.,  0.,\n",
        "        0.,  0.,  0.,  0.,  0.,  0.,  0.,  0.,  0.,  0.,  0.,  0.,  0.,\n",
        "        0.,  0.,  0.,  0.,  0.,  0.,  0.,  0.,  0.,  0.,  0.,  0.,  0.,\n",
        "        0.,  0.,  0.,  0.,  0.,  0.,  0.,  0.,  0.,  0.,  0.,  0.,  0.,\n",
        "        0.,  0.,  0.,  0.,  0.,  0.,  0.,  0.,  0.,  0.,  0.,  0.,  0.,\n",
        "        0.,  0.,  0.,  0.,  0.,  0.,  0.,  0.,  0.,  0.,  0.,  0.,  0.,\n",
        "        0.,  0.,  0.,  0.,  0.,  0.,  0.,  0.,  0.,  0.,  0.,  0.,  0.,\n",
        "        0.,  0.,  0.,  0.,  0.,  0.,  0.,  0.,  0.,  0.,  0.,  0.,  0.,\n",
        "        0.,  0.,  0.,  0.,  0.,  0.,  0.,  0.,  0.,  0.,  0.,  0.,  0.,\n",
        "        0.,  0.,  0.,  0.,  0.,  0.,  0.,  0.,  0.,  0.,  0.,  0.,  0.,\n",
        "        0.,  0.,  0.,  0.,  0.,  0.,  0.,  0.,  0.,  0.,  0.,  0.,  0.,\n",
        "        0.,  0.,  0.,  0.,  0.,  0.,  0.,  0.,  0.,  0.,  0.,  0.,  0.,\n",
        "        0.,  0.,  0.,  0.,  0.,  0.,  0.,  0.,  0.,  0.,  0.,  0.,  0.,\n",
        "        0.,  0.,  0.,  0.,  0.,  0.,  0.,  0.,  0.,  0.,  0.,  0.,  0.,\n",
        "        0.,  0.,  0.,  0.,  0.,  0.,  0.,  0.,  0.,  0.,  0.,  0.,  0.,\n",
        "        0.,  0.,  0.,  0.,  0.,  0.,  0.,  0.,  0.,  0.,  0.,  0.,  0.,\n",
        "        0.,  0.,  0.,  0.,  0.,  0.,  0.,  0.,  0.,  0.,  0.,  0.,  0.,\n",
        "        0.,  0.,  0.,  0.,  0.,  0.,  0.,  0.,  0.,  0.,  0.,  0.,  0.,\n",
        "        0.,  0.,  0.,  0.,  0.,  0.,  0.,  0.,  0.,  0.,  0.,  0.,  0.,\n",
        "        0.,  0.,  0.,  0.,  0.,  0.,  0.,  0.,  0.,  0.,  0.,  0.,  0.,\n",
        "        0.,  0.,  0.,  0.,  0.,  0.,  0.,  0.,  0.,  0.,  0.,  0.,  0.,\n",
        "        0.,  0.,  0.,  0.,  0.,  0.,  0.,  0.,  0.,  0.,  0.,  0.,  0.,\n",
        "        0.,  0.,  0.,  0.,  0.,  0.,  0.,  0.,  0.,  0.,  0.,  0.,  0.,\n",
        "        0.,  0.,  0.,  0.,  0.,  0.,  0.,  0.,  0.,  0.,  0.,  0.,  0.,\n",
        "        0.,  0.,  0.,  0.,  0.,  0.,  0.,  0.,  0.,  0.,  0.,  0.,  0.,\n",
        "        0.,  0.,  0.,  0.,  0.,  0.,  0.,  0.,  0.,  0.,  0.,  0.,  0.,\n",
        "        0.,  0.,  0.,  0.,  0.,  0.,  0.,  0.,  0.,  0.,  0.,  0.,  0.,\n",
        "        0.,  0.,  0.,  0.,  0.,  0.,  0.,  0.,  0.,  0.,  0.,  0.,  0.,\n",
        "        0.,  0.,  0.,  0.,  0.,  0.,  0.,  0.,  0.,  0.,  0.,  0.,  0.,\n",
        "        0.,  0.,  0.,  0.,  0.,  0.,  0.,  0.,  0.,  0.,  0.,  0.,  0.,\n",
        "        0.,  0.,  0.,  0.,  0.,  0.,  0.,  0.,  0.,  0.,  0.,  0.,  0.,\n",
        "        0.,  0.,  0.,  0.,  0.,  0.,  0.,  0.,  0.,  0.,  0.,  0.])"
       ]
      }
     ],
     "prompt_number": 1152
    },
    {
     "cell_type": "code",
     "collapsed": false,
     "input": [
      "b"
     ],
     "language": "python",
     "metadata": {},
     "outputs": [
      {
       "metadata": {},
       "output_type": "pyout",
       "prompt_number": 1150,
       "text": [
        "array([-1.,  0.,  0.,  0.,  0.,  0.,  0.,  0.,  0.,  0.,  0.,  0.,  0.,\n",
        "        0.,  0.,  0.,  0.,  0.,  0.,  0.,  0.,  0.,  0.,  0.,  0.,  0.,\n",
        "        0.,  0.,  0.,  0.,  0.,  0.,  0.,  0.,  0.,  0.,  0.,  0.,  0.,\n",
        "        0.,  0.,  0.,  0.,  0.,  0.,  0.,  0.,  0.,  0.,  0.,  0.,  0.,\n",
        "        0.,  0.,  0.,  0.,  0.,  0.,  0.,  0.,  0.,  0.,  0.,  0.,  0.,\n",
        "        0.,  0.,  0.,  0.,  0.,  0.,  0.,  0.,  0.,  0.,  0.,  0.,  0.,\n",
        "        0.,  0.,  0.,  0.,  0.,  0.,  0.,  0.,  0.,  0.,  0.,  0.,  0.,\n",
        "        0.,  0.,  0.,  0.,  0.,  0.,  0.,  0.,  0.,  0.,  0.,  0.,  0.,\n",
        "        0.,  0.,  0.,  0.,  0.,  0.,  0.,  0.,  0.,  0.,  0.,  0.,  0.,\n",
        "        0.,  0.,  0.,  0.,  0.,  0.,  0.,  0.,  0.,  0.,  0.,  0.,  0.,\n",
        "        0.,  0.,  0.,  0.,  0.,  0.,  0.,  0.,  0.,  0.,  0.,  0.,  0.,\n",
        "        0.,  0.,  0.,  0.,  0.,  0.,  0.,  0.,  0.,  0.,  0.,  0.,  0.,\n",
        "        0.,  0.,  0.,  0.,  0.,  0.,  0.,  0.,  0.,  0.,  0.,  0.,  0.,\n",
        "        0.,  0.,  0.,  0.,  0.,  0.,  0.,  0.,  0.,  0.,  0.,  0.,  0.,\n",
        "        0.,  0.,  0.,  0.,  0.,  0.,  0.,  0.,  0.,  0.,  0.,  0.,  0.,\n",
        "        0.,  0.,  0.,  0.,  0.,  0.,  0.,  0.,  0.,  0.,  0.,  0.,  0.,\n",
        "        0.,  0.,  0.,  0.,  0.,  0.,  0.,  0.,  0.,  0.,  0.,  0.,  0.,\n",
        "        0.,  0.,  0.,  0.,  0.,  0.,  0.,  0.,  0.,  0.,  0.,  0.,  0.,\n",
        "        0.,  0.,  0.,  0.,  0.,  0.,  0.,  0.,  0.,  0.,  0.,  0.,  0.,\n",
        "        0.,  0.,  0.,  0.,  0.,  0.,  0.,  0.,  0.,  0.,  0.,  0.,  0.,\n",
        "        0.,  0.,  0.,  0.,  0.,  0.,  0.,  0.,  0.,  0.,  0.,  0.,  0.,\n",
        "        0.,  0.,  0.,  0.,  0.,  0.,  0.,  0.,  0.,  0.,  0.,  0.,  0.,\n",
        "        0.,  0.,  0.,  0.,  0.,  0.,  0.,  0.,  0.,  0.,  0.,  0.,  0.,\n",
        "        0.,  0.,  0.,  0.,  0.,  0.,  0.,  0.,  0.,  0.,  0.,  0.,  0.,\n",
        "        0.,  0.,  0.,  0.,  0.,  0.,  0.,  0.,  0.,  0.,  0.,  0.,  0.,\n",
        "        0.,  0.,  0.,  0.,  0.,  0.,  0.,  0.,  0.,  0.,  0.,  0.,  0.,\n",
        "        0.,  0.,  0.,  0.,  0.,  0.,  0.,  0.,  0.,  0.,  0.,  0.,  0.,\n",
        "        0.,  0.,  0.,  0.,  0.,  0.,  0.,  0.,  0.,  0.,  0.,  0.,  0.,\n",
        "        0.,  0.,  0.,  0.,  0.,  0.,  0.,  0.,  0.,  0.,  0.,  0.,  0.,\n",
        "        0.,  0.,  0.,  0.,  0.,  0.,  0.,  0.,  0.,  0.,  0.,  0.,  0.,\n",
        "        0.,  0.,  0.,  0.,  0.,  0.,  0.,  0.,  0.,  0.,  0.,  0.,  0.,\n",
        "        0.,  0.,  0.,  0.,  0.,  0.,  0.,  0.,  0.,  0.,  0.,  0.,  0.,\n",
        "        0.,  0.,  0.,  0.,  0.,  0.,  0.,  0.,  0.,  0.,  0.,  0.,  0.,\n",
        "        0.,  0.,  0.,  0.,  0.,  0.,  0.,  0.,  0.,  0.,  0.,  0.,  0.,\n",
        "        0.,  0.,  0.,  0.,  0.,  0.,  0.,  0.,  0.,  0.,  0.,  0.,  0.,\n",
        "        0.,  0.,  0.,  0.,  0.,  0.,  0.,  0.,  0.,  0.,  0.,  0.,  0.,\n",
        "        0.,  0.,  0.,  0.,  0.,  0.,  0.,  0.,  0.,  0.,  0.,  0.,  0.,\n",
        "        0.,  0.,  0.,  0.,  0.,  0.,  0.,  0.,  0.,  0.,  0.,  0.,  0.,\n",
        "        0.,  0.,  0.,  0.,  0.,  0.,  0.,  0.,  0.,  0.,  0.,  0.,  0.,\n",
        "        0.,  0.,  0.,  0.,  0.,  0.,  0.,  0.,  0.,  0.,  0.,  0.,  0.,\n",
        "        0.,  0.,  0.,  0.,  0.,  0.,  0.,  0.,  0.,  0.,  0.,  0.,  0.,\n",
        "        0.,  0.,  0.,  0.,  0.,  0.,  0.,  0.,  0.,  0.,  0.,  0.,  0.,\n",
        "        0.,  0.,  0.,  0.,  0.,  0.,  0.,  0.,  0.,  0.,  0.,  0.,  0.,\n",
        "        0.,  0.,  0.,  0.,  0.,  0.,  0.,  0.,  0.,  0.,  0.,  0.,  0.,\n",
        "        0.,  0.,  0.,  0.,  0.,  0.,  0.,  0.,  0.,  0.,  0.,  0.,  0.,\n",
        "        0.,  0.,  0.,  0.,  0.,  0.,  0.,  0.,  0.,  0.,  0.,  0.,  0.,\n",
        "        0.,  0.,  0.,  0.,  0.,  0.,  0.,  0.,  0.,  0.,  0.,  0.,  0.,\n",
        "        0.,  0.,  0.,  0.,  0.,  0.,  0.,  0.,  0.,  0.,  0.,  0.,  0.,\n",
        "        0.,  0.,  0.,  0.,  0.,  0.,  0.,  0.,  0.,  0.,  0.,  0.,  0.,\n",
        "        0.,  0.,  0.,  0.,  0.,  0.,  0.,  0.,  0.,  0.,  0.,  0.,  0.,\n",
        "        0.,  0.,  0.,  0.,  0.,  0.,  0.,  0.,  0.,  0.,  0.,  0.,  0.,\n",
        "        0.,  0.,  0.,  0.,  0.,  0.,  0.,  0.,  0.,  0.,  0.,  0.,  0.,\n",
        "        0.,  0.,  0.,  0.,  0.,  0.,  0.,  0.,  0.,  0.,  0.,  0.,  0.,\n",
        "        0.,  0.,  0.,  0.,  0.,  0.,  0.,  0.,  0.,  0.,  0.,  0.,  0.,\n",
        "        0.,  0.,  0.,  0.,  0.,  0.,  0.,  0.,  0.,  0.,  0.,  0.,  0.,\n",
        "        0.,  0.,  0.,  0.,  0.,  0.,  0.,  0.,  0.,  0.,  0.,  0.,  0.,\n",
        "        0.,  0.,  0.,  0.,  0.,  0.,  0.,  0.,  0.,  0.,  0.,  0.,  0.,\n",
        "        0.,  0.,  0.,  0.,  0.,  0.,  0.,  0.,  0.,  0.,  0.,  0.,  0.,\n",
        "        0.,  0.,  0.,  0.,  0.,  0.,  0.,  0.,  0.,  0.,  0.,  0.,  0.,\n",
        "        0.,  0.,  0.,  0.,  0.,  0.,  0.,  0.,  0.,  0.,  0.,  0.,  0.,\n",
        "        0.,  0.,  0.,  0.,  0.,  0.,  0.,  0.,  0.,  0.,  0.,  0.,  0.,\n",
        "        0.,  0.,  0.,  0.,  0.,  0.,  0.,  0.,  0.,  0.,  0.,  0.,  0.,\n",
        "        0.,  0.,  0.,  0.,  0.,  0.,  0.,  0.,  0.,  0.,  0.,  0.,  0.,\n",
        "        0.,  0.,  0.,  0.,  0.,  0.,  0.,  0.,  0.,  0.,  0.,  0.,  0.,\n",
        "        0.,  0.,  0.,  0.,  0.,  0.,  0.,  0.,  0.,  0.,  0.,  0.,  0.,\n",
        "        0.,  0.,  0.,  0.,  0.,  0.,  0.,  0.,  0.,  0.,  0.,  0.,  0.,\n",
        "        0.,  0.,  0.,  0.,  0.,  0.,  0.,  0.,  0.,  0.,  0.,  0.,  0.,\n",
        "        0.,  0.,  0.,  0.,  0.,  0.,  0.,  0.,  0.,  0.,  0.,  0.,  0.,\n",
        "        0.,  0.,  0.,  0.,  0.,  0.,  0.,  0.,  0.,  0.,  0.,  0.,  0.,\n",
        "        0.,  0.,  0.,  0.,  0.,  0.,  0.,  0.,  0.,  0.,  0.,  0.,  0.,\n",
        "        0.,  0.,  0.,  0.,  0.,  0.,  0.,  0.,  0.,  0.,  0.,  0.,  0.,\n",
        "        0.,  0.,  0.,  0.,  0.,  0.,  0.,  0.,  0.,  0.,  0.,  0.,  0.,\n",
        "        0.,  0.,  0.,  0.,  0.,  0.,  0.,  0.,  0.,  0.,  0.,  0.,  0.,\n",
        "        0.,  0.,  0.,  0.,  0.,  0.,  0.,  0.,  0.,  0.,  0.,  0.,  0.,\n",
        "        0.,  0.,  0.,  0.,  0.,  0.,  0.,  0.,  0.,  0.,  0.,  0.,  0.,\n",
        "        0.,  0.,  0.,  0.,  0.,  0.,  0.,  0.,  0.,  0.,  0.,  0.,  0.,\n",
        "        0.,  0.,  0.,  0.,  0.,  0.,  0.,  0.,  0.,  0.,  0.,  0.])"
       ]
      }
     ],
     "prompt_number": 1150
    },
    {
     "cell_type": "code",
     "collapsed": false,
     "input": [],
     "language": "python",
     "metadata": {},
     "outputs": []
    }
   ],
   "metadata": {}
  }
 ]
}