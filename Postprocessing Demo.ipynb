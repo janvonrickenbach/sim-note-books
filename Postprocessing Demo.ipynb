{
 "metadata": {
  "name": "",
  "signature": "sha256:a34a66b8a4ca2b272af15c4ebd7298e27231fd2ee1cca31bae91f02c24d10a67"
 },
 "nbformat": 3,
 "nbformat_minor": 0,
 "worksheets": [
  {
   "cells": [
    {
     "cell_type": "code",
     "collapsed": false,
     "input": [
      "import os\n",
      "import glob as gl\n",
      "import simulation_brutus as sim_brutus\n",
      "import job_configurations as jc\n",
      "import matplotlib.pyplot as pl\n",
      "import pickle as pic\n",
      "import numpy as np\n",
      "\n",
      "import subprocess as sp\n",
      "import initial_condition_writer as ini\n",
      "import shutil as sh\n",
      "\n",
      "\n",
      "import para_reader as pa\n",
      "from IPython.display import Image,display\n",
      "%matplotlib inline"
     ],
     "language": "python",
     "metadata": {},
     "outputs": [],
     "prompt_number": 21
    },
    {
     "cell_type": "heading",
     "level": 2,
     "metadata": {},
     "source": [
      "Function to create a single simulation object, including initial condtions"
     ]
    },
    {
     "cell_type": "code",
     "collapsed": false,
     "input": [
      "def write_inital_conditions(folder,massfraction,velocity,temperature):\n",
      "\n",
      "    writer = ini.initalconditions_writer()\n",
      "    writer.add_variable(\"uvelocity\",velocity)\n",
      "    writer.add_variable(\"temperature\",temperature)\n",
      "    \n",
      "    for key,item in massfraction.iteritems():\n",
      "        writer.add_variable(var=\"component_molefraction\",value=item[0],index=item[1])\n",
      "        \n",
      "    writer.write_file(folder)"
     ],
     "language": "python",
     "metadata": {},
     "outputs": [],
     "prompt_number": 2
    },
    {
     "cell_type": "code",
     "collapsed": false,
     "input": [
      "def create_simulation(massfraction,velocity,temperature,washcoat_thickness,conjugate,res,folder,root_folder=\".\"):\n",
      "\n",
      "    ref_folder = \"/home/vonrickenbach/testcases_mb/kelvin_cell_final/cylinder_tests/reference_cases/cylinder_finite_with_ui\"\n",
      "    try:\n",
      "        sh.copytree(ref_folder,os.path.join(root_folder,folder))\n",
      "    \n",
      "    except:\n",
      "        print(\"directory exists\")\n",
      " \n",
      "    # Cluster configuration\n",
      "    config_sim = jc.configuration_brutus\n",
      "    config_sim[\"jobname\"] = folder\n",
      "    config_sim[\"root_folder\"] = root_folder\n",
      "    config_sim[\"cluster_scratch\"]='/cluster/scratch_xl/public/vjan/cylinder_tests'\n",
      "    simulation = sim_brutus.job(**config_sim)\n",
      "\n",
      "    # Change the grid and run the UI\n",
      "    sh.copy(os.path.join(os.path.join(root_folder,ref_folder),\"transat_mb.inp\"),os.path.join(root_folder,folder))\n",
      "    simulation.application.change_input(\"cornerpoint_number  101\",res,newline=\"cornerpoint_number \"+res +\"\\n\",filename=\"surf_reaction_kelvin.stt\")        \n",
      "    transatui_command = []\n",
      "    transatui_command.append(\"transatui.py\")\n",
      "    transatui_command.append(\"--Project=surf_reaction_kelvin.stt\")\n",
      "    transatui_command.append(\"--Graphics=bash\")\n",
      "    ui=sp.Popen(transatui_command,cwd=os.path.join(root_folder,folder),stdout=open(\"ui_output.out\",\"a\"))\n",
      "    ui.communicate() \n",
      "    \n",
      "    \n",
      "    # Write initial condtions\n",
      "    write_inital_conditions(os.path.join(root_folder,folder),massfraction,velocity,temperature)\n",
      "    \n",
      "    \n",
      "    # Change some inputs\n",
      "    simulation.application.change_input(\"data_format\",'\\\"paraview_cell\\\"')\n",
      "    simulation.application.change_input(\"compressible\",'.true.')\n",
      "    simulation.application.change_input(\"wc_thickness\",str(washcoat_thickness))\n",
      "    simulation.application.change_input(\"activate_chem_heat_src\",'.true.')\n",
      "    simulation.application.change_input(\"mf_subiter\",'2')\n",
      "    simulation.application.change_input(\"mfiterations\",'4')\n",
      "    simulation.application.change_input(\"surface_coverage\",'1.0',filename=\"properties.dat\")\n",
      "    simulation.application.change_input( \"nitnsimpl\",'50')\n",
      "\n",
      "    if conjugate:\n",
      "       simulation.application.change_input(\"temp_model\",'\\\"conjugate\\\"',filename=\"properties.dat\")\n",
      "       simulation.application.change_input(\"density\",'3500',filename=\"properties.dat\")\n",
      "       simulation.application.change_input(\"conductivity\",'25.6',filename=\"properties.dat\")\n",
      "       simulation.application.change_input(\"heatcapacity\",'795',filename=\"properties.dat\")\n",
      "       simulation.application.change_input(\"surface_coverage\",'1.0',filename=\"properties.dat\")\n",
      "\n",
      " \n",
      "    # Add some information. To be used later to post-process the simulation    \n",
      "    sim_info = {}\n",
      "    sim_info[\"wc_thickness\"] = washcoat_thickness\n",
      "    sim_info[\"temperature\"]  = temperature\n",
      "    sim_info[\"conjugate\"]  = conjugate\n",
      "    sim_info[\"res\"]  = res\n",
      "    simulation.sim_info = sim_info\n",
      "\n",
      "\n",
      "    return simulation"
     ],
     "language": "python",
     "metadata": {},
     "outputs": [],
     "prompt_number": 3
    },
    {
     "cell_type": "heading",
     "level": 2,
     "metadata": {},
     "source": [
      "Create a range of simulations"
     ]
    },
    {
     "cell_type": "code",
     "collapsed": false,
     "input": [
      "sim_list = []\n",
      "\n",
      "# Parameter ranges\n",
      "temperatures = [600,700]\n",
      "\n",
      "wc_thickness = [-1,0.00001,0.00002]\n",
      "\n",
      "massfraction = {}\n",
      "massfraction[\"C3H6\"] = [0.003, [0,0]]\n",
      "massfraction[\"O2\"]   = [0.1,   [0,1]] \n",
      "massfraction[\"CO2\"]  = [0.064, [0,2]]\n",
      "massfraction[\"H2O\"]  = [0.072, [0,3]]\n",
      "massfraction[\"N2\"]   = [0.76,  [0,4]]\n",
      "massfraction[\"CO\"]   = [0.003, [0,5]]\n",
      "\n",
      "resolutions = [\"33\"]\n",
      "\n",
      "velocity = 5\n",
      "root_folder = \"/home/vonrickenbach/testcases_mb/kelvin_cell_final/cylinder_tests/\"\n",
      "\n",
      "# Create the simulations\n",
      "for temp in temperatures:\n",
      "    for washcoat_thickness in wc_thickness:\n",
      "        for conjugate in [False]:\n",
      "            for res in resolutions:\n",
      "                folder = \"_\".join([str(temp),str(washcoat_thickness),\"conjugate-\"+str(conjugate),res])\n",
      "                sim_list.append(create_simulation(massfraction,velocity,temp,washcoat_thickness,conjugate,res,folder,root_folder=root_folder))"
     ],
     "language": "python",
     "metadata": {},
     "outputs": [
      {
       "output_type": "stream",
       "stream": "stdout",
       "text": [
        "directory exists\n",
        "mkdir: cannot create directory `/cluster/scratch_xl/public/vjan/cylinder_tests/600_-1_conjugate-False_33': File exists"
       ]
      },
      {
       "output_type": "stream",
       "stream": "stdout",
       "text": [
        "\n",
        "===============================================\n",
        "username        vjan                                    \n",
        "scratch         /cluster/scratch_xl/public/vjan/cylinder_tests\n",
        "host            brutus.ethz.ch                          \n",
        "ssh             vjan@brutus.ethz.ch:/cluster/scratch_xl/public/vjan/cylinder_tests/600_-1_conjugate-False_33\n",
        "dir             /cluster/scratch_xl/public/vjan/cylinder_tests/600_-1_conjugate-False_33\n",
        "project_name    surf_reaction_kelvin                    \n",
        "sim_folder      /home/vonrickenbach/testcases_mb/kelvin_cell_final/cylinder_tests/600_-1_conjugate-False_33\n",
        "jobname         600_-1_conjugate-False_33               \n",
        "===============================================\n",
        "directory exists"
       ]
      },
      {
       "output_type": "stream",
       "stream": "stdout",
       "text": [
        "\n",
        "mkdir: cannot create directory `/cluster/scratch_xl/public/vjan/cylinder_tests/600_1e-05_conjugate-False_33': File exists"
       ]
      },
      {
       "output_type": "stream",
       "stream": "stdout",
       "text": [
        "\n",
        "===============================================\n",
        "username        vjan                                    \n",
        "scratch         /cluster/scratch_xl/public/vjan/cylinder_tests\n",
        "host            brutus.ethz.ch                          \n",
        "ssh             vjan@brutus.ethz.ch:/cluster/scratch_xl/public/vjan/cylinder_tests/600_1e-05_conjugate-False_33\n",
        "dir             /cluster/scratch_xl/public/vjan/cylinder_tests/600_1e-05_conjugate-False_33\n",
        "project_name    surf_reaction_kelvin                    \n",
        "sim_folder      /home/vonrickenbach/testcases_mb/kelvin_cell_final/cylinder_tests/600_1e-05_conjugate-False_33\n",
        "jobname         600_1e-05_conjugate-False_33            \n",
        "===============================================\n",
        "directory exists"
       ]
      },
      {
       "output_type": "stream",
       "stream": "stdout",
       "text": [
        "\n",
        "mkdir: cannot create directory `/cluster/scratch_xl/public/vjan/cylinder_tests/600_2e-05_conjugate-False_33': File exists"
       ]
      },
      {
       "output_type": "stream",
       "stream": "stdout",
       "text": [
        "\n",
        "===============================================\n",
        "username        vjan                                    \n",
        "scratch         /cluster/scratch_xl/public/vjan/cylinder_tests\n",
        "host            brutus.ethz.ch                          \n",
        "ssh             vjan@brutus.ethz.ch:/cluster/scratch_xl/public/vjan/cylinder_tests/600_2e-05_conjugate-False_33\n",
        "dir             /cluster/scratch_xl/public/vjan/cylinder_tests/600_2e-05_conjugate-False_33\n",
        "project_name    surf_reaction_kelvin                    \n",
        "sim_folder      /home/vonrickenbach/testcases_mb/kelvin_cell_final/cylinder_tests/600_2e-05_conjugate-False_33\n",
        "jobname         600_2e-05_conjugate-False_33            \n",
        "===============================================\n",
        "directory exists"
       ]
      },
      {
       "output_type": "stream",
       "stream": "stdout",
       "text": [
        "\n",
        "mkdir: cannot create directory `/cluster/scratch_xl/public/vjan/cylinder_tests/700_-1_conjugate-False_33': File exists"
       ]
      },
      {
       "output_type": "stream",
       "stream": "stdout",
       "text": [
        "\n",
        "===============================================\n",
        "username        vjan                                    \n",
        "scratch         /cluster/scratch_xl/public/vjan/cylinder_tests\n",
        "host            brutus.ethz.ch                          \n",
        "ssh             vjan@brutus.ethz.ch:/cluster/scratch_xl/public/vjan/cylinder_tests/700_-1_conjugate-False_33\n",
        "dir             /cluster/scratch_xl/public/vjan/cylinder_tests/700_-1_conjugate-False_33\n",
        "project_name    surf_reaction_kelvin                    \n",
        "sim_folder      /home/vonrickenbach/testcases_mb/kelvin_cell_final/cylinder_tests/700_-1_conjugate-False_33\n",
        "jobname         700_-1_conjugate-False_33               \n",
        "===============================================\n",
        "directory exists"
       ]
      },
      {
       "output_type": "stream",
       "stream": "stdout",
       "text": [
        "\n",
        "mkdir: cannot create directory `/cluster/scratch_xl/public/vjan/cylinder_tests/700_1e-05_conjugate-False_33': File exists"
       ]
      },
      {
       "output_type": "stream",
       "stream": "stdout",
       "text": [
        "\n",
        "===============================================\n",
        "username        vjan                                    \n",
        "scratch         /cluster/scratch_xl/public/vjan/cylinder_tests\n",
        "host            brutus.ethz.ch                          \n",
        "ssh             vjan@brutus.ethz.ch:/cluster/scratch_xl/public/vjan/cylinder_tests/700_1e-05_conjugate-False_33\n",
        "dir             /cluster/scratch_xl/public/vjan/cylinder_tests/700_1e-05_conjugate-False_33\n",
        "project_name    surf_reaction_kelvin                    \n",
        "sim_folder      /home/vonrickenbach/testcases_mb/kelvin_cell_final/cylinder_tests/700_1e-05_conjugate-False_33\n",
        "jobname         700_1e-05_conjugate-False_33            \n",
        "===============================================\n",
        "directory exists"
       ]
      },
      {
       "output_type": "stream",
       "stream": "stdout",
       "text": [
        "\n",
        "mkdir: cannot create directory `/cluster/scratch_xl/public/vjan/cylinder_tests/700_2e-05_conjugate-False_33': File exists"
       ]
      },
      {
       "output_type": "stream",
       "stream": "stdout",
       "text": [
        "\n",
        "===============================================\n",
        "username        vjan                                    \n",
        "scratch         /cluster/scratch_xl/public/vjan/cylinder_tests\n",
        "host            brutus.ethz.ch                          \n",
        "ssh             vjan@brutus.ethz.ch:/cluster/scratch_xl/public/vjan/cylinder_tests/700_2e-05_conjugate-False_33\n",
        "dir             /cluster/scratch_xl/public/vjan/cylinder_tests/700_2e-05_conjugate-False_33\n",
        "project_name    surf_reaction_kelvin                    \n",
        "sim_folder      /home/vonrickenbach/testcases_mb/kelvin_cell_final/cylinder_tests/700_2e-05_conjugate-False_33\n",
        "jobname         700_2e-05_conjugate-False_33            \n",
        "===============================================\n"
       ]
      }
     ],
     "prompt_number": 39
    },
    {
     "cell_type": "heading",
     "level": 2,
     "metadata": {},
     "source": [
      "Run the simulations on the cluster"
     ]
    },
    {
     "cell_type": "code",
     "collapsed": false,
     "input": [
      "for sim in sim_list:\n",
      "   sim.sync_input()\n",
      "   sim.run_init(nproc=\"1\",memory=\"1024\",time='60') \n",
      "   sim.run_sim(nproc=\"4\",memory=\"1024\",time='480',njobs=1,restart=False,depend=True) \n"
     ],
     "language": "python",
     "metadata": {},
     "outputs": [
      {
       "output_type": "stream",
       "stream": "stdout",
       "text": [
        "===================================================\n",
        " Syncing Current Working Directory with Cluster \n",
        "===================================================\n",
        "---"
       ]
      },
      {
       "output_type": "stream",
       "stream": "stdout",
       "text": [
        "\n",
        "- transatdir  =/cluster/home/mavt/vjan/gfort_O3\n",
        "- ccompiler   =mpicc\n",
        "- cppcompiler =mpicxx\n",
        "- linker      =mpicc\n",
        "- precision   =dp\n",
        "- mode        =64bit\n",
        "---\n",
        "\n",
        "Folder /cluster/scratch_xl/public/vjan/cylinder_tests/600_-1_conjugate-False_33/.initialconditions exists already...\n",
        "Folder /cluster/scratch_xl/public/vjan/cylinder_tests/600_-1_conjugate-False_33/RESULT exists already...\n",
        "Converting Cantera input file\n",
        "\n",
        "------------------\n",
        "library container:\n",
        "------------------\n"
       ]
      },
      {
       "output_type": "stream",
       "stream": "stdout",
       "text": [
        "\n",
        "library: libtransatmbDP.a\n",
        "-> contains 0 file objects:\n",
        "\n",
        "library: libDnspcgDP.a\n",
        "-> contains 0 file objects:\n",
        "\n",
        "library: liblokiDP.a\n",
        "-> contains 0 file objects:\n",
        "\n",
        "library: libusrtoolsDP.a\n",
        "-> contains 0 file objects:\n",
        "\n",
        "\n",
        "includes:\n",
        "-> contains 40 file objects:\n",
        "   -> 39 h-files\n",
        "   -> 1 h90-file\n",
        "\n"
       ]
      },
      {
       "output_type": "stream",
       "stream": "stdout",
       "text": [
        "\n",
        "--------------------------\n",
        "dependency summary:\n",
        "--------------------------\n",
        "creating all dependencies took 0.0490660667419 s\n",
        "\n",
        "\n",
        "-> list: sourcelist\n",
        "        * 0 objects\n",
        "        * 0 object with dependencies found\n",
        "        * 0 dependency found\n",
        "\n",
        "-> list: includelist\n",
        "        * 40 objects\n",
        "        * 18 objects with dependencies found\n",
        "        * 29 dependencies found\n",
        "\n",
        "-> list: libextlist\n",
        "        * 3 objects\n",
        "        * 1 object with dependencies found\n",
        "        * 1 dependency found\n",
        "\n",
        "----------------------------\n",
        " Creating Makefile          \n",
        "----------------------------\n",
        "\n",
        "working    directory : /cluster/scratch_xl/public/vjan/cylinder_tests/600_-1_conjugate-False_33/.initialconditions\n",
        "executable directory : /cluster/scratch_xl/public/vjan/cylinder_tests/600_-1_conjugate-False_33\n",
        "executable name      : transatmbinitialDP\n",
        "\n",
        "Makefile created...\n",
        "\n",
        "\n",
        "----------------------------\n",
        " Building                   \n",
        "----------------------------\n",
        "\n",
        "change to subfolder: /cluster/scratch_xl/public/vjan/cylinder_tests/600_-1_conjugate-False_33/.initialconditions\n",
        "mpicxx -O3   -I\"../../../../../../home/mavt/vjan/gfort_O3/inc\" -c ../initialconditions.cxx -o ./initialconditionsDP.o"
       ]
      },
      {
       "output_type": "stream",
       "stream": "stdout",
       "text": [
        "\n"
       ]
      },
      {
       "output_type": "stream",
       "stream": "stdout",
       "text": [
        "\n",
        "mpicc  ../../../../../../home/mavt/vjan/gfort_O3/lib/userglobalDP.o ./initialconditionsDP.o ../../../../../../home/mavt/vjan/gfort_O3/lib/tmbinitDP.o    -L\"../../../../../../home/mavt/vjan/gfort_O3/lib\"  -ltransatmbDP -lDnspcgDP -llokiDP -lusrtoolsDP  -ltransatmbDP -lDnspcgDP -llokiDP -lusrtoolsDP -lstdc++ -L/cluster/home/mavt/vjan/petsc/petsc-3.2-p7_with_16_gfortran/lib  -lpetsc -lX11 -Wl,-rpath,/cluster/home/mavt/vjan/petsc/petsc-3.2-p7_with_16_gfortran/lib -lHYPRE -lmpi_cxx -lstdc++ -lpthread -lflapack -lfblas -L/cluster/apps/openmpi/1.6.1/x86_64/gcc_4.7.2/lib -L/cluster/apps/gcc/gcc472/lib64/gcc/x86_64-unknown-linux-gnu/4.7.2 -L/cluster/apps/gcc/gcc472/lib64 -ldl -lmpi -lopen-rte -lopen-pal -lrt -lnsl -lutil -lgcc_s -lpthread -lmpi_f90 -lmpi_f77 -lgfortran -lm -lgfortran -lm -lgfortran -lm -lgfortran -lm -lm -lm -lquadmath -lm -lmpi_cxx -lstdc++ -ldl -lmpi -lopen-rte -lopen-pal -lrt -lnsl -lutil -lgcc_s -lpthread -ldl  -L/cluster/home/mavt/vjan/petsc/petsc-3.2-p7_with_16_gfortran/lib  -lpetsc -lX11 -Wl,-rpath,/cluster/home/mavt/vjan/petsc/petsc-3.2-p7_with_16_gfortran/lib -lHYPRE -lmpi_cxx -lstdc++ -lpthread -lflapack -lfblas -L/cluster/apps/openmpi/1.6.1/x86_64/gcc_4.7.2/lib -L/cluster/apps/gcc/gcc472/lib64/gcc/x86_64-unknown-linux-gnu/4.7.2 -L/cluster/apps/gcc/gcc472/lib64 -ldl -lmpi -lopen-rte -lopen-pal -lrt -lnsl -lutil -lgcc_s -lpthread -lmpi_f90 -lmpi_f77 -lgfortran -lm -lgfortran -lm -lgfortran -lm -lgfortran -lm -lm -lm -lquadmath -lm -lmpi_cxx -lstdc++ -ldl -lmpi -lopen-rte -lopen-pal -lrt -lnsl -lutil -lgcc_s -lpthread -ldl  -lcantera  -o ../transatmbinitialDP\n"
       ]
      },
      {
       "output_type": "stream",
       "stream": "stdout",
       "text": [
        "\n",
        "\n",
        "done...\n",
        "\n",
        "===================================================\n",
        " Syncing Current Working Directory with Cluster \n",
        "===================================================\n",
        "bsub -n 1 -W 60 -R \"rusage[mem=1024]\" -J 600_-1_conjugate-False_33 -o std_out.log  mpirun ./transatmbinitialDP "
       ]
      },
      {
       "output_type": "stream",
       "stream": "stdout",
       "text": [
        "\n",
        "Job <52968472> is submitted to queue <pub.1h>."
       ]
      },
      {
       "output_type": "stream",
       "stream": "stdout",
       "text": [
        "\n",
        "MPI job.\n",
        "==================================================="
       ]
      },
      {
       "output_type": "stream",
       "stream": "stdout",
       "text": [
        "\n",
        " Syncing Current Working Directory with Cluster \n",
        "===================================================\n",
        "==================================================="
       ]
      },
      {
       "output_type": "stream",
       "stream": "stdout",
       "text": [
        "\n",
        " Syncing Current Working Directory with Cluster \n",
        "===================================================\n",
        "bsub -n 4 -W 480 -R \"rusage[mem=1024]\" -J 600_-1_conjugate-False_33 -o std_out.log -w \"ended(600_-1_conjugate-False_33)\" mpirun ./transatmbDP -pc_hypre_boomeramg_max_iter -pc_hypre_boomeramg_coarsen_type HMIS -pc_hypre_boomeramg_interp_type ext+i -pc_hypre_boomeramg_P_max 4 -pc_hypre_boomeramg_strong_treshold 0 -pc_hypre_boomeramg_agg_nl 2"
       ]
      },
      {
       "output_type": "stream",
       "stream": "stdout",
       "text": [
        "\n",
        "Job <52968482> is submitted to queue <pub.8h>."
       ]
      },
      {
       "output_type": "stream",
       "stream": "stdout",
       "text": [
        "\n",
        "MPI job.\n",
        "===================================================\n",
        " Syncing Current Working Directory with Cluster \n",
        "===================================================\n",
        "---"
       ]
      },
      {
       "output_type": "stream",
       "stream": "stdout",
       "text": [
        "\n",
        "- transatdir  =/cluster/home/mavt/vjan/gfort_O3\n",
        "- ccompiler   =mpicc\n",
        "- cppcompiler =mpicxx\n",
        "- linker      =mpicc\n",
        "- precision   =dp\n",
        "- mode        =64bit\n",
        "---\n",
        "\n",
        "Folder /cluster/scratch_xl/public/vjan/cylinder_tests/600_1e-05_conjugate-False_33/.initialconditions exists already...\n",
        "Creating folder /cluster/scratch_xl/public/vjan/cylinder_tests/600_1e-05_conjugate-False_33/RESULT\n",
        "Converting Cantera input file\n"
       ]
      },
      {
       "output_type": "stream",
       "stream": "stdout",
       "text": [
        "\n",
        "------------------\n",
        "library container:\n",
        "------------------\n",
        "\n",
        "library: libtransatmbDP.a\n",
        "-> contains 0 file objects:\n",
        "\n",
        "library: libDnspcgDP.a\n",
        "-> contains 0 file objects:\n",
        "\n",
        "library: liblokiDP.a\n",
        "-> contains 0 file objects:\n",
        "\n",
        "library: libusrtoolsDP.a\n",
        "-> contains 0 file objects:\n",
        "\n",
        "\n",
        "includes:\n",
        "-> contains 40 file objects:\n",
        "   -> 39 h-files\n",
        "   -> 1 h90-file\n",
        "\n"
       ]
      },
      {
       "output_type": "stream",
       "stream": "stdout",
       "text": [
        "\n",
        "--------------------------\n",
        "dependency summary:\n",
        "--------------------------\n",
        "creating all dependencies took 0.0474729537964 s\n",
        "\n",
        "\n",
        "-> list: sourcelist\n",
        "        * 0 objects\n",
        "        * 0 object with dependencies found\n",
        "        * 0 dependency found\n",
        "\n",
        "-> list: includelist\n",
        "        * 40 objects\n",
        "        * 18 objects with dependencies found\n",
        "        * 29 dependencies found\n",
        "\n",
        "-> list: libextlist\n",
        "        * 3 objects\n",
        "        * 1 object with dependencies found\n",
        "        * 1 dependency found\n",
        "\n",
        "----------------------------\n",
        " Creating Makefile          \n",
        "----------------------------\n",
        "\n",
        "working    directory : /cluster/scratch_xl/public/vjan/cylinder_tests/600_1e-05_conjugate-False_33/.initialconditions\n",
        "executable directory : /cluster/scratch_xl/public/vjan/cylinder_tests/600_1e-05_conjugate-False_33\n",
        "executable name      : transatmbinitialDP\n",
        "\n",
        "Makefile created...\n",
        "\n",
        "\n",
        "----------------------------\n",
        " Building                   \n",
        "----------------------------\n",
        "\n",
        "change to subfolder: /cluster/scratch_xl/public/vjan/cylinder_tests/600_1e-05_conjugate-False_33/.initialconditions\n",
        "mpicxx -O3   -I\"../../../../../../home/mavt/vjan/gfort_O3/inc\" -c ../initialconditions.cxx -o ./initialconditionsDP.o"
       ]
      },
      {
       "output_type": "stream",
       "stream": "stdout",
       "text": [
        "\n"
       ]
      },
      {
       "output_type": "stream",
       "stream": "stdout",
       "text": [
        "\n",
        "mpicc  ../../../../../../home/mavt/vjan/gfort_O3/lib/userglobalDP.o ./initialconditionsDP.o ../../../../../../home/mavt/vjan/gfort_O3/lib/tmbinitDP.o    -L\"../../../../../../home/mavt/vjan/gfort_O3/lib\"  -ltransatmbDP -lDnspcgDP -llokiDP -lusrtoolsDP  -ltransatmbDP -lDnspcgDP -llokiDP -lusrtoolsDP -lstdc++ -L/cluster/home/mavt/vjan/petsc/petsc-3.2-p7_with_16_gfortran/lib  -lpetsc -lX11 -Wl,-rpath,/cluster/home/mavt/vjan/petsc/petsc-3.2-p7_with_16_gfortran/lib -lHYPRE -lmpi_cxx -lstdc++ -lpthread -lflapack -lfblas -L/cluster/apps/openmpi/1.6.1/x86_64/gcc_4.7.2/lib -L/cluster/apps/gcc/gcc472/lib64/gcc/x86_64-unknown-linux-gnu/4.7.2 -L/cluster/apps/gcc/gcc472/lib64 -ldl -lmpi -lopen-rte -lopen-pal -lrt -lnsl -lutil -lgcc_s -lpthread -lmpi_f90 -lmpi_f77 -lgfortran -lm -lgfortran -lm -lgfortran -lm -lgfortran -lm -lm -lm -lquadmath -lm -lmpi_cxx -lstdc++ -ldl -lmpi -lopen-rte -lopen-pal -lrt -lnsl -lutil -lgcc_s -lpthread -ldl  -L/cluster/home/mavt/vjan/petsc/petsc-3.2-p7_with_16_gfortran/lib  -lpetsc -lX11 -Wl,-rpath,/cluster/home/mavt/vjan/petsc/petsc-3.2-p7_with_16_gfortran/lib -lHYPRE -lmpi_cxx -lstdc++ -lpthread -lflapack -lfblas -L/cluster/apps/openmpi/1.6.1/x86_64/gcc_4.7.2/lib -L/cluster/apps/gcc/gcc472/lib64/gcc/x86_64-unknown-linux-gnu/4.7.2 -L/cluster/apps/gcc/gcc472/lib64 -ldl -lmpi -lopen-rte -lopen-pal -lrt -lnsl -lutil -lgcc_s -lpthread -lmpi_f90 -lmpi_f77 -lgfortran -lm -lgfortran -lm -lgfortran -lm -lgfortran -lm -lm -lm -lquadmath -lm -lmpi_cxx -lstdc++ -ldl -lmpi -lopen-rte -lopen-pal -lrt -lnsl -lutil -lgcc_s -lpthread -ldl  -lcantera  -o ../transatmbinitialDP\n"
       ]
      },
      {
       "output_type": "stream",
       "stream": "stdout",
       "text": [
        "\n",
        "\n",
        "done...\n",
        "\n",
        "===================================================\n",
        " Syncing Current Working Directory with Cluster \n",
        "===================================================\n",
        "bsub -n 1 -W 60 -R \"rusage[mem=1024]\" -J 600_1e-05_conjugate-False_33 -o std_out.log  mpirun ./transatmbinitialDP "
       ]
      },
      {
       "output_type": "stream",
       "stream": "stdout",
       "text": [
        "\n",
        "Job <52968515> is submitted to queue <pub.1h>."
       ]
      },
      {
       "output_type": "stream",
       "stream": "stdout",
       "text": [
        "\n",
        "MPI job.\n",
        "==================================================="
       ]
      },
      {
       "output_type": "stream",
       "stream": "stdout",
       "text": [
        "\n",
        " Syncing Current Working Directory with Cluster \n",
        "===================================================\n",
        "==================================================="
       ]
      },
      {
       "output_type": "stream",
       "stream": "stdout",
       "text": [
        "\n",
        " Syncing Current Working Directory with Cluster \n",
        "===================================================\n",
        "bsub -n 4 -W 480 -R \"rusage[mem=1024]\" -J 600_1e-05_conjugate-False_33 -o std_out.log -w \"ended(600_1e-05_conjugate-False_33)\" mpirun ./transatmbDP -pc_hypre_boomeramg_max_iter -pc_hypre_boomeramg_coarsen_type HMIS -pc_hypre_boomeramg_interp_type ext+i -pc_hypre_boomeramg_P_max 4 -pc_hypre_boomeramg_strong_treshold 0 -pc_hypre_boomeramg_agg_nl 2"
       ]
      },
      {
       "output_type": "stream",
       "stream": "stdout",
       "text": [
        "\n",
        "Job <52968516> is submitted to queue <pub.8h>."
       ]
      },
      {
       "output_type": "stream",
       "stream": "stdout",
       "text": [
        "\n",
        "MPI job.\n",
        "===================================================\n",
        " Syncing Current Working Directory with Cluster \n",
        "===================================================\n",
        "---"
       ]
      },
      {
       "output_type": "stream",
       "stream": "stdout",
       "text": [
        "\n",
        "- transatdir  =/cluster/home/mavt/vjan/gfort_O3\n",
        "- ccompiler   =mpicc\n",
        "- cppcompiler =mpicxx\n",
        "- linker      =mpicc\n",
        "- precision   =dp\n",
        "- mode        =64bit\n",
        "---\n",
        "\n",
        "Folder /cluster/scratch_xl/public/vjan/cylinder_tests/600_2e-05_conjugate-False_33/.initialconditions exists already...\n",
        "Folder /cluster/scratch_xl/public/vjan/cylinder_tests/600_2e-05_conjugate-False_33/RESULT exists already...\n",
        "Converting Cantera input file\n"
       ]
      },
      {
       "output_type": "stream",
       "stream": "stdout",
       "text": [
        "\n",
        "------------------\n",
        "library container:\n",
        "------------------\n",
        "\n",
        "library: libtransatmbDP.a\n",
        "-> contains 0 file objects:\n",
        "\n",
        "library: libDnspcgDP.a\n",
        "-> contains 0 file objects:\n",
        "\n",
        "library: liblokiDP.a\n",
        "-> contains 0 file objects:\n",
        "\n",
        "library: libusrtoolsDP.a\n",
        "-> contains 0 file objects:\n",
        "\n",
        "\n",
        "includes:\n",
        "-> contains 40 file objects:\n",
        "   -> 39 h-files\n",
        "   -> 1 h90-file\n",
        "\n",
        "\n",
        "--------------------------\n",
        "dependency summary:\n",
        "--------------------------\n",
        "creating all dependencies took 0.0421829223633 s\n",
        "\n",
        "\n",
        "-> list: sourcelist\n",
        "        * 0 objects\n",
        "        * 0 object with dependencies found\n",
        "        * 0 dependency found\n",
        "\n",
        "-> list: includelist\n",
        "        * 40 objects\n",
        "        * 18 objects with dependencies found\n",
        "        * 29 dependencies found\n",
        "\n",
        "-> list: libextlist\n",
        "        * 3 objects\n",
        "        * 1 object with dependencies found\n",
        "        * 1 dependency found\n",
        "\n",
        "----------------------------\n",
        " Creating Makefile          \n",
        "----------------------------\n",
        "\n",
        "working    directory : /cluster/scratch_xl/public/vjan/cylinder_tests/600_2e-05_conjugate-False_33/.initialconditions\n",
        "executable directory : /cluster/scratch_xl/public/vjan/cylinder_tests/600_2e-05_conjugate-False_33\n",
        "executable name      : transatmbinitialDP\n",
        "\n",
        "Makefile created..."
       ]
      },
      {
       "output_type": "stream",
       "stream": "stdout",
       "text": [
        "\n",
        "\n",
        "\n",
        "----------------------------\n",
        " Building                   \n",
        "----------------------------\n",
        "\n",
        "change to subfolder: /cluster/scratch_xl/public/vjan/cylinder_tests/600_2e-05_conjugate-False_33/.initialconditions\n",
        "mpicxx -O3   -I\"../../../../../../home/mavt/vjan/gfort_O3/inc\" -c ../initialconditions.cxx -o ./initialconditionsDP.o\n"
       ]
      },
      {
       "output_type": "stream",
       "stream": "stdout",
       "text": [
        "\n",
        "mpicc  ../../../../../../home/mavt/vjan/gfort_O3/lib/userglobalDP.o ./initialconditionsDP.o ../../../../../../home/mavt/vjan/gfort_O3/lib/tmbinitDP.o    -L\"../../../../../../home/mavt/vjan/gfort_O3/lib\"  -ltransatmbDP -lDnspcgDP -llokiDP -lusrtoolsDP  -ltransatmbDP -lDnspcgDP -llokiDP -lusrtoolsDP -lstdc++ -L/cluster/home/mavt/vjan/petsc/petsc-3.2-p7_with_16_gfortran/lib  -lpetsc -lX11 -Wl,-rpath,/cluster/home/mavt/vjan/petsc/petsc-3.2-p7_with_16_gfortran/lib -lHYPRE -lmpi_cxx -lstdc++ -lpthread -lflapack -lfblas -L/cluster/apps/openmpi/1.6.1/x86_64/gcc_4.7.2/lib -L/cluster/apps/gcc/gcc472/lib64/gcc/x86_64-unknown-linux-gnu/4.7.2 -L/cluster/apps/gcc/gcc472/lib64 -ldl -lmpi -lopen-rte -lopen-pal -lrt -lnsl -lutil -lgcc_s -lpthread -lmpi_f90 -lmpi_f77 -lgfortran -lm -lgfortran -lm -lgfortran -lm -lgfortran -lm -lm -lm -lquadmath -lm -lmpi_cxx -lstdc++ -ldl -lmpi -lopen-rte -lopen-pal -lrt -lnsl -lutil -lgcc_s -lpthread -ldl  -L/cluster/home/mavt/vjan/petsc/petsc-3.2-p7_with_16_gfortran/lib  -lpetsc -lX11 -Wl,-rpath,/cluster/home/mavt/vjan/petsc/petsc-3.2-p7_with_16_gfortran/lib -lHYPRE -lmpi_cxx -lstdc++ -lpthread -lflapack -lfblas -L/cluster/apps/openmpi/1.6.1/x86_64/gcc_4.7.2/lib -L/cluster/apps/gcc/gcc472/lib64/gcc/x86_64-unknown-linux-gnu/4.7.2 -L/cluster/apps/gcc/gcc472/lib64 -ldl -lmpi -lopen-rte -lopen-pal -lrt -lnsl -lutil -lgcc_s -lpthread -lmpi_f90 -lmpi_f77 -lgfortran -lm -lgfortran -lm -lgfortran -lm -lgfortran -lm -lm -lm -lquadmath -lm -lmpi_cxx -lstdc++ -ldl -lmpi -lopen-rte -lopen-pal -lrt -lnsl -lutil -lgcc_s -lpthread -ldl  -lcantera  -o ../transatmbinitialDP\n"
       ]
      },
      {
       "output_type": "stream",
       "stream": "stdout",
       "text": [
        "\n",
        "\n",
        "done...\n",
        "\n",
        "===================================================\n",
        " Syncing Current Working Directory with Cluster \n",
        "===================================================\n",
        "bsub -n 1 -W 60 -R \"rusage[mem=1024]\" -J 600_2e-05_conjugate-False_33 -o std_out.log  mpirun ./transatmbinitialDP "
       ]
      },
      {
       "output_type": "stream",
       "stream": "stdout",
       "text": [
        "\n",
        "Job <52968528> is submitted to queue <pub.1h>."
       ]
      },
      {
       "output_type": "stream",
       "stream": "stdout",
       "text": [
        "\n",
        "MPI job.\n",
        "==================================================="
       ]
      },
      {
       "output_type": "stream",
       "stream": "stdout",
       "text": [
        "\n",
        " Syncing Current Working Directory with Cluster \n",
        "===================================================\n",
        "==================================================="
       ]
      },
      {
       "output_type": "stream",
       "stream": "stdout",
       "text": [
        "\n",
        " Syncing Current Working Directory with Cluster \n",
        "===================================================\n",
        "bsub -n 4 -W 480 -R \"rusage[mem=1024]\" -J 600_2e-05_conjugate-False_33 -o std_out.log -w \"ended(600_2e-05_conjugate-False_33)\" mpirun ./transatmbDP -pc_hypre_boomeramg_max_iter -pc_hypre_boomeramg_coarsen_type HMIS -pc_hypre_boomeramg_interp_type ext+i -pc_hypre_boomeramg_P_max 4 -pc_hypre_boomeramg_strong_treshold 0 -pc_hypre_boomeramg_agg_nl 2"
       ]
      },
      {
       "output_type": "stream",
       "stream": "stdout",
       "text": [
        "\n",
        "Job <52968529> is submitted to queue <pub.8h>."
       ]
      },
      {
       "output_type": "stream",
       "stream": "stdout",
       "text": [
        "\n",
        "MPI job.\n",
        "===================================================\n",
        " Syncing Current Working Directory with Cluster \n",
        "===================================================\n",
        "---"
       ]
      },
      {
       "output_type": "stream",
       "stream": "stdout",
       "text": [
        "\n",
        "- transatdir  =/cluster/home/mavt/vjan/gfort_O3\n",
        "- ccompiler   =mpicc\n",
        "- cppcompiler =mpicxx\n",
        "- linker      =mpicc\n",
        "- precision   =dp\n",
        "- mode        =64bit\n",
        "---\n",
        "\n",
        "Folder /cluster/scratch_xl/public/vjan/cylinder_tests/700_-1_conjugate-False_33/.initialconditions exists already...\n",
        "Folder /cluster/scratch_xl/public/vjan/cylinder_tests/700_-1_conjugate-False_33/RESULT exists already...\n",
        "Converting Cantera input file\n"
       ]
      },
      {
       "output_type": "stream",
       "stream": "stdout",
       "text": [
        "\n",
        "------------------\n",
        "library container:\n",
        "------------------\n",
        "\n",
        "library: libtransatmbDP.a\n",
        "-> contains 0 file objects:\n",
        "\n",
        "library: libDnspcgDP.a\n",
        "-> contains 0 file objects:\n",
        "\n",
        "library: liblokiDP.a\n",
        "-> contains 0 file objects:\n",
        "\n",
        "library: libusrtoolsDP.a\n",
        "-> contains 0 file objects:\n",
        "\n",
        "\n",
        "includes:\n",
        "-> contains 40 file objects:\n",
        "   -> 39 h-files\n",
        "   -> 1 h90-file\n",
        "\n"
       ]
      },
      {
       "output_type": "stream",
       "stream": "stdout",
       "text": [
        "\n",
        "--------------------------\n",
        "dependency summary:\n",
        "--------------------------\n",
        "creating all dependencies took 0.0543210506439 s\n",
        "\n",
        "\n",
        "-> list: sourcelist\n",
        "        * 0 objects\n",
        "        * 0 object with dependencies found\n",
        "        * 0 dependency found\n",
        "\n",
        "-> list: includelist\n",
        "        * 40 objects\n",
        "        * 18 objects with dependencies found\n",
        "        * 29 dependencies found\n",
        "\n",
        "-> list: libextlist\n",
        "        * 3 objects\n",
        "        * 1 object with dependencies found\n",
        "        * 1 dependency found\n",
        "\n",
        "----------------------------\n",
        " Creating Makefile          \n",
        "----------------------------\n",
        "\n",
        "working    directory : /cluster/scratch_xl/public/vjan/cylinder_tests/700_-1_conjugate-False_33/.initialconditions\n",
        "executable directory : /cluster/scratch_xl/public/vjan/cylinder_tests/700_-1_conjugate-False_33\n",
        "executable name      : transatmbinitialDP\n",
        "\n",
        "Makefile created...\n",
        "\n",
        "\n",
        "----------------------------\n",
        " Building                   \n",
        "----------------------------\n",
        "\n",
        "change to subfolder: /cluster/scratch_xl/public/vjan/cylinder_tests/700_-1_conjugate-False_33/.initialconditions\n",
        "mpicxx -O3   -I\"../../../../../../home/mavt/vjan/gfort_O3/inc\" -c ../initialconditions.cxx -o ./initialconditionsDP.o"
       ]
      },
      {
       "output_type": "stream",
       "stream": "stdout",
       "text": [
        "\n"
       ]
      },
      {
       "output_type": "stream",
       "stream": "stdout",
       "text": [
        "\n",
        "mpicc  ../../../../../../home/mavt/vjan/gfort_O3/lib/userglobalDP.o ./initialconditionsDP.o ../../../../../../home/mavt/vjan/gfort_O3/lib/tmbinitDP.o    -L\"../../../../../../home/mavt/vjan/gfort_O3/lib\"  -ltransatmbDP -lDnspcgDP -llokiDP -lusrtoolsDP  -ltransatmbDP -lDnspcgDP -llokiDP -lusrtoolsDP -lstdc++ -L/cluster/home/mavt/vjan/petsc/petsc-3.2-p7_with_16_gfortran/lib  -lpetsc -lX11 -Wl,-rpath,/cluster/home/mavt/vjan/petsc/petsc-3.2-p7_with_16_gfortran/lib -lHYPRE -lmpi_cxx -lstdc++ -lpthread -lflapack -lfblas -L/cluster/apps/openmpi/1.6.1/x86_64/gcc_4.7.2/lib -L/cluster/apps/gcc/gcc472/lib64/gcc/x86_64-unknown-linux-gnu/4.7.2 -L/cluster/apps/gcc/gcc472/lib64 -ldl -lmpi -lopen-rte -lopen-pal -lrt -lnsl -lutil -lgcc_s -lpthread -lmpi_f90 -lmpi_f77 -lgfortran -lm -lgfortran -lm -lgfortran -lm -lgfortran -lm -lm -lm -lquadmath -lm -lmpi_cxx -lstdc++ -ldl -lmpi -lopen-rte -lopen-pal -lrt -lnsl -lutil -lgcc_s -lpthread -ldl  -L/cluster/home/mavt/vjan/petsc/petsc-3.2-p7_with_16_gfortran/lib  -lpetsc -lX11 -Wl,-rpath,/cluster/home/mavt/vjan/petsc/petsc-3.2-p7_with_16_gfortran/lib -lHYPRE -lmpi_cxx -lstdc++ -lpthread -lflapack -lfblas -L/cluster/apps/openmpi/1.6.1/x86_64/gcc_4.7.2/lib -L/cluster/apps/gcc/gcc472/lib64/gcc/x86_64-unknown-linux-gnu/4.7.2 -L/cluster/apps/gcc/gcc472/lib64 -ldl -lmpi -lopen-rte -lopen-pal -lrt -lnsl -lutil -lgcc_s -lpthread -lmpi_f90 -lmpi_f77 -lgfortran -lm -lgfortran -lm -lgfortran -lm -lgfortran -lm -lm -lm -lquadmath -lm -lmpi_cxx -lstdc++ -ldl -lmpi -lopen-rte -lopen-pal -lrt -lnsl -lutil -lgcc_s -lpthread -ldl  -lcantera  -o ../transatmbinitialDP\n"
       ]
      },
      {
       "output_type": "stream",
       "stream": "stdout",
       "text": [
        "\n",
        "\n",
        "done...\n",
        "\n",
        "===================================================\n",
        " Syncing Current Working Directory with Cluster \n",
        "===================================================\n",
        "bsub -n 1 -W 60 -R \"rusage[mem=1024]\" -J 700_-1_conjugate-False_33 -o std_out.log  mpirun ./transatmbinitialDP "
       ]
      },
      {
       "output_type": "stream",
       "stream": "stdout",
       "text": [
        "\n",
        "Job <52968559> is submitted to queue <pub.1h>."
       ]
      },
      {
       "output_type": "stream",
       "stream": "stdout",
       "text": [
        "\n",
        "MPI job.\n",
        "==================================================="
       ]
      },
      {
       "output_type": "stream",
       "stream": "stdout",
       "text": [
        "\n",
        " Syncing Current Working Directory with Cluster \n",
        "===================================================\n",
        "==================================================="
       ]
      },
      {
       "output_type": "stream",
       "stream": "stdout",
       "text": [
        "\n",
        " Syncing Current Working Directory with Cluster \n",
        "===================================================\n",
        "bsub -n 4 -W 480 -R \"rusage[mem=1024]\" -J 700_-1_conjugate-False_33 -o std_out.log -w \"ended(700_-1_conjugate-False_33)\" mpirun ./transatmbDP -pc_hypre_boomeramg_max_iter -pc_hypre_boomeramg_coarsen_type HMIS -pc_hypre_boomeramg_interp_type ext+i -pc_hypre_boomeramg_P_max 4 -pc_hypre_boomeramg_strong_treshold 0 -pc_hypre_boomeramg_agg_nl 2"
       ]
      },
      {
       "output_type": "stream",
       "stream": "stdout",
       "text": [
        "\n",
        "Job <52968561> is submitted to queue <pub.8h>."
       ]
      },
      {
       "output_type": "stream",
       "stream": "stdout",
       "text": [
        "\n",
        "MPI job.\n",
        "===================================================\n",
        " Syncing Current Working Directory with Cluster \n",
        "===================================================\n",
        "---"
       ]
      },
      {
       "output_type": "stream",
       "stream": "stdout",
       "text": [
        "\n",
        "- transatdir  =/cluster/home/mavt/vjan/gfort_O3\n",
        "- ccompiler   =mpicc\n",
        "- cppcompiler =mpicxx\n",
        "- linker      =mpicc\n",
        "- precision   =dp\n",
        "- mode        =64bit\n",
        "---\n",
        "\n",
        "Folder /cluster/scratch_xl/public/vjan/cylinder_tests/700_1e-05_conjugate-False_33/.initialconditions exists already...\n",
        "Creating folder /cluster/scratch_xl/public/vjan/cylinder_tests/700_1e-05_conjugate-False_33/RESULT\n",
        "Converting Cantera input file\n",
        "\n",
        "------------------\n",
        "library container:\n",
        "------------------\n",
        "\n",
        "library: libtransatmbDP.a\n",
        "-> contains 0 file objects:\n",
        "\n",
        "library: libDnspcgDP.a\n",
        "-> contains 0 file objects:\n",
        "\n",
        "library: liblokiDP.a\n",
        "-> contains 0 file objects:\n",
        "\n",
        "library: libusrtoolsDP.a\n",
        "-> contains 0 file objects:\n",
        "\n",
        "\n",
        "includes:\n",
        "-> contains 40 file objects:\n",
        "   -> 39 h-files\n",
        "   -> 1 h90-file\n",
        "\n"
       ]
      },
      {
       "output_type": "stream",
       "stream": "stdout",
       "text": [
        "\n",
        "--------------------------\n",
        "dependency summary:\n",
        "--------------------------\n",
        "creating all dependencies took 0.0535969734192 s\n",
        "\n",
        "\n",
        "-> list: sourcelist\n",
        "        * 0 objects\n",
        "        * 0 object with dependencies found\n",
        "        * 0 dependency found\n",
        "\n",
        "-> list: includelist\n",
        "        * 40 objects\n",
        "        * 18 objects with dependencies found\n",
        "        * 29 dependencies found\n",
        "\n",
        "-> list: libextlist\n",
        "        * 3 objects\n",
        "        * 1 object with dependencies found\n",
        "        * 1 dependency found\n",
        "\n",
        "----------------------------\n",
        " Creating Makefile          \n",
        "----------------------------\n",
        "\n",
        "working    directory : /cluster/scratch_xl/public/vjan/cylinder_tests/700_1e-05_conjugate-False_33/.initialconditions\n",
        "executable directory : /cluster/scratch_xl/public/vjan/cylinder_tests/700_1e-05_conjugate-False_33\n",
        "executable name      : transatmbinitialDP\n",
        "\n",
        "Makefile created...\n",
        "\n",
        "\n",
        "----------------------------\n",
        " Building                   \n",
        "----------------------------\n",
        "\n",
        "change to subfolder: /cluster/scratch_xl/public/vjan/cylinder_tests/700_1e-05_conjugate-False_33/.initialconditions\n",
        "mpicxx -O3   -I\"../../../../../../home/mavt/vjan/gfort_O3/inc\" -c ../initialconditions.cxx -o ./initialconditionsDP.o"
       ]
      },
      {
       "output_type": "stream",
       "stream": "stdout",
       "text": [
        "\n"
       ]
      },
      {
       "output_type": "stream",
       "stream": "stdout",
       "text": [
        "\n",
        "mpicc  ../../../../../../home/mavt/vjan/gfort_O3/lib/userglobalDP.o ./initialconditionsDP.o ../../../../../../home/mavt/vjan/gfort_O3/lib/tmbinitDP.o    -L\"../../../../../../home/mavt/vjan/gfort_O3/lib\"  -ltransatmbDP -lDnspcgDP -llokiDP -lusrtoolsDP  -ltransatmbDP -lDnspcgDP -llokiDP -lusrtoolsDP -lstdc++ -L/cluster/home/mavt/vjan/petsc/petsc-3.2-p7_with_16_gfortran/lib  -lpetsc -lX11 -Wl,-rpath,/cluster/home/mavt/vjan/petsc/petsc-3.2-p7_with_16_gfortran/lib -lHYPRE -lmpi_cxx -lstdc++ -lpthread -lflapack -lfblas -L/cluster/apps/openmpi/1.6.1/x86_64/gcc_4.7.2/lib -L/cluster/apps/gcc/gcc472/lib64/gcc/x86_64-unknown-linux-gnu/4.7.2 -L/cluster/apps/gcc/gcc472/lib64 -ldl -lmpi -lopen-rte -lopen-pal -lrt -lnsl -lutil -lgcc_s -lpthread -lmpi_f90 -lmpi_f77 -lgfortran -lm -lgfortran -lm -lgfortran -lm -lgfortran -lm -lm -lm -lquadmath -lm -lmpi_cxx -lstdc++ -ldl -lmpi -lopen-rte -lopen-pal -lrt -lnsl -lutil -lgcc_s -lpthread -ldl  -L/cluster/home/mavt/vjan/petsc/petsc-3.2-p7_with_16_gfortran/lib  -lpetsc -lX11 -Wl,-rpath,/cluster/home/mavt/vjan/petsc/petsc-3.2-p7_with_16_gfortran/lib -lHYPRE -lmpi_cxx -lstdc++ -lpthread -lflapack -lfblas -L/cluster/apps/openmpi/1.6.1/x86_64/gcc_4.7.2/lib -L/cluster/apps/gcc/gcc472/lib64/gcc/x86_64-unknown-linux-gnu/4.7.2 -L/cluster/apps/gcc/gcc472/lib64 -ldl -lmpi -lopen-rte -lopen-pal -lrt -lnsl -lutil -lgcc_s -lpthread -lmpi_f90 -lmpi_f77 -lgfortran -lm -lgfortran -lm -lgfortran -lm -lgfortran -lm -lm -lm -lquadmath -lm -lmpi_cxx -lstdc++ -ldl -lmpi -lopen-rte -lopen-pal -lrt -lnsl -lutil -lgcc_s -lpthread -ldl  -lcantera  -o ../transatmbinitialDP\n"
       ]
      },
      {
       "output_type": "stream",
       "stream": "stdout",
       "text": [
        "\n",
        "\n",
        "done...\n",
        "\n",
        "===================================================\n",
        " Syncing Current Working Directory with Cluster \n",
        "===================================================\n",
        "bsub -n 1 -W 60 -R \"rusage[mem=1024]\" -J 700_1e-05_conjugate-False_33 -o std_out.log  mpirun ./transatmbinitialDP "
       ]
      },
      {
       "output_type": "stream",
       "stream": "stdout",
       "text": [
        "\n",
        "Job <52968567> is submitted to queue <pub.1h>."
       ]
      },
      {
       "output_type": "stream",
       "stream": "stdout",
       "text": [
        "\n",
        "MPI job.\n",
        "==================================================="
       ]
      },
      {
       "output_type": "stream",
       "stream": "stdout",
       "text": [
        "\n",
        " Syncing Current Working Directory with Cluster \n",
        "===================================================\n",
        "==================================================="
       ]
      },
      {
       "output_type": "stream",
       "stream": "stdout",
       "text": [
        "\n",
        " Syncing Current Working Directory with Cluster \n",
        "===================================================\n",
        "bsub -n 4 -W 480 -R \"rusage[mem=1024]\" -J 700_1e-05_conjugate-False_33 -o std_out.log -w \"ended(700_1e-05_conjugate-False_33)\" mpirun ./transatmbDP -pc_hypre_boomeramg_max_iter -pc_hypre_boomeramg_coarsen_type HMIS -pc_hypre_boomeramg_interp_type ext+i -pc_hypre_boomeramg_P_max 4 -pc_hypre_boomeramg_strong_treshold 0 -pc_hypre_boomeramg_agg_nl 2"
       ]
      },
      {
       "output_type": "stream",
       "stream": "stdout",
       "text": [
        "\n",
        "Job <52968568> is submitted to queue <pub.8h>."
       ]
      },
      {
       "output_type": "stream",
       "stream": "stdout",
       "text": [
        "\n",
        "MPI job.\n",
        "===================================================\n",
        " Syncing Current Working Directory with Cluster \n",
        "===================================================\n",
        "---"
       ]
      },
      {
       "output_type": "stream",
       "stream": "stdout",
       "text": [
        "\n",
        "- transatdir  =/cluster/home/mavt/vjan/gfort_O3\n",
        "- ccompiler   =mpicc\n",
        "- cppcompiler =mpicxx\n",
        "- linker      =mpicc\n",
        "- precision   =dp\n",
        "- mode        =64bit\n",
        "---\n",
        "\n",
        "Folder /cluster/scratch_xl/public/vjan/cylinder_tests/700_2e-05_conjugate-False_33/.initialconditions exists already...\n",
        "Folder /cluster/scratch_xl/public/vjan/cylinder_tests/700_2e-05_conjugate-False_33/RESULT exists already...\n",
        "Converting Cantera input file\n"
       ]
      },
      {
       "output_type": "stream",
       "stream": "stdout",
       "text": [
        "\n",
        "------------------\n",
        "library container:\n",
        "------------------\n",
        "\n",
        "library: libtransatmbDP.a\n",
        "-> contains 0 file objects:\n",
        "\n",
        "library: libDnspcgDP.a\n",
        "-> contains 0 file objects:\n",
        "\n",
        "library: liblokiDP.a\n",
        "-> contains 0 file objects:\n",
        "\n",
        "library: libusrtoolsDP.a\n",
        "-> contains 0 file objects:\n",
        "\n",
        "\n",
        "includes:\n",
        "-> contains 40 file objects:\n",
        "   -> 39 h-files\n",
        "   -> 1 h90-file\n",
        "\n"
       ]
      },
      {
       "output_type": "stream",
       "stream": "stdout",
       "text": [
        "\n",
        "--------------------------\n",
        "dependency summary:\n",
        "--------------------------\n",
        "creating all dependencies took 0.0613222122192 s\n",
        "\n",
        "\n",
        "-> list: sourcelist\n",
        "        * 0 objects\n",
        "        * 0 object with dependencies found\n",
        "        * 0 dependency found\n",
        "\n",
        "-> list: includelist\n",
        "        * 40 objects\n",
        "        * 18 objects with dependencies found\n",
        "        * 29 dependencies found\n",
        "\n",
        "-> list: libextlist\n",
        "        * 3 objects\n",
        "        * 1 object with dependencies found\n",
        "        * 1 dependency found\n",
        "\n",
        "----------------------------\n",
        " Creating Makefile          \n",
        "----------------------------\n",
        "\n",
        "working    directory : /cluster/scratch_xl/public/vjan/cylinder_tests/700_2e-05_conjugate-False_33/.initialconditions\n",
        "executable directory : /cluster/scratch_xl/public/vjan/cylinder_tests/700_2e-05_conjugate-False_33\n",
        "executable name      : transatmbinitialDP\n",
        "\n",
        "Makefile created...\n",
        "\n",
        "\n",
        "----------------------------\n",
        " Building                   \n",
        "----------------------------\n",
        "\n",
        "change to subfolder: /cluster/scratch_xl/public/vjan/cylinder_tests/700_2e-05_conjugate-False_33/.initialconditions\n",
        "mpicxx -O3   -I\"../../../../../../home/mavt/vjan/gfort_O3/inc\" -c ../initialconditions.cxx -o ./initialconditionsDP.o"
       ]
      },
      {
       "output_type": "stream",
       "stream": "stdout",
       "text": [
        "\n"
       ]
      },
      {
       "output_type": "stream",
       "stream": "stdout",
       "text": [
        "\n",
        "mpicc  ../../../../../../home/mavt/vjan/gfort_O3/lib/userglobalDP.o ./initialconditionsDP.o ../../../../../../home/mavt/vjan/gfort_O3/lib/tmbinitDP.o    -L\"../../../../../../home/mavt/vjan/gfort_O3/lib\"  -ltransatmbDP -lDnspcgDP -llokiDP -lusrtoolsDP  -ltransatmbDP -lDnspcgDP -llokiDP -lusrtoolsDP -lstdc++ -L/cluster/home/mavt/vjan/petsc/petsc-3.2-p7_with_16_gfortran/lib  -lpetsc -lX11 -Wl,-rpath,/cluster/home/mavt/vjan/petsc/petsc-3.2-p7_with_16_gfortran/lib -lHYPRE -lmpi_cxx -lstdc++ -lpthread -lflapack -lfblas -L/cluster/apps/openmpi/1.6.1/x86_64/gcc_4.7.2/lib -L/cluster/apps/gcc/gcc472/lib64/gcc/x86_64-unknown-linux-gnu/4.7.2 -L/cluster/apps/gcc/gcc472/lib64 -ldl -lmpi -lopen-rte -lopen-pal -lrt -lnsl -lutil -lgcc_s -lpthread -lmpi_f90 -lmpi_f77 -lgfortran -lm -lgfortran -lm -lgfortran -lm -lgfortran -lm -lm -lm -lquadmath -lm -lmpi_cxx -lstdc++ -ldl -lmpi -lopen-rte -lopen-pal -lrt -lnsl -lutil -lgcc_s -lpthread -ldl  -L/cluster/home/mavt/vjan/petsc/petsc-3.2-p7_with_16_gfortran/lib  -lpetsc -lX11 -Wl,-rpath,/cluster/home/mavt/vjan/petsc/petsc-3.2-p7_with_16_gfortran/lib -lHYPRE -lmpi_cxx -lstdc++ -lpthread -lflapack -lfblas -L/cluster/apps/openmpi/1.6.1/x86_64/gcc_4.7.2/lib -L/cluster/apps/gcc/gcc472/lib64/gcc/x86_64-unknown-linux-gnu/4.7.2 -L/cluster/apps/gcc/gcc472/lib64 -ldl -lmpi -lopen-rte -lopen-pal -lrt -lnsl -lutil -lgcc_s -lpthread -lmpi_f90 -lmpi_f77 -lgfortran -lm -lgfortran -lm -lgfortran -lm -lgfortran -lm -lm -lm -lquadmath -lm -lmpi_cxx -lstdc++ -ldl -lmpi -lopen-rte -lopen-pal -lrt -lnsl -lutil -lgcc_s -lpthread -ldl  -lcantera  -o ../transatmbinitialDP\n"
       ]
      },
      {
       "output_type": "stream",
       "stream": "stdout",
       "text": [
        "\n",
        "\n",
        "done...\n",
        "\n",
        "===================================================\n",
        " Syncing Current Working Directory with Cluster \n",
        "===================================================\n",
        "bsub -n 1 -W 60 -R \"rusage[mem=1024]\" -J 700_2e-05_conjugate-False_33 -o std_out.log  mpirun ./transatmbinitialDP "
       ]
      },
      {
       "output_type": "stream",
       "stream": "stdout",
       "text": [
        "\n",
        "Job <52968571> is submitted to queue <pub.1h>."
       ]
      },
      {
       "output_type": "stream",
       "stream": "stdout",
       "text": [
        "\n",
        "MPI job.\n",
        "==================================================="
       ]
      },
      {
       "output_type": "stream",
       "stream": "stdout",
       "text": [
        "\n",
        " Syncing Current Working Directory with Cluster \n",
        "===================================================\n",
        "==================================================="
       ]
      },
      {
       "output_type": "stream",
       "stream": "stdout",
       "text": [
        "\n",
        " Syncing Current Working Directory with Cluster \n",
        "===================================================\n",
        "bsub -n 4 -W 480 -R \"rusage[mem=1024]\" -J 700_2e-05_conjugate-False_33 -o std_out.log -w \"ended(700_2e-05_conjugate-False_33)\" mpirun ./transatmbDP -pc_hypre_boomeramg_max_iter -pc_hypre_boomeramg_coarsen_type HMIS -pc_hypre_boomeramg_interp_type ext+i -pc_hypre_boomeramg_P_max 4 -pc_hypre_boomeramg_strong_treshold 0 -pc_hypre_boomeramg_agg_nl 2"
       ]
      },
      {
       "output_type": "stream",
       "stream": "stdout",
       "text": [
        "\n",
        "Job <52968572> is submitted to queue <pub.8h>."
       ]
      },
      {
       "output_type": "stream",
       "stream": "stdout",
       "text": [
        "\n",
        "MPI job.\n"
       ]
      }
     ],
     "prompt_number": 40
    },
    {
     "cell_type": "heading",
     "level": 2,
     "metadata": {},
     "source": [
      "Run the post-processing on the cluster"
     ]
    },
    {
     "cell_type": "code",
     "collapsed": false,
     "input": [
      "%%file line_avg.py\n",
      "\n",
      "from paraview.simple import *\n",
      "from para_reader import *\n",
      "import pickle as pic\n",
      "import os\n",
      "\n",
      "name = get_last_modified()\n",
      "print(name)\n",
      "    \n",
      "data_file = OpenDataFile(name)\n",
      "\n",
      "print(\"Reading file \", data_file)\n",
      "\n",
      "avg_var =[]\n",
      "\n",
      "PlotOverLine1 = PlotOverLine(data_file)\n",
      "\n",
      "PlotOverLine1.Source.Point1 = [0.0039, 0.0001, 0.00005]\n",
      "PlotOverLine1.Source.Point2 = [0.0039, 0.0039, 0.00005]\n",
      "massflow_weight_T    = [\"Cp\",\"DEN\",'BMR_I',\"HembI\"]\n",
      "massflow_weight_Y    = [\"DEN\",'HembI','BMR_I',\"U\"]\n",
      "\n",
      "avg_Y = massflow_avg(PlotOverLine1,massflow_weight_Y,\"C3H6\",cell=False)\n",
      "avg_T = massflow_avg(PlotOverLine1,massflow_weight_T,\"T\",cell=False)\n",
      "\n",
      "avg_var.append([avg_Y, avg_T])\n",
      " # Delete(current_slice)\n",
      "try:\n",
      "    os.mkdir(\"processed\")\n",
      "except:\n",
      "    print(\"directory exists already\")\n",
      "pickle_file = \"processed/slice_averages.dat\"\n",
      "f = open(pickle_file,'w')\n",
      "pic.dump(avg_var,f)\n",
      "f.close()"
     ],
     "language": "python",
     "metadata": {},
     "outputs": [
      {
       "output_type": "stream",
       "stream": "stdout",
       "text": [
        "Overwriting line_avg.py\n"
       ]
      }
     ],
     "prompt_number": 11
    },
    {
     "cell_type": "code",
     "collapsed": false,
     "input": [
      "filenames = []\n",
      "filenames.append(\"line_avg.py\")\n",
      "\n",
      "for filename in filenames:\n",
      "    for sim in sim_list:\n",
      "      sh.copy(filename,os.path.join(sim.info.local[\"sim_folder\"]))\n",
      "      sim.run_postprocess(filename,nproc=\"1\",memory=\"1024\")"
     ],
     "language": "python",
     "metadata": {},
     "outputs": [
      {
       "output_type": "stream",
       "stream": "stdout",
       "text": [
        "===================================================\n",
        " Syncing Current Working Directory with Cluster \n",
        "===================================================\n",
        "source $HOME/.bashrc_paraview; bsub -n 1 -W 60 -R \"rusage[mem=1024]\" -J 600_-1_conjugate-False_33 -o postprocess.out  mpirun /cluster/home/mavt/vjan/ParaView-4.0.1-Linux-64bit/bin/pvbatch --use-offscreen-rendering line_avg.py"
       ]
      },
      {
       "output_type": "stream",
       "stream": "stdout",
       "text": [
        "\n",
        "==================================================="
       ]
      },
      {
       "output_type": "stream",
       "stream": "stdout",
       "text": [
        "\n",
        " Syncing Current Working Directory with Cluster \n",
        "===================================================\n",
        "source $HOME/.bashrc_paraview; bsub -n 1 -W 60 -R \"rusage[mem=1024]\" -J 600_1e-05_conjugate-False_33 -o postprocess.out  mpirun /cluster/home/mavt/vjan/ParaView-4.0.1-Linux-64bit/bin/pvbatch --use-offscreen-rendering line_avg.py"
       ]
      },
      {
       "output_type": "stream",
       "stream": "stdout",
       "text": [
        "\n",
        "==================================================="
       ]
      },
      {
       "output_type": "stream",
       "stream": "stdout",
       "text": [
        "\n",
        " Syncing Current Working Directory with Cluster \n",
        "===================================================\n",
        "source $HOME/.bashrc_paraview; bsub -n 1 -W 60 -R \"rusage[mem=1024]\" -J 600_2e-05_conjugate-False_33 -o postprocess.out  mpirun /cluster/home/mavt/vjan/ParaView-4.0.1-Linux-64bit/bin/pvbatch --use-offscreen-rendering line_avg.py"
       ]
      },
      {
       "output_type": "stream",
       "stream": "stdout",
       "text": [
        "\n",
        "==================================================="
       ]
      },
      {
       "output_type": "stream",
       "stream": "stdout",
       "text": [
        "\n",
        " Syncing Current Working Directory with Cluster \n",
        "===================================================\n",
        "source $HOME/.bashrc_paraview; bsub -n 1 -W 60 -R \"rusage[mem=1024]\" -J 700_-1_conjugate-False_33 -o postprocess.out  mpirun /cluster/home/mavt/vjan/ParaView-4.0.1-Linux-64bit/bin/pvbatch --use-offscreen-rendering line_avg.py"
       ]
      },
      {
       "output_type": "stream",
       "stream": "stdout",
       "text": [
        "\n",
        "==================================================="
       ]
      },
      {
       "output_type": "stream",
       "stream": "stdout",
       "text": [
        "\n",
        " Syncing Current Working Directory with Cluster \n",
        "===================================================\n",
        "source $HOME/.bashrc_paraview; bsub -n 1 -W 60 -R \"rusage[mem=1024]\" -J 700_1e-05_conjugate-False_33 -o postprocess.out  mpirun /cluster/home/mavt/vjan/ParaView-4.0.1-Linux-64bit/bin/pvbatch --use-offscreen-rendering line_avg.py"
       ]
      },
      {
       "output_type": "stream",
       "stream": "stdout",
       "text": [
        "\n",
        "==================================================="
       ]
      },
      {
       "output_type": "stream",
       "stream": "stdout",
       "text": [
        "\n",
        " Syncing Current Working Directory with Cluster \n",
        "===================================================\n",
        "source $HOME/.bashrc_paraview; bsub -n 1 -W 60 -R \"rusage[mem=1024]\" -J 700_2e-05_conjugate-False_33 -o postprocess.out  mpirun /cluster/home/mavt/vjan/ParaView-4.0.1-Linux-64bit/bin/pvbatch --use-offscreen-rendering line_avg.py"
       ]
      },
      {
       "output_type": "stream",
       "stream": "stdout",
       "text": [
        "\n"
       ]
      }
     ],
     "prompt_number": 45
    },
    {
     "cell_type": "heading",
     "level": 2,
     "metadata": {},
     "source": [
      "Get the post-processsed data from the cluster"
     ]
    },
    {
     "cell_type": "code",
     "collapsed": false,
     "input": [
      "for sim in sim_list:\n",
      "  sim.sync_result(\"processed\")\n",
      "  sim.data = pic.load(open(os.path.join(sim.info.local[\"sim_folder\"],\"processed/slice_averages.dat\")))  "
     ],
     "language": "python",
     "metadata": {},
     "outputs": [
      {
       "output_type": "stream",
       "stream": "stdout",
       "text": [
        "===================================================\n",
        " Syncing processed folder  with Cluster      \n",
        "===================================================\n",
        "==================================================="
       ]
      },
      {
       "output_type": "stream",
       "stream": "stdout",
       "text": [
        "\n",
        " Syncing processed folder  with Cluster      \n",
        "===================================================\n",
        "==================================================="
       ]
      },
      {
       "output_type": "stream",
       "stream": "stdout",
       "text": [
        "\n",
        " Syncing processed folder  with Cluster      \n",
        "===================================================\n",
        "==================================================="
       ]
      },
      {
       "output_type": "stream",
       "stream": "stdout",
       "text": [
        "\n",
        " Syncing processed folder  with Cluster      \n",
        "===================================================\n",
        "==================================================="
       ]
      },
      {
       "output_type": "stream",
       "stream": "stdout",
       "text": [
        "\n",
        " Syncing processed folder  with Cluster      \n",
        "===================================================\n",
        "==================================================="
       ]
      },
      {
       "output_type": "stream",
       "stream": "stdout",
       "text": [
        "\n",
        " Syncing processed folder  with Cluster      \n",
        "===================================================\n"
       ]
      }
     ],
     "prompt_number": 43
    },
    {
     "cell_type": "heading",
     "level": 2,
     "metadata": {},
     "source": [
      "Plot the quantity of interest for all the simulations"
     ]
    },
    {
     "cell_type": "code",
     "collapsed": false,
     "input": [
      "linestyles = [\"-\",\"--\",\":\"]\n",
      "colors =[\"k\",\"r\",\"b\"]\n",
      "markers = ['o',\".\"]\n",
      "for mark,conjugate in zip(markers,[False]):\n",
      "    for res,ls in zip([resolutions[-1]],linestyles):\n",
      "        for co,temp in zip(colors,temperatures):\n",
      "\n",
      "            sim_to_plot = sort_sims(filter_simulations(sim_list,conjugate=conjugate,res=res,temperature=temp),\"wc_thickness\")\n",
      "    \n",
      "            label = \", \".join([\"T=\"+str(temp),\"conjugate=\"+str(conjugate),\"number of cells=\"+res])\n",
      "            pl.plot(get_array(sim_to_plot,get_wc_thick),get_array(sim_to_plot,get_conv),label=label,linestyle=ls,color=co,marker=mark)\n",
      "\n",
      "ax = pl.gca()\n",
      "ax.set_xlabel(\"washcoat thickness $\\mu m$\")\n",
      "ax.set_ylabel(\"Conversion $\\chi$ (-)\")\n",
      "pl.legend(bbox_to_anchor=[2,1])\n",
      "\n"
     ],
     "language": "python",
     "metadata": {},
     "outputs": [
      {
       "metadata": {},
       "output_type": "pyout",
       "prompt_number": 52,
       "text": [
        "<matplotlib.legend.Legend at 0x85bc4d0>"
       ]
      },
      {
       "metadata": {},
       "output_type": "display_data",
       "png": "[encoded data removed]",
       "text": [
        "<matplotlib.figure.Figure at 0x85bc610>"
       ]
      }
     ],
     "prompt_number": 52
    },
    {
     "cell_type": "code",
     "collapsed": false,
     "input": [
      "def get_wc_thick(sim):\n",
      "   return max(0,sim.sim_info[\"wc_thickness\"]*1E6)\n",
      "    "
     ],
     "language": "python",
     "metadata": {},
     "outputs": [],
     "prompt_number": 36
    },
    {
     "cell_type": "code",
     "collapsed": false,
     "input": [
      "def get_conv(sim):\n",
      "    avg_Y= sim.data[0][0]\n",
      "    mf   = avg_Y[\"massflow\"]\n",
      "    mf_Y = avg_Y[\"massflow_t_C3H6\"]\n",
      "    return 1-mf_Y/mf/0.00438125"
     ],
     "language": "python",
     "metadata": {},
     "outputs": [],
     "prompt_number": 13
    },
    {
     "cell_type": "code",
     "collapsed": false,
     "input": [
      "def filter_simulations(sim_list,**kwargs):\n",
      "  filtered_list = []\n",
      "  for sim in sim_list:\n",
      "      match_all = True\n",
      "      for key, item in kwargs.iteritems():\n",
      "            if not sim.sim_info[key] == item:\n",
      "              match_all = False\n",
      "      if match_all:\n",
      "        filtered_list.append(sim)\n",
      "  return filtered_list"
     ],
     "language": "python",
     "metadata": {},
     "outputs": [],
     "prompt_number": 14
    },
    {
     "cell_type": "code",
     "collapsed": false,
     "input": [
      "def get_array(sim_list,func=None):\n",
      "    prop_list = []\n",
      "    if func:\n",
      "        for sim in sim_list:\n",
      "           prop_list.append(func(sim))\n",
      "    return np.array(prop_list)"
     ],
     "language": "python",
     "metadata": {},
     "outputs": [],
     "prompt_number": 15
    },
    {
     "cell_type": "code",
     "collapsed": false,
     "input": [
      "def sort_sims(sim_list,prop): \n",
      "    return sorted(sim_list,key=lambda it: it.sim_info[prop])\n"
     ],
     "language": "python",
     "metadata": {},
     "outputs": [],
     "prompt_number": 16
    },
    {
     "cell_type": "code",
     "collapsed": false,
     "input": [],
     "language": "python",
     "metadata": {},
     "outputs": []
    }
   ],
   "metadata": {}
  }
 ]
}