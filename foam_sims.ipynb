{
 "metadata": {
  "name": "",
  "signature": "sha256:efb263868d94995c13e4f77c681a6c81a63caddf6a9fa89be8ce7a27ea476739"
 },
 "nbformat": 3,
 "nbformat_minor": 0,
 "worksheets": [
  {
   "cells": [
    {
     "cell_type": "code",
     "collapsed": true,
     "input": [
      "%load_ext autoreload\n",
      "%autoreload 2\n",
      "\n",
      "\n",
      "%matplotlib inline\n",
      "import simulation_brutus as sim_b\n",
      "import shutil as sh\n",
      "import numpy as np\n",
      "import para_reader as pa\n",
      "import re\n",
      "\n",
      "sim_b= reload(sim_b)\n",
      "\n",
      "\n",
      "import os\n",
      "import pickle as pic\n",
      "\n",
      "\n",
      "import matplotlib.pyplot as pl\n",
      "\n",
      "pl.rcParams[\"text.usetex\"] = True\n",
      "pl.rcParams[\"text.fontsize\"] = 12\n",
      "\n",
      "import job_configurations as jc\n",
      "\n",
      "import Cantera as ca"
     ],
     "language": "python",
     "metadata": {
      "slideshow": {
       "slide_type": "slide"
      }
     },
     "outputs": [
      {
       "output_type": "stream",
       "stream": "stdout",
       "text": [
        "paraview version 3.98.1-79-g52cc6ea\n"
       ]
      },
      {
       "output_type": "stream",
       "stream": "stderr",
       "text": [
        "/usr/lib64/python2.7/site-packages/matplotlib/__init__.py:695: UserWarning: text.fontsize is deprecated and replaced with font.size; please use the latter.\n",
        "  warnings.warn(self.msg_depr % (key, alt))\n"
       ]
      }
     ],
     "prompt_number": 1
    },
    {
     "cell_type": "code",
     "collapsed": true,
     "input": [
      "%load_ext autoreload\n",
      "%autoreload 2"
     ],
     "language": "python",
     "metadata": {},
     "outputs": [
      {
       "output_type": "stream",
       "stream": "stdout",
       "text": [
        "The autoreload extension is already loaded. To reload it, use:\n",
        "  %reload_ext autoreload\n"
       ]
      }
     ],
     "prompt_number": 2
    },
    {
     "cell_type": "code",
     "collapsed": false,
     "input": [
      "def postprocess(job,sync=True):\n",
      "  \"\"\" This function usese job.info and the pickle file\n",
      "      in \"job.sim_folder/processed/slice_averages.dat\" \n",
      "      to compute sherwood number and pressure\n",
      "      averaged per cell and stores it in job.result\n",
      "  \"\"\"\n",
      "  if sync:\n",
      "      job.sync_result(\"processed\")\n",
      "  job.result = {}\n",
      "  rho              = job.sim_info[\"rho\"]\n",
      "  visc             = job.sim_info[\"visc\"]\n",
      "  diff             = job.sim_info[\"diff\"]\n",
      "  Dp               = job.sim_info[\"Dp\"]\n",
      "  ds               = job.sim_info[\"ds\"]  \n",
      "  porosity         = job.sim_info[\"porosity\"]\n",
      "  kelvin_cell_size = job.sim_info[\"kelvin_cell_size\"]\n",
      "  surf_to_volume   = job.sim_info[\"surf_to_volume\"]\n",
      "  vel              = job.sim_info[\"vel\"]\n",
      " \n",
      "  lengthscale = ds+Dp\n",
      "    \n",
      "  Re = vel*rho*(lengthscale)/visc\n",
      "  Sc = visc/(rho*diff)\n",
      " # print(\"Re\",Re,visc,vel,Dp)\n",
      " # print(\"Sc\",Sc)\n",
      "\n",
      "    \n",
      "    \n",
      "  job.result[\"Re\"] = Re\n",
      "  job.result[\"Sc\"] = Sc  \n",
      "\n",
      "  # Correlation for Sherwood number\n",
      "  job.result[\"Sh_corr\"] = 1.0*Re**(0.47)*Sc**(1.0/3.0)*((0.00313)/0.001)**(0.58)*porosity**0.44\n",
      "  #job.result[\"Sh_corr\"] = 0.91 * (Re*1.1/4.3*0.73)**0.43*4.3/0.73\n",
      "  #job.result[\"Sh_corr\"] = 1.1*Re**(0.43)*Sc**(1.0/3.0)*((lengthscale)/ds)**0.43\n",
      "  #job.result[\"Sh_corr\"] = 1.1*Re**(0.43)*Sc**(1.0/3.0)*(ds/(lengthscale))**0.43\n",
      " \n",
      "\n",
      "  # correlation for pressure drop\n",
      "  dp_exp = 1.5*Dp*((1-porosity)/porosity)\n",
      "  job.result[\"dp_corr\"] = 150.0* (1-porosity)**2/(porosity**3*dp_exp**2)*visc*vel+0.43*(1-porosity)/(porosity**3*dp_exp)*rho*vel**2\n",
      "  job.result[\"dp_corr\"] = 0.00313**0.82/(1.42E-4*porosity**7) + Re/0.89 * 0.00313**0.23/porosity**4.42\n",
      "\n",
      "  # Get the slice averages computed with the postprocessing script\n",
      " # try:\n",
      "  avg_data = pic.load(open(os.path.join(job.info.local[\"sim_folder\"],\"processed\",\"slice_averages_fine.dat\")))  \n",
      "#  except:\n",
      "#        avg_data = pic.load(open(os.path.join(job.info.local[\"sim_folder\"],\"processed\",\"slice_averages.dat\"))) \n",
      "#  avg_data = pic.load(open(os.path.join(job.info.local[\"sim_folder\"],\"processed\",\"slice_averages.dat\")))     \n",
      "  job.result[\"avg_data\"] = avg_data\n",
      "  \n",
      "  avg_Y = []\n",
      "  avg_Y_vol = []\n",
      "  sherwood_number = []\n",
      "  sherwood_number_vol = []\n",
      "  avg_P = []\n",
      "  dp = []\n",
      "  avg_U = []\n",
      "    \n",
      "  # Get average massfractions  \n",
      "  for slice_avg in avg_data: \n",
      "    avg_Y.append(slice_avg[0][\"massflow_t_C3H6\"]/slice_avg[0][\"massflow\"])\n",
      "    try:\n",
      "      avg_Y_vol.append(slice_avg[5][\"massflow_t_C3H6\"]/slice_avg[5][\"massflow\"])\n",
      "    except:\n",
      "        \"failed to load volume averaged data\"\n",
      "  # Get average sh numbers  \n",
      "  for slice_avg in avg_data:  \n",
      "    avg_P.append(slice_avg[1][\"massflow_t_P\"]/slice_avg[1][\"massflow\"])\n",
      "    \n",
      "  for slice_avg in avg_data:  \n",
      "    #avg_U.append(slice_avg[2][\"massflow_t_U\"]/(kelvin_cell_size/2.)**2/slice_avg[2][\"massflow\"])\n",
      "    avg_U.append(slice_avg[2][\"massflow_t_U\"]/(kelvin_cell_size/2.)**2)\n",
      "    #avg_U.append(slice_avg[2][\"massflow_t_U\"]/(slice_avg[2][\"massflow\"]))\n",
      "\n",
      "  # Compute average sh number in each cell\n",
      "  for cell in range(len(avg_Y)-1):\n",
      "     if cell == 0 and len(avg_Y)>4:\n",
      "       sherwood_number.append(np.log(0.00438/avg_Y[cell+1]) /surf_to_volume/ diff * lengthscale * vel/(kelvin_cell_size+0.00015))\n",
      "     else:\n",
      "       sherwood_number.append(np.log(avg_Y[cell]/avg_Y[cell+1]) /surf_to_volume/ diff * lengthscale * vel/kelvin_cell_size)\n",
      "     #sherwood_number.append(np.log(avg_Y[cell]/avg_Y[cell+1])*vel*Dp) # /surf_to_volume/ diff * Dp * vel/kelvin_cell_size)\n",
      "  \n",
      "  for cell in range(len(avg_Y_vol)-1):\n",
      "     sherwood_number_vol.append(np.log(avg_Y_vol[cell]/avg_Y_vol[cell+1]) /surf_to_volume/ diff * lengthscale * vel/kelvin_cell_size)\n",
      "     #sherwood_number.append(np.log(avg_Y[cell]/avg_Y[cell+1])*vel*Dp) # /surf_to_volume/ diff * Dp * vel/kelvin_cell_size)\n",
      "\n",
      "  # Compute pressure drop in each cell      \n",
      "  for cell in range(len(avg_Y)-1):\n",
      "     dp.append((avg_P[cell]-avg_P[cell+1])/kelvin_cell_size)\n",
      "   \n",
      "  job.result[\"avg_Y\"]           = avg_Y\n",
      "  job.result[\"avg_Y_vol\"]       = avg_Y_vol\n",
      "  job.result[\"avg_U\"]           = avg_U\n",
      "\n",
      "  job.result[\"sherwood_number\"]     = sherwood_number\n",
      "  job.result[\"sherwood_number_vol\"] = sherwood_number_vol\n",
      "  job.result[\"dp\"] = dp\n",
      "  job.result[\"C_bulk\"] = avg_Y[0]\n",
      "  job.result[\"C_vol\"]  = avg_Y_vol[0]\n",
      "  job.result[\"C_bulk\"] = avg_Y[0]\n",
      "  job.result[\"C_vol_exit\"]  = avg_Y_vol[1]\n",
      "  job.result[\"C_bulk_exit\"] = avg_Y[1]\n",
      "  job.result[\"m_bulk\"] = np.log(avg_Y[0]/avg_Y[1])/kelvin_cell_size\n",
      "  job.result[\"m_avg\"]  = np.log(avg_Y_vol[0]/avg_Y_vol[1])/kelvin_cell_size"
     ],
     "language": "python",
     "metadata": {},
     "outputs": []
    },
    {
     "cell_type": "code",
     "collapsed": false,
     "input": [
      "import glob as gl\n",
      "from IPython.display import FileLinks\n",
      "def show_log_files(sim):\n",
      "    glob_expr = os.path.join(sim.info.local[\"sim_folder\"],\"*_cluster\")\n",
      "    filelist = gl.glob(glob_expr)\n",
      "    \n",
      "    log_directory = os.path.join(\"logfiles\",sim.info.local[\"jobname\"])\n",
      "    try:\n",
      "      os.mkdir(log_directory)  \n",
      "    except:\n",
      "       pass\n",
      "       # print(\"directory exists\")\n",
      "\n",
      "    for filename in filelist:\n",
      "      file_handle = open(filename)\n",
      "      file_name_save = filename+\"_temp\"\n",
      "      file_handle_save = open(file_name_save,'w')\n",
      "      for line in file_handle.readlines()[-20:]:\n",
      "            str_to_write = \"<br>\"+ line\n",
      "            file_handle_save.write(str_to_write)\n",
      "      file_handle.close()\n",
      "      file_handle_save.close()\n",
      "      destination =   os.path.join(log_directory, os.path.basename(file_name_save))\n",
      "      sh.copy(file_name_save,destination)\n",
      "    return FileLinks(\"logfiles\")\n",
      "      "
     ],
     "language": "python",
     "metadata": {},
     "outputs": []
    },
    {
     "cell_type": "code",
     "collapsed": false,
     "input": [
      "gas=ca.importPhase(\"cantera_input.cti\",\"gas\")\n",
      "\n",
      "molfractions  =  [0.003,0.1,0.064,0.072,0.76,0.003]\n",
      "\n",
      "gas.setState_TPX(1000,1E5,molfractions)\n",
      "\n",
      "Re = 1.0*0.0023/gas.viscosity()\n",
      "gas.delta_H()\n",
      "\n",
      "Sc = gas.viscosity()/gas.density()/gas.diffusionCoeffs()[0]\n",
      "Pr = gas.viscosity()/gas.density()/(gas.thermalConductivity()/(gas.density()*gas.cp_mass()))\n",
      "Re,Sc,Pr\n",
      "gas.thermalConductivity()"
     ],
     "language": "python",
     "metadata": {},
     "outputs": []
    },
    {
     "cell_type": "code",
     "collapsed": false,
     "input": [
      "gas.delta_H()*gas.speciesIndex(\"CO\")"
     ],
     "language": "python",
     "metadata": {},
     "outputs": []
    },
    {
     "cell_type": "code",
     "collapsed": false,
     "input": [
      "C3H6_index = gas.speciesIndex(\"C3H6\")\n",
      "CO_index = gas.speciesIndex(\"CO\")\n",
      "#ca.Th\n",
      "#ca.G\n",
      "delta_T = 0.0\n",
      "for idx,reac_idx in zip([CO_index, C3H6_index],[1,0]):\n",
      "   delta_T = delta_T- gas.delta_H()[reac_idx]/gas.molecularWeights()[idx]/(gas.cp_mass())*gas.massFractions()[idx]"
     ],
     "language": "python",
     "metadata": {},
     "outputs": []
    },
    {
     "cell_type": "code",
     "collapsed": false,
     "input": [
      "delta_T*(1-(1-(Pr/Sc)**(2.0/3.0)))"
     ],
     "language": "python",
     "metadata": {},
     "outputs": []
    },
    {
     "cell_type": "code",
     "collapsed": false,
     "input": [
      "CO_index"
     ],
     "language": "python",
     "metadata": {},
     "outputs": []
    },
    {
     "cell_type": "heading",
     "level": 1,
     "metadata": {},
     "source": [
      "\n",
      "Postprocessing scripts"
     ]
    },
    {
     "cell_type": "code",
     "collapsed": false,
     "input": [
      "%%file create_slices.py\n",
      "from paraview.simple import *\n",
      "from para_reader import *\n",
      "import pickle as pic\n",
      "nblocks = 64\n",
      "\n",
      "\n",
      "postprocess = pic.load(open(\"job.pickle\"))\n",
      "iteration_list = postprocess[\"iteration_list\"]\n",
      "kelvin_cell_size = postprocess[\"kelvin_cell_size\"]\n",
      "origin = [kelvin_cell_size/2.,kelvin_cell_size/4.,kelvin_cell_size/4.]\n",
      "try:\n",
      "    os.mkdir(\"processed\")\n",
      "except:\n",
      "    print(\"directory exists already\")\n",
      "    \n",
      "for iteration in  iteration_list:\n",
      "   \n",
      "   datafile = get_last_modified()\n",
      "   print(datafile)\n",
      "   if datafile:\n",
      "     data = OpenDataFile(datafile)\n",
      "     slice = Slice(data)\n",
      "     slice.SliceType.Origin = origin\n",
      "     slice.SliceType.Normal = [0.0,1.0,0.0]\n",
      "     \n",
      "     print(slice)\n",
      "     unstructured = convert_to_unstructured(slice)\n",
      "     filename ='processed/output_'+str(iteration)+'.vtu' \n",
      "     pa.UpdatePipeline()\n",
      "     writer=CreateWriter(filename,unstructured)\n",
      "     writer.UpdatePipeline()\n",
      "     Delete(unstructured)\n",
      "     Delete(slice)\n",
      " "
     ],
     "language": "python",
     "metadata": {},
     "outputs": []
    },
    {
     "cell_type": "code",
     "collapsed": false,
     "input": [
      "%%file slice_avg.py\n",
      "\n",
      "from paraview.simple import *\n",
      "from para_reader import *\n",
      "import pickle as pic\n",
      "import os\n",
      "\n",
      "servermanager.Connect()\n",
      "postprocess = pic.load(open(\"job.pickle\"))\n",
      "kelvin_cell_size = postprocess[\"kelvin_cell_size\"]-postprocess[\"kelvin_cell_size\"]*0.0001\n",
      "ncells           = postprocess[\"ncells\"]\n",
      "\n",
      "massflow_weight_Y = postprocess[\"massflow_weight_Y\"]\n",
      "massflow_var_Y    = postprocess[\"massflow_var_Y\"]\n",
      "massflow_weight_P = postprocess[\"massflow_weight_P\"]\n",
      "massflow_var_P    = postprocess[\"massflow_var_P\"]\n",
      "iteration         = postprocess[\"iteration\"]\n",
      "\n",
      "name = get_iteration(iteration)\n",
      "name = get_last_modified()\n",
      "print(name)\n",
      "    \n",
      "data_file = OpenDataFile(name)\n",
      "\n",
      "print(\"Reading file \", data_file)\n",
      "\n",
      "avg_var    = []\n",
      "for sl in range(ncells+1):  \n",
      "  print(\"Before slice \")\n",
      "  current_slice = Slice(data_file)\n",
      "\n",
      "  print(\"Current Slice \", current_slice)\n",
      "\n",
      "  #current_slice.SliceType.Origin = [sl*kelvin_cell_size-0.5*kelvin_cell_size,0.0005,0.0005]\n",
      "  current_slice.SliceType.Origin = [sl*kelvin_cell_size-0.5*kelvin_cell_size,0.0005,0.0005]\n",
      "\n",
      "  current_slice.SliceType.Normal = [1,0,0]\n",
      "  print(\"Before avgY \")\n",
      "\n",
      "  avg_Y = massflow_avg(current_slice,massflow_weight_Y,massflow_var_Y)\n",
      "  print(\"Before avgP \")\n",
      "\n",
      "  avg_P = massflow_avg(current_slice,massflow_weight_P,massflow_var_P)\n",
      "  print(\"Before avgU \")\n",
      "  \n",
      "  avg_U = massflow_avg(current_slice,massflow_weight_P,'U')\n",
      "  avg_var.append([avg_Y, avg_P,avg_U])\n",
      " # Delete(current_slice)\n",
      "try:\n",
      "    os.mkdir(\"processed\")\n",
      "except:\n",
      "    print(\"directory exists already\")\n",
      "pickle_file = \"processed/slice_averages.dat\"\n",
      "f = open(pickle_file,'w')\n",
      "pic.dump(avg_var,f)\n",
      "f.close()\n"
     ],
     "language": "python",
     "metadata": {},
     "outputs": []
    },
    {
     "cell_type": "code",
     "collapsed": false,
     "input": [
      "%%file full_3d.py\n",
      "\n",
      "from paraview.simple import *\n",
      "from para_reader import *\n",
      "import pickle as pic\n",
      "import os\n",
      "\n",
      "name = get_last_modified()\n",
      "print(name)\n",
      "data = OpenDataFile(name)\n",
      "unstructured = convert_to_unstructured(data)\n",
      "\n",
      "try:\n",
      "    os.mkdir(\"processed\")\n",
      "except:\n",
      "    pass\n",
      "filename = 'processed/full_3d.vtu'\n",
      "UpdatePipeline()\n",
      "writer=CreateWriter(filename,unstructured)\n",
      "writer.UpdatePipeline()\n",
      "\n",
      "\n"
     ],
     "language": "python",
     "metadata": {},
     "outputs": [
      {
       "output_type": "stream",
       "stream": "stdout",
       "text": [
        "Overwriting full_3d.py\n"
       ]
      }
     ],
     "prompt_number": 7
    },
    {
     "cell_type": "code",
     "collapsed": false,
     "input": [
      "ps.ge"
     ],
     "language": "python",
     "metadata": {},
     "outputs": []
    },
    {
     "cell_type": "code",
     "collapsed": false,
     "input": [
      "%%file slice_avg.py\n",
      "\n",
      "from paraview.simple import *\n",
      "from para_reader import *\n",
      "import pickle as pic\n",
      "import os\n",
      "\n",
      "servermanager.Connect()\n",
      "postprocess = pic.load(open(\"job.pickle\"))\n",
      "kelvin_cell_size = postprocess[\"kelvin_cell_size\"]-postprocess[\"kelvin_cell_size\"]*0.0001\n",
      "ncells           = postprocess[\"ncells\"]\n",
      "\n",
      "massflow_weight_Y = postprocess[\"massflow_weight_Y\"]\n",
      "massflow_var_Y    = postprocess[\"massflow_var_Y\"]\n",
      "massflow_weight_P = postprocess[\"massflow_weight_P\"]\n",
      "massflow_var_P    = postprocess[\"massflow_var_P\"]\n",
      "iteration         = postprocess[\"iteration\"]\n",
      "\n",
      "massflow_weight_T    = ['BMR_I',\"HembI\",\"U\"]\n",
      "massflow_weight_T_s  = ['BMR_I',\"(1-HembI)\"]\n",
      "massflow_weight_Y    = ['HembI','BMR_I',\"U\"]\n",
      "massflow_weight_Y_vol= ['HembI','BMR_I']\n",
      "massflow_weight_P    = ['HembI','BMR_I']\n",
      "\n",
      "name = get_iteration(iteration)\n",
      "name = get_last_modified()\n",
      "print(name)\n",
      "    \n",
      "data_file = OpenDataFile(name)\n",
      "\n",
      "print(\"Reading file \", data_file)\n",
      "\n",
      "avg_var    = []\n",
      "\n",
      "x_coords = np.linspace(-0.5*kelvin_cell_size,(ncells-0.5)*kelvin_cell_size,ncells+1)\n",
      "\n",
      "for x_coord in x_coords:\n",
      "\n",
      "  print(\"Before slice \")\n",
      "  current_slice = Slice(data_file)\n",
      "\n",
      "  print(\"Current Slice \", current_slice)\n",
      "\n",
      "  #current_slice.SliceType.Origin = [sl*kelvin_cell_size-0.5*kelvin_cell_size,0.0005,0.0005]\n",
      "  current_slice.SliceType.Origin = [x_coord,0.0005,0.0005]\n",
      "\n",
      "  current_slice.SliceType.Normal = [1,0,0]\n",
      "  print(\"Before avgY \")\n",
      "\n",
      "  avg_Y     = massflow_avg(current_slice,massflow_weight_Y,massflow_var_Y)\n",
      "  avg_Y_vol = massflow_avg(current_slice,massflow_weight_Y_vol,massflow_var_Y)\n",
      "  print(\"Before avgP \")\n",
      "    \n",
      "  avg_T = massflow_avg(current_slice,massflow_weight_T,\"T\")\n",
      "  print(\"Before avgP \")\n",
      "    \n",
      "  avg_T_s = massflow_avg(current_slice,massflow_weight_T_s,\"T\")\n",
      "\n",
      "  avg_P = massflow_avg(current_slice,massflow_weight_P,massflow_var_P)\n",
      "  print(\"Before avgU \")\n",
      "  \n",
      "  avg_U = massflow_avg(current_slice,massflow_weight_P,'U')\n",
      "  avg_var.append([avg_Y, avg_P,avg_U,avg_T,avg_T_s,avg_Y_vol])\n",
      " # Delete(current_slice)\n",
      "try:\n",
      "    os.mkdir(\"processed\")\n",
      "except:\n",
      "    print(\"directory exists already\")\n",
      "pickle_file = \"processed/slice_averages_fine.dat\"\n",
      "f = open(pickle_file,'w')\n",
      "pic.dump(avg_var,f)\n",
      "f.close()\n"
     ],
     "language": "python",
     "metadata": {},
     "outputs": []
    },
    {
     "cell_type": "code",
     "collapsed": true,
     "input": [
      "%%file slice_avg.py\n",
      "\n",
      "from paraview.simple import *\n",
      "from para_reader import *\n",
      "import pickle as pic\n",
      "import os\n",
      "\n",
      "servermanager.Connect()\n",
      "postprocess = pic.load(open(\"job.pickle\"))\n",
      "kelvin_cell_size = postprocess[\"kelvin_cell_size\"]-postprocess[\"kelvin_cell_size\"]*0.0001\n",
      "ncells           = postprocess[\"ncells\"]\n",
      "\n",
      "massflow_weight_Y = postprocess[\"massflow_weight_Y\"]\n",
      "massflow_var_Y    = postprocess[\"massflow_var_Y\"]\n",
      "massflow_weight_P = postprocess[\"massflow_weight_P\"]\n",
      "massflow_var_P    = postprocess[\"massflow_var_P\"]\n",
      "iteration         = postprocess[\"iteration\"]\n",
      "\n",
      "massflow_weight_T    = ['BMR_I',\"HembI\",\"U\"]\n",
      "massflow_weight_T_s  = ['BMR_I',\"(1-HembI)\"]\n",
      "massflow_weight_Y    = ['HembI','BMR_I',\"U\"]\n",
      "massflow_weight_Y_vol= ['HembI','BMR_I']\n",
      "massflow_weight_P    = ['HembI','BMR_I']\n",
      "\n",
      "name = get_iteration(iteration)\n",
      "name = get_last_modified()\n",
      "print(name)\n",
      "    \n",
      "data_file = OpenDataFile(name)\n",
      "\n",
      "print(\"Reading file \", data_file)\n",
      "\n",
      "avg_var    = []\n",
      "\n",
      "x_coords = np.linspace(-0.5*kelvin_cell_size,(ncells-0.5)*kelvin_cell_size,ncells+1)\n",
      "\n",
      "for x_coord in x_coords:\n",
      "\n",
      "  print(\"Before slice \")\n",
      "  current_slice = Slice(data_file)\n",
      "\n",
      "  print(\"Current Slice \", current_slice)\n",
      "\n",
      "  #current_slice.SliceType.Origin = [sl*kelvin_cell_size-0.5*kelvin_cell_size,0.0005,0.0005]\n",
      "  current_slice.SliceType.Origin = [x_coord,0.0005,0.0005]\n",
      "\n",
      "  current_slice.SliceType.Normal = [1,0,0]\n",
      "  print(\"Before avgY \")\n",
      "\n",
      "  avg_Y     = massflow_avg(current_slice,massflow_weight_Y,massflow_var_Y)\n",
      "  avg_Y_vol = massflow_avg(current_slice,massflow_weight_Y_vol,massflow_var_Y)\n",
      "  print(\"Before avgP \")\n",
      "    \n",
      "  avg_T = massflow_avg(current_slice,massflow_weight_T,\"T\")\n",
      "  print(\"Before avgP \")\n",
      "    \n",
      "  avg_T_s = massflow_avg(current_slice,massflow_weight_T_s,\"T\")\n",
      "\n",
      "  avg_P = massflow_avg(current_slice,massflow_weight_P,massflow_var_P)\n",
      "  print(\"Before avgU \")\n",
      "  \n",
      "  avg_U = massflow_avg(current_slice,massflow_weight_P,'U')\n",
      "  avg_var.append([avg_Y, avg_P,avg_U,avg_T,avg_T_s,avg_Y_vol])\n",
      " # Delete(current_slice)\n",
      "try:\n",
      "    os.mkdir(\"processed\")\n",
      "except:\n",
      "    print(\"directory exists already\")\n",
      "pickle_file = \"processed/slice_averages_fine.dat\"\n",
      "f = open(pickle_file,'w')\n",
      "pic.dump(avg_var,f)\n",
      "f.close()\n"
     ],
     "language": "python",
     "metadata": {},
     "outputs": []
    },
    {
     "cell_type": "code",
     "collapsed": false,
     "input": [
      "%%file vol_avg.py\n",
      "\n",
      "from paraview.simple import *\n",
      "from para_reader import *\n",
      "import pickle as pic\n",
      "import os\n",
      "\n",
      "servermanager.Connect()\n",
      "postprocess = pic.load(open(\"job.pickle\"))\n",
      "kelvin_cell_size = postprocess[\"kelvin_cell_size\"]-postprocess[\"kelvin_cell_size\"]*0.0001\n",
      "ncells           = postprocess[\"ncells\"]\n",
      "\n",
      "massflow_weight_Y = postprocess[\"massflow_weight_Y\"]\n",
      "massflow_var_Y    = postprocess[\"massflow_var_Y\"]\n",
      "massflow_weight_P = postprocess[\"massflow_weight_P\"]\n",
      "massflow_var_P    = postprocess[\"massflow_var_P\"]\n",
      "iteration         = postprocess[\"iteration\"]\n",
      "\n",
      "massflow_weight_T    = [\"Cp\",\"DEN\",'BMR_I',\"HembI\"]\n",
      "massflow_weight_T_s  = ['BMR_I',\"(1-HembI)\"]\n",
      "massflow_weight_Y    = [\"DEN\",'HembI','BMR_I',\"U\"]\n",
      "massflow_weight_Y_vol= ['HembI','BMR_I']\n",
      "massflow_weight_P    = ['HembI','BMR_I']\n",
      "\n",
      "name = get_iteration(iteration)\n",
      "name = get_last_modified()\n",
      "print(name)\n",
      "    \n",
      "data_file = OpenDataFile(name)\n",
      "\n",
      "print(\"Reading file \", data_file)\n",
      "\n",
      "avg_var    = []\n",
      "\n",
      "x_coords = np.linspace(-0.5*kelvin_cell_size,3.5*kelvin_cell_size,20)\n",
      "\n",
      "for x_coord in x_coords:\n",
      "\n",
      "  print(\"Before slice \")\n",
      "  current_slice = Slice(data_file)\n",
      "\n",
      "  print(\"Current Slice \", current_slice)\n",
      "\n",
      "    \n",
      "  \n",
      "  #current_slice.SliceType.Origin = [sl*kelvin_cell_size-0.5*kelvin_cell_size,0.0005,0.0005]\n",
      "  current_slice.SliceType.Origin = [x_coord,0.0005,0.0005]\n",
      "\n",
      "  current_slice.SliceType.Normal = [1,0,0]\n",
      "  print(\"Before avgY \")\n",
      "\n",
      "  avg_Y     = massflow_avg(current_slice,massflow_weight_Y,massflow_var_Y)\n",
      "  avg_Y_vol = massflow_avg(current_slice,massflow_weight_Y_vol,massflow_var_Y)\n",
      "  print(\"Before avgP \")\n",
      "    \n",
      "  avg_T = massflow_avg(current_slice,massflow_weight_T,\"T\")\n",
      "  print(\"Before avgP \")\n",
      "    \n",
      "  avg_T_s = massflow_avg(current_slice,massflow_weight_T_s,\"T\")\n",
      "\n",
      "  avg_P = massflow_avg(current_slice,massflow_weight_P,massflow_var_P)\n",
      "  print(\"Before avgU \")\n",
      "  \n",
      "  avg_U = massflow_avg(current_slice,massflow_weight_P,'U')\n",
      "  avg_var.append([avg_Y, avg_P,avg_U,avg_T,avg_T_s,avg_Y_vol])\n",
      " # Delete(current_slice)\n",
      "try:\n",
      "    os.mkdir(\"processed\")\n",
      "except:\n",
      "    print(\"directory exists already\")\n",
      "pickle_file = \"processed/slice_averages_fine.dat\"\n",
      "f = open(pickle_file,'w')\n",
      "pic.dump(avg_var,f)\n",
      "f.close()"
     ],
     "language": "python",
     "metadata": {},
     "outputs": []
    },
    {
     "cell_type": "code",
     "collapsed": false,
     "input": [
      "def update_status(sim):\n",
      "   sim.current_status = sim.status()\n",
      "   filename = sim.get_log()\n",
      "   last_lines = !tail -n 10 $filename\n",
      "   if sim.current_status == \"finished\":\n",
      "       filename = sim.get_log()\n",
      "       last_lines = !tail -n 100 $filename\n",
      "     \n",
      "       for line in last_lines:\n",
      "            print(line)\n",
      "            if \"iteration stops here\" in line:\n",
      "               # print \"====================\"\n",
      "               # print \"simulation_converged\"\n",
      "               # print \"====================\"\n",
      "                sim.current_status = \"converged\"\n",
      "            if \"mpi-abort\" in line:\n",
      "                sim.current_status = \"failed\""
     ],
     "language": "python",
     "metadata": {},
     "outputs": []
    },
    {
     "cell_type": "code",
     "collapsed": false,
     "input": [
      "# Plot residuals\n",
      "\n",
      "legendlist = []\n",
      "filename = \"RESULT/Linf_resnorm.dat\"\n",
      "for idx,job in enumerate(jobs_param_study+jobs_param_study_25):\n",
      "  res_file     = pa.file_reader(job.get_log(filename,n=0),comment=\"*\")\n",
      "  pressure_res = res_file.get_column(\".*U-Velocity.*Linf.*end\")[:]\n",
      "  pl.semilogy(pressure_res)\n",
      "  legendlist.append(job.sim_info[\"name\"])\n",
      "  job.peek()\n",
      "ax = pl.gca()\n",
      "ax.set_xlabel(\"Iteration\")\n",
      "ax.set_ylabel(\"Residual\")\n",
      "ax.legend(legendlist,loc=0)\n"
     ],
     "language": "python",
     "metadata": {},
     "outputs": []
    },
    {
     "cell_type": "heading",
     "level": 2,
     "metadata": {},
     "source": [
      "Plot script"
     ]
    },
    {
     "cell_type": "code",
     "collapsed": false,
     "input": [
      "import scipy.optimize as op\n",
      "import itertools as itert\n",
      "\n",
      "def fit_function(Re,a,b,c):\n",
      "    return a+b*Re**c\n",
      "\n",
      "def fit_function_simple(Re,a,b):\n",
      "    return a*Re**b\n",
      "\n",
      "\n",
      "sync = False\n",
      "# Setting up the figures\n",
      "nfigures = 6\n",
      "fig_list = []\n",
      "ax_list = []\n",
      "for fig in range(nfigures):\n",
      "  newfig = pl.figure(figsize=(6,4.))\n",
      "  ax_list.append(newfig.add_subplot(1,1,1))\n",
      "  fig_list.append(newfig)\n",
      "\n",
      "\n",
      "geometries = [\"A\",\"B\",\"C\",\"D\",\"E\",\"F\"]\n",
      "#geometries = [\"A\",\"F\"]\n",
      "geometries = [\"A\",\"C\",\"F\"]\n",
      "sherwood_data = {}\n",
      "sherwood_data_vol = {}\n",
      "pressure_data = {}\n",
      "sherwood_data_corr = {}\n",
      "pressure_data_corr = {}\n",
      "performance_index = {}\n",
      "re_data       = {}\n",
      "allcases = list_geom_A+list_geom_B+list_geom_C+list_geom_D+list_geom_E+list_geom_F\n",
      "allcases = list_geom_A+list_geom_C+list_geom_F\n",
      "\n",
      "# Setting up arrays to be optimized\n",
      "for geometry in geometries:\n",
      "  sherwood_data[geometry] = []\n",
      "  sherwood_data_vol[geometry] = []\n",
      "  sherwood_data_corr[geometry] = []\n",
      "  pressure_data[geometry] = []\n",
      "  pressure_data_corr[geometry] = []\n",
      "  re_data [geometry] = []\n",
      "  performance_index[geometry] = []\n",
      "    \n",
      "for sim_idx,job in enumerate(allcases):\n",
      "  for char in job.sim_info[\"name\"]:\n",
      "        if char in geometries:\n",
      "            geometry = char\n",
      "            job.geometry = char\n",
      "            break\n",
      "  postprocess(job,sync=sync)\n",
      " \n",
      "# Push all the results into a dictionary\n",
      "alljobs_sorted = sorted(allcases,key=lambda item : item.geometry)\n",
      "for key,item in itert.groupby(alljobs_sorted,key=lambda item : item.geometry):      \n",
      "  for sim in item: \n",
      "    normalization_pressure = (sim.sim_info[\"Dp\"]+sim.sim_info[\"ds\"])**2/(sim.sim_info[\"vel\"]*sim.sim_info[\"visc\"]) #*sim.sim_info[\"porosity\"]**2\n",
      "    loc_sherwood_number = sim.result[\"sherwood_number\"][0] \n",
      "    loc_sherwood_number_vol = sim.result[\"sherwood_number_vol\"][0] \n",
      "    loc_pressure_drop   = sim.result[\"dp\"][0] *normalization_pressure\n",
      "    sherwood_data[key].append(loc_sherwood_number)\n",
      "    sherwood_data_vol[key].append(loc_sherwood_number_vol)\n",
      "    sherwood_data_corr[key].append(sim.result[\"Sh_corr\"])\n",
      "    pressure_data_corr[key].append(sim.result[\"dp_corr\"])\n",
      "    pressure_data[key].append(loc_pressure_drop)\n",
      "    re_data[key].append(sim.result[\"Re\"]) \n",
      "    performance_index[key].append(sim.sim_info[\"surf_to_volume\"]*(sim.sim_info[\"Dp\"]+sim.sim_info[\"ds\"])*loc_sherwood_number/loc_pressure_drop)\n",
      "\n",
      "\n",
      "order = 1\n",
      "pressure_coefficients={}\n",
      "sherwood_coefficients={}\n",
      "\n",
      "# sort the list with re\n",
      "\n",
      "colors = [\"r\",\"g\",\"b\",\"k\",\"y\",\"m\"]\n",
      "colors = [\"k\",\"k\",\"k\",\"k\",\"k\",\"k\"]\n",
      "colors = [\"k\",\"k\",\"k\"]\n",
      "markers= [\"^\",\"o\",\"v\"]\n",
      "linestyles = [\"-\",\"--\",\":\"]\n",
      "geom_map = {\"A\":\"A\",\"C\":\"B\",\"F\":\"C\"}\n",
      "\n",
      "for geometry,color,marker,linestyle in zip(geometries,colors,markers,linestyles):\n",
      "    \n",
      "  re_data[geometry], pressure_data[geometry], sherwood_data[geometry],sherwood_data_corr[geometry], performance_index[geometry],sherwood_data_vol[geometry] \\\n",
      "    = zip(*sorted(zip(re_data[geometry],pressure_data[geometry],sherwood_data[geometry],sherwood_data_corr[geometry],performance_index[geometry],sherwood_data_vol[geometry]),key=lambda item:item[0]))\n",
      "\n",
      "  ax_list[1].plot(re_data[geometry],sherwood_data[geometry],linestyle,color=color,label=geom_map[geometry]+\" sim\")\n",
      "#  ax_list[1].plot(re_data[geometry],sherwood_data_vol[geometry],'o',color=color)\n",
      "  ax_list[1].plot(re_data[geometry],sherwood_data_corr[geometry],marker,color=color,label=geom_map[geometry]+\" corr\")\n",
      "  ax_list[2].plot(re_data[geometry],pressure_data_corr[geometry],marker,color=color,label=geom_map[geometry]+\" corr\")\n",
      "  ax_list[2].plot(re_data[geometry],pressure_data[geometry],linestyle,color=color,label=geom_map[geometry]+ \" sim\") \n",
      "  ax_list[0].plot(re_data[geometry],performance_index[geometry],'-o',color=color)\n",
      "\n",
      "  pressure_coefficients[geometry] = np.poly1d(np.polyfit(re_data[geometry],pressure_data[geometry],order).flatten())\n",
      "\n",
      "  try:\n",
      "    sherwood_coefficients[geometry], dummy = op.curve_fit(fit_function_simple,np.array(re_data[geometry]),np.array(sherwood_data[geometry]).flatten())\n",
      "    sherwood_coefficients[geometry] = np.append(sherwood_coefficients[geometry],0.0023)\n",
      "  except:\n",
      "     pass\n",
      "      \n",
      "\n",
      "  p_fit_values = []\n",
      "\n",
      "  #ax_list[1].plot(re_data[geometry],sherwood_coefficients[geometry][0]*re_data[geometry]**sherwood_coefficients[geometry][1],'o') \n",
      "  #ax_list[1].plot(re_data[geometry],sherwood_coefficients[geometry][0]+sherwood_coefficients[geometry][1]*re_data[geometry]**sherwood_coefficients[geometry][2])  \n",
      "        \n",
      "re_values_8 = [1,4,7] \n",
      "markers = [\"o\",\"^\",\"*\"]\n",
      "linestyles = [\"-\",\"-.\",\"--\"]\n",
      "legendlist = []        \n",
      "for re_val,sim,marker,style in zip(re_values_8,sim_8_cell_list,markers,linestyles):\n",
      "    postprocess(sim,sync=sync)\n",
      "    normalization_pressure = (sim.sim_info[\"Dp\"]+sim.sim_info[\"ds\"])**2/(sim.sim_info[\"vel\"]*sim.sim_info[\"visc\"])\n",
      "    prefactor = sim.sim_info[\"surf_to_volume\"]*sim.sim_info[\"diff\"]/sim.sim_info[\"Dp\"]/sim.sim_info[\"vel\"]*sim.result[\"sherwood_number\"][3]\n",
      "\n",
      "    ax_list[3].plot(np.linspace(1,8,8),sim.result[\"sherwood_number\"],\"k\",marker=marker,linestyle=' ',label=\"Re = \" + str(int(re_data[\"A\"][re_val])).ljust(5) + \"  8 cells\")\n",
      "    ax_list[5].plot(np.linspace(1,8,8),np.array(sim.result[\"dp\"])*normalization_pressure,\"k\",marker=marker,linestyle=' ',label=\"Re = \" + str(int(re_data[\"A\"][re_val])).ljust(5) + \" 8 cells\")\n",
      "    ax_list[3].plot(np.linspace(0,9,10),sherwood_data[\"A\"][re_val]*np.ones(10),'k',linestyle=style,label=\"Re = \" + str(int(re_data[\"A\"][re_val])).ljust(5) + \"  cyclic\")\n",
      "    ax_list[5].plot(np.linspace(0,9,10),pressure_data[\"A\"][re_val]*np.ones(10),'k',linestyle=style,label=\"Re = \" + str(int(re_data[\"A\"][re_val])).ljust(5) + \"  cyclic\")\n",
      "    ax_list[4].plot(sim.result[\"avg_Y\"])\n",
      "    ax_list[4].plot(sim.result[\"avg_Y_vol\"])\n",
      "    \n",
      "#    try:\n",
      "#        dispersion = np.array(sim.result[\"avg_Y\"])-np.array(sim.result[\"avg_Y_vol\"])\n",
      "#        gradients  = prefactor*np.array(sim.result[\"avg_Y_vol\"])\n",
      "        \n",
      "#        ax_list[4].plot(-dispersion/gradients / sim.sim_info[\"diff\"],'o')\n",
      "       # ax_list[4].plot(-dispersion,'o')\n",
      "\n",
      "#    except:\n",
      "#        pass\n",
      "#    ax_list[4].plot(np.array(sim.result[\"avg_Y_vol\"])*prefactor,'o')\n",
      "    legendlist.append(sim.info.local[\"jobname\"][0:10])\n",
      "\n",
      "\n",
      "postprocess(sim_const)\n",
      "postprocess(sim_variable_properties)\n",
      "#ax_list[3].plot(sim_const.result[\"sherwood_number\"])\n",
      "#ax_list[3].plot(sim_variable_properties.result[\"sherwood_number\"])\n",
      "\n",
      "#normalization_pressure = (sim_const.sim_info[\"Dp\"]+sim_const.sim_info[\"ds\"])**2/(sim_const.sim_info[\"vel\"]*sim_const.sim_info[\"visc\"])\n",
      "#ax_list[5].plot(np.array(sim_const.result[\"dp\"])*normalization_pressure)\n",
      "#normalization_pressure = (sim_variable_properties.sim_info[\"Dp\"]+sim_variable_properties.sim_info[\"ds\"])**2/(sim_variable_properties.sim_info[\"vel\"]*sim_variable_properties.sim_info[\"visc\"])\n",
      "#ax_list[5].plot(np.array(sim_variable_properties.result[\"dp\"])*normalization_pressure)\n",
      "\n",
      "#ax_list[3].legend(legendlist)    \n",
      "ax_list[3].set_xlabel(\"Cell\")        \n",
      " \n",
      "        \n",
      "pic.dump(sherwood_coefficients,open(\"sherwood_data.dat\",\"w\"))\n",
      "pic.dump(pressure_coefficients,open(\"pressure_data.dat\",\"w\"))\n",
      "\n",
      "#Richardson correlation\n",
      "#Sh = 0.455* Re^(0.593)\n",
      "#ax_list[1].plot(re_data[\"F\"],0.455*np.array(re_data[\"F\"])**(0.593)/0.82,'-o',color=color)\n",
      "\n",
      "#Steinfeld correlation\n",
      "#Sh = 6.820+0.198*Re**0.788*Pr**0.606\n",
      "#ax_list[1].plot(re_data[\"F\"],6.820+0.198*np.array(re_data[\"F\"])**0.788,'-o',color=color)\n",
      "#Giani correlation\n",
      "#1000**0.58 * Re**0.47 * sc**(1/3) (Dp)**0.58 * epsilon^0.44\n",
      "#ax_list[1].plot(re_data[\"F\"],np.array(re_data[\"F\"])**(0.47)*(0.003/0.001)**0.58*0.93**0.44,'*',color=color)\n",
      "\n",
      "\n",
      "#ax_list[0].legend(names)\n",
      "ax_list[0].set_xlabel(\"Re\")\n",
      "ax_list[0].set_ylabel(\"Performance index\")\n",
      "\n",
      "#ax_list[2].plot(re_data[\"F\"],np.array(re_data[\"F\"])*0.659+28.334,'*',color=color)    \n",
      "#ax_list[2].plot(re_data[\"F\"],np.array(re_data[\"F\"])*0.87+13.56,'*',color=color)  \n",
      "porosity_list = sorted(list(set([sim.sim_info[\"porosity\"] for sim in allcases])),key =lambda item:1/item)\n",
      "ax_list[1].set_ylabel(\"Sh (-)\")\n",
      "ax_list[1].set_xlabel(\"Re (-)\")\n",
      "\n",
      "\n",
      "ax_list[3].set_ylabel(\"Sh (-)\")\n",
      "ax_list[3].set_xlabel(\"Cell\")\n",
      "h,l = ax_list[3].get_legend_handles_labels()\n",
      "h,l = zip(*sorted(zip(h,l),key=lambda item: item[1][-7:]))\n",
      "ax_list[3].legend(h,l,loc=0,ncol=2,frameon=False,borderpad=0.5,columnspacing=1,handlelength=1.5)\n",
      "ax_list[3].set_ylim([0,25])\n",
      "ax_list[5].set_ylabel(r'$\\frac{\\nabla p D^2}{\\mu u} $ (-)')\n",
      "ax_list[5].set_xlabel(\"Cell\")\n",
      "h,l = ax_list[5].get_legend_handles_labels()\n",
      "h,l = zip(*sorted(zip(h,l),key=lambda item: item[1][-7:]))\n",
      "ax_list[5].legend(h,l,loc=0,ncol=2,frameon=False,borderpad=0.5,columnspacing=0,handlelength=1.5)\n",
      "ax_list[5].set_ylim([0,310])\n",
      "\n",
      "\n",
      "h,l = ax_list[1].get_legend_handles_labels()\n",
      "#h,l = zip(*sorted(zip(h,l),key=lambda item: item[1][-7:]))\n",
      "ax_list[1].legend(h,l,loc=0,ncol=3,frameon=False,borderpad=0.5,columnspacing=1,handlelength=1.5)\n",
      "ax_list[1].set_ylim([1,20])\n",
      "\n",
      "h,l = ax_list[2].get_legend_handles_labels()\n",
      "ax_list[2].legend(h,l,loc=0,ncol=3,frameon=False,borderpad=0.5,columnspacing=1,handlelength=1.5)\n",
      "ax_list[2].set_ylim([00,800])\n",
      "\n",
      "#ax_list[1].legend([\"$\\epsilon$ =  \" + str(item) for item in porosity_list],loc=0)\n",
      "#ax_list[1].legend(geometries)\n",
      "\n",
      "ax_list[2].set_ylabel(r'$\\frac{\\nabla p D^2}{\\mu u} $ (-)')\n",
      "ax_list[2].set_xlabel(\"Re\")\n",
      "#ax_list[2].set_ylim([0.00005,0.00045])\n",
      "\n",
      "ax_list[2].set_xlabel(\"Re (-)\")\n",
      "#ax_list[2].legend([\"$\\epsilon$ =  \" + str(item) for item in porosity_list],loc=0)\n",
      "#pic.dump(file_output,open(\"dump.dat\",'w'))\n",
      "\n",
      "\n",
      "\n",
      "for fig in fig_list:\n",
      "    fig.tight_layout()\n",
      "extension = \".eps\"\n",
      "fig_list[0].savefig(\"Performance_index\" + extension,dpi=400)\n",
      "fig_list[1].savefig(\"sherwood_number\"+ extension,dpi=400)\n",
      "fig_list[2].savefig(\"pressure_drop\" +extension,dpi=400)\n",
      "fig_list[3].savefig(\"sherwood_cells\" + extension,dpi=400)\n",
      "fig_list[5].savefig(\"pressure_drop_cells\" + extension,dpi=400)\n",
      "#ax_list[1].set_yscale(\"log\")\n",
      "#ax_list[1].set_xscale(\"log\")\n",
      "\n",
      "# Write out data to *.dat files\n",
      "for geom in geometries:\n",
      "    with open(geom+\".dat\", 'wb') as file_obj:\n",
      "        file_obj.write(\"# Re_number, non-dimensional pressure drop, sherwood number \\n\")\n",
      "        data = np.vstack([np.array(data).flatten() for data in [re_data[geom],pressure_data[geom],sherwood_data[geom]]]).transpose()\n",
      "        np.savetxt(file_obj, data)"
     ],
     "language": "python",
     "metadata": {},
     "outputs": []
    },
    {
     "cell_type": "code",
     "collapsed": true,
     "input": [
      "\"kaf\".ljust(4)"
     ],
     "language": "python",
     "metadata": {},
     "outputs": []
    },
    {
     "cell_type": "code",
     "collapsed": false,
     "input": [
      "dispersion = []\n",
      "dispersion2 = []\n",
      "ratio_bulk =[]\n",
      "ratio_mean = []\n",
      "re = []\n",
      "#for geometry in [list_geom_A, list_geom_B,list_geom_C,list_geom_D,list_geom_E,list_geom_F]:\n",
      "for geometry in [list_geom_A]:\n",
      "\n",
      "    for sim in geometry:\n",
      "        dispersion.append(1/sim.result[\"m_bulk\"]*(sim.result[\"C_bulk\"]-sim.result[\"C_vol\"])/sim.result[\"C_vol\"]/sim.sim_info[\"diff\"]\n",
      "                          *sim.sim_info[\"vel\"])\n",
      "        re.append(sim.result[\"Re\"])\n",
      "\n",
      "    for sim in geometry:\n",
      "        lengthscale = sim.sim_info[\"Dp\"] + sim.sim_info[\"ds\"]\n",
      "        sh = sim.result[\"sherwood_number\"][0] * sim.sim_info[\"surf_to_volume\"] * lengthscale\n",
      "        Re = sim.result[\"Re\"]\n",
      "        Y_b_0 = sim.result[\"C_bulk\"]\n",
      "        Y_0   = sim.result[\"C_vol\"]\n",
      "        Y     = sim.result[\"C_vol_exit\"]\n",
      "        x_prime = sim.sim_info[\"kelvin_cell_size\"]/lengthscale\n",
      "#        disp2 = Re/sh * (((1+np.exp(-sh/Re*x_prime))*Y_b_0)/(Y+Y_0)-1-sh/Re)\n",
      "        disp2 = -1 + Re**2/sh*Y_b_0/Y *(1+np.exp(-sh/Re*x_prime))-Y_0/Y*Re**2/sh - Re**2/sh\n",
      "        disp2 =  Re**2/sh*((-1+np.exp(-sh/Re*x_prime))*Y_b_0/(Y-Y_0)-1 )\n",
      "\n",
      "        dispersion2.append(disp2)\n",
      "        ratio_bulk.append(1.0/(Re**2/sh+1+disp2))\n",
      "        ratio_mean.append((1+disp2)/(Re**2/sh+1+disp2))\n",
      "       \n",
      "    \n",
      "pl.plot(re,np.array(dispersion2)+1,'ok')\n",
      "pl.plot(re[:8],0.7045*np.array(re[:8])**0.942,'k')\n",
      "pl.gca().set_xlabel(\"Re (-)\")\n",
      "pl.gca().set_ylabel(\"D'\")\n",
      "pl.gca().legend([\"Current work\",\"Haussener et al.\"],loc=0)\n",
      "pl.gcf().savefig(\"D_prime.png\",dpi=200)\n",
      "#pl.plot(re,np.array(ratio_bulk),'o')\n",
      "#pl.plot(re,np.array(ratio_mean),'o')\n",
      "#pl.plot(re,np.array(dispersion))"
     ],
     "language": "python",
     "metadata": {},
     "outputs": []
    },
    {
     "cell_type": "code",
     "collapsed": false,
     "input": [
      "0.7*10**0.942"
     ],
     "language": "python",
     "metadata": {},
     "outputs": []
    },
    {
     "cell_type": "code",
     "collapsed": false,
     "input": [
      "import sympy as sy\n",
      "\n",
      "U,D,K,u,k,D,D_eff,A,a11,a12,a21,a22 = sy.var(\"U D K u k D D_eff A a11,a12,a21,a22\")\n",
      "\n",
      "k= sy.Symbol(\"k\",positive=True)\n",
      "u= sy.Symbol(\"u\",positive=True)\n",
      "D= sy.Symbol(\"D\",positive=True)\n",
      "D_eff= sy.Symbol(\"D_eff\",positive=True)\n",
      "\n",
      "\n",
      "U = sy.Matrix([[u,0],[0,u]])\n",
      "K = sy.Matrix([[k,0],[k,0]])\n",
      "D = sy.Matrix([[0,D],[0,D_eff]])\n",
      "A = sy.Matrix([[a11,a12],[a21,a22]])\n",
      "\n",
      "LHS = U*A - D*A**2 - K\n",
      "#LHS.subs({a21:0.0}\n",
      "equations = []\n",
      "equations.append(sy.Eq(LHS[0,0],0))\n",
      "equations.append(sy.Eq(LHS[0,1],0))\n",
      "equations.append(sy.Eq(LHS[1,0],0))\n",
      "equations.append(sy.Eq(LHS[1,1],0))\n",
      "\n",
      "print(equations)\n",
      "\n",
      "#print(LHS)\n",
      "\n",
      "sy.poly(equations,a11,a12,a21,a22])"
     ],
     "language": "python",
     "metadata": {},
     "outputs": []
    },
    {
     "cell_type": "code",
     "collapsed": false,
     "input": [],
     "language": "python",
     "metadata": {},
     "outputs": []
    },
    {
     "cell_type": "code",
     "collapsed": false,
     "input": [
      "# Pressure Drop Correlations \n",
      "\n",
      "#Giani 2005\n",
      "#\n",
      "def pressure_drop_giani(Re):\n",
      "    return 0.87*Re + 13.56\n",
      "\n",
      "#Garrido 2008\n",
      "def pressure_drop_garrido(Re,Dp=0.003,epsilon=0.9):\n",
      "    return Dp**0.82/(1.42E-4*epsilon**7) + Re *Dp**0.23/(0.89 * epsilon**4.42)\n",
      "\n",
      "#Steinfeld\n",
      "def pressure_drop_Steinfeld(Re):\n",
      "    return 28.334 + Re *  0.659\n",
      "\n",
      "func_list = [pressure_drop_Steinfeld, pressure_drop_giani, pressure_drop_garrido]\n",
      "re_list = np.linspace(1,200,20)\n",
      "\n",
      "plot_list = []\n",
      "for func in func_list:\n",
      "    plot_list.append([func(re) for re in re_list])\n",
      "\n",
      "for plot in plot_list:  \n",
      "  pl.plot(re_list,plot)\n",
      "pl.legend([\"Steinfeld\",\"Giani\",\"Garrido\"])"
     ],
     "language": "python",
     "metadata": {},
     "outputs": []
    },
    {
     "cell_type": "code",
     "collapsed": false,
     "input": [],
     "language": "python",
     "metadata": {},
     "outputs": []
    },
    {
     "cell_type": "code",
     "collapsed": false,
     "input": [
      "sim_variable_properties.result[\"sherwood_number\"]"
     ],
     "language": "python",
     "metadata": {},
     "outputs": []
    },
    {
     "cell_type": "heading",
     "level": 2,
     "metadata": {},
     "source": [
      "Utitlities"
     ]
    },
    {
     "cell_type": "code",
     "collapsed": false,
     "input": [
      "# Create slices\n",
      "\n",
      "for sim in list_geom_B+list_geom_C:\n",
      "  sh.copy(\"create_slices.py\",os.path.join(sim.info.local[\"sim_folder\"]))\n",
      "  sim.run_postprocess(\"create_slices.py\")"
     ],
     "language": "python",
     "metadata": {},
     "outputs": []
    },
    {
     "cell_type": "code",
     "collapsed": true,
     "input": [
      "forces = []\n",
      "sherwood = []\n",
      "for job in jobs_gc_C:\n",
      "    job.cp(\"RESULT/EIforces_Obj1.dat\")\n",
      "    job.cp(\"RESULT/mixture_conservation.dat\")\n",
      "    forces_file  = pa.file_reader(os.path.join(job.info.local[\"sim_folder\"],\"RESULT/EIforces_Obj1.dat_cluster\"))\n",
      "    sh_file      = pa.file_reader(os.path.join(job.info.local[\"sim_folder\"],\"RESULT/mixture_conservation.dat_cluster\"))\n",
      "    forces.append(forces_file.get_value(column=\".*total.*x.*\",timestep=-1))\n",
      "    sherwood.append(sh_file.get_value(\".*7.*C3H6.*\",timestep=-1))\n",
      "\n",
      "grids = np.array([16,25,40])\n",
      "fig = pl.figure()\n",
      "ax   = fig.add_subplot(1,2,1)\n",
      "ax1  = fig.add_subplot(1,2,2)\n",
      "ax.plot(grids,forces)\n",
      "\n",
      "ax1.plot(grids,sherwood)\n",
      "fig.tight_layout()\n"
     ],
     "language": "python",
     "metadata": {},
     "outputs": []
    },
    {
     "cell_type": "heading",
     "level": 2,
     "metadata": {},
     "source": [
      "1D Simulations"
     ]
    },
    {
     "cell_type": "code",
     "collapsed": false,
     "input": [
      "config = jc.configuration_mb_local\n",
      "config[\"jobname\"] = 'channel_test'\n",
      "config[\"root_folder\"] = 'inf_vol_avg'\n",
      "sim_1d = sim_b.job(**config)\n",
      "config[\"jobname\"] = 'channel_test_finite'\n",
      "config[\"root_folder\"] = 'inf_vol_avg'\n",
      "sim_1d_finite = sim_b.job(**config)"
     ],
     "language": "python",
     "metadata": {},
     "outputs": []
    },
    {
     "cell_type": "code",
     "collapsed": false,
     "input": [
      "sim_3d = jobs_a_8[2]\n",
      "sim_3d_cyclic = jobs_param_study[0]"
     ],
     "language": "python",
     "metadata": {},
     "outputs": []
    },
    {
     "cell_type": "code",
     "collapsed": false,
     "input": [
      "sim_1d.run_sim(nproc='1')"
     ],
     "language": "python",
     "metadata": {},
     "outputs": []
    },
    {
     "cell_type": "code",
     "collapsed": false,
     "input": [
      "data_3d = sim_3d.result[\"avg_Y\"]\n",
      "data_3d_cyclic = sim_3d_cyclic.result[\"avg_Y\"]\n",
      "\n",
      "xcoords = sim_3d.sim_info[\"kelvin_cell_size\"]*np.arange(0,len(data_3d))\n",
      "xcoords_cyclic = sim_3d_cyclic.sim_info[\"kelvin_cell_size\"]*np.arange(0,len(data_3d_cyclic))\n",
      "\n",
      "factor = 1155.0*8000.0*6.3569E-5/5.0\n",
      "print(factor)\n",
      "analytical = 0.003*np.exp(-(xcoords)*factor)\n",
      "\n",
      "def get_data(filename):\n",
      "\n",
      "  print(filename) \n",
      "  data = pa.para_reader(name)\n",
      "\n",
      "  line = pa.pa.PlotOverLine(data.threshold)\n",
      "  line.Source.Point1 = [0.0,0.0002,0.0]\n",
      "  line.Source.Point2 = [0.03,0.0002,0.0]\n",
      "  return pa.save_data_to_dict(line,cell=False)\n",
      "\n",
      "name = pa.get_last_modified(os.path.join(sim_1d.info.local[\"sim_folder\"],\"RESULT\"))\n",
      "data_1d = get_data(name)\n",
      "\n",
      "fig = pl.figure()\n",
      "ax = fig.add_subplot(1,1,1)\n",
      "\n",
      "\n",
      "\n",
      "ax.plot(data_1d['arc_length'],data_1d['C3H6'])\n",
      "ax.plot(xcoords,data_3d)\n",
      "ax.plot(xcoords_cyclic,data_3d_cyclic)\n",
      "\n",
      "print(\"dp 1d\",data_1d['P'][0]/0.04)\n",
      "print(\"dp 8 cells\",sim_3d.result[\"dp\"][2])\n",
      "print(\"dp 8 cells\",sim_3d_cyclic.result[\"dp\"][0])\n",
      "\n",
      "ax.set_xlabel(\"x-coordinate (m)\")\n",
      "ax.set_ylabel(\"$C_3H_6$ massfraction\")\n",
      "ax.legend([\"Volume averaged\",\"8 Cells\", \"Periodic\"])\n",
      "\n",
      "fig.savefig(\"Volume_averaged_verification.png\")\n"
     ],
     "language": "python",
     "metadata": {},
     "outputs": []
    },
    {
     "cell_type": "heading",
     "level": 2,
     "metadata": {},
     "source": [
      "Geometries A-F"
     ]
    },
    {
     "cell_type": "code",
     "collapsed": false,
     "input": [
      "def get_cases_from_list(Re_list,root_folder,reference_case,ds,porosity,geometry,Dp=0.002,create=False,grid=\"\"):\n",
      "    job_list = []\n",
      "    for Re in Re_list:\n",
      "        jobname = \"Re_\" + str(Re) + \"_geometry_\" +geometry + grid\n",
      "        if create:\n",
      "            try:\n",
      "                sh.copytree(os.path.join(root_folder,reference_case),os.path.join(root_folder,jobname))\n",
      "            except:\n",
      "                print(\"directory exists\")\n",
      "        config = jc.configuration_brutus\n",
      "        config[\"jobname\"]     = jobname\n",
      "        config[\"root_folder\"] = root_folder\n",
      "        job = sim_b.job(**config)\n",
      "        job.sim_info = {}\n",
      "        job.sim_info[\"ds\"] = ds\n",
      "        job.sim_info[\"Dp\"] = Dp\n",
      "        job.sim_info[\"porosity\"] = porosity\n",
      "        job.sim_info[\"surf_to_volume\"] = 10.33/(Dp+ds) * np.sqrt(1-porosity) -5.8/(Dp+ds)*(1.0-porosity)\n",
      "        job.sim_info[\"kelvin_cell_size\"] = Dp + ds\n",
      "        job.sim_info[\"ncells\"] = 1\n",
      "        job.sim_info[\"rho\"]    = 1.0\n",
      "        job.sim_info[\"vel\"]    = 0.001/((Dp+ds)/2.0)**2\n",
      "        job.sim_info[\"visc\"]   = job.sim_info[\"vel\"]*(Dp+ds) / Re\n",
      "        job.sim_info[\"diff\"]   = job.sim_info[\"visc\"]  \n",
      "        job.sim_info[\"name\"]   = geometry\n",
      " \n",
      "    \n",
      "        job.postprocess = job.sim_info.copy()\n",
      "        job.postprocess[\"iteration\"] = -1\n",
      "        job.postprocess[\"massflow_weight_Y\"] =  ['U','HembI','BMR_I']\n",
      "        job.postprocess[\"massflow_var_Y\"]    =  'C3H6'\n",
      "        job.postprocess[\"massflow_weight_P\"] =  ['HembI','BMR_I']\n",
      "        job.postprocess[\"massflow_var_P\"]    =  'P'\n",
      "        job.postprocess[\"iteration_list\"]    =  [-1]\n",
      "    \n",
      "        job.application.change_input(\"plane_dataset_movex\",str(job.sim_info[\"kelvin_cell_size\"]/2.))\n",
      "        job.application.change_input(\"visc(1)\",str(job.sim_info[\"visc\"]))  \n",
      "        job.application.change_input(\"rho(1)\",str(job.sim_info[\"rho\"]))  \n",
      "        job.application.change_input(\"sp_diff_phase(1)\",str(job.sim_info[\"diff\"]))\n",
      "        \n",
      "        job_list.append(job)\n",
      "    return job_list"
     ],
     "language": "python",
     "metadata": {},
     "outputs": []
    },
    {
     "cell_type": "code",
     "collapsed": false,
     "input": [
      "re_list = [150,150,150,150,150]\n",
      "grids   = [16,20,32,40,50]\n",
      "\n",
      "root_folder = \"/home/vonrickenbach/testcases_mb/kelvin_cell_final/geometries_DEF/geom_D_grid_convergence/\"\n",
      "\n",
      "ds = 0.00024\n",
      "porosity = 0.933\n",
      "\n",
      "grid_conv_list = []\n",
      "for grid,re in zip(grids,re_list):\n",
      "    grid_conv_list.append(get_cases_from_list([re],root_folder,reference_case=\"\",ds=ds,porosity=porosity,geometry=\"D\",create=False,grid=\"_\"+str(grid))[0])"
     ],
     "language": "python",
     "metadata": {},
     "outputs": []
    },
    {
     "cell_type": "code",
     "collapsed": false,
     "input": [
      "Re_list = [10,30,50,70,90,110,130,150]\n",
      "root_folder = \"/home/vonrickenbach/testcases_mb/kelvin_cell_final/geometries_DEF/geom_D\"\n",
      "reference_case = \"D_Re_10\"\n",
      "ds = 0.00024\n",
      "porosity = 0.933\n",
      "\n",
      "list_geom_D = get_cases_from_list(Re_list,root_folder,reference_case,ds,porosity,\"D\")"
     ],
     "language": "python",
     "metadata": {},
     "outputs": []
    },
    {
     "cell_type": "code",
     "collapsed": false,
     "input": [],
     "language": "python",
     "metadata": {},
     "outputs": []
    },
    {
     "cell_type": "code",
     "collapsed": false,
     "input": [
      "Re_list = [10,30,50,70,90,110,130,150]\n",
      "root_folder = \"/home/vonrickenbach/testcases_mb/kelvin_cell_final/geometries_DEF/geom_E\"\n",
      "reference_case = \"D_Re_10\"\n",
      "ds = 0.00046\n",
      "porosity = 0.816\n",
      "\n",
      "list_geom_E = get_cases_from_list(Re_list,root_folder,reference_case,ds,porosity,\"E\")"
     ],
     "language": "python",
     "metadata": {},
     "outputs": []
    },
    {
     "cell_type": "code",
     "collapsed": false,
     "input": [
      "Re_list = [10,30,50,70,90,110,130,150]\n",
      "root_folder = \"/home/vonrickenbach/testcases_mb/kelvin_cell_final/geometries_DEF/geom_F\"\n",
      "reference_case = \"D_Re_10\"\n",
      "ds = 0.00051\n",
      "porosity = 0.788\n",
      "\n",
      "list_geom_F = get_cases_from_list(Re_list,root_folder,reference_case,ds,porosity,\"F\")"
     ],
     "language": "python",
     "metadata": {},
     "outputs": []
    },
    {
     "cell_type": "code",
     "collapsed": false,
     "input": [
      "Re_list = [10,30,50,70,90,110,130,150]\n",
      "root_folder = \"/home/vonrickenbach/testcases_mb/kelvin_cell_final/geometries_ABC/geom_A\"\n",
      "reference_case = \"A11_U_25_cyclic_2_cells\"\n",
      "ds = 0.0003\n",
      "porosity = 0.903\n",
      "\n",
      "list_geom_A = get_cases_from_list(Re_list,root_folder,reference_case,ds,porosity,\"A\",Dp=0.002,create=True)"
     ],
     "language": "python",
     "metadata": {},
     "outputs": []
    },
    {
     "cell_type": "code",
     "collapsed": false,
     "input": [
      "root_folder = \"/home/vonrickenbach/testcases_mb/kelvin_cell_final/geometries_ABC/geom_B\"\n",
      "reference_case = \"B11_U_5_cyclic_2_cells\"\n",
      "ds = 0.00036\n",
      "porosity = 0.872\n",
      "\n",
      "list_geom_B = get_cases_from_list(Re_list,root_folder,reference_case,ds,porosity,\"B\",Dp=0.002,create=True)"
     ],
     "language": "python",
     "metadata": {},
     "outputs": []
    },
    {
     "cell_type": "code",
     "collapsed": false,
     "input": [
      "root_folder = \"/home/vonrickenbach/testcases_mb/kelvin_cell_final/geometries_ABC/geom_C\"\n",
      "reference_case = \"C13_U_5_cyclic_2_cells\"\n",
      "ds = 0.00041\n",
      "porosity = 0.844\n",
      "\n",
      "list_geom_C = get_cases_from_list(Re_list,root_folder,reference_case,ds,porosity,\"C\",Dp=0.002,create=False)"
     ],
     "language": "python",
     "metadata": {},
     "outputs": []
    },
    {
     "cell_type": "code",
     "collapsed": true,
     "input": [
      "root_folder = \"/home/vonrickenbach/testcases_mb/kelvin_cell_final/geometries_ABC/geom_A\"\n",
      "reference_case = \"C13_U_5_cyclic_2_cells\"\n",
      "ds = 0.0003\n",
      "porosity = 0.903\n",
      "Re_list =[1000]\n",
      "\n",
      "re_100_case = get_cases_from_list(Re_list,root_folder,reference_case,ds,porosity,\"A\",Dp=0.002,create=False)[0]"
     ],
     "language": "python",
     "metadata": {},
     "outputs": []
    },
    {
     "cell_type": "heading",
     "level": 2,
     "metadata": {},
     "source": [
      "Cyclic vs 8 cell simulations"
     ]
    },
    {
     "cell_type": "code",
     "collapsed": false,
     "input": [
      "root_folder = \"/home/vonrickenbach/testcases_mb/kelvin_cell_final/8_cells_realistic/\"\n",
      "jobname     = fu\n",
      "\n",
      "config = jc.configuration_brutus\n",
      "config[\"jobname\"]     = jobname\n",
      "config[\"root_folder\"] = root_folder\n",
      "job = sim_b.job(**config)\n",
      "job.sim_info = {}\n",
      "job.sim_info[\"ds\"] = 0.0003\n",
      "job.sim_info[\"Dp\"] = 0.002\n",
      "Dp = job.sim_info[\"Dp\"]\n",
      "ds = job.sim_info[\"ds\"]\n",
      "job.sim_info[\"porosity\"] = 0.903\n",
      "porosity = job.sim_info[\"porosity\"]\n",
      "job.sim_info[\"surf_to_volume\"] = 10.33/(Dp+ds) * np.sqrt(1-porosity) -5.8/(Dp+ds)*(1.0-porosity)\n",
      "job.sim_info[\"kelvin_cell_size\"] = Dp + ds\n",
      "job.sim_info[\"ncells\"] = 8\n",
      "job.sim_info[\"rho\"]    = 0.345824742251\n",
      "job.sim_info[\"vel\"]    = 5\n",
      "job.sim_info[\"visc\"]   = 4.18139212589685e-05\n",
      "job.sim_info[\"diff\"]   = 0.00010245836828498579\n",
      "job.sim_info[\"name\"]   = \"A\"\n",
      "\n",
      "\n",
      "job.postprocess = job.sim_info.copy()\n",
      "job.postprocess[\"iteration\"] = -1\n",
      "job.postprocess[\"massflow_weight_Y\"] =  ['U','HembI','BMR_I']\n",
      "job.postprocess[\"massflow_var_Y\"]    =  'C3H6'\n",
      "job.postprocess[\"massflow_weight_P\"] =  ['HembI','BMR_I']\n",
      "job.postprocess[\"massflow_var_P\"]    =  'P'\n",
      "job.postprocess[\"iteration_list\"]    =  [-1]\n",
      "sim_variable_properties = job"
     ],
     "language": "python",
     "metadata": {},
     "outputs": [
      {
       "output_type": "stream",
       "stream": "stdout",
       "text": [
        "mkdir: cannot create directory `/cluster/scratch_xl/public/vjan/st_3_dp_2_T_430_U_10_coarse': File exists\n",
        "===============================================\n",
        "username        vjan                                    \n",
        "scratch         /cluster/scratch_xl/public/vjan/        \n",
        "host            brutus.ethz.ch                          \n",
        "ssh             vjan@brutus.ethz.ch:/cluster/scratch_xl/public/vjan/st_3_dp_2_T_430_U_10_coarse\n",
        "dir             /cluster/scratch_xl/public/vjan/st_3_dp_2_T_430_U_10_coarse\n",
        "project_name    surf_reaction_kelvin                    \n",
        "sim_folder      /home/vonrickenbach/testcases_mb/kelvin_cell_final/8_cells_realistic/st_3_dp_2_T_430_U_10_coarse\n",
        "jobname         st_3_dp_2_T_430_U_10_coarse             \n",
        "===============================================\n"
       ]
      }
     ],
     "prompt_number": 3
    },
    {
     "cell_type": "code",
     "collapsed": false,
     "input": [
      "root_folder = \"/home/vonrickenbach/testcases_mb/kelvin_cell_final/8_cells_realistic/\"\n",
      "jobname     = \"st_3_dp_2_T_430_U_10_coarse_no_heat_release\"\n",
      "\n",
      "config = jc.configuration_brutus\n",
      "config[\"jobname\"]     = jobname\n",
      "config[\"root_folder\"] = root_folder\n",
      "job = sim_b.job(**config)\n",
      "job.sim_info = {}\n",
      "job.sim_info[\"ds\"] = 0.0003\n",
      "job.sim_info[\"Dp\"] = 0.002\n",
      "Dp = job.sim_info[\"Dp\"]\n",
      "ds = job.sim_info[\"ds\"]\n",
      "job.sim_info[\"porosity\"] = 0.903\n",
      "porosity = job.sim_info[\"porosity\"]\n",
      "job.sim_info[\"surf_to_volume\"] = 10.33/(Dp+ds) * np.sqrt(1-porosity) -5.8/(Dp+ds)*(1.0-porosity)\n",
      "job.sim_info[\"kelvin_cell_size\"] = Dp + ds\n",
      "job.sim_info[\"ncells\"] = 8\n",
      "job.sim_info[\"rho\"]    = 0.345824742251\n",
      "job.sim_info[\"vel\"]    = 5\n",
      "job.sim_info[\"visc\"]   = 4.18139212589685e-05\n",
      "job.sim_info[\"diff\"]   = 0.00010245836828498579\n",
      "job.sim_info[\"name\"]   = \"A\"\n",
      "\n",
      "\n",
      "job.postprocess = job.sim_info.copy()\n",
      "job.postprocess[\"iteration\"] = -1\n",
      "job.postprocess[\"massflow_weight_Y\"] =  ['U','HembI','BMR_I']\n",
      "job.postprocess[\"massflow_var_Y\"]    =  'C3H6'\n",
      "job.postprocess[\"massflow_weight_P\"] =  ['HembI','BMR_I']\n",
      "job.postprocess[\"massflow_var_P\"]    =  'P'\n",
      "job.postprocess[\"iteration_list\"]    =  [-1]\n",
      "sim_variable_properties_no_heat_release = job"
     ],
     "language": "python",
     "metadata": {},
     "outputs": []
    },
    {
     "cell_type": "code",
     "collapsed": false,
     "input": [
      "root_folder = \"/home/vonrickenbach/testcases_mb/kelvin_cell_final/8_cells_realistic/\"\n",
      "jobname     = \"realistic_constant_properties_Re_match\"\n",
      "\n",
      "config = jc.configuration_brutus\n",
      "config[\"jobname\"]     = jobname\n",
      "config[\"root_folder\"] = root_folder\n",
      "job = sim_b.job(**config)\n",
      "job.sim_info = {}\n",
      "job.sim_info[\"ds\"] = 0.0003\n",
      "job.sim_info[\"Dp\"] = 0.002\n",
      "Dp = job.sim_info[\"Dp\"]\n",
      "ds = job.sim_info[\"ds\"]\n",
      "job.sim_info[\"porosity\"] = 0.903\n",
      "porosity = job.sim_info[\"porosity\"]\n",
      "job.sim_info[\"surf_to_volume\"] = 10.33/(Dp+ds) * np.sqrt(1-porosity) -5.8/(Dp+ds)*(1.0-porosity)\n",
      "job.sim_info[\"kelvin_cell_size\"] = Dp + ds\n",
      "job.sim_info[\"ncells\"] = 8\n",
      "job.sim_info[\"rho\"]    = 0.3458625\n",
      "job.sim_info[\"vel\"]    = 5\n",
      "job.sim_info[\"visc\"]   = 4.18139E-5\n",
      "job.sim_info[\"diff\"]   = 0.00010245836  \n",
      "job.sim_info[\"name\"]   = \"A\"\n",
      "\n",
      "\n",
      "job.postprocess = job.sim_info.copy()\n",
      "job.postprocess[\"iteration\"] = -1\n",
      "job.postprocess[\"massflow_weight_Y\"] =  ['U','HembI','BMR_I']\n",
      "job.postprocess[\"massflow_var_Y\"]    =  'C3H6'\n",
      "job.postprocess[\"massflow_weight_P\"] =  ['HembI','BMR_I']\n",
      "job.postprocess[\"massflow_var_P\"]    =  'P'\n",
      "job.postprocess[\"iteration_list\"]    =  [-1]\n",
      "sim_const = job"
     ],
     "language": "python",
     "metadata": {},
     "outputs": []
    },
    {
     "cell_type": "code",
     "collapsed": false,
     "input": [
      "def create_sim_8_cells(jobname,re):\n",
      "    root_folder = \"/home/vonrickenbach/testcases_mb/kelvin_cell_final/8_cells_realistic/\"\n",
      "    \n",
      "    config = jc.configuration_brutus\n",
      "    config[\"jobname\"]     = jobname\n",
      "    config[\"root_folder\"] = root_folder\n",
      "    job = sim_b.job(**config)\n",
      "    job.sim_info = {}\n",
      "    job.sim_info[\"ds\"] = 0.0003\n",
      "    job.sim_info[\"Dp\"] = 0.002\n",
      "    Dp = job.sim_info[\"Dp\"]\n",
      "    ds = job.sim_info[\"ds\"]\n",
      "    job.sim_info[\"porosity\"] = 0.903\n",
      "    porosity = job.sim_info[\"porosity\"]\n",
      "    job.sim_info[\"surf_to_volume\"] = 10.33/(Dp+ds) * np.sqrt(1-porosity) -5.8/(Dp+ds)*(1.0-porosity)\n",
      "    job.sim_info[\"kelvin_cell_size\"] = Dp + ds\n",
      "    job.sim_info[\"ncells\"] = 8\n",
      "    job.sim_info[\"rho\"]    = 1.0\n",
      "    job.sim_info[\"vel\"]    = 10\n",
      "    job.sim_info[\"visc\"]   = job.sim_info[\"vel\"]*(job.sim_info[\"ds\"]+job.sim_info[\"Dp\"])/re\n",
      "    job.sim_info[\"diff\"]   = job.sim_info[\"visc\"] \n",
      "    job.sim_info[\"name\"]   = \"A\"\n",
      "    \n",
      "    \n",
      "    job.postprocess = job.sim_info.copy()\n",
      "    job.postprocess[\"iteration\"] = -1\n",
      "    job.postprocess[\"massflow_weight_Y\"] =  ['U','HembI','BMR_I',\"DEN\"]\n",
      "    job.postprocess[\"massflow_var_Y\"]    =  'C3H6'\n",
      "    job.postprocess[\"massflow_weight_P\"] =  ['HembI','BMR_I']\n",
      "    job.postprocess[\"massflow_var_P\"]    =  'P'\n",
      "    job.postprocess[\"iteration_list\"]    =  [-1]\n",
      "    return job"
     ],
     "language": "python",
     "metadata": {},
     "outputs": []
    },
    {
     "cell_type": "code",
     "collapsed": false,
     "input": [
      "folder_names_8_cell = [\"8_cells_Re_30\",\"8_cells_Re_90\",\"8_cells_Re_150\"]\n",
      "re_numbers  = [30,90,150]\n",
      "sim_8_cell_list = []                       \n",
      "for re_number,folder in zip(re_numbers,folder_names_8_cell):    \n",
      "    sim_8_cell_list.append(create_sim_8_cells(folder,re_number))"
     ],
     "language": "python",
     "metadata": {},
     "outputs": []
    },
    {
     "cell_type": "heading",
     "level": 2,
     "metadata": {},
     "source": [
      "Simulation with mechanism"
     ]
    },
    {
     "cell_type": "code",
     "collapsed": false,
     "input": [
      "def create_sim_in_real_folder(jobname):\n",
      "\n",
      "    root_folder = \"/home/vonrickenbach/testcases_mb/kelvin_cell_final/8_cells_realistic/\"\n",
      "\n",
      "    config = jc.configuration_brutus\n",
      "    config[\"jobname\"]     = jobname\n",
      "    config[\"root_folder\"] = root_folder\n",
      "    job = sim_b.job(**config)\n",
      "    job.sim_info = {}\n",
      "    job.sim_info[\"ds\"] = 0.0003\n",
      "    job.sim_info[\"Dp\"] = 0.002\n",
      "    Dp = job.sim_info[\"Dp\"]\n",
      "    ds = job.sim_info[\"ds\"]\n",
      "    job.sim_info[\"porosity\"] = 0.903\n",
      "    porosity = job.sim_info[\"porosity\"]\n",
      "    job.sim_info[\"surf_to_volume\"] = 10.33/(Dp+ds) * np.sqrt(1-porosity) -5.8/(Dp+ds)*(1.0-porosity)\n",
      "    job.sim_info[\"kelvin_cell_size\"] = Dp + ds\n",
      "    job.sim_info[\"ncells\"] = 8\n",
      "    job.sim_info[\"rho\"]    = 0.345824742251\n",
      "    job.sim_info[\"vel\"]    = 5\n",
      "    job.sim_info[\"visc\"]   = 4.18139212589685e-05\n",
      "    job.sim_info[\"diff\"]   = 0.00010245836828498579\n",
      "    job.sim_info[\"name\"]   = \"A\"\n",
      "\n",
      "\n",
      "    job.postprocess = job.sim_info.copy()\n",
      "    job.postprocess[\"iteration\"] = -1\n",
      "    job.postprocess[\"massflow_weight_Y\"] =  ['U','HembI','BMR_I']\n",
      "    job.postprocess[\"massflow_var_Y\"]    =  'C3H6'\n",
      "    job.postprocess[\"massflow_weight_P\"] =  ['HembI','BMR_I']\n",
      "    job.postprocess[\"massflow_var_P\"]    =  'P'\n",
      "    job.postprocess[\"iteration_list\"]    =  [-1]\n",
      "    \n",
      "    return job"
     ],
     "language": "python",
     "metadata": {},
     "outputs": [],
     "prompt_number": 4
    },
    {
     "cell_type": "code",
     "collapsed": true,
     "input": [
      "sim_chem_mech.sync_input()"
     ],
     "language": "python",
     "metadata": {},
     "outputs": []
    },
    {
     "cell_type": "code",
     "collapsed": true,
     "input": [
      "for sim in [sim_chem_mech]:\n",
      "    sim.sync_input()\n",
      "    #sim.application.load      = \"source ~/.bashrc_gfort\"\n",
      "    #sim.init_application.load = \"source ~/.bashrc_gfort\"\n",
      "    #sim.run_init(nproc=\"64\",memory=\"1024\",time='120')\n",
      "    #sim.run_sim(nproc=\"64\",memory=\"1024\",time='480',njobs=4,restart=True) \n",
      "    sim.sync_result(\"processed\")"
     ],
     "language": "python",
     "metadata": {},
     "outputs": []
    },
    {
     "cell_type": "code",
     "collapsed": true,
     "input": [
      "sim_chem_mech.peek()"
     ],
     "language": "python",
     "metadata": {},
     "outputs": []
    },
    {
     "cell_type": "code",
     "collapsed": true,
     "input": [
      "# Create slices\n",
      "filename = \"create_slices.py\"\n",
      "for sim in [sim_neumann]:\n",
      "  sh.copy(filename,os.path.join(sim.info.local[\"sim_folder\"]))\n",
      "  sim.run_postprocess(filename,nproc=\"1\",memory=\"16000\")"
     ],
     "language": "python",
     "metadata": {},
     "outputs": []
    },
    {
     "cell_type": "code",
     "collapsed": true,
     "input": [
      "sim_neumann.sync_result(\"processed\")"
     ],
     "language": "python",
     "metadata": {},
     "outputs": []
    },
    {
     "cell_type": "code",
     "collapsed": true,
     "input": [
      "#sim_neumann.sync_input()\n",
      "#sim_neumann.run_init(nproc=\"32\",memory=\"1024\",time='120')\n",
      "sim_neumann.run_sim(nproc=\"64\",memory=\"2048\",time='480',njobs=4,restart=True) \n",
      "#sim_neumann.kill()\n",
      "#sim_neumann.peek()\n"
     ],
     "language": "python",
     "metadata": {},
     "outputs": []
    },
    {
     "cell_type": "code",
     "collapsed": false,
     "input": [
      "sim_neumann.ltnt()"
     ],
     "language": "python",
     "metadata": {},
     "outputs": []
    },
    {
     "cell_type": "code",
     "collapsed": true,
     "input": [
      "sim_chem_mech_full = create_sim_in_real_folder(\"8_cell_with_chemistry_full\")\n",
      "sim_chem_wc = create_sim_in_real_folder(\"8_cell_with_washcoat_full\")\n",
      "sim_neumann = create_sim_in_real_folder(\"8_cell_inf_neumann\")\n",
      "sim_neumann_constant_prop = create_sim_in_real_folder(\"8_cell_inf_neumann_constant_prop\")\n",
      "sim_chem_mech = create_sim_in_real_folder(\"8_cell_with_chemistry_fine\")"
     ],
     "language": "python",
     "metadata": {},
     "outputs": [
      {
       "output_type": "stream",
       "stream": "stdout",
       "text": [
        "mkdir: cannot create directory `/cluster/scratch_xl/public/vjan/8_cell_with_chemistry_full': File exists\n",
        "===============================================\n",
        "username        vjan                                    \n",
        "scratch         /cluster/scratch_xl/public/vjan/        \n",
        "host            brutus.ethz.ch                          \n",
        "ssh             vjan@brutus.ethz.ch:/cluster/scratch_xl/public/vjan/8_cell_with_chemistry_full\n",
        "dir             /cluster/scratch_xl/public/vjan/8_cell_with_chemistry_full\n",
        "project_name    surf_reaction_kelvin                    \n",
        "sim_folder      /home/vonrickenbach/testcases_mb/kelvin_cell_final/8_cells_realistic/8_cell_with_chemistry_full\n",
        "jobname         8_cell_with_chemistry_full              \n",
        "===============================================\n",
        "mkdir: cannot create directory `/cluster/scratch_xl/public/vjan/8_cell_with_washcoat_full': File exists"
       ]
      },
      {
       "output_type": "stream",
       "stream": "stdout",
       "text": [
        "\n",
        "===============================================\n",
        "username        vjan                                    \n",
        "scratch         /cluster/scratch_xl/public/vjan/        \n",
        "host            brutus.ethz.ch                          \n",
        "ssh             vjan@brutus.ethz.ch:/cluster/scratch_xl/public/vjan/8_cell_with_washcoat_full\n",
        "dir             /cluster/scratch_xl/public/vjan/8_cell_with_washcoat_full\n",
        "project_name    surf_reaction_kelvin                    \n",
        "sim_folder      /home/vonrickenbach/testcases_mb/kelvin_cell_final/8_cells_realistic/8_cell_with_washcoat_full\n",
        "jobname         8_cell_with_washcoat_full               \n",
        "===============================================\n",
        "mkdir: cannot create directory `/cluster/scratch_xl/public/vjan/8_cell_inf_neumann': File exists"
       ]
      },
      {
       "output_type": "stream",
       "stream": "stdout",
       "text": [
        "\n",
        "===============================================\n",
        "username        vjan                                    \n",
        "scratch         /cluster/scratch_xl/public/vjan/        \n",
        "host            brutus.ethz.ch                          \n",
        "ssh             vjan@brutus.ethz.ch:/cluster/scratch_xl/public/vjan/8_cell_inf_neumann\n",
        "dir             /cluster/scratch_xl/public/vjan/8_cell_inf_neumann\n",
        "project_name    surf_reaction_kelvin                    \n",
        "sim_folder      /home/vonrickenbach/testcases_mb/kelvin_cell_final/8_cells_realistic/8_cell_inf_neumann\n",
        "jobname         8_cell_inf_neumann                      \n",
        "===============================================\n",
        "mkdir: cannot create directory `/cluster/scratch_xl/public/vjan/8_cell_inf_neumann_constant_prop': File exists"
       ]
      },
      {
       "output_type": "stream",
       "stream": "stdout",
       "text": [
        "\n",
        "===============================================\n",
        "username        vjan                                    \n",
        "scratch         /cluster/scratch_xl/public/vjan/        \n",
        "host            brutus.ethz.ch                          \n",
        "ssh             vjan@brutus.ethz.ch:/cluster/scratch_xl/public/vjan/8_cell_inf_neumann_constant_prop\n",
        "dir             /cluster/scratch_xl/public/vjan/8_cell_inf_neumann_constant_prop\n",
        "project_name    surf_reaction_kelvin                    \n",
        "sim_folder      /home/vonrickenbach/testcases_mb/kelvin_cell_final/8_cells_realistic/8_cell_inf_neumann_constant_prop\n",
        "jobname         8_cell_inf_neumann_constant_prop        \n",
        "===============================================\n",
        "mkdir: cannot create directory `/cluster/scratch_xl/public/vjan/8_cell_with_chemistry_fine': File exists"
       ]
      },
      {
       "output_type": "stream",
       "stream": "stdout",
       "text": [
        "\n",
        "===============================================\n",
        "username        vjan                                    \n",
        "scratch         /cluster/scratch_xl/public/vjan/        \n",
        "host            brutus.ethz.ch                          \n",
        "ssh             vjan@brutus.ethz.ch:/cluster/scratch_xl/public/vjan/8_cell_with_chemistry_fine\n",
        "dir             /cluster/scratch_xl/public/vjan/8_cell_with_chemistry_fine\n",
        "project_name    surf_reaction_kelvin                    \n",
        "sim_folder      /home/vonrickenbach/testcases_mb/kelvin_cell_final/8_cells_realistic/8_cell_with_chemistry_fine\n",
        "jobname         8_cell_with_chemistry_fine              \n",
        "===============================================\n"
       ]
      }
     ],
     "prompt_number": 5
    },
    {
     "cell_type": "code",
     "collapsed": true,
     "input": [
      "sim.ltnt()"
     ],
     "language": "python",
     "metadata": {},
     "outputs": []
    },
    {
     "cell_type": "code",
     "collapsed": true,
     "input": [
      "for sim in [sim_chem_mech_full]:\n",
      "    #sim.sync_input()\n",
      "    #sim.run_init(nproc=\"96\",memory=\"1024\",time='480')\n",
      "    sim.run_sim(nproc=\"64\",memory=\"2048\",time='480',njobs=4,restart=False) \n",
      "    #sim.kill()"
     ],
     "language": "python",
     "metadata": {},
     "outputs": []
    },
    {
     "cell_type": "code",
     "collapsed": false,
     "input": [
      "for sim in [sim_chem_wc]:\n",
      "    sim.sync_input()\n",
      "    #sim.application.load      = \"source ~/.bashrc_gfort\"\n",
      "    #sim.init_application.load = \"source ~/.bashrc_gfort\"\n",
      "    #sim.run_init(nproc=\"32\",memory=\"1024\",time='120')\n",
      "    sim.run_sim(nproc=\"32\",memory=\"2048\",time='480',njobs=4,restart=False) \n",
      "    sim.kill()"
     ],
     "language": "python",
     "metadata": {},
     "outputs": []
    },
    {
     "cell_type": "code",
     "collapsed": false,
     "input": [
      "#for sim in [sim_neumann,sim_chem_mech,sim_chem_mech_full,sim_chem_wc]:\n",
      "for sim in [sim_chem_mech]:\n",
      "\n",
      "   #sim.kill()\n",
      "   \n",
      "   #filename = \"create_slices.py\"\n",
      "   #filename = \"full_3d.py\"\n",
      "   #sh.copy(filename,os.path.join(sim.info.local[\"sim_folder\"]))\n",
      "   #sim.run_postprocess(filename)\n",
      "    \n",
      "   #sim.sync_result(\"processed\")"
     ],
     "language": "python",
     "metadata": {},
     "outputs": []
    },
    {
     "cell_type": "code",
     "collapsed": true,
     "input": [
      "def filter_file(sim):\n",
      "    sim.cp()\n",
      "    filename = os.path.join(sim.info.local[\"sim_folder\"],\"std_out.log_cluster\")\n",
      "    file_obj = open(filename)\n",
      "    last_job = []\n",
      "    for line in file_obj:\n",
      "        last_job.append(line)\n",
      "        if \"Your job looked like\" in line:\n",
      "            last_job = []\n",
      "            \n",
      "    for line in last_job:       \n",
      "        if \"---> iteration stops here\" in line:\n",
      "            return \"converged\"\n",
      "        else:\n",
      "            return last_job[:]"
     ],
     "language": "python",
     "metadata": {},
     "outputs": []
    },
    {
     "cell_type": "code",
     "collapsed": true,
     "input": [
      "print(filter_file(re_100_case))"
     ],
     "language": "python",
     "metadata": {},
     "outputs": []
    },
    {
     "cell_type": "code",
     "collapsed": true,
     "input": [
      "# Create slices\n",
      "filename = \"full_3d.py\"\n",
      "for sim in [sim_chem_mech_full]:\n",
      "  sh.copy(filename,os.path.join(sim.info.local[\"sim_folder\"]))\n",
      "  sim.run_postprocess(filename,nproc=\"1\",memory=\"16000\")"
     ],
     "language": "python",
     "metadata": {},
     "outputs": []
    },
    {
     "cell_type": "heading",
     "level": 2,
     "metadata": {},
     "source": [
      "Running testing output"
     ]
    },
    {
     "cell_type": "code",
     "collapsed": false,
     "input": [
      "for sim in list_geom_B+list_geom_C:\n",
      "    sim.sync_input()\n",
      "    sim.application.load      = \"source ~/.bashrc_gfort\"\n",
      "    sim.init_application.load = \"source ~/.bashrc_gfort\"\n",
      "    #sim.run_init(nproc=\"32\",memory=\"1024\",time='60')\n",
      "    sim.run_sim(nproc=\"16\",memory=\"1024\",time='480',njobs=2,restart=True)  \n",
      "    #sim.kill()"
     ],
     "language": "python",
     "metadata": {},
     "outputs": []
    },
    {
     "cell_type": "code",
     "collapsed": false,
     "input": [
      "for sim in list_geom_A+list_geom_B+list_geom_C+list_geom_D+list_geom_E+list_geom_F:\n",
      "    sh.copy(\"slice_avg.py\",os.path.join(sim.info.local[\"sim_folder\"]))\n",
      "    sim.run_postprocess(\"slice_avg.py\")"
     ],
     "language": "python",
     "metadata": {},
     "outputs": []
    },
    {
     "cell_type": "code",
     "collapsed": false,
     "input": [
      "sim = list_geom_A[4]\n",
      "sh.copy(\"slice_avg.py\",os.path.join(sim.info.local[\"sim_folder\"]))\n",
      "sim.run_postprocess(\"slice_avg.py\")"
     ],
     "language": "python",
     "metadata": {},
     "outputs": []
    },
    {
     "cell_type": "code",
     "collapsed": false,
     "input": [
      "sim=list_geom_D[0]\n",
      "sim.sync_input()\n",
      "sim.kill()\n",
      "#sim.run_init(nproc=\"32\",memory=\"1024\",time='60')\n",
      "#sim.run_sim(nproc=\"16\",memory=\"1024\",time='480',njobs=1,restart=False)  "
     ],
     "language": "python",
     "metadata": {},
     "outputs": []
    },
    {
     "cell_type": "code",
     "collapsed": false,
     "input": [
      "sim = list_geom_A[1]\n",
      "filename = \"slice_avg.py\"\n",
      "    \n",
      "sh.copy(filename,os.path.join(sim.info.local[\"sim_folder\"]))\n",
      "sim.run_postprocess(filename,nproc='1',memory='10000')"
     ],
     "language": "python",
     "metadata": {},
     "outputs": []
    },
    {
     "cell_type": "code",
     "collapsed": false,
     "input": [
      "#for sim in sim_8_cell_list+[sim_const,sim_variable_properties,sim_variable_properties_no_heat_release]:\n",
      "for sim in [sim_variable_properties]:\n",
      "   # update_status(sim)\n",
      "    #sh.copy(\"create_slices.py\",os.path.join(sim.info.local[\"sim_folder\"]))\n",
      "    #sim.run_postprocess(\"create_slices.py\")\n",
      "    #sim.sync_result(\"processed\")\n",
      "    filename = \"slice_avg.py\"\n",
      "    \n",
      "    sh.copy(filename,os.path.join(sim.info.local[\"sim_folder\"]))\n",
      "    \n",
      "    sim.run_postprocess(filename,nproc='1',memory='10000')\n",
      "    sim.sync_result(\"processed\")\n",
      "    #sim.sync_result(\"processed\")\n",
      "    #sim.sync_input()"
     ],
     "language": "python",
     "metadata": {},
     "outputs": []
    },
    {
     "cell_type": "code",
     "collapsed": false,
     "input": [
      "sim = sim_variable_properties \n",
      "sh.copy(\"create_slices.py\",os.path.join(sim.info.local[\"sim_folder\"]))\n",
      "sim.run_postprocess(\"create_slices.py\")"
     ],
     "language": "python",
     "metadata": {},
     "outputs": []
    },
    {
     "cell_type": "code",
     "collapsed": false,
     "input": [
      "sim_chem_mech_full.sync_result(\"processed\")"
     ],
     "language": "python",
     "metadata": {},
     "outputs": []
    },
    {
     "cell_type": "code",
     "collapsed": false,
     "input": [
      "for sim in sim_8_cell_list:\n",
      "    sim.kill()"
     ],
     "language": "python",
     "metadata": {},
     "outputs": []
    },
    {
     "cell_type": "code",
     "collapsed": false,
     "input": [
      "sim = sim_variable_properties\n",
      "#sim.sync_input()\n",
      "#sim.run_init(nproc=\"64\",memory=\"2048\",time='480')\n",
      "sim.run_sim(nproc=\"64\",memory=\"2048\",time='480',njobs=8,restart=False)  \n",
      "#sim.kill()"
     ],
     "language": "python",
     "metadata": {},
     "outputs": [
      {
       "output_type": "stream",
       "stream": "stdout",
       "text": [
        "===================================================\n",
        " Syncing Current Working Directory with Cluster \n",
        "===================================================\n",
        "==================================================="
       ]
      },
      {
       "output_type": "stream",
       "stream": "stdout",
       "text": [
        "\n",
        " Syncing Current Working Directory with Cluster \n",
        "===================================================\n",
        "bsub -n 64 -W 480 -R \"rusage[mem=2048]\" -J st_3_dp_2_T_430_U_10_coarse -o std_out.log  mpirun ./transatmbDP -pc_hypre_boomeramg_max_iter -pc_hypre_boomeramg_coarsen_type HMIS -pc_hypre_boomeramg_interp_type ext+i -pc_hypre_boomeramg_P_max 4 -pc_hypre_boomeramg_strong_treshold 0 -pc_hypre_boomeramg_agg_nl 2"
       ]
      },
      {
       "output_type": "stream",
       "stream": "stdout",
       "text": [
        "\n",
        "Job <52447642> is submitted to queue <pub.8h>."
       ]
      },
      {
       "output_type": "stream",
       "stream": "stdout",
       "text": [
        "\n",
        "MPI job.\n",
        "bsub -n 1 -W 60 -R \"rusage[mem=2048]\" -J st_3_dp_2_T_430_U_10_coarse -o post_command.log -w \"ended(st_3_dp_2_T_430_U_10_coarse)\"  ./post_command.py \n",
        "bsub -n 64 -W 480 -R \"rusage[mem=2048]\" -J st_3_dp_2_T_430_U_10_coarse -o std_out.log -w \"ended(st_3_dp_2_T_430_U_10_coarse)\" mpirun ./transatmbDP -pc_hypre_boomeramg_max_iter -pc_hypre_boomeramg_coarsen_type HMIS -pc_hypre_boomeramg_interp_type ext+i -pc_hypre_boomeramg_P_max 4 -pc_hypre_boomeramg_strong_treshold 0 -pc_hypre_boomeramg_agg_nl 2"
       ]
      },
      {
       "output_type": "stream",
       "stream": "stdout",
       "text": [
        "\n",
        "Job <52447645> is submitted to queue <pub.8h>."
       ]
      },
      {
       "output_type": "stream",
       "stream": "stdout",
       "text": [
        "\n",
        "MPI job.\n",
        "bsub -n 1 -W 60 -R \"rusage[mem=2048]\" -J st_3_dp_2_T_430_U_10_coarse -o post_command.log -w \"ended(st_3_dp_2_T_430_U_10_coarse)\"  ./post_command.py \n",
        "bsub -n 64 -W 480 -R \"rusage[mem=2048]\" -J st_3_dp_2_T_430_U_10_coarse -o std_out.log -w \"ended(st_3_dp_2_T_430_U_10_coarse)\" mpirun ./transatmbDP -pc_hypre_boomeramg_max_iter -pc_hypre_boomeramg_coarsen_type HMIS -pc_hypre_boomeramg_interp_type ext+i -pc_hypre_boomeramg_P_max 4 -pc_hypre_boomeramg_strong_treshold 0 -pc_hypre_boomeramg_agg_nl 2"
       ]
      },
      {
       "output_type": "stream",
       "stream": "stdout",
       "text": [
        "\n",
        "Job <52447647> is submitted to queue <pub.8h>."
       ]
      },
      {
       "output_type": "stream",
       "stream": "stdout",
       "text": [
        "\n",
        "MPI job.\n",
        "bsub -n 1 -W 60 -R \"rusage[mem=2048]\" -J st_3_dp_2_T_430_U_10_coarse -o post_command.log -w \"ended(st_3_dp_2_T_430_U_10_coarse)\"  ./post_command.py \n",
        "bsub -n 64 -W 480 -R \"rusage[mem=2048]\" -J st_3_dp_2_T_430_U_10_coarse -o std_out.log -w \"ended(st_3_dp_2_T_430_U_10_coarse)\" mpirun ./transatmbDP -pc_hypre_boomeramg_max_iter -pc_hypre_boomeramg_coarsen_type HMIS -pc_hypre_boomeramg_interp_type ext+i -pc_hypre_boomeramg_P_max 4 -pc_hypre_boomeramg_strong_treshold 0 -pc_hypre_boomeramg_agg_nl 2"
       ]
      },
      {
       "output_type": "stream",
       "stream": "stdout",
       "text": [
        "\n",
        "Job <52447649> is submitted to queue <pub.8h>."
       ]
      },
      {
       "output_type": "stream",
       "stream": "stdout",
       "text": [
        "\n",
        "MPI job.\n",
        "bsub -n 1 -W 60 -R \"rusage[mem=2048]\" -J st_3_dp_2_T_430_U_10_coarse -o post_command.log -w \"ended(st_3_dp_2_T_430_U_10_coarse)\"  ./post_command.py \n",
        "bsub -n 64 -W 480 -R \"rusage[mem=2048]\" -J st_3_dp_2_T_430_U_10_coarse -o std_out.log -w \"ended(st_3_dp_2_T_430_U_10_coarse)\" mpirun ./transatmbDP -pc_hypre_boomeramg_max_iter -pc_hypre_boomeramg_coarsen_type HMIS -pc_hypre_boomeramg_interp_type ext+i -pc_hypre_boomeramg_P_max 4 -pc_hypre_boomeramg_strong_treshold 0 -pc_hypre_boomeramg_agg_nl 2\n",
        "Job <52447651> is submitted to queue <pub.8h>."
       ]
      },
      {
       "output_type": "stream",
       "stream": "stdout",
       "text": [
        "\n",
        "MPI job.\n",
        "bsub -n 1 -W 60 -R \"rusage[mem=2048]\" -J st_3_dp_2_T_430_U_10_coarse -o post_command.log -w \"ended(st_3_dp_2_T_430_U_10_coarse)\"  ./post_command.py \n",
        "bsub -n 64 -W 480 -R \"rusage[mem=2048]\" -J st_3_dp_2_T_430_U_10_coarse -o std_out.log -w \"ended(st_3_dp_2_T_430_U_10_coarse)\" mpirun ./transatmbDP -pc_hypre_boomeramg_max_iter -pc_hypre_boomeramg_coarsen_type HMIS -pc_hypre_boomeramg_interp_type ext+i -pc_hypre_boomeramg_P_max 4 -pc_hypre_boomeramg_strong_treshold 0 -pc_hypre_boomeramg_agg_nl 2"
       ]
      },
      {
       "output_type": "stream",
       "stream": "stdout",
       "text": [
        "\n",
        "Job <52447653> is submitted to queue <pub.8h>."
       ]
      },
      {
       "output_type": "stream",
       "stream": "stdout",
       "text": [
        "\n",
        "MPI job.\n",
        "bsub -n 1 -W 60 -R \"rusage[mem=2048]\" -J st_3_dp_2_T_430_U_10_coarse -o post_command.log -w \"ended(st_3_dp_2_T_430_U_10_coarse)\"  ./post_command.py \n",
        "bsub -n 64 -W 480 -R \"rusage[mem=2048]\" -J st_3_dp_2_T_430_U_10_coarse -o std_out.log -w \"ended(st_3_dp_2_T_430_U_10_coarse)\" mpirun ./transatmbDP -pc_hypre_boomeramg_max_iter -pc_hypre_boomeramg_coarsen_type HMIS -pc_hypre_boomeramg_interp_type ext+i -pc_hypre_boomeramg_P_max 4 -pc_hypre_boomeramg_strong_treshold 0 -pc_hypre_boomeramg_agg_nl 2\n",
        "Job <52447655> is submitted to queue <pub.8h>."
       ]
      },
      {
       "output_type": "stream",
       "stream": "stdout",
       "text": [
        "\n",
        "MPI job.\n",
        "bsub -n 1 -W 60 -R \"rusage[mem=2048]\" -J st_3_dp_2_T_430_U_10_coarse -o post_command.log -w \"ended(st_3_dp_2_T_430_U_10_coarse)\"  ./post_command.py \n",
        "bsub -n 64 -W 480 -R \"rusage[mem=2048]\" -J st_3_dp_2_T_430_U_10_coarse -o std_out.log -w \"ended(st_3_dp_2_T_430_U_10_coarse)\" mpirun ./transatmbDP -pc_hypre_boomeramg_max_iter -pc_hypre_boomeramg_coarsen_type HMIS -pc_hypre_boomeramg_interp_type ext+i -pc_hypre_boomeramg_P_max 4 -pc_hypre_boomeramg_strong_treshold 0 -pc_hypre_boomeramg_agg_nl 2"
       ]
      },
      {
       "output_type": "stream",
       "stream": "stdout",
       "text": [
        "\n",
        "Job <52447657> is submitted to queue <pub.8h>."
       ]
      },
      {
       "output_type": "stream",
       "stream": "stdout",
       "text": [
        "\n",
        "MPI job.\n"
       ]
      }
     ],
     "prompt_number": 13
    },
    {
     "cell_type": "code",
     "collapsed": false,
     "input": [
      "sim = sim_chem_mech_full\n",
      "#sim.sync_input()\n",
      "#sim.run_init(nproc=\"64\",memory=\"2048\",time='480')\n",
      "sim.run_sim(nproc=\"64\",memory=\"2048\",time='480',njobs=8,endtime=80,restart=True)  \n",
      "#sim.kill()"
     ],
     "language": "python",
     "metadata": {},
     "outputs": [
      {
       "output_type": "stream",
       "stream": "stdout",
       "text": [
        "===================================================\n",
        " Syncing Current Working Directory with Cluster \n",
        "===================================================\n",
        "==================================================="
       ]
      },
      {
       "output_type": "stream",
       "stream": "stdout",
       "text": [
        "\n",
        " Syncing Current Working Directory with Cluster \n",
        "===================================================\n",
        "bsub -n 1 -W 60 -R \"rusage[mem=2048]\" -J 8_cell_with_chemistry_full -o post_command.log   ./post_command.py "
       ]
      },
      {
       "output_type": "stream",
       "stream": "stdout",
       "text": [
        "\n",
        "Job <52596059> is submitted to queue <pub.1h>."
       ]
      },
      {
       "output_type": "stream",
       "stream": "stdout",
       "text": [
        "\n",
        "Generic job.\n",
        "bsub -n 64 -W 480 -R \"rusage[mem=2048]\" -J 8_cell_with_chemistry_full -o std_out.log -w \"ended(8_cell_with_chemistry_full)\" mpirun ./transatmbDP -pc_hypre_boomeramg_max_iter -pc_hypre_boomeramg_coarsen_type HMIS -pc_hypre_boomeramg_interp_type ext+i -pc_hypre_boomeramg_P_max 4 -pc_hypre_boomeramg_strong_treshold 0 -pc_hypre_boomeramg_agg_nl 2\n",
        "Job <52596060> is submitted to queue <pub.8h>."
       ]
      },
      {
       "output_type": "stream",
       "stream": "stdout",
       "text": [
        "\n",
        "MPI job.\n",
        "bsub -n 1 -W 60 -R \"rusage[mem=2048]\" -J 8_cell_with_chemistry_full -o post_command.log -w \"ended(8_cell_with_chemistry_full)\"  ./post_command.py \n",
        "bsub -n 64 -W 480 -R \"rusage[mem=2048]\" -J 8_cell_with_chemistry_full -o std_out.log -w \"ended(8_cell_with_chemistry_full)\" mpirun ./transatmbDP -pc_hypre_boomeramg_max_iter -pc_hypre_boomeramg_coarsen_type HMIS -pc_hypre_boomeramg_interp_type ext+i -pc_hypre_boomeramg_P_max 4 -pc_hypre_boomeramg_strong_treshold 0 -pc_hypre_boomeramg_agg_nl 2"
       ]
      },
      {
       "output_type": "stream",
       "stream": "stdout",
       "text": [
        "\n",
        "Job <52596062> is submitted to queue <pub.8h>."
       ]
      },
      {
       "output_type": "stream",
       "stream": "stdout",
       "text": [
        "\n",
        "MPI job.\n",
        "bsub -n 1 -W 60 -R \"rusage[mem=2048]\" -J 8_cell_with_chemistry_full -o post_command.log -w \"ended(8_cell_with_chemistry_full)\"  ./post_command.py \n",
        "bsub -n 64 -W 480 -R \"rusage[mem=2048]\" -J 8_cell_with_chemistry_full -o std_out.log -w \"ended(8_cell_with_chemistry_full)\" mpirun ./transatmbDP -pc_hypre_boomeramg_max_iter -pc_hypre_boomeramg_coarsen_type HMIS -pc_hypre_boomeramg_interp_type ext+i -pc_hypre_boomeramg_P_max 4 -pc_hypre_boomeramg_strong_treshold 0 -pc_hypre_boomeramg_agg_nl 2"
       ]
      },
      {
       "output_type": "stream",
       "stream": "stdout",
       "text": [
        "\n",
        "Job <52596064> is submitted to queue <pub.8h>."
       ]
      },
      {
       "output_type": "stream",
       "stream": "stdout",
       "text": [
        "\n",
        "MPI job.\n",
        "bsub -n 1 -W 60 -R \"rusage[mem=2048]\" -J 8_cell_with_chemistry_full -o post_command.log -w \"ended(8_cell_with_chemistry_full)\"  ./post_command.py \n",
        "bsub -n 64 -W 480 -R \"rusage[mem=2048]\" -J 8_cell_with_chemistry_full -o std_out.log -w \"ended(8_cell_with_chemistry_full)\" mpirun ./transatmbDP -pc_hypre_boomeramg_max_iter -pc_hypre_boomeramg_coarsen_type HMIS -pc_hypre_boomeramg_interp_type ext+i -pc_hypre_boomeramg_P_max 4 -pc_hypre_boomeramg_strong_treshold 0 -pc_hypre_boomeramg_agg_nl 2\n",
        "Job <52596066> is submitted to queue <pub.8h>."
       ]
      },
      {
       "output_type": "stream",
       "stream": "stdout",
       "text": [
        "\n",
        "MPI job.\n",
        "bsub -n 1 -W 60 -R \"rusage[mem=2048]\" -J 8_cell_with_chemistry_full -o post_command.log -w \"ended(8_cell_with_chemistry_full)\"  ./post_command.py \n",
        "bsub -n 64 -W 480 -R \"rusage[mem=2048]\" -J 8_cell_with_chemistry_full -o std_out.log -w \"ended(8_cell_with_chemistry_full)\" mpirun ./transatmbDP -pc_hypre_boomeramg_max_iter -pc_hypre_boomeramg_coarsen_type HMIS -pc_hypre_boomeramg_interp_type ext+i -pc_hypre_boomeramg_P_max 4 -pc_hypre_boomeramg_strong_treshold 0 -pc_hypre_boomeramg_agg_nl 2\n",
        "Job <52596067> is submitted to queue <pub.8h>."
       ]
      },
      {
       "output_type": "stream",
       "stream": "stdout",
       "text": [
        "\n",
        "MPI job.\n",
        "bsub -n 1 -W 60 -R \"rusage[mem=2048]\" -J 8_cell_with_chemistry_full -o post_command.log -w \"ended(8_cell_with_chemistry_full)\"  ./post_command.py \n",
        "bsub -n 64 -W 480 -R \"rusage[mem=2048]\" -J 8_cell_with_chemistry_full -o std_out.log -w \"ended(8_cell_with_chemistry_full)\" mpirun ./transatmbDP -pc_hypre_boomeramg_max_iter -pc_hypre_boomeramg_coarsen_type HMIS -pc_hypre_boomeramg_interp_type ext+i -pc_hypre_boomeramg_P_max 4 -pc_hypre_boomeramg_strong_treshold 0 -pc_hypre_boomeramg_agg_nl 2\n",
        "Job <52596072> is submitted to queue <pub.8h>."
       ]
      },
      {
       "output_type": "stream",
       "stream": "stdout",
       "text": [
        "\n",
        "MPI job.\n",
        "bsub -n 1 -W 60 -R \"rusage[mem=2048]\" -J 8_cell_with_chemistry_full -o post_command.log -w \"ended(8_cell_with_chemistry_full)\"  ./post_command.py \n",
        "bsub -n 64 -W 480 -R \"rusage[mem=2048]\" -J 8_cell_with_chemistry_full -o std_out.log -w \"ended(8_cell_with_chemistry_full)\" mpirun ./transatmbDP -pc_hypre_boomeramg_max_iter -pc_hypre_boomeramg_coarsen_type HMIS -pc_hypre_boomeramg_interp_type ext+i -pc_hypre_boomeramg_P_max 4 -pc_hypre_boomeramg_strong_treshold 0 -pc_hypre_boomeramg_agg_nl 2\n",
        "Job <52596074> is submitted to queue <pub.8h>."
       ]
      },
      {
       "output_type": "stream",
       "stream": "stdout",
       "text": [
        "\n",
        "MPI job.\n",
        "bsub -n 1 -W 60 -R \"rusage[mem=2048]\" -J 8_cell_with_chemistry_full -o post_command.log -w \"ended(8_cell_with_chemistry_full)\"  ./post_command.py \n",
        "bsub -n 64 -W 480 -R \"rusage[mem=2048]\" -J 8_cell_with_chemistry_full -o std_out.log -w \"ended(8_cell_with_chemistry_full)\" mpirun ./transatmbDP -pc_hypre_boomeramg_max_iter -pc_hypre_boomeramg_coarsen_type HMIS -pc_hypre_boomeramg_interp_type ext+i -pc_hypre_boomeramg_P_max 4 -pc_hypre_boomeramg_strong_treshold 0 -pc_hypre_boomeramg_agg_nl 2"
       ]
      },
      {
       "output_type": "stream",
       "stream": "stdout",
       "text": [
        "\n",
        "Job <52596076> is submitted to queue <pub.8h>."
       ]
      },
      {
       "output_type": "stream",
       "stream": "stdout",
       "text": [
        "\n",
        "MPI job.\n"
       ]
      }
     ],
     "prompt_number": 23
    },
    {
     "cell_type": "code",
     "collapsed": false,
     "input": [
      "sim_chem_mech_full.peek()"
     ],
     "language": "python",
     "metadata": {},
     "outputs": [
      {
       "output_type": "stream",
       "stream": "stdout",
       "text": [
        "<< output from stdout >>\n",
        "At line 631 of file ../src/set_dependent_values.f90 (unit = 10, file = 'RESULT/surf_reaction_kelvin.log41')"
       ]
      },
      {
       "output_type": "stream",
       "stream": "stdout",
       "text": [
        "\n",
        "Fortran runtime error: Cannot send after transport endpoint shutdown\n",
        "At line 631 of file ../src/set_dependent_values.f90 (unit = 10, file = 'RESULT/surf_reaction_kelvin.log32')\n",
        "Fortran runtime error: Cannot send after transport endpoint shutdown\n",
        "At line 631 of file ../src/set_dependent_values.f90 (unit = 10, file = 'RESULT/surf_reaction_kelvin.log57')\n",
        "Fortran runtime error: Cannot send after transport endpoint shutdown\n"
       ]
      }
     ],
     "prompt_number": 20
    },
    {
     "cell_type": "code",
     "collapsed": false,
     "input": [
      "sim_variable_properties.sync_result(\"processed\")"
     ],
     "language": "python",
     "metadata": {},
     "outputs": [
      {
       "output_type": "stream",
       "stream": "stdout",
       "text": [
        "===================================================\n",
        " Syncing processed folder  with Cluster      \n",
        "===================================================\n"
       ]
      }
     ],
     "prompt_number": 22
    },
    {
     "cell_type": "code",
     "collapsed": false,
     "input": [
      "filename = \"full_3d.py\"\n",
      "\n",
      "for sim in [sim_chem_mech_full]:\n",
      "    sh.copy(filename,os.path.join(sim.info.local[\"sim_folder\"]))\n",
      "    sim.run_postprocess(filename)"
     ],
     "language": "python",
     "metadata": {},
     "outputs": [
      {
       "output_type": "stream",
       "stream": "stdout",
       "text": [
        "===================================================\n",
        " Syncing Current Working Directory with Cluster \n",
        "===================================================\n",
        "source $HOME/.bashrc_paraview; bsub -n 1 -W 60 -R \"rusage[mem=2048]\" -J 8_cell_with_chemistry_full -o postprocess.out  mpirun /cluster/home/mavt/vjan/ParaView-4.0.1-Linux-64bit/bin/pvbatch --use-offscreen-rendering full_3d.py"
       ]
      },
      {
       "output_type": "stream",
       "stream": "stdout",
       "text": [
        "\n"
       ]
      }
     ],
     "prompt_number": 24
    },
    {
     "cell_type": "code",
     "collapsed": false,
     "input": [
      "for sim in [sim_chem_mech_full]:\n",
      "    sim.sync_result(\"processed\")"
     ],
     "language": "python",
     "metadata": {},
     "outputs": [
      {
       "output_type": "stream",
       "stream": "stdout",
       "text": [
        "===================================================\n",
        " Syncing processed folder  with Cluster      \n",
        "===================================================\n"
       ]
      }
     ],
     "prompt_number": 25
    },
    {
     "cell_type": "code",
     "collapsed": false,
     "input": [],
     "language": "python",
     "metadata": {},
     "outputs": []
    }
   ],
   "metadata": {}
  }
 ]
}