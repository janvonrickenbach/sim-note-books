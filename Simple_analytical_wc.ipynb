{
 "metadata": {
  "name": "",
  "signature": "sha256:fbbe772805050899d3cedd34b7c624952a09f581e9947e2d33f9ca3618a838f6"
 },
 "nbformat": 3,
 "nbformat_minor": 0,
 "worksheets": [
  {
   "cells": [
    {
     "cell_type": "code",
     "collapsed": false,
     "input": [
      "import sympy as sy\n",
      "import matplotlib.pyplot as pl\n",
      "import numpy as np\n",
      "import cantera as ca\n",
      "import os\n",
      "import job_configurations as jc\n",
      "import simulation_brutus as sim_brutus\n",
      "import glob as gl\n",
      "\n",
      "%matplotlib inline\n",
      "sy.init_printing()\n"
     ],
     "language": "python",
     "metadata": {},
     "outputs": [],
     "prompt_number": 131
    },
    {
     "cell_type": "code",
     "collapsed": false,
     "input": [
      "D, D_b, h, rho, rho_b, wc_thickness, Y_b, L, Sh, A_V, surf_cov, Y_s, M_i,Y, x,RR,k_r,y, M_O2, Y_O2= sy.symbols(\"D D_b h rho rho_b  wc_thickness Y_b L Sh A_V, surf_cov Y_s M_i Y x RR k_r y M_O2, Y_O2\",positive=True,nonzero=True )\n",
      "cond,T,Delta_H,T_s,T_b,y_temp,eps, tort, lambda_b = sy.symbols(\"cond T Delta_H T_s T_b y_temp epsilon tort lambda_b\",positive=True,nonzero=True)\n",
      "a = sy.symbols(\"a\",positive=True,nonzero=True)"
     ],
     "language": "python",
     "metadata": {},
     "outputs": [],
     "prompt_number": 132
    },
    {
     "cell_type": "code",
     "collapsed": false,
     "input": [
      "ca.__file__"
     ],
     "language": "python",
     "metadata": {},
     "outputs": [
      {
       "metadata": {},
       "output_type": "pyout",
       "prompt_number": 133,
       "text": [
        "'/home/vonrickenbach/TransATSuite_Git/cantera/build/python2/cantera/__init__.pyc'"
       ]
      }
     ],
     "prompt_number": 133
    },
    {
     "cell_type": "code",
     "collapsed": false,
     "input": [
      "C1,C2= sy.symbols(\"C1 C2\" )\n"
     ],
     "language": "python",
     "metadata": {},
     "outputs": [],
     "prompt_number": 134
    },
    {
     "cell_type": "code",
     "collapsed": false,
     "input": [
      "Y = sy.Function(\"Y\")(x)\n",
      "T = sy.Function(\"T\")(x)\n",
      "Y_b = sy.Function(\"Y_b\")(y)\n",
      "T_b = sy.Function(\"T_b\")(y)"
     ],
     "language": "python",
     "metadata": {},
     "outputs": [],
     "prompt_number": 135
    },
    {
     "cell_type": "code",
     "collapsed": false,
     "input": [
      "diffeq = sy.Eq(rho*D*sy.diff(sy.diff(Y,x),x)-M_i*RR*A_V,0)"
     ],
     "language": "python",
     "metadata": {},
     "outputs": [],
     "prompt_number": 136
    },
    {
     "cell_type": "code",
     "collapsed": false,
     "input": [
      "diffeq=diffeq.subs({RR:k_r*(rho*Y/M_i)*(rho*Y_O2/M_O2)**2})"
     ],
     "language": "python",
     "metadata": {},
     "outputs": [],
     "prompt_number": 137
    },
    {
     "cell_type": "code",
     "collapsed": false,
     "input": [
      "sol=sy.dsolve(diffeq,Y)"
     ],
     "language": "python",
     "metadata": {},
     "outputs": [],
     "prompt_number": 138
    },
    {
     "cell_type": "code",
     "collapsed": false,
     "input": [
      "#homogeneous neumann\n",
      "neum_bc= sy.Eq(sy.diff(sol.rhs,x).subs({x:wc_thickness}),0)\n",
      "#neum_bc= sy.Eq(sol.rhs.subs({x:wc_thickness}),0)\n",
      "\n",
      "dir_bc = sy.Eq(sol.rhs.subs({x:0}),Y_s)\n",
      "\n",
      "bc_sol = sy.solve((dir_bc,neum_bc),C1,C2)"
     ],
     "language": "python",
     "metadata": {},
     "outputs": [],
     "prompt_number": 139
    },
    {
     "cell_type": "code",
     "collapsed": false,
     "input": [
      "part_sol = sol.subs(bc_sol)"
     ],
     "language": "python",
     "metadata": {},
     "outputs": [],
     "prompt_number": 140
    },
    {
     "cell_type": "code",
     "collapsed": false,
     "input": [
      "part_sol"
     ],
     "language": "python",
     "metadata": {},
     "outputs": [
      {
       "latex": [
        "$$Y{\\left (x \\right )} = \\frac{Y_{s} e^{\\frac{\\sqrt{A_{V}} Y_{O2} \\rho x}{\\sqrt{D} M_{O2}} \\sqrt{k_{r}}}}{e^{\\frac{2 Y_{O2} \\rho wc_{thickness}}{\\sqrt{D} M_{O2}} \\sqrt{A_{V}} \\sqrt{k_{r}}} + 1} + \\frac{Y_{s} - \\frac{Y_{s}}{e^{\\frac{2 Y_{O2} \\rho wc_{thickness}}{\\sqrt{D} M_{O2}} \\sqrt{A_{V}} \\sqrt{k_{r}}} + 1}}{e^{\\frac{\\sqrt{A_{V}} Y_{O2} \\rho x}{\\sqrt{D} M_{O2}} \\sqrt{k_{r}}}}$$"
       ],
       "metadata": {},
       "output_type": "pyout",
       "png": "[encoded data removed]",
       "prompt_number": 141,
       "text": [
        "                     _____        ____                                        \n",
        "                   \u2572\u2571 A_V \u22c5Y_O2\u22c5\u2572\u2571 k\u1d63 \u22c5\u03c1\u22c5x                                    \n",
        "                   \u2500\u2500\u2500\u2500\u2500\u2500\u2500\u2500\u2500\u2500\u2500\u2500\u2500\u2500\u2500\u2500\u2500\u2500\u2500\u2500\u2500\u2500\u2500                                    \n",
        "                            ___                                               \n",
        "                          \u2572\u2571 D \u22c5M_O2                                          \n",
        "              Y_s\u22c5\u212f                                \u239b                         Y\n",
        "Y(x) = \u2500\u2500\u2500\u2500\u2500\u2500\u2500\u2500\u2500\u2500\u2500\u2500\u2500\u2500\u2500\u2500\u2500\u2500\u2500\u2500\u2500\u2500\u2500\u2500\u2500\u2500\u2500\u2500\u2500\u2500\u2500\u2500\u2500\u2500\u2500\u2500\u2500\u2500\u2500\u2500\u2500 + \u239cY_s - \u2500\u2500\u2500\u2500\u2500\u2500\u2500\u2500\u2500\u2500\u2500\u2500\u2500\u2500\u2500\u2500\u2500\u2500\u2500\u2500\n",
        "            _____        ____                      \u239c           _____        __\n",
        "        2\u22c5\u2572\u2571 A_V \u22c5Y_O2\u22c5\u2572\u2571 k\u1d63 \u22c5\u03c1\u22c5wc_thickness       \u239c       2\u22c5\u2572\u2571 A_V \u22c5Y_O2\u22c5\u2572\u2571 k\n",
        "        \u2500\u2500\u2500\u2500\u2500\u2500\u2500\u2500\u2500\u2500\u2500\u2500\u2500\u2500\u2500\u2500\u2500\u2500\u2500\u2500\u2500\u2500\u2500\u2500\u2500\u2500\u2500\u2500\u2500\u2500\u2500\u2500\u2500\u2500\u2500\u2500       \u239c       \u2500\u2500\u2500\u2500\u2500\u2500\u2500\u2500\u2500\u2500\u2500\u2500\u2500\u2500\u2500\u2500\u2500\u2500\u2500\n",
        "                       ___                         \u239c                      ___ \n",
        "                     \u2572\u2571 D \u22c5M_O2                    \u239c                    \u2572\u2571 D \u22c5\n",
        "       \u212f                                     + 1   \u239d      \u212f                   \n",
        "\n",
        "                                                 \n",
        "                           _____        ____     \n",
        "                        -\u2572\u2571 A_V \u22c5Y_O2\u22c5\u2572\u2571 k\u1d63 \u22c5\u03c1\u22c5x \n",
        "                        \u2500\u2500\u2500\u2500\u2500\u2500\u2500\u2500\u2500\u2500\u2500\u2500\u2500\u2500\u2500\u2500\u2500\u2500\u2500\u2500\u2500\u2500\u2500\u2500\u2500\n",
        "                                  ___            \n",
        "_s                   \u239e          \u2572\u2571 D \u22c5M_O2       \n",
        "\u2500\u2500\u2500\u2500\u2500\u2500\u2500\u2500\u2500\u2500\u2500\u2500\u2500\u2500\u2500\u2500\u2500\u2500\u2500\u2500\u2500\u239f\u22c5\u212f                         \n",
        "__                   \u239f                           \n",
        "\u1d63 \u22c5\u03c1\u22c5wc_thickness    \u239f                           \n",
        "\u2500\u2500\u2500\u2500\u2500\u2500\u2500\u2500\u2500\u2500\u2500\u2500\u2500\u2500\u2500\u2500\u2500    \u239f                           \n",
        "                     \u239f                           \n",
        "M_O2                 \u239f                           \n",
        "                  + 1\u23a0                           "
       ]
      }
     ],
     "prompt_number": 141
    },
    {
     "cell_type": "code",
     "collapsed": false,
     "input": [
      "ext_flux = sy.Eq(Sh * rho_b*D_b/L * (Y_b - Y_s),-rho * D* sy.diff(part_sol.rhs,x).subs({x:0}))"
     ],
     "language": "python",
     "metadata": {},
     "outputs": [],
     "prompt_number": 142
    },
    {
     "cell_type": "code",
     "collapsed": false,
     "input": [
      "y_s_sol=sy.solve(ext_flux,Y_s)"
     ],
     "language": "python",
     "metadata": {},
     "outputs": [],
     "prompt_number": 143
    },
    {
     "cell_type": "code",
     "collapsed": false,
     "input": [
      "part_sol = part_sol.subs({Y_s:y_s_sol[0]})"
     ],
     "language": "python",
     "metadata": {},
     "outputs": [],
     "prompt_number": 144
    },
    {
     "cell_type": "code",
     "collapsed": false,
     "input": [
      "part_sol"
     ],
     "language": "python",
     "metadata": {},
     "outputs": [
      {
       "latex": [
        "$$Y{\\left (x \\right )} = \\frac{\\sqrt{D} D_{b} M_{O2} Sh \\rho_{b} \\operatorname{Y_{b}}{\\left (y \\right )} e^{\\frac{\\sqrt{A_{V}} Y_{O2} \\rho x}{\\sqrt{D} M_{O2}} \\sqrt{k_{r}}}}{\\sqrt{A_{V}} D L Y_{O2} \\sqrt{k_{r}} \\rho^{2} e^{\\frac{2 Y_{O2} \\rho wc_{thickness}}{\\sqrt{D} M_{O2}} \\sqrt{A_{V}} \\sqrt{k_{r}}} - \\sqrt{A_{V}} D L Y_{O2} \\sqrt{k_{r}} \\rho^{2} + \\sqrt{D} D_{b} M_{O2} Sh \\rho_{b} e^{\\frac{2 Y_{O2} \\rho wc_{thickness}}{\\sqrt{D} M_{O2}} \\sqrt{A_{V}} \\sqrt{k_{r}}} + \\sqrt{D} D_{b} M_{O2} Sh \\rho_{b}} + \\frac{1}{e^{\\frac{\\sqrt{A_{V}} Y_{O2} \\rho x}{\\sqrt{D} M_{O2}} \\sqrt{k_{r}}}} \\left(\\frac{\\sqrt{D} D_{b} M_{O2} Sh \\rho_{b} \\left(e^{\\frac{2 Y_{O2} \\rho wc_{thickness}}{\\sqrt{D} M_{O2}} \\sqrt{A_{V}} \\sqrt{k_{r}}} + 1\\right) \\operatorname{Y_{b}}{\\left (y \\right )}}{\\sqrt{A_{V}} D L Y_{O2} \\sqrt{k_{r}} \\rho^{2} e^{\\frac{2 Y_{O2} \\rho wc_{thickness}}{\\sqrt{D} M_{O2}} \\sqrt{A_{V}} \\sqrt{k_{r}}} - \\sqrt{A_{V}} D L Y_{O2} \\sqrt{k_{r}} \\rho^{2} + \\sqrt{D} D_{b} M_{O2} Sh \\rho_{b} e^{\\frac{2 Y_{O2} \\rho wc_{thickness}}{\\sqrt{D} M_{O2}} \\sqrt{A_{V}} \\sqrt{k_{r}}} + \\sqrt{D} D_{b} M_{O2} Sh \\rho_{b}} - \\frac{\\sqrt{D} D_{b} M_{O2} Sh \\rho_{b} \\operatorname{Y_{b}}{\\left (y \\right )}}{\\sqrt{A_{V}} D L Y_{O2} \\sqrt{k_{r}} \\rho^{2} e^{\\frac{2 Y_{O2} \\rho wc_{thickness}}{\\sqrt{D} M_{O2}} \\sqrt{A_{V}} \\sqrt{k_{r}}} - \\sqrt{A_{V}} D L Y_{O2} \\sqrt{k_{r}} \\rho^{2} + \\sqrt{D} D_{b} M_{O2} Sh \\rho_{b} e^{\\frac{2 Y_{O2} \\rho wc_{thickness}}{\\sqrt{D} M_{O2}} \\sqrt{A_{V}} \\sqrt{k_{r}}} + \\sqrt{D} D_{b} M_{O2} Sh \\rho_{b}}\\right)$$"
       ],
       "metadata": {},
       "output_type": "pyout",
       "png": "[encoded data removed]",
       "prompt_number": 145,
       "text": [
        "                                                                              \n",
        "                                                                              \n",
        "                                                                              \n",
        "                                                                              \n",
        "                                                                        ___   \n",
        "                                                                      \u2572\u2571 D \u22c5D_\n",
        "Y(x) = \u2500\u2500\u2500\u2500\u2500\u2500\u2500\u2500\u2500\u2500\u2500\u2500\u2500\u2500\u2500\u2500\u2500\u2500\u2500\u2500\u2500\u2500\u2500\u2500\u2500\u2500\u2500\u2500\u2500\u2500\u2500\u2500\u2500\u2500\u2500\u2500\u2500\u2500\u2500\u2500\u2500\u2500\u2500\u2500\u2500\u2500\u2500\u2500\u2500\u2500\u2500\u2500\u2500\u2500\u2500\u2500\u2500\u2500\u2500\u2500\u2500\u2500\u2500\u2500\u2500\u2500\u2500\u2500\u2500\u2500\u2500\n",
        "                                       _____        ____                      \n",
        "                                   2\u22c5\u2572\u2571 A_V \u22c5Y_O2\u22c5\u2572\u2571 k\u1d63 \u22c5\u03c1\u22c5wc_thickness       \n",
        "                                   \u2500\u2500\u2500\u2500\u2500\u2500\u2500\u2500\u2500\u2500\u2500\u2500\u2500\u2500\u2500\u2500\u2500\u2500\u2500\u2500\u2500\u2500\u2500\u2500\u2500\u2500\u2500\u2500\u2500\u2500\u2500\u2500\u2500\u2500\u2500\u2500       \n",
        "                                                  ___                         \n",
        "         _____            ____  2               \u2572\u2571 D \u22c5M_O2                  __\n",
        "       \u2572\u2571 A_V \u22c5D\u22c5L\u22c5Y_O2\u22c5\u2572\u2571 k\u1d63 \u22c5\u03c1 \u22c5\u212f                                     - \u2572\u2571 A\n",
        "\n",
        "                        _____        ____                                     \n",
        "                      \u2572\u2571 A_V \u22c5Y_O2\u22c5\u2572\u2571 k\u1d63 \u22c5\u03c1\u22c5x                                 \n",
        "                      \u2500\u2500\u2500\u2500\u2500\u2500\u2500\u2500\u2500\u2500\u2500\u2500\u2500\u2500\u2500\u2500\u2500\u2500\u2500\u2500\u2500\u2500\u2500                                 \n",
        "                               ___                                            \n",
        "                             \u2572\u2571 D \u22c5M_O2                                       \n",
        "b\u22c5M_O2\u22c5Sh\u22c5\u03c1_b\u22c5Y_b(y)\u22c5\u212f                                                        \n",
        "\u2500\u2500\u2500\u2500\u2500\u2500\u2500\u2500\u2500\u2500\u2500\u2500\u2500\u2500\u2500\u2500\u2500\u2500\u2500\u2500\u2500\u2500\u2500\u2500\u2500\u2500\u2500\u2500\u2500\u2500\u2500\u2500\u2500\u2500\u2500\u2500\u2500\u2500\u2500\u2500\u2500\u2500\u2500\u2500\u2500\u2500\u2500\u2500\u2500\u2500\u2500\u2500\u2500\u2500\u2500\u2500\u2500\u2500\u2500\u2500\u2500\u2500\u2500\u2500\u2500\u2500\u2500\u2500\u2500\u2500\u2500\u2500\u2500\u2500\u2500\u2500\u2500\u2500\n",
        "                                                    _____        ____         \n",
        "                                                2\u22c5\u2572\u2571 A_V \u22c5Y_O2\u22c5\u2572\u2571 k\u1d63 \u22c5\u03c1\u22c5wc_thi\n",
        "                                                \u2500\u2500\u2500\u2500\u2500\u2500\u2500\u2500\u2500\u2500\u2500\u2500\u2500\u2500\u2500\u2500\u2500\u2500\u2500\u2500\u2500\u2500\u2500\u2500\u2500\u2500\u2500\u2500\u2500\u2500\n",
        "                                                               ___            \n",
        "___            ____  2     ___                               \u2572\u2571 D \u22c5M_O2       \n",
        "_V \u22c5D\u22c5L\u22c5Y_O2\u22c5\u2572\u2571 k\u1d63 \u22c5\u03c1  + \u2572\u2571 D \u22c5D_b\u22c5M_O2\u22c5Sh\u22c5\u03c1_b\u22c5\u212f                              \n",
        "\n",
        "                                 \u239b                                            \n",
        "                                 \u239c                                            \n",
        "                                 \u239c                                            \n",
        "                                 \u239c                                            \n",
        "                                 \u239c                                            \n",
        "                                 \u239c                                            \n",
        "\u2500\u2500\u2500\u2500\u2500\u2500\u2500\u2500\u2500\u2500\u2500\u2500\u2500\u2500\u2500\u2500\u2500\u2500\u2500\u2500\u2500\u2500\u2500\u2500\u2500\u2500\u2500\u2500\u2500\u2500 + \u239c\u2500\u2500\u2500\u2500\u2500\u2500\u2500\u2500\u2500\u2500\u2500\u2500\u2500\u2500\u2500\u2500\u2500\u2500\u2500\u2500\u2500\u2500\u2500\u2500\u2500\u2500\u2500\u2500\u2500\u2500\u2500\u2500\u2500\u2500\u2500\u2500\u2500\u2500\u2500\u2500\u2500\u2500\u2500\u2500\n",
        "                                 \u239c                                _____       \n",
        "ckness                           \u239c                            2\u22c5\u2572\u2571 A_V \u22c5Y_O2\u22c5\u2572\n",
        "\u2500\u2500\u2500\u2500\u2500\u2500                           \u239c                            \u2500\u2500\u2500\u2500\u2500\u2500\u2500\u2500\u2500\u2500\u2500\u2500\u2500\u2500\u2500\u2500\n",
        "                                 \u239c                                           _\n",
        "           ___                   \u239c  _____            ____  2               \u2572\u2571 \n",
        "       + \u2572\u2571 D \u22c5D_b\u22c5M_O2\u22c5Sh\u22c5\u03c1_b   \u239d\u2572\u2571 A_V \u22c5D\u22c5L\u22c5Y_O2\u22c5\u2572\u2571 k\u1d63 \u22c5\u03c1 \u22c5\u212f                \n",
        "\n",
        "                                \u239b     _____        ____                   \u239e   \n",
        "                                \u239c 2\u22c5\u2572\u2571 A_V \u22c5Y_O2\u22c5\u2572\u2571 k\u1d63 \u22c5\u03c1\u22c5wc_thickness    \u239f   \n",
        "                                \u239c \u2500\u2500\u2500\u2500\u2500\u2500\u2500\u2500\u2500\u2500\u2500\u2500\u2500\u2500\u2500\u2500\u2500\u2500\u2500\u2500\u2500\u2500\u2500\u2500\u2500\u2500\u2500\u2500\u2500\u2500\u2500\u2500\u2500\u2500\u2500\u2500    \u239f   \n",
        "                                \u239c                ___                      \u239f   \n",
        "            ___                 \u239c              \u2572\u2571 D \u22c5M_O2                 \u239f   \n",
        "          \u2572\u2571 D \u22c5D_b\u22c5M_O2\u22c5Sh\u22c5\u03c1_b\u22c5\u239d\u212f                                     + 1\u23a0\u22c5Y_\n",
        "\u2500\u2500\u2500\u2500\u2500\u2500\u2500\u2500\u2500\u2500\u2500\u2500\u2500\u2500\u2500\u2500\u2500\u2500\u2500\u2500\u2500\u2500\u2500\u2500\u2500\u2500\u2500\u2500\u2500\u2500\u2500\u2500\u2500\u2500\u2500\u2500\u2500\u2500\u2500\u2500\u2500\u2500\u2500\u2500\u2500\u2500\u2500\u2500\u2500\u2500\u2500\u2500\u2500\u2500\u2500\u2500\u2500\u2500\u2500\u2500\u2500\u2500\u2500\u2500\u2500\u2500\u2500\u2500\u2500\u2500\u2500\u2500\u2500\u2500\u2500\u2500\u2500\u2500\n",
        " ____                                                                         \n",
        "\u2571 k\u1d63 \u22c5\u03c1\u22c5wc_thickness                                                       2\u22c5\u2572\n",
        "\u2500\u2500\u2500\u2500\u2500\u2500\u2500\u2500\u2500\u2500\u2500\u2500\u2500\u2500\u2500\u2500\u2500\u2500\u2500\u2500                                                       \u2500\u2500\u2500\n",
        "__                                                                            \n",
        "D \u22c5M_O2                  _____            ____  2     ___                     \n",
        "                     - \u2572\u2571 A_V \u22c5D\u22c5L\u22c5Y_O2\u22c5\u2572\u2571 k\u1d63 \u22c5\u03c1  + \u2572\u2571 D \u22c5D_b\u22c5M_O2\u22c5Sh\u22c5\u03c1_b\u22c5\u212f   \n",
        "\n",
        "                                                                              \n",
        "                                                                              \n",
        "                                                                              \n",
        "                                                                              \n",
        "                                                                              \n",
        "b(y)                                                                          \n",
        "\u2500\u2500\u2500\u2500\u2500\u2500\u2500\u2500\u2500\u2500\u2500\u2500\u2500\u2500\u2500\u2500\u2500\u2500\u2500\u2500\u2500\u2500\u2500\u2500\u2500\u2500\u2500\u2500\u2500\u2500\u2500\u2500\u2500\u2500\u2500\u2500\u2500\u2500\u2500\u2500\u2500\u2500\u2500\u2500\u2500\u2500\u2500\u2500\u2500\u2500\u2500\u2500\u2500\u2500\u2500\u2500\u2500 - \u2500\u2500\u2500\u2500\u2500\u2500\u2500\u2500\u2500\u2500\u2500\u2500\u2500\u2500\u2500\u2500\u2500\u2500\n",
        " _____        ____                                                            \n",
        "\u2571 A_V \u22c5Y_O2\u22c5\u2572\u2571 k\u1d63 \u22c5\u03c1\u22c5wc_thickness                                             \n",
        "\u2500\u2500\u2500\u2500\u2500\u2500\u2500\u2500\u2500\u2500\u2500\u2500\u2500\u2500\u2500\u2500\u2500\u2500\u2500\u2500\u2500\u2500\u2500\u2500\u2500\u2500\u2500\u2500\u2500\u2500\u2500\u2500\u2500                                             \n",
        "            ___                                                               \n",
        "          \u2572\u2571 D \u22c5M_O2                  ___                     _____           \n",
        "                                  + \u2572\u2571 D \u22c5D_b\u22c5M_O2\u22c5Sh\u22c5\u03c1_b   \u2572\u2571 A_V \u22c5D\u22c5L\u22c5Y_O2\u22c5\u2572\n",
        "\n",
        "                                                                              \n",
        "                                                                              \n",
        "                                                                              \n",
        "                                                                              \n",
        "                                                            ___               \n",
        "                                                          \u2572\u2571 D \u22c5D_b\u22c5M_O2\u22c5Sh\u22c5\u03c1_\n",
        "\u2500\u2500\u2500\u2500\u2500\u2500\u2500\u2500\u2500\u2500\u2500\u2500\u2500\u2500\u2500\u2500\u2500\u2500\u2500\u2500\u2500\u2500\u2500\u2500\u2500\u2500\u2500\u2500\u2500\u2500\u2500\u2500\u2500\u2500\u2500\u2500\u2500\u2500\u2500\u2500\u2500\u2500\u2500\u2500\u2500\u2500\u2500\u2500\u2500\u2500\u2500\u2500\u2500\u2500\u2500\u2500\u2500\u2500\u2500\u2500\u2500\u2500\u2500\u2500\u2500\u2500\u2500\u2500\u2500\u2500\u2500\u2500\u2500\u2500\u2500\u2500\u2500\u2500\n",
        "              _____        ____                                               \n",
        "          2\u22c5\u2572\u2571 A_V \u22c5Y_O2\u22c5\u2572\u2571 k\u1d63 \u22c5\u03c1\u22c5wc_thickness                                \n",
        "          \u2500\u2500\u2500\u2500\u2500\u2500\u2500\u2500\u2500\u2500\u2500\u2500\u2500\u2500\u2500\u2500\u2500\u2500\u2500\u2500\u2500\u2500\u2500\u2500\u2500\u2500\u2500\u2500\u2500\u2500\u2500\u2500\u2500\u2500\u2500\u2500                                \n",
        "                         ___                                                  \n",
        " ____  2               \u2572\u2571 D \u22c5M_O2                  _____            ____  2   \n",
        "\u2571 k\u1d63 \u22c5\u03c1 \u22c5\u212f                                     - \u2572\u2571 A_V \u22c5D\u22c5L\u22c5Y_O2\u22c5\u2572\u2571 k\u1d63 \u22c5\u03c1  + \n",
        "\n",
        "                                                                              \n",
        "                                                                              \n",
        "                                                                              \n",
        "                                                                              \n",
        "                                                                              \n",
        "b\u22c5Y_b(y)                                                                      \n",
        "\u2500\u2500\u2500\u2500\u2500\u2500\u2500\u2500\u2500\u2500\u2500\u2500\u2500\u2500\u2500\u2500\u2500\u2500\u2500\u2500\u2500\u2500\u2500\u2500\u2500\u2500\u2500\u2500\u2500\u2500\u2500\u2500\u2500\u2500\u2500\u2500\u2500\u2500\u2500\u2500\u2500\u2500\u2500\u2500\u2500\u2500\u2500\u2500\u2500\u2500\u2500\u2500\u2500\u2500\u2500\u2500\u2500\u2500\u2500\u2500\u2500\u2500\u2500\u2500\u2500\u2500\u2500\u2500\u2500\u2500\u2500\u2500\u2500\u2500\u2500\u2500\u2500\u2500\n",
        "                           _____        ____                                  \n",
        "                       2\u22c5\u2572\u2571 A_V \u22c5Y_O2\u22c5\u2572\u2571 k\u1d63 \u22c5\u03c1\u22c5wc_thickness                   \n",
        "                       \u2500\u2500\u2500\u2500\u2500\u2500\u2500\u2500\u2500\u2500\u2500\u2500\u2500\u2500\u2500\u2500\u2500\u2500\u2500\u2500\u2500\u2500\u2500\u2500\u2500\u2500\u2500\u2500\u2500\u2500\u2500\u2500\u2500\u2500\u2500\u2500                   \n",
        "                                      ___                                     \n",
        "  ___                               \u2572\u2571 D \u22c5M_O2                  ___           \n",
        "\u2572\u2571 D \u22c5D_b\u22c5M_O2\u22c5Sh\u22c5\u03c1_b\u22c5\u212f                                     + \u2572\u2571 D \u22c5D_b\u22c5M_O2\u22c5S\n",
        "\n",
        "     \u239e                           \n",
        "     \u239f     _____        ____     \n",
        "     \u239f  -\u2572\u2571 A_V \u22c5Y_O2\u22c5\u2572\u2571 k\u1d63 \u22c5\u03c1\u22c5x \n",
        "     \u239f  \u2500\u2500\u2500\u2500\u2500\u2500\u2500\u2500\u2500\u2500\u2500\u2500\u2500\u2500\u2500\u2500\u2500\u2500\u2500\u2500\u2500\u2500\u2500\u2500\u2500\n",
        "     \u239f            ___            \n",
        "     \u239f          \u2572\u2571 D \u22c5M_O2       \n",
        "\u2500\u2500\u2500\u2500\u2500\u239f\u22c5\u212f                         \n",
        "     \u239f                           \n",
        "     \u239f                           \n",
        "     \u239f                           \n",
        "     \u239f                           \n",
        "     \u239f                           \n",
        "h\u22c5\u03c1_b\u23a0                           "
       ]
      }
     ],
     "prompt_number": 145
    },
    {
     "cell_type": "code",
     "collapsed": false,
     "input": [
      "sol_simple = part_sol\n",
      "Y_s = sol_simple.subs({x:0})"
     ],
     "language": "python",
     "metadata": {},
     "outputs": [],
     "prompt_number": 146
    },
    {
     "cell_type": "code",
     "collapsed": false,
     "input": [
      "Y_s"
     ],
     "language": "python",
     "metadata": {},
     "outputs": [
      {
       "latex": [
        "$$Y{\\left (0 \\right )} = \\frac{\\sqrt{D} D_{b} M_{O2} Sh \\rho_{b} \\left(e^{\\frac{2 Y_{O2} \\rho wc_{thickness}}{\\sqrt{D} M_{O2}} \\sqrt{A_{V}} \\sqrt{k_{r}}} + 1\\right) \\operatorname{Y_{b}}{\\left (y \\right )}}{\\sqrt{A_{V}} D L Y_{O2} \\sqrt{k_{r}} \\rho^{2} e^{\\frac{2 Y_{O2} \\rho wc_{thickness}}{\\sqrt{D} M_{O2}} \\sqrt{A_{V}} \\sqrt{k_{r}}} - \\sqrt{A_{V}} D L Y_{O2} \\sqrt{k_{r}} \\rho^{2} + \\sqrt{D} D_{b} M_{O2} Sh \\rho_{b} e^{\\frac{2 Y_{O2} \\rho wc_{thickness}}{\\sqrt{D} M_{O2}} \\sqrt{A_{V}} \\sqrt{k_{r}}} + \\sqrt{D} D_{b} M_{O2} Sh \\rho_{b}}$$"
       ],
       "metadata": {},
       "output_type": "pyout",
       "png": "[encoded data removed]",
       "prompt_number": 147,
       "text": [
        "                                                                              \n",
        "                                                                              \n",
        "                                                                              \n",
        "                                                                              \n",
        "                                                               ___            \n",
        "                                                             \u2572\u2571 D \u22c5D_b\u22c5M_O2\u22c5Sh\n",
        "Y(0) = \u2500\u2500\u2500\u2500\u2500\u2500\u2500\u2500\u2500\u2500\u2500\u2500\u2500\u2500\u2500\u2500\u2500\u2500\u2500\u2500\u2500\u2500\u2500\u2500\u2500\u2500\u2500\u2500\u2500\u2500\u2500\u2500\u2500\u2500\u2500\u2500\u2500\u2500\u2500\u2500\u2500\u2500\u2500\u2500\u2500\u2500\u2500\u2500\u2500\u2500\u2500\u2500\u2500\u2500\u2500\u2500\u2500\u2500\u2500\u2500\u2500\u2500\u2500\u2500\u2500\u2500\u2500\u2500\u2500\u2500\u2500\n",
        "                                       _____        ____                      \n",
        "                                   2\u22c5\u2572\u2571 A_V \u22c5Y_O2\u22c5\u2572\u2571 k\u1d63 \u22c5\u03c1\u22c5wc_thickness       \n",
        "                                   \u2500\u2500\u2500\u2500\u2500\u2500\u2500\u2500\u2500\u2500\u2500\u2500\u2500\u2500\u2500\u2500\u2500\u2500\u2500\u2500\u2500\u2500\u2500\u2500\u2500\u2500\u2500\u2500\u2500\u2500\u2500\u2500\u2500\u2500\u2500\u2500       \n",
        "                                                  ___                         \n",
        "         _____            ____  2               \u2572\u2571 D \u22c5M_O2                  __\n",
        "       \u2572\u2571 A_V \u22c5D\u22c5L\u22c5Y_O2\u22c5\u2572\u2571 k\u1d63 \u22c5\u03c1 \u22c5\u212f                                     - \u2572\u2571 A\n",
        "\n",
        "     \u239b     _____        ____                   \u239e                              \n",
        "     \u239c 2\u22c5\u2572\u2571 A_V \u22c5Y_O2\u22c5\u2572\u2571 k\u1d63 \u22c5\u03c1\u22c5wc_thickness    \u239f                              \n",
        "     \u239c \u2500\u2500\u2500\u2500\u2500\u2500\u2500\u2500\u2500\u2500\u2500\u2500\u2500\u2500\u2500\u2500\u2500\u2500\u2500\u2500\u2500\u2500\u2500\u2500\u2500\u2500\u2500\u2500\u2500\u2500\u2500\u2500\u2500\u2500\u2500\u2500    \u239f                              \n",
        "     \u239c                ___                      \u239f                              \n",
        "     \u239c              \u2572\u2571 D \u22c5M_O2                 \u239f                              \n",
        "\u22c5\u03c1_b\u22c5\u239d\u212f                                     + 1\u23a0\u22c5Y_b(y)                       \n",
        "\u2500\u2500\u2500\u2500\u2500\u2500\u2500\u2500\u2500\u2500\u2500\u2500\u2500\u2500\u2500\u2500\u2500\u2500\u2500\u2500\u2500\u2500\u2500\u2500\u2500\u2500\u2500\u2500\u2500\u2500\u2500\u2500\u2500\u2500\u2500\u2500\u2500\u2500\u2500\u2500\u2500\u2500\u2500\u2500\u2500\u2500\u2500\u2500\u2500\u2500\u2500\u2500\u2500\u2500\u2500\u2500\u2500\u2500\u2500\u2500\u2500\u2500\u2500\u2500\u2500\u2500\u2500\u2500\u2500\u2500\u2500\u2500\u2500\u2500\u2500\u2500\u2500\u2500\n",
        "                                                    _____        ____         \n",
        "                                                2\u22c5\u2572\u2571 A_V \u22c5Y_O2\u22c5\u2572\u2571 k\u1d63 \u22c5\u03c1\u22c5wc_thi\n",
        "                                                \u2500\u2500\u2500\u2500\u2500\u2500\u2500\u2500\u2500\u2500\u2500\u2500\u2500\u2500\u2500\u2500\u2500\u2500\u2500\u2500\u2500\u2500\u2500\u2500\u2500\u2500\u2500\u2500\u2500\u2500\n",
        "                                                               ___            \n",
        "___            ____  2     ___                               \u2572\u2571 D \u22c5M_O2       \n",
        "_V \u22c5D\u22c5L\u22c5Y_O2\u22c5\u2572\u2571 k\u1d63 \u22c5\u03c1  + \u2572\u2571 D \u22c5D_b\u22c5M_O2\u22c5Sh\u22c5\u03c1_b\u22c5\u212f                              \n",
        "\n",
        "                              \n",
        "                              \n",
        "                              \n",
        "                              \n",
        "                              \n",
        "                              \n",
        "\u2500\u2500\u2500\u2500\u2500\u2500\u2500\u2500\u2500\u2500\u2500\u2500\u2500\u2500\u2500\u2500\u2500\u2500\u2500\u2500\u2500\u2500\u2500\u2500\u2500\u2500\u2500\u2500\u2500\u2500\n",
        "                              \n",
        "ckness                        \n",
        "\u2500\u2500\u2500\u2500\u2500\u2500                        \n",
        "                              \n",
        "           ___                \n",
        "       + \u2572\u2571 D \u22c5D_b\u22c5M_O2\u22c5Sh\u22c5\u03c1_b"
       ]
      }
     ],
     "prompt_number": 147
    },
    {
     "cell_type": "code",
     "collapsed": false,
     "input": [],
     "language": "python",
     "metadata": {},
     "outputs": [],
     "prompt_number": 147
    },
    {
     "cell_type": "code",
     "collapsed": false,
     "input": [
      "cantera_file = \"/home/vonrickenbach/contrib_git/cantera_tests/washcoat_model/cantera_input.cti\"\n",
      "gas = ca.import_phases(cantera_file,[\"gas\"])[0]\n",
      "interface = ca.Interface(cantera_file,\"pt_surf\",[gas])\n",
      "interface.TPX = (1000,1E5,[1])\n",
      "massfrac = np.array([0.0001,0.0,0.1,0.8999])\n",
      "\n",
      "porosity = 0.3\n",
      "\n",
      "gas.TPY = (1000,1E5,massfrac)\n",
      "wc_thick = 1E-4\n",
      "val_dict = {}\n",
      "\n",
      "cont_diff = gas.mix_diff_coeffs[0]*porosity/2\n",
      "knuds_diff = 1E-7/3.0*np.sqrt(8*ca.gas_constant /(np.pi*0.032))*porosity/2\n",
      "val_dict[D] = 1./(1./knuds_diff+1./cont_diff)\n",
      "val_dict[D_b] = gas.mix_diff_coeffs[0]\n",
      "val_dict[rho] = gas.density\n",
      "val_dict[rho_b] = gas.density\n",
      "val_dict[A_V] = 5.0/wc_thick\n",
      "val_dict[wc_thickness] = wc_thick\n",
      "val_dict[Sh] = 400.0\n",
      "#val_dict[Y_b] = 0.0001\n",
      "val_dict[L] = 100*wc_thick\n",
      "val_dict[k_r] = 1\n",
      "val_dict[M_i] = 0.032\n",
      "val_dict[Delta_H] = interface.delta_enthalpy[0]/1000\n",
      "val_dict[cond] = (gas.thermal_conductivity*porosity+(1.-porosity)*0.05)\n",
      "val_dict[lambda_b] = gas.thermal_conductivity\n",
      "#val_dict[T_b] = 1000\n",
      "val_dict[M_O2] = 0.028\n",
      "val_dict[Y_O2] = 0.1\n",
      "#val_dict[lambda_b] = gas.thermal_conductivity\n",
      "\n",
      "sol_simple = part_sol.subs(val_dict)\n",
      "sol_simple"
     ],
     "language": "python",
     "metadata": {},
     "outputs": [
      {
       "latex": [
        "$$Y{\\left (x \\right )} = \\frac{0.929158994346975}{e^{143971.860452841 x}} \\operatorname{Y_{b}}{\\left (y \\right )} + 2.90304071251191 \\cdot 10^{-13} \\operatorname{Y_{b}}{\\left (y \\right )} e^{143971.860452841 x}$$"
       ],
       "metadata": {},
       "output_type": "pyout",
       "png": "[encoded data removed]",
       "prompt_number": 148,
       "text": [
        "                                 -143971.860452841\u22c5x                          \n",
        "Y(x) = 0.929158994346975\u22c5Y_b(y)\u22c5\u212f                    + 2.90304071251191e-13\u22c5Y_\n",
        "\n",
        "      143971.860452841\u22c5x\n",
        "b(y)\u22c5\u212f                  "
       ]
      }
     ],
     "prompt_number": 148
    },
    {
     "cell_type": "code",
     "collapsed": false,
     "input": [
      "A_V = 1000\n",
      "u   = 2.5\n",
      "rho = gas.density\n",
      "h = val_dict[Sh]*val_dict[D_b]/val_dict[L]\n",
      "\n",
      "diffeq_y_b = sy.Eq(rho * u * sy.diff(Y_b,y)+rho* h* A_V* (Y_b-Y_s.rhs),0)"
     ],
     "language": "python",
     "metadata": {},
     "outputs": [],
     "prompt_number": 149
    },
    {
     "cell_type": "code",
     "collapsed": false,
     "input": [
      "diffeq_y_b = diffeq_y_b.subs(val_dict)\n",
      "diffeq_y_b"
     ],
     "language": "python",
     "metadata": {},
     "outputs": [
      {
       "latex": [
        "$$157.422561603484 \\operatorname{Y_{b}}{\\left (y \\right )} + 0.842313084290125 \\frac{d}{d y} \\operatorname{Y_{b}}{\\left (y \\right )} = 0$$"
       ],
       "metadata": {},
       "output_type": "pyout",
       "png": "[encoded data removed]",
       "prompt_number": 150,
       "text": [
        "                                            d             \n",
        "157.422561603484\u22c5Y_b(y) + 0.842313084290125\u22c5\u2500\u2500(Y_b(y)) = 0\n",
        "                                            dy            "
       ]
      }
     ],
     "prompt_number": 150
    },
    {
     "cell_type": "code",
     "collapsed": false,
     "input": [
      "diffeq_y_b.subs({Y_b:C1*sy.exp(-a *y)})\n",
      "y_b_ansatz = C1*sy.exp(-a*y)\n"
     ],
     "language": "python",
     "metadata": {},
     "outputs": [],
     "prompt_number": 151
    },
    {
     "cell_type": "code",
     "collapsed": false,
     "input": [
      "sol = sy.solve(sy.Eq(sy.cancel(diffeq_y_b.subs({Y_b:y_b_ansatz}).doit().lhs/y_b_ansatz),0),a)[0]\n",
      "y_b_sol = y_b_ansatz.subs({a:sol})\n",
      "y_b_sol"
     ],
     "language": "python",
     "metadata": {},
     "outputs": [
      {
       "latex": [
        "$$\\frac{C_{1}}{e^{186.893168988524 y}}$$"
       ],
       "metadata": {},
       "output_type": "pyout",
       "png": "[encoded data removed]",
       "prompt_number": 152,
       "text": [
        "    -186.893168988524\u22c5y\n",
        "C\u2081\u22c5\u212f                   "
       ]
      }
     ],
     "prompt_number": 152
    },
    {
     "cell_type": "code",
     "collapsed": false,
     "input": [
      "inflow_bc= sy.Eq(y_b_sol.subs({y:0}),0.0001)\n",
      "y_b_part_sol = y_b_sol.subs({C1:sy.solve(inflow_bc,C1)[0]})"
     ],
     "language": "python",
     "metadata": {},
     "outputs": [],
     "prompt_number": 153
    },
    {
     "cell_type": "code",
     "collapsed": false,
     "input": [
      "y_b_part_sol"
     ],
     "language": "python",
     "metadata": {},
     "outputs": [
      {
       "latex": [
        "$$\\frac{0.0001}{e^{186.893168988524 y}}$$"
       ],
       "metadata": {},
       "output_type": "pyout",
       "png": "[encoded data removed]",
       "prompt_number": 154,
       "text": [
        "        -186.893168988524\u22c5y\n",
        "0.0001\u22c5\u212f                   "
       ]
      }
     ],
     "prompt_number": 154
    },
    {
     "cell_type": "code",
     "collapsed": false,
     "input": [
      "sol_simple = sol_simple.subs({Y_b:y_b_part_sol})"
     ],
     "language": "python",
     "metadata": {},
     "outputs": [],
     "prompt_number": 155
    },
    {
     "cell_type": "code",
     "collapsed": false,
     "input": [
      "sol_simple.subs({y:0.005,x:0})"
     ],
     "language": "python",
     "metadata": {},
     "outputs": [
      {
       "latex": [
        "$$Y{\\left (0 \\right )} = 3.64969586304942 \\cdot 10^{-5}$$"
       ],
       "metadata": {},
       "output_type": "pyout",
       "png": "[encoded data removed]",
       "prompt_number": 156,
       "text": [
        "Y(0) = 3.64969586304942e-5"
       ]
      }
     ],
     "prompt_number": 156
    },
    {
     "cell_type": "code",
     "collapsed": false,
     "input": [
      "sol_simple_fun=sy.lambdify((x,y),sol_simple.rhs)\n",
      "\n"
     ],
     "language": "python",
     "metadata": {},
     "outputs": [],
     "prompt_number": 157
    },
    {
     "cell_type": "code",
     "collapsed": false,
     "input": [
      "def get_grid(ratio=1.1,wc_thickness=1E-4,nx=32):\n",
      "    dx_c = wc_thickness*(1-ratio)/(1-ratio**nx)\n",
      "    dx = []\n",
      "    for x_c in range(nx):\n",
      "        dx.append(dx_c)\n",
      "        dx_c *= ratio\n",
      "    return np.cumsum(dx) -0.5*np.array(dx)"
     ],
     "language": "python",
     "metadata": {},
     "outputs": [],
     "prompt_number": 158
    },
    {
     "cell_type": "code",
     "collapsed": false,
     "input": [
      "fig = pl.figure()\n",
      "fig1 = pl.figure()\n",
      "fig3 = pl.figure()\n",
      "\n",
      "\n",
      "\n",
      "ax = fig.add_subplot(1,1,1)\n",
      "ax1 = fig1.add_subplot(1,1,1)\n",
      "ax3 = fig3.add_subplot(1,1,1)\n",
      "\n",
      "data_folder = \"/home/vonrickenbach/contrib_git/cantera_tests/washcoat_model/\"\n",
      "err_T = []\n",
      "err_Y = []\n",
      "grids = [32]\n",
      "#grids = [32,64]\n",
      "\n",
      "x_ind = 0.005\n",
      "\n",
      "for nx in grids:\n",
      "    for x_loc in range(10):\n",
      "        x_val = get_grid(nx=nx)\n",
      "\n",
      "        y_val =[sol_simple_fun(item,x_ind) for item in x_val]\n",
      "    #    ax.plot(x_val*1E6,np.array(y_val),'k')\n",
      "\n",
      "     #   T_val = np.array([sol_simple_fun_T(item,x_ind) for item in x_val])\n",
      "     #   ax1.plot(x_val,T_val-1000)\n",
      "        data= np.genfromtxt(os.path.join(data_folder,\"grid_\"+str(x_loc)+\"_0.dat\"))\n",
      "    #    ax1.plot(x_val,data[5,1:]-1000,'o')\n",
      "\n",
      "        ax1.plot(x_val,data[9,1:],'o')\n",
      "\n",
      "\n",
      "        ax.set_xlabel(\"x-xoordinate ($\\mu m$)\")\n",
      "        ax.set_ylabel(\"$O_2$ mass-fraction\")\n",
      "\n",
      "        ax.plot(x_val*1E6,data[4,1:],'ko')\n",
      "    #    err_T.append(np.amax(np.abs(data[5,1:])-T_val+1000))\n",
      "        err_Y.append(np.amax(np.abs(data[0,1:])-y_val))\n",
      "        ax.legend([\"Analytical solution\",\"Numerical solution\"],loc=0)\n",
      "\n",
      "fig.tight_layout()\n",
      "fig.savefig(\"wc.png\")\n",
      "#ax3.loglog(grids,err_T/err_T[-3])\n",
      "#ax3.loglog(grids,err_Y/err_Y[-3])\n",
      "#ax3.loglog(grids,(1./np.array(grids)*16)**2)\n",
      "\n",
      "\n",
      "fluxes_data = np.genfromtxt(os.path.join(data_folder,\"fluxes_\"+str(0)+\"_0.dat\"))\n"
     ],
     "language": "python",
     "metadata": {},
     "outputs": [
      {
       "metadata": {},
       "output_type": "display_data",
       "png": "[encoded data removed]",
       "text": [
        "<matplotlib.figure.Figure at 0x7f04c7ff6b10>"
       ]
      },
      {
       "metadata": {},
       "output_type": "display_data",
       "png": "[encoded data removed]",
       "text": [
        "<matplotlib.figure.Figure at 0x7f04c7ff6710>"
       ]
      },
      {
       "metadata": {},
       "output_type": "display_data",
       "png": "[encoded data removed]",
       "text": [
        "<matplotlib.figure.Figure at 0x7f04c7ff6e50>"
       ]
      }
     ],
     "prompt_number": 335
    },
    {
     "cell_type": "heading",
     "level": 1,
     "metadata": {},
     "source": [
      "Analytical solution unsteady"
     ]
    },
    {
     "cell_type": "code",
     "collapsed": false,
     "input": [
      "t,rhocp,T_bulk,h_temp,T_0= sy.symbols(\"t rhocp T_bulk h_temp T_0\",positive=True )\n",
      "C1,C2 = sy.symbols(\"C1 C2\")\n",
      "\n",
      "Ts = sy.Function(\"Ts\")(t)"
     ],
     "language": "python",
     "metadata": {},
     "outputs": [],
     "prompt_number": 167
    },
    {
     "cell_type": "code",
     "collapsed": false,
     "input": [
      "diffeq_T_t = sy.Eq(sy.diff(Ts,t),h_temp/rhocp*(-Ts+T_bulk))"
     ],
     "language": "python",
     "metadata": {},
     "outputs": [],
     "prompt_number": 168
    },
    {
     "cell_type": "code",
     "collapsed": false,
     "input": [
      "sol_Ts = sy.dsolve(diffeq_T_t,Ts)\n",
      "sol_Ts"
     ],
     "language": "python",
     "metadata": {},
     "outputs": [
      {
       "latex": [
        "$$\\operatorname{Ts}{\\left (t \\right )} = \\frac{C_{1}}{e^{\\frac{h_{temp} t}{rhocp}}} + T_{bulk}$$"
       ],
       "metadata": {},
       "output_type": "pyout",
       "png": "[encoded data removed]",
       "prompt_number": 169,
       "text": [
        "            -h_temp\u22c5t          \n",
        "            \u2500\u2500\u2500\u2500\u2500\u2500\u2500\u2500\u2500\u2500         \n",
        "              rhocp            \n",
        "Ts(t) = C\u2081\u22c5\u212f           + T_bulk"
       ]
      }
     ],
     "prompt_number": 169
    },
    {
     "cell_type": "code",
     "collapsed": false,
     "input": [
      "C1_sol = sy.solve(sy.Eq(sol_Ts.subs({t:0}).rhs,T_0),C1)[0]\n",
      "sy.Eq(sol_Ts.subs({t:0}).rhs,T_0)"
     ],
     "language": "python",
     "metadata": {},
     "outputs": [
      {
       "latex": [
        "$$C_{1} + T_{bulk} = T_{0}$$"
       ],
       "metadata": {},
       "output_type": "pyout",
       "png": "[encoded data removed]",
       "prompt_number": 170,
       "text": [
        "C\u2081 + T_bulk = T\u2080"
       ]
      }
     ],
     "prompt_number": 170
    },
    {
     "cell_type": "code",
     "collapsed": false,
     "input": [
      "sol_Ts = sol_Ts.subs({C1:C1_sol})"
     ],
     "language": "python",
     "metadata": {},
     "outputs": [],
     "prompt_number": 171
    },
    {
     "cell_type": "code",
     "collapsed": false,
     "input": [
      "sol_Ts = sol_Ts.subs({h_temp:0.026,T_0:300,rhocp:1,T_bulk:310}).rhs"
     ],
     "language": "python",
     "metadata": {},
     "outputs": [],
     "prompt_number": 172
    },
    {
     "cell_type": "code",
     "collapsed": false,
     "input": [
      "def get_time(name):\n",
      "    name = os.path.basename(name)\n",
      "    try:\n",
      "        return int(\"\".join([char for char in name[6:] if char.isdigit() or char == \"-\"]))\n",
      "    except:\n",
      "        print(name)\n",
      "    \n",
      "get_time(\"grid_0_-1.dat \")"
     ],
     "language": "python",
     "metadata": {},
     "outputs": [
      {
       "latex": [
        "$$-1$$"
       ],
       "metadata": {},
       "output_type": "pyout",
       "png": "[encoded data removed]",
       "prompt_number": 173,
       "text": [
        "-1"
       ]
      }
     ],
     "prompt_number": 173
    },
    {
     "cell_type": "code",
     "collapsed": false,
     "input": [
      "def apply_array(func):\n",
      "    def apply_arr(array): \n",
      "        vals = np.array(np.zeros(len(time)))\n",
      "        for idx,ti in enumerate(array):\n",
      "            vals[idx] = func(ti)\n",
      "        return vals\n",
      "    \n",
      "    return apply_arr\n",
      "\n",
      "\n",
      "num_Ts = apply_array(sy.lambdify(t,sol_Ts))\n",
      "\n",
      "\n",
      "time = np.linspace(0,100)\n",
      "\n",
      "num_Ts(time)"
     ],
     "language": "python",
     "metadata": {},
     "outputs": [
      {
       "metadata": {},
       "output_type": "pyout",
       "prompt_number": 175,
       "text": [
        "array([ 300.        ,  300.5167805 ,  301.00685479,  301.47160299,\n",
        "        301.91233392,  302.33028873,  302.72664445,  303.10251728,\n",
        "        303.45896574,  303.79699363,  304.1175529 ,  304.4215463 ,\n",
        "        304.70982991,  304.98321558,  305.24247322,  305.48833292,\n",
        "        305.72148708,  305.94259228,  306.1522712 ,  306.35111432,\n",
        "        306.53968162,  306.71850412,  306.88808543,  307.04890311,\n",
        "        307.20141004,  307.34603571,  307.48318741,  307.61325138,\n",
        "        307.73659389,  307.8535623 ,  307.96448602,  308.06967741,\n",
        "        308.16943272,  308.26403286,  308.35374426,  308.43881955,\n",
        "        308.51949831,  308.59600775,  308.66856333,  308.73736938,\n",
        "        308.80261967,  308.86449795,  308.92317848,  308.97882652,\n",
        "        309.03159877,  309.08164386,  309.12910271,  309.17410899,\n",
        "        309.21678942,  309.25726422])"
       ]
      }
     ],
     "prompt_number": 175
    },
    {
     "cell_type": "code",
     "collapsed": false,
     "input": [
      "def load_wc_ani(sim):\n",
      "\n",
      "    filelist = gl.glob(os.path.join(sim.info.local[\"sim_folder\"],\"grid_0_*\"))\n",
      "    \n",
      "    \n",
      "    filelist = [filename for filename in filelist if get_time(filename) >  0]\n",
      "    time_data = np.genfromtxt(os.path.join(sim.info.local[\"sim_folder\"],\"time_file.dat\"))\n",
      "\n",
      "    \n",
      "    sorted_list = sorted(filelist,key=lambda name :get_time(name))\n",
      "    wc_data = []\n",
      "    for filename in sorted_list:\n",
      "        wc_data.append([time_data[get_time(filename)-1,1],np.genfromtxt(filename)])\n",
      "    \n",
      "    sim.all_data = wc_data  \n",
      "    return time_data\n",
      "\n",
      "\n",
      "\n",
      "def create_simulation_python(input_dict,folder,root_folder=\".\",ref_folder=None):\n",
      "     \n",
      "\n",
      "    config_sim = jc.configuration_mb_local\n",
      "    config_sim[\"transat_version\"] = \"wc_python\"\n",
      "\n",
      "    config_sim[\"jobname\"] = inputs[\"folder\"]\n",
      "    config_sim[\"root_folder\"] = root_folder\n",
      "    simulation = sim_brutus.job(**config_sim)\n",
      "\n",
      "    simulation.sim_info = input_dict.copy()\n",
      "    simulation.sim_info[\"converged\"] = False\n",
      "\n",
      "\n",
      "    return simulation\n",
      "\n",
      "def print_wc_time(sim,sp=4,sli=1,time=3.6E-5):\n",
      "\n",
      "    nplots = 1\n",
      "    figs = [pl.figure(figsize=(12,6)) for item in range(1)]\n",
      "    axs = [figs[0].add_subplot(1,nplots,item+1) for item in range(nplots)]\n",
      "    data = np.array([item[1] for item in sim.all_data])\n",
      "    time_val = np.array([item[0] for item in sim.all_data])\n",
      "    axs[0].plot(time_val,data[:,-1,sli],'r')\n",
      "\n",
      "\n",
      "    st_idx = 0\n",
      "    axs[0].set_title(\"T at first cell over time\")\n"
     ],
     "language": "python",
     "metadata": {},
     "outputs": [],
     "prompt_number": 181
    },
    {
     "cell_type": "code",
     "collapsed": false,
     "input": [
      "sim_list_val  = []\n",
      "root_folder= \"/home/vonrickenbach/contrib_git/cantera_tests/\"\n",
      "\n",
      "folder = \"washcoat_model\"\n",
      "temperatures = np.array([300])\n",
      "temp_array= temperatures\n",
      "\n",
      "\n",
      "for temperature in temperatures:\n",
      "        inputs = {}\n",
      "        inputs[\"wc_thickness\"] = 20\n",
      "        inputs[\"temperature\"] = temperature\n",
      "        inputs[\"cov_CO\"] = 1\n",
      "        inputs[\"folder\"] = folder\n",
      "        inputs[\"res\"] = 20\n",
      "        inputs[\"nx\"]  = 32\n",
      "        inputs[\"t_fac\"]  = 1\n",
      "        inputs[\"x_cells\"]  = 20\n",
      "        inputs[\"velocity\"] = 25000/3600.*0.07\n",
      "        \n",
      "        inputs[\"sh_number\"] = 4000\n",
      "        inputs[\"a_v\"] = 4000\n",
      "\n",
      "        inputs[\"mf\"] = 1E3\n",
      "\n",
      "        sim_list_val.append(create_simulation_python(inputs,folder,root_folder=root_folder))"
     ],
     "language": "python",
     "metadata": {},
     "outputs": [
      {
       "output_type": "stream",
       "stream": "stdout",
       "text": [
        "Warning Initial conditions with single block code not supported\n"
       ]
      }
     ],
     "prompt_number": 182
    },
    {
     "cell_type": "code",
     "collapsed": false,
     "input": [
      "sim = sim_list_val[0]"
     ],
     "language": "python",
     "metadata": {},
     "outputs": [],
     "prompt_number": 183
    },
    {
     "cell_type": "code",
     "collapsed": false,
     "input": [
      "time_val = load_wc_ani(sim)"
     ],
     "language": "python",
     "metadata": {},
     "outputs": [],
     "prompt_number": 184
    },
    {
     "cell_type": "code",
     "collapsed": false,
     "input": [
      "print_wc_time(sim,time_val)\n",
      "pl.plot(time,num_Ts(time))"
     ],
     "language": "python",
     "metadata": {},
     "outputs": [
      {
       "metadata": {},
       "output_type": "pyout",
       "prompt_number": 185,
       "text": [
        "[<matplotlib.lines.Line2D at 0x7f04cc9f4290>]"
       ]
      },
      {
       "metadata": {},
       "output_type": "display_data",
       "png": "[encoded data removed]",
       "text": [
        "<matplotlib.figure.Figure at 0x7f04ccaa4910>"
       ]
      }
     ],
     "prompt_number": 185
    },
    {
     "cell_type": "code",
     "collapsed": false,
     "input": [
      "gas.TPY = [385,1E5,[0.1,0.0,0.0,0.9]]\n",
      "gas.thermal_conductivity"
     ],
     "language": "python",
     "metadata": {},
     "outputs": [
      {
       "latex": [
        "$$0.0317468339618$$"
       ],
       "metadata": {},
       "output_type": "pyout",
       "png": "[encoded data removed]",
       "prompt_number": 342,
       "text": [
        "0.0317468339618"
       ]
      }
     ],
     "prompt_number": 342
    },
    {
     "cell_type": "code",
     "collapsed": false,
     "input": [
      "gas.mix_diff_coeffs[-1]"
     ],
     "language": "python",
     "metadata": {},
     "outputs": [
      {
       "latex": [
        "$$3.69301024512e-05$$"
       ],
       "metadata": {},
       "output_type": "pyout",
       "png": "[encoded data removed]",
       "prompt_number": 343,
       "text": [
        "3.69301024512e-05"
       ]
      }
     ],
     "prompt_number": 343
    },
    {
     "cell_type": "code",
     "collapsed": false,
     "input": [
      "213231"
     ],
     "language": "python",
     "metadata": {},
     "outputs": [
      {
       "latex": [
        "$$213231$$"
       ],
       "metadata": {},
       "output_type": "pyout",
       "png": "[encoded data removed]",
       "prompt_number": 344,
       "text": [
        "213231"
       ]
      }
     ],
     "prompt_number": 344
    },
    {
     "cell_type": "code",
     "collapsed": false,
     "input": [],
     "language": "python",
     "metadata": {},
     "outputs": []
    }
   ],
   "metadata": {}
  }
 ]
}