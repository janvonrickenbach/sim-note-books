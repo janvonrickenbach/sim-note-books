{
 "metadata": {
  "name": "",
  "signature": "sha256:166f994899c4292a6f53807b4b3f0fdd6dc7fcd62056f16643211d8b59cfc1cd"
 },
 "nbformat": 3,
 "nbformat_minor": 0,
 "worksheets": [
  {
   "cells": [
    {
     "cell_type": "code",
     "collapsed": false,
     "input": [
      "%load_ext autoreload\n",
      "%autoreload 2\n",
      "\n",
      "\n",
      "%matplotlib inline\n",
      "import simulation_brutus as sim_b\n",
      "import shutil as sh\n",
      "import numpy as np\n",
      "import para_reader as pa\n",
      "import re\n",
      "\n",
      "sim_b= reload(sim_b)\n",
      "\n",
      "\n",
      "import os\n",
      "import pickle as pic\n",
      "import initial_condition_writer as ini\n",
      "\n",
      "import subprocess as sp\n",
      "import matplotlib.pyplot as pl\n",
      "\n",
      "pl.rcParams[\"text.usetex\"] = True\n",
      "pl.rcParams[\"text.fontsize\"] = 12\n",
      "\n",
      "\n",
      "import job_configurations as jc\n",
      "\n",
      "import Cantera as ca"
     ],
     "language": "python",
     "metadata": {},
     "outputs": [
      {
       "output_type": "stream",
       "stream": "stdout",
       "text": [
        "paraview version 3.98.1-79-g52cc6ea\n"
       ]
      },
      {
       "output_type": "stream",
       "stream": "stderr",
       "text": [
        "/usr/lib64/python2.7/site-packages/matplotlib/__init__.py:695: UserWarning: text.fontsize is deprecated and replaced with font.size; please use the latter.\n",
        "  warnings.warn(self.msg_depr % (key, alt))\n"
       ]
      }
     ],
     "prompt_number": 1
    },
    {
     "cell_type": "code",
     "collapsed": false,
     "input": [
      "%%file slice_avg.py\n",
      "\n",
      "from paraview.simple import *\n",
      "from para_reader import *\n",
      "import pickle as pic\n",
      "import os\n",
      "\n",
      "servermanager.Connect()\n",
      "postprocess = pic.l\n",
      "oad(open(\"job.pickle\"))\n",
      "kelvin_cell_size = postprocess[\"kelvin_cell_size\"]-postprocess[\"kelvin_cell_size\"]*0.0001\n",
      "ncells           = postprocess[\"ncells\"]\n",
      "\n",
      "massflow_weight_Y = postprocess[\"massflow_weight_Y\"]\n",
      "massflow_var_Y    = postprocess[\"massflow_var_Y\"]\n",
      "massflow_weight_P = postprocess[\"massflow_weight_P\"]\n",
      "massflow_var_P    = postprocess[\"massflow_var_P\"]\n",
      "iteration         = postprocess[\"iteration\"]\n",
      "\n",
      "massflow_weight_T    = ['BMR_I',\"HembI\",\"U\"]\n",
      "massflow_weight_T_s  = ['BMR_I',\"(1-HembI)\"]\n",
      "massflow_weight_Y    = ['HembI','BMR_I',\"U\"]\n",
      "massflow_weight_Y_vol= ['HembI','BMR_I']\n",
      "massflow_weight_P    = ['HembI','BMR_I']\n",
      "\n",
      "name = get_iteration(iteration)\n",
      "name = get_last_modified()\n",
      "print(name)\n",
      "    \n",
      "data_file = OpenDataFile(name)\n",
      "\n",
      "print(\"Reading file \", data_file)\n",
      "\n",
      "avg_var    = []\n",
      "\n",
      "x_coords = np.linspace(-0.5*kelvin_cell_size,(ncells-0.5)*kelvin_cell_size,ncells+1)\n",
      "\n",
      "for x_coord in x_coords:\n",
      "\n",
      "  print(\"Before slice \")\n",
      "  current_slice = Slice(data_file)\n",
      "\n",
      "  print(\"Current Slice \", current_slice)\n",
      "\n",
      "  #current_slice.SliceType.Origin = [sl*kelvin_cell_size-0.5*kelvin_cell_size,0.0005,0.0005]\n",
      "  current_slice.SliceType.Origin = [x_coord,0.0005,0.0005]\n",
      "\n",
      "  current_slice.SliceType.Normal = [1,0,0]\n",
      "  print(\"Before avgY \")\n",
      "\n",
      "  avg_Y     = massflow_avg(current_slice,massflow_weight_Y,massflow_var_Y)\n",
      "  avg_Y_vol = massflow_avg(current_slice,massflow_weight_Y_vol,massflow_var_Y)\n",
      "  print(\"Before avgP \")\n",
      "    \n",
      "  avg_T = massflow_avg(current_slice,massflow_weight_T,\"T\")\n",
      "  print(\"Before avgP \")\n",
      "    \n",
      "  avg_T_s = massflow_avg(current_slice,massflow_weight_T_s,\"T\")\n",
      "\n",
      "  avg_P = massflow_avg(current_slice,massflow_weight_P,massflow_var_P)\n",
      "  print(\"Before avgU \")\n",
      "  \n",
      "  avg_U = massflow_avg(current_slice,massflow_weight_P,'U')\n",
      "  avg_var.append([avg_Y, avg_P,avg_U,avg_T,avg_T_s,avg_Y_vol])\n",
      " # Delete(current_slice)\n",
      "try:\n",
      "    os.mkdir(\"processed\")\n",
      "except:\n",
      "    print(\"directory exists already\")\n",
      "pickle_file = \"processed/slice_averages_fine.dat\"\n",
      "f = open(pickle_file,'w')\n",
      "pic.dump(avg_var,f)\n",
      "f.close()"
     ],
     "language": "python",
     "metadata": {},
     "outputs": [
      {
       "output_type": "stream",
       "stream": "stdout",
       "text": [
        "Overwriting slice_avg.py\n"
       ]
      }
     ],
     "prompt_number": 2
    },
    {
     "cell_type": "code",
     "collapsed": false,
     "input": [
      "def filter_simulations(sim_list,**kwargs):\n",
      "  filtered_list = []\n",
      "  for sim in sim_list:\n",
      "      match_all = True\n",
      "      for key, item in kwargs.iteritems():\n",
      "            if not sim.sim_info[key] == item:\n",
      "              match_all = False\n",
      "      if match_all:\n",
      "        filtered_list.append(sim)\n",
      "  return filtered_list"
     ],
     "language": "python",
     "metadata": {},
     "outputs": [],
     "prompt_number": 3
    },
    {
     "cell_type": "code",
     "collapsed": false,
     "input": [
      "%%file full_3d.py\n",
      "\n",
      "from paraview.simple import *\n",
      "from para_reader import *\n",
      "import pickle as pic\n",
      "import os\n",
      "import shutil as sh\n",
      "\n",
      "name = get_last_modified()\n",
      "filename = name.split(\".\")[0].split(\"/\")[-1]\n",
      "data = OpenDataFile(name)\n",
      "unstructured = convert_to_unstructured(data)\n",
      "\n",
      "try:\n",
      "    os.mkdir(\"processed\")\n",
      "except:\n",
      "    pass\n",
      "filename = 'processed/'+filename+'.vtu'\n",
      "UpdatePipeline()\n",
      "writer=CreateWriter(filename,unstructured)\n",
      "writer.UpdatePipeline()\n",
      "\n",
      "sh.copy(\"surf_reaction_kelvin.runb\",\"processed\")\n",
      "\n",
      "\n"
     ],
     "language": "python",
     "metadata": {},
     "outputs": [
      {
       "output_type": "stream",
       "stream": "stdout",
       "text": [
        "Overwriting full_3d.py\n"
       ]
      }
     ],
     "prompt_number": 4
    },
    {
     "cell_type": "code",
     "collapsed": false,
     "input": [
      "def write_inital_conditions(folder,massfraction,velocity,temperature):\n",
      "\n",
      "    writer = ini.initalconditions_writer()\n",
      "    writer.add_variable(\"uvelocity\",velocity)\n",
      "    writer.add_variable(\"temperature\",temperature)\n",
      "    \n",
      "    for key,item in massfraction.iteritems():\n",
      "        writer.add_variable(var=\"component_molefraction\",value=item[0],index=item[1])\n",
      "        \n",
      "    writer.write_file(folder)"
     ],
     "language": "python",
     "metadata": {},
     "outputs": [],
     "prompt_number": 5
    },
    {
     "cell_type": "code",
     "collapsed": false,
     "input": [
      "def create_sim_in_real_folder(jobname,res,massfraction,velocity,temperature,wc_thickness,create=False):\n",
      "\n",
      "    root_folder = \"/home/vonrickenbach/testcases_mb/kelvin_cell_final/sims_with_chem\"\n",
      "    \n",
      "    ref_folder = \"/home/vonrickenbach/testcases_mb/kelvin_cell_final/sims_with_chem/ref_sim/\"\n",
      "    \n",
      "    if create:\n",
      "        try:\n",
      "            sh.copytree(ref_folder,os.path.join(root_folder,jobname))\n",
      "\n",
      "        except:\n",
      "            print(\"directory exists\")\n",
      "        \n",
      "    config = jc.configuration_brutus\n",
      "    config[\"jobname\"]     = jobname\n",
      "    config[\"root_folder\"] = root_folder\n",
      "    job = sim_b.job(**config)\n",
      "    \n",
      "    write_inital_conditions(os.path.join(root_folder,jobname),massfraction,velocity,temperature)\n",
      "    sh.copy(os.path.join(os.path.join(root_folder,ref_folder),\"transat_mb.inp\"),os.path.join(root_folder,jobname))\n",
      "    sh.copy(os.path.join(os.path.join(root_folder,ref_folder),\"cantera_input.cti\"),os.path.join(root_folder,jobname))\n",
      "\n",
      "\n",
      "    if create:\n",
      "        job.application.change_input(\"cornerpoint_number  501\",res,newline=\"cornerpoint_number \"+str(20*res+1) +\"\\n\",filename=\"surf_reaction_kelvin.stt\")\n",
      "        job.application.change_input(\"cornerpoint_number  26\",res,newline=\"cornerpoint_number \"+str(res+1) +\"\\n\",filename=\"surf_reaction_kelvin.stt\")        \n",
      "\n",
      "        \n",
      "        transatui_command = []\n",
      "        transatui_command.append(\"transatui.py\")\n",
      "        transatui_command.append(\"--Project=surf_reaction_kelvin.stt\")\n",
      "        transatui_command.append(\"--Graphics=bash\")\n",
      "        ui=sp.Popen(transatui_command,cwd=os.path.join(root_folder,jobname),stdout=open(\"ui_output.out\",\"a\"))\n",
      "        ui.communicate() \n",
      "\n",
      "        \n",
      "    job.application.change_input(\"temp_model\",'\\\"conjugate\\\"',filename=\"properties.dat\")\n",
      "    job.application.change_input(\"density\",'3500',filename=\"properties.dat\")\n",
      "    job.application.change_input(\"conductivity\",'25.6',filename=\"properties.dat\")\n",
      "    job.application.change_input(\"heatcapacity\",'795',filename=\"properties.dat\")\n",
      "    job.application.change_input(\"surface_coverage\",'1.0',filename=\"properties.dat\")\n",
      "    job.application.change_input(\"geomwrite\",'.true')\n",
      "    job.application.change_input(\"activate_chem_heat_src\",'.false.')\n",
      "    job.application.change_input(\"wc_thickness\",str(wc_thickness))\n",
      "    job.application.change_input(\"wc_part_size\",str(1E-4))\n",
      "\n",
      "\n",
      "\n",
      "    \n",
      "    job.sim_info = {}\n",
      "    job.sim_info[\"ds\"] = 0.0003\n",
      "    job.sim_info[\"Dp\"] = 0.002\n",
      "    Dp = job.sim_info[\"Dp\"]\n",
      "    ds = job.sim_info[\"ds\"]\n",
      "    job.sim_info[\"porosity\"] = 0.903\n",
      "    porosity = job.sim_info[\"porosity\"]\n",
      "    job.sim_info[\"surf_to_volume\"] = 10.33/(Dp+ds) * np.sqrt(1-porosity) -5.8/(Dp+ds)*(1.0-porosity)\n",
      "    job.sim_info[\"kelvin_cell_size\"] = Dp + ds\n",
      "    job.sim_info[\"ncells\"] = 8\n",
      "    job.sim_info[\"vel\"]    = velocity\n",
      "    job.sim_info[\"temperature\"]    = temperature\n",
      "    job.sim_info[\"res\"]    = res\n",
      "    job.sim_info[\"wc_thickness\"]    = wc_thickness\n",
      "\n",
      "\n",
      "    pt_per_feet = 50.\n",
      "    g_ft_conversion = 1000.*(0.3048**3)\n",
      "    pt_mw = 0.195078\n",
      "    cov = 2.72E-5\n",
      "    geo_area = pt_per_feet/g_ft_conversion/pt_mw/job.sim_info[\"surf_to_volume\"]/cov\n",
      "    job.application.change_input(\"wc_geo_area\",str(geo_area))\n",
      "    \n",
      "    if wc_thickness > 0.0:\n",
      "        job.application.change_input(\"compressible \",\".false.\")\n",
      "\n",
      "\n",
      "    job.postprocess = job.sim_info.copy()\n",
      "    job.postprocess[\"iteration\"] = -1\n",
      "    job.postprocess[\"massflow_weight_Y\"] =  ['U','HembI','BMR_I']\n",
      "    job.postprocess[\"massflow_var_Y\"]    =  'CO'\n",
      "    job.postprocess[\"massflow_weight_P\"] =  ['HembI','BMR_I']\n",
      "    job.postprocess[\"massflow_var_P\"]    =  'P'\n",
      "    job.postprocess[\"iteration_list\"]    =  [-1]\n",
      "    \n",
      "    return job"
     ],
     "language": "python",
     "metadata": {},
     "outputs": [],
     "prompt_number": 6
    },
    {
     "cell_type": "code",
     "collapsed": false,
     "input": [
      "create = False\n",
      "\n",
      "\n",
      "temperatures = [550,600,650,700]\n",
      "wc_thicknesses = [-1,0.00001,0.00002]\n",
      "massfraction = {}\n",
      "massfraction[\"O2\"]   = [0.1,   [0,0]] \n",
      "massfraction[\"CO2\"]  = [0.064, [0,1]]\n",
      "massfraction[\"H2O\"]  = [0.072, [0,2]]\n",
      "massfraction[\"N2\"]   = [0.76,  [0,3]]\n",
      "massfraction[\"CO\"]   = [0.003, [0,4]]\n",
      "\n",
      "velocity    = 2.5\n",
      "\n",
      "sim_list = []\n",
      "\n",
      "resolutions = [20,30,40]\n",
      "\n",
      "wc_thicknesses = [-1,0.00001,0.00002]\n",
      "sim_full_test = create_sim_in_real_folder(\"sim_full_test\",20,massfraction,velocity,600,-1,create=create)\n",
      "\n",
      "for temp in temperatures:\n",
      "    for wc_thickness in wc_thicknesses:\n",
      "        for res in resolutions:\n",
      "            name = \"_\".join([\"chem_sim\",\"T\",str(temp),\"res\",str(res),\"wc\",str(wc_thickness)])\n",
      "            sim_list.append(create_sim_in_real_folder(name,res,massfraction,velocity,temp,wc_thickness,create=create))\n",
      "\n",
      "\n",
      "\n"
     ],
     "language": "python",
     "metadata": {},
     "outputs": [
      {
       "output_type": "stream",
       "stream": "stdout",
       "text": [
        "mkdir: cannot create directory `/cluster/scratch_xl/public/vjan/sim_full_test': File exists\n",
        "===============================================\n",
        "username        vjan                                    \n",
        "scratch         /cluster/scratch_xl/public/vjan/        \n",
        "host            brutus.ethz.ch                          \n",
        "ssh             vjan@brutus.ethz.ch:/cluster/scratch_xl/public/vjan/sim_full_test\n",
        "dir             /cluster/scratch_xl/public/vjan/sim_full_test\n",
        "project_name    surf_reaction_kelvin                    \n",
        "sim_folder      /home/vonrickenbach/testcases_mb/kelvin_cell_final/sims_with_chem/sim_full_test\n",
        "jobname         sim_full_test                           \n",
        "===============================================\n",
        "mkdir: cannot create directory `/cluster/scratch_xl/public/vjan/chem_sim_T_550_res_20_wc_-1': File exists"
       ]
      },
      {
       "output_type": "stream",
       "stream": "stdout",
       "text": [
        "\n",
        "===============================================\n",
        "username        vjan                                    \n",
        "scratch         /cluster/scratch_xl/public/vjan/        \n",
        "host            brutus.ethz.ch                          \n",
        "ssh             vjan@brutus.ethz.ch:/cluster/scratch_xl/public/vjan/chem_sim_T_550_res_20_wc_-1\n",
        "dir             /cluster/scratch_xl/public/vjan/chem_sim_T_550_res_20_wc_-1\n",
        "project_name    surf_reaction_kelvin                    \n",
        "sim_folder      /home/vonrickenbach/testcases_mb/kelvin_cell_final/sims_with_chem/chem_sim_T_550_res_20_wc_-1\n",
        "jobname         chem_sim_T_550_res_20_wc_-1             \n",
        "===============================================\n",
        "mkdir: cannot create directory `/cluster/scratch_xl/public/vjan/chem_sim_T_550_res_30_wc_-1': File exists"
       ]
      },
      {
       "output_type": "stream",
       "stream": "stdout",
       "text": [
        "\n",
        "===============================================\n",
        "username        vjan                                    \n",
        "scratch         /cluster/scratch_xl/public/vjan/        \n",
        "host            brutus.ethz.ch                          \n",
        "ssh             vjan@brutus.ethz.ch:/cluster/scratch_xl/public/vjan/chem_sim_T_550_res_30_wc_-1\n",
        "dir             /cluster/scratch_xl/public/vjan/chem_sim_T_550_res_30_wc_-1\n",
        "project_name    surf_reaction_kelvin                    \n",
        "sim_folder      /home/vonrickenbach/testcases_mb/kelvin_cell_final/sims_with_chem/chem_sim_T_550_res_30_wc_-1\n",
        "jobname         chem_sim_T_550_res_30_wc_-1             \n",
        "===============================================\n",
        "mkdir: cannot create directory `/cluster/scratch_xl/public/vjan/chem_sim_T_550_res_40_wc_-1': File exists"
       ]
      },
      {
       "output_type": "stream",
       "stream": "stdout",
       "text": [
        "\n",
        "===============================================\n",
        "username        vjan                                    \n",
        "scratch         /cluster/scratch_xl/public/vjan/        \n",
        "host            brutus.ethz.ch                          \n",
        "ssh             vjan@brutus.ethz.ch:/cluster/scratch_xl/public/vjan/chem_sim_T_550_res_40_wc_-1\n",
        "dir             /cluster/scratch_xl/public/vjan/chem_sim_T_550_res_40_wc_-1\n",
        "project_name    surf_reaction_kelvin                    \n",
        "sim_folder      /home/vonrickenbach/testcases_mb/kelvin_cell_final/sims_with_chem/chem_sim_T_550_res_40_wc_-1\n",
        "jobname         chem_sim_T_550_res_40_wc_-1             \n",
        "===============================================\n",
        "mkdir: cannot create directory `/cluster/scratch_xl/public/vjan/chem_sim_T_550_res_20_wc_1e-05': File exists"
       ]
      },
      {
       "output_type": "stream",
       "stream": "stdout",
       "text": [
        "\n",
        "===============================================\n",
        "username        vjan                                    \n",
        "scratch         /cluster/scratch_xl/public/vjan/        \n",
        "host            brutus.ethz.ch                          \n",
        "ssh             vjan@brutus.ethz.ch:/cluster/scratch_xl/public/vjan/chem_sim_T_550_res_20_wc_1e-05\n",
        "dir             /cluster/scratch_xl/public/vjan/chem_sim_T_550_res_20_wc_1e-05\n",
        "project_name    surf_reaction_kelvin                    \n",
        "sim_folder      /home/vonrickenbach/testcases_mb/kelvin_cell_final/sims_with_chem/chem_sim_T_550_res_20_wc_1e-05\n",
        "jobname         chem_sim_T_550_res_20_wc_1e-05          \n",
        "===============================================\n",
        "mkdir: cannot create directory `/cluster/scratch_xl/public/vjan/chem_sim_T_550_res_30_wc_1e-05': File exists"
       ]
      },
      {
       "output_type": "stream",
       "stream": "stdout",
       "text": [
        "\n",
        "===============================================\n",
        "username        vjan                                    \n",
        "scratch         /cluster/scratch_xl/public/vjan/        \n",
        "host            brutus.ethz.ch                          \n",
        "ssh             vjan@brutus.ethz.ch:/cluster/scratch_xl/public/vjan/chem_sim_T_550_res_30_wc_1e-05\n",
        "dir             /cluster/scratch_xl/public/vjan/chem_sim_T_550_res_30_wc_1e-05\n",
        "project_name    surf_reaction_kelvin                    \n",
        "sim_folder      /home/vonrickenbach/testcases_mb/kelvin_cell_final/sims_with_chem/chem_sim_T_550_res_30_wc_1e-05\n",
        "jobname         chem_sim_T_550_res_30_wc_1e-05          \n",
        "===============================================\n",
        "mkdir: cannot create directory `/cluster/scratch_xl/public/vjan/chem_sim_T_550_res_40_wc_1e-05': File exists"
       ]
      },
      {
       "output_type": "stream",
       "stream": "stdout",
       "text": [
        "\n",
        "===============================================\n",
        "username        vjan                                    \n",
        "scratch         /cluster/scratch_xl/public/vjan/        \n",
        "host            brutus.ethz.ch                          \n",
        "ssh             vjan@brutus.ethz.ch:/cluster/scratch_xl/public/vjan/chem_sim_T_550_res_40_wc_1e-05\n",
        "dir             /cluster/scratch_xl/public/vjan/chem_sim_T_550_res_40_wc_1e-05\n",
        "project_name    surf_reaction_kelvin                    \n",
        "sim_folder      /home/vonrickenbach/testcases_mb/kelvin_cell_final/sims_with_chem/chem_sim_T_550_res_40_wc_1e-05\n",
        "jobname         chem_sim_T_550_res_40_wc_1e-05          \n",
        "===============================================\n",
        "mkdir: cannot create directory `/cluster/scratch_xl/public/vjan/chem_sim_T_550_res_20_wc_2e-05': File exists"
       ]
      },
      {
       "output_type": "stream",
       "stream": "stdout",
       "text": [
        "\n",
        "===============================================\n",
        "username        vjan                                    \n",
        "scratch         /cluster/scratch_xl/public/vjan/        \n",
        "host            brutus.ethz.ch                          \n",
        "ssh             vjan@brutus.ethz.ch:/cluster/scratch_xl/public/vjan/chem_sim_T_550_res_20_wc_2e-05\n",
        "dir             /cluster/scratch_xl/public/vjan/chem_sim_T_550_res_20_wc_2e-05\n",
        "project_name    surf_reaction_kelvin                    \n",
        "sim_folder      /home/vonrickenbach/testcases_mb/kelvin_cell_final/sims_with_chem/chem_sim_T_550_res_20_wc_2e-05\n",
        "jobname         chem_sim_T_550_res_20_wc_2e-05          \n",
        "===============================================\n",
        "mkdir: cannot create directory `/cluster/scratch_xl/public/vjan/chem_sim_T_550_res_30_wc_2e-05': File exists"
       ]
      },
      {
       "output_type": "stream",
       "stream": "stdout",
       "text": [
        "\n",
        "===============================================\n",
        "username        vjan                                    \n",
        "scratch         /cluster/scratch_xl/public/vjan/        \n",
        "host            brutus.ethz.ch                          \n",
        "ssh             vjan@brutus.ethz.ch:/cluster/scratch_xl/public/vjan/chem_sim_T_550_res_30_wc_2e-05\n",
        "dir             /cluster/scratch_xl/public/vjan/chem_sim_T_550_res_30_wc_2e-05\n",
        "project_name    surf_reaction_kelvin                    \n",
        "sim_folder      /home/vonrickenbach/testcases_mb/kelvin_cell_final/sims_with_chem/chem_sim_T_550_res_30_wc_2e-05\n",
        "jobname         chem_sim_T_550_res_30_wc_2e-05          \n",
        "===============================================\n",
        "mkdir: cannot create directory `/cluster/scratch_xl/public/vjan/chem_sim_T_550_res_40_wc_2e-05': File exists"
       ]
      },
      {
       "output_type": "stream",
       "stream": "stdout",
       "text": [
        "\n",
        "===============================================\n",
        "username        vjan                                    \n",
        "scratch         /cluster/scratch_xl/public/vjan/        \n",
        "host            brutus.ethz.ch                          \n",
        "ssh             vjan@brutus.ethz.ch:/cluster/scratch_xl/public/vjan/chem_sim_T_550_res_40_wc_2e-05\n",
        "dir             /cluster/scratch_xl/public/vjan/chem_sim_T_550_res_40_wc_2e-05\n",
        "project_name    surf_reaction_kelvin                    \n",
        "sim_folder      /home/vonrickenbach/testcases_mb/kelvin_cell_final/sims_with_chem/chem_sim_T_550_res_40_wc_2e-05\n",
        "jobname         chem_sim_T_550_res_40_wc_2e-05          \n",
        "===============================================\n",
        "mkdir: cannot create directory `/cluster/scratch_xl/public/vjan/chem_sim_T_600_res_20_wc_-1': File exists"
       ]
      },
      {
       "output_type": "stream",
       "stream": "stdout",
       "text": [
        "\n",
        "===============================================\n",
        "username        vjan                                    \n",
        "scratch         /cluster/scratch_xl/public/vjan/        \n",
        "host            brutus.ethz.ch                          \n",
        "ssh             vjan@brutus.ethz.ch:/cluster/scratch_xl/public/vjan/chem_sim_T_600_res_20_wc_-1\n",
        "dir             /cluster/scratch_xl/public/vjan/chem_sim_T_600_res_20_wc_-1\n",
        "project_name    surf_reaction_kelvin                    \n",
        "sim_folder      /home/vonrickenbach/testcases_mb/kelvin_cell_final/sims_with_chem/chem_sim_T_600_res_20_wc_-1\n",
        "jobname         chem_sim_T_600_res_20_wc_-1             \n",
        "===============================================\n",
        "mkdir: cannot create directory `/cluster/scratch_xl/public/vjan/chem_sim_T_600_res_30_wc_-1': File exists"
       ]
      },
      {
       "output_type": "stream",
       "stream": "stdout",
       "text": [
        "\n",
        "===============================================\n",
        "username        vjan                                    \n",
        "scratch         /cluster/scratch_xl/public/vjan/        \n",
        "host            brutus.ethz.ch                          \n",
        "ssh             vjan@brutus.ethz.ch:/cluster/scratch_xl/public/vjan/chem_sim_T_600_res_30_wc_-1\n",
        "dir             /cluster/scratch_xl/public/vjan/chem_sim_T_600_res_30_wc_-1\n",
        "project_name    surf_reaction_kelvin                    \n",
        "sim_folder      /home/vonrickenbach/testcases_mb/kelvin_cell_final/sims_with_chem/chem_sim_T_600_res_30_wc_-1\n",
        "jobname         chem_sim_T_600_res_30_wc_-1             \n",
        "===============================================\n",
        "mkdir: cannot create directory `/cluster/scratch_xl/public/vjan/chem_sim_T_600_res_40_wc_-1': File exists"
       ]
      },
      {
       "output_type": "stream",
       "stream": "stdout",
       "text": [
        "\n",
        "===============================================\n",
        "username        vjan                                    \n",
        "scratch         /cluster/scratch_xl/public/vjan/        \n",
        "host            brutus.ethz.ch                          \n",
        "ssh             vjan@brutus.ethz.ch:/cluster/scratch_xl/public/vjan/chem_sim_T_600_res_40_wc_-1\n",
        "dir             /cluster/scratch_xl/public/vjan/chem_sim_T_600_res_40_wc_-1\n",
        "project_name    surf_reaction_kelvin                    \n",
        "sim_folder      /home/vonrickenbach/testcases_mb/kelvin_cell_final/sims_with_chem/chem_sim_T_600_res_40_wc_-1\n",
        "jobname         chem_sim_T_600_res_40_wc_-1             \n",
        "===============================================\n",
        "mkdir: cannot create directory `/cluster/scratch_xl/public/vjan/chem_sim_T_600_res_20_wc_1e-05': File exists"
       ]
      },
      {
       "output_type": "stream",
       "stream": "stdout",
       "text": [
        "\n",
        "===============================================\n",
        "username        vjan                                    \n",
        "scratch         /cluster/scratch_xl/public/vjan/        \n",
        "host            brutus.ethz.ch                          \n",
        "ssh             vjan@brutus.ethz.ch:/cluster/scratch_xl/public/vjan/chem_sim_T_600_res_20_wc_1e-05\n",
        "dir             /cluster/scratch_xl/public/vjan/chem_sim_T_600_res_20_wc_1e-05\n",
        "project_name    surf_reaction_kelvin                    \n",
        "sim_folder      /home/vonrickenbach/testcases_mb/kelvin_cell_final/sims_with_chem/chem_sim_T_600_res_20_wc_1e-05\n",
        "jobname         chem_sim_T_600_res_20_wc_1e-05          \n",
        "===============================================\n",
        "mkdir: cannot create directory `/cluster/scratch_xl/public/vjan/chem_sim_T_600_res_30_wc_1e-05': File exists"
       ]
      },
      {
       "output_type": "stream",
       "stream": "stdout",
       "text": [
        "\n",
        "===============================================\n",
        "username        vjan                                    \n",
        "scratch         /cluster/scratch_xl/public/vjan/        \n",
        "host            brutus.ethz.ch                          \n",
        "ssh             vjan@brutus.ethz.ch:/cluster/scratch_xl/public/vjan/chem_sim_T_600_res_30_wc_1e-05\n",
        "dir             /cluster/scratch_xl/public/vjan/chem_sim_T_600_res_30_wc_1e-05\n",
        "project_name    surf_reaction_kelvin                    \n",
        "sim_folder      /home/vonrickenbach/testcases_mb/kelvin_cell_final/sims_with_chem/chem_sim_T_600_res_30_wc_1e-05\n",
        "jobname         chem_sim_T_600_res_30_wc_1e-05          \n",
        "===============================================\n",
        "mkdir: cannot create directory `/cluster/scratch_xl/public/vjan/chem_sim_T_600_res_40_wc_1e-05': File exists"
       ]
      },
      {
       "output_type": "stream",
       "stream": "stdout",
       "text": [
        "\n",
        "===============================================\n",
        "username        vjan                                    \n",
        "scratch         /cluster/scratch_xl/public/vjan/        \n",
        "host            brutus.ethz.ch                          \n",
        "ssh             vjan@brutus.ethz.ch:/cluster/scratch_xl/public/vjan/chem_sim_T_600_res_40_wc_1e-05\n",
        "dir             /cluster/scratch_xl/public/vjan/chem_sim_T_600_res_40_wc_1e-05\n",
        "project_name    surf_reaction_kelvin                    \n",
        "sim_folder      /home/vonrickenbach/testcases_mb/kelvin_cell_final/sims_with_chem/chem_sim_T_600_res_40_wc_1e-05\n",
        "jobname         chem_sim_T_600_res_40_wc_1e-05          \n",
        "===============================================\n",
        "mkdir: cannot create directory `/cluster/scratch_xl/public/vjan/chem_sim_T_600_res_20_wc_2e-05': File exists"
       ]
      },
      {
       "output_type": "stream",
       "stream": "stdout",
       "text": [
        "\n",
        "===============================================\n",
        "username        vjan                                    \n",
        "scratch         /cluster/scratch_xl/public/vjan/        \n",
        "host            brutus.ethz.ch                          \n",
        "ssh             vjan@brutus.ethz.ch:/cluster/scratch_xl/public/vjan/chem_sim_T_600_res_20_wc_2e-05\n",
        "dir             /cluster/scratch_xl/public/vjan/chem_sim_T_600_res_20_wc_2e-05\n",
        "project_name    surf_reaction_kelvin                    \n",
        "sim_folder      /home/vonrickenbach/testcases_mb/kelvin_cell_final/sims_with_chem/chem_sim_T_600_res_20_wc_2e-05\n",
        "jobname         chem_sim_T_600_res_20_wc_2e-05          \n",
        "===============================================\n",
        "mkdir: cannot create directory `/cluster/scratch_xl/public/vjan/chem_sim_T_600_res_30_wc_2e-05': File exists"
       ]
      },
      {
       "output_type": "stream",
       "stream": "stdout",
       "text": [
        "\n",
        "===============================================\n",
        "username        vjan                                    \n",
        "scratch         /cluster/scratch_xl/public/vjan/        \n",
        "host            brutus.ethz.ch                          \n",
        "ssh             vjan@brutus.ethz.ch:/cluster/scratch_xl/public/vjan/chem_sim_T_600_res_30_wc_2e-05\n",
        "dir             /cluster/scratch_xl/public/vjan/chem_sim_T_600_res_30_wc_2e-05\n",
        "project_name    surf_reaction_kelvin                    \n",
        "sim_folder      /home/vonrickenbach/testcases_mb/kelvin_cell_final/sims_with_chem/chem_sim_T_600_res_30_wc_2e-05\n",
        "jobname         chem_sim_T_600_res_30_wc_2e-05          \n",
        "===============================================\n",
        "mkdir: cannot create directory `/cluster/scratch_xl/public/vjan/chem_sim_T_600_res_40_wc_2e-05': File exists"
       ]
      },
      {
       "output_type": "stream",
       "stream": "stdout",
       "text": [
        "\n",
        "===============================================\n",
        "username        vjan                                    \n",
        "scratch         /cluster/scratch_xl/public/vjan/        \n",
        "host            brutus.ethz.ch                          \n",
        "ssh             vjan@brutus.ethz.ch:/cluster/scratch_xl/public/vjan/chem_sim_T_600_res_40_wc_2e-05\n",
        "dir             /cluster/scratch_xl/public/vjan/chem_sim_T_600_res_40_wc_2e-05\n",
        "project_name    surf_reaction_kelvin                    \n",
        "sim_folder      /home/vonrickenbach/testcases_mb/kelvin_cell_final/sims_with_chem/chem_sim_T_600_res_40_wc_2e-05\n",
        "jobname         chem_sim_T_600_res_40_wc_2e-05          \n",
        "===============================================\n",
        "mkdir: cannot create directory `/cluster/scratch_xl/public/vjan/chem_sim_T_650_res_20_wc_-1': File exists"
       ]
      },
      {
       "output_type": "stream",
       "stream": "stdout",
       "text": [
        "\n",
        "===============================================\n",
        "username        vjan                                    \n",
        "scratch         /cluster/scratch_xl/public/vjan/        \n",
        "host            brutus.ethz.ch                          \n",
        "ssh             vjan@brutus.ethz.ch:/cluster/scratch_xl/public/vjan/chem_sim_T_650_res_20_wc_-1\n",
        "dir             /cluster/scratch_xl/public/vjan/chem_sim_T_650_res_20_wc_-1\n",
        "project_name    surf_reaction_kelvin                    \n",
        "sim_folder      /home/vonrickenbach/testcases_mb/kelvin_cell_final/sims_with_chem/chem_sim_T_650_res_20_wc_-1\n",
        "jobname         chem_sim_T_650_res_20_wc_-1             \n",
        "===============================================\n",
        "mkdir: cannot create directory `/cluster/scratch_xl/public/vjan/chem_sim_T_650_res_30_wc_-1': File exists"
       ]
      },
      {
       "output_type": "stream",
       "stream": "stdout",
       "text": [
        "\n",
        "===============================================\n",
        "username        vjan                                    \n",
        "scratch         /cluster/scratch_xl/public/vjan/        \n",
        "host            brutus.ethz.ch                          \n",
        "ssh             vjan@brutus.ethz.ch:/cluster/scratch_xl/public/vjan/chem_sim_T_650_res_30_wc_-1\n",
        "dir             /cluster/scratch_xl/public/vjan/chem_sim_T_650_res_30_wc_-1\n",
        "project_name    surf_reaction_kelvin                    \n",
        "sim_folder      /home/vonrickenbach/testcases_mb/kelvin_cell_final/sims_with_chem/chem_sim_T_650_res_30_wc_-1\n",
        "jobname         chem_sim_T_650_res_30_wc_-1             \n",
        "===============================================\n",
        "mkdir: cannot create directory `/cluster/scratch_xl/public/vjan/chem_sim_T_650_res_40_wc_-1': File exists"
       ]
      },
      {
       "output_type": "stream",
       "stream": "stdout",
       "text": [
        "\n",
        "===============================================\n",
        "username        vjan                                    \n",
        "scratch         /cluster/scratch_xl/public/vjan/        \n",
        "host            brutus.ethz.ch                          \n",
        "ssh             vjan@brutus.ethz.ch:/cluster/scratch_xl/public/vjan/chem_sim_T_650_res_40_wc_-1\n",
        "dir             /cluster/scratch_xl/public/vjan/chem_sim_T_650_res_40_wc_-1\n",
        "project_name    surf_reaction_kelvin                    \n",
        "sim_folder      /home/vonrickenbach/testcases_mb/kelvin_cell_final/sims_with_chem/chem_sim_T_650_res_40_wc_-1\n",
        "jobname         chem_sim_T_650_res_40_wc_-1             \n",
        "===============================================\n",
        "mkdir: cannot create directory `/cluster/scratch_xl/public/vjan/chem_sim_T_650_res_20_wc_1e-05': File exists"
       ]
      },
      {
       "output_type": "stream",
       "stream": "stdout",
       "text": [
        "\n",
        "===============================================\n",
        "username        vjan                                    \n",
        "scratch         /cluster/scratch_xl/public/vjan/        \n",
        "host            brutus.ethz.ch                          \n",
        "ssh             vjan@brutus.ethz.ch:/cluster/scratch_xl/public/vjan/chem_sim_T_650_res_20_wc_1e-05\n",
        "dir             /cluster/scratch_xl/public/vjan/chem_sim_T_650_res_20_wc_1e-05\n",
        "project_name    surf_reaction_kelvin                    \n",
        "sim_folder      /home/vonrickenbach/testcases_mb/kelvin_cell_final/sims_with_chem/chem_sim_T_650_res_20_wc_1e-05\n",
        "jobname         chem_sim_T_650_res_20_wc_1e-05          \n",
        "===============================================\n",
        "mkdir: cannot create directory `/cluster/scratch_xl/public/vjan/chem_sim_T_650_res_30_wc_1e-05': File exists"
       ]
      },
      {
       "output_type": "stream",
       "stream": "stdout",
       "text": [
        "\n",
        "===============================================\n",
        "username        vjan                                    \n",
        "scratch         /cluster/scratch_xl/public/vjan/        \n",
        "host            brutus.ethz.ch                          \n",
        "ssh             vjan@brutus.ethz.ch:/cluster/scratch_xl/public/vjan/chem_sim_T_650_res_30_wc_1e-05\n",
        "dir             /cluster/scratch_xl/public/vjan/chem_sim_T_650_res_30_wc_1e-05\n",
        "project_name    surf_reaction_kelvin                    \n",
        "sim_folder      /home/vonrickenbach/testcases_mb/kelvin_cell_final/sims_with_chem/chem_sim_T_650_res_30_wc_1e-05\n",
        "jobname         chem_sim_T_650_res_30_wc_1e-05          \n",
        "===============================================\n",
        "mkdir: cannot create directory `/cluster/scratch_xl/public/vjan/chem_sim_T_650_res_40_wc_1e-05': File exists"
       ]
      },
      {
       "output_type": "stream",
       "stream": "stdout",
       "text": [
        "\n",
        "===============================================\n",
        "username        vjan                                    \n",
        "scratch         /cluster/scratch_xl/public/vjan/        \n",
        "host            brutus.ethz.ch                          \n",
        "ssh             vjan@brutus.ethz.ch:/cluster/scratch_xl/public/vjan/chem_sim_T_650_res_40_wc_1e-05\n",
        "dir             /cluster/scratch_xl/public/vjan/chem_sim_T_650_res_40_wc_1e-05\n",
        "project_name    surf_reaction_kelvin                    \n",
        "sim_folder      /home/vonrickenbach/testcases_mb/kelvin_cell_final/sims_with_chem/chem_sim_T_650_res_40_wc_1e-05\n",
        "jobname         chem_sim_T_650_res_40_wc_1e-05          \n",
        "===============================================\n",
        "mkdir: cannot create directory `/cluster/scratch_xl/public/vjan/chem_sim_T_650_res_20_wc_2e-05': File exists"
       ]
      },
      {
       "output_type": "stream",
       "stream": "stdout",
       "text": [
        "\n",
        "===============================================\n",
        "username        vjan                                    \n",
        "scratch         /cluster/scratch_xl/public/vjan/        \n",
        "host            brutus.ethz.ch                          \n",
        "ssh             vjan@brutus.ethz.ch:/cluster/scratch_xl/public/vjan/chem_sim_T_650_res_20_wc_2e-05\n",
        "dir             /cluster/scratch_xl/public/vjan/chem_sim_T_650_res_20_wc_2e-05\n",
        "project_name    surf_reaction_kelvin                    \n",
        "sim_folder      /home/vonrickenbach/testcases_mb/kelvin_cell_final/sims_with_chem/chem_sim_T_650_res_20_wc_2e-05\n",
        "jobname         chem_sim_T_650_res_20_wc_2e-05          \n",
        "===============================================\n",
        "mkdir: cannot create directory `/cluster/scratch_xl/public/vjan/chem_sim_T_650_res_30_wc_2e-05': File exists"
       ]
      },
      {
       "output_type": "stream",
       "stream": "stdout",
       "text": [
        "\n",
        "===============================================\n",
        "username        vjan                                    \n",
        "scratch         /cluster/scratch_xl/public/vjan/        \n",
        "host            brutus.ethz.ch                          \n",
        "ssh             vjan@brutus.ethz.ch:/cluster/scratch_xl/public/vjan/chem_sim_T_650_res_30_wc_2e-05\n",
        "dir             /cluster/scratch_xl/public/vjan/chem_sim_T_650_res_30_wc_2e-05\n",
        "project_name    surf_reaction_kelvin                    \n",
        "sim_folder      /home/vonrickenbach/testcases_mb/kelvin_cell_final/sims_with_chem/chem_sim_T_650_res_30_wc_2e-05\n",
        "jobname         chem_sim_T_650_res_30_wc_2e-05          \n",
        "===============================================\n",
        "mkdir: cannot create directory `/cluster/scratch_xl/public/vjan/chem_sim_T_650_res_40_wc_2e-05': File exists"
       ]
      },
      {
       "output_type": "stream",
       "stream": "stdout",
       "text": [
        "\n",
        "===============================================\n",
        "username        vjan                                    \n",
        "scratch         /cluster/scratch_xl/public/vjan/        \n",
        "host            brutus.ethz.ch                          \n",
        "ssh             vjan@brutus.ethz.ch:/cluster/scratch_xl/public/vjan/chem_sim_T_650_res_40_wc_2e-05\n",
        "dir             /cluster/scratch_xl/public/vjan/chem_sim_T_650_res_40_wc_2e-05\n",
        "project_name    surf_reaction_kelvin                    \n",
        "sim_folder      /home/vonrickenbach/testcases_mb/kelvin_cell_final/sims_with_chem/chem_sim_T_650_res_40_wc_2e-05\n",
        "jobname         chem_sim_T_650_res_40_wc_2e-05          \n",
        "===============================================\n",
        "mkdir: cannot create directory `/cluster/scratch_xl/public/vjan/chem_sim_T_700_res_20_wc_-1': File exists"
       ]
      },
      {
       "output_type": "stream",
       "stream": "stdout",
       "text": [
        "\n",
        "===============================================\n",
        "username        vjan                                    \n",
        "scratch         /cluster/scratch_xl/public/vjan/        \n",
        "host            brutus.ethz.ch                          \n",
        "ssh             vjan@brutus.ethz.ch:/cluster/scratch_xl/public/vjan/chem_sim_T_700_res_20_wc_-1\n",
        "dir             /cluster/scratch_xl/public/vjan/chem_sim_T_700_res_20_wc_-1\n",
        "project_name    surf_reaction_kelvin                    \n",
        "sim_folder      /home/vonrickenbach/testcases_mb/kelvin_cell_final/sims_with_chem/chem_sim_T_700_res_20_wc_-1\n",
        "jobname         chem_sim_T_700_res_20_wc_-1             \n",
        "===============================================\n",
        "mkdir: cannot create directory `/cluster/scratch_xl/public/vjan/chem_sim_T_700_res_30_wc_-1': File exists"
       ]
      },
      {
       "output_type": "stream",
       "stream": "stdout",
       "text": [
        "\n",
        "===============================================\n",
        "username        vjan                                    \n",
        "scratch         /cluster/scratch_xl/public/vjan/        \n",
        "host            brutus.ethz.ch                          \n",
        "ssh             vjan@brutus.ethz.ch:/cluster/scratch_xl/public/vjan/chem_sim_T_700_res_30_wc_-1\n",
        "dir             /cluster/scratch_xl/public/vjan/chem_sim_T_700_res_30_wc_-1\n",
        "project_name    surf_reaction_kelvin                    \n",
        "sim_folder      /home/vonrickenbach/testcases_mb/kelvin_cell_final/sims_with_chem/chem_sim_T_700_res_30_wc_-1\n",
        "jobname         chem_sim_T_700_res_30_wc_-1             \n",
        "===============================================\n",
        "mkdir: cannot create directory `/cluster/scratch_xl/public/vjan/chem_sim_T_700_res_40_wc_-1': File exists"
       ]
      },
      {
       "output_type": "stream",
       "stream": "stdout",
       "text": [
        "\n",
        "===============================================\n",
        "username        vjan                                    \n",
        "scratch         /cluster/scratch_xl/public/vjan/        \n",
        "host            brutus.ethz.ch                          \n",
        "ssh             vjan@brutus.ethz.ch:/cluster/scratch_xl/public/vjan/chem_sim_T_700_res_40_wc_-1\n",
        "dir             /cluster/scratch_xl/public/vjan/chem_sim_T_700_res_40_wc_-1\n",
        "project_name    surf_reaction_kelvin                    \n",
        "sim_folder      /home/vonrickenbach/testcases_mb/kelvin_cell_final/sims_with_chem/chem_sim_T_700_res_40_wc_-1\n",
        "jobname         chem_sim_T_700_res_40_wc_-1             \n",
        "===============================================\n",
        "mkdir: cannot create directory `/cluster/scratch_xl/public/vjan/chem_sim_T_700_res_20_wc_1e-05': File exists"
       ]
      },
      {
       "output_type": "stream",
       "stream": "stdout",
       "text": [
        "\n",
        "===============================================\n",
        "username        vjan                                    \n",
        "scratch         /cluster/scratch_xl/public/vjan/        \n",
        "host            brutus.ethz.ch                          \n",
        "ssh             vjan@brutus.ethz.ch:/cluster/scratch_xl/public/vjan/chem_sim_T_700_res_20_wc_1e-05\n",
        "dir             /cluster/scratch_xl/public/vjan/chem_sim_T_700_res_20_wc_1e-05\n",
        "project_name    surf_reaction_kelvin                    \n",
        "sim_folder      /home/vonrickenbach/testcases_mb/kelvin_cell_final/sims_with_chem/chem_sim_T_700_res_20_wc_1e-05\n",
        "jobname         chem_sim_T_700_res_20_wc_1e-05          \n",
        "===============================================\n",
        "mkdir: cannot create directory `/cluster/scratch_xl/public/vjan/chem_sim_T_700_res_30_wc_1e-05': File exists"
       ]
      },
      {
       "output_type": "stream",
       "stream": "stdout",
       "text": [
        "\n",
        "===============================================\n",
        "username        vjan                                    \n",
        "scratch         /cluster/scratch_xl/public/vjan/        \n",
        "host            brutus.ethz.ch                          \n",
        "ssh             vjan@brutus.ethz.ch:/cluster/scratch_xl/public/vjan/chem_sim_T_700_res_30_wc_1e-05\n",
        "dir             /cluster/scratch_xl/public/vjan/chem_sim_T_700_res_30_wc_1e-05\n",
        "project_name    surf_reaction_kelvin                    \n",
        "sim_folder      /home/vonrickenbach/testcases_mb/kelvin_cell_final/sims_with_chem/chem_sim_T_700_res_30_wc_1e-05\n",
        "jobname         chem_sim_T_700_res_30_wc_1e-05          \n",
        "===============================================\n",
        "mkdir: cannot create directory `/cluster/scratch_xl/public/vjan/chem_sim_T_700_res_40_wc_1e-05': File exists"
       ]
      },
      {
       "output_type": "stream",
       "stream": "stdout",
       "text": [
        "\n",
        "===============================================\n",
        "username        vjan                                    \n",
        "scratch         /cluster/scratch_xl/public/vjan/        \n",
        "host            brutus.ethz.ch                          \n",
        "ssh             vjan@brutus.ethz.ch:/cluster/scratch_xl/public/vjan/chem_sim_T_700_res_40_wc_1e-05\n",
        "dir             /cluster/scratch_xl/public/vjan/chem_sim_T_700_res_40_wc_1e-05\n",
        "project_name    surf_reaction_kelvin                    \n",
        "sim_folder      /home/vonrickenbach/testcases_mb/kelvin_cell_final/sims_with_chem/chem_sim_T_700_res_40_wc_1e-05\n",
        "jobname         chem_sim_T_700_res_40_wc_1e-05          \n",
        "===============================================\n",
        "mkdir: cannot create directory `/cluster/scratch_xl/public/vjan/chem_sim_T_700_res_20_wc_2e-05': File exists"
       ]
      },
      {
       "output_type": "stream",
       "stream": "stdout",
       "text": [
        "\n",
        "===============================================\n",
        "username        vjan                                    \n",
        "scratch         /cluster/scratch_xl/public/vjan/        \n",
        "host            brutus.ethz.ch                          \n",
        "ssh             vjan@brutus.ethz.ch:/cluster/scratch_xl/public/vjan/chem_sim_T_700_res_20_wc_2e-05\n",
        "dir             /cluster/scratch_xl/public/vjan/chem_sim_T_700_res_20_wc_2e-05\n",
        "project_name    surf_reaction_kelvin                    \n",
        "sim_folder      /home/vonrickenbach/testcases_mb/kelvin_cell_final/sims_with_chem/chem_sim_T_700_res_20_wc_2e-05\n",
        "jobname         chem_sim_T_700_res_20_wc_2e-05          \n",
        "===============================================\n",
        "mkdir: cannot create directory `/cluster/scratch_xl/public/vjan/chem_sim_T_700_res_30_wc_2e-05': File exists"
       ]
      },
      {
       "output_type": "stream",
       "stream": "stdout",
       "text": [
        "\n",
        "===============================================\n",
        "username        vjan                                    \n",
        "scratch         /cluster/scratch_xl/public/vjan/        \n",
        "host            brutus.ethz.ch                          \n",
        "ssh             vjan@brutus.ethz.ch:/cluster/scratch_xl/public/vjan/chem_sim_T_700_res_30_wc_2e-05\n",
        "dir             /cluster/scratch_xl/public/vjan/chem_sim_T_700_res_30_wc_2e-05\n",
        "project_name    surf_reaction_kelvin                    \n",
        "sim_folder      /home/vonrickenbach/testcases_mb/kelvin_cell_final/sims_with_chem/chem_sim_T_700_res_30_wc_2e-05\n",
        "jobname         chem_sim_T_700_res_30_wc_2e-05          \n",
        "===============================================\n",
        "mkdir: cannot create directory `/cluster/scratch_xl/public/vjan/chem_sim_T_700_res_40_wc_2e-05': File exists"
       ]
      },
      {
       "output_type": "stream",
       "stream": "stdout",
       "text": [
        "\n",
        "===============================================\n",
        "username        vjan                                    \n",
        "scratch         /cluster/scratch_xl/public/vjan/        \n",
        "host            brutus.ethz.ch                          \n",
        "ssh             vjan@brutus.ethz.ch:/cluster/scratch_xl/public/vjan/chem_sim_T_700_res_40_wc_2e-05\n",
        "dir             /cluster/scratch_xl/public/vjan/chem_sim_T_700_res_40_wc_2e-05\n",
        "project_name    surf_reaction_kelvin                    \n",
        "sim_folder      /home/vonrickenbach/testcases_mb/kelvin_cell_final/sims_with_chem/chem_sim_T_700_res_40_wc_2e-05\n",
        "jobname         chem_sim_T_700_res_40_wc_2e-05          \n",
        "===============================================\n"
       ]
      }
     ],
     "prompt_number": 62
    },
    {
     "cell_type": "code",
     "collapsed": false,
     "input": [
      "#for sim in filter_simulations(sim_list,wc_thickness=-1,res=40,temperature=600):\n",
      "for sim in filter_simulations(sim_list,res=30,temperature=600,wc_thickness=2E-5):\n",
      "\n",
      "    sim.sync_input()\n",
      "    sim.application.load      = \"source ~/.bashrc_gfort_new_solver\"\n",
      "    sim.init_application.load = \"source ~/.bashrc_gfort_new_solver\"\n",
      "    if sim.sim_info[\"res\"]==40:\n",
      "        nproc = \"128\"\n",
      "        memory = \"2048\"\n",
      "    if sim.sim_info[\"res\"]==30:\n",
      "        nproc = \"128\"\n",
      "        memory = \"2048\"  \n",
      "    if sim.sim_info[\"res\"]==20:\n",
      "        nproc = \"64\"\n",
      "        memory = \"2048\"            \n",
      "#    sim.run_init(nproc=nproc,memory=memory,time='60')\n",
      "    sim.run_sim(nproc=nproc,memory=memory,time='240',njobs=8,endtime=60,restart=True,depend=False) \n",
      "#    sim.kill()"
     ],
     "language": "python",
     "metadata": {
      "slideshow": {
       "slide_type": "slide"
      }
     },
     "outputs": [
      {
       "output_type": "stream",
       "stream": "stdout",
       "text": [
        "===================================================\n",
        " Syncing Current Working Directory with Cluster \n",
        "===================================================\n",
        "==================================================="
       ]
      },
      {
       "output_type": "stream",
       "stream": "stdout",
       "text": [
        "\n",
        " Syncing Current Working Directory with Cluster \n",
        "===================================================\n",
        "==================================================="
       ]
      },
      {
       "output_type": "stream",
       "stream": "stdout",
       "text": [
        "\n",
        " Syncing Current Working Directory with Cluster \n",
        "===================================================\n",
        "bsub -n 1 -W 60 -R \"rusage[mem=2048]\" -J chem_sim_T_650_res_30_wc_2e-05 -o post_command.log -e std_err.log   ./post_command.py "
       ]
      },
      {
       "output_type": "stream",
       "stream": "stdout",
       "text": [
        "\n",
        "Job <55976639> is submitted to queue <pub.1h>."
       ]
      },
      {
       "output_type": "stream",
       "stream": "stdout",
       "text": [
        "\n",
        "Generic job.\n",
        "source ~/.bashrc_gfort_new_solver; bsub -n 128 -W 240 -R \"rusage[mem=2048]\" -J chem_sim_T_650_res_30_wc_2e-05 -o std_out.log -e std_err.log -w \"ended(chem_sim_T_650_res_30_wc_2e-05)\" mpirun ./transatmbDP -pc_hypre_boomeramg_max_iter -pc_hypre_boomeramg_coarsen_type HMIS -pc_hypre_boomeramg_interp_type ext+i -pc_hypre_boomeramg_P_max 4 -pc_hypre_boomeramg_strong_treshold 0 -pc_hypre_boomeramg_agg_nl 2\n",
        "Job <55976640> is submitted to queue <pub.8h>."
       ]
      },
      {
       "output_type": "stream",
       "stream": "stdout",
       "text": [
        "\n",
        "MPI job.\n",
        "bsub -n 1 -W 60 -R \"rusage[mem=2048]\" -J chem_sim_T_650_res_30_wc_2e-05 -o post_command.log -e std_err.log -w \"ended(chem_sim_T_650_res_30_wc_2e-05)\"  ./post_command.py \n",
        "source ~/.bashrc_gfort_new_solver; bsub -n 128 -W 240 -R \"rusage[mem=2048]\" -J chem_sim_T_650_res_30_wc_2e-05 -o std_out.log -e std_err.log -w \"ended(chem_sim_T_650_res_30_wc_2e-05)\" mpirun ./transatmbDP -pc_hypre_boomeramg_max_iter -pc_hypre_boomeramg_coarsen_type HMIS -pc_hypre_boomeramg_interp_type ext+i -pc_hypre_boomeramg_P_max 4 -pc_hypre_boomeramg_strong_treshold 0 -pc_hypre_boomeramg_agg_nl 2"
       ]
      },
      {
       "output_type": "stream",
       "stream": "stdout",
       "text": [
        "\n",
        "Job <55976642> is submitted to queue <pub.8h>."
       ]
      },
      {
       "output_type": "stream",
       "stream": "stdout",
       "text": [
        "\n",
        "MPI job.\n",
        "bsub -n 1 -W 60 -R \"rusage[mem=2048]\" -J chem_sim_T_650_res_30_wc_2e-05 -o post_command.log -e std_err.log -w \"ended(chem_sim_T_650_res_30_wc_2e-05)\"  ./post_command.py \n",
        "source ~/.bashrc_gfort_new_solver; bsub -n 128 -W 240 -R \"rusage[mem=2048]\" -J chem_sim_T_650_res_30_wc_2e-05 -o std_out.log -e std_err.log -w \"ended(chem_sim_T_650_res_30_wc_2e-05)\" mpirun ./transatmbDP -pc_hypre_boomeramg_max_iter -pc_hypre_boomeramg_coarsen_type HMIS -pc_hypre_boomeramg_interp_type ext+i -pc_hypre_boomeramg_P_max 4 -pc_hypre_boomeramg_strong_treshold 0 -pc_hypre_boomeramg_agg_nl 2"
       ]
      },
      {
       "output_type": "stream",
       "stream": "stdout",
       "text": [
        "\n",
        "Job <55976644> is submitted to queue <pub.8h>."
       ]
      },
      {
       "output_type": "stream",
       "stream": "stdout",
       "text": [
        "\n",
        "MPI job.\n",
        "bsub -n 1 -W 60 -R \"rusage[mem=2048]\" -J chem_sim_T_650_res_30_wc_2e-05 -o post_command.log -e std_err.log -w \"ended(chem_sim_T_650_res_30_wc_2e-05)\"  ./post_command.py \n",
        "source ~/.bashrc_gfort_new_solver; bsub -n 128 -W 240 -R \"rusage[mem=2048]\" -J chem_sim_T_650_res_30_wc_2e-05 -o std_out.log -e std_err.log -w \"ended(chem_sim_T_650_res_30_wc_2e-05)\" mpirun ./transatmbDP -pc_hypre_boomeramg_max_iter -pc_hypre_boomeramg_coarsen_type HMIS -pc_hypre_boomeramg_interp_type ext+i -pc_hypre_boomeramg_P_max 4 -pc_hypre_boomeramg_strong_treshold 0 -pc_hypre_boomeramg_agg_nl 2"
       ]
      },
      {
       "output_type": "stream",
       "stream": "stdout",
       "text": [
        "\n",
        "Job <55976646> is submitted to queue <pub.8h>."
       ]
      },
      {
       "output_type": "stream",
       "stream": "stdout",
       "text": [
        "\n",
        "MPI job.\n",
        "bsub -n 1 -W 60 -R \"rusage[mem=2048]\" -J chem_sim_T_650_res_30_wc_2e-05 -o post_command.log -e std_err.log -w \"ended(chem_sim_T_650_res_30_wc_2e-05)\"  ./post_command.py \n",
        "source ~/.bashrc_gfort_new_solver; bsub -n 128 -W 240 -R \"rusage[mem=2048]\" -J chem_sim_T_650_res_30_wc_2e-05 -o std_out.log -e std_err.log -w \"ended(chem_sim_T_650_res_30_wc_2e-05)\" mpirun ./transatmbDP -pc_hypre_boomeramg_max_iter -pc_hypre_boomeramg_coarsen_type HMIS -pc_hypre_boomeramg_interp_type ext+i -pc_hypre_boomeramg_P_max 4 -pc_hypre_boomeramg_strong_treshold 0 -pc_hypre_boomeramg_agg_nl 2"
       ]
      },
      {
       "output_type": "stream",
       "stream": "stdout",
       "text": [
        "\n",
        "Job <55976648> is submitted to queue <pub.8h>."
       ]
      },
      {
       "output_type": "stream",
       "stream": "stdout",
       "text": [
        "\n",
        "MPI job.\n",
        "bsub -n 1 -W 60 -R \"rusage[mem=2048]\" -J chem_sim_T_650_res_30_wc_2e-05 -o post_command.log -e std_err.log -w \"ended(chem_sim_T_650_res_30_wc_2e-05)\"  ./post_command.py \n",
        "source ~/.bashrc_gfort_new_solver; bsub -n 128 -W 240 -R \"rusage[mem=2048]\" -J chem_sim_T_650_res_30_wc_2e-05 -o std_out.log -e std_err.log -w \"ended(chem_sim_T_650_res_30_wc_2e-05)\" mpirun ./transatmbDP -pc_hypre_boomeramg_max_iter -pc_hypre_boomeramg_coarsen_type HMIS -pc_hypre_boomeramg_interp_type ext+i -pc_hypre_boomeramg_P_max 4 -pc_hypre_boomeramg_strong_treshold 0 -pc_hypre_boomeramg_agg_nl 2\n",
        "Job <55976650> is submitted to queue <pub.8h>."
       ]
      },
      {
       "output_type": "stream",
       "stream": "stdout",
       "text": [
        "\n",
        "MPI job.\n",
        "bsub -n 1 -W 60 -R \"rusage[mem=2048]\" -J chem_sim_T_650_res_30_wc_2e-05 -o post_command.log -e std_err.log -w \"ended(chem_sim_T_650_res_30_wc_2e-05)\"  ./post_command.py \n",
        "source ~/.bashrc_gfort_new_solver; bsub -n 128 -W 240 -R \"rusage[mem=2048]\" -J chem_sim_T_650_res_30_wc_2e-05 -o std_out.log -e std_err.log -w \"ended(chem_sim_T_650_res_30_wc_2e-05)\" mpirun ./transatmbDP -pc_hypre_boomeramg_max_iter -pc_hypre_boomeramg_coarsen_type HMIS -pc_hypre_boomeramg_interp_type ext+i -pc_hypre_boomeramg_P_max 4 -pc_hypre_boomeramg_strong_treshold 0 -pc_hypre_boomeramg_agg_nl 2\n",
        "Job <55976652> is submitted to queue <pub.8h>."
       ]
      },
      {
       "output_type": "stream",
       "stream": "stdout",
       "text": [
        "\n",
        "MPI job.\n",
        "bsub -n 1 -W 60 -R \"rusage[mem=2048]\" -J chem_sim_T_650_res_30_wc_2e-05 -o post_command.log -e std_err.log -w \"ended(chem_sim_T_650_res_30_wc_2e-05)\"  ./post_command.py \n",
        "source ~/.bashrc_gfort_new_solver; bsub -n 128 -W 240 -R \"rusage[mem=2048]\" -J chem_sim_T_650_res_30_wc_2e-05 -o std_out.log -e std_err.log -w \"ended(chem_sim_T_650_res_30_wc_2e-05)\" mpirun ./transatmbDP -pc_hypre_boomeramg_max_iter -pc_hypre_boomeramg_coarsen_type HMIS -pc_hypre_boomeramg_interp_type ext+i -pc_hypre_boomeramg_P_max 4 -pc_hypre_boomeramg_strong_treshold 0 -pc_hypre_boomeramg_agg_nl 2\n",
        "Job <55976654> is submitted to queue <pub.8h>."
       ]
      },
      {
       "output_type": "stream",
       "stream": "stdout",
       "text": [
        "\n",
        "MPI job.\n"
       ]
      }
     ],
     "prompt_number": 63
    },
    {
     "cell_type": "code",
     "collapsed": false,
     "input": [
      "filter_simulations(sim_list,wc_thickness=1E-5,temperature=600)"
     ],
     "language": "python",
     "metadata": {},
     "outputs": [
      {
       "metadata": {},
       "output_type": "pyout",
       "prompt_number": 130,
       "text": [
        "[<simulation_brutus.job instance at 0x4711f80>,\n",
        " <simulation_brutus.job instance at 0x46a7638>,\n",
        " <simulation_brutus.job instance at 0x470ecf8>]"
       ]
      }
     ],
     "prompt_number": 130
    },
    {
     "cell_type": "code",
     "collapsed": false,
     "input": [
      "root_folder = \"/home/vonrickenbach/testcases_mb/kelvin_cell_final/param_study_8_cells/inf_vol_avg_param_study/\"\n",
      "import Cantera as ca\n",
      "\n",
      "gas=ca.importPhase(os.path.join(root_folder,\"../cantera_input.cti\"),\"gas\")\n",
      "\n",
      "molfractions  =  [0.003,0.1,0.064,0.072,0.76,0.003]\n",
      "\n",
      "gas.setState_TPX(500,1E5,molfractions)\n",
      "\n",
      "Re = 2.5*0.0023*gas.density()/gas.viscosity()\n",
      "gas.delta_H()\n",
      "\n",
      "Sc = gas.viscosity()/gas.density()/gas.diffusionCoeffs()[0]\n",
      "Pr = gas.viscosity()/gas.density()/(gas.thermalConductivity()/(gas.density()*gas.cp_mass()))\n",
      "Re,Sc,Pr\n",
      "\n"
     ],
     "language": "python",
     "metadata": {},
     "outputs": [
      {
       "metadata": {},
       "output_type": "pyout",
       "prompt_number": 12,
       "text": [
        "(154.501464320225, 1.2161825846728904, 0.7175608724709476)"
       ]
      }
     ],
     "prompt_number": 12
    },
    {
     "cell_type": "code",
     "collapsed": false,
     "input": [
      "filename = \"full_3d.py\"\n",
      "filename = \"slice_avg.py\"\n",
      "for sim in filter_simulations(sim_list,res=30):\n",
      "  sh.copy(filename,os.path.join(sim.info.local[\"sim_folder\"]))\n",
      "  sim.run_postprocess(filename,nproc=\"1\",memory=\"16000\")"
     ],
     "language": "python",
     "metadata": {},
     "outputs": [
      {
       "output_type": "stream",
       "stream": "stdout",
       "text": [
        "===================================================\n",
        " Syncing Current Working Directory with Cluster \n",
        "===================================================\n",
        "source $HOME/.bashrc_paraview; bsub -n 1 -W 60 -R \"rusage[mem=16000]\" -J chem_sim_T_550_res_30_wc_-1 -o postprocess.out -e std_err.log  mpirun /cluster/home/mavt/vjan/ParaView-4.0.1-Linux-64bit/bin/pvbatch --use-offscreen-rendering slice_avg.py"
       ]
      },
      {
       "output_type": "stream",
       "stream": "stdout",
       "text": [
        "\n",
        "===================================================\n",
        " Syncing Current Working Directory with Cluster \n",
        "===================================================\n",
        "source $HOME/.bashrc_paraview; bsub -n 1 -W 60 -R \"rusage[mem=16000]\" -J chem_sim_T_550_res_30_wc_1e-05 -o postprocess.out -e std_err.log  mpirun /cluster/home/mavt/vjan/ParaView-4.0.1-Linux-64bit/bin/pvbatch --use-offscreen-rendering slice_avg.py"
       ]
      },
      {
       "output_type": "stream",
       "stream": "stdout",
       "text": [
        "\n",
        "==================================================="
       ]
      },
      {
       "output_type": "stream",
       "stream": "stdout",
       "text": [
        "\n",
        " Syncing Current Working Directory with Cluster \n",
        "===================================================\n"
       ]
      },
      {
       "ename": "KeyboardInterrupt",
       "evalue": "",
       "output_type": "pyerr",
       "traceback": [
        "\u001b[1;31m---------------------------------------------------------------------------\u001b[0m\n\u001b[1;31mKeyboardInterrupt\u001b[0m                         Traceback (most recent call last)",
        "\u001b[1;32m<ipython-input-64-8c16dea6a2d9>\u001b[0m in \u001b[0;36m<module>\u001b[1;34m()\u001b[0m\n\u001b[0;32m      3\u001b[0m \u001b[1;32mfor\u001b[0m \u001b[0msim\u001b[0m \u001b[1;32min\u001b[0m \u001b[0mfilter_simulations\u001b[0m\u001b[1;33m(\u001b[0m\u001b[0msim_list\u001b[0m\u001b[1;33m,\u001b[0m\u001b[0mres\u001b[0m\u001b[1;33m=\u001b[0m\u001b[1;36m30\u001b[0m\u001b[1;33m)\u001b[0m\u001b[1;33m:\u001b[0m\u001b[1;33m\u001b[0m\u001b[0m\n\u001b[0;32m      4\u001b[0m   \u001b[0msh\u001b[0m\u001b[1;33m.\u001b[0m\u001b[0mcopy\u001b[0m\u001b[1;33m(\u001b[0m\u001b[0mfilename\u001b[0m\u001b[1;33m,\u001b[0m\u001b[0mos\u001b[0m\u001b[1;33m.\u001b[0m\u001b[0mpath\u001b[0m\u001b[1;33m.\u001b[0m\u001b[0mjoin\u001b[0m\u001b[1;33m(\u001b[0m\u001b[0msim\u001b[0m\u001b[1;33m.\u001b[0m\u001b[0minfo\u001b[0m\u001b[1;33m.\u001b[0m\u001b[0mlocal\u001b[0m\u001b[1;33m[\u001b[0m\u001b[1;34m\"sim_folder\"\u001b[0m\u001b[1;33m]\u001b[0m\u001b[1;33m)\u001b[0m\u001b[1;33m)\u001b[0m\u001b[1;33m\u001b[0m\u001b[0m\n\u001b[1;32m----> 5\u001b[1;33m   \u001b[0msim\u001b[0m\u001b[1;33m.\u001b[0m\u001b[0mrun_postprocess\u001b[0m\u001b[1;33m(\u001b[0m\u001b[0mfilename\u001b[0m\u001b[1;33m,\u001b[0m\u001b[0mnproc\u001b[0m\u001b[1;33m=\u001b[0m\u001b[1;34m\"1\"\u001b[0m\u001b[1;33m,\u001b[0m\u001b[0mmemory\u001b[0m\u001b[1;33m=\u001b[0m\u001b[1;34m\"16000\"\u001b[0m\u001b[1;33m)\u001b[0m\u001b[1;33m\u001b[0m\u001b[0m\n\u001b[0m",
        "\u001b[1;32m/home/vonrickenbach/contrib_git/python/cluster_interface/simulation_brutus.pyc\u001b[0m in \u001b[0;36mrun_postprocess\u001b[1;34m(self, script, nproc, time, memory, output, quiet)\u001b[0m\n\u001b[0;32m    657\u001b[0m       \u001b[0mself\u001b[0m\u001b[1;33m.\u001b[0m\u001b[0mpostprocessor\u001b[0m\u001b[1;33m.\u001b[0m\u001b[0margument\u001b[0m \u001b[1;33m=\u001b[0m \u001b[0mscript\u001b[0m\u001b[1;33m\u001b[0m\u001b[0m\n\u001b[0;32m    658\u001b[0m       self.app_runner.run_app(self.postprocessor,None,nproc=nproc,time=time,memory=memory,output=output \\\n\u001b[1;32m--> 659\u001b[1;33m                           ,njobs=1,restart=False,endtime=0,quiet=quiet)\n\u001b[0m\u001b[0;32m    660\u001b[0m \u001b[1;33m\u001b[0m\u001b[0m\n\u001b[0;32m    661\u001b[0m    \u001b[1;32mdef\u001b[0m \u001b[0mpeek\u001b[0m\u001b[1;33m(\u001b[0m\u001b[0mself\u001b[0m\u001b[1;33m,\u001b[0m\u001b[0marg\u001b[0m\u001b[1;33m=\u001b[0m\u001b[1;34m' '\u001b[0m\u001b[1;33m)\u001b[0m\u001b[1;33m:\u001b[0m\u001b[1;33m\u001b[0m\u001b[0m\n",
        "\u001b[1;32m/home/vonrickenbach/contrib_git/python/cluster_interface/simulation_brutus.pyc\u001b[0m in \u001b[0;36mrun_app\u001b[1;34m(self, application, restart_application, nproc, time, memory, output, njobs, restart, endtime, quiet, depend)\u001b[0m\n\u001b[0;32m    351\u001b[0m          \u001b[1;32mpass\u001b[0m\u001b[1;33m\u001b[0m\u001b[0m\n\u001b[0;32m    352\u001b[0m \u001b[1;33m\u001b[0m\u001b[0m\n\u001b[1;32m--> 353\u001b[1;33m       \u001b[0mself\u001b[0m\u001b[1;33m.\u001b[0m\u001b[0msim_class\u001b[0m\u001b[1;33m.\u001b[0m\u001b[0mcommunicator\u001b[0m\u001b[1;33m.\u001b[0m\u001b[0msync_input\u001b[0m\u001b[1;33m(\u001b[0m\u001b[1;33m)\u001b[0m\u001b[1;33m\u001b[0m\u001b[0m\n\u001b[0m\u001b[0;32m    354\u001b[0m \u001b[1;33m\u001b[0m\u001b[0m\n\u001b[0;32m    355\u001b[0m       \u001b[0mdependency_string\u001b[0m \u001b[1;33m=\u001b[0m \u001b[1;34m'\\\"ended('\u001b[0m \u001b[1;33m+\u001b[0m \u001b[0mjobname\u001b[0m \u001b[1;33m+\u001b[0m \u001b[1;34m')\\\"'\u001b[0m\u001b[1;33m\u001b[0m\u001b[0m\n",
        "\u001b[1;32m/home/vonrickenbach/contrib_git/python/cluster_interface/simulation_brutus.pyc\u001b[0m in \u001b[0;36msync_input\u001b[1;34m(self)\u001b[0m\n\u001b[0;32m    471\u001b[0m                       \u001b[1;33m+\u001b[0m \u001b[0mcluster_dir\u001b[0m\u001b[1;33m\u001b[0m\u001b[0m\n\u001b[0;32m    472\u001b[0m       \u001b[0mrsync_command\u001b[0m \u001b[1;33m=\u001b[0m \u001b[0mrsync_command\u001b[0m\u001b[1;33m.\u001b[0m\u001b[0msplit\u001b[0m\u001b[1;33m(\u001b[0m\u001b[1;33m)\u001b[0m\u001b[1;33m\u001b[0m\u001b[0m\n\u001b[1;32m--> 473\u001b[1;33m       \u001b[0mself\u001b[0m\u001b[1;33m.\u001b[0m\u001b[0msim_class\u001b[0m\u001b[1;33m.\u001b[0m\u001b[0mcommand_runner\u001b[0m\u001b[1;33m(\u001b[0m\u001b[0mrsync_command\u001b[0m\u001b[1;33m)\u001b[0m\u001b[1;33m\u001b[0m\u001b[0m\n\u001b[0m\u001b[0;32m    474\u001b[0m       \u001b[0mchmod_command\u001b[0m \u001b[1;33m=\u001b[0m \u001b[1;34m'chmod +x post_command.py'\u001b[0m\u001b[1;33m\u001b[0m\u001b[0m\n\u001b[0;32m    475\u001b[0m       \u001b[0mself\u001b[0m\u001b[1;33m.\u001b[0m\u001b[0msim_class\u001b[0m\u001b[1;33m.\u001b[0m\u001b[0mcommand_runner_remote\u001b[0m\u001b[1;33m(\u001b[0m\u001b[0mchmod_command\u001b[0m\u001b[1;33m)\u001b[0m\u001b[1;33m\u001b[0m\u001b[0m\n",
        "\u001b[1;32m/home/vonrickenbach/contrib_git/python/cluster_interface/simulation_brutus.pyc\u001b[0m in \u001b[0;36m__call__\u001b[1;34m(self, command, quiet, wait)\u001b[0m\n\u001b[0;32m     88\u001b[0m       \u001b[0mprocess\u001b[0m \u001b[1;33m=\u001b[0m \u001b[0msp\u001b[0m\u001b[1;33m.\u001b[0m\u001b[0mPopen\u001b[0m\u001b[1;33m(\u001b[0m\u001b[0mtemp_command\u001b[0m\u001b[1;33m,\u001b[0m\u001b[0mcwd\u001b[0m\u001b[1;33m=\u001b[0m\u001b[0mdirectory\u001b[0m\u001b[1;33m,\u001b[0m\u001b[0mshell\u001b[0m\u001b[1;33m=\u001b[0m\u001b[0mFalse\u001b[0m\u001b[1;33m,\u001b[0m\u001b[0mstdout\u001b[0m\u001b[1;33m=\u001b[0m\u001b[0mopen\u001b[0m\u001b[1;33m(\u001b[0m\u001b[0mos\u001b[0m\u001b[1;33m.\u001b[0m\u001b[0mpath\u001b[0m\u001b[1;33m.\u001b[0m\u001b[0mjoin\u001b[0m\u001b[1;33m(\u001b[0m\u001b[0mdirectory\u001b[0m\u001b[1;33m,\u001b[0m\u001b[1;34m\"std_out_commands.log\"\u001b[0m\u001b[1;33m)\u001b[0m\u001b[1;33m,\u001b[0m\u001b[1;34m'a'\u001b[0m\u001b[1;33m)\u001b[0m\u001b[1;33m,\u001b[0m\u001b[0mstderr\u001b[0m\u001b[1;33m=\u001b[0m\u001b[0mNone\u001b[0m\u001b[1;33m)\u001b[0m\u001b[1;33m\u001b[0m\u001b[0m\n\u001b[0;32m     89\u001b[0m       \u001b[1;32mif\u001b[0m \u001b[0mwait\u001b[0m\u001b[1;33m:\u001b[0m\u001b[1;33m\u001b[0m\u001b[0m\n\u001b[1;32m---> 90\u001b[1;33m          \u001b[0mprocess\u001b[0m\u001b[1;33m.\u001b[0m\u001b[0mwait\u001b[0m\u001b[1;33m(\u001b[0m\u001b[1;33m)\u001b[0m\u001b[1;33m\u001b[0m\u001b[0m\n\u001b[0m\u001b[0;32m     91\u001b[0m       \u001b[1;32melse\u001b[0m\u001b[1;33m:\u001b[0m\u001b[1;33m\u001b[0m\u001b[0m\n\u001b[0;32m     92\u001b[0m          \u001b[0mself\u001b[0m\u001b[1;33m.\u001b[0m\u001b[0msim_class\u001b[0m\u001b[1;33m.\u001b[0m\u001b[0mstatus_handler\u001b[0m\u001b[1;33m.\u001b[0m\u001b[0mprocess\u001b[0m \u001b[1;33m=\u001b[0m \u001b[0mprocess\u001b[0m\u001b[1;33m\u001b[0m\u001b[0m\n",
        "\u001b[1;32m/usr/lib64/python2.7/subprocess.pyc\u001b[0m in \u001b[0;36mwait\u001b[1;34m(self)\u001b[0m\n\u001b[0;32m   1289\u001b[0m             \u001b[1;32mif\u001b[0m \u001b[0mself\u001b[0m\u001b[1;33m.\u001b[0m\u001b[0mreturncode\u001b[0m \u001b[1;32mis\u001b[0m \u001b[0mNone\u001b[0m\u001b[1;33m:\u001b[0m\u001b[1;33m\u001b[0m\u001b[0m\n\u001b[0;32m   1290\u001b[0m                 \u001b[1;32mtry\u001b[0m\u001b[1;33m:\u001b[0m\u001b[1;33m\u001b[0m\u001b[0m\n\u001b[1;32m-> 1291\u001b[1;33m                     \u001b[0mpid\u001b[0m\u001b[1;33m,\u001b[0m \u001b[0msts\u001b[0m \u001b[1;33m=\u001b[0m \u001b[0m_eintr_retry_call\u001b[0m\u001b[1;33m(\u001b[0m\u001b[0mos\u001b[0m\u001b[1;33m.\u001b[0m\u001b[0mwaitpid\u001b[0m\u001b[1;33m,\u001b[0m \u001b[0mself\u001b[0m\u001b[1;33m.\u001b[0m\u001b[0mpid\u001b[0m\u001b[1;33m,\u001b[0m \u001b[1;36m0\u001b[0m\u001b[1;33m)\u001b[0m\u001b[1;33m\u001b[0m\u001b[0m\n\u001b[0m\u001b[0;32m   1292\u001b[0m                 \u001b[1;32mexcept\u001b[0m \u001b[0mOSError\u001b[0m \u001b[1;32mas\u001b[0m \u001b[0me\u001b[0m\u001b[1;33m:\u001b[0m\u001b[1;33m\u001b[0m\u001b[0m\n\u001b[0;32m   1293\u001b[0m                     \u001b[1;32mif\u001b[0m \u001b[0me\u001b[0m\u001b[1;33m.\u001b[0m\u001b[0merrno\u001b[0m \u001b[1;33m!=\u001b[0m \u001b[0merrno\u001b[0m\u001b[1;33m.\u001b[0m\u001b[0mECHILD\u001b[0m\u001b[1;33m:\u001b[0m\u001b[1;33m\u001b[0m\u001b[0m\n",
        "\u001b[1;32m/usr/lib64/python2.7/subprocess.pyc\u001b[0m in \u001b[0;36m_eintr_retry_call\u001b[1;34m(func, *args)\u001b[0m\n\u001b[0;32m    476\u001b[0m     \u001b[1;32mwhile\u001b[0m \u001b[0mTrue\u001b[0m\u001b[1;33m:\u001b[0m\u001b[1;33m\u001b[0m\u001b[0m\n\u001b[0;32m    477\u001b[0m         \u001b[1;32mtry\u001b[0m\u001b[1;33m:\u001b[0m\u001b[1;33m\u001b[0m\u001b[0m\n\u001b[1;32m--> 478\u001b[1;33m             \u001b[1;32mreturn\u001b[0m \u001b[0mfunc\u001b[0m\u001b[1;33m(\u001b[0m\u001b[1;33m*\u001b[0m\u001b[0margs\u001b[0m\u001b[1;33m)\u001b[0m\u001b[1;33m\u001b[0m\u001b[0m\n\u001b[0m\u001b[0;32m    479\u001b[0m         \u001b[1;32mexcept\u001b[0m \u001b[1;33m(\u001b[0m\u001b[0mOSError\u001b[0m\u001b[1;33m,\u001b[0m \u001b[0mIOError\u001b[0m\u001b[1;33m)\u001b[0m \u001b[1;32mas\u001b[0m \u001b[0me\u001b[0m\u001b[1;33m:\u001b[0m\u001b[1;33m\u001b[0m\u001b[0m\n\u001b[0;32m    480\u001b[0m             \u001b[1;32mif\u001b[0m \u001b[0me\u001b[0m\u001b[1;33m.\u001b[0m\u001b[0merrno\u001b[0m \u001b[1;33m==\u001b[0m \u001b[0merrno\u001b[0m\u001b[1;33m.\u001b[0m\u001b[0mEINTR\u001b[0m\u001b[1;33m:\u001b[0m\u001b[1;33m\u001b[0m\u001b[0m\n",
        "\u001b[1;31mKeyboardInterrupt\u001b[0m: "
       ]
      }
     ],
     "prompt_number": 64
    },
    {
     "cell_type": "code",
     "collapsed": false,
     "input": [
      "sim_full_test.sync_result(\"processed\")"
     ],
     "language": "python",
     "metadata": {},
     "outputs": [
      {
       "output_type": "stream",
       "stream": "stdout",
       "text": [
        "===================================================\n",
        " Syncing processed folder  with Cluster      \n",
        "===================================================\n"
       ]
      }
     ],
     "prompt_number": 84
    },
    {
     "cell_type": "code",
     "collapsed": false,
     "input": [
      "for sim in filter_simulations(sim_list,res=30):\n",
      "    sim.sync_result(\"processed\")"
     ],
     "language": "python",
     "metadata": {},
     "outputs": [
      {
       "output_type": "stream",
       "stream": "stdout",
       "text": [
        "===================================================\n",
        " Syncing processed folder  with Cluster      \n",
        "===================================================\n",
        "==================================================="
       ]
      },
      {
       "output_type": "stream",
       "stream": "stdout",
       "text": [
        "\n",
        " Syncing processed folder  with Cluster      \n",
        "===================================================\n",
        "==================================================="
       ]
      },
      {
       "output_type": "stream",
       "stream": "stdout",
       "text": [
        "\n",
        " Syncing processed folder  with Cluster      \n",
        "===================================================\n",
        "==================================================="
       ]
      },
      {
       "output_type": "stream",
       "stream": "stdout",
       "text": [
        "\n",
        " Syncing processed folder  with Cluster      \n",
        "===================================================\n",
        "==================================================="
       ]
      },
      {
       "output_type": "stream",
       "stream": "stdout",
       "text": [
        "\n",
        " Syncing processed folder  with Cluster      \n",
        "===================================================\n",
        "==================================================="
       ]
      },
      {
       "output_type": "stream",
       "stream": "stdout",
       "text": [
        "\n",
        " Syncing processed folder  with Cluster      \n",
        "===================================================\n",
        "==================================================="
       ]
      },
      {
       "output_type": "stream",
       "stream": "stdout",
       "text": [
        "\n",
        " Syncing processed folder  with Cluster      \n",
        "===================================================\n",
        "==================================================="
       ]
      },
      {
       "output_type": "stream",
       "stream": "stdout",
       "text": [
        "\n",
        " Syncing processed folder  with Cluster      \n",
        "===================================================\n",
        "==================================================="
       ]
      },
      {
       "output_type": "stream",
       "stream": "stdout",
       "text": [
        "\n",
        " Syncing processed folder  with Cluster      \n",
        "===================================================\n",
        "==================================================="
       ]
      },
      {
       "output_type": "stream",
       "stream": "stdout",
       "text": [
        "\n",
        " Syncing processed folder  with Cluster      \n",
        "===================================================\n",
        "==================================================="
       ]
      },
      {
       "output_type": "stream",
       "stream": "stdout",
       "text": [
        "\n",
        " Syncing processed folder  with Cluster      \n",
        "===================================================\n",
        "==================================================="
       ]
      },
      {
       "output_type": "stream",
       "stream": "stdout",
       "text": [
        "\n",
        " Syncing processed folder  with Cluster      \n",
        "===================================================\n"
       ]
      }
     ],
     "prompt_number": 42
    },
    {
     "cell_type": "code",
     "collapsed": false,
     "input": [
      "try:\n",
      "    sh.rmtree(\"logfiles\")\n",
      "except:\n",
      "   pass\n",
      "os.mkdir(\"logfiles\")\n",
      "\n",
      "for sim in filter_simulations(sim_list,res=30):\n",
      "        sim.cp()\n",
      "        sh.copy(os.path.join(sim.info.local[\"sim_folder\"],\"std_out.log_cluster\"),os.path.join(\"logfiles\",sim.info.local[\"jobname\"]))"
     ],
     "language": "python",
     "metadata": {},
     "outputs": [],
     "prompt_number": 99
    },
    {
     "cell_type": "code",
     "collapsed": false,
     "input": [
      "def filter_file(sim):\n",
      "    sim.cp()\n",
      "    filename = os.path.join(sim.info.local[\"sim_folder\"],\"std_out.log_cluster\")\n",
      "    file_obj = open(filename)\n",
      "    last_job = []\n",
      "    for line in file_obj:\n",
      "        last_job.append(line)\n",
      "        if \"Your job looked like\" in line:\n",
      "            last_job = []\n",
      "            \n",
      "    for line in last_job:       \n",
      "        if \"---> iteration stops here\" in line:\n",
      "            return \"converged\"\n",
      "        \n",
      "    for line in last_job:       \n",
      "        if \"restart-data header\" in line:\n",
      "            return \"failed\"\n",
      "\n",
      "    return None\n",
      "    "
     ],
     "language": "python",
     "metadata": {},
     "outputs": [],
     "prompt_number": 11
    },
    {
     "cell_type": "code",
     "collapsed": false,
     "input": [
      "for sim in filter_simulations(sim_list,res=30):\n",
      "    print(sim.info.local[\"jobname\"])\n",
      "    print(filter_file(sim))"
     ],
     "language": "python",
     "metadata": {},
     "outputs": [
      {
       "output_type": "stream",
       "stream": "stdout",
       "text": [
        "chem_sim_T_550_res_30_wc_-1\n",
        "None"
       ]
      },
      {
       "output_type": "stream",
       "stream": "stdout",
       "text": [
        "\n",
        "chem_sim_T_550_res_30_wc_1e-05\n",
        "failed"
       ]
      },
      {
       "output_type": "stream",
       "stream": "stdout",
       "text": [
        "\n",
        "chem_sim_T_550_res_30_wc_2e-05\n",
        "None"
       ]
      },
      {
       "output_type": "stream",
       "stream": "stdout",
       "text": [
        "\n",
        "chem_sim_T_600_res_30_wc_-1\n",
        "failed"
       ]
      },
      {
       "output_type": "stream",
       "stream": "stdout",
       "text": [
        "\n",
        "chem_sim_T_600_res_30_wc_1e-05\n",
        "failed"
       ]
      },
      {
       "output_type": "stream",
       "stream": "stdout",
       "text": [
        "\n",
        "chem_sim_T_600_res_30_wc_2e-05\n",
        "None"
       ]
      },
      {
       "output_type": "stream",
       "stream": "stdout",
       "text": [
        "\n",
        "chem_sim_T_650_res_30_wc_-1\n",
        "None"
       ]
      },
      {
       "output_type": "stream",
       "stream": "stdout",
       "text": [
        "\n",
        "chem_sim_T_650_res_30_wc_1e-05\n",
        "None"
       ]
      },
      {
       "output_type": "stream",
       "stream": "stdout",
       "text": [
        "\n",
        "chem_sim_T_650_res_30_wc_2e-05\n",
        "failed"
       ]
      },
      {
       "output_type": "stream",
       "stream": "stdout",
       "text": [
        "\n",
        "chem_sim_T_700_res_30_wc_-1\n",
        "None"
       ]
      },
      {
       "output_type": "stream",
       "stream": "stdout",
       "text": [
        "\n",
        "chem_sim_T_700_res_30_wc_1e-05\n",
        "None"
       ]
      },
      {
       "output_type": "stream",
       "stream": "stdout",
       "text": [
        "\n",
        "chem_sim_T_700_res_30_wc_2e-05\n",
        "None"
       ]
      },
      {
       "output_type": "stream",
       "stream": "stdout",
       "text": [
        "\n"
       ]
      }
     ],
     "prompt_number": 105
    },
    {
     "cell_type": "code",
     "collapsed": false,
     "input": [
      "conv = []\n",
      "temp = []\n",
      "for sim in filter_simulations(sim_list,res=30):\n",
      "    sim.data = pic.load(open(os.path.join(sim.info.local[\"sim_folder\"],\"processed\",\"slice_averages_fine.dat\")))\n",
      "    if not filter_file(sim):\n",
      "        conv.append(get_conv(sim))\n",
      "        temp.append(sim.sim_info[\"temperature\"])"
     ],
     "language": "python",
     "metadata": {},
     "outputs": [],
     "prompt_number": 45
    },
    {
     "cell_type": "code",
     "collapsed": false,
     "input": [
      "def get_conv(sim,idx=0):\n",
      "    avg_Y= sim.data[idx][0]\n",
      "    mf   = avg_Y[\"massflow\"]\n",
      "    mf_Y = avg_Y[\"massflow_t_CO\"]\n",
      "    return 1-mf_Y/mf/0.00293"
     ],
     "language": "python",
     "metadata": {},
     "outputs": [],
     "prompt_number": 13
    },
    {
     "cell_type": "code",
     "collapsed": false,
     "input": [
      "def get_array(sim_list,func=None):\n",
      "    prop_list = []\n",
      "    if func:\n",
      "        for sim in sim_list:\n",
      "           prop_list.append(func(sim))\n",
      "    return np.array(prop_list)"
     ],
     "language": "python",
     "metadata": {},
     "outputs": []
    },
    {
     "cell_type": "code",
     "collapsed": false,
     "input": [
      "def get_array_cells(sim,var):\n",
      "    data = data\n",
      "    for idx in len(sim.data):\n",
      "    return "
     ],
     "language": "python",
     "metadata": {},
     "outputs": []
    },
    {
     "cell_type": "code",
     "collapsed": false,
     "input": [
      "conversion = []\n",
      "for sim in filter_simulations(sim_list,res=30):\n",
      "    conversion.append([item[0][\"massflow_t_CO\"]/item[0][\"massflow\"]/0.00293 for item in sim.data])"
     ],
     "language": "python",
     "metadata": {},
     "outputs": [],
     "prompt_number": 46
    },
    {
     "cell_type": "code",
     "collapsed": false,
     "input": [
      "for idx,sim in enumerate(filter_simulations(sim_list,res=30)):\n",
      "  pl.plot(conversion[idx])"
     ],
     "language": "python",
     "metadata": {},
     "outputs": [
      {
       "metadata": {},
       "output_type": "display_data",
       "png": "[encoded data removed]",
       "text": [
        "<matplotlib.figure.Figure at 0x47835d0>"
       ]
      }
     ],
     "prompt_number": 47
    },
    {
     "cell_type": "code",
     "collapsed": false,
     "input": [],
     "language": "python",
     "metadata": {},
     "outputs": []
    }
   ],
   "metadata": {}
  }
 ]
}